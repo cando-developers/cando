{
 "cells": [
  {
   "cell_type": "code",
   "execution_count": 2,
   "metadata": {},
   "outputs": [
    {
     "name": "stdout",
     "output_type": "stream",
     "text": [
      "Checking SLIME_HOME\n",
      "About to start swank server\n",
      "Started swank server\n"
     ]
    },
    {
     "data": {
      "text/plain": [
       "T"
      ]
     },
     "execution_count": 2,
     "metadata": {},
     "output_type": "execute_result"
    }
   ],
   "source": [
    "(start-swank)"
   ]
  },
  {
   "cell_type": "code",
   "execution_count": 3,
   "metadata": {},
   "outputs": [
    {
     "name": "stdout",
     "output_type": "stream",
     "text": [
      "To load \"cl-svg\":\n",
      "  Load 1 ASDF system:\n",
      "    cl-svg\n",
      "\n",
      "; Loading \"cl-svg\"\n",
      "\n"
     ]
    },
    {
     "data": {
      "text/plain": [
       "(:CL-SVG)"
      ]
     },
     "execution_count": 3,
     "metadata": {},
     "output_type": "execute_result"
    }
   ],
   "source": [
    "(ql:quickload :cl-svg)"
   ]
  },
  {
   "cell_type": "code",
   "execution_count": 4,
   "metadata": {},
   "outputs": [
    {
     "data": {
      "text/plain": [
       "*FOO*"
      ]
     },
     "execution_count": 4,
     "metadata": {},
     "output_type": "execute_result"
    }
   ],
   "source": [
    "(defparameter *foo* (cl-svg:make-svg-toplevel 'cl-svg:svg-1.2-toplevel :height 600 :width 600))"
   ]
  },
  {
   "cell_type": "code",
   "execution_count": 5,
   "metadata": {},
   "outputs": [
    {
     "data": {
      "text/plain": [
       "#<CL-SVG::SVG-ELEMENT>"
      ]
     },
     "execution_count": 5,
     "metadata": {},
     "output_type": "execute_result"
    }
   ],
   "source": [
    "(cl-svg:draw *foo* (:path :d (cl-svg:path\n",
    "                              (cl-svg:move-to 100 100)\n",
    "                              (cl-svg:line-to 500 500))\n",
    "                          :fill \"none\" :stroke \"blue\" :stroke-width 5))"
   ]
  },
  {
   "cell_type": "code",
   "execution_count": 6,
   "metadata": {},
   "outputs": [
    {
     "data": {
      "text/plain": [
       "\"<?xml version=\\\"1.0\\\" standalone=\\\"no\\\"?>\n",
       "<svg width=\\\"600\\\" height=\\\"600\\\" version=\\\"1.2\\\" id=\\\"toplevel\\\"\n",
       "    xmlns=\\\"http://www.w3.org/2000/svg\\\"\n",
       "    xmlns:xlink=\\\"http://www.w3.org/1999/xlink\\\">\n",
       "  <path d=\\\"M100 100L500 500\n",
       "\\\"\n",
       "        fill=\\\"none\\\" stroke=\\\"blue\\\" stroke-width=\\\"5\\\"/>\n",
       "</svg>\n",
       "\""
      ]
     },
     "execution_count": 6,
     "metadata": {},
     "output_type": "execute_result"
    }
   ],
   "source": [
    "(with-output-to-string (sout) (cl-svg:stream-out sout *foo*))"
   ]
  },
  {
   "cell_type": "code",
   "execution_count": 7,
   "metadata": {},
   "outputs": [
    {
     "data": {
      "image/svg+xml": [
       "<?xml version=\"1.0\" standalone=\"no\"?>\n",
       "<svg width=\"600\" height=\"600\" version=\"1.2\" id=\"toplevel\"\n",
       "    xmlns=\"http://www.w3.org/2000/svg\"\n",
       "    xmlns:xlink=\"http://www.w3.org/1999/xlink\">\n",
       "  <path d=\"M100 100L500 500\n",
       "\"\n",
       "        fill=\"none\" stroke=\"blue\" stroke-width=\"5\"/>\n",
       "</svg>\n"
      ],
      "text/plain": [
       "#<CL-JUPYTER-USER::SVG-STR>"
      ]
     },
     "execution_count": 7,
     "metadata": {},
     "output_type": "execute_result"
    }
   ],
   "source": [
    "(cl-jupyter-user:svg (with-output-to-string (sout) (cl-svg:stream-out sout *foo*)))"
   ]
  },
  {
   "cell_type": "code",
   "execution_count": 6,
   "metadata": {},
   "outputs": [
    {
     "name": "stdout",
     "output_type": "stream",
     "text": [
      "To load \"clasp-docs\":\n",
      "  Load 1 ASDF system:\n",
      "    clasp-docs\n",
      "\n",
      "; Loading \"clasp-docs\"\n",
      "..................................................\n",
      "[package clasp-docs].\n"
     ]
    },
    {
     "data": {
      "text/plain": [
       "(:CLASP-DOCS)"
      ]
     },
     "execution_count": 6,
     "metadata": {},
     "output_type": "execute_result"
    }
   ],
   "source": [
    "(ql:quickload :clasp-docs)"
   ]
  },
  {
   "cell_type": "code",
   "execution_count": 4,
   "metadata": {},
   "outputs": [
    {
     "data": {
      "text/plain": [
       "#P\"/Users/meister/Development/cando-dev/extensions/cando/src/docs/package-ext.html\""
      ]
     },
     "execution_count": 4,
     "metadata": {},
     "output_type": "execute_result"
    }
   ],
   "source": [
    "(probe-file #P\"/Users/meister/Development/cando-dev/extensions/cando/src/lisp/docs/../../docs/package-ext.html\")"
   ]
  },
  {
   "cell_type": "code",
   "execution_count": 7,
   "metadata": {},
   "outputs": [
    {
     "data": {
      "text/plain": [
       "#<STAPLE:SIMPLE-PROJECT>"
      ]
     },
     "execution_count": 7,
     "metadata": {},
     "output_type": "execute_result"
    }
   ],
   "source": [
    "(staple:generate :clasp-docs :if-exists :supersede)"
   ]
  },
  {
   "cell_type": "code",
   "execution_count": 5,
   "metadata": {},
   "outputs": [
    {
     "data": {
      "text/plain": [
       "*A*"
      ]
     },
     "execution_count": 5,
     "metadata": {},
     "output_type": "execute_result"
    }
   ],
   "source": [
    "(defparameter *a* 1234)"
   ]
  },
  {
   "cell_type": "code",
   "execution_count": 13,
   "metadata": {},
   "outputs": [
    {
     "name": "stdout",
     "output_type": "stream",
     "text": [
      "To load \"sketch2d\":\n",
      "  Load 1 ASDF system:\n",
      "    sketch2d\n",
      "\n",
      "; Loading \"sketch2d\"\n",
      "....\n"
     ]
    },
    {
     "data": {
      "text/plain": [
       "(:SKETCH2D)"
      ]
     },
     "execution_count": 13,
     "metadata": {},
     "output_type": "execute_result"
    }
   ],
   "source": [
    "(ql:quickload :sketch2d)"
   ]
  },
  {
   "cell_type": "code",
   "execution_count": 14,
   "metadata": {},
   "outputs": [
    {
     "data": {
      "text/plain": [
       "*AGG*"
      ]
     },
     "execution_count": 14,
     "metadata": {},
     "output_type": "execute_result"
    }
   ],
   "source": [
    "(defparameter *agg* (load-mol2 \"017.mol2\"))"
   ]
  },
  {
   "cell_type": "code",
   "execution_count": 15,
   "metadata": {},
   "outputs": [
    {
     "data": {
      "text/plain": [
       "*MOL*"
      ]
     },
     "execution_count": 15,
     "metadata": {},
     "output_type": "execute_result"
    }
   ],
   "source": [
    "(defparameter *mol* (chem:content-at *agg* 0))"
   ]
  },
  {
   "cell_type": "code",
   "execution_count": 16,
   "metadata": {},
   "outputs": [
    {
     "data": {
      "text/plain": [
       "*D*"
      ]
     },
     "execution_count": 16,
     "metadata": {},
     "output_type": "execute_result"
    }
   ],
   "source": [
    "(defparameter *m* nil)\n",
    "(defparameter *d* nil)"
   ]
  },
  {
   "cell_type": "code",
   "execution_count": 42,
   "metadata": {},
   "outputs": [
    {
     "name": "stdout",
     "output_type": "stream",
     "text": [
      "Entered sketch2d-molecule\n",
      "Entered setup-simulation\n",
      "Entered system-preparation\n",
      "Creating a lp on #<ATOM :N1/:N @0x1391e7009> with name lp0 id 0\n",
      "Creating a lp on #<ATOM :S1/:S @0x162987c39> with name lp1 id 1\n",
      "Doing jostle\n",
      "Jostling atom #<ATOM :N1/:N @0x1391e7009>\n",
      "Jostling atom #<ATOM :C1/:C @0x1560a2d29>\n",
      "Jostling atom #<ATOM :C2/:C @0x1560a2c39>\n",
      "Jostling atom #<ATOM :C3/:C @0x1560a2b49>\n",
      "Jostling atom #<ATOM :N2/:N @0x1560a2a59>\n",
      "Jostling atom #<ATOM :C4/:C @0x1560a2969>\n",
      "Jostling atom #<ATOM :C6/:C @0x1560a2879>\n",
      "Jostling atom #<ATOM :C7/:C @0x1560a2789>\n",
      "Jostling atom #<ATOM :C8/:C @0x1560a2699>\n",
      "Jostling atom #<ATOM :C9/:C @0x1560a25a9>\n",
      "Jostling atom #<ATOM :C10/:C @0x1560a24b9>\n",
      "Jostling atom #<ATOM :C11/:C @0x1560a23c9>\n",
      "Jostling atom #<ATOM :C12/:C @0x1560a22d9>\n",
      "Jostling atom #<ATOM :C13/:C @0x1560a21e9>\n",
      "Jostling atom #<ATOM :C14/:C @0x1560a20f9>\n",
      "Jostling atom #<ATOM :C15/:C @0x1560a2009>\n",
      "Jostling atom #<ATOM :C16/:C @0x162904f09>\n",
      "Jostling atom #<ATOM :C17/:C @0x162904e19>\n",
      "Jostling atom #<ATOM :C18/:C @0x162904d29>\n",
      "Jostling atom #<ATOM :C19/:C @0x162904c39>\n",
      "Jostling atom #<ATOM :C20/:C @0x162904b49>\n",
      "Jostling atom #<ATOM :C21/:C @0x162904a59>\n",
      "Jostling atom #<ATOM :C22/:C @0x162904969>\n",
      "Jostling atom #<ATOM :C23/:C @0x162904879>\n",
      "Jostling atom #<ATOM :C24/:C @0x162904789>\n",
      "Jostling atom #<ATOM :C25/:C @0x162904699>\n",
      "Jostling atom #<ATOM :C26/:C @0x1629045a9>\n",
      "Jostling atom #<ATOM :C27/:C @0x1629044b9>\n",
      "Jostling atom #<ATOM :C28/:C @0x1629043c9>\n",
      "Jostling atom #<ATOM :C29/:C @0x1629042d9>\n",
      "Jostling atom #<ATOM :F1/:F @0x1629041e9>\n",
      "Jostling atom #<ATOM :F2/:F @0x1629040f9>\n",
      "Jostling atom #<ATOM :F3/:F @0x162904009>\n",
      "Jostling atom #<ATOM :N3/:N @0x162987f09>\n",
      "Jostling atom #<ATOM :N4/:N @0x162987e19>\n",
      "Jostling atom #<ATOM :N5/:N @0x162987d29>\n",
      "Jostling atom #<ATOM :S1/:S @0x162987c39>\n",
      "Jostling atom #<ATOM :O180/:O @0x162987b49>\n",
      "Jostling atom #<ATOM :F180/:F @0x162987a59>\n",
      "Jostling atom #<ATOM :C260/:C @0x162987969>\n",
      "Jostling atom #<ATOM :O260/:O @0x162987879>\n",
      "Jostling atom #<ATOM :C350/:C @0x162987789>\n",
      "Jostling atom #<ATOM :O351/:O @0x162987699>\n",
      "Jostling atom #<ATOM :C352/:C @0x1629875a9>\n",
      "Jostling atom #<ATOM :H2/:H @0x1629873c9>\n",
      "Jostling atom #<ATOM :H7/:H @0x1629871e9>\n",
      "Jostling atom #<ATOM :H9/:H @0x162987009>\n",
      "Jostling atom #<ATOM :H11/:H @0x162989e19>\n",
      "Jostling atom #<ATOM :H14/:H @0x162989c39>\n",
      "Jostling atom #<ATOM :H16/:H @0x162989a59>\n",
      "Jostling atom #<ATOM :H21/:H @0x162989789>\n",
      "Jostling atom #<ATOM :H23/:H @0x1629895a9>\n",
      "Jostling atom #<ATOM :H25/:H @0x1629893c9>\n",
      "Jostling atom #<ATOM :H27/:H @0x1629891e9>\n",
      "Jostling atom #<ATOM :H29/:H @0x162989009>\n",
      "Jostling atom #<ATOM :H31/:H @0x1629b4e19>\n",
      "Jostling atom #<ATOM :H34/:H @0x1629b4b49>\n",
      "Jostling atom #<ATOM :H36/:H @0x1629b4969>\n",
      "Jostling atom #<ATOM :H44/:H @0x1629b4879>\n",
      "Jostling atom #<ATOM :H45/:H @0x1629b4789>\n",
      "Jostling atom #<ATOM :H46/:H @0x1629b4699>\n",
      "Jostling atom #<ATOM :H47/:H @0x1629b45a9>\n",
      "Jostling atom #<ATOM :H48/:H @0x1629b44b9>\n",
      "Jostling atom #<ATOM :H18/:H @0x1629b42d9>\n",
      "Jostling atom #<ATOM :H221/:H @0x1629b41e9>\n",
      "Jostling atom #<ATOM :lp0/:LP @0x1625bea59>\n",
      "Jostling atom #<ATOM :lp1/:LP @0x1625be969>\n",
      "About to check number-of-problem-areas\n",
      "Number of problem areas: 0\n"
     ]
    },
    {
     "data": {
      "text/plain": [
       "#<MOLECULE :**** @0x133fb2ba8>"
      ]
     },
     "execution_count": 42,
     "metadata": {},
     "output_type": "execute_result"
    }
   ],
   "source": [
    "(multiple-value-setq (*m* *d*) (sketch2d::sketch2d *mol* :accumulate-coordinates t))"
   ]
  },
  {
   "cell_type": "code",
   "execution_count": 43,
   "metadata": {},
   "outputs": [
    {
     "data": {
      "application/vnd.jupyter.widget-view+json": {
       "model_id": "BD1817A0-187F-4F97-81B4-DEC2041A1E2E",
       "version_major": 2,
       "version_minor": 0
      },
      "text/plain": [
       "#<NGLV:NGLWIDGET>"
      ]
     },
     "execution_count": 43,
     "metadata": {},
     "output_type": "execute_result"
    }
   ],
   "source": [
    "(show *d*)"
   ]
  },
  {
   "cell_type": "code",
   "execution_count": 90,
   "metadata": {},
   "outputs": [
    {
     "data": {
      "image/svg+xml": [
       "<?xml version=\"1.0\" standalone=\"no\"?>\n",
       "<svg height=\"542.09\" width=\"600.00\" version=\"1.2\" id=\"toplevel\"\n",
       "    xmlns=\"http://www.w3.org/2000/svg\"\n",
       "    xmlns:xlink=\"http://www.w3.org/1999/xlink\">\n",
       "  <line x1=\"162.48\" y1=\"435.18\" x2=\"192.83\" y2=\"407.17\" fill=\"none\"\n",
       "        stroke=\"white\" stroke-width=\"4\"/>\n",
       "  <line x1=\"162.48\" y1=\"435.18\" x2=\"192.83\" y2=\"407.17\" fill=\"none\"\n",
       "        stroke=\"black\" stroke-width=\"2\"/>\n",
       "  <line x1=\"182.58\" y1=\"369.56\" x2=\"192.83\" y2=\"407.17\" fill=\"none\"\n",
       "        stroke=\"white\" stroke-width=\"4\"/>\n",
       "  <line x1=\"182.58\" y1=\"369.56\" x2=\"192.83\" y2=\"407.17\" fill=\"none\"\n",
       "        stroke=\"black\" stroke-width=\"2\"/>\n",
       "  <line x1=\"192.83\" y1=\"407.17\" x2=\"232.07\" y2=\"419.42\" fill=\"none\"\n",
       "        stroke=\"white\" stroke-width=\"4\"/>\n",
       "  <line x1=\"192.83\" y1=\"407.17\" x2=\"232.07\" y2=\"419.42\" fill=\"none\"\n",
       "        stroke=\"black\" stroke-width=\"2\"/>\n",
       "  <line x1=\"240.04\" y1=\"457.59\" x2=\"232.07\" y2=\"419.42\" fill=\"none\"\n",
       "        stroke=\"white\" stroke-width=\"4\"/>\n",
       "  <line x1=\"240.04\" y1=\"457.59\" x2=\"232.07\" y2=\"419.42\" fill=\"none\"\n",
       "        stroke=\"black\" stroke-width=\"2\"/>\n",
       "  <line x1=\"244.97\" y1=\"452.57\" x2=\"238.59\" y2=\"422.04\" fill=\"none\"\n",
       "        stroke=\"white\" stroke-width=\"4\"/>\n",
       "  <line x1=\"244.97\" y1=\"452.57\" x2=\"238.59\" y2=\"422.04\" fill=\"none\"\n",
       "        stroke=\"black\" stroke-width=\"2\"/>\n",
       "  <line x1=\"232.07\" y1=\"419.42\" x2=\"264.24\" y2=\"394.03\" fill=\"none\"\n",
       "        stroke=\"white\" stroke-width=\"4\"/>\n",
       "  <line x1=\"232.07\" y1=\"419.42\" x2=\"264.24\" y2=\"394.03\" fill=\"none\"\n",
       "        stroke=\"black\" stroke-width=\"2\"/>\n",
       "  <line x1=\"293.63\" y1=\"100.68\" x2=\"286.48\" y2=\"139.91\" fill=\"none\"\n",
       "        stroke=\"white\" stroke-width=\"4\"/>\n",
       "  <line x1=\"293.63\" y1=\"100.68\" x2=\"286.48\" y2=\"139.91\" fill=\"none\"\n",
       "        stroke=\"black\" stroke-width=\"2\"/>\n",
       "  <line x1=\"327.49\" y1=\"136.64\" x2=\"286.48\" y2=\"139.91\" fill=\"none\"\n",
       "        stroke=\"white\" stroke-width=\"4\"/>\n",
       "  <line x1=\"327.49\" y1=\"136.64\" x2=\"286.48\" y2=\"139.91\" fill=\"none\"\n",
       "        stroke=\"black\" stroke-width=\"2\"/>\n",
       "  <line x1=\"254.48\" y1=\"115.33\" x2=\"286.48\" y2=\"139.91\" fill=\"none\"\n",
       "        stroke=\"white\" stroke-width=\"4\"/>\n",
       "  <line x1=\"254.48\" y1=\"115.33\" x2=\"286.48\" y2=\"139.91\" fill=\"none\"\n",
       "        stroke=\"black\" stroke-width=\"2\"/>\n",
       "  <line x1=\"83.71\" y1=\"127.93\" x2=\"125.61\" y2=\"129.50\" fill=\"none\"\n",
       "        stroke=\"white\" stroke-width=\"4\"/>\n",
       "  <line x1=\"83.71\" y1=\"127.93\" x2=\"125.61\" y2=\"129.50\" fill=\"none\"\n",
       "        stroke=\"black\" stroke-width=\"2\"/>\n",
       "  <line x1=\"83.71\" y1=\"127.93\" x2=\"65.87\" y2=\"92.37\" fill=\"none\" stroke=\"white\"\n",
       "        stroke-width=\"4\"/>\n",
       "  <line x1=\"83.71\" y1=\"127.93\" x2=\"65.87\" y2=\"92.37\" fill=\"none\" stroke=\"black\"\n",
       "        stroke-width=\"2\"/>\n",
       "  <line x1=\"65.87\" y1=\"92.37\" x2=\"90.06\" y2=\"59.81\" fill=\"none\" stroke=\"white\"\n",
       "        stroke-width=\"4\"/>\n",
       "  <line x1=\"65.87\" y1=\"92.37\" x2=\"90.06\" y2=\"59.81\" fill=\"none\" stroke=\"black\"\n",
       "        stroke-width=\"2\"/>\n",
       "  <line x1=\"90.06\" y1=\"59.81\" x2=\"72.04\" y2=\"24.64\" fill=\"none\" stroke=\"white\"\n",
       "        stroke-width=\"4\"/>\n",
       "  <line x1=\"90.06\" y1=\"59.81\" x2=\"72.04\" y2=\"24.64\" fill=\"none\" stroke=\"black\"\n",
       "        stroke-width=\"2\"/>\n",
       "  <line x1=\"90.06\" y1=\"59.81\" x2=\"131.43\" y2=\"61.61\" fill=\"none\" stroke=\"white\"\n",
       "        stroke-width=\"4\"/>\n",
       "  <line x1=\"90.06\" y1=\"59.81\" x2=\"131.43\" y2=\"61.61\" fill=\"none\" stroke=\"black\"\n",
       "        stroke-width=\"2\"/>\n",
       "  <line x1=\"131.43\" y1=\"61.61\" x2=\"150.14\" y2=\"97.84\" fill=\"none\"\n",
       "        stroke=\"white\" stroke-width=\"4\"/>\n",
       "  <line x1=\"131.43\" y1=\"61.61\" x2=\"150.14\" y2=\"97.84\" fill=\"none\"\n",
       "        stroke=\"black\" stroke-width=\"2\"/>\n",
       "  <line x1=\"150.14\" y1=\"97.84\" x2=\"125.61\" y2=\"129.50\" fill=\"none\"\n",
       "        stroke=\"white\" stroke-width=\"4\"/>\n",
       "  <line x1=\"150.14\" y1=\"97.84\" x2=\"125.61\" y2=\"129.50\" fill=\"none\"\n",
       "        stroke=\"black\" stroke-width=\"2\"/>\n",
       "  <line x1=\"166.29\" y1=\"137.65\" x2=\"125.61\" y2=\"129.50\" fill=\"none\"\n",
       "        stroke=\"white\" stroke-width=\"4\"/>\n",
       "  <line x1=\"166.29\" y1=\"137.65\" x2=\"125.61\" y2=\"129.50\" fill=\"none\"\n",
       "        stroke=\"black\" stroke-width=\"2\"/>\n",
       "  <line x1=\"166.29\" y1=\"137.65\" x2=\"180.83\" y2=\"174.12\" fill=\"none\"\n",
       "        stroke=\"white\" stroke-width=\"4\"/>\n",
       "  <line x1=\"166.29\" y1=\"137.65\" x2=\"180.83\" y2=\"174.12\" fill=\"none\"\n",
       "        stroke=\"black\" stroke-width=\"2\"/>\n",
       "  <line x1=\"180.83\" y1=\"174.12\" x2=\"222.05\" y2=\"173.77\" fill=\"none\"\n",
       "        stroke=\"white\" stroke-width=\"4\"/>\n",
       "  <line x1=\"180.83\" y1=\"174.12\" x2=\"222.05\" y2=\"173.77\" fill=\"none\"\n",
       "        stroke=\"black\" stroke-width=\"2\"/>\n",
       "  <line x1=\"459.26\" y1=\"457.57\" x2=\"465.96\" y2=\"418.01\" fill=\"none\"\n",
       "        stroke=\"white\" stroke-width=\"4\"/>\n",
       "  <line x1=\"459.26\" y1=\"457.57\" x2=\"465.96\" y2=\"418.01\" fill=\"none\"\n",
       "        stroke=\"black\" stroke-width=\"2\"/>\n",
       "  <line x1=\"459.26\" y1=\"457.57\" x2=\"493.23\" y2=\"481.12\" fill=\"none\"\n",
       "        stroke=\"white\" stroke-width=\"4\"/>\n",
       "  <line x1=\"459.26\" y1=\"457.57\" x2=\"493.23\" y2=\"481.12\" fill=\"none\"\n",
       "        stroke=\"black\" stroke-width=\"2\"/>\n",
       "  <line x1=\"493.23\" y1=\"481.12\" x2=\"531.23\" y2=\"464.96\" fill=\"none\"\n",
       "        stroke=\"white\" stroke-width=\"4\"/>\n",
       "  <line x1=\"493.23\" y1=\"481.12\" x2=\"531.23\" y2=\"464.96\" fill=\"none\"\n",
       "        stroke=\"black\" stroke-width=\"2\"/>\n",
       "  <line x1=\"531.23\" y1=\"464.96\" x2=\"536.99\" y2=\"425.98\" fill=\"none\"\n",
       "        stroke=\"white\" stroke-width=\"4\"/>\n",
       "  <line x1=\"531.23\" y1=\"464.96\" x2=\"536.99\" y2=\"425.98\" fill=\"none\"\n",
       "        stroke=\"black\" stroke-width=\"2\"/>\n",
       "  <line x1=\"536.99\" y1=\"425.98\" x2=\"503.93\" y2=\"401.43\" fill=\"none\"\n",
       "        stroke=\"white\" stroke-width=\"4\"/>\n",
       "  <line x1=\"536.99\" y1=\"425.98\" x2=\"503.93\" y2=\"401.43\" fill=\"none\"\n",
       "        stroke=\"black\" stroke-width=\"2\"/>\n",
       "  <line x1=\"503.93\" y1=\"401.43\" x2=\"465.96\" y2=\"418.01\" fill=\"none\"\n",
       "        stroke=\"white\" stroke-width=\"4\"/>\n",
       "  <line x1=\"503.93\" y1=\"401.43\" x2=\"465.96\" y2=\"418.01\" fill=\"none\"\n",
       "        stroke=\"black\" stroke-width=\"2\"/>\n",
       "  <line x1=\"252.52\" y1=\"199.84\" x2=\"253.15\" y2=\"238.47\" fill=\"none\"\n",
       "        stroke=\"white\" stroke-width=\"4\"/>\n",
       "  <line x1=\"252.52\" y1=\"199.84\" x2=\"253.15\" y2=\"238.47\" fill=\"none\"\n",
       "        stroke=\"black\" stroke-width=\"2\"/>\n",
       "  <line x1=\"252.52\" y1=\"199.84\" x2=\"222.05\" y2=\"173.77\" fill=\"none\"\n",
       "        stroke=\"white\" stroke-width=\"4\"/>\n",
       "  <line x1=\"252.52\" y1=\"199.84\" x2=\"222.05\" y2=\"173.77\" fill=\"none\"\n",
       "        stroke=\"black\" stroke-width=\"2\"/>\n",
       "  <line x1=\"252.52\" y1=\"199.84\" x2=\"288.61\" y2=\"179.96\" fill=\"none\"\n",
       "        stroke=\"white\" stroke-width=\"4\"/>\n",
       "  <line x1=\"252.52\" y1=\"199.84\" x2=\"288.61\" y2=\"179.96\" fill=\"none\"\n",
       "        stroke=\"black\" stroke-width=\"2\"/>\n",
       "  <line x1=\"288.61\" y1=\"179.96\" x2=\"286.48\" y2=\"139.91\" fill=\"none\"\n",
       "        stroke=\"white\" stroke-width=\"4\"/>\n",
       "  <line x1=\"288.61\" y1=\"179.96\" x2=\"286.48\" y2=\"139.91\" fill=\"none\"\n",
       "        stroke=\"black\" stroke-width=\"2\"/>\n",
       "  <line x1=\"288.61\" y1=\"179.96\" x2=\"325.47\" y2=\"196.92\" fill=\"none\"\n",
       "        stroke=\"white\" stroke-width=\"4\"/>\n",
       "  <line x1=\"288.61\" y1=\"179.96\" x2=\"325.47\" y2=\"196.92\" fill=\"none\"\n",
       "        stroke=\"black\" stroke-width=\"2\"/>\n",
       "  <line x1=\"325.47\" y1=\"196.92\" x2=\"325.01\" y2=\"236.47\" fill=\"none\"\n",
       "        stroke=\"white\" stroke-width=\"4\"/>\n",
       "  <line x1=\"325.47\" y1=\"196.92\" x2=\"325.01\" y2=\"236.47\" fill=\"none\"\n",
       "        stroke=\"black\" stroke-width=\"2\"/>\n",
       "  <line x1=\"325.01\" y1=\"236.47\" x2=\"290.57\" y2=\"257.77\" fill=\"none\"\n",
       "        stroke=\"white\" stroke-width=\"4\"/>\n",
       "  <line x1=\"325.01\" y1=\"236.47\" x2=\"290.57\" y2=\"257.77\" fill=\"none\"\n",
       "        stroke=\"black\" stroke-width=\"2\"/>\n",
       "  <line x1=\"455.66\" y1=\"380.28\" x2=\"465.96\" y2=\"418.01\" fill=\"none\"\n",
       "        stroke=\"white\" stroke-width=\"4\"/>\n",
       "  <line x1=\"455.66\" y1=\"380.28\" x2=\"465.96\" y2=\"418.01\" fill=\"none\"\n",
       "        stroke=\"black\" stroke-width=\"2\"/>\n",
       "  <line x1=\"455.66\" y1=\"380.28\" x2=\"415.90\" y2=\"372.49\" fill=\"none\"\n",
       "        stroke=\"white\" stroke-width=\"4\"/>\n",
       "  <line x1=\"455.66\" y1=\"380.28\" x2=\"415.90\" y2=\"372.49\" fill=\"none\"\n",
       "        stroke=\"black\" stroke-width=\"2\"/>\n",
       "  <line x1=\"415.90\" y1=\"372.49\" x2=\"387.67\" y2=\"401.19\" fill=\"none\"\n",
       "        stroke=\"white\" stroke-width=\"4\"/>\n",
       "  <line x1=\"415.90\" y1=\"372.49\" x2=\"387.67\" y2=\"401.19\" fill=\"none\"\n",
       "        stroke=\"black\" stroke-width=\"2\"/>\n",
       "  <line x1=\"415.90\" y1=\"372.49\" x2=\"402.85\" y2=\"333.96\" fill=\"none\"\n",
       "        stroke=\"white\" stroke-width=\"4\"/>\n",
       "  <line x1=\"415.90\" y1=\"372.49\" x2=\"402.85\" y2=\"333.96\" fill=\"none\"\n",
       "        stroke=\"black\" stroke-width=\"2\"/>\n",
       "  <line x1=\"402.85\" y1=\"333.96\" x2=\"362.25\" y2=\"327.04\" fill=\"none\"\n",
       "        stroke=\"white\" stroke-width=\"4\"/>\n",
       "  <line x1=\"402.85\" y1=\"333.96\" x2=\"362.25\" y2=\"327.04\" fill=\"none\"\n",
       "        stroke=\"black\" stroke-width=\"2\"/>\n",
       "  <line x1=\"290.57\" y1=\"257.77\" x2=\"253.15\" y2=\"238.47\" fill=\"none\"\n",
       "        stroke=\"white\" stroke-width=\"4\"/>\n",
       "  <line x1=\"290.57\" y1=\"257.77\" x2=\"253.15\" y2=\"238.47\" fill=\"none\"\n",
       "        stroke=\"black\" stroke-width=\"2\"/>\n",
       "  <line x1=\"290.57\" y1=\"257.77\" x2=\"301.37\" y2=\"294.14\" fill=\"none\"\n",
       "        stroke=\"white\" stroke-width=\"4\"/>\n",
       "  <line x1=\"290.57\" y1=\"257.77\" x2=\"301.37\" y2=\"294.14\" fill=\"none\"\n",
       "        stroke=\"black\" stroke-width=\"2\"/>\n",
       "  <line x1=\"260.48\" y1=\"355.65\" x2=\"264.24\" y2=\"394.03\" fill=\"none\"\n",
       "        stroke=\"white\" stroke-width=\"4\"/>\n",
       "  <line x1=\"260.48\" y1=\"355.65\" x2=\"264.24\" y2=\"394.03\" fill=\"none\"\n",
       "        stroke=\"black\" stroke-width=\"2\"/>\n",
       "  <line x1=\"260.48\" y1=\"355.65\" x2=\"294.95\" y2=\"334.08\" fill=\"none\"\n",
       "        stroke=\"white\" stroke-width=\"4\"/>\n",
       "  <line x1=\"260.48\" y1=\"355.65\" x2=\"294.95\" y2=\"334.08\" fill=\"none\"\n",
       "        stroke=\"black\" stroke-width=\"2\"/>\n",
       "  <line x1=\"300.86\" y1=\"413.19\" x2=\"264.24\" y2=\"394.03\" fill=\"none\"\n",
       "        stroke=\"white\" stroke-width=\"4\"/>\n",
       "  <line x1=\"300.86\" y1=\"413.19\" x2=\"264.24\" y2=\"394.03\" fill=\"none\"\n",
       "        stroke=\"black\" stroke-width=\"2\"/>\n",
       "  <line x1=\"300.86\" y1=\"413.19\" x2=\"336.32\" y2=\"391.92\" fill=\"none\"\n",
       "        stroke=\"white\" stroke-width=\"4\"/>\n",
       "  <line x1=\"300.86\" y1=\"413.19\" x2=\"336.32\" y2=\"391.92\" fill=\"none\"\n",
       "        stroke=\"black\" stroke-width=\"2\"/>\n",
       "  <line x1=\"336.32\" y1=\"391.92\" x2=\"330.88\" y2=\"352.66\" fill=\"none\"\n",
       "        stroke=\"white\" stroke-width=\"4\"/>\n",
       "  <line x1=\"336.32\" y1=\"391.92\" x2=\"330.88\" y2=\"352.66\" fill=\"none\"\n",
       "        stroke=\"black\" stroke-width=\"2\"/>\n",
       "  <line x1=\"362.25\" y1=\"327.04\" x2=\"330.88\" y2=\"352.66\" fill=\"none\"\n",
       "        stroke=\"white\" stroke-width=\"4\"/>\n",
       "  <line x1=\"362.25\" y1=\"327.04\" x2=\"330.88\" y2=\"352.66\" fill=\"none\"\n",
       "        stroke=\"black\" stroke-width=\"2\"/>\n",
       "  <line x1=\"330.88\" y1=\"352.66\" x2=\"294.95\" y2=\"334.08\" fill=\"none\"\n",
       "        stroke=\"white\" stroke-width=\"4\"/>\n",
       "  <line x1=\"330.88\" y1=\"352.66\" x2=\"294.95\" y2=\"334.08\" fill=\"none\"\n",
       "        stroke=\"black\" stroke-width=\"2\"/>\n",
       "  <line x1=\"330.08\" y1=\"345.41\" x2=\"301.33\" y2=\"330.55\" fill=\"none\"\n",
       "        stroke=\"white\" stroke-width=\"4\"/>\n",
       "  <line x1=\"330.08\" y1=\"345.41\" x2=\"301.33\" y2=\"330.55\" fill=\"none\"\n",
       "        stroke=\"black\" stroke-width=\"2\"/>\n",
       "  <line x1=\"294.95\" y1=\"334.08\" x2=\"301.37\" y2=\"294.14\" fill=\"none\"\n",
       "        stroke=\"white\" stroke-width=\"4\"/>\n",
       "  <line x1=\"294.95\" y1=\"334.08\" x2=\"301.37\" y2=\"294.14\" fill=\"none\"\n",
       "        stroke=\"black\" stroke-width=\"2\"/>\n",
       "  <line x1=\"346.31\" y1=\"290.69\" x2=\"362.25\" y2=\"327.04\" fill=\"none\"\n",
       "        stroke=\"white\" stroke-width=\"4\"/>\n",
       "  <line x1=\"346.31\" y1=\"290.69\" x2=\"362.25\" y2=\"327.04\" fill=\"none\"\n",
       "        stroke=\"black\" stroke-width=\"2\"/>\n",
       "  <line x1=\"346.31\" y1=\"290.69\" x2=\"301.37\" y2=\"294.14\" fill=\"none\"\n",
       "        stroke=\"white\" stroke-width=\"4\"/>\n",
       "  <line x1=\"346.31\" y1=\"290.69\" x2=\"301.37\" y2=\"294.14\" fill=\"none\"\n",
       "        stroke=\"black\" stroke-width=\"2\"/>\n",
       "  <line x1=\"341.30\" y1=\"284.29\" x2=\"305.34\" y2=\"287.05\" fill=\"none\"\n",
       "        stroke=\"white\" stroke-width=\"4\"/>\n",
       "  <line x1=\"341.30\" y1=\"284.29\" x2=\"305.34\" y2=\"287.05\" fill=\"none\"\n",
       "        stroke=\"black\" stroke-width=\"2\"/>\n",
       "  <circle cx=\"362.25\" cy=\"327.04\" r=\"11\" fill=\"white\"/>\n",
       "  <text x=\"362.25\" y=\"327.54\" text-anchor=\"middle\" alignment-baseline=\"middle\">\n",
       "    N\n",
       "  </text>\n",
       "  <circle cx=\"182.58\" cy=\"369.56\" r=\"11\" fill=\"white\"/>\n",
       "  <text x=\"182.58\" y=\"370.06\" text-anchor=\"middle\" alignment-baseline=\"middle\">\n",
       "    O\n",
       "  </text>\n",
       "  <circle cx=\"387.67\" cy=\"401.19\" r=\"11\" fill=\"white\"/>\n",
       "  <text x=\"387.67\" y=\"401.69\" text-anchor=\"middle\" alignment-baseline=\"middle\">\n",
       "    O\n",
       "  </text>\n",
       "  <circle cx=\"346.31\" cy=\"290.69\" r=\"11\" fill=\"white\"/>\n",
       "  <text x=\"346.31\" y=\"291.19\" text-anchor=\"middle\" alignment-baseline=\"middle\">\n",
       "    N\n",
       "  </text>\n",
       "  <circle cx=\"465.96\" cy=\"418.01\" r=\"11\" fill=\"white\"/>\n",
       "  <text x=\"465.96\" y=\"418.51\" text-anchor=\"middle\" alignment-baseline=\"middle\">\n",
       "    N\n",
       "  </text>\n",
       "  <circle cx=\"222.05\" cy=\"173.77\" r=\"11\" fill=\"white\"/>\n",
       "  <text x=\"222.05\" y=\"174.27\" text-anchor=\"middle\" alignment-baseline=\"middle\">\n",
       "    S\n",
       "  </text>\n",
       "  <circle cx=\"293.63\" cy=\"100.68\" r=\"11\" fill=\"white\"/>\n",
       "  <text x=\"293.63\" y=\"101.18\" text-anchor=\"middle\" alignment-baseline=\"middle\">\n",
       "    F\n",
       "  </text>\n",
       "  <circle cx=\"72.04\" cy=\"24.64\" r=\"11\" fill=\"white\"/>\n",
       "  <text x=\"72.04\" y=\"25.14\" text-anchor=\"middle\" alignment-baseline=\"middle\">\n",
       "    F\n",
       "  </text>\n",
       "  <circle cx=\"254.48\" cy=\"115.33\" r=\"11\" fill=\"white\"/>\n",
       "  <text x=\"254.48\" y=\"115.83\" text-anchor=\"middle\" alignment-baseline=\"middle\">\n",
       "    F\n",
       "  </text>\n",
       "  <circle cx=\"327.49\" cy=\"136.64\" r=\"11\" fill=\"white\"/>\n",
       "  <text x=\"327.49\" y=\"137.14\" text-anchor=\"middle\" alignment-baseline=\"middle\">\n",
       "    F\n",
       "  </text>\n",
       "  <circle cx=\"240.04\" cy=\"457.59\" r=\"11\" fill=\"white\"/>\n",
       "  <text x=\"240.04\" y=\"458.09\" text-anchor=\"middle\" alignment-baseline=\"middle\">\n",
       "    O\n",
       "  </text>\n",
       "  <circle cx=\"125.61\" cy=\"129.50\" r=\"11\" fill=\"white\"/>\n",
       "  <text x=\"125.61\" y=\"130.00\" text-anchor=\"middle\" alignment-baseline=\"middle\">\n",
       "    N\n",
       "  </text>\n",
       "  <circle cx=\"264.24\" cy=\"394.03\" r=\"11\" fill=\"white\"/>\n",
       "  <text x=\"264.24\" y=\"394.53\" text-anchor=\"middle\" alignment-baseline=\"middle\">\n",
       "    N\n",
       "  </text>\n",
       "</svg>\n"
      ],
      "text/plain": [
       "#<CL-JUPYTER-USER::SVG-STR>"
      ]
     },
     "execution_count": 90,
     "metadata": {},
     "output_type": "execute_result"
    }
   ],
   "source": [
    "(cl-jupyter-user:svg (sketch2d::generate-svg *m*))"
   ]
  },
  {
   "cell_type": "code",
   "execution_count": 70,
   "metadata": {},
   "outputs": [
    {
     "data": {
      "image/svg+xml": [
       "<?xml version=\"1.0\" standalone=\"no\"?>\n",
       " <svg height=\"200.09\" width=\"200.00\" \n",
       "    xmlns=\"http://www.w3.org/2000/svg\">\n",
       "\n",
       "  <!--the rect/text group-->\n",
       "  <g transform=\"translate(0,50)\">\n",
       "    <rect rx=\"5\" ry=\"5\" width=\"200\" height=\"100\" stroke=\"green\" fill=\"blue\" stroke-width=\"10\"/>\n",
       "    <svg width=\"200px\" height=\"100px\">\n",
       "      <text x=\"50%\" y=\"80%\" alignment-baseline=\"middle\" text-anchor=\"middle\">C</text>      \n",
       "    </svg>\n",
       "  </g>\n",
       "\n",
       "  <!--rest of the image's code-->\n",
       "</svg>"
      ],
      "text/plain": [
       "#<CL-JUPYTER-USER::SVG-STR>"
      ]
     },
     "execution_count": 70,
     "metadata": {},
     "output_type": "execute_result"
    }
   ],
   "source": [
    "(cl-jupyter-user:svg \n",
    "\"<?xml version=\\\"1.0\\\" standalone=\\\"no\\\"?>\n",
    " <svg height=\\\"200.09\\\" width=\\\"200.00\\\" \n",
    "    xmlns=\\\"http://www.w3.org/2000/svg\\\">\n",
    "\n",
    "  <!--the rect/text group-->\n",
    "  <g transform=\\\"translate(0,50)\\\">\n",
    "    <rect rx=\\\"5\\\" ry=\\\"5\\\" width=\\\"200\\\" height=\\\"100\\\" stroke=\\\"green\\\" fill=\\\"blue\\\" stroke-width=\\\"10\\\"/>\n",
    "    <svg width=\\\"200px\\\" height=\\\"100px\\\">\n",
    "      <text x=\\\"50%\\\" y=\\\"80%\\\" alignment-baseline=\\\"middle\\\" text-anchor=\\\"middle\\\">C</text>      \n",
    "    </svg>\n",
    "  </g>\n",
    "\n",
    "  <!--rest of the image's code-->\n",
    "</svg>\")"
   ]
  },
  {
   "cell_type": "code",
   "execution_count": 25,
   "metadata": {},
   "outputs": [
    {
     "name": "stdout",
     "output_type": "stream",
     "text": [
      "bbox = #<geom:bounding-box :min-corner     (-11.8 -6.225 -0.6078)  :max-corner     (13.38 7.281 0.3057) >\n",
      " width -> 25.18767726670981d0 13.505469443131593d0 0.9134959099743868d0\n"
     ]
    },
    {
     "data": {
      "text/plain": [
       "NIL"
      ]
     },
     "execution_count": 25,
     "metadata": {},
     "output_type": "execute_result"
    }
   ],
   "source": [
    "(sketch2d::generate-svg *m*)"
   ]
  },
  {
   "cell_type": "code",
   "execution_count": 19,
   "metadata": {},
   "outputs": [
    {
     "data": {
      "text/plain": [
       "25001"
      ]
     },
     "execution_count": 19,
     "metadata": {},
     "output_type": "execute_result"
    }
   ],
   "source": [
    "(length (dynamics::accumulated-coordinates *d*))"
   ]
  },
  {
   "cell_type": "code",
   "execution_count": 20,
   "metadata": {},
   "outputs": [
    {
     "data": {
      "application/vnd.jupyter.widget-view+json": {
       "model_id": "13656EEF-AC00-4CCC-A5C2-822324E081D9",
       "version_major": 2,
       "version_minor": 0
      },
      "text/plain": [
       "#<NGLV:NGLWIDGET>"
      ]
     },
     "execution_count": 20,
     "metadata": {},
     "output_type": "execute_result"
    }
   ],
   "source": [
    "(show sketch2d::*edited-mol*)"
   ]
  },
  {
   "cell_type": "code",
   "execution_count": 9,
   "metadata": {},
   "outputs": [
    {
     "data": {
      "application/vnd.jupyter.widget-view+json": {
       "model_id": "F2C9A747-3261-4D25-B8B1-1464A79156FA",
       "version_major": 2,
       "version_minor": 0
      },
      "text/plain": [
       "#<NGLV:NGLWIDGET>"
      ]
     },
     "execution_count": 9,
     "metadata": {},
     "output_type": "execute_result"
    }
   ],
   "source": [
    "(show *d*)"
   ]
  },
  {
   "cell_type": "code",
   "execution_count": 10,
   "metadata": {},
   "outputs": [
    {
     "data": {
      "text/plain": [
       "T"
      ]
     },
     "execution_count": 10,
     "metadata": {},
     "output_type": "execute_result"
    }
   ],
   "source": [
    "(nglv:add-axes *)"
   ]
  },
  {
   "cell_type": "code",
   "execution_count": 11,
   "metadata": {},
   "outputs": [
    {
     "name": "stdout",
     "output_type": "stream",
     "text": [
      "Passed test1\n",
      "Passed test2\n",
      "Intersection-point '( 5 5 0)\n",
      "Passed test3\n"
     ]
    },
    {
     "data": {
      "text/plain": [
       "NIL"
      ]
     },
     "execution_count": 11,
     "metadata": {},
     "output_type": "execute_result"
    }
   ],
   "source": [
    "(sketch2d::test-intersect)"
   ]
  },
  {
   "cell_type": "code",
   "execution_count": 22,
   "metadata": {},
   "outputs": [
    {
     "data": {
      "text/plain": [
       "*AGG1*"
      ]
     },
     "execution_count": 22,
     "metadata": {},
     "output_type": "execute_result"
    }
   ],
   "source": [
    "(defparameter *agg1* (cando:load-chem-draw-aggregate \"test01.cdxml\"))"
   ]
  },
  {
   "cell_type": "code",
   "execution_count": 23,
   "metadata": {},
   "outputs": [
    {
     "data": {
      "text/plain": [
       "*MOL1*"
      ]
     },
     "execution_count": 23,
     "metadata": {},
     "output_type": "execute_result"
    }
   ],
   "source": [
    "(defparameter *mol1* (chem:content-at *agg1* 0))"
   ]
  },
  {
   "cell_type": "code",
   "execution_count": 24,
   "metadata": {},
   "outputs": [
    {
     "name": "stdout",
     "output_type": "stream",
     "text": [
      "Entered sketch2d-molecule\n",
      "Entered setup-simulation\n",
      "Entered system-preparation\n",
      "Doing jostle\n",
      "Jostling atom #<ATOM :C1/:C @0x13963f009>\n",
      "Jostling atom #<ATOM :C11/:C @0x1357aaf09>\n",
      "Jostling atom #<ATOM :C3/:C @0x1357aae19>\n",
      "Jostling atom #<ATOM :C10/:C @0x1357aad29>\n",
      "Jostling atom #<ATOM :C_1324/:C @0x1357aac39>\n",
      "Jostling atom #<ATOM :C4/:C @0x1357aab49>\n",
      "Jostling atom #<ATOM :C2/:C @0x1357aaa59>\n",
      "Jostling atom #<ATOM :C5/:C @0x1357aa969>\n",
      "Jostling atom #<ATOM :C9/:C @0x1357aa879>\n",
      "Jostling atom #<ATOM :C_1318/:C @0x1357aa789>\n",
      "Jostling atom #<ATOM :C_1322/:C @0x1357aa699>\n",
      "Jostling atom #<ATOM :C8/:C @0x1357aa5a9>\n",
      "Jostling atom #<ATOM :C6/:C @0x1357aa4b9>\n",
      "Jostling atom #<ATOM :C_1320/:C @0x1357aa3c9>\n",
      "Jostling atom #<ATOM :C_1355/:C @0x1357aa2d9>\n",
      "Jostling atom #<ATOM :C7/:C @0x1357aa1e9>\n",
      "Jostling atom #<ATOM :C_1429/:C @0x1357aa0f9>\n",
      "Jostling atom #<ATOM :C_1349/:C @0x1357aa009>\n",
      "Jostling atom #<ATOM :C_1353/:C @0x135004f09>\n",
      "Jostling atom #<ATOM :C_1501/:C @0x135004e19>\n",
      "Jostling atom #<ATOM :C_1435/:C @0x135004d29>\n",
      "Jostling atom #<ATOM :C_1431/:C @0x135004c39>\n",
      "Jostling atom #<ATOM :C_1351/:C @0x135004b49>\n",
      "Jostling atom #<ATOM :C_1495/:C @0x135004a59>\n",
      "Jostling atom #<ATOM :C_1499/:C @0x135004969>\n",
      "Jostling atom #<ATOM :C_1527/:C @0x135004879>\n",
      "Jostling atom #<ATOM :C_1433/:C @0x135004789>\n",
      "Jostling atom #<ATOM :C_1442/:C @0x135004699>\n",
      "Jostling atom #<ATOM :C_1497/:C @0x1350045a9>\n",
      "Jostling atom #<ATOM :C_1521/:C @0x1350044b9>\n",
      "Jostling atom #<ATOM :C_1525/:C @0x1350043c9>\n",
      "Jostling atom #<ATOM :C_1448/:C @0x1350042d9>\n",
      "Jostling atom #<ATOM :C_1444/:C @0x1350041e9>\n",
      "Jostling atom #<ATOM :C_1455/:C @0x1350040f9>\n",
      "Jostling atom #<ATOM :C_1523/:C @0x135004009>\n",
      "Jostling atom #<ATOM :C_1446/:C @0x135078f09>\n",
      "Jostling atom #<ATOM :C_1461/:C @0x135078e19>\n",
      "Jostling atom #<ATOM :C_1457/:C @0x135078d29>\n",
      "Jostling atom #<ATOM :C_1534/:C @0x135078c39>\n",
      "Jostling atom #<ATOM :C_1459/:C @0x135078b49>\n",
      "Jostling atom #<ATOM :C_1540/:C @0x135078a59>\n",
      "Jostling atom #<ATOM :C_1536/:C @0x135078969>\n",
      "Jostling atom #<ATOM :C_1538/:C @0x135078879>\n",
      "Jostling atom #<ATOM :H12/:H @0x135078699>\n",
      "Jostling atom #<ATOM :H_13242/:H @0x1350782d9>\n",
      "Jostling atom #<ATOM :H42/:H @0x1350780f9>\n",
      "Jostling atom #<ATOM :H22/:H @0x13507bf09>\n",
      "Jostling atom #<ATOM :H52/:H @0x13507bd29>\n",
      "Jostling atom #<ATOM :H92/:H @0x13507bb49>\n",
      "Jostling atom #<ATOM :H_13182/:H @0x13507b969>\n",
      "Jostling atom #<ATOM :H62/:H @0x13507b5a9>\n",
      "Jostling atom #<ATOM :H_14292/:H @0x13507b0f9>\n",
      "Jostling atom #<ATOM :H_13492/:H @0x1350dcf09>\n",
      "Jostling atom #<ATOM :H_14352/:H @0x1350dcb49>\n",
      "Jostling atom #<ATOM :H_13512/:H @0x1350dc879>\n",
      "Jostling atom #<ATOM :H_14952/:H @0x1350dc699>\n",
      "Jostling atom #<ATOM :H_15272/:H @0x1350dc3c9>\n",
      "Jostling atom #<ATOM :H_14972/:H @0x1350dc009>\n",
      "Jostling atom #<ATOM :H_15212/:H @0x1350dee19>\n",
      "Jostling atom #<ATOM :H_15252/:H @0x1350dec39>\n",
      "Jostling atom #<ATOM :H_14482/:H @0x1350dea59>\n",
      "Jostling atom #<ATOM :H_15232/:H @0x1350de699>\n",
      "Jostling atom #<ATOM :H_14462/:H @0x1350de4b9>\n",
      "Jostling atom #<ATOM :H_14612/:H @0x1350de2d9>\n",
      "Jostling atom #<ATOM :H_15342/:H @0x1350de009>\n",
      "Jostling atom #<ATOM :H_14592/:H @0x135136e19>\n",
      "Jostling atom #<ATOM :H_15402/:H @0x135136c39>\n",
      "Jostling atom #<ATOM :H_15362/:H @0x135136a59>\n",
      "Jostling atom #<ATOM :H_15382/:H @0x135136879>\n",
      "About to check number-of-problem-areas\n",
      "Intersection of H42-C4 / H52-C5\n",
      "'( -3.69104 -0.618876 -0.310014) - '( -2.89706 0.871294 -0.0506304) / '( -3.88483 0.485697 0.317643) - '( -2.64069 -0.628741 0.00607402)\n",
      "Unfreezing H62\n",
      "Unfreezing H92\n",
      "Unfreezing H52\n",
      "Unfreezing H42\n",
      "Unfreezing C7\n",
      "Unfreezing C6\n",
      "Unfreezing C8\n",
      "Unfreezing C9\n",
      "Unfreezing C5\n",
      "Unfreezing C2\n",
      "Unfreezing C4\n",
      "Unfreezing C10\n",
      "Unfreezing C3\n",
      "Unfreezing C11\n",
      "Unfreezing C1\n",
      "Number of problem areas: 1\n",
      "There were 1 problem areas\n",
      "Starting dynamics again frozen: #*000010000110011011111111111111111111111111111010010111111111111111111\n",
      "Jostling atom #<ATOM :C1/:C @0x13963f009>\n",
      "Jostling atom #<ATOM :C11/:C @0x1357aaf09>\n",
      "Jostling atom #<ATOM :C3/:C @0x1357aae19>\n",
      "Jostling atom #<ATOM :C10/:C @0x1357aad29>\n",
      "Jostling atom #<ATOM :C4/:C @0x1357aab49>\n",
      "Jostling atom #<ATOM :C2/:C @0x1357aaa59>\n",
      "Jostling atom #<ATOM :C5/:C @0x1357aa969>\n",
      "Jostling atom #<ATOM :C9/:C @0x1357aa879>\n",
      "Jostling atom #<ATOM :C8/:C @0x1357aa5a9>\n",
      "Jostling atom #<ATOM :C6/:C @0x1357aa4b9>\n",
      "Jostling atom #<ATOM :C7/:C @0x1357aa1e9>\n",
      "Jostling atom #<ATOM :H42/:H @0x1350780f9>\n",
      "Jostling atom #<ATOM :H52/:H @0x13507bd29>\n",
      "Jostling atom #<ATOM :H92/:H @0x13507bb49>\n",
      "Jostling atom #<ATOM :H62/:H @0x13507b5a9>\n",
      "Unfreezing C1 neighbor H12\n",
      "Unfreezing C11 neighbor C_1324\n",
      "Unfreezing C10 neighbor C_1318\n",
      "Unfreezing C2 neighbor H22\n",
      "Unfreezing C8 neighbor C_1429\n",
      "Unfreezing C7 neighbor C_1435\n",
      "New frozen: #*000000000010011001110111111111111111111111101000010111111111111111111\n",
      "Unfreezing C_1324 neighbor C_1322\n",
      "Unfreezing C_1318 neighbor C_1320\n",
      "Unfreezing C_1429 neighbor C_1431\n",
      "Unfreezing C_1435 neighbor C_1433\n",
      "New frozen: #*000000000000001001110011110111111111111111101000010111111111111111111\n",
      "Unfreezing C_1324 neighbor H_13242\n",
      "Unfreezing C_1318 neighbor H_13182\n",
      "Unfreezing C_1322 neighbor C_1355\n",
      "Unfreezing C_1320 neighbor C_1349\n",
      "Unfreezing C_1429 neighbor H_14292\n",
      "Unfreezing C_1435 neighbor H_14352\n",
      "Unfreezing C_1431 neighbor C_1442\n",
      "Unfreezing C_1433 neighbor C_1448\n",
      "New frozen: #*000000000000000000110011110011101111111111100000000010111111111111111\n",
      "Unfreezing C_1355 neighbor C_1353\n",
      "Unfreezing C_1349 neighbor C_1351\n",
      "Unfreezing C_1442 neighbor C_1444\n",
      "Unfreezing C_1448 neighbor C_1446\n",
      "New frozen: #*000000000000000000010001110011100110111111100000000010111111111111111\n",
      "Intersection of C_1351-H_13512 / H_13492-C_1349\n",
      "'( -4.63099 8.72788 -0.0735484) - '( -3.23184 7.12164 1.20495) / '( -3.02819 7.54152 0.580905) - '( -5.15983 7.25557 0.0329901)\n",
      "Intersection of C_1448-H_14482 / C_1446-H_14462\n",
      "'( -2.79375 -7.66514 -0.00741226) - '( -0.672295 -7.22471 0.595528) / '( -1.84657 -8.8535 0.0278935) - '( -1.00374 -6.8998 -1.24188)\n",
      "Intersection of H42-C4 / H52-C5\n",
      "'( -3.72114 -0.68856 -0.596747) - '( -2.95151 0.764517 0.0243024) / '( -3.90146 0.352686 0.608149) - '( -2.69406 -0.789371 -0.0217186)\n",
      "Unfreezing H62\n",
      "Unfreezing H92\n",
      "Unfreezing H52\n",
      "Unfreezing H22\n",
      "Unfreezing H42\n",
      "Unfreezing H12\n",
      "Unfreezing C7\n",
      "Unfreezing C6\n",
      "Unfreezing C9\n",
      "Unfreezing C5\n",
      "Unfreezing C2\n",
      "Unfreezing C4\n",
      "Unfreezing C10\n",
      "Unfreezing C3\n",
      "Unfreezing C1\n",
      "About to return\n"
     ]
    },
    {
     "data": {
      "text/plain": [
       "#<MOLECULE NIL @0x12ed813c8>"
      ]
     },
     "execution_count": 24,
     "metadata": {},
     "output_type": "execute_result"
    }
   ],
   "source": [
    "(multiple-value-setq (*m* *d*) (sketch2d::sketch2d *mol1* :accumulate-coordinates t))"
   ]
  },
  {
   "cell_type": "code",
   "execution_count": 25,
   "metadata": {},
   "outputs": [
    {
     "data": {
      "application/vnd.jupyter.widget-view+json": {
       "model_id": "F2F1369D-4282-44C7-A568-80C185AD983D",
       "version_major": 2,
       "version_minor": 0
      },
      "text/plain": [
       "#<NGLV:NGLWIDGET>"
      ]
     },
     "execution_count": 25,
     "metadata": {},
     "output_type": "execute_result"
    }
   ],
   "source": [
    "(show *d*)"
   ]
  },
  {
   "cell_type": "code",
   "execution_count": 54,
   "metadata": {},
   "outputs": [
    {
     "data": {
      "text/plain": [
       "*EF*"
      ]
     },
     "execution_count": 54,
     "metadata": {},
     "output_type": "execute_result"
    }
   ],
   "source": [
    "(defparameter *ef* (dynamics:scoring-function *d1*))"
   ]
  },
  {
   "cell_type": "code",
   "execution_count": 20,
   "metadata": {},
   "outputs": [
    {
     "name": "stdout",
     "output_type": "stream",
     "text": [
      "Intersection of C_1225-H_12252 / C_1126-H_11262\n",
      "'( 152.752 159.146 -9.11122e-169) - '( 153.624 157.748 -1.00025e-169) / '( 152.735 158.328 9.11122e-169) - '( 153.664 159.688 1.00025e-169)\n"
     ]
    },
    {
     "data": {
      "text/plain": [
       "1"
      ]
     },
     "execution_count": 20,
     "metadata": {},
     "output_type": "execute_result"
    }
   ],
   "source": [
    "(sketch2d::identify-problem-areas *d*)"
   ]
  },
  {
   "cell_type": "code",
   "execution_count": null,
   "metadata": {},
   "outputs": [],
   "source": []
  }
 ],
 "metadata": {
  "kernelspec": {
   "display_name": "cando",
   "language": "lisp",
   "name": "cando"
  },
  "language_info": {
   "codemirror_mode": "text/x-common-lisp",
   "file_extension": ".lisp",
   "mimetype": "text/x-common-lisp",
   "name": "common-lisp",
   "pygments_lexer": "common-lisp",
   "version": "X3J13"
  }
 },
 "nbformat": 4,
 "nbformat_minor": 2
}
