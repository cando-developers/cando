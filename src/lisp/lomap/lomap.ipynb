{
 "cells": [
  {
   "cell_type": "code",
   "execution_count": 1,
   "metadata": {},
   "outputs": [
    {
     "name": "stdout",
     "output_type": "stream",
     "text": [
      "Checking SLIME_HOME\n",
      "About to start swank server\n",
      "Started swank server\n"
     ]
    },
    {
     "data": {
      "text/plain": [
       "T"
      ]
     },
     "execution_count": 1,
     "metadata": {},
     "output_type": "execute_result"
    }
   ],
   "source": [
    "startSwank 4011"
   ]
  },
  {
   "cell_type": "code",
   "execution_count": null,
   "metadata": {},
   "outputs": [],
   "source": [
    "(setf fep::*testing* nil)"
   ]
  },
  {
   "cell_type": "code",
   "execution_count": 3,
   "metadata": {},
   "outputs": [
    {
     "data": {
      "text/plain": [
       "#P\"/Users/yonkunas/Development/clomap/\""
      ]
     },
     "execution_count": 3,
     "metadata": {},
     "output_type": "execute_result"
    }
   ],
   "source": [
    "(setf *default-pathname-defaults* #P\"~/Development/clomap/\")"
   ]
  },
  {
   "cell_type": "code",
   "execution_count": 4,
   "metadata": {},
   "outputs": [
    {
     "data": {
      "text/plain": [
       "#<DEFINE-OP >"
      ]
     },
     "execution_count": 4,
     "metadata": {},
     "output_type": "execute_result"
    }
   ],
   "source": [
    "(asdf:load-asd \"/Users/Yonkunas/Development/lomap/lomap.asd\")"
   ]
  },
  {
   "cell_type": "code",
   "execution_count": 5,
   "metadata": {},
   "outputs": [
    {
     "data": {
      "text/plain": [
       "T"
      ]
     },
     "execution_count": 5,
     "metadata": {},
     "output_type": "execute_result"
    }
   ],
   "source": [
    "(asdf:load-system :lomap)"
   ]
  },
  {
   "cell_type": "code",
   "execution_count": 6,
   "metadata": {},
   "outputs": [
    {
     "name": "stdout",
     "output_type": "stream",
     "text": [
      "Paths: (/Users/yonkunas/Development/clomap/ /usr/local/amber18/dat/antechamber/\n",
      " /usr/local/amber18/dat/leap/cmd/ /usr/local/amber18/dat/leap/parm/\n",
      " /usr/local/amber18/dat/leap/lib/ /usr/local/amber18/dat/leap/prep/)\n"
     ]
    },
    {
     "data": {
      "text/plain": [
       "NIL"
      ]
     },
     "execution_count": 6,
     "metadata": {},
     "output_type": "execute_result"
    }
   ],
   "source": [
    "(setup-default-paths)"
   ]
  },
  {
   "cell_type": "code",
   "execution_count": 7,
   "metadata": {},
   "outputs": [
    {
     "data": {
      "text/plain": [
       "#<FORCE-FIELD ATOMTYPE_GFF.DEF>"
      ]
     },
     "execution_count": 7,
     "metadata": {},
     "output_type": "execute_result"
    }
   ],
   "source": [
    "(load-atom-type-rules \"ATOMTYPE_GFF.DEF\")"
   ]
  },
  {
   "cell_type": "code",
   "execution_count": 8,
   "metadata": {},
   "outputs": [
    {
     "name": "stdout",
     "output_type": "stream",
     "text": [
      "Warning!  Skipping 10-12 hbond in #<IOSTREAM-STREAM #P\"/usr/local/amber18/dat/leap/parm/parm10.dat\" file-pos 55972>\n",
      "Warning!  Skipping force field atom equivalences in #<IOSTREAM-STREAM #P\"/usr/local/amber18/dat/leap/parm/parm10.dat\" file-pos 56054>\n",
      "Adding force field parm10.dat to DEFAULT\n",
      "Adding force field frcmod.ff14SB to DEFAULT\n"
     ]
    },
    {
     "data": {
      "text/plain": [
       "T"
      ]
     },
     "execution_count": 8,
     "metadata": {},
     "output_type": "execute_result"
    }
   ],
   "source": [
    "(source \"/usr/local/amber18/dat/leap/cmd/oldff/leaprc.ff14SB.redq\")"
   ]
  },
  {
   "cell_type": "code",
   "execution_count": 9,
   "metadata": {},
   "outputs": [
    {
     "name": "stdout",
     "output_type": "stream",
     "text": [
      "Warning!  Skipping 10-12 hbond in #<IOSTREAM-STREAM #P\"/usr/local/amber18/dat/leap/parm/gaff.dat\" file-pos 477649>\n",
      "Warning!  Skipping force field atom equivalences in #<IOSTREAM-STREAM #P\"/usr/local/amber18/dat/leap/parm/gaff.dat\" file-pos 477731>\n",
      "Adding force field gaff.dat to DEFAULT\n"
     ]
    },
    {
     "data": {
      "text/plain": [
       "T"
      ]
     },
     "execution_count": 9,
     "metadata": {},
     "output_type": "execute_result"
    }
   ],
   "source": [
    "(source \"leaprc.gaff\")"
   ]
  },
  {
   "cell_type": "code",
   "execution_count": null,
   "metadata": {},
   "outputs": [],
   "source": [
    "(leap:add-pdb-res-map '((1 :NMA :NME)))"
   ]
  },
  {
   "cell_type": "code",
   "execution_count": null,
   "metadata": {},
   "outputs": [],
   "source": [
    "(leap:add-pdb-atom-map '((:CA :CH3) (:1HA :HH31) (:2HA :HH32) (:3HA :HH33)\n",
    "                         (:1H :HH31) (:2H :HH32) (:3H :HH33)\n",
    "                         (:H2 :H)))"
   ]
  },
  {
   "cell_type": "code",
   "execution_count": 15,
   "metadata": {},
   "outputs": [
    {
     "data": {
      "text/plain": [
       "MOL2S"
      ]
     },
     "execution_count": 15,
     "metadata": {},
     "output_type": "execute_result"
    }
   ],
   "source": [
    "(defparameter mol2s (chem:load-mol2 \"lomap_mols/ejm_31.mol2\"))"
   ]
  },
  {
   "cell_type": "code",
   "execution_count": 16,
   "metadata": {},
   "outputs": [
    {
     "name": "stderr",
     "output_type": "stream",
     "text": [
      "\n",
      "Undefined function MOL2S\n",
      "\n",
      "An error occurred of type: UNDEFINED-FUNCTION: \n",
      "  The function MOL2S is undefined.\n",
      "\n",
      "serious-condition backtrace:\n",
      "0: (ERROR UNDEFINED-FUNCTION :NAME MOL2S)\n",
      "1: (LAMBDA)\n",
      "2: (_CCLASP-EVAL-WITH-ENV^CLASP-CLEAVIR^((T (MOL2S) NIL)\n",
      "3: (INTERPRETED-DISCRIMINATING-FUNCTION (MOL2S) NIL)\n",
      "4: (SIMPLE-EVAL (MOL2S) NIL #<STANDARD-GENERIC-FUNCTION CLASP-CLEAVIR::CCLASP-EVAL-WITH-ENV>)\n",
      "5: (LAMBDA (MOL2S))\n",
      "6: (MAPCAR #<FUNCTION LAMBDA> ((MOL2S)))\n",
      "7: (SIMPLE-EVAL (SKETCH2D:SKETCH2D (MOL2S)) NIL #<STANDARD-GENERIC-FUNCTION CLASP-CLEAVIR::CCLASP-EVAL-WITH-ENV>)\n",
      "8: (CCLASP-EVAL (SKETCH2D:SKETCH2D (MOL2S)) NIL)\n",
      "9: (LAMBDA #<FUNCTION LAMBDA> :VALUE NIL (:S-EXPR NIL :VALUE (SKETCH2D:SKETCH2D (MOL2S)) :BOUNDS (9 . 36)) :S-EXPR NIL :VALUE (SKETCH2D:SKETCH2D (MOL2S)) :BOUNDS (9 . 36))\n",
      "10: (APPLY4 #<FUNCTION LAMBDA> (:VALUE (SKETCH2D:SKETCH2D (MOL2S)) :BOUNDS (9 . 36)) #<FUNCTION LAMBDA> :VALUE NIL (:S-EXPR NIL :VALUE (SKETCH2D:SKETCH2D (MOL2S)) :BOUNDS (9 . 36)) :S-EXPR NIL)\n",
      "11: (LAMBDA #<FUNCTION LAMBDA> LIST :VALUE NIL (:S-EXPR NIL :VALUE (SKETCH2D:SKETCH2D (MOL2S)) :BOUNDS (9 . 36)))\n",
      "12: (MULTIPLE-VALUE-FUNCALL #<FUNCTION LAMBDA> #<FUNCTION LAMBDA> #<FUNCTION LAMBDA>)\n",
      "13: (LAMBDA NIL (:S-EXPR NIL :VALUE (SKETCH2D:SKETCH2D (MOL2S)) :BOUNDS (9 . 36)))\n",
      "14: (MAP-TO-LIST #<FUNCTION LAMBDA> (NIL) ((:S-EXPR NIL :VALUE (SKETCH2D:SKETCH2D (MOL2S)) :BOUNDS (9 . 36))))\n",
      "15: (LAMBDA :RELATIONS (:VALUE))\n",
      "16: (LAMBDA #<FUNCTION LAMBDA> :INSTRUCTION NIL (:ASSIGNMENT (:VALUE (((:S-EXPR NIL :VALUE (SKETCH2D:SKETCH2D (MOL2S)) :BOUNDS (9 . 36))))) :NAME MOL2SK :BOUNDS (0 . 36)) :ASSIGNMENT (:VALUE) :NAME MOL2SK :BOUNDS (0 . 36))\n",
      "17: (APPLY4 #<FUNCTION LAMBDA> (:NAME MOL2SK :BOUNDS (0 . 36)) #<FUNCTION LAMBDA> :INSTRUCTION NIL (:ASSIGNMENT (:VALUE (((:S-EXPR NIL :VALUE (SKETCH2D:SKETCH2D (MOL2S)) :BOUNDS (9 . 36))))) :NAME MOL2SK :BOUNDS (0 . 36)) :ASSIGNMENT (:VALUE))\n",
      "18: (LAMBDA #<FUNCTION LAMBDA> LIST :INSTRUCTION NIL (:ASSIGNMENT (:VALUE (((:S-EXPR NIL :VALUE (SKETCH2D:SKETCH2D (MOL2S)) :BOUNDS (9 . 36))))) :NAME MOL2SK :BOUNDS (0 . 36)))\n",
      "19: (MULTIPLE-VALUE-FUNCALL #<FUNCTION LAMBDA> #<FUNCTION LAMBDA> #<FUNCTION LAMBDA>)\n",
      "20: (LAMBDA NIL (:ASSIGNMENT (:VALUE (((:S-EXPR NIL :VALUE (SKETCH2D:SKETCH2D (MOL2S)) :BOUNDS (9 . 36))))) :NAME MOL2SK :BOUNDS (0 . 36)))\n",
      "21: (MAP-TO-LIST #<FUNCTION LAMBDA> (NIL) ((:ASSIGNMENT (:VALUE (((:S-EXPR NIL :VALUE (SKETCH2D:SKETCH2D (MOL2S)) :BOUNDS (9 . 36))))) :NAME MOL2SK :BOUNDS (0 . 36))))\n",
      "22: (LAMBDA)\n",
      "23: (LAMBDA #<FUNCTION LAMBDA> NIL NIL (:LEAP (:INSTRUCTION (((:ASSIGNMENT (:VALUE (((:S-EXPR NIL :VALUE (SKETCH2D:SKETCH2D (MOL2S)) :BOUNDS (9 . 36))))) :NAME MOL2SK :BOUNDS (0 . 36))))) :BOUNDS (0 . 36)) :LEAP (:INSTRUCTION) :BOUNDS (0 . 36))\n",
      "24: (APPLY4 #<FUNCTION LAMBDA> (:BOUNDS (0 . 36)) #<FUNCTION LAMBDA> NIL NIL (:LEAP (:INSTRUCTION (((:ASSIGNMENT (:VALUE (((:S-EXPR NIL :VALUE (SKETCH2D:SKETCH2D (MOL2S)) :BOUNDS (9 . 36))))) :NAME MOL2SK :BOUNDS (0 . 36))))) :BOUNDS (0 . 36)) :LEAP (:INSTRUCTION))\n",
      "25: (LAMBDA #<FUNCTION LAMBDA> LIST NIL NIL (:LEAP (:INSTRUCTION (((:ASSIGNMENT (:VALUE (((:S-EXPR NIL :VALUE (SKETCH2D:SKETCH2D (MOL2S)) :BOUNDS (9 . 36))))) :NAME MOL2SK :BOUNDS (0 . 36))))) :BOUNDS (0 . 36)))\n",
      "26: (%WALK-NODES NIL #<FUNCTION LAMBDA> LIST (:LEAP (:INSTRUCTION (((:ASSIGNMENT (:VALUE (((:S-EXPR NIL :VALUE (SKETCH2D:SKETCH2D (MOL2S)) :BOUNDS (9 . 36))))) :NAME MOL2SK :BOUNDS (0 . 36))))) :BOUNDS (0 . 36)))\n",
      "27: (_WALK-NODES^ARCHITECTURE.BUILDER-PROTOCOL^((T LIST #<FUNCTION LAMBDA> (:LEAP (:INSTRUCTION (((:ASSIGNMENT (:VALUE (((:S-EXPR NIL :VALUE (SKETCH2D:SKETCH2D (MOL2S)) :BOUNDS (9 . 36))))) :NAME MOL2SK :BOUNDS (0 . 36))))) :BOUNDS (0 . 36)))\n",
      "28: (INTERPRETED-DISCRIMINATING-FUNCTION LIST #<FUNCTION LAMBDA> (:LEAP (:INSTRUCTION (((:ASSIGNMENT (:VALUE (((:S-EXPR NIL :VALUE (SKETCH2D:SKETCH2D (MOL2S)) :BOUNDS (9 . 36))))) :NAME MOL2SK :BOUNDS (0 . 36))))) :BOUNDS (0 . 36)))\n",
      "29: (EVALUATE LIST (:LEAP (:INSTRUCTION (((:ASSIGNMENT (:VALUE (((:S-EXPR NIL :VALUE (SKETCH2D:SKETCH2D (MOL2S)) :BOUNDS (9 . 36))))) :NAME MOL2SK :BOUNDS (0 . 36))))) :BOUNDS (0 . 36)) #<LEAP.CORE::LEAP-ENVIRONMENT>)\n",
      "30: (LAMBDA)\n",
      "\n"
     ]
    },
    {
     "data": {
      "text/plain": [
       "NIL"
      ]
     },
     "execution_count": 16,
     "metadata": {},
     "output_type": "execute_result"
    }
   ],
   "source": [
    "mol2sk = (sketch2d:sketch2d (mol2s))"
   ]
  },
  {
   "cell_type": "code",
   "execution_count": null,
   "metadata": {},
   "outputs": [],
   "source": [
    "(defparameter *tg* (molecule-graph.max-clique::test-cross-product))"
   ]
  },
  {
   "cell_type": "code",
   "execution_count": null,
   "metadata": {},
   "outputs": [],
   "source": [
    "(molecule-graph.max-clique::cross-product-edges *tg*)"
   ]
  },
  {
   "cell_type": "code",
   "execution_count": null,
   "metadata": {},
   "outputs": [],
   "source": [
    "(defparameter *td* (molecule-graph.max-clique::build-dimacs *tg*))"
   ]
  },
  {
   "cell_type": "code",
   "execution_count": null,
   "metadata": {},
   "outputs": [],
   "source": [
    "(defparameter *mc* (molecule-graph.max-clique::dothing *td*))"
   ]
  },
  {
   "cell_type": "code",
   "execution_count": null,
   "metadata": {},
   "outputs": [],
   "source": [
    "*mc*"
   ]
  },
  {
   "cell_type": "code",
   "execution_count": null,
   "metadata": {},
   "outputs": [],
   "source": [
    "(molecule-graph.max-clique::extract-atom-pairs *tg* *mc*)"
   ]
  },
  {
   "cell_type": "code",
   "execution_count": 19,
   "metadata": {},
   "outputs": [
    {
     "name": "stdout",
     "output_type": "stream",
     "text": [
      "Read molecule: #<MOLECULE :CHEMBL1078774 0>\n",
      "Read molecule: #<MOLECULE :CHEMBL1093087 0>\n",
      "Read molecule: #<MOLECULE :CHEMBL1082249 0>\n",
      "Read molecule: #<MOLECULE :CHEMBL1089393 0>\n",
      "Read molecule: #<MOLECULE :CHEMBL1078691 0>\n",
      "Read molecule: #<MOLECULE :CHEMBL1086409 0>\n",
      "Read molecule: #<MOLECULE :CHEMBL1082248 0>\n",
      "Read molecule: #<MOLECULE :CHEMBL1084678 0>\n",
      "Read molecule: #<MOLECULE :CHEMBL1084115 0>\n",
      "Read molecule: #<MOLECULE :CHEMBL1084431 0>\n",
      "Read molecule: #<MOLECULE :CHEMBL1085895 0>\n",
      "Read molecule: #<MOLECULE :CHEMBL1084677 0>\n",
      "Read molecule: #<MOLECULE :CHEMBL1077227 0>\n",
      "Read molecule: #<MOLECULE :CHEMBL1086410 0>\n",
      "Read molecule: #<MOLECULE :CHEMBL1083517 0>\n",
      "Read molecule: #<MOLECULE :CHEMBL1096003 0>\n",
      "Read molecule: #<MOLECULE :CHEMBL1077204 0>\n",
      "Read molecule: #<MOLECULE :CHEMBL1083836 0>\n",
      "Read molecule: #<MOLECULE :CHEMBL1085666 0>\n",
      "Read molecule: #<MOLECULE :CHEMBL1085692 0>\n",
      "Read molecule: #<MOLECULE :CHEMBL1084143 0>\n",
      "Read molecule: #<MOLECULE :CHEMBL1096002 0>\n",
      "Read molecule: #<MOLECULE :CHEMBL1089056 0>\n",
      "Read molecule: #<MOLECULE :CHEMBL1093088 0>\n",
      "Read molecule: #<MOLECULE :CHEMBL1084676 0>\n",
      "Read molecule: #<MOLECULE :CHEMBL1084935 0>\n",
      "Read molecule: #<MOLECULE :CHEMBL1078998 0>\n",
      "Read molecule: #<MOLECULE :CHEMBL1088740 0>\n",
      "Read molecule: EOF\n"
     ]
    },
    {
     "data": {
      "text/plain": [
       "MOLS"
      ]
     },
     "execution_count": 19,
     "metadata": {},
     "output_type": "execute_result"
    }
   ],
   "source": [
    "(defparameter mols (sdf:load-sdf-as-list-of-molecules \"/Users/yonkunas/Development/fep-benchmark/eg5/ligands.sdf\"))"
   ]
  },
  {
   "cell_type": "code",
   "execution_count": null,
   "metadata": {},
   "outputs": [],
   "source": [
    "(lomap::similarity-matrix mols)"
   ]
  },
  {
   "cell_type": "code",
   "execution_count": null,
   "metadata": {},
   "outputs": [],
   "source": [
    "(class-of mols)"
   ]
  },
  {
   "cell_type": "code",
   "execution_count": null,
   "metadata": {},
   "outputs": [],
   "source": [
    "(length mols)"
   ]
  },
  {
   "cell_type": "code",
   "execution_count": null,
   "metadata": {},
   "outputs": [],
   "source": [
    "(molecule-graph.max-clique::rename-atoms (first mols) \"a\")\n",
    "(molecule-graph.max-clique::rename-atoms (second mols) \"b\")"
   ]
  },
  {
   "cell_type": "code",
   "execution_count": null,
   "metadata": {},
   "outputs": [],
   "source": [
    "(defparameter *cg* (multiple-value-list (molecule-graph.max-clique::compare-molecules (first mols) (second mols))))"
   ]
  },
  {
   "cell_type": "code",
   "execution_count": null,
   "metadata": {},
   "outputs": [],
   "source": [
    "(lomap::mcsr-similarity-score (first mols) (second mols))"
   ]
  },
  {
   "cell_type": "code",
   "execution_count": null,
   "metadata": {},
   "outputs": [],
   "source": [
    "*cg*"
   ]
  },
  {
   "cell_type": "code",
   "execution_count": null,
   "metadata": {},
   "outputs": [],
   "source": [
    "(length (first *cg*))"
   ]
  },
  {
   "cell_type": "code",
   "execution_count": null,
   "metadata": {},
   "outputs": [],
   "source": [
    "(+ 19 2)"
   ]
  },
  {
   "cell_type": "code",
   "execution_count": null,
   "metadata": {},
   "outputs": [],
   "source": [
    "(+ 19 4)"
   ]
  },
  {
   "cell_type": "code",
   "execution_count": null,
   "metadata": {},
   "outputs": [],
   "source": [
    "(- (+ 23 21) (* 2 19))"
   ]
  },
  {
   "cell_type": "code",
   "execution_count": null,
   "metadata": {},
   "outputs": [],
   "source": [
    "*cg*"
   ]
  },
  {
   "cell_type": "code",
   "execution_count": null,
   "metadata": {},
   "outputs": [],
   "source": [
    "(multiple-value-list (molecule-graph:compare-molecules (first mols) (second mols) \n",
    "                                                       :atom-match-callback 'molecule-graph:element-match))"
   ]
  },
  {
   "cell_type": "code",
   "execution_count": 20,
   "metadata": {},
   "outputs": [
    {
     "data": {
      "text/plain": [
       "#<SKETCH2D:SKETCH2D>"
      ]
     },
     "execution_count": 20,
     "metadata": {},
     "output_type": "execute_result"
    }
   ],
   "source": [
    "firstsk = (sketch2d:sketch2d (first mols))"
   ]
  },
  {
   "cell_type": "code",
   "execution_count": null,
   "metadata": {},
   "outputs": [],
   "source": [
    "nthsk = (sketch2d:sketch2d (nth 20 mols))"
   ]
  },
  {
   "cell_type": "code",
   "execution_count": null,
   "metadata": {},
   "outputs": [],
   "source": [
    "(first mols)"
   ]
  },
  {
   "cell_type": "code",
   "execution_count": null,
   "metadata": {},
   "outputs": [],
   "source": [
    "(show nthsk)"
   ]
  },
  {
   "cell_type": "code",
   "execution_count": 21,
   "metadata": {},
   "outputs": [
    {
     "data": {
      "image/svg+xml": [
       "<?xml version=\"1.0\" standalone=\"no\"?>\n",
       "<svg viewport=\"0 0 314 221\" height=\"221\" width=\"314\" version=\"1.2\" id=\"\"\n",
       "    xmlns=\"http://www.w3.org/2000/svg\"\n",
       "    xmlns:xlink=\"http://www.w3.org/1999/xlink\">\n",
       "  <line x1=\"54.56\" y1=\"140.59\" x2=\"66.32\" y2=\"113.59\" fill=\"none\"\n",
       "        stroke=\"black\" stroke-width=\"2\" stroke-linecap=\"round\"/>\n",
       "  <line x1=\"60.74\" y1=\"138.92\" x2=\"69.31\" y2=\"119.25\" fill=\"none\"\n",
       "        stroke=\"black\" stroke-width=\"2\" stroke-linecap=\"round\"/>\n",
       "  <line x1=\"54.56\" y1=\"140.59\" x2=\"73.65\" y2=\"167.03\" fill=\"none\"\n",
       "        stroke=\"black\" stroke-width=\"2\" stroke-linecap=\"round\"/>\n",
       "  <line x1=\"102.85\" y1=\"164.44\" x2=\"73.65\" y2=\"167.03\" fill=\"none\"\n",
       "        stroke=\"black\" stroke-width=\"2\" stroke-linecap=\"round\"/>\n",
       "  <line x1=\"98.43\" y1=\"159.81\" x2=\"77.19\" y2=\"161.69\" fill=\"none\"\n",
       "        stroke=\"black\" stroke-width=\"2\" stroke-linecap=\"round\"/>\n",
       "  <line x1=\"102.85\" y1=\"164.44\" x2=\"115.32\" y2=\"133.22\" fill=\"none\"\n",
       "        stroke=\"black\" stroke-width=\"2\" stroke-linecap=\"round\"/>\n",
       "  <line x1=\"97.31\" y1=\"109.15\" x2=\"66.32\" y2=\"113.59\" fill=\"none\"\n",
       "        stroke=\"black\" stroke-width=\"2\" stroke-linecap=\"round\"/>\n",
       "  <line x1=\"97.31\" y1=\"109.15\" x2=\"115.32\" y2=\"133.22\" fill=\"none\"\n",
       "        stroke=\"black\" stroke-width=\"2\" stroke-linecap=\"round\"/>\n",
       "  <line x1=\"95.70\" y1=\"115.35\" x2=\"108.92\" y2=\"133.02\" fill=\"none\"\n",
       "        stroke=\"black\" stroke-width=\"2\" stroke-linecap=\"round\"/>\n",
       "  <line x1=\"256.46\" y1=\"144.14\" x2=\"288.17\" y2=\"138.85\" fill=\"none\"\n",
       "        stroke=\"black\" stroke-width=\"2\" stroke-linecap=\"round\"/>\n",
       "  <line x1=\"256.46\" y1=\"144.14\" x2=\"246.01\" y2=\"171.63\" fill=\"none\"\n",
       "        stroke=\"black\" stroke-width=\"2\" stroke-linecap=\"round\"/>\n",
       "  <line x1=\"250.36\" y1=\"146.10\" x2=\"242.76\" y2=\"166.12\" fill=\"none\"\n",
       "        stroke=\"black\" stroke-width=\"2\" stroke-linecap=\"round\"/>\n",
       "  <line x1=\"256.46\" y1=\"144.14\" x2=\"238.85\" y2=\"116.57\" fill=\"none\"\n",
       "        stroke=\"black\" stroke-width=\"2\" stroke-linecap=\"round\"/>\n",
       "  <line x1=\"214.22\" y1=\"176.56\" x2=\"246.01\" y2=\"171.63\" fill=\"none\"\n",
       "        stroke=\"black\" stroke-width=\"2\" stroke-linecap=\"round\"/>\n",
       "  <line x1=\"214.22\" y1=\"176.56\" x2=\"196.00\" y2=\"150.59\" fill=\"none\"\n",
       "        stroke=\"black\" stroke-width=\"2\" stroke-linecap=\"round\"/>\n",
       "  <line x1=\"216.01\" y1=\"170.42\" x2=\"202.39\" y2=\"151.00\" fill=\"none\"\n",
       "        stroke=\"black\" stroke-width=\"2\" stroke-linecap=\"round\"/>\n",
       "  <line x1=\"159.02\" y1=\"147.93\" x2=\"147.21\" y2=\"130.32\" fill=\"none\"\n",
       "        stroke=\"black\" stroke-width=\"2\" stroke-linecap=\"round\"/>\n",
       "  <line x1=\"172.93\" y1=\"154.07\" x2=\"196.00\" y2=\"150.59\" fill=\"none\"\n",
       "        stroke=\"black\" stroke-width=\"2\" stroke-linecap=\"round\"/>\n",
       "  <line x1=\"115.32\" y1=\"133.22\" x2=\"147.21\" y2=\"130.32\" fill=\"none\"\n",
       "        stroke=\"black\" stroke-width=\"2\" stroke-linecap=\"round\"/>\n",
       "  <line x1=\"238.85\" y1=\"116.57\" x2=\"206.59\" y2=\"122.22\" fill=\"none\"\n",
       "        stroke=\"black\" stroke-width=\"2\" stroke-linecap=\"round\"/>\n",
       "  <line x1=\"235.77\" y1=\"122.19\" x2=\"211.40\" y2=\"126.46\" fill=\"none\"\n",
       "        stroke=\"black\" stroke-width=\"2\" stroke-linecap=\"round\"/>\n",
       "  <line x1=\"196.00\" y1=\"150.59\" x2=\"206.59\" y2=\"122.22\" fill=\"none\"\n",
       "        stroke=\"black\" stroke-width=\"2\" stroke-linecap=\"round\"/>\n",
       "  <line x1=\"147.21\" y1=\"130.32\" x2=\"158.23\" y2=\"102.64\" fill=\"none\"\n",
       "        stroke=\"black\" stroke-width=\"2\" stroke-linecap=\"round\"/>\n",
       "  <line x1=\"206.59\" y1=\"122.22\" x2=\"189.05\" y2=\"97.16\" fill=\"none\"\n",
       "        stroke=\"black\" stroke-width=\"2\" stroke-linecap=\"round\"/>\n",
       "  <line x1=\"158.23\" y1=\"102.64\" x2=\"189.05\" y2=\"97.16\" fill=\"none\"\n",
       "        stroke=\"black\" stroke-width=\"2\" stroke-linecap=\"round\"/>\n",
       "  <line x1=\"158.23\" y1=\"102.64\" x2=\"138.08\" y2=\"77.24\" fill=\"none\"\n",
       "        stroke=\"black\" stroke-width=\"2\" stroke-linecap=\"round\"/>\n",
       "  <line x1=\"189.05\" y1=\"97.16\" x2=\"197.45\" y2=\"77.50\" fill=\"none\"\n",
       "        stroke=\"black\" stroke-width=\"2\" stroke-linecap=\"round\"/>\n",
       "  <line x1=\"138.08\" y1=\"77.24\" x2=\"150.09\" y2=\"48.53\" fill=\"none\"\n",
       "        stroke=\"black\" stroke-width=\"2\" stroke-linecap=\"round\"/>\n",
       "  <line x1=\"195.61\" y1=\"62.01\" x2=\"182.70\" y2=\"44.68\" fill=\"none\"\n",
       "        stroke=\"black\" stroke-width=\"2\" stroke-linecap=\"round\"/>\n",
       "  <line x1=\"150.09\" y1=\"48.53\" x2=\"182.70\" y2=\"44.68\" fill=\"none\"\n",
       "        stroke=\"black\" stroke-width=\"2\" stroke-linecap=\"round\"/>\n",
       "  <text x=\"200.99\" y=\"71.23\" text-anchor=\"middle\" alignment-baseline=\"middle\">\n",
       "    O\n",
       "  </text>\n",
       "  <text x=\"164.03\" y=\"157.41\" text-anchor=\"middle\" alignment-baseline=\"middle\">\n",
       "    N\n",
       "  </text>\n",
       "  <text x=\"164.03\" y=\"157.41\" dx=\"-11\" dy=\"0\" text-anchor=\"middle\"\n",
       "       alignment-baseline=\"middle\">\n",
       "    H\n",
       "  </text>\n",
       "</svg>\n"
      ],
      "text/plain": [
       "#<CL-JUPYTER-USER::SVG-STR>"
      ]
     },
     "execution_count": 21,
     "metadata": {},
     "output_type": "execute_result"
    }
   ],
   "source": [
    "(show firstsk)"
   ]
  },
  {
   "cell_type": "code",
   "execution_count": null,
   "metadata": {},
   "outputs": [],
   "source": [
    "(let ((sketch2d::*show-names* t)) (show (sketch2d:sketch2d (first mols))))"
   ]
  },
  {
   "cell_type": "code",
   "execution_count": null,
   "metadata": {},
   "outputs": [],
   "source": [
    "show (defparameter *sk* (sketch2d:similar-sketch2d (nth 18 mols) firstsk))"
   ]
  },
  {
   "cell_type": "code",
   "execution_count": null,
   "metadata": {},
   "outputs": [],
   "source": [
    "show (defparameter *sk* (sketch2d:similar-sketch2d (third mols) firstsk :accumulate-coordinates t))"
   ]
  },
  {
   "cell_type": "code",
   "execution_count": null,
   "metadata": {},
   "outputs": [],
   "source": [
    "(length mols)"
   ]
  },
  {
   "cell_type": "markdown",
   "metadata": {},
   "source": [
    "The following compares every molecule to every other molecule - it will take a LOOONG time"
   ]
  },
  {
   "cell_type": "code",
   "execution_count": null,
   "metadata": {},
   "outputs": [],
   "source": [
    "(loop for xi below (1- (length mols))\n",
    "      for molx = (elt mols xi)\n",
    "      do (format t \"xi -> ~a~%\" xi)\n",
    "      do (finish-output)\n",
    "      do (loop for yi from (1+ xi) below (length mols)\n",
    "               for moly = (elt mols yi)\n",
    "               do (format t \"   yi -> ~a~%\" yi)\n",
    "               do (finish-output)\n",
    "               do (molecule-graph.max-clique:compare-molecules molx moly)))"
   ]
  },
  {
   "cell_type": "code",
   "execution_count": null,
   "metadata": {},
   "outputs": [],
   "source": [
    "(defparameter *d* (sketch2d::dynamics *sk*))"
   ]
  },
  {
   "cell_type": "code",
   "execution_count": null,
   "metadata": {},
   "outputs": [],
   "source": [
    "show *d*"
   ]
  },
  {
   "cell_type": "code",
   "execution_count": null,
   "metadata": {},
   "outputs": [],
   "source": [
    "(defparameter feps (fep:fep-calculation-from-ligands mols))"
   ]
  },
  {
   "cell_type": "code",
   "execution_count": null,
   "metadata": {},
   "outputs": [],
   "source": [
    "(defparameter receptor (load-pdb \"eg5/3l9h_prepared.pdb\"))"
   ]
  },
  {
   "cell_type": "code",
   "execution_count": null,
   "metadata": {},
   "outputs": [],
   "source": [
    ";; For some reason the waters in receptor have residue name 'cando-user::tp3\n",
    ";;  and they need to be :wat\n",
    "(let ((changed 0))\n",
    "  (cando:do-residues (res receptor)\n",
    "    (when (eq (chem:get-name res) 'cando-user::tp3)\n",
    "      (incf changed)\n",
    "      (chem:set-name res :wat)))\n",
    "  (format t \"Changed ~d residue names from 'cando-user::tp3 to :wat~%\" changed))"
   ]
  },
  {
   "cell_type": "code",
   "execution_count": null,
   "metadata": {},
   "outputs": [],
   "source": [
    "(push receptor (fep:receptors feps))"
   ]
  },
  {
   "cell_type": "code",
   "execution_count": null,
   "metadata": {},
   "outputs": [],
   "source": [
    "(fep:build-job-nodes feps)"
   ]
  },
  {
   "cell_type": "code",
   "execution_count": null,
   "metadata": {},
   "outputs": [],
   "source": [
    "(fep:connect-job-nodes feps '((:chembl1082248 :chembl1083517)\n",
    "                              (:chembl1082248 :chembl1084143)\n",
    "                              #+(or)(:chembl1088740 :chembl1093088)))"
   ]
  },
  {
   "cell_type": "code",
   "execution_count": null,
   "metadata": {},
   "outputs": [],
   "source": [
    "(fep:check-calculation-atom-types feps)"
   ]
  },
  {
   "cell_type": "code",
   "execution_count": null,
   "metadata": {},
   "outputs": [],
   "source": [
    "(let* ((*default-pathname-defaults* (merge-pathnames #P\"cando-fep-benchmarks/eg5/full/\"))\n",
    "       (worklist\n",
    "         (progn\n",
    "           (format t \"generate-jobs to *default-pathname-defaults* -> ~s~%\" *default-pathname-defaults*)\n",
    "           (fep:generate-jobs feps))))\n",
    "  (with-open-file (fout #P\"jobs/conf.sh\" :direction :output :if-exists :supersede)\n",
    "    (format fout \"pmemd_cuda=pmemd.cuda\n",
    "execute_cpu_local=0\n",
    "execute_gpu_local=0\n",
    "execute_lisp_local=0\n",
    "worker=schando\n",
    "distributor=s103.thirdlaw.tech\n",
    "lisp_jobs_only_on=172.234.2.1\n",
    "\"))\n",
    "  (with-open-file (sout \"/tmp/eg5.dot\" :direction :output)\n",
    "    (fepdot:draw-graph-stream (list worklist) sout))\n",
    "  )"
   ]
  }
 ],
 "metadata": {
  "kernelspec": {
   "display_name": "cando",
   "language": "lisp",
   "name": "cando"
  },
  "language_info": {
   "codemirror_mode": "text/x-common-lisp",
   "file_extension": ".lisp",
   "mimetype": "text/x-common-lisp",
   "name": "common-lisp",
   "pygments_lexer": "common-lisp",
   "version": "X3J13"
  }
 },
 "nbformat": 4,
 "nbformat_minor": 2
}
