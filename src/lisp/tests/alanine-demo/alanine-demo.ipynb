{
 "cells": [
  {
   "cell_type": "code",
   "execution_count": 1,
   "metadata": {},
   "outputs": [
    {
     "data": {
      "text/plain": [
       "0"
      ]
     },
     "execution_count": 1,
     "metadata": {},
     "output_type": "execute_result"
    }
   ],
   "source": [
    "(ext:chdir \"~/Development/clasp/extensions/cando/src/lisp/tests/alanine-demo/\" t)"
   ]
  },
  {
   "cell_type": "code",
   "execution_count": 2,
   "metadata": {},
   "outputs": [
    {
     "name": "stdout",
     "output_type": "stream",
     "text": [
      "swank-loader -> /Users/tuj24515/Development/slime/swank-loader.lisp\n"
     ]
    },
    {
     "data": {
      "text/plain": [
       "T"
      ]
     },
     "execution_count": 2,
     "metadata": {},
     "output_type": "execute_result"
    }
   ],
   "source": [
    "(start-swank)"
   ]
  },
  {
   "cell_type": "code",
   "execution_count": 3,
   "metadata": {},
   "outputs": [
    {
     "data": {
      "text/plain": [
       "(\"/Users/tuj24515/Development/amber16/dat/leap/lib/\")"
      ]
     },
     "execution_count": 3,
     "metadata": {},
     "output_type": "execute_result"
    }
   ],
   "source": [
    "(leap.core:add-path \"/Users/tuj24515/Development/amber16/dat/leap/lib/\")"
   ]
  },
  {
   "cell_type": "code",
   "execution_count": 4,
   "metadata": {},
   "outputs": [
    {
     "data": {
      "text/plain": [
       "*CHEMAGG*"
      ]
     },
     "execution_count": 4,
     "metadata": {},
     "output_type": "execute_result"
    }
   ],
   "source": [
    "(defparameter *chemagg* (cando:load-chemdraw-aggregate \"alanine2.cdxml\"))"
   ]
  },
  {
   "cell_type": "code",
   "execution_count": 5,
   "metadata": {
    "scrolled": true
   },
   "outputs": [
    {
     "data": {
      "application/vnd.jupyter.widget-view+json": {
       "model_id": "5D6B6115-EF22-4D8C-8202-0EC86C9A78D7",
       "version_major": 2,
       "version_minor": 0
      },
      "text/plain": [
       "A Jupyter Widget"
      ]
     },
     "execution_count": 5,
     "metadata": {},
     "output_type": "execute_result"
    }
   ],
   "source": [
    "(nglv::show-aggregate *chemagg*)"
   ]
  },
  {
   "cell_type": "code",
   "execution_count": 6,
   "metadata": {},
   "outputs": [
    {
     "data": {
      "text/plain": [
       "*STEREOCENTERS*"
      ]
     },
     "execution_count": 6,
     "metadata": {},
     "output_type": "execute_result"
    }
   ],
   "source": [
    "(defparameter *stereocenters* (cando:gather-stereocenters *chemagg*))"
   ]
  },
  {
   "cell_type": "code",
   "execution_count": 7,
   "metadata": {},
   "outputs": [
    {
     "data": {
      "text/plain": [
       "NIL"
      ]
     },
     "execution_count": 7,
     "metadata": {},
     "output_type": "execute_result"
    }
   ],
   "source": [
    "(cando:set-stereoisomer-func *stereocenters* (lambda (c) :R))"
   ]
  },
  {
   "cell_type": "code",
   "execution_count": 8,
   "metadata": {},
   "outputs": [
    {
     "data": {
      "text/plain": [
       "NIL"
      ]
     },
     "execution_count": 8,
     "metadata": {},
     "output_type": "execute_result"
    }
   ],
   "source": [
    "(chem:set-property *chemagg* :solvent-box '(50.0 50.0 50.0))"
   ]
  },
  {
   "cell_type": "code",
   "execution_count": 9,
   "metadata": {},
   "outputs": [
    {
     "name": "stdout",
     "output_type": "stream",
     "text": [
      "Saving matter to /Users/tuj24515/Development/clasp/extensions/cando/src/lisp/tests/alanine-demo/alanine2.mol2\n",
      "energy-nonbond -> #<ENERGY-NONBOND >\n",
      "ffnonbond-db -> #<FFNONBOND-DB @0x118444dc8>\n",
      "type1 35 type2 35\n",
      "type1 35 type2 3\n",
      "type1 35 type2 18\n",
      "type1 35 type2 25\n",
      "type1 35 type2 48\n",
      "type1 35 type2 0\n",
      "type1 35 type2 24\n",
      "type1 3 type2 3\n",
      "type1 3 type2 18\n",
      "type1 3 type2 25\n",
      "type1 3 type2 48\n",
      "type1 3 type2 0\n",
      "type1 3 type2 24\n",
      "type1 18 type2 18\n",
      "type1 18 type2 25\n",
      "type1 18 type2 48\n",
      "type1 18 type2 0\n",
      "type1 18 type2 24\n",
      "type1 25 type2 25\n",
      "type1 25 type2 48\n",
      "type1 25 type2 0\n",
      "type1 25 type2 24\n",
      "type1 48 type2 48\n",
      "type1 48 type2 0\n",
      "type1 48 type2 24\n",
      "type1 0 type2 0\n",
      "type1 0 type2 24\n",
      "type1 24 type2 24\n",
      "======= Starting Steepest Descent Minimizer\n",
      "---Stage-Seconds--Step-----Alpha---Dir-------------Energy-----------RMSforce\n",
      " minSDnP       0     1  0.000000   0.0              0.000         210610.893\n",
      " minSDnP       0     2  0.000344   0.0       91031495.382          56920.556\n",
      " minSDnP       0     3  0.000409   0.0       47170002.842          35023.339\n",
      " minSDnP       0     4  0.000386   0.0       31517615.860          25601.556\n",
      " minSDnP       0     5  0.000431   0.0       22220012.567          21655.503\n",
      " minSDnP       0     6  0.000392   0.0       16155562.539          16821.508\n",
      " minSDnP       0     7  0.000440   0.0       12039577.087          14816.223\n",
      " minSDnP       0     8  0.000400   0.0        9168312.411          11934.594\n",
      " minSDnP       0     9  0.000449   0.0        7052078.926          10792.048\n",
      " minSDnP       0    10  0.000404   0.0        5500732.456           8899.408\n",
      "---Stage-Seconds--Step-----Alpha---Dir-------------Energy-----------RMSforce\n",
      " minSDnP       0    11  0.000448   0.0        4326553.697           8213.208\n",
      " minSDnP       0    12  0.000405   0.0        3429240.940           6861.800\n",
      " minSDnP       0    13  0.000451   0.0        2726336.632           6396.024\n",
      " minSDnP       0    14  0.000408   0.0        2179367.331           5390.090\n",
      " minSDnP       0    15  0.000454   0.0        1741675.663           5046.393\n",
      "DONE absolute force test:\n",
      "forceRmsMag(4275.750018).LT.forceTolerance(5000.000000)\n",
      "======= Starting Conjugate Gradient Minimizer\n",
      " minCGnP       0    16  0.000000   0.0              0.000           4275.750\n",
      " minCGnP       0    17  0.000454  43.2        1125375.034           4010.516\n",
      " minCGnP       0    18  0.002034  31.2          60631.517           2759.209\n",
      " minCGnP       0    19  0.000087  28.2          43674.848           1359.296\n",
      " minCGnP       0    20  0.000042  58.5          41110.925           1841.913\n",
      "---Stage-Seconds--Step-----Alpha---Dir-------------Energy-----------RMSforce\n",
      " minCGnP       0    21  0.000057  56.5          35390.451           1509.713\n",
      " minCGnP       0    22  0.000125  43.3          30371.990           1183.963\n",
      " minCGnP       0    23  0.000078  43.9          28217.588           1096.108\n",
      " minCGnP       0    24  0.000118  39.4          25204.753            699.494\n",
      " minCGnP       0    25  0.000296  31.9          21617.344            499.432\n",
      " minCGnP       0    26  0.000281  42.6          19893.371            389.343\n",
      " minCGnP       0    27  0.000276  61.7          18724.914            619.882\n",
      " minCGnP       0    28  0.000166  34.3          17658.279            405.372\n",
      " minCGnP       0    29  0.000540  48.5          14564.995            340.353\n",
      " minCGnP       0    30  0.000331  54.9          13003.883            355.164\n",
      "---Stage-Seconds--Step-----Alpha---Dir-------------Energy-----------RMSforce\n",
      " minCGnP       0    31  0.000437  65.9          11067.291            481.926\n",
      " minCGnP       0    32  0.000266  68.0           9625.579            532.837\n",
      " minCGnP       0    33  0.000043  76.1           9215.054            941.462\n",
      " minCGnP       0    34  0.000066  62.6           7692.390            613.056\n",
      " minCGnP       0    35  0.000253  42.9           6048.997            242.267\n",
      " minCGnP       0    36  0.000657  53.0           4853.168            206.307\n",
      " minCGnP       0    37  0.000540  77.1           3950.071            549.018\n",
      " minCGnP       0    38  0.000029  34.1           3672.512            186.349\n",
      " minCGnP       0    39  0.000614  50.8           3200.793            142.154\n",
      " minCGnP       0    40  0.000790  51.4           2670.133            116.198\n",
      "---Stage-Seconds--Step-----Alpha---Dir-------------Energy-----------RMSforce\n",
      " minCGnP       0    41  0.001329  64.7           2083.672            153.348\n",
      " minCGnP       0    42  0.001040  64.9           1273.816            138.717\n",
      " minCGnP       0    43  0.000752  59.3            796.007            105.186\n",
      " minCGnP       0    44  0.000668  53.6            552.712             72.881\n",
      " minCGnP       0    45  0.000764  47.8            419.440             48.710\n",
      " minCGnP       0    46  0.000862  54.1            351.395             45.530\n",
      " minCGnP       0    47  0.000853  56.0            292.053             41.860\n",
      " minCGnP       0    48  0.001047  58.1            230.965             42.011\n",
      " minCGnP       0    49  0.000955  61.3            175.196             40.182\n",
      " minCGnP       0    50  0.000721  57.6            136.912             29.196\n",
      "---Stage-Seconds--Step-----Alpha---Dir-------------Energy-----------RMSforce\n",
      " minCGnP       0    51  0.001042  60.0            107.152             27.107\n",
      " minCGnP       0    52  0.000691  58.6             90.158             23.862\n",
      " minCGnP       0    53  0.001158  62.2             68.524             24.597\n",
      " minCGnP       0    54  0.000837  62.6             51.838             21.651\n",
      " minCGnP       0    55  0.000769  56.6             39.801             15.844\n",
      " minCGnP       0    56  0.000767  55.3             33.491             12.697\n",
      " minCGnP       0    57  0.000859  56.8             28.936             10.584\n",
      " minCGnP       0    58  0.000749  55.9             26.151              8.643\n",
      " minCGnP       0    59  0.000834  53.3             24.103              6.465\n",
      " minCGnP       0    60  0.000954  62.6             22.785              7.481\n",
      "---Stage-Seconds--Step-----Alpha---Dir-------------Energy-----------RMSforce\n",
      " minCGnP       0    61  0.001008  65.0             20.934              7.366\n",
      " minCGnP       0    62  0.001215  66.6             18.759              7.001\n",
      " minCGnP       0    63  0.000666  65.0             17.678              6.073\n",
      " minCGnP       0    64  0.001086  65.9             16.358              5.855\n",
      " minCGnP       0    65  0.001189  71.0             15.022              6.822\n",
      " minCGnP       0    66  0.000694  65.7             13.945              4.989\n",
      " minCGnP       0    67  0.000882  62.7             13.219              4.130\n",
      " minCGnP       0    68  0.000801  64.3             12.770              3.923\n",
      " minCGnP       0    69  0.001018  66.9             12.253              3.903\n",
      " minCGnP       0    70  0.000901  65.6             11.800              3.349\n",
      "---Stage-Seconds--Step-----Alpha---Dir-------------Energy-----------RMSforce\n",
      " minCGnP       0    71  0.000804  64.7             11.502              2.941\n",
      " minCGnP       0    72  0.000861  65.0             11.256              2.718\n",
      " minCGnP       0    73  0.000932  63.5             11.029              2.335\n",
      " minCGnP       0    74  0.000771  62.7             10.890              2.017\n",
      " minCGnP       0    75  0.000780  60.2             10.785              1.613\n",
      " minCGnP       0    76  0.001182  65.5             10.684              1.754\n",
      " minCGnP       0    77  0.000738  64.8             10.609              1.556\n",
      " minCGnP       0    78  0.001000  62.5             10.529              1.272\n",
      " minCGnP       0    79  0.000898  66.0             10.481              1.315\n",
      " minCGnP       0    80  0.000845  65.2             10.433              1.156\n",
      "---Stage-Seconds--Step-----Alpha---Dir-------------Energy-----------RMSforce\n",
      " minCGnP       0    81  0.001092  68.6             10.384              1.244\n",
      " minCGnP       0    82  0.000970   0.0             10.335              1.267\n",
      " minCGnP       0    83  0.000479  29.5             10.309              0.717\n",
      " minCGnP       0    84  0.000985  50.5             10.293              0.758\n",
      " minCGnP       0    85  0.002265  54.4             10.250              0.673\n",
      " minCGnP       0    86  0.002118  69.8             10.218              1.068\n",
      " minCGnP       0    87  0.001067  68.9             10.178              0.955\n",
      " minCGnP       0    88  0.000880  69.0             10.151              0.895\n",
      " minCGnP       0    89  0.001702  73.5             10.106              1.086\n",
      " minCGnP       0    90  0.001995  77.8             10.029              1.425\n",
      "---Stage-Seconds--Step-----Alpha---Dir-------------Energy-----------RMSforce\n",
      " minCGnP       0    91  0.001044  73.9              9.959              1.029\n",
      " minCGnP       0    92  0.002114  77.0              9.885              1.241\n",
      " minCGnP       0    93  0.001192  73.8              9.825              0.950\n",
      " minCGnP       0    94  0.001687  79.3              9.774              1.401\n",
      " minCGnP       0    95  0.001601  78.8              9.670              1.372\n",
      " minCGnP       0    96  0.000835  75.9              9.618              1.064\n",
      " minCGnP       0    97  0.001025  78.6              9.580              1.284\n",
      " minCGnP       0    98  0.001875  77.4              9.479              1.102\n",
      " minCGnP       0    99  0.001271  77.7              9.428              1.092\n",
      " minCGnP       0   100  0.001719  78.0              9.360              1.123\n",
      "---Stage-Seconds--Step-----Alpha---Dir-------------Energy-----------RMSforce\n",
      " minCGnP       0   101  0.001116  79.7              9.314              1.309\n",
      " minCGnP       0   102  0.001169  81.0              9.248              1.486\n",
      " minCGnP       0   103  0.001429  79.3              9.143              1.219\n",
      " minCGnP       0   104  0.001921  83.3              9.049              1.910\n",
      " minCGnP       0   105  0.001270  82.4              8.895              1.664\n",
      " minCGnP       0   106  0.000799  81.0              8.822              1.374\n",
      " minCGnP       0   107  0.001066  81.3              8.756              1.382\n",
      " minCGnP       0   108  0.001532  79.5              8.660              1.134\n",
      " minCGnP       0   109  0.001519  79.0              8.595              1.043\n",
      " minCGnP       0   110  0.000773  77.8              8.568              0.916\n",
      "---Stage-Seconds--Step-----Alpha---Dir-------------Energy-----------RMSforce\n",
      " minCGnP       0   111  0.001122  77.6              8.537              0.868\n",
      " minCGnP       0   112  0.001195  72.1              8.507              0.574\n",
      " minCGnP       0   113  0.001509  75.9              8.490              0.703\n",
      " minCGnP       0   114  0.002342  77.2              8.452              0.750\n",
      " minCGnP       0   115  0.000686  75.7              8.440              0.649\n",
      " minCGnP       0   116  0.001491  77.2              8.419              0.710\n",
      " minCGnP       0   117  0.001271  73.1              8.398              0.511\n",
      " minCGnP       0   118  0.001896  80.1              8.381              0.847\n",
      " minCGnP       0   119  0.001448  80.8              8.347              0.889\n",
      " minCGnP       0   120  0.001004  81.2              8.321              0.918\n",
      "---Stage-Seconds--Step-----Alpha---Dir-------------Energy-----------RMSforce\n",
      " minCGnP       0   121  0.001152  81.5              8.289              0.981\n",
      " minCGnP       0   122  0.001417  79.1              8.243              0.843\n",
      " minCGnP       0   123  0.001754  81.6              8.202              1.088\n",
      " minCGnP       0   124  0.001110  79.6              8.159              0.794\n",
      " minCGnP       0   125  0.000726  77.6              8.144              0.630\n",
      " minCGnP       0   126  0.001330  79.5              8.127              0.734\n",
      " minCGnP       0   127  0.001080  76.7              8.107              0.575\n",
      " minCGnP       0   128  0.001150  76.5              8.095              0.554\n",
      " minCGnP       0   129  0.001426  77.7              8.080              0.593\n",
      " minCGnP       0   130  0.000970  79.2              8.069              0.666\n",
      "---Stage-Seconds--Step-----Alpha---Dir-------------Energy-----------RMSforce\n",
      " minCGnP       0   131  0.001296  79.6              8.050              0.679\n",
      " minCGnP       0   132  0.002639  82.5              8.010              0.923\n",
      " minCGnP       0   133  0.001156  81.8              7.978              0.767\n",
      " minCGnP       0   134  0.000822  80.5              7.962              0.649\n",
      " minCGnP       0   135  0.001161  80.8              7.946              0.658\n",
      "DONE absolute force test:\n",
      "forceRmsMag(0.486855).LT.forceTolerance(0.500000)\n",
      "======= Starting Steepest Descent Minimizer\n",
      "DONE absolute force test:\n",
      "forceRmsMag(18.803843).LT.forceTolerance(5000.000000)\n",
      "======= Starting Conjugate Gradient Minimizer\n",
      " minCGnP       0   136  0.000000   0.0              0.000             18.804\n",
      " minCGnP       0   137  0.000740  14.4             25.271              4.819\n",
      " minCGnP       0   138  0.000854  31.9             24.623              2.812\n",
      " minCGnP       0   139  0.000900  44.9             24.388              2.335\n",
      " minCGnP       0   140  0.000735  50.4             24.256              2.012\n",
      "---Stage-Seconds--Step-----Alpha---Dir-------------Energy-----------RMSforce\n",
      " minCGnP       0   141  0.002165  60.9             23.967              2.296\n",
      " minCGnP       0   142  0.000768  54.9             23.834              1.567\n",
      " minCGnP       0   143  0.001102  57.2             23.744              1.396\n",
      " minCGnP       0   144  0.001453  63.9             23.651              1.542\n",
      " minCGnP       0   145  0.000698  59.0             23.596              1.125\n",
      " minCGnP       0   146  0.001120  58.4             23.549              0.945\n",
      " minCGnP       0   147  0.001032  52.0             23.519              0.634\n",
      " minCGnP       0   148  0.001498  65.0             23.499              0.837\n",
      " minCGnP       0   149  0.000830  62.1             23.480              0.664\n",
      " minCGnP       0   150  0.000910  58.5             23.467              0.506\n",
      "---Stage-Seconds--Step-----Alpha---Dir-------------Energy-----------RMSforce\n",
      " minCGnP       0   151  0.002789  70.4             23.443              0.743\n",
      " minCGnP       0   152  0.001092  70.7             23.423              0.719\n",
      " minCGnP       0   153  0.001237  74.2             23.402              0.842\n",
      " minCGnP       0   154  0.001430  78.5             23.369              1.117\n",
      " minCGnP       0   155  0.000969  76.0             23.328              0.898\n",
      " minCGnP       0   156  0.001376  73.4             23.292              0.740\n",
      " minCGnP       0   157  0.002118  79.4             23.254              1.118\n",
      " minCGnP       0   158  0.000950  77.1             23.215              0.879\n",
      " minCGnP       0   159  0.001284  80.3             23.182              1.144\n",
      " minCGnP       0   160  0.001325  81.6             23.124              1.296\n",
      "---Stage-Seconds--Step-----Alpha---Dir-------------Energy-----------RMSforce\n",
      " minCGnP       0   161  0.000885  76.7             23.075              0.886\n",
      " minCGnP       0   162  0.001437  77.3             23.038              0.906\n",
      " minCGnP       0   163  0.001200  78.3             23.006              0.942\n",
      " minCGnP       0   164  0.000919  79.1             22.979              0.990\n",
      " minCGnP       0   165  0.001469  79.4             22.931              1.015\n",
      " minCGnP       0   166  0.001493  78.5             22.880              0.927\n",
      " minCGnP       0   167  0.000674  74.2             22.861              0.662\n",
      " minCGnP       0   168  0.000905  73.3             22.848              0.601\n",
      " minCGnP       0   169  0.001556  76.2             22.829              0.694\n",
      " minCGnP       0   170  0.000864  72.3             22.816              0.510\n",
      "---Stage-Seconds--Step-----Alpha---Dir-------------Energy-----------RMSforce\n",
      " minCGnP       0   171  0.002059  76.6             22.798              0.654\n",
      " minCGnP       0   172  0.000820  75.4             22.786              0.591\n",
      " minCGnP       0   173  0.000983  74.6             22.775              0.541\n",
      " minCGnP       0   174  0.001558  76.8             22.760              0.604\n",
      " minCGnP       0   175  0.001115  75.5             22.747              0.531\n",
      "DONE absolute force test:\n",
      "forceRmsMag(0.368277).LT.forceTolerance(0.500000)\n"
     ]
    },
    {
     "name": "stderr",
     "output_type": "stream",
     "text": [
      "SIMPLE-WARNING: \n",
      "Warning!  Skipping 10-12 hbond\n",
      "SIMPLE-WARNING: \n",
      "Warning!  Skipping force field atom equivalences\n"
     ]
    },
    {
     "data": {
      "text/plain": [
       "#<ENERGY-FUNCTION >"
      ]
     },
     "execution_count": 9,
     "metadata": {},
     "output_type": "execute_result"
    }
   ],
   "source": [
    "(cando:save-mol2 *chemagg* \"alanine2.mol2\")\n",
    "(energy::setup-gaff)\n",
    "(cando:jostle *chemagg*)\n",
    "(energy:minimize *chemagg*)"
   ]
  },
  {
   "cell_type": "code",
   "execution_count": 29,
   "metadata": {
    "scrolled": true
   },
   "outputs": [
    {
     "data": {
      "application/vnd.jupyter.widget-view+json": {
       "model_id": "A0B0EE6B-C614-4F7F-90FD-FEE5DB0CCF39",
       "version_major": 2,
       "version_minor": 0
      },
      "text/plain": [
       "A Jupyter Widget"
      ]
     },
     "execution_count": 29,
     "metadata": {},
     "output_type": "execute_result"
    }
   ],
   "source": [
    "(nglv::show-aggregate *chemagg*)"
   ]
  },
  {
   "cell_type": "code",
   "execution_count": 10,
   "metadata": {},
   "outputs": [
    {
     "name": "stdout",
     "output_type": "stream",
     "text": [
      "energy-nonbond -> #<ENERGY-NONBOND >\n",
      "ffnonbond-db -> #<FFNONBOND-DB @0x118444dc8>\n",
      "type1 35 type2 35\n",
      "type1 35 type2 3\n",
      "type1 35 type2 18\n",
      "type1 35 type2 25\n",
      "type1 35 type2 48\n",
      "type1 35 type2 0\n",
      "type1 35 type2 24\n",
      "type1 3 type2 3\n",
      "type1 3 type2 18\n",
      "type1 3 type2 25\n",
      "type1 3 type2 48\n",
      "type1 3 type2 0\n",
      "type1 3 type2 24\n",
      "type1 18 type2 18\n",
      "type1 18 type2 25\n",
      "type1 18 type2 48\n",
      "type1 18 type2 0\n",
      "type1 18 type2 24\n",
      "type1 25 type2 25\n",
      "type1 25 type2 48\n",
      "type1 25 type2 0\n",
      "type1 25 type2 24\n",
      "type1 48 type2 48\n",
      "type1 48 type2 0\n",
      "type1 48 type2 24\n",
      "type1 0 type2 0\n",
      "type1 0 type2 24\n",
      "type1 24 type2 24\n",
      "Number of stretch terms -> 21\n",
      "kb-vector #(478.2d0 330.6d0 335.9d0 335.9d0 335.9d0 410.2d0 648.0d0 328.3d0\n",
      "            337.29999999999995d0 337.29999999999995d0 337.29999999999995d0\n",
      "            478.2d0 330.6d0 328.3d0 335.9d0 303.1d0 337.29999999999995d0\n",
      "            337.29999999999995d0 337.29999999999995d0 648.0d0 410.2d0)\n",
      "r0-vector #(1.3450000000000002d0 1.46d0 1.093d0 1.093d0 1.093d0 1.009d0 1.214d0\n",
      "            1.508d0 1.092d0 1.092d0 1.092d0 1.3450000000000002d0 1.46d0 1.508d0\n",
      "            1.093d0 1.535d0 1.092d0 1.092d0 1.092d0 1.214d0 1.009d0)\n",
      "i1-vector #(0 3 6 9 12 15 18 21 24 24 24 36 39 39 42 45 45 45 45 51 63)\n",
      "i2-vector #(48 0 3 3 3 0 21 24 27 30 33 21 36 48 39 39 54 57 60 48 36)\n",
      "atom1-vector #(#<ATOM :NH/:N> #<ATOM :CH3/:C> #<ATOM :HH31/:H> #<ATOM :HH32/:H>\n",
      "               #<ATOM :HH33/:H> #<ATOM :HH/:H> #<ATOM :O/:O> #<ATOM :C/:C>\n",
      "               #<ATOM :CH3/:C> #<ATOM :CH3/:C> #<ATOM :CH3/:C> #<ATOM :NH/:N>\n",
      "               #<ATOM :C/:C> #<ATOM :C/:C> #<ATOM :H/:H> #<ATOM :CH3/:C>\n",
      "               #<ATOM :CH3/:C> #<ATOM :CH3/:C> #<ATOM :CH3/:C> #<ATOM :O/:O>\n",
      "               #<ATOM :HH/:H>)\n",
      "atom2-vector #(#<ATOM :C/:C> #<ATOM :NH/:N> #<ATOM :CH3/:C> #<ATOM :CH3/:C>\n",
      "               #<ATOM :CH3/:C> #<ATOM :NH/:N> #<ATOM :C/:C> #<ATOM :CH3/:C>\n",
      "               #<ATOM :HH31/:H> #<ATOM :HH32/:H> #<ATOM :HH33/:H> #<ATOM :C/:C>\n",
      "               #<ATOM :NH/:N> #<ATOM :C/:C> #<ATOM :C/:C> #<ATOM :C/:C>\n",
      "               #<ATOM :HH31/:H> #<ATOM :HH32/:H> #<ATOM :HH33/:H> #<ATOM :C/:C>\n",
      "               #<ATOM :NH/:N>)\n",
      "atom1: #<ATOM :NH/:N> atom2: #<ATOM :C/:C> i1: 0 i2: 48\n",
      " atom1: #<ATOM :CH3/:C> atom2: #<ATOM :NH/:N> i1: 3 i2: 0\n",
      " atom1: #<ATOM :HH31/:H> atom2: #<ATOM :CH3/:C> i1: 6 i2: 3\n",
      " atom1: #<ATOM :HH32/:H> atom2: #<ATOM :CH3/:C> i1: 9 i2: 3\n",
      " atom1: #<ATOM :HH33/:H> atom2: #<ATOM :CH3/:C> i1: 12 i2: 3\n",
      " atom1: #<ATOM :HH/:H> atom2: #<ATOM :NH/:N> i1: 15 i2: 0\n",
      " atom1: #<ATOM :O/:O> atom2: #<ATOM :C/:C> i1: 18 i2: 21\n",
      " atom1: #<ATOM :C/:C> atom2: #<ATOM :CH3/:C> i1: 21 i2: 24\n",
      " atom1: #<ATOM :CH3/:C> atom2: #<ATOM :HH31/:H> i1: 24 i2: 27\n",
      " atom1: #<ATOM :CH3/:C> atom2: #<ATOM :HH32/:H> i1: 24 i2: 30\n",
      " atom1: #<ATOM :CH3/:C> atom2: #<ATOM :HH33/:H> i1: 24 i2: 33\n",
      " atom1: #<ATOM :NH/:N> atom2: #<ATOM :C/:C> i1: 36 i2: 21\n",
      " atom1: #<ATOM :C/:C> atom2: #<ATOM :NH/:N> i1: 39 i2: 36\n",
      " atom1: #<ATOM :C/:C> atom2: #<ATOM :C/:C> i1: 39 i2: 48\n",
      " atom1: #<ATOM :H/:H> atom2: #<ATOM :C/:C> i1: 42 i2: 39\n",
      " atom1: #<ATOM :CH3/:C> atom2: #<ATOM :C/:C> i1: 45 i2: 39\n",
      " atom1: #<ATOM :CH3/:C> atom2: #<ATOM :HH31/:H> i1: 45 i2: 54\n",
      " atom1: #<ATOM :CH3/:C> atom2: #<ATOM :HH32/:H> i1: 45 i2: 57\n",
      " atom1: #<ATOM :CH3/:C> atom2: #<ATOM :HH33/:H> i1: 45 i2: 60\n",
      " atom1: #<ATOM :O/:O> atom2: #<ATOM :C/:C> i1: 51 i2: 48\n",
      " atom1: #<ATOM :HH/:H> atom2: #<ATOM :NH/:N> i1: 63 i2: 36\n",
      " atom1: #<ATOM :NH/:N> atom2: #<ATOM :C/:C> atom3: #<ATOM :O/:O>  key: n-c-o\n",
      " atom1: #<ATOM :NH/:N> atom2: #<ATOM :CH3/:C> atom3: #<ATOM :HH31/:H>  key: h1-c3-n\n",
      " atom1: #<ATOM :NH/:N> atom2: #<ATOM :CH3/:C> atom3: #<ATOM :HH32/:H>  key: h1-c3-n\n",
      " atom1: #<ATOM :NH/:N> atom2: #<ATOM :CH3/:C> atom3: #<ATOM :HH33/:H>  key: h1-c3-n\n",
      " atom1: #<ATOM :CH3/:C> atom2: #<ATOM :NH/:N> atom3: #<ATOM :HH/:H>  key: c3-n-hn\n",
      " atom1: #<ATOM :HH31/:H> atom2: #<ATOM :CH3/:C> atom3: #<ATOM :HH32/:H>  key: h1-c3-h1\n",
      " atom1: #<ATOM :HH31/:H> atom2: #<ATOM :CH3/:C> atom3: #<ATOM :HH33/:H>  key: h1-c3-h1\n",
      " atom1: #<ATOM :HH32/:H> atom2: #<ATOM :CH3/:C> atom3: #<ATOM :HH33/:H>  key: h1-c3-h1\n",
      " atom1: #<ATOM :C/:C> atom2: #<ATOM :CH3/:C> atom3: #<ATOM :HH31/:H>  key: c-c3-hc\n",
      " atom1: #<ATOM :C/:C> atom2: #<ATOM :CH3/:C> atom3: #<ATOM :HH32/:H>  key: c-c3-hc\n",
      " atom1: #<ATOM :C/:C> atom2: #<ATOM :CH3/:C> atom3: #<ATOM :HH33/:H>  key: c-c3-hc\n",
      " atom1: #<ATOM :C/:C> atom2: #<ATOM :NH/:N> atom3: #<ATOM :C/:C>  key: c-n-c3\n",
      " atom1: #<ATOM :C/:C> atom2: #<ATOM :NH/:N> atom3: #<ATOM :HH/:H>  key: c-n-hn\n",
      " atom1: #<ATOM :CH3/:C> atom2: #<ATOM :C/:C> atom3: #<ATOM :NH/:N>  key: c3-c-n\n",
      " atom1: #<ATOM :CH3/:C> atom2: #<ATOM :C/:C> atom3: #<ATOM :O/:O>  key: c3-c-o\n",
      " atom1: #<ATOM :HH31/:H> atom2: #<ATOM :CH3/:C> atom3: #<ATOM :HH32/:H>  key: hc-c3-hc\n",
      " atom1: #<ATOM :HH31/:H> atom2: #<ATOM :CH3/:C> atom3: #<ATOM :HH33/:H>  key: hc-c3-hc\n",
      " atom1: #<ATOM :HH32/:H> atom2: #<ATOM :CH3/:C> atom3: #<ATOM :HH33/:H>  key: hc-c3-hc\n",
      " atom1: #<ATOM :NH/:N> atom2: #<ATOM :C/:C> atom3: #<ATOM :O/:O>  key: n-c-o\n",
      " atom1: #<ATOM :NH/:N> atom2: #<ATOM :C/:C> atom3: #<ATOM :H/:H>  key: h1-c3-n\n",
      " atom1: #<ATOM :NH/:N> atom2: #<ATOM :C/:C> atom3: #<ATOM :CH3/:C>  key: c3-c3-n\n",
      " atom1: #<ATOM :NH/:N> atom2: #<ATOM :C/:C> atom3: #<ATOM :C/:C>  key: c-c3-n\n",
      " atom1: #<ATOM :C/:C> atom2: #<ATOM :NH/:N> atom3: #<ATOM :HH/:H>  key: c3-n-hn\n",
      " atom1: #<ATOM :C/:C> atom2: #<ATOM :CH3/:C> atom3: #<ATOM :HH31/:H>  key: c3-c3-hc\n",
      " atom1: #<ATOM :C/:C> atom2: #<ATOM :CH3/:C> atom3: #<ATOM :HH32/:H>  key: c3-c3-hc\n",
      " atom1: #<ATOM :C/:C> atom2: #<ATOM :CH3/:C> atom3: #<ATOM :HH33/:H>  key: c3-c3-hc\n",
      " atom1: #<ATOM :C/:C> atom2: #<ATOM :C/:C> atom3: #<ATOM :NH/:N>  key: c3-c-n\n",
      " atom1: #<ATOM :C/:C> atom2: #<ATOM :C/:C> atom3: #<ATOM :O/:O>  key: c3-c-o\n",
      " atom1: #<ATOM :H/:H> atom2: #<ATOM :C/:C> atom3: #<ATOM :CH3/:C>  key: c3-c3-h1\n",
      " atom1: #<ATOM :H/:H> atom2: #<ATOM :C/:C> atom3: #<ATOM :C/:C>  key: c-c3-h1\n",
      " atom1: #<ATOM :CH3/:C> atom2: #<ATOM :C/:C> atom3: #<ATOM :C/:C>  key: c-c3-c3\n",
      " atom1: #<ATOM :C/:C> atom2: #<ATOM :NH/:N> atom3: #<ATOM :CH3/:C>  key: c-n-c3\n",
      " atom1: #<ATOM :C/:C> atom2: #<ATOM :NH/:N> atom3: #<ATOM :HH/:H>  key: c-n-hn\n",
      " atom1: #<ATOM :HH31/:H> atom2: #<ATOM :CH3/:C> atom3: #<ATOM :HH32/:H>  key: hc-c3-hc\n",
      " atom1: #<ATOM :HH31/:H> atom2: #<ATOM :CH3/:C> atom3: #<ATOM :HH33/:H>  key: hc-c3-hc\n",
      " atom1: #<ATOM :HH32/:H> atom2: #<ATOM :CH3/:C> atom3: #<ATOM :HH33/:H>  key: hc-c3-hc\n",
      " v-vector #(0.7999999999999999d0 0.08d0 0.7999999999999999d0 0.08d0\n",
      "            0.7999999999999999d0 0.08d0 2.0d0 2.5d0 0.53d0 0.15d0 0.5d0 0.8d0\n",
      "            0.85d0 1.7d0 2.0d0 0.7999999999999999d0 0.08d0\n",
      "            0.06999999999999999d0 0.1d0 2.0d0 2.5d0 1.1d0 10.5d0 1.1d0 10.5d0)\n",
      "in-vector #(1 3 1 3 1 3 1 2 1 3 4 1 2 1 2 1 3 2 4 1 2 2 2 2 2)\n",
      "phase-vector #(0.0d0 3.1415939703583717d0 0.0d0 3.1415939703583717d0 0.0d0\n",
      "               3.1415939703583717d0 0.0d0 3.1415939703583717d0 0.0d0\n",
      "               3.1415939703583717d0 3.1415939703583717d0 0.0d0\n",
      "               3.1415939703583717d0 3.1415939703583717d0 3.1415939703583717d0\n",
      "               0.0d0 3.1415939703583717d0 0.0d0 0.0d0 0.0d0\n",
      "               3.1415939703583717d0 3.1415940000000004d0 3.1415940000000004d0\n",
      "               3.1415940000000004d0 3.1415940000000004d0)\n",
      "i1-vector #(18 18 18 18 18 18 18 18 21 21 21 21 21 36 36 42 42 45 45 51 51 48\n",
      "            24 21 39)\n",
      "i2-vector #(21 21 21 21 21 21 21 21 36 36 36 36 36 39 39 39 39 39 39 48 48 3 36\n",
      "            39 0)\n",
      "i3-vector #(24 24 24 24 24 24 36 36 39 39 39 39 39 48 48 48 48 48 48 0 0 0 21\n",
      "            36 48)\n",
      "i4-vector #(27 27 30 30 33 33 63 63 45 45 45 48 48 0 0 51 51 0 0 15 15 15 18 63\n",
      "            51)\n",
      "proper-vector #(T T T T T T T T T T T T T T T T T T T T T NIL NIL NIL NIL)\n",
      "atom1: #<ATOM :O/:O> atom2: #<ATOM :C/:C> atom3: #<ATOM :CH3/:C> atom4 #<ATOM :HH31/:H> key: p-hc-c3-c-o-1 vi: 0.7999999999999999d0 ini 1 phase 0.0d0\n",
      "  0.7999999999999999d0 1\n",
      " atom1: #<ATOM :O/:O> atom2: #<ATOM :C/:C> atom3: #<ATOM :CH3/:C> atom4 #<ATOM :HH31/:H> key: p-hc-c3-c-o-3 vi: 0.08d0 ini 3 phase 3.1415939703583717d0\n",
      "  0.08d0 3\n",
      " atom1: #<ATOM :O/:O> atom2: #<ATOM :C/:C> atom3: #<ATOM :CH3/:C> atom4 #<ATOM :HH32/:H> key: p-hc-c3-c-o-1 vi: 0.7999999999999999d0 ini 1 phase 0.0d0\n",
      " atom1: #<ATOM :O/:O> atom2: #<ATOM :C/:C> atom3: #<ATOM :CH3/:C> atom4 #<ATOM :HH32/:H> key: p-hc-c3-c-o-3 vi: 0.08d0 ini 3 phase 3.1415939703583717d0\n",
      " atom1: #<ATOM :O/:O> atom2: #<ATOM :C/:C> atom3: #<ATOM :CH3/:C> atom4 #<ATOM :HH33/:H> key: p-hc-c3-c-o-1 vi: 0.7999999999999999d0 ini 1 phase 0.0d0\n",
      " atom1: #<ATOM :O/:O> atom2: #<ATOM :C/:C> atom3: #<ATOM :CH3/:C> atom4 #<ATOM :HH33/:H> key: p-hc-c3-c-o-3 vi: 0.08d0 ini 3 phase 3.1415939703583717d0\n",
      " atom1: #<ATOM :O/:O> atom2: #<ATOM :C/:C> atom3: #<ATOM :NH/:N> atom4 #<ATOM :HH/:H> key: p-hn-n-c-o-1 vi: 2.0d0 ini 1 phase 0.0d0\n",
      "  2.0d0 1\n",
      " atom1: #<ATOM :O/:O> atom2: #<ATOM :C/:C> atom3: #<ATOM :NH/:N> atom4 #<ATOM :HH/:H> key: p-hn-n-c-o-2 vi: 2.5d0 ini 2 phase 3.1415939703583717d0\n",
      "  2.5d0 2\n",
      " atom1: #<ATOM :C/:C> atom2: #<ATOM :NH/:N> atom3: #<ATOM :C/:C> atom4 #<ATOM :CH3/:C> key: p-c-n-c3-c3-1 vi: 0.53d0 ini 1 phase 0.0d0\n",
      "  0.53d0 1\n",
      " atom1: #<ATOM :C/:C> atom2: #<ATOM :NH/:N> atom3: #<ATOM :C/:C> atom4 #<ATOM :CH3/:C> key: p-c-n-c3-c3-3 vi: 0.15d0 ini 3 phase 3.1415939703583717d0\n",
      "  0.15d0 3\n",
      " atom1: #<ATOM :C/:C> atom2: #<ATOM :NH/:N> atom3: #<ATOM :C/:C> atom4 #<ATOM :CH3/:C> key: p-c-n-c3-c3-4 vi: 0.5d0 ini 4 phase 3.1415939703583717d0\n",
      "  0.5d0 4\n",
      " atom1: #<ATOM :C/:C> atom2: #<ATOM :NH/:N> atom3: #<ATOM :C/:C> atom4 #<ATOM :C/:C> key: p-c-c3-n-c-1 vi: 0.8d0 ini 1 phase 0.0d0\n",
      "  0.8d0 1\n",
      " atom1: #<ATOM :C/:C> atom2: #<ATOM :NH/:N> atom3: #<ATOM :C/:C> atom4 #<ATOM :C/:C> key: p-c-c3-n-c-2 vi: 0.85d0 ini 2 phase 3.1415939703583717d0\n",
      "  0.85d0 2\n",
      " atom1: #<ATOM :NH/:N> atom2: #<ATOM :C/:C> atom3: #<ATOM :C/:C> atom4 #<ATOM :NH/:N> key: p-n-c-c3-n-1 vi: 1.7d0 ini 1 phase 3.1415939703583717d0\n",
      "  1.7d0 1\n",
      " atom1: #<ATOM :NH/:N> atom2: #<ATOM :C/:C> atom3: #<ATOM :C/:C> atom4 #<ATOM :NH/:N> key: p-n-c-c3-n-2 vi: 2.0d0 ini 2 phase 3.1415939703583717d0\n",
      "  2.0d0 2\n",
      " atom1: #<ATOM :H/:H> atom2: #<ATOM :C/:C> atom3: #<ATOM :C/:C> atom4 #<ATOM :O/:O> key: p-h1-c3-c-o-1 vi: 0.7999999999999999d0 ini 1 phase 0.0d0\n",
      "  0.7999999999999999d0 1\n",
      " atom1: #<ATOM :H/:H> atom2: #<ATOM :C/:C> atom3: #<ATOM :C/:C> atom4 #<ATOM :O/:O> key: p-h1-c3-c-o-3 vi: 0.08d0 ini 3 phase 3.1415939703583717d0\n",
      "  0.08d0 3\n",
      " atom1: #<ATOM :CH3/:C> atom2: #<ATOM :C/:C> atom3: #<ATOM :C/:C> atom4 #<ATOM :NH/:N> key: p-c3-c3-c-n-2 vi: 0.06999999999999999d0 ini 2 phase 0.0d0\n",
      "  0.06999999999999999d0 2\n",
      " atom1: #<ATOM :CH3/:C> atom2: #<ATOM :C/:C> atom3: #<ATOM :C/:C> atom4 #<ATOM :NH/:N> key: p-c3-c3-c-n-4 vi: 0.1d0 ini 4 phase 0.0d0\n",
      "  0.1d0 4\n",
      " atom1: #<ATOM :O/:O> atom2: #<ATOM :C/:C> atom3: #<ATOM :NH/:N> atom4 #<ATOM :HH/:H> key: p-hn-n-c-o-1 vi: 2.0d0 ini 1 phase 0.0d0\n",
      " atom1: #<ATOM :O/:O> atom2: #<ATOM :C/:C> atom3: #<ATOM :NH/:N> atom4 #<ATOM :HH/:H> key: p-hn-n-c-o-2 vi: 2.5d0 ini 2 phase 3.1415939703583717d0\n",
      " atom1: #<ATOM :C/:C> atom2: #<ATOM :CH3/:C> atom3: #<ATOM :NH/:N> atom4 #<ATOM :HH/:H> key: i-c-c3-n-hn vi: 1.1d0 ini 2 phase 3.1415940000000004d0\n",
      "  1.1d0 2\n",
      " atom1: #<ATOM :CH3/:C> atom2: #<ATOM :NH/:N> atom3: #<ATOM :C/:C> atom4 #<ATOM :O/:O> key: i-c3-n-c-o vi: 10.5d0 ini 2 phase 3.1415940000000004d0\n",
      "  10.5d0 2\n",
      " atom1: #<ATOM :C/:C> atom2: #<ATOM :C/:C> atom3: #<ATOM :NH/:N> atom4 #<ATOM :HH/:H> key: i-c-c3-n-hn vi: 1.1d0 ini 2 phase 3.1415940000000004d0\n",
      " atom1: #<ATOM :C/:C> atom2: #<ATOM :NH/:N> atom3: #<ATOM :C/:C> atom4 #<ATOM :O/:O> key: i-c3-n-c-o vi: 10.5d0 ini 2 phase 3.1415940000000004d0\n",
      " energy-nonbond -> #<ENERGY-NONBOND >\n",
      "ffnonbond-db -> #<FFNONBOND-DB @0x118444dc8>\n",
      "type1 35 type2 35\n",
      "type1 35 type2 3\n",
      "type1 35 type2 18\n",
      "type1 35 type2 25\n",
      "type1 35 type2 48\n",
      "type1 35 type2 0\n",
      "type1 35 type2 24\n",
      "type1 3 type2 3\n",
      "type1 3 type2 18\n",
      "type1 3 type2 25\n",
      "type1 3 type2 48\n",
      "type1 3 type2 0\n",
      "type1 3 type2 24\n",
      "type1 18 type2 18\n",
      "type1 18 type2 25\n",
      "type1 18 type2 48\n",
      "type1 18 type2 0\n",
      "type1 18 type2 24\n",
      "type1 25 type2 25\n",
      "type1 25 type2 48\n",
      "type1 25 type2 0\n",
      "type1 25 type2 24\n",
      "type1 48 type2 48\n",
      "type1 48 type2 0\n",
      "type1 48 type2 24\n",
      "type1 0 type2 0\n",
      "type1 0 type2 24\n",
      "type1 24 type2 24\n"
     ]
    },
    {
     "data": {
      "text/plain": [
       "0"
      ]
     },
     "execution_count": 10,
     "metadata": {},
     "output_type": "execute_result"
    }
   ],
   "source": [
    "(leap.topology:save-amber-parm-format *chemagg* \"chemagg.top\" \"chemagg.crd\" energy::*ff*)"
   ]
  },
  {
   "cell_type": "code",
   "execution_count": 11,
   "metadata": {},
   "outputs": [
    {
     "data": {
      "text/plain": [
       "NIL"
      ]
     },
     "execution_count": 11,
     "metadata": {},
     "output_type": "execute_result"
    }
   ],
   "source": [
    "(load-off \"tip3pfbox.off\")"
   ]
  },
  {
   "cell_type": "code",
   "execution_count": 12,
   "metadata": {},
   "outputs": [
    {
     "data": {
      "application/vnd.jupyter.widget-view+json": {
       "model_id": "316A2085-ADAA-4818-A708-35F98967FED9",
       "version_major": 2,
       "version_minor": 0
      },
      "text/plain": [
       "A Jupyter Widget"
      ]
     },
     "execution_count": 12,
     "metadata": {},
     "output_type": "execute_result"
    }
   ],
   "source": [
    "(nglv::show-aggregate ~tip3pfbox)"
   ]
  },
  {
   "cell_type": "code",
   "execution_count": 14,
   "metadata": {
    "scrolled": true
   },
   "outputs": [
    {
     "name": "stdout",
     "output_type": "stream",
     "text": [
      "LEAP.PDB:LOADPDB  Function\n"
     ]
    },
    {
     "data": {
      "text/plain": [
       "NIL"
      ]
     },
     "execution_count": 14,
     "metadata": {},
     "output_type": "execute_result"
    }
   ],
   "source": [
    "(apropos \"loadpdb\")"
   ]
  },
  {
   "cell_type": "code",
   "execution_count": null,
   "metadata": {
    "collapsed": true
   },
   "outputs": [],
   "source": []
  },
  {
   "cell_type": "code",
   "execution_count": null,
   "metadata": {
    "collapsed": true
   },
   "outputs": [],
   "source": []
  },
  {
   "cell_type": "code",
   "execution_count": null,
   "metadata": {
    "collapsed": true
   },
   "outputs": [],
   "source": []
  },
  {
   "cell_type": "code",
   "execution_count": null,
   "metadata": {
    "collapsed": true
   },
   "outputs": [],
   "source": []
  },
  {
   "cell_type": "code",
   "execution_count": null,
   "metadata": {
    "collapsed": true
   },
   "outputs": [],
   "source": []
  },
  {
   "cell_type": "code",
   "execution_count": 31,
   "metadata": {},
   "outputs": [
    {
     "data": {
      "text/plain": [
       "NIL"
      ]
     },
     "execution_count": 31,
     "metadata": {},
     "output_type": "execute_result"
    }
   ],
   "source": [
    "(defparameter *met* (chem:make-molecule))\n",
    "(defparameter *ace* (chem:make-residue :ACE))\n",
    "(defparameter *ala* (chem:make-residue :ALA))\n",
    "(defparameter *nme* (chem:make-residue :NME))\n",
    "\n",
    "(chem:add-matter *met* *ace*)\n",
    "(chem:add-matter *met* *ala*)\n",
    "(chem:add-matter *met* *nme*)\n",
    "\n",
    "(defparameter *h1* (chem:make-atom :HH31 :H))\n",
    "(defparameter *c1* (chem:make-atom :CH3 :C))\n",
    "(defparameter *h2* (chem:make-atom :HH32 :H))\n",
    "(defparameter *h3* (chem:make-atom :HH33 :H))\n",
    "(defparameter *c2* (chem:make-atom :C :C))\n",
    "(defparameter *o1* (chem:make-atom :O :O))\n",
    "(defparameter *n1* (chem:make-atom :N :N))\n",
    "(defparameter *h4* (chem:make-atom :H :H))\n",
    "(defparameter *c3* (chem:make-atom :CA :C))\n",
    "(defparameter *h5* (chem:make-atom :HA :H))\n",
    "(defparameter *c4* (chem:make-atom :CB :C))\n",
    "(defparameter *h6* (chem:make-atom :HB1 :H))\n",
    "(defparameter *h7* (chem:make-atom :HB2 :H))\n",
    "(defparameter *h8* (chem:make-atom :HB3 :H))\n",
    "(defparameter *c5* (chem:make-atom :C :C))\n",
    "(defparameter *o2* (chem:make-atom :O :O))\n",
    "(defparameter *n2* (chem:make-atom :N :N))\n",
    "(defparameter *h9* (chem:make-atom :H :H))\n",
    "(defparameter *c6* (chem:make-atom :CH3 :C))\n",
    "(defparameter *h10* (chem:make-atom :HH31 :H))\n",
    "(defparameter *h11* (chem:make-atom :HH32 :H))\n",
    "(defparameter *h12* (chem:make-atom :HH33 :H))\n",
    "\n",
    "(chem:add-matter *ace* *h1*)\n",
    "(chem:add-matter *ace* *c1*)\n",
    "(chem:add-matter *ace* *h2*)\n",
    "(chem:add-matter *ace* *h3*)\n",
    "(chem:add-matter *ace* *c2*)\n",
    "(chem:add-matter *ace* *o1*)\n",
    "(chem:add-matter *ala* *n1*)\n",
    "(chem:add-matter *ala* *h4*)\n",
    "(chem:add-matter *ala* *c3*)\n",
    "(chem:add-matter *ala* *h5*)\n",
    "(chem:add-matter *ala* *c4*)\n",
    "(chem:add-matter *ala* *h6*)\n",
    "(chem:add-matter *ala* *h7*)\n",
    "(chem:add-matter *ala* *h8*)\n",
    "(chem:add-matter *ala* *c5*)\n",
    "(chem:add-matter *ala* *o2*)\n",
    "(chem:add-matter *nme* *n2*)\n",
    "(chem:add-matter *nme* *h9*)\n",
    "(chem:add-matter *nme* *c6*)\n",
    "(chem:add-matter *nme* *h10*)\n",
    "(chem:add-matter *nme* *h11*)\n",
    "(chem:add-matter *nme* *h12*)\n",
    "\n",
    "(chem:bond-to *h1* *c1* :single-bond)\n",
    "(chem:bond-to *h2* *c1* :single-bond)\n",
    "(chem:bond-to *h3* *c1* :single-bond)\n",
    "(chem:bond-to *c1* *c2* :single-bond)\n",
    "(chem:bond-to *c2* *o1* :double-bond)\n",
    "(chem:bond-to *c2* *n1* :single-bond)\n",
    "(chem:bond-to *n1* *h4* :single-bond)\n",
    "(chem:bond-to *n1* *c3* :single-bond)\n",
    "(chem:bond-to *c3* *h5* :single-bond)\n",
    "(chem:bond-to *c3* *c4* :single-bond)\n",
    "(chem:bond-to *c4* *h6* :single-bond)\n",
    "(chem:bond-to *c4* *h7* :single-bond)\n",
    "(chem:bond-to *c4* *h8* :single-bond)\n",
    "(chem:bond-to *c3* *c5* :single-bond)\n",
    "(chem:bond-to *c5* *o2* :double-bond)\n",
    "(chem:bond-to *c5* *n2* :single-bond)\n",
    "(chem:bond-to *n2* *h9* :single-bond)\n",
    "(chem:bond-to *n2* *c6* :single-bond)\n",
    "(chem:bond-to *c6* *h10* :single-bond)\n",
    "(chem:bond-to *c6* *h11* :single-bond)\n",
    "(chem:bond-to *c6* *h12* :single-bond)\n",
    "(defparameter *agg* (chem:make-aggregate))\n",
    "(chem:add-matter *agg* *met*)\n",
    "(chem:set-property *agg* :solvent-box '(20.0 30.0 40.0))\n",
    "\n"
   ]
  },
  {
   "cell_type": "code",
   "execution_count": 30,
   "metadata": {
    "scrolled": true
   },
   "outputs": [
    {
     "name": "stdout",
     "output_type": "stream",
     "text": [
      "CHEM::CENTER\n",
      "CHEM::CENTER-NAME\n",
      "CHEM:GEOMETRIC-CENTER  Function\n",
      "CHEM:GET-CONFIGURATION-FOR-CENTER  Function\n",
      "CHEM::NUMBER-OF-CENTERS\n"
     ]
    },
    {
     "data": {
      "text/plain": [
       "NIL"
      ]
     },
     "execution_count": 30,
     "metadata": {},
     "output_type": "execute_result"
    }
   ],
   "source": [
    "(apropos \"center\" :chem)"
   ]
  },
  {
   "cell_type": "code",
   "execution_count": 32,
   "metadata": {},
   "outputs": [
    {
     "data": {
      "text/plain": [
       "[ 106.335 161.046 -0.843269 ]"
      ]
     },
     "execution_count": 32,
     "metadata": {},
     "output_type": "execute_result"
    }
   ],
   "source": [
    "(chem:geometric-center *chemagg*)"
   ]
  },
  {
   "cell_type": "code",
   "execution_count": 32,
   "metadata": {},
   "outputs": [
    {
     "name": "stderr",
     "output_type": "stream",
     "text": [
      "SIMPLE-WARNING: \n",
      "Warning!  Skipping 10-12 hbond\n",
      "SIMPLE-WARNING: \n",
      "Warning!  Skipping force field atom equivalences\n"
     ]
    },
    {
     "data": {
      "text/plain": [
       "#<FORCE-FIELD >"
      ]
     },
     "execution_count": 32,
     "metadata": {},
     "output_type": "execute_result"
    }
   ],
   "source": [
    "(energy::setup-amber)\n"
   ]
  },
  {
   "cell_type": "code",
   "execution_count": 13,
   "metadata": {},
   "outputs": [
    {
     "name": "stdout",
     "output_type": "stream",
     "text": [
      "energy-nonbond -> #<ENERGY-NONBOND >\n",
      "ffnonbond-db -> #<FFNONBOND-DB @0x11ce18a58>\n",
      "type1 24 type2 24\n",
      "type1 24 type2 3\n",
      "type1 24 type2 0\n",
      "type1 24 type2 48\n",
      "type1 24 type2 35\n",
      "type1 24 type2 25\n",
      "type1 24 type2 18\n",
      "type1 3 type2 3\n",
      "type1 3 type2 0\n",
      "type1 3 type2 48\n",
      "type1 3 type2 35\n",
      "type1 3 type2 25\n",
      "type1 3 type2 18\n",
      "type1 0 type2 0\n",
      "type1 0 type2 48\n",
      "type1 0 type2 35\n",
      "type1 0 type2 25\n",
      "type1 0 type2 18\n",
      "type1 48 type2 48\n",
      "type1 48 type2 35\n",
      "type1 48 type2 25\n",
      "type1 48 type2 18\n",
      "type1 35 type2 35\n",
      "type1 35 type2 25\n",
      "type1 35 type2 18\n",
      "type1 25 type2 25\n",
      "type1 25 type2 18\n",
      "type1 18 type2 18\n",
      "======= Starting Steepest Descent Minimizer\n",
      "---Stage-Seconds--Step-----Alpha---Dir-------------Energy-----------RMSforce\n",
      " minSDnP       0     1  0.000000   0.0              0.000           8455.200\n",
      "DONE absolute force test:\n",
      "forceRmsMag(2973.669106).LT.forceTolerance(5000.000000)\n",
      "======= Starting Conjugate Gradient Minimizer\n",
      " minCGnP       0     2  0.000000   0.0              0.000           2973.669\n",
      " minCGnP       0     3  0.000499  30.9          90731.675           1782.490\n",
      " minCGnP       0     4  0.000868  21.1           9224.814            591.240\n",
      " minCGnP       0     5  0.000682  19.9           1794.543            191.921\n",
      " minCGnP       0     6  0.000572  23.4           1098.865             77.682\n",
      " minCGnP       0     7  0.001000  40.3            901.145             62.368\n",
      " minCGnP       0     8  0.001233  47.0            733.898             56.939\n",
      " minCGnP       0     9  0.001178  54.9            608.722             64.038\n",
      " minCGnP       0    10  0.000999  51.6            468.293             57.970\n",
      "---Stage-Seconds--Step-----Alpha---Dir-------------Energy-----------RMSforce\n",
      " minCGnP       0    11  0.000911  51.1            367.171             45.963\n",
      " minCGnP       0    12  0.000779  48.2            311.627             34.235\n",
      " minCGnP       0    13  0.001171  54.2            266.310             33.412\n",
      " minCGnP       0    14  0.001244  58.7            219.005             32.568\n",
      " minCGnP       0    15  0.001015  51.7            183.141             27.078\n",
      " minCGnP       0    16  0.001031  52.6            157.886             22.785\n",
      " minCGnP       0    17  0.001108  59.2            138.803             23.957\n",
      " minCGnP       0    18  0.000837  52.2            122.846             16.457\n",
      " minCGnP       0    19  0.001311  55.2            111.264             13.998\n",
      " minCGnP       0    20  0.001081  61.0            104.253             14.569\n",
      "---Stage-Seconds--Step-----Alpha---Dir-------------Energy-----------RMSforce\n",
      " minCGnP       0    21  0.000949  59.7             97.632             11.916\n",
      " minCGnP       0    22  0.001058  56.5             92.625              9.327\n",
      " minCGnP       0    23  0.001201  60.9             89.189              9.330\n",
      " minCGnP       0    24  0.001409  66.2             85.112             10.446\n",
      " minCGnP       0    25  0.001094  64.8             81.180              9.153\n",
      " minCGnP       0    26  0.000948  66.6             78.554              9.030\n",
      " minCGnP       0    27  0.001593  71.0             74.269             10.307\n",
      " minCGnP       0    28  0.001313  70.3             69.698              9.318\n",
      " minCGnP       0    29  0.001180  73.0             66.309             10.092\n",
      " minCGnP       0    30  0.000902  70.8             63.243              9.114\n",
      "---Stage-Seconds--Step-----Alpha---Dir-------------Energy-----------RMSforce\n",
      " minCGnP       0    31  0.001891  74.6             58.048             11.005\n",
      " minCGnP       0    32  0.001140  71.8             53.435              9.454\n",
      " minCGnP       0    33  0.000817  71.5             51.032              8.759\n",
      " minCGnP       0    34  0.001196  70.6             48.011              7.635\n",
      " minCGnP       0    35  0.001568  73.0             44.984              8.425\n",
      " minCGnP       0    36  0.001094  72.7             42.444              7.477\n",
      " minCGnP       0    37  0.000847  69.3             40.870              6.107\n",
      " minCGnP       0    38  0.001204  70.6             39.388              6.224\n",
      " minCGnP       0    39  0.001330  71.1             37.691              6.020\n",
      " minCGnP       0    40  0.001301  72.0             36.148              5.942\n",
      "---Stage-Seconds--Step-----Alpha---Dir-------------Energy-----------RMSforce\n",
      " minCGnP       0    41  0.001113  72.5             34.841              5.783\n",
      " minCGnP       0    42  0.000926  70.4             33.826              4.805\n",
      " minCGnP       0    43  0.001170  72.4             32.934              5.082\n",
      " minCGnP       0    44  0.001532  72.1             31.613              4.849\n",
      " minCGnP       0    45  0.001126  73.1             30.737              5.071\n",
      " minCGnP       0    46  0.000881  69.7             29.991              3.921\n",
      " minCGnP       0    47  0.000889  65.4             29.541              2.956\n",
      " minCGnP       0    48  0.001476  71.0             29.117              3.545\n",
      " minCGnP       0    49  0.001728  73.4             28.397              3.823\n",
      " minCGnP       0    50  0.001121  74.4             27.852              4.074\n",
      "---Stage-Seconds--Step-----Alpha---Dir-------------Energy-----------RMSforce\n",
      " minCGnP       0    51  0.001133  75.2             27.228              4.259\n",
      " minCGnP       0    52  0.001068  71.9             26.578              3.652\n",
      " minCGnP       0    53  0.001567  73.0             25.897              3.791\n",
      " minCGnP       0    54  0.001337  75.8             25.259              4.249\n",
      " minCGnP       0    55  0.001212  77.6             24.563              4.495\n",
      " minCGnP       0    56  0.001117  78.3             23.802              4.441\n",
      " minCGnP       0    57  0.001302  77.2             22.947              4.369\n",
      " minCGnP       0    58  0.001106  75.4             22.244              3.927\n",
      " minCGnP       0    59  0.001361  77.2             21.556              4.395\n",
      " minCGnP       0    60  0.000824  74.6             21.027              3.561\n",
      "---Stage-Seconds--Step-----Alpha---Dir-------------Energy-----------RMSforce\n",
      " minCGnP       0    61  0.001073  73.6             20.583              3.144\n",
      " minCGnP       0    62  0.001444  73.6             20.117              2.816\n",
      " minCGnP       0    63  0.001168  73.0             19.812              2.509\n",
      " minCGnP       0    64  0.001154  73.7             19.573              2.482\n",
      " minCGnP       0    65  0.000886  70.6             19.392              2.008\n",
      " minCGnP       0    66  0.000958  68.2             19.264              1.681\n",
      " minCGnP       0    67  0.001353  67.9             19.138              1.555\n",
      " minCGnP       0    68  0.001647   0.0             19.007              1.690\n",
      " minCGnP       0    69  0.000626  38.2             18.948              1.331\n",
      " minCGnP       0    70  0.001054  50.1             18.886              1.250\n",
      "---Stage-Seconds--Step-----Alpha---Dir-------------Energy-----------RMSforce\n",
      " minCGnP       0    71  0.001145  51.1             18.827              0.990\n",
      " minCGnP       0    72  0.002086  66.5             18.760              1.426\n",
      " minCGnP       0    73  0.001616  67.5             18.651              1.378\n",
      " minCGnP       0    74  0.000921  63.6             18.593              1.076\n",
      " minCGnP       0    75  0.001508  71.0             18.536              1.384\n",
      " minCGnP       0    76  0.001010  69.9             18.472              1.224\n",
      " minCGnP       0    77  0.000872  66.0             18.428              0.959\n",
      " minCGnP       0    78  0.002050  69.6             18.366              1.049\n",
      " minCGnP       0    79  0.001453  70.4             18.314              1.026\n",
      " minCGnP       0    80  0.001526  73.8             18.261              1.184\n",
      "---Stage-Seconds--Step-----Alpha---Dir-------------Energy-----------RMSforce\n",
      " minCGnP       0    81  0.001253  75.6             18.203              1.285\n",
      " minCGnP       0    82  0.001124  76.6             18.141              1.341\n",
      " minCGnP       0    83  0.000934  74.5             18.086              1.123\n",
      " minCGnP       0    84  0.001507  75.2             18.023              1.134\n",
      " minCGnP       0    85  0.001456  75.4             17.961              1.115\n",
      " minCGnP       0    86  0.002096  80.7             17.875              1.728\n",
      " minCGnP       0    87  0.001152  82.0             17.762              1.972\n",
      " minCGnP       0    88  0.001094  80.7             17.621              1.677\n",
      " minCGnP       0    89  0.001218  78.0             17.508              1.294\n",
      " minCGnP       0    90  0.002604  82.4             17.364              2.030\n",
      "---Stage-Seconds--Step-----Alpha---Dir-------------Energy-----------RMSforce\n",
      " minCGnP       0    91  0.000966  81.0             17.232              1.732\n",
      " minCGnP       0    92  0.002077  81.7             17.029              1.879\n",
      " minCGnP       0    93  0.000843  82.0             16.931              1.871\n",
      " minCGnP       0    94  0.001349  83.5             16.776              2.288\n",
      " minCGnP       0    95  0.001669  79.6             16.478              1.591\n",
      " minCGnP       0    96  0.002566  83.8             16.266              2.643\n",
      " minCGnP       0    97  0.001257  83.2             15.977              2.210\n",
      " minCGnP       0    98  0.000705  80.5             15.863              1.596\n",
      " minCGnP       0    99  0.001623  84.3             15.727              2.669\n",
      " minCGnP       0   100  0.001458  82.9             15.367              2.375\n",
      "---Stage-Seconds--Step-----Alpha---Dir-------------Energy-----------RMSforce\n",
      " minCGnP       0   101  0.001062  81.4             15.168              2.158\n",
      " minCGnP       0   102  0.001476  82.3             14.944              2.353\n",
      " minCGnP       0   103  0.001096  83.7             14.744              2.782\n",
      " minCGnP       0   104  0.001047  82.4             14.478              2.235\n",
      " minCGnP       0   105  0.001304  82.2             14.263              2.120\n",
      " minCGnP       0   106  0.001263  83.4             14.074              2.509\n",
      " minCGnP       0   107  0.000959  82.5             13.875              2.261\n",
      " minCGnP       0   108  0.001182  83.5             13.676              2.548\n",
      " minCGnP       0   109  0.001276  83.8             13.405              2.541\n",
      " minCGnP       0   110  0.001239  82.7             13.141              2.121\n",
      "---Stage-Seconds--Step-----Alpha---Dir-------------Energy-----------RMSforce\n",
      " minCGnP       0   111  0.000814  82.2             13.020              1.968\n",
      " minCGnP       0   112  0.000935  80.1             12.901              1.524\n",
      " minCGnP       0   113  0.001104  79.6             12.816              1.407\n",
      " minCGnP       0   114  0.001521  81.4             12.717              1.659\n",
      " minCGnP       0   115  0.000978  81.3             12.629              1.608\n",
      " minCGnP       0   116  0.000985  81.0             12.545              1.483\n",
      " minCGnP       0   117  0.000983  79.6             12.473              1.266\n",
      " minCGnP       0   118  0.001254  79.5             12.407              1.250\n",
      " minCGnP       0   119  0.001257  81.4             12.342              1.511\n",
      " minCGnP       0   120  0.000999  82.5             12.267              1.702\n",
      "---Stage-Seconds--Step-----Alpha---Dir-------------Energy-----------RMSforce\n",
      " minCGnP       0   121  0.001628  82.0             12.113              1.575\n",
      " minCGnP       0   122  0.001284  83.6             12.008              1.914\n",
      " minCGnP       0   123  0.001179  84.6             11.865              2.304\n",
      " minCGnP       0   124  0.000970  82.7             11.694              1.795\n",
      " minCGnP       0   125  0.001070  83.3             11.580              1.993\n",
      " minCGnP       0   126  0.001383  81.8             11.397              1.665\n",
      " minCGnP       0   127  0.000670  79.0             11.336              1.219\n",
      " minCGnP       0   128  0.001003  79.9             11.286              1.295\n",
      " minCGnP       0   129  0.001339  78.4             11.212              1.129\n",
      " minCGnP       0   130  0.001492  80.5             11.150              1.334\n",
      "---Stage-Seconds--Step-----Alpha---Dir-------------Energy-----------RMSforce\n",
      " minCGnP       0   131  0.000755  78.8             11.106              1.105\n",
      " minCGnP       0   132  0.001074  78.1             11.062              1.028\n",
      " minCGnP       0   133  0.001521  76.6             11.009              0.908\n",
      " minCGnP       0   134  0.000681   0.0             10.990              0.841\n",
      " minCGnP       0   135  0.000570  39.4             10.977              0.691\n",
      " minCGnP       0   136  0.001567  52.5             10.952              0.696\n",
      " minCGnP       0   137  0.001255  58.5             10.932              0.690\n",
      " minCGnP       0   138  0.001350  63.7             10.911              0.729\n",
      " minCGnP       0   139  0.001276  67.3             10.889              0.772\n",
      " minCGnP       0   140  0.001296  70.2             10.863              0.825\n",
      "---Stage-Seconds--Step-----Alpha---Dir-------------Energy-----------RMSforce\n",
      " minCGnP       0   141  0.000817  68.8             10.845              0.723\n",
      " minCGnP       0   142  0.001621  74.5             10.817              0.942\n",
      " minCGnP       0   143  0.001630  73.7             10.769              0.855\n",
      " minCGnP       0   144  0.001755  74.3             10.727              0.847\n",
      " minCGnP       0   145  0.001632  77.4             10.688              1.018\n",
      " minCGnP       0   146  0.001503  79.8             10.637              1.251\n",
      " minCGnP       0   147  0.001094  79.8             10.580              1.254\n",
      " minCGnP       0   148  0.001141  80.8             10.521              1.380\n",
      " minCGnP       0   149  0.001081  78.7             10.453              1.117\n",
      " minCGnP       0   150  0.001760  80.0             10.381              1.249\n",
      "---Stage-Seconds--Step-----Alpha---Dir-------------Energy-----------RMSforce\n",
      " minCGnP       0   151  0.001375  81.0             10.310              1.333\n",
      " minCGnP       0   152  0.000841  80.3             10.261              1.196\n",
      " minCGnP       0   153  0.001094  79.3             10.209              1.054\n",
      " minCGnP       0   154  0.001136  73.3             10.167              0.699\n",
      " minCGnP       0   155  0.001740  75.6             10.139              0.785\n",
      " minCGnP       0   156  0.001398  75.3             10.111              0.740\n",
      " minCGnP       0   157  0.000856  74.2             10.095              0.656\n",
      " minCGnP       0   158  0.002105  79.0             10.065              0.912\n",
      " minCGnP       0   159  0.000600  71.4             10.049              0.520\n",
      " minCGnP       0   160  0.001969  78.0             10.031              0.781\n",
      "---Stage-Seconds--Step-----Alpha---Dir-------------Energy-----------RMSforce\n",
      " minCGnP       0   161  0.002235  78.6              9.986              0.829\n",
      " minCGnP       0   162  0.000926  80.2              9.965              0.957\n",
      " minCGnP       0   163  0.001987  82.2              9.906              1.157\n",
      " minCGnP       0   164  0.000657  77.7              9.877              0.703\n",
      " minCGnP       0   165  0.001921  81.4              9.846              0.983\n",
      " minCGnP       0   166  0.002136  83.6              9.777              1.241\n",
      " minCGnP       0   167  0.001296  79.5              9.709              0.911\n",
      " minCGnP       0   168  0.001162  78.5              9.678              0.842\n",
      " minCGnP       0   169  0.001399  81.6              9.645              1.150\n",
      " minCGnP       0   170  0.000989  79.7              9.602              0.897\n",
      "---Stage-Seconds--Step-----Alpha---Dir-------------Energy-----------RMSforce\n",
      " minCGnP       0   171  0.001006  78.0              9.575              0.737\n",
      " minCGnP       0   172  0.001274  79.7              9.552              0.849\n",
      " minCGnP       0   173  0.001365  73.9              9.520              0.526\n",
      " minCGnP       0   174  0.000802  74.8              9.513              0.537\n",
      " minCGnP       0   175  0.001260  74.4              9.501              0.504\n",
      "DONE absolute force test:\n",
      "forceRmsMag(0.408949).LT.forceTolerance(0.500000)\n",
      "======= Starting Steepest Descent Minimizer\n",
      "DONE absolute force test:\n",
      "forceRmsMag(7.112773).LT.forceTolerance(5000.000000)\n",
      "======= Starting Conjugate Gradient Minimizer\n",
      " minCGnP       0   176  0.000000   0.0              0.000              7.113\n",
      " minCGnP       0   177  0.001267  49.4             21.977              8.302\n",
      " minCGnP       0   178  0.001215  56.2             19.281              6.929\n",
      " minCGnP       0   179  0.000586  48.4             18.355              3.998\n",
      " minCGnP       0   180  0.001142  57.6             17.753              4.146\n",
      "---Stage-Seconds--Step-----Alpha---Dir-------------Energy-----------RMSforce\n",
      " minCGnP       0   181  0.001110  57.5             17.124              3.443\n",
      " minCGnP       0   182  0.001163  64.7             16.669              3.894\n",
      " minCGnP       0   183  0.000877  62.8             16.231              3.220\n",
      " minCGnP       0   184  0.000768  56.4             15.969              2.199\n",
      " minCGnP       0   185  0.001230  56.3             15.772              1.818\n",
      " minCGnP       0   186  0.000703  55.4             15.695              1.471\n",
      " minCGnP       0   187  0.000903  56.0             15.631              1.242\n",
      " minCGnP       0   188  0.001185  60.9             15.571              1.245\n",
      " minCGnP       0   189  0.001104  66.6             15.514              1.392\n",
      " minCGnP       0   190  0.001287  69.6             15.432              1.494\n",
      "---Stage-Seconds--Step-----Alpha---Dir-------------Energy-----------RMSforce\n",
      " minCGnP       0   191  0.000786  69.0             15.374              1.350\n",
      " minCGnP       0   192  0.001958  73.7             15.256              1.641\n",
      " minCGnP       0   193  0.001162  77.2             15.153              2.025\n",
      " minCGnP       0   194  0.000960  77.1             15.023              1.951\n",
      " minCGnP       0   195  0.001400  75.8             14.846              1.742\n",
      " minCGnP       0   196  0.001003  75.4             14.746              1.640\n",
      " minCGnP       0   197  0.000775  74.9             14.677              1.532\n",
      " minCGnP       0   198  0.001631  78.7             14.551              2.006\n",
      " minCGnP       0   199  0.001412  76.0             14.364              1.528\n",
      " minCGnP       0   200  0.000600  72.1             14.318              1.156\n",
      "---Stage-Seconds--Step-----Alpha---Dir-------------Energy-----------RMSforce\n",
      " minCGnP       0   201  0.001159  74.5             14.267              1.281\n",
      " minCGnP       0   202  0.001262  74.4             14.199              1.226\n",
      " minCGnP       0   203  0.000939  73.2             14.152              1.075\n",
      " minCGnP       0   204  0.001574  79.8             14.093              1.722\n",
      " minCGnP       0   205  0.000876  73.3             14.005              1.011\n",
      " minCGnP       0   206  0.001027  73.6             13.971              1.006\n",
      " minCGnP       0   207  0.001819  80.9             13.910              1.774\n",
      " minCGnP       0   208  0.001217  81.4             13.782              1.869\n",
      " minCGnP       0   209  0.001014  79.9             13.666              1.614\n",
      " minCGnP       0   210  0.001088  80.4             13.572              1.668\n",
      "---Stage-Seconds--Step-----Alpha---Dir-------------Energy-----------RMSforce\n",
      " minCGnP       0   211  0.000959  80.2             13.483              1.669\n",
      " minCGnP       0   212  0.001190  81.8             13.375              1.938\n",
      " minCGnP       0   213  0.001058  79.5             13.243              1.477\n",
      " minCGnP       0   214  0.001029  79.4             13.169              1.439\n",
      " minCGnP       0   215  0.000786  78.2             13.115              1.255\n",
      " minCGnP       0   216  0.001212  77.4             13.052              1.126\n",
      " minCGnP       0   217  0.001245  77.5             13.000              1.109\n",
      " minCGnP       0   218  0.000666  75.6             12.973              0.939\n",
      " minCGnP       0   219  0.001545  75.7             12.928              0.927\n",
      " minCGnP       0   220  0.000889  72.0             12.903              0.698\n",
      "---Stage-Seconds--Step-----Alpha---Dir-------------Energy-----------RMSforce\n",
      " minCGnP       0   221  0.000866  74.2             12.889              0.761\n",
      " minCGnP       0   222  0.001602  77.9             12.858              0.963\n",
      " minCGnP       0   223  0.001056  77.0             12.826              0.871\n",
      " minCGnP       0   224  0.001080  75.4             12.799              0.750\n",
      " minCGnP       0   225  0.000725  72.7             12.786              0.608\n",
      " minCGnP       0   226  0.000906  70.0             12.775              0.501\n",
      "DONE absolute force test:\n",
      "forceRmsMag(0.353265).LT.forceTolerance(0.500000)\n"
     ]
    },
    {
     "data": {
      "text/plain": [
       "*ME*"
      ]
     },
     "execution_count": 13,
     "metadata": {},
     "output_type": "execute_result"
    }
   ],
   "source": [
    "(cando:jostle *met* 20)\n",
    "(defparameter *me* (energy:minimize *agg*))"
   ]
  },
  {
   "cell_type": "code",
   "execution_count": 53,
   "metadata": {
    "scrolled": false
   },
   "outputs": [
    {
     "data": {
      "application/vnd.jupyter.widget-view+json": {
       "model_id": "44476A6F-F7A3-4BD1-819D-1C41D0DF3053",
       "version_major": 2,
       "version_minor": 0
      },
      "text/plain": [
       "A Jupyter Widget"
      ]
     },
     "execution_count": 53,
     "metadata": {},
     "output_type": "execute_result"
    }
   ],
   "source": [
    "(nglv::show-aggregate *agg*)"
   ]
  },
  {
   "cell_type": "code",
   "execution_count": 65,
   "metadata": {},
   "outputs": [
    {
     "data": {
      "text/plain": [
       "NIL"
      ]
     },
     "execution_count": 65,
     "metadata": {},
     "output_type": "execute_result"
    }
   ],
   "source": [
    "(defparameter *met* (chem:make-molecule))\n",
    "(defparameter *res* (chem:make-residue :foo))\n",
    "(defparameter *res1* (chem:make-residue :foo1))\n",
    "\n",
    "(chem:add-matter *met* *res*)\n",
    "(chem:add-matter *met* *res1*)\n",
    "\n",
    "(defparameter *c1* (chem:make-atom :C1 :C))\n",
    "(defparameter *c2* (chem:make-atom :C2 :C))\n",
    "(defparameter *c3* (chem:make-atom :C3 :C))\n",
    "(defparameter *c4* (chem:make-atom :C4 :C))\n",
    "(defparameter *c5* (chem:make-atom :C5 :C))\n",
    "(defparameter *c6* (chem:make-atom :C6 :C))\n",
    "(defparameter *o1* (chem:make-atom :O1 :O))\n",
    "(defparameter *o2* (chem:make-atom :O2 :O))\n",
    "(defparameter *o3* (chem:make-atom :O3 :O))\n",
    "(defparameter *n1* (chem:make-atom :N1 :N))\n",
    "(defparameter *n2* (chem:make-atom :N2 :N))\n",
    "(defparameter *h1* (chem:make-atom :H1 :h))\n",
    "(defparameter *h2* (chem:make-atom :H2 :h))\n",
    "(defparameter *h3* (chem:make-atom :H3 :h))\n",
    "(defparameter *h4* (chem:make-atom :H4 :h))\n",
    "(defparameter *h5* (chem:make-atom :H5 :h))\n",
    "(defparameter *h6* (chem:make-atom :H6 :h))\n",
    "(defparameter *h7* (chem:make-atom :H7 :h))\n",
    "(defparameter *h8* (chem:make-atom :H8 :h))\n",
    "(defparameter *h9* (chem:make-atom :H9 :h))\n",
    "(defparameter *h10* (chem:make-atom :H10 :h))\n",
    "(defparameter *h11* (chem:make-atom :H11 :h))\n",
    "(defparameter *h12* (chem:make-atom :H12 :h))\n",
    "(defparameter *s1* (chem:make-atom :S1 :s))\n",
    "\n",
    "(chem:add-matter *res* *c1*)\n",
    "(chem:add-matter *res* *c2*)\n",
    "(chem:add-matter *res* *c3*)\n",
    "(chem:add-matter *res1* *c4*)\n",
    "(chem:add-matter *res1* *c5*)\n",
    "(chem:add-matter *res1* *c6*)\n",
    "(chem:add-matter *res* *o1*)\n",
    "(chem:add-matter *res* *o2*)\n",
    "(chem:add-matter *res1* *o3*)\n",
    "(chem:add-matter *res* *n1*)\n",
    "(chem:add-matter *res1* *n2*)\n",
    "(chem:add-matter *res* *h1*)\n",
    "(chem:add-matter *res* *h2*)\n",
    "(chem:add-matter *res* *h3*)\n",
    "(chem:add-matter *res* *h4*)\n",
    "(chem:add-matter *res* *h5*)\n",
    "(chem:add-matter *res* *h6*)\n",
    "(chem:add-matter *res1* *h7*)\n",
    "(chem:add-matter *res1* *h8*)\n",
    "(chem:add-matter *res1* *h9*)\n",
    "(chem:add-matter *res1* *h10*)\n",
    "(chem:add-matter *res1* *h11*)\n",
    "(chem:add-matter *res1* *h12*)\n",
    "(chem:add-matter *res* *s1*)\n",
    "\n",
    "(chem:bond-to *h1* *o1* :single-bond)\n",
    "(chem:bond-to *o1* *c1* :single-bond)\n",
    "(chem:bond-to *c1* *o2* :double-bond)\n",
    "(chem:bond-to *c1* *c2* :single-bond)\n",
    "(chem:bond-to *c2* *h3* :single-bond)\n",
    "(chem:bond-to *c2* *c3* :single-bond)\n",
    "(chem:bond-to *c3* *h4* :single-bond)\n",
    "(chem:bond-to *c3* *h5* :single-bond)\n",
    "(chem:bond-to *c3* *s1* :single-bond)\n",
    "(chem:bond-to *s1* *h2* :single-bond)\n",
    "(chem:bond-to *c2* *n1* :single-bond)\n",
    "(chem:bond-to *n1* *h6* :single-bond)\n",
    "(chem:bond-to *n1* *c4* :single-bond)\n",
    "(chem:bond-to *c4* *o3* :double-bond)\n",
    "(chem:bond-to *c4* *c5* :single-bond)\n",
    "(chem:bond-to *c5* *h7* :single-bond)\n",
    "(chem:bond-to *c5* *c6* :single-bond)\n",
    "(chem:bond-to *c6* *h8* :single-bond)\n",
    "(chem:bond-to *c6* *h9* :single-bond)\n",
    "(chem:bond-to *c6* *h10* :single-bond)\n",
    "(chem:bond-to *c5* *n2* :single-bond)\n",
    "(chem:bond-to *n2* *h11* :single-bond)\n",
    "(chem:bond-to *n2* *h12* :single-bond)\n",
    "(defparameter *agg* (chem:make-aggregate))\n",
    "(chem:add-matter *agg* *met*)\n"
   ]
  },
  {
   "cell_type": "code",
   "execution_count": 17,
   "metadata": {},
   "outputs": [
    {
     "name": "stderr",
     "output_type": "stream",
     "text": [
      "SIMPLE-WARNING: \n",
      "Warning!  Skipping 10-12 hbond\n",
      "SIMPLE-WARNING: \n",
      "Warning!  Skipping force field atom equivalences\n"
     ]
    },
    {
     "data": {
      "text/plain": [
       "#<FORCE-FIELD >"
      ]
     },
     "execution_count": 17,
     "metadata": {},
     "output_type": "execute_result"
    }
   ],
   "source": [
    "(energy::setup-amber)"
   ]
  },
  {
   "cell_type": "code",
   "execution_count": 18,
   "metadata": {},
   "outputs": [
    {
     "name": "stdout",
     "output_type": "stream",
     "text": [
      "energy-nonbond -> #<ENERGY-NONBOND >\n",
      "ffnonbond-db -> #<FFNONBOND-DB @0x11fc440b8>\n",
      "type1 0 type2 0\n",
      "type1 0 type2 3\n",
      "type1 0 type2 49\n",
      "type1 0 type2 48\n",
      "type1 0 type2 35\n",
      "type1 0 type2 26\n",
      "type1 0 type2 28\n",
      "type1 0 type2 18\n",
      "type1 0 type2 24\n",
      "type1 0 type2 25\n",
      "type1 0 type2 67\n",
      "type1 0 type2 38\n",
      "type1 3 type2 3\n",
      "type1 3 type2 49\n",
      "type1 3 type2 48\n",
      "type1 3 type2 35\n",
      "type1 3 type2 26\n",
      "type1 3 type2 28\n",
      "type1 3 type2 18\n",
      "type1 3 type2 24\n",
      "type1 3 type2 25\n",
      "type1 3 type2 67\n",
      "type1 3 type2 38\n",
      "type1 49 type2 49\n",
      "type1 49 type2 48\n",
      "type1 49 type2 35\n",
      "type1 49 type2 26\n",
      "type1 49 type2 28\n",
      "type1 49 type2 18\n",
      "type1 49 type2 24\n",
      "type1 49 type2 25\n",
      "type1 49 type2 67\n",
      "type1 49 type2 38\n",
      "type1 48 type2 48\n",
      "type1 48 type2 35\n",
      "type1 48 type2 26\n",
      "type1 48 type2 28\n",
      "type1 48 type2 18\n",
      "type1 48 type2 24\n",
      "type1 48 type2 25\n",
      "type1 48 type2 67\n",
      "type1 48 type2 38\n",
      "type1 35 type2 35\n",
      "type1 35 type2 26\n",
      "type1 35 type2 28\n",
      "type1 35 type2 18\n",
      "type1 35 type2 24\n",
      "type1 35 type2 25\n",
      "type1 35 type2 67\n",
      "type1 35 type2 38\n",
      "type1 26 type2 26\n",
      "type1 26 type2 28\n",
      "type1 26 type2 18\n",
      "type1 26 type2 24\n",
      "type1 26 type2 25\n",
      "type1 26 type2 67\n",
      "type1 26 type2 38\n",
      "type1 28 type2 28\n",
      "type1 28 type2 18\n",
      "type1 28 type2 24\n",
      "type1 28 type2 25\n",
      "type1 28 type2 67\n",
      "type1 28 type2 38\n",
      "type1 18 type2 18\n",
      "type1 18 type2 24\n",
      "type1 18 type2 25\n",
      "type1 18 type2 67\n",
      "type1 18 type2 38\n",
      "type1 24 type2 24\n",
      "type1 24 type2 25\n",
      "type1 24 type2 67\n",
      "type1 24 type2 38\n",
      "type1 25 type2 25\n",
      "type1 25 type2 67\n",
      "type1 25 type2 38\n",
      "type1 67 type2 67\n",
      "type1 67 type2 38\n",
      "type1 38 type2 38\n",
      "======= Starting Steepest Descent Minimizer\n",
      "---Stage-Seconds--Step-----Alpha---Dir-------------Energy-----------RMSforce\n",
      " minSDnP       0     1  0.000000   0.0              0.000          45400.338\n",
      " minSDnP       0     2  0.000308   0.0        5652785.188          14207.419\n",
      " minSDnP       0     3  0.000413   0.0        2677984.940           8990.189\n",
      " minSDnP       0     4  0.000402   0.0        1519438.331           6073.482\n",
      "DONE absolute force test:\n",
      "forceRmsMag(4658.485814).LT.forceTolerance(5000.000000)\n",
      "======= Starting Conjugate Gradient Minimizer\n",
      " minCGnP       0     5  0.000000   0.0              0.000           4658.486\n",
      " minCGnP       0     6  0.000433  35.6         588432.104           3336.693\n",
      " minCGnP       0     7  0.001231  27.4         128277.847           1182.581\n",
      " minCGnP       0     8  0.000676  44.5          95334.567           1013.809\n",
      " minCGnP       0     9  0.001551  56.5          41416.579           1136.762\n",
      " minCGnP       0    10  0.000515  42.3          17974.530            577.153\n",
      "---Stage-Seconds--Step-----Alpha---Dir-------------Energy-----------RMSforce\n",
      " minCGnP       0    11  0.000664  41.7          10255.495            333.427\n",
      " minCGnP       0    12  0.000881  51.4           6777.715            250.308\n",
      " minCGnP       0    13  0.000784  43.7           5033.298            180.216\n",
      " minCGnP       0    14  0.001116  54.5           3772.292            171.257\n",
      " minCGnP       0    15  0.000879  57.0           2884.134            157.351\n",
      " minCGnP       0    16  0.000861  55.2           2138.676            130.600\n",
      " minCGnP       0    17  0.000945  53.6           1558.163             97.143\n",
      " minCGnP       0    18  0.000951  57.0           1239.573             87.424\n",
      " minCGnP       0    19  0.000936  61.0            984.358             83.088\n",
      " minCGnP       0    20  0.001046  58.7            721.561             70.309\n",
      "---Stage-Seconds--Step-----Alpha---Dir-------------Energy-----------RMSforce\n",
      " minCGnP       0    21  0.000912  56.9            554.334             58.867\n",
      " minCGnP       0    22  0.000740  50.4            461.003             43.448\n",
      " minCGnP       0    23  0.000987  49.7            394.337             33.218\n",
      " minCGnP       0    24  0.001473  61.6            335.618             38.110\n",
      " minCGnP       0    25  0.000752  57.1            295.835             29.922\n",
      " minCGnP       0    26  0.001151  56.6            258.306             26.505\n",
      " minCGnP       0    27  0.000974  60.0            233.759             25.265\n",
      " minCGnP       0    28  0.001036  64.4            210.055             26.358\n",
      " minCGnP       0    29  0.001733  70.7            166.811             31.727\n",
      " minCGnP       0    30  0.000984  69.3            130.011             30.606\n",
      "---Stage-Seconds--Step-----Alpha---Dir-------------Energy-----------RMSforce\n",
      " minCGnP       0    31  0.000779  55.1            103.394             20.364\n",
      " minCGnP       0    32  0.001271  58.3             84.527             18.639\n",
      " minCGnP       0    33  0.001237  63.4             69.181             18.823\n",
      " minCGnP       0    34  0.000928  62.8             57.391             15.493\n",
      " minCGnP       0    35  0.001163  60.8             47.114             13.448\n",
      " minCGnP       0    36  0.000904  61.5             41.197             12.811\n",
      " minCGnP       0    37  0.001075  59.0             34.907             10.240\n",
      " minCGnP       0    38  0.001005  58.6             31.074              8.555\n",
      " minCGnP       0    39  0.000935  62.2             28.618              8.587\n",
      " minCGnP       0    40  0.001073  61.6             25.747              7.432\n",
      "---Stage-Seconds--Step-----Alpha---Dir-------------Energy-----------RMSforce\n",
      " minCGnP       0    41  0.001249  60.8             23.290              6.341\n",
      " minCGnP       0    42  0.000857  60.3             22.049              5.271\n",
      " minCGnP       0    43  0.001210  65.1             20.839              5.627\n",
      " minCGnP       0    44  0.001250  65.6             19.418              5.192\n",
      " minCGnP       0    45  0.000752  60.2             18.687              3.799\n",
      " minCGnP       0    46  0.001247  63.6             18.039              3.831\n",
      " minCGnP       0    47  0.001618  69.2             17.190              4.458\n",
      " minCGnP       0    48  0.000975  71.5             16.489              4.734\n",
      " minCGnP       0    49  0.001240  70.8             15.495              4.314\n",
      " minCGnP       0    50  0.001225  72.7             14.669              4.585\n",
      "---Stage-Seconds--Step-----Alpha---Dir-------------Energy-----------RMSforce\n",
      " minCGnP       0    51  0.001201  73.5             13.756              4.754\n",
      " minCGnP       0    52  0.001226  72.7             12.760              4.382\n",
      " minCGnP       0    53  0.001299  74.0             11.861              4.598\n",
      " minCGnP       0    54  0.000924  73.9             11.162              4.286\n",
      " minCGnP       0    55  0.001201  71.8             10.364              3.578\n",
      " minCGnP       0    56  0.001257  72.2              9.787              3.481\n",
      " minCGnP       0    57  0.001181  73.0              9.274              3.412\n",
      " minCGnP       0    58  0.001051  68.9              8.834              2.512\n",
      " minCGnP       0    59  0.001220  69.2              8.555              2.427\n",
      " minCGnP       0    60  0.001090  71.4              8.323              2.609\n",
      "---Stage-Seconds--Step-----Alpha---Dir-------------Energy-----------RMSforce\n",
      " minCGnP       0    61  0.000989  69.6              8.083              2.204\n",
      " minCGnP       0    62  0.001095  70.3              7.891              2.102\n",
      " minCGnP       0    63  0.001189  68.4              7.701              1.801\n",
      " minCGnP       0    64  0.000909  66.5              7.595              1.547\n",
      " minCGnP       0    65  0.001358  68.9              7.478              1.628\n",
      " minCGnP       0    66  0.001115  68.8              7.372              1.494\n",
      " minCGnP       0    67  0.000829  66.8              7.306              1.223\n",
      " minCGnP       0    68  0.001262  65.4              7.237              1.060\n",
      " minCGnP       0    69  0.000994  61.6              7.197              0.827\n",
      " minCGnP       0    70  0.000885  57.5              7.175              0.615\n",
      "---Stage-Seconds--Step-----Alpha---Dir-------------Energy-----------RMSforce\n",
      " minCGnP       0    71  0.001068  61.1              7.161              0.598\n",
      " minCGnP       0    72  0.001196  63.5              7.145              0.581\n",
      "DONE absolute force test:\n",
      "forceRmsMag(0.463393).LT.forceTolerance(0.500000)\n",
      "======= Starting Steepest Descent Minimizer\n",
      " minSDnP       0    73  0.000000   0.0              0.000         130493.773\n",
      " minSDnP       0    74  0.000000   0.0          71031.778          27947.341\n",
      "DONE absolute force test:\n",
      "forceRmsMag(2390.132098).LT.forceTolerance(5000.000000)\n",
      "======= Starting Conjugate Gradient Minimizer\n",
      " minCGnP       0    75  0.000000   0.0              0.000           2390.132\n",
      " minCGnP       0    76  0.000036   7.7           4545.399            324.338\n",
      " minCGnP       0    77  0.000163  50.6           3860.865            384.234\n",
      " minCGnP       0    78  0.000129  50.6           3218.516            260.652\n",
      " minCGnP       0    79  0.000111   2.0           2904.325            159.290\n",
      " minCGnP       0    80  0.000176  43.8           2737.060            152.532\n",
      "---Stage-Seconds--Step-----Alpha---Dir-------------Energy-----------RMSforce\n",
      " minCGnP       0    81  0.000070  24.4           2680.195             75.825\n",
      " minCGnP       0    82  0.000170  34.3           2646.873             48.582\n",
      " minCGnP       0    83  0.000139  49.7           2634.786             46.984\n",
      " minCGnP       0    84  0.000350  63.4           2605.897             55.190\n",
      " minCGnP       0    85  0.000289  61.1           2573.815             52.097\n",
      " minCGnP       0    86  0.000196  65.0           2554.757             51.986\n",
      " minCGnP       0    87  0.000205  68.2           2534.991             54.865\n",
      " minCGnP       0    88  0.000282  58.9           2504.947             35.837\n",
      " minCGnP       0    89  0.000239  60.2           2493.815             31.340\n",
      " minCGnP       0    90  0.000116  57.6           2489.802             24.418\n",
      "---Stage-Seconds--Step-----Alpha---Dir-------------Energy-----------RMSforce\n",
      " minCGnP       0    91  0.000388  66.4           2481.490             30.122\n",
      " minCGnP       0    92  0.000259  69.8           2472.981             34.192\n",
      " minCGnP       0    93  0.000115  63.7           2468.220             24.342\n",
      " minCGnP       0    94  0.000463  70.5           2458.492             29.773\n",
      " minCGnP       0    95  0.000185  67.7           2452.588             22.873\n",
      " minCGnP       0    96  0.000129  65.7           2450.189             19.189\n",
      " minCGnP       0    97  0.000317  68.5           2446.006             20.132\n",
      " minCGnP       0    98  0.000236  69.4           2442.542             20.301\n",
      " minCGnP       0    99  0.000133  67.2           2440.588             17.380\n",
      " minCGnP       0   100  0.000307  67.2           2437.260             15.581\n",
      "---Stage-Seconds--Step-----Alpha---Dir-------------Energy-----------RMSforce\n",
      " minCGnP       0   101  0.000272  72.3           2434.863             18.834\n",
      " minCGnP       0   102  0.000162  71.7           2432.806             17.690\n",
      " minCGnP       0   103  0.000217  65.8           2430.380             12.231\n",
      " minCGnP       0   104  0.000286  72.1           2428.834             15.555\n",
      " minCGnP       0   105  0.000172  72.7           2427.345             15.750\n",
      " minCGnP       0   106  0.000241  66.0           2425.210             11.322\n",
      " minCGnP       0   107  0.000236  69.5           2424.118             12.290\n",
      " minCGnP       0   108  0.000140  66.4           2423.359              9.925\n",
      " minCGnP       0   109  0.000198  56.4           2422.656              5.994\n",
      " minCGnP       0   110  0.000244  66.7           2422.340              7.678\n",
      "---Stage-Seconds--Step-----Alpha---Dir-------------Energy-----------RMSforce\n",
      " minCGnP       0   111  0.000170  67.1           2421.979              7.131\n",
      " minCGnP       0   112  0.000296  66.4           2421.436              6.559\n",
      " minCGnP       0   113  0.000252  74.5           2421.047              9.449\n",
      " minCGnP       0   114  0.000185  71.0           2420.450              7.171\n",
      " minCGnP       0   115  0.000213  65.0           2420.054              5.124\n",
      " minCGnP       0   116  0.000169  68.8           2419.894              5.537\n",
      " minCGnP       0   117  0.000205  68.6           2419.669              5.065\n",
      " minCGnP       0   118  0.000373  72.6           2419.323              5.940\n",
      " minCGnP       0   119  0.000155  72.2           2419.126              5.537\n",
      " minCGnP       0   120  0.000163  65.8           2418.946              3.738\n",
      "---Stage-Seconds--Step-----Alpha---Dir-------------Energy-----------RMSforce\n",
      " minCGnP       0   121  0.000391  71.4           2418.749              4.544\n",
      " minCGnP       0   122  0.000123  67.5           2418.657              3.482\n",
      " minCGnP       0   123  0.000230  68.1           2418.557              3.315\n",
      " minCGnP       0   124  0.000466  75.9           2418.373              4.910\n",
      " minCGnP       0   125  0.000118  70.4           2418.270              3.360\n",
      " minCGnP       0   126  0.000250  69.3           2418.168              2.985\n",
      " minCGnP       0   127  0.000267  71.8           2418.083              3.215\n",
      " minCGnP       0   128  0.000133  69.9           2418.033              2.736\n",
      " minCGnP       0   129  0.000383  71.9           2417.930              2.869\n",
      " minCGnP       0   130  0.000203  72.4           2417.870              2.822\n",
      "---Stage-Seconds--Step-----Alpha---Dir-------------Energy-----------RMSforce\n",
      " minCGnP       0   131  0.000170  74.2           2417.821              3.016\n",
      " minCGnP       0   132  0.000408  75.0           2417.688              3.020\n",
      " minCGnP       0   133  0.000191  75.2           2417.625              2.972\n",
      " minCGnP       0   134  0.000164  75.4           2417.573              2.933\n",
      " minCGnP       0   135  0.000357  73.7           2417.463              2.518\n",
      " minCGnP       0   136  0.000226  77.2           2417.411              3.128\n",
      " minCGnP       0   137  0.000186  76.6           2417.345              2.919\n",
      " minCGnP       0   138  0.000280  74.9           2417.260              2.479\n",
      " minCGnP       0   139  0.000292  79.5           2417.195              3.481\n",
      " minCGnP       0   140  0.000145  74.0           2417.132              2.188\n",
      "---Stage-Seconds--Step-----Alpha---Dir-------------Energy-----------RMSforce\n",
      " minCGnP       0   141  0.000224  70.2           2417.093              1.680\n",
      " minCGnP       0   142  0.000238  73.9           2417.069              1.970\n",
      " minCGnP       0   143  0.000146  69.4           2417.049              1.451\n",
      " minCGnP       0   144  0.000286  69.7           2417.027              1.373\n",
      " minCGnP       0   145  0.000266  73.6           2417.009              1.623\n",
      " minCGnP       0   146  0.000151  72.3           2416.995              1.438\n",
      " minCGnP       0   147  0.000309   0.0           2416.972              1.013\n",
      " minCGnP       0   148  0.000156  39.4           2416.966              0.832\n",
      " minCGnP       0   149  0.000240  59.7           2416.960              1.101\n",
      " minCGnP       0   150  0.000288  54.9           2416.947              0.792\n",
      "---Stage-Seconds--Step-----Alpha---Dir-------------Energy-----------RMSforce\n",
      " minCGnP       0   151  0.000522  63.4           2416.935              0.910\n",
      " minCGnP       0   152  0.000300  59.9           2416.927              0.704\n",
      " minCGnP       0   153  0.000403  65.8           2416.919              0.785\n",
      " minCGnP       0   154  0.000489  75.0           2416.908              1.196\n",
      " minCGnP       0   155  0.000185  75.9           2416.899              1.236\n",
      " minCGnP       0   156  0.000228  72.6           2416.886              0.966\n",
      " minCGnP       0   157  0.000247  65.7           2416.878              0.638\n",
      " minCGnP       0   158  0.000788  72.1           2416.867              0.810\n",
      " minCGnP       0   159  0.000272  71.4           2416.860              0.744\n",
      " minCGnP       0   160  0.000811  74.9           2416.844              0.879\n",
      "---Stage-Seconds--Step-----Alpha---Dir-------------Energy-----------RMSforce\n",
      " minCGnP       0   161  0.000281  74.6           2416.836              0.828\n",
      " minCGnP       0   162  0.000192  75.9           2416.831              0.879\n",
      " minCGnP       0   163  0.000216  76.2           2416.825              0.870\n",
      " minCGnP       0   164  0.000539  75.8           2416.811              0.820\n",
      " minCGnP       0   165  0.000373  79.4           2416.802              1.074\n",
      " minCGnP       0   166  0.000508  79.7           2416.781              1.073\n",
      " minCGnP       0   167  0.001036  84.5           2416.738              1.997\n",
      " minCGnP       0   168  0.000100  81.1           2416.724              1.253\n",
      " minCGnP       0   169  0.000584  82.8           2416.691              1.570\n",
      " minCGnP       0   170  0.000241  79.4           2416.669              1.071\n",
      "---Stage-Seconds--Step-----Alpha---Dir-------------Energy-----------RMSforce\n",
      " minCGnP       0   171  0.000352  82.2           2416.655              1.445\n",
      " minCGnP       0   172  0.000189  82.9           2416.640              1.562\n",
      " minCGnP       0   173  0.000268  79.8           2416.617              1.007\n",
      " minCGnP       0   174  0.000697  83.7           2416.592              1.599\n",
      " minCGnP       0   175  0.000259  80.8           2416.568              1.035\n",
      " minCGnP       0   176  0.000580  85.9           2416.545              2.308\n",
      " minCGnP       0   177  0.000236  86.0           2416.499              2.440\n",
      " minCGnP       0   178  0.000188  82.7           2416.459              1.574\n",
      " minCGnP       0   179  0.000540  83.4           2416.411              1.731\n",
      " minCGnP       0   180  0.000133  82.7           2416.396              1.563\n",
      "---Stage-Seconds--Step-----Alpha---Dir-------------Energy-----------RMSforce\n",
      " minCGnP       0   181  0.000338  84.6           2416.367              2.097\n",
      " minCGnP       0   182  0.000465  84.5           2416.293              2.054\n",
      " minCGnP       0   183  0.000425  86.2           2416.228              2.954\n",
      " minCGnP       0   184  0.000161  86.0           2416.178              2.833\n",
      " minCGnP       0   185  0.000329  85.7           2416.081              2.546\n",
      " minCGnP       0   186  0.000338  84.8           2416.001              2.263\n",
      " minCGnP       0   187  0.000304  83.9           2415.945              1.991\n",
      " minCGnP       0   188  0.000328  86.0           2415.899              2.978\n",
      " minCGnP       0   189  0.000178  85.2           2415.841              2.539\n",
      " minCGnP       0   190  0.000342  85.9           2415.762              3.084\n",
      "---Stage-Seconds--Step-----Alpha---Dir-------------Energy-----------RMSforce\n",
      " minCGnP       0   191  0.000516  84.6           2415.574              2.767\n",
      " minCGnP       0   192  0.000327  84.5           2415.483              3.001\n",
      " minCGnP       0   193  0.000226  85.3           2415.411              3.486\n",
      " minCGnP       0   194  0.000197  85.2           2415.323              3.336\n",
      " minCGnP       0   195  0.000364  83.1           2415.180              2.621\n",
      " minCGnP       0   196  0.000510  85.9           2415.056              4.241\n",
      " minCGnP       0   197  0.000164  85.4           2414.947              4.006\n",
      " minCGnP       0   198  0.000181  82.4           2414.843              2.685\n",
      " minCGnP       0   199  0.000320  83.7           2414.760              3.115\n",
      " minCGnP       0   200  0.000185  84.4           2414.695              3.548\n",
      "---Stage-Seconds--Step-----Alpha---Dir-------------Energy-----------RMSforce\n",
      " minCGnP       0   201  0.000224  82.8           2414.594              2.867\n",
      " minCGnP       0   202  0.000375  84.9           2414.485              3.914\n",
      " minCGnP       0   203  0.000161  84.8           2414.396              3.829\n",
      " minCGnP       0   204  0.000210  82.9           2414.286              2.831\n",
      " minCGnP       0   205  0.000266  84.2           2414.209              3.313\n",
      " minCGnP       0   206  0.000118  81.6           2414.162              2.346\n",
      " minCGnP       0   207  0.000319  82.2           2414.099              2.581\n",
      " minCGnP       0   208  0.000170  82.3           2414.058              2.575\n",
      " minCGnP       0   209  0.000161  80.8           2414.020              2.109\n",
      " minCGnP       0   210  0.000504  84.1           2413.938              3.347\n",
      "---Stage-Seconds--Step-----Alpha---Dir-------------Energy-----------RMSforce\n",
      " minCGnP       0   211  0.000146  83.9           2413.880              3.176\n",
      " minCGnP       0   212  0.000313  84.2           2413.765              3.044\n",
      " minCGnP       0   213  0.000233  83.3           2413.687              2.812\n",
      " minCGnP       0   214  0.000118  81.6           2413.653              2.168\n",
      " minCGnP       0   215  0.000389  82.2           2413.588              2.217\n",
      " minCGnP       0   216  0.000246  83.5           2413.544              2.652\n",
      " minCGnP       0   217  0.000165  83.1           2413.502              2.452\n",
      " minCGnP       0   218  0.000302  82.8           2413.437              2.211\n",
      " minCGnP       0   219  0.000309   0.0           2413.382              2.859\n",
      " minCGnP       0   220  0.000080  27.6           2413.359              1.498\n",
      "---Stage-Seconds--Step-----Alpha---Dir-------------Energy-----------RMSforce\n",
      " minCGnP       0   221  0.000442  50.4           2413.323              1.601\n",
      " minCGnP       0   222  0.000378  61.8           2413.288              1.904\n",
      " minCGnP       0   223  0.000475  66.0           2413.226              2.023\n",
      " minCGnP       0   224  0.000475  70.2           2413.156              2.299\n",
      " minCGnP       0   225  0.000366  75.0           2413.087              2.914\n",
      " minCGnP       0   226  0.000217  77.2           2413.020              3.315\n",
      " minCGnP       0   227  0.000192  73.8           2412.944              2.511\n",
      " minCGnP       0   228  0.000380  71.3           2412.858              2.051\n",
      " minCGnP       0   229  0.000413  73.5           2412.795              2.210\n",
      " minCGnP       0   230  0.000295  69.9           2412.744              1.710\n",
      "---Stage-Seconds--Step-----Alpha---Dir-------------Energy-----------RMSforce\n",
      " minCGnP       0   231  0.000396  77.3           2412.702              2.630\n",
      " minCGnP       0   232  0.000156  75.2           2412.663              2.175\n",
      " minCGnP       0   233  0.000432  77.4           2412.589              2.483\n",
      " minCGnP       0   234  0.000283  71.7           2412.526              1.645\n",
      " minCGnP       0   235  0.000836  78.1           2412.445              2.446\n",
      " minCGnP       0   236  0.000112  72.9           2412.421              1.639\n",
      " minCGnP       0   237  0.000321  77.7           2412.390              2.205\n",
      " minCGnP       0   238  0.000343  67.1           2412.330              1.117\n",
      " minCGnP       0   239  0.000707  76.7           2412.298              1.839\n",
      " minCGnP       0   240  0.000275  80.3           2412.265              2.466\n",
      "---Stage-Seconds--Step-----Alpha---Dir-------------Energy-----------RMSforce\n",
      " minCGnP       0   241  0.000159  73.9           2412.230              1.430\n",
      " minCGnP       0   242  0.000311  73.2           2412.207              1.319\n",
      " minCGnP       0   243  0.000318  69.0           2412.187              0.986\n",
      " minCGnP       0   244  0.000350  75.3           2412.175              1.342\n",
      " minCGnP       0   245  0.000163  74.0           2412.164              1.185\n",
      " minCGnP       0   246  0.000282  73.7           2412.150              1.123\n",
      " minCGnP       0   247  0.000334  71.3           2412.135              0.930\n",
      " minCGnP       0   248  0.000517  75.5           2412.118              1.148\n",
      " minCGnP       0   249  0.000196  75.1           2412.109              1.083\n",
      " minCGnP       0   250  0.000175  75.0           2412.102              1.041\n",
      "---Stage-Seconds--Step-----Alpha---Dir-------------Energy-----------RMSforce\n",
      " minCGnP       0   251  0.000357  70.4           2412.088              0.764\n",
      " minCGnP       0   252  0.000704  79.5           2412.073              1.377\n",
      " minCGnP       0   253  0.000312  75.7           2412.052              0.974\n",
      " minCGnP       0   254  0.000142  76.2           2412.047              0.980\n",
      " minCGnP       0   255  0.000413  76.1           2412.033              0.939\n",
      " minCGnP       0   256  0.000256  70.6           2412.025              0.647\n",
      " minCGnP       0   257  0.000390  73.2           2412.019              0.710\n",
      " minCGnP       0   258  0.000419  75.9           2412.011              0.819\n",
      " minCGnP       0   259  0.000225  79.4           2412.006              1.062\n",
      " minCGnP       0   260  0.000266  78.9           2411.995              0.999\n",
      "DONE absolute force test:\n",
      "forceRmsMag(0.379089).LT.forceTolerance(0.500000)\n"
     ]
    },
    {
     "data": {
      "text/plain": [
       "*ME*"
      ]
     },
     "execution_count": 18,
     "metadata": {},
     "output_type": "execute_result"
    }
   ],
   "source": [
    "(cando:jostle *met* 80)\n",
    "(defparameter *me* (energy:minimize *agg*))"
   ]
  },
  {
   "cell_type": "code",
   "execution_count": 21,
   "metadata": {},
   "outputs": [
    {
     "data": {
      "text/plain": [
       "*MOL2*"
      ]
     },
     "execution_count": 21,
     "metadata": {},
     "output_type": "execute_result"
    }
   ],
   "source": [
    "(defparameter *mol2* (chem:make-molecule))\n"
   ]
  },
  {
   "cell_type": "code",
   "execution_count": 63,
   "metadata": {},
   "outputs": [
    {
     "name": "stderr",
     "output_type": "stream",
     "text": [
      "SIMPLE-WARNING: \n",
      "Warning!  Skipping 10-12 hbond\n",
      "SIMPLE-WARNING: \n",
      "Warning!  Skipping force field atom equivalences\n"
     ]
    },
    {
     "data": {
      "text/plain": [
       "#<FORCE-FIELD >"
      ]
     },
     "execution_count": 63,
     "metadata": {},
     "output_type": "execute_result"
    }
   ],
   "source": [
    "(defparameter *mol1* (chem:make-molecule))\n",
    "(defparameter *mol2* (chem:make-molecule))\n",
    "(defparameter *res1* (chem:make-residue :foo))\n",
    "(defparameter *res2* (chem:make-residue :bar))\n",
    "\n",
    "(defparameter *a1* (chem:make-atom :CL :|Cl|))\n",
    "(defparameter *a2* (chem:make-atom :CL :|Cl|))\n",
    "\n",
    "(chem:set-position *a1* '(0.0 0.0 0.0))\n",
    "(chem:set-position *a2* '(3.0 0.0 0.0))\n",
    "(chem:set-charge *a1* '1.0)\n",
    "(chem:set-charge *a2* '1.0)\n",
    "(chem:add-matter *res1* *a1*)\n",
    "(chem:add-matter *res2* *a2*)\n",
    "(chem:add-matter *mol1* *res1*)\n",
    "(chem:add-matter *mol2* *res2*)\n",
    "\n",
    "(defparameter *agg* (chem:make-aggregate))\n",
    "(chem:add-matter *agg* *mol1*)\n",
    "(chem:add-matter *agg* *mol2*)                                                                         \n",
    "(chem:set-property *agg* :solvent-box '(20.0 30.0 40.0))\n",
    "(energy::setup-amber)\n"
   ]
  },
  {
   "cell_type": "code",
   "execution_count": 66,
   "metadata": {},
   "outputs": [
    {
     "data": {
      "application/vnd.jupyter.widget-view+json": {
       "model_id": "BC52804A-107B-4C52-BE88-1E77390C4DCA",
       "version_major": 2,
       "version_minor": 0
      },
      "text/plain": [
       "A Jupyter Widget"
      ]
     },
     "execution_count": 66,
     "metadata": {},
     "output_type": "execute_result"
    }
   ],
   "source": [
    "(nglv::show-aggregate *agg*)\n"
   ]
  },
  {
   "cell_type": "code",
   "execution_count": null,
   "metadata": {
    "collapsed": true
   },
   "outputs": [],
   "source": []
  }
 ],
 "metadata": {
  "kernelspec": {
   "display_name": "Clasp Lisp",
   "language": "lisp",
   "name": "lisp"
  },
  "language_info": {
   "codemirror_mode": "text/x-common-lisp",
   "mimetype": "text/x-common-lisp",
   "name": "common-lisp",
   "pygments_lexer": "common-lisp",
   "version": "X3J13"
  }
 },
 "nbformat": 4,
 "nbformat_minor": 2
}
