{
 "cells": [
  {
   "cell_type": "code",
   "execution_count": 1,
   "metadata": {},
   "outputs": [
    {
     "data": {
      "text/plain": [
       "-1"
      ]
     },
     "execution_count": 1,
     "metadata": {},
     "output_type": "execute_result"
    }
   ],
   "source": [
    "(ext:chdir \"~/Development/clasp/extensions/cando/src/lisp/tests/pdbfile/\" t)"
   ]
  },
  {
   "cell_type": "code",
   "execution_count": 2,
   "metadata": {},
   "outputs": [
    {
     "name": "stderr",
     "output_type": "stream",
     "text": [
      "SIMPLE-PROGRAM-ERROR: \n",
      "The symbol CL-JUPYTER-USER::START-SWANK has no function bound to it\n"
     ]
    },
    {
     "data": {
      "text/plain": [
       "NIL"
      ]
     },
     "execution_count": 2,
     "metadata": {},
     "output_type": "execute_result"
    }
   ],
   "source": [
    "(apropos )"
   ]
  },
  {
   "cell_type": "code",
   "execution_count": 3,
   "metadata": {},
   "outputs": [
    {
     "data": {
      "text/plain": [
       "(\"/Users/tuj24515/Development/amber16/dat/leap/cmd/\"\n",
       " \"/Users/tuj24515/Development/amber16/dat/leap/parm/\"\n",
       " \"/Users/tuj24515/Development/amber16/dat/leap/lib/\"\n",
       " \"/Users/tuj24515/Development/amber16/dat/leap/prep/\")"
      ]
     },
     "execution_count": 3,
     "metadata": {},
     "output_type": "execute_result"
    }
   ],
   "source": [
    "(leap.core:add-path \"~/Development/amber16/dat/leap/prep/\")\n",
    "(leap.core:add-path \"~/Development/amber16/dat/leap/lib/\")\n",
    "(leap.core:add-path \"~/Development/amber16/dat/leap/parm/\")\n",
    "(leap.core:add-path \"~/Development/amber16/dat/leap/cmd/\")"
   ]
  },
  {
   "cell_type": "code",
   "execution_count": 4,
   "metadata": {},
   "outputs": [
    {
     "data": {
      "text/plain": [
       "(\"/Users/tuj24515/Development/amber16/dat/leap/cmd/\"\n",
       " \"/Users/tuj24515/Development/amber16/dat/leap/parm/\"\n",
       " \"/Users/tuj24515/Development/amber16/dat/leap/lib/\"\n",
       " \"/Users/tuj24515/Development/amber16/dat/leap/prep/\")"
      ]
     },
     "execution_count": 4,
     "metadata": {},
     "output_type": "execute_result"
    }
   ],
   "source": [
    "leap.core::*path*"
   ]
  },
  {
   "cell_type": "code",
   "execution_count": 6,
   "metadata": {
    "scrolled": true
   },
   "outputs": [
    {
     "name": "stderr",
     "output_type": "stream",
     "text": [
      "SIMPLE-ERROR: \n",
      "The function \"logFile\" is not defined\n"
     ]
    },
    {
     "data": {
      "text/plain": [
       "NIL"
      ]
     },
     "execution_count": 6,
     "metadata": {},
     "output_type": "execute_result"
    }
   ],
   "source": [
    "(source #P\"leaprc.protein.fb15\")"
   ]
  },
  {
   "cell_type": "code",
   "execution_count": 30,
   "metadata": {},
   "outputs": [
    {
     "name": "stdout",
     "output_type": "stream",
     "text": [
      "Scanned 0.0%\n",
      "Scanned 1.0%\n",
      "Scanned 2.0%\n",
      "Scanned 3.0%\n",
      "Scanned 4.0%\n",
      "Scanned 5.0%\n",
      "Scanned 6.0%\n",
      "Scanned 7.0%\n",
      "Creating hash-table for SER\n",
      "Creating hash-table for ALA\n",
      "Creating hash-table for PHE\n",
      "Creating hash-table for GLU\n",
      "Scanned 8.0%\n",
      "Creating hash-table for VAL\n",
      "Creating hash-table for GLY\n",
      "Creating hash-table for ARG\n",
      "Creating hash-table for ASN\n",
      "Scanned 9.0%\n",
      "Creating hash-table for THR\n",
      "Scanned 10.0%\n",
      "Scanned 11.0%\n",
      "Creating hash-table for TYR\n",
      "Scanned 12.0%\n",
      "Creating hash-table for GLN\n",
      "Creating hash-table for LEU\n",
      "Scanned 13.0%\n",
      "Creating hash-table for LYS\n",
      "Scanned 14.0%\n",
      "Creating hash-table for PRO\n",
      "Creating hash-table for ASP\n",
      "Scanned 15.0%\n",
      "Creating hash-table for HIS\n",
      "Scanned 16.0%\n",
      "Creating hash-table for MET\n",
      "Scanned 17.0%\n",
      "Creating hash-table for CYS\n",
      "Creating hash-table for ILE\n",
      "Scanned 18.0%\n",
      "Scanned 19.0%\n",
      "Scanned 20.0%\n",
      "Scanned 21.0%\n",
      "Scanned 22.0%\n",
      "Scanned 23.0%\n",
      "Scanned 24.0%\n",
      "Scanned 25.0%\n",
      "Creating hash-table for TRP\n",
      "Scanned 26.0%\n",
      "Scanned 27.0%\n",
      "Scanned 28.0%\n",
      "Scanned 29.0%\n",
      "Scanned 30.0%\n",
      "Scanned 31.0%\n",
      "Scanned 32.0%\n",
      "Scanned 33.0%\n",
      "Scanned 34.0%\n",
      "Scanned 35.0%\n",
      "Scanned 36.0%\n",
      "Scanned 37.0%\n",
      "Scanned 38.0% elapsed:  1.00 seconds est.remaining:  1.63 seconds\n",
      "Scanned 39.0% elapsed:  1.00 seconds est.remaining:  1.56 seconds\n",
      "Scanned 40.0% elapsed:  1.00 seconds est.remaining:  1.50 seconds\n",
      "Scanned 41.0% elapsed:  1.00 seconds est.remaining:  1.44 seconds\n",
      "Scanned 42.0% elapsed:  1.00 seconds est.remaining:  1.38 seconds\n",
      "Scanned 43.0% elapsed:  1.00 seconds est.remaining:  1.32 seconds\n",
      "Scanned 44.0% elapsed:  1.00 seconds est.remaining:  1.27 seconds\n",
      "Scanned 45.0% elapsed:  1.00 seconds est.remaining:  1.22 seconds\n",
      "Scanned 46.0% elapsed:  1.00 seconds est.remaining:  1.17 seconds\n",
      "Scanned 47.0% elapsed:  1.00 seconds est.remaining:  1.13 seconds\n",
      "Scanned 48.0% elapsed:  1.00 seconds est.remaining:  1.08 seconds\n",
      "Scanned 49.0% elapsed:  1.00 seconds est.remaining:  1.04 seconds\n",
      "Scanned 50.0% elapsed:  1.00 seconds est.remaining:  1.00 seconds\n",
      "Scanned 51.0% elapsed:  1.00 seconds est.remaining:  0.96 seconds\n",
      "Scanned 52.0% elapsed:  1.00 seconds est.remaining:  0.92 seconds\n",
      "Scanned 53.0% elapsed:  1.00 seconds est.remaining:  0.89 seconds\n",
      "Scanned 54.0% elapsed:  1.00 seconds est.remaining:  0.85 seconds\n",
      "Scanned 55.0% elapsed:  1.00 seconds est.remaining:  0.82 seconds\n",
      "Scanned 56.0% elapsed:  1.00 seconds est.remaining:  0.79 seconds\n",
      "Scanned 57.0% elapsed:  1.00 seconds est.remaining:  0.75 seconds\n",
      "Scanned 58.0% elapsed:  1.00 seconds est.remaining:  0.72 seconds\n",
      "Scanned 59.0% elapsed:  1.00 seconds est.remaining:  0.69 seconds\n",
      "Scanned 60.0% elapsed:  1.00 seconds est.remaining:  0.67 seconds\n",
      "Scanned 61.0% elapsed:  1.00 seconds est.remaining:  0.64 seconds\n",
      "Scanned 62.0% elapsed:  1.00 seconds est.remaining:  0.61 seconds\n",
      "Scanned 63.0% elapsed:  1.00 seconds est.remaining:  0.59 seconds\n",
      "Scanned 64.0% elapsed:  1.00 seconds est.remaining:  0.56 seconds\n",
      "Scanned 65.0% elapsed:  1.00 seconds est.remaining:  0.54 seconds\n",
      "Scanned 66.0% elapsed:  1.00 seconds est.remaining:  0.51 seconds\n",
      "Scanned 67.0% elapsed:  1.00 seconds est.remaining:  0.49 seconds\n",
      "Scanned 68.0% elapsed:  1.00 seconds est.remaining:  0.47 seconds\n",
      "Scanned 69.0% elapsed:  1.00 seconds est.remaining:  0.45 seconds\n",
      "Scanned 70.0% elapsed:  1.00 seconds est.remaining:  0.43 seconds\n",
      "Scanned 71.0% elapsed:  1.00 seconds est.remaining:  0.41 seconds\n",
      "Scanned 72.0% elapsed:  1.00 seconds est.remaining:  0.39 seconds\n",
      "Scanned 73.0% elapsed:  1.00 seconds est.remaining:  0.37 seconds\n",
      "Scanned 74.0% elapsed:  1.00 seconds est.remaining:  0.35 seconds\n",
      "Scanned 75.0% elapsed:  1.00 seconds est.remaining:  0.33 seconds\n",
      "Scanned 76.0% elapsed:  1.00 seconds est.remaining:  0.32 seconds\n",
      "Scanned 77.0% elapsed:  1.00 seconds est.remaining:  0.30 seconds\n",
      "Scanned 78.0% elapsed:  1.00 seconds est.remaining:  0.28 seconds\n",
      "Scanned 79.0% elapsed:  1.00 seconds est.remaining:  0.27 seconds\n",
      "Scanned 80.0% elapsed:  1.00 seconds est.remaining:  0.25 seconds\n",
      "Scanned 81.0% elapsed:  1.00 seconds est.remaining:  0.23 seconds\n",
      "Scanned 82.0% elapsed:  1.00 seconds est.remaining:  0.22 seconds\n",
      "Scanned 83.0% elapsed:  1.00 seconds est.remaining:  0.20 seconds\n",
      "Scanned 84.0% elapsed:  1.00 seconds est.remaining:  0.19 seconds\n",
      "Scanned 85.0% elapsed:  1.00 seconds est.remaining:  0.18 seconds\n",
      "Scanned 86.0% elapsed:  1.00 seconds est.remaining:  0.16 seconds\n",
      "Scanned 87.0% elapsed:  1.00 seconds est.remaining:  0.15 seconds\n",
      "Scanned 88.0% elapsed:  1.00 seconds est.remaining:  0.14 seconds\n",
      "Scanned 89.0% elapsed:  1.00 seconds est.remaining:  0.12 seconds\n",
      "Scanned 90.0% elapsed:  1.00 seconds est.remaining:  0.11 seconds\n",
      "Scanned 91.0% elapsed:  1.00 seconds est.remaining:  0.10 seconds\n",
      "Scanned 92.0% elapsed:  1.00 seconds est.remaining:  0.09 seconds\n",
      "Scanned 93.0% elapsed:  1.00 seconds est.remaining:  0.08 seconds\n",
      "Scanned 94.0% elapsed:  1.00 seconds est.remaining:  0.06 seconds\n",
      "Scanned 95.0% elapsed:  1.00 seconds est.remaining:  0.05 seconds\n",
      "Scanned 96.0% elapsed:  1.00 seconds est.remaining:  0.04 seconds\n",
      "Scanned 97.0% elapsed:  1.00 seconds est.remaining:  0.03 seconds\n",
      "Scanned 98.0% elapsed:  1.00 seconds est.remaining:  0.02 seconds\n",
      "Scanned 99.0% elapsed:  1.00 seconds est.remaining:  0.01 seconds\n"
     ]
    },
    {
     "data": {
      "text/plain": [
       "*PDB-LAYOUT*"
      ]
     },
     "execution_count": 30,
     "metadata": {},
     "output_type": "execute_result"
    }
   ],
   "source": [
    "(defparameter *pdb-layout* (leap.pdb:scanpdb \"5t6o.pdb\" :progress t))"
   ]
  },
  {
   "cell_type": "code",
   "execution_count": 31,
   "metadata": {},
   "outputs": [
    {
     "name": "stdout",
     "output_type": "stream",
     "text": [
      "Load pdb 0.0%\n",
      "Load pdb 1.0%\n",
      "Load pdb 2.0%\n",
      "Load pdb 3.0%\n",
      "Load pdb 4.0%\n",
      "Load pdb 5.0%\n",
      "Load pdb 6.0%\n",
      "Load pdb 7.0%\n",
      "Load pdb 8.0%\n",
      "Load pdb 9.0%\n",
      "Load pdb 10.0%\n",
      "Load pdb 11.0%\n",
      "Load pdb 12.0%\n",
      "Load pdb 13.0%\n",
      "Load pdb 14.0%\n",
      "Load pdb 15.0%\n"
     ]
    },
    {
     "name": "stderr",
     "output_type": "stream",
     "text": [
      "SIMPLE-PROGRAM-ERROR: \n",
      "There are no applicable methods of BUILD-RESIDUE for receiver class SYMBOL\n"
     ]
    },
    {
     "data": {
      "text/plain": [
       "NIL"
      ]
     },
     "execution_count": 31,
     "metadata": {},
     "output_type": "execute_result"
    }
   ],
   "source": [
    "(defparameter *pdb* (leap.pdb:loadpdb \"5t6o.pdb\" :layout *pdb-layout* :progress t))"
   ]
  },
  {
   "cell_type": "code",
   "execution_count": null,
   "metadata": {
    "collapsed": true
   },
   "outputs": [],
   "source": [
    "leap.core::*env"
   ]
  }
 ],
 "metadata": {
  "kernelspec": {
   "display_name": "Clasp Lisp",
   "language": "lisp",
   "name": "lisp"
  },
  "language_info": {
   "codemirror_mode": "text/x-common-lisp",
   "mimetype": "text/x-common-lisp",
   "name": "common-lisp",
   "pygments_lexer": "common-lisp",
   "version": "X3J13"
  }
 },
 "nbformat": 4,
 "nbformat_minor": 2
}
