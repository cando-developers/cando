{
 "cells": [
  {
   "cell_type": "markdown",
   "metadata": {},
   "source": [
    "## Set the enviroments."
   ]
  },
  {
   "cell_type": "markdown",
   "metadata": {},
   "source": [
    "#### Connect to slime."
   ]
  },
  {
   "cell_type": "code",
   "execution_count": null,
   "metadata": {},
   "outputs": [],
   "source": [
    "(length (core:bformat nil \"%16.8e\" 1234.5676))"
   ]
  },
  {
   "cell_type": "code",
   "execution_count": 1,
   "metadata": {
    "scrolled": true
   },
   "outputs": [
    {
     "name": "stdout",
     "output_type": "stream",
     "text": [
      "; Compiling file parallel: /Users/shiho/.emacs.d/slime/contrib/swank-util.lisp\n",
      "   Compile-file-parallel seconds real(0.7) run(0.7) llvm(0.1) link(0.1) (llvm+link)/real(24%)\n",
      "; Compiling file parallel: /Users/shiho/.emacs.d/slime/contrib/swank-repl.lisp\n",
      "   Compile-file-parallel seconds real(3.5) run(3.5) llvm(0.0) link(0.2) (llvm+link)/real(6%)\n",
      "; Compiling file parallel: /Users/shiho/.emacs.d/slime/contrib/swank-c-p-c.lisp\n",
      "   Compile-file-parallel seconds real(3.0) run(3.0) llvm(0.1) link(0.2) (llvm+link)/real(10%)\n",
      "; Compiling file parallel: /Users/shiho/.emacs.d/slime/contrib/swank-arglists.lisp\n",
      "   Compile-file-parallel seconds real(33.2) run(33.2) llvm(1.8) link(1.1) (llvm+link)/real(9%)\n",
      "; Compiling file parallel: /Users/shiho/.emacs.d/slime/contrib/swank-fuzzy.lisp\n",
      "   Compile-file-parallel seconds real(9.5) run(9.5) llvm(0.2) link(0.3) (llvm+link)/real(6%)\n",
      "; Compiling file parallel: /Users/shiho/.emacs.d/slime/contrib/swank-fancy-inspector.lisp\n",
      "   Compile-file-parallel seconds real(23.0) run(23.0) llvm(0.3) link(0.8) (llvm+link)/real(4%)\n",
      "; Compiling file parallel: /Users/shiho/.emacs.d/slime/contrib/swank-presentations.lisp\n",
      "   Compile-file-parallel seconds real(1.7) run(1.7) llvm(0) link(0.2) (llvm+link)/real(9%)\n",
      "; Compiling file parallel: /Users/shiho/.emacs.d/slime/contrib/swank-presentation-streams.lisp\n",
      "   Compile-file-parallel seconds real(2.0) run(2.0) llvm(0.2) link(0.2) (llvm+link)/real(16%)\n",
      "; Compiling file parallel: /Users/shiho/.emacs.d/slime/contrib/swank-asdf.lisp\n",
      "   Compile-file-parallel seconds real(6.9) run(6.9) llvm(0.2) link(0.3) (llvm+link)/real(8%)\n",
      "; Compiling file parallel: /Users/shiho/.emacs.d/slime/contrib/swank-package-fu.lisp\n",
      "   Compile-file-parallel seconds real(0.5) run(0.5) llvm(0) link(0.1) (llvm+link)/real(22%)\n",
      "; Compiling file parallel: /Users/shiho/.emacs.d/slime/contrib/swank-hyperdoc.lisp\n",
      "   Compile-file-parallel seconds real(0.1) run(0.1) llvm(0) link(0.1) (llvm+link)/real(59%)\n",
      "; Compiling file parallel: /Users/shiho/.emacs.d/slime/contrib/swank-mrepl.lisp\n",
      "   Compile-file-parallel seconds real(2.8) run(2.8) llvm(0.0) link(0.2) (llvm+link)/real(8%)\n",
      "; Compiling file parallel: /Users/shiho/.emacs.d/slime/contrib/swank-trace-dialog.lisp\n",
      "   Compile-file-parallel seconds real(4.3) run(4.3) llvm(0.0) link(0.2) (llvm+link)/real(7%)\n",
      "; Compiling file parallel: /Users/shiho/.emacs.d/slime/contrib/swank-macrostep.lisp\n",
      "   Compile-file-parallel seconds real(3.0) run(3.0) llvm(0.1) link(0.2) (llvm+link)/real(11%)\n",
      "; Compiling file parallel: /Users/shiho/.emacs.d/slime/contrib/swank-quicklisp.lisp\n",
      "   Compile-file-parallel seconds real(0.1) run(0.1) llvm(0) link(0.1) (llvm+link)/real(68%)\n"
     ]
    },
    {
     "name": "stderr",
     "output_type": "stream",
     "text": [
      "\n",
      "DEPRECATED-FUNCTION-STYLE-WARNING: Using deprecated function UIOP/BACKWARD-DRIVER:COERCE-PATHNAME -- please update your code to use a newer API.\n",
      "The docstring for this function says:\n",
      "DEPRECATED. Please use UIOP:PARSE-UNIX-NAMESTRING instead.\n",
      "\n",
      "\n",
      "DEPRECATED-FUNCTION-STYLE-WARNING: Using deprecated function UIOP/BACKWARD-DRIVER:COERCE-PATHNAME -- please update your code to use a newer API.\n",
      "The docstring for this function says:\n",
      "DEPRECATED. Please use UIOP:PARSE-UNIX-NAMESTRING instead.\n",
      "\n",
      "\n",
      "DEPRECATED-FUNCTION-STYLE-WARNING: Using deprecated function UIOP/BACKWARD-DRIVER:COERCE-PATHNAME -- please update your code to use a newer API.\n",
      "The docstring for this function says:\n",
      "DEPRECATED. Please use UIOP:PARSE-UNIX-NAMESTRING instead.\n",
      "\n",
      "\n",
      "DEPRECATED-FUNCTION-STYLE-WARNING: Using deprecated function ASDF/BACKWARD-INTERNALS:LOAD-SYSDEF -- please update your code to use a newer API.\n",
      "\n",
      "DEPRECATED-FUNCTION-STYLE-WARNING: Using deprecated function ASDF/BACKWARD-INTERFACE:SYSTEM-DEFINITION-PATHNAME -- please update your code to use a newer API.\n",
      "The docstring for this function says:\n",
      "DEPRECATED. This function used to expose ASDF internals with subtle\n",
      "differences with respect to user expectations, that have been refactored\n",
      "away since. We recommend you use ASDF:SYSTEM-SOURCE-FILE instead for a\n",
      "mostly compatible replacement that we're supporting, or even\n",
      "ASDF:SYSTEM-SOURCE-DIRECTORY or ASDF:SYSTEM-RELATIVE-PATHNAME\n",
      "if that's whay you mean.\n",
      "\n",
      "\n",
      "DEPRECATED-FUNCTION-STYLE-WARNING: Using deprecated function ASDF/BACKWARD-INTERFACE:SYSTEM-DEFINITION-PATHNAME -- please update your code to use a newer API.\n",
      "The docstring for this function says:\n",
      "DEPRECATED. This function used to expose ASDF internals with subtle\n",
      "differences with respect to user expectations, that have been refactored\n",
      "away since. We recommend you use ASDF:SYSTEM-SOURCE-FILE instead for a\n",
      "mostly compatible replacement that we're supporting, or even\n",
      "ASDF:SYSTEM-SOURCE-DIRECTORY or ASDF:SYSTEM-RELATIVE-PATHNAME\n",
      "if that's whay you mean.\n",
      "\n",
      "\n",
      "DEPRECATED-FUNCTION-STYLE-WARNING: Using deprecated function ASDF/BACKWARD-INTERFACE:SYSTEM-DEFINITION-PATHNAME -- please update your code to use a newer API.\n",
      "The docstring for this function says:\n",
      "DEPRECATED. This function used to expose ASDF internals with subtle\n",
      "differences with respect to user expectations, that have been refactored\n",
      "away since. We recommend you use ASDF:SYSTEM-SOURCE-FILE instead for a\n",
      "mostly compatible replacement that we're supporting, or even\n",
      "ASDF:SYSTEM-SOURCE-DIRECTORY or ASDF:SYSTEM-RELATIVE-PATHNAME\n",
      "if that's whay you mean.\n",
      "\n",
      "\n",
      "DEPRECATED-FUNCTION-STYLE-WARNING: Using deprecated function ASDF/BACKWARD-INTERFACE:SYSTEM-DEFINITION-PATHNAME -- please update your code to use a newer API.\n",
      "The docstring for this function says:\n",
      "DEPRECATED. This function used to expose ASDF internals with subtle\n",
      "differences with respect to user expectations, that have been refactored\n",
      "away since. We recommend you use ASDF:SYSTEM-SOURCE-FILE instead for a\n",
      "mostly compatible replacement that we're supporting, or even\n",
      "ASDF:SYSTEM-SOURCE-DIRECTORY or ASDF:SYSTEM-RELATIVE-PATHNAME\n",
      "if that's whay you mean.\n",
      "\n",
      "\n",
      "Iteration in LOOP follows body code.\n",
      "Current LOOP context: FOR TRACE = (AREF *TRACES* *VISITOR-IDX*) COLLECT.\n"
     ]
    },
    {
     "data": {
      "text/plain": [
       "T"
      ]
     },
     "execution_count": 1,
     "metadata": {},
     "output_type": "execute_result"
    }
   ],
   "source": [
    "(start-swank)"
   ]
  },
  {
   "cell_type": "markdown",
   "metadata": {},
   "source": [
    "#### Add paths."
   ]
  },
  {
   "cell_type": "code",
   "execution_count": 2,
   "metadata": {
    "scrolled": true
   },
   "outputs": [
    {
     "data": {
      "text/plain": [
       "(#P\"/Users/shiho/Development/amber18/dat/antechamber/\"\n",
       " #P\"/Users/shiho/Development/amber18/dat/leap/prep/\"\n",
       " #P\"/Users/shiho/Development/amber18/dat/leap/parm/\"\n",
       " #P\"/Users/shiho/Development/amber18/dat/leap/lib/\"\n",
       " #P\"/Users/shiho/Development/amber18/dat/leap/cmd/\"\n",
       " #P\"/Users/shiho/Development/cando/extensions/cando/src/tests/alanine-demo/\")"
      ]
     },
     "execution_count": 2,
     "metadata": {},
     "output_type": "execute_result"
    }
   ],
   "source": [
    "(leap.core::clear-path)\n",
    "(add-path *default-pathname-defaults*)\n",
    "(add-path \"~/Development/amber18/dat/leap/cmd/\")\n",
    "(add-path \"~/Development/amber18/dat/leap/lib/\")\n",
    "(add-path \"~/Development/amber18/dat/leap/parm/\")\n",
    "(add-path \"~/Development/amber18/dat/leap/prep/\")\n",
    "(add-path \"~/Development/amber18/dat/antechamber/\")"
   ]
  },
  {
   "cell_type": "markdown",
   "metadata": {},
   "source": [
    "#### Load the amber force field."
   ]
  },
  {
   "cell_type": "code",
   "execution_count": 3,
   "metadata": {},
   "outputs": [
    {
     "data": {
      "text/plain": [
       "NIL"
      ]
     },
     "execution_count": 3,
     "metadata": {},
     "output_type": "execute_result"
    }
   ],
   "source": [
    "(leap.core::clear-force-field)"
   ]
  },
  {
   "cell_type": "code",
   "execution_count": 4,
   "metadata": {},
   "outputs": [
    {
     "data": {
      "text/plain": [
       "(#<FORCE-FIELD ATOMTYPE_AMBER.DEF>)"
      ]
     },
     "execution_count": 4,
     "metadata": {},
     "output_type": "execute_result"
    }
   ],
   "source": [
    "(load-atom-type-rules \"ATOMTYPE_AMBER.DEF\")"
   ]
  },
  {
   "cell_type": "code",
   "execution_count": 5,
   "metadata": {
    "scrolled": true
   },
   "outputs": [
    {
     "name": "stderr",
     "output_type": "stream",
     "text": [
      "\n",
      "add-atom-types doesn't do anything\n",
      "\n",
      "Warning!  Skipping 10-12 hbond\n",
      "\n",
      "\n",
      "Warning!  Skipping force field atom equivalences\n",
      "\n"
     ]
    },
    {
     "data": {
      "text/plain": [
       "T"
      ]
     },
     "execution_count": 5,
     "metadata": {},
     "output_type": "execute_result"
    }
   ],
   "source": [
    "(source \"leaprc.protein.ff14SB\")"
   ]
  },
  {
   "cell_type": "code",
   "execution_count": 6,
   "metadata": {},
   "outputs": [
    {
     "data": {
      "text/plain": [
       "(#<FORCE-FIELD water_amber.def> #<FORCE-FIELD frcmod.ff14SB>\n",
       " #<FORCE-FIELD parm10.dat> #<FORCE-FIELD ATOMTYPE_AMBER.DEF>)"
      ]
     },
     "execution_count": 6,
     "metadata": {},
     "output_type": "execute_result"
    }
   ],
   "source": [
    "(load-atom-type-rules \"water_amber.def\")"
   ]
  },
  {
   "cell_type": "code",
   "execution_count": 7,
   "metadata": {
    "scrolled": true
   },
   "outputs": [
    {
     "data": {
      "text/plain": [
       "*FF*"
      ]
     },
     "execution_count": 7,
     "metadata": {},
     "output_type": "execute_result"
    }
   ],
   "source": [
    "(:= *ff* (leap.core::merged-force-field))"
   ]
  },
  {
   "cell_type": "markdown",
   "metadata": {},
   "source": [
    "## Create topology and coordinate file for Alanine"
   ]
  },
  {
   "cell_type": "markdown",
   "metadata": {},
   "source": [
    "#### Load the alanine from Chemdraw file."
   ]
  },
  {
   "cell_type": "code",
   "execution_count": 12,
   "metadata": {
    "scrolled": true
   },
   "outputs": [
    {
     "data": {
      "text/plain": [
       "*CHEMAGG*"
      ]
     },
     "execution_count": 12,
     "metadata": {},
     "output_type": "execute_result"
    }
   ],
   "source": [
    "(defparameter *chemagg* (cando:load-chem-draw-aggregate \"alanine2.cdxml\"))"
   ]
  },
  {
   "cell_type": "code",
   "execution_count": 8,
   "metadata": {},
   "outputs": [
    {
     "data": {
      "text/plain": [
       "NIL"
      ]
     },
     "execution_count": 8,
     "metadata": {},
     "output_type": "execute_result"
    }
   ],
   "source": [
    "(build-hydrogens *chemagg*)"
   ]
  },
  {
   "cell_type": "code",
   "execution_count": 9,
   "metadata": {},
   "outputs": [
    {
     "name": "stderr",
     "output_type": "stream",
     "text": [
      "\n",
      "An error occurred of type: UNDEFINED-FUNCTION: \n",
      "  The function CANDO::SHOW-AGGREGATE is undefined.\n",
      "\n",
      "serious-condition backtrace:\n",
      "0: (ERROR UNDEFINED-FUNCTION :NAME CANDO::SHOW-AGGREGATE)\n",
      "1: (LAMBDA)\n",
      "\n"
     ]
    },
    {
     "data": {
      "text/plain": [
       "NIL"
      ]
     },
     "execution_count": 9,
     "metadata": {},
     "output_type": "execute_result"
    }
   ],
   "source": [
    "(cando::show-aggregate *chemagg*)"
   ]
  },
  {
   "cell_type": "code",
   "execution_count": 10,
   "metadata": {},
   "outputs": [
    {
     "data": {
      "application/vnd.jupyter.widget-view+json": {
       "model_id": "04E844E9-B403-46A5-B50C-77EE34554824",
       "version_major": 2,
       "version_minor": 0
      },
      "text/plain": [
       "#<NGLV:NGLWIDGET>"
      ]
     },
     "execution_count": 10,
     "metadata": {},
     "output_type": "execute_result"
    }
   ],
   "source": [
    "(show *chemagg*)"
   ]
  },
  {
   "cell_type": "markdown",
   "metadata": {},
   "source": [
    "#### Gather atoms to the center."
   ]
  },
  {
   "cell_type": "code",
   "execution_count": 11,
   "metadata": {},
   "outputs": [
    {
     "name": "stderr",
     "output_type": "stream",
     "text": [
      "Reader error: Cannot find the external symbol CHEM-INFO in #<PACKAGE CHEM> (condition of type SIMPLE-PROGRAM-ERROR)\n"
     ]
    },
    {
     "data": {
      "text/plain": [
       "NIL"
      ]
     },
     "execution_count": 11,
     "metadata": {},
     "output_type": "execute_result"
    }
   ],
   "source": [
    "(progn\n",
    "  (defparameter *stereocenters*\n",
    "    (sort (cando:gather-stereocenters *chemagg*) #'string< :key #'chem:get-name))\n",
    "  (cando:set-stereoisomer-func *stereocenters* (constantly :S) :show t)\n",
    "  (let ((quat-matcher (core:make-cxx-object 'chem:chem-info)))\n",
    "    (chem:compile-smarts quat-matcher \"[C&H0&D4]\")\n",
    "    (chem:map-atoms nil (lambda (a) (when (chem:matches quat-matcher a)\n",
    "                  (chem:set-configuration a :S)\n",
    "                  (format t \"Set atom ~a to :S~%\" (chem:get-name a))))\n",
    "            *chemagg*)))"
   ]
  },
  {
   "cell_type": "code",
   "execution_count": null,
   "metadata": {},
   "outputs": [],
   "source": [
    "(:= *chemaagg* (load-mol2 \"alanin-leap.mol2\"))"
   ]
  },
  {
   "cell_type": "markdown",
   "metadata": {},
   "source": [
    "#### Set the bounding box."
   ]
  },
  {
   "cell_type": "markdown",
   "metadata": {},
   "source": [
    "#### Assign atom types and change one of them for alanine atom type definition."
   ]
  },
  {
   "cell_type": "code",
   "execution_count": 10,
   "metadata": {},
   "outputs": [
    {
     "data": {
      "text/plain": [
       "NIL"
      ]
     },
     "execution_count": 10,
     "metadata": {},
     "output_type": "execute_result"
    }
   ],
   "source": [
    "(assign-atom-types *chemagg*)\n",
    "(chem:map-atoms 'nil (lambda (a) (if (eq (chem:get-type a) :CT)\n",
    "                                     (if (eq (chem:get-name a) :C)\n",
    "                                         (chem:set-type a :CX)))) *chemagg*)"
   ]
  },
  {
   "cell_type": "code",
   "execution_count": 11,
   "metadata": {},
   "outputs": [
    {
     "name": "stdout",
     "output_type": "stream",
     "text": [
      "ASSIGN-ATOM-TYPES  Function\n"
     ]
    },
    {
     "data": {
      "text/plain": [
       "NIL"
      ]
     },
     "execution_count": 11,
     "metadata": {},
     "output_type": "execute_result"
    }
   ],
   "source": [
    "(apropos \"assign-atom-types\")"
   ]
  },
  {
   "cell_type": "code",
   "execution_count": 12,
   "metadata": {},
   "outputs": [
    {
     "name": "stdout",
     "output_type": "stream",
     "text": [
      "type O name O\n",
      " type C name C\n",
      " type CT name C_0\n",
      " type N name NH\n",
      " type H1 name H\n",
      " type CT name CH3\n",
      " type HC name HH31\n",
      " type HC name HH32\n",
      " type HC name HH33\n",
      " type H name HH\n",
      " type O name O\n",
      " type C name C\n",
      " type CT name CH3\n",
      " type HC name HH31\n",
      " type HC name HH32\n",
      " type HC name HH33\n",
      " type N name NH\n",
      " type CT name CH3\n",
      " type H1 name HH31\n",
      " type H1 name HH32\n",
      " type H1 name HH33\n",
      " type H name HH\n",
      " "
     ]
    },
    {
     "data": {
      "text/plain": [
       "NIL"
      ]
     },
     "execution_count": 12,
     "metadata": {},
     "output_type": "execute_result"
    }
   ],
   "source": [
    "(chem:map-atoms 'nil (lambda (a)  (format t \"type ~a name ~a~% \" (chem:get-type a) (chem:get-name a)))\n",
    "                             *chemagg*)"
   ]
  },
  {
   "cell_type": "code",
   "execution_count": 13,
   "metadata": {},
   "outputs": [
    {
     "name": "stderr",
     "output_type": "stream",
     "text": [
      "Reader error: At\n",
      "\n",
      "  \n",
      "(chem:map-atoms 'nil (la\n",
      "  ^ (Line 2, Column 0, Position 1)\n",
      "\n",
      "In context LEAP:\n",
      "\n",
      "While parsing VARIABLE-NAME. Expected:\n",
      "\n",
      "     a character in [a-z] or [A-Z] or [0-9] or [.] or [_]\n",
      "\n",
      "While parsing FUNCTION-NAME-STRING. Expected:\n",
      "\n",
      "     a character in [a-z] or [A-Z] or [0-9]\n",
      "\n",
      "While parsing SHELL-STYLE-COMMENT. Expected:\n",
      "\n",
      "     the character # (NUMBER_SIGN)\n",
      "\n",
      "While parsing SPACOID-CHARACTER. Expected:\n",
      "\n",
      "     the character Tab\n",
      "  or the character Space\n",
      "\n",
      "While parsing NEWLINE. Expected:\n",
      "\n",
      "     the character Newline\n",
      "\n",
      "While parsing TOKEN-;. Expected:\n",
      "\n",
      "     the character ; (SEMICOLON) (condition of type ESRAP-PARSE-ERROR)\n"
     ]
    },
    {
     "data": {
      "text/plain": [
       "NIL"
      ]
     },
     "execution_count": 13,
     "metadata": {},
     "output_type": "execute_result"
    }
   ],
   "source": [
    "\n",
    "(chem:map-atoms 'nil (lambda (a) (if (eq (chem:get-name a) :C_0)\n",
    "                                     (format t \"type ~a name ~a \" (chem:get-type a) (chem:get-name a))))\n",
    "                             *chemagg*)"
   ]
  },
  {
   "cell_type": "markdown",
   "metadata": {},
   "source": [
    "####  Assign force-field parameters and minimize the energy of the molecule."
   ]
  },
  {
   "cell_type": "code",
   "execution_count": 13,
   "metadata": {},
   "outputs": [
    {
     "data": {
      "text/plain": [
       "NIL"
      ]
     },
     "execution_count": 13,
     "metadata": {},
     "output_type": "execute_result"
    }
   ],
   "source": [
    "(cando:jostle *chemagg*)"
   ]
  },
  {
   "cell_type": "code",
   "execution_count": 14,
   "metadata": {},
   "outputs": [
    {
     "name": "stderr",
     "output_type": "stream",
     "text": [
      "\n",
      "An error occurred of type: SIMPLE-PROGRAM-ERROR: \n",
      "  Chiral center (ATOM(:C_0[residue(NIL)@0x11cdaac88]bonds[4])) with configuration settings[UndefinedConfiguration/ChiralCenter] doesn't have its configuration set\n",
      "\n",
      "serious-condition backtrace:\n",
      "0: (ERROR CORE:SIMPLE-PROGRAM-ERROR :FORMAT-CONTROL \"Chiral center (ATOM(:C_0[residue(NIL)@0x11cdaac88]bonds[4])) with configuration settings[UndefinedConfiguration/ChiralCenter] doesn't have its configuration set\" :FORMAT-ARGUMENTS NIL)\n",
      "1: (APPLY #<FUNCTION ERROR> CORE:SIMPLE-PROGRAM-ERROR :FORMAT-CONTROL \"Chiral center (ATOM(:C_0[residue(NIL)@0x11cdaac88]bonds[4])) with configuration settings[UndefinedConfiguration/ChiralCenter] doesn't have its configuration set\" :FORMAT-ARGUMENTS NIL NIL)\n",
      "2: (SIGNAL-SIMPLE-ERROR CORE:SIMPLE-PROGRAM-ERROR NIL \"Chiral center (ATOM(:C_0[residue(NIL)@0x11cdaac88]bonds[4])) with configuration settings[UndefinedConfiguration/ChiralCenter] doesn't have its configuration set\" NIL)\n",
      "3: (MINIMIZE #<AGGREGATE NIL>)\n",
      "4: (LAMBDA)\n",
      "\n"
     ]
    },
    {
     "data": {
      "text/plain": [
       "NIL"
      ]
     },
     "execution_count": 14,
     "metadata": {},
     "output_type": "execute_result"
    }
   ],
   "source": [
    "(defparameter *ee* (energy:minimize *chemagg*))"
   ]
  },
  {
   "cell_type": "markdown",
   "metadata": {},
   "source": [
    "#### Visualize the minimized structure and demonstrate that the force field parameters lead to the construction of a chemically"
   ]
  },
  {
   "cell_type": "markdown",
   "metadata": {},
   "source": [
    "#### reasonable structure."
   ]
  },
  {
   "cell_type": "code",
   "execution_count": 15,
   "metadata": {},
   "outputs": [
    {
     "data": {
      "application/vnd.jupyter.widget-view+json": {
       "model_id": "348C1D64-6ED9-4F34-B5E4-6612E4C64539",
       "version_major": 2,
       "version_minor": 0
      },
      "text/plain": [
       "#<NGLV:NGLWIDGET>"
      ]
     },
     "execution_count": 15,
     "metadata": {},
     "output_type": "execute_result"
    }
   ],
   "source": [
    "(show *chemagg*)"
   ]
  },
  {
   "cell_type": "code",
   "execution_count": 27,
   "metadata": {},
   "outputs": [
    {
     "data": {
      "application/vnd.jupyter.widget-view+json": {
       "model_id": "4BF6DEA9-675C-4429-AF9A-12AD02A395E2",
       "version_major": 2,
       "version_minor": 0
      },
      "text/html": [
       "<p>Failed to display Jupyter Widget of type <code>{widget_type}</code>.</p>\n",
       "<p>\n",
       "  If you're reading this message in the Jupyter Notebook or JupyterLab Notebook, it may mean\n",
       "  that the widgets JavaScript is still loading. If this message persists, it\n",
       "  likely means that the widgets JavaScript library is either not installed or\n",
       "  not enabled. See the <a href=\"https://ipywidgets.readthedocs.io/en/stable/user_install.html\">Jupyter\n",
       "  Widgets Documentation</a> for setup instructions.\n",
       "</p>\n",
       "<p>\n",
       "  If you're reading this message in another frontend (for example, a static\n",
       "  rendering on GitHub or <a href=\"https://nbviewer.jupyter.org/\">NBViewer</a>),\n",
       "  it may mean that your frontend doesn't currently support widgets.\n",
       "</p>\n"
      ],
      "text/plain": [
       "A Jupyter Widget"
      ]
     },
     "execution_count": 27,
     "metadata": {},
     "output_type": "execute_result"
    }
   ],
   "source": [
    "(cando::show-aggregate *chemagg*)"
   ]
  },
  {
   "cell_type": "code",
   "execution_count": 28,
   "metadata": {},
   "outputs": [
    {
     "name": "stdout",
     "output_type": "stream",
     "text": [
      "rings NIL\n",
      "rings NIL\n",
      "rings NIL\n",
      "rings NIL\n",
      "rings NIL\n",
      "rings NIL\n"
     ]
    },
    {
     "data": {
      "text/plain": [
       "*BCC*"
      ]
     },
     "execution_count": 28,
     "metadata": {},
     "output_type": "execute_result"
    }
   ],
   "source": [
    "(:= *bcc* (charges:calculate-bcc-corrections *chemagg*))"
   ]
  },
  {
   "cell_type": "code",
   "execution_count": 29,
   "metadata": {},
   "outputs": [
    {
     "data": {
      "text/plain": [
       "*ORDER*"
      ]
     },
     "execution_count": 29,
     "metadata": {},
     "output_type": "execute_result"
    }
   ],
   "source": [
    " (:= *order* (charges:write-sqm-calculation (open \"/tmp/sqm-input.txt\" :direction :output) *chemagg*))"
   ]
  },
  {
   "cell_type": "code",
   "execution_count": 30,
   "metadata": {},
   "outputs": [
    {
     "data": {
      "text/plain": [
       "0"
      ]
     },
     "execution_count": 30,
     "metadata": {},
     "output_type": "execute_result"
    }
   ],
   "source": [
    "(ext:vfork-execvp (list (namestring (translate-logical-pathname #P\"amber:bin;sqm\"))\n",
    "                             \"-O\"\n",
    "                             \"-i\" \"/tmp/sqm-input.txt\"\n",
    "                             \"-o\" \"/tmp/sqm-output.out\"))"
   ]
  },
  {
   "cell_type": "code",
   "execution_count": 31,
   "metadata": {},
   "outputs": [
    {
     "data": {
      "text/plain": [
       "*AM1*"
      ]
     },
     "execution_count": 31,
     "metadata": {},
     "output_type": "execute_result"
    }
   ],
   "source": [
    "(:= *am1* (charges:read-am1-charges \"/tmp/sqm-output.out\" *order*))"
   ]
  },
  {
   "cell_type": "code",
   "execution_count": 32,
   "metadata": {},
   "outputs": [
    {
     "name": "stdout",
     "output_type": "stream",
     "text": [
      "atom #<ATOM :HH32/:H> charge 0.085d0\n",
      "atom #<ATOM :HH32/:H> charge 0.10300000000000001d0\n",
      "atom #<ATOM :HH33/:H> charge 0.093d0\n",
      "atom #<ATOM :HH31/:H> charge 0.10400000000000001d0\n",
      "atom #<ATOM :NH/:N> charge -0.376d0\n",
      "atom #<ATOM :C/:C> charge 0.301d0\n",
      "atom #<ATOM :H/:H> charge 0.137d0\n",
      "atom #<ATOM :CH3/:C> charge -0.079d0\n",
      "atom #<ATOM :CH3/:C> charge -0.22d0\n",
      "atom #<ATOM :HH32/:H> charge 0.07100000000000001d0\n",
      "atom #<ATOM :C_0/:C> charge 0.006d0\n",
      "atom #<ATOM :HH/:H> charge 0.227d0\n",
      "atom #<ATOM :HH31/:H> charge 0.117d0\n",
      "atom #<ATOM :NH/:N> charge -0.363d0\n",
      "atom #<ATOM :O/:O> charge -0.38d0\n",
      "atom #<ATOM :CH3/:C> charge -0.24200000000000002d0\n",
      "atom #<ATOM :C/:C> charge 0.274d0\n",
      "atom #<ATOM :HH33/:H> charge 0.117d0\n",
      "atom #<ATOM :HH33/:H> charge 0.067d0\n",
      "atom #<ATOM :HH31/:H> charge 0.094d0\n",
      "atom #<ATOM :HH/:H> charge 0.23500000000000001d0\n",
      "atom #<ATOM :O/:O> charge -0.371d0\n"
     ]
    },
    {
     "data": {
      "text/plain": [
       "NIL"
      ]
     },
     "execution_count": 32,
     "metadata": {},
     "output_type": "execute_result"
    }
   ],
   "source": [
    "(maphash (lambda (atom charge) \n",
    "                 (format t \"atom ~a charge ~a~%\" atom charge)) *am1*)"
   ]
  },
  {
   "cell_type": "code",
   "execution_count": 33,
   "metadata": {},
   "outputs": [
    {
     "name": "stdout",
     "output_type": "stream",
     "text": [
      "atom #<ATOM :HH32/:H> charge 0.0393\n",
      "atom #<ATOM :HH32/:H> charge 0.0393\n",
      "atom #<ATOM :HH33/:H> charge 0.0393\n",
      "atom #<ATOM :HH31/:H> charge 0.0393\n",
      "atom #<ATOM :NH/:N> charge -0.0466\n",
      "atom #<ATOM :C/:C> charge 0.1891\n",
      "atom #<ATOM :H/:H> charge 0.0393\n",
      "atom #<ATOM :CH3/:C> charge 0.27609998\n",
      "atom #<ATOM :CH3/:C> charge 0.1179\n",
      "atom #<ATOM :HH32/:H> charge 0.0393\n",
      "atom #<ATOM :C_0/:C> charge 0.1475\n",
      "atom #<ATOM :HH/:H> charge -0.2048\n",
      "atom #<ATOM :HH31/:H> charge 0.0393\n",
      "atom #<ATOM :NH/:N> charge -0.0466\n",
      "atom #<ATOM :O/:O> charge 0.2391\n",
      "atom #<ATOM :CH3/:C> charge 0.0679\n",
      "atom #<ATOM :C/:C> charge 0.1891\n",
      "atom #<ATOM :HH33/:H> charge 0.0393\n",
      "atom #<ATOM :HH33/:H> charge 0.0393\n",
      "atom #<ATOM :HH31/:H> charge 0.0393\n",
      "atom #<ATOM :HH/:H> charge -0.2048\n",
      "atom #<ATOM :O/:O> charge 0.2391\n"
     ]
    },
    {
     "data": {
      "text/plain": [
       "NIL"
      ]
     },
     "execution_count": 33,
     "metadata": {},
     "output_type": "execute_result"
    }
   ],
   "source": [
    "(maphash (lambda (atom charge) \n",
    "                 (format t \"atom ~a charge ~a~%\" atom charge)) *bcc*)"
   ]
  },
  {
   "cell_type": "code",
   "execution_count": 26,
   "metadata": {},
   "outputs": [
    {
     "name": "stdout",
     "output_type": "stream",
     "text": [
      "atom #<ATOM :NH/:N> charge -0.377d0\n",
      "atom #<ATOM :HH/:H> charge 0.23500000000000001d0\n",
      "atom #<ATOM :C_0/:C> charge 0.006d0\n",
      "atom #<ATOM :NH/:N> charge -0.364d0\n",
      "atom #<ATOM :HH33/:H> charge 0.092d0\n",
      "atom #<ATOM :HH32/:H> charge 0.07d0\n",
      "atom #<ATOM :O/:O> charge -0.371d0\n",
      "atom #<ATOM :HH/:H> charge 0.227d0\n",
      "atom #<ATOM :HH32/:H> charge 0.10300000000000001d0\n",
      "atom #<ATOM :H/:H> charge 0.137d0\n",
      "atom #<ATOM :HH31/:H> charge 0.094d0\n",
      "atom #<ATOM :HH33/:H> charge 0.117d0\n",
      "atom #<ATOM :CH3/:C> charge -0.079d0\n",
      "atom #<ATOM :CH3/:C> charge -0.24100000000000002d0\n",
      "atom #<ATOM :O/:O> charge -0.38d0\n",
      "atom #<ATOM :HH31/:H> charge 0.117d0\n",
      "atom #<ATOM :CH3/:C> charge -0.22d0\n",
      "atom #<ATOM :C/:C> charge 0.275d0\n",
      "atom #<ATOM :HH31/:H> charge 0.10400000000000001d0\n",
      "atom #<ATOM :C/:C> charge 0.302d0\n",
      "atom #<ATOM :HH32/:H> charge 0.084d0\n",
      "atom #<ATOM :HH33/:H> charge 0.068d0\n"
     ]
    },
    {
     "data": {
      "text/plain": [
       "NIL"
      ]
     },
     "execution_count": 26,
     "metadata": {},
     "output_type": "execute_result"
    }
   ],
   "source": [
    "(maphash (lambda (atom charge) \n",
    "                 (format t \"atom ~a charge ~a~%\" atom charge)) *am1*)"
   ]
  },
  {
   "cell_type": "code",
   "execution_count": 34,
   "metadata": {},
   "outputs": [
    {
     "name": "stdout",
     "output_type": "stream",
     "text": [
      "rings NIL\n",
      "rings NIL\n",
      "rings NIL\n",
      "rings NIL\n",
      "rings NIL\n",
      "rings NIL\n"
     ]
    },
    {
     "data": {
      "text/plain": [
       "NIL"
      ]
     },
     "execution_count": 34,
     "metadata": {},
     "output_type": "execute_result"
    }
   ],
   "source": [
    "(charges:calculate-am1-bcc-charges *chemagg*)"
   ]
  },
  {
   "cell_type": "code",
   "execution_count": 7,
   "metadata": {},
   "outputs": [
    {
     "name": "stderr",
     "output_type": "stream",
     "text": [
      "\n",
      "An error occurred of type: UNBOUND-VARIABLE: \n",
      "  The variable *CHEMAGG* is unbound.\n",
      "\n",
      "serious-condition backtrace:\n",
      "0: (ERROR UNBOUND-VARIABLE :NAME *CHEMAGG*)\n",
      "1: (LAMBDA)\n",
      "\n"
     ]
    },
    {
     "data": {
      "text/plain": [
       "NIL"
      ]
     },
     "execution_count": 7,
     "metadata": {},
     "output_type": "execute_result"
    }
   ],
   "source": [
    "(save-mol2 *chemagg* \"alanine.mol2\")"
   ]
  },
  {
   "cell_type": "markdown",
   "metadata": {},
   "source": [
    "#### Assign atom types and change one of them for alanine atom type definition."
   ]
  },
  {
   "cell_type": "code",
   "execution_count": 37,
   "metadata": {},
   "outputs": [
    {
     "data": {
      "text/plain": [
       "NIL"
      ]
     },
     "execution_count": 37,
     "metadata": {},
     "output_type": "execute_result"
    }
   ],
   "source": [
    "(assign-atom-types *chemagg*)\n",
    "(chem:map-atoms 'nil (lambda (a) (if (eq (chem:get-type a) :CT)\n",
    "                                     (if (eq (chem:get-name a) :C)\n",
    "                                         (chem:set-type a :CX)))) *chemagg*)"
   ]
  },
  {
   "cell_type": "markdown",
   "metadata": {},
   "source": [
    "#### Save the topology file and coordinate file."
   ]
  },
  {
   "cell_type": "code",
   "execution_count": 38,
   "metadata": {},
   "outputs": [
    {
     "data": {
      "text/plain": [
       "T"
      ]
     },
     "execution_count": 38,
     "metadata": {},
     "output_type": "execute_result"
    }
   ],
   "source": [
    "(leap.topology:save-amber-parm-format *chemagg* \"chemagg.top\" \"chemagg.crd\" :assign-types nil)"
   ]
  },
  {
   "cell_type": "markdown",
   "metadata": {},
   "source": [
    "## Create topology and coordinate file for Alanine and water atoms."
   ]
  },
  {
   "cell_type": "markdown",
   "metadata": {},
   "source": [
    "#### Load Tip3pfbox water box."
   ]
  },
  {
   "cell_type": "code",
   "execution_count": 13,
   "metadata": {},
   "outputs": [
    {
     "data": {
      "text/plain": [
       "(:TIP3PFBOX)"
      ]
     },
     "execution_count": 13,
     "metadata": {},
     "output_type": "execute_result"
    }
   ],
   "source": [
    "(load-off \"tip3pfbox.off\")"
   ]
  },
  {
   "cell_type": "markdown",
   "metadata": {},
   "source": [
    "#### Make agggregate of the water box."
   ]
  },
  {
   "cell_type": "code",
   "execution_count": 14,
   "metadata": {},
   "outputs": [
    {
     "name": "stdout",
     "output_type": "stream",
     "text": [
      "\n",
      "#<AGGREGATE NIL> "
     ]
    },
    {
     "data": {
      "text/plain": [
       "#<AGGREGATE NIL>"
      ]
     },
     "execution_count": 14,
     "metadata": {},
     "output_type": "execute_result"
    }
   ],
   "source": [
    "(print ~tip3pfbox)"
   ]
  },
  {
   "cell_type": "code",
   "execution_count": 15,
   "metadata": {},
   "outputs": [
    {
     "data": {
      "text/plain": [
       "*SOLVENT*"
      ]
     },
     "execution_count": 15,
     "metadata": {},
     "output_type": "execute_result"
    }
   ],
   "source": [
    "(defparameter *solvent* ~tip3pfbox)"
   ]
  },
  {
   "cell_type": "code",
   "execution_count": 16,
   "metadata": {},
   "outputs": [
    {
     "data": {
      "application/vnd.jupyter.widget-view+json": {
       "model_id": "7ABC4635-7EC7-4041-937D-714D62064023",
       "version_major": 2,
       "version_minor": 0
      },
      "text/plain": [
       "#<NGLV:NGLWIDGET>"
      ]
     },
     "execution_count": 16,
     "metadata": {},
     "output_type": "execute_result"
    }
   ],
   "source": [
    "(show *solvent*)"
   ]
  },
  {
   "cell_type": "markdown",
   "metadata": {},
   "source": [
    "#### Assign the atom types of the force field to the water box."
   ]
  },
  {
   "cell_type": "code",
   "execution_count": 17,
   "metadata": {},
   "outputs": [
    {
     "data": {
      "text/plain": [
       "NIL"
      ]
     },
     "execution_count": 17,
     "metadata": {},
     "output_type": "execute_result"
    }
   ],
   "source": [
    "(assign-atom-types *solvent*)"
   ]
  },
  {
   "cell_type": "markdown",
   "metadata": {},
   "source": [
    "#### Add Tip3p water molecules to the alanine."
   ]
  },
  {
   "cell_type": "code",
   "execution_count": 25,
   "metadata": {},
   "outputs": [
    {
     "data": {
      "text/plain": [
       "*CHEMAGG*"
      ]
     },
     "execution_count": 25,
     "metadata": {},
     "output_type": "execute_result"
    }
   ],
   "source": [
    "(:= *chemagg* (load-mol2 \"alanine.mol2\"))"
   ]
  },
  {
   "cell_type": "code",
   "execution_count": 26,
   "metadata": {},
   "outputs": [
    {
     "data": {
      "application/vnd.jupyter.widget-view+json": {
       "model_id": "9823FCA3-27A6-421C-A45C-72D6809D7388",
       "version_major": 2,
       "version_minor": 0
      },
      "text/plain": [
       "#<NGLV:NGLWIDGET>"
      ]
     },
     "execution_count": 26,
     "metadata": {},
     "output_type": "execute_result"
    }
   ],
   "source": [
    "(show *chemagg*)"
   ]
  },
  {
   "cell_type": "code",
   "execution_count": 20,
   "metadata": {},
   "outputs": [
    {
     "name": "stdout",
     "output_type": "stream",
     "text": [
      "Total bounding box for atom centers:   30.93  25.00  23.99\n",
      "There are 1728 solvent molecules and 22 solute atoms\n",
      "Completed  [**************************************************] ETC: --\n"
     ]
    },
    {
     "data": {
      "text/plain": [
       "NIL"
      ]
     },
     "execution_count": 20,
     "metadata": {},
     "output_type": "execute_result"
    }
   ],
   "source": [
    "(leap.solvate::tool-solvate-and-shell *chemagg* *solvent* '(10.0 10.0 10.0))"
   ]
  },
  {
   "cell_type": "code",
   "execution_count": 20,
   "metadata": {},
   "outputs": [
    {
     "name": "stdout",
     "output_type": "stream",
     "text": [
      "SOLVATE-BOX  Function\n",
      "LEAP::SOLVATE-OCT  Function\n",
      "LEAP::SOLVATE-SHELL  Function\n",
      "LEAP.SOLVATE:TOOL-SOLVATE-AND-SHELL  Function\n"
     ]
    },
    {
     "data": {
      "text/plain": [
       "NIL"
      ]
     },
     "execution_count": 20,
     "metadata": {},
     "output_type": "execute_result"
    }
   ],
   "source": [
    "(apropos \"solvate\")"
   ]
  },
  {
   "cell_type": "code",
   "execution_count": 40,
   "metadata": {},
   "outputs": [
    {
     "name": "stdout",
     "output_type": "stream",
     "text": [
      "Total bounding box for atom centers:   50.93  45.00  43.99\n",
      "There are 5832 solvent molecules and 22 solute atoms\n",
      "Completed  [**************************************************] ETC: --"
     ]
    },
    {
     "data": {
      "text/plain": [
       "NIL"
      ]
     },
     "execution_count": 40,
     "metadata": {},
     "output_type": "execute_result"
    }
   ],
   "source": [
    "(solvate-box *chemagg* *solvent* 20.0)"
   ]
  },
  {
   "cell_type": "code",
   "execution_count": 18,
   "metadata": {},
   "outputs": [
    {
     "name": "stdout",
     "output_type": "stream",
     "text": [
      "Total bounding box for atom centers:   50.93  50.93  50.93\n",
      "(box expansion for 'iso' is 31.05357719972584d0 )\n",
      "There are 5832 solvent molecules and 22 solute atoms\n",
      "Completed  [**************************************************] ETC: --"
     ]
    },
    {
     "data": {
      "text/plain": [
       "NIL"
      ]
     },
     "execution_count": 18,
     "metadata": {},
     "output_type": "execute_result"
    }
   ],
   "source": [
    "(leap::solvate-oct *chemagg* *solvent* 20.0)"
   ]
  },
  {
   "cell_type": "code",
   "execution_count": 49,
   "metadata": {},
   "outputs": [
    {
     "name": "stdout",
     "output_type": "stream",
     "text": [
      "Total bounding box for atom centers:   50.93  45.00  43.99\n",
      "There are 5832 solvent molecules and 22 solute atoms\n",
      "Completed  [**************************************************] ETC: --"
     ]
    },
    {
     "data": {
      "text/plain": [
       "NIL"
      ]
     },
     "execution_count": 49,
     "metadata": {},
     "output_type": "execute_result"
    }
   ],
   "source": [
    "(leap::solvate-shell *chemagg* *solvent* 20.0)"
   ]
  },
  {
   "cell_type": "code",
   "execution_count": 21,
   "metadata": {},
   "outputs": [
    {
     "data": {
      "application/vnd.jupyter.widget-view+json": {
       "model_id": "8489415E-6988-426B-ADE9-4238E3C1BE96",
       "version_major": 2,
       "version_minor": 0
      },
      "text/plain": [
       "#<NGLV:NGLWIDGET>"
      ]
     },
     "execution_count": 21,
     "metadata": {},
     "output_type": "execute_result"
    }
   ],
   "source": [
    "(show *chemagg*)"
   ]
  },
  {
   "cell_type": "markdown",
   "metadata": {},
   "source": [
    "#### Save the topology and coordinate file. New aggregate contains water molecules and alanine."
   ]
  },
  {
   "cell_type": "code",
   "execution_count": 22,
   "metadata": {},
   "outputs": [
    {
     "data": {
      "text/plain": [
       "NIL"
      ]
     },
     "execution_count": 22,
     "metadata": {},
     "output_type": "execute_result"
    }
   ],
   "source": [
    "(assign-atom-types *chemagg*)\n",
    "(chem:map-atoms 'nil (lambda (a) (if (eq (chem:get-type a) :CT)\n",
    "                                     (if (eq (chem:get-name a) :C)\n",
    "                                         (chem:set-type a :CX)))) *chemagg*)"
   ]
  },
  {
   "cell_type": "code",
   "execution_count": 29,
   "metadata": {},
   "outputs": [
    {
     "name": "stdout",
     "output_type": "stream",
     "text": [
      "Constructing energy function\n",
      "Writing to /Users/shiho/Development/cando/extensions/cando/src/tests/alanine-demo/chemagg_no_water.top\n",
      "Starting prepare-amber-energy-dihedral\n",
      "Ordering i1,i2,i3,i4 prepare-amber-energy-dihedral\n",
      "1-4 interactions prepare-amber-energy-dihedral\n",
      "Counting w and w/o water prepare-amber-energy-dihedral\n",
      "Extracting prepare-amber-energy-dihedral\n",
      "residue-pointer-prepare-vector #(0 10 16 22)\n",
      "residue-name-vector #(:NIL :NIL :NIL)\n",
      "residue-pointer-vector #(1 11 17 23)\n",
      "Saving     [*****************************************] ETC: --\n"
     ]
    },
    {
     "data": {
      "text/plain": [
       "#(#<RESIDUE :NIL> #<RESIDUE :NIL> #<RESIDUE :NIL>)"
      ]
     },
     "execution_count": 29,
     "metadata": {},
     "output_type": "execute_result"
    }
   ],
   "source": [
    "(leap.topology:save-amber-parm-format *chemagg* \"chemagg_no_water.top\" \"chemagg_nowater.crd\" :assign-types nil)"
   ]
  },
  {
   "cell_type": "code",
   "execution_count": null,
   "metadata": {},
   "outputs": [],
   "source": []
  },
  {
   "cell_type": "code",
   "execution_count": 10,
   "metadata": {},
   "outputs": [
    {
     "data": {
      "application/vnd.jupyter.widget-view+json": {
       "model_id": "43AB7163-CA26-4512-A8B1-F69BC95928B4",
       "version_major": 2,
       "version_minor": 0
      },
      "text/plain": [
       "#<NGLV:NGLWIDGET>"
      ]
     },
     "execution_count": 10,
     "metadata": {},
     "output_type": "execute_result"
    }
   ],
   "source": [
    "(show *chemagg*)"
   ]
  },
  {
   "cell_type": "code",
   "execution_count": null,
   "metadata": {},
   "outputs": [],
   "source": []
  },
  {
   "cell_type": "code",
   "execution_count": null,
   "metadata": {},
   "outputs": [],
   "source": []
  },
  {
   "cell_type": "markdown",
   "metadata": {},
   "source": [
    "#### Calculate each energy parameters."
   ]
  },
  {
   "cell_type": "code",
   "execution_count": 31,
   "metadata": {},
   "outputs": [
    {
     "data": {
      "text/plain": [
       "1720.1189821006878d0"
      ]
     },
     "execution_count": 31,
     "metadata": {},
     "output_type": "execute_result"
    }
   ],
   "source": [
    "(chem:get-energy (chem:get-stretch-component *e*))"
   ]
  },
  {
   "cell_type": "code",
   "execution_count": 32,
   "metadata": {},
   "outputs": [
    {
     "data": {
      "text/plain": [
       "0.30171081698364277d0"
      ]
     },
     "execution_count": 32,
     "metadata": {},
     "output_type": "execute_result"
    }
   ],
   "source": [
    "(chem:get-energy (chem:get-angle-component *e*))"
   ]
  },
  {
   "cell_type": "code",
   "execution_count": 33,
   "metadata": {},
   "outputs": [
    {
     "data": {
      "text/plain": [
       "5.456751705606037d0"
      ]
     },
     "execution_count": 33,
     "metadata": {},
     "output_type": "execute_result"
    }
   ],
   "source": [
    "(chem:get-energy (chem:get-dihedral-component *e*))"
   ]
  },
  {
   "cell_type": "code",
   "execution_count": 34,
   "metadata": {},
   "outputs": [
    {
     "data": {
      "text/plain": [
       "658.8024508583202d0"
      ]
     },
     "execution_count": 34,
     "metadata": {},
     "output_type": "execute_result"
    }
   ],
   "source": [
    "(chem:get-energy (chem:get-nonbond-component *e*))"
   ]
  },
  {
   "cell_type": "code",
   "execution_count": 34,
   "metadata": {},
   "outputs": [
    {
     "name": "stdout",
     "output_type": "stream",
     "text": [
      "CHEM:ADD-SUPERPOSE-ATOM  Function\n",
      "CHEM:CLEAR-SUPERPOSE-ATOMS  Function\n",
      "CHEM:SET-FINAL-COORDINATES-AS-FIXED-WITHIN-SUPERPOSE-ENGINE  Function\n",
      "CHEM:SET-FINAL-COORDINATES-AS-MOVEABLE-WITHIN-SUPERPOSE-ENGINE  Function\n",
      "CHEM:SET-SUPERPOSABLE-COORDINATES-AS-FIXED-WITHIN-SUPERPOSE-ENGINE  Function\n",
      "CHEM:SET-SUPERPOSABLE-COORDINATES-AS-MOVEABLE-WITHIN-SUPERPOSE-ENGINE  Function\n",
      "CHEM:SUPERPOSE  Function\n",
      "CANDO::SUPERPOSE-AGAINST-TEMPLATE  Function\n",
      "CANDO::SUPERPOSE-ALL  Function\n",
      "CHEM:SUPERPOSE-ALL-HEAVY-ATOMS  Function\n",
      "CHEM:SUPERPOSE-ENGINE\n",
      "CANDO::SUPERPOSE-ONE  Function\n",
      "CHEM:SUPERPOSE-SELECTED-ATOMS\n",
      "CHEM::SUPERPOSER\n"
     ]
    },
    {
     "data": {
      "text/plain": [
       "NIL"
      ]
     },
     "execution_count": 34,
     "metadata": {},
     "output_type": "execute_result"
    }
   ],
   "source": [
    "(apropos \"superpose\")"
   ]
  },
  {
   "cell_type": "code",
   "execution_count": 88,
   "metadata": {},
   "outputs": [
    {
     "data": {
      "application/vnd.jupyter.widget-view+json": {
       "model_id": "E7E4F0CF-9CCE-4EF5-B403-2ED852FB34F2",
       "version_major": 2,
       "version_minor": 0
      },
      "text/plain": [
       "A Jupyter Widget"
      ]
     },
     "execution_count": 88,
     "metadata": {},
     "output_type": "execute_result"
    }
   ],
   "source": [
    "(:= w (show *chemagg*)) w"
   ]
  },
  {
   "cell_type": "code",
   "execution_count": 93,
   "metadata": {
    "scrolled": true
   },
   "outputs": [
    {
     "data": {
      "text/plain": [
       "((\"atom\" (\"index\" . 20) (\"residueIndex\" . 2) (\"resname\" . \"NIL_3\")\n",
       "  (\"x\" . 216.329) (\"y\" . 322.549) (\"z\" . -0.62) (\"element\" . \"H\")\n",
       "  (\"chainname\" . \"A\") (\"resno\" . 3) (\"serial\" . 21) (\"vdw\" . 1.1)\n",
       "  (\"covalent\" . 0.31) (\"hetero\" . 1) (\"bfactor\" . 0) (\"altloc\" . \"\")\n",
       "  (\"atomname\" . \"HH33\")))"
      ]
     },
     "execution_count": 93,
     "metadata": {},
     "output_type": "execute_result"
    }
   ],
   "source": [
    "(nglv::picked w)"
   ]
  },
  {
   "cell_type": "code",
   "execution_count": 94,
   "metadata": {},
   "outputs": [
    {
     "data": {
      "text/plain": [
       "DISTANCE"
      ]
     },
     "execution_count": 94,
     "metadata": {},
     "output_type": "execute_result"
    }
   ],
   "source": [
    "(defun distance (p1 p2) (geom:vlength (geom:v- p1 p2)))"
   ]
  },
  {
   "cell_type": "code",
   "execution_count": 95,
   "metadata": {},
   "outputs": [
    {
     "data": {
      "text/plain": [
       "*A*"
      ]
     },
     "execution_count": 95,
     "metadata": {},
     "output_type": "execute_result"
    }
   ],
   "source": [
    "(:= *a* (let* ((picked (nglv::picked w))\n",
    "       (atom (cdr (assoc \"atom\" picked :test #'string=)))\n",
    "       (x (cdr (assoc \"x\" atom :test #'string=)))\n",
    "       (y (cdr (assoc \"y\" atom :test #'string=)))\n",
    "       (z (cdr (assoc \"z\" atom :test #'string=)))\n",
    "       (pos (geom:vec x y z))\n",
    "        resulta)\n",
    "     (chem:map-atoms nil (lambda (a) \n",
    "                                 (when (< (distance pos (chem:get-position a)) 0.01) \n",
    "                                     (setf resulta a))) *chemagg*)\n",
    "              resulta))"
   ]
  },
  {
   "cell_type": "code",
   "execution_count": 96,
   "metadata": {},
   "outputs": [
    {
     "data": {
      "text/plain": [
       "#<ATOM :HH33/:H>"
      ]
     },
     "execution_count": 96,
     "metadata": {},
     "output_type": "execute_result"
    }
   ],
   "source": [
    "*a*"
   ]
  },
  {
   "cell_type": "code",
   "execution_count": 97,
   "metadata": {},
   "outputs": [
    {
     "data": {
      "text/plain": [
       "*P*"
      ]
     },
     "execution_count": 97,
     "metadata": {},
     "output_type": "execute_result"
    }
   ],
   "source": [
    "(:= *p* (core:make-cxx-object 'chem:chem-info))"
   ]
  },
  {
   "cell_type": "code",
   "execution_count": 98,
   "metadata": {},
   "outputs": [
    {
     "data": {
      "text/plain": [
       "T"
      ]
     },
     "execution_count": 98,
     "metadata": {},
     "output_type": "execute_result"
    }
   ],
   "source": [
    "(chem:compile-smarts *p* \"CC\")"
   ]
  },
  {
   "cell_type": "code",
   "execution_count": 99,
   "metadata": {},
   "outputs": [
    {
     "data": {
      "text/plain": [
       "NIL"
      ]
     },
     "execution_count": 99,
     "metadata": {},
     "output_type": "execute_result"
    }
   ],
   "source": [
    "(chem:matches *p* *a*)"
   ]
  },
  {
   "cell_type": "code",
   "execution_count": 20,
   "metadata": {
    "collapsed": true
   },
   "outputs": [
    {
     "data": {
      "text/plain": [
       "*ALA-LEAP*"
      ]
     },
     "execution_count": 20,
     "metadata": {},
     "output_type": "execute_result"
    }
   ],
   "source": [
    "(:= *ala-leap* (load-mol2 \"alanine_leap.mol2\"))"
   ]
  },
  {
   "cell_type": "code",
   "execution_count": 21,
   "metadata": {
    "collapsed": true
   },
   "outputs": [
    {
     "data": {
      "application/vnd.jupyter.widget-view+json": {
       "model_id": "07C3ED3E-2559-444C-B71B-BC72B89A793C",
       "version_major": 2,
       "version_minor": 0
      },
      "text/html": [
       "<p>Failed to display Jupyter Widget of type <code>{widget_type}</code>.</p>\n",
       "<p>\n",
       "  If you're reading this message in the Jupyter Notebook or JupyterLab Notebook, it may mean\n",
       "  that the widgets JavaScript is still loading. If this message persists, it\n",
       "  likely means that the widgets JavaScript library is either not installed or\n",
       "  not enabled. See the <a href=\"https://ipywidgets.readthedocs.io/en/stable/user_install.html\">Jupyter\n",
       "  Widgets Documentation</a> for setup instructions.\n",
       "</p>\n",
       "<p>\n",
       "  If you're reading this message in another frontend (for example, a static\n",
       "  rendering on GitHub or <a href=\"https://nbviewer.jupyter.org/\">NBViewer</a>),\n",
       "  it may mean that your frontend doesn't currently support widgets.\n",
       "</p>\n"
      ],
      "text/plain": [
       "A Jupyter Widget"
      ]
     },
     "execution_count": 21,
     "metadata": {},
     "output_type": "execute_result"
    }
   ],
   "source": [
    "(cando::show-aggregate *ala-leap*)"
   ]
  },
  {
   "cell_type": "code",
   "execution_count": 12,
   "metadata": {},
   "outputs": [
    {
     "name": "stdout",
     "output_type": "stream",
     "text": [
      "type HC name H1\n",
      " type CT name CH3\n",
      " type HC name H2\n",
      " type HC name H3\n",
      " type C name C\n",
      " type O name O\n",
      " type N name N\n",
      " type H name H\n",
      " type CX name CA\n",
      " type H1 name HA\n",
      " type CT name CB\n",
      " type HC name HB1\n",
      " type HC name HB2\n",
      " type HC name HB3\n",
      " type C name C\n",
      " type O name O\n",
      " type N name N\n",
      " type H name H\n",
      " type CT name CH3\n",
      " type H1 name HH31\n",
      " type H1 name HH32\n",
      " type H1 name HH33\n",
      " "
     ]
    },
    {
     "data": {
      "text/plain": [
       "NIL"
      ]
     },
     "execution_count": 12,
     "metadata": {},
     "output_type": "execute_result"
    }
   ],
   "source": [
    "(chem:map-atoms 'nil (lambda (a) (format t \"type ~a name ~a~% \" (chem:get-type a) (chem:get-name a)))\n",
    "                \n",
    "                             *ala-leap*)"
   ]
  },
  {
   "cell_type": "code",
   "execution_count": 22,
   "metadata": {},
   "outputs": [
    {
     "name": "stdout",
     "output_type": "stream",
     "text": [
      "atom-name-vector -> #(:H1 :CH3 :H2 :H3 :C :O :N :H :CA :HA :CB :HB1 :HB2 :HB3\n",
      "                      :C :O :N :H :CH3 :HH31 :HH32 :HH33)\n",
      "atom-type-vector -> #(:HC :CT :HC :HC :C :O :N :H :CX :H1 :CT :HC :HC :HC :C :O\n",
      "                      :N :H :CT :H1 :H1 :H1)\n",
      "type-index-vector -> #(24 13 24 24 0 50 41 23 17 25 13 24 24 24 0 50 41 23 13\n",
      "                       25 25 25)\n",
      "atom-name-vector -> #(:H1 :CH3 :H2 :H3 :C :O :N :H :CA :HA :CB :HB1 :HB2 :HB3\n",
      "                      :C :O :N :H :CH3 :HH31 :HH32 :HH33)\n",
      "atom-type-vector -> #(:HC :CT :HC :HC :C :O :N :H :CX :H1 :CT :HC :HC :HC :C :O\n",
      "                      :N :H :CT :H1 :H1 :H1)\n",
      "type-index-vector -> #(24 13 24 24 0 50 41 23 17 25 13 24 24 24 0 50 41 23 13\n",
      "                       25 25 25)\n"
     ]
    },
    {
     "data": {
      "text/plain": [
       "T"
      ]
     },
     "execution_count": 22,
     "metadata": {},
     "output_type": "execute_result"
    }
   ],
   "source": [
    "(leap.topology:save-amber-parm-format *ala-leap* \"alanine_cando.top\" \"alanine_cando.crd\" :assign-types nil)"
   ]
  },
  {
   "cell_type": "code",
   "execution_count": 42,
   "metadata": {},
   "outputs": [
    {
     "name": "stdout",
     "output_type": "stream",
     "text": [
      "popped residue: #<PDB-RESIDUE ACE>\n",
      "popped residue: #<PDB-RESIDUE ALA>\n",
      "popped residue: #<PDB-RESIDUE NME>\n",
      "Built 3 missing hydrogens\n"
     ]
    },
    {
     "name": "stderr",
     "output_type": "stream",
     "text": [
      "SIMPLE-WARNING: \n",
      "Loaded atom (1 H1 ACE NIL 1 NIL) but amber form #<TOPOLOGY  :name :ACE @0x122212e48> does not recognize it\n",
      "SIMPLE-WARNING: \n",
      "Loaded atom (3 H2 ACE NIL 1 NIL) but amber form #<TOPOLOGY  :name :ACE @0x122212e48> does not recognize it\n",
      "SIMPLE-WARNING: \n",
      "Loaded atom (4 H3 ACE NIL 1 NIL) but amber form #<TOPOLOGY  :name :ACE @0x122212e48> does not recognize it\n"
     ]
    },
    {
     "data": {
      "text/plain": [
       "*ALA-PDB*"
      ]
     },
     "execution_count": 42,
     "metadata": {},
     "output_type": "execute_result"
    }
   ],
   "source": [
    "(:= *ala-pdb* (load-pdb \"ace-ala-nme.pdb\"))"
   ]
  },
  {
   "cell_type": "code",
   "execution_count": 25,
   "metadata": {},
   "outputs": [
    {
     "data": {
      "application/vnd.jupyter.widget-view+json": {
       "model_id": "D6F8F9E0-C259-4CB8-BD82-BC4F9896D574",
       "version_major": 2,
       "version_minor": 0
      },
      "text/html": [
       "<p>Failed to display Jupyter Widget of type <code>{widget_type}</code>.</p>\n",
       "<p>\n",
       "  If you're reading this message in the Jupyter Notebook or JupyterLab Notebook, it may mean\n",
       "  that the widgets JavaScript is still loading. If this message persists, it\n",
       "  likely means that the widgets JavaScript library is either not installed or\n",
       "  not enabled. See the <a href=\"https://ipywidgets.readthedocs.io/en/stable/user_install.html\">Jupyter\n",
       "  Widgets Documentation</a> for setup instructions.\n",
       "</p>\n",
       "<p>\n",
       "  If you're reading this message in another frontend (for example, a static\n",
       "  rendering on GitHub or <a href=\"https://nbviewer.jupyter.org/\">NBViewer</a>),\n",
       "  it may mean that your frontend doesn't currently support widgets.\n",
       "</p>\n"
      ],
      "text/plain": [
       "A Jupyter Widget"
      ]
     },
     "execution_count": 25,
     "metadata": {},
     "output_type": "execute_result"
    }
   ],
   "source": [
    "(cando::show-aggregate *ala-pdb*)"
   ]
  },
  {
   "cell_type": "code",
   "execution_count": 26,
   "metadata": {},
   "outputs": [
    {
     "name": "stdout",
     "output_type": "stream",
     "text": [
      "type HC name H1\n",
      " type CT name CH3\n",
      " type HC name H2\n",
      " type HC name H3\n",
      " type C name C\n",
      " type O name O\n",
      " type N name N\n",
      " type H name H\n",
      " type CX name CA\n",
      " type H1 name HA\n",
      " type CT name CB\n",
      " type HC name HB1\n",
      " type HC name HB2\n",
      " type HC name HB3\n",
      " type C name C\n",
      " type O name O\n",
      " type N name N\n",
      " type H name H\n",
      " type CT name CH3\n",
      " type H1 name HH31\n",
      " type H1 name HH32\n",
      " type H1 name HH33\n",
      " "
     ]
    },
    {
     "data": {
      "text/plain": [
       "NIL"
      ]
     },
     "execution_count": 26,
     "metadata": {},
     "output_type": "execute_result"
    }
   ],
   "source": [
    "(chem:map-atoms 'nil (lambda (a) (format t \"type ~a name ~a~% \" (chem:get-type a) (chem:get-name a)))\n",
    "                \n",
    "                             *ala-leap*)"
   ]
  },
  {
   "cell_type": "code",
   "execution_count": 27,
   "metadata": {},
   "outputs": [
    {
     "data": {
      "text/plain": [
       "T"
      ]
     },
     "execution_count": 27,
     "metadata": {},
     "output_type": "execute_result"
    }
   ],
   "source": [
    "(leap.topology:save-amber-parm-format *ala-pdb* \"alanine_pdb.top\" \"alanine_pdb.crd\" :assign-types nil)"
   ]
  },
  {
   "cell_type": "code",
   "execution_count": null,
   "metadata": {},
   "outputs": [],
   "source": []
  }
 ],
 "metadata": {
  "kernelspec": {
   "display_name": "cando",
   "language": "lisp",
   "name": "cando"
  },
  "language_info": {
   "codemirror_mode": "text/x-common-lisp",
   "file_extension": ".lisp",
   "mimetype": "text/x-common-lisp",
   "name": "common-lisp",
   "pygments_lexer": "common-lisp",
   "version": "X3J13"
  }
 },
 "nbformat": 4,
 "nbformat_minor": 2
}
