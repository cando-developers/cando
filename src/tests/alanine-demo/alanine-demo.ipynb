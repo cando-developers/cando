{
 "cells": [
  {
   "cell_type": "markdown",
   "metadata": {},
   "source": [
    "## Set the enviroments."
   ]
  },
  {
   "cell_type": "markdown",
   "metadata": {},
   "source": [
    "#### Connect to slime."
   ]
  },
  {
   "cell_type": "code",
   "execution_count": null,
   "metadata": {},
   "outputs": [],
   "source": [
    "(length (core:bformat nil \"%16.8e\" 1234.5676))"
   ]
  },
  {
   "cell_type": "code",
   "execution_count": 6,
   "metadata": {
    "scrolled": true
   },
   "outputs": [
    {
     "data": {
      "text/plain": [
       "T"
      ]
     },
     "execution_count": 6,
     "metadata": {},
     "output_type": "execute_result"
    }
   ],
   "source": [
    "(start-swank)"
   ]
  },
  {
   "cell_type": "markdown",
   "metadata": {},
   "source": [
    "#### Add paths."
   ]
  },
  {
   "cell_type": "code",
   "execution_count": 5,
   "metadata": {
    "scrolled": true
   },
   "outputs": [
    {
     "data": {
      "text/plain": [
       "(#P\"/home/app/Development/amber18/dat/antechamber/\"\n",
       " #P\"/home/app/Development/amber18/dat/leap/prep/\"\n",
       " #P\"/home/app/Development/amber18/dat/leap/parm/\"\n",
       " #P\"/home/app/Development/amber18/dat/leap/lib/\"\n",
       " #P\"/home/app/Development/amber18/dat/leap/cmd/\"\n",
       " #P\"/home/app/home/Development/clasp/extensions/cando/src/tests/alanine-demo/\")"
      ]
     },
     "execution_count": 5,
     "metadata": {},
     "output_type": "execute_result"
    }
   ],
   "source": [
    "(leap.core::clear-path)\n",
    "(add-path *default-pathname-defaults*)\n",
    "(add-path \"~/Development/amber18/dat/leap/cmd/\")\n",
    "(add-path \"~/Development/amber18/dat/leap/lib/\")\n",
    "(add-path \"~/Development/amber18/dat/leap/parm/\")\n",
    "(add-path \"~/Development/amber18/dat/leap/prep/\")\n",
    "(add-path \"~/Development/amber18/dat/antechamber/\")"
   ]
  },
  {
   "cell_type": "markdown",
   "metadata": {},
   "source": [
    "#### Load the amber force field."
   ]
  },
  {
   "cell_type": "code",
   "execution_count": 7,
   "metadata": {},
   "outputs": [
    {
     "data": {
      "text/plain": [
       "NIL"
      ]
     },
     "execution_count": 7,
     "metadata": {},
     "output_type": "execute_result"
    }
   ],
   "source": [
    "(leap.core::clear-force-field)"
   ]
  },
  {
   "cell_type": "code",
   "execution_count": 8,
   "metadata": {},
   "outputs": [
    {
     "name": "stderr",
     "output_type": "stream",
     "text": [
      "An error occurred of type: TYPE-ERROR: \n",
      "  NIL is not of type (OR STRING PATHNAME STREAM).\n",
      "\n",
      "serious-condition backtrace:\n",
      "0 UNKNOWN-LISP-FUNCTION\n",
      "1 UNKNOWN-LISP-FUNCTION\n",
      "2 UNKNOWN-LISP-FUNCTION\n",
      "3 UNKNOWN-LISP-FUNCTION\n",
      "4 UNKNOWN-LISP-FUNCTION\n",
      "5 UNKNOWN-LISP-FUNCTION\n",
      "6 UNKNOWN-LISP-FUNCTION\n",
      "7 UNKNOWN-LISP-FUNCTION\n",
      "8 UNKNOWN-LISP-FUNCTION\n",
      "9 UNKNOWN-LISP-FUNCTION\n",
      "10 UNKNOWN-LISP-FUNCTION\n",
      "11 UNKNOWN-LISP-FUNCTION\n",
      "12 UNKNOWN-LISP-FUNCTION\n",
      "13 UNKNOWN-LISP-FUNCTION\n",
      "14 UNKNOWN-LISP-FUNCTION\n",
      "15 UNKNOWN-LISP-FUNCTION\n",
      "16 UNKNOWN-LISP-FUNCTION\n",
      "17 UNKNOWN-LISP-FUNCTION\n",
      "18 UNKNOWN-LISP-FUNCTION\n",
      "19 UNKNOWN-LISP-FUNCTION\n",
      "20 UNKNOWN-LISP-FUNCTION\n",
      "21 UNKNOWN-LISP-FUNCTION\n",
      "22 UNKNOWN-LISP-FUNCTION\n",
      "23 UNKNOWN-LISP-FUNCTION\n",
      "24 UNKNOWN-LISP-FUNCTION\n",
      "25 UNKNOWN-LISP-FUNCTION\n",
      "26 UNKNOWN-LISP-FUNCTION\n",
      "27 UNKNOWN-LISP-FUNCTION\n",
      "28 UNKNOWN-LISP-FUNCTION\n",
      "29 UNKNOWN-LISP-FUNCTION\n",
      "30 UNKNOWN-LISP-FUNCTION\n",
      "31 UNKNOWN-LISP-FUNCTION\n",
      "32 UNKNOWN-LISP-FUNCTION\n",
      "33 UNKNOWN-LISP-FUNCTION\n",
      "34 UNKNOWN-LISP-FUNCTION\n",
      "35 UNKNOWN-LISP-FUNCTION\n",
      "36 UNKNOWN-LISP-FUNCTION\n",
      "37 UNKNOWN-LISP-FUNCTION\n",
      "38 UNKNOWN-LISP-FUNCTION\n",
      "\n"
     ]
    },
    {
     "data": {
      "text/plain": [
       "NIL"
      ]
     },
     "execution_count": 8,
     "metadata": {},
     "output_type": "execute_result"
    }
   ],
   "source": [
    "(load-atom-type-rules \"ATOMTYPE_AMBER.DEF\")"
   ]
  },
  {
   "cell_type": "code",
   "execution_count": 4,
   "metadata": {
    "scrolled": true
   },
   "outputs": [
    {
     "name": "stderr",
     "output_type": "stream",
     "text": [
      "An error occurred of type: TYPE-ERROR: \n",
      "  NIL is not of type (OR STRING PATHNAME STREAM).\n",
      "\n",
      "serious-condition backtrace:\n",
      "0 UNKNOWN-LISP-FUNCTION\n",
      "1 UNKNOWN-LISP-FUNCTION\n",
      "2 UNKNOWN-LISP-FUNCTION\n",
      "3 UNKNOWN-LISP-FUNCTION\n",
      "4 UNKNOWN-LISP-FUNCTION\n",
      "5 UNKNOWN-LISP-FUNCTION\n",
      "6 UNKNOWN-LISP-FUNCTION\n",
      "7 UNKNOWN-LISP-FUNCTION\n",
      "8 UNKNOWN-LISP-FUNCTION\n",
      "9 UNKNOWN-LISP-FUNCTION\n",
      "10 UNKNOWN-LISP-FUNCTION\n",
      "11 UNKNOWN-LISP-FUNCTION\n",
      "12 UNKNOWN-LISP-FUNCTION\n",
      "13 UNKNOWN-LISP-FUNCTION\n",
      "14 UNKNOWN-LISP-FUNCTION\n",
      "15 UNKNOWN-LISP-FUNCTION\n",
      "16 UNKNOWN-LISP-FUNCTION\n",
      "17 UNKNOWN-LISP-FUNCTION\n",
      "18 UNKNOWN-LISP-FUNCTION\n",
      "19 UNKNOWN-LISP-FUNCTION\n",
      "20 UNKNOWN-LISP-FUNCTION\n",
      "21 UNKNOWN-LISP-FUNCTION\n",
      "22 UNKNOWN-LISP-FUNCTION\n",
      "23 UNKNOWN-LISP-FUNCTION\n",
      "24 UNKNOWN-LISP-FUNCTION\n",
      "25 UNKNOWN-LISP-FUNCTION\n",
      "26 UNKNOWN-LISP-FUNCTION\n",
      "27 UNKNOWN-LISP-FUNCTION\n",
      "28 UNKNOWN-LISP-FUNCTION\n",
      "29 UNKNOWN-LISP-FUNCTION\n",
      "30 UNKNOWN-LISP-FUNCTION\n",
      "31 UNKNOWN-LISP-FUNCTION\n",
      "32 UNKNOWN-LISP-FUNCTION\n",
      "33 UNKNOWN-LISP-FUNCTION\n",
      "34 UNKNOWN-LISP-FUNCTION\n",
      "35 UNKNOWN-LISP-FUNCTION\n",
      "36 UNKNOWN-LISP-FUNCTION\n",
      "37 UNKNOWN-LISP-FUNCTION\n",
      "38 UNKNOWN-LISP-FUNCTION\n",
      "39 UNKNOWN-LISP-FUNCTION\n",
      "40 UNKNOWN-LISP-FUNCTION\n",
      "\n"
     ]
    },
    {
     "data": {
      "text/plain": [
       "NIL"
      ]
     },
     "execution_count": 4,
     "metadata": {},
     "output_type": "execute_result"
    }
   ],
   "source": [
    "(source \"leaprc.protein.ff14SB\")"
   ]
  },
  {
   "cell_type": "code",
   "execution_count": 15,
   "metadata": {},
   "outputs": [
    {
     "data": {
      "text/plain": [
       "(#<FORCE-FIELD water_amber.def> #<FORCE-FIELD frcmod.ff14SB>\n",
       " #<FORCE-FIELD parm10.dat> #<FORCE-FIELD ATOMTYPE_AMBER.DEF>)"
      ]
     },
     "execution_count": 15,
     "metadata": {},
     "output_type": "execute_result"
    }
   ],
   "source": [
    "(load-atom-type-rules \"water_amber.def\")"
   ]
  },
  {
   "cell_type": "code",
   "execution_count": 16,
   "metadata": {
    "scrolled": true
   },
   "outputs": [
    {
     "data": {
      "text/plain": [
       "*FF*"
      ]
     },
     "execution_count": 16,
     "metadata": {},
     "output_type": "execute_result"
    }
   ],
   "source": [
    "(:= *ff* (leap.core::merged-force-field))"
   ]
  },
  {
   "cell_type": "markdown",
   "metadata": {},
   "source": [
    "## Create topology and coordinate file for Alanine"
   ]
  },
  {
   "cell_type": "markdown",
   "metadata": {},
   "source": [
    "#### Load the alanine from Chemdraw file."
   ]
  },
  {
   "cell_type": "code",
   "execution_count": 17,
   "metadata": {
    "scrolled": true
   },
   "outputs": [
    {
     "data": {
      "text/plain": [
       "*CHEMAGG*"
      ]
     },
     "execution_count": 17,
     "metadata": {},
     "output_type": "execute_result"
    }
   ],
   "source": [
    "(defparameter *chemagg* (cando:load-chem-draw-aggregate \"alanine2.cdxml\"))"
   ]
  },
  {
   "cell_type": "code",
   "execution_count": 18,
   "metadata": {},
   "outputs": [
    {
     "data": {
      "text/plain": [
       "NIL"
      ]
     },
     "execution_count": 18,
     "metadata": {},
     "output_type": "execute_result"
    }
   ],
   "source": [
    "(build-hydrogens *chemagg*)"
   ]
  },
  {
   "cell_type": "code",
   "execution_count": 19,
   "metadata": {},
   "outputs": [
    {
     "data": {
      "application/vnd.jupyter.widget-view+json": {
       "model_id": "7BFE5C2D-C752-4A86-8AA5-2D04B3BEE10E",
       "version_major": 2,
       "version_minor": 0
      },
      "text/html": [
       "<p>Failed to display Jupyter Widget of type <code>{widget_type}</code>.</p>\n",
       "<p>\n",
       "  If you're reading this message in the Jupyter Notebook or JupyterLab Notebook, it may mean\n",
       "  that the widgets JavaScript is still loading. If this message persists, it\n",
       "  likely means that the widgets JavaScript library is either not installed or\n",
       "  not enabled. See the <a href=\"https://ipywidgets.readthedocs.io/en/stable/user_install.html\">Jupyter\n",
       "  Widgets Documentation</a> for setup instructions.\n",
       "</p>\n",
       "<p>\n",
       "  If you're reading this message in another frontend (for example, a static\n",
       "  rendering on GitHub or <a href=\"https://nbviewer.jupyter.org/\">NBViewer</a>),\n",
       "  it may mean that your frontend doesn't currently support widgets.\n",
       "</p>\n"
      ],
      "text/plain": [
       "A Jupyter Widget"
      ]
     },
     "execution_count": 19,
     "metadata": {},
     "output_type": "execute_result"
    }
   ],
   "source": [
    "(cando::show-aggregate *chemagg*)"
   ]
  },
  {
   "cell_type": "code",
   "execution_count": 10,
   "metadata": {},
   "outputs": [
    {
     "name": "stderr",
     "output_type": "stream",
     "text": [
      "An error occurred of type: UNDEFINED-FUNCTION: \n",
      "  #<UNDEFINED-FUNCTION>\n"
     ]
    },
    {
     "data": {
      "text/plain": [
       "NIL"
      ]
     },
     "execution_count": 10,
     "metadata": {},
     "output_type": "execute_result"
    }
   ],
   "source": [
    "(nglv::show-aggregate *chemagg*)"
   ]
  },
  {
   "cell_type": "markdown",
   "metadata": {},
   "source": [
    "#### Gather atoms to the center."
   ]
  },
  {
   "cell_type": "code",
   "execution_count": 21,
   "metadata": {},
   "outputs": [
    {
     "name": "stdout",
     "output_type": "stream",
     "text": [
      "C_0    S\n"
     ]
    },
    {
     "data": {
      "text/plain": [
       "NIL"
      ]
     },
     "execution_count": 21,
     "metadata": {},
     "output_type": "execute_result"
    }
   ],
   "source": [
    "(progn\n",
    "  (defparameter *stereocenters*\n",
    "    (sort (cando:gather-stereocenters *chemagg*) #'string< :key #'chem:get-name))\n",
    "  (cando:set-stereoisomer-func *stereocenters* (constantly :S) :show t)\n",
    "  (let ((quat-matcher (core:make-cxx-object 'chem:chem-info)))\n",
    "    (chem:compile-smarts quat-matcher \"[C&H0&D4]\")\n",
    "    (chem:map-atoms nil (lambda (a) (when (chem:matches quat-matcher a)\n",
    "                  (chem:set-configuration a :S)\n",
    "                  (format t \"Set atom ~a to :S~%\" (chem:get-name a))))\n",
    "            *chemagg*)))"
   ]
  },
  {
   "cell_type": "markdown",
   "metadata": {},
   "source": [
    "#### Set the bounding box."
   ]
  },
  {
   "cell_type": "markdown",
   "metadata": {},
   "source": [
    "#### Assign atom types and change one of them for alanine atom type definition."
   ]
  },
  {
   "cell_type": "code",
   "execution_count": 22,
   "metadata": {},
   "outputs": [
    {
     "data": {
      "text/plain": [
       "NIL"
      ]
     },
     "execution_count": 22,
     "metadata": {},
     "output_type": "execute_result"
    }
   ],
   "source": [
    "(assign-atom-types *chemagg*)\n",
    "(chem:map-atoms 'nil (lambda (a) (if (eq (chem:get-type a) :CT)\n",
    "                                     (if (eq (chem:get-name a) :C)\n",
    "                                         (chem:set-type a :CX)))) *chemagg*)"
   ]
  },
  {
   "cell_type": "code",
   "execution_count": 23,
   "metadata": {},
   "outputs": [
    {
     "name": "stdout",
     "output_type": "stream",
     "text": [
      "type C name C\n",
      " type CT name C_0\n",
      " type O name O\n",
      " type N name NH\n",
      " type H1 name H\n",
      " type CT name CH3\n",
      " type HC name HH31\n",
      " type HC name HH32\n",
      " type HC name HH33\n",
      " type H name HH\n",
      " type N name NH\n",
      " type CT name CH3\n",
      " type H1 name HH31\n",
      " type H1 name HH32\n",
      " type H1 name HH33\n",
      " type H name HH\n",
      " type C name C\n",
      " type CT name CH3\n",
      " type O name O\n",
      " type HC name HH31\n",
      " type HC name HH32\n",
      " type HC name HH33\n",
      " "
     ]
    },
    {
     "data": {
      "text/plain": [
       "NIL"
      ]
     },
     "execution_count": 23,
     "metadata": {},
     "output_type": "execute_result"
    }
   ],
   "source": [
    "(chem:map-atoms 'nil (lambda (a)  (format t \"type ~a name ~a~% \" (chem:get-type a) (chem:get-name a)))\n",
    "                             *chemagg*)"
   ]
  },
  {
   "cell_type": "code",
   "execution_count": 24,
   "metadata": {},
   "outputs": [
    {
     "name": "stdout",
     "output_type": "stream",
     "text": [
      "type CT name C_0 "
     ]
    },
    {
     "data": {
      "text/plain": [
       "NIL"
      ]
     },
     "execution_count": 24,
     "metadata": {},
     "output_type": "execute_result"
    }
   ],
   "source": [
    "\n",
    "(chem:map-atoms 'nil (lambda (a) (if (eq (chem:get-name a) :C_0)\n",
    "                                     (format t \"type ~a name ~a \" (chem:get-type a) (chem:get-name a))))\n",
    "                             *chemagg*)"
   ]
  },
  {
   "cell_type": "markdown",
   "metadata": {},
   "source": [
    "####  Assign force-field parameters and minimize the energy of the molecule."
   ]
  },
  {
   "cell_type": "code",
   "execution_count": 25,
   "metadata": {},
   "outputs": [
    {
     "data": {
      "text/plain": [
       "NIL"
      ]
     },
     "execution_count": 25,
     "metadata": {},
     "output_type": "execute_result"
    }
   ],
   "source": [
    "(cando:jostle *chemagg*)"
   ]
  },
  {
   "cell_type": "code",
   "execution_count": 26,
   "metadata": {},
   "outputs": [
    {
     "name": "stdout",
     "output_type": "stream",
     "text": [
      "minimize-no-fail\n",
      "======= Starting Steepest Descent Minimizer\n",
      "---Stage-Seconds--Step-log(Alpha)--Dir-------------Energy-----------RMSforce\n",
      " minSDnP       0     1      -inf   0.0              0.000          17390.388\n",
      " minSDnP       0     2     -8.01   0.0        2666373.761           7372.505\n",
      " minSDnP       0     3     -7.73   0.0        1946140.073           9835.989\n",
      "DONE absolute force test:\n",
      "forceRmsMag(3284.772328).LT.forceTolerance(5000.000000)\n",
      "======= Starting Conjugate Gradient Minimizer\n",
      " minCGnP       0     4      -inf   0.0              0.000           3284.772\n",
      " minCGnP       0     5     -6.58  70.7        1198309.308           9379.476\n",
      " minCGnP       0     6    -12.37  43.4        1190323.400           5160.716\n",
      " minCGnP       0     7     -8.40  48.9        1070102.447           4447.748\n",
      " minCGnP       0     8     -9.43  38.7        1051943.377           2145.807\n",
      " minCGnP       0     9     -7.21  60.8         943947.301           3367.576\n",
      " minCGnP       0    10     -7.88  57.2         837494.872           3031.476\n",
      "---Stage-Seconds--Step-log(Alpha)--Dir-------------Energy-----------RMSforce\n",
      " minCGnP       0    11     -7.19  80.1         628743.994           9212.083\n",
      " minCGnP       0    12    -11.25  23.7         610856.845           3416.933\n",
      " minCGnP       0    13     -7.87  49.7         468896.229           3516.853\n",
      " minCGnP       0    14     -9.19  31.3         444463.124           1789.759\n",
      " minCGnP       0    15     -7.99  70.5         404511.867           4315.101\n",
      " minCGnP       0    16     -9.68  36.1         381311.089           1862.292\n",
      " minCGnP       0    17     -7.68  47.2         339327.706           1459.131\n",
      " minCGnP       0    18     -8.13  66.2         310682.749           2666.566\n",
      " minCGnP       0    19     -8.63  53.6         275085.194           1859.417\n",
      " minCGnP       0    20     -7.39  68.3         210332.000           2461.648\n",
      "---Stage-Seconds--Step-log(Alpha)--Dir-------------Energy-----------RMSforce\n",
      " minCGnP       0    21     -8.94  41.6         198706.196           1615.788\n",
      " minCGnP       0    22     -8.87  71.4         180979.308           3667.593\n",
      " minCGnP       0    23     -9.67  64.9         155148.534           2382.006\n",
      " minCGnP       0    24     -9.93  48.4         150756.563           1788.991\n",
      " minCGnP       0    25     -8.97  50.6         142082.791           1630.229\n",
      " minCGnP       0    26     -8.62  45.5         133220.525           1314.091\n",
      " minCGnP       0    27     -8.32  49.0         119019.704           1112.852\n",
      " minCGnP       0    28     -8.19  63.0         105127.077           1543.375\n",
      " minCGnP       0    29     -9.68  48.7         101083.058           1054.064\n",
      " minCGnP       0    30     -7.94  60.1          89947.104           1104.629\n",
      "---Stage-Seconds--Step-log(Alpha)--Dir-------------Energy-----------RMSforce\n",
      " minCGnP       0    31     -9.14  64.9          86151.468           1144.459\n",
      " minCGnP       0    32     -8.62  75.7          78769.693           1920.034\n",
      " minCGnP       0    33     -9.66  68.6          73408.369           1189.692\n",
      " minCGnP       0    34     -8.09  74.4          59122.986           1848.416\n",
      " minCGnP       0    35    -10.28  73.8          54882.524           2213.592\n",
      " minCGnP       0    36     -9.22  71.7          42683.428           1449.604\n",
      " minCGnP       0    37     -9.05  76.5          35231.465           2227.309\n",
      " minCGnP       0    38    -10.39  62.1          31875.999           1375.051\n",
      " minCGnP       0    39     -9.02  66.6          27164.300           1283.000\n",
      " minCGnP       0    40     -9.38  44.6          24310.995            776.696\n",
      "---Stage-Seconds--Step-log(Alpha)--Dir-------------Energy-----------RMSforce\n",
      " minCGnP       0    41     -8.80  66.9          21414.994           1398.170\n",
      " minCGnP       0    42    -10.22  48.1          19350.832            808.610\n",
      " minCGnP       0    43     -9.52  45.3          18341.261            743.250\n",
      " minCGnP       0    44     -9.18  41.8          17144.190            383.499\n",
      " minCGnP       0    45     -8.21  68.0          15581.604            740.474\n",
      " minCGnP       0    46    -10.33  59.2          14945.940            720.562\n",
      " minCGnP       0    47     -9.25  35.1          14081.927            402.243\n",
      " minCGnP       0    48     -8.35  44.7          13250.922            271.398\n",
      " minCGnP       0    49     -8.07  50.7          12312.198            257.620\n",
      " minCGnP       0    50     -7.86  73.4          11509.881            614.714\n",
      "---Stage-Seconds--Step-log(Alpha)--Dir-------------Energy-----------RMSforce\n",
      " minCGnP       0    51     -9.91  45.8          10929.624            389.128\n",
      " minCGnP       0    52     -8.36  51.7           9870.388            233.826\n",
      " minCGnP       0    53     -7.87  63.0           9243.815            268.451\n",
      " minCGnP       0    54     -8.11  83.5           8356.233           1079.101\n",
      " minCGnP       0    55    -11.30  56.6           7988.080            298.754\n",
      " minCGnP       0    56     -7.82  68.8           6981.239            312.047\n",
      " minCGnP       0    57     -8.26  69.0           6161.746            427.652\n",
      " minCGnP       0    58     -9.09  58.0           5462.262            233.808\n",
      " minCGnP       0    59     -8.12  68.4           4915.727            283.672\n",
      " minCGnP       0    60     -8.84  50.1           4469.401            190.046\n",
      "---Stage-Seconds--Step-log(Alpha)--Dir-------------Energy-----------RMSforce\n",
      " minCGnP       0    61     -8.62  57.5           4225.421            173.573\n",
      " minCGnP       0    62     -8.90  54.5           4091.542            133.135\n",
      " minCGnP       0    63     -8.29  62.5           3956.364            132.127\n",
      " minCGnP       0    64     -8.24  70.2           3790.287            155.147\n",
      " minCGnP       0    65     -8.52  70.6           3622.976            155.687\n",
      " minCGnP       0    66     -8.25  70.9           3429.312            146.578\n",
      " minCGnP       0    67     -8.44  71.8           3270.559            139.029\n",
      " minCGnP       0    68     -8.53  69.2           3132.965            124.134\n",
      " minCGnP       0    69     -8.71  68.1           3053.551            119.995\n",
      " minCGnP       0    70     -8.64   0.0           2974.530             83.145\n",
      "---Stage-Seconds--Step-log(Alpha)--Dir-------------Energy-----------RMSforce\n",
      " minCGnP       0    71     -8.69  26.1           2935.068             40.738\n",
      " minCGnP       0    72     -8.26  55.6           2920.588             56.113\n",
      " minCGnP       0    73     -7.93  61.5           2883.507             59.230\n",
      " minCGnP       0    74     -8.18  62.4           2851.146             54.377\n",
      " minCGnP       0    75     -8.09  66.5           2821.959             56.061\n",
      " minCGnP       0    76     -8.46  60.0           2799.823             41.545\n",
      " minCGnP       0    77     -8.34  64.8           2786.114             45.235\n",
      " minCGnP       0    78     -7.83  71.2           2759.650             56.180\n",
      " minCGnP       0    79     -8.20  72.2           2731.159             53.124\n",
      " minCGnP       0    80     -8.08  72.9           2702.687             58.077\n",
      "---Stage-Seconds--Step-log(Alpha)--Dir-------------Energy-----------RMSforce\n",
      " minCGnP       0    81     -8.21  71.9           2673.052             52.058\n",
      " minCGnP       0    82     -8.22  72.5           2649.467             50.579\n",
      " minCGnP       0    83     -8.00  74.5           2620.755             57.029\n",
      " minCGnP       0    84     -8.43  74.1           2596.729             52.626\n",
      " minCGnP       0    85     -8.31  71.7           2574.123             41.624\n",
      " minCGnP       0    86     -8.31  68.6           2560.039             31.358\n",
      " minCGnP       0    87     -8.09  71.6           2550.017             34.324\n",
      " minCGnP       0    88     -8.13  69.8           2538.639             28.835\n",
      " minCGnP       0    89     -8.47  68.7           2532.858             25.635\n",
      " minCGnP       0    90     -8.40  69.2           2527.952             24.729\n",
      "---Stage-Seconds--Step-log(Alpha)--Dir-------------Energy-----------RMSforce\n",
      " minCGnP       0    91     -8.48  60.2           2523.819             15.430\n",
      " minCGnP       0    92     -8.48  61.6           2522.179             14.220\n",
      " minCGnP       0    93     -7.61  72.8           2518.836             21.534\n",
      " minCGnP       0    94     -8.06  73.3           2513.961             20.854\n",
      " minCGnP       0    95     -8.55  71.8           2511.177             17.531\n",
      " minCGnP       0    96     -8.25  72.9           2508.529             17.560\n",
      " minCGnP       0    97     -8.44  69.5           2506.346             14.208\n",
      " minCGnP       0    98     -8.23  69.3           2504.565             13.534\n",
      " minCGnP       0    99     -8.13  72.1           2502.783             14.610\n",
      " minCGnP       0   100     -8.27  72.5           2500.969             14.261\n",
      "---Stage-Seconds--Step-log(Alpha)--Dir-------------Energy-----------RMSforce\n",
      " minCGnP       0   101     -8.55  68.0           2499.667             11.235\n",
      " minCGnP       0   102     -8.41  67.8           2498.740             10.300\n",
      " minCGnP       0   103     -7.79  75.2           2497.283             14.577\n",
      " minCGnP       0   104     -7.97  74.5           2494.807             14.076\n",
      " minCGnP       0   105     -8.46  71.1           2493.423             11.152\n",
      " minCGnP       0   106     -8.16  70.0           2492.256              9.799\n",
      " minCGnP       0   107     -8.37  67.5           2491.519              8.207\n",
      " minCGnP       0   108     -8.25  68.4           2490.939              7.991\n",
      " minCGnP       0   109     -7.88  71.8           2490.145              8.755\n",
      " minCGnP       0   110     -8.47  66.1           2489.617              5.867\n",
      "---Stage-Seconds--Step-log(Alpha)--Dir-------------Energy-----------RMSforce\n",
      " minCGnP       0   111     -8.44  61.9           2489.372              4.430\n",
      " minCGnP       0   112     -8.15  67.0           2489.185              4.908\n",
      " minCGnP       0   113     -7.99  71.0           2488.915              5.556\n",
      " minCGnP       0   114     -8.19  70.7           2488.633              5.165\n",
      " minCGnP       0   115     -8.36  69.2           2488.426              4.532\n",
      " minCGnP       0   116     -8.26  69.9           2488.251              4.452\n",
      " minCGnP       0   117     -8.34  70.3           2488.095              4.251\n",
      " minCGnP       0   118     -8.08  75.2           2487.910              5.399\n",
      " minCGnP       0   119     -7.97  77.0           2487.577              6.093\n",
      " minCGnP       0   120     -8.33  74.6           2487.282              4.920\n",
      "---Stage-Seconds--Step-log(Alpha)--Dir-------------Energy-----------RMSforce\n",
      " minCGnP       0   121     -8.39  73.3           2487.101              4.324\n",
      " minCGnP       0   122     -8.01  75.1           2486.895              4.693\n",
      " minCGnP       0   123     -8.22  75.9           2486.701              4.790\n",
      " minCGnP       0   124     -7.93  77.8           2486.427              5.386\n",
      " minCGnP       0   125     -8.39  74.5           2486.209              4.198\n",
      " minCGnP       0   126     -8.46  72.9           2486.086              3.589\n",
      " minCGnP       0   127     -7.89  78.6           2485.927              5.230\n",
      " minCGnP       0   128     -8.11  78.5           2485.653              5.120\n",
      " minCGnP       0   129     -8.57  75.1           2485.490              3.875\n",
      " minCGnP       0   130     -8.25  75.5           2485.360              3.811\n",
      "---Stage-Seconds--Step-log(Alpha)--Dir-------------Energy-----------RMSforce\n",
      " minCGnP       0   131     -8.10  76.2           2485.215              3.902\n",
      " minCGnP       0   132     -8.27  75.4           2485.087              3.599\n",
      " minCGnP       0   133     -7.91  78.9           2484.930              4.639\n",
      " minCGnP       0   134     -8.12  78.4           2484.719              4.285\n",
      " minCGnP       0   135     -8.33  76.4           2484.573              3.587\n",
      " minCGnP       0   136     -8.26   0.0           2484.463              3.739\n",
      " minCGnP       0   137     -8.84  31.1           2484.396              2.252\n",
      " minCGnP       0   138     -7.60  63.3           2484.313              3.844\n",
      " minCGnP       0   139     -8.58  60.0           2484.220              2.986\n",
      " minCGnP       0   140     -7.97  63.4           2484.119              2.969\n",
      "---Stage-Seconds--Step-log(Alpha)--Dir-------------Energy-----------RMSforce\n",
      " minCGnP       0   141     -8.04  56.5           2484.025              2.013\n",
      " minCGnP       0   142     -7.66  63.4           2483.962              2.219\n",
      " minCGnP       0   143     -8.07  69.5           2483.911              2.656\n",
      " minCGnP       0   144     -7.57  78.0           2483.790              4.358\n",
      " minCGnP       0   145     -8.79  68.7           2483.695              2.347\n",
      " minCGnP       0   146     -7.85  74.3           2483.624              3.031\n",
      " minCGnP       0   147     -7.57  70.2           2483.467              2.293\n",
      " minCGnP       0   148     -8.01  74.4           2483.410              2.789\n",
      " minCGnP       0   149     -7.83  69.3           2483.308              2.008\n",
      " minCGnP       0   150     -6.90  74.1           2483.174              2.477\n",
      "---Stage-Seconds--Step-log(Alpha)--Dir-------------Energy-----------RMSforce\n",
      " minCGnP       0   151     -7.97  76.4           2483.104              2.813\n",
      " minCGnP       0   152     -8.08  77.5           2483.023              2.967\n",
      " minCGnP       0   153     -8.74  74.3           2482.976              2.272\n",
      " minCGnP       0   154     -8.05  74.2           2482.922              2.171\n",
      " minCGnP       0   155     -8.00  74.8           2482.870              2.170\n",
      " minCGnP       0   156     -6.95  76.9           2482.720              2.486\n",
      " minCGnP       0   157     -8.11  79.1           2482.659              2.920\n",
      " minCGnP       0   158     -7.69  74.6           2482.530              2.013\n",
      " minCGnP       0   159     -8.13  77.9           2482.490              2.520\n",
      " minCGnP       0   160     -7.64  84.0           2482.389              4.993\n",
      "---Stage-Seconds--Step-log(Alpha)--Dir-------------Energy-----------RMSforce\n",
      " minCGnP       0   161     -8.06  80.3           2482.128              3.197\n",
      " minCGnP       0   162     -7.93  80.2           2482.007              3.057\n",
      " minCGnP       0   163     -8.27  79.1           2481.929              2.637\n",
      " minCGnP       0   164     -7.17  82.2           2481.753              3.594\n",
      " minCGnP       0   165     -8.54  82.9           2481.669              3.927\n",
      " minCGnP       0   166     -7.99  83.5           2481.496              4.340\n",
      " minCGnP       0   167     -8.18  79.9           2481.322              2.876\n",
      " minCGnP       0   168     -7.55  83.9           2481.177              4.775\n",
      " minCGnP       0   169     -8.11  80.7           2480.948              3.543\n",
      " minCGnP       0   170     -8.93  78.8           2480.893              2.897\n",
      "---Stage-Seconds--Step-log(Alpha)--Dir-------------Energy-----------RMSforce\n",
      " minCGnP       0   171     -7.18  80.3           2480.685              3.226\n",
      " minCGnP       0   172     -7.93  82.3           2480.563              3.972\n",
      " minCGnP       0   173     -8.23  82.1           2480.424              3.789\n",
      " minCGnP       0   174     -8.64  80.4           2480.340              3.020\n",
      " minCGnP       0   175     -8.23  76.7           2480.260              2.111\n",
      " minCGnP       0   176     -8.21  76.3           2480.220              1.987\n",
      " minCGnP       0   177     -6.91  84.1           2480.090              4.533\n",
      " minCGnP       0   178     -8.84  79.4           2479.991              2.584\n",
      " minCGnP       0   179     -8.13  79.6           2479.926              2.585\n",
      " minCGnP       0   180     -8.36  73.0           2479.875              1.522\n",
      "---Stage-Seconds--Step-log(Alpha)--Dir-------------Energy-----------RMSforce\n",
      " minCGnP       0   181     -7.57  79.8           2479.835              2.490\n",
      " minCGnP       0   182     -8.04  81.7           2479.769              3.023\n",
      " minCGnP       0   183     -8.65  78.7           2479.716              2.170\n",
      " minCGnP       0   184     -7.33  79.7           2479.614              2.326\n",
      " minCGnP       0   185     -8.62  75.1           2479.582              1.562\n",
      " minCGnP       0   186     -8.14  75.0           2479.559              1.499\n",
      " minCGnP       0   187     -8.70  74.4           2479.546              1.390\n",
      " minCGnP       0   188     -7.00  79.5           2479.488              2.018\n",
      " minCGnP       0   189     -8.17  79.3           2479.450              1.952\n",
      " minCGnP       0   190     -7.93  81.4           2479.405              2.425\n",
      "---Stage-Seconds--Step-log(Alpha)--Dir-------------Energy-----------RMSforce\n",
      " minCGnP       0   191     -8.75  75.6           2479.375              1.409\n",
      " minCGnP       0   192     -8.27  78.0           2479.358              1.636\n",
      " minCGnP       0   193     -7.04  79.2           2479.280              1.756\n",
      " minCGnP       0   194     -8.37  81.4           2479.257              2.194\n",
      " minCGnP       0   195     -7.95  81.8           2479.200              2.306\n",
      " minCGnP       0   196     -8.40  80.1           2479.161              1.897\n",
      " minCGnP       0   197     -7.94  78.8           2479.119              1.633\n",
      " minCGnP       0   198     -8.25  80.2           2479.096              1.827\n",
      " minCGnP       0   199     -8.35  80.2           2479.070              1.787\n",
      " minCGnP       0   200     -8.33  76.4           2479.044              1.255\n",
      "---Stage-Seconds--Step-log(Alpha)--Dir-------------Energy-----------RMSforce\n",
      " minCGnP       0   201     -6.94  84.2           2478.994              2.929\n",
      " minCGnP       0   202     -8.37   0.0           2478.928              1.855\n",
      " minCGnP       0   203     -9.07  34.7           2478.915              1.283\n",
      " minCGnP       0   204     -8.23  42.2           2478.900              0.954\n",
      " minCGnP       0   205     -8.15  55.3           2478.892              1.021\n",
      " minCGnP       0   206     -7.10  69.0           2478.863              1.510\n",
      " minCGnP       0   207     -8.22  62.0           2478.843              1.017\n",
      " minCGnP       0   208     -7.75  66.2           2478.828              1.082\n",
      " minCGnP       0   209     -8.40  72.3           2478.820              1.371\n",
      " minCGnP       0   210     -7.72  75.0           2478.792              1.555\n",
      "---Stage-Seconds--Step-log(Alpha)--Dir-------------Energy-----------RMSforce\n",
      " minCGnP       0   211     -8.33  73.9           2478.773              1.388\n",
      " minCGnP       0   212     -7.39  75.6           2478.733              1.501\n",
      " minCGnP       0   213     -8.28  72.7           2478.715              1.205\n",
      " minCGnP       0   214     -7.34  76.9           2478.683              1.537\n",
      " minCGnP       0   215     -9.04  69.1           2478.674              0.907\n",
      " minCGnP       0   216     -7.74  77.0           2478.662              1.395\n",
      " minCGnP       0   217     -8.20  63.3           2478.645              0.619\n",
      " minCGnP       0   218     -6.22  69.6           2478.620              0.746\n",
      " minCGnP       0   219     -7.93  77.1           2478.613              1.138\n",
      " minCGnP       0   220     -8.02  78.8           2478.599              1.282\n",
      "---Stage-Seconds--Step-log(Alpha)--Dir-------------Energy-----------RMSforce\n",
      " minCGnP       0   221     -8.68  75.9           2478.590              0.995\n",
      " minCGnP       0   222     -6.85  81.9           2478.555              1.695\n",
      " minCGnP       0   223     -8.37  76.1           2478.533              0.975\n",
      " minCGnP       0   224     -7.72  77.4           2478.519              1.049\n",
      " minCGnP       0   225     -8.35  76.4           2478.510              0.943\n",
      " minCGnP       0   226     -7.28  84.0           2478.490              2.102\n",
      " minCGnP       0   227     -8.55  80.6           2478.462              1.312\n",
      " minCGnP       0   228     -7.67  78.1           2478.436              1.009\n",
      " minCGnP       0   229     -8.04  79.2           2478.425              1.091\n",
      " minCGnP       0   230     -7.87  78.6           2478.410              1.014\n",
      "---Stage-Seconds--Step-log(Alpha)--Dir-------------Energy-----------RMSforce\n",
      " minCGnP       0   231     -7.71  82.2           2478.395              1.462\n",
      " minCGnP       0   232     -7.17  85.2           2478.340              2.375\n",
      " minCGnP       0   233     -9.24  71.6           2478.322              0.781\n",
      " minCGnP       0   234     -7.32  78.0           2478.308              1.159\n",
      " minCGnP       0   235     -8.12  78.8           2478.295              1.211\n",
      " minCGnP       0   236     -7.11  81.3           2478.256              1.534\n",
      " minCGnP       0   237     -8.34  82.9           2478.237              1.865\n",
      " minCGnP       0   238     -8.46  77.4           2478.213              0.976\n",
      " minCGnP       0   239     -8.29  77.7           2478.205              0.975\n",
      " minCGnP       0   240     -7.45  79.5           2478.187              1.123\n",
      "---Stage-Seconds--Step-log(Alpha)--Dir-------------Energy-----------RMSforce\n",
      " minCGnP       0   241     -8.41  74.5           2478.177              0.746\n",
      " minCGnP       0   242     -7.13  83.1           2478.163              1.639\n",
      " minCGnP       0   243     -8.80  77.5           2478.149              0.895\n",
      " minCGnP       0   244     -8.00  78.9           2478.141              0.992\n",
      " minCGnP       0   245     -7.96  76.3           2478.129              0.780\n",
      " minCGnP       0   246     -8.15  75.8           2478.123              0.732\n",
      " minCGnP       0   247     -7.90  75.6           2478.117              0.700\n",
      " minCGnP       0   248     -8.33  79.4           2478.113              0.934\n",
      " minCGnP       0   249     -8.00  74.5           2478.103              0.621\n",
      " minCGnP       0   250     -7.61  76.4           2478.097              0.683\n",
      "DONE absolute force test:\n",
      "forceRmsMag(0.461013).LT.forceTolerance(0.500000)\n"
     ]
    },
    {
     "data": {
      "text/plain": [
       "*EE*"
      ]
     },
     "execution_count": 26,
     "metadata": {},
     "output_type": "execute_result"
    }
   ],
   "source": [
    "(defparameter *ee* (energy:minimize *chemagg*))"
   ]
  },
  {
   "cell_type": "markdown",
   "metadata": {},
   "source": [
    "#### Visualize the minimized structure and demonstrate that the force field parameters lead to the construction of a chemically"
   ]
  },
  {
   "cell_type": "markdown",
   "metadata": {},
   "source": [
    "#### reasonable structure."
   ]
  },
  {
   "cell_type": "code",
   "execution_count": 16,
   "metadata": {},
   "outputs": [
    {
     "name": "stderr",
     "output_type": "stream",
     "text": [
      "An error occurred of type: UNDEFINED-FUNCTION: \n",
      "  #<UNDEFINED-FUNCTION>\n"
     ]
    },
    {
     "data": {
      "text/plain": [
       "NIL"
      ]
     },
     "execution_count": 16,
     "metadata": {},
     "output_type": "execute_result"
    }
   ],
   "source": [
    "(nglv::show-aggregate *chemagg*)"
   ]
  },
  {
   "cell_type": "code",
   "execution_count": 27,
   "metadata": {},
   "outputs": [
    {
     "data": {
      "application/vnd.jupyter.widget-view+json": {
       "model_id": "4BF6DEA9-675C-4429-AF9A-12AD02A395E2",
       "version_major": 2,
       "version_minor": 0
      },
      "text/html": [
       "<p>Failed to display Jupyter Widget of type <code>{widget_type}</code>.</p>\n",
       "<p>\n",
       "  If you're reading this message in the Jupyter Notebook or JupyterLab Notebook, it may mean\n",
       "  that the widgets JavaScript is still loading. If this message persists, it\n",
       "  likely means that the widgets JavaScript library is either not installed or\n",
       "  not enabled. See the <a href=\"https://ipywidgets.readthedocs.io/en/stable/user_install.html\">Jupyter\n",
       "  Widgets Documentation</a> for setup instructions.\n",
       "</p>\n",
       "<p>\n",
       "  If you're reading this message in another frontend (for example, a static\n",
       "  rendering on GitHub or <a href=\"https://nbviewer.jupyter.org/\">NBViewer</a>),\n",
       "  it may mean that your frontend doesn't currently support widgets.\n",
       "</p>\n"
      ],
      "text/plain": [
       "A Jupyter Widget"
      ]
     },
     "execution_count": 27,
     "metadata": {},
     "output_type": "execute_result"
    }
   ],
   "source": [
    "(cando::show-aggregate *chemagg*)"
   ]
  },
  {
   "cell_type": "code",
   "execution_count": 28,
   "metadata": {},
   "outputs": [
    {
     "name": "stdout",
     "output_type": "stream",
     "text": [
      "rings NIL\n",
      "rings NIL\n",
      "rings NIL\n",
      "rings NIL\n",
      "rings NIL\n",
      "rings NIL\n"
     ]
    },
    {
     "data": {
      "text/plain": [
       "*BCC*"
      ]
     },
     "execution_count": 28,
     "metadata": {},
     "output_type": "execute_result"
    }
   ],
   "source": [
    "(:= *bcc* (charges:calculate-bcc-corrections *chemagg*))"
   ]
  },
  {
   "cell_type": "code",
   "execution_count": 29,
   "metadata": {},
   "outputs": [
    {
     "data": {
      "text/plain": [
       "*ORDER*"
      ]
     },
     "execution_count": 29,
     "metadata": {},
     "output_type": "execute_result"
    }
   ],
   "source": [
    " (:= *order* (charges:write-sqm-calculation (open \"/tmp/sqm-input.txt\" :direction :output) *chemagg*))"
   ]
  },
  {
   "cell_type": "code",
   "execution_count": 30,
   "metadata": {},
   "outputs": [
    {
     "data": {
      "text/plain": [
       "0"
      ]
     },
     "execution_count": 30,
     "metadata": {},
     "output_type": "execute_result"
    }
   ],
   "source": [
    "(ext:vfork-execvp (list (namestring (translate-logical-pathname #P\"amber:bin;sqm\"))\n",
    "                             \"-O\"\n",
    "                             \"-i\" \"/tmp/sqm-input.txt\"\n",
    "                             \"-o\" \"/tmp/sqm-output.out\"))"
   ]
  },
  {
   "cell_type": "code",
   "execution_count": 31,
   "metadata": {},
   "outputs": [
    {
     "data": {
      "text/plain": [
       "*AM1*"
      ]
     },
     "execution_count": 31,
     "metadata": {},
     "output_type": "execute_result"
    }
   ],
   "source": [
    "(:= *am1* (charges:read-am1-charges \"/tmp/sqm-output.out\" *order*))"
   ]
  },
  {
   "cell_type": "code",
   "execution_count": 32,
   "metadata": {},
   "outputs": [
    {
     "name": "stdout",
     "output_type": "stream",
     "text": [
      "atom #<ATOM :HH32/:H> charge 0.085d0\n",
      "atom #<ATOM :HH32/:H> charge 0.10300000000000001d0\n",
      "atom #<ATOM :HH33/:H> charge 0.093d0\n",
      "atom #<ATOM :HH31/:H> charge 0.10400000000000001d0\n",
      "atom #<ATOM :NH/:N> charge -0.376d0\n",
      "atom #<ATOM :C/:C> charge 0.301d0\n",
      "atom #<ATOM :H/:H> charge 0.137d0\n",
      "atom #<ATOM :CH3/:C> charge -0.079d0\n",
      "atom #<ATOM :CH3/:C> charge -0.22d0\n",
      "atom #<ATOM :HH32/:H> charge 0.07100000000000001d0\n",
      "atom #<ATOM :C_0/:C> charge 0.006d0\n",
      "atom #<ATOM :HH/:H> charge 0.227d0\n",
      "atom #<ATOM :HH31/:H> charge 0.117d0\n",
      "atom #<ATOM :NH/:N> charge -0.363d0\n",
      "atom #<ATOM :O/:O> charge -0.38d0\n",
      "atom #<ATOM :CH3/:C> charge -0.24200000000000002d0\n",
      "atom #<ATOM :C/:C> charge 0.274d0\n",
      "atom #<ATOM :HH33/:H> charge 0.117d0\n",
      "atom #<ATOM :HH33/:H> charge 0.067d0\n",
      "atom #<ATOM :HH31/:H> charge 0.094d0\n",
      "atom #<ATOM :HH/:H> charge 0.23500000000000001d0\n",
      "atom #<ATOM :O/:O> charge -0.371d0\n"
     ]
    },
    {
     "data": {
      "text/plain": [
       "NIL"
      ]
     },
     "execution_count": 32,
     "metadata": {},
     "output_type": "execute_result"
    }
   ],
   "source": [
    "(maphash (lambda (atom charge) \n",
    "                 (format t \"atom ~a charge ~a~%\" atom charge)) *am1*)"
   ]
  },
  {
   "cell_type": "code",
   "execution_count": 33,
   "metadata": {},
   "outputs": [
    {
     "name": "stdout",
     "output_type": "stream",
     "text": [
      "atom #<ATOM :HH32/:H> charge 0.0393\n",
      "atom #<ATOM :HH32/:H> charge 0.0393\n",
      "atom #<ATOM :HH33/:H> charge 0.0393\n",
      "atom #<ATOM :HH31/:H> charge 0.0393\n",
      "atom #<ATOM :NH/:N> charge -0.0466\n",
      "atom #<ATOM :C/:C> charge 0.1891\n",
      "atom #<ATOM :H/:H> charge 0.0393\n",
      "atom #<ATOM :CH3/:C> charge 0.27609998\n",
      "atom #<ATOM :CH3/:C> charge 0.1179\n",
      "atom #<ATOM :HH32/:H> charge 0.0393\n",
      "atom #<ATOM :C_0/:C> charge 0.1475\n",
      "atom #<ATOM :HH/:H> charge -0.2048\n",
      "atom #<ATOM :HH31/:H> charge 0.0393\n",
      "atom #<ATOM :NH/:N> charge -0.0466\n",
      "atom #<ATOM :O/:O> charge 0.2391\n",
      "atom #<ATOM :CH3/:C> charge 0.0679\n",
      "atom #<ATOM :C/:C> charge 0.1891\n",
      "atom #<ATOM :HH33/:H> charge 0.0393\n",
      "atom #<ATOM :HH33/:H> charge 0.0393\n",
      "atom #<ATOM :HH31/:H> charge 0.0393\n",
      "atom #<ATOM :HH/:H> charge -0.2048\n",
      "atom #<ATOM :O/:O> charge 0.2391\n"
     ]
    },
    {
     "data": {
      "text/plain": [
       "NIL"
      ]
     },
     "execution_count": 33,
     "metadata": {},
     "output_type": "execute_result"
    }
   ],
   "source": [
    "(maphash (lambda (atom charge) \n",
    "                 (format t \"atom ~a charge ~a~%\" atom charge)) *bcc*)"
   ]
  },
  {
   "cell_type": "code",
   "execution_count": 26,
   "metadata": {},
   "outputs": [
    {
     "name": "stdout",
     "output_type": "stream",
     "text": [
      "atom #<ATOM :NH/:N> charge -0.377d0\n",
      "atom #<ATOM :HH/:H> charge 0.23500000000000001d0\n",
      "atom #<ATOM :C_0/:C> charge 0.006d0\n",
      "atom #<ATOM :NH/:N> charge -0.364d0\n",
      "atom #<ATOM :HH33/:H> charge 0.092d0\n",
      "atom #<ATOM :HH32/:H> charge 0.07d0\n",
      "atom #<ATOM :O/:O> charge -0.371d0\n",
      "atom #<ATOM :HH/:H> charge 0.227d0\n",
      "atom #<ATOM :HH32/:H> charge 0.10300000000000001d0\n",
      "atom #<ATOM :H/:H> charge 0.137d0\n",
      "atom #<ATOM :HH31/:H> charge 0.094d0\n",
      "atom #<ATOM :HH33/:H> charge 0.117d0\n",
      "atom #<ATOM :CH3/:C> charge -0.079d0\n",
      "atom #<ATOM :CH3/:C> charge -0.24100000000000002d0\n",
      "atom #<ATOM :O/:O> charge -0.38d0\n",
      "atom #<ATOM :HH31/:H> charge 0.117d0\n",
      "atom #<ATOM :CH3/:C> charge -0.22d0\n",
      "atom #<ATOM :C/:C> charge 0.275d0\n",
      "atom #<ATOM :HH31/:H> charge 0.10400000000000001d0\n",
      "atom #<ATOM :C/:C> charge 0.302d0\n",
      "atom #<ATOM :HH32/:H> charge 0.084d0\n",
      "atom #<ATOM :HH33/:H> charge 0.068d0\n"
     ]
    },
    {
     "data": {
      "text/plain": [
       "NIL"
      ]
     },
     "execution_count": 26,
     "metadata": {},
     "output_type": "execute_result"
    }
   ],
   "source": [
    "(maphash (lambda (atom charge) \n",
    "                 (format t \"atom ~a charge ~a~%\" atom charge)) *am1*)"
   ]
  },
  {
   "cell_type": "code",
   "execution_count": 34,
   "metadata": {},
   "outputs": [
    {
     "name": "stdout",
     "output_type": "stream",
     "text": [
      "rings NIL\n",
      "rings NIL\n",
      "rings NIL\n",
      "rings NIL\n",
      "rings NIL\n",
      "rings NIL\n"
     ]
    },
    {
     "data": {
      "text/plain": [
       "NIL"
      ]
     },
     "execution_count": 34,
     "metadata": {},
     "output_type": "execute_result"
    }
   ],
   "source": [
    "(charges:calculate-am1-bcc-charges *chemagg*)"
   ]
  },
  {
   "cell_type": "code",
   "execution_count": 36,
   "metadata": {},
   "outputs": [
    {
     "name": "stdout",
     "output_type": "stream",
     "text": [
      "Saving matter to /Users/tuj24515/Development/clasp/extensions/cando/src/tests/alanine-demo/alanine.mol2\n"
     ]
    },
    {
     "data": {
      "text/plain": [
       "NIL"
      ]
     },
     "execution_count": 36,
     "metadata": {},
     "output_type": "execute_result"
    }
   ],
   "source": [
    "(save-mol2 *chemagg* \"alanine.mol2\")"
   ]
  },
  {
   "cell_type": "markdown",
   "metadata": {},
   "source": [
    "#### Assign atom types and change one of them for alanine atom type definition."
   ]
  },
  {
   "cell_type": "code",
   "execution_count": 37,
   "metadata": {},
   "outputs": [
    {
     "data": {
      "text/plain": [
       "NIL"
      ]
     },
     "execution_count": 37,
     "metadata": {},
     "output_type": "execute_result"
    }
   ],
   "source": [
    "(assign-atom-types *chemagg*)\n",
    "(chem:map-atoms 'nil (lambda (a) (if (eq (chem:get-type a) :CT)\n",
    "                                     (if (eq (chem:get-name a) :C)\n",
    "                                         (chem:set-type a :CX)))) *chemagg*)"
   ]
  },
  {
   "cell_type": "markdown",
   "metadata": {},
   "source": [
    "#### Save the topology file and coordinate file."
   ]
  },
  {
   "cell_type": "code",
   "execution_count": 38,
   "metadata": {},
   "outputs": [
    {
     "data": {
      "text/plain": [
       "T"
      ]
     },
     "execution_count": 38,
     "metadata": {},
     "output_type": "execute_result"
    }
   ],
   "source": [
    "(leap.topology:save-amber-parm-format *chemagg* \"chemagg.top\" \"chemagg.crd\" :assign-types nil)"
   ]
  },
  {
   "cell_type": "markdown",
   "metadata": {},
   "source": [
    "## Create topology and coordinate file for Alanine and water atoms."
   ]
  },
  {
   "cell_type": "markdown",
   "metadata": {},
   "source": [
    "#### Load Tip3pfbox water box."
   ]
  },
  {
   "cell_type": "code",
   "execution_count": 39,
   "metadata": {},
   "outputs": [
    {
     "data": {
      "text/plain": [
       "(:TIP3PFBOX)"
      ]
     },
     "execution_count": 39,
     "metadata": {},
     "output_type": "execute_result"
    }
   ],
   "source": [
    "(load-off \"tip3pfbox.off\")"
   ]
  },
  {
   "cell_type": "markdown",
   "metadata": {},
   "source": [
    "#### Make agggregate of the water box."
   ]
  },
  {
   "cell_type": "code",
   "execution_count": 40,
   "metadata": {},
   "outputs": [
    {
     "name": "stdout",
     "output_type": "stream",
     "text": [
      "\n",
      "#<AGGREGATE NIL> "
     ]
    },
    {
     "data": {
      "text/plain": [
       "#<AGGREGATE NIL>"
      ]
     },
     "execution_count": 40,
     "metadata": {},
     "output_type": "execute_result"
    }
   ],
   "source": [
    "(print ~tip3pfbox)"
   ]
  },
  {
   "cell_type": "code",
   "execution_count": 41,
   "metadata": {},
   "outputs": [
    {
     "data": {
      "text/plain": [
       "*SOLVENT*"
      ]
     },
     "execution_count": 41,
     "metadata": {},
     "output_type": "execute_result"
    }
   ],
   "source": [
    "(defparameter *solvent* ~tip3pfbox)"
   ]
  },
  {
   "cell_type": "code",
   "execution_count": 42,
   "metadata": {},
   "outputs": [
    {
     "name": "stderr",
     "output_type": "stream",
     "text": [
      "An error occurred of type: UNDEFINED-FUNCTION: \n",
      "  #<UNDEFINED-FUNCTION>\n"
     ]
    },
    {
     "data": {
      "text/plain": [
       "NIL"
      ]
     },
     "execution_count": 42,
     "metadata": {},
     "output_type": "execute_result"
    }
   ],
   "source": [
    "(nglv::show-aggregate *solvent*)"
   ]
  },
  {
   "cell_type": "markdown",
   "metadata": {},
   "source": [
    "#### Assign the atom types of the force field to the water box."
   ]
  },
  {
   "cell_type": "code",
   "execution_count": 43,
   "metadata": {},
   "outputs": [
    {
     "data": {
      "text/plain": [
       "NIL"
      ]
     },
     "execution_count": 43,
     "metadata": {},
     "output_type": "execute_result"
    }
   ],
   "source": [
    "(assign-atom-types *solvent*)"
   ]
  },
  {
   "cell_type": "markdown",
   "metadata": {},
   "source": [
    "#### Add Tip3p water molecules to the alanine."
   ]
  },
  {
   "cell_type": "code",
   "execution_count": 97,
   "metadata": {},
   "outputs": [
    {
     "name": "stdout",
     "output_type": "stream",
     "text": [
      "Total bounding box for atom centers:  29.353789041228794d0 26.304757298876325d0 23.279665206725056d0\n"
     ]
    },
    {
     "data": {
      "text/plain": [
       "NIL"
      ]
     },
     "execution_count": 97,
     "metadata": {},
     "output_type": "execute_result"
    }
   ],
   "source": [
    "(leap.solvate::tool-solvate-and-shell *chemagg* *solvent* '(10.0 10.0 10.0))"
   ]
  },
  {
   "cell_type": "code",
   "execution_count": 66,
   "metadata": {},
   "outputs": [
    {
     "name": "stderr",
     "output_type": "stream",
     "text": [
      "An error occurred of type: UNDEFINED-FUNCTION: \n",
      "  #<UNDEFINED-FUNCTION>\n"
     ]
    },
    {
     "data": {
      "text/plain": [
       "NIL"
      ]
     },
     "execution_count": 66,
     "metadata": {},
     "output_type": "execute_result"
    }
   ],
   "source": [
    "(nglv::show-aggregate *newagg*)"
   ]
  },
  {
   "cell_type": "code",
   "execution_count": 98,
   "metadata": {},
   "outputs": [
    {
     "data": {
      "application/vnd.jupyter.widget-view+json": {
       "model_id": "CCC1D5ED-46F1-4965-BE5D-774CDBA406A9",
       "version_major": 2,
       "version_minor": 0
      },
      "text/html": [
       "<p>Failed to display Jupyter Widget of type <code>{widget_type}</code>.</p>\n",
       "<p>\n",
       "  If you're reading this message in the Jupyter Notebook or JupyterLab Notebook, it may mean\n",
       "  that the widgets JavaScript is still loading. If this message persists, it\n",
       "  likely means that the widgets JavaScript library is either not installed or\n",
       "  not enabled. See the <a href=\"https://ipywidgets.readthedocs.io/en/stable/user_install.html\">Jupyter\n",
       "  Widgets Documentation</a> for setup instructions.\n",
       "</p>\n",
       "<p>\n",
       "  If you're reading this message in another frontend (for example, a static\n",
       "  rendering on GitHub or <a href=\"https://nbviewer.jupyter.org/\">NBViewer</a>),\n",
       "  it may mean that your frontend doesn't currently support widgets.\n",
       "</p>\n"
      ],
      "text/plain": [
       "A Jupyter Widget"
      ]
     },
     "execution_count": 98,
     "metadata": {},
     "output_type": "execute_result"
    }
   ],
   "source": [
    "(show *chemagg*)"
   ]
  },
  {
   "cell_type": "markdown",
   "metadata": {},
   "source": [
    "#### Save the topology and coordinate file. New aggregate contains water molecules and alanine."
   ]
  },
  {
   "cell_type": "code",
   "execution_count": 99,
   "metadata": {},
   "outputs": [
    {
     "data": {
      "text/plain": [
       "NIL"
      ]
     },
     "execution_count": 99,
     "metadata": {},
     "output_type": "execute_result"
    }
   ],
   "source": [
    "(assign-atom-types *chemagg*)\n",
    "(chem:map-atoms 'nil (lambda (a) (if (eq (chem:get-type a) :CT)\n",
    "                                     (if (eq (chem:get-name a) :C)\n",
    "                                         (chem:set-type a :CX)))) *chemagg*)"
   ]
  },
  {
   "cell_type": "code",
   "execution_count": 100,
   "metadata": {},
   "outputs": [
    {
     "data": {
      "text/plain": [
       "T"
      ]
     },
     "execution_count": 100,
     "metadata": {},
     "output_type": "execute_result"
    }
   ],
   "source": [
    "(leap.topology:save-amber-parm-format *chemagg* \"chemagg_water.top\" \"chemagg_water.crd\" :assign-types nil)"
   ]
  },
  {
   "cell_type": "code",
   "execution_count": null,
   "metadata": {},
   "outputs": [],
   "source": [
    "(load-mol2 \"alanine-leap.mol2\")"
   ]
  },
  {
   "cell_type": "code",
   "execution_count": null,
   "metadata": {},
   "outputs": [],
   "source": []
  },
  {
   "cell_type": "code",
   "execution_count": null,
   "metadata": {},
   "outputs": [],
   "source": []
  },
  {
   "cell_type": "code",
   "execution_count": null,
   "metadata": {},
   "outputs": [],
   "source": []
  },
  {
   "cell_type": "markdown",
   "metadata": {},
   "source": [
    "#### Calculate each energy parameters."
   ]
  },
  {
   "cell_type": "code",
   "execution_count": 31,
   "metadata": {},
   "outputs": [
    {
     "data": {
      "text/plain": [
       "1720.1189821006878d0"
      ]
     },
     "execution_count": 31,
     "metadata": {},
     "output_type": "execute_result"
    }
   ],
   "source": [
    "(chem:get-energy (chem:get-stretch-component *e*))"
   ]
  },
  {
   "cell_type": "code",
   "execution_count": 32,
   "metadata": {},
   "outputs": [
    {
     "data": {
      "text/plain": [
       "0.30171081698364277d0"
      ]
     },
     "execution_count": 32,
     "metadata": {},
     "output_type": "execute_result"
    }
   ],
   "source": [
    "(chem:get-energy (chem:get-angle-component *e*))"
   ]
  },
  {
   "cell_type": "code",
   "execution_count": 33,
   "metadata": {},
   "outputs": [
    {
     "data": {
      "text/plain": [
       "5.456751705606037d0"
      ]
     },
     "execution_count": 33,
     "metadata": {},
     "output_type": "execute_result"
    }
   ],
   "source": [
    "(chem:get-energy (chem:get-dihedral-component *e*))"
   ]
  },
  {
   "cell_type": "code",
   "execution_count": 34,
   "metadata": {},
   "outputs": [
    {
     "data": {
      "text/plain": [
       "658.8024508583202d0"
      ]
     },
     "execution_count": 34,
     "metadata": {},
     "output_type": "execute_result"
    }
   ],
   "source": [
    "(chem:get-energy (chem:get-nonbond-component *e*))"
   ]
  },
  {
   "cell_type": "code",
   "execution_count": 34,
   "metadata": {},
   "outputs": [
    {
     "name": "stdout",
     "output_type": "stream",
     "text": [
      "CHEM:ADD-SUPERPOSE-ATOM  Function\n",
      "CHEM:CLEAR-SUPERPOSE-ATOMS  Function\n",
      "CHEM:SET-FINAL-COORDINATES-AS-FIXED-WITHIN-SUPERPOSE-ENGINE  Function\n",
      "CHEM:SET-FINAL-COORDINATES-AS-MOVEABLE-WITHIN-SUPERPOSE-ENGINE  Function\n",
      "CHEM:SET-SUPERPOSABLE-COORDINATES-AS-FIXED-WITHIN-SUPERPOSE-ENGINE  Function\n",
      "CHEM:SET-SUPERPOSABLE-COORDINATES-AS-MOVEABLE-WITHIN-SUPERPOSE-ENGINE  Function\n",
      "CHEM:SUPERPOSE  Function\n",
      "CANDO::SUPERPOSE-AGAINST-TEMPLATE  Function\n",
      "CANDO::SUPERPOSE-ALL  Function\n",
      "CHEM:SUPERPOSE-ALL-HEAVY-ATOMS  Function\n",
      "CHEM:SUPERPOSE-ENGINE\n",
      "CANDO::SUPERPOSE-ONE  Function\n",
      "CHEM:SUPERPOSE-SELECTED-ATOMS\n",
      "CHEM::SUPERPOSER\n"
     ]
    },
    {
     "data": {
      "text/plain": [
       "NIL"
      ]
     },
     "execution_count": 34,
     "metadata": {},
     "output_type": "execute_result"
    }
   ],
   "source": [
    "(apropos \"superpose\")"
   ]
  },
  {
   "cell_type": "code",
   "execution_count": 88,
   "metadata": {},
   "outputs": [
    {
     "data": {
      "application/vnd.jupyter.widget-view+json": {
       "model_id": "E7E4F0CF-9CCE-4EF5-B403-2ED852FB34F2",
       "version_major": 2,
       "version_minor": 0
      },
      "text/plain": [
       "A Jupyter Widget"
      ]
     },
     "execution_count": 88,
     "metadata": {},
     "output_type": "execute_result"
    }
   ],
   "source": [
    "(:= w (show *chemagg*)) w"
   ]
  },
  {
   "cell_type": "code",
   "execution_count": 93,
   "metadata": {
    "scrolled": true
   },
   "outputs": [
    {
     "data": {
      "text/plain": [
       "((\"atom\" (\"index\" . 20) (\"residueIndex\" . 2) (\"resname\" . \"NIL_3\")\n",
       "  (\"x\" . 216.329) (\"y\" . 322.549) (\"z\" . -0.62) (\"element\" . \"H\")\n",
       "  (\"chainname\" . \"A\") (\"resno\" . 3) (\"serial\" . 21) (\"vdw\" . 1.1)\n",
       "  (\"covalent\" . 0.31) (\"hetero\" . 1) (\"bfactor\" . 0) (\"altloc\" . \"\")\n",
       "  (\"atomname\" . \"HH33\")))"
      ]
     },
     "execution_count": 93,
     "metadata": {},
     "output_type": "execute_result"
    }
   ],
   "source": [
    "(nglv::picked w)"
   ]
  },
  {
   "cell_type": "code",
   "execution_count": 94,
   "metadata": {},
   "outputs": [
    {
     "data": {
      "text/plain": [
       "DISTANCE"
      ]
     },
     "execution_count": 94,
     "metadata": {},
     "output_type": "execute_result"
    }
   ],
   "source": [
    "(defun distance (p1 p2) (geom:vlength (geom:v- p1 p2)))"
   ]
  },
  {
   "cell_type": "code",
   "execution_count": 95,
   "metadata": {},
   "outputs": [
    {
     "data": {
      "text/plain": [
       "*A*"
      ]
     },
     "execution_count": 95,
     "metadata": {},
     "output_type": "execute_result"
    }
   ],
   "source": [
    "(:= *a* (let* ((picked (nglv::picked w))\n",
    "       (atom (cdr (assoc \"atom\" picked :test #'string=)))\n",
    "       (x (cdr (assoc \"x\" atom :test #'string=)))\n",
    "       (y (cdr (assoc \"y\" atom :test #'string=)))\n",
    "       (z (cdr (assoc \"z\" atom :test #'string=)))\n",
    "       (pos (geom:vec x y z))\n",
    "        resulta)\n",
    "     (chem:map-atoms nil (lambda (a) \n",
    "                                 (when (< (distance pos (chem:get-position a)) 0.01) \n",
    "                                     (setf resulta a))) *chemagg*)\n",
    "              resulta))"
   ]
  },
  {
   "cell_type": "code",
   "execution_count": 96,
   "metadata": {},
   "outputs": [
    {
     "data": {
      "text/plain": [
       "#<ATOM :HH33/:H>"
      ]
     },
     "execution_count": 96,
     "metadata": {},
     "output_type": "execute_result"
    }
   ],
   "source": [
    "*a*"
   ]
  },
  {
   "cell_type": "code",
   "execution_count": 97,
   "metadata": {},
   "outputs": [
    {
     "data": {
      "text/plain": [
       "*P*"
      ]
     },
     "execution_count": 97,
     "metadata": {},
     "output_type": "execute_result"
    }
   ],
   "source": [
    "(:= *p* (core:make-cxx-object 'chem:chem-info))"
   ]
  },
  {
   "cell_type": "code",
   "execution_count": 98,
   "metadata": {},
   "outputs": [
    {
     "data": {
      "text/plain": [
       "T"
      ]
     },
     "execution_count": 98,
     "metadata": {},
     "output_type": "execute_result"
    }
   ],
   "source": [
    "(chem:compile-smarts *p* \"CC\")"
   ]
  },
  {
   "cell_type": "code",
   "execution_count": 99,
   "metadata": {},
   "outputs": [
    {
     "data": {
      "text/plain": [
       "NIL"
      ]
     },
     "execution_count": 99,
     "metadata": {},
     "output_type": "execute_result"
    }
   ],
   "source": [
    "(chem:matches *p* *a*)"
   ]
  },
  {
   "cell_type": "code",
   "execution_count": 20,
   "metadata": {
    "collapsed": true
   },
   "outputs": [
    {
     "data": {
      "text/plain": [
       "*ALA-LEAP*"
      ]
     },
     "execution_count": 20,
     "metadata": {},
     "output_type": "execute_result"
    }
   ],
   "source": [
    "(:= *ala-leap* (load-mol2 \"alanine_leap.mol2\"))"
   ]
  },
  {
   "cell_type": "code",
   "execution_count": 21,
   "metadata": {
    "collapsed": true
   },
   "outputs": [
    {
     "data": {
      "application/vnd.jupyter.widget-view+json": {
       "model_id": "07C3ED3E-2559-444C-B71B-BC72B89A793C",
       "version_major": 2,
       "version_minor": 0
      },
      "text/html": [
       "<p>Failed to display Jupyter Widget of type <code>{widget_type}</code>.</p>\n",
       "<p>\n",
       "  If you're reading this message in the Jupyter Notebook or JupyterLab Notebook, it may mean\n",
       "  that the widgets JavaScript is still loading. If this message persists, it\n",
       "  likely means that the widgets JavaScript library is either not installed or\n",
       "  not enabled. See the <a href=\"https://ipywidgets.readthedocs.io/en/stable/user_install.html\">Jupyter\n",
       "  Widgets Documentation</a> for setup instructions.\n",
       "</p>\n",
       "<p>\n",
       "  If you're reading this message in another frontend (for example, a static\n",
       "  rendering on GitHub or <a href=\"https://nbviewer.jupyter.org/\">NBViewer</a>),\n",
       "  it may mean that your frontend doesn't currently support widgets.\n",
       "</p>\n"
      ],
      "text/plain": [
       "A Jupyter Widget"
      ]
     },
     "execution_count": 21,
     "metadata": {},
     "output_type": "execute_result"
    }
   ],
   "source": [
    "(cando::show-aggregate *ala-leap*)"
   ]
  },
  {
   "cell_type": "code",
   "execution_count": 12,
   "metadata": {},
   "outputs": [
    {
     "name": "stdout",
     "output_type": "stream",
     "text": [
      "type HC name H1\n",
      " type CT name CH3\n",
      " type HC name H2\n",
      " type HC name H3\n",
      " type C name C\n",
      " type O name O\n",
      " type N name N\n",
      " type H name H\n",
      " type CX name CA\n",
      " type H1 name HA\n",
      " type CT name CB\n",
      " type HC name HB1\n",
      " type HC name HB2\n",
      " type HC name HB3\n",
      " type C name C\n",
      " type O name O\n",
      " type N name N\n",
      " type H name H\n",
      " type CT name CH3\n",
      " type H1 name HH31\n",
      " type H1 name HH32\n",
      " type H1 name HH33\n",
      " "
     ]
    },
    {
     "data": {
      "text/plain": [
       "NIL"
      ]
     },
     "execution_count": 12,
     "metadata": {},
     "output_type": "execute_result"
    }
   ],
   "source": [
    "(chem:map-atoms 'nil (lambda (a) (format t \"type ~a name ~a~% \" (chem:get-type a) (chem:get-name a)))\n",
    "                \n",
    "                             *ala-leap*)"
   ]
  },
  {
   "cell_type": "code",
   "execution_count": 22,
   "metadata": {},
   "outputs": [
    {
     "name": "stdout",
     "output_type": "stream",
     "text": [
      "atom-name-vector -> #(:H1 :CH3 :H2 :H3 :C :O :N :H :CA :HA :CB :HB1 :HB2 :HB3\n",
      "                      :C :O :N :H :CH3 :HH31 :HH32 :HH33)\n",
      "atom-type-vector -> #(:HC :CT :HC :HC :C :O :N :H :CX :H1 :CT :HC :HC :HC :C :O\n",
      "                      :N :H :CT :H1 :H1 :H1)\n",
      "type-index-vector -> #(24 13 24 24 0 50 41 23 17 25 13 24 24 24 0 50 41 23 13\n",
      "                       25 25 25)\n",
      "atom-name-vector -> #(:H1 :CH3 :H2 :H3 :C :O :N :H :CA :HA :CB :HB1 :HB2 :HB3\n",
      "                      :C :O :N :H :CH3 :HH31 :HH32 :HH33)\n",
      "atom-type-vector -> #(:HC :CT :HC :HC :C :O :N :H :CX :H1 :CT :HC :HC :HC :C :O\n",
      "                      :N :H :CT :H1 :H1 :H1)\n",
      "type-index-vector -> #(24 13 24 24 0 50 41 23 17 25 13 24 24 24 0 50 41 23 13\n",
      "                       25 25 25)\n"
     ]
    },
    {
     "data": {
      "text/plain": [
       "T"
      ]
     },
     "execution_count": 22,
     "metadata": {},
     "output_type": "execute_result"
    }
   ],
   "source": [
    "(leap.topology:save-amber-parm-format *ala-leap* \"alanine_cando.top\" \"alanine_cando.crd\" :assign-types nil)"
   ]
  },
  {
   "cell_type": "code",
   "execution_count": 42,
   "metadata": {},
   "outputs": [
    {
     "name": "stdout",
     "output_type": "stream",
     "text": [
      "popped residue: #<PDB-RESIDUE ACE>\n",
      "popped residue: #<PDB-RESIDUE ALA>\n",
      "popped residue: #<PDB-RESIDUE NME>\n",
      "Built 3 missing hydrogens\n"
     ]
    },
    {
     "name": "stderr",
     "output_type": "stream",
     "text": [
      "SIMPLE-WARNING: \n",
      "Loaded atom (1 H1 ACE NIL 1 NIL) but amber form #<TOPOLOGY  :name :ACE @0x122212e48> does not recognize it\n",
      "SIMPLE-WARNING: \n",
      "Loaded atom (3 H2 ACE NIL 1 NIL) but amber form #<TOPOLOGY  :name :ACE @0x122212e48> does not recognize it\n",
      "SIMPLE-WARNING: \n",
      "Loaded atom (4 H3 ACE NIL 1 NIL) but amber form #<TOPOLOGY  :name :ACE @0x122212e48> does not recognize it\n"
     ]
    },
    {
     "data": {
      "text/plain": [
       "*ALA-PDB*"
      ]
     },
     "execution_count": 42,
     "metadata": {},
     "output_type": "execute_result"
    }
   ],
   "source": [
    "(:= *ala-pdb* (load-pdb \"ace-ala-nme.pdb\"))"
   ]
  },
  {
   "cell_type": "code",
   "execution_count": 25,
   "metadata": {},
   "outputs": [
    {
     "data": {
      "application/vnd.jupyter.widget-view+json": {
       "model_id": "D6F8F9E0-C259-4CB8-BD82-BC4F9896D574",
       "version_major": 2,
       "version_minor": 0
      },
      "text/html": [
       "<p>Failed to display Jupyter Widget of type <code>{widget_type}</code>.</p>\n",
       "<p>\n",
       "  If you're reading this message in the Jupyter Notebook or JupyterLab Notebook, it may mean\n",
       "  that the widgets JavaScript is still loading. If this message persists, it\n",
       "  likely means that the widgets JavaScript library is either not installed or\n",
       "  not enabled. See the <a href=\"https://ipywidgets.readthedocs.io/en/stable/user_install.html\">Jupyter\n",
       "  Widgets Documentation</a> for setup instructions.\n",
       "</p>\n",
       "<p>\n",
       "  If you're reading this message in another frontend (for example, a static\n",
       "  rendering on GitHub or <a href=\"https://nbviewer.jupyter.org/\">NBViewer</a>),\n",
       "  it may mean that your frontend doesn't currently support widgets.\n",
       "</p>\n"
      ],
      "text/plain": [
       "A Jupyter Widget"
      ]
     },
     "execution_count": 25,
     "metadata": {},
     "output_type": "execute_result"
    }
   ],
   "source": [
    "(cando::show-aggregate *ala-pdb*)"
   ]
  },
  {
   "cell_type": "code",
   "execution_count": 26,
   "metadata": {},
   "outputs": [
    {
     "name": "stdout",
     "output_type": "stream",
     "text": [
      "type HC name H1\n",
      " type CT name CH3\n",
      " type HC name H2\n",
      " type HC name H3\n",
      " type C name C\n",
      " type O name O\n",
      " type N name N\n",
      " type H name H\n",
      " type CX name CA\n",
      " type H1 name HA\n",
      " type CT name CB\n",
      " type HC name HB1\n",
      " type HC name HB2\n",
      " type HC name HB3\n",
      " type C name C\n",
      " type O name O\n",
      " type N name N\n",
      " type H name H\n",
      " type CT name CH3\n",
      " type H1 name HH31\n",
      " type H1 name HH32\n",
      " type H1 name HH33\n",
      " "
     ]
    },
    {
     "data": {
      "text/plain": [
       "NIL"
      ]
     },
     "execution_count": 26,
     "metadata": {},
     "output_type": "execute_result"
    }
   ],
   "source": [
    "(chem:map-atoms 'nil (lambda (a) (format t \"type ~a name ~a~% \" (chem:get-type a) (chem:get-name a)))\n",
    "                \n",
    "                             *ala-leap*)"
   ]
  },
  {
   "cell_type": "code",
   "execution_count": 27,
   "metadata": {},
   "outputs": [
    {
     "data": {
      "text/plain": [
       "T"
      ]
     },
     "execution_count": 27,
     "metadata": {},
     "output_type": "execute_result"
    }
   ],
   "source": [
    "(leap.topology:save-amber-parm-format *ala-pdb* \"alanine_pdb.top\" \"alanine_pdb.crd\" :assign-types nil)"
   ]
  },
  {
   "cell_type": "code",
   "execution_count": null,
   "metadata": {},
   "outputs": [],
   "source": []
  }
 ],
 "metadata": {
  "kernelspec": {
   "display_name": "clasp",
   "language": "lisp",
   "name": "clasp"
  },
  "language_info": {
   "codemirror_mode": "text/x-common-lisp",
   "file_extension": ".lisp",
   "mimetype": "text/x-common-lisp",
   "name": "common-lisp",
   "pygments_lexer": "common-lisp",
   "version": "X3J13"
  }
 },
 "nbformat": 4,
 "nbformat_minor": 2
}
