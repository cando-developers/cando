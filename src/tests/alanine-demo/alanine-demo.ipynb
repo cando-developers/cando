{
 "cells": [
  {
   "cell_type": "markdown",
   "metadata": {},
   "source": [
    "## Set the enviroments."
   ]
  },
  {
   "cell_type": "code",
   "execution_count": 1,
   "metadata": {},
   "outputs": [
    {
     "data": {
      "text/plain": [
       "0"
      ]
     },
     "execution_count": 1,
     "metadata": {},
     "output_type": "execute_result"
    }
   ],
   "source": [
    "(ext:chdir \"~/Development/clasp/extensions/cando/src/tests/alanine-demo/\" t)"
   ]
  },
  {
   "cell_type": "markdown",
   "metadata": {},
   "source": [
    "#### Connect to slime."
   ]
  },
  {
   "cell_type": "code",
   "execution_count": 2,
   "metadata": {
    "scrolled": true
   },
   "outputs": [
    {
     "name": "stdout",
     "output_type": "stream",
     "text": [
      "\n",
      "\"Read: (DEFPACKAGE :SWANK-LOADER (:USE :CL) (:EXPORT :INIT :DUMP-IMAGE :LIST-FASLS :*SOURCE-DIRECTORY* :*FASL-DIRECTORY*))\n",
      "\" \n",
      "\"Read: (IN-PACKAGE :SWANK-LOADER)\n",
      "\" \n",
      "\"Read: (DEFVAR *SOURCE-DIRECTORY* (MAKE-PATHNAME :NAME NIL :TYPE NIL :DEFAULTS (OR *LOAD-PATHNAME* *DEFAULT-PATHNAME-DEFAULTS*)) The directory where to look for the source.)\n",
      "\" \n",
      "\"Read: (DEFPARAMETER *SYSDEP-FILES* (QUOTE ((SWANK CLASP) (SWANK GRAY))))\n",
      "\" \n",
      "\"Read: (DEFPARAMETER *IMPLEMENTATION-FEATURES* (QUOTE (:ALLEGRO :LISPWORKS :SBCL :CLOZURE :CMU :CLISP :CCL :CORMAN :CORMANLISP :ARMEDBEAR :GCL :ECL :SCL :MKCL :CLASP)))\n",
      "\" \n",
      "\"Read: (DEFPARAMETER *OS-FEATURES* (QUOTE (:MACOSX :LINUX :WINDOWS :MSWINDOWS :WIN32 :SOLARIS :DARWIN :SUNOS :HPUX :UNIX)))\n",
      "\" \n",
      "\"Read: (DEFPARAMETER *ARCHITECTURE-FEATURES* (QUOTE (:POWERPC :PPC :X86 :X86-64 :X86_64 :AMD64 :I686 :I586 :I486 :PC386 :IAPX386 :SPARC64 :SPARC :HPPA64 :HPPA :ARM :ARMV5L :ARMV6L :ARMV7L :ARM64 :PENTIUM3 :PENTIUM4 :MIPS :MIPSEL :JAVA-1.4 :JAVA-1.5 :JAVA-1.6 :JAVA-1.7)))\n",
      "\" \n",
      "\"Read: (DEFUN Q (S) (READ-FROM-STRING S))\n",
      "\" \n",
      "\"Read: (DEFUN CLASP-VERSION-STRING NIL (FORMAT NIL ~A~@[-~A~] (LISP-IMPLEMENTATION-VERSION) (LISP-IMPLEMENTATION-ID)))\n",
      "\" \n",
      "\"Read: (DEFUN LISP-VERSION-STRING NIL (CLASP-VERSION-STRING))\n",
      "\" \n",
      "\"Read: (DEFUN UNIQUE-DIR-NAME NIL Return a name that can be used as a directory name that is\n",
      "unique to a Lisp implementation, Lisp implementation version,\n",
      "operating system, and hardware architecture. (FLET ((FIRST-OF (FEATURES) (LOOP FOR F IN FEATURES WHEN (FIND F *FEATURES*) RETURN IT)) (MAYBE-WARN (VALUE FSTRING &REST ARGS) (COND (VALUE) (T (APPLY (FUNCTION WARN) FSTRING ARGS) unknown)))) (LET ((LISP (MAYBE-WARN (FIRST-OF *IMPLEMENTATION-FEATURES*) No implementation feature found in ~a. *IMPLEMENTATION-FEATURES*)) (OS (MAYBE-WARN (FIRST-OF *OS-FEATURES*) No os feature found in ~a. *OS-FEATURES*)) (ARCH (MAYBE-WARN (FIRST-OF *ARCHITECTURE-FEATURES*) No architecture feature found in ~a. *ARCHITECTURE-FEATURES*)) (VERSION (MAYBE-WARN (LISP-VERSION-STRING) Don't know how to get Lisp ~\n",
      "                                implementation version.))) (FORMAT NIL ~(~@{~a~^-~}~) LISP VERSION OS ARCH))))\n",
      "\" \n",
      "\"Read: (DEFUN FILE-NEWER-P (NEW-FILE OLD-FILE) Returns true if NEW-FILE is newer than OLD-FILE. (> (FILE-WRITE-DATE NEW-FILE) (FILE-WRITE-DATE OLD-FILE)))\n",
      "\" \n",
      "\"Read: (DEFUN STRING-STARTS-WITH (STRING PREFIX) (STRING-EQUAL STRING PREFIX :END1 (MIN (LENGTH STRING) (LENGTH PREFIX))))\n",
      "\" \n",
      "\"Read: (DEFUN SLIME-VERSION-STRING NIL Return a string identifying the SLIME version.\n",
      "Return nil if nothing appropriate is available. (WITH-OPEN-FILE (S (MERGE-PATHNAMES slime.el *SOURCE-DIRECTORY*) :IF-DOES-NOT-EXIST NIL) (LOOP WITH PREFIX = ;; Version:  FOR LINE = (READ-LINE S NIL :EOF) UNTIL (EQ LINE :EOF) WHEN (STRING-STARTS-WITH LINE PREFIX) RETURN (SUBSEQ LINE (LENGTH PREFIX)))))\n",
      "\" \n",
      "\"Read: (DEFUN DEFAULT-FASL-DIR NIL (MERGE-PATHNAMES (MAKE-PATHNAME :DIRECTORY (BACKQUOTE (:RELATIVE .slime fasl (UNQUOTE-SPLICE (IF (SLIME-VERSION-STRING) (LIST (SLIME-VERSION-STRING)))) (UNQUOTE (UNIQUE-DIR-NAME))))) (USER-HOMEDIR-PATHNAME)))\n",
      "\" \n",
      "\"Read: (DEFVAR *FASL-DIRECTORY* (DEFAULT-FASL-DIR) The directory where fasl files should be placed.)\n",
      "\" \n",
      "\"Read: (DEFUN BINARY-PATHNAME (SRC-PATHNAME BINARY-DIR) Return the pathname where SRC-PATHNAME's binary should be compiled. (LET ((CFP (COMPILE-FILE-PATHNAME SRC-PATHNAME))) (MERGE-PATHNAMES (MAKE-PATHNAME :NAME (PATHNAME-NAME CFP) :TYPE (PATHNAME-TYPE CFP)) BINARY-DIR)))\n",
      "\" \n",
      "\"Read: (DEFUN HANDLE-SWANK-LOAD-ERROR (CONDITION CONTEXT PATHNAME) (FRESH-LINE *ERROR-OUTPUT*) (PPRINT-LOGICAL-BLOCK (*ERROR-OUTPUT* NIL :PER-LINE-PREFIX ;; ) (FORMAT *ERROR-OUTPUT* ~%Error ~A ~A:~%  ~A~% CONTEXT PATHNAME CONDITION)))\n",
      "\" \n",
      "\"Read: (DEFUN COMPILE-FILES (FILES FASL-DIR LOAD QUIET) Compile each file in FILES if the source is newer than its\n",
      "corresponding binary, or the file preceding it was recompiled.\n",
      "If LOAD is true, load the fasl file. (LET ((NEEDS-RECOMPILE NIL) (STATE :UNKNOWN)) (DOLIST (SRC FILES) (LET ((DEST (BINARY-PATHNAME SRC FASL-DIR))) (HANDLER-BIND ((ERROR (LAMBDA (C) (ECASE STATE (:COMPILE (HANDLE-SWANK-LOAD-ERROR C compiling SRC)) (:LOAD (HANDLE-SWANK-LOAD-ERROR C loading DEST)) (:UNKNOWN (HANDLE-SWANK-LOAD-ERROR C ???ing SRC)))))) (WHEN (OR NEEDS-RECOMPILE (NOT (PROBE-FILE DEST)) (FILE-NEWER-P SRC DEST)) (ENSURE-DIRECTORIES-EXIST DEST) (SETF NEEDS-RECOMPILE T STATE :COMPILE) (OR (COMPILE-FILE SRC :OUTPUT-FILE DEST :PRINT NIL :VERBOSE (NOT QUIET)) (ERROR COMPILE-FILE returned NIL.))) (WHEN LOAD (SETF STATE :LOAD) (LOAD DEST :VERBOSE (NOT QUIET))))))))\n",
      "\" \n",
      "\"Read: (DEFUN LOAD-USER-INIT-FILE NIL Load the user init file, return NIL if it does not exist. (LOAD (MERGE-PATHNAMES (USER-HOMEDIR-PATHNAME) (MAKE-PATHNAME :NAME .swank :TYPE lisp)) :IF-DOES-NOT-EXIST NIL))\n",
      "\" \n",
      "\"Read: (DEFUN LOAD-SITE-INIT-FILE (DIR) (LOAD (MAKE-PATHNAME :NAME site-init :TYPE lisp :DEFAULTS DIR) :IF-DOES-NOT-EXIST NIL))\n",
      "\" \n",
      "\"Read: (DEFUN SRC-FILES (NAMES SRC-DIR) (MAPCAR (LAMBDA (NAME) (MULTIPLE-VALUE-BIND (DIRS NAME) (ETYPECASE NAME (SYMBOL (VALUES (QUOTE NIL) NAME)) (CONS (VALUES (BUTLAST NAME) (CAR (LAST NAME))))) (MAKE-PATHNAME :DIRECTORY (APPEND (OR (PATHNAME-DIRECTORY SRC-DIR) (QUOTE (:RELATIVE))) (MAPCAR (FUNCTION STRING-DOWNCASE) DIRS)) :NAME (STRING-DOWNCASE NAME) :TYPE lisp :DEFAULTS SRC-DIR))) NAMES))\n",
      "\" \n",
      "\"Read: (DEFVAR *SWANK-FILES* (BACKQUOTE (PACKAGES (SWANK BACKEND) (UNQUOTE-SPLICE *SYSDEP-FILES*) (SWANK MATCH) (SWANK RPC) SWANK)))\n",
      "\" \n",
      "\"Read: (DEFVAR *CONTRIBS* (QUOTE (SWANK-UTIL SWANK-REPL SWANK-C-P-C SWANK-ARGLISTS SWANK-FUZZY SWANK-FANCY-INSPECTOR SWANK-PRESENTATIONS SWANK-PRESENTATION-STREAMS SWANK-ASDF SWANK-PACKAGE-FU SWANK-HYPERDOC SWANK-MREPL SWANK-TRACE-DIALOG SWANK-MACROSTEP SWANK-QUICKLISP)) List of names for contrib modules.)\n",
      "\" \n",
      "\"Read: (DEFUN APPEND-DIR (ABSOLUTE NAME) (MERGE-PATHNAMES (MAKE-PATHNAME :DIRECTORY (BACKQUOTE (:RELATIVE (UNQUOTE NAME))) :DEFAULTS ABSOLUTE) ABSOLUTE))\n",
      "\" \n",
      "\"Read: (DEFUN CONTRIB-DIR (BASE-DIR) (APPEND-DIR BASE-DIR contrib))\n",
      "\" \n",
      "\"Read: (DEFUN LOAD-SWANK (&KEY (SRC-DIR *SOURCE-DIRECTORY*) (FASL-DIR *FASL-DIRECTORY*) QUIET) (WITH-COMPILATION-UNIT NIL (COMPILE-FILES (SRC-FILES *SWANK-FILES* SRC-DIR) FASL-DIR T QUIET)) (FUNCALL (Q swank::before-init) (SLIME-VERSION-STRING) (LIST (CONTRIB-DIR FASL-DIR) (CONTRIB-DIR SRC-DIR))))\n",
      "\" \n",
      "\"Read: (DEFUN DELETE-STALE-CONTRIB-FASL-FILES (SWANK-FILES CONTRIB-FILES FASL-DIR) (LET ((NEWEST (REDUCE (FUNCTION MAX) (MAPCAR (FUNCTION FILE-WRITE-DATE) SWANK-FILES)))) (DOLIST (SRC CONTRIB-FILES) (LET ((FASL (BINARY-PATHNAME SRC FASL-DIR))) (WHEN (AND (PROBE-FILE FASL) (<= (FILE-WRITE-DATE FASL) NEWEST)) (DELETE-FILE FASL))))))\n",
      "\" \n",
      "\"Read: (DEFUN COMPILE-CONTRIBS (&KEY (SRC-DIR (CONTRIB-DIR *SOURCE-DIRECTORY*)) (FASL-DIR (CONTRIB-DIR *FASL-DIRECTORY*)) (SWANK-SRC-DIR *SOURCE-DIRECTORY*) LOAD QUIET) (LET* ((SWANK-SRC-FILES (SRC-FILES *SWANK-FILES* SWANK-SRC-DIR)) (CONTRIB-SRC-FILES (SRC-FILES *CONTRIBS* SRC-DIR))) (DELETE-STALE-CONTRIB-FASL-FILES SWANK-SRC-FILES CONTRIB-SRC-FILES FASL-DIR) (COMPILE-FILES CONTRIB-SRC-FILES FASL-DIR LOAD QUIET)))\n",
      "\" \n",
      "\"Read: (DEFUN LOADUP NIL (LOAD-SWANK) (COMPILE-CONTRIBS :LOAD T))\n",
      "\" \n",
      "\"Read: (DEFUN SETUP NIL (LOAD-SITE-INIT-FILE *SOURCE-DIRECTORY*) (LOAD-USER-INIT-FILE) (WHEN (PROBE-FILE (CONTRIB-DIR *SOURCE-DIRECTORY*)) (EVAL (BACKQUOTE (PUSHNEW (QUOTE COMPILE-CONTRIBS) (UNQUOTE (Q swank::*after-init-hook*)))))) (FUNCALL (Q swank::init)))\n",
      "\" \n",
      "\"Read: (DEFUN LIST-SWANK-PACKAGES NIL (REMOVE-IF-NOT (LAMBDA (PACKAGE) (LET ((NAME (PACKAGE-NAME PACKAGE))) (AND (STRING-NOT-EQUAL NAME swank-loader) (STRING-STARTS-WITH NAME swank)))) (LIST-ALL-PACKAGES)))\n",
      "\" \n",
      "\"Read: (DEFUN DELETE-PACKAGES (PACKAGES) (DOLIST (PACKAGE PACKAGES) (FLET ((HANDLE-PACKAGE-ERROR (C) (LET ((PKGS (SET-DIFFERENCE (PACKAGE-USED-BY-LIST PACKAGE) PACKAGES))) (WHEN PKGS (WARN deleting ~a which is used by ~{~a~^, ~}. PACKAGE PKGS)) (CONTINUE C)))) (HANDLER-BIND ((PACKAGE-ERROR (FUNCTION HANDLE-PACKAGE-ERROR))) (DELETE-PACKAGE PACKAGE)))))\n",
      "\" \n",
      "\"Read: (DEFUN INIT (&KEY DELETE RELOAD LOAD-CONTRIBS (SETUP T) (QUIET (NOT *LOAD-VERBOSE*))) Load SWANK and initialize some global variables.\n",
      "If DELETE is true, delete any existing SWANK packages.\n",
      "If RELOAD is true, reload SWANK, even if the SWANK package already exists.\n",
      "If LOAD-CONTRIBS is true, load all contribs\n",
      "If SETUP is true, load user init files and initialize some\n",
      "global variabes in SWANK. (WHEN (AND DELETE (FIND-PACKAGE :SWANK)) (DELETE-PACKAGES (LIST-SWANK-PACKAGES))) (COND ((OR (NOT (FIND-PACKAGE :SWANK)) RELOAD) (LOAD-SWANK :QUIET QUIET)) (T (WARN Not reloading SWANK.  Package already exists.))) (WHEN LOAD-CONTRIBS (COMPILE-CONTRIBS :LOAD T :QUIET QUIET)) (WHEN SETUP (SETUP)))\n",
      "\" \n",
      "\"Read: (DEFUN DUMP-IMAGE (FILENAME) (INIT :SETUP NIL) (FUNCALL (Q swank/backend:save-image) FILENAME))\n",
      "\" \n",
      "\"Read: (DEFUN LIST-FASLS (&KEY (INCLUDE-CONTRIBS T) (COMPILE T) (QUIET (NOT *COMPILE-VERBOSE*))) List up SWANK's fasls along with their dependencies. (FLET ((COLLECT-FASLS (FILES FASL-DIR) (WHEN COMPILE (COMPILE-FILES FILES FASL-DIR NIL QUIET)) (LOOP FOR SRC IN FILES WHEN (PROBE-FILE (BINARY-PATHNAME SRC FASL-DIR)) COLLECT IT))) (APPEND (COLLECT-FASLS (SRC-FILES *SWANK-FILES* *SOURCE-DIRECTORY*) *FASL-DIRECTORY*) (WHEN INCLUDE-CONTRIBS (COLLECT-FASLS (SRC-FILES *CONTRIBS* (CONTRIB-DIR *SOURCE-DIRECTORY*)) (CONTRIB-DIR *FASL-DIRECTORY*))))))\n",
      "\" "
     ]
    },
    {
     "data": {
      "text/plain": [
       "T"
      ]
     },
     "execution_count": 2,
     "metadata": {},
     "output_type": "execute_result"
    }
   ],
   "source": [
    "(start-swank)"
   ]
  },
  {
   "cell_type": "markdown",
   "metadata": {},
   "source": [
    "#### Add paths."
   ]
  },
  {
   "cell_type": "code",
   "execution_count": 3,
   "metadata": {},
   "outputs": [
    {
     "data": {
      "text/plain": [
       "#P\"/Users/tuj24515/Development/clasp/extensions/cando/src/tests/alanine-demo/\""
      ]
     },
     "execution_count": 3,
     "metadata": {},
     "output_type": "execute_result"
    }
   ],
   "source": [
    "*default-pathname-defaults*"
   ]
  },
  {
   "cell_type": "code",
   "execution_count": 6,
   "metadata": {
    "scrolled": true
   },
   "outputs": [
    {
     "data": {
      "text/plain": [
       "(#P\"/Users/tuj24515/Development/amber16/dat/antechamber/\"\n",
       " #P\"/Users/tuj24515/Development/amber16/dat/leap/prep/\"\n",
       " #P\"/Users/tuj24515/Development/amber16/dat/leap/parm/\"\n",
       " #P\"/Users/tuj24515/Development/amber16/dat/leap/lib/\"\n",
       " #P\"/Users/tuj24515/Development/amber16/dat/leap/cmd/\"\n",
       " #P\"/Users/tuj24515/Development/clasp/extensions/cando/src/tests/alanine-demo/\")"
      ]
     },
     "execution_count": 6,
     "metadata": {},
     "output_type": "execute_result"
    }
   ],
   "source": [
    "(leap.core::clear-path)\n",
    "(add-path *default-pathname-defaults*)\n",
    "(add-path \"~/Development/amber16/dat/leap/cmd/\")\n",
    "(add-path \"~/Development/amber16/dat/leap/lib/\")\n",
    "(add-path \"~/Development/amber16/dat/leap/parm/\")\n",
    "(add-path \"~/Development/amber16/dat/leap/prep/\")\n",
    "(add-path \"~/Development/amber16/dat/antechamber/\")"
   ]
  },
  {
   "cell_type": "markdown",
   "metadata": {},
   "source": [
    "#### Load the amber force field."
   ]
  },
  {
   "cell_type": "code",
   "execution_count": 7,
   "metadata": {},
   "outputs": [
    {
     "data": {
      "text/plain": [
       "(#<FORCE-FIELD ATOMTYPE_AMBER.DEF> #<FORCE-FIELD ATOMTYPE_AMBER.DEF>)"
      ]
     },
     "execution_count": 7,
     "metadata": {},
     "output_type": "execute_result"
    }
   ],
   "source": [
    "(load-atom-type-rules \"ATOMTYPE_AMBER.DEF\")"
   ]
  },
  {
   "cell_type": "code",
   "execution_count": 8,
   "metadata": {
    "scrolled": true
   },
   "outputs": [
    {
     "name": "stderr",
     "output_type": "stream",
     "text": [
      "SIMPLE-WARNING: \n",
      "add-atom-types doesn't do anything\n",
      "SIMPLE-WARNING: \n",
      "Warning!  Skipping 10-12 hbond\n",
      "SIMPLE-WARNING: \n",
      "Warning!  Skipping force field atom equivalences\n"
     ]
    },
    {
     "data": {
      "text/plain": [
       "T"
      ]
     },
     "execution_count": 8,
     "metadata": {},
     "output_type": "execute_result"
    }
   ],
   "source": [
    "(source \"leaprc.protein.ff14SB\")"
   ]
  },
  {
   "cell_type": "code",
   "execution_count": 9,
   "metadata": {},
   "outputs": [
    {
     "data": {
      "text/plain": [
       "(#<FORCE-FIELD water_amber.def> #<FORCE-FIELD frcmod.ff14SB>\n",
       " #<FORCE-FIELD parm10.dat> #<FORCE-FIELD ATOMTYPE_AMBER.DEF>\n",
       " #<FORCE-FIELD ATOMTYPE_AMBER.DEF>)"
      ]
     },
     "execution_count": 9,
     "metadata": {},
     "output_type": "execute_result"
    }
   ],
   "source": [
    "(load-atom-type-rules \"water_amber.def\")"
   ]
  },
  {
   "cell_type": "code",
   "execution_count": 10,
   "metadata": {
    "scrolled": true
   },
   "outputs": [
    {
     "data": {
      "text/plain": [
       "*FF*"
      ]
     },
     "execution_count": 10,
     "metadata": {},
     "output_type": "execute_result"
    }
   ],
   "source": [
    "(:= *ff* (leap.core::merged-force-field))"
   ]
  },
  {
   "cell_type": "code",
   "execution_count": null,
   "metadata": {
    "collapsed": true
   },
   "outputs": [],
   "source": []
  },
  {
   "cell_type": "markdown",
   "metadata": {},
   "source": [
    "## Create topology and coordinate file for Alanine"
   ]
  },
  {
   "cell_type": "markdown",
   "metadata": {},
   "source": [
    "#### Load the alanine from Chemdraw file."
   ]
  },
  {
   "cell_type": "code",
   "execution_count": 11,
   "metadata": {
    "scrolled": true
   },
   "outputs": [
    {
     "data": {
      "text/plain": [
       "*CHEMAGG*"
      ]
     },
     "execution_count": 11,
     "metadata": {},
     "output_type": "execute_result"
    }
   ],
   "source": [
    "(defparameter *chemagg* (cando:load-chem-draw-aggregate \"alanine2.cdxml\"))"
   ]
  },
  {
   "cell_type": "code",
   "execution_count": 12,
   "metadata": {},
   "outputs": [
    {
     "data": {
      "text/plain": [
       "NIL"
      ]
     },
     "execution_count": 12,
     "metadata": {},
     "output_type": "execute_result"
    }
   ],
   "source": [
    "(build-hydrogens *chemagg*)"
   ]
  },
  {
   "cell_type": "code",
   "execution_count": 13,
   "metadata": {},
   "outputs": [
    {
     "data": {
      "application/vnd.jupyter.widget-view+json": {
       "model_id": "4C5C2E9F-716F-4AD0-8C50-18CAF63CFC44",
       "version_major": 2,
       "version_minor": 0
      },
      "text/plain": [
       "A Jupyter Widget"
      ]
     },
     "execution_count": 13,
     "metadata": {},
     "output_type": "execute_result"
    }
   ],
   "source": [
    "(nglv::show-aggregate *chemagg*)"
   ]
  },
  {
   "cell_type": "markdown",
   "metadata": {},
   "source": [
    "#### Gather atoms to the center."
   ]
  },
  {
   "cell_type": "code",
   "execution_count": 14,
   "metadata": {},
   "outputs": [
    {
     "name": "stdout",
     "output_type": "stream",
     "text": [
      "C      S\n"
     ]
    },
    {
     "data": {
      "text/plain": [
       "NIL"
      ]
     },
     "execution_count": 14,
     "metadata": {},
     "output_type": "execute_result"
    }
   ],
   "source": [
    "(progn\n",
    "  (defparameter *stereocenters*\n",
    "    (sort (cando:gather-stereocenters *chemagg*) #'string< :key #'chem:get-name))\n",
    "  (cando:set-stereoisomer-func *stereocenters* (constantly :S) :show t)\n",
    "  (let ((quat-matcher (core:make-cxx-object 'chem:chem-info)))\n",
    "    (chem:compile-smarts quat-matcher \"[C&H0&D4]\")\n",
    "    (chem:map-atoms nil (lambda (a) (when (chem:matches quat-matcher a)\n",
    "                  (chem:set-configuration a :S)\n",
    "                  (format t \"Set atom ~a to :S~%\" (chem:get-name a))))\n",
    "            *chemagg*)))"
   ]
  },
  {
   "cell_type": "markdown",
   "metadata": {},
   "source": [
    "#### Set the bounding box."
   ]
  },
  {
   "cell_type": "code",
   "execution_count": 15,
   "metadata": {},
   "outputs": [
    {
     "data": {
      "text/plain": [
       "NIL"
      ]
     },
     "execution_count": 15,
     "metadata": {},
     "output_type": "execute_result"
    }
   ],
   "source": [
    "(chem:set-property *chemagg* :bounding-box '(50.0 50.0 50.0))"
   ]
  },
  {
   "cell_type": "markdown",
   "metadata": {},
   "source": [
    "#### Assign atom types and change one of them for alanine atom type definition."
   ]
  },
  {
   "cell_type": "code",
   "execution_count": 16,
   "metadata": {},
   "outputs": [
    {
     "data": {
      "text/plain": [
       "NIL"
      ]
     },
     "execution_count": 16,
     "metadata": {},
     "output_type": "execute_result"
    }
   ],
   "source": [
    "(assign-atom-types *chemagg*)\n",
    "(chem:map-atoms 'nil (lambda (a) (if (eq (chem:get-type a) :CT)\n",
    "                                     (if (eq (chem:get-name a) :C)\n",
    "                                         (chem:set-type a :CX)))) *chemagg*)"
   ]
  },
  {
   "cell_type": "markdown",
   "metadata": {},
   "source": [
    "####  Assign force-field parameters and minimize the energy of the molecule."
   ]
  },
  {
   "cell_type": "code",
   "execution_count": 17,
   "metadata": {},
   "outputs": [
    {
     "data": {
      "text/plain": [
       "NIL"
      ]
     },
     "execution_count": 17,
     "metadata": {},
     "output_type": "execute_result"
    }
   ],
   "source": [
    "(cando:jostle *chemagg*)"
   ]
  },
  {
   "cell_type": "code",
   "execution_count": 18,
   "metadata": {},
   "outputs": [
    {
     "name": "stdout",
     "output_type": "stream",
     "text": [
      "======= Starting Steepest Descent Minimizer\n",
      "---Stage-Seconds--Step-----Alpha---Dir-------------Energy-----------RMSforce\n",
      " minSDnP       0     1  0.000000   0.0              0.000          18402.398\n",
      " minSDnP       0     2  0.000284   0.0        3025857.066          12136.674\n",
      " minSDnP       0     3  0.000236   0.0        2321337.147           5963.046\n",
      "DONE absolute force test:\n",
      "forceRmsMag(4195.678649).LT.forceTolerance(5000.000000)\n",
      "======= Starting Conjugate Gradient Minimizer\n",
      " minCGnP       0     4  0.000000   0.0              0.000           4195.679\n",
      " minCGnP       0     5  0.000457  38.4        1541197.251           3320.063\n",
      " minCGnP       0     6  0.001254  50.6        1097840.297           2730.162\n",
      " minCGnP       0     7  0.000441  48.5        1002340.377           2173.215\n",
      " minCGnP       0     8  0.000672  71.9         867945.181           4372.728\n",
      " minCGnP       0     9  0.000171  67.9         745441.766           4212.574\n",
      " minCGnP       0    10  0.000389  80.8         652492.035          10603.076\n",
      "---Stage-Seconds--Step-----Alpha---Dir-------------Energy-----------RMSforce\n",
      " minCGnP       0    11  0.000037   0.0         520706.355           3850.722\n",
      " minCGnP       0    12  0.000130  48.3         447949.216           4325.759\n",
      " minCGnP       0    13  0.000081  62.3         400236.170           4586.292\n",
      " minCGnP       0    14  0.000072  28.6         364329.447           1833.349\n",
      " minCGnP       0    15  0.000381  49.1         309170.948           2175.802\n",
      " minCGnP       0    16  0.000149  54.9         285158.528           2343.499\n",
      " minCGnP       0    17  0.000190  50.5         264892.095           1199.931\n",
      " minCGnP       0    18  0.000578  69.2         238306.932           2365.109\n",
      " minCGnP       0    19  0.000042  70.4         231595.269           2809.593\n",
      " minCGnP       0    20  0.000110  51.0         205212.368           1496.550\n",
      "---Stage-Seconds--Step-----Alpha---Dir-------------Energy-----------RMSforce\n",
      " minCGnP       0    21  0.000626  57.0         163051.250           1205.747\n",
      " minCGnP       0    22  0.000426  74.5         140957.170           2656.260\n",
      " minCGnP       0    23  0.000065  67.4         129164.621           2295.582\n",
      " minCGnP       0    24  0.000155  49.3         116561.751           1341.336\n",
      " minCGnP       0    25  0.000551  52.7          83613.656           1079.132\n",
      " minCGnP       0    26  0.000365  74.4          66997.422           2482.852\n",
      " minCGnP       0    27  0.000042  55.1          60756.319           1009.646\n",
      " minCGnP       0    28  0.000256  69.2          50426.317           1645.632\n",
      " minCGnP       0    29  0.000077  48.0          46194.722            843.553\n",
      " minCGnP       0    30  0.000249  64.3          41454.583           1254.847\n",
      "---Stage-Seconds--Step-----Alpha---Dir-------------Energy-----------RMSforce\n",
      " minCGnP       0    31  0.000114  40.1          38285.427            561.813\n",
      " minCGnP       0    32  0.000746  60.0          28838.341            633.509\n",
      " minCGnP       0    33  0.000152  70.4          27541.544           1118.045\n",
      " minCGnP       0    34  0.000052  72.8          24976.158           1375.753\n",
      " minCGnP       0    35  0.000058  59.0          23274.625           1014.405\n",
      " minCGnP       0    36  0.000081  46.1          22123.452            695.343\n",
      " minCGnP       0    37  0.000212  48.4          19127.870            418.627\n",
      " minCGnP       0    38  0.000414  51.1          16823.264            321.932\n",
      " minCGnP       0    39  0.000943  68.4          12964.421            509.284\n",
      " minCGnP       0    40  0.000086  70.3          12066.515            660.826\n",
      "---Stage-Seconds--Step-----Alpha---Dir-------------Energy-----------RMSforce\n",
      " minCGnP       0    41  0.000279  58.7           9706.686            357.708\n",
      " minCGnP       0    42  0.000776  69.3           6307.959            502.573\n",
      " minCGnP       0    43  0.000042  70.9           6015.774            631.826\n",
      " minCGnP       0    44  0.000155  73.8           4359.966            519.605\n",
      " minCGnP       0    45  0.000123  65.3           3396.556            424.906\n",
      " minCGnP       0    46  0.000312  46.6           2479.029            198.594\n",
      " minCGnP       0    47  0.000394  67.9           1909.369            345.168\n",
      " minCGnP       0    48  0.000070  13.9           1750.271            108.822\n",
      " minCGnP       0    49  0.000563  35.8           1531.419             60.040\n",
      " minCGnP       0    50  0.001509  59.0           1346.170             82.109\n",
      "---Stage-Seconds--Step-----Alpha---Dir-------------Energy-----------RMSforce\n",
      " minCGnP       0    51  0.001077  59.8           1110.406             83.935\n",
      " minCGnP       0    52  0.000460  74.5            959.465            168.693\n",
      " minCGnP       0    53  0.000173  61.4            835.900             68.377\n",
      " minCGnP       0    54  0.000935  58.9            689.808             60.344\n",
      " minCGnP       0    55  0.000715  53.9            603.500             44.605\n",
      " minCGnP       0    56  0.001039  58.6            535.096             42.219\n",
      " minCGnP       0    57  0.001250  60.9            465.485             40.519\n",
      " minCGnP       0    58  0.000873  63.5            417.663             39.276\n",
      " minCGnP       0    59  0.001183  67.2            356.514             44.179\n",
      " minCGnP       0    60  0.000751  58.8            295.759             52.049\n",
      "---Stage-Seconds--Step-----Alpha---Dir-------------Energy-----------RMSforce\n",
      " minCGnP       0    61  0.000789  43.5            221.753             46.134\n",
      " minCGnP       0    62  0.000783  46.2            166.228             36.149\n",
      " minCGnP       0    63  0.000919  46.1            125.636             28.725\n",
      " minCGnP       0    64  0.000849  47.3            102.301             22.947\n",
      " minCGnP       0    65  0.001147  49.7             82.479             18.637\n",
      " minCGnP       0    66  0.000968  50.2             71.389             14.095\n",
      " minCGnP       0    67  0.001144  53.5             63.957             11.680\n",
      " minCGnP       0    68  0.000711  51.6             60.760              8.592\n",
      " minCGnP       0    69  0.001081  55.2             58.113              7.814\n",
      " minCGnP       0    70  0.002115  60.6             53.850              8.180\n",
      "---Stage-Seconds--Step-----Alpha---Dir-------------Energy-----------RMSforce\n",
      " minCGnP       0    71  0.000753  59.2             52.192              6.724\n",
      " minCGnP       0    72  0.001071  61.2             50.589              6.216\n",
      " minCGnP       0    73  0.001215  60.5             49.056              5.263\n",
      " minCGnP       0    74  0.001422  68.9             47.776              6.484\n",
      " minCGnP       0    75  0.001231  72.4             46.010              7.287\n",
      " minCGnP       0    76  0.000902  64.9             44.408              5.837\n",
      " minCGnP       0    77  0.001175   0.0             43.114              6.268\n",
      " minCGnP       0    78  0.000559  32.5             42.388              4.000\n",
      " minCGnP       0    79  0.001773  59.7             41.457              5.771\n",
      " minCGnP       0    80  0.001042  57.4             40.309              4.363\n",
      "---Stage-Seconds--Step-----Alpha---Dir-------------Energy-----------RMSforce\n",
      " minCGnP       0    81  0.001043  59.6             39.648              4.129\n",
      " minCGnP       0    82  0.001781  61.6             38.601              4.469\n",
      " minCGnP       0    83  0.001478  60.4             37.630              4.098\n",
      " minCGnP       0    84  0.001681  66.9             36.700              4.790\n",
      " minCGnP       0    85  0.000970  66.7             35.954              4.516\n",
      " minCGnP       0    86  0.001014  63.0             35.278              3.553\n",
      " minCGnP       0    87  0.001467  69.6             34.668              4.286\n",
      " minCGnP       0    88  0.001346  67.9             33.853              3.716\n",
      " minCGnP       0    89  0.001039  64.6             33.378              2.958\n",
      " minCGnP       0    90  0.001523  66.7             32.938              2.976\n",
      "---Stage-Seconds--Step-----Alpha---Dir-------------Energy-----------RMSforce\n",
      " minCGnP       0    91  0.001457  68.3             32.510              3.005\n",
      " minCGnP       0    92  0.001222  72.4             32.146              3.536\n",
      " minCGnP       0    93  0.001425  74.7             31.562              3.889\n",
      " minCGnP       0    94  0.001090  75.0             31.007              3.943\n",
      " minCGnP       0    95  0.001387  75.2             30.292              4.129\n",
      " minCGnP       0    96  0.001582  76.2             29.390              4.517\n",
      " minCGnP       0    97  0.001609  72.5             28.295              3.829\n",
      " minCGnP       0    98  0.001839  78.4             27.413              5.600\n",
      " minCGnP       0    99  0.001296  78.7             26.074              5.310\n",
      " minCGnP       0   100  0.000795  75.5             25.340              3.757\n",
      "---Stage-Seconds--Step-----Alpha---Dir-------------Energy-----------RMSforce\n",
      " minCGnP       0   101  0.001488  77.8             24.646              4.266\n",
      " minCGnP       0   102  0.000904  74.5             24.101              3.345\n",
      " minCGnP       0   103  0.001630  76.6             23.502              3.755\n",
      " minCGnP       0   104  0.001189  77.0             22.948              3.695\n",
      " minCGnP       0   105  0.000987  77.6             22.504              3.822\n",
      " minCGnP       0   106  0.001153  76.0             21.944              3.335\n",
      " minCGnP       0   107  0.001952  77.8             21.229              3.816\n",
      " minCGnP       0   108  0.001007  77.6             20.747              3.597\n",
      " minCGnP       0   109  0.000991  78.1             20.317              3.819\n",
      " minCGnP       0   110  0.001537  76.0             19.564              3.691\n",
      "---Stage-Seconds--Step-----Alpha---Dir-------------Energy-----------RMSforce\n",
      " minCGnP       0   111  0.001015  75.9             19.109              3.617\n",
      " minCGnP       0   112  0.001538  77.6             18.447              3.986\n",
      " minCGnP       0   113  0.000952  76.7             17.951              3.490\n",
      " minCGnP       0   114  0.000989  77.2             17.552              3.436\n",
      " minCGnP       0   115  0.001535  76.6             16.956              3.217\n",
      " minCGnP       0   116  0.001158  76.9             16.565              3.087\n",
      " minCGnP       0   117  0.000944  76.8             16.266              3.027\n",
      " minCGnP       0   118  0.001008  75.2             15.962              2.645\n",
      " minCGnP       0   119  0.001302  74.1             15.662              2.326\n",
      " minCGnP       0   120  0.000916  73.7             15.498              2.179\n",
      "---Stage-Seconds--Step-----Alpha---Dir-------------Energy-----------RMSforce\n",
      " minCGnP       0   121  0.001391  77.4             15.283              2.701\n",
      " minCGnP       0   122  0.001107  77.7             15.014              2.618\n",
      " minCGnP       0   123  0.000942  73.7             14.799              2.045\n",
      " minCGnP       0   124  0.001511  77.0             14.593              2.485\n",
      " minCGnP       0   125  0.000808  74.8             14.426              2.097\n",
      " minCGnP       0   126  0.001042  74.2             14.275              1.978\n",
      " minCGnP       0   127  0.001467  75.2             14.087              2.026\n",
      " minCGnP       0   128  0.000902  74.6             13.965              1.858\n",
      " minCGnP       0   129  0.001136  76.1             13.837              1.950\n",
      " minCGnP       0   130  0.001169  78.3             13.689              2.206\n",
      "---Stage-Seconds--Step-----Alpha---Dir-------------Energy-----------RMSforce\n",
      " minCGnP       0   131  0.001520  78.9             13.437              2.531\n",
      " minCGnP       0   132  0.001006  78.7             13.225              2.544\n",
      " minCGnP       0   133  0.001138  80.9             12.977              3.241\n",
      " minCGnP       0   134  0.001411  75.8             12.465              2.988\n",
      " minCGnP       0   135  0.001418  80.1             12.058              4.060\n",
      " minCGnP       0   136  0.001071  81.0             11.473              3.877\n",
      " minCGnP       0   137  0.000927  77.6             11.024              2.585\n",
      " minCGnP       0   138  0.001259  80.0             10.750              2.889\n",
      " minCGnP       0   139  0.000733  78.1             10.543              2.521\n",
      " minCGnP       0   140  0.000976  75.0             10.338              2.172\n",
      "---Stage-Seconds--Step-----Alpha---Dir-------------Energy-----------RMSforce\n",
      " minCGnP       0   141  0.001042  77.2             10.176              2.449\n",
      " minCGnP       0   142  0.000747  72.5             10.028              1.698\n",
      " minCGnP       0   143  0.000908   0.0              9.942              1.264\n",
      " minCGnP       0   144  0.000528  32.6              9.914              0.809\n",
      " minCGnP       0   145  0.001616  58.4              9.879              1.107\n",
      " minCGnP       0   146  0.001215  60.0              9.830              1.004\n",
      " minCGnP       0   147  0.001698  67.6              9.774              1.214\n",
      " minCGnP       0   148  0.001058  64.1              9.722              0.950\n",
      " minCGnP       0   149  0.001548  70.1              9.676              1.149\n",
      " minCGnP       0   150  0.002172  73.8              9.581              1.362\n",
      "---Stage-Seconds--Step-----Alpha---Dir-------------Energy-----------RMSforce\n",
      " minCGnP       0   151  0.001174  75.4              9.509              1.474\n",
      " minCGnP       0   152  0.000989  74.4              9.438              1.334\n",
      " minCGnP       0   153  0.001226  71.3              9.366              1.037\n",
      " minCGnP       0   154  0.001289  74.3              9.321              1.170\n",
      " minCGnP       0   155  0.001779  79.1              9.240              1.631\n",
      " minCGnP       0   156  0.001961  73.7              9.066              1.113\n",
      " minCGnP       0   157  0.000882  71.1              9.030              0.925\n",
      " minCGnP       0   158  0.001585  77.0              8.985              1.302\n",
      " minCGnP       0   159  0.001060  73.4              8.926              0.978\n",
      " minCGnP       0   160  0.000914  64.8              8.897              0.587\n",
      "---Stage-Seconds--Step-----Alpha---Dir-------------Energy-----------RMSforce\n",
      " minCGnP       0   161  0.001254  63.7              8.883              0.503\n",
      "DONE absolute force test:\n",
      "forceRmsMag(0.490430).LT.forceTolerance(0.500000)\n",
      "======= Starting Steepest Descent Minimizer\n",
      "DONE absolute force test:\n",
      "forceRmsMag(17.811944).LT.forceTolerance(5000.000000)\n",
      "======= Starting Conjugate Gradient Minimizer\n",
      " minCGnP       0   162  0.000000   0.0              0.000             17.812\n",
      " minCGnP       0   163  0.000742  14.4             25.694              4.563\n",
      " minCGnP       0   164  0.000793  33.0             25.152              2.798\n",
      " minCGnP       0   165  0.000778  43.4             24.951              2.177\n",
      " minCGnP       0   166  0.000863  48.6             24.816              1.801\n",
      " minCGnP       0   167  0.002506  58.7             24.548              1.965\n",
      " minCGnP       0   168  0.000874  55.1             24.437              1.452\n",
      " minCGnP       0   169  0.001121  60.4             24.359              1.464\n",
      " minCGnP       0   170  0.001582  64.8             24.247              1.533\n",
      "---Stage-Seconds--Step-----Alpha---Dir-------------Energy-----------RMSforce\n",
      " minCGnP       0   171  0.000807  63.0             24.184              1.279\n",
      " minCGnP       0   172  0.001162  62.3             24.121              1.103\n",
      " minCGnP       0   173  0.000928  52.6             24.084              0.675\n",
      " minCGnP       0   174  0.001361  59.4             24.064              0.693\n",
      " minCGnP       0   175  0.000852  56.0             24.050              0.522\n",
      " minCGnP       0   176  0.001062  63.2             24.041              0.577\n",
      " minCGnP       0   177  0.001993  70.9             24.019              0.754\n",
      " minCGnP       0   178  0.001052  69.6             23.999              0.663\n",
      " minCGnP       0   179  0.001655  74.1             23.975              0.816\n",
      " minCGnP       0   180  0.001755  74.1             23.936              0.786\n",
      "---Stage-Seconds--Step-----Alpha---Dir-------------Energy-----------RMSforce\n",
      " minCGnP       0   181  0.000997  77.0             23.916              0.935\n",
      " minCGnP       0   182  0.001429  77.7             23.875              0.946\n",
      " minCGnP       0   183  0.002643  79.8             23.797              1.027\n",
      " minCGnP       0   184  0.001287  79.8             23.753              0.982\n",
      " minCGnP       0   185  0.001631  81.1             23.700              1.141\n",
      " minCGnP       0   186  0.000689  72.3             23.670              0.624\n",
      " minCGnP       0   187  0.001367  76.7             23.653              0.798\n",
      " minCGnP       0   188  0.001014  71.1             23.631              0.527\n",
      " minCGnP       0   189  0.001114  72.0             23.621              0.521\n",
      "DONE absolute force test:\n",
      "forceRmsMag(0.479139).LT.forceTolerance(0.500000)\n"
     ]
    },
    {
     "data": {
      "text/plain": [
       "*EE*"
      ]
     },
     "execution_count": 18,
     "metadata": {},
     "output_type": "execute_result"
    }
   ],
   "source": [
    "(defparameter *ee* (energy:minimize *chemagg*))"
   ]
  },
  {
   "cell_type": "markdown",
   "metadata": {},
   "source": [
    "#### Visualize the minimized structure and demonstrate that the force field parameters lead to the construction of a chemically"
   ]
  },
  {
   "cell_type": "markdown",
   "metadata": {},
   "source": [
    "#### reasonable structure."
   ]
  },
  {
   "cell_type": "code",
   "execution_count": 19,
   "metadata": {},
   "outputs": [
    {
     "data": {
      "application/vnd.jupyter.widget-view+json": {
       "model_id": "F9BD68D2-F356-4633-9A34-6279E1FD454C",
       "version_major": 2,
       "version_minor": 0
      },
      "text/plain": [
       "A Jupyter Widget"
      ]
     },
     "execution_count": 19,
     "metadata": {},
     "output_type": "execute_result"
    }
   ],
   "source": [
    "(nglv::show-aggregate *chemagg*)"
   ]
  },
  {
   "cell_type": "markdown",
   "metadata": {},
   "source": [
    "#### Assign atom types and change one of them for alanine atom type definition."
   ]
  },
  {
   "cell_type": "code",
   "execution_count": 22,
   "metadata": {},
   "outputs": [
    {
     "data": {
      "text/plain": [
       "NIL"
      ]
     },
     "execution_count": 22,
     "metadata": {},
     "output_type": "execute_result"
    }
   ],
   "source": [
    "(assign-atom-types *chemagg*)\n",
    "(chem:map-atoms 'nil (lambda (a) (if (eq (chem:get-type a) :CT)\n",
    "                                     (if (eq (chem:get-name a) :C)\n",
    "                                         (chem:set-type a :CX)))) *chemagg*)"
   ]
  },
  {
   "cell_type": "markdown",
   "metadata": {},
   "source": [
    "#### Save the topology file and coordinate file."
   ]
  },
  {
   "cell_type": "code",
   "execution_count": 23,
   "metadata": {},
   "outputs": [
    {
     "name": "stdout",
     "output_type": "stream",
     "text": [
      "atom1: #<ATOM :CH3/:C> atom2: #<ATOM :NH/:N> i1: 0 i2: 3\n",
      " atom1: #<ATOM :CH3/:C> atom2: #<ATOM :HH31/:H> i1: 0 i2: 6\n",
      " atom1: #<ATOM :NH/:N> atom2: #<ATOM :C/:C> i1: 3 i2: 48\n",
      " atom1: #<ATOM :HH32/:H> atom2: #<ATOM :CH3/:C> i1: 9 i2: 0\n",
      " atom1: #<ATOM :HH33/:H> atom2: #<ATOM :CH3/:C> i1: 12 i2: 0\n",
      " atom1: #<ATOM :HH/:H> atom2: #<ATOM :NH/:N> i1: 15 i2: 3\n",
      " atom1: #<ATOM :C/:C> atom2: #<ATOM :CH3/:C> i1: 18 i2: 21\n",
      " atom1: #<ATOM :CH3/:C> atom2: #<ATOM :HH32/:H> i1: 21 i2: 30\n",
      " atom1: #<ATOM :CH3/:C> atom2: #<ATOM :HH33/:H> i1: 21 i2: 33\n",
      " atom1: #<ATOM :O/:O> atom2: #<ATOM :C/:C> i1: 24 i2: 18\n",
      " atom1: #<ATOM :HH31/:H> atom2: #<ATOM :CH3/:C> i1: 27 i2: 21\n",
      " atom1: #<ATOM :CH3/:C> atom2: #<ATOM :C/:C> i1: 36 i2: 39\n",
      " atom1: #<ATOM :C/:C> atom2: #<ATOM :NH/:N> i1: 39 i2: 42\n",
      " atom1: #<ATOM :NH/:N> atom2: #<ATOM :C/:C> i1: 42 i2: 18\n",
      " atom1: #<ATOM :H/:H> atom2: #<ATOM :C/:C> i1: 45 i2: 39\n",
      " atom1: #<ATOM :C/:C> atom2: #<ATOM :C/:C> i1: 48 i2: 39\n",
      " atom1: #<ATOM :O/:O> atom2: #<ATOM :C/:C> i1: 51 i2: 48\n",
      " atom1: #<ATOM :HH31/:H> atom2: #<ATOM :CH3/:C> i1: 54 i2: 36\n",
      " atom1: #<ATOM :HH32/:H> atom2: #<ATOM :CH3/:C> i1: 57 i2: 36\n",
      " atom1: #<ATOM :HH33/:H> atom2: #<ATOM :CH3/:C> i1: 60 i2: 36\n",
      " atom1: #<ATOM :HH/:H> atom2: #<ATOM :NH/:N> i1: 63 i2: 42\n",
      " atom1: #<ATOM :CH3/:C> atom2: #<ATOM :NH/:N> atom3: #<ATOM :HH/:H>  key: CT-N-H\n",
      " atom1: #<ATOM :NH/:N> atom2: #<ATOM :C/:C> atom3: #<ATOM :O/:O>  key: N-C-O\n",
      " atom1: #<ATOM :NH/:N> atom2: #<ATOM :CH3/:C> atom3: #<ATOM :HH31/:H>  key: H1-CT-N\n",
      " atom1: #<ATOM :NH/:N> atom2: #<ATOM :CH3/:C> atom3: #<ATOM :HH32/:H>  key: H1-CT-N\n",
      " atom1: #<ATOM :NH/:N> atom2: #<ATOM :CH3/:C> atom3: #<ATOM :HH33/:H>  key: H1-CT-N\n",
      " atom1: #<ATOM :HH31/:H> atom2: #<ATOM :CH3/:C> atom3: #<ATOM :HH32/:H>  key: H1-CT-H1\n",
      " atom1: #<ATOM :HH31/:H> atom2: #<ATOM :CH3/:C> atom3: #<ATOM :HH33/:H>  key: H1-CT-H1\n",
      " atom1: #<ATOM :HH32/:H> atom2: #<ATOM :CH3/:C> atom3: #<ATOM :HH33/:H>  key: H1-CT-H1\n",
      " atom1: #<ATOM :C/:C> atom2: #<ATOM :CH3/:C> atom3: #<ATOM :HH31/:H>  key: C-CT-HC\n",
      " atom1: #<ATOM :C/:C> atom2: #<ATOM :CH3/:C> atom3: #<ATOM :HH32/:H>  key: C-CT-HC\n",
      " atom1: #<ATOM :C/:C> atom2: #<ATOM :CH3/:C> atom3: #<ATOM :HH33/:H>  key: C-CT-HC\n",
      " atom1: #<ATOM :C/:C> atom2: #<ATOM :NH/:N> atom3: #<ATOM :C/:C>  key: C-N-CX\n",
      " atom1: #<ATOM :C/:C> atom2: #<ATOM :NH/:N> atom3: #<ATOM :HH/:H>  key: C-N-H\n",
      " atom1: #<ATOM :CH3/:C> atom2: #<ATOM :C/:C> atom3: #<ATOM :NH/:N>  key: CT-C-N\n",
      " atom1: #<ATOM :CH3/:C> atom2: #<ATOM :C/:C> atom3: #<ATOM :O/:O>  key: CT-C-O\n",
      " atom1: #<ATOM :HH31/:H> atom2: #<ATOM :CH3/:C> atom3: #<ATOM :HH32/:H>  key: HC-CT-HC\n",
      " atom1: #<ATOM :HH31/:H> atom2: #<ATOM :CH3/:C> atom3: #<ATOM :HH33/:H>  key: HC-CT-HC\n",
      " atom1: #<ATOM :HH32/:H> atom2: #<ATOM :CH3/:C> atom3: #<ATOM :HH33/:H>  key: HC-CT-HC\n",
      " atom1: #<ATOM :CH3/:C> atom2: #<ATOM :C/:C> atom3: #<ATOM :C/:C>  key: C-CX-CT\n",
      " atom1: #<ATOM :C/:C> atom2: #<ATOM :NH/:N> atom3: #<ATOM :HH/:H>  key: CX-N-H\n",
      " atom1: #<ATOM :C/:C> atom2: #<ATOM :CH3/:C> atom3: #<ATOM :HH31/:H>  key: CX-CT-HC\n",
      " atom1: #<ATOM :C/:C> atom2: #<ATOM :CH3/:C> atom3: #<ATOM :HH32/:H>  key: CX-CT-HC\n",
      " atom1: #<ATOM :C/:C> atom2: #<ATOM :CH3/:C> atom3: #<ATOM :HH33/:H>  key: CX-CT-HC\n",
      " atom1: #<ATOM :C/:C> atom2: #<ATOM :C/:C> atom3: #<ATOM :NH/:N>  key: CX-C-N\n",
      " atom1: #<ATOM :C/:C> atom2: #<ATOM :C/:C> atom3: #<ATOM :O/:O>  key: CX-C-O\n",
      " atom1: #<ATOM :NH/:N> atom2: #<ATOM :C/:C> atom3: #<ATOM :O/:O>  key: N-C-O\n",
      " atom1: #<ATOM :NH/:N> atom2: #<ATOM :C/:C> atom3: #<ATOM :H/:H>  key: H1-CX-N\n",
      " atom1: #<ATOM :NH/:N> atom2: #<ATOM :C/:C> atom3: #<ATOM :CH3/:C>  key: CT-CX-N\n",
      " atom1: #<ATOM :NH/:N> atom2: #<ATOM :C/:C> atom3: #<ATOM :C/:C>  key: C-CX-N\n",
      " atom1: #<ATOM :H/:H> atom2: #<ATOM :C/:C> atom3: #<ATOM :CH3/:C>  key: CT-CX-H1\n",
      " atom1: #<ATOM :H/:H> atom2: #<ATOM :C/:C> atom3: #<ATOM :C/:C>  key: C-CX-H1\n",
      " atom1: #<ATOM :C/:C> atom2: #<ATOM :NH/:N> atom3: #<ATOM :CH3/:C>  key: C-N-CT\n",
      " atom1: #<ATOM :C/:C> atom2: #<ATOM :NH/:N> atom3: #<ATOM :HH/:H>  key: C-N-H\n",
      " atom1: #<ATOM :HH31/:H> atom2: #<ATOM :CH3/:C> atom3: #<ATOM :HH32/:H>  key: HC-CT-HC\n",
      " atom1: #<ATOM :HH31/:H> atom2: #<ATOM :CH3/:C> atom3: #<ATOM :HH33/:H>  key: HC-CT-HC\n",
      " atom1: #<ATOM :HH32/:H> atom2: #<ATOM :CH3/:C> atom3: #<ATOM :HH33/:H>  key: HC-CT-HC\n",
      " v-vector #(0.0d0 0.0d0 0.0d0 0.0d0 2.0d0 1.8d0 0.8d0 0.0d0 0.0d0 0.27d0 0.42d0\n",
      "            0.0d0 2.5d0 2.5d0 0.7999999999999999d0 0.0d0 0.08d0\n",
      "            0.7999999999999999d0 0.0d0 0.08d0 0.7999999999999999d0 0.0d0 0.08d0\n",
      "            2.5d0 2.0d0 2.5d0 0.0d0 0.19999999999999998d0 0.19999999999999998d0\n",
      "            0.39999999999999997d0 0.0d0 0.0d0 2.5d0 2.5d0 0.0d0 0.0d0 0.0d0\n",
      "            0.15555555555555556d0 0.15555555555555556d0 0.15555555555555556d0\n",
      "            0.45d0 1.58d0 0.55d0 0.0d0 0.0d0 0.0d0 0.15555555555555556d0\n",
      "            0.15555555555555556d0 0.15555555555555556d0 0.0d0\n",
      "            0.7999999999999999d0 0.0d0 0.08d0 0.0d0 0.15555555555555556d0\n",
      "            0.15555555555555556d0 0.15555555555555556d0 0.0d0 0.0d0 0.0d0 2.5d0\n",
      "            2.0d0 2.5d0 1.1d0 10.5d0 1.1d0 10.5d0)\n",
      "in-vector #(2 2 2 2 1 2 3 4 1 2 3 4 2 2 1 2 3 1 2 3 1 2 3 2 1 2 2 1 2 3 4 2 2 2\n",
      "            2 2 2 3 3 3 1 2 3 4 2 2 3 3 3 2 1 2 3 2 3 3 3 2 2 2 2 1 2 2 2 2 2)\n",
      "phase-vector #(0.0d0 0.0d0 0.0d0 0.0d0 0.0d0 0.0d0 0.0d0 0.0d0 0.0d0 0.0d0\n",
      "               0.0d0 0.0d0 3.1415939703583717d0 3.1415939703583717d0 0.0d0\n",
      "               0.0d0 3.1415939703583717d0 0.0d0 0.0d0 3.1415939703583717d0\n",
      "               0.0d0 0.0d0 3.1415939703583717d0 3.1415939703583717d0 0.0d0\n",
      "               3.1415939703583717d0 0.0d0 0.0d0 0.0d0 0.0d0 0.0d0 0.0d0\n",
      "               3.1415939703583717d0 3.1415939703583717d0 0.0d0 0.0d0 0.0d0\n",
      "               0.0d0 0.0d0 0.0d0 3.1415939703583717d0 3.1415939703583717d0\n",
      "               3.1415939703583717d0 0.0d0 0.0d0 0.0d0 0.0d0 0.0d0 0.0d0 0.0d0\n",
      "               0.0d0 0.0d0 3.1415939703583717d0 0.0d0 0.0d0 0.0d0 0.0d0 0.0d0\n",
      "               0.0d0 0.0d0 3.1415939703583717d0 0.0d0 3.1415939703583717d0\n",
      "               3.1415940000000004d0 3.1415940000000004d0 3.1415940000000004d0\n",
      "               3.1415940000000004d0)\n",
      "i1-vector #(6 9 12 18 18 18 18 18 18 18 18 18 21 21 24 24 24 24 24 24 24 24 24\n",
      "            24 24 24 36 36 36 36 36 36 39 39 42 42 42 42 42 42 42 42 42 42 42\n",
      "            45 45 45 45 45 45 45 45 48 48 48 48 48 48 48 51 51 51 48 21 18 39)\n",
      "i2-vector #(0 0 0 42 42 42 42 42 42 42 42 42 18 18 18 18 18 18 18 18 18 18 18\n",
      "            18 18 18 39 39 39 39 39 39 48 48 18 18 18 39 39 39 39 39 39 39 39\n",
      "            39 39 39 39 39 39 39 39 39 39 39 39 3 3 3 48 48 48 0 42 39 3)\n",
      "i3-vector #(3 3 3 39 39 39 39 39 39 39 39 39 42 42 21 21 21 21 21 21 21 21 21\n",
      "            42 42 42 42 48 48 48 48 48 3 3 21 21 21 36 36 36 48 48 48 48 48 42\n",
      "            36 36 36 48 48 48 48 42 36 36 36 0 0 0 3 3 3 3 18 42 48)\n",
      "i4-vector #(15 15 15 45 36 36 36 36 48 48 48 48 39 63 27 27 27 30 30 30 33 33\n",
      "            33 39 63 63 63 3 3 3 3 51 0 15 27 30 33 54 57 60 3 3 3 3 51 63 54\n",
      "            57 60 3 51 51 51 63 54 57 60 6 9 12 0 15 15 15 24 63 51)\n",
      "proper-vector #(T T T T T T T T T T T T T T T T T T T T T T T T T T T T T T T T\n",
      "                T T T T T T T T T T T T T T T T T T T T T T T T T T T T T T T\n",
      "                NIL NIL NIL NIL)\n",
      "atom1: #<ATOM :HH31/:H> atom2: #<ATOM :CH3/:C> atom3: #<ATOM :NH/:N> atom4 #<ATOM :HH/:H> key: 0.0-2-0.0 vi: 0.0d0 ini 2 phase 0.0d0\n",
      "  0.0d0 2\n",
      " atom1: #<ATOM :HH32/:H> atom2: #<ATOM :CH3/:C> atom3: #<ATOM :NH/:N> atom4 #<ATOM :HH/:H> key: 0.0-2-0.0 vi: 0.0d0 ini 2 phase 0.0d0\n",
      " atom1: #<ATOM :HH33/:H> atom2: #<ATOM :CH3/:C> atom3: #<ATOM :NH/:N> atom4 #<ATOM :HH/:H> key: 0.0-2-0.0 vi: 0.0d0 ini 2 phase 0.0d0\n",
      " atom1: #<ATOM :C/:C> atom2: #<ATOM :NH/:N> atom3: #<ATOM :C/:C> atom4 #<ATOM :H/:H> key: 0.0-2-0.0 vi: 0.0d0 ini 2 phase 0.0d0\n",
      " atom1: #<ATOM :C/:C> atom2: #<ATOM :NH/:N> atom3: #<ATOM :C/:C> atom4 #<ATOM :CH3/:C> key: 2.0-1-0.0 vi: 2.0d0 ini 1 phase 0.0d0\n",
      "  2.0d0 1\n",
      " atom1: #<ATOM :C/:C> atom2: #<ATOM :NH/:N> atom3: #<ATOM :C/:C> atom4 #<ATOM :CH3/:C> key: 1.8-2-0.0 vi: 1.8d0 ini 2 phase 0.0d0\n",
      "  1.8d0 2\n",
      " atom1: #<ATOM :C/:C> atom2: #<ATOM :NH/:N> atom3: #<ATOM :C/:C> atom4 #<ATOM :CH3/:C> key: 0.8-3-0.0 vi: 0.8d0 ini 3 phase 0.0d0\n",
      "  0.8d0 3\n",
      " atom1: #<ATOM :C/:C> atom2: #<ATOM :NH/:N> atom3: #<ATOM :C/:C> atom4 #<ATOM :CH3/:C> key: 0.0-4-0.0 vi: 0.0d0 ini 4 phase 0.0d0\n",
      "  0.0d0 4\n",
      " atom1: #<ATOM :C/:C> atom2: #<ATOM :NH/:N> atom3: #<ATOM :C/:C> atom4 #<ATOM :C/:C> key: 0.0-1-0.0 vi: 0.0d0 ini 1 phase 0.0d0\n",
      "  0.0d0 1\n",
      " atom1: #<ATOM :C/:C> atom2: #<ATOM :NH/:N> atom3: #<ATOM :C/:C> atom4 #<ATOM :C/:C> key: 0.27-2-0.0 vi: 0.27d0 ini 2 phase 0.0d0\n",
      "  0.27d0 2\n",
      " atom1: #<ATOM :C/:C> atom2: #<ATOM :NH/:N> atom3: #<ATOM :C/:C> atom4 #<ATOM :C/:C> key: 0.42-3-0.0 vi: 0.42d0 ini 3 phase 0.0d0\n",
      "  0.42d0 3\n",
      " atom1: #<ATOM :C/:C> atom2: #<ATOM :NH/:N> atom3: #<ATOM :C/:C> atom4 #<ATOM :C/:C> key: 0.0-4-0.0 vi: 0.0d0 ini 4 phase 0.0d0\n",
      " atom1: #<ATOM :CH3/:C> atom2: #<ATOM :C/:C> atom3: #<ATOM :NH/:N> atom4 #<ATOM :C/:C> key: 2.5-2-3.1415939703583717 vi: 2.5d0 ini 2 phase 3.1415939703583717d0\n",
      "  2.5d0 2\n",
      " atom1: #<ATOM :CH3/:C> atom2: #<ATOM :C/:C> atom3: #<ATOM :NH/:N> atom4 #<ATOM :HH/:H> key: 2.5-2-3.1415939703583717 vi: 2.5d0 ini 2 phase 3.1415939703583717d0\n",
      " atom1: #<ATOM :O/:O> atom2: #<ATOM :C/:C> atom3: #<ATOM :CH3/:C> atom4 #<ATOM :HH31/:H> key: 0.7999999999999999-1-0.0 vi: 0.7999999999999999d0 ini 1 phase 0.0d0\n",
      "  0.7999999999999999d0 1\n",
      " atom1: #<ATOM :O/:O> atom2: #<ATOM :C/:C> atom3: #<ATOM :CH3/:C> atom4 #<ATOM :HH31/:H> key: 0.0-2-0.0 vi: 0.0d0 ini 2 phase 0.0d0\n",
      " atom1: #<ATOM :O/:O> atom2: #<ATOM :C/:C> atom3: #<ATOM :CH3/:C> atom4 #<ATOM :HH31/:H> key: 0.08-3-3.1415939703583717 vi: 0.08d0 ini 3 phase 3.1415939703583717d0\n",
      "  0.08d0 3\n",
      " atom1: #<ATOM :O/:O> atom2: #<ATOM :C/:C> atom3: #<ATOM :CH3/:C> atom4 #<ATOM :HH32/:H> key: 0.7999999999999999-1-0.0 vi: 0.7999999999999999d0 ini 1 phase 0.0d0\n",
      " atom1: #<ATOM :O/:O> atom2: #<ATOM :C/:C> atom3: #<ATOM :CH3/:C> atom4 #<ATOM :HH32/:H> key: 0.0-2-0.0 vi: 0.0d0 ini 2 phase 0.0d0\n",
      " atom1: #<ATOM :O/:O> atom2: #<ATOM :C/:C> atom3: #<ATOM :CH3/:C> atom4 #<ATOM :HH32/:H> key: 0.08-3-3.1415939703583717 vi: 0.08d0 ini 3 phase 3.1415939703583717d0\n",
      " atom1: #<ATOM :O/:O> atom2: #<ATOM :C/:C> atom3: #<ATOM :CH3/:C> atom4 #<ATOM :HH33/:H> key: 0.7999999999999999-1-0.0 vi: 0.7999999999999999d0 ini 1 phase 0.0d0\n",
      " atom1: #<ATOM :O/:O> atom2: #<ATOM :C/:C> atom3: #<ATOM :CH3/:C> atom4 #<ATOM :HH33/:H> key: 0.0-2-0.0 vi: 0.0d0 ini 2 phase 0.0d0\n",
      " atom1: #<ATOM :O/:O> atom2: #<ATOM :C/:C> atom3: #<ATOM :CH3/:C> atom4 #<ATOM :HH33/:H> key: 0.08-3-3.1415939703583717 vi: 0.08d0 ini 3 phase 3.1415939703583717d0\n",
      " atom1: #<ATOM :O/:O> atom2: #<ATOM :C/:C> atom3: #<ATOM :NH/:N> atom4 #<ATOM :C/:C> key: 2.5-2-3.1415939703583717 vi: 2.5d0 ini 2 phase 3.1415939703583717d0\n",
      " atom1: #<ATOM :O/:O> atom2: #<ATOM :C/:C> atom3: #<ATOM :NH/:N> atom4 #<ATOM :HH/:H> key: 2.0-1-0.0 vi: 2.0d0 ini 1 phase 0.0d0\n",
      " atom1: #<ATOM :O/:O> atom2: #<ATOM :C/:C> atom3: #<ATOM :NH/:N> atom4 #<ATOM :HH/:H> key: 2.5-2-3.1415939703583717 vi: 2.5d0 ini 2 phase 3.1415939703583717d0\n",
      " atom1: #<ATOM :CH3/:C> atom2: #<ATOM :C/:C> atom3: #<ATOM :NH/:N> atom4 #<ATOM :HH/:H> key: 0.0-2-0.0 vi: 0.0d0 ini 2 phase 0.0d0\n",
      " atom1: #<ATOM :CH3/:C> atom2: #<ATOM :C/:C> atom3: #<ATOM :C/:C> atom4 #<ATOM :NH/:N> key: 0.19999999999999998-1-0.0 vi: 0.19999999999999998d0 ini 1 phase 0.0d0\n",
      "  0.19999999999999998d0 1\n",
      " atom1: #<ATOM :CH3/:C> atom2: #<ATOM :C/:C> atom3: #<ATOM :C/:C> atom4 #<ATOM :NH/:N> key: 0.19999999999999998-2-0.0 vi: 0.19999999999999998d0 ini 2 phase 0.0d0\n",
      "  0.19999999999999998d0 2\n",
      " atom1: #<ATOM :CH3/:C> atom2: #<ATOM :C/:C> atom3: #<ATOM :C/:C> atom4 #<ATOM :NH/:N> key: 0.39999999999999997-3-0.0 vi: 0.39999999999999997d0 ini 3 phase 0.0d0\n",
      "  0.39999999999999997d0 3\n",
      " atom1: #<ATOM :CH3/:C> atom2: #<ATOM :C/:C> atom3: #<ATOM :C/:C> atom4 #<ATOM :NH/:N> key: 0.0-4-0.0 vi: 0.0d0 ini 4 phase 0.0d0\n",
      " atom1: #<ATOM :CH3/:C> atom2: #<ATOM :C/:C> atom3: #<ATOM :C/:C> atom4 #<ATOM :O/:O> key: 0.0-2-0.0 vi: 0.0d0 ini 2 phase 0.0d0\n",
      " atom1: #<ATOM :C/:C> atom2: #<ATOM :C/:C> atom3: #<ATOM :NH/:N> atom4 #<ATOM :CH3/:C> key: 2.5-2-3.1415939703583717 vi: 2.5d0 ini 2 phase 3.1415939703583717d0\n",
      " atom1: #<ATOM :C/:C> atom2: #<ATOM :C/:C> atom3: #<ATOM :NH/:N> atom4 #<ATOM :HH/:H> key: 2.5-2-3.1415939703583717 vi: 2.5d0 ini 2 phase 3.1415939703583717d0\n",
      " atom1: #<ATOM :NH/:N> atom2: #<ATOM :C/:C> atom3: #<ATOM :CH3/:C> atom4 #<ATOM :HH31/:H> key: 0.0-2-0.0 vi: 0.0d0 ini 2 phase 0.0d0\n",
      " atom1: #<ATOM :NH/:N> atom2: #<ATOM :C/:C> atom3: #<ATOM :CH3/:C> atom4 #<ATOM :HH32/:H> key: 0.0-2-0.0 vi: 0.0d0 ini 2 phase 0.0d0\n",
      " atom1: #<ATOM :NH/:N> atom2: #<ATOM :C/:C> atom3: #<ATOM :CH3/:C> atom4 #<ATOM :HH33/:H> key: 0.0-2-0.0 vi: 0.0d0 ini 2 phase 0.0d0\n",
      " atom1: #<ATOM :NH/:N> atom2: #<ATOM :C/:C> atom3: #<ATOM :CH3/:C> atom4 #<ATOM :HH31/:H> key: 0.15555555555555556-3-0.0 vi: 0.15555555555555556d0 ini 3 phase 0.0d0\n",
      "  0.15555555555555556d0 3\n",
      " atom1: #<ATOM :NH/:N> atom2: #<ATOM :C/:C> atom3: #<ATOM :CH3/:C> atom4 #<ATOM :HH32/:H> key: 0.15555555555555556-3-0.0 vi: 0.15555555555555556d0 ini 3 phase 0.0d0\n",
      " atom1: #<ATOM :NH/:N> atom2: #<ATOM :C/:C> atom3: #<ATOM :CH3/:C> atom4 #<ATOM :HH33/:H> key: 0.15555555555555556-3-0.0 vi: 0.15555555555555556d0 ini 3 phase 0.0d0\n",
      " atom1: #<ATOM :NH/:N> atom2: #<ATOM :C/:C> atom3: #<ATOM :C/:C> atom4 #<ATOM :NH/:N> key: 0.45-1-3.1415939703583717 vi: 0.45d0 ini 1 phase 3.1415939703583717d0\n",
      "  0.45d0 1\n",
      " atom1: #<ATOM :NH/:N> atom2: #<ATOM :C/:C> atom3: #<ATOM :C/:C> atom4 #<ATOM :NH/:N> key: 1.58-2-3.1415939703583717 vi: 1.58d0 ini 2 phase 3.1415939703583717d0\n",
      "  1.58d0 2\n",
      " atom1: #<ATOM :NH/:N> atom2: #<ATOM :C/:C> atom3: #<ATOM :C/:C> atom4 #<ATOM :NH/:N> key: 0.55-3-3.1415939703583717 vi: 0.55d0 ini 3 phase 3.1415939703583717d0\n",
      "  0.55d0 3\n",
      " atom1: #<ATOM :NH/:N> atom2: #<ATOM :C/:C> atom3: #<ATOM :C/:C> atom4 #<ATOM :NH/:N> key: 0.0-4-0.0 vi: 0.0d0 ini 4 phase 0.0d0\n",
      " atom1: #<ATOM :NH/:N> atom2: #<ATOM :C/:C> atom3: #<ATOM :C/:C> atom4 #<ATOM :O/:O> key: 0.0-2-0.0 vi: 0.0d0 ini 2 phase 0.0d0\n",
      " atom1: #<ATOM :H/:H> atom2: #<ATOM :C/:C> atom3: #<ATOM :NH/:N> atom4 #<ATOM :HH/:H> key: 0.0-2-0.0 vi: 0.0d0 ini 2 phase 0.0d0\n",
      " atom1: #<ATOM :H/:H> atom2: #<ATOM :C/:C> atom3: #<ATOM :CH3/:C> atom4 #<ATOM :HH31/:H> key: 0.15555555555555556-3-0.0 vi: 0.15555555555555556d0 ini 3 phase 0.0d0\n",
      " atom1: #<ATOM :H/:H> atom2: #<ATOM :C/:C> atom3: #<ATOM :CH3/:C> atom4 #<ATOM :HH32/:H> key: 0.15555555555555556-3-0.0 vi: 0.15555555555555556d0 ini 3 phase 0.0d0\n",
      " atom1: #<ATOM :H/:H> atom2: #<ATOM :C/:C> atom3: #<ATOM :CH3/:C> atom4 #<ATOM :HH33/:H> key: 0.15555555555555556-3-0.0 vi: 0.15555555555555556d0 ini 3 phase 0.0d0\n",
      " atom1: #<ATOM :H/:H> atom2: #<ATOM :C/:C> atom3: #<ATOM :C/:C> atom4 #<ATOM :NH/:N> key: 0.0-2-0.0 vi: 0.0d0 ini 2 phase 0.0d0\n",
      " atom1: #<ATOM :H/:H> atom2: #<ATOM :C/:C> atom3: #<ATOM :C/:C> atom4 #<ATOM :O/:O> key: 0.7999999999999999-1-0.0 vi: 0.7999999999999999d0 ini 1 phase 0.0d0\n",
      " atom1: #<ATOM :H/:H> atom2: #<ATOM :C/:C> atom3: #<ATOM :C/:C> atom4 #<ATOM :O/:O> key: 0.0-2-0.0 vi: 0.0d0 ini 2 phase 0.0d0\n",
      " atom1: #<ATOM :H/:H> atom2: #<ATOM :C/:C> atom3: #<ATOM :C/:C> atom4 #<ATOM :O/:O> key: 0.08-3-3.1415939703583717 vi: 0.08d0 ini 3 phase 3.1415939703583717d0\n",
      " atom1: #<ATOM :C/:C> atom2: #<ATOM :C/:C> atom3: #<ATOM :NH/:N> atom4 #<ATOM :HH/:H> key: 0.0-2-0.0 vi: 0.0d0 ini 2 phase 0.0d0\n",
      " atom1: #<ATOM :C/:C> atom2: #<ATOM :C/:C> atom3: #<ATOM :CH3/:C> atom4 #<ATOM :HH31/:H> key: 0.15555555555555556-3-0.0 vi: 0.15555555555555556d0 ini 3 phase 0.0d0\n",
      " atom1: #<ATOM :C/:C> atom2: #<ATOM :C/:C> atom3: #<ATOM :CH3/:C> atom4 #<ATOM :HH32/:H> key: 0.15555555555555556-3-0.0 vi: 0.15555555555555556d0 ini 3 phase 0.0d0\n",
      " atom1: #<ATOM :C/:C> atom2: #<ATOM :C/:C> atom3: #<ATOM :CH3/:C> atom4 #<ATOM :HH33/:H> key: 0.15555555555555556-3-0.0 vi: 0.15555555555555556d0 ini 3 phase 0.0d0\n",
      " atom1: #<ATOM :C/:C> atom2: #<ATOM :NH/:N> atom3: #<ATOM :CH3/:C> atom4 #<ATOM :HH31/:H> key: 0.0-2-0.0 vi: 0.0d0 ini 2 phase 0.0d0\n",
      " atom1: #<ATOM :C/:C> atom2: #<ATOM :NH/:N> atom3: #<ATOM :CH3/:C> atom4 #<ATOM :HH32/:H> key: 0.0-2-0.0 vi: 0.0d0 ini 2 phase 0.0d0\n",
      " atom1: #<ATOM :C/:C> atom2: #<ATOM :NH/:N> atom3: #<ATOM :CH3/:C> atom4 #<ATOM :HH33/:H> key: 0.0-2-0.0 vi: 0.0d0 ini 2 phase 0.0d0\n",
      " atom1: #<ATOM :O/:O> atom2: #<ATOM :C/:C> atom3: #<ATOM :NH/:N> atom4 #<ATOM :CH3/:C> key: 2.5-2-3.1415939703583717 vi: 2.5d0 ini 2 phase 3.1415939703583717d0\n",
      " atom1: #<ATOM :O/:O> atom2: #<ATOM :C/:C> atom3: #<ATOM :NH/:N> atom4 #<ATOM :HH/:H> key: 2.0-1-0.0 vi: 2.0d0 ini 1 phase 0.0d0\n",
      " atom1: #<ATOM :O/:O> atom2: #<ATOM :C/:C> atom3: #<ATOM :NH/:N> atom4 #<ATOM :HH/:H> key: 2.5-2-3.1415939703583717 vi: 2.5d0 ini 2 phase 3.1415939703583717d0\n",
      " atom1: #<ATOM :C/:C> atom2: #<ATOM :CH3/:C> atom3: #<ATOM :NH/:N> atom4 #<ATOM :HH/:H> key: 1.1-2-3.1415940000000004 vi: 1.1d0 ini 2 phase 3.1415940000000004d0\n",
      "  1.1d0 2\n",
      " atom1: #<ATOM :CH3/:C> atom2: #<ATOM :NH/:N> atom3: #<ATOM :C/:C> atom4 #<ATOM :O/:O> key: 10.5-2-3.1415940000000004 vi: 10.5d0 ini 2 phase 3.1415940000000004d0\n",
      "  10.5d0 2\n",
      " atom1: #<ATOM :C/:C> atom2: #<ATOM :C/:C> atom3: #<ATOM :NH/:N> atom4 #<ATOM :HH/:H> key: 1.1-2-3.1415940000000004 vi: 1.1d0 ini 2 phase 3.1415940000000004d0\n",
      " atom1: #<ATOM :C/:C> atom2: #<ATOM :NH/:N> atom3: #<ATOM :C/:C> atom4 #<ATOM :O/:O> key: 10.5-2-3.1415940000000004 vi: 10.5d0 ini 2 phase 3.1415940000000004d0\n",
      " residue-count 3\n",
      "molecule-count 1\n"
     ]
    },
    {
     "data": {
      "text/plain": [
       "0"
      ]
     },
     "execution_count": 23,
     "metadata": {},
     "output_type": "execute_result"
    }
   ],
   "source": [
    "(leap.topology:save-amber-parm-format *chemagg* \"chemagg.top\" \"chemagg.crd\" :assign-types nil)"
   ]
  },
  {
   "cell_type": "markdown",
   "metadata": {},
   "source": [
    "#### Calculate each energy parameters."
   ]
  },
  {
   "cell_type": "code",
   "execution_count": 24,
   "metadata": {},
   "outputs": [
    {
     "data": {
      "text/plain": [
       "2.7731802863027997d0"
      ]
     },
     "execution_count": 24,
     "metadata": {},
     "output_type": "execute_result"
    }
   ],
   "source": [
    "(chem:get-energy (chem:get-stretch-component *ee*))"
   ]
  },
  {
   "cell_type": "code",
   "execution_count": 25,
   "metadata": {},
   "outputs": [
    {
     "data": {
      "text/plain": [
       "1.400906566287098d0"
      ]
     },
     "execution_count": 25,
     "metadata": {},
     "output_type": "execute_result"
    }
   ],
   "source": [
    "(chem:get-energy (chem:get-angle-component *ee*))"
   ]
  },
  {
   "cell_type": "code",
   "execution_count": 26,
   "metadata": {},
   "outputs": [
    {
     "data": {
      "text/plain": [
       "8.724973561642626d0"
      ]
     },
     "execution_count": 26,
     "metadata": {},
     "output_type": "execute_result"
    }
   ],
   "source": [
    "(chem:get-energy (chem:get-dihedral-component *ee*))"
   ]
  },
  {
   "cell_type": "code",
   "execution_count": 27,
   "metadata": {
    "scrolled": true
   },
   "outputs": [
    {
     "data": {
      "text/plain": [
       "10.707853642954538d0"
      ]
     },
     "execution_count": 27,
     "metadata": {},
     "output_type": "execute_result"
    }
   ],
   "source": [
    "(chem:get-energy (chem:get-nonbond-component *ee*))"
   ]
  },
  {
   "cell_type": "markdown",
   "metadata": {},
   "source": [
    "## Create topology and coordinate file for Alanine and water atoms."
   ]
  },
  {
   "cell_type": "markdown",
   "metadata": {},
   "source": [
    "#### Load Tip3pfbox water box."
   ]
  },
  {
   "cell_type": "code",
   "execution_count": 28,
   "metadata": {},
   "outputs": [
    {
     "data": {
      "text/plain": [
       "(:TIP3PFBOX)"
      ]
     },
     "execution_count": 28,
     "metadata": {},
     "output_type": "execute_result"
    }
   ],
   "source": [
    "(load-off \"tip3pfbox.off\")"
   ]
  },
  {
   "cell_type": "markdown",
   "metadata": {},
   "source": [
    "#### Make agggregate of the water box."
   ]
  },
  {
   "cell_type": "code",
   "execution_count": 29,
   "metadata": {},
   "outputs": [
    {
     "name": "stdout",
     "output_type": "stream",
     "text": [
      "\n",
      "AGGREGATE "
     ]
    },
    {
     "data": {
      "text/plain": [
       "AGGREGATE"
      ]
     },
     "execution_count": 29,
     "metadata": {},
     "output_type": "execute_result"
    }
   ],
   "source": [
    "(print ~tip3pfbox)"
   ]
  },
  {
   "cell_type": "code",
   "execution_count": 30,
   "metadata": {},
   "outputs": [
    {
     "data": {
      "text/plain": [
       "*SOLVENT*"
      ]
     },
     "execution_count": 30,
     "metadata": {},
     "output_type": "execute_result"
    }
   ],
   "source": [
    "(defparameter *solvent* ~tip3pfbox)"
   ]
  },
  {
   "cell_type": "code",
   "execution_count": 31,
   "metadata": {},
   "outputs": [
    {
     "data": {
      "application/vnd.jupyter.widget-view+json": {
       "model_id": "E945252C-E5BA-4801-A2F8-A2F6F8951925",
       "version_major": 2,
       "version_minor": 0
      },
      "text/plain": [
       "A Jupyter Widget"
      ]
     },
     "execution_count": 31,
     "metadata": {},
     "output_type": "execute_result"
    }
   ],
   "source": [
    "(nglv::show-aggregate *solvent*)"
   ]
  },
  {
   "cell_type": "markdown",
   "metadata": {},
   "source": [
    "#### Assign the atom types of the force field to the water box."
   ]
  },
  {
   "cell_type": "code",
   "execution_count": 32,
   "metadata": {},
   "outputs": [
    {
     "data": {
      "text/plain": [
       "NIL"
      ]
     },
     "execution_count": 32,
     "metadata": {},
     "output_type": "execute_result"
    }
   ],
   "source": [
    "(assign-atom-types *solvent*)"
   ]
  },
  {
   "cell_type": "markdown",
   "metadata": {},
   "source": [
    "#### Add Tip3p water molecules to the alanine."
   ]
  },
  {
   "cell_type": "code",
   "execution_count": 33,
   "metadata": {},
   "outputs": [
    {
     "name": "stdout",
     "output_type": "stream",
     "text": [
      "Total bounding box for atom centers:  18.99893108722887d0 14.183780465762425d0 13.159029044070262d0\n"
     ]
    },
    {
     "data": {
      "text/plain": [
       "*NEWAGG*"
      ]
     },
     "execution_count": 33,
     "metadata": {},
     "output_type": "execute_result"
    }
   ],
   "source": [
    "(:= *newagg* (leap.solvate::tool-solvate-and-shell *chemagg* *solvent* '(5.0 5.0 5.0)))"
   ]
  },
  {
   "cell_type": "code",
   "execution_count": 34,
   "metadata": {},
   "outputs": [
    {
     "data": {
      "application/vnd.jupyter.widget-view+json": {
       "model_id": "92D462E0-9503-4811-8999-17FDB4804B42",
       "version_major": 2,
       "version_minor": 0
      },
      "text/plain": [
       "A Jupyter Widget"
      ]
     },
     "execution_count": 34,
     "metadata": {},
     "output_type": "execute_result"
    }
   ],
   "source": [
    "(nglv::show-aggregate *newagg*)"
   ]
  },
  {
   "cell_type": "markdown",
   "metadata": {},
   "source": [
    "#### Save the topology and coordinate file. New aggregate contains water molecules and alanine."
   ]
  },
  {
   "cell_type": "code",
   "execution_count": 35,
   "metadata": {},
   "outputs": [
    {
     "data": {
      "text/plain": [
       "NIL"
      ]
     },
     "execution_count": 35,
     "metadata": {},
     "output_type": "execute_result"
    }
   ],
   "source": [
    "(assign-atom-types *newagg*)\n",
    "(chem:map-atoms 'nil (lambda (a) (if (eq (chem:get-type a) :CT)\n",
    "                                     (if (eq (chem:get-name a) :C)\n",
    "                                         (chem:set-type a :CX)))) *newagg*)"
   ]
  },
  {
   "cell_type": "code",
   "execution_count": 36,
   "metadata": {},
   "outputs": [
    {
     "name": "stdout",
     "output_type": "stream",
     "text": [
      "======= Starting Steepest Descent Minimizer\n",
      "DONE absolute force test:\n",
      "forceRmsMag(2.398792).LT.forceTolerance(5000.000000)\n",
      "======= Starting Conjugate Gradient Minimizer\n",
      "---Stage-Seconds--Step-----Alpha---Dir-------------Energy-----------RMSforce\n",
      " minCGnP       0     1  0.000000   0.0              0.000              2.399\n",
      " minCGnP       0     2  0.001528  31.9              9.964              1.492\n",
      " minCGnP       0     3  0.000575  36.0              9.536              0.908\n",
      " minCGnP       0     4  0.000771  37.2              9.322              0.574\n",
      "DONE absolute force test:\n",
      "forceRmsMag(0.396855).LT.forceTolerance(0.500000)\n",
      "======= Starting Steepest Descent Minimizer\n",
      "DONE absolute force test:\n",
      "forceRmsMag(6.377839).LT.forceTolerance(5000.000000)\n",
      "======= Starting Conjugate Gradient Minimizer\n",
      " minCGnP       0     5  0.000000   0.0              0.000              6.378\n",
      " minCGnP       0     6  0.000779  27.3             13.668              3.289\n",
      " minCGnP       0     7  0.001051  52.5              9.879              3.656\n",
      " minCGnP       0     8  0.001508  65.2              3.218              4.707\n",
      " minCGnP       0     9  0.001253  68.7             -6.065              4.903\n",
      " minCGnP       0    10  0.001603  69.9            -18.666              4.576\n",
      "---Stage-Seconds--Step-----Alpha---Dir-------------Energy-----------RMSforce\n",
      " minCGnP       0    11  0.000987  65.6            -25.406              2.447\n",
      " minCGnP       0    12  0.001005  68.8            -27.395              2.405\n",
      " minCGnP       0    13  0.001128  69.4            -29.587              2.230\n",
      " minCGnP       0    14  0.000900  66.6            -31.091              1.863\n",
      " minCGnP       0    15  0.001258  70.6            -32.551              2.121\n",
      " minCGnP       0    16  0.001202  71.1            -34.353              2.018\n",
      " minCGnP       0    17  0.001052  73.2            -35.784              2.136\n",
      " minCGnP       0    18  0.001089  74.0            -37.455              2.165\n",
      " minCGnP       0    19  0.001119  71.7            -39.199              1.815\n",
      " minCGnP       0    20  0.001270  75.5            -40.591              2.150\n",
      "---Stage-Seconds--Step-----Alpha---Dir-------------Energy-----------RMSforce\n",
      " minCGnP       0    21  0.000913  73.5            -42.007              1.773\n",
      " minCGnP       0    22  0.000802  67.6            -42.850              1.243\n",
      " minCGnP       0    23  0.001206  69.8            -43.472              1.279\n",
      " minCGnP       0    24  0.000818  67.7            -43.919              1.071\n",
      " minCGnP       0    25  0.000873  63.4            -44.253              0.808\n",
      " minCGnP       0    26  0.001120  67.7            -44.498              0.886\n",
      " minCGnP       0    27  0.001244  71.1            -44.824              0.975\n",
      " minCGnP       0    28  0.000855  68.6            -45.095              0.802\n",
      " minCGnP       0    29  0.001096  71.7            -45.331              0.884\n",
      " minCGnP       0    30  0.001601  75.3            -45.751              1.058\n",
      "---Stage-Seconds--Step-----Alpha---Dir-------------Energy-----------RMSforce\n",
      " minCGnP       0    31  0.000773  72.2            -46.040              0.846\n",
      " minCGnP       0    32  0.001067  74.9            -46.294              0.952\n",
      " minCGnP       0    33  0.001627  76.9            -46.788              1.039\n",
      " minCGnP       1    34  0.000796  74.4            -47.077              0.861\n",
      " minCGnP       1    35  0.000977  75.5            -47.318              0.899\n",
      " minCGnP       1    36  0.001193  73.8            -47.640              0.756\n",
      " minCGnP       1    37  0.000819  71.5            -47.796              0.623\n",
      " minCGnP       1    38  0.000946  72.3            -47.920              0.624\n",
      " minCGnP       1    39  0.001228  74.3            -48.080              0.684\n",
      " minCGnP       1    40  0.000940  71.6            -48.226              0.544\n",
      "---Stage-Seconds--Step-----Alpha---Dir-------------Energy-----------RMSforce\n",
      " minCGnP       1    41  0.001036  73.4            -48.329              0.576\n",
      " minCGnP       1    42  0.001069  75.1            -48.447              0.620\n",
      "DONE absolute force test:\n",
      "forceRmsMag(0.484139).LT.forceTolerance(0.500000)\n"
     ]
    },
    {
     "data": {
      "text/plain": [
       "*E*"
      ]
     },
     "execution_count": 36,
     "metadata": {},
     "output_type": "execute_result"
    }
   ],
   "source": [
    "(defparameter *e* (energy:minimize *newagg*))"
   ]
  },
  {
   "cell_type": "code",
   "execution_count": 33,
   "metadata": {},
   "outputs": [
    {
     "name": "stdout",
     "output_type": "stream",
     "text": [
      "atom1: #<ATOM :NH/:N> atom2: #<ATOM :C/:C> i1: 0 i2: 21\n",
      " atom1: #<ATOM :NH/:N> atom2: #<ATOM :HH/:H> i1: 0 i2: 15\n",
      " atom1: #<ATOM :CH3/:C> atom2: #<ATOM :NH/:N> i1: 3 i2: 0\n",
      " atom1: #<ATOM :CH3/:C> atom2: #<ATOM :HH33/:H> i1: 3 i2: 12\n",
      " atom1: #<ATOM :HH31/:H> atom2: #<ATOM :CH3/:C> i1: 6 i2: 3\n",
      " atom1: #<ATOM :HH32/:H> atom2: #<ATOM :CH3/:C> i1: 9 i2: 3\n",
      " atom1: #<ATOM :C/:C> atom2: #<ATOM :O/:O> i1: 21 i2: 18\n",
      " atom1: #<ATOM :C/:C> atom2: #<ATOM :C/:C> i1: 21 i2: 24\n",
      " atom1: #<ATOM :NH/:N> atom2: #<ATOM :C/:C> i1: 27 i2: 24\n",
      " atom1: #<ATOM :H/:H> atom2: #<ATOM :C/:C> i1: 30 i2: 24\n",
      " atom1: #<ATOM :CH3/:C> atom2: #<ATOM :C/:C> i1: 33 i2: 24\n",
      " atom1: #<ATOM :HH31/:H> atom2: #<ATOM :CH3/:C> i1: 36 i2: 33\n",
      " atom1: #<ATOM :HH32/:H> atom2: #<ATOM :CH3/:C> i1: 39 i2: 33\n",
      " atom1: #<ATOM :HH33/:H> atom2: #<ATOM :CH3/:C> i1: 42 i2: 33\n",
      " atom1: #<ATOM :HH/:H> atom2: #<ATOM :NH/:N> i1: 45 i2: 27\n",
      " atom1: #<ATOM :C/:C> atom2: #<ATOM :NH/:N> i1: 51 i2: 27\n",
      " atom1: #<ATOM :C/:C> atom2: #<ATOM :O/:O> i1: 51 i2: 48\n",
      " atom1: #<ATOM :CH3/:C> atom2: #<ATOM :C/:C> i1: 54 i2: 51\n",
      " atom1: #<ATOM :CH3/:C> atom2: #<ATOM :HH32/:H> i1: 54 i2: 60\n",
      " atom1: #<ATOM :CH3/:C> atom2: #<ATOM :HH33/:H> i1: 54 i2: 63\n",
      " atom1: #<ATOM :HH31/:H> atom2: #<ATOM :CH3/:C> i1: 57 i2: 54\n",
      " atom1: #<ATOM :H1/:H> atom2: #<ATOM :O/:O> i1: 69 i2: 66\n",
      " atom1: #<ATOM :H2/:H> atom2: #<ATOM :O/:O> i1: 72 i2: 66\n",
      " atom1: #<ATOM :H2/:H> atom2: #<ATOM :H1/:H> i1: 72 i2: 69\n",
      " atom1: #<ATOM :H1/:H> atom2: #<ATOM :O/:O> i1: 78 i2: 75\n",
      " atom1: #<ATOM :H2/:H> atom2: #<ATOM :O/:O> i1: 81 i2: 75\n",
      " atom1: #<ATOM :H2/:H> atom2: #<ATOM :H1/:H> i1: 81 i2: 78\n",
      " atom1: #<ATOM :H1/:H> atom2: #<ATOM :O/:O> i1: 87 i2: 84\n",
      " atom1: #<ATOM :H2/:H> atom2: #<ATOM :O/:O> i1: 90 i2: 84\n",
      " atom1: #<ATOM :H2/:H> atom2: #<ATOM :H1/:H> i1: 90 i2: 87\n",
      " atom1: #<ATOM :H1/:H> atom2: #<ATOM :O/:O> i1: 96 i2: 93\n",
      " atom1: #<ATOM :H2/:H> atom2: #<ATOM :O/:O> i1: 99 i2: 93\n",
      " atom1: #<ATOM :H2/:H> atom2: #<ATOM :H1/:H> i1: 99 i2: 96\n",
      " atom1: #<ATOM :O/:O> atom2: #<ATOM :H2/:H> i1: 102 i2: 108\n",
      " atom1: #<ATOM :H1/:H> atom2: #<ATOM :O/:O> i1: 105 i2: 102\n",
      " atom1: #<ATOM :H1/:H> atom2: #<ATOM :H2/:H> i1: 105 i2: 108\n",
      " atom1: #<ATOM :H1/:H> atom2: #<ATOM :O/:O> i1: 114 i2: 111\n",
      " atom1: #<ATOM :H2/:H> atom2: #<ATOM :O/:O> i1: 117 i2: 111\n",
      " atom1: #<ATOM :H2/:H> atom2: #<ATOM :H1/:H> i1: 117 i2: 114\n",
      " atom1: #<ATOM :H1/:H> atom2: #<ATOM :O/:O> i1: 123 i2: 120\n",
      " atom1: #<ATOM :H2/:H> atom2: #<ATOM :O/:O> i1: 126 i2: 120\n",
      " atom1: #<ATOM :H2/:H> atom2: #<ATOM :H1/:H> i1: 126 i2: 123\n",
      " atom1: #<ATOM :O/:O> atom2: #<ATOM :H2/:H> i1: 129 i2: 135\n",
      " atom1: #<ATOM :H1/:H> atom2: #<ATOM :O/:O> i1: 132 i2: 129\n",
      " atom1: #<ATOM :H1/:H> atom2: #<ATOM :H2/:H> i1: 132 i2: 135\n",
      " atom1: #<ATOM :H1/:H> atom2: #<ATOM :O/:O> i1: 141 i2: 138\n",
      " atom1: #<ATOM :H2/:H> atom2: #<ATOM :O/:O> i1: 144 i2: 138\n",
      " atom1: #<ATOM :H2/:H> atom2: #<ATOM :H1/:H> i1: 144 i2: 141\n",
      " atom1: #<ATOM :H1/:H> atom2: #<ATOM :O/:O> i1: 150 i2: 147\n",
      " atom1: #<ATOM :H2/:H> atom2: #<ATOM :O/:O> i1: 153 i2: 147\n",
      " atom1: #<ATOM :H2/:H> atom2: #<ATOM :H1/:H> i1: 153 i2: 150\n",
      " atom1: #<ATOM :H1/:H> atom2: #<ATOM :O/:O> i1: 159 i2: 156\n",
      " atom1: #<ATOM :H2/:H> atom2: #<ATOM :O/:O> i1: 162 i2: 156\n",
      " atom1: #<ATOM :H2/:H> atom2: #<ATOM :H1/:H> i1: 162 i2: 159\n",
      " atom1: #<ATOM :O/:O> atom2: #<ATOM :H2/:H> i1: 165 i2: 171\n",
      " atom1: #<ATOM :H1/:H> atom2: #<ATOM :O/:O> i1: 168 i2: 165\n",
      " atom1: #<ATOM :H1/:H> atom2: #<ATOM :H2/:H> i1: 168 i2: 171\n",
      " atom1: #<ATOM :H1/:H> atom2: #<ATOM :O/:O> i1: 177 i2: 174\n",
      " atom1: #<ATOM :H2/:H> atom2: #<ATOM :O/:O> i1: 180 i2: 174\n",
      " atom1: #<ATOM :H2/:H> atom2: #<ATOM :H1/:H> i1: 180 i2: 177\n",
      " atom1: #<ATOM :O/:O> atom2: #<ATOM :H2/:H> i1: 183 i2: 189\n",
      " atom1: #<ATOM :H1/:H> atom2: #<ATOM :O/:O> i1: 186 i2: 183\n",
      " atom1: #<ATOM :H1/:H> atom2: #<ATOM :H2/:H> i1: 186 i2: 189\n",
      " atom1: #<ATOM :H1/:H> atom2: #<ATOM :O/:O> i1: 195 i2: 192\n",
      " atom1: #<ATOM :H2/:H> atom2: #<ATOM :O/:O> i1: 198 i2: 192\n",
      " atom1: #<ATOM :H2/:H> atom2: #<ATOM :H1/:H> i1: 198 i2: 195\n",
      " atom1: #<ATOM :H1/:H> atom2: #<ATOM :O/:O> i1: 204 i2: 201\n",
      " atom1: #<ATOM :H2/:H> atom2: #<ATOM :O/:O> i1: 207 i2: 201\n",
      " atom1: #<ATOM :H2/:H> atom2: #<ATOM :H1/:H> i1: 207 i2: 204\n",
      " atom1: #<ATOM :H1/:H> atom2: #<ATOM :O/:O> i1: 213 i2: 210\n",
      " atom1: #<ATOM :H2/:H> atom2: #<ATOM :O/:O> i1: 216 i2: 210\n",
      " atom1: #<ATOM :H2/:H> atom2: #<ATOM :H1/:H> i1: 216 i2: 213\n",
      " atom1: #<ATOM :H1/:H> atom2: #<ATOM :O/:O> i1: 222 i2: 219\n",
      " atom1: #<ATOM :H2/:H> atom2: #<ATOM :O/:O> i1: 225 i2: 219\n",
      " atom1: #<ATOM :H2/:H> atom2: #<ATOM :H1/:H> i1: 225 i2: 222\n",
      " atom1: #<ATOM :H1/:H> atom2: #<ATOM :O/:O> i1: 231 i2: 228\n",
      " atom1: #<ATOM :H2/:H> atom2: #<ATOM :O/:O> i1: 234 i2: 228\n",
      " atom1: #<ATOM :H2/:H> atom2: #<ATOM :H1/:H> i1: 234 i2: 231\n",
      " atom1: #<ATOM :H1/:H> atom2: #<ATOM :O/:O> i1: 240 i2: 237\n",
      " atom1: #<ATOM :H2/:H> atom2: #<ATOM :O/:O> i1: 243 i2: 237\n",
      " atom1: #<ATOM :H2/:H> atom2: #<ATOM :H1/:H> i1: 243 i2: 240\n",
      " atom1: #<ATOM :H1/:H> atom2: #<ATOM :O/:O> i1: 249 i2: 246\n",
      " atom1: #<ATOM :H2/:H> atom2: #<ATOM :O/:O> i1: 252 i2: 246\n",
      " atom1: #<ATOM :H2/:H> atom2: #<ATOM :H1/:H> i1: 252 i2: 249\n",
      " atom1: #<ATOM :H1/:H> atom2: #<ATOM :O/:O> i1: 258 i2: 255\n",
      " atom1: #<ATOM :H2/:H> atom2: #<ATOM :O/:O> i1: 261 i2: 255\n",
      " atom1: #<ATOM :H2/:H> atom2: #<ATOM :H1/:H> i1: 261 i2: 258\n",
      " atom1: #<ATOM :H1/:H> atom2: #<ATOM :O/:O> i1: 267 i2: 264\n",
      " atom1: #<ATOM :H2/:H> atom2: #<ATOM :O/:O> i1: 270 i2: 264\n",
      " atom1: #<ATOM :H2/:H> atom2: #<ATOM :H1/:H> i1: 270 i2: 267\n",
      " atom1: #<ATOM :H1/:H> atom2: #<ATOM :O/:O> i1: 276 i2: 273\n",
      " atom1: #<ATOM :H2/:H> atom2: #<ATOM :O/:O> i1: 279 i2: 273\n",
      " atom1: #<ATOM :H2/:H> atom2: #<ATOM :H1/:H> i1: 279 i2: 276\n",
      " atom1: #<ATOM :H1/:H> atom2: #<ATOM :O/:O> i1: 285 i2: 282\n",
      " atom1: #<ATOM :H2/:H> atom2: #<ATOM :O/:O> i1: 288 i2: 282\n",
      " atom1: #<ATOM :H2/:H> atom2: #<ATOM :H1/:H> i1: 288 i2: 285\n",
      " atom1: #<ATOM :H1/:H> atom2: #<ATOM :O/:O> i1: 294 i2: 291\n",
      " atom1: #<ATOM :H2/:H> atom2: #<ATOM :O/:O> i1: 297 i2: 291\n",
      " atom1: #<ATOM :H2/:H> atom2: #<ATOM :H1/:H> i1: 297 i2: 294\n",
      " atom1: #<ATOM :H1/:H> atom2: #<ATOM :O/:O> i1: 303 i2: 300\n",
      " atom1: #<ATOM :H2/:H> atom2: #<ATOM :O/:O> i1: 306 i2: 300\n",
      " atom1: #<ATOM :H2/:H> atom2: #<ATOM :H1/:H> i1: 306 i2: 303\n",
      " atom1: #<ATOM :H1/:H> atom2: #<ATOM :O/:O> i1: 312 i2: 309\n",
      " atom1: #<ATOM :H2/:H> atom2: #<ATOM :O/:O> i1: 315 i2: 309\n",
      " atom1: #<ATOM :H2/:H> atom2: #<ATOM :H1/:H> i1: 315 i2: 312\n",
      " atom1: #<ATOM :H1/:H> atom2: #<ATOM :O/:O> i1: 321 i2: 318\n",
      " atom1: #<ATOM :H2/:H> atom2: #<ATOM :O/:O> i1: 324 i2: 318\n",
      " atom1: #<ATOM :H2/:H> atom2: #<ATOM :H1/:H> i1: 324 i2: 321\n",
      " atom1: #<ATOM :O/:O> atom2: #<ATOM :H2/:H> i1: 327 i2: 333\n",
      " atom1: #<ATOM :H1/:H> atom2: #<ATOM :O/:O> i1: 330 i2: 327\n",
      " atom1: #<ATOM :H1/:H> atom2: #<ATOM :H2/:H> i1: 330 i2: 333\n",
      " atom1: #<ATOM :H1/:H> atom2: #<ATOM :O/:O> i1: 339 i2: 336\n",
      " atom1: #<ATOM :H2/:H> atom2: #<ATOM :O/:O> i1: 342 i2: 336\n",
      " atom1: #<ATOM :H2/:H> atom2: #<ATOM :H1/:H> i1: 342 i2: 339\n",
      " atom1: #<ATOM :H1/:H> atom2: #<ATOM :O/:O> i1: 348 i2: 345\n",
      " atom1: #<ATOM :H2/:H> atom2: #<ATOM :O/:O> i1: 351 i2: 345\n",
      " atom1: #<ATOM :H2/:H> atom2: #<ATOM :H1/:H> i1: 351 i2: 348\n",
      " atom1: #<ATOM :H1/:H> atom2: #<ATOM :O/:O> i1: 357 i2: 354\n",
      " atom1: #<ATOM :H2/:H> atom2: #<ATOM :O/:O> i1: 360 i2: 354\n",
      " atom1: #<ATOM :H2/:H> atom2: #<ATOM :H1/:H> i1: 360 i2: 357\n",
      " atom1: #<ATOM :H1/:H> atom2: #<ATOM :O/:O> i1: 366 i2: 363\n",
      " atom1: #<ATOM :H2/:H> atom2: #<ATOM :O/:O> i1: 369 i2: 363\n",
      " atom1: #<ATOM :H2/:H> atom2: #<ATOM :H1/:H> i1: 369 i2: 366\n",
      " atom1: #<ATOM :O/:O> atom2: #<ATOM :H2/:H> i1: 372 i2: 378\n",
      " atom1: #<ATOM :H1/:H> atom2: #<ATOM :O/:O> i1: 375 i2: 372\n",
      " atom1: #<ATOM :H1/:H> atom2: #<ATOM :H2/:H> i1: 375 i2: 378\n",
      " atom1: #<ATOM :H1/:H> atom2: #<ATOM :O/:O> i1: 384 i2: 381\n",
      " atom1: #<ATOM :H2/:H> atom2: #<ATOM :O/:O> i1: 387 i2: 381\n",
      " atom1: #<ATOM :H2/:H> atom2: #<ATOM :H1/:H> i1: 387 i2: 384\n",
      " atom1: #<ATOM :H1/:H> atom2: #<ATOM :O/:O> i1: 393 i2: 390\n",
      " atom1: #<ATOM :H2/:H> atom2: #<ATOM :O/:O> i1: 396 i2: 390\n",
      " atom1: #<ATOM :H2/:H> atom2: #<ATOM :H1/:H> i1: 396 i2: 393\n",
      " atom1: #<ATOM :H1/:H> atom2: #<ATOM :O/:O> i1: 402 i2: 399\n",
      " atom1: #<ATOM :H2/:H> atom2: #<ATOM :O/:O> i1: 405 i2: 399\n",
      " atom1: #<ATOM :H2/:H> atom2: #<ATOM :H1/:H> i1: 405 i2: 402\n",
      " atom1: #<ATOM :H1/:H> atom2: #<ATOM :O/:O> i1: 411 i2: 408\n",
      " atom1: #<ATOM :H2/:H> atom2: #<ATOM :O/:O> i1: 414 i2: 408\n",
      " atom1: #<ATOM :H2/:H> atom2: #<ATOM :H1/:H> i1: 414 i2: 411\n",
      " atom1: #<ATOM :O/:O> atom2: #<ATOM :H2/:H> i1: 417 i2: 423\n",
      " atom1: #<ATOM :O/:O> atom2: #<ATOM :H1/:H> i1: 417 i2: 420\n",
      " atom1: #<ATOM :H2/:H> atom2: #<ATOM :H1/:H> i1: 423 i2: 420\n",
      " atom1: #<ATOM :H1/:H> atom2: #<ATOM :O/:O> i1: 429 i2: 426\n",
      " atom1: #<ATOM :H2/:H> atom2: #<ATOM :O/:O> i1: 432 i2: 426\n",
      " atom1: #<ATOM :H2/:H> atom2: #<ATOM :H1/:H> i1: 432 i2: 429\n",
      " atom1: #<ATOM :H1/:H> atom2: #<ATOM :O/:O> i1: 438 i2: 435\n",
      " atom1: #<ATOM :H2/:H> atom2: #<ATOM :O/:O> i1: 441 i2: 435\n",
      " atom1: #<ATOM :H2/:H> atom2: #<ATOM :H1/:H> i1: 441 i2: 438\n",
      " atom1: #<ATOM :H1/:H> atom2: #<ATOM :O/:O> i1: 447 i2: 444\n",
      " atom1: #<ATOM :H2/:H> atom2: #<ATOM :O/:O> i1: 450 i2: 444\n",
      " atom1: #<ATOM :H2/:H> atom2: #<ATOM :H1/:H> i1: 450 i2: 447\n",
      " atom1: #<ATOM :H1/:H> atom2: #<ATOM :O/:O> i1: 456 i2: 453\n",
      " atom1: #<ATOM :H2/:H> atom2: #<ATOM :O/:O> i1: 459 i2: 453\n",
      " atom1: #<ATOM :H2/:H> atom2: #<ATOM :H1/:H> i1: 459 i2: 456\n",
      " atom1: #<ATOM :H1/:H> atom2: #<ATOM :O/:O> i1: 465 i2: 462\n",
      " atom1: #<ATOM :H2/:H> atom2: #<ATOM :O/:O> i1: 468 i2: 462\n",
      " atom1: #<ATOM :H2/:H> atom2: #<ATOM :H1/:H> i1: 468 i2: 465\n",
      " atom1: #<ATOM :H1/:H> atom2: #<ATOM :O/:O> i1: 474 i2: 471\n",
      " atom1: #<ATOM :H2/:H> atom2: #<ATOM :O/:O> i1: 477 i2: 471\n",
      " atom1: #<ATOM :H2/:H> atom2: #<ATOM :H1/:H> i1: 477 i2: 474\n",
      " atom1: #<ATOM :H1/:H> atom2: #<ATOM :O/:O> i1: 483 i2: 480\n",
      " atom1: #<ATOM :H2/:H> atom2: #<ATOM :O/:O> i1: 486 i2: 480\n",
      " atom1: #<ATOM :H2/:H> atom2: #<ATOM :H1/:H> i1: 486 i2: 483\n",
      " atom1: #<ATOM :H1/:H> atom2: #<ATOM :O/:O> i1: 492 i2: 489\n",
      " atom1: #<ATOM :H2/:H> atom2: #<ATOM :O/:O> i1: 495 i2: 489\n",
      " atom1: #<ATOM :H2/:H> atom2: #<ATOM :H1/:H> i1: 495 i2: 492\n",
      " atom1: #<ATOM :H1/:H> atom2: #<ATOM :O/:O> i1: 501 i2: 498\n",
      " atom1: #<ATOM :H2/:H> atom2: #<ATOM :O/:O> i1: 504 i2: 498\n",
      " atom1: #<ATOM :H2/:H> atom2: #<ATOM :H1/:H> i1: 504 i2: 501\n",
      " atom1: #<ATOM :H1/:H> atom2: #<ATOM :O/:O> i1: 510 i2: 507\n",
      " atom1: #<ATOM :H2/:H> atom2: #<ATOM :O/:O> i1: 513 i2: 507\n",
      " atom1: #<ATOM :H2/:H> atom2: #<ATOM :H1/:H> i1: 513 i2: 510\n",
      " atom1: #<ATOM :H1/:H> atom2: #<ATOM :O/:O> i1: 519 i2: 516\n",
      " atom1: #<ATOM :H2/:H> atom2: #<ATOM :O/:O> i1: 522 i2: 516\n",
      " atom1: #<ATOM :H2/:H> atom2: #<ATOM :H1/:H> i1: 522 i2: 519\n",
      " atom1: #<ATOM :H1/:H> atom2: #<ATOM :O/:O> i1: 528 i2: 525\n",
      " atom1: #<ATOM :H2/:H> atom2: #<ATOM :O/:O> i1: 531 i2: 525\n",
      " atom1: #<ATOM :H2/:H> atom2: #<ATOM :H1/:H> i1: 531 i2: 528\n",
      " atom1: #<ATOM :H1/:H> atom2: #<ATOM :O/:O> i1: 537 i2: 534\n",
      " atom1: #<ATOM :H2/:H> atom2: #<ATOM :O/:O> i1: 540 i2: 534\n",
      " atom1: #<ATOM :H2/:H> atom2: #<ATOM :H1/:H> i1: 540 i2: 537\n",
      " atom1: #<ATOM :H1/:H> atom2: #<ATOM :O/:O> i1: 546 i2: 543\n",
      " atom1: #<ATOM :H2/:H> atom2: #<ATOM :O/:O> i1: 549 i2: 543\n",
      " atom1: #<ATOM :H2/:H> atom2: #<ATOM :H1/:H> i1: 549 i2: 546\n",
      " atom1: #<ATOM :H1/:H> atom2: #<ATOM :O/:O> i1: 555 i2: 552\n",
      " atom1: #<ATOM :H2/:H> atom2: #<ATOM :O/:O> i1: 558 i2: 552\n",
      " atom1: #<ATOM :H2/:H> atom2: #<ATOM :H1/:H> i1: 558 i2: 555\n",
      " atom1: #<ATOM :H1/:H> atom2: #<ATOM :O/:O> i1: 564 i2: 561\n",
      " atom1: #<ATOM :H2/:H> atom2: #<ATOM :O/:O> i1: 567 i2: 561\n",
      " atom1: #<ATOM :H2/:H> atom2: #<ATOM :H1/:H> i1: 567 i2: 564\n",
      " atom1: #<ATOM :H1/:H> atom2: #<ATOM :O/:O> i1: 573 i2: 570\n",
      " atom1: #<ATOM :H2/:H> atom2: #<ATOM :O/:O> i1: 576 i2: 570\n",
      " atom1: #<ATOM :H2/:H> atom2: #<ATOM :H1/:H> i1: 576 i2: 573\n",
      " atom1: #<ATOM :H1/:H> atom2: #<ATOM :O/:O> i1: 582 i2: 579\n",
      " atom1: #<ATOM :H2/:H> atom2: #<ATOM :O/:O> i1: 585 i2: 579\n",
      " atom1: #<ATOM :H2/:H> atom2: #<ATOM :H1/:H> i1: 585 i2: 582\n",
      " atom1: #<ATOM :H1/:H> atom2: #<ATOM :O/:O> i1: 591 i2: 588\n",
      " atom1: #<ATOM :H2/:H> atom2: #<ATOM :O/:O> i1: 594 i2: 588\n",
      " atom1: #<ATOM :H2/:H> atom2: #<ATOM :H1/:H> i1: 594 i2: 591\n",
      " atom1: #<ATOM :H1/:H> atom2: #<ATOM :O/:O> i1: 600 i2: 597\n",
      " atom1: #<ATOM :H2/:H> atom2: #<ATOM :O/:O> i1: 603 i2: 597\n",
      " atom1: #<ATOM :H2/:H> atom2: #<ATOM :H1/:H> i1: 603 i2: 600\n",
      " atom1: #<ATOM :H1/:H> atom2: #<ATOM :O/:O> i1: 609 i2: 606\n",
      " atom1: #<ATOM :H2/:H> atom2: #<ATOM :O/:O> i1: 612 i2: 606\n",
      " atom1: #<ATOM :H2/:H> atom2: #<ATOM :H1/:H> i1: 612 i2: 609\n",
      " atom1: #<ATOM :H1/:H> atom2: #<ATOM :O/:O> i1: 618 i2: 615\n",
      " atom1: #<ATOM :H2/:H> atom2: #<ATOM :O/:O> i1: 621 i2: 615\n",
      " atom1: #<ATOM :H2/:H> atom2: #<ATOM :H1/:H> i1: 621 i2: 618\n",
      " atom1: #<ATOM :H1/:H> atom2: #<ATOM :O/:O> i1: 627 i2: 624\n",
      " atom1: #<ATOM :H2/:H> atom2: #<ATOM :O/:O> i1: 630 i2: 624\n",
      " atom1: #<ATOM :H2/:H> atom2: #<ATOM :H1/:H> i1: 630 i2: 627\n",
      " atom1: #<ATOM :H1/:H> atom2: #<ATOM :O/:O> i1: 636 i2: 633\n",
      " atom1: #<ATOM :H2/:H> atom2: #<ATOM :O/:O> i1: 639 i2: 633\n",
      " atom1: #<ATOM :H2/:H> atom2: #<ATOM :H1/:H> i1: 639 i2: 636\n",
      " atom1: #<ATOM :NH/:N> atom2: #<ATOM :C/:C> atom3: #<ATOM :O/:O>  key: N-C-O\n",
      " atom1: #<ATOM :NH/:N> atom2: #<ATOM :C/:C> atom3: #<ATOM :C/:C>  key: CX-C-N\n",
      " atom1: #<ATOM :NH/:N> atom2: #<ATOM :CH3/:C> atom3: #<ATOM :HH31/:H>  key: H1-CT-N\n",
      " atom1: #<ATOM :NH/:N> atom2: #<ATOM :CH3/:C> atom3: #<ATOM :HH32/:H>  key: H1-CT-N\n",
      " atom1: #<ATOM :NH/:N> atom2: #<ATOM :CH3/:C> atom3: #<ATOM :HH33/:H>  key: H1-CT-N\n",
      " atom1: #<ATOM :CH3/:C> atom2: #<ATOM :NH/:N> atom3: #<ATOM :C/:C>  key: C-N-CT\n",
      " atom1: #<ATOM :CH3/:C> atom2: #<ATOM :NH/:N> atom3: #<ATOM :HH/:H>  key: CT-N-H\n",
      " atom1: #<ATOM :HH31/:H> atom2: #<ATOM :CH3/:C> atom3: #<ATOM :HH32/:H>  key: H1-CT-H1\n",
      " atom1: #<ATOM :HH31/:H> atom2: #<ATOM :CH3/:C> atom3: #<ATOM :HH33/:H>  key: H1-CT-H1\n",
      " atom1: #<ATOM :HH32/:H> atom2: #<ATOM :CH3/:C> atom3: #<ATOM :HH33/:H>  key: H1-CT-H1\n",
      " atom1: #<ATOM :HH/:H> atom2: #<ATOM :NH/:N> atom3: #<ATOM :C/:C>  key: C-N-H\n",
      " atom1: #<ATOM :O/:O> atom2: #<ATOM :C/:C> atom3: #<ATOM :C/:C>  key: CX-C-O\n",
      " atom1: #<ATOM :C/:C> atom2: #<ATOM :C/:C> atom3: #<ATOM :NH/:N>  key: C-CX-N\n",
      " atom1: #<ATOM :C/:C> atom2: #<ATOM :C/:C> atom3: #<ATOM :CH3/:C>  key: C-CX-CT\n",
      " atom1: #<ATOM :C/:C> atom2: #<ATOM :C/:C> atom3: #<ATOM :H/:H>  key: C-CX-H1\n",
      " atom1: #<ATOM :C/:C> atom2: #<ATOM :NH/:N> atom3: #<ATOM :C/:C>  key: C-N-CX\n",
      " atom1: #<ATOM :C/:C> atom2: #<ATOM :NH/:N> atom3: #<ATOM :HH/:H>  key: CX-N-H\n",
      " atom1: #<ATOM :C/:C> atom2: #<ATOM :CH3/:C> atom3: #<ATOM :HH31/:H>  key: CX-CT-HC\n",
      " atom1: #<ATOM :C/:C> atom2: #<ATOM :CH3/:C> atom3: #<ATOM :HH32/:H>  key: CX-CT-HC\n",
      " atom1: #<ATOM :C/:C> atom2: #<ATOM :CH3/:C> atom3: #<ATOM :HH33/:H>  key: CX-CT-HC\n",
      " atom1: #<ATOM :NH/:N> atom2: #<ATOM :C/:C> atom3: #<ATOM :CH3/:C>  key: CT-CX-N\n",
      " atom1: #<ATOM :NH/:N> atom2: #<ATOM :C/:C> atom3: #<ATOM :H/:H>  key: H1-CX-N\n",
      " atom1: #<ATOM :NH/:N> atom2: #<ATOM :C/:C> atom3: #<ATOM :O/:O>  key: N-C-O\n",
      " atom1: #<ATOM :NH/:N> atom2: #<ATOM :C/:C> atom3: #<ATOM :CH3/:C>  key: CT-C-N\n",
      " atom1: #<ATOM :H/:H> atom2: #<ATOM :C/:C> atom3: #<ATOM :CH3/:C>  key: CT-CX-H1\n",
      " atom1: #<ATOM :HH31/:H> atom2: #<ATOM :CH3/:C> atom3: #<ATOM :HH32/:H>  key: HC-CT-HC\n",
      " atom1: #<ATOM :HH31/:H> atom2: #<ATOM :CH3/:C> atom3: #<ATOM :HH33/:H>  key: HC-CT-HC\n",
      " atom1: #<ATOM :HH32/:H> atom2: #<ATOM :CH3/:C> atom3: #<ATOM :HH33/:H>  key: HC-CT-HC\n",
      " atom1: #<ATOM :HH/:H> atom2: #<ATOM :NH/:N> atom3: #<ATOM :C/:C>  key: C-N-H\n",
      " atom1: #<ATOM :O/:O> atom2: #<ATOM :C/:C> atom3: #<ATOM :CH3/:C>  key: CT-C-O\n",
      " atom1: #<ATOM :C/:C> atom2: #<ATOM :CH3/:C> atom3: #<ATOM :HH31/:H>  key: C-CT-HC\n",
      " atom1: #<ATOM :C/:C> atom2: #<ATOM :CH3/:C> atom3: #<ATOM :HH32/:H>  key: C-CT-HC\n",
      " atom1: #<ATOM :C/:C> atom2: #<ATOM :CH3/:C> atom3: #<ATOM :HH33/:H>  key: C-CT-HC\n",
      " atom1: #<ATOM :HH31/:H> atom2: #<ATOM :CH3/:C> atom3: #<ATOM :HH32/:H>  key: HC-CT-HC\n",
      " atom1: #<ATOM :HH31/:H> atom2: #<ATOM :CH3/:C> atom3: #<ATOM :HH33/:H>  key: HC-CT-HC\n",
      " atom1: #<ATOM :HH32/:H> atom2: #<ATOM :CH3/:C> atom3: #<ATOM :HH33/:H>  key: HC-CT-HC\n",
      " atom1: #<ATOM :O/:O> atom2: #<ATOM :H1/:H> atom3: #<ATOM :H2/:H>  key: HW-HW-OW\n",
      " atom1: #<ATOM :O/:O> atom2: #<ATOM :H2/:H> atom3: #<ATOM :H1/:H>  key: HW-HW-OW\n",
      " atom1: #<ATOM :H1/:H> atom2: #<ATOM :O/:O> atom3: #<ATOM :H2/:H>  key: HW-OW-HW\n",
      " atom1: #<ATOM :O/:O> atom2: #<ATOM :H1/:H> atom3: #<ATOM :H2/:H>  key: HW-HW-OW\n",
      " atom1: #<ATOM :O/:O> atom2: #<ATOM :H2/:H> atom3: #<ATOM :H1/:H>  key: HW-HW-OW\n",
      " atom1: #<ATOM :H1/:H> atom2: #<ATOM :O/:O> atom3: #<ATOM :H2/:H>  key: HW-OW-HW\n",
      " atom1: #<ATOM :O/:O> atom2: #<ATOM :H1/:H> atom3: #<ATOM :H2/:H>  key: HW-HW-OW\n",
      " atom1: #<ATOM :O/:O> atom2: #<ATOM :H2/:H> atom3: #<ATOM :H1/:H>  key: HW-HW-OW\n",
      " atom1: #<ATOM :H1/:H> atom2: #<ATOM :O/:O> atom3: #<ATOM :H2/:H>  key: HW-OW-HW\n",
      " atom1: #<ATOM :O/:O> atom2: #<ATOM :H1/:H> atom3: #<ATOM :H2/:H>  key: HW-HW-OW\n",
      " atom1: #<ATOM :O/:O> atom2: #<ATOM :H2/:H> atom3: #<ATOM :H1/:H>  key: HW-HW-OW\n",
      " atom1: #<ATOM :H1/:H> atom2: #<ATOM :O/:O> atom3: #<ATOM :H2/:H>  key: HW-OW-HW\n",
      " atom1: #<ATOM :O/:O> atom2: #<ATOM :H1/:H> atom3: #<ATOM :H2/:H>  key: HW-HW-OW\n",
      " atom1: #<ATOM :O/:O> atom2: #<ATOM :H2/:H> atom3: #<ATOM :H1/:H>  key: HW-HW-OW\n",
      " atom1: #<ATOM :H1/:H> atom2: #<ATOM :O/:O> atom3: #<ATOM :H2/:H>  key: HW-OW-HW\n",
      " atom1: #<ATOM :O/:O> atom2: #<ATOM :H1/:H> atom3: #<ATOM :H2/:H>  key: HW-HW-OW\n",
      " atom1: #<ATOM :O/:O> atom2: #<ATOM :H2/:H> atom3: #<ATOM :H1/:H>  key: HW-HW-OW\n",
      " atom1: #<ATOM :H1/:H> atom2: #<ATOM :O/:O> atom3: #<ATOM :H2/:H>  key: HW-OW-HW\n",
      " atom1: #<ATOM :O/:O> atom2: #<ATOM :H1/:H> atom3: #<ATOM :H2/:H>  key: HW-HW-OW\n",
      " atom1: #<ATOM :O/:O> atom2: #<ATOM :H2/:H> atom3: #<ATOM :H1/:H>  key: HW-HW-OW\n",
      " atom1: #<ATOM :H1/:H> atom2: #<ATOM :O/:O> atom3: #<ATOM :H2/:H>  key: HW-OW-HW\n",
      " atom1: #<ATOM :O/:O> atom2: #<ATOM :H1/:H> atom3: #<ATOM :H2/:H>  key: HW-HW-OW\n",
      " atom1: #<ATOM :O/:O> atom2: #<ATOM :H2/:H> atom3: #<ATOM :H1/:H>  key: HW-HW-OW\n",
      " atom1: #<ATOM :H1/:H> atom2: #<ATOM :O/:O> atom3: #<ATOM :H2/:H>  key: HW-OW-HW\n",
      " atom1: #<ATOM :O/:O> atom2: #<ATOM :H1/:H> atom3: #<ATOM :H2/:H>  key: HW-HW-OW\n",
      " atom1: #<ATOM :O/:O> atom2: #<ATOM :H2/:H> atom3: #<ATOM :H1/:H>  key: HW-HW-OW\n",
      " atom1: #<ATOM :H1/:H> atom2: #<ATOM :O/:O> atom3: #<ATOM :H2/:H>  key: HW-OW-HW\n",
      " atom1: #<ATOM :O/:O> atom2: #<ATOM :H1/:H> atom3: #<ATOM :H2/:H>  key: HW-HW-OW\n",
      " atom1: #<ATOM :O/:O> atom2: #<ATOM :H2/:H> atom3: #<ATOM :H1/:H>  key: HW-HW-OW\n",
      " atom1: #<ATOM :H1/:H> atom2: #<ATOM :O/:O> atom3: #<ATOM :H2/:H>  key: HW-OW-HW\n",
      " atom1: #<ATOM :O/:O> atom2: #<ATOM :H1/:H> atom3: #<ATOM :H2/:H>  key: HW-HW-OW\n",
      " atom1: #<ATOM :O/:O> atom2: #<ATOM :H2/:H> atom3: #<ATOM :H1/:H>  key: HW-HW-OW\n",
      " atom1: #<ATOM :H1/:H> atom2: #<ATOM :O/:O> atom3: #<ATOM :H2/:H>  key: HW-OW-HW\n",
      " atom1: #<ATOM :O/:O> atom2: #<ATOM :H1/:H> atom3: #<ATOM :H2/:H>  key: HW-HW-OW\n",
      " atom1: #<ATOM :O/:O> atom2: #<ATOM :H2/:H> atom3: #<ATOM :H1/:H>  key: HW-HW-OW\n",
      " atom1: #<ATOM :H1/:H> atom2: #<ATOM :O/:O> atom3: #<ATOM :H2/:H>  key: HW-OW-HW\n",
      " atom1: #<ATOM :O/:O> atom2: #<ATOM :H1/:H> atom3: #<ATOM :H2/:H>  key: HW-HW-OW\n",
      " atom1: #<ATOM :O/:O> atom2: #<ATOM :H2/:H> atom3: #<ATOM :H1/:H>  key: HW-HW-OW\n",
      " atom1: #<ATOM :H1/:H> atom2: #<ATOM :O/:O> atom3: #<ATOM :H2/:H>  key: HW-OW-HW\n",
      " atom1: #<ATOM :O/:O> atom2: #<ATOM :H1/:H> atom3: #<ATOM :H2/:H>  key: HW-HW-OW\n",
      " atom1: #<ATOM :O/:O> atom2: #<ATOM :H2/:H> atom3: #<ATOM :H1/:H>  key: HW-HW-OW\n",
      " atom1: #<ATOM :H1/:H> atom2: #<ATOM :O/:O> atom3: #<ATOM :H2/:H>  key: HW-OW-HW\n",
      " atom1: #<ATOM :O/:O> atom2: #<ATOM :H1/:H> atom3: #<ATOM :H2/:H>  key: HW-HW-OW\n",
      " atom1: #<ATOM :O/:O> atom2: #<ATOM :H2/:H> atom3: #<ATOM :H1/:H>  key: HW-HW-OW\n",
      " atom1: #<ATOM :H1/:H> atom2: #<ATOM :O/:O> atom3: #<ATOM :H2/:H>  key: HW-OW-HW\n",
      " atom1: #<ATOM :O/:O> atom2: #<ATOM :H1/:H> atom3: #<ATOM :H2/:H>  key: HW-HW-OW\n",
      " atom1: #<ATOM :O/:O> atom2: #<ATOM :H2/:H> atom3: #<ATOM :H1/:H>  key: HW-HW-OW\n",
      " atom1: #<ATOM :H1/:H> atom2: #<ATOM :O/:O> atom3: #<ATOM :H2/:H>  key: HW-OW-HW\n",
      " atom1: #<ATOM :O/:O> atom2: #<ATOM :H1/:H> atom3: #<ATOM :H2/:H>  key: HW-HW-OW\n",
      " atom1: #<ATOM :O/:O> atom2: #<ATOM :H2/:H> atom3: #<ATOM :H1/:H>  key: HW-HW-OW\n",
      " atom1: #<ATOM :H1/:H> atom2: #<ATOM :O/:O> atom3: #<ATOM :H2/:H>  key: HW-OW-HW\n",
      " atom1: #<ATOM :O/:O> atom2: #<ATOM :H1/:H> atom3: #<ATOM :H2/:H>  key: HW-HW-OW\n",
      " atom1: #<ATOM :O/:O> atom2: #<ATOM :H2/:H> atom3: #<ATOM :H1/:H>  key: HW-HW-OW\n",
      " atom1: #<ATOM :H1/:H> atom2: #<ATOM :O/:O> atom3: #<ATOM :H2/:H>  key: HW-OW-HW\n",
      " atom1: #<ATOM :O/:O> atom2: #<ATOM :H1/:H> atom3: #<ATOM :H2/:H>  key: HW-HW-OW\n",
      " atom1: #<ATOM :O/:O> atom2: #<ATOM :H2/:H> atom3: #<ATOM :H1/:H>  key: HW-HW-OW\n",
      " atom1: #<ATOM :H1/:H> atom2: #<ATOM :O/:O> atom3: #<ATOM :H2/:H>  key: HW-OW-HW\n",
      " atom1: #<ATOM :O/:O> atom2: #<ATOM :H1/:H> atom3: #<ATOM :H2/:H>  key: HW-HW-OW\n",
      " atom1: #<ATOM :O/:O> atom2: #<ATOM :H2/:H> atom3: #<ATOM :H1/:H>  key: HW-HW-OW\n",
      " atom1: #<ATOM :H1/:H> atom2: #<ATOM :O/:O> atom3: #<ATOM :H2/:H>  key: HW-OW-HW\n",
      " atom1: #<ATOM :O/:O> atom2: #<ATOM :H1/:H> atom3: #<ATOM :H2/:H>  key: HW-HW-OW\n",
      " atom1: #<ATOM :O/:O> atom2: #<ATOM :H2/:H> atom3: #<ATOM :H1/:H>  key: HW-HW-OW\n",
      " atom1: #<ATOM :H1/:H> atom2: #<ATOM :O/:O> atom3: #<ATOM :H2/:H>  key: HW-OW-HW\n",
      " atom1: #<ATOM :O/:O> atom2: #<ATOM :H1/:H> atom3: #<ATOM :H2/:H>  key: HW-HW-OW\n",
      " atom1: #<ATOM :O/:O> atom2: #<ATOM :H2/:H> atom3: #<ATOM :H1/:H>  key: HW-HW-OW\n",
      " atom1: #<ATOM :H1/:H> atom2: #<ATOM :O/:O> atom3: #<ATOM :H2/:H>  key: HW-OW-HW\n",
      " atom1: #<ATOM :O/:O> atom2: #<ATOM :H1/:H> atom3: #<ATOM :H2/:H>  key: HW-HW-OW\n",
      " atom1: #<ATOM :O/:O> atom2: #<ATOM :H2/:H> atom3: #<ATOM :H1/:H>  key: HW-HW-OW\n",
      " atom1: #<ATOM :H1/:H> atom2: #<ATOM :O/:O> atom3: #<ATOM :H2/:H>  key: HW-OW-HW\n",
      " atom1: #<ATOM :O/:O> atom2: #<ATOM :H1/:H> atom3: #<ATOM :H2/:H>  key: HW-HW-OW\n",
      " atom1: #<ATOM :O/:O> atom2: #<ATOM :H2/:H> atom3: #<ATOM :H1/:H>  key: HW-HW-OW\n",
      " atom1: #<ATOM :H1/:H> atom2: #<ATOM :O/:O> atom3: #<ATOM :H2/:H>  key: HW-OW-HW\n",
      " atom1: #<ATOM :O/:O> atom2: #<ATOM :H1/:H> atom3: #<ATOM :H2/:H>  key: HW-HW-OW\n",
      " atom1: #<ATOM :O/:O> atom2: #<ATOM :H2/:H> atom3: #<ATOM :H1/:H>  key: HW-HW-OW\n",
      " atom1: #<ATOM :H1/:H> atom2: #<ATOM :O/:O> atom3: #<ATOM :H2/:H>  key: HW-OW-HW\n",
      " atom1: #<ATOM :O/:O> atom2: #<ATOM :H1/:H> atom3: #<ATOM :H2/:H>  key: HW-HW-OW\n",
      " atom1: #<ATOM :O/:O> atom2: #<ATOM :H2/:H> atom3: #<ATOM :H1/:H>  key: HW-HW-OW\n",
      " atom1: #<ATOM :H1/:H> atom2: #<ATOM :O/:O> atom3: #<ATOM :H2/:H>  key: HW-OW-HW\n",
      " atom1: #<ATOM :O/:O> atom2: #<ATOM :H1/:H> atom3: #<ATOM :H2/:H>  key: HW-HW-OW\n",
      " atom1: #<ATOM :O/:O> atom2: #<ATOM :H2/:H> atom3: #<ATOM :H1/:H>  key: HW-HW-OW\n",
      " atom1: #<ATOM :H1/:H> atom2: #<ATOM :O/:O> atom3: #<ATOM :H2/:H>  key: HW-OW-HW\n",
      " atom1: #<ATOM :O/:O> atom2: #<ATOM :H1/:H> atom3: #<ATOM :H2/:H>  key: HW-HW-OW\n",
      " atom1: #<ATOM :O/:O> atom2: #<ATOM :H2/:H> atom3: #<ATOM :H1/:H>  key: HW-HW-OW\n",
      " atom1: #<ATOM :H1/:H> atom2: #<ATOM :O/:O> atom3: #<ATOM :H2/:H>  key: HW-OW-HW\n",
      " atom1: #<ATOM :O/:O> atom2: #<ATOM :H1/:H> atom3: #<ATOM :H2/:H>  key: HW-HW-OW\n",
      " atom1: #<ATOM :O/:O> atom2: #<ATOM :H2/:H> atom3: #<ATOM :H1/:H>  key: HW-HW-OW\n",
      " atom1: #<ATOM :H1/:H> atom2: #<ATOM :O/:O> atom3: #<ATOM :H2/:H>  key: HW-OW-HW\n",
      " atom1: #<ATOM :O/:O> atom2: #<ATOM :H1/:H> atom3: #<ATOM :H2/:H>  key: HW-HW-OW\n",
      " atom1: #<ATOM :O/:O> atom2: #<ATOM :H2/:H> atom3: #<ATOM :H1/:H>  key: HW-HW-OW\n",
      " atom1: #<ATOM :H1/:H> atom2: #<ATOM :O/:O> atom3: #<ATOM :H2/:H>  key: HW-OW-HW\n",
      " atom1: #<ATOM :O/:O> atom2: #<ATOM :H1/:H> atom3: #<ATOM :H2/:H>  key: HW-HW-OW\n",
      " atom1: #<ATOM :O/:O> atom2: #<ATOM :H2/:H> atom3: #<ATOM :H1/:H>  key: HW-HW-OW\n",
      " atom1: #<ATOM :H1/:H> atom2: #<ATOM :O/:O> atom3: #<ATOM :H2/:H>  key: HW-OW-HW\n",
      " atom1: #<ATOM :O/:O> atom2: #<ATOM :H1/:H> atom3: #<ATOM :H2/:H>  key: HW-HW-OW\n",
      " atom1: #<ATOM :O/:O> atom2: #<ATOM :H2/:H> atom3: #<ATOM :H1/:H>  key: HW-HW-OW\n",
      " atom1: #<ATOM :H1/:H> atom2: #<ATOM :O/:O> atom3: #<ATOM :H2/:H>  key: HW-OW-HW\n",
      " atom1: #<ATOM :O/:O> atom2: #<ATOM :H1/:H> atom3: #<ATOM :H2/:H>  key: HW-HW-OW\n",
      " atom1: #<ATOM :O/:O> atom2: #<ATOM :H2/:H> atom3: #<ATOM :H1/:H>  key: HW-HW-OW\n",
      " atom1: #<ATOM :H1/:H> atom2: #<ATOM :O/:O> atom3: #<ATOM :H2/:H>  key: HW-OW-HW\n",
      " atom1: #<ATOM :O/:O> atom2: #<ATOM :H1/:H> atom3: #<ATOM :H2/:H>  key: HW-HW-OW\n",
      " atom1: #<ATOM :O/:O> atom2: #<ATOM :H2/:H> atom3: #<ATOM :H1/:H>  key: HW-HW-OW\n",
      " atom1: #<ATOM :H1/:H> atom2: #<ATOM :O/:O> atom3: #<ATOM :H2/:H>  key: HW-OW-HW\n",
      " atom1: #<ATOM :O/:O> atom2: #<ATOM :H1/:H> atom3: #<ATOM :H2/:H>  key: HW-HW-OW\n",
      " atom1: #<ATOM :O/:O> atom2: #<ATOM :H2/:H> atom3: #<ATOM :H1/:H>  key: HW-HW-OW\n",
      " atom1: #<ATOM :H1/:H> atom2: #<ATOM :O/:O> atom3: #<ATOM :H2/:H>  key: HW-OW-HW\n",
      " atom1: #<ATOM :O/:O> atom2: #<ATOM :H1/:H> atom3: #<ATOM :H2/:H>  key: HW-HW-OW\n",
      " atom1: #<ATOM :O/:O> atom2: #<ATOM :H2/:H> atom3: #<ATOM :H1/:H>  key: HW-HW-OW\n",
      " atom1: #<ATOM :H1/:H> atom2: #<ATOM :O/:O> atom3: #<ATOM :H2/:H>  key: HW-OW-HW\n",
      " atom1: #<ATOM :O/:O> atom2: #<ATOM :H1/:H> atom3: #<ATOM :H2/:H>  key: HW-HW-OW\n",
      " atom1: #<ATOM :O/:O> atom2: #<ATOM :H2/:H> atom3: #<ATOM :H1/:H>  key: HW-HW-OW\n",
      " atom1: #<ATOM :H1/:H> atom2: #<ATOM :O/:O> atom3: #<ATOM :H2/:H>  key: HW-OW-HW\n",
      " atom1: #<ATOM :O/:O> atom2: #<ATOM :H1/:H> atom3: #<ATOM :H2/:H>  key: HW-HW-OW\n",
      " atom1: #<ATOM :O/:O> atom2: #<ATOM :H2/:H> atom3: #<ATOM :H1/:H>  key: HW-HW-OW\n",
      " atom1: #<ATOM :H1/:H> atom2: #<ATOM :O/:O> atom3: #<ATOM :H2/:H>  key: HW-OW-HW\n",
      " atom1: #<ATOM :O/:O> atom2: #<ATOM :H1/:H> atom3: #<ATOM :H2/:H>  key: HW-HW-OW\n",
      " atom1: #<ATOM :O/:O> atom2: #<ATOM :H2/:H> atom3: #<ATOM :H1/:H>  key: HW-HW-OW\n",
      " atom1: #<ATOM :H1/:H> atom2: #<ATOM :O/:O> atom3: #<ATOM :H2/:H>  key: HW-OW-HW\n",
      " atom1: #<ATOM :O/:O> atom2: #<ATOM :H2/:H> atom3: #<ATOM :H1/:H>  key: HW-HW-OW\n",
      " atom1: #<ATOM :O/:O> atom2: #<ATOM :H1/:H> atom3: #<ATOM :H2/:H>  key: HW-HW-OW\n",
      " atom1: #<ATOM :H1/:H> atom2: #<ATOM :O/:O> atom3: #<ATOM :H2/:H>  key: HW-OW-HW\n",
      " atom1: #<ATOM :O/:O> atom2: #<ATOM :H1/:H> atom3: #<ATOM :H2/:H>  key: HW-HW-OW\n",
      " atom1: #<ATOM :O/:O> atom2: #<ATOM :H2/:H> atom3: #<ATOM :H1/:H>  key: HW-HW-OW\n",
      " atom1: #<ATOM :H1/:H> atom2: #<ATOM :O/:O> atom3: #<ATOM :H2/:H>  key: HW-OW-HW\n",
      " atom1: #<ATOM :O/:O> atom2: #<ATOM :H2/:H> atom3: #<ATOM :H1/:H>  key: HW-HW-OW\n",
      " atom1: #<ATOM :O/:O> atom2: #<ATOM :H1/:H> atom3: #<ATOM :H2/:H>  key: HW-HW-OW\n",
      " atom1: #<ATOM :H1/:H> atom2: #<ATOM :O/:O> atom3: #<ATOM :H2/:H>  key: HW-OW-HW\n",
      " atom1: #<ATOM :O/:O> atom2: #<ATOM :H1/:H> atom3: #<ATOM :H2/:H>  key: HW-HW-OW\n",
      " atom1: #<ATOM :O/:O> atom2: #<ATOM :H2/:H> atom3: #<ATOM :H1/:H>  key: HW-HW-OW\n",
      " atom1: #<ATOM :H1/:H> atom2: #<ATOM :O/:O> atom3: #<ATOM :H2/:H>  key: HW-OW-HW\n",
      " atom1: #<ATOM :O/:O> atom2: #<ATOM :H1/:H> atom3: #<ATOM :H2/:H>  key: HW-HW-OW\n",
      " atom1: #<ATOM :O/:O> atom2: #<ATOM :H2/:H> atom3: #<ATOM :H1/:H>  key: HW-HW-OW\n",
      " atom1: #<ATOM :H1/:H> atom2: #<ATOM :O/:O> atom3: #<ATOM :H2/:H>  key: HW-OW-HW\n",
      " atom1: #<ATOM :O/:O> atom2: #<ATOM :H1/:H> atom3: #<ATOM :H2/:H>  key: HW-HW-OW\n",
      " atom1: #<ATOM :O/:O> atom2: #<ATOM :H2/:H> atom3: #<ATOM :H1/:H>  key: HW-HW-OW\n",
      " atom1: #<ATOM :H1/:H> atom2: #<ATOM :O/:O> atom3: #<ATOM :H2/:H>  key: HW-OW-HW\n",
      " atom1: #<ATOM :O/:O> atom2: #<ATOM :H1/:H> atom3: #<ATOM :H2/:H>  key: HW-HW-OW\n",
      " atom1: #<ATOM :O/:O> atom2: #<ATOM :H2/:H> atom3: #<ATOM :H1/:H>  key: HW-HW-OW\n",
      " atom1: #<ATOM :H1/:H> atom2: #<ATOM :O/:O> atom3: #<ATOM :H2/:H>  key: HW-OW-HW\n",
      " atom1: #<ATOM :O/:O> atom2: #<ATOM :H2/:H> atom3: #<ATOM :H1/:H>  key: HW-HW-OW\n",
      " atom1: #<ATOM :O/:O> atom2: #<ATOM :H1/:H> atom3: #<ATOM :H2/:H>  key: HW-HW-OW\n",
      " atom1: #<ATOM :H1/:H> atom2: #<ATOM :O/:O> atom3: #<ATOM :H2/:H>  key: HW-OW-HW\n",
      " atom1: #<ATOM :O/:O> atom2: #<ATOM :H1/:H> atom3: #<ATOM :H2/:H>  key: HW-HW-OW\n",
      " atom1: #<ATOM :O/:O> atom2: #<ATOM :H2/:H> atom3: #<ATOM :H1/:H>  key: HW-HW-OW\n",
      " atom1: #<ATOM :H1/:H> atom2: #<ATOM :O/:O> atom3: #<ATOM :H2/:H>  key: HW-OW-HW\n",
      " atom1: #<ATOM :O/:O> atom2: #<ATOM :H1/:H> atom3: #<ATOM :H2/:H>  key: HW-HW-OW\n",
      " atom1: #<ATOM :O/:O> atom2: #<ATOM :H2/:H> atom3: #<ATOM :H1/:H>  key: HW-HW-OW\n",
      " atom1: #<ATOM :H1/:H> atom2: #<ATOM :O/:O> atom3: #<ATOM :H2/:H>  key: HW-OW-HW\n",
      " atom1: #<ATOM :O/:O> atom2: #<ATOM :H1/:H> atom3: #<ATOM :H2/:H>  key: HW-HW-OW\n",
      " atom1: #<ATOM :O/:O> atom2: #<ATOM :H2/:H> atom3: #<ATOM :H1/:H>  key: HW-HW-OW\n",
      " atom1: #<ATOM :H1/:H> atom2: #<ATOM :O/:O> atom3: #<ATOM :H2/:H>  key: HW-OW-HW\n",
      " atom1: #<ATOM :O/:O> atom2: #<ATOM :H1/:H> atom3: #<ATOM :H2/:H>  key: HW-HW-OW\n",
      " atom1: #<ATOM :O/:O> atom2: #<ATOM :H2/:H> atom3: #<ATOM :H1/:H>  key: HW-HW-OW\n",
      " atom1: #<ATOM :H1/:H> atom2: #<ATOM :O/:O> atom3: #<ATOM :H2/:H>  key: HW-OW-HW\n",
      " atom1: #<ATOM :O/:O> atom2: #<ATOM :H1/:H> atom3: #<ATOM :H2/:H>  key: HW-HW-OW\n",
      " atom1: #<ATOM :O/:O> atom2: #<ATOM :H2/:H> atom3: #<ATOM :H1/:H>  key: HW-HW-OW\n",
      " atom1: #<ATOM :H1/:H> atom2: #<ATOM :O/:O> atom3: #<ATOM :H2/:H>  key: HW-OW-HW\n",
      " atom1: #<ATOM :O/:O> atom2: #<ATOM :H1/:H> atom3: #<ATOM :H2/:H>  key: HW-HW-OW\n",
      " atom1: #<ATOM :O/:O> atom2: #<ATOM :H2/:H> atom3: #<ATOM :H1/:H>  key: HW-HW-OW\n",
      " atom1: #<ATOM :H1/:H> atom2: #<ATOM :O/:O> atom3: #<ATOM :H2/:H>  key: HW-OW-HW\n",
      " atom1: #<ATOM :O/:O> atom2: #<ATOM :H1/:H> atom3: #<ATOM :H2/:H>  key: HW-HW-OW\n",
      " atom1: #<ATOM :O/:O> atom2: #<ATOM :H2/:H> atom3: #<ATOM :H1/:H>  key: HW-HW-OW\n",
      " atom1: #<ATOM :H1/:H> atom2: #<ATOM :O/:O> atom3: #<ATOM :H2/:H>  key: HW-OW-HW\n",
      " atom1: #<ATOM :O/:O> atom2: #<ATOM :H1/:H> atom3: #<ATOM :H2/:H>  key: HW-HW-OW\n",
      " atom1: #<ATOM :O/:O> atom2: #<ATOM :H2/:H> atom3: #<ATOM :H1/:H>  key: HW-HW-OW\n",
      " atom1: #<ATOM :H1/:H> atom2: #<ATOM :O/:O> atom3: #<ATOM :H2/:H>  key: HW-OW-HW\n",
      " atom1: #<ATOM :O/:O> atom2: #<ATOM :H1/:H> atom3: #<ATOM :H2/:H>  key: HW-HW-OW\n",
      " atom1: #<ATOM :O/:O> atom2: #<ATOM :H2/:H> atom3: #<ATOM :H1/:H>  key: HW-HW-OW\n",
      " atom1: #<ATOM :H1/:H> atom2: #<ATOM :O/:O> atom3: #<ATOM :H2/:H>  key: HW-OW-HW\n",
      " atom1: #<ATOM :O/:O> atom2: #<ATOM :H1/:H> atom3: #<ATOM :H2/:H>  key: HW-HW-OW\n",
      " atom1: #<ATOM :O/:O> atom2: #<ATOM :H2/:H> atom3: #<ATOM :H1/:H>  key: HW-HW-OW\n",
      " atom1: #<ATOM :H1/:H> atom2: #<ATOM :O/:O> atom3: #<ATOM :H2/:H>  key: HW-OW-HW\n",
      " atom1: #<ATOM :O/:O> atom2: #<ATOM :H1/:H> atom3: #<ATOM :H2/:H>  key: HW-HW-OW\n",
      " atom1: #<ATOM :O/:O> atom2: #<ATOM :H2/:H> atom3: #<ATOM :H1/:H>  key: HW-HW-OW\n",
      " atom1: #<ATOM :H1/:H> atom2: #<ATOM :O/:O> atom3: #<ATOM :H2/:H>  key: HW-OW-HW\n",
      " atom1: #<ATOM :O/:O> atom2: #<ATOM :H1/:H> atom3: #<ATOM :H2/:H>  key: HW-HW-OW\n",
      " atom1: #<ATOM :O/:O> atom2: #<ATOM :H2/:H> atom3: #<ATOM :H1/:H>  key: HW-HW-OW\n",
      " atom1: #<ATOM :H1/:H> atom2: #<ATOM :O/:O> atom3: #<ATOM :H2/:H>  key: HW-OW-HW\n",
      " atom1: #<ATOM :O/:O> atom2: #<ATOM :H1/:H> atom3: #<ATOM :H2/:H>  key: HW-HW-OW\n",
      " atom1: #<ATOM :O/:O> atom2: #<ATOM :H2/:H> atom3: #<ATOM :H1/:H>  key: HW-HW-OW\n",
      " atom1: #<ATOM :H1/:H> atom2: #<ATOM :O/:O> atom3: #<ATOM :H2/:H>  key: HW-OW-HW\n",
      " atom1: #<ATOM :O/:O> atom2: #<ATOM :H2/:H> atom3: #<ATOM :H1/:H>  key: HW-HW-OW\n",
      " atom1: #<ATOM :O/:O> atom2: #<ATOM :H1/:H> atom3: #<ATOM :H2/:H>  key: HW-HW-OW\n",
      " atom1: #<ATOM :H1/:H> atom2: #<ATOM :O/:O> atom3: #<ATOM :H2/:H>  key: HW-OW-HW\n",
      " atom1: #<ATOM :O/:O> atom2: #<ATOM :H1/:H> atom3: #<ATOM :H2/:H>  key: HW-HW-OW\n",
      " atom1: #<ATOM :O/:O> atom2: #<ATOM :H2/:H> atom3: #<ATOM :H1/:H>  key: HW-HW-OW\n",
      " atom1: #<ATOM :H1/:H> atom2: #<ATOM :O/:O> atom3: #<ATOM :H2/:H>  key: HW-OW-HW\n",
      " atom1: #<ATOM :O/:O> atom2: #<ATOM :H1/:H> atom3: #<ATOM :H2/:H>  key: HW-HW-OW\n",
      " atom1: #<ATOM :O/:O> atom2: #<ATOM :H2/:H> atom3: #<ATOM :H1/:H>  key: HW-HW-OW\n",
      " atom1: #<ATOM :H1/:H> atom2: #<ATOM :O/:O> atom3: #<ATOM :H2/:H>  key: HW-OW-HW\n",
      " atom1: #<ATOM :O/:O> atom2: #<ATOM :H1/:H> atom3: #<ATOM :H2/:H>  key: HW-HW-OW\n",
      " atom1: #<ATOM :O/:O> atom2: #<ATOM :H2/:H> atom3: #<ATOM :H1/:H>  key: HW-HW-OW\n",
      " atom1: #<ATOM :H1/:H> atom2: #<ATOM :O/:O> atom3: #<ATOM :H2/:H>  key: HW-OW-HW\n",
      " v-vector #(0.45d0 1.58d0 0.55d0 0.0d0 0.2d0 0.2d0 0.4d0 0.0d0 0.0d0 2.5d0\n",
      "            2.5d0 0.0d0 0.0d0 0.0d0 0.0d0 0.0d0 0.0d0 2.0d0 2.5d0 2.5d0 0.0d0\n",
      "            0.0d0 0.7999999999999999d0 0.0d0 0.08d0 0.0d0 0.27d0 0.42d0 0.0d0\n",
      "            0.0d0 0.15555555555555556d0 0.15555555555555556d0\n",
      "            0.15555555555555556d0 2.5d0 2.5d0 0.15555555555555556d0\n",
      "            0.15555555555555556d0 0.15555555555555556d0 0.0d0 0.0d0 0.0d0 0.0d0\n",
      "            0.0d0 0.15555555555555556d0 0.15555555555555556d0\n",
      "            0.15555555555555556d0 2.0d0 1.8d0 0.8d0 0.0d0 0.0d0 2.0d0 2.5d0\n",
      "            2.5d0 0.7999999999999999d0 0.0d0 0.08d0 0.7999999999999999d0 0.0d0\n",
      "            0.08d0 0.7999999999999999d0 0.0d0 0.08d0 1.1d0 10.5d0 1.1d0 10.5d0)\n",
      "in-vector #(1 2 3 4 1 2 3 4 2 2 2 2 2 2 2 2 2 1 2 2 2 2 1 2 3 1 2 3 4 2 3 3 3 2\n",
      "            2 3 3 3 2 2 2 2 2 3 3 3 1 2 3 4 2 1 2 2 1 2 3 1 2 3 1 2 3 2 2 2 2)\n",
      "phase-vector #(3.1415939703583717d0 3.1415939703583717d0 3.1415939703583717d0\n",
      "               0.0d0 0.0d0 0.0d0 0.0d0 0.0d0 0.0d0 3.1415939703583717d0\n",
      "               3.1415939703583717d0 0.0d0 0.0d0 0.0d0 0.0d0 0.0d0 0.0d0 0.0d0\n",
      "               3.1415939703583717d0 3.1415939703583717d0 0.0d0 0.0d0 0.0d0\n",
      "               0.0d0 3.1415939703583717d0 0.0d0 0.0d0 0.0d0 0.0d0 0.0d0 0.0d0\n",
      "               0.0d0 0.0d0 3.1415939703583717d0 3.1415939703583717d0 0.0d0\n",
      "               0.0d0 0.0d0 0.0d0 0.0d0 0.0d0 0.0d0 0.0d0 0.0d0 0.0d0 0.0d0\n",
      "               0.0d0 0.0d0 0.0d0 0.0d0 0.0d0 0.0d0 3.1415939703583717d0\n",
      "               3.1415939703583717d0 0.0d0 0.0d0 3.1415939703583717d0 0.0d0\n",
      "               0.0d0 3.1415939703583717d0 0.0d0 0.0d0 3.1415939703583717d0\n",
      "               3.1415940000000004d0 3.1415940000000004d0 3.1415940000000004d0\n",
      "               3.1415940000000004d0)\n",
      "i1-vector #(0 0 0 0 0 0 0 0 0 3 3 6 6 9 9 12 12 15 15 15 18 18 18 18 18 21 21\n",
      "            21 21 21 21 21 21 24 24 27 27 27 27 27 27 30 30 30 30 30 33 33 33\n",
      "            33 33 45 45 45 48 48 48 48 48 48 48 48 48 21 24 51 54)\n",
      "i2-vector #(21 21 21 21 21 21 21 21 21 0 0 3 3 3 3 3 3 0 0 0 21 21 21 21 21 24\n",
      "            24 24 24 24 24 24 24 27 27 24 24 24 51 51 51 24 24 24 24 24 24 24\n",
      "            24 24 24 27 27 27 51 51 51 51 51 51 51 51 51 3 0 24 27)\n",
      "i3-vector #(24 24 24 24 24 24 24 24 24 21 21 0 0 0 0 0 0 21 21 21 24 24 24 24\n",
      "            24 27 27 27 27 27 33 33 33 51 51 33 33 33 54 54 54 27 27 33 33 33\n",
      "            27 27 27 27 27 51 51 51 54 54 54 54 54 54 54 54 54 0 21 27 51)\n",
      "i4-vector #(27 27 27 27 33 33 33 33 30 18 24 21 15 21 15 21 15 18 18 24 27 33\n",
      "            30 30 30 51 51 51 51 45 36 39 42 48 54 36 39 42 57 60 63 51 45 36\n",
      "            39 42 51 51 51 51 45 48 48 54 57 57 57 60 60 60 63 63 63 15 18 45\n",
      "            48)\n",
      "proper-vector #(T T T T T T T T T T T T T T T T T T T T T T T T T T T T T T T T\n",
      "                T T T T T T T T T T T T T T T T T T T T T T T T T T T T T T T\n",
      "                NIL NIL NIL NIL)\n",
      "atom1: #<ATOM :NH/:N> atom2: #<ATOM :C/:C> atom3: #<ATOM :C/:C> atom4 #<ATOM :NH/:N> key: 0.45-1-3.1415939703583717 vi: 0.45d0 ini 1 phase 3.1415939703583717d0\n",
      "  0.45d0 1\n",
      " atom1: #<ATOM :NH/:N> atom2: #<ATOM :C/:C> atom3: #<ATOM :C/:C> atom4 #<ATOM :NH/:N> key: 1.58-2-3.1415939703583717 vi: 1.58d0 ini 2 phase 3.1415939703583717d0\n",
      "  1.58d0 2\n",
      " atom1: #<ATOM :NH/:N> atom2: #<ATOM :C/:C> atom3: #<ATOM :C/:C> atom4 #<ATOM :NH/:N> key: 0.55-3-3.1415939703583717 vi: 0.55d0 ini 3 phase 3.1415939703583717d0\n",
      "  0.55d0 3\n",
      " atom1: #<ATOM :NH/:N> atom2: #<ATOM :C/:C> atom3: #<ATOM :C/:C> atom4 #<ATOM :NH/:N> key: 0.0-4-0.0 vi: 0.0d0 ini 4 phase 0.0d0\n",
      "  0.0d0 4\n",
      " atom1: #<ATOM :NH/:N> atom2: #<ATOM :C/:C> atom3: #<ATOM :C/:C> atom4 #<ATOM :CH3/:C> key: 0.2-1-0.0 vi: 0.2d0 ini 1 phase 0.0d0\n",
      "  0.2d0 1\n",
      " atom1: #<ATOM :NH/:N> atom2: #<ATOM :C/:C> atom3: #<ATOM :C/:C> atom4 #<ATOM :CH3/:C> key: 0.2-2-0.0 vi: 0.2d0 ini 2 phase 0.0d0\n",
      "  0.2d0 2\n",
      " atom1: #<ATOM :NH/:N> atom2: #<ATOM :C/:C> atom3: #<ATOM :C/:C> atom4 #<ATOM :CH3/:C> key: 0.4-3-0.0 vi: 0.4d0 ini 3 phase 0.0d0\n",
      "  0.4d0 3\n",
      " atom1: #<ATOM :NH/:N> atom2: #<ATOM :C/:C> atom3: #<ATOM :C/:C> atom4 #<ATOM :CH3/:C> key: 0.0-4-0.0 vi: 0.0d0 ini 4 phase 0.0d0\n",
      " atom1: #<ATOM :NH/:N> atom2: #<ATOM :C/:C> atom3: #<ATOM :C/:C> atom4 #<ATOM :H/:H> key: 0.0-2-0.0 vi: 0.0d0 ini 2 phase 0.0d0\n",
      "  0.0d0 2\n",
      " atom1: #<ATOM :CH3/:C> atom2: #<ATOM :NH/:N> atom3: #<ATOM :C/:C> atom4 #<ATOM :O/:O> key: 2.5-2-3.1415939703583717 vi: 2.5d0 ini 2 phase 3.1415939703583717d0\n",
      "  2.5d0 2\n",
      " atom1: #<ATOM :CH3/:C> atom2: #<ATOM :NH/:N> atom3: #<ATOM :C/:C> atom4 #<ATOM :C/:C> key: 2.5-2-3.1415939703583717 vi: 2.5d0 ini 2 phase 3.1415939703583717d0\n",
      " atom1: #<ATOM :HH31/:H> atom2: #<ATOM :CH3/:C> atom3: #<ATOM :NH/:N> atom4 #<ATOM :C/:C> key: 0.0-2-0.0 vi: 0.0d0 ini 2 phase 0.0d0\n",
      " atom1: #<ATOM :HH31/:H> atom2: #<ATOM :CH3/:C> atom3: #<ATOM :NH/:N> atom4 #<ATOM :HH/:H> key: 0.0-2-0.0 vi: 0.0d0 ini 2 phase 0.0d0\n",
      " atom1: #<ATOM :HH32/:H> atom2: #<ATOM :CH3/:C> atom3: #<ATOM :NH/:N> atom4 #<ATOM :C/:C> key: 0.0-2-0.0 vi: 0.0d0 ini 2 phase 0.0d0\n",
      " atom1: #<ATOM :HH32/:H> atom2: #<ATOM :CH3/:C> atom3: #<ATOM :NH/:N> atom4 #<ATOM :HH/:H> key: 0.0-2-0.0 vi: 0.0d0 ini 2 phase 0.0d0\n",
      " atom1: #<ATOM :HH33/:H> atom2: #<ATOM :CH3/:C> atom3: #<ATOM :NH/:N> atom4 #<ATOM :C/:C> key: 0.0-2-0.0 vi: 0.0d0 ini 2 phase 0.0d0\n",
      " atom1: #<ATOM :HH33/:H> atom2: #<ATOM :CH3/:C> atom3: #<ATOM :NH/:N> atom4 #<ATOM :HH/:H> key: 0.0-2-0.0 vi: 0.0d0 ini 2 phase 0.0d0\n",
      " atom1: #<ATOM :HH/:H> atom2: #<ATOM :NH/:N> atom3: #<ATOM :C/:C> atom4 #<ATOM :O/:O> key: 2.0-1-0.0 vi: 2.0d0 ini 1 phase 0.0d0\n",
      "  2.0d0 1\n",
      " atom1: #<ATOM :HH/:H> atom2: #<ATOM :NH/:N> atom3: #<ATOM :C/:C> atom4 #<ATOM :O/:O> key: 2.5-2-3.1415939703583717 vi: 2.5d0 ini 2 phase 3.1415939703583717d0\n",
      " atom1: #<ATOM :HH/:H> atom2: #<ATOM :NH/:N> atom3: #<ATOM :C/:C> atom4 #<ATOM :C/:C> key: 2.5-2-3.1415939703583717 vi: 2.5d0 ini 2 phase 3.1415939703583717d0\n",
      " atom1: #<ATOM :O/:O> atom2: #<ATOM :C/:C> atom3: #<ATOM :C/:C> atom4 #<ATOM :NH/:N> key: 0.0-2-0.0 vi: 0.0d0 ini 2 phase 0.0d0\n",
      " atom1: #<ATOM :O/:O> atom2: #<ATOM :C/:C> atom3: #<ATOM :C/:C> atom4 #<ATOM :CH3/:C> key: 0.0-2-0.0 vi: 0.0d0 ini 2 phase 0.0d0\n",
      " atom1: #<ATOM :O/:O> atom2: #<ATOM :C/:C> atom3: #<ATOM :C/:C> atom4 #<ATOM :H/:H> key: 0.7999999999999999-1-0.0 vi: 0.7999999999999999d0 ini 1 phase 0.0d0\n",
      "  0.7999999999999999d0 1\n",
      " atom1: #<ATOM :O/:O> atom2: #<ATOM :C/:C> atom3: #<ATOM :C/:C> atom4 #<ATOM :H/:H> key: 0.0-2-0.0 vi: 0.0d0 ini 2 phase 0.0d0\n",
      " atom1: #<ATOM :O/:O> atom2: #<ATOM :C/:C> atom3: #<ATOM :C/:C> atom4 #<ATOM :H/:H> key: 0.08-3-3.1415939703583717 vi: 0.08d0 ini 3 phase 3.1415939703583717d0\n",
      "  0.08d0 3\n",
      " atom1: #<ATOM :C/:C> atom2: #<ATOM :C/:C> atom3: #<ATOM :NH/:N> atom4 #<ATOM :C/:C> key: 0.0-1-0.0 vi: 0.0d0 ini 1 phase 0.0d0\n",
      "  0.0d0 1\n",
      " atom1: #<ATOM :C/:C> atom2: #<ATOM :C/:C> atom3: #<ATOM :NH/:N> atom4 #<ATOM :C/:C> key: 0.27-2-0.0 vi: 0.27d0 ini 2 phase 0.0d0\n",
      "  0.27d0 2\n",
      " atom1: #<ATOM :C/:C> atom2: #<ATOM :C/:C> atom3: #<ATOM :NH/:N> atom4 #<ATOM :C/:C> key: 0.42-3-0.0 vi: 0.42d0 ini 3 phase 0.0d0\n",
      "  0.42d0 3\n",
      " atom1: #<ATOM :C/:C> atom2: #<ATOM :C/:C> atom3: #<ATOM :NH/:N> atom4 #<ATOM :C/:C> key: 0.0-4-0.0 vi: 0.0d0 ini 4 phase 0.0d0\n",
      " atom1: #<ATOM :C/:C> atom2: #<ATOM :C/:C> atom3: #<ATOM :NH/:N> atom4 #<ATOM :HH/:H> key: 0.0-2-0.0 vi: 0.0d0 ini 2 phase 0.0d0\n",
      " atom1: #<ATOM :C/:C> atom2: #<ATOM :C/:C> atom3: #<ATOM :CH3/:C> atom4 #<ATOM :HH31/:H> key: 0.15555555555555556-3-0.0 vi: 0.15555555555555556d0 ini 3 phase 0.0d0\n",
      "  0.15555555555555556d0 3\n",
      " atom1: #<ATOM :C/:C> atom2: #<ATOM :C/:C> atom3: #<ATOM :CH3/:C> atom4 #<ATOM :HH32/:H> key: 0.15555555555555556-3-0.0 vi: 0.15555555555555556d0 ini 3 phase 0.0d0\n",
      " atom1: #<ATOM :C/:C> atom2: #<ATOM :C/:C> atom3: #<ATOM :CH3/:C> atom4 #<ATOM :HH33/:H> key: 0.15555555555555556-3-0.0 vi: 0.15555555555555556d0 ini 3 phase 0.0d0\n",
      " atom1: #<ATOM :C/:C> atom2: #<ATOM :NH/:N> atom3: #<ATOM :C/:C> atom4 #<ATOM :O/:O> key: 2.5-2-3.1415939703583717 vi: 2.5d0 ini 2 phase 3.1415939703583717d0\n",
      " atom1: #<ATOM :C/:C> atom2: #<ATOM :NH/:N> atom3: #<ATOM :C/:C> atom4 #<ATOM :CH3/:C> key: 2.5-2-3.1415939703583717 vi: 2.5d0 ini 2 phase 3.1415939703583717d0\n",
      " atom1: #<ATOM :NH/:N> atom2: #<ATOM :C/:C> atom3: #<ATOM :CH3/:C> atom4 #<ATOM :HH31/:H> key: 0.15555555555555556-3-0.0 vi: 0.15555555555555556d0 ini 3 phase 0.0d0\n",
      " atom1: #<ATOM :NH/:N> atom2: #<ATOM :C/:C> atom3: #<ATOM :CH3/:C> atom4 #<ATOM :HH32/:H> key: 0.15555555555555556-3-0.0 vi: 0.15555555555555556d0 ini 3 phase 0.0d0\n",
      " atom1: #<ATOM :NH/:N> atom2: #<ATOM :C/:C> atom3: #<ATOM :CH3/:C> atom4 #<ATOM :HH33/:H> key: 0.15555555555555556-3-0.0 vi: 0.15555555555555556d0 ini 3 phase 0.0d0\n",
      " atom1: #<ATOM :NH/:N> atom2: #<ATOM :C/:C> atom3: #<ATOM :CH3/:C> atom4 #<ATOM :HH31/:H> key: 0.0-2-0.0 vi: 0.0d0 ini 2 phase 0.0d0\n",
      " atom1: #<ATOM :NH/:N> atom2: #<ATOM :C/:C> atom3: #<ATOM :CH3/:C> atom4 #<ATOM :HH32/:H> key: 0.0-2-0.0 vi: 0.0d0 ini 2 phase 0.0d0\n",
      " atom1: #<ATOM :NH/:N> atom2: #<ATOM :C/:C> atom3: #<ATOM :CH3/:C> atom4 #<ATOM :HH33/:H> key: 0.0-2-0.0 vi: 0.0d0 ini 2 phase 0.0d0\n",
      " atom1: #<ATOM :H/:H> atom2: #<ATOM :C/:C> atom3: #<ATOM :NH/:N> atom4 #<ATOM :C/:C> key: 0.0-2-0.0 vi: 0.0d0 ini 2 phase 0.0d0\n",
      " atom1: #<ATOM :H/:H> atom2: #<ATOM :C/:C> atom3: #<ATOM :NH/:N> atom4 #<ATOM :HH/:H> key: 0.0-2-0.0 vi: 0.0d0 ini 2 phase 0.0d0\n",
      " atom1: #<ATOM :H/:H> atom2: #<ATOM :C/:C> atom3: #<ATOM :CH3/:C> atom4 #<ATOM :HH31/:H> key: 0.15555555555555556-3-0.0 vi: 0.15555555555555556d0 ini 3 phase 0.0d0\n",
      " atom1: #<ATOM :H/:H> atom2: #<ATOM :C/:C> atom3: #<ATOM :CH3/:C> atom4 #<ATOM :HH32/:H> key: 0.15555555555555556-3-0.0 vi: 0.15555555555555556d0 ini 3 phase 0.0d0\n",
      " atom1: #<ATOM :H/:H> atom2: #<ATOM :C/:C> atom3: #<ATOM :CH3/:C> atom4 #<ATOM :HH33/:H> key: 0.15555555555555556-3-0.0 vi: 0.15555555555555556d0 ini 3 phase 0.0d0\n",
      " atom1: #<ATOM :CH3/:C> atom2: #<ATOM :C/:C> atom3: #<ATOM :NH/:N> atom4 #<ATOM :C/:C> key: 2.0-1-0.0 vi: 2.0d0 ini 1 phase 0.0d0\n",
      " atom1: #<ATOM :CH3/:C> atom2: #<ATOM :C/:C> atom3: #<ATOM :NH/:N> atom4 #<ATOM :C/:C> key: 1.8-2-0.0 vi: 1.8d0 ini 2 phase 0.0d0\n",
      "  1.8d0 2\n",
      " atom1: #<ATOM :CH3/:C> atom2: #<ATOM :C/:C> atom3: #<ATOM :NH/:N> atom4 #<ATOM :C/:C> key: 0.8-3-0.0 vi: 0.8d0 ini 3 phase 0.0d0\n",
      "  0.8d0 3\n",
      " atom1: #<ATOM :CH3/:C> atom2: #<ATOM :C/:C> atom3: #<ATOM :NH/:N> atom4 #<ATOM :C/:C> key: 0.0-4-0.0 vi: 0.0d0 ini 4 phase 0.0d0\n",
      " atom1: #<ATOM :CH3/:C> atom2: #<ATOM :C/:C> atom3: #<ATOM :NH/:N> atom4 #<ATOM :HH/:H> key: 0.0-2-0.0 vi: 0.0d0 ini 2 phase 0.0d0\n",
      " atom1: #<ATOM :HH/:H> atom2: #<ATOM :NH/:N> atom3: #<ATOM :C/:C> atom4 #<ATOM :O/:O> key: 2.0-1-0.0 vi: 2.0d0 ini 1 phase 0.0d0\n",
      " atom1: #<ATOM :HH/:H> atom2: #<ATOM :NH/:N> atom3: #<ATOM :C/:C> atom4 #<ATOM :O/:O> key: 2.5-2-3.1415939703583717 vi: 2.5d0 ini 2 phase 3.1415939703583717d0\n",
      " atom1: #<ATOM :HH/:H> atom2: #<ATOM :NH/:N> atom3: #<ATOM :C/:C> atom4 #<ATOM :CH3/:C> key: 2.5-2-3.1415939703583717 vi: 2.5d0 ini 2 phase 3.1415939703583717d0\n",
      " atom1: #<ATOM :O/:O> atom2: #<ATOM :C/:C> atom3: #<ATOM :CH3/:C> atom4 #<ATOM :HH31/:H> key: 0.7999999999999999-1-0.0 vi: 0.7999999999999999d0 ini 1 phase 0.0d0\n",
      " atom1: #<ATOM :O/:O> atom2: #<ATOM :C/:C> atom3: #<ATOM :CH3/:C> atom4 #<ATOM :HH31/:H> key: 0.0-2-0.0 vi: 0.0d0 ini 2 phase 0.0d0\n",
      " atom1: #<ATOM :O/:O> atom2: #<ATOM :C/:C> atom3: #<ATOM :CH3/:C> atom4 #<ATOM :HH31/:H> key: 0.08-3-3.1415939703583717 vi: 0.08d0 ini 3 phase 3.1415939703583717d0\n",
      " atom1: #<ATOM :O/:O> atom2: #<ATOM :C/:C> atom3: #<ATOM :CH3/:C> atom4 #<ATOM :HH32/:H> key: 0.7999999999999999-1-0.0 vi: 0.7999999999999999d0 ini 1 phase 0.0d0\n",
      " atom1: #<ATOM :O/:O> atom2: #<ATOM :C/:C> atom3: #<ATOM :CH3/:C> atom4 #<ATOM :HH32/:H> key: 0.0-2-0.0 vi: 0.0d0 ini 2 phase 0.0d0\n",
      " atom1: #<ATOM :O/:O> atom2: #<ATOM :C/:C> atom3: #<ATOM :CH3/:C> atom4 #<ATOM :HH32/:H> key: 0.08-3-3.1415939703583717 vi: 0.08d0 ini 3 phase 3.1415939703583717d0\n",
      " atom1: #<ATOM :O/:O> atom2: #<ATOM :C/:C> atom3: #<ATOM :CH3/:C> atom4 #<ATOM :HH33/:H> key: 0.7999999999999999-1-0.0 vi: 0.7999999999999999d0 ini 1 phase 0.0d0\n",
      " atom1: #<ATOM :O/:O> atom2: #<ATOM :C/:C> atom3: #<ATOM :CH3/:C> atom4 #<ATOM :HH33/:H> key: 0.0-2-0.0 vi: 0.0d0 ini 2 phase 0.0d0\n",
      " atom1: #<ATOM :O/:O> atom2: #<ATOM :C/:C> atom3: #<ATOM :CH3/:C> atom4 #<ATOM :HH33/:H> key: 0.08-3-3.1415939703583717 vi: 0.08d0 ini 3 phase 3.1415939703583717d0\n",
      " atom1: #<ATOM :C/:C> atom2: #<ATOM :CH3/:C> atom3: #<ATOM :NH/:N> atom4 #<ATOM :HH/:H> key: 1.1-2-3.1415940000000004 vi: 1.1d0 ini 2 phase 3.1415940000000004d0\n",
      "  1.1d0 2\n",
      " atom1: #<ATOM :C/:C> atom2: #<ATOM :NH/:N> atom3: #<ATOM :C/:C> atom4 #<ATOM :O/:O> key: 10.5-2-3.1415940000000004 vi: 10.5d0 ini 2 phase 3.1415940000000004d0\n",
      "  10.5d0 2\n",
      " atom1: #<ATOM :C/:C> atom2: #<ATOM :C/:C> atom3: #<ATOM :NH/:N> atom4 #<ATOM :HH/:H> key: 1.1-2-3.1415940000000004 vi: 1.1d0 ini 2 phase 3.1415940000000004d0\n",
      " atom1: #<ATOM :CH3/:C> atom2: #<ATOM :NH/:N> atom3: #<ATOM :C/:C> atom4 #<ATOM :O/:O> key: 10.5-2-3.1415940000000004 vi: 10.5d0 ini 2 phase 3.1415940000000004d0\n",
      " residue-count 3\n",
      "molecule-count 65\n"
     ]
    },
    {
     "data": {
      "text/plain": [
       "0"
      ]
     },
     "execution_count": 33,
     "metadata": {},
     "output_type": "execute_result"
    }
   ],
   "source": [
    "(leap.topology:save-amber-parm-format *newagg* \"chemagg_water.top\" \"chemagg_water.crd\" :assign-types nil)"
   ]
  },
  {
   "cell_type": "markdown",
   "metadata": {},
   "source": [
    "#### Calculate each energy parameters."
   ]
  },
  {
   "cell_type": "code",
   "execution_count": 37,
   "metadata": {},
   "outputs": [
    {
     "data": {
      "text/plain": [
       "2.8061924696985225d0"
      ]
     },
     "execution_count": 37,
     "metadata": {},
     "output_type": "execute_result"
    }
   ],
   "source": [
    "(chem:get-energy (chem:get-stretch-component *e*))"
   ]
  },
  {
   "cell_type": "code",
   "execution_count": 38,
   "metadata": {},
   "outputs": [
    {
     "data": {
      "text/plain": [
       "1.1616684719178318d0"
      ]
     },
     "execution_count": 38,
     "metadata": {},
     "output_type": "execute_result"
    }
   ],
   "source": [
    "(chem:get-energy (chem:get-angle-component *e*))"
   ]
  },
  {
   "cell_type": "code",
   "execution_count": 39,
   "metadata": {},
   "outputs": [
    {
     "data": {
      "text/plain": [
       "8.69549859900465d0"
      ]
     },
     "execution_count": 39,
     "metadata": {},
     "output_type": "execute_result"
    }
   ],
   "source": [
    "(chem:get-energy (chem:get-dihedral-component *e*))"
   ]
  },
  {
   "cell_type": "code",
   "execution_count": 40,
   "metadata": {},
   "outputs": [
    {
     "data": {
      "text/plain": [
       "-61.23827916473209d0"
      ]
     },
     "execution_count": 40,
     "metadata": {},
     "output_type": "execute_result"
    }
   ],
   "source": [
    "(chem:get-energy (chem:get-nonbond-component *e*))"
   ]
  },
  {
   "cell_type": "code",
   "execution_count": 34,
   "metadata": {},
   "outputs": [
    {
     "name": "stdout",
     "output_type": "stream",
     "text": [
      "CHEM:ADD-SUPERPOSE-ATOM  Function\n",
      "CHEM:CLEAR-SUPERPOSE-ATOMS  Function\n",
      "CHEM:SET-FINAL-COORDINATES-AS-FIXED-WITHIN-SUPERPOSE-ENGINE  Function\n",
      "CHEM:SET-FINAL-COORDINATES-AS-MOVEABLE-WITHIN-SUPERPOSE-ENGINE  Function\n",
      "CHEM:SET-SUPERPOSABLE-COORDINATES-AS-FIXED-WITHIN-SUPERPOSE-ENGINE  Function\n",
      "CHEM:SET-SUPERPOSABLE-COORDINATES-AS-MOVEABLE-WITHIN-SUPERPOSE-ENGINE  Function\n",
      "CHEM:SUPERPOSE  Function\n",
      "CANDO::SUPERPOSE-AGAINST-TEMPLATE  Function\n",
      "CANDO::SUPERPOSE-ALL  Function\n",
      "CHEM:SUPERPOSE-ALL-HEAVY-ATOMS  Function\n",
      "CHEM:SUPERPOSE-ENGINE\n",
      "CANDO::SUPERPOSE-ONE  Function\n",
      "CHEM:SUPERPOSE-SELECTED-ATOMS\n",
      "CHEM::SUPERPOSER\n"
     ]
    },
    {
     "data": {
      "text/plain": [
       "NIL"
      ]
     },
     "execution_count": 34,
     "metadata": {},
     "output_type": "execute_result"
    }
   ],
   "source": [
    "(apropos \"superpose\")"
   ]
  },
  {
   "cell_type": "code",
   "execution_count": null,
   "metadata": {
    "collapsed": true
   },
   "outputs": [],
   "source": []
  }
 ],
 "metadata": {
  "kernelspec": {
   "display_name": "Cando",
   "language": "lisp",
   "name": "lisp"
  },
  "language_info": {
   "codemirror_mode": "text/x-common-lisp",
   "mimetype": "text/x-common-lisp",
   "name": "common-lisp",
   "pygments_lexer": "common-lisp",
   "version": "X3J13"
  }
 },
 "nbformat": 4,
 "nbformat_minor": 2
}
