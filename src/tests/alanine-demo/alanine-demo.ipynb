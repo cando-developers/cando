{
 "cells": [
  {
   "cell_type": "markdown",
   "metadata": {},
   "source": [
    "## Set the enviroments."
   ]
  },
  {
   "cell_type": "markdown",
   "metadata": {},
   "source": [
    "#### Connect to slime."
   ]
  },
  {
   "cell_type": "code",
   "execution_count": 1,
   "metadata": {},
   "outputs": [
    {
     "data": {
      "text/plain": [
       "16"
      ]
     },
     "execution_count": 1,
     "metadata": {},
     "output_type": "execute_result"
    }
   ],
   "source": [
    "(length (core:bformat nil \"%16.8e\" 1234.5676))"
   ]
  },
  {
   "cell_type": "code",
   "execution_count": 1,
   "metadata": {
    "scrolled": true
   },
   "outputs": [
    {
     "data": {
      "text/plain": [
       "T"
      ]
     },
     "execution_count": 1,
     "metadata": {},
     "output_type": "execute_result"
    }
   ],
   "source": [
    "(start-swank)"
   ]
  },
  {
   "cell_type": "markdown",
   "metadata": {},
   "source": [
    "#### Add paths."
   ]
  },
  {
   "cell_type": "code",
   "execution_count": 2,
   "metadata": {
    "scrolled": true
   },
   "outputs": [
    {
     "data": {
      "text/plain": [
       "(#P\"/Users/tuj24515/Development/amber16/dat/antechamber/\"\n",
       " #P\"/Users/tuj24515/Development/amber16/dat/leap/prep/\"\n",
       " #P\"/Users/tuj24515/Development/amber16/dat/leap/parm/\"\n",
       " #P\"/Users/tuj24515/Development/amber16/dat/leap/lib/\"\n",
       " #P\"/Users/tuj24515/Development/amber16/dat/leap/cmd/\"\n",
       " #P\"/Users/tuj24515/Development/clasp/extensions/cando/src/tests/alanine-demo/\")"
      ]
     },
     "execution_count": 2,
     "metadata": {},
     "output_type": "execute_result"
    }
   ],
   "source": [
    "(leap.core::clear-path)\n",
    "(add-path *default-pathname-defaults*)\n",
    "(add-path \"~/Development/amber16/dat/leap/cmd/\")\n",
    "(add-path \"~/Development/amber16/dat/leap/lib/\")\n",
    "(add-path \"~/Development/amber16/dat/leap/parm/\")\n",
    "(add-path \"~/Development/amber16/dat/leap/prep/\")\n",
    "(add-path \"~/Development/amber16/dat/antechamber/\")"
   ]
  },
  {
   "cell_type": "markdown",
   "metadata": {},
   "source": [
    "#### Load the amber force field."
   ]
  },
  {
   "cell_type": "code",
   "execution_count": 3,
   "metadata": {},
   "outputs": [
    {
     "data": {
      "text/plain": [
       "(#<FORCE-FIELD ATOMTYPE_AMBER.DEF>)"
      ]
     },
     "execution_count": 3,
     "metadata": {},
     "output_type": "execute_result"
    }
   ],
   "source": [
    "(load-atom-type-rules \"ATOMTYPE_AMBER.DEF\")"
   ]
  },
  {
   "cell_type": "code",
   "execution_count": 4,
   "metadata": {
    "scrolled": true
   },
   "outputs": [
    {
     "name": "stderr",
     "output_type": "stream",
     "text": [
      "SIMPLE-WARNING: \n",
      "add-atom-types doesn't do anything\n",
      "SIMPLE-WARNING: \n",
      "Warning!  Skipping 10-12 hbond\n",
      "SIMPLE-WARNING: \n",
      "Warning!  Skipping force field atom equivalences\n"
     ]
    },
    {
     "data": {
      "text/plain": [
       "T"
      ]
     },
     "execution_count": 4,
     "metadata": {},
     "output_type": "execute_result"
    }
   ],
   "source": [
    "(source \"leaprc.protein.ff14SB\")"
   ]
  },
  {
   "cell_type": "code",
   "execution_count": 5,
   "metadata": {},
   "outputs": [
    {
     "data": {
      "text/plain": [
       "(#<FORCE-FIELD water_amber.def> #<FORCE-FIELD frcmod.ff14SB>\n",
       " #<FORCE-FIELD parm10.dat> #<FORCE-FIELD ATOMTYPE_AMBER.DEF>)"
      ]
     },
     "execution_count": 5,
     "metadata": {},
     "output_type": "execute_result"
    }
   ],
   "source": [
    "(load-atom-type-rules \"water_amber.def\")"
   ]
  },
  {
   "cell_type": "code",
   "execution_count": 6,
   "metadata": {
    "scrolled": true
   },
   "outputs": [
    {
     "data": {
      "text/plain": [
       "*FF*"
      ]
     },
     "execution_count": 6,
     "metadata": {},
     "output_type": "execute_result"
    }
   ],
   "source": [
    "(:= *ff* (leap.core::merged-force-field))"
   ]
  },
  {
   "cell_type": "markdown",
   "metadata": {},
   "source": [
    "## Create topology and coordinate file for Alanine"
   ]
  },
  {
   "cell_type": "markdown",
   "metadata": {},
   "source": [
    "#### Load the alanine from Chemdraw file."
   ]
  },
  {
   "cell_type": "code",
   "execution_count": 7,
   "metadata": {
    "scrolled": true
   },
   "outputs": [
    {
     "data": {
      "text/plain": [
       "*CHEMAGG*"
      ]
     },
     "execution_count": 7,
     "metadata": {},
     "output_type": "execute_result"
    }
   ],
   "source": [
    "(defparameter *chemagg* (cando:load-chem-draw-aggregate \"alanine2.cdxml\"))"
   ]
  },
  {
   "cell_type": "code",
   "execution_count": 8,
   "metadata": {},
   "outputs": [
    {
     "data": {
      "text/plain": [
       "NIL"
      ]
     },
     "execution_count": 8,
     "metadata": {},
     "output_type": "execute_result"
    }
   ],
   "source": [
    "(build-hydrogens *chemagg*)"
   ]
  },
  {
   "cell_type": "code",
   "execution_count": 9,
   "metadata": {},
   "outputs": [
    {
     "data": {
      "application/vnd.jupyter.widget-view+json": {
       "model_id": "39A79143-C862-4D7E-842F-4BD2B6D87B42",
       "version_major": 2,
       "version_minor": 0
      },
      "text/html": [
       "<p>Failed to display Jupyter Widget of type <code>{widget_type}</code>.</p>\n",
       "<p>\n",
       "  If you're reading this message in the Jupyter Notebook or JupyterLab Notebook, it may mean\n",
       "  that the widgets JavaScript is still loading. If this message persists, it\n",
       "  likely means that the widgets JavaScript library is either not installed or\n",
       "  not enabled. See the <a href=\"https://ipywidgets.readthedocs.io/en/stable/user_install.html\">Jupyter\n",
       "  Widgets Documentation</a> for setup instructions.\n",
       "</p>\n",
       "<p>\n",
       "  If you're reading this message in another frontend (for example, a static\n",
       "  rendering on GitHub or <a href=\"https://nbviewer.jupyter.org/\">NBViewer</a>),\n",
       "  it may mean that your frontend doesn't currently support widgets.\n",
       "</p>\n"
      ],
      "text/plain": [
       "A Jupyter Widget"
      ]
     },
     "execution_count": 9,
     "metadata": {},
     "output_type": "execute_result"
    }
   ],
   "source": [
    "(cando::show-aggregate *chemagg*)"
   ]
  },
  {
   "cell_type": "code",
   "execution_count": 54,
   "metadata": {},
   "outputs": [
    {
     "name": "stderr",
     "output_type": "stream",
     "text": [
      "An error occurred of type: UNDEFINED-FUNCTION: \n",
      "  #<UNDEFINED-FUNCTION>\n"
     ]
    },
    {
     "data": {
      "text/plain": [
       "NIL"
      ]
     },
     "execution_count": 54,
     "metadata": {},
     "output_type": "execute_result"
    }
   ],
   "source": [
    "(nglv::show-aggregate *chemagg*)"
   ]
  },
  {
   "cell_type": "markdown",
   "metadata": {},
   "source": [
    "#### Gather atoms to the center."
   ]
  },
  {
   "cell_type": "code",
   "execution_count": 10,
   "metadata": {},
   "outputs": [
    {
     "name": "stdout",
     "output_type": "stream",
     "text": [
      "C      S\n"
     ]
    },
    {
     "data": {
      "text/plain": [
       "NIL"
      ]
     },
     "execution_count": 10,
     "metadata": {},
     "output_type": "execute_result"
    }
   ],
   "source": [
    "(progn\n",
    "  (defparameter *stereocenters*\n",
    "    (sort (cando:gather-stereocenters *chemagg*) #'string< :key #'chem:get-name))\n",
    "  (cando:set-stereoisomer-func *stereocenters* (constantly :S) :show t)\n",
    "  (let ((quat-matcher (core:make-cxx-object 'chem:chem-info)))\n",
    "    (chem:compile-smarts quat-matcher \"[C&H0&D4]\")\n",
    "    (chem:map-atoms nil (lambda (a) (when (chem:matches quat-matcher a)\n",
    "                  (chem:set-configuration a :S)\n",
    "                  (format t \"Set atom ~a to :S~%\" (chem:get-name a))))\n",
    "            *chemagg*)))"
   ]
  },
  {
   "cell_type": "markdown",
   "metadata": {},
   "source": [
    "#### Set the bounding box."
   ]
  },
  {
   "cell_type": "markdown",
   "metadata": {},
   "source": [
    "#### Assign atom types and change one of them for alanine atom type definition."
   ]
  },
  {
   "cell_type": "code",
   "execution_count": 11,
   "metadata": {},
   "outputs": [
    {
     "data": {
      "text/plain": [
       "NIL"
      ]
     },
     "execution_count": 11,
     "metadata": {},
     "output_type": "execute_result"
    }
   ],
   "source": [
    "(assign-atom-types *chemagg*)\n",
    "(chem:map-atoms 'nil (lambda (a) (if (eq (chem:get-type a) :CT)\n",
    "                                     (if (eq (chem:get-name a) :C)\n",
    "                                         (chem:set-type a :CX)))) *chemagg*)"
   ]
  },
  {
   "cell_type": "code",
   "execution_count": 12,
   "metadata": {},
   "outputs": [
    {
     "name": "stdout",
     "output_type": "stream",
     "text": [
      "type CX name C\n",
      " type N name NH\n",
      " type H1 name H\n",
      " type CT name CH3\n",
      " type C name C_0\n",
      " type O name O\n",
      " type HC name HH31\n",
      " type HC name HH32\n",
      " type HC name HH33\n",
      " type H name HH\n",
      " type C name C\n",
      " type CT name CH3\n",
      " type O name O\n",
      " type HC name HH31\n",
      " type HC name HH32\n",
      " type HC name HH33\n",
      " type N name NH\n",
      " type CT name CH3\n",
      " type H1 name HH31\n",
      " type H1 name HH32\n",
      " type H1 name HH33\n",
      " type H name HH\n",
      " "
     ]
    },
    {
     "data": {
      "text/plain": [
       "NIL"
      ]
     },
     "execution_count": 12,
     "metadata": {},
     "output_type": "execute_result"
    }
   ],
   "source": [
    "(chem:map-atoms 'nil (lambda (a)  (format t \"type ~a name ~a~% \" (chem:get-type a) (chem:get-name a)))\n",
    "                             *chemagg*)"
   ]
  },
  {
   "cell_type": "code",
   "execution_count": 13,
   "metadata": {},
   "outputs": [
    {
     "name": "stdout",
     "output_type": "stream",
     "text": [
      "type C name C_0 "
     ]
    },
    {
     "data": {
      "text/plain": [
       "NIL"
      ]
     },
     "execution_count": 13,
     "metadata": {},
     "output_type": "execute_result"
    }
   ],
   "source": [
    "\n",
    "(chem:map-atoms 'nil (lambda (a) (if (eq (chem:get-name a) :C_0)\n",
    "                                     (format t \"type ~a name ~a \" (chem:get-type a) (chem:get-name a))))\n",
    "                             *chemagg*)"
   ]
  },
  {
   "cell_type": "markdown",
   "metadata": {},
   "source": [
    "####  Assign force-field parameters and minimize the energy of the molecule."
   ]
  },
  {
   "cell_type": "code",
   "execution_count": 14,
   "metadata": {},
   "outputs": [
    {
     "data": {
      "text/plain": [
       "NIL"
      ]
     },
     "execution_count": 14,
     "metadata": {},
     "output_type": "execute_result"
    }
   ],
   "source": [
    "(cando:jostle *chemagg*)"
   ]
  },
  {
   "cell_type": "code",
   "execution_count": 15,
   "metadata": {},
   "outputs": [
    {
     "name": "stdout",
     "output_type": "stream",
     "text": [
      "minimize-no-fail\n",
      "======= Starting Steepest Descent Minimizer\n",
      "---Stage-Seconds--Step-log(Alpha)--Dir-------------Energy-----------RMSforce\n",
      " minSDnP       0     1      -inf   0.0              0.000          17444.937\n",
      " minSDnP       0     2     -8.01   0.0        2406173.101           6874.322\n",
      "DONE absolute force test:\n",
      "forceRmsMag(4634.923344).LT.forceTolerance(5000.000000)\n",
      "======= Starting Conjugate Gradient Minimizer\n",
      " minCGnP       0     3      -inf   0.0              0.000           4634.923\n",
      " minCGnP       0     4     -7.73  41.0        1571524.326           4032.347\n",
      " minCGnP       0     5     -7.31  69.9        1152445.178           8510.274\n",
      " minCGnP       0     6     -9.48  28.3        1088649.745           2804.051\n",
      " minCGnP       0     7     -7.60  41.0         955047.763           2021.204\n",
      " minCGnP       0     8     -6.92  61.7         836695.911           2985.022\n",
      " minCGnP       0     9     -8.08  75.0         706640.174           5677.550\n",
      " minCGnP       0    10     -9.74  74.4         641736.183           5709.873\n",
      "---Stage-Seconds--Step-log(Alpha)--Dir-------------Energy-----------RMSforce\n",
      " minCGnP       0    11     -8.76  69.3         509276.491           3512.532\n",
      " minCGnP       0    12     -8.14  80.2         452166.320           7391.404\n",
      " minCGnP       0    13    -11.87  53.0         441730.305           4236.950\n",
      " minCGnP       0    14     -8.34  53.8         336310.587           3954.028\n",
      " minCGnP       0    15    -10.56  53.3         323963.245           3116.586\n",
      " minCGnP       0    16     -8.55  53.0         265899.540           1958.641\n",
      " minCGnP       0    17     -9.33  74.9         250365.532           4594.444\n",
      " minCGnP       0    18    -10.50  53.7         230044.142           2958.657\n",
      " minCGnP       0    19     -8.76  44.8         203450.469           1987.283\n",
      " minCGnP       0    20     -8.04  48.0         170965.505           1757.833\n",
      "---Stage-Seconds--Step-log(Alpha)--Dir-------------Energy-----------RMSforce\n",
      " minCGnP       0    21     -8.47  54.4         151662.479           1910.778\n",
      " minCGnP       0    22     -9.90  72.8         146545.045           3644.142\n",
      " minCGnP       0    23     -9.99  67.3         131445.149           1583.351\n",
      " minCGnP       0    24    -10.20  61.9         128809.409           1782.386\n",
      " minCGnP       0    25     -9.53  60.1         123205.260           1352.323\n",
      " minCGnP       0    26     -8.66  66.3         112665.747           1945.545\n",
      " minCGnP       0    27     -9.21  58.7         103096.356           1652.090\n",
      " minCGnP       0    28     -9.27  55.2          98004.875           1382.982\n",
      " minCGnP       0    29     -8.98  57.2          92611.279           1447.015\n",
      " minCGnP       0    30     -8.46  63.2          82309.117           1750.163\n",
      "---Stage-Seconds--Step-log(Alpha)--Dir-------------Energy-----------RMSforce\n",
      " minCGnP       0    31     -9.07  38.6          76917.417            895.889\n",
      " minCGnP       0    32     -7.67  49.4          64500.652            741.977\n",
      " minCGnP       0    33     -8.07  60.4          57377.704            972.273\n",
      " minCGnP       0    34     -9.26  62.4          54044.500           1039.883\n",
      " minCGnP       0    35     -8.64  65.5          49518.142            953.228\n",
      " minCGnP       0    36     -9.77  73.6          48020.349           1304.984\n",
      " minCGnP       0    37     -8.72  58.1          42289.322            795.077\n",
      " minCGnP       0    38     -7.91  78.3          32678.800           2055.585\n",
      " minCGnP       0    39    -11.47  60.6          31413.949           1658.714\n",
      " minCGnP       0    40     -9.63  49.6          28126.688            787.941\n",
      "---Stage-Seconds--Step-log(Alpha)--Dir-------------Energy-----------RMSforce\n",
      " minCGnP       0    41     -9.01  44.6          26706.499            467.093\n",
      " minCGnP       0    42     -7.75  68.7          23002.489            848.810\n",
      " minCGnP       0    43     -9.46  63.6          21379.041            782.688\n",
      " minCGnP       0    44     -9.10  51.2          19762.845            469.037\n",
      " minCGnP       0    45     -7.62  63.2          16755.519            581.291\n",
      " minCGnP       0    46     -9.12  59.4          15683.633            564.354\n",
      " minCGnP       0    47     -8.75  48.9          14481.259            376.146\n",
      " minCGnP       0    48     -8.22  70.0          13060.807            722.116\n",
      " minCGnP       0    49    -10.26  50.5          12626.719            608.509\n",
      " minCGnP       0    50     -9.09  50.0          11685.836            267.221\n",
      "---Stage-Seconds--Step-log(Alpha)--Dir-------------Energy-----------RMSforce\n",
      " minCGnP       0    51     -8.27  62.6          10902.936            380.214\n",
      " minCGnP       0    52     -8.74  56.5          10042.236            339.011\n",
      " minCGnP       0    53     -8.43  61.8           9383.554            243.035\n",
      " minCGnP       0    54     -8.39  78.2           8848.070            618.890\n",
      " minCGnP       0    55     -9.41  71.4           7683.968            500.383\n",
      " minCGnP       0    56     -8.90  71.6           6690.190            364.639\n",
      " minCGnP       0    57     -8.77  73.1           6231.775            469.057\n",
      " minCGnP       0    58     -8.71  60.9           5445.294            295.689\n",
      " minCGnP       0    59     -8.32  59.2           4883.891            238.686\n",
      " minCGnP       0    60     -8.63  59.7           4573.040            236.336\n",
      "---Stage-Seconds--Step-log(Alpha)--Dir-------------Energy-----------RMSforce\n",
      " minCGnP       0    61     -8.65  54.6           4255.794            195.484\n",
      " minCGnP       0    62     -9.07  48.4           4110.423            148.222\n",
      " minCGnP       0    63     -8.49  47.8           3939.680            115.184\n",
      " minCGnP       0    64     -8.35  53.0           3851.470            112.649\n",
      " minCGnP       0    65     -8.47  52.5           3763.247             84.077\n",
      " minCGnP       0    66     -8.00  68.7           3684.488            142.116\n",
      " minCGnP       0    67     -8.36  62.1           3549.464            119.655\n",
      " minCGnP       0    68     -8.49  64.4           3455.479            114.623\n",
      " minCGnP       0    69     -8.52   0.0           3371.451            121.892\n",
      " minCGnP       0    70     -9.09  23.0           3316.371             51.868\n",
      "---Stage-Seconds--Step-log(Alpha)--Dir-------------Energy-----------RMSforce\n",
      " minCGnP       0    71     -8.50  46.4           3297.592             52.956\n",
      " minCGnP       0    72     -7.64  59.7           3254.728             64.872\n",
      " minCGnP       0    73     -8.29  65.8           3220.388             69.442\n",
      " minCGnP       0    74     -7.96  71.4           3158.961             85.827\n",
      " minCGnP       0    75     -8.07  71.1           3087.776             81.656\n",
      " minCGnP       0    76     -8.24  71.9           3029.943             83.740\n",
      " minCGnP       0    77     -8.11  72.1           2958.019             78.919\n",
      " minCGnP       0    78     -8.32  72.5           2908.054             74.355\n",
      " minCGnP       0    79     -8.03  70.8           2848.954             68.356\n",
      " minCGnP       0    80     -8.46  69.9           2816.277             63.185\n",
      "---Stage-Seconds--Step-log(Alpha)--Dir-------------Energy-----------RMSforce\n",
      " minCGnP       0    81     -7.98  73.8           2770.178             76.735\n",
      " minCGnP       0    82     -8.50  69.8           2730.483             59.738\n",
      " minCGnP       0    83     -8.21  71.0           2698.127             59.396\n",
      " minCGnP       0    84     -8.14  70.2           2664.419             48.737\n",
      " minCGnP       0    85     -8.68  60.6           2651.293             28.233\n",
      " minCGnP       0    86     -7.79  69.6           2640.421             36.861\n",
      " minCGnP       0    87     -8.24  67.6           2628.625             29.832\n",
      " minCGnP       0    88     -8.25  69.0           2620.988             30.087\n",
      " minCGnP       0    89     -8.08  72.0           2611.676             34.696\n",
      " minCGnP       0    90     -8.65  62.7           2604.706             21.354\n",
      "---Stage-Seconds--Step-log(Alpha)--Dir-------------Energy-----------RMSforce\n",
      " minCGnP       0    91     -8.03  67.4           2599.809             23.592\n",
      " minCGnP       0    92     -8.28  63.5           2595.177             18.604\n",
      " minCGnP       0    93     -8.33  67.4           2592.425             19.742\n",
      " minCGnP       0    94     -7.67  76.3           2586.445             31.174\n",
      " minCGnP       0    95     -8.32  72.0           2578.529             24.434\n",
      " minCGnP       0    96     -8.10  72.1           2572.552             23.448\n",
      " minCGnP       0    97     -8.27  70.0           2567.870             20.021\n",
      " minCGnP       0    98     -8.23  72.5           2564.340             22.035\n",
      " minCGnP       0    99     -8.08  75.5           2559.413             25.607\n",
      " minCGnP       0   100     -8.28  74.6           2553.914             22.424\n",
      "---Stage-Seconds--Step-log(Alpha)--Dir-------------Energy-----------RMSforce\n",
      " minCGnP       0   101     -7.98  77.3           2548.317             26.343\n",
      " minCGnP       0   102     -8.47  72.9           2543.514             18.293\n",
      " minCGnP       0   103     -8.19  76.3           2540.457             21.654\n",
      " minCGnP       0   104     -8.32  73.1           2536.648             16.179\n",
      " minCGnP       0   105     -8.47  71.4           2534.834             13.967\n",
      " minCGnP       0   106     -8.00  73.5           2532.651             15.282\n",
      " minCGnP       0   107     -8.22  71.7           2530.543             14.098\n",
      " minCGnP       0   108     -8.16  74.3           2528.648             16.279\n",
      " minCGnP       0   109     -8.21  73.0           2526.289             14.181\n",
      " minCGnP       0   110     -8.56  70.6           2525.029             11.582\n",
      "---Stage-Seconds--Step-log(Alpha)--Dir-------------Energy-----------RMSforce\n",
      " minCGnP       0   111     -7.96  73.1           2523.493             12.614\n",
      " minCGnP       0   112     -8.52  70.0           2522.451              9.800\n",
      " minCGnP       0   113     -7.80  76.8           2521.169             14.122\n",
      " minCGnP       0   114     -8.31  76.4           2519.546             12.194\n",
      " minCGnP       0   115     -8.24  77.4           2518.237             13.042\n",
      " minCGnP       0   116     -8.30  73.2           2516.823             10.627\n",
      " minCGnP       0   117     -8.35  70.7           2515.944              8.837\n",
      " minCGnP       0   118     -8.21  73.0           2515.246              9.404\n",
      " minCGnP       0   119     -8.41  72.0           2514.596              8.403\n",
      " minCGnP       0   120     -8.03  76.7           2513.835             11.113\n",
      "---Stage-Seconds--Step-log(Alpha)--Dir-------------Energy-----------RMSforce\n",
      " minCGnP       0   121     -7.93  70.6           2512.332              8.386\n",
      " minCGnP       0   122     -8.35  69.8           2511.783              7.826\n",
      " minCGnP       0   123     -8.01  71.6           2511.111              8.242\n",
      " minCGnP       0   124     -8.63  69.0           2510.708              6.876\n",
      " minCGnP       0   125     -8.14  70.9           2510.257              7.098\n",
      " minCGnP       0   126     -8.25  66.4           2509.823              5.127\n",
      " minCGnP       0   127     -8.01  71.1           2509.535              5.980\n",
      " minCGnP       0   128     -8.29  69.2           2509.237              5.086\n",
      " minCGnP       0   129     -8.66  67.1           2509.090              4.249\n",
      " minCGnP       0   130     -7.93  68.2           2508.875              4.079\n",
      "---Stage-Seconds--Step-log(Alpha)--Dir-------------Energy-----------RMSforce\n",
      " minCGnP       0   131     -8.12  71.3           2508.712              4.477\n",
      " minCGnP       0   132     -7.80  74.7           2508.440              5.277\n",
      " minCGnP       0   133     -8.51  72.7           2508.255              4.434\n",
      " minCGnP       0   134     -8.38  74.1           2508.107              4.625\n",
      " minCGnP       0   135     -7.75   0.0           2507.803              4.325\n",
      " minCGnP       0   136     -8.78  36.8           2507.709              3.237\n",
      " minCGnP       0   137     -7.97  58.0           2507.589              4.146\n",
      " minCGnP       0   138     -8.68  53.6           2507.493              2.968\n",
      " minCGnP       0   139     -6.86  67.2           2507.189              4.206\n",
      " minCGnP       0   140     -8.38  63.7           2507.055              3.296\n",
      "---Stage-Seconds--Step-log(Alpha)--Dir-------------Energy-----------RMSforce\n",
      " minCGnP       0   141     -8.11  59.9           2506.947              2.526\n",
      " minCGnP       0   142     -7.80  73.3           2506.861              4.236\n",
      " minCGnP       0   143     -8.18  75.3           2506.694              4.612\n",
      " minCGnP       0   144     -8.24  71.2           2506.507              3.342\n",
      " minCGnP       0   145     -7.06  79.5           2506.190              5.832\n",
      " minCGnP       0   146     -8.56  69.7           2505.974              3.023\n",
      " minCGnP       0   147     -8.03  78.0           2505.876              4.911\n",
      " minCGnP       0   148     -8.09  75.6           2505.630              3.951\n",
      " minCGnP       0   149     -7.81  78.1           2505.421              4.733\n",
      " minCGnP       0   150     -7.66  77.8           2505.072              4.516\n",
      "---Stage-Seconds--Step-log(Alpha)--Dir-------------Energy-----------RMSforce\n",
      " minCGnP       0   151     -8.35  79.8           2504.913              5.213\n",
      " minCGnP       0   152     -8.24  79.4           2504.677              4.883\n",
      " minCGnP       0   153     -8.39  77.6           2504.499              4.102\n",
      " minCGnP       0   154     -7.70  72.6           2504.248              2.747\n",
      " minCGnP       0   155     -7.40  79.9           2504.095              4.639\n",
      " minCGnP       0   156     -8.12  78.2           2503.884              3.967\n",
      " minCGnP       0   157     -7.98  82.3           2503.707              5.932\n",
      " minCGnP       0   158     -8.54  74.1           2503.480              2.927\n",
      " minCGnP       0   159     -8.46  69.2           2503.420              2.090\n",
      " minCGnP       0   160     -6.74  80.4           2503.250              4.387\n",
      "---Stage-Seconds--Step-log(Alpha)--Dir-------------Energy-----------RMSforce\n",
      " minCGnP       0   161     -8.13  80.9           2503.063              4.492\n",
      " minCGnP       0   162     -7.63  83.7           2502.735              6.489\n",
      " minCGnP       0   163     -8.91  79.0           2502.548              4.004\n",
      " minCGnP       0   164     -7.97  75.0           2502.366              2.829\n",
      " minCGnP       0   165     -8.01  77.3           2502.278              3.211\n",
      " minCGnP       0   166     -6.85  81.7           2501.916              4.765\n",
      " minCGnP       0   167     -8.60  77.9           2501.779              3.311\n",
      " minCGnP       0   168     -7.78  82.5           2501.628              5.285\n",
      " minCGnP       0   169     -8.72  73.9           2501.477              2.383\n",
      " minCGnP       0   170     -7.06  80.3           2501.316              3.903\n",
      "---Stage-Seconds--Step-log(Alpha)--Dir-------------Energy-----------RMSforce\n",
      " minCGnP       0   171     -8.54  74.4           2501.218              2.359\n",
      " minCGnP       0   172     -7.06  83.0           2501.061              5.113\n",
      " minCGnP       0   173     -8.78  79.8           2500.929              3.396\n",
      " minCGnP       0   174     -7.65  81.0           2500.745              3.883\n",
      " minCGnP       0   175     -8.35  78.7           2500.628              3.020\n",
      " minCGnP       0   176     -7.63  78.5           2500.483              2.841\n",
      " minCGnP       0   177     -7.52  82.7           2500.338              4.496\n",
      " minCGnP       0   178     -7.14  84.0           2499.794              6.237\n",
      " minCGnP       0   179     -8.87  82.1           2499.613              4.733\n",
      " minCGnP       0   180     -8.04  82.6           2499.378              4.746\n",
      "---Stage-Seconds--Step-log(Alpha)--Dir-------------Energy-----------RMSforce\n",
      " minCGnP       0   181     -8.30  81.5           2499.193              4.030\n",
      " minCGnP       0   182     -7.21  84.6           2498.785              6.636\n",
      " minCGnP       0   183     -8.38  83.8           2498.451              6.223\n",
      " minCGnP       0   184     -8.43  84.0           2498.175              6.167\n",
      " minCGnP       0   185     -7.97  83.9           2497.752              5.050\n",
      " minCGnP       0   186     -8.04  85.6           2497.482              6.624\n",
      " minCGnP       0   187     -8.20  84.8           2497.068              6.215\n",
      " minCGnP       0   188     -8.41  84.2           2496.782              6.130\n",
      " minCGnP       0   189     -7.35  85.3           2496.004              7.544\n",
      " minCGnP       0   190     -8.88  82.9           2495.742              5.079\n",
      "---Stage-Seconds--Step-log(Alpha)--Dir-------------Energy-----------RMSforce\n",
      " minCGnP       0   191     -8.10  83.7           2495.482              5.836\n",
      " minCGnP       0   192     -8.06  81.7           2495.126              4.557\n",
      " minCGnP       0   193     -8.13  83.8           2494.923              6.015\n",
      " minCGnP       0   194     -8.14  83.9           2494.573              6.034\n",
      " minCGnP       0   195     -8.31  83.5           2494.276              5.777\n",
      " minCGnP       0   196     -7.67  84.3           2493.771              6.416\n",
      " minCGnP       0   197     -8.38  85.2           2493.462              7.240\n",
      " minCGnP       0   198     -8.07  84.5           2492.903              6.574\n",
      " minCGnP       0   199     -8.48  81.2           2492.608              4.487\n",
      " minCGnP       0   200     -7.37  83.8           2492.199              6.140\n",
      "---Stage-Seconds--Step-log(Alpha)--Dir-------------Energy-----------RMSforce\n",
      " minCGnP       0   201     -8.72   0.0           2491.995              5.048\n",
      " minCGnP       0   202     -8.96  39.0           2491.887              4.082\n",
      " minCGnP       0   203     -8.15  42.0           2491.729              2.864\n",
      " minCGnP       0   204     -7.28  63.2           2491.542              4.215\n",
      " minCGnP       0   205     -8.30  62.7           2491.396              3.649\n",
      " minCGnP       0   206     -6.96  68.2           2490.978              4.122\n",
      " minCGnP       0   207     -8.51  66.4           2490.866              3.531\n",
      " minCGnP       0   208     -7.84  74.1           2490.703              4.963\n",
      " minCGnP       0   209     -8.75  64.9           2490.574              2.903\n",
      " minCGnP       0   210     -7.87  69.8           2490.468              3.344\n",
      "---Stage-Seconds--Step-log(Alpha)--Dir-------------Energy-----------RMSforce\n",
      " minCGnP       0   211     -7.90  65.9           2490.331              2.564\n",
      " minCGnP       0   212     -7.18  72.7           2490.165              3.354\n",
      " minCGnP       0   213     -8.05  71.1           2490.046              2.904\n",
      " minCGnP       0   214     -8.09  66.6           2489.961              2.176\n",
      " minCGnP       0   215     -8.59  66.4           2489.932              1.973\n",
      " minCGnP       0   216     -8.17  71.5           2489.896              2.373\n",
      " minCGnP       0   217     -8.21  65.2           2489.845              1.645\n",
      " minCGnP       0   218     -7.07  70.5           2489.769              1.944\n",
      " minCGnP       0   219     -8.63  64.6           2489.747              1.372\n",
      " minCGnP       0   220     -7.80  72.6           2489.721              1.871\n",
      "---Stage-Seconds--Step-log(Alpha)--Dir-------------Energy-----------RMSforce\n",
      " minCGnP       0   221     -8.88  60.7           2489.705              1.003\n",
      " minCGnP       0   222     -7.56  73.9           2489.688              1.699\n",
      " minCGnP       0   223     -7.16  69.2           2489.614              1.235\n",
      " minCGnP       0   224     -8.50  69.5           2489.604              1.177\n",
      " minCGnP       0   225     -8.03  74.2           2489.589              1.453\n",
      " minCGnP       0   226     -8.64  68.1           2489.577              0.987\n",
      " minCGnP       0   227     -7.44  77.0           2489.558              1.595\n",
      " minCGnP       0   228     -7.57  76.3           2489.515              1.439\n",
      " minCGnP       0   229     -8.14  76.2           2489.495              1.397\n",
      " minCGnP       0   230     -8.64  73.9           2489.483              1.162\n",
      "---Stage-Seconds--Step-log(Alpha)--Dir-------------Energy-----------RMSforce\n",
      " minCGnP       0   231     -8.12  78.2           2489.470              1.538\n",
      " minCGnP       0   232     -7.63  74.4           2489.432              1.113\n",
      " minCGnP       0   233     -6.94  81.9           2489.392              2.099\n",
      " minCGnP       0   234     -8.08  80.3           2489.347              1.746\n",
      " minCGnP       0   235     -7.96  83.9           2489.312              2.730\n",
      " minCGnP       0   236     -8.34  80.8           2489.253              1.850\n",
      " minCGnP       0   237     -8.69  75.3           2489.234              1.122\n",
      " minCGnP       0   238     -7.36  78.8           2489.208              1.427\n",
      " minCGnP       0   239     -7.80  82.2           2489.180              2.009\n",
      " minCGnP       0   240     -8.28  83.1           2489.147              2.282\n",
      "---Stage-Seconds--Step-log(Alpha)--Dir-------------Energy-----------RMSforce\n",
      " minCGnP       0   241     -8.45  79.5           2489.110              1.537\n",
      " minCGnP       0   242     -8.04  78.3           2489.084              1.359\n",
      " minCGnP       0   243     -8.37  74.9           2489.070              1.014\n",
      " minCGnP       0   244     -6.92  84.2           2489.037              2.582\n",
      " minCGnP       0   245     -8.68  81.1           2489.000              1.711\n",
      " minCGnP       0   246     -7.74  82.7           2488.958              2.042\n",
      " minCGnP       0   247     -8.47  75.7           2488.929              1.006\n",
      " minCGnP       0   248     -7.67  81.4           2488.913              1.636\n",
      " minCGnP       0   249     -8.12  82.7           2488.887              1.901\n",
      " minCGnP       0   250     -8.68  78.9           2488.867              1.260\n",
      "---Stage-Seconds--Step-log(Alpha)--Dir-------------Energy-----------RMSforce\n",
      " minCGnP       0   251     -7.19  81.8           2488.827              1.680\n",
      " minCGnP       0   252     -8.34  81.3           2488.805              1.587\n",
      " minCGnP       0   253     -8.45  81.1           2488.787              1.529\n",
      " minCGnP       0   254     -8.42  80.8           2488.770              1.462\n",
      " minCGnP       0   255     -6.69  86.0           2488.682              3.318\n",
      " minCGnP       0   256     -8.11  84.1           2488.572              2.428\n",
      " minCGnP       0   257     -8.56  84.5           2488.535              2.687\n",
      " minCGnP       0   258     -8.20  80.3           2488.470              1.524\n",
      " minCGnP       0   259     -7.73  84.1           2488.436              2.457\n",
      " minCGnP       0   260     -7.15  84.9           2488.281              2.803\n",
      "---Stage-Seconds--Step-log(Alpha)--Dir-------------Energy-----------RMSforce\n",
      " minCGnP       0   261     -8.09  85.1           2488.199              3.048\n",
      " minCGnP       0   262     -8.20  85.6           2488.117              3.446\n",
      " minCGnP       0   263     -8.73  82.7           2488.052              2.193\n",
      " minCGnP       0   264     -7.19  84.0           2487.937              2.717\n",
      " minCGnP       0   265     -8.37  83.9           2487.880              2.668\n",
      " minCGnP       0   266     -8.35  84.0           2487.825              2.723\n",
      " minCGnP       0   267     -8.29   0.0           2487.763              2.541\n",
      " minCGnP       0   268     -8.57  40.3           2487.722              2.152\n",
      " minCGnP       0   269     -8.61  45.7           2487.695              1.688\n",
      " minCGnP       0   270     -8.19  59.4           2487.669              1.992\n",
      "---Stage-Seconds--Step-log(Alpha)--Dir-------------Energy-----------RMSforce\n",
      " minCGnP       0   271     -7.59  54.9           2487.603              1.443\n",
      " minCGnP       0   272     -7.50  69.8           2487.565              2.254\n",
      " minCGnP       0   273     -7.69  72.4           2487.488              2.456\n",
      " minCGnP       0   274     -8.06  75.5           2487.425              2.864\n",
      " minCGnP       0   275     -8.41  73.2           2487.365              2.380\n",
      " minCGnP       0   276     -8.89  61.8           2487.339              1.282\n",
      " minCGnP       0   277     -6.47  78.1           2487.255              2.879\n",
      " minCGnP       0   278     -8.22  74.4           2487.181              2.133\n",
      " minCGnP       0   279     -7.65  77.5           2487.110              2.592\n",
      " minCGnP       0   280     -8.40  68.6           2487.060              1.458\n",
      "---Stage-Seconds--Step-log(Alpha)--Dir-------------Energy-----------RMSforce\n",
      " minCGnP       0   281     -7.97  77.1           2487.036              2.312\n",
      " minCGnP       0   282     -8.32  75.5           2486.993              1.987\n",
      " minCGnP       0   283     -7.05  74.0           2486.880              1.802\n",
      " minCGnP       0   284     -8.17  76.3           2486.850              2.034\n",
      " minCGnP       0   285     -7.82  74.4           2486.795              1.723\n",
      " minCGnP       0   286     -8.42  78.7           2486.774              2.299\n",
      " minCGnP       0   287     -7.19  83.4           2486.639              3.719\n",
      " minCGnP       0   288     -8.31  77.9           2486.527              2.330\n",
      " minCGnP       0   289     -7.75  81.4           2486.450              3.195\n",
      " minCGnP       0   290     -8.20  80.8           2486.356              3.043\n",
      "---Stage-Seconds--Step-log(Alpha)--Dir-------------Energy-----------RMSforce\n",
      " minCGnP       0   291     -8.58  81.2           2486.299              3.085\n",
      " minCGnP       0   292     -7.60  82.6           2486.139              3.450\n",
      " minCGnP       0   293     -7.72  83.6           2485.966              4.193\n",
      " minCGnP       0   294     -7.92  82.8           2485.750              3.924\n",
      " minCGnP       0   295     -7.89  84.8           2485.566              5.344\n",
      " minCGnP       0   296     -8.43  84.3           2485.345              5.478\n",
      " minCGnP       0   297     -8.46  82.0           2485.142              4.342\n",
      " minCGnP       0   298     -7.44  84.9           2484.786              6.108\n",
      " minCGnP       0   299     -8.65  83.6           2484.555              5.978\n",
      " minCGnP       0   300     -8.46  83.3           2484.315              5.862\n",
      "---Stage-Seconds--Step-log(Alpha)--Dir-------------Energy-----------RMSforce\n",
      " minCGnP       0   301     -7.88  84.0           2483.879              5.135\n",
      " minCGnP       0   302     -8.13  82.7           2483.609              5.301\n",
      " minCGnP       0   303     -8.41  83.9           2483.413              5.874\n",
      " minCGnP       0   304     -8.29  83.2           2483.108              4.461\n",
      " minCGnP       0   305     -7.84  83.3           2482.856              5.193\n",
      " minCGnP       0   306     -7.89  84.4           2482.517              6.099\n",
      " minCGnP       0   307     -7.56  82.6           2481.853              5.886\n",
      " minCGnP       0   308     -8.53  83.6           2481.637              5.185\n",
      " minCGnP       0   309     -8.29  84.0           2481.404              4.777\n",
      " minCGnP       0   310     -8.22  82.8           2481.203              4.529\n",
      "---Stage-Seconds--Step-log(Alpha)--Dir-------------Energy-----------RMSforce\n",
      " minCGnP       0   311     -8.19  84.3           2481.022              5.164\n",
      " minCGnP       0   312     -8.78  82.7           2480.882              4.160\n",
      " minCGnP       0   313     -7.98  83.5           2480.685              5.276\n",
      " minCGnP       0   314     -8.51  83.3           2480.506              4.692\n",
      " minCGnP       0   315     -8.76  81.2           2480.389              3.634\n",
      " minCGnP       0   316     -7.50  84.4           2480.144              6.089\n",
      " minCGnP       0   317     -8.56  84.1           2479.921              4.755\n",
      " minCGnP       0   318     -8.64  82.8           2479.786              3.659\n",
      " minCGnP       0   319     -7.75  82.7           2479.594              4.187\n",
      " minCGnP       0   320     -8.77  82.1           2479.506              3.473\n",
      "---Stage-Seconds--Step-log(Alpha)--Dir-------------Energy-----------RMSforce\n",
      " minCGnP       0   321     -8.22  82.3           2479.397              3.267\n",
      " minCGnP       0   322     -8.12  81.7           2479.293              3.123\n",
      " minCGnP       0   323     -8.18  83.9           2479.205              4.035\n",
      " minCGnP       0   324     -8.70  80.8           2479.113              2.528\n",
      " minCGnP       0   325     -7.66  84.0           2479.012              4.039\n",
      " minCGnP       0   326     -8.25  84.5           2478.879              3.963\n",
      " minCGnP       0   327     -8.83  82.6           2478.801              2.862\n",
      " minCGnP       0   328     -7.83  80.6           2478.693              2.715\n",
      " minCGnP       0   329     -8.92  77.2           2478.660              1.843\n",
      " minCGnP       0   330     -8.33  79.2           2478.633              2.149\n",
      "---Stage-Seconds--Step-log(Alpha)--Dir-------------Energy-----------RMSforce\n",
      " minCGnP       0   331     -7.70  80.6           2478.564              2.535\n",
      " minCGnP       0   332     -8.04  82.8           2478.497              3.179\n",
      " minCGnP       0   333     -8.80   0.0           2478.446              2.120\n",
      " minCGnP       0   334     -8.87  35.4           2478.425              1.506\n",
      " minCGnP       0   335     -8.21  55.2           2478.405              1.770\n",
      " minCGnP       0   336     -8.33  53.2           2478.380              1.353\n",
      " minCGnP       0   337     -7.70  65.9           2478.352              1.814\n",
      " minCGnP       0   338     -7.75  61.4           2478.306              1.345\n",
      " minCGnP       0   339     -7.76  70.8           2478.280              1.852\n",
      " minCGnP       0   340     -8.24  69.2           2478.251              1.609\n",
      "---Stage-Seconds--Step-log(Alpha)--Dir-------------Energy-----------RMSforce\n",
      " minCGnP       0   341     -8.50  72.0           2478.233              1.767\n",
      " minCGnP       0   342     -7.95  68.1           2478.197              1.338\n",
      " minCGnP       0   343     -7.41  72.5           2478.161              1.585\n",
      " minCGnP       0   344     -8.33  67.8           2478.141              1.168\n",
      " minCGnP       0   345     -7.58  73.7           2478.118              1.509\n",
      " minCGnP       0   346     -8.56  70.0           2478.103              1.157\n",
      " minCGnP       0   347     -8.46  72.8           2478.094              1.281\n",
      " minCGnP       0   348     -7.71  67.5           2478.070              0.910\n",
      " minCGnP       0   349     -6.80  79.5           2478.039              1.871\n",
      " minCGnP       0   350     -8.30  75.5           2478.011              1.314\n",
      "---Stage-Seconds--Step-log(Alpha)--Dir-------------Energy-----------RMSforce\n",
      " minCGnP       0   351     -8.18  76.3           2477.994              1.350\n",
      " minCGnP       0   352     -8.61  75.7           2477.983              1.250\n",
      " minCGnP       0   353     -7.80  79.0           2477.962              1.593\n",
      " minCGnP       0   354     -7.77  76.3           2477.927              1.279\n",
      " minCGnP       0   355     -7.66  81.3           2477.901              1.993\n",
      " minCGnP       0   356     -7.92  74.8           2477.854              1.125\n",
      " minCGnP       0   357     -8.68  76.6           2477.847              1.237\n",
      " minCGnP       0   358     -7.15  83.3           2477.807              2.420\n",
      " minCGnP       0   359     -7.96  79.6           2477.740              1.411\n",
      " minCGnP       0   360     -7.70  80.8           2477.710              1.563\n",
      "---Stage-Seconds--Step-log(Alpha)--Dir-------------Energy-----------RMSforce\n",
      " minCGnP       0   361     -8.71  74.4           2477.697              0.895\n",
      " minCGnP       0   362     -8.16  80.3           2477.689              1.404\n",
      " minCGnP       0   363     -7.38  80.0           2477.649              1.378\n",
      " minCGnP       0   364     -7.40  81.4           2477.610              1.611\n",
      " minCGnP       0   365     -8.51  77.8           2477.593              1.103\n",
      " minCGnP       0   366     -7.97  78.9           2477.579              1.179\n",
      " minCGnP       0   367     -8.89  74.2           2477.573              0.802\n",
      " minCGnP       0   368     -7.89  73.4           2477.565              0.729\n",
      " minCGnP       0   369     -8.19  68.3           2477.560              0.523\n",
      " minCGnP       0   370     -7.23  76.4           2477.553              0.798\n",
      "---Stage-Seconds--Step-log(Alpha)--Dir-------------Energy-----------RMSforce\n",
      " minCGnP       0   371     -8.45  74.9           2477.549              0.699\n",
      " minCGnP       0   372     -7.93  80.9           2477.543              1.135\n",
      " minCGnP       0   373     -8.16  72.7           2477.531              0.582\n",
      "DONE absolute force test:\n",
      "forceRmsMag(0.461167).LT.forceTolerance(0.500000)\n"
     ]
    },
    {
     "data": {
      "text/plain": [
       "*EE*"
      ]
     },
     "execution_count": 15,
     "metadata": {},
     "output_type": "execute_result"
    }
   ],
   "source": [
    "(defparameter *ee* (energy:minimize *chemagg*))"
   ]
  },
  {
   "cell_type": "markdown",
   "metadata": {},
   "source": [
    "#### Visualize the minimized structure and demonstrate that the force field parameters lead to the construction of a chemically"
   ]
  },
  {
   "cell_type": "markdown",
   "metadata": {},
   "source": [
    "#### reasonable structure."
   ]
  },
  {
   "cell_type": "code",
   "execution_count": 16,
   "metadata": {},
   "outputs": [
    {
     "name": "stderr",
     "output_type": "stream",
     "text": [
      "An error occurred of type: UNDEFINED-FUNCTION: \n",
      "  #<UNDEFINED-FUNCTION>\n"
     ]
    },
    {
     "data": {
      "text/plain": [
       "NIL"
      ]
     },
     "execution_count": 16,
     "metadata": {},
     "output_type": "execute_result"
    }
   ],
   "source": [
    "(nglv::show-aggregate *chemagg*)"
   ]
  },
  {
   "cell_type": "code",
   "execution_count": 17,
   "metadata": {},
   "outputs": [
    {
     "data": {
      "application/vnd.jupyter.widget-view+json": {
       "model_id": "47A8C126-165A-458B-B16D-A7AFD2DA8A4F",
       "version_major": 2,
       "version_minor": 0
      },
      "text/html": [
       "<p>Failed to display Jupyter Widget of type <code>{widget_type}</code>.</p>\n",
       "<p>\n",
       "  If you're reading this message in the Jupyter Notebook or JupyterLab Notebook, it may mean\n",
       "  that the widgets JavaScript is still loading. If this message persists, it\n",
       "  likely means that the widgets JavaScript library is either not installed or\n",
       "  not enabled. See the <a href=\"https://ipywidgets.readthedocs.io/en/stable/user_install.html\">Jupyter\n",
       "  Widgets Documentation</a> for setup instructions.\n",
       "</p>\n",
       "<p>\n",
       "  If you're reading this message in another frontend (for example, a static\n",
       "  rendering on GitHub or <a href=\"https://nbviewer.jupyter.org/\">NBViewer</a>),\n",
       "  it may mean that your frontend doesn't currently support widgets.\n",
       "</p>\n"
      ],
      "text/plain": [
       "A Jupyter Widget"
      ]
     },
     "execution_count": 17,
     "metadata": {},
     "output_type": "execute_result"
    }
   ],
   "source": [
    "(cando::show-aggregate *chemagg*)"
   ]
  },
  {
   "cell_type": "code",
   "execution_count": 19,
   "metadata": {},
   "outputs": [
    {
     "name": "stdout",
     "output_type": "stream",
     "text": [
      "rings NIL\n",
      "rings NIL\n",
      "rings NIL\n",
      "rings NIL\n",
      "rings NIL\n",
      "rings NIL\n"
     ]
    },
    {
     "data": {
      "text/plain": [
       "*BCC*"
      ]
     },
     "execution_count": 19,
     "metadata": {},
     "output_type": "execute_result"
    }
   ],
   "source": [
    "(:= *bcc* (charges:calculate-bcc-corrections *chemagg*))"
   ]
  },
  {
   "cell_type": "code",
   "execution_count": 24,
   "metadata": {},
   "outputs": [
    {
     "data": {
      "text/plain": [
       "*ORDER*"
      ]
     },
     "execution_count": 24,
     "metadata": {},
     "output_type": "execute_result"
    }
   ],
   "source": [
    " (:= *order* (charges:write-sqm-calculation (open \"/tmp/sqm-input.txt\" :direction :output) *chemagg*))"
   ]
  },
  {
   "cell_type": "code",
   "execution_count": 25,
   "metadata": {},
   "outputs": [
    {
     "data": {
      "text/plain": [
       "0"
      ]
     },
     "execution_count": 25,
     "metadata": {},
     "output_type": "execute_result"
    }
   ],
   "source": [
    "(ext:vfork-execvp (list (namestring (translate-logical-pathname #P\"amber:bin;sqm\"))\n",
    "                             \"-O\"\n",
    "                             \"-i\" \"/tmp/sqm-input.txt\"\n",
    "                             \"-o\" \"/tmp/sqm-output.out\"))"
   ]
  },
  {
   "cell_type": "code",
   "execution_count": 26,
   "metadata": {},
   "outputs": [
    {
     "data": {
      "text/plain": [
       "*AM1*"
      ]
     },
     "execution_count": 26,
     "metadata": {},
     "output_type": "execute_result"
    }
   ],
   "source": [
    "(:= *am1* (charges:read-am1-charges \"/tmp/sqm-output.out\" *order*))"
   ]
  },
  {
   "cell_type": "code",
   "execution_count": 27,
   "metadata": {},
   "outputs": [
    {
     "name": "stdout",
     "output_type": "stream",
     "text": [
      "atom #<ATOM :HH31/:H> charge 0.117d0\n",
      "atom #<ATOM :O/:O> charge -0.371d0\n",
      "atom #<ATOM :HH33/:H> charge 0.084d0\n",
      "atom #<ATOM :O/:O> charge -0.38d0\n",
      "atom #<ATOM :NH/:N> charge -0.376d0\n",
      "atom #<ATOM :CH3/:C> charge -0.22d0\n",
      "atom #<ATOM :C/:C> charge 0.006d0\n",
      "atom #<ATOM :H/:H> charge 0.137d0\n",
      "atom #<ATOM :NH/:N> charge -0.363d0\n",
      "atom #<ATOM :HH/:H> charge 0.23500000000000001d0\n",
      "atom #<ATOM :HH/:H> charge 0.227d0\n",
      "atom #<ATOM :HH33/:H> charge 0.067d0\n",
      "atom #<ATOM :HH31/:H> charge 0.117d0\n",
      "atom #<ATOM :HH32/:H> charge 0.07100000000000001d0\n",
      "atom #<ATOM :CH3/:C> charge -0.079d0\n",
      "atom #<ATOM :HH32/:H> charge 0.094d0\n",
      "atom #<ATOM :HH32/:H> charge 0.10500000000000001d0\n",
      "atom #<ATOM :C/:C> charge 0.301d0\n",
      "atom #<ATOM :CH3/:C> charge -0.24100000000000002d0\n",
      "atom #<ATOM :HH33/:H> charge 0.10200000000000001d0\n",
      "atom #<ATOM :C_0/:C> charge 0.275d0\n",
      "atom #<ATOM :HH31/:H> charge 0.092d0\n"
     ]
    },
    {
     "data": {
      "text/plain": [
       "NIL"
      ]
     },
     "execution_count": 27,
     "metadata": {},
     "output_type": "execute_result"
    }
   ],
   "source": [
    "(maphash (lambda (atom charge) \n",
    "                 (format t \"atom ~a charge ~a~%\" atom charge)) *am1*)"
   ]
  },
  {
   "cell_type": "code",
   "execution_count": 28,
   "metadata": {},
   "outputs": [
    {
     "name": "stdout",
     "output_type": "stream",
     "text": [
      "atom #<ATOM :HH31/:H> charge 0.0393\n",
      "atom #<ATOM :O/:O> charge 0.2391\n",
      "atom #<ATOM :HH33/:H> charge 0.0393\n",
      "atom #<ATOM :O/:O> charge 0.2391\n",
      "atom #<ATOM :NH/:N> charge -0.0466\n",
      "atom #<ATOM :CH3/:C> charge 0.1179\n",
      "atom #<ATOM :C/:C> charge 0.1475\n",
      "atom #<ATOM :H/:H> charge 0.0393\n",
      "atom #<ATOM :NH/:N> charge -0.0466\n",
      "atom #<ATOM :HH/:H> charge -0.2048\n",
      "atom #<ATOM :HH/:H> charge -0.2048\n",
      "atom #<ATOM :HH33/:H> charge 0.0393\n",
      "atom #<ATOM :HH31/:H> charge 0.0393\n",
      "atom #<ATOM :HH32/:H> charge 0.0393\n",
      "atom #<ATOM :CH3/:C> charge 0.27609998\n",
      "atom #<ATOM :HH32/:H> charge 0.0393\n",
      "atom #<ATOM :HH32/:H> charge 0.0393\n",
      "atom #<ATOM :C/:C> charge 0.1891\n",
      "atom #<ATOM :CH3/:C> charge 0.0679\n",
      "atom #<ATOM :HH33/:H> charge 0.0393\n",
      "atom #<ATOM :C_0/:C> charge 0.1891\n",
      "atom #<ATOM :HH31/:H> charge 0.0393\n"
     ]
    },
    {
     "data": {
      "text/plain": [
       "NIL"
      ]
     },
     "execution_count": 28,
     "metadata": {},
     "output_type": "execute_result"
    }
   ],
   "source": [
    "(maphash (lambda (atom charge) \n",
    "                 (format t \"atom ~a charge ~a~%\" atom charge)) *bcc*)"
   ]
  },
  {
   "cell_type": "code",
   "execution_count": 29,
   "metadata": {},
   "outputs": [
    {
     "name": "stdout",
     "output_type": "stream",
     "text": [
      "rings NIL\n",
      "rings NIL\n",
      "rings NIL\n",
      "rings NIL\n",
      "rings NIL\n",
      "rings NIL\n"
     ]
    },
    {
     "data": {
      "text/plain": [
       "NIL"
      ]
     },
     "execution_count": 29,
     "metadata": {},
     "output_type": "execute_result"
    }
   ],
   "source": [
    "(charges:calculate-am1-bcc-charges *chemagg*)"
   ]
  },
  {
   "cell_type": "code",
   "execution_count": 31,
   "metadata": {},
   "outputs": [
    {
     "name": "stderr",
     "output_type": "stream",
     "text": [
      "Reader error: incomplete input (condition of type: END-OF-FILE)\n"
     ]
    },
    {
     "data": {
      "text/plain": [
       "NIL"
      ]
     },
     "execution_count": 31,
     "metadata": {},
     "output_type": "execute_result"
    }
   ],
   "source": [
    "(chem:map-atoms nil (lambda (r) (format t \"atom ~a charge ~a~%\" (chem:get-name r) (* (chem:get-charge r) 18.2223)) *chemagg*)"
   ]
  },
  {
   "cell_type": "code",
   "execution_count": 34,
   "metadata": {},
   "outputs": [
    {
     "name": "stdout",
     "output_type": "stream",
     "text": [
      "Saving matter to /Users/tuj24515/Development/clasp/extensions/cando/src/tests/alanine-demo/alanine.mol2\n"
     ]
    },
    {
     "data": {
      "text/plain": [
       "NIL"
      ]
     },
     "execution_count": 34,
     "metadata": {},
     "output_type": "execute_result"
    }
   ],
   "source": [
    "(save-mol2 *chemagg* \"alanine.mol2\")"
   ]
  },
  {
   "cell_type": "markdown",
   "metadata": {},
   "source": [
    "#### Assign atom types and change one of them for alanine atom type definition."
   ]
  },
  {
   "cell_type": "code",
   "execution_count": 78,
   "metadata": {},
   "outputs": [
    {
     "data": {
      "text/plain": [
       "NIL"
      ]
     },
     "execution_count": 78,
     "metadata": {},
     "output_type": "execute_result"
    }
   ],
   "source": [
    "(assign-atom-types *chemagg*)\n",
    "(chem:map-atoms 'nil (lambda (a) (if (eq (chem:get-type a) :CT)\n",
    "                                     (if (eq (chem:get-name a) :C)\n",
    "                                         (chem:set-type a :CX)))) *chemagg*)"
   ]
  },
  {
   "cell_type": "markdown",
   "metadata": {},
   "source": [
    "#### Save the topology file and coordinate file."
   ]
  },
  {
   "cell_type": "code",
   "execution_count": 79,
   "metadata": {},
   "outputs": [
    {
     "data": {
      "text/plain": [
       "T"
      ]
     },
     "execution_count": 79,
     "metadata": {},
     "output_type": "execute_result"
    }
   ],
   "source": [
    "(leap.topology:save-amber-parm-format *chemagg* \"chemagg.top\" \"chemagg.crd\" :assign-types nil)"
   ]
  },
  {
   "cell_type": "markdown",
   "metadata": {},
   "source": [
    "## Create topology and coordinate file for Alanine and water atoms."
   ]
  },
  {
   "cell_type": "markdown",
   "metadata": {},
   "source": [
    "#### Load Tip3pfbox water box."
   ]
  },
  {
   "cell_type": "code",
   "execution_count": 92,
   "metadata": {},
   "outputs": [
    {
     "data": {
      "text/plain": [
       "(:TIP3PFBOX)"
      ]
     },
     "execution_count": 92,
     "metadata": {},
     "output_type": "execute_result"
    }
   ],
   "source": [
    "(load-off \"tip3pfbox.off\")"
   ]
  },
  {
   "cell_type": "markdown",
   "metadata": {},
   "source": [
    "#### Make agggregate of the water box."
   ]
  },
  {
   "cell_type": "code",
   "execution_count": 93,
   "metadata": {},
   "outputs": [
    {
     "name": "stdout",
     "output_type": "stream",
     "text": [
      "\n",
      "#<AGGREGATE NIL> "
     ]
    },
    {
     "data": {
      "text/plain": [
       "#<AGGREGATE NIL>"
      ]
     },
     "execution_count": 93,
     "metadata": {},
     "output_type": "execute_result"
    }
   ],
   "source": [
    "(print ~tip3pfbox)"
   ]
  },
  {
   "cell_type": "code",
   "execution_count": 94,
   "metadata": {},
   "outputs": [
    {
     "data": {
      "text/plain": [
       "*SOLVENT*"
      ]
     },
     "execution_count": 94,
     "metadata": {},
     "output_type": "execute_result"
    }
   ],
   "source": [
    "(defparameter *solvent* ~tip3pfbox)"
   ]
  },
  {
   "cell_type": "code",
   "execution_count": 95,
   "metadata": {},
   "outputs": [
    {
     "name": "stderr",
     "output_type": "stream",
     "text": [
      "An error occurred of type: UNDEFINED-FUNCTION: \n",
      "  #<UNDEFINED-FUNCTION>\n"
     ]
    },
    {
     "data": {
      "text/plain": [
       "NIL"
      ]
     },
     "execution_count": 95,
     "metadata": {},
     "output_type": "execute_result"
    }
   ],
   "source": [
    "(nglv::show-aggregate *solvent*)"
   ]
  },
  {
   "cell_type": "markdown",
   "metadata": {},
   "source": [
    "#### Assign the atom types of the force field to the water box."
   ]
  },
  {
   "cell_type": "code",
   "execution_count": 96,
   "metadata": {},
   "outputs": [
    {
     "data": {
      "text/plain": [
       "NIL"
      ]
     },
     "execution_count": 96,
     "metadata": {},
     "output_type": "execute_result"
    }
   ],
   "source": [
    "(assign-atom-types *solvent*)"
   ]
  },
  {
   "cell_type": "markdown",
   "metadata": {},
   "source": [
    "#### Add Tip3p water molecules to the alanine."
   ]
  },
  {
   "cell_type": "code",
   "execution_count": 97,
   "metadata": {},
   "outputs": [
    {
     "name": "stdout",
     "output_type": "stream",
     "text": [
      "Total bounding box for atom centers:  29.353789041228794d0 26.304757298876325d0 23.279665206725056d0\n"
     ]
    },
    {
     "data": {
      "text/plain": [
       "NIL"
      ]
     },
     "execution_count": 97,
     "metadata": {},
     "output_type": "execute_result"
    }
   ],
   "source": [
    "(leap.solvate::tool-solvate-and-shell *chemagg* *solvent* '(10.0 10.0 10.0))"
   ]
  },
  {
   "cell_type": "code",
   "execution_count": 66,
   "metadata": {},
   "outputs": [
    {
     "name": "stderr",
     "output_type": "stream",
     "text": [
      "An error occurred of type: UNDEFINED-FUNCTION: \n",
      "  #<UNDEFINED-FUNCTION>\n"
     ]
    },
    {
     "data": {
      "text/plain": [
       "NIL"
      ]
     },
     "execution_count": 66,
     "metadata": {},
     "output_type": "execute_result"
    }
   ],
   "source": [
    "(nglv::show-aggregate *newagg*)"
   ]
  },
  {
   "cell_type": "code",
   "execution_count": 98,
   "metadata": {},
   "outputs": [
    {
     "data": {
      "application/vnd.jupyter.widget-view+json": {
       "model_id": "CCC1D5ED-46F1-4965-BE5D-774CDBA406A9",
       "version_major": 2,
       "version_minor": 0
      },
      "text/html": [
       "<p>Failed to display Jupyter Widget of type <code>{widget_type}</code>.</p>\n",
       "<p>\n",
       "  If you're reading this message in the Jupyter Notebook or JupyterLab Notebook, it may mean\n",
       "  that the widgets JavaScript is still loading. If this message persists, it\n",
       "  likely means that the widgets JavaScript library is either not installed or\n",
       "  not enabled. See the <a href=\"https://ipywidgets.readthedocs.io/en/stable/user_install.html\">Jupyter\n",
       "  Widgets Documentation</a> for setup instructions.\n",
       "</p>\n",
       "<p>\n",
       "  If you're reading this message in another frontend (for example, a static\n",
       "  rendering on GitHub or <a href=\"https://nbviewer.jupyter.org/\">NBViewer</a>),\n",
       "  it may mean that your frontend doesn't currently support widgets.\n",
       "</p>\n"
      ],
      "text/plain": [
       "A Jupyter Widget"
      ]
     },
     "execution_count": 98,
     "metadata": {},
     "output_type": "execute_result"
    }
   ],
   "source": [
    "(show *chemagg*)"
   ]
  },
  {
   "cell_type": "markdown",
   "metadata": {},
   "source": [
    "#### Save the topology and coordinate file. New aggregate contains water molecules and alanine."
   ]
  },
  {
   "cell_type": "code",
   "execution_count": 99,
   "metadata": {},
   "outputs": [
    {
     "data": {
      "text/plain": [
       "NIL"
      ]
     },
     "execution_count": 99,
     "metadata": {},
     "output_type": "execute_result"
    }
   ],
   "source": [
    "(assign-atom-types *chemagg*)\n",
    "(chem:map-atoms 'nil (lambda (a) (if (eq (chem:get-type a) :CT)\n",
    "                                     (if (eq (chem:get-name a) :C)\n",
    "                                         (chem:set-type a :CX)))) *chemagg*)"
   ]
  },
  {
   "cell_type": "code",
   "execution_count": 100,
   "metadata": {},
   "outputs": [
    {
     "data": {
      "text/plain": [
       "T"
      ]
     },
     "execution_count": 100,
     "metadata": {},
     "output_type": "execute_result"
    }
   ],
   "source": [
    "(leap.topology:save-amber-parm-format *chemagg* \"chemagg_water.top\" \"chemagg_water.crd\" :assign-types nil)"
   ]
  },
  {
   "cell_type": "code",
   "execution_count": null,
   "metadata": {},
   "outputs": [],
   "source": [
    "(load-mol2 \"alanine-leap.mol2\")"
   ]
  },
  {
   "cell_type": "code",
   "execution_count": null,
   "metadata": {},
   "outputs": [],
   "source": []
  },
  {
   "cell_type": "code",
   "execution_count": null,
   "metadata": {},
   "outputs": [],
   "source": []
  },
  {
   "cell_type": "code",
   "execution_count": null,
   "metadata": {},
   "outputs": [],
   "source": []
  },
  {
   "cell_type": "markdown",
   "metadata": {},
   "source": [
    "#### Calculate each energy parameters."
   ]
  },
  {
   "cell_type": "code",
   "execution_count": 31,
   "metadata": {},
   "outputs": [
    {
     "data": {
      "text/plain": [
       "1720.1189821006878d0"
      ]
     },
     "execution_count": 31,
     "metadata": {},
     "output_type": "execute_result"
    }
   ],
   "source": [
    "(chem:get-energy (chem:get-stretch-component *e*))"
   ]
  },
  {
   "cell_type": "code",
   "execution_count": 32,
   "metadata": {},
   "outputs": [
    {
     "data": {
      "text/plain": [
       "0.30171081698364277d0"
      ]
     },
     "execution_count": 32,
     "metadata": {},
     "output_type": "execute_result"
    }
   ],
   "source": [
    "(chem:get-energy (chem:get-angle-component *e*))"
   ]
  },
  {
   "cell_type": "code",
   "execution_count": 33,
   "metadata": {},
   "outputs": [
    {
     "data": {
      "text/plain": [
       "5.456751705606037d0"
      ]
     },
     "execution_count": 33,
     "metadata": {},
     "output_type": "execute_result"
    }
   ],
   "source": [
    "(chem:get-energy (chem:get-dihedral-component *e*))"
   ]
  },
  {
   "cell_type": "code",
   "execution_count": 34,
   "metadata": {},
   "outputs": [
    {
     "data": {
      "text/plain": [
       "658.8024508583202d0"
      ]
     },
     "execution_count": 34,
     "metadata": {},
     "output_type": "execute_result"
    }
   ],
   "source": [
    "(chem:get-energy (chem:get-nonbond-component *e*))"
   ]
  },
  {
   "cell_type": "code",
   "execution_count": 34,
   "metadata": {},
   "outputs": [
    {
     "name": "stdout",
     "output_type": "stream",
     "text": [
      "CHEM:ADD-SUPERPOSE-ATOM  Function\n",
      "CHEM:CLEAR-SUPERPOSE-ATOMS  Function\n",
      "CHEM:SET-FINAL-COORDINATES-AS-FIXED-WITHIN-SUPERPOSE-ENGINE  Function\n",
      "CHEM:SET-FINAL-COORDINATES-AS-MOVEABLE-WITHIN-SUPERPOSE-ENGINE  Function\n",
      "CHEM:SET-SUPERPOSABLE-COORDINATES-AS-FIXED-WITHIN-SUPERPOSE-ENGINE  Function\n",
      "CHEM:SET-SUPERPOSABLE-COORDINATES-AS-MOVEABLE-WITHIN-SUPERPOSE-ENGINE  Function\n",
      "CHEM:SUPERPOSE  Function\n",
      "CANDO::SUPERPOSE-AGAINST-TEMPLATE  Function\n",
      "CANDO::SUPERPOSE-ALL  Function\n",
      "CHEM:SUPERPOSE-ALL-HEAVY-ATOMS  Function\n",
      "CHEM:SUPERPOSE-ENGINE\n",
      "CANDO::SUPERPOSE-ONE  Function\n",
      "CHEM:SUPERPOSE-SELECTED-ATOMS\n",
      "CHEM::SUPERPOSER\n"
     ]
    },
    {
     "data": {
      "text/plain": [
       "NIL"
      ]
     },
     "execution_count": 34,
     "metadata": {},
     "output_type": "execute_result"
    }
   ],
   "source": [
    "(apropos \"superpose\")"
   ]
  },
  {
   "cell_type": "code",
   "execution_count": 88,
   "metadata": {},
   "outputs": [
    {
     "data": {
      "application/vnd.jupyter.widget-view+json": {
       "model_id": "E7E4F0CF-9CCE-4EF5-B403-2ED852FB34F2",
       "version_major": 2,
       "version_minor": 0
      },
      "text/plain": [
       "A Jupyter Widget"
      ]
     },
     "execution_count": 88,
     "metadata": {},
     "output_type": "execute_result"
    }
   ],
   "source": [
    "(:= w (show *chemagg*)) w"
   ]
  },
  {
   "cell_type": "code",
   "execution_count": 93,
   "metadata": {
    "scrolled": true
   },
   "outputs": [
    {
     "data": {
      "text/plain": [
       "((\"atom\" (\"index\" . 20) (\"residueIndex\" . 2) (\"resname\" . \"NIL_3\")\n",
       "  (\"x\" . 216.329) (\"y\" . 322.549) (\"z\" . -0.62) (\"element\" . \"H\")\n",
       "  (\"chainname\" . \"A\") (\"resno\" . 3) (\"serial\" . 21) (\"vdw\" . 1.1)\n",
       "  (\"covalent\" . 0.31) (\"hetero\" . 1) (\"bfactor\" . 0) (\"altloc\" . \"\")\n",
       "  (\"atomname\" . \"HH33\")))"
      ]
     },
     "execution_count": 93,
     "metadata": {},
     "output_type": "execute_result"
    }
   ],
   "source": [
    "(nglv::picked w)"
   ]
  },
  {
   "cell_type": "code",
   "execution_count": 94,
   "metadata": {},
   "outputs": [
    {
     "data": {
      "text/plain": [
       "DISTANCE"
      ]
     },
     "execution_count": 94,
     "metadata": {},
     "output_type": "execute_result"
    }
   ],
   "source": [
    "(defun distance (p1 p2) (geom:vlength (geom:v- p1 p2)))"
   ]
  },
  {
   "cell_type": "code",
   "execution_count": 95,
   "metadata": {},
   "outputs": [
    {
     "data": {
      "text/plain": [
       "*A*"
      ]
     },
     "execution_count": 95,
     "metadata": {},
     "output_type": "execute_result"
    }
   ],
   "source": [
    "(:= *a* (let* ((picked (nglv::picked w))\n",
    "       (atom (cdr (assoc \"atom\" picked :test #'string=)))\n",
    "       (x (cdr (assoc \"x\" atom :test #'string=)))\n",
    "       (y (cdr (assoc \"y\" atom :test #'string=)))\n",
    "       (z (cdr (assoc \"z\" atom :test #'string=)))\n",
    "       (pos (geom:vec x y z))\n",
    "        resulta)\n",
    "     (chem:map-atoms nil (lambda (a) \n",
    "                                 (when (< (distance pos (chem:get-position a)) 0.01) \n",
    "                                     (setf resulta a))) *chemagg*)\n",
    "              resulta))"
   ]
  },
  {
   "cell_type": "code",
   "execution_count": 96,
   "metadata": {},
   "outputs": [
    {
     "data": {
      "text/plain": [
       "#<ATOM :HH33/:H>"
      ]
     },
     "execution_count": 96,
     "metadata": {},
     "output_type": "execute_result"
    }
   ],
   "source": [
    "*a*"
   ]
  },
  {
   "cell_type": "code",
   "execution_count": 97,
   "metadata": {},
   "outputs": [
    {
     "data": {
      "text/plain": [
       "*P*"
      ]
     },
     "execution_count": 97,
     "metadata": {},
     "output_type": "execute_result"
    }
   ],
   "source": [
    "(:= *p* (core:make-cxx-object 'chem:chem-info))"
   ]
  },
  {
   "cell_type": "code",
   "execution_count": 98,
   "metadata": {},
   "outputs": [
    {
     "data": {
      "text/plain": [
       "T"
      ]
     },
     "execution_count": 98,
     "metadata": {},
     "output_type": "execute_result"
    }
   ],
   "source": [
    "(chem:compile-smarts *p* \"CC\")"
   ]
  },
  {
   "cell_type": "code",
   "execution_count": 99,
   "metadata": {},
   "outputs": [
    {
     "data": {
      "text/plain": [
       "NIL"
      ]
     },
     "execution_count": 99,
     "metadata": {},
     "output_type": "execute_result"
    }
   ],
   "source": [
    "(chem:matches *p* *a*)"
   ]
  },
  {
   "cell_type": "code",
   "execution_count": 10,
   "metadata": {
    "collapsed": true
   },
   "outputs": [
    {
     "data": {
      "text/plain": [
       "*ALA-LEAP*"
      ]
     },
     "execution_count": 10,
     "metadata": {},
     "output_type": "execute_result"
    }
   ],
   "source": [
    "(:= *ala-leap* (load-mol2 \"alanine_leap.mol2\"))"
   ]
  },
  {
   "cell_type": "code",
   "execution_count": 11,
   "metadata": {
    "collapsed": true
   },
   "outputs": [
    {
     "data": {
      "application/vnd.jupyter.widget-view+json": {
       "model_id": "9BD25291-F2A7-4C42-98A1-CDB1605D5428",
       "version_major": 2,
       "version_minor": 0
      },
      "text/html": [
       "<p>Failed to display Jupyter Widget of type <code>{widget_type}</code>.</p>\n",
       "<p>\n",
       "  If you're reading this message in the Jupyter Notebook or JupyterLab Notebook, it may mean\n",
       "  that the widgets JavaScript is still loading. If this message persists, it\n",
       "  likely means that the widgets JavaScript library is either not installed or\n",
       "  not enabled. See the <a href=\"https://ipywidgets.readthedocs.io/en/stable/user_install.html\">Jupyter\n",
       "  Widgets Documentation</a> for setup instructions.\n",
       "</p>\n",
       "<p>\n",
       "  If you're reading this message in another frontend (for example, a static\n",
       "  rendering on GitHub or <a href=\"https://nbviewer.jupyter.org/\">NBViewer</a>),\n",
       "  it may mean that your frontend doesn't currently support widgets.\n",
       "</p>\n"
      ],
      "text/plain": [
       "A Jupyter Widget"
      ]
     },
     "execution_count": 11,
     "metadata": {},
     "output_type": "execute_result"
    }
   ],
   "source": [
    "(cando::show-aggregate *ala-leap*)"
   ]
  },
  {
   "cell_type": "code",
   "execution_count": 12,
   "metadata": {},
   "outputs": [
    {
     "name": "stdout",
     "output_type": "stream",
     "text": [
      "type HC name H1\n",
      " type CT name CH3\n",
      " type HC name H2\n",
      " type HC name H3\n",
      " type C name C\n",
      " type O name O\n",
      " type N name N\n",
      " type H name H\n",
      " type CX name CA\n",
      " type H1 name HA\n",
      " type CT name CB\n",
      " type HC name HB1\n",
      " type HC name HB2\n",
      " type HC name HB3\n",
      " type C name C\n",
      " type O name O\n",
      " type N name N\n",
      " type H name H\n",
      " type CT name CH3\n",
      " type H1 name HH31\n",
      " type H1 name HH32\n",
      " type H1 name HH33\n",
      " "
     ]
    },
    {
     "data": {
      "text/plain": [
       "NIL"
      ]
     },
     "execution_count": 12,
     "metadata": {},
     "output_type": "execute_result"
    }
   ],
   "source": [
    "(chem:map-atoms 'nil (lambda (a) (format t \"type ~a name ~a~% \" (chem:get-type a) (chem:get-name a)))\n",
    "                \n",
    "                             *ala-leap*)"
   ]
  },
  {
   "cell_type": "code",
   "execution_count": 17,
   "metadata": {},
   "outputs": [
    {
     "data": {
      "text/plain": [
       "T"
      ]
     },
     "execution_count": 17,
     "metadata": {},
     "output_type": "execute_result"
    }
   ],
   "source": [
    "(leap.topology:save-amber-parm-format *ala-leap* \"alanine_cando.top\" \"alanine_cando.crd\" :assign-types nil)"
   ]
  },
  {
   "cell_type": "code",
   "execution_count": 42,
   "metadata": {},
   "outputs": [
    {
     "name": "stdout",
     "output_type": "stream",
     "text": [
      "popped residue: #<PDB-RESIDUE ACE>\n",
      "popped residue: #<PDB-RESIDUE ALA>\n",
      "popped residue: #<PDB-RESIDUE NME>\n",
      "Built 3 missing hydrogens\n"
     ]
    },
    {
     "name": "stderr",
     "output_type": "stream",
     "text": [
      "SIMPLE-WARNING: \n",
      "Loaded atom (1 H1 ACE NIL 1 NIL) but amber form #<TOPOLOGY  :name :ACE @0x122212e48> does not recognize it\n",
      "SIMPLE-WARNING: \n",
      "Loaded atom (3 H2 ACE NIL 1 NIL) but amber form #<TOPOLOGY  :name :ACE @0x122212e48> does not recognize it\n",
      "SIMPLE-WARNING: \n",
      "Loaded atom (4 H3 ACE NIL 1 NIL) but amber form #<TOPOLOGY  :name :ACE @0x122212e48> does not recognize it\n"
     ]
    },
    {
     "data": {
      "text/plain": [
       "*ALA-PDB*"
      ]
     },
     "execution_count": 42,
     "metadata": {},
     "output_type": "execute_result"
    }
   ],
   "source": [
    "(:= *ala-pdb* (load-pdb \"ace-ala-nme.pdb\"))"
   ]
  },
  {
   "cell_type": "code",
   "execution_count": 25,
   "metadata": {},
   "outputs": [
    {
     "data": {
      "application/vnd.jupyter.widget-view+json": {
       "model_id": "D6F8F9E0-C259-4CB8-BD82-BC4F9896D574",
       "version_major": 2,
       "version_minor": 0
      },
      "text/html": [
       "<p>Failed to display Jupyter Widget of type <code>{widget_type}</code>.</p>\n",
       "<p>\n",
       "  If you're reading this message in the Jupyter Notebook or JupyterLab Notebook, it may mean\n",
       "  that the widgets JavaScript is still loading. If this message persists, it\n",
       "  likely means that the widgets JavaScript library is either not installed or\n",
       "  not enabled. See the <a href=\"https://ipywidgets.readthedocs.io/en/stable/user_install.html\">Jupyter\n",
       "  Widgets Documentation</a> for setup instructions.\n",
       "</p>\n",
       "<p>\n",
       "  If you're reading this message in another frontend (for example, a static\n",
       "  rendering on GitHub or <a href=\"https://nbviewer.jupyter.org/\">NBViewer</a>),\n",
       "  it may mean that your frontend doesn't currently support widgets.\n",
       "</p>\n"
      ],
      "text/plain": [
       "A Jupyter Widget"
      ]
     },
     "execution_count": 25,
     "metadata": {},
     "output_type": "execute_result"
    }
   ],
   "source": [
    "(cando::show-aggregate *ala-pdb*)"
   ]
  },
  {
   "cell_type": "code",
   "execution_count": 26,
   "metadata": {},
   "outputs": [
    {
     "name": "stdout",
     "output_type": "stream",
     "text": [
      "type HC name H1\n",
      " type CT name CH3\n",
      " type HC name H2\n",
      " type HC name H3\n",
      " type C name C\n",
      " type O name O\n",
      " type N name N\n",
      " type H name H\n",
      " type CX name CA\n",
      " type H1 name HA\n",
      " type CT name CB\n",
      " type HC name HB1\n",
      " type HC name HB2\n",
      " type HC name HB3\n",
      " type C name C\n",
      " type O name O\n",
      " type N name N\n",
      " type H name H\n",
      " type CT name CH3\n",
      " type H1 name HH31\n",
      " type H1 name HH32\n",
      " type H1 name HH33\n",
      " "
     ]
    },
    {
     "data": {
      "text/plain": [
       "NIL"
      ]
     },
     "execution_count": 26,
     "metadata": {},
     "output_type": "execute_result"
    }
   ],
   "source": [
    "(chem:map-atoms 'nil (lambda (a) (format t \"type ~a name ~a~% \" (chem:get-type a) (chem:get-name a)))\n",
    "                \n",
    "                             *ala-leap*)"
   ]
  },
  {
   "cell_type": "code",
   "execution_count": 27,
   "metadata": {},
   "outputs": [
    {
     "data": {
      "text/plain": [
       "T"
      ]
     },
     "execution_count": 27,
     "metadata": {},
     "output_type": "execute_result"
    }
   ],
   "source": [
    "(leap.topology:save-amber-parm-format *ala-pdb* \"alanine_pdb.top\" \"alanine_pdb.crd\" :assign-types nil)"
   ]
  },
  {
   "cell_type": "code",
   "execution_count": null,
   "metadata": {},
   "outputs": [],
   "source": []
  }
 ],
 "metadata": {
  "kernelspec": {
   "display_name": "Cando",
   "language": "lisp",
   "name": "lisp"
  },
  "language_info": {
   "codemirror_mode": "text/x-common-lisp",
   "mimetype": "text/x-common-lisp",
   "name": "common-lisp",
   "pygments_lexer": "common-lisp",
   "version": "X3J13"
  }
 },
 "nbformat": 4,
 "nbformat_minor": 2
}
