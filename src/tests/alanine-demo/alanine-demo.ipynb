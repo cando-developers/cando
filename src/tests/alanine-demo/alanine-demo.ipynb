{
 "cells": [
  {
   "cell_type": "markdown",
   "metadata": {},
   "source": [
    "## Set the enviroments."
   ]
  },
  {
   "cell_type": "markdown",
   "metadata": {},
   "source": [
    "#### Connect to slime."
   ]
  },
  {
   "cell_type": "code",
   "execution_count": 8,
   "metadata": {},
   "outputs": [
    {
     "data": {
      "text/plain": [
       "16"
      ]
     },
     "execution_count": 8,
     "metadata": {},
     "output_type": "execute_result"
    }
   ],
   "source": [
    "(length (core:bformat nil \"%16.8e\" 1234.5676))"
   ]
  },
  {
   "cell_type": "code",
   "execution_count": 1,
   "metadata": {
    "scrolled": true
   },
   "outputs": [
    {
     "data": {
      "text/plain": [
       "T"
      ]
     },
     "execution_count": 1,
     "metadata": {},
     "output_type": "execute_result"
    }
   ],
   "source": [
    "(start-swank)"
   ]
  },
  {
   "cell_type": "markdown",
   "metadata": {},
   "source": [
    "#### Add paths."
   ]
  },
  {
   "cell_type": "code",
   "execution_count": 2,
   "metadata": {
    "scrolled": true
   },
   "outputs": [
    {
     "data": {
      "text/plain": [
       "(#P\"/Users/tuj24515/Development/amber16/dat/antechamber/\"\n",
       " #P\"/Users/tuj24515/Development/amber16/dat/leap/prep/\"\n",
       " #P\"/Users/tuj24515/Development/amber16/dat/leap/parm/\"\n",
       " #P\"/Users/tuj24515/Development/amber16/dat/leap/lib/\"\n",
       " #P\"/Users/tuj24515/Development/amber16/dat/leap/cmd/\"\n",
       " #P\"/Users/tuj24515/Development/clasp/extensions/cando/src/tests/alanine-demo/\")"
      ]
     },
     "execution_count": 2,
     "metadata": {},
     "output_type": "execute_result"
    }
   ],
   "source": [
    "(leap.core::clear-path)\n",
    "(add-path *default-pathname-defaults*)\n",
    "(add-path \"~/Development/amber16/dat/leap/cmd/\")\n",
    "(add-path \"~/Development/amber16/dat/leap/lib/\")\n",
    "(add-path \"~/Development/amber16/dat/leap/parm/\")\n",
    "(add-path \"~/Development/amber16/dat/leap/prep/\")\n",
    "(add-path \"~/Development/amber16/dat/antechamber/\")"
   ]
  },
  {
   "cell_type": "markdown",
   "metadata": {},
   "source": [
    "#### Load the amber force field."
   ]
  },
  {
   "cell_type": "code",
   "execution_count": 3,
   "metadata": {},
   "outputs": [
    {
     "data": {
      "text/plain": [
       "(#<FORCE-FIELD ATOMTYPE_AMBER.DEF>)"
      ]
     },
     "execution_count": 3,
     "metadata": {},
     "output_type": "execute_result"
    }
   ],
   "source": [
    "(load-atom-type-rules \"ATOMTYPE_AMBER.DEF\")"
   ]
  },
  {
   "cell_type": "code",
   "execution_count": 4,
   "metadata": {
    "scrolled": true
   },
   "outputs": [
    {
     "name": "stderr",
     "output_type": "stream",
     "text": [
      "SIMPLE-WARNING: \n",
      "add-atom-types doesn't do anything\n",
      "SIMPLE-WARNING: \n",
      "Warning!  Skipping 10-12 hbond\n",
      "SIMPLE-WARNING: \n",
      "Warning!  Skipping force field atom equivalences\n"
     ]
    },
    {
     "data": {
      "text/plain": [
       "T"
      ]
     },
     "execution_count": 4,
     "metadata": {},
     "output_type": "execute_result"
    }
   ],
   "source": [
    "(source \"leaprc.protein.ff14SB\")"
   ]
  },
  {
   "cell_type": "code",
   "execution_count": 5,
   "metadata": {},
   "outputs": [
    {
     "data": {
      "text/plain": [
       "(#<FORCE-FIELD water_amber.def> #<FORCE-FIELD frcmod.ff14SB>\n",
       " #<FORCE-FIELD parm10.dat> #<FORCE-FIELD ATOMTYPE_AMBER.DEF>)"
      ]
     },
     "execution_count": 5,
     "metadata": {},
     "output_type": "execute_result"
    }
   ],
   "source": [
    "(load-atom-type-rules \"water_amber.def\")"
   ]
  },
  {
   "cell_type": "code",
   "execution_count": 6,
   "metadata": {
    "scrolled": true
   },
   "outputs": [
    {
     "data": {
      "text/plain": [
       "*FF*"
      ]
     },
     "execution_count": 6,
     "metadata": {},
     "output_type": "execute_result"
    }
   ],
   "source": [
    "(:= *ff* (leap.core::merged-force-field))"
   ]
  },
  {
   "cell_type": "markdown",
   "metadata": {},
   "source": [
    "## Create topology and coordinate file for Alanine"
   ]
  },
  {
   "cell_type": "markdown",
   "metadata": {},
   "source": [
    "#### Load the alanine from Chemdraw file."
   ]
  },
  {
   "cell_type": "code",
   "execution_count": 19,
   "metadata": {
    "scrolled": true
   },
   "outputs": [
    {
     "data": {
      "text/plain": [
       "*CHEMAGG*"
      ]
     },
     "execution_count": 19,
     "metadata": {},
     "output_type": "execute_result"
    }
   ],
   "source": [
    "(defparameter *chemagg* (cando:load-chem-draw-aggregate \"alanine2.cdxml\"))"
   ]
  },
  {
   "cell_type": "code",
   "execution_count": 20,
   "metadata": {},
   "outputs": [
    {
     "data": {
      "text/plain": [
       "NIL"
      ]
     },
     "execution_count": 20,
     "metadata": {},
     "output_type": "execute_result"
    }
   ],
   "source": [
    "(build-hydrogens *chemagg*)"
   ]
  },
  {
   "cell_type": "code",
   "execution_count": 21,
   "metadata": {},
   "outputs": [
    {
     "data": {
      "application/vnd.jupyter.widget-view+json": {
       "model_id": "BEA50975-057D-488C-96BB-E84799F77FD6",
       "version_major": 2,
       "version_minor": 0
      },
      "text/html": [
       "<p>Failed to display Jupyter Widget of type <code>{widget_type}</code>.</p>\n",
       "<p>\n",
       "  If you're reading this message in the Jupyter Notebook or JupyterLab Notebook, it may mean\n",
       "  that the widgets JavaScript is still loading. If this message persists, it\n",
       "  likely means that the widgets JavaScript library is either not installed or\n",
       "  not enabled. See the <a href=\"https://ipywidgets.readthedocs.io/en/stable/user_install.html\">Jupyter\n",
       "  Widgets Documentation</a> for setup instructions.\n",
       "</p>\n",
       "<p>\n",
       "  If you're reading this message in another frontend (for example, a static\n",
       "  rendering on GitHub or <a href=\"https://nbviewer.jupyter.org/\">NBViewer</a>),\n",
       "  it may mean that your frontend doesn't currently support widgets.\n",
       "</p>\n"
      ],
      "text/plain": [
       "A Jupyter Widget"
      ]
     },
     "execution_count": 21,
     "metadata": {},
     "output_type": "execute_result"
    }
   ],
   "source": [
    "(cando::show-aggregate *chemagg*)"
   ]
  },
  {
   "cell_type": "code",
   "execution_count": 22,
   "metadata": {},
   "outputs": [
    {
     "name": "stderr",
     "output_type": "stream",
     "text": [
      "An error occurred of type: UNDEFINED-FUNCTION: \n",
      "  #<UNDEFINED-FUNCTION>\n"
     ]
    },
    {
     "data": {
      "text/plain": [
       "NIL"
      ]
     },
     "execution_count": 22,
     "metadata": {},
     "output_type": "execute_result"
    }
   ],
   "source": [
    "(nglv::show-aggregate *chemagg*)"
   ]
  },
  {
   "cell_type": "markdown",
   "metadata": {},
   "source": [
    "#### Gather atoms to the center."
   ]
  },
  {
   "cell_type": "code",
   "execution_count": 23,
   "metadata": {},
   "outputs": [
    {
     "name": "stdout",
     "output_type": "stream",
     "text": [
      "C_0    S\n"
     ]
    },
    {
     "data": {
      "text/plain": [
       "NIL"
      ]
     },
     "execution_count": 23,
     "metadata": {},
     "output_type": "execute_result"
    }
   ],
   "source": [
    "(progn\n",
    "  (defparameter *stereocenters*\n",
    "    (sort (cando:gather-stereocenters *chemagg*) #'string< :key #'chem:get-name))\n",
    "  (cando:set-stereoisomer-func *stereocenters* (constantly :S) :show t)\n",
    "  (let ((quat-matcher (core:make-cxx-object 'chem:chem-info)))\n",
    "    (chem:compile-smarts quat-matcher \"[C&H0&D4]\")\n",
    "    (chem:map-atoms nil (lambda (a) (when (chem:matches quat-matcher a)\n",
    "                  (chem:set-configuration a :S)\n",
    "                  (format t \"Set atom ~a to :S~%\" (chem:get-name a))))\n",
    "            *chemagg*)))"
   ]
  },
  {
   "cell_type": "markdown",
   "metadata": {},
   "source": [
    "#### Set the bounding box."
   ]
  },
  {
   "cell_type": "markdown",
   "metadata": {},
   "source": [
    "#### Assign atom types and change one of them for alanine atom type definition."
   ]
  },
  {
   "cell_type": "code",
   "execution_count": 24,
   "metadata": {},
   "outputs": [
    {
     "data": {
      "text/plain": [
       "NIL"
      ]
     },
     "execution_count": 24,
     "metadata": {},
     "output_type": "execute_result"
    }
   ],
   "source": [
    "(assign-atom-types *chemagg*)\n",
    "(chem:map-atoms 'nil (lambda (a) (if (eq (chem:get-type a) :CT)\n",
    "                                     (if (eq (chem:get-name a) :C_0)\n",
    "                                         (chem:set-type a :CX)))) *chemagg*)"
   ]
  },
  {
   "cell_type": "code",
   "execution_count": 25,
   "metadata": {},
   "outputs": [
    {
     "name": "stdout",
     "output_type": "stream",
     "text": [
      "type CX name C_0 "
     ]
    },
    {
     "data": {
      "text/plain": [
       "NIL"
      ]
     },
     "execution_count": 25,
     "metadata": {},
     "output_type": "execute_result"
    }
   ],
   "source": [
    "\n",
    "(chem:map-atoms 'nil (lambda (a) (if (eq (chem:get-name a) :C_0)\n",
    "                                     (format t \"type ~a name ~a \" (chem:get-type a) (chem:get-name a))))\n",
    "                             *chemagg*)"
   ]
  },
  {
   "cell_type": "markdown",
   "metadata": {},
   "source": [
    "####  Assign force-field parameters and minimize the energy of the molecule."
   ]
  },
  {
   "cell_type": "code",
   "execution_count": 26,
   "metadata": {},
   "outputs": [
    {
     "data": {
      "text/plain": [
       "NIL"
      ]
     },
     "execution_count": 26,
     "metadata": {},
     "output_type": "execute_result"
    }
   ],
   "source": [
    "(cando:jostle *chemagg*)"
   ]
  },
  {
   "cell_type": "code",
   "execution_count": 27,
   "metadata": {},
   "outputs": [
    {
     "name": "stdout",
     "output_type": "stream",
     "text": [
      "minimize-no-fail\n",
      "======= Starting Steepest Descent Minimizer\n",
      "---Stage-Seconds--Step-log(Alpha)--Dir-------------Energy-----------RMSforce\n",
      " minSDnP       0     1      -inf   0.0              0.000          13290.040\n",
      " minSDnP       0     2     -7.97   0.0        2338253.847           6446.298\n",
      "DONE absolute force test:\n",
      "forceRmsMag(4751.408305).LT.forceTolerance(5000.000000)\n",
      "======= Starting Conjugate Gradient Minimizer\n",
      " minCGnP       0     3      -inf   0.0              0.000           4751.408\n",
      " minCGnP       0     4     -7.83  38.6        1633207.994           3787.039\n",
      " minCGnP       0     5     -6.97  56.8        1206503.675           5209.188\n",
      " minCGnP       0     6     -8.75  45.2        1122755.696           2950.402\n",
      " minCGnP       0     7     -7.64  42.6         980612.237           2086.800\n",
      " minCGnP       0     8     -7.05  66.5         853925.063           3643.118\n",
      " minCGnP       0     9     -7.61  64.5         671374.143           3957.363\n",
      " minCGnP       0    10     -8.07  79.5         461402.094           9359.987\n",
      "---Stage-Seconds--Step-log(Alpha)--Dir-------------Energy-----------RMSforce\n",
      " minCGnP       0    11    -11.40  75.5         433865.633           5236.048\n",
      " minCGnP       0    12    -10.39  80.2         401224.129           6409.509\n",
      " minCGnP       0    13     -9.97   0.0         365305.770           2916.139\n",
      " minCGnP       0    14     -9.60  64.6         340370.062           6131.042\n",
      " minCGnP       0    15    -10.13  13.7         314429.729           1593.827\n",
      " minCGnP       0    16     -7.69  45.0         269487.234           1424.943\n",
      " minCGnP       0    17     -7.76  71.9         240942.473           3310.524\n",
      " minCGnP       0    18     -9.56  40.2         228722.088           1414.017\n",
      " minCGnP       0    19     -7.49  52.2         189853.207           1187.271\n",
      " minCGnP       0    20     -8.32  71.8         177073.798           2081.307\n",
      "---Stage-Seconds--Step-log(Alpha)--Dir-------------Energy-----------RMSforce\n",
      " minCGnP       0    21     -9.03  69.9         162626.998           1997.089\n",
      " minCGnP       0    22     -8.58  69.1         144415.612           2208.085\n",
      " minCGnP       0    23     -9.13  47.1         136622.411           1274.637\n",
      " minCGnP       0    24     -7.46  59.5         101458.666           1435.449\n",
      " minCGnP       0    25     -8.78  57.1          92196.722           1284.217\n",
      " minCGnP       0    26     -8.23  62.4          77917.971           1382.386\n",
      " minCGnP       0    27     -8.20  54.1          65303.871            909.479\n",
      " minCGnP       0    28     -8.25  79.2          55557.581           2960.784\n",
      " minCGnP       0    29    -10.63  65.3          50357.273           1975.508\n",
      " minCGnP       0    30     -9.60  34.9          45015.303            778.293\n",
      "---Stage-Seconds--Step-log(Alpha)--Dir-------------Energy-----------RMSforce\n",
      " minCGnP       0    31     -7.76  58.4          39130.821           1046.360\n",
      " minCGnP       0    32    -10.25  59.4          38312.866           1177.627\n",
      " minCGnP       0    33     -9.47  41.5          36121.395            754.425\n",
      " minCGnP       0    34     -8.86  56.8          33647.378            781.169\n",
      " minCGnP       0    35     -8.80  44.8          30809.467            514.758\n",
      " minCGnP       0    36     -7.55  48.8          27837.165            428.630\n",
      " minCGnP       0    37     -7.30  66.8          23423.590            677.883\n",
      " minCGnP       0    38     -8.21  64.0          19526.112            728.183\n",
      " minCGnP       0    39     -8.85  74.7          16682.267           1277.710\n",
      " minCGnP       0    40    -10.09  73.0          15145.050            944.413\n",
      "---Stage-Seconds--Step-log(Alpha)--Dir-------------Energy-----------RMSforce\n",
      " minCGnP       0    41    -10.32  65.0          14228.221            785.947\n",
      " minCGnP       0    42     -9.13  56.9          12417.594            485.279\n",
      " minCGnP       0    43     -8.35  59.3          10788.742            437.365\n",
      " minCGnP       0    44     -7.99  60.8           9251.712            461.150\n",
      " minCGnP       0    45     -8.85  67.4           8368.785            637.724\n",
      " minCGnP       0    46     -8.83  37.2           7413.465            265.547\n",
      " minCGnP       0    47     -7.38  71.9           5926.085            666.323\n",
      " minCGnP       0    48     -9.88  32.2           5459.276            189.090\n",
      " minCGnP       0    49     -7.02  48.7           4421.419            154.593\n",
      " minCGnP       0    50     -7.25  68.0           3730.313            251.439\n",
      "---Stage-Seconds--Step-log(Alpha)--Dir-------------Energy-----------RMSforce\n",
      " minCGnP       0    51     -8.08  57.1           3276.767            195.333\n",
      " minCGnP       0    52     -7.32  58.8           2327.607            151.258\n",
      " minCGnP       0    53     -6.91  64.9           1588.427            137.837\n",
      " minCGnP       0    54     -6.73  66.9           1002.577            129.325\n",
      " minCGnP       0    55     -7.31  58.5            630.538             95.598\n",
      " minCGnP       0    56     -7.33  48.9            431.934             56.872\n",
      " minCGnP       0    57     -7.24  48.8            355.366             41.659\n",
      " minCGnP       0    58     -7.09  51.6            307.648             34.597\n",
      " minCGnP       0    59     -7.13  54.0            276.021             29.340\n",
      " minCGnP       0    60     -6.90  56.8            247.335             26.017\n",
      "---Stage-Seconds--Step-log(Alpha)--Dir-------------Energy-----------RMSforce\n",
      " minCGnP       0    61     -6.96  63.8            226.078             29.344\n",
      " minCGnP       0    62     -6.82  63.9            194.418             28.431\n",
      " minCGnP       0    63     -7.01  63.2            170.097             27.444\n",
      " minCGnP       0    64     -6.97  64.9            146.717             26.566\n",
      " minCGnP       0    65     -6.66  66.2            116.672             26.728\n",
      " minCGnP       0    66     -7.02  62.5             95.295             23.541\n",
      " minCGnP       0    67     -6.98  60.6             77.901             20.836\n",
      " minCGnP       0    68     -6.63  60.4             59.701             17.826\n",
      " minCGnP       0    69     -7.26  54.6             52.260             12.456\n",
      " minCGnP       0    70     -7.02  56.1             47.705             10.945\n",
      "---Stage-Seconds--Step-log(Alpha)--Dir-------------Energy-----------RMSforce\n",
      " minCGnP       0    71     -6.36  64.5             40.980             11.892\n",
      " minCGnP       0    72     -7.15  59.2             37.266              8.933\n",
      " minCGnP       0    73     -6.99  58.7             34.837              7.751\n",
      " minCGnP       0    74     -6.83  63.7             32.682              8.195\n",
      " minCGnP       0    75     -6.88  56.7             30.371              6.198\n",
      " minCGnP       0    76     -6.70  67.1             28.813              8.101\n",
      " minCGnP       0    77     -6.76  68.5             26.268              7.800\n",
      " minCGnP       0    78     -6.75  66.5             23.890              7.156\n",
      " minCGnP       0    79     -7.01   0.0             22.335              7.343\n",
      " minCGnP       0    80     -7.44  36.2             21.292              5.378\n",
      "---Stage-Seconds--Step-log(Alpha)--Dir-------------Energy-----------RMSforce\n",
      " minCGnP       0    81     -6.48  54.5             19.826              6.041\n",
      " minCGnP       0    82     -6.89  48.9             18.602              4.137\n",
      " minCGnP       0    83     -7.00  54.2             18.090              3.776\n",
      " minCGnP       0    84     -6.08  60.5             17.019              3.847\n",
      " minCGnP       0    85     -6.72  61.6             16.428              3.435\n",
      " minCGnP       0    86     -6.55  68.8             15.868              4.234\n",
      " minCGnP       0    87     -6.81  67.5             15.211              3.810\n",
      " minCGnP       0    88     -6.78  70.1             14.665              4.063\n",
      " minCGnP       0    89     -6.67  72.2             13.974              4.317\n",
      " minCGnP       0    90     -6.51  70.2             13.057              3.626\n",
      "---Stage-Seconds--Step-log(Alpha)--Dir-------------Energy-----------RMSforce\n",
      " minCGnP       0    91     -6.72  69.9             12.533              3.342\n",
      " minCGnP       0    92     -6.49  72.7             11.969              3.703\n",
      " minCGnP       0    93     -7.07  71.3             11.585              3.300\n",
      " minCGnP       0    94     -6.61  71.5             11.100              3.196\n",
      " minCGnP       0    95     -6.63  68.7             10.657              2.654\n",
      " minCGnP       0    96     -6.40  72.6             10.272              3.095\n",
      " minCGnP       0    97     -6.89  69.2              9.949              2.438\n",
      " minCGnP       0    98     -6.93  66.6              9.757              2.006\n",
      " minCGnP       0    99     -6.55  74.7              9.567              2.911\n",
      " minCGnP       0   100     -6.68  70.5              9.214              2.138\n",
      "---Stage-Seconds--Step-log(Alpha)--Dir-------------Energy-----------RMSforce\n",
      " minCGnP       0   101     -6.01  75.8              8.840              2.861\n",
      " minCGnP       0   102     -6.84  72.9              8.551              2.332\n",
      " minCGnP       0   103     -6.67  75.3              8.323              2.602\n",
      " minCGnP       0   104     -6.74  74.8              8.059              2.396\n",
      " minCGnP       0   105     -6.66  77.9              7.816              2.883\n",
      " minCGnP       0   106     -6.97  71.9              7.557              1.817\n",
      " minCGnP       0   107     -6.54  74.3              7.400              2.012\n",
      " minCGnP       0   108     -6.47  70.9              7.191              1.602\n",
      " minCGnP       0   109     -6.96  68.3              7.111              1.313\n",
      " minCGnP       0   110     -6.81  70.3              7.048              1.355\n",
      "---Stage-Seconds--Step-log(Alpha)--Dir-------------Energy-----------RMSforce\n",
      " minCGnP       0   111     -6.66  72.1              6.970              1.407\n",
      " minCGnP       0   112     -6.92  66.9              6.906              1.014\n",
      " minCGnP       0   113     -6.72  70.2              6.865              1.104\n",
      " minCGnP       0   114     -6.35  65.6              6.795              0.824\n",
      " minCGnP       0   115     -6.61  65.5              6.765              0.752\n",
      " minCGnP       0   116     -6.45  70.7              6.735              0.889\n",
      " minCGnP       0   117     -6.93  69.2              6.710              0.775\n",
      " minCGnP       0   118     -6.52  73.6              6.680              0.928\n",
      " minCGnP       0   119     -6.93  72.5              6.653              0.829\n",
      " minCGnP       0   120     -6.59  75.2              6.621              0.940\n",
      "---Stage-Seconds--Step-log(Alpha)--Dir-------------Energy-----------RMSforce\n",
      " minCGnP       0   121     -6.11  77.2              6.557              1.067\n",
      " minCGnP       0   122     -6.66  78.2              6.508              1.146\n",
      " minCGnP       0   123     -6.25  81.9              6.423              1.669\n",
      " minCGnP       0   124     -6.96  79.0              6.337              1.297\n",
      " minCGnP       0   125     -6.72  80.4              6.270              1.439\n",
      " minCGnP       0   126     -6.46  81.3              6.165              1.482\n",
      " minCGnP       0   127     -6.90  79.7              6.091              1.211\n",
      " minCGnP       0   128     -6.44  79.4              6.013              1.225\n",
      " minCGnP       0   129     -7.06  78.3              5.970              1.111\n",
      " minCGnP       0   130     -6.87  75.1              5.928              0.843\n",
      "---Stage-Seconds--Step-log(Alpha)--Dir-------------Energy-----------RMSforce\n",
      " minCGnP       0   131     -6.64  76.0              5.897              0.858\n",
      " minCGnP       0   132     -6.43  77.9              5.858              0.950\n",
      " minCGnP       0   133     -7.26  72.5              5.837              0.615\n",
      " minCGnP       0   134     -6.68  71.7              5.821              0.553\n",
      " minCGnP       0   135     -6.60  75.6              5.808              0.678\n",
      " minCGnP       0   136     -6.72  71.2              5.789              0.506\n",
      "DONE absolute force test:\n",
      "forceRmsMag(0.464103).LT.forceTolerance(0.500000)\n",
      "minimize-no-fail\n",
      "======= Starting Steepest Descent Minimizer\n",
      " minSDnP       0   137      -inf   0.0              0.000         135480.789\n",
      " minSDnP       0   138    -14.75   0.0          83311.506          49622.193\n",
      " minSDnP       0   139    -12.78   0.0          33206.064          22365.633\n",
      "DONE absolute force test:\n",
      "forceRmsMag(3716.016046).LT.forceTolerance(5000.000000)\n",
      "======= Starting Conjugate Gradient Minimizer\n",
      " minCGnP       0   140      -inf   0.0              0.000           3716.016\n",
      "---Stage-Seconds--Step-log(Alpha)--Dir-------------Energy-----------RMSforce\n",
      " minCGnP       0   141    -11.54  16.4           6208.120           1094.517\n",
      " minCGnP       0   142     -9.75  23.0           4889.326            404.403\n",
      " minCGnP       0   143     -8.29  44.7           3700.832            390.041\n",
      " minCGnP       0   144     -9.40  35.2           3349.941            234.106\n",
      " minCGnP       0   145     -8.79  25.2           3025.230            195.316\n",
      " minCGnP       0   146     -8.55  47.9           2766.214            177.916\n",
      " minCGnP       0   147     -9.72   0.0           2703.438             85.726\n",
      " minCGnP       0   148     -8.77  32.8           2663.843             55.186\n",
      " minCGnP       0   149     -7.84  62.0           2625.154             88.396\n",
      " minCGnP       0   150     -8.80  56.3           2585.854             57.229\n",
      "---Stage-Seconds--Step-log(Alpha)--Dir-------------Energy-----------RMSforce\n",
      " minCGnP       0   151     -8.29  57.5           2559.006             58.769\n",
      " minCGnP       0   152     -8.49  54.9           2536.393             42.421\n",
      " minCGnP       0   153     -8.86  51.0           2528.051             31.439\n",
      " minCGnP       0   154     -8.52  45.1           2521.424             20.787\n",
      " minCGnP       0   155     -8.39  51.6           2518.176             17.822\n",
      " minCGnP       0   156     -8.44  60.1           2515.923             19.405\n",
      " minCGnP       0   157     -8.51  55.0           2513.435             13.992\n",
      " minCGnP       0   158     -8.19  62.3           2511.639             15.214\n",
      " minCGnP       0   159     -7.88  73.9           2508.752             24.562\n",
      " minCGnP       0   160     -8.48  66.9           2504.654             16.263\n",
      "---Stage-Seconds--Step-log(Alpha)--Dir-------------Energy-----------RMSforce\n",
      " minCGnP       0   161     -8.27  70.1           2502.435             17.486\n",
      " minCGnP       0   162     -8.14  75.2           2499.475             23.278\n",
      " minCGnP       0   163     -8.57  69.7           2496.092             17.439\n",
      " minCGnP       0   164     -7.84  71.8           2492.180             17.612\n",
      " minCGnP       0   165     -8.69  70.9           2490.479             15.314\n",
      " minCGnP       0   166     -8.39  73.3           2488.721             16.554\n",
      " minCGnP       0   167     -8.09  68.2           2485.930             13.013\n",
      " minCGnP       0   168     -8.83  67.2           2485.115             11.729\n",
      " minCGnP       0   169     -8.33  63.4           2484.024              9.110\n",
      " minCGnP       0   170     -8.47  59.9           2483.446              6.975\n",
      "---Stage-Seconds--Step-log(Alpha)--Dir-------------Energy-----------RMSforce\n",
      " minCGnP       0   171     -8.39  67.7           2483.084              8.542\n",
      " minCGnP       0   172     -8.25  68.1           2482.456              8.005\n",
      " minCGnP       0   173     -8.26  67.8           2481.905              7.379\n",
      " minCGnP       0   174     -8.22  73.2           2481.424              9.358\n",
      " minCGnP       0   175     -8.60  65.9           2480.892              5.999\n",
      " minCGnP       0   176     -8.57  61.1           2480.667              4.431\n",
      " minCGnP       0   177     -8.06  68.9           2480.463              5.530\n",
      " minCGnP       0   178     -8.61  69.7           2480.279              5.391\n",
      " minCGnP       0   179     -7.58  75.4           2479.791              7.117\n",
      " minCGnP       0   180     -8.53  70.9           2479.460              5.318\n",
      "---Stage-Seconds--Step-log(Alpha)--Dir-------------Energy-----------RMSforce\n",
      " minCGnP       0   181     -8.73  71.0           2479.308              5.067\n",
      " minCGnP       0   182     -7.90  70.3           2478.993              4.595\n",
      " minCGnP       0   183     -8.45  68.5           2478.844              3.911\n",
      " minCGnP       0   184     -8.57  70.6           2478.748              4.043\n",
      " minCGnP       0   185     -8.22  64.8           2478.602              2.852\n",
      " minCGnP       0   186     -8.41  65.1           2478.543              2.623\n",
      " minCGnP       0   187     -8.31  70.1           2478.487              3.053\n",
      " minCGnP       0   188     -8.57  64.0           2478.429              2.119\n",
      " minCGnP       0   189     -8.07  64.2           2478.382              1.934\n",
      " minCGnP       0   190     -8.76  60.1           2478.363              1.456\n",
      "---Stage-Seconds--Step-log(Alpha)--Dir-------------Energy-----------RMSforce\n",
      " minCGnP       0   191     -8.57  62.3           2478.350              1.386\n",
      " minCGnP       0   192     -7.82  64.4           2478.324              1.348\n",
      " minCGnP       0   193     -8.36  70.0           2478.310              1.592\n",
      " minCGnP       0   194     -8.23  74.1           2478.288              1.918\n",
      " minCGnP       0   195     -8.15  67.6           2478.253              1.297\n",
      " minCGnP       0   196     -8.48  68.9           2478.241              1.280\n",
      " minCGnP       0   197     -8.62  66.5           2478.232              1.062\n",
      " minCGnP       0   198     -8.32  65.1           2478.222              0.914\n",
      " minCGnP       0   199     -7.85  72.6           2478.212              1.222\n",
      " minCGnP       0   200     -8.67  70.8           2478.203              1.055\n",
      "---Stage-Seconds--Step-log(Alpha)--Dir-------------Energy-----------RMSforce\n",
      " minCGnP       0   201     -8.21  72.4           2478.193              1.091\n",
      " minCGnP       0   202     -8.06  69.7           2478.181              0.894\n",
      " minCGnP       0   203     -8.91  65.8           2478.177              0.692\n",
      " minCGnP       0   204     -8.24  67.4           2478.173              0.680\n",
      " minCGnP       0   205     -8.21  67.0           2478.169              0.616\n",
      " minCGnP       0   206     -7.96  77.3           2478.165              1.068\n",
      " minCGnP       0   207     -8.12  74.6           2478.153              0.860\n",
      " minCGnP       0   208     -8.55  67.6           2478.149              0.553\n",
      " minCGnP       0   209     -8.48  70.3           2478.147              0.590\n",
      " minCGnP       0   210     -8.47  69.2           2478.144              0.522\n",
      "---Stage-Seconds--Step-log(Alpha)--Dir-------------Energy-----------RMSforce\n",
      " minCGnP       0   211     -7.82  74.7           2478.141              0.675\n",
      " minCGnP       0   212     -8.13  77.2           2478.136              0.786\n",
      " minCGnP       0   213     -8.74   0.0           2478.133              0.634\n",
      "DONE absolute force test:\n",
      "forceRmsMag(0.489720).LT.forceTolerance(0.500000)\n"
     ]
    },
    {
     "data": {
      "text/plain": [
       "*EE*"
      ]
     },
     "execution_count": 27,
     "metadata": {},
     "output_type": "execute_result"
    }
   ],
   "source": [
    "(defparameter *ee* (energy:minimize *chemagg*))"
   ]
  },
  {
   "cell_type": "markdown",
   "metadata": {},
   "source": [
    "#### Visualize the minimized structure and demonstrate that the force field parameters lead to the construction of a chemically"
   ]
  },
  {
   "cell_type": "markdown",
   "metadata": {},
   "source": [
    "#### reasonable structure."
   ]
  },
  {
   "cell_type": "code",
   "execution_count": 28,
   "metadata": {},
   "outputs": [
    {
     "name": "stderr",
     "output_type": "stream",
     "text": [
      "An error occurred of type: UNDEFINED-FUNCTION: \n",
      "  #<UNDEFINED-FUNCTION>\n"
     ]
    },
    {
     "data": {
      "text/plain": [
       "NIL"
      ]
     },
     "execution_count": 28,
     "metadata": {},
     "output_type": "execute_result"
    }
   ],
   "source": [
    "(nglv::show-aggregate *chemagg*)"
   ]
  },
  {
   "cell_type": "code",
   "execution_count": 29,
   "metadata": {},
   "outputs": [
    {
     "data": {
      "application/vnd.jupyter.widget-view+json": {
       "model_id": "D01BEC3A-3A50-45E8-B287-010881301088",
       "version_major": 2,
       "version_minor": 0
      },
      "text/html": [
       "<p>Failed to display Jupyter Widget of type <code>{widget_type}</code>.</p>\n",
       "<p>\n",
       "  If you're reading this message in the Jupyter Notebook or JupyterLab Notebook, it may mean\n",
       "  that the widgets JavaScript is still loading. If this message persists, it\n",
       "  likely means that the widgets JavaScript library is either not installed or\n",
       "  not enabled. See the <a href=\"https://ipywidgets.readthedocs.io/en/stable/user_install.html\">Jupyter\n",
       "  Widgets Documentation</a> for setup instructions.\n",
       "</p>\n",
       "<p>\n",
       "  If you're reading this message in another frontend (for example, a static\n",
       "  rendering on GitHub or <a href=\"https://nbviewer.jupyter.org/\">NBViewer</a>),\n",
       "  it may mean that your frontend doesn't currently support widgets.\n",
       "</p>\n"
      ],
      "text/plain": [
       "A Jupyter Widget"
      ]
     },
     "execution_count": 29,
     "metadata": {},
     "output_type": "execute_result"
    }
   ],
   "source": [
    "(cando::show-aggregate *chemagg*)"
   ]
  },
  {
   "cell_type": "code",
   "execution_count": 30,
   "metadata": {},
   "outputs": [
    {
     "data": {
      "text/plain": [
       "0"
      ]
     },
     "execution_count": 30,
     "metadata": {},
     "output_type": "execute_result"
    }
   ],
   "source": [
    "(ext:vfork-execvp (list (namestring (translate-logical-pathname #P\"amber:bin;sqm\"))\n",
    "                             \"-O\"\n",
    "                             \"-i\" \"/tmp/sqm-input.txt\"\n",
    "                             \"-o\" \"/tmp/sqm-output.out\"))"
   ]
  },
  {
   "cell_type": "code",
   "execution_count": 36,
   "metadata": {},
   "outputs": [
    {
     "name": "stderr",
     "output_type": "stream",
     "text": [
      "SIMPLE-ERROR: \n",
      "Mismatch atom name C_0 element C element 2\n"
     ]
    },
    {
     "data": {
      "text/plain": [
       "NIL"
      ]
     },
     "execution_count": 36,
     "metadata": {},
     "output_type": "execute_result"
    }
   ],
   "source": [
    "(charges:calculate-am1-bcc-charges *chemagg*)"
   ]
  },
  {
   "cell_type": "code",
   "execution_count": 34,
   "metadata": {},
   "outputs": [
    {
     "name": "stdout",
     "output_type": "stream",
     "text": [
      "Saving matter to /Users/tuj24515/Development/clasp/extensions/cando/src/tests/alanine-demo/alanine.mol2\n"
     ]
    },
    {
     "data": {
      "text/plain": [
       "NIL"
      ]
     },
     "execution_count": 34,
     "metadata": {},
     "output_type": "execute_result"
    }
   ],
   "source": [
    "(save-mol2 *chemagg* \"alanine.mol2\")"
   ]
  },
  {
   "cell_type": "markdown",
   "metadata": {},
   "source": [
    "#### Assign atom types and change one of them for alanine atom type definition."
   ]
  },
  {
   "cell_type": "code",
   "execution_count": 35,
   "metadata": {},
   "outputs": [
    {
     "data": {
      "text/plain": [
       "NIL"
      ]
     },
     "execution_count": 35,
     "metadata": {},
     "output_type": "execute_result"
    }
   ],
   "source": [
    "(assign-atom-types *chemagg*)\n",
    "(chem:map-atoms 'nil (lambda (a) (if (eq (chem:get-type a) :CT)\n",
    "                                     (if (eq (chem:get-name a) :C_0)\n",
    "                                         (chem:set-type a :CX)))) *chemagg*)"
   ]
  },
  {
   "cell_type": "markdown",
   "metadata": {},
   "source": [
    "#### Save the topology file and coordinate file."
   ]
  },
  {
   "cell_type": "code",
   "execution_count": 37,
   "metadata": {},
   "outputs": [
    {
     "data": {
      "text/plain": [
       "T"
      ]
     },
     "execution_count": 37,
     "metadata": {},
     "output_type": "execute_result"
    }
   ],
   "source": [
    "(leap.topology:save-amber-parm-format *chemagg* \"chemagg.top\" \"chemagg.crd\" :assign-types nil)"
   ]
  },
  {
   "cell_type": "markdown",
   "metadata": {},
   "source": [
    "## Create topology and coordinate file for Alanine and water atoms."
   ]
  },
  {
   "cell_type": "markdown",
   "metadata": {},
   "source": [
    "#### Load Tip3pfbox water box."
   ]
  },
  {
   "cell_type": "code",
   "execution_count": 92,
   "metadata": {},
   "outputs": [
    {
     "data": {
      "text/plain": [
       "(:TIP3PFBOX)"
      ]
     },
     "execution_count": 92,
     "metadata": {},
     "output_type": "execute_result"
    }
   ],
   "source": [
    "(load-off \"tip3pfbox.off\")"
   ]
  },
  {
   "cell_type": "markdown",
   "metadata": {},
   "source": [
    "#### Make agggregate of the water box."
   ]
  },
  {
   "cell_type": "code",
   "execution_count": 93,
   "metadata": {},
   "outputs": [
    {
     "name": "stdout",
     "output_type": "stream",
     "text": [
      "\n",
      "#<AGGREGATE NIL> "
     ]
    },
    {
     "data": {
      "text/plain": [
       "#<AGGREGATE NIL>"
      ]
     },
     "execution_count": 93,
     "metadata": {},
     "output_type": "execute_result"
    }
   ],
   "source": [
    "(print ~tip3pfbox)"
   ]
  },
  {
   "cell_type": "code",
   "execution_count": 94,
   "metadata": {},
   "outputs": [
    {
     "data": {
      "text/plain": [
       "*SOLVENT*"
      ]
     },
     "execution_count": 94,
     "metadata": {},
     "output_type": "execute_result"
    }
   ],
   "source": [
    "(defparameter *solvent* ~tip3pfbox)"
   ]
  },
  {
   "cell_type": "code",
   "execution_count": 95,
   "metadata": {},
   "outputs": [
    {
     "name": "stderr",
     "output_type": "stream",
     "text": [
      "An error occurred of type: UNDEFINED-FUNCTION: \n",
      "  #<UNDEFINED-FUNCTION>\n"
     ]
    },
    {
     "data": {
      "text/plain": [
       "NIL"
      ]
     },
     "execution_count": 95,
     "metadata": {},
     "output_type": "execute_result"
    }
   ],
   "source": [
    "(nglv::show-aggregate *solvent*)"
   ]
  },
  {
   "cell_type": "markdown",
   "metadata": {},
   "source": [
    "#### Assign the atom types of the force field to the water box."
   ]
  },
  {
   "cell_type": "code",
   "execution_count": 96,
   "metadata": {},
   "outputs": [
    {
     "data": {
      "text/plain": [
       "NIL"
      ]
     },
     "execution_count": 96,
     "metadata": {},
     "output_type": "execute_result"
    }
   ],
   "source": [
    "(assign-atom-types *solvent*)"
   ]
  },
  {
   "cell_type": "markdown",
   "metadata": {},
   "source": [
    "#### Add Tip3p water molecules to the alanine."
   ]
  },
  {
   "cell_type": "code",
   "execution_count": 97,
   "metadata": {},
   "outputs": [
    {
     "name": "stdout",
     "output_type": "stream",
     "text": [
      "Total bounding box for atom centers:  29.353789041228794d0 26.304757298876325d0 23.279665206725056d0\n"
     ]
    },
    {
     "data": {
      "text/plain": [
       "NIL"
      ]
     },
     "execution_count": 97,
     "metadata": {},
     "output_type": "execute_result"
    }
   ],
   "source": [
    "(leap.solvate::tool-solvate-and-shell *chemagg* *solvent* '(10.0 10.0 10.0))"
   ]
  },
  {
   "cell_type": "code",
   "execution_count": 66,
   "metadata": {},
   "outputs": [
    {
     "name": "stderr",
     "output_type": "stream",
     "text": [
      "An error occurred of type: UNDEFINED-FUNCTION: \n",
      "  #<UNDEFINED-FUNCTION>\n"
     ]
    },
    {
     "data": {
      "text/plain": [
       "NIL"
      ]
     },
     "execution_count": 66,
     "metadata": {},
     "output_type": "execute_result"
    }
   ],
   "source": [
    "(nglv::show-aggregate *newagg*)"
   ]
  },
  {
   "cell_type": "code",
   "execution_count": 98,
   "metadata": {},
   "outputs": [
    {
     "data": {
      "application/vnd.jupyter.widget-view+json": {
       "model_id": "CCC1D5ED-46F1-4965-BE5D-774CDBA406A9",
       "version_major": 2,
       "version_minor": 0
      },
      "text/html": [
       "<p>Failed to display Jupyter Widget of type <code>{widget_type}</code>.</p>\n",
       "<p>\n",
       "  If you're reading this message in the Jupyter Notebook or JupyterLab Notebook, it may mean\n",
       "  that the widgets JavaScript is still loading. If this message persists, it\n",
       "  likely means that the widgets JavaScript library is either not installed or\n",
       "  not enabled. See the <a href=\"https://ipywidgets.readthedocs.io/en/stable/user_install.html\">Jupyter\n",
       "  Widgets Documentation</a> for setup instructions.\n",
       "</p>\n",
       "<p>\n",
       "  If you're reading this message in another frontend (for example, a static\n",
       "  rendering on GitHub or <a href=\"https://nbviewer.jupyter.org/\">NBViewer</a>),\n",
       "  it may mean that your frontend doesn't currently support widgets.\n",
       "</p>\n"
      ],
      "text/plain": [
       "A Jupyter Widget"
      ]
     },
     "execution_count": 98,
     "metadata": {},
     "output_type": "execute_result"
    }
   ],
   "source": [
    "(show *chemagg*)"
   ]
  },
  {
   "cell_type": "markdown",
   "metadata": {},
   "source": [
    "#### Save the topology and coordinate file. New aggregate contains water molecules and alanine."
   ]
  },
  {
   "cell_type": "code",
   "execution_count": 99,
   "metadata": {},
   "outputs": [
    {
     "data": {
      "text/plain": [
       "NIL"
      ]
     },
     "execution_count": 99,
     "metadata": {},
     "output_type": "execute_result"
    }
   ],
   "source": [
    "(assign-atom-types *chemagg*)\n",
    "(chem:map-atoms 'nil (lambda (a) (if (eq (chem:get-type a) :CT)\n",
    "                                     (if (eq (chem:get-name a) :C)\n",
    "                                         (chem:set-type a :CX)))) *chemagg*)"
   ]
  },
  {
   "cell_type": "code",
   "execution_count": 100,
   "metadata": {},
   "outputs": [
    {
     "data": {
      "text/plain": [
       "T"
      ]
     },
     "execution_count": 100,
     "metadata": {},
     "output_type": "execute_result"
    }
   ],
   "source": [
    "(leap.topology:save-amber-parm-format *chemagg* \"chemagg_water.top\" \"chemagg_water.crd\" :assign-types nil)"
   ]
  },
  {
   "cell_type": "code",
   "execution_count": null,
   "metadata": {},
   "outputs": [],
   "source": [
    "(load-mol2 \"alanine-leap.mol2\")"
   ]
  },
  {
   "cell_type": "code",
   "execution_count": null,
   "metadata": {},
   "outputs": [],
   "source": []
  },
  {
   "cell_type": "code",
   "execution_count": null,
   "metadata": {},
   "outputs": [],
   "source": []
  },
  {
   "cell_type": "code",
   "execution_count": null,
   "metadata": {},
   "outputs": [],
   "source": []
  },
  {
   "cell_type": "markdown",
   "metadata": {},
   "source": [
    "#### Calculate each energy parameters."
   ]
  },
  {
   "cell_type": "code",
   "execution_count": 31,
   "metadata": {},
   "outputs": [
    {
     "data": {
      "text/plain": [
       "1720.1189821006878d0"
      ]
     },
     "execution_count": 31,
     "metadata": {},
     "output_type": "execute_result"
    }
   ],
   "source": [
    "(chem:get-energy (chem:get-stretch-component *e*))"
   ]
  },
  {
   "cell_type": "code",
   "execution_count": 32,
   "metadata": {},
   "outputs": [
    {
     "data": {
      "text/plain": [
       "0.30171081698364277d0"
      ]
     },
     "execution_count": 32,
     "metadata": {},
     "output_type": "execute_result"
    }
   ],
   "source": [
    "(chem:get-energy (chem:get-angle-component *e*))"
   ]
  },
  {
   "cell_type": "code",
   "execution_count": 33,
   "metadata": {},
   "outputs": [
    {
     "data": {
      "text/plain": [
       "5.456751705606037d0"
      ]
     },
     "execution_count": 33,
     "metadata": {},
     "output_type": "execute_result"
    }
   ],
   "source": [
    "(chem:get-energy (chem:get-dihedral-component *e*))"
   ]
  },
  {
   "cell_type": "code",
   "execution_count": 34,
   "metadata": {},
   "outputs": [
    {
     "data": {
      "text/plain": [
       "658.8024508583202d0"
      ]
     },
     "execution_count": 34,
     "metadata": {},
     "output_type": "execute_result"
    }
   ],
   "source": [
    "(chem:get-energy (chem:get-nonbond-component *e*))"
   ]
  },
  {
   "cell_type": "code",
   "execution_count": 34,
   "metadata": {},
   "outputs": [
    {
     "name": "stdout",
     "output_type": "stream",
     "text": [
      "CHEM:ADD-SUPERPOSE-ATOM  Function\n",
      "CHEM:CLEAR-SUPERPOSE-ATOMS  Function\n",
      "CHEM:SET-FINAL-COORDINATES-AS-FIXED-WITHIN-SUPERPOSE-ENGINE  Function\n",
      "CHEM:SET-FINAL-COORDINATES-AS-MOVEABLE-WITHIN-SUPERPOSE-ENGINE  Function\n",
      "CHEM:SET-SUPERPOSABLE-COORDINATES-AS-FIXED-WITHIN-SUPERPOSE-ENGINE  Function\n",
      "CHEM:SET-SUPERPOSABLE-COORDINATES-AS-MOVEABLE-WITHIN-SUPERPOSE-ENGINE  Function\n",
      "CHEM:SUPERPOSE  Function\n",
      "CANDO::SUPERPOSE-AGAINST-TEMPLATE  Function\n",
      "CANDO::SUPERPOSE-ALL  Function\n",
      "CHEM:SUPERPOSE-ALL-HEAVY-ATOMS  Function\n",
      "CHEM:SUPERPOSE-ENGINE\n",
      "CANDO::SUPERPOSE-ONE  Function\n",
      "CHEM:SUPERPOSE-SELECTED-ATOMS\n",
      "CHEM::SUPERPOSER\n"
     ]
    },
    {
     "data": {
      "text/plain": [
       "NIL"
      ]
     },
     "execution_count": 34,
     "metadata": {},
     "output_type": "execute_result"
    }
   ],
   "source": [
    "(apropos \"superpose\")"
   ]
  },
  {
   "cell_type": "code",
   "execution_count": 88,
   "metadata": {},
   "outputs": [
    {
     "data": {
      "application/vnd.jupyter.widget-view+json": {
       "model_id": "E7E4F0CF-9CCE-4EF5-B403-2ED852FB34F2",
       "version_major": 2,
       "version_minor": 0
      },
      "text/plain": [
       "A Jupyter Widget"
      ]
     },
     "execution_count": 88,
     "metadata": {},
     "output_type": "execute_result"
    }
   ],
   "source": [
    "(:= w (show *chemagg*)) w"
   ]
  },
  {
   "cell_type": "code",
   "execution_count": 93,
   "metadata": {
    "scrolled": true
   },
   "outputs": [
    {
     "data": {
      "text/plain": [
       "((\"atom\" (\"index\" . 20) (\"residueIndex\" . 2) (\"resname\" . \"NIL_3\")\n",
       "  (\"x\" . 216.329) (\"y\" . 322.549) (\"z\" . -0.62) (\"element\" . \"H\")\n",
       "  (\"chainname\" . \"A\") (\"resno\" . 3) (\"serial\" . 21) (\"vdw\" . 1.1)\n",
       "  (\"covalent\" . 0.31) (\"hetero\" . 1) (\"bfactor\" . 0) (\"altloc\" . \"\")\n",
       "  (\"atomname\" . \"HH33\")))"
      ]
     },
     "execution_count": 93,
     "metadata": {},
     "output_type": "execute_result"
    }
   ],
   "source": [
    "(nglv::picked w)"
   ]
  },
  {
   "cell_type": "code",
   "execution_count": 94,
   "metadata": {},
   "outputs": [
    {
     "data": {
      "text/plain": [
       "DISTANCE"
      ]
     },
     "execution_count": 94,
     "metadata": {},
     "output_type": "execute_result"
    }
   ],
   "source": [
    "(defun distance (p1 p2) (geom:vlength (geom:v- p1 p2)))"
   ]
  },
  {
   "cell_type": "code",
   "execution_count": 95,
   "metadata": {},
   "outputs": [
    {
     "data": {
      "text/plain": [
       "*A*"
      ]
     },
     "execution_count": 95,
     "metadata": {},
     "output_type": "execute_result"
    }
   ],
   "source": [
    "(:= *a* (let* ((picked (nglv::picked w))\n",
    "       (atom (cdr (assoc \"atom\" picked :test #'string=)))\n",
    "       (x (cdr (assoc \"x\" atom :test #'string=)))\n",
    "       (y (cdr (assoc \"y\" atom :test #'string=)))\n",
    "       (z (cdr (assoc \"z\" atom :test #'string=)))\n",
    "       (pos (geom:vec x y z))\n",
    "        resulta)\n",
    "     (chem:map-atoms nil (lambda (a) \n",
    "                                 (when (< (distance pos (chem:get-position a)) 0.01) \n",
    "                                     (setf resulta a))) *chemagg*)\n",
    "              resulta))"
   ]
  },
  {
   "cell_type": "code",
   "execution_count": 96,
   "metadata": {},
   "outputs": [
    {
     "data": {
      "text/plain": [
       "#<ATOM :HH33/:H>"
      ]
     },
     "execution_count": 96,
     "metadata": {},
     "output_type": "execute_result"
    }
   ],
   "source": [
    "*a*"
   ]
  },
  {
   "cell_type": "code",
   "execution_count": 97,
   "metadata": {},
   "outputs": [
    {
     "data": {
      "text/plain": [
       "*P*"
      ]
     },
     "execution_count": 97,
     "metadata": {},
     "output_type": "execute_result"
    }
   ],
   "source": [
    "(:= *p* (core:make-cxx-object 'chem:chem-info))"
   ]
  },
  {
   "cell_type": "code",
   "execution_count": 98,
   "metadata": {},
   "outputs": [
    {
     "data": {
      "text/plain": [
       "T"
      ]
     },
     "execution_count": 98,
     "metadata": {},
     "output_type": "execute_result"
    }
   ],
   "source": [
    "(chem:compile-smarts *p* \"CC\")"
   ]
  },
  {
   "cell_type": "code",
   "execution_count": 99,
   "metadata": {},
   "outputs": [
    {
     "data": {
      "text/plain": [
       "NIL"
      ]
     },
     "execution_count": 99,
     "metadata": {},
     "output_type": "execute_result"
    }
   ],
   "source": [
    "(chem:matches *p* *a*)"
   ]
  },
  {
   "cell_type": "code",
   "execution_count": 47,
   "metadata": {
    "collapsed": true
   },
   "outputs": [
    {
     "data": {
      "text/plain": [
       "*ALA-LEAP*"
      ]
     },
     "execution_count": 47,
     "metadata": {},
     "output_type": "execute_result"
    }
   ],
   "source": [
    "(:= *ala-leap* (load-mol2 \"alanine_leap.mol2\"))"
   ]
  },
  {
   "cell_type": "code",
   "execution_count": 48,
   "metadata": {
    "collapsed": true
   },
   "outputs": [
    {
     "data": {
      "application/vnd.jupyter.widget-view+json": {
       "model_id": "147A284A-609B-4A55-9E4A-1A7E6D352FBD",
       "version_major": 2,
       "version_minor": 0
      },
      "text/html": [
       "<p>Failed to display Jupyter Widget of type <code>{widget_type}</code>.</p>\n",
       "<p>\n",
       "  If you're reading this message in the Jupyter Notebook or JupyterLab Notebook, it may mean\n",
       "  that the widgets JavaScript is still loading. If this message persists, it\n",
       "  likely means that the widgets JavaScript library is either not installed or\n",
       "  not enabled. See the <a href=\"https://ipywidgets.readthedocs.io/en/stable/user_install.html\">Jupyter\n",
       "  Widgets Documentation</a> for setup instructions.\n",
       "</p>\n",
       "<p>\n",
       "  If you're reading this message in another frontend (for example, a static\n",
       "  rendering on GitHub or <a href=\"https://nbviewer.jupyter.org/\">NBViewer</a>),\n",
       "  it may mean that your frontend doesn't currently support widgets.\n",
       "</p>\n"
      ],
      "text/plain": [
       "A Jupyter Widget"
      ]
     },
     "execution_count": 48,
     "metadata": {},
     "output_type": "execute_result"
    }
   ],
   "source": [
    "(cando::show-aggregate *ala-leap*)"
   ]
  },
  {
   "cell_type": "code",
   "execution_count": 49,
   "metadata": {},
   "outputs": [
    {
     "name": "stdout",
     "output_type": "stream",
     "text": [
      "type HC name H1\n",
      " type CT name CH3\n",
      " type HC name H2\n",
      " type HC name H3\n",
      " type C name C\n",
      " type O name O\n",
      " type N name N\n",
      " type H name H\n",
      " type CX name CA\n",
      " type H1 name HA\n",
      " type CT name CB\n",
      " type HC name HB1\n",
      " type HC name HB2\n",
      " type HC name HB3\n",
      " type C name C\n",
      " type O name O\n",
      " type N name N\n",
      " type H name H\n",
      " type CT name CH3\n",
      " type H1 name HH31\n",
      " type H1 name HH32\n",
      " type H1 name HH33\n",
      " "
     ]
    },
    {
     "data": {
      "text/plain": [
       "NIL"
      ]
     },
     "execution_count": 49,
     "metadata": {},
     "output_type": "execute_result"
    }
   ],
   "source": [
    "(chem:map-atoms 'nil (lambda (a) (format t \"type ~a name ~a~% \" (chem:get-type a) (chem:get-name a)))\n",
    "                \n",
    "                             *ala-leap*)"
   ]
  },
  {
   "cell_type": "code",
   "execution_count": 50,
   "metadata": {},
   "outputs": [
    {
     "data": {
      "text/plain": [
       "T"
      ]
     },
     "execution_count": 50,
     "metadata": {},
     "output_type": "execute_result"
    }
   ],
   "source": [
    "(leap.topology:save-amber-parm-format *ala-leap* \"alanine_cando.top\" \"alanine_cando.crd\" :assign-types nil)"
   ]
  },
  {
   "cell_type": "code",
   "execution_count": 42,
   "metadata": {},
   "outputs": [
    {
     "name": "stdout",
     "output_type": "stream",
     "text": [
      "popped residue: #<PDB-RESIDUE ACE>\n",
      "popped residue: #<PDB-RESIDUE ALA>\n",
      "popped residue: #<PDB-RESIDUE NME>\n",
      "Built 3 missing hydrogens\n"
     ]
    },
    {
     "name": "stderr",
     "output_type": "stream",
     "text": [
      "SIMPLE-WARNING: \n",
      "Loaded atom (1 H1 ACE NIL 1 NIL) but amber form #<TOPOLOGY  :name :ACE @0x122212e48> does not recognize it\n",
      "SIMPLE-WARNING: \n",
      "Loaded atom (3 H2 ACE NIL 1 NIL) but amber form #<TOPOLOGY  :name :ACE @0x122212e48> does not recognize it\n",
      "SIMPLE-WARNING: \n",
      "Loaded atom (4 H3 ACE NIL 1 NIL) but amber form #<TOPOLOGY  :name :ACE @0x122212e48> does not recognize it\n"
     ]
    },
    {
     "data": {
      "text/plain": [
       "*ALA-PDB*"
      ]
     },
     "execution_count": 42,
     "metadata": {},
     "output_type": "execute_result"
    }
   ],
   "source": [
    "(:= *ala-pdb* (load-pdb \"ace-ala-nme.pdb\"))"
   ]
  },
  {
   "cell_type": "code",
   "execution_count": 25,
   "metadata": {},
   "outputs": [
    {
     "data": {
      "application/vnd.jupyter.widget-view+json": {
       "model_id": "D6F8F9E0-C259-4CB8-BD82-BC4F9896D574",
       "version_major": 2,
       "version_minor": 0
      },
      "text/html": [
       "<p>Failed to display Jupyter Widget of type <code>{widget_type}</code>.</p>\n",
       "<p>\n",
       "  If you're reading this message in the Jupyter Notebook or JupyterLab Notebook, it may mean\n",
       "  that the widgets JavaScript is still loading. If this message persists, it\n",
       "  likely means that the widgets JavaScript library is either not installed or\n",
       "  not enabled. See the <a href=\"https://ipywidgets.readthedocs.io/en/stable/user_install.html\">Jupyter\n",
       "  Widgets Documentation</a> for setup instructions.\n",
       "</p>\n",
       "<p>\n",
       "  If you're reading this message in another frontend (for example, a static\n",
       "  rendering on GitHub or <a href=\"https://nbviewer.jupyter.org/\">NBViewer</a>),\n",
       "  it may mean that your frontend doesn't currently support widgets.\n",
       "</p>\n"
      ],
      "text/plain": [
       "A Jupyter Widget"
      ]
     },
     "execution_count": 25,
     "metadata": {},
     "output_type": "execute_result"
    }
   ],
   "source": [
    "(cando::show-aggregate *ala-pdb*)"
   ]
  },
  {
   "cell_type": "code",
   "execution_count": 26,
   "metadata": {},
   "outputs": [
    {
     "name": "stdout",
     "output_type": "stream",
     "text": [
      "type HC name H1\n",
      " type CT name CH3\n",
      " type HC name H2\n",
      " type HC name H3\n",
      " type C name C\n",
      " type O name O\n",
      " type N name N\n",
      " type H name H\n",
      " type CX name CA\n",
      " type H1 name HA\n",
      " type CT name CB\n",
      " type HC name HB1\n",
      " type HC name HB2\n",
      " type HC name HB3\n",
      " type C name C\n",
      " type O name O\n",
      " type N name N\n",
      " type H name H\n",
      " type CT name CH3\n",
      " type H1 name HH31\n",
      " type H1 name HH32\n",
      " type H1 name HH33\n",
      " "
     ]
    },
    {
     "data": {
      "text/plain": [
       "NIL"
      ]
     },
     "execution_count": 26,
     "metadata": {},
     "output_type": "execute_result"
    }
   ],
   "source": [
    "(chem:map-atoms 'nil (lambda (a) (format t \"type ~a name ~a~% \" (chem:get-type a) (chem:get-name a)))\n",
    "                \n",
    "                             *ala-leap*)"
   ]
  },
  {
   "cell_type": "code",
   "execution_count": 27,
   "metadata": {},
   "outputs": [
    {
     "data": {
      "text/plain": [
       "T"
      ]
     },
     "execution_count": 27,
     "metadata": {},
     "output_type": "execute_result"
    }
   ],
   "source": [
    "(leap.topology:save-amber-parm-format *ala-pdb* \"alanine_pdb.top\" \"alanine_pdb.crd\" :assign-types nil)"
   ]
  },
  {
   "cell_type": "code",
   "execution_count": null,
   "metadata": {},
   "outputs": [],
   "source": []
  }
 ],
 "metadata": {
  "kernelspec": {
   "display_name": "Cando",
   "language": "lisp",
   "name": "lisp"
  },
  "language_info": {
   "codemirror_mode": "text/x-common-lisp",
   "mimetype": "text/x-common-lisp",
   "name": "common-lisp",
   "pygments_lexer": "common-lisp",
   "version": "X3J13"
  }
 },
 "nbformat": 4,
 "nbformat_minor": 2
}
