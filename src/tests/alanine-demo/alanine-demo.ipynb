{
 "cells": [
  {
   "cell_type": "markdown",
   "metadata": {},
   "source": [
    "## Set the enviroments."
   ]
  },
  {
   "cell_type": "markdown",
   "metadata": {},
   "source": [
    "#### Connect to slime."
   ]
  },
  {
   "cell_type": "code",
   "execution_count": 1,
   "metadata": {
    "scrolled": true
   },
   "outputs": [
    {
     "data": {
      "text/plain": [
       "T"
      ]
     },
     "execution_count": 1,
     "metadata": {},
     "output_type": "execute_result"
    }
   ],
   "source": [
    "(start-swank)"
   ]
  },
  {
   "cell_type": "code",
   "execution_count": 2,
   "metadata": {},
   "outputs": [
    {
     "data": {
      "text/plain": [
       "1"
      ]
     },
     "execution_count": 2,
     "metadata": {},
     "output_type": "execute_result"
    }
   ],
   "source": [
    "1"
   ]
  },
  {
   "cell_type": "markdown",
   "metadata": {},
   "source": [
    "#### Add paths."
   ]
  },
  {
   "cell_type": "code",
   "execution_count": 3,
   "metadata": {
    "scrolled": true
   },
   "outputs": [
    {
     "data": {
      "text/plain": [
       "(#P\"/Users/tuj24515/Development/amber16/dat/antechamber/\"\n",
       " #P\"/Users/tuj24515/Development/amber16/dat/leap/prep/\"\n",
       " #P\"/Users/tuj24515/Development/amber16/dat/leap/parm/\"\n",
       " #P\"/Users/tuj24515/Development/amber16/dat/leap/lib/\"\n",
       " #P\"/Users/tuj24515/Development/amber16/dat/leap/cmd/\"\n",
       " #P\"/Users/tuj24515/Development/clasp/extensions/cando/src/tests/alanine-demo/\")"
      ]
     },
     "execution_count": 3,
     "metadata": {},
     "output_type": "execute_result"
    }
   ],
   "source": [
    "(leap.core::clear-path)\n",
    "(add-path *default-pathname-defaults*)\n",
    "(add-path \"~/Development/amber16/dat/leap/cmd/\")\n",
    "(add-path \"~/Development/amber16/dat/leap/lib/\")\n",
    "(add-path \"~/Development/amber16/dat/leap/parm/\")\n",
    "(add-path \"~/Development/amber16/dat/leap/prep/\")\n",
    "(add-path \"~/Development/amber16/dat/antechamber/\")"
   ]
  },
  {
   "cell_type": "markdown",
   "metadata": {},
   "source": [
    "#### Load the amber force field."
   ]
  },
  {
   "cell_type": "code",
   "execution_count": 4,
   "metadata": {},
   "outputs": [
    {
     "data": {
      "text/plain": [
       "(#<FORCE-FIELD ATOMTYPE_AMBER.DEF>)"
      ]
     },
     "execution_count": 4,
     "metadata": {},
     "output_type": "execute_result"
    }
   ],
   "source": [
    "(load-atom-type-rules \"ATOMTYPE_AMBER.DEF\")"
   ]
  },
  {
   "cell_type": "code",
   "execution_count": 5,
   "metadata": {
    "scrolled": true
   },
   "outputs": [
    {
     "name": "stderr",
     "output_type": "stream",
     "text": [
      "SIMPLE-WARNING: \n",
      "add-atom-types doesn't do anything\n",
      "SIMPLE-WARNING: \n",
      "Warning!  Skipping 10-12 hbond\n",
      "SIMPLE-WARNING: \n",
      "Warning!  Skipping force field atom equivalences\n"
     ]
    },
    {
     "data": {
      "text/plain": [
       "T"
      ]
     },
     "execution_count": 5,
     "metadata": {},
     "output_type": "execute_result"
    }
   ],
   "source": [
    "(source \"leaprc.protein.ff14SB\")"
   ]
  },
  {
   "cell_type": "code",
   "execution_count": 6,
   "metadata": {},
   "outputs": [
    {
     "data": {
      "text/plain": [
       "(#<FORCE-FIELD water_amber.def> #<FORCE-FIELD frcmod.ff14SB>\n",
       " #<FORCE-FIELD parm10.dat> #<FORCE-FIELD ATOMTYPE_AMBER.DEF>)"
      ]
     },
     "execution_count": 6,
     "metadata": {},
     "output_type": "execute_result"
    }
   ],
   "source": [
    "(load-atom-type-rules \"water_amber.def\")"
   ]
  },
  {
   "cell_type": "code",
   "execution_count": 7,
   "metadata": {
    "scrolled": true
   },
   "outputs": [
    {
     "data": {
      "text/plain": [
       "*FF*"
      ]
     },
     "execution_count": 7,
     "metadata": {},
     "output_type": "execute_result"
    }
   ],
   "source": [
    "(:= *ff* (leap.core::merged-force-field))"
   ]
  },
  {
   "cell_type": "markdown",
   "metadata": {},
   "source": [
    "## Create topology and coordinate file for Alanine"
   ]
  },
  {
   "cell_type": "markdown",
   "metadata": {},
   "source": [
    "#### Load the alanine from Chemdraw file."
   ]
  },
  {
   "cell_type": "code",
   "execution_count": 8,
   "metadata": {
    "scrolled": true
   },
   "outputs": [
    {
     "data": {
      "text/plain": [
       "*CHEMAGG*"
      ]
     },
     "execution_count": 8,
     "metadata": {},
     "output_type": "execute_result"
    }
   ],
   "source": [
    "(defparameter *chemagg* (cando:load-chem-draw-aggregate \"alanine2.cdxml\"))"
   ]
  },
  {
   "cell_type": "code",
   "execution_count": 9,
   "metadata": {},
   "outputs": [
    {
     "data": {
      "text/plain": [
       "NIL"
      ]
     },
     "execution_count": 9,
     "metadata": {},
     "output_type": "execute_result"
    }
   ],
   "source": [
    "(build-hydrogens *chemagg*)"
   ]
  },
  {
   "cell_type": "code",
   "execution_count": 10,
   "metadata": {},
   "outputs": [
    {
     "data": {
      "application/vnd.jupyter.widget-view+json": {
       "model_id": "6693F840-ADE7-4B70-A4DD-8F1E348C5C05",
       "version_major": 2,
       "version_minor": 0
      },
      "text/html": [
       "<p>Failed to display Jupyter Widget of type <code>{widget_type}</code>.</p>\n",
       "<p>\n",
       "  If you're reading this message in the Jupyter Notebook or JupyterLab Notebook, it may mean\n",
       "  that the widgets JavaScript is still loading. If this message persists, it\n",
       "  likely means that the widgets JavaScript library is either not installed or\n",
       "  not enabled. See the <a href=\"https://ipywidgets.readthedocs.io/en/stable/user_install.html\">Jupyter\n",
       "  Widgets Documentation</a> for setup instructions.\n",
       "</p>\n",
       "<p>\n",
       "  If you're reading this message in another frontend (for example, a static\n",
       "  rendering on GitHub or <a href=\"https://nbviewer.jupyter.org/\">NBViewer</a>),\n",
       "  it may mean that your frontend doesn't currently support widgets.\n",
       "</p>\n"
      ],
      "text/plain": [
       "A Jupyter Widget"
      ]
     },
     "execution_count": 10,
     "metadata": {},
     "output_type": "execute_result"
    }
   ],
   "source": [
    "(nglv::show-aggregate *chemagg*)"
   ]
  },
  {
   "cell_type": "markdown",
   "metadata": {},
   "source": [
    "#### Gather atoms to the center."
   ]
  },
  {
   "cell_type": "code",
   "execution_count": 11,
   "metadata": {},
   "outputs": [
    {
     "name": "stdout",
     "output_type": "stream",
     "text": [
      "C_0    S\n"
     ]
    },
    {
     "data": {
      "text/plain": [
       "NIL"
      ]
     },
     "execution_count": 11,
     "metadata": {},
     "output_type": "execute_result"
    }
   ],
   "source": [
    "(progn\n",
    "  (defparameter *stereocenters*\n",
    "    (sort (cando:gather-stereocenters *chemagg*) #'string< :key #'chem:get-name))\n",
    "  (cando:set-stereoisomer-func *stereocenters* (constantly :S) :show t)\n",
    "  (let ((quat-matcher (core:make-cxx-object 'chem:chem-info)))\n",
    "    (chem:compile-smarts quat-matcher \"[C&H0&D4]\")\n",
    "    (chem:map-atoms nil (lambda (a) (when (chem:matches quat-matcher a)\n",
    "                  (chem:set-configuration a :S)\n",
    "                  (format t \"Set atom ~a to :S~%\" (chem:get-name a))))\n",
    "            *chemagg*)))"
   ]
  },
  {
   "cell_type": "markdown",
   "metadata": {},
   "source": [
    "#### Set the bounding box."
   ]
  },
  {
   "cell_type": "code",
   "execution_count": 12,
   "metadata": {},
   "outputs": [
    {
     "data": {
      "text/plain": [
       "NIL"
      ]
     },
     "execution_count": 12,
     "metadata": {},
     "output_type": "execute_result"
    }
   ],
   "source": [
    "(chem:set-property *chemagg* :bounding-box '(50.0 50.0 50.0))"
   ]
  },
  {
   "cell_type": "markdown",
   "metadata": {},
   "source": [
    "#### Assign atom types and change one of them for alanine atom type definition."
   ]
  },
  {
   "cell_type": "code",
   "execution_count": 13,
   "metadata": {},
   "outputs": [
    {
     "data": {
      "text/plain": [
       "NIL"
      ]
     },
     "execution_count": 13,
     "metadata": {},
     "output_type": "execute_result"
    }
   ],
   "source": [
    "(assign-atom-types *chemagg*)\n",
    "(chem:map-atoms 'nil (lambda (a) (if (eq (chem:get-type a) :CT)\n",
    "                                     (if (eq (chem:get-name a) :C)\n",
    "                                         (chem:set-type a :CX)))) *chemagg*)"
   ]
  },
  {
   "cell_type": "markdown",
   "metadata": {},
   "source": [
    "####  Assign force-field parameters and minimize the energy of the molecule."
   ]
  },
  {
   "cell_type": "code",
   "execution_count": 14,
   "metadata": {},
   "outputs": [
    {
     "data": {
      "text/plain": [
       "NIL"
      ]
     },
     "execution_count": 14,
     "metadata": {},
     "output_type": "execute_result"
    }
   ],
   "source": [
    "(cando:jostle *chemagg*)"
   ]
  },
  {
   "cell_type": "code",
   "execution_count": 15,
   "metadata": {},
   "outputs": [
    {
     "name": "stdout",
     "output_type": "stream",
     "text": [
      "minimize-no-fail\n",
      "======= Starting Steepest Descent Minimizer\n",
      "---Stage-Seconds--Step-log(Alpha)--Dir-------------Energy-----------RMSforce\n",
      " minSDnP       0     1      -inf   0.0              0.000          17227.712\n",
      " minSDnP       0     2     -8.05   0.0        2729989.685           8620.324\n",
      " minSDnP       0     3     -8.05   0.0        2129818.209           5451.051\n",
      "DONE absolute force test:\n",
      "forceRmsMag(4559.632157).LT.forceTolerance(5000.000000)\n",
      "======= Starting Conjugate Gradient Minimizer\n",
      " minCGnP       0     4      -inf   0.0              0.000           4559.632\n",
      " minCGnP       0     5     -8.08  36.5        1546543.314           3372.217\n",
      " minCGnP       0     6     -6.78  46.1        1106628.072           3453.684\n",
      " minCGnP       0     7     -7.91  49.3         976908.373           2726.410\n",
      " minCGnP       0     8     -8.43  61.7         916655.576           3844.717\n",
      " minCGnP       0     9     -8.49  54.3         856640.244           2764.179\n",
      " minCGnP       0    10     -7.36  60.4         721374.453           2959.605\n",
      "---Stage-Seconds--Step-log(Alpha)--Dir-------------Energy-----------RMSforce\n",
      " minCGnP       0    11     -7.19  78.5         525733.232           7496.226\n",
      " minCGnP       0    12    -10.62  31.6         497513.412           3578.579\n",
      " minCGnP       0    13     -8.07  39.1         392111.092           2433.547\n",
      " minCGnP       0    14     -7.87  55.7         353710.599           2883.626\n",
      " minCGnP       0    15    -10.68  52.7         349443.736           2772.669\n",
      " minCGnP       0    16     -8.24  57.1         285066.967           2609.528\n",
      " minCGnP       0    17     -8.82  44.2         262183.703           1827.425\n",
      " minCGnP       0    18     -8.20  47.2         237517.817           1613.048\n",
      " minCGnP       0    19     -7.77  62.6         207093.310           2353.499\n",
      " minCGnP       0    20     -9.18  40.1         195068.785           1548.175\n",
      "---Stage-Seconds--Step-log(Alpha)--Dir-------------Energy-----------RMSforce\n",
      " minCGnP       0    21     -8.19  57.1         172768.341           1860.517\n",
      " minCGnP       0    22    -10.22  70.3         169697.129           3233.577\n",
      " minCGnP       0    23     -9.59  25.8         157992.940           1481.459\n",
      " minCGnP       0    24     -7.70  36.5         137352.150            806.118\n",
      " minCGnP       0    25     -7.70  59.7         128125.842           1135.146\n",
      " minCGnP       0    26     -9.02  82.4         124599.130           4450.597\n",
      " minCGnP       0    27    -12.12  37.3         121628.831            979.652\n",
      " minCGnP       0    28     -7.51  62.9         101293.847           1231.129\n",
      " minCGnP       0    29     -8.23  72.1          92291.613           1644.650\n",
      " minCGnP       0    30     -9.60  73.1          86876.667           2031.667\n",
      "---Stage-Seconds--Step-log(Alpha)--Dir-------------Energy-----------RMSforce\n",
      " minCGnP       0    31    -11.23  77.0          85867.894           2418.587\n",
      " minCGnP       0    32    -10.01  63.8          78363.325           1832.713\n",
      " minCGnP       0    33     -8.59  72.5          63450.417           2632.926\n",
      " minCGnP       0    34     -9.85  43.4          58676.129           1521.358\n",
      " minCGnP       0    35     -8.67  36.8          50645.446            787.414\n",
      " minCGnP       0    36     -7.78  37.7          44011.997            579.760\n",
      " minCGnP       0    37     -7.85  55.4          38115.017            740.200\n",
      " minCGnP       0    38     -7.91  52.0          32129.900            507.327\n",
      " minCGnP       0    39     -7.57  70.2          27161.250            872.411\n",
      " minCGnP       0    40     -9.62  53.2          25684.267            596.820\n",
      "---Stage-Seconds--Step-log(Alpha)--Dir-------------Energy-----------RMSforce\n",
      " minCGnP       0    41     -8.07  67.4          22540.486            948.681\n",
      " minCGnP       0    42     -9.62  71.1          21071.137           1220.951\n",
      " minCGnP       0    43     -9.20  71.2          18644.655           1204.808\n",
      " minCGnP       0    44     -9.44  37.4          17416.587            543.721\n",
      " minCGnP       0    45     -8.01  42.4          14324.988            368.742\n",
      " minCGnP       0    46     -7.43  51.0          12285.546            332.263\n",
      " minCGnP       0    47     -7.75  69.9          10212.079            606.745\n",
      " minCGnP       0    48     -9.95  75.5           9648.174            935.942\n",
      " minCGnP       0    49     -9.60  40.1           8549.567            243.045\n",
      " minCGnP       0    50     -7.01  56.9           6794.741            224.473\n",
      "---Stage-Seconds--Step-log(Alpha)--Dir-------------Energy-----------RMSforce\n",
      " minCGnP       0    51     -7.99  79.4           6125.496            702.997\n",
      " minCGnP       0    52    -10.11  68.8           5285.193            546.294\n",
      " minCGnP       0    53     -8.94  51.6           4652.933            323.971\n",
      " minCGnP       0    54     -7.69  47.4           3644.896            172.301\n",
      " minCGnP       0    55     -7.28  58.6           2946.031            201.223\n",
      " minCGnP       0    56     -7.39  52.5           2305.043            160.115\n",
      " minCGnP       0    57     -7.38  50.7           1773.186            127.251\n",
      " minCGnP       0    58     -7.13  53.0           1342.335            109.733\n",
      " minCGnP       0    59     -7.17  55.2           1036.781             95.094\n",
      " minCGnP       0    60     -7.06  58.5            781.549             86.466\n",
      "---Stage-Seconds--Step-log(Alpha)--Dir-------------Energy-----------RMSforce\n",
      " minCGnP       0    61     -7.04  60.0            563.915             81.496\n",
      " minCGnP       0    62     -7.20  58.1            400.202             62.246\n",
      " minCGnP       0    63     -7.17  58.2            301.630             54.007\n",
      " minCGnP       0    64     -7.03  60.0            218.126             48.284\n",
      " minCGnP       0    65     -7.23  56.6            161.771             36.265\n",
      " minCGnP       0    66     -7.17  56.6            128.214             31.049\n",
      " minCGnP       0    67     -7.02  58.7             99.796             27.801\n",
      " minCGnP       0    68     -7.12  58.0             79.097             23.357\n",
      " minCGnP       0    69     -7.07  59.7             63.790             21.036\n",
      " minCGnP       0    70     -7.04   0.0             50.805             19.657\n",
      "---Stage-Seconds--Step-log(Alpha)--Dir-------------Energy-----------RMSforce\n",
      " minCGnP       0    71     -7.70  22.4             45.048              8.091\n",
      " minCGnP       0    72     -6.86  50.8             42.791              9.138\n",
      " minCGnP       0    73     -6.08  66.5             36.333             13.313\n",
      " minCGnP       0    74     -6.84  63.4             30.047             11.604\n",
      " minCGnP       0    75     -6.60  63.7             23.940             10.750\n",
      " minCGnP       0    76     -6.88  52.2             19.970              7.384\n",
      " minCGnP       0    77     -6.68  57.6             17.727              7.024\n",
      " minCGnP       0    78     -6.87  61.7             16.037              6.948\n",
      " minCGnP       0    79     -7.08  47.4             14.705              3.510\n",
      " minCGnP       0    80     -7.01  52.2             14.339              3.060\n",
      "---Stage-Seconds--Step-log(Alpha)--Dir-------------Energy-----------RMSforce\n",
      " minCGnP       0    81     -6.58  60.8             13.912              3.354\n",
      " minCGnP       0    82     -6.66  56.7             13.435              2.490\n",
      " minCGnP       0    83     -6.50  64.9             13.128              2.911\n",
      " minCGnP       0    84     -7.11  60.5             12.900              2.134\n",
      " minCGnP       0    85     -7.02  57.1             12.766              1.615\n",
      " minCGnP       0    86     -6.15  67.1             12.582              2.062\n",
      " minCGnP       0    87     -6.96  61.9             12.449              1.497\n",
      " minCGnP       0    88     -6.56  67.6             12.343              1.712\n",
      " minCGnP       0    89     -6.47  71.8             12.194              1.998\n",
      " minCGnP       0    90     -6.81  74.0             12.048              2.200\n",
      "---Stage-Seconds--Step-log(Alpha)--Dir-------------Energy-----------RMSforce\n",
      " minCGnP       0    91     -6.52  77.2             11.813              2.692\n",
      " minCGnP       0    92     -6.45  76.7             11.437              2.489\n",
      " minCGnP       0    93     -6.52  77.0             11.135              2.427\n",
      " minCGnP       0    94     -6.22  81.6             10.752              3.680\n",
      " minCGnP       0    95     -6.99  80.5             10.338              3.195\n",
      " minCGnP       0    96     -6.74  79.0              9.938              2.858\n",
      " minCGnP       0    97     -6.77  77.5              9.627              2.551\n",
      " minCGnP       0    98     -6.91  75.2              9.411              2.118\n",
      " minCGnP       0    99     -6.51  76.1              9.190              2.199\n",
      " minCGnP       0   100     -6.74  78.6              9.000              2.662\n",
      "---Stage-Seconds--Step-log(Alpha)--Dir-------------Energy-----------RMSforce\n",
      " minCGnP       0   101     -6.71  79.2              8.718              2.716\n",
      " minCGnP       0   102     -6.69  77.0              8.417              2.001\n",
      " minCGnP       0   103     -6.45  79.1              8.208              2.355\n",
      " minCGnP       0   104     -6.66  77.3              7.972              2.125\n",
      " minCGnP       0   105     -6.65  78.5              7.779              2.354\n",
      " minCGnP       0   106     -6.76  75.8              7.568              1.870\n",
      " minCGnP       0   107     -6.95  75.3              7.457              1.727\n",
      " minCGnP       0   108     -6.90  75.3              7.358              1.643\n",
      " minCGnP       0   109     -6.16  77.1              7.171              1.749\n",
      " minCGnP       0   110     -6.43  77.3              7.008              1.719\n",
      "---Stage-Seconds--Step-log(Alpha)--Dir-------------Energy-----------RMSforce\n",
      " minCGnP       0   111     -6.74  76.8              6.891              1.635\n",
      " minCGnP       0   112     -7.06  70.8              6.815              1.119\n",
      " minCGnP       0   113     -6.62  75.7              6.760              1.446\n",
      " minCGnP       0   114     -6.77  73.8              6.681              1.245\n",
      " minCGnP       0   115     -6.87  69.7              6.628              0.926\n",
      " minCGnP       0   116     -6.28  72.6              6.575              1.009\n",
      " minCGnP       0   117     -6.79  72.7              6.537              0.958\n",
      " minCGnP       0   118     -6.05  80.2              6.466              1.635\n",
      " minCGnP       0   119     -6.93  77.3              6.378              1.310\n",
      " minCGnP       0   120     -6.85  76.0              6.318              1.226\n",
      "---Stage-Seconds--Step-log(Alpha)--Dir-------------Energy-----------RMSforce\n",
      " minCGnP       0   121     -6.65  76.6              6.254              1.268\n",
      " minCGnP       0   122     -6.79  73.6              6.194              0.988\n",
      " minCGnP       0   123     -6.57  73.6              6.149              0.924\n",
      " minCGnP       0   124     -6.45  77.5              6.105              1.159\n",
      " minCGnP       0   125     -7.09  74.8              6.068              0.912\n",
      " minCGnP       0   126     -6.56  76.2              6.029              1.001\n",
      " minCGnP       0   127     -6.52  75.5              5.980              0.967\n",
      " minCGnP       0   128     -6.72  76.8              5.943              1.033\n",
      " minCGnP       0   129     -6.33  76.4              5.880              0.939\n",
      " minCGnP       0   130     -6.89  72.2              5.851              0.673\n",
      "---Stage-Seconds--Step-log(Alpha)--Dir-------------Energy-----------RMSforce\n",
      " minCGnP       0   131     -6.90  72.0              5.836              0.632\n",
      " minCGnP       0   132     -7.01  69.3              5.824              0.521\n",
      " minCGnP       0   133     -6.72  69.9              5.813              0.503\n",
      "DONE absolute force test:\n",
      "forceRmsMag(0.415325).LT.forceTolerance(0.500000)\n",
      "minimize-no-fail\n",
      "======= Starting Steepest Descent Minimizer\n",
      " minSDnP       0   134      -inf   0.0              0.000         135086.712\n",
      " minSDnP       0   135    -14.75   0.0          83521.011          49943.929\n",
      " minSDnP       0   136    -12.79   0.0          33801.489          23667.974\n",
      "DONE absolute force test:\n",
      "forceRmsMag(1423.166281).LT.forceTolerance(5000.000000)\n",
      "======= Starting Conjugate Gradient Minimizer\n",
      " minCGnP       0   137      -inf   0.0              0.000           1423.166\n",
      " minCGnP       0   138    -10.08  22.4           6162.862            585.547\n",
      " minCGnP       0   139     -8.69  40.3           4771.936            509.432\n",
      " minCGnP       0   140     -8.91  41.8           3913.284            340.852\n",
      "---Stage-Seconds--Step-log(Alpha)--Dir-------------Energy-----------RMSforce\n",
      " minCGnP       0   141     -8.76   7.5           3165.845            229.853\n",
      " minCGnP       0   142     -8.83  41.0           2872.079            197.996\n",
      " minCGnP       0   143     -8.88  24.7           2678.032             81.922\n",
      " minCGnP       0   144     -8.71  26.7           2639.965             41.578\n",
      " minCGnP       0   145     -7.92  61.0           2619.181             67.151\n",
      " minCGnP       0   146     -8.52  59.8           2589.221             53.442\n",
      " minCGnP       0   147     -8.34  57.2           2567.000             50.458\n",
      " minCGnP       0   148     -8.26  54.8           2545.852             36.397\n",
      " minCGnP       0   149     -8.66  55.6           2538.218             32.508\n",
      " minCGnP       0   150     -8.57  53.5           2531.560             25.795\n",
      "---Stage-Seconds--Step-log(Alpha)--Dir-------------Energy-----------RMSforce\n",
      " minCGnP       0   151     -8.20  58.2           2525.561             23.976\n",
      " minCGnP       0   152     -8.39  64.6           2521.265             27.249\n",
      " minCGnP       0   153     -8.39  62.8           2515.779             23.382\n",
      " minCGnP       0   154     -8.39  58.2           2511.718             16.199\n",
      " minCGnP       0   155     -8.23  67.0           2509.409             20.563\n",
      " minCGnP       0   156     -8.65  61.3           2506.970             15.125\n",
      " minCGnP       0   157     -8.06  68.3           2504.601             18.175\n",
      " minCGnP       0   158     -8.36  70.1           2502.030             19.777\n",
      " minCGnP       0   159     -8.60  68.4           2499.642             17.642\n",
      " minCGnP       0   160     -7.56  71.6           2494.479             18.918\n",
      "---Stage-Seconds--Step-log(Alpha)--Dir-------------Energy-----------RMSforce\n",
      " minCGnP       0   161     -8.85  68.9           2492.798             14.450\n",
      " minCGnP       0   162     -8.48  68.5           2491.363             13.494\n",
      " minCGnP       0   163     -8.26  68.3           2489.807             12.732\n",
      " minCGnP       0   164     -8.41  73.2           2488.628             15.794\n",
      " minCGnP       0   165     -8.30  69.9           2486.596             12.032\n",
      " minCGnP       0   166     -8.42  70.6           2485.536             11.751\n",
      " minCGnP       0   167     -8.43  72.7           2484.543             12.693\n",
      " minCGnP       0   168     -8.65  65.5           2483.609              8.309\n",
      " minCGnP       0   169     -8.15  71.0           2482.949              9.983\n",
      " minCGnP       0   170     -8.59  69.9           2482.337              8.966\n",
      "---Stage-Seconds--Step-log(Alpha)--Dir-------------Energy-----------RMSforce\n",
      " minCGnP       0   171     -8.63  63.4           2481.864              6.195\n",
      " minCGnP       0   172     -8.16  67.4           2481.501              6.662\n",
      " minCGnP       0   173     -8.81  65.1           2481.283              5.539\n",
      " minCGnP       0   174     -8.15  69.8           2480.990              6.341\n",
      " minCGnP       0   175     -8.08  71.8           2480.581              6.718\n",
      " minCGnP       0   176     -8.98  65.7           2480.393              4.680\n",
      " minCGnP       0   177     -8.00  71.0           2480.150              5.599\n",
      " minCGnP       0   178     -8.23  73.4           2479.875              6.090\n",
      " minCGnP       0   179     -8.64  73.8           2479.660              5.941\n",
      " minCGnP       0   180     -8.06  71.8           2479.290              5.178\n",
      "---Stage-Seconds--Step-log(Alpha)--Dir-------------Energy-----------RMSforce\n",
      " minCGnP       0   181     -8.64  70.8           2479.134              4.631\n",
      " minCGnP       0   182     -8.56  70.9           2478.999              4.382\n",
      " minCGnP       0   183     -8.35  63.1           2478.849              2.865\n",
      " minCGnP       0   184     -8.59  66.2           2478.799              2.934\n",
      " minCGnP       0   185     -8.56  63.0           2478.744              2.323\n",
      " minCGnP       0   186     -8.30  64.2           2478.700              2.193\n",
      " minCGnP       0   187     -8.19  72.1           2478.656              2.948\n",
      " minCGnP       0   188     -8.64  64.7           2478.605              1.893\n",
      " minCGnP       0   189     -8.06  70.4           2478.567              2.276\n",
      " minCGnP       0   190     -8.49  71.5           2478.532              2.271\n",
      "---Stage-Seconds--Step-log(Alpha)--Dir-------------Energy-----------RMSforce\n",
      " minCGnP       0   191     -8.64  66.5           2478.502              1.652\n",
      " minCGnP       0   192     -7.91  71.5           2478.469              1.979\n",
      " minCGnP       0   193     -8.78  69.6           2478.449              1.682\n",
      " minCGnP       0   194     -8.24  70.2           2478.425              1.623\n",
      " minCGnP       0   195     -8.26  67.3           2478.402              1.317\n",
      " minCGnP       0   196     -8.98  62.8           2478.395              0.989\n",
      " minCGnP       0   197     -7.90  69.2           2478.383              1.188\n",
      " minCGnP       0   198     -8.24  71.1           2478.371              1.233\n",
      " minCGnP       0   199     -8.66  71.6           2478.362              1.203\n",
      " minCGnP       0   200     -8.02  70.8           2478.346              1.091\n",
      "---Stage-Seconds--Step-log(Alpha)--Dir-------------Energy-----------RMSforce\n",
      " minCGnP       0   201     -8.29  75.1           2478.336              1.347\n",
      " minCGnP       0   202     -8.45  74.6           2478.324              1.256\n",
      " minCGnP       0   203     -8.46   0.0           2478.313              0.917\n",
      " minCGnP       0   204     -8.66  39.5           2478.308              0.757\n",
      " minCGnP       0   205     -8.12  55.0           2478.302              0.833\n",
      " minCGnP       0   206     -8.53  59.5           2478.298              0.810\n",
      " minCGnP       0   207     -7.48  60.7           2478.285              0.737\n",
      " minCGnP       0   208     -7.74  65.2           2478.278              0.779\n",
      "DONE absolute force test:\n",
      "forceRmsMag(0.496017).LT.forceTolerance(0.500000)\n"
     ]
    },
    {
     "data": {
      "text/plain": [
       "*EE*"
      ]
     },
     "execution_count": 15,
     "metadata": {},
     "output_type": "execute_result"
    }
   ],
   "source": [
    "(defparameter *ee* (energy:minimize *chemagg*))"
   ]
  },
  {
   "cell_type": "markdown",
   "metadata": {},
   "source": [
    "#### Visualize the minimized structure and demonstrate that the force field parameters lead to the construction of a chemically"
   ]
  },
  {
   "cell_type": "markdown",
   "metadata": {},
   "source": [
    "#### reasonable structure."
   ]
  },
  {
   "cell_type": "code",
   "execution_count": 16,
   "metadata": {},
   "outputs": [
    {
     "data": {
      "application/vnd.jupyter.widget-view+json": {
       "model_id": "BAFFAAFC-3085-4C02-87D6-AC41ED1A8F1A",
       "version_major": 2,
       "version_minor": 0
      },
      "text/html": [
       "<p>Failed to display Jupyter Widget of type <code>{widget_type}</code>.</p>\n",
       "<p>\n",
       "  If you're reading this message in the Jupyter Notebook or JupyterLab Notebook, it may mean\n",
       "  that the widgets JavaScript is still loading. If this message persists, it\n",
       "  likely means that the widgets JavaScript library is either not installed or\n",
       "  not enabled. See the <a href=\"https://ipywidgets.readthedocs.io/en/stable/user_install.html\">Jupyter\n",
       "  Widgets Documentation</a> for setup instructions.\n",
       "</p>\n",
       "<p>\n",
       "  If you're reading this message in another frontend (for example, a static\n",
       "  rendering on GitHub or <a href=\"https://nbviewer.jupyter.org/\">NBViewer</a>),\n",
       "  it may mean that your frontend doesn't currently support widgets.\n",
       "</p>\n"
      ],
      "text/plain": [
       "A Jupyter Widget"
      ]
     },
     "execution_count": 16,
     "metadata": {},
     "output_type": "execute_result"
    }
   ],
   "source": [
    "(nglv::show-aggregate *chemagg*)"
   ]
  },
  {
   "cell_type": "code",
   "execution_count": 17,
   "metadata": {},
   "outputs": [
    {
     "name": "stdout",
     "output_type": "stream",
     "text": [
      "Saving matter to /Users/tuj24515/Development/clasp/extensions/cando/src/tests/alanine-demo/alanine.mol2\n"
     ]
    },
    {
     "data": {
      "text/plain": [
       "NIL"
      ]
     },
     "execution_count": 17,
     "metadata": {},
     "output_type": "execute_result"
    }
   ],
   "source": [
    "(save-mol2 *chemagg* \"alanine.mol2\")"
   ]
  },
  {
   "cell_type": "markdown",
   "metadata": {},
   "source": [
    "#### Assign atom types and change one of them for alanine atom type definition."
   ]
  },
  {
   "cell_type": "code",
   "execution_count": 18,
   "metadata": {},
   "outputs": [
    {
     "data": {
      "text/plain": [
       "NIL"
      ]
     },
     "execution_count": 18,
     "metadata": {},
     "output_type": "execute_result"
    }
   ],
   "source": [
    "(assign-atom-types *chemagg*)\n",
    "(chem:map-atoms 'nil (lambda (a) (if (eq (chem:get-type a) :CT)\n",
    "                                     (if (eq (chem:get-name a) :C)\n",
    "                                         (chem:set-type a :CX)))) *chemagg*)"
   ]
  },
  {
   "cell_type": "markdown",
   "metadata": {},
   "source": [
    "#### Save the topology file and coordinate file."
   ]
  },
  {
   "cell_type": "code",
   "execution_count": 19,
   "metadata": {},
   "outputs": [
    {
     "name": "stdout",
     "output_type": "stream",
     "text": [
      "atom1: #<ATOM :C/:C> atom2: #<ATOM :C_0/:C> i1: 0 i2: 3\n",
      " atom1: #<ATOM :O/:O> atom2: #<ATOM :C/:C> i1: 6 i2: 0\n",
      " atom1: #<ATOM :NH/:N> atom2: #<ATOM :C/:C> i1: 9 i2: 30\n",
      " atom1: #<ATOM :NH/:N> atom2: #<ATOM :C_0/:C> i1: 9 i2: 3\n",
      " atom1: #<ATOM :NH/:N> atom2: #<ATOM :HH/:H> i1: 9 i2: 27\n",
      " atom1: #<ATOM :H/:H> atom2: #<ATOM :C_0/:C> i1: 12 i2: 3\n",
      " atom1: #<ATOM :CH3/:C> atom2: #<ATOM :C_0/:C> i1: 15 i2: 3\n",
      " atom1: #<ATOM :HH31/:H> atom2: #<ATOM :CH3/:C> i1: 18 i2: 15\n",
      " atom1: #<ATOM :HH32/:H> atom2: #<ATOM :CH3/:C> i1: 21 i2: 15\n",
      " atom1: #<ATOM :HH33/:H> atom2: #<ATOM :CH3/:C> i1: 24 i2: 15\n",
      " atom1: #<ATOM :C/:C> atom2: #<ATOM :CH3/:C> i1: 30 i2: 33\n",
      " atom1: #<ATOM :CH3/:C> atom2: #<ATOM :HH31/:H> i1: 33 i2: 39\n",
      " atom1: #<ATOM :CH3/:C> atom2: #<ATOM :HH32/:H> i1: 33 i2: 42\n",
      " atom1: #<ATOM :CH3/:C> atom2: #<ATOM :HH33/:H> i1: 33 i2: 45\n",
      " atom1: #<ATOM :O/:O> atom2: #<ATOM :C/:C> i1: 36 i2: 30\n",
      " atom1: #<ATOM :CH3/:C> atom2: #<ATOM :NH/:N> i1: 48 i2: 51\n",
      " atom1: #<ATOM :NH/:N> atom2: #<ATOM :C/:C> i1: 51 i2: 0\n",
      " atom1: #<ATOM :HH31/:H> atom2: #<ATOM :CH3/:C> i1: 54 i2: 48\n",
      " atom1: #<ATOM :HH32/:H> atom2: #<ATOM :CH3/:C> i1: 57 i2: 48\n",
      " atom1: #<ATOM :HH33/:H> atom2: #<ATOM :CH3/:C> i1: 60 i2: 48\n",
      " atom1: #<ATOM :HH/:H> atom2: #<ATOM :NH/:N> i1: 63 i2: 51\n",
      " atom1: #<ATOM :C/:C> atom2: #<ATOM :NH/:N> atom3: #<ATOM :CH3/:C>  key: C-N-CT\n",
      " atom1: #<ATOM :C/:C> atom2: #<ATOM :NH/:N> atom3: #<ATOM :HH/:H>  key: C-N-H\n",
      " atom1: #<ATOM :C_0/:C> atom2: #<ATOM :NH/:N> atom3: #<ATOM :HH/:H>  key: CT-N-H\n",
      " atom1: #<ATOM :C_0/:C> atom2: #<ATOM :CH3/:C> atom3: #<ATOM :HH31/:H>  key: CT-CT-HC\n",
      " atom1: #<ATOM :C_0/:C> atom2: #<ATOM :CH3/:C> atom3: #<ATOM :HH32/:H>  key: CT-CT-HC\n",
      " atom1: #<ATOM :C_0/:C> atom2: #<ATOM :CH3/:C> atom3: #<ATOM :HH33/:H>  key: CT-CT-HC\n",
      " atom1: #<ATOM :C_0/:C> atom2: #<ATOM :C/:C> atom3: #<ATOM :NH/:N>  key: CT-C-N\n",
      " atom1: #<ATOM :C_0/:C> atom2: #<ATOM :C/:C> atom3: #<ATOM :O/:O>  key: CT-C-O\n",
      " atom1: #<ATOM :NH/:N> atom2: #<ATOM :C/:C> atom3: #<ATOM :O/:O>  key: N-C-O\n",
      " atom1: #<ATOM :NH/:N> atom2: #<ATOM :C_0/:C> atom3: #<ATOM :H/:H>  key: H1-CT-N\n",
      " atom1: #<ATOM :NH/:N> atom2: #<ATOM :C_0/:C> atom3: #<ATOM :CH3/:C>  key: CT-CT-N\n",
      " atom1: #<ATOM :NH/:N> atom2: #<ATOM :C_0/:C> atom3: #<ATOM :C/:C>  key: C-CT-N\n",
      " atom1: #<ATOM :H/:H> atom2: #<ATOM :C_0/:C> atom3: #<ATOM :CH3/:C>  key: CT-CT-H1\n",
      " atom1: #<ATOM :H/:H> atom2: #<ATOM :C_0/:C> atom3: #<ATOM :C/:C>  key: C-CT-H1\n",
      " atom1: #<ATOM :CH3/:C> atom2: #<ATOM :C_0/:C> atom3: #<ATOM :C/:C>  key: C-CT-CT\n",
      " atom1: #<ATOM :HH31/:H> atom2: #<ATOM :CH3/:C> atom3: #<ATOM :HH32/:H>  key: HC-CT-HC\n",
      " atom1: #<ATOM :HH31/:H> atom2: #<ATOM :CH3/:C> atom3: #<ATOM :HH33/:H>  key: HC-CT-HC\n",
      " atom1: #<ATOM :HH32/:H> atom2: #<ATOM :CH3/:C> atom3: #<ATOM :HH33/:H>  key: HC-CT-HC\n",
      " atom1: #<ATOM :C/:C> atom2: #<ATOM :CH3/:C> atom3: #<ATOM :HH31/:H>  key: C-CT-HC\n",
      " atom1: #<ATOM :C/:C> atom2: #<ATOM :CH3/:C> atom3: #<ATOM :HH32/:H>  key: C-CT-HC\n",
      " atom1: #<ATOM :C/:C> atom2: #<ATOM :CH3/:C> atom3: #<ATOM :HH33/:H>  key: C-CT-HC\n",
      " atom1: #<ATOM :C/:C> atom2: #<ATOM :NH/:N> atom3: #<ATOM :C_0/:C>  key: C-N-CT\n",
      " atom1: #<ATOM :C/:C> atom2: #<ATOM :NH/:N> atom3: #<ATOM :HH/:H>  key: C-N-H\n",
      " atom1: #<ATOM :CH3/:C> atom2: #<ATOM :C/:C> atom3: #<ATOM :NH/:N>  key: CT-C-N\n",
      " atom1: #<ATOM :CH3/:C> atom2: #<ATOM :C/:C> atom3: #<ATOM :O/:O>  key: CT-C-O\n",
      " atom1: #<ATOM :HH31/:H> atom2: #<ATOM :CH3/:C> atom3: #<ATOM :HH32/:H>  key: HC-CT-HC\n",
      " atom1: #<ATOM :HH31/:H> atom2: #<ATOM :CH3/:C> atom3: #<ATOM :HH33/:H>  key: HC-CT-HC\n",
      " atom1: #<ATOM :HH32/:H> atom2: #<ATOM :CH3/:C> atom3: #<ATOM :HH33/:H>  key: HC-CT-HC\n",
      " atom1: #<ATOM :CH3/:C> atom2: #<ATOM :NH/:N> atom3: #<ATOM :HH/:H>  key: CT-N-H\n",
      " atom1: #<ATOM :NH/:N> atom2: #<ATOM :C/:C> atom3: #<ATOM :O/:O>  key: N-C-O\n",
      " atom1: #<ATOM :NH/:N> atom2: #<ATOM :CH3/:C> atom3: #<ATOM :HH31/:H>  key: H1-CT-N\n",
      " atom1: #<ATOM :NH/:N> atom2: #<ATOM :CH3/:C> atom3: #<ATOM :HH32/:H>  key: H1-CT-N\n",
      " atom1: #<ATOM :NH/:N> atom2: #<ATOM :CH3/:C> atom3: #<ATOM :HH33/:H>  key: H1-CT-N\n",
      " atom1: #<ATOM :HH31/:H> atom2: #<ATOM :CH3/:C> atom3: #<ATOM :HH32/:H>  key: H1-CT-H1\n",
      " atom1: #<ATOM :HH31/:H> atom2: #<ATOM :CH3/:C> atom3: #<ATOM :HH33/:H>  key: H1-CT-H1\n",
      " atom1: #<ATOM :HH32/:H> atom2: #<ATOM :CH3/:C> atom3: #<ATOM :HH33/:H>  key: H1-CT-H1\n",
      " v-vector #(0.0d0 0.15555555555555556d0 0.15555555555555556d0\n",
      "            0.15555555555555556d0 0.0d0 0.0d0 0.0d0 2.5d0 2.5d0 2.5d0 2.0d0\n",
      "            2.5d0 0.0d0 0.0d0 0.0d0 0.15555555555555556d0 0.15555555555555556d0\n",
      "            0.15555555555555556d0 0.0d0 0.0d0 0.0d0 0.15555555555555556d0\n",
      "            0.15555555555555556d0 0.15555555555555556d0 0.0d0\n",
      "            0.7999999999999999d0 0.0d0 0.08d0 0.0d0 0.19999999999999998d0\n",
      "            0.19999999999999998d0 0.39999999999999997d0 0.0d0 0.0d0 0.0d0 2.0d0\n",
      "            2.0d0 0.39999999999999997d0 0.0d0 0.0d0 2.5d0 2.5d0\n",
      "            0.7999999999999999d0 0.0d0 0.08d0 0.7999999999999999d0 0.0d0 0.08d0\n",
      "            0.7999999999999999d0 0.0d0 0.08d0 2.5d0 2.0d0 2.5d0 0.0d0 0.0d0\n",
      "            0.0d0 10.5d0 1.1d0 10.5d0 1.1d0)\n",
      "in-vector #(2 3 3 3 2 2 2 2 2 2 1 2 2 2 2 3 3 3 2 2 2 3 3 3 2 1 2 3 2 1 2 3 4 2\n",
      "            2 1 2 3 4 2 2 2 1 2 3 1 2 3 1 2 3 2 1 2 2 2 2 2 2 2 2)\n",
      "phase-vector #(0.0d0 0.0d0 0.0d0 0.0d0 0.0d0 0.0d0 0.0d0 3.1415939703583717d0\n",
      "               3.1415939703583717d0 3.1415939703583717d0 0.0d0\n",
      "               3.1415939703583717d0 0.0d0 0.0d0 0.0d0 0.0d0 0.0d0 0.0d0 0.0d0\n",
      "               0.0d0 0.0d0 0.0d0 0.0d0 0.0d0 0.0d0 0.0d0 0.0d0\n",
      "               3.1415939703583717d0 0.0d0 0.0d0 0.0d0 0.0d0 0.0d0 0.0d0 0.0d0\n",
      "               0.0d0 0.0d0 0.0d0 0.0d0 0.0d0 3.1415939703583717d0\n",
      "               3.1415939703583717d0 0.0d0 0.0d0 3.1415939703583717d0 0.0d0\n",
      "               0.0d0 3.1415939703583717d0 0.0d0 0.0d0 3.1415939703583717d0\n",
      "               3.1415939703583717d0 0.0d0 3.1415939703583717d0 0.0d0 0.0d0\n",
      "               0.0d0 3.1415940000000004d0 3.1415940000000004d0\n",
      "               3.1415940000000004d0 3.1415940000000004d0)\n",
      "i1-vector #(0 0 0 0 0 0 0 3 3 6 6 6 9 9 9 9 9 9 9 9 12 12 12 12 12 12 12 12 15\n",
      "            15 15 15 15 15 30 30 30 30 30 30 33 33 36 36 36 36 36 36 36 36 36\n",
      "            36 36 36 54 57 60 3 30 33 0)\n",
      "i2-vector #(3 3 3 3 51 51 51 0 0 0 0 0 30 30 30 3 3 3 3 3 3 3 3 3 3 3 3 3 3 3 3\n",
      "            3 3 3 9 9 9 9 9 9 30 30 30 30 30 30 30 30 30 30 30 30 30 30 48 48\n",
      "            48 51 3 9 48)\n",
      "i3-vector #(9 15 15 15 48 48 48 51 51 51 51 51 33 33 33 15 15 15 0 0 9 15 15 15\n",
      "            0 0 0 0 9 0 0 0 0 0 3 3 3 3 3 3 9 9 33 33 33 33 33 33 33 33 33 9 9\n",
      "            9 51 51 51 0 9 30 51)\n",
      "i4-vector #(27 18 21 24 54 57 60 48 63 48 63 63 39 42 45 18 21 24 51 6 27 18 21\n",
      "            24 51 6 6 6 27 51 51 51 51 6 12 15 15 15 15 0 3 27 39 39 39 42 42\n",
      "            42 45 45 45 3 27 27 63 63 63 6 27 36 63)\n",
      "proper-vector #(T T T T T T T T T T T T T T T T T T T T T T T T T T T T T T T T\n",
      "                T T T T T T T T T T T T T T T T T T T T T T T T T NIL NIL NIL\n",
      "                NIL)\n",
      "atom1: #<ATOM :C/:C> atom2: #<ATOM :C_0/:C> atom3: #<ATOM :NH/:N> atom4 #<ATOM :HH/:H> key: 0.0-2-0.0 vi: 0.0d0 ini 2 phase 0.0d0\n",
      "  0.0d0 2\n",
      " atom1: #<ATOM :C/:C> atom2: #<ATOM :C_0/:C> atom3: #<ATOM :CH3/:C> atom4 #<ATOM :HH31/:H> key: 0.15555555555555556-3-0.0 vi: 0.15555555555555556d0 ini 3 phase 0.0d0\n",
      "  0.15555555555555556d0 3\n",
      " atom1: #<ATOM :C/:C> atom2: #<ATOM :C_0/:C> atom3: #<ATOM :CH3/:C> atom4 #<ATOM :HH32/:H> key: 0.15555555555555556-3-0.0 vi: 0.15555555555555556d0 ini 3 phase 0.0d0\n",
      " atom1: #<ATOM :C/:C> atom2: #<ATOM :C_0/:C> atom3: #<ATOM :CH3/:C> atom4 #<ATOM :HH33/:H> key: 0.15555555555555556-3-0.0 vi: 0.15555555555555556d0 ini 3 phase 0.0d0\n",
      " atom1: #<ATOM :C/:C> atom2: #<ATOM :NH/:N> atom3: #<ATOM :CH3/:C> atom4 #<ATOM :HH31/:H> key: 0.0-2-0.0 vi: 0.0d0 ini 2 phase 0.0d0\n",
      " atom1: #<ATOM :C/:C> atom2: #<ATOM :NH/:N> atom3: #<ATOM :CH3/:C> atom4 #<ATOM :HH32/:H> key: 0.0-2-0.0 vi: 0.0d0 ini 2 phase 0.0d0\n",
      " atom1: #<ATOM :C/:C> atom2: #<ATOM :NH/:N> atom3: #<ATOM :CH3/:C> atom4 #<ATOM :HH33/:H> key: 0.0-2-0.0 vi: 0.0d0 ini 2 phase 0.0d0\n",
      " atom1: #<ATOM :C_0/:C> atom2: #<ATOM :C/:C> atom3: #<ATOM :NH/:N> atom4 #<ATOM :CH3/:C> key: 2.5-2-3.1415939703583717 vi: 2.5d0 ini 2 phase 3.1415939703583717d0\n",
      "  2.5d0 2\n",
      " atom1: #<ATOM :C_0/:C> atom2: #<ATOM :C/:C> atom3: #<ATOM :NH/:N> atom4 #<ATOM :HH/:H> key: 2.5-2-3.1415939703583717 vi: 2.5d0 ini 2 phase 3.1415939703583717d0\n",
      " atom1: #<ATOM :O/:O> atom2: #<ATOM :C/:C> atom3: #<ATOM :NH/:N> atom4 #<ATOM :CH3/:C> key: 2.5-2-3.1415939703583717 vi: 2.5d0 ini 2 phase 3.1415939703583717d0\n",
      " atom1: #<ATOM :O/:O> atom2: #<ATOM :C/:C> atom3: #<ATOM :NH/:N> atom4 #<ATOM :HH/:H> key: 2.0-1-0.0 vi: 2.0d0 ini 1 phase 0.0d0\n",
      "  2.0d0 1\n",
      " atom1: #<ATOM :O/:O> atom2: #<ATOM :C/:C> atom3: #<ATOM :NH/:N> atom4 #<ATOM :HH/:H> key: 2.5-2-3.1415939703583717 vi: 2.5d0 ini 2 phase 3.1415939703583717d0\n",
      " atom1: #<ATOM :NH/:N> atom2: #<ATOM :C/:C> atom3: #<ATOM :CH3/:C> atom4 #<ATOM :HH31/:H> key: 0.0-2-0.0 vi: 0.0d0 ini 2 phase 0.0d0\n",
      " atom1: #<ATOM :NH/:N> atom2: #<ATOM :C/:C> atom3: #<ATOM :CH3/:C> atom4 #<ATOM :HH32/:H> key: 0.0-2-0.0 vi: 0.0d0 ini 2 phase 0.0d0\n",
      " atom1: #<ATOM :NH/:N> atom2: #<ATOM :C/:C> atom3: #<ATOM :CH3/:C> atom4 #<ATOM :HH33/:H> key: 0.0-2-0.0 vi: 0.0d0 ini 2 phase 0.0d0\n",
      " atom1: #<ATOM :NH/:N> atom2: #<ATOM :C_0/:C> atom3: #<ATOM :CH3/:C> atom4 #<ATOM :HH31/:H> key: 0.15555555555555556-3-0.0 vi: 0.15555555555555556d0 ini 3 phase 0.0d0\n",
      " atom1: #<ATOM :NH/:N> atom2: #<ATOM :C_0/:C> atom3: #<ATOM :CH3/:C> atom4 #<ATOM :HH32/:H> key: 0.15555555555555556-3-0.0 vi: 0.15555555555555556d0 ini 3 phase 0.0d0\n",
      " atom1: #<ATOM :NH/:N> atom2: #<ATOM :C_0/:C> atom3: #<ATOM :CH3/:C> atom4 #<ATOM :HH33/:H> key: 0.15555555555555556-3-0.0 vi: 0.15555555555555556d0 ini 3 phase 0.0d0\n",
      " atom1: #<ATOM :NH/:N> atom2: #<ATOM :C_0/:C> atom3: #<ATOM :C/:C> atom4 #<ATOM :NH/:N> key: 0.0-2-0.0 vi: 0.0d0 ini 2 phase 0.0d0\n",
      " atom1: #<ATOM :NH/:N> atom2: #<ATOM :C_0/:C> atom3: #<ATOM :C/:C> atom4 #<ATOM :O/:O> key: 0.0-2-0.0 vi: 0.0d0 ini 2 phase 0.0d0\n",
      " atom1: #<ATOM :H/:H> atom2: #<ATOM :C_0/:C> atom3: #<ATOM :NH/:N> atom4 #<ATOM :HH/:H> key: 0.0-2-0.0 vi: 0.0d0 ini 2 phase 0.0d0\n",
      " atom1: #<ATOM :H/:H> atom2: #<ATOM :C_0/:C> atom3: #<ATOM :CH3/:C> atom4 #<ATOM :HH31/:H> key: 0.15555555555555556-3-0.0 vi: 0.15555555555555556d0 ini 3 phase 0.0d0\n",
      " atom1: #<ATOM :H/:H> atom2: #<ATOM :C_0/:C> atom3: #<ATOM :CH3/:C> atom4 #<ATOM :HH32/:H> key: 0.15555555555555556-3-0.0 vi: 0.15555555555555556d0 ini 3 phase 0.0d0\n",
      " atom1: #<ATOM :H/:H> atom2: #<ATOM :C_0/:C> atom3: #<ATOM :CH3/:C> atom4 #<ATOM :HH33/:H> key: 0.15555555555555556-3-0.0 vi: 0.15555555555555556d0 ini 3 phase 0.0d0\n",
      " atom1: #<ATOM :H/:H> atom2: #<ATOM :C_0/:C> atom3: #<ATOM :C/:C> atom4 #<ATOM :NH/:N> key: 0.0-2-0.0 vi: 0.0d0 ini 2 phase 0.0d0\n",
      " atom1: #<ATOM :H/:H> atom2: #<ATOM :C_0/:C> atom3: #<ATOM :C/:C> atom4 #<ATOM :O/:O> key: 0.7999999999999999-1-0.0 vi: 0.7999999999999999d0 ini 1 phase 0.0d0\n",
      "  0.7999999999999999d0 1\n",
      " atom1: #<ATOM :H/:H> atom2: #<ATOM :C_0/:C> atom3: #<ATOM :C/:C> atom4 #<ATOM :O/:O> key: 0.0-2-0.0 vi: 0.0d0 ini 2 phase 0.0d0\n",
      " atom1: #<ATOM :H/:H> atom2: #<ATOM :C_0/:C> atom3: #<ATOM :C/:C> atom4 #<ATOM :O/:O> key: 0.08-3-3.1415939703583717 vi: 0.08d0 ini 3 phase 3.1415939703583717d0\n",
      "  0.08d0 3\n",
      " atom1: #<ATOM :CH3/:C> atom2: #<ATOM :C_0/:C> atom3: #<ATOM :NH/:N> atom4 #<ATOM :HH/:H> key: 0.0-2-0.0 vi: 0.0d0 ini 2 phase 0.0d0\n",
      " atom1: #<ATOM :CH3/:C> atom2: #<ATOM :C_0/:C> atom3: #<ATOM :C/:C> atom4 #<ATOM :NH/:N> key: 0.19999999999999998-1-0.0 vi: 0.19999999999999998d0 ini 1 phase 0.0d0\n",
      "  0.19999999999999998d0 1\n",
      " atom1: #<ATOM :CH3/:C> atom2: #<ATOM :C_0/:C> atom3: #<ATOM :C/:C> atom4 #<ATOM :NH/:N> key: 0.19999999999999998-2-0.0 vi: 0.19999999999999998d0 ini 2 phase 0.0d0\n",
      "  0.19999999999999998d0 2\n",
      " atom1: #<ATOM :CH3/:C> atom2: #<ATOM :C_0/:C> atom3: #<ATOM :C/:C> atom4 #<ATOM :NH/:N> key: 0.39999999999999997-3-0.0 vi: 0.39999999999999997d0 ini 3 phase 0.0d0\n",
      "  0.39999999999999997d0 3\n",
      " atom1: #<ATOM :CH3/:C> atom2: #<ATOM :C_0/:C> atom3: #<ATOM :C/:C> atom4 #<ATOM :NH/:N> key: 0.0-4-0.0 vi: 0.0d0 ini 4 phase 0.0d0\n",
      "  0.0d0 4\n",
      " atom1: #<ATOM :CH3/:C> atom2: #<ATOM :C_0/:C> atom3: #<ATOM :C/:C> atom4 #<ATOM :O/:O> key: 0.0-2-0.0 vi: 0.0d0 ini 2 phase 0.0d0\n",
      " atom1: #<ATOM :C/:C> atom2: #<ATOM :NH/:N> atom3: #<ATOM :C_0/:C> atom4 #<ATOM :H/:H> key: 0.0-2-0.0 vi: 0.0d0 ini 2 phase 0.0d0\n",
      " atom1: #<ATOM :C/:C> atom2: #<ATOM :NH/:N> atom3: #<ATOM :C_0/:C> atom4 #<ATOM :CH3/:C> key: 2.0-1-0.0 vi: 2.0d0 ini 1 phase 0.0d0\n",
      " atom1: #<ATOM :C/:C> atom2: #<ATOM :NH/:N> atom3: #<ATOM :C_0/:C> atom4 #<ATOM :CH3/:C> key: 2.0-2-0.0 vi: 2.0d0 ini 2 phase 0.0d0\n",
      "  2.0d0 2\n",
      " atom1: #<ATOM :C/:C> atom2: #<ATOM :NH/:N> atom3: #<ATOM :C_0/:C> atom4 #<ATOM :CH3/:C> key: 0.39999999999999997-3-0.0 vi: 0.39999999999999997d0 ini 3 phase 0.0d0\n",
      " atom1: #<ATOM :C/:C> atom2: #<ATOM :NH/:N> atom3: #<ATOM :C_0/:C> atom4 #<ATOM :CH3/:C> key: 0.0-4-0.0 vi: 0.0d0 ini 4 phase 0.0d0\n",
      " atom1: #<ATOM :C/:C> atom2: #<ATOM :NH/:N> atom3: #<ATOM :C_0/:C> atom4 #<ATOM :C/:C> key: 0.0-2-0.0 vi: 0.0d0 ini 2 phase 0.0d0\n",
      " atom1: #<ATOM :CH3/:C> atom2: #<ATOM :C/:C> atom3: #<ATOM :NH/:N> atom4 #<ATOM :C_0/:C> key: 2.5-2-3.1415939703583717 vi: 2.5d0 ini 2 phase 3.1415939703583717d0\n",
      " atom1: #<ATOM :CH3/:C> atom2: #<ATOM :C/:C> atom3: #<ATOM :NH/:N> atom4 #<ATOM :HH/:H> key: 2.5-2-3.1415939703583717 vi: 2.5d0 ini 2 phase 3.1415939703583717d0\n",
      " atom1: #<ATOM :O/:O> atom2: #<ATOM :C/:C> atom3: #<ATOM :CH3/:C> atom4 #<ATOM :HH31/:H> key: 0.7999999999999999-1-0.0 vi: 0.7999999999999999d0 ini 1 phase 0.0d0\n",
      " atom1: #<ATOM :O/:O> atom2: #<ATOM :C/:C> atom3: #<ATOM :CH3/:C> atom4 #<ATOM :HH31/:H> key: 0.0-2-0.0 vi: 0.0d0 ini 2 phase 0.0d0\n",
      " atom1: #<ATOM :O/:O> atom2: #<ATOM :C/:C> atom3: #<ATOM :CH3/:C> atom4 #<ATOM :HH31/:H> key: 0.08-3-3.1415939703583717 vi: 0.08d0 ini 3 phase 3.1415939703583717d0\n",
      " atom1: #<ATOM :O/:O> atom2: #<ATOM :C/:C> atom3: #<ATOM :CH3/:C> atom4 #<ATOM :HH32/:H> key: 0.7999999999999999-1-0.0 vi: 0.7999999999999999d0 ini 1 phase 0.0d0\n",
      " atom1: #<ATOM :O/:O> atom2: #<ATOM :C/:C> atom3: #<ATOM :CH3/:C> atom4 #<ATOM :HH32/:H> key: 0.0-2-0.0 vi: 0.0d0 ini 2 phase 0.0d0\n",
      " atom1: #<ATOM :O/:O> atom2: #<ATOM :C/:C> atom3: #<ATOM :CH3/:C> atom4 #<ATOM :HH32/:H> key: 0.08-3-3.1415939703583717 vi: 0.08d0 ini 3 phase 3.1415939703583717d0\n",
      " atom1: #<ATOM :O/:O> atom2: #<ATOM :C/:C> atom3: #<ATOM :CH3/:C> atom4 #<ATOM :HH33/:H> key: 0.7999999999999999-1-0.0 vi: 0.7999999999999999d0 ini 1 phase 0.0d0\n",
      " atom1: #<ATOM :O/:O> atom2: #<ATOM :C/:C> atom3: #<ATOM :CH3/:C> atom4 #<ATOM :HH33/:H> key: 0.0-2-0.0 vi: 0.0d0 ini 2 phase 0.0d0\n",
      " atom1: #<ATOM :O/:O> atom2: #<ATOM :C/:C> atom3: #<ATOM :CH3/:C> atom4 #<ATOM :HH33/:H> key: 0.08-3-3.1415939703583717 vi: 0.08d0 ini 3 phase 3.1415939703583717d0\n",
      " atom1: #<ATOM :O/:O> atom2: #<ATOM :C/:C> atom3: #<ATOM :NH/:N> atom4 #<ATOM :C_0/:C> key: 2.5-2-3.1415939703583717 vi: 2.5d0 ini 2 phase 3.1415939703583717d0\n",
      " atom1: #<ATOM :O/:O> atom2: #<ATOM :C/:C> atom3: #<ATOM :NH/:N> atom4 #<ATOM :HH/:H> key: 2.0-1-0.0 vi: 2.0d0 ini 1 phase 0.0d0\n",
      " atom1: #<ATOM :O/:O> atom2: #<ATOM :C/:C> atom3: #<ATOM :NH/:N> atom4 #<ATOM :HH/:H> key: 2.5-2-3.1415939703583717 vi: 2.5d0 ini 2 phase 3.1415939703583717d0\n",
      " atom1: #<ATOM :HH31/:H> atom2: #<ATOM :CH3/:C> atom3: #<ATOM :NH/:N> atom4 #<ATOM :HH/:H> key: 0.0-2-0.0 vi: 0.0d0 ini 2 phase 0.0d0\n",
      " atom1: #<ATOM :HH32/:H> atom2: #<ATOM :CH3/:C> atom3: #<ATOM :NH/:N> atom4 #<ATOM :HH/:H> key: 0.0-2-0.0 vi: 0.0d0 ini 2 phase 0.0d0\n",
      " atom1: #<ATOM :HH33/:H> atom2: #<ATOM :CH3/:C> atom3: #<ATOM :NH/:N> atom4 #<ATOM :HH/:H> key: 0.0-2-0.0 vi: 0.0d0 ini 2 phase 0.0d0\n",
      " atom1: #<ATOM :C_0/:C> atom2: #<ATOM :NH/:N> atom3: #<ATOM :C/:C> atom4 #<ATOM :O/:O> key: 10.5-2-3.1415940000000004 vi: 10.5d0 ini 2 phase 3.1415940000000004d0\n",
      "  10.5d0 2\n",
      " atom1: #<ATOM :C/:C> atom2: #<ATOM :C_0/:C> atom3: #<ATOM :NH/:N> atom4 #<ATOM :HH/:H> key: 1.1-2-3.1415940000000004 vi: 1.1d0 ini 2 phase 3.1415940000000004d0\n",
      "  1.1d0 2\n",
      " atom1: #<ATOM :CH3/:C> atom2: #<ATOM :NH/:N> atom3: #<ATOM :C/:C> atom4 #<ATOM :O/:O> key: 10.5-2-3.1415940000000004 vi: 10.5d0 ini 2 phase 3.1415940000000004d0\n",
      " atom1: #<ATOM :C/:C> atom2: #<ATOM :CH3/:C> atom3: #<ATOM :NH/:N> atom4 #<ATOM :HH/:H> key: 1.1-2-3.1415940000000004 vi: 1.1d0 ini 2 phase 3.1415940000000004d0\n",
      " residue-count 3\n",
      "molecule-count 1\n"
     ]
    },
    {
     "data": {
      "text/plain": [
       "0"
      ]
     },
     "execution_count": 19,
     "metadata": {},
     "output_type": "execute_result"
    }
   ],
   "source": [
    "(leap.topology:save-amber-parm-format *chemagg* \"chemagg.top\" \"chemagg.crd\" :assign-types nil)"
   ]
  },
  {
   "cell_type": "markdown",
   "metadata": {},
   "source": [
    "## Create topology and coordinate file for Alanine and water atoms."
   ]
  },
  {
   "cell_type": "markdown",
   "metadata": {},
   "source": [
    "#### Load Tip3pfbox water box."
   ]
  },
  {
   "cell_type": "code",
   "execution_count": 20,
   "metadata": {},
   "outputs": [
    {
     "data": {
      "text/plain": [
       "(:TIP3PFBOX)"
      ]
     },
     "execution_count": 20,
     "metadata": {},
     "output_type": "execute_result"
    }
   ],
   "source": [
    "(load-off \"tip3pfbox.off\")"
   ]
  },
  {
   "cell_type": "markdown",
   "metadata": {},
   "source": [
    "#### Make agggregate of the water box."
   ]
  },
  {
   "cell_type": "code",
   "execution_count": 21,
   "metadata": {},
   "outputs": [
    {
     "name": "stdout",
     "output_type": "stream",
     "text": [
      "\n",
      "#<AGGREGATE NIL> "
     ]
    },
    {
     "data": {
      "text/plain": [
       "#<AGGREGATE NIL>"
      ]
     },
     "execution_count": 21,
     "metadata": {},
     "output_type": "execute_result"
    }
   ],
   "source": [
    "(print ~tip3pfbox)"
   ]
  },
  {
   "cell_type": "code",
   "execution_count": 22,
   "metadata": {},
   "outputs": [
    {
     "data": {
      "text/plain": [
       "*SOLVENT*"
      ]
     },
     "execution_count": 22,
     "metadata": {},
     "output_type": "execute_result"
    }
   ],
   "source": [
    "(defparameter *solvent* ~tip3pfbox)"
   ]
  },
  {
   "cell_type": "code",
   "execution_count": 23,
   "metadata": {},
   "outputs": [
    {
     "data": {
      "application/vnd.jupyter.widget-view+json": {
       "model_id": "487DCA55-D122-4FB2-8DAF-E8BBB507832D",
       "version_major": 2,
       "version_minor": 0
      },
      "text/html": [
       "<p>Failed to display Jupyter Widget of type <code>{widget_type}</code>.</p>\n",
       "<p>\n",
       "  If you're reading this message in the Jupyter Notebook or JupyterLab Notebook, it may mean\n",
       "  that the widgets JavaScript is still loading. If this message persists, it\n",
       "  likely means that the widgets JavaScript library is either not installed or\n",
       "  not enabled. See the <a href=\"https://ipywidgets.readthedocs.io/en/stable/user_install.html\">Jupyter\n",
       "  Widgets Documentation</a> for setup instructions.\n",
       "</p>\n",
       "<p>\n",
       "  If you're reading this message in another frontend (for example, a static\n",
       "  rendering on GitHub or <a href=\"https://nbviewer.jupyter.org/\">NBViewer</a>),\n",
       "  it may mean that your frontend doesn't currently support widgets.\n",
       "</p>\n"
      ],
      "text/plain": [
       "A Jupyter Widget"
      ]
     },
     "execution_count": 23,
     "metadata": {},
     "output_type": "execute_result"
    }
   ],
   "source": [
    "(nglv::show-aggregate *solvent*)"
   ]
  },
  {
   "cell_type": "markdown",
   "metadata": {},
   "source": [
    "#### Assign the atom types of the force field to the water box."
   ]
  },
  {
   "cell_type": "code",
   "execution_count": 24,
   "metadata": {},
   "outputs": [
    {
     "data": {
      "text/plain": [
       "NIL"
      ]
     },
     "execution_count": 24,
     "metadata": {},
     "output_type": "execute_result"
    }
   ],
   "source": [
    "(assign-atom-types *solvent*)"
   ]
  },
  {
   "cell_type": "markdown",
   "metadata": {},
   "source": [
    "#### Add Tip3p water molecules to the alanine."
   ]
  },
  {
   "cell_type": "code",
   "execution_count": 25,
   "metadata": {},
   "outputs": [
    {
     "name": "stdout",
     "output_type": "stream",
     "text": [
      "Total bounding box for atom centers:  20.792837322611035d0 15.369380487777903d0 14.421193787284118d0\n"
     ]
    },
    {
     "data": {
      "text/plain": [
       "*NEWAGG*"
      ]
     },
     "execution_count": 25,
     "metadata": {},
     "output_type": "execute_result"
    }
   ],
   "source": [
    "(:= *newagg* (leap.solvate::tool-solvate-and-shell *chemagg* *solvent* '(5.0 5.0 5.0)))"
   ]
  },
  {
   "cell_type": "code",
   "execution_count": 26,
   "metadata": {},
   "outputs": [
    {
     "data": {
      "application/vnd.jupyter.widget-view+json": {
       "model_id": "14A84F62-F797-4C87-B8B5-E1EF49AA7C71",
       "version_major": 2,
       "version_minor": 0
      },
      "text/html": [
       "<p>Failed to display Jupyter Widget of type <code>{widget_type}</code>.</p>\n",
       "<p>\n",
       "  If you're reading this message in the Jupyter Notebook or JupyterLab Notebook, it may mean\n",
       "  that the widgets JavaScript is still loading. If this message persists, it\n",
       "  likely means that the widgets JavaScript library is either not installed or\n",
       "  not enabled. See the <a href=\"https://ipywidgets.readthedocs.io/en/stable/user_install.html\">Jupyter\n",
       "  Widgets Documentation</a> for setup instructions.\n",
       "</p>\n",
       "<p>\n",
       "  If you're reading this message in another frontend (for example, a static\n",
       "  rendering on GitHub or <a href=\"https://nbviewer.jupyter.org/\">NBViewer</a>),\n",
       "  it may mean that your frontend doesn't currently support widgets.\n",
       "</p>\n"
      ],
      "text/plain": [
       "A Jupyter Widget"
      ]
     },
     "execution_count": 26,
     "metadata": {},
     "output_type": "execute_result"
    }
   ],
   "source": [
    "(nglv::show-aggregate *newagg*)"
   ]
  },
  {
   "cell_type": "markdown",
   "metadata": {},
   "source": [
    "#### Save the topology and coordinate file. New aggregate contains water molecules and alanine."
   ]
  },
  {
   "cell_type": "code",
   "execution_count": 27,
   "metadata": {},
   "outputs": [
    {
     "data": {
      "text/plain": [
       "NIL"
      ]
     },
     "execution_count": 27,
     "metadata": {},
     "output_type": "execute_result"
    }
   ],
   "source": [
    "(assign-atom-types *newagg*)\n",
    "(chem:map-atoms 'nil (lambda (a) (if (eq (chem:get-type a) :CT)\n",
    "                                     (if (eq (chem:get-name a) :C)\n",
    "                                         (chem:set-type a :CX)))) *newagg*)"
   ]
  },
  {
   "cell_type": "code",
   "execution_count": 29,
   "metadata": {},
   "outputs": [
    {
     "name": "stdout",
     "output_type": "stream",
     "text": [
      "minimize-no-fail\n",
      "======= Starting Steepest Descent Minimizer\n",
      "DONE absolute force test:\n",
      "forceRmsMag(59.709070).LT.forceTolerance(5000.000000)\n",
      "======= Starting Conjugate Gradient Minimizer\n",
      "---Stage-Seconds--Step-log(Alpha)--Dir-------------Energy-----------RMSforce\n",
      " minCGnP       0     1      -inf   0.0              0.000             59.709\n",
      " minCGnP       0     2     -7.38  36.4            796.232             44.059\n",
      " minCGnP       0     3     -7.21  27.2            200.626             18.111\n",
      " minCGnP       0     4     -7.34  29.6            110.944              8.890\n",
      " minCGnP       0     5     -6.89  41.1             77.287              6.657\n",
      " minCGnP       0     6     -7.09  45.9             61.754              4.959\n",
      " minCGnP       0     7     -6.53  55.9             46.673              5.078\n",
      " minCGnP       0     8     -6.67  50.7             32.989              3.371\n",
      " minCGnP       0     9     -6.97  56.1             28.516              3.173\n",
      " minCGnP       0    10     -6.98  55.9             24.574              2.589\n",
      "---Stage-Seconds--Step-log(Alpha)--Dir-------------Energy-----------RMSforce\n",
      " minCGnP       0    11     -6.38  66.6             19.812              3.346\n",
      " minCGnP       0    12     -6.75  66.0             14.330              2.918\n",
      " minCGnP       0    13     -6.91  61.1             10.766              2.142\n",
      " minCGnP       0    14     -6.43  60.8              7.666              1.861\n",
      " minCGnP       0    15     -7.44  46.2              6.811              0.940\n",
      " minCGnP       0    16     -6.62  60.1              6.318              1.132\n",
      " minCGnP       0    17     -6.86  49.2              5.749              0.665\n",
      "DONE absolute force test:\n",
      "forceRmsMag(0.351941).LT.forceTolerance(0.500000)\n",
      "minimize-no-fail\n",
      "======= Starting Steepest Descent Minimizer\n",
      " minSDnP       0    18      -inf   0.0              0.000          38564.171\n",
      " minSDnP       0    19    -14.77   0.0          84179.863          14074.716\n",
      " minSDnP       0    20    -12.80   0.0          32789.008           6086.561\n",
      "DONE absolute force test:\n",
      "forceRmsMag(399.990001).LT.forceTolerance(5000.000000)\n",
      "======= Starting Conjugate Gradient Minimizer\n",
      "---Stage-Seconds--Step-log(Alpha)--Dir-------------Energy-----------RMSforce\n",
      " minCGnP       0    21      -inf   0.0              0.000            399.990\n",
      " minCGnP       0    22    -10.09  22.0           5585.959            161.905\n",
      " minCGnP       0    23     -8.84  38.4           4363.892            130.176\n",
      " minCGnP       0    24     -8.98  42.5           3674.817             88.428\n",
      " minCGnP       0    25     -8.72   5.6           3020.842             57.051\n",
      " minCGnP       0    26     -8.95  40.4           2814.540             48.335\n",
      " minCGnP       0    27     -8.74  23.8           2672.619             26.179\n",
      " minCGnP       0    28     -8.80  38.8           2627.602             19.678\n",
      " minCGnP       0    29     -8.66  45.4           2597.547             21.628\n",
      " minCGnP       0    30     -8.31  47.8           2549.129             16.432\n",
      "---Stage-Seconds--Step-log(Alpha)--Dir-------------Energy-----------RMSforce\n",
      " minCGnP       1    31     -8.55  53.5           2527.568             15.702\n",
      " minCGnP       1    32     -8.39  53.0           2504.529             13.225\n",
      " minCGnP       1    33     -8.06  59.3           2481.533             12.842\n",
      " minCGnP       1    34     -8.10  60.4           2460.020             12.608\n",
      " minCGnP       1    35     -8.75  56.4           2449.339              8.319\n",
      " minCGnP       1    36     -8.21  63.7           2441.344              8.841\n",
      " minCGnP       1    37     -8.34  54.1           2433.587              6.361\n",
      " minCGnP       1    38     -8.37  63.1           2429.673              7.229\n",
      " minCGnP       1    39     -8.34  65.4           2424.318              7.382\n",
      " minCGnP       1    40     -8.49  57.3           2419.613              5.552\n",
      "---Stage-Seconds--Step-log(Alpha)--Dir-------------Energy-----------RMSforce\n",
      " minCGnP       1    41     -8.18  58.9           2416.022              4.887\n",
      " minCGnP       1    42     -8.72  60.4           2414.400              4.525\n",
      " minCGnP       1    43     -8.04  68.3           2411.634              5.662\n",
      " minCGnP       1    44     -8.16  64.4           2407.783              4.300\n",
      " minCGnP       1    45     -8.14  71.5           2405.539              5.594\n",
      " minCGnP       1    46     -8.39  72.4           2402.560              5.346\n",
      " minCGnP       1    47     -8.39  69.2           2399.833              4.060\n",
      " minCGnP       1    48     -8.23  69.2           2397.991              3.858\n",
      " minCGnP       1    49     -8.42  71.7           2396.602              4.236\n",
      " minCGnP       2    50     -8.33  70.6           2394.780              3.915\n",
      "---Stage-Seconds--Step-log(Alpha)--Dir-------------Energy-----------RMSforce\n",
      " minCGnP       2    51     -8.24  67.5           2393.087              2.989\n",
      " minCGnP       2    52     -8.24  68.5           2392.088              2.846\n",
      " minCGnP       2    53     -8.20  70.9           2391.150              3.011\n",
      " minCGnP       2    54     -8.69  67.7           2390.508              2.392\n",
      " minCGnP       2    55     -7.87  70.3           2389.586              2.506\n",
      " minCGnP       2    56     -8.08  69.9           2388.769              2.334\n",
      " minCGnP       2    57     -8.08  72.3           2388.062              2.476\n",
      " minCGnP       2    58     -8.65  70.3           2387.613              2.104\n",
      " minCGnP       2    59     -8.36  68.4           2387.176              1.789\n",
      " minCGnP       2    60     -8.24  65.4           2386.824              1.438\n",
      "---Stage-Seconds--Step-log(Alpha)--Dir-------------Energy-----------RMSforce\n",
      " minCGnP       2    61     -8.07  68.8           2386.553              1.546\n",
      " minCGnP       2    62     -8.34  70.4           2386.313              1.573\n",
      " minCGnP       2    63     -8.72  63.8           2386.143              1.070\n",
      " minCGnP       2    64     -7.82  67.9           2385.949              1.168\n",
      " minCGnP       2    65     -8.09  70.0           2385.774              1.200\n",
      " minCGnP       2    66     -8.35  72.6           2385.631              1.315\n",
      " minCGnP       2    67     -8.43  71.1           2385.473              1.169\n",
      " minCGnP       2    68     -8.01  71.5           2385.283              1.118\n",
      " minCGnP       2    69     -8.21  68.2           2385.139              0.896\n",
      " minCGnP       3    70     -8.50  70.7           2385.071              0.940\n",
      "---Stage-Seconds--Step-log(Alpha)--Dir-------------Energy-----------RMSforce\n",
      " minCGnP       3    71     -8.23  72.0           2384.972              0.954\n",
      " minCGnP       3    72     -8.39  63.0           2384.885              0.592\n",
      " minCGnP       3    73     -8.11  66.7           2384.841              0.622\n",
      " minCGnP       3    74     -8.55  67.1           2384.810              0.585\n",
      " minCGnP       3    75     -8.39  65.9           2384.777              0.509\n",
      " minCGnP       3    76     -8.05  67.5           2384.743              0.501\n",
      " minCGnP       3    77     -7.99  72.3           2384.707              0.602\n",
      "DONE absolute force test:\n",
      "forceRmsMag(0.476042).LT.forceTolerance(0.500000)\n"
     ]
    },
    {
     "data": {
      "text/plain": [
       "*E*"
      ]
     },
     "execution_count": 29,
     "metadata": {},
     "output_type": "execute_result"
    }
   ],
   "source": [
    "(defparameter *e* (energy:minimize *newagg*))"
   ]
  },
  {
   "cell_type": "code",
   "execution_count": 30,
   "metadata": {},
   "outputs": [
    {
     "name": "stdout",
     "output_type": "stream",
     "text": [
      "atom1: #<ATOM :C/:C> atom2: #<ATOM :NH/:N> i1: 0 i2: 51\n",
      " atom1: #<ATOM :C_0/:C> atom2: #<ATOM :C/:C> i1: 3 i2: 0\n",
      " atom1: #<ATOM :O/:O> atom2: #<ATOM :C/:C> i1: 6 i2: 0\n",
      " atom1: #<ATOM :NH/:N> atom2: #<ATOM :C_0/:C> i1: 9 i2: 3\n",
      " atom1: #<ATOM :H/:H> atom2: #<ATOM :C_0/:C> i1: 12 i2: 3\n",
      " atom1: #<ATOM :CH3/:C> atom2: #<ATOM :C_0/:C> i1: 15 i2: 3\n",
      " atom1: #<ATOM :HH31/:H> atom2: #<ATOM :CH3/:C> i1: 18 i2: 15\n",
      " atom1: #<ATOM :HH32/:H> atom2: #<ATOM :CH3/:C> i1: 21 i2: 15\n",
      " atom1: #<ATOM :HH33/:H> atom2: #<ATOM :CH3/:C> i1: 24 i2: 15\n",
      " atom1: #<ATOM :HH/:H> atom2: #<ATOM :NH/:N> i1: 27 i2: 9\n",
      " atom1: #<ATOM :C/:C> atom2: #<ATOM :NH/:N> i1: 30 i2: 9\n",
      " atom1: #<ATOM :CH3/:C> atom2: #<ATOM :C/:C> i1: 33 i2: 30\n",
      " atom1: #<ATOM :O/:O> atom2: #<ATOM :C/:C> i1: 36 i2: 30\n",
      " atom1: #<ATOM :HH31/:H> atom2: #<ATOM :CH3/:C> i1: 39 i2: 33\n",
      " atom1: #<ATOM :HH32/:H> atom2: #<ATOM :CH3/:C> i1: 42 i2: 33\n",
      " atom1: #<ATOM :HH33/:H> atom2: #<ATOM :CH3/:C> i1: 45 i2: 33\n",
      " atom1: #<ATOM :CH3/:C> atom2: #<ATOM :NH/:N> i1: 48 i2: 51\n",
      " atom1: #<ATOM :CH3/:C> atom2: #<ATOM :HH31/:H> i1: 48 i2: 54\n",
      " atom1: #<ATOM :CH3/:C> atom2: #<ATOM :HH32/:H> i1: 48 i2: 57\n",
      " atom1: #<ATOM :CH3/:C> atom2: #<ATOM :HH33/:H> i1: 48 i2: 60\n",
      " atom1: #<ATOM :HH/:H> atom2: #<ATOM :NH/:N> i1: 63 i2: 51\n",
      " atom1: #<ATOM :H1/:H> atom2: #<ATOM :O/:O> i1: 69 i2: 66\n",
      " atom1: #<ATOM :H2/:H> atom2: #<ATOM :O/:O> i1: 72 i2: 66\n",
      " atom1: #<ATOM :H2/:H> atom2: #<ATOM :H1/:H> i1: 72 i2: 69\n",
      " atom1: #<ATOM :H1/:H> atom2: #<ATOM :O/:O> i1: 78 i2: 75\n",
      " atom1: #<ATOM :H2/:H> atom2: #<ATOM :O/:O> i1: 81 i2: 75\n",
      " atom1: #<ATOM :H2/:H> atom2: #<ATOM :H1/:H> i1: 81 i2: 78\n",
      " atom1: #<ATOM :H1/:H> atom2: #<ATOM :O/:O> i1: 87 i2: 84\n",
      " atom1: #<ATOM :H2/:H> atom2: #<ATOM :O/:O> i1: 90 i2: 84\n",
      " atom1: #<ATOM :H2/:H> atom2: #<ATOM :H1/:H> i1: 90 i2: 87\n",
      " atom1: #<ATOM :H1/:H> atom2: #<ATOM :O/:O> i1: 96 i2: 93\n",
      " atom1: #<ATOM :H2/:H> atom2: #<ATOM :O/:O> i1: 99 i2: 93\n",
      " atom1: #<ATOM :H2/:H> atom2: #<ATOM :H1/:H> i1: 99 i2: 96\n",
      " atom1: #<ATOM :H1/:H> atom2: #<ATOM :O/:O> i1: 105 i2: 102\n",
      " atom1: #<ATOM :H2/:H> atom2: #<ATOM :O/:O> i1: 108 i2: 102\n",
      " atom1: #<ATOM :H2/:H> atom2: #<ATOM :H1/:H> i1: 108 i2: 105\n",
      " atom1: #<ATOM :H1/:H> atom2: #<ATOM :O/:O> i1: 114 i2: 111\n",
      " atom1: #<ATOM :H2/:H> atom2: #<ATOM :O/:O> i1: 117 i2: 111\n",
      " atom1: #<ATOM :H2/:H> atom2: #<ATOM :H1/:H> i1: 117 i2: 114\n",
      " atom1: #<ATOM :O/:O> atom2: #<ATOM :H1/:H> i1: 120 i2: 123\n",
      " atom1: #<ATOM :O/:O> atom2: #<ATOM :H2/:H> i1: 120 i2: 126\n",
      " atom1: #<ATOM :H2/:H> atom2: #<ATOM :H1/:H> i1: 126 i2: 123\n",
      " atom1: #<ATOM :H1/:H> atom2: #<ATOM :O/:O> i1: 132 i2: 129\n",
      " atom1: #<ATOM :H2/:H> atom2: #<ATOM :O/:O> i1: 135 i2: 129\n",
      " atom1: #<ATOM :H2/:H> atom2: #<ATOM :H1/:H> i1: 135 i2: 132\n",
      " atom1: #<ATOM :H1/:H> atom2: #<ATOM :O/:O> i1: 141 i2: 138\n",
      " atom1: #<ATOM :H2/:H> atom2: #<ATOM :O/:O> i1: 144 i2: 138\n",
      " atom1: #<ATOM :H2/:H> atom2: #<ATOM :H1/:H> i1: 144 i2: 141\n",
      " atom1: #<ATOM :H1/:H> atom2: #<ATOM :O/:O> i1: 150 i2: 147\n",
      " atom1: #<ATOM :H2/:H> atom2: #<ATOM :O/:O> i1: 153 i2: 147\n",
      " atom1: #<ATOM :H2/:H> atom2: #<ATOM :H1/:H> i1: 153 i2: 150\n",
      " atom1: #<ATOM :H1/:H> atom2: #<ATOM :O/:O> i1: 159 i2: 156\n",
      " atom1: #<ATOM :H2/:H> atom2: #<ATOM :O/:O> i1: 162 i2: 156\n",
      " atom1: #<ATOM :H2/:H> atom2: #<ATOM :H1/:H> i1: 162 i2: 159\n",
      " atom1: #<ATOM :H1/:H> atom2: #<ATOM :O/:O> i1: 168 i2: 165\n",
      " atom1: #<ATOM :H2/:H> atom2: #<ATOM :O/:O> i1: 171 i2: 165\n",
      " atom1: #<ATOM :H2/:H> atom2: #<ATOM :H1/:H> i1: 171 i2: 168\n",
      " atom1: #<ATOM :H1/:H> atom2: #<ATOM :O/:O> i1: 177 i2: 174\n",
      " atom1: #<ATOM :H2/:H> atom2: #<ATOM :O/:O> i1: 180 i2: 174\n",
      " atom1: #<ATOM :H2/:H> atom2: #<ATOM :H1/:H> i1: 180 i2: 177\n",
      " atom1: #<ATOM :O/:O> atom2: #<ATOM :H1/:H> i1: 183 i2: 186\n",
      " atom1: #<ATOM :O/:O> atom2: #<ATOM :H2/:H> i1: 183 i2: 189\n",
      " atom1: #<ATOM :H2/:H> atom2: #<ATOM :H1/:H> i1: 189 i2: 186\n",
      " atom1: #<ATOM :H1/:H> atom2: #<ATOM :O/:O> i1: 195 i2: 192\n",
      " atom1: #<ATOM :H2/:H> atom2: #<ATOM :O/:O> i1: 198 i2: 192\n",
      " atom1: #<ATOM :H2/:H> atom2: #<ATOM :H1/:H> i1: 198 i2: 195\n",
      " atom1: #<ATOM :H1/:H> atom2: #<ATOM :O/:O> i1: 204 i2: 201\n",
      " atom1: #<ATOM :H2/:H> atom2: #<ATOM :O/:O> i1: 207 i2: 201\n",
      " atom1: #<ATOM :H2/:H> atom2: #<ATOM :H1/:H> i1: 207 i2: 204\n",
      " atom1: #<ATOM :H1/:H> atom2: #<ATOM :O/:O> i1: 213 i2: 210\n",
      " atom1: #<ATOM :H2/:H> atom2: #<ATOM :O/:O> i1: 216 i2: 210\n",
      " atom1: #<ATOM :H2/:H> atom2: #<ATOM :H1/:H> i1: 216 i2: 213\n",
      " atom1: #<ATOM :H1/:H> atom2: #<ATOM :O/:O> i1: 222 i2: 219\n",
      " atom1: #<ATOM :H2/:H> atom2: #<ATOM :O/:O> i1: 225 i2: 219\n",
      " atom1: #<ATOM :H2/:H> atom2: #<ATOM :H1/:H> i1: 225 i2: 222\n",
      " atom1: #<ATOM :H1/:H> atom2: #<ATOM :O/:O> i1: 231 i2: 228\n",
      " atom1: #<ATOM :H2/:H> atom2: #<ATOM :O/:O> i1: 234 i2: 228\n",
      " atom1: #<ATOM :H2/:H> atom2: #<ATOM :H1/:H> i1: 234 i2: 231\n",
      " atom1: #<ATOM :H1/:H> atom2: #<ATOM :O/:O> i1: 240 i2: 237\n",
      " atom1: #<ATOM :H2/:H> atom2: #<ATOM :O/:O> i1: 243 i2: 237\n",
      " atom1: #<ATOM :H2/:H> atom2: #<ATOM :H1/:H> i1: 243 i2: 240\n",
      " atom1: #<ATOM :H1/:H> atom2: #<ATOM :O/:O> i1: 249 i2: 246\n",
      " atom1: #<ATOM :H2/:H> atom2: #<ATOM :O/:O> i1: 252 i2: 246\n",
      " atom1: #<ATOM :H2/:H> atom2: #<ATOM :H1/:H> i1: 252 i2: 249\n",
      " atom1: #<ATOM :H1/:H> atom2: #<ATOM :O/:O> i1: 258 i2: 255\n",
      " atom1: #<ATOM :H2/:H> atom2: #<ATOM :O/:O> i1: 261 i2: 255\n",
      " atom1: #<ATOM :H2/:H> atom2: #<ATOM :H1/:H> i1: 261 i2: 258\n",
      " atom1: #<ATOM :H1/:H> atom2: #<ATOM :O/:O> i1: 267 i2: 264\n",
      " atom1: #<ATOM :H2/:H> atom2: #<ATOM :O/:O> i1: 270 i2: 264\n",
      " atom1: #<ATOM :H2/:H> atom2: #<ATOM :H1/:H> i1: 270 i2: 267\n",
      " atom1: #<ATOM :H1/:H> atom2: #<ATOM :O/:O> i1: 276 i2: 273\n",
      " atom1: #<ATOM :H2/:H> atom2: #<ATOM :O/:O> i1: 279 i2: 273\n",
      " atom1: #<ATOM :H2/:H> atom2: #<ATOM :H1/:H> i1: 279 i2: 276\n",
      " atom1: #<ATOM :H1/:H> atom2: #<ATOM :O/:O> i1: 285 i2: 282\n",
      " atom1: #<ATOM :H2/:H> atom2: #<ATOM :O/:O> i1: 288 i2: 282\n",
      " atom1: #<ATOM :H2/:H> atom2: #<ATOM :H1/:H> i1: 288 i2: 285\n",
      " atom1: #<ATOM :H1/:H> atom2: #<ATOM :O/:O> i1: 294 i2: 291\n",
      " atom1: #<ATOM :H2/:H> atom2: #<ATOM :O/:O> i1: 297 i2: 291\n",
      " atom1: #<ATOM :H2/:H> atom2: #<ATOM :H1/:H> i1: 297 i2: 294\n",
      " atom1: #<ATOM :H1/:H> atom2: #<ATOM :O/:O> i1: 303 i2: 300\n",
      " atom1: #<ATOM :H2/:H> atom2: #<ATOM :O/:O> i1: 306 i2: 300\n",
      " atom1: #<ATOM :H2/:H> atom2: #<ATOM :H1/:H> i1: 306 i2: 303\n",
      " atom1: #<ATOM :H1/:H> atom2: #<ATOM :O/:O> i1: 312 i2: 309\n",
      " atom1: #<ATOM :H2/:H> atom2: #<ATOM :O/:O> i1: 315 i2: 309\n",
      " atom1: #<ATOM :H2/:H> atom2: #<ATOM :H1/:H> i1: 315 i2: 312\n",
      " atom1: #<ATOM :O/:O> atom2: #<ATOM :H2/:H> i1: 318 i2: 324\n",
      " atom1: #<ATOM :O/:O> atom2: #<ATOM :H1/:H> i1: 318 i2: 321\n",
      " atom1: #<ATOM :H2/:H> atom2: #<ATOM :H1/:H> i1: 324 i2: 321\n",
      " atom1: #<ATOM :H1/:H> atom2: #<ATOM :O/:O> i1: 330 i2: 327\n",
      " atom1: #<ATOM :H2/:H> atom2: #<ATOM :O/:O> i1: 333 i2: 327\n",
      " atom1: #<ATOM :H2/:H> atom2: #<ATOM :H1/:H> i1: 333 i2: 330\n",
      " atom1: #<ATOM :H1/:H> atom2: #<ATOM :O/:O> i1: 339 i2: 336\n",
      " atom1: #<ATOM :H2/:H> atom2: #<ATOM :O/:O> i1: 342 i2: 336\n",
      " atom1: #<ATOM :H2/:H> atom2: #<ATOM :H1/:H> i1: 342 i2: 339\n",
      " atom1: #<ATOM :H1/:H> atom2: #<ATOM :O/:O> i1: 348 i2: 345\n",
      " atom1: #<ATOM :H2/:H> atom2: #<ATOM :O/:O> i1: 351 i2: 345\n",
      " atom1: #<ATOM :H2/:H> atom2: #<ATOM :H1/:H> i1: 351 i2: 348\n",
      " atom1: #<ATOM :H1/:H> atom2: #<ATOM :O/:O> i1: 357 i2: 354\n",
      " atom1: #<ATOM :H2/:H> atom2: #<ATOM :O/:O> i1: 360 i2: 354\n",
      " atom1: #<ATOM :H2/:H> atom2: #<ATOM :H1/:H> i1: 360 i2: 357\n",
      " atom1: #<ATOM :H1/:H> atom2: #<ATOM :O/:O> i1: 366 i2: 363\n",
      " atom1: #<ATOM :H2/:H> atom2: #<ATOM :O/:O> i1: 369 i2: 363\n",
      " atom1: #<ATOM :H2/:H> atom2: #<ATOM :H1/:H> i1: 369 i2: 366\n",
      " atom1: #<ATOM :H1/:H> atom2: #<ATOM :O/:O> i1: 375 i2: 372\n",
      " atom1: #<ATOM :H2/:H> atom2: #<ATOM :O/:O> i1: 378 i2: 372\n",
      " atom1: #<ATOM :H2/:H> atom2: #<ATOM :H1/:H> i1: 378 i2: 375\n",
      " atom1: #<ATOM :H1/:H> atom2: #<ATOM :O/:O> i1: 384 i2: 381\n",
      " atom1: #<ATOM :H2/:H> atom2: #<ATOM :O/:O> i1: 387 i2: 381\n",
      " atom1: #<ATOM :H2/:H> atom2: #<ATOM :H1/:H> i1: 387 i2: 384\n",
      " atom1: #<ATOM :H1/:H> atom2: #<ATOM :O/:O> i1: 393 i2: 390\n",
      " atom1: #<ATOM :H2/:H> atom2: #<ATOM :O/:O> i1: 396 i2: 390\n",
      " atom1: #<ATOM :H2/:H> atom2: #<ATOM :H1/:H> i1: 396 i2: 393\n",
      " atom1: #<ATOM :H1/:H> atom2: #<ATOM :O/:O> i1: 402 i2: 399\n",
      " atom1: #<ATOM :H2/:H> atom2: #<ATOM :O/:O> i1: 405 i2: 399\n",
      " atom1: #<ATOM :H2/:H> atom2: #<ATOM :H1/:H> i1: 405 i2: 402\n",
      " atom1: #<ATOM :O/:O> atom2: #<ATOM :H2/:H> i1: 408 i2: 414\n",
      " atom1: #<ATOM :H1/:H> atom2: #<ATOM :O/:O> i1: 411 i2: 408\n",
      " atom1: #<ATOM :H1/:H> atom2: #<ATOM :H2/:H> i1: 411 i2: 414\n",
      " atom1: #<ATOM :H1/:H> atom2: #<ATOM :O/:O> i1: 420 i2: 417\n",
      " atom1: #<ATOM :H2/:H> atom2: #<ATOM :O/:O> i1: 423 i2: 417\n",
      " atom1: #<ATOM :H2/:H> atom2: #<ATOM :H1/:H> i1: 423 i2: 420\n",
      " atom1: #<ATOM :H1/:H> atom2: #<ATOM :O/:O> i1: 429 i2: 426\n",
      " atom1: #<ATOM :H2/:H> atom2: #<ATOM :O/:O> i1: 432 i2: 426\n",
      " atom1: #<ATOM :H2/:H> atom2: #<ATOM :H1/:H> i1: 432 i2: 429\n",
      " atom1: #<ATOM :H1/:H> atom2: #<ATOM :O/:O> i1: 438 i2: 435\n",
      " atom1: #<ATOM :H2/:H> atom2: #<ATOM :O/:O> i1: 441 i2: 435\n",
      " atom1: #<ATOM :H2/:H> atom2: #<ATOM :H1/:H> i1: 441 i2: 438\n",
      " atom1: #<ATOM :H1/:H> atom2: #<ATOM :O/:O> i1: 447 i2: 444\n",
      " atom1: #<ATOM :H2/:H> atom2: #<ATOM :O/:O> i1: 450 i2: 444\n",
      " atom1: #<ATOM :H2/:H> atom2: #<ATOM :H1/:H> i1: 450 i2: 447\n",
      " atom1: #<ATOM :H1/:H> atom2: #<ATOM :O/:O> i1: 456 i2: 453\n",
      " atom1: #<ATOM :H2/:H> atom2: #<ATOM :O/:O> i1: 459 i2: 453\n",
      " atom1: #<ATOM :H2/:H> atom2: #<ATOM :H1/:H> i1: 459 i2: 456\n",
      " atom1: #<ATOM :H1/:H> atom2: #<ATOM :O/:O> i1: 465 i2: 462\n",
      " atom1: #<ATOM :H2/:H> atom2: #<ATOM :O/:O> i1: 468 i2: 462\n",
      " atom1: #<ATOM :H2/:H> atom2: #<ATOM :H1/:H> i1: 468 i2: 465\n",
      " atom1: #<ATOM :H1/:H> atom2: #<ATOM :O/:O> i1: 474 i2: 471\n",
      " atom1: #<ATOM :H2/:H> atom2: #<ATOM :O/:O> i1: 477 i2: 471\n",
      " atom1: #<ATOM :H2/:H> atom2: #<ATOM :H1/:H> i1: 477 i2: 474\n",
      " atom1: #<ATOM :H1/:H> atom2: #<ATOM :O/:O> i1: 483 i2: 480\n",
      " atom1: #<ATOM :H2/:H> atom2: #<ATOM :O/:O> i1: 486 i2: 480\n",
      " atom1: #<ATOM :H2/:H> atom2: #<ATOM :H1/:H> i1: 486 i2: 483\n",
      " atom1: #<ATOM :H1/:H> atom2: #<ATOM :O/:O> i1: 492 i2: 489\n",
      " atom1: #<ATOM :H2/:H> atom2: #<ATOM :O/:O> i1: 495 i2: 489\n",
      " atom1: #<ATOM :H2/:H> atom2: #<ATOM :H1/:H> i1: 495 i2: 492\n",
      " atom1: #<ATOM :H1/:H> atom2: #<ATOM :O/:O> i1: 501 i2: 498\n",
      " atom1: #<ATOM :H2/:H> atom2: #<ATOM :O/:O> i1: 504 i2: 498\n",
      " atom1: #<ATOM :H2/:H> atom2: #<ATOM :H1/:H> i1: 504 i2: 501\n",
      " atom1: #<ATOM :O/:O> atom2: #<ATOM :H1/:H> i1: 507 i2: 510\n",
      " atom1: #<ATOM :O/:O> atom2: #<ATOM :H2/:H> i1: 507 i2: 513\n",
      " atom1: #<ATOM :H2/:H> atom2: #<ATOM :H1/:H> i1: 513 i2: 510\n",
      " atom1: #<ATOM :H1/:H> atom2: #<ATOM :O/:O> i1: 519 i2: 516\n",
      " atom1: #<ATOM :H2/:H> atom2: #<ATOM :O/:O> i1: 522 i2: 516\n",
      " atom1: #<ATOM :H2/:H> atom2: #<ATOM :H1/:H> i1: 522 i2: 519\n",
      " atom1: #<ATOM :H1/:H> atom2: #<ATOM :O/:O> i1: 528 i2: 525\n",
      " atom1: #<ATOM :H2/:H> atom2: #<ATOM :O/:O> i1: 531 i2: 525\n",
      " atom1: #<ATOM :H2/:H> atom2: #<ATOM :H1/:H> i1: 531 i2: 528\n",
      " atom1: #<ATOM :H1/:H> atom2: #<ATOM :O/:O> i1: 537 i2: 534\n",
      " atom1: #<ATOM :H2/:H> atom2: #<ATOM :O/:O> i1: 540 i2: 534\n",
      " atom1: #<ATOM :H2/:H> atom2: #<ATOM :H1/:H> i1: 540 i2: 537\n",
      " atom1: #<ATOM :H1/:H> atom2: #<ATOM :O/:O> i1: 546 i2: 543\n",
      " atom1: #<ATOM :H2/:H> atom2: #<ATOM :O/:O> i1: 549 i2: 543\n",
      " atom1: #<ATOM :H2/:H> atom2: #<ATOM :H1/:H> i1: 549 i2: 546\n",
      " atom1: #<ATOM :H1/:H> atom2: #<ATOM :O/:O> i1: 555 i2: 552\n",
      " atom1: #<ATOM :H2/:H> atom2: #<ATOM :O/:O> i1: 558 i2: 552\n",
      " atom1: #<ATOM :H2/:H> atom2: #<ATOM :H1/:H> i1: 558 i2: 555\n",
      " atom1: #<ATOM :H1/:H> atom2: #<ATOM :O/:O> i1: 564 i2: 561\n",
      " atom1: #<ATOM :H2/:H> atom2: #<ATOM :O/:O> i1: 567 i2: 561\n",
      " atom1: #<ATOM :H2/:H> atom2: #<ATOM :H1/:H> i1: 567 i2: 564\n",
      " atom1: #<ATOM :H1/:H> atom2: #<ATOM :O/:O> i1: 573 i2: 570\n",
      " atom1: #<ATOM :H2/:H> atom2: #<ATOM :O/:O> i1: 576 i2: 570\n",
      " atom1: #<ATOM :H2/:H> atom2: #<ATOM :H1/:H> i1: 576 i2: 573\n",
      " atom1: #<ATOM :O/:O> atom2: #<ATOM :H2/:H> i1: 579 i2: 585\n",
      " atom1: #<ATOM :H1/:H> atom2: #<ATOM :O/:O> i1: 582 i2: 579\n",
      " atom1: #<ATOM :H1/:H> atom2: #<ATOM :H2/:H> i1: 582 i2: 585\n",
      " atom1: #<ATOM :H1/:H> atom2: #<ATOM :O/:O> i1: 591 i2: 588\n",
      " atom1: #<ATOM :H2/:H> atom2: #<ATOM :O/:O> i1: 594 i2: 588\n",
      " atom1: #<ATOM :H2/:H> atom2: #<ATOM :H1/:H> i1: 594 i2: 591\n",
      " atom1: #<ATOM :H1/:H> atom2: #<ATOM :O/:O> i1: 600 i2: 597\n",
      " atom1: #<ATOM :H2/:H> atom2: #<ATOM :O/:O> i1: 603 i2: 597\n",
      " atom1: #<ATOM :H2/:H> atom2: #<ATOM :H1/:H> i1: 603 i2: 600\n",
      " atom1: #<ATOM :H1/:H> atom2: #<ATOM :O/:O> i1: 609 i2: 606\n",
      " atom1: #<ATOM :H2/:H> atom2: #<ATOM :O/:O> i1: 612 i2: 606\n",
      " atom1: #<ATOM :H2/:H> atom2: #<ATOM :H1/:H> i1: 612 i2: 609\n",
      " atom1: #<ATOM :H1/:H> atom2: #<ATOM :O/:O> i1: 618 i2: 615\n",
      " atom1: #<ATOM :H2/:H> atom2: #<ATOM :O/:O> i1: 621 i2: 615\n",
      " atom1: #<ATOM :H2/:H> atom2: #<ATOM :H1/:H> i1: 621 i2: 618\n",
      " atom1: #<ATOM :H1/:H> atom2: #<ATOM :O/:O> i1: 627 i2: 624\n",
      " atom1: #<ATOM :H2/:H> atom2: #<ATOM :O/:O> i1: 630 i2: 624\n",
      " atom1: #<ATOM :H2/:H> atom2: #<ATOM :H1/:H> i1: 630 i2: 627\n",
      " atom1: #<ATOM :H1/:H> atom2: #<ATOM :O/:O> i1: 636 i2: 633\n",
      " atom1: #<ATOM :H2/:H> atom2: #<ATOM :O/:O> i1: 639 i2: 633\n",
      " atom1: #<ATOM :H2/:H> atom2: #<ATOM :H1/:H> i1: 639 i2: 636\n",
      " atom1: #<ATOM :H1/:H> atom2: #<ATOM :O/:O> i1: 645 i2: 642\n",
      " atom1: #<ATOM :H2/:H> atom2: #<ATOM :O/:O> i1: 648 i2: 642\n",
      " atom1: #<ATOM :H2/:H> atom2: #<ATOM :H1/:H> i1: 648 i2: 645\n",
      " atom1: #<ATOM :H1/:H> atom2: #<ATOM :O/:O> i1: 654 i2: 651\n",
      " atom1: #<ATOM :H2/:H> atom2: #<ATOM :O/:O> i1: 657 i2: 651\n",
      " atom1: #<ATOM :H2/:H> atom2: #<ATOM :H1/:H> i1: 657 i2: 654\n",
      " atom1: #<ATOM :H1/:H> atom2: #<ATOM :O/:O> i1: 663 i2: 660\n",
      " atom1: #<ATOM :H2/:H> atom2: #<ATOM :O/:O> i1: 666 i2: 660\n",
      " atom1: #<ATOM :H2/:H> atom2: #<ATOM :H1/:H> i1: 666 i2: 663\n",
      " atom1: #<ATOM :H1/:H> atom2: #<ATOM :O/:O> i1: 672 i2: 669\n",
      " atom1: #<ATOM :H2/:H> atom2: #<ATOM :O/:O> i1: 675 i2: 669\n",
      " atom1: #<ATOM :H2/:H> atom2: #<ATOM :H1/:H> i1: 675 i2: 672\n",
      " atom1: #<ATOM :H1/:H> atom2: #<ATOM :O/:O> i1: 681 i2: 678\n",
      " atom1: #<ATOM :H2/:H> atom2: #<ATOM :O/:O> i1: 684 i2: 678\n",
      " atom1: #<ATOM :H2/:H> atom2: #<ATOM :H1/:H> i1: 684 i2: 681\n",
      " atom1: #<ATOM :H1/:H> atom2: #<ATOM :O/:O> i1: 690 i2: 687\n",
      " atom1: #<ATOM :H2/:H> atom2: #<ATOM :O/:O> i1: 693 i2: 687\n",
      " atom1: #<ATOM :H2/:H> atom2: #<ATOM :H1/:H> i1: 693 i2: 690\n",
      " atom1: #<ATOM :H1/:H> atom2: #<ATOM :O/:O> i1: 699 i2: 696\n",
      " atom1: #<ATOM :H2/:H> atom2: #<ATOM :O/:O> i1: 702 i2: 696\n",
      " atom1: #<ATOM :H2/:H> atom2: #<ATOM :H1/:H> i1: 702 i2: 699\n",
      " atom1: #<ATOM :O/:O> atom2: #<ATOM :H2/:H> i1: 705 i2: 711\n",
      " atom1: #<ATOM :H1/:H> atom2: #<ATOM :O/:O> i1: 708 i2: 705\n",
      " atom1: #<ATOM :H1/:H> atom2: #<ATOM :H2/:H> i1: 708 i2: 711\n",
      " atom1: #<ATOM :H1/:H> atom2: #<ATOM :O/:O> i1: 717 i2: 714\n",
      " atom1: #<ATOM :H2/:H> atom2: #<ATOM :O/:O> i1: 720 i2: 714\n",
      " atom1: #<ATOM :H2/:H> atom2: #<ATOM :H1/:H> i1: 720 i2: 717\n",
      " atom1: #<ATOM :H1/:H> atom2: #<ATOM :O/:O> i1: 726 i2: 723\n",
      " atom1: #<ATOM :H2/:H> atom2: #<ATOM :O/:O> i1: 729 i2: 723\n",
      " atom1: #<ATOM :H2/:H> atom2: #<ATOM :H1/:H> i1: 729 i2: 726\n",
      " atom1: #<ATOM :H1/:H> atom2: #<ATOM :O/:O> i1: 735 i2: 732\n",
      " atom1: #<ATOM :H2/:H> atom2: #<ATOM :O/:O> i1: 738 i2: 732\n",
      " atom1: #<ATOM :H2/:H> atom2: #<ATOM :H1/:H> i1: 738 i2: 735\n",
      " atom1: #<ATOM :H1/:H> atom2: #<ATOM :O/:O> i1: 744 i2: 741\n",
      " atom1: #<ATOM :H2/:H> atom2: #<ATOM :O/:O> i1: 747 i2: 741\n",
      " atom1: #<ATOM :H2/:H> atom2: #<ATOM :H1/:H> i1: 747 i2: 744\n",
      " atom1: #<ATOM :O/:O> atom2: #<ATOM :H1/:H> i1: 750 i2: 753\n",
      " atom1: #<ATOM :O/:O> atom2: #<ATOM :H2/:H> i1: 750 i2: 756\n",
      " atom1: #<ATOM :H2/:H> atom2: #<ATOM :H1/:H> i1: 756 i2: 753\n",
      " atom1: #<ATOM :H1/:H> atom2: #<ATOM :O/:O> i1: 762 i2: 759\n",
      " atom1: #<ATOM :H2/:H> atom2: #<ATOM :O/:O> i1: 765 i2: 759\n",
      " atom1: #<ATOM :H2/:H> atom2: #<ATOM :H1/:H> i1: 765 i2: 762\n",
      " atom1: #<ATOM :H1/:H> atom2: #<ATOM :O/:O> i1: 771 i2: 768\n",
      " atom1: #<ATOM :H2/:H> atom2: #<ATOM :O/:O> i1: 774 i2: 768\n",
      " atom1: #<ATOM :H2/:H> atom2: #<ATOM :H1/:H> i1: 774 i2: 771\n",
      " atom1: #<ATOM :O/:O> atom2: #<ATOM :H1/:H> i1: 777 i2: 780\n",
      " atom1: #<ATOM :O/:O> atom2: #<ATOM :H2/:H> i1: 777 i2: 783\n",
      " atom1: #<ATOM :H2/:H> atom2: #<ATOM :H1/:H> i1: 783 i2: 780\n",
      " atom1: #<ATOM :H1/:H> atom2: #<ATOM :O/:O> i1: 789 i2: 786\n",
      " atom1: #<ATOM :H2/:H> atom2: #<ATOM :O/:O> i1: 792 i2: 786\n",
      " atom1: #<ATOM :H2/:H> atom2: #<ATOM :H1/:H> i1: 792 i2: 789\n",
      " atom1: #<ATOM :H1/:H> atom2: #<ATOM :O/:O> i1: 798 i2: 795\n",
      " atom1: #<ATOM :H2/:H> atom2: #<ATOM :O/:O> i1: 801 i2: 795\n",
      " atom1: #<ATOM :H2/:H> atom2: #<ATOM :H1/:H> i1: 801 i2: 798\n",
      " atom1: #<ATOM :H1/:H> atom2: #<ATOM :O/:O> i1: 807 i2: 804\n",
      " atom1: #<ATOM :H2/:H> atom2: #<ATOM :O/:O> i1: 810 i2: 804\n",
      " atom1: #<ATOM :H2/:H> atom2: #<ATOM :H1/:H> i1: 810 i2: 807\n",
      " atom1: #<ATOM :H1/:H> atom2: #<ATOM :O/:O> i1: 816 i2: 813\n",
      " atom1: #<ATOM :H2/:H> atom2: #<ATOM :O/:O> i1: 819 i2: 813\n",
      " atom1: #<ATOM :H2/:H> atom2: #<ATOM :H1/:H> i1: 819 i2: 816\n",
      " atom1: #<ATOM :H1/:H> atom2: #<ATOM :O/:O> i1: 825 i2: 822\n",
      " atom1: #<ATOM :H2/:H> atom2: #<ATOM :O/:O> i1: 828 i2: 822\n",
      " atom1: #<ATOM :H2/:H> atom2: #<ATOM :H1/:H> i1: 828 i2: 825\n",
      " atom1: #<ATOM :H1/:H> atom2: #<ATOM :O/:O> i1: 834 i2: 831\n",
      " atom1: #<ATOM :H2/:H> atom2: #<ATOM :O/:O> i1: 837 i2: 831\n",
      " atom1: #<ATOM :H2/:H> atom2: #<ATOM :H1/:H> i1: 837 i2: 834\n",
      " atom1: #<ATOM :C/:C> atom2: #<ATOM :C_0/:C> atom3: #<ATOM :NH/:N>  key: C-CT-N\n",
      " atom1: #<ATOM :C/:C> atom2: #<ATOM :C_0/:C> atom3: #<ATOM :H/:H>  key: C-CT-H1\n",
      " atom1: #<ATOM :C/:C> atom2: #<ATOM :C_0/:C> atom3: #<ATOM :CH3/:C>  key: C-CT-CT\n",
      " atom1: #<ATOM :C/:C> atom2: #<ATOM :NH/:N> atom3: #<ATOM :CH3/:C>  key: C-N-CT\n",
      " atom1: #<ATOM :C/:C> atom2: #<ATOM :NH/:N> atom3: #<ATOM :HH/:H>  key: C-N-H\n",
      " atom1: #<ATOM :C_0/:C> atom2: #<ATOM :C/:C> atom3: #<ATOM :O/:O>  key: CT-C-O\n",
      " atom1: #<ATOM :C_0/:C> atom2: #<ATOM :C/:C> atom3: #<ATOM :NH/:N>  key: CT-C-N\n",
      " atom1: #<ATOM :C_0/:C> atom2: #<ATOM :NH/:N> atom3: #<ATOM :C/:C>  key: C-N-CT\n",
      " atom1: #<ATOM :C_0/:C> atom2: #<ATOM :NH/:N> atom3: #<ATOM :HH/:H>  key: CT-N-H\n",
      " atom1: #<ATOM :C_0/:C> atom2: #<ATOM :CH3/:C> atom3: #<ATOM :HH31/:H>  key: CT-CT-HC\n",
      " atom1: #<ATOM :C_0/:C> atom2: #<ATOM :CH3/:C> atom3: #<ATOM :HH32/:H>  key: CT-CT-HC\n",
      " atom1: #<ATOM :C_0/:C> atom2: #<ATOM :CH3/:C> atom3: #<ATOM :HH33/:H>  key: CT-CT-HC\n",
      " atom1: #<ATOM :O/:O> atom2: #<ATOM :C/:C> atom3: #<ATOM :NH/:N>  key: N-C-O\n",
      " atom1: #<ATOM :NH/:N> atom2: #<ATOM :C/:C> atom3: #<ATOM :CH3/:C>  key: CT-C-N\n",
      " atom1: #<ATOM :NH/:N> atom2: #<ATOM :C/:C> atom3: #<ATOM :O/:O>  key: N-C-O\n",
      " atom1: #<ATOM :NH/:N> atom2: #<ATOM :C_0/:C> atom3: #<ATOM :H/:H>  key: H1-CT-N\n",
      " atom1: #<ATOM :NH/:N> atom2: #<ATOM :C_0/:C> atom3: #<ATOM :CH3/:C>  key: CT-CT-N\n",
      " atom1: #<ATOM :H/:H> atom2: #<ATOM :C_0/:C> atom3: #<ATOM :CH3/:C>  key: CT-CT-H1\n",
      " atom1: #<ATOM :HH31/:H> atom2: #<ATOM :CH3/:C> atom3: #<ATOM :HH32/:H>  key: HC-CT-HC\n",
      " atom1: #<ATOM :HH31/:H> atom2: #<ATOM :CH3/:C> atom3: #<ATOM :HH33/:H>  key: HC-CT-HC\n",
      " atom1: #<ATOM :HH32/:H> atom2: #<ATOM :CH3/:C> atom3: #<ATOM :HH33/:H>  key: HC-CT-HC\n",
      " atom1: #<ATOM :HH/:H> atom2: #<ATOM :NH/:N> atom3: #<ATOM :C/:C>  key: C-N-H\n",
      " atom1: #<ATOM :C/:C> atom2: #<ATOM :CH3/:C> atom3: #<ATOM :HH31/:H>  key: C-CT-HC\n",
      " atom1: #<ATOM :C/:C> atom2: #<ATOM :CH3/:C> atom3: #<ATOM :HH32/:H>  key: C-CT-HC\n",
      " atom1: #<ATOM :C/:C> atom2: #<ATOM :CH3/:C> atom3: #<ATOM :HH33/:H>  key: C-CT-HC\n",
      " atom1: #<ATOM :CH3/:C> atom2: #<ATOM :C/:C> atom3: #<ATOM :O/:O>  key: CT-C-O\n",
      " atom1: #<ATOM :HH31/:H> atom2: #<ATOM :CH3/:C> atom3: #<ATOM :HH32/:H>  key: HC-CT-HC\n",
      " atom1: #<ATOM :HH31/:H> atom2: #<ATOM :CH3/:C> atom3: #<ATOM :HH33/:H>  key: HC-CT-HC\n",
      " atom1: #<ATOM :HH32/:H> atom2: #<ATOM :CH3/:C> atom3: #<ATOM :HH33/:H>  key: HC-CT-HC\n",
      " atom1: #<ATOM :CH3/:C> atom2: #<ATOM :NH/:N> atom3: #<ATOM :HH/:H>  key: CT-N-H\n",
      " atom1: #<ATOM :NH/:N> atom2: #<ATOM :CH3/:C> atom3: #<ATOM :HH31/:H>  key: H1-CT-N\n",
      " atom1: #<ATOM :NH/:N> atom2: #<ATOM :CH3/:C> atom3: #<ATOM :HH32/:H>  key: H1-CT-N\n",
      " atom1: #<ATOM :NH/:N> atom2: #<ATOM :CH3/:C> atom3: #<ATOM :HH33/:H>  key: H1-CT-N\n",
      " atom1: #<ATOM :HH31/:H> atom2: #<ATOM :CH3/:C> atom3: #<ATOM :HH32/:H>  key: H1-CT-H1\n",
      " atom1: #<ATOM :HH31/:H> atom2: #<ATOM :CH3/:C> atom3: #<ATOM :HH33/:H>  key: H1-CT-H1\n",
      " atom1: #<ATOM :HH32/:H> atom2: #<ATOM :CH3/:C> atom3: #<ATOM :HH33/:H>  key: H1-CT-H1\n",
      " atom1: #<ATOM :O/:O> atom2: #<ATOM :H1/:H> atom3: #<ATOM :H2/:H>  key: HW-HW-OW\n",
      " atom1: #<ATOM :O/:O> atom2: #<ATOM :H2/:H> atom3: #<ATOM :H1/:H>  key: HW-HW-OW\n",
      " atom1: #<ATOM :H1/:H> atom2: #<ATOM :O/:O> atom3: #<ATOM :H2/:H>  key: HW-OW-HW\n",
      " atom1: #<ATOM :O/:O> atom2: #<ATOM :H1/:H> atom3: #<ATOM :H2/:H>  key: HW-HW-OW\n",
      " atom1: #<ATOM :O/:O> atom2: #<ATOM :H2/:H> atom3: #<ATOM :H1/:H>  key: HW-HW-OW\n",
      " atom1: #<ATOM :H1/:H> atom2: #<ATOM :O/:O> atom3: #<ATOM :H2/:H>  key: HW-OW-HW\n",
      " atom1: #<ATOM :O/:O> atom2: #<ATOM :H1/:H> atom3: #<ATOM :H2/:H>  key: HW-HW-OW\n",
      " atom1: #<ATOM :O/:O> atom2: #<ATOM :H2/:H> atom3: #<ATOM :H1/:H>  key: HW-HW-OW\n",
      " atom1: #<ATOM :H1/:H> atom2: #<ATOM :O/:O> atom3: #<ATOM :H2/:H>  key: HW-OW-HW\n",
      " atom1: #<ATOM :O/:O> atom2: #<ATOM :H1/:H> atom3: #<ATOM :H2/:H>  key: HW-HW-OW\n",
      " atom1: #<ATOM :O/:O> atom2: #<ATOM :H2/:H> atom3: #<ATOM :H1/:H>  key: HW-HW-OW\n",
      " atom1: #<ATOM :H1/:H> atom2: #<ATOM :O/:O> atom3: #<ATOM :H2/:H>  key: HW-OW-HW\n",
      " atom1: #<ATOM :O/:O> atom2: #<ATOM :H1/:H> atom3: #<ATOM :H2/:H>  key: HW-HW-OW\n",
      " atom1: #<ATOM :O/:O> atom2: #<ATOM :H2/:H> atom3: #<ATOM :H1/:H>  key: HW-HW-OW\n",
      " atom1: #<ATOM :H1/:H> atom2: #<ATOM :O/:O> atom3: #<ATOM :H2/:H>  key: HW-OW-HW\n",
      " atom1: #<ATOM :O/:O> atom2: #<ATOM :H1/:H> atom3: #<ATOM :H2/:H>  key: HW-HW-OW\n",
      " atom1: #<ATOM :O/:O> atom2: #<ATOM :H2/:H> atom3: #<ATOM :H1/:H>  key: HW-HW-OW\n",
      " atom1: #<ATOM :H1/:H> atom2: #<ATOM :O/:O> atom3: #<ATOM :H2/:H>  key: HW-OW-HW\n",
      " atom1: #<ATOM :O/:O> atom2: #<ATOM :H1/:H> atom3: #<ATOM :H2/:H>  key: HW-HW-OW\n",
      " atom1: #<ATOM :O/:O> atom2: #<ATOM :H2/:H> atom3: #<ATOM :H1/:H>  key: HW-HW-OW\n",
      " atom1: #<ATOM :H1/:H> atom2: #<ATOM :O/:O> atom3: #<ATOM :H2/:H>  key: HW-OW-HW\n",
      " atom1: #<ATOM :O/:O> atom2: #<ATOM :H1/:H> atom3: #<ATOM :H2/:H>  key: HW-HW-OW\n",
      " atom1: #<ATOM :O/:O> atom2: #<ATOM :H2/:H> atom3: #<ATOM :H1/:H>  key: HW-HW-OW\n",
      " atom1: #<ATOM :H1/:H> atom2: #<ATOM :O/:O> atom3: #<ATOM :H2/:H>  key: HW-OW-HW\n",
      " atom1: #<ATOM :O/:O> atom2: #<ATOM :H1/:H> atom3: #<ATOM :H2/:H>  key: HW-HW-OW\n",
      " atom1: #<ATOM :O/:O> atom2: #<ATOM :H2/:H> atom3: #<ATOM :H1/:H>  key: HW-HW-OW\n",
      " atom1: #<ATOM :H1/:H> atom2: #<ATOM :O/:O> atom3: #<ATOM :H2/:H>  key: HW-OW-HW\n",
      " atom1: #<ATOM :O/:O> atom2: #<ATOM :H1/:H> atom3: #<ATOM :H2/:H>  key: HW-HW-OW\n",
      " atom1: #<ATOM :O/:O> atom2: #<ATOM :H2/:H> atom3: #<ATOM :H1/:H>  key: HW-HW-OW\n",
      " atom1: #<ATOM :H1/:H> atom2: #<ATOM :O/:O> atom3: #<ATOM :H2/:H>  key: HW-OW-HW\n",
      " atom1: #<ATOM :O/:O> atom2: #<ATOM :H1/:H> atom3: #<ATOM :H2/:H>  key: HW-HW-OW\n",
      " atom1: #<ATOM :O/:O> atom2: #<ATOM :H2/:H> atom3: #<ATOM :H1/:H>  key: HW-HW-OW\n",
      " atom1: #<ATOM :H1/:H> atom2: #<ATOM :O/:O> atom3: #<ATOM :H2/:H>  key: HW-OW-HW\n",
      " atom1: #<ATOM :O/:O> atom2: #<ATOM :H1/:H> atom3: #<ATOM :H2/:H>  key: HW-HW-OW\n",
      " atom1: #<ATOM :O/:O> atom2: #<ATOM :H2/:H> atom3: #<ATOM :H1/:H>  key: HW-HW-OW\n",
      " atom1: #<ATOM :H1/:H> atom2: #<ATOM :O/:O> atom3: #<ATOM :H2/:H>  key: HW-OW-HW\n",
      " atom1: #<ATOM :O/:O> atom2: #<ATOM :H1/:H> atom3: #<ATOM :H2/:H>  key: HW-HW-OW\n",
      " atom1: #<ATOM :O/:O> atom2: #<ATOM :H2/:H> atom3: #<ATOM :H1/:H>  key: HW-HW-OW\n",
      " atom1: #<ATOM :H1/:H> atom2: #<ATOM :O/:O> atom3: #<ATOM :H2/:H>  key: HW-OW-HW\n",
      " atom1: #<ATOM :O/:O> atom2: #<ATOM :H1/:H> atom3: #<ATOM :H2/:H>  key: HW-HW-OW\n",
      " atom1: #<ATOM :O/:O> atom2: #<ATOM :H2/:H> atom3: #<ATOM :H1/:H>  key: HW-HW-OW\n",
      " atom1: #<ATOM :H1/:H> atom2: #<ATOM :O/:O> atom3: #<ATOM :H2/:H>  key: HW-OW-HW\n",
      " atom1: #<ATOM :O/:O> atom2: #<ATOM :H1/:H> atom3: #<ATOM :H2/:H>  key: HW-HW-OW\n",
      " atom1: #<ATOM :O/:O> atom2: #<ATOM :H2/:H> atom3: #<ATOM :H1/:H>  key: HW-HW-OW\n",
      " atom1: #<ATOM :H1/:H> atom2: #<ATOM :O/:O> atom3: #<ATOM :H2/:H>  key: HW-OW-HW\n",
      " atom1: #<ATOM :O/:O> atom2: #<ATOM :H1/:H> atom3: #<ATOM :H2/:H>  key: HW-HW-OW\n",
      " atom1: #<ATOM :O/:O> atom2: #<ATOM :H2/:H> atom3: #<ATOM :H1/:H>  key: HW-HW-OW\n",
      " atom1: #<ATOM :H1/:H> atom2: #<ATOM :O/:O> atom3: #<ATOM :H2/:H>  key: HW-OW-HW\n",
      " atom1: #<ATOM :O/:O> atom2: #<ATOM :H1/:H> atom3: #<ATOM :H2/:H>  key: HW-HW-OW\n",
      " atom1: #<ATOM :O/:O> atom2: #<ATOM :H2/:H> atom3: #<ATOM :H1/:H>  key: HW-HW-OW\n",
      " atom1: #<ATOM :H1/:H> atom2: #<ATOM :O/:O> atom3: #<ATOM :H2/:H>  key: HW-OW-HW\n",
      " atom1: #<ATOM :O/:O> atom2: #<ATOM :H1/:H> atom3: #<ATOM :H2/:H>  key: HW-HW-OW\n",
      " atom1: #<ATOM :O/:O> atom2: #<ATOM :H2/:H> atom3: #<ATOM :H1/:H>  key: HW-HW-OW\n",
      " atom1: #<ATOM :H1/:H> atom2: #<ATOM :O/:O> atom3: #<ATOM :H2/:H>  key: HW-OW-HW\n",
      " atom1: #<ATOM :O/:O> atom2: #<ATOM :H1/:H> atom3: #<ATOM :H2/:H>  key: HW-HW-OW\n",
      " atom1: #<ATOM :O/:O> atom2: #<ATOM :H2/:H> atom3: #<ATOM :H1/:H>  key: HW-HW-OW\n",
      " atom1: #<ATOM :H1/:H> atom2: #<ATOM :O/:O> atom3: #<ATOM :H2/:H>  key: HW-OW-HW\n",
      " atom1: #<ATOM :O/:O> atom2: #<ATOM :H1/:H> atom3: #<ATOM :H2/:H>  key: HW-HW-OW\n",
      " atom1: #<ATOM :O/:O> atom2: #<ATOM :H2/:H> atom3: #<ATOM :H1/:H>  key: HW-HW-OW\n",
      " atom1: #<ATOM :H1/:H> atom2: #<ATOM :O/:O> atom3: #<ATOM :H2/:H>  key: HW-OW-HW\n",
      " atom1: #<ATOM :O/:O> atom2: #<ATOM :H1/:H> atom3: #<ATOM :H2/:H>  key: HW-HW-OW\n",
      " atom1: #<ATOM :O/:O> atom2: #<ATOM :H2/:H> atom3: #<ATOM :H1/:H>  key: HW-HW-OW\n",
      " atom1: #<ATOM :H1/:H> atom2: #<ATOM :O/:O> atom3: #<ATOM :H2/:H>  key: HW-OW-HW\n",
      " atom1: #<ATOM :O/:O> atom2: #<ATOM :H1/:H> atom3: #<ATOM :H2/:H>  key: HW-HW-OW\n",
      " atom1: #<ATOM :O/:O> atom2: #<ATOM :H2/:H> atom3: #<ATOM :H1/:H>  key: HW-HW-OW\n",
      " atom1: #<ATOM :H1/:H> atom2: #<ATOM :O/:O> atom3: #<ATOM :H2/:H>  key: HW-OW-HW\n",
      " atom1: #<ATOM :O/:O> atom2: #<ATOM :H1/:H> atom3: #<ATOM :H2/:H>  key: HW-HW-OW\n",
      " atom1: #<ATOM :O/:O> atom2: #<ATOM :H2/:H> atom3: #<ATOM :H1/:H>  key: HW-HW-OW\n",
      " atom1: #<ATOM :H1/:H> atom2: #<ATOM :O/:O> atom3: #<ATOM :H2/:H>  key: HW-OW-HW\n",
      " atom1: #<ATOM :O/:O> atom2: #<ATOM :H1/:H> atom3: #<ATOM :H2/:H>  key: HW-HW-OW\n",
      " atom1: #<ATOM :O/:O> atom2: #<ATOM :H2/:H> atom3: #<ATOM :H1/:H>  key: HW-HW-OW\n",
      " atom1: #<ATOM :H1/:H> atom2: #<ATOM :O/:O> atom3: #<ATOM :H2/:H>  key: HW-OW-HW\n",
      " atom1: #<ATOM :O/:O> atom2: #<ATOM :H1/:H> atom3: #<ATOM :H2/:H>  key: HW-HW-OW\n",
      " atom1: #<ATOM :O/:O> atom2: #<ATOM :H2/:H> atom3: #<ATOM :H1/:H>  key: HW-HW-OW\n",
      " atom1: #<ATOM :H1/:H> atom2: #<ATOM :O/:O> atom3: #<ATOM :H2/:H>  key: HW-OW-HW\n",
      " atom1: #<ATOM :O/:O> atom2: #<ATOM :H1/:H> atom3: #<ATOM :H2/:H>  key: HW-HW-OW\n",
      " atom1: #<ATOM :O/:O> atom2: #<ATOM :H2/:H> atom3: #<ATOM :H1/:H>  key: HW-HW-OW\n",
      " atom1: #<ATOM :H1/:H> atom2: #<ATOM :O/:O> atom3: #<ATOM :H2/:H>  key: HW-OW-HW\n",
      " atom1: #<ATOM :O/:O> atom2: #<ATOM :H1/:H> atom3: #<ATOM :H2/:H>  key: HW-HW-OW\n",
      " atom1: #<ATOM :O/:O> atom2: #<ATOM :H2/:H> atom3: #<ATOM :H1/:H>  key: HW-HW-OW\n",
      " atom1: #<ATOM :H1/:H> atom2: #<ATOM :O/:O> atom3: #<ATOM :H2/:H>  key: HW-OW-HW\n",
      " atom1: #<ATOM :O/:O> atom2: #<ATOM :H1/:H> atom3: #<ATOM :H2/:H>  key: HW-HW-OW\n",
      " atom1: #<ATOM :O/:O> atom2: #<ATOM :H2/:H> atom3: #<ATOM :H1/:H>  key: HW-HW-OW\n",
      " atom1: #<ATOM :H1/:H> atom2: #<ATOM :O/:O> atom3: #<ATOM :H2/:H>  key: HW-OW-HW\n",
      " atom1: #<ATOM :O/:O> atom2: #<ATOM :H2/:H> atom3: #<ATOM :H1/:H>  key: HW-HW-OW\n",
      " atom1: #<ATOM :O/:O> atom2: #<ATOM :H1/:H> atom3: #<ATOM :H2/:H>  key: HW-HW-OW\n",
      " atom1: #<ATOM :H1/:H> atom2: #<ATOM :O/:O> atom3: #<ATOM :H2/:H>  key: HW-OW-HW\n",
      " atom1: #<ATOM :O/:O> atom2: #<ATOM :H1/:H> atom3: #<ATOM :H2/:H>  key: HW-HW-OW\n",
      " atom1: #<ATOM :O/:O> atom2: #<ATOM :H2/:H> atom3: #<ATOM :H1/:H>  key: HW-HW-OW\n",
      " atom1: #<ATOM :H1/:H> atom2: #<ATOM :O/:O> atom3: #<ATOM :H2/:H>  key: HW-OW-HW\n",
      " atom1: #<ATOM :O/:O> atom2: #<ATOM :H1/:H> atom3: #<ATOM :H2/:H>  key: HW-HW-OW\n",
      " atom1: #<ATOM :O/:O> atom2: #<ATOM :H2/:H> atom3: #<ATOM :H1/:H>  key: HW-HW-OW\n",
      " atom1: #<ATOM :H1/:H> atom2: #<ATOM :O/:O> atom3: #<ATOM :H2/:H>  key: HW-OW-HW\n",
      " atom1: #<ATOM :O/:O> atom2: #<ATOM :H1/:H> atom3: #<ATOM :H2/:H>  key: HW-HW-OW\n",
      " atom1: #<ATOM :O/:O> atom2: #<ATOM :H2/:H> atom3: #<ATOM :H1/:H>  key: HW-HW-OW\n",
      " atom1: #<ATOM :H1/:H> atom2: #<ATOM :O/:O> atom3: #<ATOM :H2/:H>  key: HW-OW-HW\n",
      " atom1: #<ATOM :O/:O> atom2: #<ATOM :H1/:H> atom3: #<ATOM :H2/:H>  key: HW-HW-OW\n",
      " atom1: #<ATOM :O/:O> atom2: #<ATOM :H2/:H> atom3: #<ATOM :H1/:H>  key: HW-HW-OW\n",
      " atom1: #<ATOM :H1/:H> atom2: #<ATOM :O/:O> atom3: #<ATOM :H2/:H>  key: HW-OW-HW\n",
      " atom1: #<ATOM :O/:O> atom2: #<ATOM :H1/:H> atom3: #<ATOM :H2/:H>  key: HW-HW-OW\n",
      " atom1: #<ATOM :O/:O> atom2: #<ATOM :H2/:H> atom3: #<ATOM :H1/:H>  key: HW-HW-OW\n",
      " atom1: #<ATOM :H1/:H> atom2: #<ATOM :O/:O> atom3: #<ATOM :H2/:H>  key: HW-OW-HW\n",
      " atom1: #<ATOM :O/:O> atom2: #<ATOM :H1/:H> atom3: #<ATOM :H2/:H>  key: HW-HW-OW\n",
      " atom1: #<ATOM :O/:O> atom2: #<ATOM :H2/:H> atom3: #<ATOM :H1/:H>  key: HW-HW-OW\n",
      " atom1: #<ATOM :H1/:H> atom2: #<ATOM :O/:O> atom3: #<ATOM :H2/:H>  key: HW-OW-HW\n",
      " atom1: #<ATOM :O/:O> atom2: #<ATOM :H1/:H> atom3: #<ATOM :H2/:H>  key: HW-HW-OW\n",
      " atom1: #<ATOM :O/:O> atom2: #<ATOM :H2/:H> atom3: #<ATOM :H1/:H>  key: HW-HW-OW\n",
      " atom1: #<ATOM :H1/:H> atom2: #<ATOM :O/:O> atom3: #<ATOM :H2/:H>  key: HW-OW-HW\n",
      " atom1: #<ATOM :O/:O> atom2: #<ATOM :H1/:H> atom3: #<ATOM :H2/:H>  key: HW-HW-OW\n",
      " atom1: #<ATOM :O/:O> atom2: #<ATOM :H2/:H> atom3: #<ATOM :H1/:H>  key: HW-HW-OW\n",
      " atom1: #<ATOM :H1/:H> atom2: #<ATOM :O/:O> atom3: #<ATOM :H2/:H>  key: HW-OW-HW\n",
      " atom1: #<ATOM :O/:O> atom2: #<ATOM :H1/:H> atom3: #<ATOM :H2/:H>  key: HW-HW-OW\n",
      " atom1: #<ATOM :O/:O> atom2: #<ATOM :H2/:H> atom3: #<ATOM :H1/:H>  key: HW-HW-OW\n",
      " atom1: #<ATOM :H1/:H> atom2: #<ATOM :O/:O> atom3: #<ATOM :H2/:H>  key: HW-OW-HW\n",
      " atom1: #<ATOM :O/:O> atom2: #<ATOM :H2/:H> atom3: #<ATOM :H1/:H>  key: HW-HW-OW\n",
      " atom1: #<ATOM :O/:O> atom2: #<ATOM :H1/:H> atom3: #<ATOM :H2/:H>  key: HW-HW-OW\n",
      " atom1: #<ATOM :H1/:H> atom2: #<ATOM :O/:O> atom3: #<ATOM :H2/:H>  key: HW-OW-HW\n",
      " atom1: #<ATOM :O/:O> atom2: #<ATOM :H1/:H> atom3: #<ATOM :H2/:H>  key: HW-HW-OW\n",
      " atom1: #<ATOM :O/:O> atom2: #<ATOM :H2/:H> atom3: #<ATOM :H1/:H>  key: HW-HW-OW\n",
      " atom1: #<ATOM :H1/:H> atom2: #<ATOM :O/:O> atom3: #<ATOM :H2/:H>  key: HW-OW-HW\n",
      " atom1: #<ATOM :O/:O> atom2: #<ATOM :H1/:H> atom3: #<ATOM :H2/:H>  key: HW-HW-OW\n",
      " atom1: #<ATOM :O/:O> atom2: #<ATOM :H2/:H> atom3: #<ATOM :H1/:H>  key: HW-HW-OW\n",
      " atom1: #<ATOM :H1/:H> atom2: #<ATOM :O/:O> atom3: #<ATOM :H2/:H>  key: HW-OW-HW\n",
      " atom1: #<ATOM :O/:O> atom2: #<ATOM :H1/:H> atom3: #<ATOM :H2/:H>  key: HW-HW-OW\n",
      " atom1: #<ATOM :O/:O> atom2: #<ATOM :H2/:H> atom3: #<ATOM :H1/:H>  key: HW-HW-OW\n",
      " atom1: #<ATOM :H1/:H> atom2: #<ATOM :O/:O> atom3: #<ATOM :H2/:H>  key: HW-OW-HW\n",
      " atom1: #<ATOM :O/:O> atom2: #<ATOM :H1/:H> atom3: #<ATOM :H2/:H>  key: HW-HW-OW\n",
      " atom1: #<ATOM :O/:O> atom2: #<ATOM :H2/:H> atom3: #<ATOM :H1/:H>  key: HW-HW-OW\n",
      " atom1: #<ATOM :H1/:H> atom2: #<ATOM :O/:O> atom3: #<ATOM :H2/:H>  key: HW-OW-HW\n",
      " atom1: #<ATOM :O/:O> atom2: #<ATOM :H1/:H> atom3: #<ATOM :H2/:H>  key: HW-HW-OW\n",
      " atom1: #<ATOM :O/:O> atom2: #<ATOM :H2/:H> atom3: #<ATOM :H1/:H>  key: HW-HW-OW\n",
      " atom1: #<ATOM :H1/:H> atom2: #<ATOM :O/:O> atom3: #<ATOM :H2/:H>  key: HW-OW-HW\n",
      " atom1: #<ATOM :O/:O> atom2: #<ATOM :H1/:H> atom3: #<ATOM :H2/:H>  key: HW-HW-OW\n",
      " atom1: #<ATOM :O/:O> atom2: #<ATOM :H2/:H> atom3: #<ATOM :H1/:H>  key: HW-HW-OW\n",
      " atom1: #<ATOM :H1/:H> atom2: #<ATOM :O/:O> atom3: #<ATOM :H2/:H>  key: HW-OW-HW\n",
      " atom1: #<ATOM :O/:O> atom2: #<ATOM :H1/:H> atom3: #<ATOM :H2/:H>  key: HW-HW-OW\n",
      " atom1: #<ATOM :O/:O> atom2: #<ATOM :H2/:H> atom3: #<ATOM :H1/:H>  key: HW-HW-OW\n",
      " atom1: #<ATOM :H1/:H> atom2: #<ATOM :O/:O> atom3: #<ATOM :H2/:H>  key: HW-OW-HW\n",
      " atom1: #<ATOM :O/:O> atom2: #<ATOM :H1/:H> atom3: #<ATOM :H2/:H>  key: HW-HW-OW\n",
      " atom1: #<ATOM :O/:O> atom2: #<ATOM :H2/:H> atom3: #<ATOM :H1/:H>  key: HW-HW-OW\n",
      " atom1: #<ATOM :H1/:H> atom2: #<ATOM :O/:O> atom3: #<ATOM :H2/:H>  key: HW-OW-HW\n",
      " atom1: #<ATOM :O/:O> atom2: #<ATOM :H1/:H> atom3: #<ATOM :H2/:H>  key: HW-HW-OW\n",
      " atom1: #<ATOM :O/:O> atom2: #<ATOM :H2/:H> atom3: #<ATOM :H1/:H>  key: HW-HW-OW\n",
      " atom1: #<ATOM :H1/:H> atom2: #<ATOM :O/:O> atom3: #<ATOM :H2/:H>  key: HW-OW-HW\n",
      " atom1: #<ATOM :O/:O> atom2: #<ATOM :H1/:H> atom3: #<ATOM :H2/:H>  key: HW-HW-OW\n",
      " atom1: #<ATOM :O/:O> atom2: #<ATOM :H2/:H> atom3: #<ATOM :H1/:H>  key: HW-HW-OW\n",
      " atom1: #<ATOM :H1/:H> atom2: #<ATOM :O/:O> atom3: #<ATOM :H2/:H>  key: HW-OW-HW\n",
      " atom1: #<ATOM :O/:O> atom2: #<ATOM :H1/:H> atom3: #<ATOM :H2/:H>  key: HW-HW-OW\n",
      " atom1: #<ATOM :O/:O> atom2: #<ATOM :H2/:H> atom3: #<ATOM :H1/:H>  key: HW-HW-OW\n",
      " atom1: #<ATOM :H1/:H> atom2: #<ATOM :O/:O> atom3: #<ATOM :H2/:H>  key: HW-OW-HW\n",
      " atom1: #<ATOM :O/:O> atom2: #<ATOM :H1/:H> atom3: #<ATOM :H2/:H>  key: HW-HW-OW\n",
      " atom1: #<ATOM :O/:O> atom2: #<ATOM :H2/:H> atom3: #<ATOM :H1/:H>  key: HW-HW-OW\n",
      " atom1: #<ATOM :H1/:H> atom2: #<ATOM :O/:O> atom3: #<ATOM :H2/:H>  key: HW-OW-HW\n",
      " atom1: #<ATOM :O/:O> atom2: #<ATOM :H1/:H> atom3: #<ATOM :H2/:H>  key: HW-HW-OW\n",
      " atom1: #<ATOM :O/:O> atom2: #<ATOM :H2/:H> atom3: #<ATOM :H1/:H>  key: HW-HW-OW\n",
      " atom1: #<ATOM :H1/:H> atom2: #<ATOM :O/:O> atom3: #<ATOM :H2/:H>  key: HW-OW-HW\n",
      " atom1: #<ATOM :O/:O> atom2: #<ATOM :H1/:H> atom3: #<ATOM :H2/:H>  key: HW-HW-OW\n",
      " atom1: #<ATOM :O/:O> atom2: #<ATOM :H2/:H> atom3: #<ATOM :H1/:H>  key: HW-HW-OW\n",
      " atom1: #<ATOM :H1/:H> atom2: #<ATOM :O/:O> atom3: #<ATOM :H2/:H>  key: HW-OW-HW\n",
      " atom1: #<ATOM :O/:O> atom2: #<ATOM :H1/:H> atom3: #<ATOM :H2/:H>  key: HW-HW-OW\n",
      " atom1: #<ATOM :O/:O> atom2: #<ATOM :H2/:H> atom3: #<ATOM :H1/:H>  key: HW-HW-OW\n",
      " atom1: #<ATOM :H1/:H> atom2: #<ATOM :O/:O> atom3: #<ATOM :H2/:H>  key: HW-OW-HW\n",
      " atom1: #<ATOM :O/:O> atom2: #<ATOM :H1/:H> atom3: #<ATOM :H2/:H>  key: HW-HW-OW\n",
      " atom1: #<ATOM :O/:O> atom2: #<ATOM :H2/:H> atom3: #<ATOM :H1/:H>  key: HW-HW-OW\n",
      " atom1: #<ATOM :H1/:H> atom2: #<ATOM :O/:O> atom3: #<ATOM :H2/:H>  key: HW-OW-HW\n",
      " atom1: #<ATOM :O/:O> atom2: #<ATOM :H1/:H> atom3: #<ATOM :H2/:H>  key: HW-HW-OW\n",
      " atom1: #<ATOM :O/:O> atom2: #<ATOM :H2/:H> atom3: #<ATOM :H1/:H>  key: HW-HW-OW\n",
      " atom1: #<ATOM :H1/:H> atom2: #<ATOM :O/:O> atom3: #<ATOM :H2/:H>  key: HW-OW-HW\n",
      " atom1: #<ATOM :O/:O> atom2: #<ATOM :H1/:H> atom3: #<ATOM :H2/:H>  key: HW-HW-OW\n",
      " atom1: #<ATOM :O/:O> atom2: #<ATOM :H2/:H> atom3: #<ATOM :H1/:H>  key: HW-HW-OW\n",
      " atom1: #<ATOM :H1/:H> atom2: #<ATOM :O/:O> atom3: #<ATOM :H2/:H>  key: HW-OW-HW\n",
      " atom1: #<ATOM :O/:O> atom2: #<ATOM :H1/:H> atom3: #<ATOM :H2/:H>  key: HW-HW-OW\n",
      " atom1: #<ATOM :O/:O> atom2: #<ATOM :H2/:H> atom3: #<ATOM :H1/:H>  key: HW-HW-OW\n",
      " atom1: #<ATOM :H1/:H> atom2: #<ATOM :O/:O> atom3: #<ATOM :H2/:H>  key: HW-OW-HW\n",
      " atom1: #<ATOM :O/:O> atom2: #<ATOM :H2/:H> atom3: #<ATOM :H1/:H>  key: HW-HW-OW\n",
      " atom1: #<ATOM :O/:O> atom2: #<ATOM :H1/:H> atom3: #<ATOM :H2/:H>  key: HW-HW-OW\n",
      " atom1: #<ATOM :H1/:H> atom2: #<ATOM :O/:O> atom3: #<ATOM :H2/:H>  key: HW-OW-HW\n",
      " atom1: #<ATOM :O/:O> atom2: #<ATOM :H2/:H> atom3: #<ATOM :H1/:H>  key: HW-HW-OW\n",
      " atom1: #<ATOM :O/:O> atom2: #<ATOM :H1/:H> atom3: #<ATOM :H2/:H>  key: HW-HW-OW\n",
      " atom1: #<ATOM :H1/:H> atom2: #<ATOM :O/:O> atom3: #<ATOM :H2/:H>  key: HW-OW-HW\n",
      " atom1: #<ATOM :O/:O> atom2: #<ATOM :H1/:H> atom3: #<ATOM :H2/:H>  key: HW-HW-OW\n",
      " atom1: #<ATOM :O/:O> atom2: #<ATOM :H2/:H> atom3: #<ATOM :H1/:H>  key: HW-HW-OW\n",
      " atom1: #<ATOM :H1/:H> atom2: #<ATOM :O/:O> atom3: #<ATOM :H2/:H>  key: HW-OW-HW\n",
      " atom1: #<ATOM :O/:O> atom2: #<ATOM :H1/:H> atom3: #<ATOM :H2/:H>  key: HW-HW-OW\n",
      " atom1: #<ATOM :O/:O> atom2: #<ATOM :H2/:H> atom3: #<ATOM :H1/:H>  key: HW-HW-OW\n",
      " atom1: #<ATOM :H1/:H> atom2: #<ATOM :O/:O> atom3: #<ATOM :H2/:H>  key: HW-OW-HW\n",
      " atom1: #<ATOM :O/:O> atom2: #<ATOM :H1/:H> atom3: #<ATOM :H2/:H>  key: HW-HW-OW\n",
      " atom1: #<ATOM :O/:O> atom2: #<ATOM :H2/:H> atom3: #<ATOM :H1/:H>  key: HW-HW-OW\n",
      " atom1: #<ATOM :H1/:H> atom2: #<ATOM :O/:O> atom3: #<ATOM :H2/:H>  key: HW-OW-HW\n",
      " atom1: #<ATOM :O/:O> atom2: #<ATOM :H1/:H> atom3: #<ATOM :H2/:H>  key: HW-HW-OW\n",
      " atom1: #<ATOM :O/:O> atom2: #<ATOM :H2/:H> atom3: #<ATOM :H1/:H>  key: HW-HW-OW\n",
      " atom1: #<ATOM :H1/:H> atom2: #<ATOM :O/:O> atom3: #<ATOM :H2/:H>  key: HW-OW-HW\n",
      " atom1: #<ATOM :O/:O> atom2: #<ATOM :H1/:H> atom3: #<ATOM :H2/:H>  key: HW-HW-OW\n",
      " atom1: #<ATOM :O/:O> atom2: #<ATOM :H2/:H> atom3: #<ATOM :H1/:H>  key: HW-HW-OW\n",
      " atom1: #<ATOM :H1/:H> atom2: #<ATOM :O/:O> atom3: #<ATOM :H2/:H>  key: HW-OW-HW\n",
      " atom1: #<ATOM :O/:O> atom2: #<ATOM :H1/:H> atom3: #<ATOM :H2/:H>  key: HW-HW-OW\n",
      " atom1: #<ATOM :O/:O> atom2: #<ATOM :H2/:H> atom3: #<ATOM :H1/:H>  key: HW-HW-OW\n",
      " atom1: #<ATOM :H1/:H> atom2: #<ATOM :O/:O> atom3: #<ATOM :H2/:H>  key: HW-OW-HW\n",
      " atom1: #<ATOM :O/:O> atom2: #<ATOM :H1/:H> atom3: #<ATOM :H2/:H>  key: HW-HW-OW\n",
      " atom1: #<ATOM :O/:O> atom2: #<ATOM :H2/:H> atom3: #<ATOM :H1/:H>  key: HW-HW-OW\n",
      " atom1: #<ATOM :H1/:H> atom2: #<ATOM :O/:O> atom3: #<ATOM :H2/:H>  key: HW-OW-HW\n",
      " atom1: #<ATOM :O/:O> atom2: #<ATOM :H1/:H> atom3: #<ATOM :H2/:H>  key: HW-HW-OW\n",
      " atom1: #<ATOM :O/:O> atom2: #<ATOM :H2/:H> atom3: #<ATOM :H1/:H>  key: HW-HW-OW\n",
      " atom1: #<ATOM :H1/:H> atom2: #<ATOM :O/:O> atom3: #<ATOM :H2/:H>  key: HW-OW-HW\n",
      " atom1: #<ATOM :O/:O> atom2: #<ATOM :H1/:H> atom3: #<ATOM :H2/:H>  key: HW-HW-OW\n",
      " atom1: #<ATOM :O/:O> atom2: #<ATOM :H2/:H> atom3: #<ATOM :H1/:H>  key: HW-HW-OW\n",
      " atom1: #<ATOM :H1/:H> atom2: #<ATOM :O/:O> atom3: #<ATOM :H2/:H>  key: HW-OW-HW\n",
      " atom1: #<ATOM :O/:O> atom2: #<ATOM :H1/:H> atom3: #<ATOM :H2/:H>  key: HW-HW-OW\n",
      " atom1: #<ATOM :O/:O> atom2: #<ATOM :H2/:H> atom3: #<ATOM :H1/:H>  key: HW-HW-OW\n",
      " atom1: #<ATOM :H1/:H> atom2: #<ATOM :O/:O> atom3: #<ATOM :H2/:H>  key: HW-OW-HW\n",
      " atom1: #<ATOM :O/:O> atom2: #<ATOM :H1/:H> atom3: #<ATOM :H2/:H>  key: HW-HW-OW\n",
      " atom1: #<ATOM :O/:O> atom2: #<ATOM :H2/:H> atom3: #<ATOM :H1/:H>  key: HW-HW-OW\n",
      " atom1: #<ATOM :H1/:H> atom2: #<ATOM :O/:O> atom3: #<ATOM :H2/:H>  key: HW-OW-HW\n",
      " atom1: #<ATOM :O/:O> atom2: #<ATOM :H1/:H> atom3: #<ATOM :H2/:H>  key: HW-HW-OW\n",
      " atom1: #<ATOM :O/:O> atom2: #<ATOM :H2/:H> atom3: #<ATOM :H1/:H>  key: HW-HW-OW\n",
      " atom1: #<ATOM :H1/:H> atom2: #<ATOM :O/:O> atom3: #<ATOM :H2/:H>  key: HW-OW-HW\n",
      " atom1: #<ATOM :O/:O> atom2: #<ATOM :H1/:H> atom3: #<ATOM :H2/:H>  key: HW-HW-OW\n",
      " atom1: #<ATOM :O/:O> atom2: #<ATOM :H2/:H> atom3: #<ATOM :H1/:H>  key: HW-HW-OW\n",
      " atom1: #<ATOM :H1/:H> atom2: #<ATOM :O/:O> atom3: #<ATOM :H2/:H>  key: HW-OW-HW\n",
      " atom1: #<ATOM :O/:O> atom2: #<ATOM :H1/:H> atom3: #<ATOM :H2/:H>  key: HW-HW-OW\n",
      " atom1: #<ATOM :O/:O> atom2: #<ATOM :H2/:H> atom3: #<ATOM :H1/:H>  key: HW-HW-OW\n",
      " atom1: #<ATOM :H1/:H> atom2: #<ATOM :O/:O> atom3: #<ATOM :H2/:H>  key: HW-OW-HW\n",
      " atom1: #<ATOM :O/:O> atom2: #<ATOM :H1/:H> atom3: #<ATOM :H2/:H>  key: HW-HW-OW\n",
      " atom1: #<ATOM :O/:O> atom2: #<ATOM :H2/:H> atom3: #<ATOM :H1/:H>  key: HW-HW-OW\n",
      " atom1: #<ATOM :H1/:H> atom2: #<ATOM :O/:O> atom3: #<ATOM :H2/:H>  key: HW-OW-HW\n",
      " atom1: #<ATOM :O/:O> atom2: #<ATOM :H1/:H> atom3: #<ATOM :H2/:H>  key: HW-HW-OW\n",
      " atom1: #<ATOM :O/:O> atom2: #<ATOM :H2/:H> atom3: #<ATOM :H1/:H>  key: HW-HW-OW\n",
      " atom1: #<ATOM :H1/:H> atom2: #<ATOM :O/:O> atom3: #<ATOM :H2/:H>  key: HW-OW-HW\n",
      " atom1: #<ATOM :O/:O> atom2: #<ATOM :H1/:H> atom3: #<ATOM :H2/:H>  key: HW-HW-OW\n",
      " atom1: #<ATOM :O/:O> atom2: #<ATOM :H2/:H> atom3: #<ATOM :H1/:H>  key: HW-HW-OW\n",
      " atom1: #<ATOM :H1/:H> atom2: #<ATOM :O/:O> atom3: #<ATOM :H2/:H>  key: HW-OW-HW\n",
      " atom1: #<ATOM :O/:O> atom2: #<ATOM :H2/:H> atom3: #<ATOM :H1/:H>  key: HW-HW-OW\n",
      " atom1: #<ATOM :O/:O> atom2: #<ATOM :H1/:H> atom3: #<ATOM :H2/:H>  key: HW-HW-OW\n",
      " atom1: #<ATOM :H1/:H> atom2: #<ATOM :O/:O> atom3: #<ATOM :H2/:H>  key: HW-OW-HW\n",
      " atom1: #<ATOM :O/:O> atom2: #<ATOM :H1/:H> atom3: #<ATOM :H2/:H>  key: HW-HW-OW\n",
      " atom1: #<ATOM :O/:O> atom2: #<ATOM :H2/:H> atom3: #<ATOM :H1/:H>  key: HW-HW-OW\n",
      " atom1: #<ATOM :H1/:H> atom2: #<ATOM :O/:O> atom3: #<ATOM :H2/:H>  key: HW-OW-HW\n",
      " atom1: #<ATOM :O/:O> atom2: #<ATOM :H1/:H> atom3: #<ATOM :H2/:H>  key: HW-HW-OW\n",
      " atom1: #<ATOM :O/:O> atom2: #<ATOM :H2/:H> atom3: #<ATOM :H1/:H>  key: HW-HW-OW\n",
      " atom1: #<ATOM :H1/:H> atom2: #<ATOM :O/:O> atom3: #<ATOM :H2/:H>  key: HW-OW-HW\n",
      " atom1: #<ATOM :O/:O> atom2: #<ATOM :H1/:H> atom3: #<ATOM :H2/:H>  key: HW-HW-OW\n",
      " atom1: #<ATOM :O/:O> atom2: #<ATOM :H2/:H> atom3: #<ATOM :H1/:H>  key: HW-HW-OW\n",
      " atom1: #<ATOM :H1/:H> atom2: #<ATOM :O/:O> atom3: #<ATOM :H2/:H>  key: HW-OW-HW\n",
      " atom1: #<ATOM :O/:O> atom2: #<ATOM :H1/:H> atom3: #<ATOM :H2/:H>  key: HW-HW-OW\n",
      " atom1: #<ATOM :O/:O> atom2: #<ATOM :H2/:H> atom3: #<ATOM :H1/:H>  key: HW-HW-OW\n",
      " atom1: #<ATOM :H1/:H> atom2: #<ATOM :O/:O> atom3: #<ATOM :H2/:H>  key: HW-OW-HW\n",
      " atom1: #<ATOM :O/:O> atom2: #<ATOM :H1/:H> atom3: #<ATOM :H2/:H>  key: HW-HW-OW\n",
      " atom1: #<ATOM :O/:O> atom2: #<ATOM :H2/:H> atom3: #<ATOM :H1/:H>  key: HW-HW-OW\n",
      " atom1: #<ATOM :H1/:H> atom2: #<ATOM :O/:O> atom3: #<ATOM :H2/:H>  key: HW-OW-HW\n",
      " atom1: #<ATOM :O/:O> atom2: #<ATOM :H1/:H> atom3: #<ATOM :H2/:H>  key: HW-HW-OW\n",
      " atom1: #<ATOM :O/:O> atom2: #<ATOM :H2/:H> atom3: #<ATOM :H1/:H>  key: HW-HW-OW\n",
      " atom1: #<ATOM :H1/:H> atom2: #<ATOM :O/:O> atom3: #<ATOM :H2/:H>  key: HW-OW-HW\n",
      " atom1: #<ATOM :O/:O> atom2: #<ATOM :H1/:H> atom3: #<ATOM :H2/:H>  key: HW-HW-OW\n",
      " atom1: #<ATOM :O/:O> atom2: #<ATOM :H2/:H> atom3: #<ATOM :H1/:H>  key: HW-HW-OW\n",
      " atom1: #<ATOM :H1/:H> atom2: #<ATOM :O/:O> atom3: #<ATOM :H2/:H>  key: HW-OW-HW\n",
      " atom1: #<ATOM :O/:O> atom2: #<ATOM :H1/:H> atom3: #<ATOM :H2/:H>  key: HW-HW-OW\n",
      " atom1: #<ATOM :O/:O> atom2: #<ATOM :H2/:H> atom3: #<ATOM :H1/:H>  key: HW-HW-OW\n",
      " atom1: #<ATOM :H1/:H> atom2: #<ATOM :O/:O> atom3: #<ATOM :H2/:H>  key: HW-OW-HW\n",
      " v-vector #(0.0d0 0.0d0 0.15555555555555556d0 0.15555555555555556d0\n",
      "            0.15555555555555556d0 0.0d0 0.0d0 0.0d0 2.5d0 2.5d0 2.5d0 2.5d0\n",
      "            0.0d0 0.7999999999999999d0 0.0d0 0.08d0 0.0d0 2.5d0 2.0d0 2.5d0\n",
      "            0.0d0 0.0d0 0.0d0 0.0d0 0.15555555555555556d0 0.15555555555555556d0\n",
      "            0.15555555555555556d0 0.0d0 0.0d0 0.0d0 0.15555555555555556d0\n",
      "            0.15555555555555556d0 0.15555555555555556d0 0.19999999999999998d0\n",
      "            0.19999999999999998d0 0.39999999999999997d0 0.0d0 2.0d0 2.0d0\n",
      "            0.39999999999999997d0 0.0d0 0.0d0 2.5d0 2.0d0 2.5d0\n",
      "            0.7999999999999999d0 0.0d0 0.08d0 0.7999999999999999d0 0.0d0 0.08d0\n",
      "            0.7999999999999999d0 0.0d0 0.08d0 0.0d0 0.0d0 0.0d0 10.5d0 1.1d0\n",
      "            10.5d0 1.1d0)\n",
      "in-vector #(2 2 3 3 3 2 2 2 2 2 2 2 2 1 2 3 2 2 1 2 2 2 2 2 3 3 3 2 2 2 3 3 3 1\n",
      "            2 3 4 1 2 3 4 2 2 1 2 1 2 3 1 2 3 1 2 3 2 2 2 2 2 2 2)\n",
      "phase-vector #(0.0d0 0.0d0 0.0d0 0.0d0 0.0d0 0.0d0 0.0d0 0.0d0\n",
      "               3.1415939703583717d0 3.1415939703583717d0 3.1415939703583717d0\n",
      "               3.1415939703583717d0 0.0d0 0.0d0 0.0d0 3.1415939703583717d0\n",
      "               0.0d0 3.1415939703583717d0 0.0d0 3.1415939703583717d0 0.0d0\n",
      "               0.0d0 0.0d0 0.0d0 0.0d0 0.0d0 0.0d0 0.0d0 0.0d0 0.0d0 0.0d0\n",
      "               0.0d0 0.0d0 0.0d0 0.0d0 0.0d0 0.0d0 0.0d0 0.0d0 0.0d0 0.0d0\n",
      "               0.0d0 3.1415939703583717d0 0.0d0 3.1415939703583717d0 0.0d0\n",
      "               0.0d0 3.1415939703583717d0 0.0d0 0.0d0 3.1415939703583717d0\n",
      "               0.0d0 0.0d0 3.1415939703583717d0 0.0d0 0.0d0 0.0d0\n",
      "               3.1415940000000004d0 3.1415940000000004d0 3.1415940000000004d0\n",
      "               3.1415940000000004d0)\n",
      "i1-vector #(0 0 0 0 0 0 0 0 3 3 3 3 6 6 6 6 6 6 6 6 9 9 9 9 9 9 9 12 12 12 12\n",
      "            12 12 15 15 15 15 15 15 15 15 15 27 27 27 36 36 36 36 36 36 36 36\n",
      "            36 54 57 60 3 30 33 0)\n",
      "i2-vector #(3 3 3 3 3 51 51 51 0 0 9 9 0 0 0 0 0 0 0 0 30 30 30 3 3 3 3 3 3 3 3\n",
      "            3 3 3 3 3 3 3 3 3 3 3 9 9 9 30 30 30 30 30 30 30 30 30 48 48 48 51\n",
      "            3 9 48)\n",
      "i3-vector #(9 9 15 15 15 48 48 48 51 51 30 30 3 3 3 3 3 51 51 51 33 33 33 0 15\n",
      "            15 15 0 9 9 15 15 15 0 0 0 0 9 9 9 9 9 30 30 30 33 33 33 33 33 33\n",
      "            33 33 33 51 51 51 0 9 30 51)\n",
      "i4-vector #(30 27 18 21 24 54 57 60 48 63 33 36 9 12 12 12 15 48 63 63 39 42 45\n",
      "            51 18 21 24 51 30 27 18 21 24 51 51 51 51 30 30 30 30 27 33 36 36\n",
      "            39 39 39 42 42 42 45 45 45 63 63 63 6 27 36 63)\n",
      "proper-vector #(T T T T T T T T T T T T T T T T T T T T T T T T T T T T T T T T\n",
      "                T T T T T T T T T T T T T T T T T T T T T T T T T NIL NIL NIL\n",
      "                NIL)\n",
      "atom1: #<ATOM :C/:C> atom2: #<ATOM :C_0/:C> atom3: #<ATOM :NH/:N> atom4 #<ATOM :C/:C> key: 0.0-2-0.0 vi: 0.0d0 ini 2 phase 0.0d0\n",
      "  0.0d0 2\n",
      " atom1: #<ATOM :C/:C> atom2: #<ATOM :C_0/:C> atom3: #<ATOM :NH/:N> atom4 #<ATOM :HH/:H> key: 0.0-2-0.0 vi: 0.0d0 ini 2 phase 0.0d0\n",
      " atom1: #<ATOM :C/:C> atom2: #<ATOM :C_0/:C> atom3: #<ATOM :CH3/:C> atom4 #<ATOM :HH31/:H> key: 0.15555555555555556-3-0.0 vi: 0.15555555555555556d0 ini 3 phase 0.0d0\n",
      "  0.15555555555555556d0 3\n",
      " atom1: #<ATOM :C/:C> atom2: #<ATOM :C_0/:C> atom3: #<ATOM :CH3/:C> atom4 #<ATOM :HH32/:H> key: 0.15555555555555556-3-0.0 vi: 0.15555555555555556d0 ini 3 phase 0.0d0\n",
      " atom1: #<ATOM :C/:C> atom2: #<ATOM :C_0/:C> atom3: #<ATOM :CH3/:C> atom4 #<ATOM :HH33/:H> key: 0.15555555555555556-3-0.0 vi: 0.15555555555555556d0 ini 3 phase 0.0d0\n",
      " atom1: #<ATOM :C/:C> atom2: #<ATOM :NH/:N> atom3: #<ATOM :CH3/:C> atom4 #<ATOM :HH31/:H> key: 0.0-2-0.0 vi: 0.0d0 ini 2 phase 0.0d0\n",
      " atom1: #<ATOM :C/:C> atom2: #<ATOM :NH/:N> atom3: #<ATOM :CH3/:C> atom4 #<ATOM :HH32/:H> key: 0.0-2-0.0 vi: 0.0d0 ini 2 phase 0.0d0\n",
      " atom1: #<ATOM :C/:C> atom2: #<ATOM :NH/:N> atom3: #<ATOM :CH3/:C> atom4 #<ATOM :HH33/:H> key: 0.0-2-0.0 vi: 0.0d0 ini 2 phase 0.0d0\n",
      " atom1: #<ATOM :C_0/:C> atom2: #<ATOM :C/:C> atom3: #<ATOM :NH/:N> atom4 #<ATOM :CH3/:C> key: 2.5-2-3.1415939703583717 vi: 2.5d0 ini 2 phase 3.1415939703583717d0\n",
      "  2.5d0 2\n",
      " atom1: #<ATOM :C_0/:C> atom2: #<ATOM :C/:C> atom3: #<ATOM :NH/:N> atom4 #<ATOM :HH/:H> key: 2.5-2-3.1415939703583717 vi: 2.5d0 ini 2 phase 3.1415939703583717d0\n",
      " atom1: #<ATOM :C_0/:C> atom2: #<ATOM :NH/:N> atom3: #<ATOM :C/:C> atom4 #<ATOM :CH3/:C> key: 2.5-2-3.1415939703583717 vi: 2.5d0 ini 2 phase 3.1415939703583717d0\n",
      " atom1: #<ATOM :C_0/:C> atom2: #<ATOM :NH/:N> atom3: #<ATOM :C/:C> atom4 #<ATOM :O/:O> key: 2.5-2-3.1415939703583717 vi: 2.5d0 ini 2 phase 3.1415939703583717d0\n",
      " atom1: #<ATOM :O/:O> atom2: #<ATOM :C/:C> atom3: #<ATOM :C_0/:C> atom4 #<ATOM :NH/:N> key: 0.0-2-0.0 vi: 0.0d0 ini 2 phase 0.0d0\n",
      " atom1: #<ATOM :O/:O> atom2: #<ATOM :C/:C> atom3: #<ATOM :C_0/:C> atom4 #<ATOM :H/:H> key: 0.7999999999999999-1-0.0 vi: 0.7999999999999999d0 ini 1 phase 0.0d0\n",
      "  0.7999999999999999d0 1\n",
      " atom1: #<ATOM :O/:O> atom2: #<ATOM :C/:C> atom3: #<ATOM :C_0/:C> atom4 #<ATOM :H/:H> key: 0.0-2-0.0 vi: 0.0d0 ini 2 phase 0.0d0\n",
      " atom1: #<ATOM :O/:O> atom2: #<ATOM :C/:C> atom3: #<ATOM :C_0/:C> atom4 #<ATOM :H/:H> key: 0.08-3-3.1415939703583717 vi: 0.08d0 ini 3 phase 3.1415939703583717d0\n",
      "  0.08d0 3\n",
      " atom1: #<ATOM :O/:O> atom2: #<ATOM :C/:C> atom3: #<ATOM :C_0/:C> atom4 #<ATOM :CH3/:C> key: 0.0-2-0.0 vi: 0.0d0 ini 2 phase 0.0d0\n",
      " atom1: #<ATOM :O/:O> atom2: #<ATOM :C/:C> atom3: #<ATOM :NH/:N> atom4 #<ATOM :CH3/:C> key: 2.5-2-3.1415939703583717 vi: 2.5d0 ini 2 phase 3.1415939703583717d0\n",
      " atom1: #<ATOM :O/:O> atom2: #<ATOM :C/:C> atom3: #<ATOM :NH/:N> atom4 #<ATOM :HH/:H> key: 2.0-1-0.0 vi: 2.0d0 ini 1 phase 0.0d0\n",
      "  2.0d0 1\n",
      " atom1: #<ATOM :O/:O> atom2: #<ATOM :C/:C> atom3: #<ATOM :NH/:N> atom4 #<ATOM :HH/:H> key: 2.5-2-3.1415939703583717 vi: 2.5d0 ini 2 phase 3.1415939703583717d0\n",
      " atom1: #<ATOM :NH/:N> atom2: #<ATOM :C/:C> atom3: #<ATOM :CH3/:C> atom4 #<ATOM :HH31/:H> key: 0.0-2-0.0 vi: 0.0d0 ini 2 phase 0.0d0\n",
      " atom1: #<ATOM :NH/:N> atom2: #<ATOM :C/:C> atom3: #<ATOM :CH3/:C> atom4 #<ATOM :HH32/:H> key: 0.0-2-0.0 vi: 0.0d0 ini 2 phase 0.0d0\n",
      " atom1: #<ATOM :NH/:N> atom2: #<ATOM :C/:C> atom3: #<ATOM :CH3/:C> atom4 #<ATOM :HH33/:H> key: 0.0-2-0.0 vi: 0.0d0 ini 2 phase 0.0d0\n",
      " atom1: #<ATOM :NH/:N> atom2: #<ATOM :C_0/:C> atom3: #<ATOM :C/:C> atom4 #<ATOM :NH/:N> key: 0.0-2-0.0 vi: 0.0d0 ini 2 phase 0.0d0\n",
      " atom1: #<ATOM :NH/:N> atom2: #<ATOM :C_0/:C> atom3: #<ATOM :CH3/:C> atom4 #<ATOM :HH31/:H> key: 0.15555555555555556-3-0.0 vi: 0.15555555555555556d0 ini 3 phase 0.0d0\n",
      " atom1: #<ATOM :NH/:N> atom2: #<ATOM :C_0/:C> atom3: #<ATOM :CH3/:C> atom4 #<ATOM :HH32/:H> key: 0.15555555555555556-3-0.0 vi: 0.15555555555555556d0 ini 3 phase 0.0d0\n",
      " atom1: #<ATOM :NH/:N> atom2: #<ATOM :C_0/:C> atom3: #<ATOM :CH3/:C> atom4 #<ATOM :HH33/:H> key: 0.15555555555555556-3-0.0 vi: 0.15555555555555556d0 ini 3 phase 0.0d0\n",
      " atom1: #<ATOM :H/:H> atom2: #<ATOM :C_0/:C> atom3: #<ATOM :C/:C> atom4 #<ATOM :NH/:N> key: 0.0-2-0.0 vi: 0.0d0 ini 2 phase 0.0d0\n",
      " atom1: #<ATOM :H/:H> atom2: #<ATOM :C_0/:C> atom3: #<ATOM :NH/:N> atom4 #<ATOM :C/:C> key: 0.0-2-0.0 vi: 0.0d0 ini 2 phase 0.0d0\n",
      " atom1: #<ATOM :H/:H> atom2: #<ATOM :C_0/:C> atom3: #<ATOM :NH/:N> atom4 #<ATOM :HH/:H> key: 0.0-2-0.0 vi: 0.0d0 ini 2 phase 0.0d0\n",
      " atom1: #<ATOM :H/:H> atom2: #<ATOM :C_0/:C> atom3: #<ATOM :CH3/:C> atom4 #<ATOM :HH31/:H> key: 0.15555555555555556-3-0.0 vi: 0.15555555555555556d0 ini 3 phase 0.0d0\n",
      " atom1: #<ATOM :H/:H> atom2: #<ATOM :C_0/:C> atom3: #<ATOM :CH3/:C> atom4 #<ATOM :HH32/:H> key: 0.15555555555555556-3-0.0 vi: 0.15555555555555556d0 ini 3 phase 0.0d0\n",
      " atom1: #<ATOM :H/:H> atom2: #<ATOM :C_0/:C> atom3: #<ATOM :CH3/:C> atom4 #<ATOM :HH33/:H> key: 0.15555555555555556-3-0.0 vi: 0.15555555555555556d0 ini 3 phase 0.0d0\n",
      " atom1: #<ATOM :CH3/:C> atom2: #<ATOM :C_0/:C> atom3: #<ATOM :C/:C> atom4 #<ATOM :NH/:N> key: 0.19999999999999998-1-0.0 vi: 0.19999999999999998d0 ini 1 phase 0.0d0\n",
      "  0.19999999999999998d0 1\n",
      " atom1: #<ATOM :CH3/:C> atom2: #<ATOM :C_0/:C> atom3: #<ATOM :C/:C> atom4 #<ATOM :NH/:N> key: 0.19999999999999998-2-0.0 vi: 0.19999999999999998d0 ini 2 phase 0.0d0\n",
      "  0.19999999999999998d0 2\n",
      " atom1: #<ATOM :CH3/:C> atom2: #<ATOM :C_0/:C> atom3: #<ATOM :C/:C> atom4 #<ATOM :NH/:N> key: 0.39999999999999997-3-0.0 vi: 0.39999999999999997d0 ini 3 phase 0.0d0\n",
      "  0.39999999999999997d0 3\n",
      " atom1: #<ATOM :CH3/:C> atom2: #<ATOM :C_0/:C> atom3: #<ATOM :C/:C> atom4 #<ATOM :NH/:N> key: 0.0-4-0.0 vi: 0.0d0 ini 4 phase 0.0d0\n",
      "  0.0d0 4\n",
      " atom1: #<ATOM :CH3/:C> atom2: #<ATOM :C_0/:C> atom3: #<ATOM :NH/:N> atom4 #<ATOM :C/:C> key: 2.0-1-0.0 vi: 2.0d0 ini 1 phase 0.0d0\n",
      " atom1: #<ATOM :CH3/:C> atom2: #<ATOM :C_0/:C> atom3: #<ATOM :NH/:N> atom4 #<ATOM :C/:C> key: 2.0-2-0.0 vi: 2.0d0 ini 2 phase 0.0d0\n",
      "  2.0d0 2\n",
      " atom1: #<ATOM :CH3/:C> atom2: #<ATOM :C_0/:C> atom3: #<ATOM :NH/:N> atom4 #<ATOM :C/:C> key: 0.39999999999999997-3-0.0 vi: 0.39999999999999997d0 ini 3 phase 0.0d0\n",
      " atom1: #<ATOM :CH3/:C> atom2: #<ATOM :C_0/:C> atom3: #<ATOM :NH/:N> atom4 #<ATOM :C/:C> key: 0.0-4-0.0 vi: 0.0d0 ini 4 phase 0.0d0\n",
      " atom1: #<ATOM :CH3/:C> atom2: #<ATOM :C_0/:C> atom3: #<ATOM :NH/:N> atom4 #<ATOM :HH/:H> key: 0.0-2-0.0 vi: 0.0d0 ini 2 phase 0.0d0\n",
      " atom1: #<ATOM :HH/:H> atom2: #<ATOM :NH/:N> atom3: #<ATOM :C/:C> atom4 #<ATOM :CH3/:C> key: 2.5-2-3.1415939703583717 vi: 2.5d0 ini 2 phase 3.1415939703583717d0\n",
      " atom1: #<ATOM :HH/:H> atom2: #<ATOM :NH/:N> atom3: #<ATOM :C/:C> atom4 #<ATOM :O/:O> key: 2.0-1-0.0 vi: 2.0d0 ini 1 phase 0.0d0\n",
      " atom1: #<ATOM :HH/:H> atom2: #<ATOM :NH/:N> atom3: #<ATOM :C/:C> atom4 #<ATOM :O/:O> key: 2.5-2-3.1415939703583717 vi: 2.5d0 ini 2 phase 3.1415939703583717d0\n",
      " atom1: #<ATOM :O/:O> atom2: #<ATOM :C/:C> atom3: #<ATOM :CH3/:C> atom4 #<ATOM :HH31/:H> key: 0.7999999999999999-1-0.0 vi: 0.7999999999999999d0 ini 1 phase 0.0d0\n",
      " atom1: #<ATOM :O/:O> atom2: #<ATOM :C/:C> atom3: #<ATOM :CH3/:C> atom4 #<ATOM :HH31/:H> key: 0.0-2-0.0 vi: 0.0d0 ini 2 phase 0.0d0\n",
      " atom1: #<ATOM :O/:O> atom2: #<ATOM :C/:C> atom3: #<ATOM :CH3/:C> atom4 #<ATOM :HH31/:H> key: 0.08-3-3.1415939703583717 vi: 0.08d0 ini 3 phase 3.1415939703583717d0\n",
      " atom1: #<ATOM :O/:O> atom2: #<ATOM :C/:C> atom3: #<ATOM :CH3/:C> atom4 #<ATOM :HH32/:H> key: 0.7999999999999999-1-0.0 vi: 0.7999999999999999d0 ini 1 phase 0.0d0\n",
      " atom1: #<ATOM :O/:O> atom2: #<ATOM :C/:C> atom3: #<ATOM :CH3/:C> atom4 #<ATOM :HH32/:H> key: 0.0-2-0.0 vi: 0.0d0 ini 2 phase 0.0d0\n",
      " atom1: #<ATOM :O/:O> atom2: #<ATOM :C/:C> atom3: #<ATOM :CH3/:C> atom4 #<ATOM :HH32/:H> key: 0.08-3-3.1415939703583717 vi: 0.08d0 ini 3 phase 3.1415939703583717d0\n",
      " atom1: #<ATOM :O/:O> atom2: #<ATOM :C/:C> atom3: #<ATOM :CH3/:C> atom4 #<ATOM :HH33/:H> key: 0.7999999999999999-1-0.0 vi: 0.7999999999999999d0 ini 1 phase 0.0d0\n",
      " atom1: #<ATOM :O/:O> atom2: #<ATOM :C/:C> atom3: #<ATOM :CH3/:C> atom4 #<ATOM :HH33/:H> key: 0.0-2-0.0 vi: 0.0d0 ini 2 phase 0.0d0\n",
      " atom1: #<ATOM :O/:O> atom2: #<ATOM :C/:C> atom3: #<ATOM :CH3/:C> atom4 #<ATOM :HH33/:H> key: 0.08-3-3.1415939703583717 vi: 0.08d0 ini 3 phase 3.1415939703583717d0\n",
      " atom1: #<ATOM :HH31/:H> atom2: #<ATOM :CH3/:C> atom3: #<ATOM :NH/:N> atom4 #<ATOM :HH/:H> key: 0.0-2-0.0 vi: 0.0d0 ini 2 phase 0.0d0\n",
      " atom1: #<ATOM :HH32/:H> atom2: #<ATOM :CH3/:C> atom3: #<ATOM :NH/:N> atom4 #<ATOM :HH/:H> key: 0.0-2-0.0 vi: 0.0d0 ini 2 phase 0.0d0\n",
      " atom1: #<ATOM :HH33/:H> atom2: #<ATOM :CH3/:C> atom3: #<ATOM :NH/:N> atom4 #<ATOM :HH/:H> key: 0.0-2-0.0 vi: 0.0d0 ini 2 phase 0.0d0\n",
      " atom1: #<ATOM :C_0/:C> atom2: #<ATOM :NH/:N> atom3: #<ATOM :C/:C> atom4 #<ATOM :O/:O> key: 10.5-2-3.1415940000000004 vi: 10.5d0 ini 2 phase 3.1415940000000004d0\n",
      "  10.5d0 2\n",
      " atom1: #<ATOM :C/:C> atom2: #<ATOM :C_0/:C> atom3: #<ATOM :NH/:N> atom4 #<ATOM :HH/:H> key: 1.1-2-3.1415940000000004 vi: 1.1d0 ini 2 phase 3.1415940000000004d0\n",
      "  1.1d0 2\n",
      " atom1: #<ATOM :CH3/:C> atom2: #<ATOM :NH/:N> atom3: #<ATOM :C/:C> atom4 #<ATOM :O/:O> key: 10.5-2-3.1415940000000004 vi: 10.5d0 ini 2 phase 3.1415940000000004d0\n",
      " atom1: #<ATOM :C/:C> atom2: #<ATOM :CH3/:C> atom3: #<ATOM :NH/:N> atom4 #<ATOM :HH/:H> key: 1.1-2-3.1415940000000004 vi: 1.1d0 ini 2 phase 3.1415940000000004d0\n",
      " residue-count 3\n",
      "molecule-count 87\n"
     ]
    },
    {
     "data": {
      "text/plain": [
       "0"
      ]
     },
     "execution_count": 30,
     "metadata": {},
     "output_type": "execute_result"
    }
   ],
   "source": [
    "(leap.topology:save-amber-parm-format *newagg* \"chemagg_water.top\" \"chemagg_water.crd\" :assign-types nil)"
   ]
  },
  {
   "cell_type": "markdown",
   "metadata": {},
   "source": [
    "#### Calculate each energy parameters."
   ]
  },
  {
   "cell_type": "code",
   "execution_count": 31,
   "metadata": {},
   "outputs": [
    {
     "data": {
      "text/plain": [
       "1720.1189821006878d0"
      ]
     },
     "execution_count": 31,
     "metadata": {},
     "output_type": "execute_result"
    }
   ],
   "source": [
    "(chem:get-energy (chem:get-stretch-component *e*))"
   ]
  },
  {
   "cell_type": "code",
   "execution_count": 32,
   "metadata": {},
   "outputs": [
    {
     "data": {
      "text/plain": [
       "0.30171081698364277d0"
      ]
     },
     "execution_count": 32,
     "metadata": {},
     "output_type": "execute_result"
    }
   ],
   "source": [
    "(chem:get-energy (chem:get-angle-component *e*))"
   ]
  },
  {
   "cell_type": "code",
   "execution_count": 33,
   "metadata": {},
   "outputs": [
    {
     "data": {
      "text/plain": [
       "5.456751705606037d0"
      ]
     },
     "execution_count": 33,
     "metadata": {},
     "output_type": "execute_result"
    }
   ],
   "source": [
    "(chem:get-energy (chem:get-dihedral-component *e*))"
   ]
  },
  {
   "cell_type": "code",
   "execution_count": 34,
   "metadata": {},
   "outputs": [
    {
     "data": {
      "text/plain": [
       "658.8024508583202d0"
      ]
     },
     "execution_count": 34,
     "metadata": {},
     "output_type": "execute_result"
    }
   ],
   "source": [
    "(chem:get-energy (chem:get-nonbond-component *e*))"
   ]
  },
  {
   "cell_type": "code",
   "execution_count": 34,
   "metadata": {},
   "outputs": [
    {
     "name": "stdout",
     "output_type": "stream",
     "text": [
      "CHEM:ADD-SUPERPOSE-ATOM  Function\n",
      "CHEM:CLEAR-SUPERPOSE-ATOMS  Function\n",
      "CHEM:SET-FINAL-COORDINATES-AS-FIXED-WITHIN-SUPERPOSE-ENGINE  Function\n",
      "CHEM:SET-FINAL-COORDINATES-AS-MOVEABLE-WITHIN-SUPERPOSE-ENGINE  Function\n",
      "CHEM:SET-SUPERPOSABLE-COORDINATES-AS-FIXED-WITHIN-SUPERPOSE-ENGINE  Function\n",
      "CHEM:SET-SUPERPOSABLE-COORDINATES-AS-MOVEABLE-WITHIN-SUPERPOSE-ENGINE  Function\n",
      "CHEM:SUPERPOSE  Function\n",
      "CANDO::SUPERPOSE-AGAINST-TEMPLATE  Function\n",
      "CANDO::SUPERPOSE-ALL  Function\n",
      "CHEM:SUPERPOSE-ALL-HEAVY-ATOMS  Function\n",
      "CHEM:SUPERPOSE-ENGINE\n",
      "CANDO::SUPERPOSE-ONE  Function\n",
      "CHEM:SUPERPOSE-SELECTED-ATOMS\n",
      "CHEM::SUPERPOSER\n"
     ]
    },
    {
     "data": {
      "text/plain": [
       "NIL"
      ]
     },
     "execution_count": 34,
     "metadata": {},
     "output_type": "execute_result"
    }
   ],
   "source": [
    "(apropos \"superpose\")"
   ]
  },
  {
   "cell_type": "code",
   "execution_count": 88,
   "metadata": {},
   "outputs": [
    {
     "data": {
      "application/vnd.jupyter.widget-view+json": {
       "model_id": "E7E4F0CF-9CCE-4EF5-B403-2ED852FB34F2",
       "version_major": 2,
       "version_minor": 0
      },
      "text/plain": [
       "A Jupyter Widget"
      ]
     },
     "execution_count": 88,
     "metadata": {},
     "output_type": "execute_result"
    }
   ],
   "source": [
    "(:= w (show *chemagg*)) w"
   ]
  },
  {
   "cell_type": "code",
   "execution_count": 93,
   "metadata": {
    "scrolled": true
   },
   "outputs": [
    {
     "data": {
      "text/plain": [
       "((\"atom\" (\"index\" . 20) (\"residueIndex\" . 2) (\"resname\" . \"NIL_3\")\n",
       "  (\"x\" . 216.329) (\"y\" . 322.549) (\"z\" . -0.62) (\"element\" . \"H\")\n",
       "  (\"chainname\" . \"A\") (\"resno\" . 3) (\"serial\" . 21) (\"vdw\" . 1.1)\n",
       "  (\"covalent\" . 0.31) (\"hetero\" . 1) (\"bfactor\" . 0) (\"altloc\" . \"\")\n",
       "  (\"atomname\" . \"HH33\")))"
      ]
     },
     "execution_count": 93,
     "metadata": {},
     "output_type": "execute_result"
    }
   ],
   "source": [
    "(nglv::picked w)"
   ]
  },
  {
   "cell_type": "code",
   "execution_count": 94,
   "metadata": {},
   "outputs": [
    {
     "data": {
      "text/plain": [
       "DISTANCE"
      ]
     },
     "execution_count": 94,
     "metadata": {},
     "output_type": "execute_result"
    }
   ],
   "source": [
    "(defun distance (p1 p2) (geom:vlength (geom:v- p1 p2)))"
   ]
  },
  {
   "cell_type": "code",
   "execution_count": 95,
   "metadata": {},
   "outputs": [
    {
     "data": {
      "text/plain": [
       "*A*"
      ]
     },
     "execution_count": 95,
     "metadata": {},
     "output_type": "execute_result"
    }
   ],
   "source": [
    "(:= *a* (let* ((picked (nglv::picked w))\n",
    "       (atom (cdr (assoc \"atom\" picked :test #'string=)))\n",
    "       (x (cdr (assoc \"x\" atom :test #'string=)))\n",
    "       (y (cdr (assoc \"y\" atom :test #'string=)))\n",
    "       (z (cdr (assoc \"z\" atom :test #'string=)))\n",
    "       (pos (geom:vec x y z))\n",
    "        resulta)\n",
    "     (chem:map-atoms nil (lambda (a) \n",
    "                                 (when (< (distance pos (chem:get-position a)) 0.01) \n",
    "                                     (setf resulta a))) *chemagg*)\n",
    "              resulta))"
   ]
  },
  {
   "cell_type": "code",
   "execution_count": 96,
   "metadata": {},
   "outputs": [
    {
     "data": {
      "text/plain": [
       "#<ATOM :HH33/:H>"
      ]
     },
     "execution_count": 96,
     "metadata": {},
     "output_type": "execute_result"
    }
   ],
   "source": [
    "*a*"
   ]
  },
  {
   "cell_type": "code",
   "execution_count": 97,
   "metadata": {},
   "outputs": [
    {
     "data": {
      "text/plain": [
       "*P*"
      ]
     },
     "execution_count": 97,
     "metadata": {},
     "output_type": "execute_result"
    }
   ],
   "source": [
    "(:= *p* (core:make-cxx-object 'chem:chem-info))"
   ]
  },
  {
   "cell_type": "code",
   "execution_count": 98,
   "metadata": {},
   "outputs": [
    {
     "data": {
      "text/plain": [
       "T"
      ]
     },
     "execution_count": 98,
     "metadata": {},
     "output_type": "execute_result"
    }
   ],
   "source": [
    "(chem:compile-smarts *p* \"CC\")"
   ]
  },
  {
   "cell_type": "code",
   "execution_count": 99,
   "metadata": {},
   "outputs": [
    {
     "data": {
      "text/plain": [
       "NIL"
      ]
     },
     "execution_count": 99,
     "metadata": {},
     "output_type": "execute_result"
    }
   ],
   "source": [
    "(chem:matches *p* *a*)"
   ]
  },
  {
   "cell_type": "code",
   "execution_count": null,
   "metadata": {
    "collapsed": true
   },
   "outputs": [],
   "source": []
  },
  {
   "cell_type": "code",
   "execution_count": null,
   "metadata": {
    "collapsed": true
   },
   "outputs": [],
   "source": []
  }
 ],
 "metadata": {
  "kernelspec": {
   "display_name": "Cando",
   "language": "lisp",
   "name": "lisp"
  },
  "language_info": {
   "codemirror_mode": "text/x-common-lisp",
   "mimetype": "text/x-common-lisp",
   "name": "common-lisp",
   "pygments_lexer": "common-lisp",
   "version": "X3J13"
  }
 },
 "nbformat": 4,
 "nbformat_minor": 2
}
