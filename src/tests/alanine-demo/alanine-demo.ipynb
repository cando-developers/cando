{
 "cells": [
  {
   "cell_type": "markdown",
   "metadata": {},
   "source": [
    "## Set the enviroments."
   ]
  },
  {
   "cell_type": "markdown",
   "metadata": {},
   "source": [
    "#### Connect to slime."
   ]
  },
  {
   "cell_type": "code",
   "execution_count": 1,
   "metadata": {
    "scrolled": true
   },
   "outputs": [
    {
     "data": {
      "text/plain": [
       "T"
      ]
     },
     "execution_count": 1,
     "metadata": {},
     "output_type": "execute_result"
    }
   ],
   "source": [
    "(start-swank)"
   ]
  },
  {
   "cell_type": "code",
   "execution_count": 19,
   "metadata": {},
   "outputs": [
    {
     "data": {
      "text/plain": [
       "0"
      ]
     },
     "execution_count": 19,
     "metadata": {},
     "output_type": "execute_result"
    }
   ],
   "source": [
    "(ext:vfork-execvp (list (namestring (translate-logical-pathname #P\"amber:bin;sqm\"))\n",
    "                             \"-O\"\n",
    "                             \"-i\" \"/tmp/sqm-input.txt\"\n",
    "                             \"-o\" \"/tmp/sqm-output.out\"))"
   ]
  },
  {
   "cell_type": "markdown",
   "metadata": {},
   "source": [
    "#### Add paths."
   ]
  },
  {
   "cell_type": "code",
   "execution_count": 3,
   "metadata": {
    "scrolled": true
   },
   "outputs": [
    {
     "data": {
      "text/plain": [
       "(#P\"/Users/tuj24515/Development/amber16/dat/antechamber/\"\n",
       " #P\"/Users/tuj24515/Development/amber16/dat/leap/prep/\"\n",
       " #P\"/Users/tuj24515/Development/amber16/dat/leap/parm/\"\n",
       " #P\"/Users/tuj24515/Development/amber16/dat/leap/lib/\"\n",
       " #P\"/Users/tuj24515/Development/amber16/dat/leap/cmd/\"\n",
       " #P\"/Users/tuj24515/Development/clasp/extensions/cando/src/tests/alanine-demo/\")"
      ]
     },
     "execution_count": 3,
     "metadata": {},
     "output_type": "execute_result"
    }
   ],
   "source": [
    "(leap.core::clear-path)\n",
    "(add-path *default-pathname-defaults*)\n",
    "(add-path \"~/Development/amber16/dat/leap/cmd/\")\n",
    "(add-path \"~/Development/amber16/dat/leap/lib/\")\n",
    "(add-path \"~/Development/amber16/dat/leap/parm/\")\n",
    "(add-path \"~/Development/amber16/dat/leap/prep/\")\n",
    "(add-path \"~/Development/amber16/dat/antechamber/\")"
   ]
  },
  {
   "cell_type": "markdown",
   "metadata": {},
   "source": [
    "#### Load the amber force field."
   ]
  },
  {
   "cell_type": "code",
   "execution_count": 4,
   "metadata": {},
   "outputs": [
    {
     "data": {
      "text/plain": [
       "(#<FORCE-FIELD ATOMTYPE_AMBER.DEF>)"
      ]
     },
     "execution_count": 4,
     "metadata": {},
     "output_type": "execute_result"
    }
   ],
   "source": [
    "(load-atom-type-rules \"ATOMTYPE_AMBER.DEF\")"
   ]
  },
  {
   "cell_type": "code",
   "execution_count": 5,
   "metadata": {
    "scrolled": true
   },
   "outputs": [
    {
     "name": "stderr",
     "output_type": "stream",
     "text": [
      "SIMPLE-WARNING: \n",
      "add-atom-types doesn't do anything\n",
      "SIMPLE-WARNING: \n",
      "Warning!  Skipping 10-12 hbond\n",
      "SIMPLE-WARNING: \n",
      "Warning!  Skipping force field atom equivalences\n"
     ]
    },
    {
     "data": {
      "text/plain": [
       "T"
      ]
     },
     "execution_count": 5,
     "metadata": {},
     "output_type": "execute_result"
    }
   ],
   "source": [
    "(source \"leaprc.protein.ff14SB\")"
   ]
  },
  {
   "cell_type": "code",
   "execution_count": 6,
   "metadata": {},
   "outputs": [
    {
     "data": {
      "text/plain": [
       "(#<FORCE-FIELD water_amber.def> #<FORCE-FIELD frcmod.ff14SB>\n",
       " #<FORCE-FIELD parm10.dat> #<FORCE-FIELD ATOMTYPE_AMBER.DEF>)"
      ]
     },
     "execution_count": 6,
     "metadata": {},
     "output_type": "execute_result"
    }
   ],
   "source": [
    "(load-atom-type-rules \"water_amber.def\")"
   ]
  },
  {
   "cell_type": "code",
   "execution_count": 7,
   "metadata": {
    "scrolled": true
   },
   "outputs": [
    {
     "data": {
      "text/plain": [
       "*FF*"
      ]
     },
     "execution_count": 7,
     "metadata": {},
     "output_type": "execute_result"
    }
   ],
   "source": [
    "(:= *ff* (leap.core::merged-force-field))"
   ]
  },
  {
   "cell_type": "markdown",
   "metadata": {},
   "source": [
    "## Create topology and coordinate file for Alanine"
   ]
  },
  {
   "cell_type": "markdown",
   "metadata": {},
   "source": [
    "#### Load the alanine from Chemdraw file."
   ]
  },
  {
   "cell_type": "code",
   "execution_count": 8,
   "metadata": {
    "scrolled": true
   },
   "outputs": [
    {
     "data": {
      "text/plain": [
       "*CHEMAGG*"
      ]
     },
     "execution_count": 8,
     "metadata": {},
     "output_type": "execute_result"
    }
   ],
   "source": [
    "(defparameter *chemagg* (cando:load-chem-draw-aggregate \"alanine2.cdxml\"))"
   ]
  },
  {
   "cell_type": "code",
   "execution_count": 9,
   "metadata": {},
   "outputs": [
    {
     "data": {
      "text/plain": [
       "NIL"
      ]
     },
     "execution_count": 9,
     "metadata": {},
     "output_type": "execute_result"
    }
   ],
   "source": [
    "(build-hydrogens *chemagg*)"
   ]
  },
  {
   "cell_type": "code",
   "execution_count": 10,
   "metadata": {},
   "outputs": [
    {
     "data": {
      "application/vnd.jupyter.widget-view+json": {
       "model_id": "D467282D-CEF3-49EA-8F80-89291E1FF95C",
       "version_major": 2,
       "version_minor": 0
      },
      "text/html": [
       "<p>Failed to display Jupyter Widget of type <code>{widget_type}</code>.</p>\n",
       "<p>\n",
       "  If you're reading this message in the Jupyter Notebook or JupyterLab Notebook, it may mean\n",
       "  that the widgets JavaScript is still loading. If this message persists, it\n",
       "  likely means that the widgets JavaScript library is either not installed or\n",
       "  not enabled. See the <a href=\"https://ipywidgets.readthedocs.io/en/stable/user_install.html\">Jupyter\n",
       "  Widgets Documentation</a> for setup instructions.\n",
       "</p>\n",
       "<p>\n",
       "  If you're reading this message in another frontend (for example, a static\n",
       "  rendering on GitHub or <a href=\"https://nbviewer.jupyter.org/\">NBViewer</a>),\n",
       "  it may mean that your frontend doesn't currently support widgets.\n",
       "</p>\n"
      ],
      "text/plain": [
       "A Jupyter Widget"
      ]
     },
     "execution_count": 10,
     "metadata": {},
     "output_type": "execute_result"
    }
   ],
   "source": [
    "(cando::show-aggregate *chemagg*)"
   ]
  },
  {
   "cell_type": "code",
   "execution_count": 38,
   "metadata": {},
   "outputs": [
    {
     "name": "stderr",
     "output_type": "stream",
     "text": [
      "An error occurred of type: UNDEFINED-FUNCTION: \n",
      "  #<UNDEFINED-FUNCTION>\n"
     ]
    },
    {
     "data": {
      "text/plain": [
       "NIL"
      ]
     },
     "execution_count": 38,
     "metadata": {},
     "output_type": "execute_result"
    }
   ],
   "source": [
    "(nglv::show-aggregate *chemagg*)"
   ]
  },
  {
   "cell_type": "markdown",
   "metadata": {},
   "source": [
    "#### Gather atoms to the center."
   ]
  },
  {
   "cell_type": "code",
   "execution_count": 11,
   "metadata": {},
   "outputs": [
    {
     "name": "stdout",
     "output_type": "stream",
     "text": [
      "C_0    S\n"
     ]
    },
    {
     "data": {
      "text/plain": [
       "NIL"
      ]
     },
     "execution_count": 11,
     "metadata": {},
     "output_type": "execute_result"
    }
   ],
   "source": [
    "(progn\n",
    "  (defparameter *stereocenters*\n",
    "    (sort (cando:gather-stereocenters *chemagg*) #'string< :key #'chem:get-name))\n",
    "  (cando:set-stereoisomer-func *stereocenters* (constantly :S) :show t)\n",
    "  (let ((quat-matcher (core:make-cxx-object 'chem:chem-info)))\n",
    "    (chem:compile-smarts quat-matcher \"[C&H0&D4]\")\n",
    "    (chem:map-atoms nil (lambda (a) (when (chem:matches quat-matcher a)\n",
    "                  (chem:set-configuration a :S)\n",
    "                  (format t \"Set atom ~a to :S~%\" (chem:get-name a))))\n",
    "            *chemagg*)))"
   ]
  },
  {
   "cell_type": "markdown",
   "metadata": {},
   "source": [
    "#### Set the bounding box."
   ]
  },
  {
   "cell_type": "code",
   "execution_count": 12,
   "metadata": {},
   "outputs": [
    {
     "data": {
      "text/plain": [
       "NIL"
      ]
     },
     "execution_count": 12,
     "metadata": {},
     "output_type": "execute_result"
    }
   ],
   "source": [
    "(chem:set-property *chemagg* :bounding-box '(50.0 50.0 50.0))"
   ]
  },
  {
   "cell_type": "markdown",
   "metadata": {},
   "source": [
    "#### Assign atom types and change one of them for alanine atom type definition."
   ]
  },
  {
   "cell_type": "code",
   "execution_count": 13,
   "metadata": {},
   "outputs": [
    {
     "data": {
      "text/plain": [
       "NIL"
      ]
     },
     "execution_count": 13,
     "metadata": {},
     "output_type": "execute_result"
    }
   ],
   "source": [
    "(assign-atom-types *chemagg*)\n",
    "(chem:map-atoms 'nil (lambda (a) (if (eq (chem:get-type a) :CT)\n",
    "                                     (if (eq (chem:get-name a) :C)\n",
    "                                         (chem:set-type a :CX)))) *chemagg*)"
   ]
  },
  {
   "cell_type": "markdown",
   "metadata": {},
   "source": [
    "####  Assign force-field parameters and minimize the energy of the molecule."
   ]
  },
  {
   "cell_type": "code",
   "execution_count": 14,
   "metadata": {},
   "outputs": [
    {
     "data": {
      "text/plain": [
       "NIL"
      ]
     },
     "execution_count": 14,
     "metadata": {},
     "output_type": "execute_result"
    }
   ],
   "source": [
    "(cando:jostle *chemagg*)"
   ]
  },
  {
   "cell_type": "code",
   "execution_count": 15,
   "metadata": {},
   "outputs": [
    {
     "name": "stdout",
     "output_type": "stream",
     "text": [
      "minimize-no-fail\n",
      "======= Starting Steepest Descent Minimizer\n",
      "---Stage-Seconds--Step-log(Alpha)--Dir-------------Energy-----------RMSforce\n",
      " minSDnP       0     1      -inf   0.0              0.000          14078.609\n",
      " minSDnP       0     2     -7.92   0.0        2736035.680           8093.121\n",
      "DONE absolute force test:\n",
      "forceRmsMag(4913.449622).LT.forceTolerance(5000.000000)\n",
      "======= Starting Conjugate Gradient Minimizer\n",
      " minCGnP       0     3      -inf   0.0              0.000           4913.450\n",
      " minCGnP       0     4     -7.80  39.1        1630584.721           3993.000\n",
      " minCGnP       0     5     -6.92  35.7        1111617.658           2572.576\n",
      " minCGnP       0     6     -7.50  47.4         996432.768           2165.203\n",
      " minCGnP       0     7     -6.90  70.7         814725.910           4271.527\n",
      " minCGnP       0     8     -8.22  59.1         721795.348           3334.941\n",
      " minCGnP       0     9     -7.53  72.8         549298.280           5779.417\n",
      " minCGnP       0    10    -10.59  61.3         531522.745           3840.244\n",
      "---Stage-Seconds--Step-log(Alpha)--Dir-------------Energy-----------RMSforce\n",
      " minCGnP       0    11     -8.19  52.6         433737.326           2757.538\n",
      " minCGnP       0    12     -7.88  72.8         343254.576           5621.165\n",
      " minCGnP       0    13    -10.63  49.1         321408.775           3843.769\n",
      " minCGnP       0    14     -8.35  42.8         247735.907           1820.171\n",
      " minCGnP       0    15     -7.65  52.2         194015.689           1999.080\n",
      " minCGnP       0    16     -8.29  36.4         171966.231           1478.734\n",
      " minCGnP       0    17     -8.21  65.9         147897.747           2622.101\n",
      " minCGnP       0    18    -11.30  71.9         145263.794           2764.792\n",
      " minCGnP       0    19    -10.05  57.4         137081.642           1418.192\n",
      " minCGnP       0    20     -8.46  54.6         126541.478           1485.664\n",
      "---Stage-Seconds--Step-log(Alpha)--Dir-------------Energy-----------RMSforce\n",
      " minCGnP       0    21     -8.56  52.8         114269.573           1107.261\n",
      " minCGnP       0    22     -7.87  57.2         101228.757           1216.428\n",
      " minCGnP       0    23     -8.29  75.3          90645.859           2683.814\n",
      " minCGnP       0    24     -9.67  43.4          84590.977           1156.854\n",
      " minCGnP       0    25     -7.89  58.7          67260.858           1287.282\n",
      " minCGnP       0    26     -8.96  51.8          62163.218            746.822\n",
      " minCGnP       0    27     -7.99  79.6          54644.881           2578.355\n",
      " minCGnP       0    28    -11.84  74.9          53403.765            910.364\n",
      " minCGnP       0    29     -9.40  82.3          50619.790           1534.686\n",
      " minCGnP       0    30    -12.00  74.9          50146.348           1309.310\n",
      "---Stage-Seconds--Step-log(Alpha)--Dir-------------Energy-----------RMSforce\n",
      " minCGnP       0    31     -9.50  83.4          46842.219           3384.221\n",
      " minCGnP       0    32    -13.41  78.3          46207.295           2455.846\n",
      " minCGnP       0    33    -10.98  80.7          43049.559           4425.281\n",
      " minCGnP       0    34    -14.17  73.5          42585.401           1423.702\n",
      " minCGnP       0    35     -9.16  82.9          35045.236           3897.876\n",
      " minCGnP       0    36    -12.65  80.2          33801.531           1954.270\n",
      " minCGnP       0    37    -10.73  67.2          30685.998           1499.222\n",
      " minCGnP       0    38     -9.16  60.6          24476.924            798.426\n",
      " minCGnP       0    39     -8.52  67.9          20998.045            740.881\n",
      " minCGnP       0    40     -9.23  81.9          19564.437           2124.958\n",
      "---Stage-Seconds--Step-log(Alpha)--Dir-------------Energy-----------RMSforce\n",
      " minCGnP       0    41    -10.45  52.5          16791.173            526.954\n",
      " minCGnP       0    42     -8.67  79.8          14494.707           1899.437\n",
      " minCGnP       0    43    -10.18  49.5          10886.473            379.648\n",
      " minCGnP       0    44     -7.93  64.2           9066.542            572.013\n",
      " minCGnP       0    45     -8.46  42.5           8157.361            341.674\n",
      " minCGnP       0    46     -7.52  62.4           6056.615            470.534\n",
      " minCGnP       0    47    -10.17  23.0           5913.908            234.773\n",
      " minCGnP       0    48     -7.57  57.9           5089.284            322.781\n",
      " minCGnP       0    49     -9.37  22.4           4972.224            137.708\n",
      " minCGnP       0    50     -7.20  53.1           4452.831            149.502\n",
      "---Stage-Seconds--Step-log(Alpha)--Dir-------------Energy-----------RMSforce\n",
      " minCGnP       0    51     -7.69  79.4           4121.001            546.294\n",
      " minCGnP       0    52     -9.90  39.0           3735.818            191.550\n",
      " minCGnP       0    53     -7.13  50.8           2858.893            108.292\n",
      " minCGnP       0    54     -6.89  82.9           2326.201            580.249\n",
      " minCGnP       0    55    -10.10  68.5           1911.718            261.508\n",
      " minCGnP       0    56     -7.96  59.7           1499.173            158.459\n",
      " minCGnP       0    57     -7.35  68.5            965.517            211.780\n",
      " minCGnP       0    58     -8.88  30.4            898.029            124.941\n",
      " minCGnP       0    59     -7.49  35.9            614.757             59.660\n",
      " minCGnP       0    60     -7.30  38.6            535.323             39.793\n",
      "---Stage-Seconds--Step-log(Alpha)--Dir-------------Energy-----------RMSforce\n",
      " minCGnP       0    61     -6.84  55.1            479.703             44.839\n",
      " minCGnP       0    62     -6.71  63.3            399.515             50.352\n",
      " minCGnP       0    63     -6.69  66.8            295.686             51.924\n",
      " minCGnP       0    64     -7.29  62.3            233.655             41.157\n",
      " minCGnP       0    65     -6.78  60.8            170.710             37.422\n",
      " minCGnP       0    66     -7.04  62.7            130.842             33.880\n",
      " minCGnP       0    67     -7.17  57.7            101.247             25.069\n",
      " minCGnP       0    68     -6.91  59.8             80.386             23.767\n",
      " minCGnP       0    69     -6.87   0.0             60.941             22.123\n",
      " minCGnP       0    70     -7.73  23.3             53.827              9.534\n",
      "---Stage-Seconds--Step-log(Alpha)--Dir-------------Energy-----------RMSforce\n",
      " minCGnP       0    71     -6.83  49.2             50.585             10.108\n",
      " minCGnP       0    72     -6.26  59.2             44.158             11.319\n",
      " minCGnP       0    73     -6.73  63.5             39.057             12.059\n",
      " minCGnP       0    74     -6.59  64.8             32.079             13.163\n",
      " minCGnP       0    75     -7.17  46.3             27.540              8.489\n",
      " minCGnP       0    76     -6.75  53.5             24.778              8.225\n",
      " minCGnP       0    77     -6.88  56.1             22.485              7.047\n",
      " minCGnP       0    78     -7.16  49.9             21.210              4.567\n",
      " minCGnP       0    79     -6.48  59.2             20.156              4.933\n",
      " minCGnP       0    80     -6.94  58.2             19.379              4.076\n",
      "---Stage-Seconds--Step-log(Alpha)--Dir-------------Energy-----------RMSforce\n",
      " minCGnP       0    81     -6.73  61.5             18.726              3.944\n",
      " minCGnP       0    82     -6.49  63.6             17.945              3.797\n",
      " minCGnP       0    83     -6.94  65.9             17.481              3.794\n",
      " minCGnP       0    84     -6.69  65.8             16.893              3.479\n",
      " minCGnP       0    85     -6.67  66.8             16.387              3.274\n",
      " minCGnP       0    86     -6.79  63.9             15.989              2.587\n",
      " minCGnP       0    87     -6.74  68.4             15.727              2.857\n",
      " minCGnP       0    88     -6.63  69.0             15.370              2.739\n",
      " minCGnP       0    89     -6.86  70.0             15.110              2.702\n",
      " minCGnP       0    90     -6.81  66.7             14.846              2.167\n",
      "---Stage-Seconds--Step-log(Alpha)--Dir-------------Energy-----------RMSforce\n",
      " minCGnP       0    91     -6.65  65.2             14.645              1.845\n",
      " minCGnP       0    92     -6.47  70.5             14.471              2.179\n",
      " minCGnP       0    93     -6.95  71.4             14.321              2.169\n",
      " minCGnP       0    94     -6.31  74.9             14.041              2.511\n",
      " minCGnP       0    95     -6.64  76.8             13.769              2.772\n",
      " minCGnP       0    96     -6.54  78.8             13.396              3.280\n",
      " minCGnP       0    97     -6.74  71.7             12.969              2.400\n",
      " minCGnP       0    98     -6.47  75.7             12.676              2.995\n",
      " minCGnP       0    99     -6.80  75.2             12.347              2.734\n",
      " minCGnP       0   100     -6.99  74.7             12.121              2.465\n",
      "---Stage-Seconds--Step-log(Alpha)--Dir-------------Energy-----------RMSforce\n",
      " minCGnP       0   101     -6.14  77.7             11.690              2.917\n",
      " minCGnP       0   102     -6.95  74.5             11.418              2.306\n",
      " minCGnP       0   103     -6.63  77.6             11.186              2.878\n",
      " minCGnP       0   104     -6.36  76.3             10.695              2.956\n",
      " minCGnP       0   105     -6.67  78.3             10.331              3.442\n",
      " minCGnP       0   106     -6.62  80.6              9.823              4.037\n",
      " minCGnP       0   107     -6.74  79.4              9.193              2.862\n",
      " minCGnP       0   108     -6.44  81.9              8.760              3.623\n",
      " minCGnP       0   109     -7.01  77.2              8.368              2.354\n",
      " minCGnP       0   110     -6.93  75.7              8.188              2.097\n",
      "---Stage-Seconds--Step-log(Alpha)--Dir-------------Energy-----------RMSforce\n",
      " minCGnP       0   111     -6.38  77.6              7.939              2.440\n",
      " minCGnP       0   112     -7.05  75.1              7.769              1.971\n",
      " minCGnP       0   113     -6.79  74.3              7.625              1.774\n",
      " minCGnP       0   114     -6.62  74.3              7.489              1.644\n",
      " minCGnP       0   115     -6.89  72.4              7.398              1.358\n",
      " minCGnP       0   116     -7.06  69.4              7.346              1.092\n",
      " minCGnP       0   117     -6.39  72.0              7.279              1.193\n",
      " minCGnP       0   118     -7.13  68.1              7.242              0.928\n",
      " minCGnP       0   119     -6.47  71.2              7.198              1.017\n",
      " minCGnP       0   120     -6.71  72.3              7.156              1.018\n",
      "---Stage-Seconds--Step-log(Alpha)--Dir-------------Energy-----------RMSforce\n",
      " minCGnP       0   121     -6.94  72.4              7.123              0.975\n",
      " minCGnP       0   122     -6.35  74.5              7.068              1.067\n",
      " minCGnP       0   123     -6.77  74.1              7.025              0.985\n",
      " minCGnP       0   124     -6.74  75.4              6.987              1.030\n",
      " minCGnP       0   125     -6.82  74.0              6.949              0.907\n",
      " minCGnP       0   126     -6.54  76.5              6.909              1.055\n",
      " minCGnP       0   127     -6.75  76.1              6.866              1.025\n",
      " minCGnP       0   128     -6.72  77.4              6.825              1.106\n",
      " minCGnP       0   129     -6.22  80.0              6.746              1.321\n",
      " minCGnP       0   130     -7.01  80.3              6.694              1.312\n",
      "---Stage-Seconds--Step-log(Alpha)--Dir-------------Energy-----------RMSforce\n",
      " minCGnP       0   131     -6.43  80.2              6.602              1.292\n",
      " minCGnP       0   132     -6.95  74.1              6.549              0.840\n",
      " minCGnP       0   133     -6.60  77.7              6.517              1.060\n",
      " minCGnP       0   134     -6.92  74.5              6.481              0.816\n",
      " minCGnP       0   135     -6.74   0.0              6.455              0.808\n",
      " minCGnP       0   136     -7.39  35.2              6.441              0.570\n",
      " minCGnP       0   137     -6.78  48.9              6.429              0.534\n",
      "DONE absolute force test:\n",
      "forceRmsMag(0.482187).LT.forceTolerance(0.500000)\n",
      "minimize-no-fail\n",
      "======= Starting Steepest Descent Minimizer\n",
      " minSDnP       0   138      -inf   0.0              0.000         135595.126\n",
      " minSDnP       0   139    -14.75   0.0          83891.525          50240.745\n",
      " minSDnP       0   140    -12.80   0.0          34000.802          23885.462\n",
      "DONE absolute force test:\n",
      "forceRmsMag(2856.114405).LT.forceTolerance(5000.000000)\n",
      "======= Starting Conjugate Gradient Minimizer\n",
      "---Stage-Seconds--Step-log(Alpha)--Dir-------------Energy-----------RMSforce\n",
      " minCGnP       0   141      -inf   0.0              0.000           2856.114\n",
      " minCGnP       0   142    -10.30  10.1           4993.968            511.258\n",
      " minCGnP       0   143     -8.86  38.9           4042.528            394.558\n",
      " minCGnP       0   144     -8.85  39.3           3428.501            247.491\n",
      " minCGnP       0   145     -8.74  26.3           3046.343            191.283\n",
      " minCGnP       0   146     -8.39  28.2           2710.584             91.301\n",
      " minCGnP       0   147     -8.92  30.7           2673.595             60.708\n",
      " minCGnP       0   148     -8.11  53.9           2637.134             71.957\n",
      " minCGnP       0   149     -8.21  52.1           2590.462             54.764\n",
      " minCGnP       0   150     -8.10  56.5           2560.722             50.684\n",
      "---Stage-Seconds--Step-log(Alpha)--Dir-------------Energy-----------RMSforce\n",
      " minCGnP       0   151     -8.08  53.3           2534.874             35.765\n",
      " minCGnP       0   152     -8.71  46.7           2527.780             24.705\n",
      " minCGnP       0   153     -8.58  51.0           2523.941             23.377\n",
      " minCGnP       0   154     -8.58  43.9           2521.010             16.959\n",
      " minCGnP       0   155     -7.92  58.4           2517.578             18.763\n",
      " minCGnP       0   156     -8.62  54.7           2515.513             14.082\n",
      " minCGnP       0   157     -8.11  67.8           2513.544             19.651\n",
      " minCGnP       0   158     -8.03  68.1           2509.401             18.083\n",
      " minCGnP       0   159     -8.03  67.6           2505.939             16.305\n",
      " minCGnP       0   160     -8.03  72.8           2503.084             20.319\n",
      "---Stage-Seconds--Step-log(Alpha)--Dir-------------Energy-----------RMSforce\n",
      " minCGnP       0   161     -8.11  70.5           2498.886             19.167\n",
      " minCGnP       0   162     -8.22  74.8           2495.623             24.301\n",
      " minCGnP       0   163     -8.41  70.6           2491.359             14.856\n",
      " minCGnP       0   164     -8.25  73.8           2489.441             16.348\n",
      " minCGnP       0   165     -8.37  66.7           2487.353             12.560\n",
      " minCGnP       0   166     -8.18  64.0           2485.904             10.423\n",
      " minCGnP       0   167     -8.38  63.4           2485.083              8.986\n",
      " minCGnP       0   168     -8.22  57.6           2484.362              6.247\n",
      " minCGnP       0   169     -7.95  68.1           2483.907              8.318\n",
      " minCGnP       0   170     -8.15  69.3           2483.255              8.220\n",
      "---Stage-Seconds--Step-log(Alpha)--Dir-------------Energy-----------RMSforce\n",
      " minCGnP       0   171     -8.28  71.5           2482.690              8.693\n",
      " minCGnP       0   172     -8.40  69.4           2482.130              7.482\n",
      " minCGnP       0   173     -8.39  63.5           2481.710              5.218\n",
      " minCGnP       0   174     -8.42  62.6           2481.512              4.472\n",
      " minCGnP       0   175     -7.89  67.4           2481.266              4.943\n",
      " minCGnP       0   176     -8.09  70.6           2481.020              5.376\n",
      " minCGnP       0   177     -7.99  71.0           2480.697              5.169\n",
      " minCGnP       0   178     -8.18  69.9           2480.449              4.616\n",
      " minCGnP       0   179     -8.24  70.0           2480.263              4.370\n",
      " minCGnP       0   180     -8.28  65.8           2480.104              3.339\n",
      "---Stage-Seconds--Step-log(Alpha)--Dir-------------Energy-----------RMSforce\n",
      " minCGnP       0   181     -8.41  68.6           2480.022              3.505\n",
      " minCGnP       0   182     -8.26  68.3           2479.917              3.225\n",
      " minCGnP       0   183     -8.32  68.4           2479.834              2.995\n",
      " minCGnP       0   184     -8.25  68.2           2479.757              2.739\n",
      " minCGnP       0   185     -7.92  69.6           2479.666              2.728\n",
      " minCGnP       0   186     -8.35  68.2           2479.608              2.384\n",
      " minCGnP       0   187     -8.36  58.6           2479.564              1.444\n",
      " minCGnP       0   188     -8.47  61.7           2479.550              1.395\n",
      " minCGnP       0   189     -8.20  66.0           2479.532              1.486\n",
      " minCGnP       0   190     -8.26  67.9           2479.514              1.493\n",
      "---Stage-Seconds--Step-log(Alpha)--Dir-------------Energy-----------RMSforce\n",
      " minCGnP       0   191     -8.26  68.0           2479.495              1.383\n",
      " minCGnP       0   192     -7.93  69.5           2479.472              1.387\n",
      " minCGnP       0   193     -8.50  64.5           2479.459              1.025\n",
      " minCGnP       0   194     -7.99  66.1           2479.447              0.994\n",
      " minCGnP       0   195     -8.28  67.7           2479.439              0.980\n",
      " minCGnP       0   196     -8.01  71.0           2479.428              1.077\n",
      " minCGnP       0   197     -8.32  72.6           2479.419              1.123\n",
      " minCGnP       0   198     -8.35  72.4           2479.409              1.062\n",
      " minCGnP       0   199     -7.91  75.7           2479.396              1.257\n",
      " minCGnP       0   200     -8.45  70.6           2479.384              0.880\n",
      "---Stage-Seconds--Step-log(Alpha)--Dir-------------Energy-----------RMSforce\n",
      " minCGnP       0   201     -7.93  73.9           2479.375              1.015\n",
      " minCGnP       0   202     -8.01  76.8           2479.364              1.201\n",
      " minCGnP       0   203     -7.91  78.3           2479.346              1.326\n",
      " minCGnP       0   204     -8.02  78.7           2479.327              1.364\n",
      " minCGnP       0   205     -8.45  77.7           2479.314              1.223\n",
      " minCGnP       0   206     -8.12  79.3           2479.300              1.370\n",
      " minCGnP       0   207     -8.51   0.0           2479.287              1.134\n",
      " minCGnP       0   208     -8.79  34.5           2479.281              0.781\n",
      " minCGnP       0   209     -8.32  54.6           2479.276              0.906\n",
      " minCGnP       0   210     -8.16  59.4           2479.268              0.886\n",
      "---Stage-Seconds--Step-log(Alpha)--Dir-------------Energy-----------RMSforce\n",
      " minCGnP       0   211     -7.69  67.4           2479.256              1.084\n",
      " minCGnP       0   212     -8.21  59.8           2479.246              0.710\n",
      " minCGnP       0   213     -7.39  60.4           2479.235              0.630\n",
      " minCGnP       0   214     -7.52  74.5           2479.228              1.119\n",
      " minCGnP       0   215     -7.76  71.8           2479.210              0.911\n",
      " minCGnP       0   216     -8.31  76.7           2479.204              1.211\n",
      " minCGnP       0   217     -8.22  68.4           2479.191              0.711\n",
      " minCGnP       0   218     -8.07  73.1           2479.185              0.860\n",
      " minCGnP       0   219     -7.46  76.4           2479.171              1.031\n",
      " minCGnP       0   220     -7.74  78.8           2479.156              1.226\n",
      "---Stage-Seconds--Step-log(Alpha)--Dir-------------Energy-----------RMSforce\n",
      " minCGnP       0   221     -7.54  78.8           2479.130              1.204\n",
      " minCGnP       0   222     -8.54  80.0           2479.121              1.310\n",
      " minCGnP       0   223     -8.28  75.4           2479.106              0.869\n",
      " minCGnP       0   224     -7.34  81.5           2479.090              1.475\n",
      " minCGnP       0   225     -8.11  77.7           2479.068              1.012\n",
      " minCGnP       0   226     -7.34  82.8           2479.047              1.702\n",
      " minCGnP       0   227     -7.93  80.8           2479.012              1.291\n",
      " minCGnP       0   228     -8.82  80.5           2479.004              1.236\n",
      " minCGnP       0   229     -7.18  80.9           2478.965              1.287\n",
      " minCGnP       0   230     -8.54  79.5           2478.955              1.101\n",
      "---Stage-Seconds--Step-log(Alpha)--Dir-------------Energy-----------RMSforce\n",
      " minCGnP       0   231     -6.42  84.0           2478.890              1.954\n",
      " minCGnP       0   232     -8.46  84.8           2478.863              2.201\n",
      " minCGnP       0   233     -8.10  85.1           2478.814              2.376\n",
      " minCGnP       0   234     -8.37  83.4           2478.771              1.761\n",
      " minCGnP       0   235     -7.97  82.8           2478.736              1.621\n",
      " minCGnP       0   236     -7.82  84.2           2478.701              1.979\n",
      " minCGnP       0   237     -6.78  87.2           2478.551              3.895\n",
      " minCGnP       0   238     -9.28  78.1           2478.503              1.711\n",
      " minCGnP       0   239     -7.98  79.6           2478.470              1.908\n",
      " minCGnP       0   240     -8.40  77.6           2478.443              1.553\n",
      "---Stage-Seconds--Step-log(Alpha)--Dir-------------Energy-----------RMSforce\n",
      " minCGnP       0   241     -8.62  78.0           2478.429              1.573\n",
      " minCGnP       0   242     -7.74  80.5           2478.393              1.974\n",
      " minCGnP       0   243     -8.18  77.9           2478.357              1.512\n",
      " minCGnP       0   244     -8.28  80.4           2478.338              1.871\n",
      " minCGnP       0   245     -8.57  76.5           2478.316              1.277\n",
      " minCGnP       0   246     -7.57  79.6           2478.289              1.631\n",
      " minCGnP       0   247     -8.60  75.1           2478.272              1.113\n",
      " minCGnP       0   248     -8.75  73.9           2478.266              0.994\n",
      " minCGnP       0   249     -7.79  76.6           2478.252              1.155\n",
      " minCGnP       0   250     -8.11  76.4           2478.239              1.105\n",
      "---Stage-Seconds--Step-log(Alpha)--Dir-------------Energy-----------RMSforce\n",
      " minCGnP       0   251     -8.00  81.5           2478.225              1.737\n",
      " minCGnP       0   252     -8.52  71.7           2478.206              0.802\n",
      " minCGnP       0   253     -7.84  75.9           2478.197              1.004\n",
      " minCGnP       0   254     -8.46  75.6           2478.190              0.951\n",
      " minCGnP       0   255     -8.23  79.2           2478.182              1.243\n",
      " minCGnP       0   256     -7.85  75.8           2478.162              0.902\n",
      " minCGnP       0   257     -8.19  76.0           2478.155              0.893\n",
      " minCGnP       0   258     -8.81  72.2           2478.151              0.674\n",
      " minCGnP       0   259     -8.25  72.4           2478.147              0.646\n",
      " minCGnP       0   260     -6.71  82.6           2478.130              1.510\n",
      "---Stage-Seconds--Step-log(Alpha)--Dir-------------Energy-----------RMSforce\n",
      " minCGnP       0   261     -8.85  77.1           2478.119              0.870\n",
      " minCGnP       0   262     -8.66  75.8           2478.115              0.765\n",
      " minCGnP       0   263     -7.67  74.9           2478.106              0.694\n",
      " minCGnP       0   264     -8.28  76.9           2478.102              0.779\n",
      " minCGnP       0   265     -8.50  76.8           2478.098              0.753\n",
      " minCGnP       0   266     -7.99  77.7           2478.092              0.788\n",
      " minCGnP       0   267     -7.30  82.0           2478.078              1.194\n",
      " minCGnP       0   268     -8.86  79.9           2478.071              0.924\n",
      " minCGnP       0   269     -7.76  83.5           2478.059              1.424\n",
      " minCGnP       0   270     -8.02  80.3           2478.037              0.986\n",
      "---Stage-Seconds--Step-log(Alpha)--Dir-------------Energy-----------RMSforce\n",
      " minCGnP       0   271     -8.23  82.6           2478.028              1.276\n",
      " minCGnP       0   272     -8.28  83.1           2478.015              1.358\n",
      " minCGnP       0   273     -8.20   0.0           2477.998              0.930\n",
      " minCGnP       0   274     -8.16  42.2           2477.990              0.844\n",
      " minCGnP       0   275     -8.40  49.8           2477.985              0.740\n",
      " minCGnP       0   276     -8.60  53.8           2477.981              0.652\n",
      " minCGnP       0   277     -8.04  57.9           2477.977              0.614\n",
      " minCGnP       0   278     -8.09  61.1           2477.973              0.591\n",
      " minCGnP       0   279     -7.37  62.8           2477.966              0.557\n",
      " minCGnP       0   280     -7.46  71.2           2477.960              0.749\n",
      "---Stage-Seconds--Step-log(Alpha)--Dir-------------Energy-----------RMSforce\n",
      " minCGnP       0   281     -8.32  64.6           2477.955              0.508\n",
      " minCGnP       0   282     -7.93  74.4           2477.952              0.778\n",
      " minCGnP       0   283     -8.26  74.2           2477.947              0.740\n",
      " minCGnP       0   284     -8.39  71.7           2477.943              0.610\n",
      " minCGnP       0   285     -6.97  72.6           2477.932              0.608\n",
      " minCGnP       0   286     -7.62  77.6           2477.926              0.823\n",
      "DONE absolute force test:\n",
      "forceRmsMag(0.471979).LT.forceTolerance(0.500000)\n"
     ]
    },
    {
     "data": {
      "text/plain": [
       "*EE*"
      ]
     },
     "execution_count": 15,
     "metadata": {},
     "output_type": "execute_result"
    }
   ],
   "source": [
    "(defparameter *ee* (energy:minimize *chemagg*))"
   ]
  },
  {
   "cell_type": "markdown",
   "metadata": {},
   "source": [
    "#### Visualize the minimized structure and demonstrate that the force field parameters lead to the construction of a chemically"
   ]
  },
  {
   "cell_type": "markdown",
   "metadata": {},
   "source": [
    "#### reasonable structure."
   ]
  },
  {
   "cell_type": "code",
   "execution_count": 35,
   "metadata": {},
   "outputs": [
    {
     "name": "stderr",
     "output_type": "stream",
     "text": [
      "SIMPLE-PROGRAM-ERROR: \n",
      "The symbol NGLV::SHOW-AGGREGATE has no function bound to it\n"
     ]
    },
    {
     "data": {
      "text/plain": [
       "NIL"
      ]
     },
     "execution_count": 35,
     "metadata": {},
     "output_type": "execute_result"
    }
   ],
   "source": [
    "(nglv::show-aggregate *chemagg*)"
   ]
  },
  {
   "cell_type": "code",
   "execution_count": 16,
   "metadata": {},
   "outputs": [
    {
     "data": {
      "application/vnd.jupyter.widget-view+json": {
       "model_id": "557CF06E-3F85-4906-96E7-AB5AF06146E0",
       "version_major": 2,
       "version_minor": 0
      },
      "text/html": [
       "<p>Failed to display Jupyter Widget of type <code>{widget_type}</code>.</p>\n",
       "<p>\n",
       "  If you're reading this message in the Jupyter Notebook or JupyterLab Notebook, it may mean\n",
       "  that the widgets JavaScript is still loading. If this message persists, it\n",
       "  likely means that the widgets JavaScript library is either not installed or\n",
       "  not enabled. See the <a href=\"https://ipywidgets.readthedocs.io/en/stable/user_install.html\">Jupyter\n",
       "  Widgets Documentation</a> for setup instructions.\n",
       "</p>\n",
       "<p>\n",
       "  If you're reading this message in another frontend (for example, a static\n",
       "  rendering on GitHub or <a href=\"https://nbviewer.jupyter.org/\">NBViewer</a>),\n",
       "  it may mean that your frontend doesn't currently support widgets.\n",
       "</p>\n"
      ],
      "text/plain": [
       "A Jupyter Widget"
      ]
     },
     "execution_count": 16,
     "metadata": {},
     "output_type": "execute_result"
    }
   ],
   "source": [
    "(cando::show-aggregate *chemagg*)"
   ]
  },
  {
   "cell_type": "code",
   "execution_count": 21,
   "metadata": {},
   "outputs": [
    {
     "data": {
      "text/plain": [
       "0"
      ]
     },
     "execution_count": 21,
     "metadata": {},
     "output_type": "execute_result"
    }
   ],
   "source": [
    "(charges:calculate-am1-bcc-charges *chemagg*)"
   ]
  },
  {
   "cell_type": "code",
   "execution_count": 44,
   "metadata": {},
   "outputs": [
    {
     "name": "stdout",
     "output_type": "stream",
     "text": [
      "Saving matter to /Users/tuj24515/Development/clasp/extensions/cando/src/tests/alanine-demo/alanine.mol2\n"
     ]
    },
    {
     "data": {
      "text/plain": [
       "NIL"
      ]
     },
     "execution_count": 44,
     "metadata": {},
     "output_type": "execute_result"
    }
   ],
   "source": [
    "(save-mol2 *chemagg* \"alanine.mol2\")"
   ]
  },
  {
   "cell_type": "markdown",
   "metadata": {},
   "source": [
    "#### Assign atom types and change one of them for alanine atom type definition."
   ]
  },
  {
   "cell_type": "code",
   "execution_count": 22,
   "metadata": {},
   "outputs": [
    {
     "data": {
      "text/plain": [
       "NIL"
      ]
     },
     "execution_count": 22,
     "metadata": {},
     "output_type": "execute_result"
    }
   ],
   "source": [
    "(assign-atom-types *chemagg*)\n",
    "(chem:map-atoms 'nil (lambda (a) (if (eq (chem:get-type a) :CT)\n",
    "                                     (if (eq (chem:get-name a) :C)\n",
    "                                         (chem:set-type a :CX)))) *chemagg*)"
   ]
  },
  {
   "cell_type": "markdown",
   "metadata": {},
   "source": [
    "#### Save the topology file and coordinate file."
   ]
  },
  {
   "cell_type": "code",
   "execution_count": 23,
   "metadata": {},
   "outputs": [
    {
     "data": {
      "text/plain": [
       "T"
      ]
     },
     "execution_count": 23,
     "metadata": {},
     "output_type": "execute_result"
    }
   ],
   "source": [
    "(leap.topology:save-amber-parm-format *chemagg* \"chemagg.top\" \"chemagg.crd\" :assign-types nil)"
   ]
  },
  {
   "cell_type": "markdown",
   "metadata": {},
   "source": [
    "## Create topology and coordinate file for Alanine and water atoms."
   ]
  },
  {
   "cell_type": "markdown",
   "metadata": {},
   "source": [
    "#### Load Tip3pfbox water box."
   ]
  },
  {
   "cell_type": "code",
   "execution_count": 47,
   "metadata": {},
   "outputs": [
    {
     "data": {
      "text/plain": [
       "(:TIP3PFBOX)"
      ]
     },
     "execution_count": 47,
     "metadata": {},
     "output_type": "execute_result"
    }
   ],
   "source": [
    "(load-off \"tip3pfbox.off\")"
   ]
  },
  {
   "cell_type": "markdown",
   "metadata": {},
   "source": [
    "#### Make agggregate of the water box."
   ]
  },
  {
   "cell_type": "code",
   "execution_count": 48,
   "metadata": {},
   "outputs": [
    {
     "name": "stdout",
     "output_type": "stream",
     "text": [
      "\n",
      "#<AGGREGATE NIL> "
     ]
    },
    {
     "data": {
      "text/plain": [
       "#<AGGREGATE NIL>"
      ]
     },
     "execution_count": 48,
     "metadata": {},
     "output_type": "execute_result"
    }
   ],
   "source": [
    "(print ~tip3pfbox)"
   ]
  },
  {
   "cell_type": "code",
   "execution_count": 49,
   "metadata": {},
   "outputs": [
    {
     "data": {
      "text/plain": [
       "*SOLVENT*"
      ]
     },
     "execution_count": 49,
     "metadata": {},
     "output_type": "execute_result"
    }
   ],
   "source": [
    "(defparameter *solvent* ~tip3pfbox)"
   ]
  },
  {
   "cell_type": "code",
   "execution_count": 43,
   "metadata": {},
   "outputs": [
    {
     "name": "stderr",
     "output_type": "stream",
     "text": [
      "SIMPLE-PROGRAM-ERROR: \n",
      "The symbol NGLV::SHOW-AGGREGATE has no function bound to it\n"
     ]
    },
    {
     "data": {
      "text/plain": [
       "NIL"
      ]
     },
     "execution_count": 43,
     "metadata": {},
     "output_type": "execute_result"
    }
   ],
   "source": [
    "(nglv::show-aggregate *solvent*)"
   ]
  },
  {
   "cell_type": "markdown",
   "metadata": {},
   "source": [
    "#### Assign the atom types of the force field to the water box."
   ]
  },
  {
   "cell_type": "code",
   "execution_count": 50,
   "metadata": {},
   "outputs": [
    {
     "data": {
      "text/plain": [
       "NIL"
      ]
     },
     "execution_count": 50,
     "metadata": {},
     "output_type": "execute_result"
    }
   ],
   "source": [
    "(assign-atom-types *solvent*)"
   ]
  },
  {
   "cell_type": "markdown",
   "metadata": {},
   "source": [
    "#### Add Tip3p water molecules to the alanine."
   ]
  },
  {
   "cell_type": "code",
   "execution_count": 51,
   "metadata": {},
   "outputs": [
    {
     "name": "stdout",
     "output_type": "stream",
     "text": [
      "Total bounding box for atom centers:  29.912177327655d0 25.675470742219375d0 23.684818054620703d0\n"
     ]
    },
    {
     "data": {
      "text/plain": [
       "NIL"
      ]
     },
     "execution_count": 51,
     "metadata": {},
     "output_type": "execute_result"
    }
   ],
   "source": [
    "(leap.solvate::tool-solvate-and-shell *chemagg* *solvent* '(10.0 10.0 10.0))"
   ]
  },
  {
   "cell_type": "code",
   "execution_count": 48,
   "metadata": {},
   "outputs": [
    {
     "name": "stderr",
     "output_type": "stream",
     "text": [
      "SIMPLE-PROGRAM-ERROR: \n",
      "The symbol NGLV::SHOW-AGGREGATE has no function bound to it\n"
     ]
    },
    {
     "data": {
      "text/plain": [
       "NIL"
      ]
     },
     "execution_count": 48,
     "metadata": {},
     "output_type": "execute_result"
    }
   ],
   "source": [
    "(nglv::show-aggregate *newagg*)"
   ]
  },
  {
   "cell_type": "code",
   "execution_count": 52,
   "metadata": {},
   "outputs": [
    {
     "data": {
      "application/vnd.jupyter.widget-view+json": {
       "model_id": "9B287C97-26CF-40DF-8FA9-D44154776C01",
       "version_major": 2,
       "version_minor": 0
      },
      "text/html": [
       "<p>Failed to display Jupyter Widget of type <code>{widget_type}</code>.</p>\n",
       "<p>\n",
       "  If you're reading this message in the Jupyter Notebook or JupyterLab Notebook, it may mean\n",
       "  that the widgets JavaScript is still loading. If this message persists, it\n",
       "  likely means that the widgets JavaScript library is either not installed or\n",
       "  not enabled. See the <a href=\"https://ipywidgets.readthedocs.io/en/stable/user_install.html\">Jupyter\n",
       "  Widgets Documentation</a> for setup instructions.\n",
       "</p>\n",
       "<p>\n",
       "  If you're reading this message in another frontend (for example, a static\n",
       "  rendering on GitHub or <a href=\"https://nbviewer.jupyter.org/\">NBViewer</a>),\n",
       "  it may mean that your frontend doesn't currently support widgets.\n",
       "</p>\n"
      ],
      "text/plain": [
       "A Jupyter Widget"
      ]
     },
     "execution_count": 52,
     "metadata": {},
     "output_type": "execute_result"
    }
   ],
   "source": [
    "(show *chemagg*)"
   ]
  },
  {
   "cell_type": "markdown",
   "metadata": {},
   "source": [
    "#### Save the topology and coordinate file. New aggregate contains water molecules and alanine."
   ]
  },
  {
   "cell_type": "code",
   "execution_count": 53,
   "metadata": {},
   "outputs": [
    {
     "data": {
      "text/plain": [
       "NIL"
      ]
     },
     "execution_count": 53,
     "metadata": {},
     "output_type": "execute_result"
    }
   ],
   "source": [
    "(assign-atom-types *chemagg*)\n",
    "(chem:map-atoms 'nil (lambda (a) (if (eq (chem:get-type a) :CT)\n",
    "                                     (if (eq (chem:get-name a) :C)\n",
    "                                         (chem:set-type a :CX)))) *chemagg*)"
   ]
  },
  {
   "cell_type": "code",
   "execution_count": 54,
   "metadata": {},
   "outputs": [
    {
     "data": {
      "text/plain": [
       "T"
      ]
     },
     "execution_count": 54,
     "metadata": {},
     "output_type": "execute_result"
    }
   ],
   "source": [
    "(leap.topology:save-amber-parm-format *chemagg* \"chemagg_water.top\" \"chemagg_water.crd\" :assign-types nil)"
   ]
  },
  {
   "cell_type": "markdown",
   "metadata": {},
   "source": [
    "#### Calculate each energy parameters."
   ]
  },
  {
   "cell_type": "code",
   "execution_count": 31,
   "metadata": {},
   "outputs": [
    {
     "data": {
      "text/plain": [
       "1720.1189821006878d0"
      ]
     },
     "execution_count": 31,
     "metadata": {},
     "output_type": "execute_result"
    }
   ],
   "source": [
    "(chem:get-energy (chem:get-stretch-component *e*))"
   ]
  },
  {
   "cell_type": "code",
   "execution_count": 32,
   "metadata": {},
   "outputs": [
    {
     "data": {
      "text/plain": [
       "0.30171081698364277d0"
      ]
     },
     "execution_count": 32,
     "metadata": {},
     "output_type": "execute_result"
    }
   ],
   "source": [
    "(chem:get-energy (chem:get-angle-component *e*))"
   ]
  },
  {
   "cell_type": "code",
   "execution_count": 33,
   "metadata": {},
   "outputs": [
    {
     "data": {
      "text/plain": [
       "5.456751705606037d0"
      ]
     },
     "execution_count": 33,
     "metadata": {},
     "output_type": "execute_result"
    }
   ],
   "source": [
    "(chem:get-energy (chem:get-dihedral-component *e*))"
   ]
  },
  {
   "cell_type": "code",
   "execution_count": 34,
   "metadata": {},
   "outputs": [
    {
     "data": {
      "text/plain": [
       "658.8024508583202d0"
      ]
     },
     "execution_count": 34,
     "metadata": {},
     "output_type": "execute_result"
    }
   ],
   "source": [
    "(chem:get-energy (chem:get-nonbond-component *e*))"
   ]
  },
  {
   "cell_type": "code",
   "execution_count": 34,
   "metadata": {},
   "outputs": [
    {
     "name": "stdout",
     "output_type": "stream",
     "text": [
      "CHEM:ADD-SUPERPOSE-ATOM  Function\n",
      "CHEM:CLEAR-SUPERPOSE-ATOMS  Function\n",
      "CHEM:SET-FINAL-COORDINATES-AS-FIXED-WITHIN-SUPERPOSE-ENGINE  Function\n",
      "CHEM:SET-FINAL-COORDINATES-AS-MOVEABLE-WITHIN-SUPERPOSE-ENGINE  Function\n",
      "CHEM:SET-SUPERPOSABLE-COORDINATES-AS-FIXED-WITHIN-SUPERPOSE-ENGINE  Function\n",
      "CHEM:SET-SUPERPOSABLE-COORDINATES-AS-MOVEABLE-WITHIN-SUPERPOSE-ENGINE  Function\n",
      "CHEM:SUPERPOSE  Function\n",
      "CANDO::SUPERPOSE-AGAINST-TEMPLATE  Function\n",
      "CANDO::SUPERPOSE-ALL  Function\n",
      "CHEM:SUPERPOSE-ALL-HEAVY-ATOMS  Function\n",
      "CHEM:SUPERPOSE-ENGINE\n",
      "CANDO::SUPERPOSE-ONE  Function\n",
      "CHEM:SUPERPOSE-SELECTED-ATOMS\n",
      "CHEM::SUPERPOSER\n"
     ]
    },
    {
     "data": {
      "text/plain": [
       "NIL"
      ]
     },
     "execution_count": 34,
     "metadata": {},
     "output_type": "execute_result"
    }
   ],
   "source": [
    "(apropos \"superpose\")"
   ]
  },
  {
   "cell_type": "code",
   "execution_count": 88,
   "metadata": {},
   "outputs": [
    {
     "data": {
      "application/vnd.jupyter.widget-view+json": {
       "model_id": "E7E4F0CF-9CCE-4EF5-B403-2ED852FB34F2",
       "version_major": 2,
       "version_minor": 0
      },
      "text/plain": [
       "A Jupyter Widget"
      ]
     },
     "execution_count": 88,
     "metadata": {},
     "output_type": "execute_result"
    }
   ],
   "source": [
    "(:= w (show *chemagg*)) w"
   ]
  },
  {
   "cell_type": "code",
   "execution_count": 93,
   "metadata": {
    "scrolled": true
   },
   "outputs": [
    {
     "data": {
      "text/plain": [
       "((\"atom\" (\"index\" . 20) (\"residueIndex\" . 2) (\"resname\" . \"NIL_3\")\n",
       "  (\"x\" . 216.329) (\"y\" . 322.549) (\"z\" . -0.62) (\"element\" . \"H\")\n",
       "  (\"chainname\" . \"A\") (\"resno\" . 3) (\"serial\" . 21) (\"vdw\" . 1.1)\n",
       "  (\"covalent\" . 0.31) (\"hetero\" . 1) (\"bfactor\" . 0) (\"altloc\" . \"\")\n",
       "  (\"atomname\" . \"HH33\")))"
      ]
     },
     "execution_count": 93,
     "metadata": {},
     "output_type": "execute_result"
    }
   ],
   "source": [
    "(nglv::picked w)"
   ]
  },
  {
   "cell_type": "code",
   "execution_count": 94,
   "metadata": {},
   "outputs": [
    {
     "data": {
      "text/plain": [
       "DISTANCE"
      ]
     },
     "execution_count": 94,
     "metadata": {},
     "output_type": "execute_result"
    }
   ],
   "source": [
    "(defun distance (p1 p2) (geom:vlength (geom:v- p1 p2)))"
   ]
  },
  {
   "cell_type": "code",
   "execution_count": 95,
   "metadata": {},
   "outputs": [
    {
     "data": {
      "text/plain": [
       "*A*"
      ]
     },
     "execution_count": 95,
     "metadata": {},
     "output_type": "execute_result"
    }
   ],
   "source": [
    "(:= *a* (let* ((picked (nglv::picked w))\n",
    "       (atom (cdr (assoc \"atom\" picked :test #'string=)))\n",
    "       (x (cdr (assoc \"x\" atom :test #'string=)))\n",
    "       (y (cdr (assoc \"y\" atom :test #'string=)))\n",
    "       (z (cdr (assoc \"z\" atom :test #'string=)))\n",
    "       (pos (geom:vec x y z))\n",
    "        resulta)\n",
    "     (chem:map-atoms nil (lambda (a) \n",
    "                                 (when (< (distance pos (chem:get-position a)) 0.01) \n",
    "                                     (setf resulta a))) *chemagg*)\n",
    "              resulta))"
   ]
  },
  {
   "cell_type": "code",
   "execution_count": 96,
   "metadata": {},
   "outputs": [
    {
     "data": {
      "text/plain": [
       "#<ATOM :HH33/:H>"
      ]
     },
     "execution_count": 96,
     "metadata": {},
     "output_type": "execute_result"
    }
   ],
   "source": [
    "*a*"
   ]
  },
  {
   "cell_type": "code",
   "execution_count": 97,
   "metadata": {},
   "outputs": [
    {
     "data": {
      "text/plain": [
       "*P*"
      ]
     },
     "execution_count": 97,
     "metadata": {},
     "output_type": "execute_result"
    }
   ],
   "source": [
    "(:= *p* (core:make-cxx-object 'chem:chem-info))"
   ]
  },
  {
   "cell_type": "code",
   "execution_count": 98,
   "metadata": {},
   "outputs": [
    {
     "data": {
      "text/plain": [
       "T"
      ]
     },
     "execution_count": 98,
     "metadata": {},
     "output_type": "execute_result"
    }
   ],
   "source": [
    "(chem:compile-smarts *p* \"CC\")"
   ]
  },
  {
   "cell_type": "code",
   "execution_count": 99,
   "metadata": {},
   "outputs": [
    {
     "data": {
      "text/plain": [
       "NIL"
      ]
     },
     "execution_count": 99,
     "metadata": {},
     "output_type": "execute_result"
    }
   ],
   "source": [
    "(chem:matches *p* *a*)"
   ]
  },
  {
   "cell_type": "code",
   "execution_count": null,
   "metadata": {
    "collapsed": true
   },
   "outputs": [],
   "source": []
  },
  {
   "cell_type": "code",
   "execution_count": null,
   "metadata": {
    "collapsed": true
   },
   "outputs": [],
   "source": []
  }
 ],
 "metadata": {
  "kernelspec": {
   "display_name": "Cando",
   "language": "lisp",
   "name": "lisp"
  },
  "language_info": {
   "codemirror_mode": "text/x-common-lisp",
   "mimetype": "text/x-common-lisp",
   "name": "common-lisp",
   "pygments_lexer": "common-lisp",
   "version": "X3J13"
  }
 },
 "nbformat": 4,
 "nbformat_minor": 2
}
