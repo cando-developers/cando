{
 "cells": [
  {
   "cell_type": "markdown",
   "metadata": {},
   "source": [
    "## Set the enviroments."
   ]
  },
  {
   "cell_type": "markdown",
   "metadata": {},
   "source": [
    "#### Connect to slime."
   ]
  },
  {
   "cell_type": "code",
   "execution_count": 1,
   "metadata": {
    "scrolled": true
   },
   "outputs": [
    {
     "data": {
      "text/plain": [
       "T"
      ]
     },
     "execution_count": 1,
     "metadata": {},
     "output_type": "execute_result"
    }
   ],
   "source": [
    "(start-swank)"
   ]
  },
  {
   "cell_type": "markdown",
   "metadata": {},
   "source": [
    "#### Add paths."
   ]
  },
  {
   "cell_type": "code",
   "execution_count": 2,
   "metadata": {
    "scrolled": true
   },
   "outputs": [
    {
     "data": {
      "text/plain": [
       "(#P\"/Users/tuj24515/Development/amber16/dat/antechamber/\"\n",
       " #P\"/Users/tuj24515/Development/amber16/dat/leap/prep/\"\n",
       " #P\"/Users/tuj24515/Development/amber16/dat/leap/parm/\"\n",
       " #P\"/Users/tuj24515/Development/amber16/dat/leap/lib/\"\n",
       " #P\"/Users/tuj24515/Development/amber16/dat/leap/cmd/\"\n",
       " #P\"/Users/tuj24515/Development/clasp/extensions/cando/src/tests/alanine-demo/\")"
      ]
     },
     "execution_count": 2,
     "metadata": {},
     "output_type": "execute_result"
    }
   ],
   "source": [
    "(leap.core::clear-path)\n",
    "(add-path *default-pathname-defaults*)\n",
    "(add-path \"~/Development/amber16/dat/leap/cmd/\")\n",
    "(add-path \"~/Development/amber16/dat/leap/lib/\")\n",
    "(add-path \"~/Development/amber16/dat/leap/parm/\")\n",
    "(add-path \"~/Development/amber16/dat/leap/prep/\")\n",
    "(add-path \"~/Development/amber16/dat/antechamber/\")"
   ]
  },
  {
   "cell_type": "markdown",
   "metadata": {},
   "source": [
    "#### Load the amber force field."
   ]
  },
  {
   "cell_type": "code",
   "execution_count": 3,
   "metadata": {},
   "outputs": [
    {
     "data": {
      "text/plain": [
       "(#<FORCE-FIELD ATOMTYPE_AMBER.DEF>)"
      ]
     },
     "execution_count": 3,
     "metadata": {},
     "output_type": "execute_result"
    }
   ],
   "source": [
    "(load-atom-type-rules \"ATOMTYPE_AMBER.DEF\")"
   ]
  },
  {
   "cell_type": "code",
   "execution_count": 4,
   "metadata": {
    "scrolled": true
   },
   "outputs": [
    {
     "name": "stderr",
     "output_type": "stream",
     "text": [
      "SIMPLE-WARNING: \n",
      "add-atom-types doesn't do anything\n",
      "SIMPLE-WARNING: \n",
      "Warning!  Skipping 10-12 hbond\n",
      "SIMPLE-WARNING: \n",
      "Warning!  Skipping force field atom equivalences\n"
     ]
    },
    {
     "data": {
      "text/plain": [
       "T"
      ]
     },
     "execution_count": 4,
     "metadata": {},
     "output_type": "execute_result"
    }
   ],
   "source": [
    "(source \"leaprc.protein.ff14SB\")"
   ]
  },
  {
   "cell_type": "code",
   "execution_count": 5,
   "metadata": {},
   "outputs": [
    {
     "data": {
      "text/plain": [
       "(#<FORCE-FIELD water_amber.def> #<FORCE-FIELD frcmod.ff14SB>\n",
       " #<FORCE-FIELD parm10.dat> #<FORCE-FIELD ATOMTYPE_AMBER.DEF>)"
      ]
     },
     "execution_count": 5,
     "metadata": {},
     "output_type": "execute_result"
    }
   ],
   "source": [
    "(load-atom-type-rules \"water_amber.def\")"
   ]
  },
  {
   "cell_type": "code",
   "execution_count": 6,
   "metadata": {
    "scrolled": true
   },
   "outputs": [
    {
     "data": {
      "text/plain": [
       "*FF*"
      ]
     },
     "execution_count": 6,
     "metadata": {},
     "output_type": "execute_result"
    }
   ],
   "source": [
    "(:= *ff* (leap.core::merged-force-field))"
   ]
  },
  {
   "cell_type": "markdown",
   "metadata": {},
   "source": [
    "## Create topology and coordinate file for Alanine"
   ]
  },
  {
   "cell_type": "markdown",
   "metadata": {},
   "source": [
    "#### Load the alanine from Chemdraw file."
   ]
  },
  {
   "cell_type": "code",
   "execution_count": 136,
   "metadata": {
    "scrolled": true
   },
   "outputs": [
    {
     "data": {
      "text/plain": [
       "*CHEMAGG*"
      ]
     },
     "execution_count": 136,
     "metadata": {},
     "output_type": "execute_result"
    }
   ],
   "source": [
    "(defparameter *chemagg* (cando:load-chem-draw-aggregate \"alanine2.cdxml\"))"
   ]
  },
  {
   "cell_type": "code",
   "execution_count": 137,
   "metadata": {},
   "outputs": [
    {
     "data": {
      "text/plain": [
       "NIL"
      ]
     },
     "execution_count": 137,
     "metadata": {},
     "output_type": "execute_result"
    }
   ],
   "source": [
    "(build-hydrogens *chemagg*)"
   ]
  },
  {
   "cell_type": "code",
   "execution_count": 138,
   "metadata": {},
   "outputs": [
    {
     "data": {
      "application/vnd.jupyter.widget-view+json": {
       "model_id": "D1744A9C-1032-46E7-B375-990A54F5277D",
       "version_major": 2,
       "version_minor": 0
      },
      "text/html": [
       "<p>Failed to display Jupyter Widget of type <code>{widget_type}</code>.</p>\n",
       "<p>\n",
       "  If you're reading this message in the Jupyter Notebook or JupyterLab Notebook, it may mean\n",
       "  that the widgets JavaScript is still loading. If this message persists, it\n",
       "  likely means that the widgets JavaScript library is either not installed or\n",
       "  not enabled. See the <a href=\"https://ipywidgets.readthedocs.io/en/stable/user_install.html\">Jupyter\n",
       "  Widgets Documentation</a> for setup instructions.\n",
       "</p>\n",
       "<p>\n",
       "  If you're reading this message in another frontend (for example, a static\n",
       "  rendering on GitHub or <a href=\"https://nbviewer.jupyter.org/\">NBViewer</a>),\n",
       "  it may mean that your frontend doesn't currently support widgets.\n",
       "</p>\n"
      ],
      "text/plain": [
       "A Jupyter Widget"
      ]
     },
     "execution_count": 138,
     "metadata": {},
     "output_type": "execute_result"
    }
   ],
   "source": [
    "(cando::show-aggregate *chemagg*)"
   ]
  },
  {
   "cell_type": "code",
   "execution_count": 139,
   "metadata": {},
   "outputs": [
    {
     "name": "stderr",
     "output_type": "stream",
     "text": [
      "An error occurred of type: UNDEFINED-FUNCTION: \n",
      "  #<UNDEFINED-FUNCTION>\n"
     ]
    },
    {
     "data": {
      "text/plain": [
       "NIL"
      ]
     },
     "execution_count": 139,
     "metadata": {},
     "output_type": "execute_result"
    }
   ],
   "source": [
    "(nglv::show-aggregate *chemagg*)"
   ]
  },
  {
   "cell_type": "markdown",
   "metadata": {},
   "source": [
    "#### Gather atoms to the center."
   ]
  },
  {
   "cell_type": "code",
   "execution_count": 140,
   "metadata": {},
   "outputs": [
    {
     "name": "stdout",
     "output_type": "stream",
     "text": [
      "C_0    S\n"
     ]
    },
    {
     "data": {
      "text/plain": [
       "NIL"
      ]
     },
     "execution_count": 140,
     "metadata": {},
     "output_type": "execute_result"
    }
   ],
   "source": [
    "(progn\n",
    "  (defparameter *stereocenters*\n",
    "    (sort (cando:gather-stereocenters *chemagg*) #'string< :key #'chem:get-name))\n",
    "  (cando:set-stereoisomer-func *stereocenters* (constantly :S) :show t)\n",
    "  (let ((quat-matcher (core:make-cxx-object 'chem:chem-info)))\n",
    "    (chem:compile-smarts quat-matcher \"[C&H0&D4]\")\n",
    "    (chem:map-atoms nil (lambda (a) (when (chem:matches quat-matcher a)\n",
    "                  (chem:set-configuration a :S)\n",
    "                  (format t \"Set atom ~a to :S~%\" (chem:get-name a))))\n",
    "            *chemagg*)))"
   ]
  },
  {
   "cell_type": "markdown",
   "metadata": {},
   "source": [
    "#### Set the bounding box."
   ]
  },
  {
   "cell_type": "markdown",
   "metadata": {},
   "source": [
    "#### Assign atom types and change one of them for alanine atom type definition."
   ]
  },
  {
   "cell_type": "code",
   "execution_count": 142,
   "metadata": {},
   "outputs": [
    {
     "data": {
      "text/plain": [
       "NIL"
      ]
     },
     "execution_count": 142,
     "metadata": {},
     "output_type": "execute_result"
    }
   ],
   "source": [
    "(assign-atom-types *chemagg*)\n",
    "(chem:map-atoms 'nil (lambda (a) (if (eq (chem:get-type a) :CT)\n",
    "                                     (if (eq (chem:get-name a) :C_0)\n",
    "                                         (chem:set-type a :CX)))) *chemagg*)"
   ]
  },
  {
   "cell_type": "code",
   "execution_count": 143,
   "metadata": {},
   "outputs": [
    {
     "name": "stdout",
     "output_type": "stream",
     "text": [
      "type CX name C_0 "
     ]
    },
    {
     "data": {
      "text/plain": [
       "NIL"
      ]
     },
     "execution_count": 143,
     "metadata": {},
     "output_type": "execute_result"
    }
   ],
   "source": [
    "\n",
    "(chem:map-atoms 'nil (lambda (a) (if (eq (chem:get-name a) :C_0)\n",
    "                                     (format t \"type ~a name ~a \" (chem:get-type a) (chem:get-name a))))\n",
    "                             *chemagg*)"
   ]
  },
  {
   "cell_type": "markdown",
   "metadata": {},
   "source": [
    "####  Assign force-field parameters and minimize the energy of the molecule."
   ]
  },
  {
   "cell_type": "code",
   "execution_count": 144,
   "metadata": {},
   "outputs": [
    {
     "data": {
      "text/plain": [
       "NIL"
      ]
     },
     "execution_count": 144,
     "metadata": {},
     "output_type": "execute_result"
    }
   ],
   "source": [
    "(cando:jostle *chemagg*)"
   ]
  },
  {
   "cell_type": "code",
   "execution_count": 145,
   "metadata": {},
   "outputs": [
    {
     "name": "stdout",
     "output_type": "stream",
     "text": [
      "minimize-no-fail\n",
      "======= Starting Steepest Descent Minimizer\n",
      "---Stage-Seconds--Step-log(Alpha)--Dir-------------Energy-----------RMSforce\n",
      " minSDnP       0     1      -inf   0.0              0.000          18213.929\n",
      " minSDnP       0     2     -8.24   0.0        2571316.964           8682.753\n",
      "DONE absolute force test:\n",
      "forceRmsMag(4384.997851).LT.forceTolerance(5000.000000)\n",
      "======= Starting Conjugate Gradient Minimizer\n",
      " minCGnP       0     3      -inf   0.0              0.000           4384.998\n",
      " minCGnP       0     4     -7.58  40.4        1430432.120           3729.779\n",
      " minCGnP       0     5     -6.92  50.3        1045464.956           3080.788\n",
      " minCGnP       0     6     -7.66  38.4         906874.263           2201.814\n",
      " minCGnP       0     7     -7.27  52.0         809853.889           2523.222\n",
      " minCGnP       0     8     -7.14  59.2         648698.325           2749.209\n",
      " minCGnP       0     9     -7.09  71.9         447092.181           4677.621\n",
      " minCGnP       0    10     -9.98  69.6         414396.880           4052.609\n",
      "---Stage-Seconds--Step-log(Alpha)--Dir-------------Energy-----------RMSforce\n",
      " minCGnP       0    11     -8.78  60.4         339556.895           2643.967\n",
      " minCGnP       0    12     -8.83  75.1         301115.388           5694.147\n",
      " minCGnP       0    13    -11.25  70.8         288799.613           3893.486\n",
      " minCGnP       0    14     -9.99  77.1         265113.442           3567.669\n",
      " minCGnP       0    15    -10.45  52.8         253936.080           2038.031\n",
      " minCGnP       0    16     -8.05  79.3         213571.595           6658.948\n",
      " minCGnP       0    17    -11.36  78.8         196181.296           7062.258\n",
      " minCGnP       0    18    -12.03  38.4         189422.127           2338.006\n",
      " minCGnP       0    19    -10.31  58.0         183524.698           2585.798\n",
      " minCGnP       0    20     -9.00  76.0         152793.578           6042.965\n",
      "---Stage-Seconds--Step-log(Alpha)--Dir-------------Energy-----------RMSforce\n",
      " minCGnP       0    21    -10.91  10.9         138201.120           1136.605\n",
      " minCGnP       0    22     -7.97  38.0         127745.564            748.771\n",
      " minCGnP       0    23     -8.08  78.5         120576.241           2982.217\n",
      " minCGnP       0    24    -10.57  73.4         114446.660           1805.297\n",
      " minCGnP       0    25    -10.13  86.2         109937.500           8789.264\n",
      " minCGnP       0    26    -13.58   0.0         107602.261           1041.585\n",
      " minCGnP       0    27     -8.01  28.0          96339.388            553.867\n",
      " minCGnP       0    28     -7.43  50.3          90271.437            582.207\n",
      " minCGnP       0    29     -6.08  75.2          65600.623           1390.982\n",
      " minCGnP       0    30     -7.98  63.1          50620.359           1265.060\n",
      "---Stage-Seconds--Step-log(Alpha)--Dir-------------Energy-----------RMSforce\n",
      " minCGnP       0    31     -7.91  76.3          31636.976           2400.224\n",
      " minCGnP       0    32    -10.85  30.1          27557.962           1325.774\n",
      " minCGnP       0    33     -8.68  33.9          22909.192            670.908\n",
      " minCGnP       0    34     -8.24  69.2          17865.014           1470.349\n",
      " minCGnP       0    35     -9.91  32.7          15338.224            674.518\n",
      " minCGnP       0    36     -8.83  71.1          13606.712           1723.307\n",
      " minCGnP       0    37    -11.16  14.1          12765.737            461.945\n",
      " minCGnP       0    38     -7.99  33.5          10839.528            221.302\n",
      " minCGnP       0    39     -7.03  50.4           9262.103            250.951\n",
      " minCGnP       0    40     -7.43  64.6           7863.741            363.386\n",
      "---Stage-Seconds--Step-log(Alpha)--Dir-------------Energy-----------RMSforce\n",
      " minCGnP       0    41     -8.28  65.6           7074.461            318.120\n",
      " minCGnP       0    42     -8.63  62.9           6610.905            394.486\n",
      " minCGnP       0    43     -7.97  50.0           5329.105            295.064\n",
      " minCGnP       0    44     -7.17  47.1           3778.408            173.040\n",
      " minCGnP       0    45     -6.98  52.1           2873.165            133.957\n",
      " minCGnP       0    46     -7.02  57.7           2371.505            137.940\n",
      " minCGnP       0    47     -6.78  66.5           1608.006            159.866\n",
      " minCGnP       0    48     -7.20  61.7           1082.099            127.473\n",
      " minCGnP       0    49     -6.98  57.8            640.865             98.442\n",
      " minCGnP       0    50     -7.42  48.5            469.815             76.955\n",
      "---Stage-Seconds--Step-log(Alpha)--Dir-------------Energy-----------RMSforce\n",
      " minCGnP       0    51     -7.40  43.4            350.343             51.221\n",
      " minCGnP       0    52     -7.03  46.2            273.839             41.137\n",
      " minCGnP       0    53     -7.01  51.1            223.644             34.352\n",
      " minCGnP       0    54     -7.23  44.6            195.102             22.959\n",
      " minCGnP       0    55     -6.80  56.1            175.873             24.300\n",
      " minCGnP       0    56     -6.89  61.5            156.036             24.819\n",
      " minCGnP       0    57     -6.71  62.3            131.277             22.798\n",
      " minCGnP       0    58     -6.59  66.5            107.848             24.851\n",
      " minCGnP       0    59     -7.25  60.1             93.343             17.707\n",
      " minCGnP       0    60     -6.77  62.5             81.357             16.930\n",
      "---Stage-Seconds--Step-log(Alpha)--Dir-------------Energy-----------RMSforce\n",
      " minCGnP       0    61     -6.86  64.3             71.498             15.980\n",
      " minCGnP       0    62     -7.03  59.8             64.009             11.869\n",
      " minCGnP       0    63     -6.71  64.0             58.381             12.341\n",
      " minCGnP       0    64     -6.87  65.4             53.187             11.636\n",
      " minCGnP       0    65     -7.03  62.5             49.269              8.958\n",
      " minCGnP       0    66     -6.90  64.0             46.609              8.454\n",
      " minCGnP       0    67     -6.88  62.5             44.138              7.638\n",
      " minCGnP       0    68     -6.86  61.7             42.108              6.996\n",
      " minCGnP       0    69     -7.11  59.6             40.793              5.549\n",
      " minCGnP       0    70     -6.78  63.0             39.633              5.510\n",
      "---Stage-Seconds--Step-log(Alpha)--Dir-------------Energy-----------RMSforce\n",
      " minCGnP       0    71     -6.74  67.0             38.454              5.871\n",
      " minCGnP       0    72     -6.76  67.8             37.139              5.576\n",
      " minCGnP       0    73     -6.59  71.0             35.731              6.120\n",
      " minCGnP       0    74     -6.85  73.0             34.421              6.579\n",
      " minCGnP       0    75     -6.79  72.2             32.819              5.979\n",
      " minCGnP       0    76     -6.68  73.0             31.340              6.091\n",
      " minCGnP       0    77     -6.96  72.0             30.174              5.494\n",
      " minCGnP       0    78     -6.70  71.2             28.943              5.025\n",
      " minCGnP       0    79     -6.75  72.9             27.966              5.336\n",
      " minCGnP       0    80     -6.91  72.9             27.035              5.055\n",
      "---Stage-Seconds--Step-log(Alpha)--Dir-------------Energy-----------RMSforce\n",
      " minCGnP       0    81     -6.71  72.0             26.016              4.339\n",
      " minCGnP       0    82     -6.78  73.2             25.304              4.435\n",
      " minCGnP       0    83     -6.99  69.3             24.706              3.509\n",
      " minCGnP       0    84     -6.83  69.5             24.264              3.334\n",
      " minCGnP       0    85     -6.54  76.2             23.736              4.740\n",
      " minCGnP       0    86     -6.52  77.2             22.641              4.946\n",
      " minCGnP       0    87     -7.03  71.2             21.931              3.211\n",
      " minCGnP       0    88     -7.16  67.8             21.665              2.512\n",
      " minCGnP       0    89     -6.77  70.4             21.425              2.685\n",
      " minCGnP       0    90     -6.45  74.9             21.051              3.353\n",
      "---Stage-Seconds--Step-log(Alpha)--Dir-------------Energy-----------RMSforce\n",
      " minCGnP       0    91     -6.90  74.4             20.673              3.177\n",
      " minCGnP       0    92     -6.82   0.0             20.309              2.969\n",
      " minCGnP       0    93     -7.21  35.7             20.094              2.131\n",
      " minCGnP       0    94     -6.22  63.0             19.794              3.399\n",
      " minCGnP       0    95     -6.85  59.7             19.391              2.598\n",
      " minCGnP       0    96     -6.93  63.8             19.172              2.633\n",
      " minCGnP       0    97     -6.24  70.6             18.724              3.284\n",
      " minCGnP       0    98     -6.20  75.8             18.000              4.398\n",
      " minCGnP       0    99     -6.76  71.5             17.254              3.470\n",
      " minCGnP       0   100     -5.97  73.4             16.240              3.772\n",
      "---Stage-Seconds--Step-log(Alpha)--Dir-------------Energy-----------RMSforce\n",
      " minCGnP       0   101     -7.07  73.6             15.840              3.608\n",
      " minCGnP       0   102     -6.76  74.9             15.344              3.685\n",
      " minCGnP       0   103     -6.23  75.1             14.448              3.543\n",
      " minCGnP       0   104     -6.73  72.7             13.951              3.008\n",
      " minCGnP       0   105     -6.56  74.8             13.529              3.343\n",
      " minCGnP       0   106     -6.51  76.6             12.979              3.702\n",
      " minCGnP       0   107     -7.01  74.2             12.571              3.019\n",
      " minCGnP       0   108     -6.74  76.1             12.216              3.334\n",
      " minCGnP       0   109     -6.77  72.1             11.790              2.515\n",
      " minCGnP       0   110     -6.84  69.2             11.565              2.081\n",
      "---Stage-Seconds--Step-log(Alpha)--Dir-------------Energy-----------RMSforce\n",
      " minCGnP       0   111     -6.06  68.8             11.231              1.895\n",
      " minCGnP       0   112     -6.80  69.4             11.099              1.843\n",
      " minCGnP       0   113     -6.76  71.5             10.969              1.951\n",
      " minCGnP       0   114     -6.83  70.0             10.833              1.719\n",
      " minCGnP       0   115     -6.57  76.2             10.697              2.390\n",
      " minCGnP       0   116     -5.90  81.0             10.186              3.412\n",
      " minCGnP       0   117     -6.91  77.6              9.797              2.568\n",
      " minCGnP       0   118     -6.23  80.0              9.366              3.256\n",
      " minCGnP       0   119     -6.83  75.3              8.983              2.411\n",
      " minCGnP       0   120     -6.59  77.7              8.721              2.826\n",
      "---Stage-Seconds--Step-log(Alpha)--Dir-------------Energy-----------RMSforce\n",
      " minCGnP       0   121     -6.84  72.9              8.439              1.939\n",
      " minCGnP       0   122     -7.05  73.1              8.332              1.842\n",
      " minCGnP       0   123     -6.65  73.3              8.188              1.721\n",
      " minCGnP       0   124     -6.59  72.9              8.054              1.571\n",
      " minCGnP       0   125     -6.58  71.2              7.941              1.382\n",
      " minCGnP       0   126     -6.61  72.0              7.855              1.393\n",
      " minCGnP       0   127     -6.88  68.5              7.789              1.107\n",
      " minCGnP       0   128     -6.93  69.1              7.750              1.059\n",
      " minCGnP       0   129     -6.62  73.7              7.701              1.281\n",
      " minCGnP       0   130     -6.65  70.1              7.630              0.978\n",
      "---Stage-Seconds--Step-log(Alpha)--Dir-------------Energy-----------RMSforce\n",
      " minCGnP       0   131     -6.51  72.2              7.583              1.041\n",
      " minCGnP       0   132     -6.52  72.5              7.531              1.011\n",
      " minCGnP       0   133     -6.60  73.4              7.485              1.024\n",
      " minCGnP       0   134     -6.81  74.7              7.447              1.070\n",
      " minCGnP       0   135     -6.67  74.9              7.399              1.047\n",
      " minCGnP       0   136     -7.18  67.1              7.371              0.643\n",
      " minCGnP       0   137     -6.51  71.2              7.351              0.734\n",
      " minCGnP       0   138     -6.12  74.1              7.312              0.828\n",
      " minCGnP       0   139     -6.71  75.6              7.284              0.883\n",
      " minCGnP       0   140     -6.51  78.5              7.246              1.076\n",
      "---Stage-Seconds--Step-log(Alpha)--Dir-------------Energy-----------RMSforce\n",
      " minCGnP       0   141     -6.99  73.7              7.210              0.753\n",
      " minCGnP       0   142     -6.98  73.9              7.193              0.730\n",
      " minCGnP       0   143     -6.22  74.7              7.158              0.740\n",
      " minCGnP       0   144     -6.75  74.8              7.137              0.715\n",
      " minCGnP       0   145     -6.34  77.1              7.107              0.824\n",
      " minCGnP       0   146     -7.07  70.3              7.088              0.526\n",
      " minCGnP       0   147     -6.95  71.7              7.079              0.536\n",
      " minCGnP       0   148     -6.46  74.8              7.064              0.621\n",
      "DONE absolute force test:\n",
      "forceRmsMag(0.471513).LT.forceTolerance(0.500000)\n",
      "minimize-no-fail\n",
      "======= Starting Steepest Descent Minimizer\n",
      " minSDnP       0   149      -inf   0.0              0.000         136013.227\n",
      " minSDnP       0   150    -14.76   0.0          83317.360          49749.525\n",
      "---Stage-Seconds--Step-log(Alpha)--Dir-------------Energy-----------RMSforce\n",
      " minSDnP       0   151    -12.78   0.0          32548.284          20604.320\n",
      "DONE absolute force test:\n",
      "forceRmsMag(2389.872020).LT.forceTolerance(5000.000000)\n",
      "======= Starting Conjugate Gradient Minimizer\n",
      " minCGnP       0   152      -inf   0.0              0.000           2389.872\n",
      " minCGnP       0   153    -10.86  11.9           6057.631            505.801\n",
      " minCGnP       0   154     -8.72  49.5           4633.879            590.916\n",
      " minCGnP       0   155     -9.13  47.8           3608.400            338.686\n",
      " minCGnP       0   156     -9.11  15.4           3176.237            222.782\n",
      " minCGnP       0   157     -8.78  45.2           2886.691            228.667\n",
      " minCGnP       0   158     -9.04  10.4           2668.439             67.819\n",
      " minCGnP       0   159     -8.67  37.8           2643.477             51.105\n",
      " minCGnP       0   160     -8.06  59.2           2615.892             67.404\n",
      "---Stage-Seconds--Step-log(Alpha)--Dir-------------Energy-----------RMSforce\n",
      " minCGnP       0   161     -8.52  58.6           2585.975             53.766\n",
      " minCGnP       0   162     -7.88  53.8           2551.135             48.241\n",
      " minCGnP       0   163     -8.60  48.2           2537.013             30.166\n",
      " minCGnP       0   164     -8.04  56.3           2527.267             31.274\n",
      " minCGnP       0   165     -8.68  54.6           2521.773             24.341\n",
      " minCGnP       0   166     -8.12  59.2           2515.925             22.295\n",
      " minCGnP       0   167     -8.02  56.0           2510.569             17.160\n",
      " minCGnP       0   168     -8.08  60.4           2507.536             17.077\n",
      " minCGnP       0   169     -8.41  61.4           2505.388             15.081\n",
      " minCGnP       0   170     -8.56  63.0           2503.954             14.077\n",
      "---Stage-Seconds--Step-log(Alpha)--Dir-------------Energy-----------RMSforce\n",
      " minCGnP       0   171     -7.95  61.9           2501.648             12.592\n",
      " minCGnP       0   172     -7.80  68.8           2499.505             15.664\n",
      " minCGnP       0   173     -7.57  71.7           2495.378             17.621\n",
      " minCGnP       0   174     -8.36  70.3           2492.969             15.329\n",
      " minCGnP       0   175     -8.41  71.9           2491.246             15.966\n",
      " minCGnP       0   176     -8.41  70.5           2489.396             13.591\n",
      " minCGnP       0   177     -7.71  71.9           2486.617             13.579\n",
      " minCGnP       0   178     -8.44  64.8           2485.303              9.649\n",
      " minCGnP       0   179     -7.76  68.9           2483.994             10.562\n",
      " minCGnP       0   180     -8.72  67.3           2483.395              9.171\n",
      "---Stage-Seconds--Step-log(Alpha)--Dir-------------Energy-----------RMSforce\n",
      " minCGnP       0   181     -8.26  66.6           2482.675              8.308\n",
      " minCGnP       0   182     -8.14  63.2           2482.011              6.596\n",
      " minCGnP       0   183     -8.06  63.9           2481.557              6.098\n",
      " minCGnP       0   184     -8.52  62.6           2481.311              5.170\n",
      " minCGnP       0   185     -8.67  61.1           2481.160              4.308\n",
      " minCGnP       0   186     -7.74  68.2           2480.894              5.234\n",
      " minCGnP       0   187     -8.03  69.5           2480.600              5.203\n",
      " minCGnP       0   188     -8.05  69.8           2480.314              5.020\n",
      " minCGnP       0   189     -8.87  63.5           2480.197              3.469\n",
      " minCGnP       0   190     -8.21  66.1           2480.089              3.485\n",
      "---Stage-Seconds--Step-log(Alpha)--Dir-------------Energy-----------RMSforce\n",
      " minCGnP       0   191     -7.75  69.0           2479.917              3.683\n",
      " minCGnP       0   192     -7.63  73.2           2479.700              4.336\n",
      " minCGnP       0   193     -8.67  69.8           2479.593              3.451\n",
      " minCGnP       0   194     -8.54  67.7           2479.516              2.928\n",
      " minCGnP       0   195     -8.13  62.9           2479.432              2.162\n",
      " minCGnP       0   196     -7.94  67.3           2479.377              2.354\n",
      " minCGnP       0   197     -7.74  72.3           2479.298              2.848\n",
      " minCGnP       0   198     -8.70  70.0           2479.253              2.385\n",
      " minCGnP       0   199     -8.29  67.4           2479.206              1.970\n",
      " minCGnP       0   200     -8.26  65.4           2479.173              1.647\n",
      "---Stage-Seconds--Step-log(Alpha)--Dir-------------Energy-----------RMSforce\n",
      " minCGnP       0   201     -7.67  68.3           2479.131              1.722\n",
      " minCGnP       0   202     -8.50  68.8           2479.111              1.634\n",
      " minCGnP       0   203     -8.33  71.5           2479.090              1.773\n",
      " minCGnP       0   204     -8.20  65.6           2479.061              1.263\n",
      " minCGnP       0   205     -8.13  62.5           2479.046              1.000\n",
      " minCGnP       0   206     -8.36  61.2           2479.038              0.840\n",
      " minCGnP       0   207     -8.34  69.1           2479.032              1.056\n",
      " minCGnP       0   208     -8.00  69.4           2479.020              1.000\n",
      " minCGnP       0   209     -8.01  70.5           2479.009              0.996\n",
      " minCGnP       0   210     -7.82  71.8           2478.996              1.011\n",
      "---Stage-Seconds--Step-log(Alpha)--Dir-------------Energy-----------RMSforce\n",
      " minCGnP       0   211     -8.59  70.9           2478.990              0.915\n",
      " minCGnP       0   212     -8.36  71.8           2478.983              0.907\n",
      " minCGnP       0   213     -8.08  69.8           2478.975              0.770\n",
      " minCGnP       0   214     -7.70  70.3           2478.966              0.747\n",
      " minCGnP       0   215     -8.49  69.7           2478.962              0.677\n",
      " minCGnP       0   216     -8.34  72.6           2478.958              0.753\n",
      " minCGnP       0   217     -8.24  68.2           2478.954              0.561\n",
      " minCGnP       0   218     -7.86   0.0           2478.950              0.594\n",
      "DONE absolute force test:\n",
      "forceRmsMag(0.386143).LT.forceTolerance(0.500000)\n"
     ]
    },
    {
     "data": {
      "text/plain": [
       "*EE*"
      ]
     },
     "execution_count": 145,
     "metadata": {},
     "output_type": "execute_result"
    }
   ],
   "source": [
    "(defparameter *ee* (energy:minimize *chemagg*))"
   ]
  },
  {
   "cell_type": "markdown",
   "metadata": {},
   "source": [
    "#### Visualize the minimized structure and demonstrate that the force field parameters lead to the construction of a chemically"
   ]
  },
  {
   "cell_type": "markdown",
   "metadata": {},
   "source": [
    "#### reasonable structure."
   ]
  },
  {
   "cell_type": "code",
   "execution_count": 82,
   "metadata": {},
   "outputs": [
    {
     "name": "stderr",
     "output_type": "stream",
     "text": [
      "An error occurred of type: UNDEFINED-FUNCTION: \n",
      "  #<UNDEFINED-FUNCTION>\n"
     ]
    },
    {
     "data": {
      "text/plain": [
       "NIL"
      ]
     },
     "execution_count": 82,
     "metadata": {},
     "output_type": "execute_result"
    }
   ],
   "source": [
    "(nglv::show-aggregate *chemagg*)"
   ]
  },
  {
   "cell_type": "code",
   "execution_count": 86,
   "metadata": {},
   "outputs": [
    {
     "data": {
      "application/vnd.jupyter.widget-view+json": {
       "model_id": "E972EB5C-81C7-4972-90B9-4F916BC72ABA",
       "version_major": 2,
       "version_minor": 0
      },
      "text/html": [
       "<p>Failed to display Jupyter Widget of type <code>{widget_type}</code>.</p>\n",
       "<p>\n",
       "  If you're reading this message in the Jupyter Notebook or JupyterLab Notebook, it may mean\n",
       "  that the widgets JavaScript is still loading. If this message persists, it\n",
       "  likely means that the widgets JavaScript library is either not installed or\n",
       "  not enabled. See the <a href=\"https://ipywidgets.readthedocs.io/en/stable/user_install.html\">Jupyter\n",
       "  Widgets Documentation</a> for setup instructions.\n",
       "</p>\n",
       "<p>\n",
       "  If you're reading this message in another frontend (for example, a static\n",
       "  rendering on GitHub or <a href=\"https://nbviewer.jupyter.org/\">NBViewer</a>),\n",
       "  it may mean that your frontend doesn't currently support widgets.\n",
       "</p>\n"
      ],
      "text/plain": [
       "A Jupyter Widget"
      ]
     },
     "execution_count": 86,
     "metadata": {},
     "output_type": "execute_result"
    }
   ],
   "source": [
    "(cando::show-aggregate *chemagg*)"
   ]
  },
  {
   "cell_type": "code",
   "execution_count": 148,
   "metadata": {},
   "outputs": [
    {
     "data": {
      "text/plain": [
       "0"
      ]
     },
     "execution_count": 148,
     "metadata": {},
     "output_type": "execute_result"
    }
   ],
   "source": [
    "(ext:vfork-execvp (list (namestring (translate-logical-pathname #P\"amber:bin;sqm\"))\n",
    "                             \"-O\"\n",
    "                             \"-i\" \"/tmp/sqm-input.txt\"\n",
    "                             \"-o\" \"/tmp/sqm-output.out\"))"
   ]
  },
  {
   "cell_type": "code",
   "execution_count": 149,
   "metadata": {},
   "outputs": [
    {
     "data": {
      "text/plain": [
       "0"
      ]
     },
     "execution_count": 149,
     "metadata": {},
     "output_type": "execute_result"
    }
   ],
   "source": [
    "(charges:calculate-am1-bcc-charges *chemagg*)"
   ]
  },
  {
   "cell_type": "code",
   "execution_count": 150,
   "metadata": {},
   "outputs": [
    {
     "name": "stdout",
     "output_type": "stream",
     "text": [
      "Saving matter to /Users/tuj24515/Development/clasp/extensions/cando/src/tests/alanine-demo/alanine.mol2\n"
     ]
    },
    {
     "data": {
      "text/plain": [
       "NIL"
      ]
     },
     "execution_count": 150,
     "metadata": {},
     "output_type": "execute_result"
    }
   ],
   "source": [
    "(save-mol2 *chemagg* \"alanine.mol2\")"
   ]
  },
  {
   "cell_type": "markdown",
   "metadata": {},
   "source": [
    "#### Assign atom types and change one of them for alanine atom type definition."
   ]
  },
  {
   "cell_type": "code",
   "execution_count": 152,
   "metadata": {},
   "outputs": [
    {
     "data": {
      "text/plain": [
       "NIL"
      ]
     },
     "execution_count": 152,
     "metadata": {},
     "output_type": "execute_result"
    }
   ],
   "source": [
    "(assign-atom-types *chemagg*)\n",
    "(chem:map-atoms 'nil (lambda (a) (if (eq (chem:get-type a) :CT)\n",
    "                                     (if (eq (chem:get-name a) :C_0)\n",
    "                                         (chem:set-type a :CX)))) *chemagg*)"
   ]
  },
  {
   "cell_type": "markdown",
   "metadata": {},
   "source": [
    "#### Save the topology file and coordinate file."
   ]
  },
  {
   "cell_type": "code",
   "execution_count": 153,
   "metadata": {},
   "outputs": [
    {
     "data": {
      "text/plain": [
       "T"
      ]
     },
     "execution_count": 153,
     "metadata": {},
     "output_type": "execute_result"
    }
   ],
   "source": [
    "(leap.topology:save-amber-parm-format *chemagg* \"chemagg.top\" \"chemagg.crd\" :assign-types nil)"
   ]
  },
  {
   "cell_type": "markdown",
   "metadata": {},
   "source": [
    "## Create topology and coordinate file for Alanine and water atoms."
   ]
  },
  {
   "cell_type": "markdown",
   "metadata": {},
   "source": [
    "#### Load Tip3pfbox water box."
   ]
  },
  {
   "cell_type": "code",
   "execution_count": 92,
   "metadata": {},
   "outputs": [
    {
     "data": {
      "text/plain": [
       "(:TIP3PFBOX)"
      ]
     },
     "execution_count": 92,
     "metadata": {},
     "output_type": "execute_result"
    }
   ],
   "source": [
    "(load-off \"tip3pfbox.off\")"
   ]
  },
  {
   "cell_type": "markdown",
   "metadata": {},
   "source": [
    "#### Make agggregate of the water box."
   ]
  },
  {
   "cell_type": "code",
   "execution_count": 93,
   "metadata": {},
   "outputs": [
    {
     "name": "stdout",
     "output_type": "stream",
     "text": [
      "\n",
      "#<AGGREGATE NIL> "
     ]
    },
    {
     "data": {
      "text/plain": [
       "#<AGGREGATE NIL>"
      ]
     },
     "execution_count": 93,
     "metadata": {},
     "output_type": "execute_result"
    }
   ],
   "source": [
    "(print ~tip3pfbox)"
   ]
  },
  {
   "cell_type": "code",
   "execution_count": 94,
   "metadata": {},
   "outputs": [
    {
     "data": {
      "text/plain": [
       "*SOLVENT*"
      ]
     },
     "execution_count": 94,
     "metadata": {},
     "output_type": "execute_result"
    }
   ],
   "source": [
    "(defparameter *solvent* ~tip3pfbox)"
   ]
  },
  {
   "cell_type": "code",
   "execution_count": 95,
   "metadata": {},
   "outputs": [
    {
     "name": "stderr",
     "output_type": "stream",
     "text": [
      "An error occurred of type: UNDEFINED-FUNCTION: \n",
      "  #<UNDEFINED-FUNCTION>\n"
     ]
    },
    {
     "data": {
      "text/plain": [
       "NIL"
      ]
     },
     "execution_count": 95,
     "metadata": {},
     "output_type": "execute_result"
    }
   ],
   "source": [
    "(nglv::show-aggregate *solvent*)"
   ]
  },
  {
   "cell_type": "markdown",
   "metadata": {},
   "source": [
    "#### Assign the atom types of the force field to the water box."
   ]
  },
  {
   "cell_type": "code",
   "execution_count": 96,
   "metadata": {},
   "outputs": [
    {
     "data": {
      "text/plain": [
       "NIL"
      ]
     },
     "execution_count": 96,
     "metadata": {},
     "output_type": "execute_result"
    }
   ],
   "source": [
    "(assign-atom-types *solvent*)"
   ]
  },
  {
   "cell_type": "markdown",
   "metadata": {},
   "source": [
    "#### Add Tip3p water molecules to the alanine."
   ]
  },
  {
   "cell_type": "code",
   "execution_count": 97,
   "metadata": {},
   "outputs": [
    {
     "name": "stdout",
     "output_type": "stream",
     "text": [
      "Total bounding box for atom centers:  29.353789041228794d0 26.304757298876325d0 23.279665206725056d0\n"
     ]
    },
    {
     "data": {
      "text/plain": [
       "NIL"
      ]
     },
     "execution_count": 97,
     "metadata": {},
     "output_type": "execute_result"
    }
   ],
   "source": [
    "(leap.solvate::tool-solvate-and-shell *chemagg* *solvent* '(10.0 10.0 10.0))"
   ]
  },
  {
   "cell_type": "code",
   "execution_count": 66,
   "metadata": {},
   "outputs": [
    {
     "name": "stderr",
     "output_type": "stream",
     "text": [
      "An error occurred of type: UNDEFINED-FUNCTION: \n",
      "  #<UNDEFINED-FUNCTION>\n"
     ]
    },
    {
     "data": {
      "text/plain": [
       "NIL"
      ]
     },
     "execution_count": 66,
     "metadata": {},
     "output_type": "execute_result"
    }
   ],
   "source": [
    "(nglv::show-aggregate *newagg*)"
   ]
  },
  {
   "cell_type": "code",
   "execution_count": 98,
   "metadata": {},
   "outputs": [
    {
     "data": {
      "application/vnd.jupyter.widget-view+json": {
       "model_id": "CCC1D5ED-46F1-4965-BE5D-774CDBA406A9",
       "version_major": 2,
       "version_minor": 0
      },
      "text/html": [
       "<p>Failed to display Jupyter Widget of type <code>{widget_type}</code>.</p>\n",
       "<p>\n",
       "  If you're reading this message in the Jupyter Notebook or JupyterLab Notebook, it may mean\n",
       "  that the widgets JavaScript is still loading. If this message persists, it\n",
       "  likely means that the widgets JavaScript library is either not installed or\n",
       "  not enabled. See the <a href=\"https://ipywidgets.readthedocs.io/en/stable/user_install.html\">Jupyter\n",
       "  Widgets Documentation</a> for setup instructions.\n",
       "</p>\n",
       "<p>\n",
       "  If you're reading this message in another frontend (for example, a static\n",
       "  rendering on GitHub or <a href=\"https://nbviewer.jupyter.org/\">NBViewer</a>),\n",
       "  it may mean that your frontend doesn't currently support widgets.\n",
       "</p>\n"
      ],
      "text/plain": [
       "A Jupyter Widget"
      ]
     },
     "execution_count": 98,
     "metadata": {},
     "output_type": "execute_result"
    }
   ],
   "source": [
    "(show *chemagg*)"
   ]
  },
  {
   "cell_type": "markdown",
   "metadata": {},
   "source": [
    "#### Save the topology and coordinate file. New aggregate contains water molecules and alanine."
   ]
  },
  {
   "cell_type": "code",
   "execution_count": 99,
   "metadata": {},
   "outputs": [
    {
     "data": {
      "text/plain": [
       "NIL"
      ]
     },
     "execution_count": 99,
     "metadata": {},
     "output_type": "execute_result"
    }
   ],
   "source": [
    "(assign-atom-types *chemagg*)\n",
    "(chem:map-atoms 'nil (lambda (a) (if (eq (chem:get-type a) :CT)\n",
    "                                     (if (eq (chem:get-name a) :C)\n",
    "                                         (chem:set-type a :CX)))) *chemagg*)"
   ]
  },
  {
   "cell_type": "code",
   "execution_count": 100,
   "metadata": {},
   "outputs": [
    {
     "data": {
      "text/plain": [
       "T"
      ]
     },
     "execution_count": 100,
     "metadata": {},
     "output_type": "execute_result"
    }
   ],
   "source": [
    "(leap.topology:save-amber-parm-format *chemagg* \"chemagg_water.top\" \"chemagg_water.crd\" :assign-types nil)"
   ]
  },
  {
   "cell_type": "code",
   "execution_count": null,
   "metadata": {},
   "outputs": [],
   "source": [
    "(load-mol2 \"alanine-leap.mol2\")"
   ]
  },
  {
   "cell_type": "code",
   "execution_count": null,
   "metadata": {},
   "outputs": [],
   "source": []
  },
  {
   "cell_type": "code",
   "execution_count": null,
   "metadata": {},
   "outputs": [],
   "source": []
  },
  {
   "cell_type": "code",
   "execution_count": null,
   "metadata": {},
   "outputs": [],
   "source": []
  },
  {
   "cell_type": "markdown",
   "metadata": {},
   "source": [
    "#### Calculate each energy parameters."
   ]
  },
  {
   "cell_type": "code",
   "execution_count": 31,
   "metadata": {},
   "outputs": [
    {
     "data": {
      "text/plain": [
       "1720.1189821006878d0"
      ]
     },
     "execution_count": 31,
     "metadata": {},
     "output_type": "execute_result"
    }
   ],
   "source": [
    "(chem:get-energy (chem:get-stretch-component *e*))"
   ]
  },
  {
   "cell_type": "code",
   "execution_count": 32,
   "metadata": {},
   "outputs": [
    {
     "data": {
      "text/plain": [
       "0.30171081698364277d0"
      ]
     },
     "execution_count": 32,
     "metadata": {},
     "output_type": "execute_result"
    }
   ],
   "source": [
    "(chem:get-energy (chem:get-angle-component *e*))"
   ]
  },
  {
   "cell_type": "code",
   "execution_count": 33,
   "metadata": {},
   "outputs": [
    {
     "data": {
      "text/plain": [
       "5.456751705606037d0"
      ]
     },
     "execution_count": 33,
     "metadata": {},
     "output_type": "execute_result"
    }
   ],
   "source": [
    "(chem:get-energy (chem:get-dihedral-component *e*))"
   ]
  },
  {
   "cell_type": "code",
   "execution_count": 34,
   "metadata": {},
   "outputs": [
    {
     "data": {
      "text/plain": [
       "658.8024508583202d0"
      ]
     },
     "execution_count": 34,
     "metadata": {},
     "output_type": "execute_result"
    }
   ],
   "source": [
    "(chem:get-energy (chem:get-nonbond-component *e*))"
   ]
  },
  {
   "cell_type": "code",
   "execution_count": 34,
   "metadata": {},
   "outputs": [
    {
     "name": "stdout",
     "output_type": "stream",
     "text": [
      "CHEM:ADD-SUPERPOSE-ATOM  Function\n",
      "CHEM:CLEAR-SUPERPOSE-ATOMS  Function\n",
      "CHEM:SET-FINAL-COORDINATES-AS-FIXED-WITHIN-SUPERPOSE-ENGINE  Function\n",
      "CHEM:SET-FINAL-COORDINATES-AS-MOVEABLE-WITHIN-SUPERPOSE-ENGINE  Function\n",
      "CHEM:SET-SUPERPOSABLE-COORDINATES-AS-FIXED-WITHIN-SUPERPOSE-ENGINE  Function\n",
      "CHEM:SET-SUPERPOSABLE-COORDINATES-AS-MOVEABLE-WITHIN-SUPERPOSE-ENGINE  Function\n",
      "CHEM:SUPERPOSE  Function\n",
      "CANDO::SUPERPOSE-AGAINST-TEMPLATE  Function\n",
      "CANDO::SUPERPOSE-ALL  Function\n",
      "CHEM:SUPERPOSE-ALL-HEAVY-ATOMS  Function\n",
      "CHEM:SUPERPOSE-ENGINE\n",
      "CANDO::SUPERPOSE-ONE  Function\n",
      "CHEM:SUPERPOSE-SELECTED-ATOMS\n",
      "CHEM::SUPERPOSER\n"
     ]
    },
    {
     "data": {
      "text/plain": [
       "NIL"
      ]
     },
     "execution_count": 34,
     "metadata": {},
     "output_type": "execute_result"
    }
   ],
   "source": [
    "(apropos \"superpose\")"
   ]
  },
  {
   "cell_type": "code",
   "execution_count": 88,
   "metadata": {},
   "outputs": [
    {
     "data": {
      "application/vnd.jupyter.widget-view+json": {
       "model_id": "E7E4F0CF-9CCE-4EF5-B403-2ED852FB34F2",
       "version_major": 2,
       "version_minor": 0
      },
      "text/plain": [
       "A Jupyter Widget"
      ]
     },
     "execution_count": 88,
     "metadata": {},
     "output_type": "execute_result"
    }
   ],
   "source": [
    "(:= w (show *chemagg*)) w"
   ]
  },
  {
   "cell_type": "code",
   "execution_count": 93,
   "metadata": {
    "scrolled": true
   },
   "outputs": [
    {
     "data": {
      "text/plain": [
       "((\"atom\" (\"index\" . 20) (\"residueIndex\" . 2) (\"resname\" . \"NIL_3\")\n",
       "  (\"x\" . 216.329) (\"y\" . 322.549) (\"z\" . -0.62) (\"element\" . \"H\")\n",
       "  (\"chainname\" . \"A\") (\"resno\" . 3) (\"serial\" . 21) (\"vdw\" . 1.1)\n",
       "  (\"covalent\" . 0.31) (\"hetero\" . 1) (\"bfactor\" . 0) (\"altloc\" . \"\")\n",
       "  (\"atomname\" . \"HH33\")))"
      ]
     },
     "execution_count": 93,
     "metadata": {},
     "output_type": "execute_result"
    }
   ],
   "source": [
    "(nglv::picked w)"
   ]
  },
  {
   "cell_type": "code",
   "execution_count": 94,
   "metadata": {},
   "outputs": [
    {
     "data": {
      "text/plain": [
       "DISTANCE"
      ]
     },
     "execution_count": 94,
     "metadata": {},
     "output_type": "execute_result"
    }
   ],
   "source": [
    "(defun distance (p1 p2) (geom:vlength (geom:v- p1 p2)))"
   ]
  },
  {
   "cell_type": "code",
   "execution_count": 95,
   "metadata": {},
   "outputs": [
    {
     "data": {
      "text/plain": [
       "*A*"
      ]
     },
     "execution_count": 95,
     "metadata": {},
     "output_type": "execute_result"
    }
   ],
   "source": [
    "(:= *a* (let* ((picked (nglv::picked w))\n",
    "       (atom (cdr (assoc \"atom\" picked :test #'string=)))\n",
    "       (x (cdr (assoc \"x\" atom :test #'string=)))\n",
    "       (y (cdr (assoc \"y\" atom :test #'string=)))\n",
    "       (z (cdr (assoc \"z\" atom :test #'string=)))\n",
    "       (pos (geom:vec x y z))\n",
    "        resulta)\n",
    "     (chem:map-atoms nil (lambda (a) \n",
    "                                 (when (< (distance pos (chem:get-position a)) 0.01) \n",
    "                                     (setf resulta a))) *chemagg*)\n",
    "              resulta))"
   ]
  },
  {
   "cell_type": "code",
   "execution_count": 96,
   "metadata": {},
   "outputs": [
    {
     "data": {
      "text/plain": [
       "#<ATOM :HH33/:H>"
      ]
     },
     "execution_count": 96,
     "metadata": {},
     "output_type": "execute_result"
    }
   ],
   "source": [
    "*a*"
   ]
  },
  {
   "cell_type": "code",
   "execution_count": 97,
   "metadata": {},
   "outputs": [
    {
     "data": {
      "text/plain": [
       "*P*"
      ]
     },
     "execution_count": 97,
     "metadata": {},
     "output_type": "execute_result"
    }
   ],
   "source": [
    "(:= *p* (core:make-cxx-object 'chem:chem-info))"
   ]
  },
  {
   "cell_type": "code",
   "execution_count": 98,
   "metadata": {},
   "outputs": [
    {
     "data": {
      "text/plain": [
       "T"
      ]
     },
     "execution_count": 98,
     "metadata": {},
     "output_type": "execute_result"
    }
   ],
   "source": [
    "(chem:compile-smarts *p* \"CC\")"
   ]
  },
  {
   "cell_type": "code",
   "execution_count": 99,
   "metadata": {},
   "outputs": [
    {
     "data": {
      "text/plain": [
       "NIL"
      ]
     },
     "execution_count": 99,
     "metadata": {},
     "output_type": "execute_result"
    }
   ],
   "source": [
    "(chem:matches *p* *a*)"
   ]
  },
  {
   "cell_type": "code",
   "execution_count": 7,
   "metadata": {
    "collapsed": true
   },
   "outputs": [
    {
     "data": {
      "text/plain": [
       "*ALA-LEAP*"
      ]
     },
     "execution_count": 7,
     "metadata": {},
     "output_type": "execute_result"
    }
   ],
   "source": [
    "(:= *ala-leap* (load-mol2 \"alanine_leap.mol2\"))"
   ]
  },
  {
   "cell_type": "code",
   "execution_count": 8,
   "metadata": {
    "collapsed": true
   },
   "outputs": [
    {
     "data": {
      "application/vnd.jupyter.widget-view+json": {
       "model_id": "4BA469CF-739A-48D2-84E2-808B2F972E22",
       "version_major": 2,
       "version_minor": 0
      },
      "text/html": [
       "<p>Failed to display Jupyter Widget of type <code>{widget_type}</code>.</p>\n",
       "<p>\n",
       "  If you're reading this message in the Jupyter Notebook or JupyterLab Notebook, it may mean\n",
       "  that the widgets JavaScript is still loading. If this message persists, it\n",
       "  likely means that the widgets JavaScript library is either not installed or\n",
       "  not enabled. See the <a href=\"https://ipywidgets.readthedocs.io/en/stable/user_install.html\">Jupyter\n",
       "  Widgets Documentation</a> for setup instructions.\n",
       "</p>\n",
       "<p>\n",
       "  If you're reading this message in another frontend (for example, a static\n",
       "  rendering on GitHub or <a href=\"https://nbviewer.jupyter.org/\">NBViewer</a>),\n",
       "  it may mean that your frontend doesn't currently support widgets.\n",
       "</p>\n"
      ],
      "text/plain": [
       "A Jupyter Widget"
      ]
     },
     "execution_count": 8,
     "metadata": {},
     "output_type": "execute_result"
    }
   ],
   "source": [
    "(cando::show-aggregate *ala-leap*)"
   ]
  },
  {
   "cell_type": "code",
   "execution_count": 15,
   "metadata": {},
   "outputs": [
    {
     "data": {
      "text/plain": [
       "NIL"
      ]
     },
     "execution_count": 15,
     "metadata": {},
     "output_type": "execute_result"
    }
   ],
   "source": [
    "(assign-atom-types *ala-leap*)\n",
    "(chem:map-atoms 'nil (lambda (a) (if (eq (chem:get-type a) :CT)\n",
    "                                     (if (eq (chem:get-name a) :CA)\n",
    "                                         (chem:set-type a :CX)))) *ala-leap*)"
   ]
  },
  {
   "cell_type": "code",
   "execution_count": 16,
   "metadata": {},
   "outputs": [
    {
     "name": "stdout",
     "output_type": "stream",
     "text": [
      "type CX name CA "
     ]
    },
    {
     "data": {
      "text/plain": [
       "NIL"
      ]
     },
     "execution_count": 16,
     "metadata": {},
     "output_type": "execute_result"
    }
   ],
   "source": [
    "(chem:map-atoms 'nil (lambda (a) (if (eq (chem:get-name a) :CA)\n",
    "                                     (format t \"type ~a name ~a \" (chem:get-type a) (chem:get-name a))))\n",
    "                             *ala-leap*)"
   ]
  },
  {
   "cell_type": "code",
   "execution_count": 9,
   "metadata": {},
   "outputs": [
    {
     "name": "stdout",
     "output_type": "stream",
     "text": [
      "type HC name H1\n",
      " type CT name CH3\n",
      " type HC name H2\n",
      " type HC name H3\n",
      " type C name C\n",
      " type O name O\n",
      " type N name N\n",
      " type H name H\n",
      " type CX name CA\n",
      " type H1 name HA\n",
      " type CT name CB\n",
      " type HC name HB1\n",
      " type HC name HB2\n",
      " type HC name HB3\n",
      " type C name C\n",
      " type O name O\n",
      " type N name N\n",
      " type H name H\n",
      " type CT name CH3\n",
      " type H1 name HH31\n",
      " type H1 name HH32\n",
      " type H1 name HH33\n",
      " "
     ]
    },
    {
     "data": {
      "text/plain": [
       "NIL"
      ]
     },
     "execution_count": 9,
     "metadata": {},
     "output_type": "execute_result"
    }
   ],
   "source": [
    "(chem:map-atoms 'nil (lambda (a) (format t \"type ~a name ~a~% \" (chem:get-type a) (chem:get-name a)))\n",
    "                \n",
    "                             *ala-leap*)"
   ]
  },
  {
   "cell_type": "code",
   "execution_count": 22,
   "metadata": {},
   "outputs": [
    {
     "name": "stderr",
     "output_type": "stream",
     "text": [
      "SIMPLE-ERROR: \n",
      "Could not assign type\n"
     ]
    },
    {
     "data": {
      "text/plain": [
       "NIL"
      ]
     },
     "execution_count": 22,
     "metadata": {},
     "output_type": "execute_result"
    }
   ],
   "source": [
    "(charges:calculate-am1-bcc-charges *ala-leap*)"
   ]
  },
  {
   "cell_type": "code",
   "execution_count": 13,
   "metadata": {},
   "outputs": [
    {
     "data": {
      "text/plain": [
       "T"
      ]
     },
     "execution_count": 13,
     "metadata": {},
     "output_type": "execute_result"
    }
   ],
   "source": [
    "(leap.topology:save-amber-parm-format *ala-leap* \"alanine_cando.top\" \"alanine_cando.crd\" :assign-types nil)"
   ]
  },
  {
   "cell_type": "code",
   "execution_count": null,
   "metadata": {},
   "outputs": [],
   "source": []
  }
 ],
 "metadata": {
  "kernelspec": {
   "display_name": "Cando",
   "language": "lisp",
   "name": "lisp"
  },
  "language_info": {
   "codemirror_mode": "text/x-common-lisp",
   "mimetype": "text/x-common-lisp",
   "name": "common-lisp",
   "pygments_lexer": "common-lisp",
   "version": "X3J13"
  }
 },
 "nbformat": 4,
 "nbformat_minor": 2
}
