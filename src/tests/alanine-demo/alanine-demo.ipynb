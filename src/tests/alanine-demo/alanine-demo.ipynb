{
 "cells": [
  {
   "cell_type": "markdown",
   "metadata": {},
   "source": [
    "## Set the enviroments."
   ]
  },
  {
   "cell_type": "markdown",
   "metadata": {},
   "source": [
    "#### Connect to slime."
   ]
  },
  {
   "cell_type": "code",
   "execution_count": 1,
   "metadata": {},
   "outputs": [
    {
     "data": {
      "text/plain": [
       "16"
      ]
     },
     "execution_count": 1,
     "metadata": {},
     "output_type": "execute_result"
    }
   ],
   "source": [
    "(length (core:bformat nil \"%16.8e\" 1234.5676))"
   ]
  },
  {
   "cell_type": "code",
   "execution_count": 1,
   "metadata": {
    "scrolled": true
   },
   "outputs": [
    {
     "data": {
      "text/plain": [
       "T"
      ]
     },
     "execution_count": 1,
     "metadata": {},
     "output_type": "execute_result"
    }
   ],
   "source": [
    "(start-swank)"
   ]
  },
  {
   "cell_type": "markdown",
   "metadata": {},
   "source": [
    "#### Add paths."
   ]
  },
  {
   "cell_type": "code",
   "execution_count": 2,
   "metadata": {
    "scrolled": true
   },
   "outputs": [
    {
     "data": {
      "text/plain": [
       "(#P\"/Users/tuj24515/Development/amber16/dat/antechamber/\"\n",
       " #P\"/Users/tuj24515/Development/amber16/dat/leap/prep/\"\n",
       " #P\"/Users/tuj24515/Development/amber16/dat/leap/parm/\"\n",
       " #P\"/Users/tuj24515/Development/amber16/dat/leap/lib/\"\n",
       " #P\"/Users/tuj24515/Development/amber16/dat/leap/cmd/\"\n",
       " #P\"/Users/tuj24515/Development/clasp/extensions/cando/src/tests/alanine-demo/\")"
      ]
     },
     "execution_count": 2,
     "metadata": {},
     "output_type": "execute_result"
    }
   ],
   "source": [
    "(leap.core::clear-path)\n",
    "(add-path *default-pathname-defaults*)\n",
    "(add-path \"~/Development/amber16/dat/leap/cmd/\")\n",
    "(add-path \"~/Development/amber16/dat/leap/lib/\")\n",
    "(add-path \"~/Development/amber16/dat/leap/parm/\")\n",
    "(add-path \"~/Development/amber16/dat/leap/prep/\")\n",
    "(add-path \"~/Development/amber16/dat/antechamber/\")"
   ]
  },
  {
   "cell_type": "markdown",
   "metadata": {},
   "source": [
    "#### Load the amber force field."
   ]
  },
  {
   "cell_type": "code",
   "execution_count": 3,
   "metadata": {},
   "outputs": [
    {
     "data": {
      "text/plain": [
       "(#<FORCE-FIELD ATOMTYPE_AMBER.DEF>)"
      ]
     },
     "execution_count": 3,
     "metadata": {},
     "output_type": "execute_result"
    }
   ],
   "source": [
    "(load-atom-type-rules \"ATOMTYPE_AMBER.DEF\")"
   ]
  },
  {
   "cell_type": "code",
   "execution_count": 4,
   "metadata": {
    "scrolled": true
   },
   "outputs": [
    {
     "name": "stderr",
     "output_type": "stream",
     "text": [
      "SIMPLE-WARNING: \n",
      "add-atom-types doesn't do anything\n",
      "SIMPLE-WARNING: \n",
      "Warning!  Skipping 10-12 hbond\n",
      "SIMPLE-WARNING: \n",
      "Warning!  Skipping force field atom equivalences\n"
     ]
    },
    {
     "data": {
      "text/plain": [
       "T"
      ]
     },
     "execution_count": 4,
     "metadata": {},
     "output_type": "execute_result"
    }
   ],
   "source": [
    "(source \"leaprc.protein.ff14SB\")"
   ]
  },
  {
   "cell_type": "code",
   "execution_count": 5,
   "metadata": {},
   "outputs": [
    {
     "data": {
      "text/plain": [
       "(#<FORCE-FIELD water_amber.def> #<FORCE-FIELD frcmod.ff14SB>\n",
       " #<FORCE-FIELD parm10.dat> #<FORCE-FIELD ATOMTYPE_AMBER.DEF>)"
      ]
     },
     "execution_count": 5,
     "metadata": {},
     "output_type": "execute_result"
    }
   ],
   "source": [
    "(load-atom-type-rules \"water_amber.def\")"
   ]
  },
  {
   "cell_type": "code",
   "execution_count": 6,
   "metadata": {
    "scrolled": true
   },
   "outputs": [
    {
     "data": {
      "text/plain": [
       "*FF*"
      ]
     },
     "execution_count": 6,
     "metadata": {},
     "output_type": "execute_result"
    }
   ],
   "source": [
    "(:= *ff* (leap.core::merged-force-field))"
   ]
  },
  {
   "cell_type": "markdown",
   "metadata": {},
   "source": [
    "## Create topology and coordinate file for Alanine"
   ]
  },
  {
   "cell_type": "markdown",
   "metadata": {},
   "source": [
    "#### Load the alanine from Chemdraw file."
   ]
  },
  {
   "cell_type": "code",
   "execution_count": 7,
   "metadata": {
    "scrolled": true
   },
   "outputs": [
    {
     "data": {
      "text/plain": [
       "*CHEMAGG*"
      ]
     },
     "execution_count": 7,
     "metadata": {},
     "output_type": "execute_result"
    }
   ],
   "source": [
    "(defparameter *chemagg* (cando:load-chem-draw-aggregate \"alanine2.cdxml\"))"
   ]
  },
  {
   "cell_type": "code",
   "execution_count": 8,
   "metadata": {},
   "outputs": [
    {
     "data": {
      "text/plain": [
       "NIL"
      ]
     },
     "execution_count": 8,
     "metadata": {},
     "output_type": "execute_result"
    }
   ],
   "source": [
    "(build-hydrogens *chemagg*)"
   ]
  },
  {
   "cell_type": "code",
   "execution_count": 9,
   "metadata": {},
   "outputs": [
    {
     "data": {
      "application/vnd.jupyter.widget-view+json": {
       "model_id": "D00AB0B2-7876-440A-A738-A61613A50EFB",
       "version_major": 2,
       "version_minor": 0
      },
      "text/html": [
       "<p>Failed to display Jupyter Widget of type <code>{widget_type}</code>.</p>\n",
       "<p>\n",
       "  If you're reading this message in the Jupyter Notebook or JupyterLab Notebook, it may mean\n",
       "  that the widgets JavaScript is still loading. If this message persists, it\n",
       "  likely means that the widgets JavaScript library is either not installed or\n",
       "  not enabled. See the <a href=\"https://ipywidgets.readthedocs.io/en/stable/user_install.html\">Jupyter\n",
       "  Widgets Documentation</a> for setup instructions.\n",
       "</p>\n",
       "<p>\n",
       "  If you're reading this message in another frontend (for example, a static\n",
       "  rendering on GitHub or <a href=\"https://nbviewer.jupyter.org/\">NBViewer</a>),\n",
       "  it may mean that your frontend doesn't currently support widgets.\n",
       "</p>\n"
      ],
      "text/plain": [
       "A Jupyter Widget"
      ]
     },
     "execution_count": 9,
     "metadata": {},
     "output_type": "execute_result"
    }
   ],
   "source": [
    "(cando::show-aggregate *chemagg*)"
   ]
  },
  {
   "cell_type": "code",
   "execution_count": 10,
   "metadata": {},
   "outputs": [
    {
     "name": "stderr",
     "output_type": "stream",
     "text": [
      "An error occurred of type: UNDEFINED-FUNCTION: \n",
      "  #<UNDEFINED-FUNCTION>\n"
     ]
    },
    {
     "data": {
      "text/plain": [
       "NIL"
      ]
     },
     "execution_count": 10,
     "metadata": {},
     "output_type": "execute_result"
    }
   ],
   "source": [
    "(nglv::show-aggregate *chemagg*)"
   ]
  },
  {
   "cell_type": "markdown",
   "metadata": {},
   "source": [
    "#### Gather atoms to the center."
   ]
  },
  {
   "cell_type": "code",
   "execution_count": 11,
   "metadata": {},
   "outputs": [
    {
     "name": "stdout",
     "output_type": "stream",
     "text": [
      "C_0    S\n"
     ]
    },
    {
     "data": {
      "text/plain": [
       "NIL"
      ]
     },
     "execution_count": 11,
     "metadata": {},
     "output_type": "execute_result"
    }
   ],
   "source": [
    "(progn\n",
    "  (defparameter *stereocenters*\n",
    "    (sort (cando:gather-stereocenters *chemagg*) #'string< :key #'chem:get-name))\n",
    "  (cando:set-stereoisomer-func *stereocenters* (constantly :S) :show t)\n",
    "  (let ((quat-matcher (core:make-cxx-object 'chem:chem-info)))\n",
    "    (chem:compile-smarts quat-matcher \"[C&H0&D4]\")\n",
    "    (chem:map-atoms nil (lambda (a) (when (chem:matches quat-matcher a)\n",
    "                  (chem:set-configuration a :S)\n",
    "                  (format t \"Set atom ~a to :S~%\" (chem:get-name a))))\n",
    "            *chemagg*)))"
   ]
  },
  {
   "cell_type": "markdown",
   "metadata": {},
   "source": [
    "#### Set the bounding box."
   ]
  },
  {
   "cell_type": "markdown",
   "metadata": {},
   "source": [
    "#### Assign atom types and change one of them for alanine atom type definition."
   ]
  },
  {
   "cell_type": "code",
   "execution_count": 12,
   "metadata": {},
   "outputs": [
    {
     "data": {
      "text/plain": [
       "NIL"
      ]
     },
     "execution_count": 12,
     "metadata": {},
     "output_type": "execute_result"
    }
   ],
   "source": [
    "(assign-atom-types *chemagg*)\n",
    "(chem:map-atoms 'nil (lambda (a) (if (eq (chem:get-type a) :CT)\n",
    "                                     (if (eq (chem:get-name a) :C)\n",
    "                                         (chem:set-type a :CX)))) *chemagg*)"
   ]
  },
  {
   "cell_type": "code",
   "execution_count": 13,
   "metadata": {},
   "outputs": [
    {
     "name": "stdout",
     "output_type": "stream",
     "text": [
      "type O name O\n",
      " type C name C\n",
      " type CT name C_0\n",
      " type N name NH\n",
      " type H1 name H\n",
      " type CT name CH3\n",
      " type HC name HH31\n",
      " type HC name HH32\n",
      " type HC name HH33\n",
      " type H name HH\n",
      " type N name NH\n",
      " type CT name CH3\n",
      " type H1 name HH31\n",
      " type H1 name HH32\n",
      " type H1 name HH33\n",
      " type H name HH\n",
      " type C name C\n",
      " type CT name CH3\n",
      " type O name O\n",
      " type HC name HH31\n",
      " type HC name HH32\n",
      " type HC name HH33\n",
      " "
     ]
    },
    {
     "data": {
      "text/plain": [
       "NIL"
      ]
     },
     "execution_count": 13,
     "metadata": {},
     "output_type": "execute_result"
    }
   ],
   "source": [
    "(chem:map-atoms 'nil (lambda (a)  (format t \"type ~a name ~a~% \" (chem:get-type a) (chem:get-name a)))\n",
    "                             *chemagg*)"
   ]
  },
  {
   "cell_type": "code",
   "execution_count": 14,
   "metadata": {},
   "outputs": [
    {
     "name": "stdout",
     "output_type": "stream",
     "text": [
      "type CT name C_0 "
     ]
    },
    {
     "data": {
      "text/plain": [
       "NIL"
      ]
     },
     "execution_count": 14,
     "metadata": {},
     "output_type": "execute_result"
    }
   ],
   "source": [
    "\n",
    "(chem:map-atoms 'nil (lambda (a) (if (eq (chem:get-name a) :C_0)\n",
    "                                     (format t \"type ~a name ~a \" (chem:get-type a) (chem:get-name a))))\n",
    "                             *chemagg*)"
   ]
  },
  {
   "cell_type": "markdown",
   "metadata": {},
   "source": [
    "####  Assign force-field parameters and minimize the energy of the molecule."
   ]
  },
  {
   "cell_type": "code",
   "execution_count": 15,
   "metadata": {},
   "outputs": [
    {
     "data": {
      "text/plain": [
       "NIL"
      ]
     },
     "execution_count": 15,
     "metadata": {},
     "output_type": "execute_result"
    }
   ],
   "source": [
    "(cando:jostle *chemagg*)"
   ]
  },
  {
   "cell_type": "code",
   "execution_count": 16,
   "metadata": {},
   "outputs": [
    {
     "name": "stdout",
     "output_type": "stream",
     "text": [
      "atom-name-vector -> #(:O :C :C_0 :NH :H :CH3 :HH31 :HH32 :HH33 :HH :NH :CH3\n",
      "                      :HH31 :HH32 :HH33 :HH :C :CH3 :O :HH31 :HH32 :HH33)\n",
      "atom-type-vector -> #(:O :C :CT :N :H1 :CT :HC :HC :HC :H :N :CT :H1 :H1 :H1 :H\n",
      "                      :C :CT :O :HC :HC :HC)\n",
      "type-index-vector -> #(50 0 13 41 25 13 24 24 24 23 41 13 25 25 25 23 0 13 50\n",
      "                       24 24 24)\n",
      "minimize-no-fail\n",
      "======= Starting Steepest Descent Minimizer\n",
      "---Stage-Seconds--Step-log(Alpha)--Dir-------------Energy-----------RMSforce\n",
      " minSDnP       0     1      -inf   0.0              0.000          14896.627\n",
      " minSDnP       0     2     -8.03   0.0        2580917.612           7018.823\n",
      " minSDnP       0     3     -7.72   0.0        1912834.526           7182.346\n",
      "DONE absolute force test:\n",
      "forceRmsMag(3143.303599).LT.forceTolerance(5000.000000)\n",
      "======= Starting Conjugate Gradient Minimizer\n",
      " minCGnP       0     4      -inf   0.0              0.000           3143.304\n",
      " minCGnP       0     5     -6.72  53.7        1288412.818           4271.414\n",
      " minCGnP       0     6    -10.17  77.6        1250282.683          11934.647\n",
      " minCGnP       0     7    -11.56  76.7        1177191.763          12700.007\n",
      " minCGnP       0     8    -10.92  81.5        1075303.302          19853.357\n",
      " minCGnP       0     9    -11.61  56.8        1009015.594           2832.500\n",
      " minCGnP       0    10     -8.34  45.9         961499.522           2257.294\n",
      "---Stage-Seconds--Step-log(Alpha)--Dir-------------Energy-----------RMSforce\n",
      " minCGnP       0    11     -7.27  66.7         828045.427           3491.124\n",
      " minCGnP       0    12     -8.35  70.5         750822.031           4541.764\n",
      " minCGnP       0    13     -9.67  75.7         701491.849           6416.825\n",
      " minCGnP       0    14     -8.48  50.7         481395.616           2831.646\n",
      " minCGnP       0    15     -8.87  64.4         431883.814           3871.329\n",
      " minCGnP       0    16     -8.86  71.9         357404.079           3516.899\n",
      " minCGnP       0    17     -9.44  57.1         326728.033           2751.707\n",
      " minCGnP       0    18     -8.69  81.6         278697.588          10348.201\n",
      " minCGnP       0    19    -10.99  77.1         230365.081           6715.424\n",
      " minCGnP       0    20    -10.57  19.7         218534.339           2134.126\n",
      "---Stage-Seconds--Step-log(Alpha)--Dir-------------Energy-----------RMSforce\n",
      " minCGnP       0    21     -8.00  38.6         164303.351           1529.012\n",
      " minCGnP       0    22     -8.39  45.5         156545.309           1457.941\n",
      " minCGnP       0    23     -9.93  70.0         153304.928           2774.114\n",
      " minCGnP       0    24    -11.46  59.0         150102.959           1633.371\n",
      " minCGnP       0    25     -9.01  54.9         142685.845           1394.016\n",
      " minCGnP       0    26     -8.98  56.2         137238.890           1430.761\n",
      " minCGnP       0    27     -8.80  57.6         128718.487           1335.256\n",
      " minCGnP       0    28     -8.11  60.5         113503.940           1425.809\n",
      " minCGnP       0    29     -8.33  72.8         101231.026           2437.494\n",
      " minCGnP       0    30     -9.72  50.1          94171.068           1284.458\n",
      "---Stage-Seconds--Step-log(Alpha)--Dir-------------Energy-----------RMSforce\n",
      " minCGnP       0    31     -8.26  52.3          80911.958           1002.835\n",
      " minCGnP       0    32     -8.14  52.9          71718.899            909.987\n",
      " minCGnP       0    33     -8.11  64.6          61815.791            995.285\n",
      " minCGnP       0    34     -7.99  70.1          51333.219           1008.429\n",
      " minCGnP       0    35     -8.49  62.8          44403.243            905.917\n",
      " minCGnP       0    36     -8.37  70.0          37248.404           1354.140\n",
      " minCGnP       0    37    -10.03  69.7          34297.396           1648.716\n",
      " minCGnP       0    38     -9.16  66.4          28265.608           1184.407\n",
      " minCGnP       0    39     -9.41  56.7          25340.920            763.050\n",
      " minCGnP       0    40     -8.37  62.9          20813.275            878.476\n",
      "---Stage-Seconds--Step-log(Alpha)--Dir-------------Energy-----------RMSforce\n",
      " minCGnP       0    41     -9.89  52.5          20021.742            824.516\n",
      " minCGnP       0    42     -9.22  50.4          18728.158            359.650\n",
      " minCGnP       0    43     -7.90  66.4          17043.572            580.775\n",
      " minCGnP       0    44     -8.93  70.4          15598.706            744.648\n",
      " minCGnP       0    45     -9.48  51.4          14565.420            523.522\n",
      " minCGnP       0    46     -8.51  56.0          13283.031            401.997\n",
      " minCGnP       0    47     -8.54  58.9          11984.133            481.050\n",
      " minCGnP       0    48     -8.95  54.4          10877.607            519.287\n",
      " minCGnP       0    49     -9.83  37.4          10474.276            311.845\n",
      " minCGnP       0    50     -9.04  47.1          10181.043            211.142\n",
      "---Stage-Seconds--Step-log(Alpha)--Dir-------------Energy-----------RMSforce\n",
      " minCGnP       0    51     -8.07  61.2           9639.806            282.819\n",
      " minCGnP       0    52     -8.40  69.7           8999.411            349.483\n",
      " minCGnP       0    53     -8.11  72.3           7989.394            313.626\n",
      " minCGnP       0    54     -7.89  78.5           6409.104            529.345\n",
      " minCGnP       0    55     -8.98  80.2           5468.217            588.464\n",
      " minCGnP       0    56     -9.63  72.5           4823.074            436.762\n",
      " minCGnP       0    57     -8.93  60.3           4272.361            211.700\n",
      " minCGnP       0    58     -8.01  66.9           3739.731            260.028\n",
      " minCGnP       0    59     -8.96  61.1           3471.785            212.209\n",
      " minCGnP       0    60     -8.86  49.2           3263.735            143.697\n",
      "---Stage-Seconds--Step-log(Alpha)--Dir-------------Energy-----------RMSforce\n",
      " minCGnP       0    61     -8.89  42.0           3175.805             89.869\n",
      " minCGnP       0    62     -8.19  50.7           3106.846             84.168\n",
      " minCGnP       0    63     -8.62  49.1           3064.383             62.701\n",
      " minCGnP       0    64     -8.06  58.8           3021.571             67.020\n",
      " minCGnP       0    65     -8.08  66.3           2975.805             75.886\n",
      " minCGnP       0    66     -8.36  70.0           2930.250             83.904\n",
      " minCGnP       0    67     -8.36  68.1           2876.471             77.738\n",
      " minCGnP       0    68     -8.23  70.1           2823.969             75.345\n",
      " minCGnP       0    69     -8.22  68.4           2772.697             66.790\n",
      " minCGnP       0    70     -8.51   0.0           2743.893             58.672\n",
      "---Stage-Seconds--Step-log(Alpha)--Dir-------------Energy-----------RMSforce\n",
      " minCGnP       0    71     -8.90  30.3           2728.546             34.290\n",
      " minCGnP       0    72     -7.98  55.2           2715.084             42.744\n",
      " minCGnP       0    73     -8.56  55.0           2703.660             35.342\n",
      " minCGnP       0    74     -7.78  65.0           2686.523             44.440\n",
      " minCGnP       0    75     -8.25  49.3           2669.226             27.717\n",
      " minCGnP       0    76     -8.17  58.2           2661.998             29.390\n",
      " minCGnP       0    77     -7.98  68.4           2652.306             38.950\n",
      " minCGnP       0    78     -8.30  68.3           2639.663             35.897\n",
      " minCGnP       0    79     -7.96  70.2           2624.625             38.937\n",
      " minCGnP       0    80     -8.21  68.3           2611.353             33.788\n",
      "---Stage-Seconds--Step-log(Alpha)--Dir-------------Energy-----------RMSforce\n",
      " minCGnP       0    81     -7.50  73.3           2590.794             40.308\n",
      " minCGnP       0    82     -8.42  68.5           2578.884             32.181\n",
      " minCGnP       0    83     -8.19  73.9           2569.363             41.393\n",
      " minCGnP       0    84     -8.32  70.3           2555.560             29.108\n",
      " minCGnP       0    85     -8.57  65.5           2550.212             21.721\n",
      " minCGnP       0    86     -7.41  74.2           2540.795             31.339\n",
      " minCGnP       0    87     -7.97  71.3           2529.737             24.189\n",
      " minCGnP       0    88     -8.29  67.2           2524.834             17.730\n",
      " minCGnP       0    89     -8.24  65.3           2522.081             15.080\n",
      " minCGnP       0    90     -7.94  73.9           2519.404             21.825\n",
      "---Stage-Seconds--Step-log(Alpha)--Dir-------------Energy-----------RMSforce\n",
      " minCGnP       0    91     -8.49  70.3           2516.188             16.325\n",
      " minCGnP       0    92     -8.36  70.3           2514.111             15.519\n",
      " minCGnP       0    93     -7.93  66.3           2511.241             12.388\n",
      " minCGnP       0    94     -8.22  67.2           2509.888             11.570\n",
      " minCGnP       0    95     -7.59  76.4           2507.649             18.379\n",
      " minCGnP       0    96     -8.52  71.6           2505.434             13.877\n",
      " minCGnP       0    97     -8.65  69.5           2504.323             11.789\n",
      " minCGnP       0    98     -7.67  69.6           2502.194             10.319\n",
      " minCGnP       0    99     -8.37  66.0           2501.380              8.089\n",
      " minCGnP       0   100     -7.94  72.8           2500.610             10.592\n",
      "---Stage-Seconds--Step-log(Alpha)--Dir-------------Energy-----------RMSforce\n",
      " minCGnP       0   101     -8.38  71.4           2499.759              9.453\n",
      " minCGnP       0   102     -8.58  67.7           2499.206              7.391\n",
      " minCGnP       0   103     -8.04  65.8           2498.628              6.128\n",
      " minCGnP       0   104     -7.85  73.1           2498.143              8.282\n",
      " minCGnP       0   105     -7.88  70.0           2497.286              6.930\n",
      " minCGnP       0   106     -8.26  69.2           2496.877              6.219\n",
      " minCGnP       0   107     -7.83  73.2           2496.366              7.230\n",
      " minCGnP       0   108     -8.66  68.4           2496.068              5.265\n",
      " minCGnP       0   109     -8.30  72.8           2495.842              6.246\n",
      " minCGnP       0   110     -7.92  69.7           2495.374              4.914\n",
      "---Stage-Seconds--Step-log(Alpha)--Dir-------------Energy-----------RMSforce\n",
      " minCGnP       0   111     -8.16  70.8           2495.146              4.992\n",
      " minCGnP       0   112     -7.99  70.5           2494.868              4.639\n",
      " minCGnP       0   113     -8.54  66.4           2494.729              3.537\n",
      " minCGnP       0   114     -8.36  71.7           2494.632              4.289\n",
      " minCGnP       0   115     -7.86  72.3           2494.399              4.231\n",
      " minCGnP       0   116     -7.93  75.7           2494.187              5.033\n",
      " minCGnP       0   117     -8.16  72.1           2493.948              3.721\n",
      " minCGnP       0   118     -7.92  75.2           2493.782              4.285\n",
      " minCGnP       0   119     -8.16  76.8           2493.609              4.723\n",
      " minCGnP       0   120     -8.51  75.8           2493.460              4.321\n",
      "---Stage-Seconds--Step-log(Alpha)--Dir-------------Energy-----------RMSforce\n",
      " minCGnP       0   121     -7.99  78.3           2493.250              5.172\n",
      " minCGnP       0   122     -8.26  72.7           2493.023              3.296\n",
      " minCGnP       0   123     -7.65  77.7           2492.852              4.497\n",
      " minCGnP       0   124     -8.31  71.9           2492.689              2.984\n",
      " minCGnP       0   125     -7.77  76.3           2492.565              3.791\n",
      " minCGnP       0   126     -7.94  74.4           2492.396              3.208\n",
      " minCGnP       0   127     -8.52  70.4           2492.328              2.410\n",
      " minCGnP       0   128     -7.64  78.7           2492.236              4.065\n",
      " minCGnP       0   129     -8.41  78.6           2492.114              3.943\n",
      " minCGnP       0   130     -7.91  79.4           2491.926              4.164\n",
      "---Stage-Seconds--Step-log(Alpha)--Dir-------------Energy-----------RMSforce\n",
      " minCGnP       0   131     -8.46  75.5           2491.806              2.877\n",
      " minCGnP       0   132     -7.68  80.1           2491.680              4.118\n",
      " minCGnP       0   133     -7.54  81.4           2491.382              4.744\n",
      " minCGnP       0   134     -8.18  82.0           2491.173              5.120\n",
      " minCGnP       0   135     -7.96  79.5           2490.869              4.043\n",
      " minCGnP       0   136     -8.64   0.0           2490.773              3.567\n",
      " minCGnP       0   137     -8.96  38.8           2490.720              2.868\n",
      " minCGnP       0   138     -7.86  54.6           2490.615              3.153\n",
      " minCGnP       0   139     -8.55  48.1           2490.552              2.031\n",
      " minCGnP       0   140     -7.50  54.5           2490.477              1.903\n",
      "---Stage-Seconds--Step-log(Alpha)--Dir-------------Energy-----------RMSforce\n",
      " minCGnP       0   141     -7.84  62.7           2490.430              2.140\n",
      " minCGnP       0   142     -7.91  68.9           2490.375              2.534\n",
      " minCGnP       0   143     -8.61  69.4           2490.336              2.419\n",
      " minCGnP       0   144     -7.75  70.5           2490.253              2.399\n",
      " minCGnP       0   145     -8.38  69.0           2490.210              2.093\n",
      " minCGnP       0   146     -6.86  76.3           2490.058              3.073\n",
      " minCGnP       0   147     -8.23  74.4           2489.974              2.611\n",
      " minCGnP       0   148     -8.09  78.3           2489.906              3.380\n",
      " minCGnP       0   149     -8.72  68.3           2489.844              1.735\n",
      " minCGnP       0   150     -7.40  78.5           2489.783              3.165\n",
      "---Stage-Seconds--Step-log(Alpha)--Dir-------------Energy-----------RMSforce\n",
      " minCGnP       0   151     -7.91  76.0           2489.663              2.524\n",
      " minCGnP       0   152     -6.49  77.2           2489.346              2.632\n",
      " minCGnP       0   153     -8.76  73.3           2489.310              1.924\n",
      " minCGnP       0   154     -7.83  80.1           2489.262              3.180\n",
      " minCGnP       0   155     -8.33  76.0           2489.181              2.265\n",
      " minCGnP       0   156     -7.81  79.6           2489.112              2.991\n",
      " minCGnP       0   157     -7.07  82.4           2488.868              3.866\n",
      " minCGnP       0   158     -8.07  82.8           2488.710              4.077\n",
      " minCGnP       0   159     -8.80  79.6           2488.627              3.036\n",
      " minCGnP       0   160     -7.90  82.8           2488.515              4.329\n",
      "---Stage-Seconds--Step-log(Alpha)--Dir-------------Energy-----------RMSforce\n",
      " minCGnP       0   161     -7.83  80.7           2488.268              3.181\n",
      " minCGnP       0   162     -7.97  81.9           2488.154              3.531\n",
      " minCGnP       0   163     -7.85  83.7           2487.993              4.414\n",
      " minCGnP       0   164     -8.90  79.4           2487.904              2.717\n",
      " minCGnP       0   165     -7.42  80.7           2487.758              3.121\n",
      " minCGnP       0   166     -8.15  80.4           2487.666              2.992\n",
      " minCGnP       0   167     -7.97  80.1           2487.564              2.767\n",
      " minCGnP       0   168     -7.87  84.5           2487.468              4.898\n",
      " minCGnP       0   169     -8.00  84.7           2487.198              5.271\n",
      " minCGnP       0   170     -8.23  82.2           2486.951              4.186\n",
      "---Stage-Seconds--Step-log(Alpha)--Dir-------------Energy-----------RMSforce\n",
      " minCGnP       0   171     -7.71  83.2           2486.691              4.882\n",
      " minCGnP       0   172     -8.93  79.1           2486.587              2.911\n",
      " minCGnP       0   173     -8.40  79.8           2486.523              3.036\n",
      " minCGnP       0   174     -7.51  81.0           2486.358              3.365\n",
      " minCGnP       0   175     -7.65  84.4           2486.181              5.344\n",
      " minCGnP       0   176     -8.85  80.4           2486.046              3.013\n",
      " minCGnP       0   177     -8.12  81.2           2485.957              3.244\n",
      " minCGnP       0   178     -8.01  80.6           2485.841              2.991\n",
      " minCGnP       0   179     -7.92  84.3           2485.733              4.937\n",
      " minCGnP       0   180     -8.43  80.6           2485.555              3.317\n",
      "---Stage-Seconds--Step-log(Alpha)--Dir-------------Energy-----------RMSforce\n",
      " minCGnP       0   181     -8.04  81.5           2485.438              3.628\n",
      " minCGnP       0   182     -8.03  82.6           2485.298              3.983\n",
      " minCGnP       0   183     -8.68  81.9           2485.210              3.488\n",
      " minCGnP       0   184     -8.13  80.3           2485.090              2.928\n",
      " minCGnP       0   185     -8.30  80.0           2485.020              2.871\n",
      " minCGnP       0   186     -8.11  82.9           2484.938              4.016\n",
      " minCGnP       0   187     -8.51  79.2           2484.830              2.580\n",
      " minCGnP       0   188     -7.34  83.8           2484.688              4.421\n",
      " minCGnP       0   189     -8.62  81.4           2484.572              2.998\n",
      " minCGnP       0   190     -8.83  78.3           2484.529              2.216\n",
      "---Stage-Seconds--Step-log(Alpha)--Dir-------------Energy-----------RMSforce\n",
      " minCGnP       0   191     -7.85  78.6           2484.466              2.244\n",
      " minCGnP       0   192     -7.94  82.5           2484.407              3.374\n",
      " minCGnP       0   193     -8.41  82.4           2484.323              3.250\n",
      " minCGnP       0   194     -8.24  81.9           2484.232              2.948\n",
      " minCGnP       0   195     -7.50  84.9           2484.069              4.727\n",
      " minCGnP       0   196     -8.84  81.3           2483.963              3.079\n",
      " minCGnP       0   197     -8.55  79.5           2483.902              2.487\n",
      " minCGnP       0   198     -7.82  80.2           2483.821              2.542\n",
      " minCGnP       0   199     -7.83  84.6           2483.736              4.596\n",
      " minCGnP       0   200     -8.29  82.4           2483.559              3.390\n",
      "---Stage-Seconds--Step-log(Alpha)--Dir-------------Energy-----------RMSforce\n",
      " minCGnP       0   201     -8.09  83.4           2483.443              3.886\n",
      " minCGnP       0   202     -8.07   0.0           2483.287              3.888\n",
      " minCGnP       0   203     -9.32  25.2           2483.242              1.832\n",
      " minCGnP       0   204     -8.16  45.7           2483.210              1.697\n",
      " minCGnP       0   205     -7.67  55.7           2483.166              1.736\n",
      " minCGnP       0   206     -7.70  55.8           2483.121              1.441\n",
      " minCGnP       0   207     -8.33  58.9           2483.104              1.343\n",
      " minCGnP       0   208     -7.62  62.8           2483.075              1.352\n",
      " minCGnP       0   209     -8.74  65.0           2483.065              1.324\n",
      " minCGnP       0   210     -7.38  74.1           2483.029              1.963\n",
      "---Stage-Seconds--Step-log(Alpha)--Dir-------------Energy-----------RMSforce\n",
      " minCGnP       0   211     -8.26  62.8           2482.997              1.043\n",
      " minCGnP       0   212     -7.33  74.3           2482.973              1.695\n",
      " minCGnP       0   213     -8.27  66.3           2482.949              1.045\n",
      " minCGnP       0   214     -7.72  73.0           2482.933              1.374\n",
      " minCGnP       0   215     -8.90  66.9           2482.924              0.940\n",
      " minCGnP       0   216     -7.41  70.7           2482.907              1.053\n",
      " minCGnP       0   217     -7.85  76.8           2482.892              1.476\n",
      " minCGnP       0   218     -7.37  76.8           2482.847              1.436\n",
      " minCGnP       0   219     -8.57  71.8           2482.834              0.996\n",
      " minCGnP       0   220     -8.36  75.8           2482.826              1.233\n",
      "---Stage-Seconds--Step-log(Alpha)--Dir-------------Energy-----------RMSforce\n",
      " minCGnP       0   221     -8.11  69.7           2482.811              0.821\n",
      " minCGnP       0   222     -6.48  80.0           2482.777              1.613\n",
      " minCGnP       0   223     -8.57  74.2           2482.761              0.987\n",
      " minCGnP       0   224     -8.11  77.3           2482.751              1.192\n",
      " minCGnP       0   225     -8.59  73.9           2482.742              0.910\n",
      " minCGnP       0   226     -8.10  76.8           2482.734              1.073\n",
      " minCGnP       0   227     -7.11  77.3           2482.703              1.086\n",
      " minCGnP       0   228     -7.89  80.2           2482.688              1.391\n",
      " minCGnP       0   229     -8.07  80.5           2482.668              1.423\n",
      " minCGnP       0   230     -8.40  81.6           2482.653              1.588\n",
      "---Stage-Seconds--Step-log(Alpha)--Dir-------------Energy-----------RMSforce\n",
      " minCGnP       0   231     -8.30  75.3           2482.633              0.881\n",
      " minCGnP       0   232     -7.22  82.0           2482.614              1.589\n",
      " minCGnP       0   233     -7.91  80.1           2482.584              1.266\n",
      " minCGnP       0   234     -8.47  80.7           2482.573              1.334\n",
      " minCGnP       0   235     -7.84  83.8           2482.550              1.967\n",
      " minCGnP       0   236     -8.49  76.0           2482.523              0.853\n",
      " minCGnP       0   237     -6.42  81.7           2482.484              1.405\n",
      " minCGnP       0   238     -8.42  83.0           2482.470              1.651\n",
      " minCGnP       0   239     -7.97  84.3           2482.438              2.039\n",
      " minCGnP       0   240     -8.31  80.5           2482.405              1.292\n",
      "---Stage-Seconds--Step-log(Alpha)--Dir-------------Energy-----------RMSforce\n",
      " minCGnP       0   241     -8.23  77.7           2482.390              0.961\n",
      " minCGnP       0   242     -8.22  75.7           2482.382              0.795\n",
      " minCGnP       0   243     -7.25  83.6           2482.367              1.763\n",
      " minCGnP       0   244     -8.61  80.7           2482.348              1.221\n",
      " minCGnP       0   245     -7.49  83.0           2482.321              1.600\n",
      " minCGnP       0   246     -8.49  74.2           2482.304              0.668\n",
      " minCGnP       0   247     -8.01  77.6           2482.299              0.823\n",
      " minCGnP       0   248     -6.87  80.1           2482.275              1.013\n",
      " minCGnP       0   249     -8.23  80.8           2482.266              1.074\n",
      " minCGnP       0   250     -8.60  77.3           2482.259              0.759\n",
      "---Stage-Seconds--Step-log(Alpha)--Dir-------------Energy-----------RMSforce\n",
      " minCGnP       0   251     -8.58  75.8           2482.256              0.664\n",
      " minCGnP       0   252     -7.63  74.4           2482.249              0.583\n",
      " minCGnP       0   253     -6.97  80.8           2482.238              0.967\n",
      " minCGnP       0   254     -8.28  78.2           2482.230              0.742\n",
      " minCGnP       0   255     -7.64  79.4           2482.222              0.807\n",
      " minCGnP       0   256     -8.35  74.9           2482.217              0.551\n",
      " minCGnP       0   257     -7.06  82.5           2482.208              1.090\n",
      "DONE absolute force test:\n",
      "forceRmsMag(0.496195).LT.forceTolerance(0.500000)\n"
     ]
    },
    {
     "data": {
      "text/plain": [
       "*EE*"
      ]
     },
     "execution_count": 16,
     "metadata": {},
     "output_type": "execute_result"
    }
   ],
   "source": [
    "(defparameter *ee* (energy:minimize *chemagg*))"
   ]
  },
  {
   "cell_type": "markdown",
   "metadata": {},
   "source": [
    "#### Visualize the minimized structure and demonstrate that the force field parameters lead to the construction of a chemically"
   ]
  },
  {
   "cell_type": "markdown",
   "metadata": {},
   "source": [
    "#### reasonable structure."
   ]
  },
  {
   "cell_type": "code",
   "execution_count": 16,
   "metadata": {},
   "outputs": [
    {
     "name": "stderr",
     "output_type": "stream",
     "text": [
      "An error occurred of type: UNDEFINED-FUNCTION: \n",
      "  #<UNDEFINED-FUNCTION>\n"
     ]
    },
    {
     "data": {
      "text/plain": [
       "NIL"
      ]
     },
     "execution_count": 16,
     "metadata": {},
     "output_type": "execute_result"
    }
   ],
   "source": [
    "(nglv::show-aggregate *chemagg*)"
   ]
  },
  {
   "cell_type": "code",
   "execution_count": 17,
   "metadata": {},
   "outputs": [
    {
     "data": {
      "application/vnd.jupyter.widget-view+json": {
       "model_id": "4A932F38-F372-4218-A4CA-54EC76B02337",
       "version_major": 2,
       "version_minor": 0
      },
      "text/html": [
       "<p>Failed to display Jupyter Widget of type <code>{widget_type}</code>.</p>\n",
       "<p>\n",
       "  If you're reading this message in the Jupyter Notebook or JupyterLab Notebook, it may mean\n",
       "  that the widgets JavaScript is still loading. If this message persists, it\n",
       "  likely means that the widgets JavaScript library is either not installed or\n",
       "  not enabled. See the <a href=\"https://ipywidgets.readthedocs.io/en/stable/user_install.html\">Jupyter\n",
       "  Widgets Documentation</a> for setup instructions.\n",
       "</p>\n",
       "<p>\n",
       "  If you're reading this message in another frontend (for example, a static\n",
       "  rendering on GitHub or <a href=\"https://nbviewer.jupyter.org/\">NBViewer</a>),\n",
       "  it may mean that your frontend doesn't currently support widgets.\n",
       "</p>\n"
      ],
      "text/plain": [
       "A Jupyter Widget"
      ]
     },
     "execution_count": 17,
     "metadata": {},
     "output_type": "execute_result"
    }
   ],
   "source": [
    "(cando::show-aggregate *chemagg*)"
   ]
  },
  {
   "cell_type": "code",
   "execution_count": 16,
   "metadata": {},
   "outputs": [
    {
     "name": "stdout",
     "output_type": "stream",
     "text": [
      "rings NIL\n",
      "rings NIL\n",
      "rings NIL\n",
      "rings NIL\n",
      "rings NIL\n",
      "rings NIL\n"
     ]
    },
    {
     "data": {
      "text/plain": [
       "*BCC*"
      ]
     },
     "execution_count": 16,
     "metadata": {},
     "output_type": "execute_result"
    }
   ],
   "source": [
    "(:= *bcc* (charges:calculate-bcc-corrections *chemagg*))"
   ]
  },
  {
   "cell_type": "code",
   "execution_count": 17,
   "metadata": {},
   "outputs": [
    {
     "data": {
      "text/plain": [
       "*ORDER*"
      ]
     },
     "execution_count": 17,
     "metadata": {},
     "output_type": "execute_result"
    }
   ],
   "source": [
    " (:= *order* (charges:write-sqm-calculation (open \"/tmp/sqm-input.txt\" :direction :output) *chemagg*))"
   ]
  },
  {
   "cell_type": "code",
   "execution_count": 18,
   "metadata": {},
   "outputs": [
    {
     "data": {
      "text/plain": [
       "0"
      ]
     },
     "execution_count": 18,
     "metadata": {},
     "output_type": "execute_result"
    }
   ],
   "source": [
    "(ext:vfork-execvp (list (namestring (translate-logical-pathname #P\"amber:bin;sqm\"))\n",
    "                             \"-O\"\n",
    "                             \"-i\" \"/tmp/sqm-input.txt\"\n",
    "                             \"-o\" \"/tmp/sqm-output.out\"))"
   ]
  },
  {
   "cell_type": "code",
   "execution_count": 19,
   "metadata": {},
   "outputs": [
    {
     "data": {
      "text/plain": [
       "*AM1*"
      ]
     },
     "execution_count": 19,
     "metadata": {},
     "output_type": "execute_result"
    }
   ],
   "source": [
    "(:= *am1* (charges:read-am1-charges \"/tmp/sqm-output.out\" *order*))"
   ]
  },
  {
   "cell_type": "code",
   "execution_count": 20,
   "metadata": {},
   "outputs": [
    {
     "name": "stdout",
     "output_type": "stream",
     "text": [
      "atom #<ATOM :NH/:N> charge -0.377d0\n",
      "atom #<ATOM :HH/:H> charge 0.23500000000000001d0\n",
      "atom #<ATOM :C_0/:C> charge 0.006d0\n",
      "atom #<ATOM :NH/:N> charge -0.364d0\n",
      "atom #<ATOM :HH33/:H> charge 0.092d0\n",
      "atom #<ATOM :HH32/:H> charge 0.07d0\n",
      "atom #<ATOM :O/:O> charge -0.371d0\n",
      "atom #<ATOM :HH/:H> charge 0.227d0\n",
      "atom #<ATOM :HH32/:H> charge 0.10300000000000001d0\n",
      "atom #<ATOM :H/:H> charge 0.137d0\n",
      "atom #<ATOM :HH31/:H> charge 0.094d0\n",
      "atom #<ATOM :HH33/:H> charge 0.117d0\n",
      "atom #<ATOM :CH3/:C> charge -0.079d0\n",
      "atom #<ATOM :CH3/:C> charge -0.24100000000000002d0\n",
      "atom #<ATOM :O/:O> charge -0.38d0\n",
      "atom #<ATOM :HH31/:H> charge 0.117d0\n",
      "atom #<ATOM :CH3/:C> charge -0.22d0\n",
      "atom #<ATOM :C/:C> charge 0.275d0\n",
      "atom #<ATOM :HH31/:H> charge 0.10400000000000001d0\n",
      "atom #<ATOM :C/:C> charge 0.302d0\n",
      "atom #<ATOM :HH32/:H> charge 0.084d0\n",
      "atom #<ATOM :HH33/:H> charge 0.068d0\n"
     ]
    },
    {
     "data": {
      "text/plain": [
       "NIL"
      ]
     },
     "execution_count": 20,
     "metadata": {},
     "output_type": "execute_result"
    }
   ],
   "source": [
    "(maphash (lambda (atom charge) \n",
    "                 (format t \"atom ~a charge ~a~%\" atom charge)) *am1*)"
   ]
  },
  {
   "cell_type": "code",
   "execution_count": 28,
   "metadata": {},
   "outputs": [
    {
     "name": "stdout",
     "output_type": "stream",
     "text": [
      "atom #<ATOM :HH31/:H> charge 0.0393\n",
      "atom #<ATOM :O/:O> charge 0.2391\n",
      "atom #<ATOM :HH33/:H> charge 0.0393\n",
      "atom #<ATOM :O/:O> charge 0.2391\n",
      "atom #<ATOM :NH/:N> charge -0.0466\n",
      "atom #<ATOM :CH3/:C> charge 0.1179\n",
      "atom #<ATOM :C/:C> charge 0.1475\n",
      "atom #<ATOM :H/:H> charge 0.0393\n",
      "atom #<ATOM :NH/:N> charge -0.0466\n",
      "atom #<ATOM :HH/:H> charge -0.2048\n",
      "atom #<ATOM :HH/:H> charge -0.2048\n",
      "atom #<ATOM :HH33/:H> charge 0.0393\n",
      "atom #<ATOM :HH31/:H> charge 0.0393\n",
      "atom #<ATOM :HH32/:H> charge 0.0393\n",
      "atom #<ATOM :CH3/:C> charge 0.27609998\n",
      "atom #<ATOM :HH32/:H> charge 0.0393\n",
      "atom #<ATOM :HH32/:H> charge 0.0393\n",
      "atom #<ATOM :C/:C> charge 0.1891\n",
      "atom #<ATOM :CH3/:C> charge 0.0679\n",
      "atom #<ATOM :HH33/:H> charge 0.0393\n",
      "atom #<ATOM :C_0/:C> charge 0.1891\n",
      "atom #<ATOM :HH31/:H> charge 0.0393\n"
     ]
    },
    {
     "data": {
      "text/plain": [
       "NIL"
      ]
     },
     "execution_count": 28,
     "metadata": {},
     "output_type": "execute_result"
    }
   ],
   "source": [
    "(maphash (lambda (atom charge) \n",
    "                 (format t \"atom ~a charge ~a~%\" atom charge)) *bcc*)"
   ]
  },
  {
   "cell_type": "code",
   "execution_count": 26,
   "metadata": {},
   "outputs": [
    {
     "name": "stdout",
     "output_type": "stream",
     "text": [
      "atom #<ATOM :NH/:N> charge -0.377d0\n",
      "atom #<ATOM :HH/:H> charge 0.23500000000000001d0\n",
      "atom #<ATOM :C_0/:C> charge 0.006d0\n",
      "atom #<ATOM :NH/:N> charge -0.364d0\n",
      "atom #<ATOM :HH33/:H> charge 0.092d0\n",
      "atom #<ATOM :HH32/:H> charge 0.07d0\n",
      "atom #<ATOM :O/:O> charge -0.371d0\n",
      "atom #<ATOM :HH/:H> charge 0.227d0\n",
      "atom #<ATOM :HH32/:H> charge 0.10300000000000001d0\n",
      "atom #<ATOM :H/:H> charge 0.137d0\n",
      "atom #<ATOM :HH31/:H> charge 0.094d0\n",
      "atom #<ATOM :HH33/:H> charge 0.117d0\n",
      "atom #<ATOM :CH3/:C> charge -0.079d0\n",
      "atom #<ATOM :CH3/:C> charge -0.24100000000000002d0\n",
      "atom #<ATOM :O/:O> charge -0.38d0\n",
      "atom #<ATOM :HH31/:H> charge 0.117d0\n",
      "atom #<ATOM :CH3/:C> charge -0.22d0\n",
      "atom #<ATOM :C/:C> charge 0.275d0\n",
      "atom #<ATOM :HH31/:H> charge 0.10400000000000001d0\n",
      "atom #<ATOM :C/:C> charge 0.302d0\n",
      "atom #<ATOM :HH32/:H> charge 0.084d0\n",
      "atom #<ATOM :HH33/:H> charge 0.068d0\n"
     ]
    },
    {
     "data": {
      "text/plain": [
       "NIL"
      ]
     },
     "execution_count": 26,
     "metadata": {},
     "output_type": "execute_result"
    }
   ],
   "source": [
    "(maphash (lambda (atom charge) \n",
    "                 (format t \"atom ~a charge ~a~%\" atom charge)) *am1*)"
   ]
  },
  {
   "cell_type": "code",
   "execution_count": 24,
   "metadata": {},
   "outputs": [
    {
     "name": "stdout",
     "output_type": "stream",
     "text": [
      "rings NIL\n",
      "rings NIL\n",
      "rings NIL\n",
      "rings NIL\n",
      "rings NIL\n",
      "rings NIL\n"
     ]
    },
    {
     "data": {
      "text/plain": [
       "NIL"
      ]
     },
     "execution_count": 24,
     "metadata": {},
     "output_type": "execute_result"
    }
   ],
   "source": [
    "(charges:calculate-am1-bcc-charges *chemagg*)"
   ]
  },
  {
   "cell_type": "code",
   "execution_count": 31,
   "metadata": {},
   "outputs": [
    {
     "name": "stderr",
     "output_type": "stream",
     "text": [
      "Reader error: incomplete input (condition of type: END-OF-FILE)\n"
     ]
    },
    {
     "data": {
      "text/plain": [
       "NIL"
      ]
     },
     "execution_count": 31,
     "metadata": {},
     "output_type": "execute_result"
    }
   ],
   "source": [
    "(chem:map-atoms nil (lambda (r) (format t \"atom ~a charge ~a~%\" (chem:get-name r) (* (chem:get-charge r) 18.2223)) *chemagg*)"
   ]
  },
  {
   "cell_type": "code",
   "execution_count": 34,
   "metadata": {},
   "outputs": [
    {
     "name": "stdout",
     "output_type": "stream",
     "text": [
      "Saving matter to /Users/tuj24515/Development/clasp/extensions/cando/src/tests/alanine-demo/alanine.mol2\n"
     ]
    },
    {
     "data": {
      "text/plain": [
       "NIL"
      ]
     },
     "execution_count": 34,
     "metadata": {},
     "output_type": "execute_result"
    }
   ],
   "source": [
    "(save-mol2 *chemagg* \"alanine.mol2\")"
   ]
  },
  {
   "cell_type": "markdown",
   "metadata": {},
   "source": [
    "#### Assign atom types and change one of them for alanine atom type definition."
   ]
  },
  {
   "cell_type": "code",
   "execution_count": 18,
   "metadata": {},
   "outputs": [
    {
     "data": {
      "text/plain": [
       "NIL"
      ]
     },
     "execution_count": 18,
     "metadata": {},
     "output_type": "execute_result"
    }
   ],
   "source": [
    "(assign-atom-types *chemagg*)\n",
    "(chem:map-atoms 'nil (lambda (a) (if (eq (chem:get-type a) :CT)\n",
    "                                     (if (eq (chem:get-name a) :C)\n",
    "                                         (chem:set-type a :CX)))) *chemagg*)"
   ]
  },
  {
   "cell_type": "markdown",
   "metadata": {},
   "source": [
    "#### Save the topology file and coordinate file."
   ]
  },
  {
   "cell_type": "code",
   "execution_count": 19,
   "metadata": {},
   "outputs": [
    {
     "name": "stdout",
     "output_type": "stream",
     "text": [
      "atom-name-vector -> #(:O :C :C_0 :NH :H :CH3 :HH31 :HH32 :HH33 :HH :NH :CH3\n",
      "                      :HH31 :HH32 :HH33 :HH :C :CH3 :O :HH31 :HH32 :HH33)\n",
      "atom-type-vector -> #(:O :C :CT :N :H1 :CT :HC :HC :HC :H :N :CT :H1 :H1 :H1 :H\n",
      "                      :C :CT :O :HC :HC :HC)\n",
      "type-index-vector -> #(50 0 13 41 25 13 24 24 24 23 41 13 25 25 25 23 0 13 50\n",
      "                       24 24 24)\n",
      "atom-name-vector -> #(:O :C :C_0 :NH :H :CH3 :HH31 :HH32 :HH33 :HH :NH :CH3\n",
      "                      :HH31 :HH32 :HH33 :HH :C :CH3 :O :HH31 :HH32 :HH33)\n",
      "atom-type-vector -> #(:O :C :CT :N :H1 :CT :HC :HC :HC :H :N :CT :H1 :H1 :H1 :H\n",
      "                      :C :CT :O :HC :HC :HC)\n",
      "type-index-vector -> #(50 0 13 41 25 13 24 24 24 23 41 13 25 25 25 23 0 13 50\n",
      "                       24 24 24)\n"
     ]
    },
    {
     "data": {
      "text/plain": [
       "T"
      ]
     },
     "execution_count": 19,
     "metadata": {},
     "output_type": "execute_result"
    }
   ],
   "source": [
    "(leap.topology:save-amber-parm-format *chemagg* \"chemagg.top\" \"chemagg.crd\" :assign-types nil)"
   ]
  },
  {
   "cell_type": "markdown",
   "metadata": {},
   "source": [
    "## Create topology and coordinate file for Alanine and water atoms."
   ]
  },
  {
   "cell_type": "markdown",
   "metadata": {},
   "source": [
    "#### Load Tip3pfbox water box."
   ]
  },
  {
   "cell_type": "code",
   "execution_count": 92,
   "metadata": {},
   "outputs": [
    {
     "data": {
      "text/plain": [
       "(:TIP3PFBOX)"
      ]
     },
     "execution_count": 92,
     "metadata": {},
     "output_type": "execute_result"
    }
   ],
   "source": [
    "(load-off \"tip3pfbox.off\")"
   ]
  },
  {
   "cell_type": "markdown",
   "metadata": {},
   "source": [
    "#### Make agggregate of the water box."
   ]
  },
  {
   "cell_type": "code",
   "execution_count": 93,
   "metadata": {},
   "outputs": [
    {
     "name": "stdout",
     "output_type": "stream",
     "text": [
      "\n",
      "#<AGGREGATE NIL> "
     ]
    },
    {
     "data": {
      "text/plain": [
       "#<AGGREGATE NIL>"
      ]
     },
     "execution_count": 93,
     "metadata": {},
     "output_type": "execute_result"
    }
   ],
   "source": [
    "(print ~tip3pfbox)"
   ]
  },
  {
   "cell_type": "code",
   "execution_count": 94,
   "metadata": {},
   "outputs": [
    {
     "data": {
      "text/plain": [
       "*SOLVENT*"
      ]
     },
     "execution_count": 94,
     "metadata": {},
     "output_type": "execute_result"
    }
   ],
   "source": [
    "(defparameter *solvent* ~tip3pfbox)"
   ]
  },
  {
   "cell_type": "code",
   "execution_count": 95,
   "metadata": {},
   "outputs": [
    {
     "name": "stderr",
     "output_type": "stream",
     "text": [
      "An error occurred of type: UNDEFINED-FUNCTION: \n",
      "  #<UNDEFINED-FUNCTION>\n"
     ]
    },
    {
     "data": {
      "text/plain": [
       "NIL"
      ]
     },
     "execution_count": 95,
     "metadata": {},
     "output_type": "execute_result"
    }
   ],
   "source": [
    "(nglv::show-aggregate *solvent*)"
   ]
  },
  {
   "cell_type": "markdown",
   "metadata": {},
   "source": [
    "#### Assign the atom types of the force field to the water box."
   ]
  },
  {
   "cell_type": "code",
   "execution_count": 96,
   "metadata": {},
   "outputs": [
    {
     "data": {
      "text/plain": [
       "NIL"
      ]
     },
     "execution_count": 96,
     "metadata": {},
     "output_type": "execute_result"
    }
   ],
   "source": [
    "(assign-atom-types *solvent*)"
   ]
  },
  {
   "cell_type": "markdown",
   "metadata": {},
   "source": [
    "#### Add Tip3p water molecules to the alanine."
   ]
  },
  {
   "cell_type": "code",
   "execution_count": 97,
   "metadata": {},
   "outputs": [
    {
     "name": "stdout",
     "output_type": "stream",
     "text": [
      "Total bounding box for atom centers:  29.353789041228794d0 26.304757298876325d0 23.279665206725056d0\n"
     ]
    },
    {
     "data": {
      "text/plain": [
       "NIL"
      ]
     },
     "execution_count": 97,
     "metadata": {},
     "output_type": "execute_result"
    }
   ],
   "source": [
    "(leap.solvate::tool-solvate-and-shell *chemagg* *solvent* '(10.0 10.0 10.0))"
   ]
  },
  {
   "cell_type": "code",
   "execution_count": 66,
   "metadata": {},
   "outputs": [
    {
     "name": "stderr",
     "output_type": "stream",
     "text": [
      "An error occurred of type: UNDEFINED-FUNCTION: \n",
      "  #<UNDEFINED-FUNCTION>\n"
     ]
    },
    {
     "data": {
      "text/plain": [
       "NIL"
      ]
     },
     "execution_count": 66,
     "metadata": {},
     "output_type": "execute_result"
    }
   ],
   "source": [
    "(nglv::show-aggregate *newagg*)"
   ]
  },
  {
   "cell_type": "code",
   "execution_count": 98,
   "metadata": {},
   "outputs": [
    {
     "data": {
      "application/vnd.jupyter.widget-view+json": {
       "model_id": "CCC1D5ED-46F1-4965-BE5D-774CDBA406A9",
       "version_major": 2,
       "version_minor": 0
      },
      "text/html": [
       "<p>Failed to display Jupyter Widget of type <code>{widget_type}</code>.</p>\n",
       "<p>\n",
       "  If you're reading this message in the Jupyter Notebook or JupyterLab Notebook, it may mean\n",
       "  that the widgets JavaScript is still loading. If this message persists, it\n",
       "  likely means that the widgets JavaScript library is either not installed or\n",
       "  not enabled. See the <a href=\"https://ipywidgets.readthedocs.io/en/stable/user_install.html\">Jupyter\n",
       "  Widgets Documentation</a> for setup instructions.\n",
       "</p>\n",
       "<p>\n",
       "  If you're reading this message in another frontend (for example, a static\n",
       "  rendering on GitHub or <a href=\"https://nbviewer.jupyter.org/\">NBViewer</a>),\n",
       "  it may mean that your frontend doesn't currently support widgets.\n",
       "</p>\n"
      ],
      "text/plain": [
       "A Jupyter Widget"
      ]
     },
     "execution_count": 98,
     "metadata": {},
     "output_type": "execute_result"
    }
   ],
   "source": [
    "(show *chemagg*)"
   ]
  },
  {
   "cell_type": "markdown",
   "metadata": {},
   "source": [
    "#### Save the topology and coordinate file. New aggregate contains water molecules and alanine."
   ]
  },
  {
   "cell_type": "code",
   "execution_count": 99,
   "metadata": {},
   "outputs": [
    {
     "data": {
      "text/plain": [
       "NIL"
      ]
     },
     "execution_count": 99,
     "metadata": {},
     "output_type": "execute_result"
    }
   ],
   "source": [
    "(assign-atom-types *chemagg*)\n",
    "(chem:map-atoms 'nil (lambda (a) (if (eq (chem:get-type a) :CT)\n",
    "                                     (if (eq (chem:get-name a) :C)\n",
    "                                         (chem:set-type a :CX)))) *chemagg*)"
   ]
  },
  {
   "cell_type": "code",
   "execution_count": 100,
   "metadata": {},
   "outputs": [
    {
     "data": {
      "text/plain": [
       "T"
      ]
     },
     "execution_count": 100,
     "metadata": {},
     "output_type": "execute_result"
    }
   ],
   "source": [
    "(leap.topology:save-amber-parm-format *chemagg* \"chemagg_water.top\" \"chemagg_water.crd\" :assign-types nil)"
   ]
  },
  {
   "cell_type": "code",
   "execution_count": null,
   "metadata": {},
   "outputs": [],
   "source": [
    "(load-mol2 \"alanine-leap.mol2\")"
   ]
  },
  {
   "cell_type": "code",
   "execution_count": null,
   "metadata": {},
   "outputs": [],
   "source": []
  },
  {
   "cell_type": "code",
   "execution_count": null,
   "metadata": {},
   "outputs": [],
   "source": []
  },
  {
   "cell_type": "code",
   "execution_count": null,
   "metadata": {},
   "outputs": [],
   "source": []
  },
  {
   "cell_type": "markdown",
   "metadata": {},
   "source": [
    "#### Calculate each energy parameters."
   ]
  },
  {
   "cell_type": "code",
   "execution_count": 31,
   "metadata": {},
   "outputs": [
    {
     "data": {
      "text/plain": [
       "1720.1189821006878d0"
      ]
     },
     "execution_count": 31,
     "metadata": {},
     "output_type": "execute_result"
    }
   ],
   "source": [
    "(chem:get-energy (chem:get-stretch-component *e*))"
   ]
  },
  {
   "cell_type": "code",
   "execution_count": 32,
   "metadata": {},
   "outputs": [
    {
     "data": {
      "text/plain": [
       "0.30171081698364277d0"
      ]
     },
     "execution_count": 32,
     "metadata": {},
     "output_type": "execute_result"
    }
   ],
   "source": [
    "(chem:get-energy (chem:get-angle-component *e*))"
   ]
  },
  {
   "cell_type": "code",
   "execution_count": 33,
   "metadata": {},
   "outputs": [
    {
     "data": {
      "text/plain": [
       "5.456751705606037d0"
      ]
     },
     "execution_count": 33,
     "metadata": {},
     "output_type": "execute_result"
    }
   ],
   "source": [
    "(chem:get-energy (chem:get-dihedral-component *e*))"
   ]
  },
  {
   "cell_type": "code",
   "execution_count": 34,
   "metadata": {},
   "outputs": [
    {
     "data": {
      "text/plain": [
       "658.8024508583202d0"
      ]
     },
     "execution_count": 34,
     "metadata": {},
     "output_type": "execute_result"
    }
   ],
   "source": [
    "(chem:get-energy (chem:get-nonbond-component *e*))"
   ]
  },
  {
   "cell_type": "code",
   "execution_count": 34,
   "metadata": {},
   "outputs": [
    {
     "name": "stdout",
     "output_type": "stream",
     "text": [
      "CHEM:ADD-SUPERPOSE-ATOM  Function\n",
      "CHEM:CLEAR-SUPERPOSE-ATOMS  Function\n",
      "CHEM:SET-FINAL-COORDINATES-AS-FIXED-WITHIN-SUPERPOSE-ENGINE  Function\n",
      "CHEM:SET-FINAL-COORDINATES-AS-MOVEABLE-WITHIN-SUPERPOSE-ENGINE  Function\n",
      "CHEM:SET-SUPERPOSABLE-COORDINATES-AS-FIXED-WITHIN-SUPERPOSE-ENGINE  Function\n",
      "CHEM:SET-SUPERPOSABLE-COORDINATES-AS-MOVEABLE-WITHIN-SUPERPOSE-ENGINE  Function\n",
      "CHEM:SUPERPOSE  Function\n",
      "CANDO::SUPERPOSE-AGAINST-TEMPLATE  Function\n",
      "CANDO::SUPERPOSE-ALL  Function\n",
      "CHEM:SUPERPOSE-ALL-HEAVY-ATOMS  Function\n",
      "CHEM:SUPERPOSE-ENGINE\n",
      "CANDO::SUPERPOSE-ONE  Function\n",
      "CHEM:SUPERPOSE-SELECTED-ATOMS\n",
      "CHEM::SUPERPOSER\n"
     ]
    },
    {
     "data": {
      "text/plain": [
       "NIL"
      ]
     },
     "execution_count": 34,
     "metadata": {},
     "output_type": "execute_result"
    }
   ],
   "source": [
    "(apropos \"superpose\")"
   ]
  },
  {
   "cell_type": "code",
   "execution_count": 88,
   "metadata": {},
   "outputs": [
    {
     "data": {
      "application/vnd.jupyter.widget-view+json": {
       "model_id": "E7E4F0CF-9CCE-4EF5-B403-2ED852FB34F2",
       "version_major": 2,
       "version_minor": 0
      },
      "text/plain": [
       "A Jupyter Widget"
      ]
     },
     "execution_count": 88,
     "metadata": {},
     "output_type": "execute_result"
    }
   ],
   "source": [
    "(:= w (show *chemagg*)) w"
   ]
  },
  {
   "cell_type": "code",
   "execution_count": 93,
   "metadata": {
    "scrolled": true
   },
   "outputs": [
    {
     "data": {
      "text/plain": [
       "((\"atom\" (\"index\" . 20) (\"residueIndex\" . 2) (\"resname\" . \"NIL_3\")\n",
       "  (\"x\" . 216.329) (\"y\" . 322.549) (\"z\" . -0.62) (\"element\" . \"H\")\n",
       "  (\"chainname\" . \"A\") (\"resno\" . 3) (\"serial\" . 21) (\"vdw\" . 1.1)\n",
       "  (\"covalent\" . 0.31) (\"hetero\" . 1) (\"bfactor\" . 0) (\"altloc\" . \"\")\n",
       "  (\"atomname\" . \"HH33\")))"
      ]
     },
     "execution_count": 93,
     "metadata": {},
     "output_type": "execute_result"
    }
   ],
   "source": [
    "(nglv::picked w)"
   ]
  },
  {
   "cell_type": "code",
   "execution_count": 94,
   "metadata": {},
   "outputs": [
    {
     "data": {
      "text/plain": [
       "DISTANCE"
      ]
     },
     "execution_count": 94,
     "metadata": {},
     "output_type": "execute_result"
    }
   ],
   "source": [
    "(defun distance (p1 p2) (geom:vlength (geom:v- p1 p2)))"
   ]
  },
  {
   "cell_type": "code",
   "execution_count": 95,
   "metadata": {},
   "outputs": [
    {
     "data": {
      "text/plain": [
       "*A*"
      ]
     },
     "execution_count": 95,
     "metadata": {},
     "output_type": "execute_result"
    }
   ],
   "source": [
    "(:= *a* (let* ((picked (nglv::picked w))\n",
    "       (atom (cdr (assoc \"atom\" picked :test #'string=)))\n",
    "       (x (cdr (assoc \"x\" atom :test #'string=)))\n",
    "       (y (cdr (assoc \"y\" atom :test #'string=)))\n",
    "       (z (cdr (assoc \"z\" atom :test #'string=)))\n",
    "       (pos (geom:vec x y z))\n",
    "        resulta)\n",
    "     (chem:map-atoms nil (lambda (a) \n",
    "                                 (when (< (distance pos (chem:get-position a)) 0.01) \n",
    "                                     (setf resulta a))) *chemagg*)\n",
    "              resulta))"
   ]
  },
  {
   "cell_type": "code",
   "execution_count": 96,
   "metadata": {},
   "outputs": [
    {
     "data": {
      "text/plain": [
       "#<ATOM :HH33/:H>"
      ]
     },
     "execution_count": 96,
     "metadata": {},
     "output_type": "execute_result"
    }
   ],
   "source": [
    "*a*"
   ]
  },
  {
   "cell_type": "code",
   "execution_count": 97,
   "metadata": {},
   "outputs": [
    {
     "data": {
      "text/plain": [
       "*P*"
      ]
     },
     "execution_count": 97,
     "metadata": {},
     "output_type": "execute_result"
    }
   ],
   "source": [
    "(:= *p* (core:make-cxx-object 'chem:chem-info))"
   ]
  },
  {
   "cell_type": "code",
   "execution_count": 98,
   "metadata": {},
   "outputs": [
    {
     "data": {
      "text/plain": [
       "T"
      ]
     },
     "execution_count": 98,
     "metadata": {},
     "output_type": "execute_result"
    }
   ],
   "source": [
    "(chem:compile-smarts *p* \"CC\")"
   ]
  },
  {
   "cell_type": "code",
   "execution_count": 99,
   "metadata": {},
   "outputs": [
    {
     "data": {
      "text/plain": [
       "NIL"
      ]
     },
     "execution_count": 99,
     "metadata": {},
     "output_type": "execute_result"
    }
   ],
   "source": [
    "(chem:matches *p* *a*)"
   ]
  },
  {
   "cell_type": "code",
   "execution_count": 20,
   "metadata": {
    "collapsed": true
   },
   "outputs": [
    {
     "data": {
      "text/plain": [
       "*ALA-LEAP*"
      ]
     },
     "execution_count": 20,
     "metadata": {},
     "output_type": "execute_result"
    }
   ],
   "source": [
    "(:= *ala-leap* (load-mol2 \"alanine_leap.mol2\"))"
   ]
  },
  {
   "cell_type": "code",
   "execution_count": 21,
   "metadata": {
    "collapsed": true
   },
   "outputs": [
    {
     "data": {
      "application/vnd.jupyter.widget-view+json": {
       "model_id": "07C3ED3E-2559-444C-B71B-BC72B89A793C",
       "version_major": 2,
       "version_minor": 0
      },
      "text/html": [
       "<p>Failed to display Jupyter Widget of type <code>{widget_type}</code>.</p>\n",
       "<p>\n",
       "  If you're reading this message in the Jupyter Notebook or JupyterLab Notebook, it may mean\n",
       "  that the widgets JavaScript is still loading. If this message persists, it\n",
       "  likely means that the widgets JavaScript library is either not installed or\n",
       "  not enabled. See the <a href=\"https://ipywidgets.readthedocs.io/en/stable/user_install.html\">Jupyter\n",
       "  Widgets Documentation</a> for setup instructions.\n",
       "</p>\n",
       "<p>\n",
       "  If you're reading this message in another frontend (for example, a static\n",
       "  rendering on GitHub or <a href=\"https://nbviewer.jupyter.org/\">NBViewer</a>),\n",
       "  it may mean that your frontend doesn't currently support widgets.\n",
       "</p>\n"
      ],
      "text/plain": [
       "A Jupyter Widget"
      ]
     },
     "execution_count": 21,
     "metadata": {},
     "output_type": "execute_result"
    }
   ],
   "source": [
    "(cando::show-aggregate *ala-leap*)"
   ]
  },
  {
   "cell_type": "code",
   "execution_count": 12,
   "metadata": {},
   "outputs": [
    {
     "name": "stdout",
     "output_type": "stream",
     "text": [
      "type HC name H1\n",
      " type CT name CH3\n",
      " type HC name H2\n",
      " type HC name H3\n",
      " type C name C\n",
      " type O name O\n",
      " type N name N\n",
      " type H name H\n",
      " type CX name CA\n",
      " type H1 name HA\n",
      " type CT name CB\n",
      " type HC name HB1\n",
      " type HC name HB2\n",
      " type HC name HB3\n",
      " type C name C\n",
      " type O name O\n",
      " type N name N\n",
      " type H name H\n",
      " type CT name CH3\n",
      " type H1 name HH31\n",
      " type H1 name HH32\n",
      " type H1 name HH33\n",
      " "
     ]
    },
    {
     "data": {
      "text/plain": [
       "NIL"
      ]
     },
     "execution_count": 12,
     "metadata": {},
     "output_type": "execute_result"
    }
   ],
   "source": [
    "(chem:map-atoms 'nil (lambda (a) (format t \"type ~a name ~a~% \" (chem:get-type a) (chem:get-name a)))\n",
    "                \n",
    "                             *ala-leap*)"
   ]
  },
  {
   "cell_type": "code",
   "execution_count": 22,
   "metadata": {},
   "outputs": [
    {
     "name": "stdout",
     "output_type": "stream",
     "text": [
      "atom-name-vector -> #(:H1 :CH3 :H2 :H3 :C :O :N :H :CA :HA :CB :HB1 :HB2 :HB3\n",
      "                      :C :O :N :H :CH3 :HH31 :HH32 :HH33)\n",
      "atom-type-vector -> #(:HC :CT :HC :HC :C :O :N :H :CX :H1 :CT :HC :HC :HC :C :O\n",
      "                      :N :H :CT :H1 :H1 :H1)\n",
      "type-index-vector -> #(24 13 24 24 0 50 41 23 17 25 13 24 24 24 0 50 41 23 13\n",
      "                       25 25 25)\n",
      "atom-name-vector -> #(:H1 :CH3 :H2 :H3 :C :O :N :H :CA :HA :CB :HB1 :HB2 :HB3\n",
      "                      :C :O :N :H :CH3 :HH31 :HH32 :HH33)\n",
      "atom-type-vector -> #(:HC :CT :HC :HC :C :O :N :H :CX :H1 :CT :HC :HC :HC :C :O\n",
      "                      :N :H :CT :H1 :H1 :H1)\n",
      "type-index-vector -> #(24 13 24 24 0 50 41 23 17 25 13 24 24 24 0 50 41 23 13\n",
      "                       25 25 25)\n"
     ]
    },
    {
     "data": {
      "text/plain": [
       "T"
      ]
     },
     "execution_count": 22,
     "metadata": {},
     "output_type": "execute_result"
    }
   ],
   "source": [
    "(leap.topology:save-amber-parm-format *ala-leap* \"alanine_cando.top\" \"alanine_cando.crd\" :assign-types nil)"
   ]
  },
  {
   "cell_type": "code",
   "execution_count": 42,
   "metadata": {},
   "outputs": [
    {
     "name": "stdout",
     "output_type": "stream",
     "text": [
      "popped residue: #<PDB-RESIDUE ACE>\n",
      "popped residue: #<PDB-RESIDUE ALA>\n",
      "popped residue: #<PDB-RESIDUE NME>\n",
      "Built 3 missing hydrogens\n"
     ]
    },
    {
     "name": "stderr",
     "output_type": "stream",
     "text": [
      "SIMPLE-WARNING: \n",
      "Loaded atom (1 H1 ACE NIL 1 NIL) but amber form #<TOPOLOGY  :name :ACE @0x122212e48> does not recognize it\n",
      "SIMPLE-WARNING: \n",
      "Loaded atom (3 H2 ACE NIL 1 NIL) but amber form #<TOPOLOGY  :name :ACE @0x122212e48> does not recognize it\n",
      "SIMPLE-WARNING: \n",
      "Loaded atom (4 H3 ACE NIL 1 NIL) but amber form #<TOPOLOGY  :name :ACE @0x122212e48> does not recognize it\n"
     ]
    },
    {
     "data": {
      "text/plain": [
       "*ALA-PDB*"
      ]
     },
     "execution_count": 42,
     "metadata": {},
     "output_type": "execute_result"
    }
   ],
   "source": [
    "(:= *ala-pdb* (load-pdb \"ace-ala-nme.pdb\"))"
   ]
  },
  {
   "cell_type": "code",
   "execution_count": 25,
   "metadata": {},
   "outputs": [
    {
     "data": {
      "application/vnd.jupyter.widget-view+json": {
       "model_id": "D6F8F9E0-C259-4CB8-BD82-BC4F9896D574",
       "version_major": 2,
       "version_minor": 0
      },
      "text/html": [
       "<p>Failed to display Jupyter Widget of type <code>{widget_type}</code>.</p>\n",
       "<p>\n",
       "  If you're reading this message in the Jupyter Notebook or JupyterLab Notebook, it may mean\n",
       "  that the widgets JavaScript is still loading. If this message persists, it\n",
       "  likely means that the widgets JavaScript library is either not installed or\n",
       "  not enabled. See the <a href=\"https://ipywidgets.readthedocs.io/en/stable/user_install.html\">Jupyter\n",
       "  Widgets Documentation</a> for setup instructions.\n",
       "</p>\n",
       "<p>\n",
       "  If you're reading this message in another frontend (for example, a static\n",
       "  rendering on GitHub or <a href=\"https://nbviewer.jupyter.org/\">NBViewer</a>),\n",
       "  it may mean that your frontend doesn't currently support widgets.\n",
       "</p>\n"
      ],
      "text/plain": [
       "A Jupyter Widget"
      ]
     },
     "execution_count": 25,
     "metadata": {},
     "output_type": "execute_result"
    }
   ],
   "source": [
    "(cando::show-aggregate *ala-pdb*)"
   ]
  },
  {
   "cell_type": "code",
   "execution_count": 26,
   "metadata": {},
   "outputs": [
    {
     "name": "stdout",
     "output_type": "stream",
     "text": [
      "type HC name H1\n",
      " type CT name CH3\n",
      " type HC name H2\n",
      " type HC name H3\n",
      " type C name C\n",
      " type O name O\n",
      " type N name N\n",
      " type H name H\n",
      " type CX name CA\n",
      " type H1 name HA\n",
      " type CT name CB\n",
      " type HC name HB1\n",
      " type HC name HB2\n",
      " type HC name HB3\n",
      " type C name C\n",
      " type O name O\n",
      " type N name N\n",
      " type H name H\n",
      " type CT name CH3\n",
      " type H1 name HH31\n",
      " type H1 name HH32\n",
      " type H1 name HH33\n",
      " "
     ]
    },
    {
     "data": {
      "text/plain": [
       "NIL"
      ]
     },
     "execution_count": 26,
     "metadata": {},
     "output_type": "execute_result"
    }
   ],
   "source": [
    "(chem:map-atoms 'nil (lambda (a) (format t \"type ~a name ~a~% \" (chem:get-type a) (chem:get-name a)))\n",
    "                \n",
    "                             *ala-leap*)"
   ]
  },
  {
   "cell_type": "code",
   "execution_count": 27,
   "metadata": {},
   "outputs": [
    {
     "data": {
      "text/plain": [
       "T"
      ]
     },
     "execution_count": 27,
     "metadata": {},
     "output_type": "execute_result"
    }
   ],
   "source": [
    "(leap.topology:save-amber-parm-format *ala-pdb* \"alanine_pdb.top\" \"alanine_pdb.crd\" :assign-types nil)"
   ]
  },
  {
   "cell_type": "code",
   "execution_count": null,
   "metadata": {},
   "outputs": [],
   "source": []
  }
 ],
 "metadata": {
  "kernelspec": {
   "display_name": "Cando",
   "language": "lisp",
   "name": "lisp"
  },
  "language_info": {
   "codemirror_mode": "text/x-common-lisp",
   "mimetype": "text/x-common-lisp",
   "name": "common-lisp",
   "pygments_lexer": "common-lisp",
   "version": "X3J13"
  }
 },
 "nbformat": 4,
 "nbformat_minor": 2
}
