{
 "cells": [
  {
   "cell_type": "code",
   "execution_count": 1,
   "metadata": {
    "scrolled": true
   },
   "outputs": [
    {
     "name": "stderr",
     "output_type": "stream",
     "text": [
      "\n",
      ";; Swank started at port: 4006.\n"
     ]
    },
    {
     "data": {
      "text/plain": [
       "T"
      ]
     },
     "execution_count": 1,
     "metadata": {},
     "output_type": "execute_result"
    }
   ],
   "source": [
    "(start-swank 4006)"
   ]
  },
  {
   "cell_type": "code",
   "execution_count": 2,
   "metadata": {},
   "outputs": [
    {
     "data": {
      "text/plain": [
       "(#P\"/Users/meister/Development/amber18/dat/antechamber/\"\n",
       " #P\"/Users/meister/Development/amber18/dat/leap/prep/\"\n",
       " #P\"/Users/meister/Development/amber18/dat/leap/parm/\"\n",
       " #P\"/Users/meister/Development/amber18/dat/leap/lib/\"\n",
       " #P\"/Users/meister/Development/amber18/dat/leap/cmd/\"\n",
       " #P\"/Users/meister/Development/cando/extensions/cando/src/tests/addions/\")"
      ]
     },
     "execution_count": 2,
     "metadata": {},
     "output_type": "execute_result"
    }
   ],
   "source": [
    "(leap.core::clear-path)\n",
    "(add-path *default-pathname-defaults*)\n",
    "(add-path \"~/Development/amber18/dat/leap/cmd/\")\n",
    "(add-path \"~/Development/amber18/dat/leap/lib/\")\n",
    "(add-path \"~/Development/amber18/dat/leap/parm/\")\n",
    "(add-path \"~/Development/amber18/dat/leap/prep/\")\n",
    "(add-path \"~/Development/amber18/dat/antechamber/\")"
   ]
  },
  {
   "cell_type": "code",
   "execution_count": 3,
   "metadata": {
    "scrolled": true
   },
   "outputs": [
    {
     "data": {
      "text/plain": [
       "*CHEMLEAP*"
      ]
     },
     "execution_count": 3,
     "metadata": {},
     "output_type": "execute_result"
    }
   ],
   "source": [
    "(defparameter *chemleap* (cando:load-mol2 \"alanine-leap.mol2\"))"
   ]
  },
  {
   "cell_type": "code",
   "execution_count": 4,
   "metadata": {},
   "outputs": [
    {
     "data": {
      "text/plain": [
       "(#<FORCE-FIELD ATOMTYPE_GFF.DEF>)"
      ]
     },
     "execution_count": 4,
     "metadata": {},
     "output_type": "execute_result"
    }
   ],
   "source": [
    "(leap.core:clear-force-field)\n",
    "(load-atom-type-rules \"ATOMTYPE_GFF.DEF\")"
   ]
  },
  {
   "cell_type": "code",
   "execution_count": 5,
   "metadata": {},
   "outputs": [
    {
     "name": "stderr",
     "output_type": "stream",
     "text": [
      "\n",
      "add-atom-types doesn't do anything\n"
     ]
    },
    {
     "data": {
      "text/plain": [
       "T"
      ]
     },
     "execution_count": 5,
     "metadata": {},
     "output_type": "execute_result"
    }
   ],
   "source": [
    "(source \"leaprc.water.tip3p\")"
   ]
  },
  {
   "cell_type": "code",
   "execution_count": 6,
   "metadata": {},
   "outputs": [
    {
     "data": {
      "text/plain": [
       "(#<FORCE-FIELD water_amber.def> #<FORCE-FIELD frcmod.ions234lm_126_tip3p>\n",
       " #<FORCE-FIELD frcmod.ionsjc_tip3p> #<FORCE-FIELD frcmod.tip3p>\n",
       " #<FORCE-FIELD ATOMTYPE_GFF.DEF>)"
      ]
     },
     "execution_count": 6,
     "metadata": {},
     "output_type": "execute_result"
    }
   ],
   "source": [
    "(load-atom-type-rules \"water_amber.def\")"
   ]
  },
  {
   "cell_type": "code",
   "execution_count": 7,
   "metadata": {
    "scrolled": true
   },
   "outputs": [
    {
     "data": {
      "application/vnd.jupyter.widget-view+json": {
       "model_id": "BE4B593D-C5BF-404E-8865-7F77ADEF8BFC",
       "version_major": 2,
       "version_minor": 0
      },
      "text/plain": [
       "#<NGLV:NGLWIDGET>"
      ]
     },
     "execution_count": 7,
     "metadata": {},
     "output_type": "execute_result"
    }
   ],
   "source": [
    "(:= viewer (show *chemleap*)) viewer"
   ]
  },
  {
   "cell_type": "code",
   "execution_count": 8,
   "metadata": {},
   "outputs": [
    {
     "data": {
      "text/plain": [
       "T"
      ]
     },
     "execution_count": 8,
     "metadata": {},
     "output_type": "execute_result"
    }
   ],
   "source": [
    "(nglv::add-representation viewer \"spacefill\")"
   ]
  },
  {
   "cell_type": "code",
   "execution_count": null,
   "metadata": {},
   "outputs": [],
   "source": [
    "(leap.add-ions:add-ions *chemleap* :|Na+| 3)"
   ]
  },
  {
   "cell_type": "code",
   "execution_count": 12,
   "metadata": {},
   "outputs": [
    {
     "data": {
      "application/vnd.jupyter.widget-view+json": {
       "model_id": "56A095A5-631F-42CC-9E6D-18BD3A4E22EE",
       "version_major": 2,
       "version_minor": 0
      },
      "text/html": [
       "<p>Failed to display Jupyter Widget of type <code>{widget_type}</code>.</p>\n",
       "<p>\n",
       "  If you're reading this message in the Jupyter Notebook or JupyterLab Notebook, it may mean\n",
       "  that the widgets JavaScript is still loading. If this message persists, it\n",
       "  likely means that the widgets JavaScript library is either not installed or\n",
       "  not enabled. See the <a href=\"https://ipywidgets.readthedocs.io/en/stable/user_install.html\">Jupyter\n",
       "  Widgets Documentation</a> for setup instructions.\n",
       "</p>\n",
       "<p>\n",
       "  If you're reading this message in another frontend (for example, a static\n",
       "  rendering on GitHub or <a href=\"https://nbviewer.jupyter.org/\">NBViewer</a>),\n",
       "  it may mean that your frontend doesn't currently support widgets.\n",
       "</p>\n"
      ],
      "text/plain": [
       "A Jupyter Widget"
      ]
     },
     "execution_count": 12,
     "metadata": {},
     "output_type": "execute_result"
    }
   ],
   "source": [
    "(cando::show-aggregate *chemleap*)"
   ]
  },
  {
   "cell_type": "code",
   "execution_count": 13,
   "metadata": {},
   "outputs": [
    {
     "name": "stdout",
     "output_type": "stream",
     "text": [
      "Total charge -0.000000000000000027755575615628914\n",
      "Adding 2 counter ions to ACE using 1A grid. \n",
      "Placed Cl- in ACE at 10.473259d0 7.987d0 -0.14420199999999994d0\n",
      "Placed Cl- in ACE at -2.5267409999999995d0 1.987d0 -0.14420199999999994d0\n"
     ]
    },
    {
     "data": {
      "text/plain": [
       "NIL"
      ]
     },
     "execution_count": 13,
     "metadata": {},
     "output_type": "execute_result"
    }
   ],
   "source": [
    "(leap.add-ions:add-ions *chemleap* :|Cl-| 2)"
   ]
  },
  {
   "cell_type": "code",
   "execution_count": 14,
   "metadata": {},
   "outputs": [
    {
     "name": "stdout",
     "output_type": "stream",
     "text": [
      "Total charge -2.0\n",
      "Adding 3 counter ions to ACE using 1A grid. \n",
      "Placed Na+ in ACE at -3.408740999999999d0 5.118d0 1.9867980000000003d0\n",
      "Placed Na+ in ACE at 13.591259d0 10.118d0 0.9867980000000003d0\n",
      "Placed Na+ in ACE at -2.408740999999999d0 -1.8819999999999997d0 -1.0132019999999997d0\n"
     ]
    },
    {
     "data": {
      "text/plain": [
       "NIL"
      ]
     },
     "execution_count": 14,
     "metadata": {},
     "output_type": "execute_result"
    }
   ],
   "source": [
    "(leap.add-ions:add-ions *chemleap* :|Na+| 3)"
   ]
  },
  {
   "cell_type": "code",
   "execution_count": 8,
   "metadata": {
    "scrolled": true
   },
   "outputs": [
    {
     "data": {
      "text/plain": [
       "*CHEMWATER*"
      ]
     },
     "execution_count": 8,
     "metadata": {},
     "output_type": "execute_result"
    }
   ],
   "source": [
    "(defparameter *chemwater* (cando:load-mol2 \"alanine-water.mol2\"))\n"
   ]
  },
  {
   "cell_type": "code",
   "execution_count": 18,
   "metadata": {},
   "outputs": [
    {
     "data": {
      "application/vnd.jupyter.widget-view+json": {
       "model_id": "E74BB1BD-8BCE-4B91-9971-528409F350E5",
       "version_major": 2,
       "version_minor": 0
      },
      "text/html": [
       "<p>Failed to display Jupyter Widget of type <code>{widget_type}</code>.</p>\n",
       "<p>\n",
       "  If you're reading this message in the Jupyter Notebook or JupyterLab Notebook, it may mean\n",
       "  that the widgets JavaScript is still loading. If this message persists, it\n",
       "  likely means that the widgets JavaScript library is either not installed or\n",
       "  not enabled. See the <a href=\"https://ipywidgets.readthedocs.io/en/stable/user_install.html\">Jupyter\n",
       "  Widgets Documentation</a> for setup instructions.\n",
       "</p>\n",
       "<p>\n",
       "  If you're reading this message in another frontend (for example, a static\n",
       "  rendering on GitHub or <a href=\"https://nbviewer.jupyter.org/\">NBViewer</a>),\n",
       "  it may mean that your frontend doesn't currently support widgets.\n",
       "</p>\n"
      ],
      "text/plain": [
       "A Jupyter Widget"
      ]
     },
     "execution_count": 18,
     "metadata": {},
     "output_type": "execute_result"
    }
   ],
   "source": [
    "(:= viewer (show *chemwater*)) viewer"
   ]
  },
  {
   "cell_type": "code",
   "execution_count": 19,
   "metadata": {
    "scrolled": true
   },
   "outputs": [
    {
     "name": "stdout",
     "output_type": "stream",
     "text": [
      "Total charge -0.0009999999999997788\n",
      "Adding 4 counter ions to ACE using 1A grid. \n",
      "Placed Na+ in ACE at -1.7402999999999977d0 13.136699999999998d0 12.396700000000003d0\n",
      "Placed Cl- in ACE at -1.7402999999999977d0 13.136699999999998d0 16.396700000000003d0\n",
      "Placed Na+ in ACE at 0.25970000000000226d0 10.136699999999998d0 14.396700000000003d0\n",
      "Placed Na+ in ACE at -13.740299999999998d0 0.1366999999999976d0 13.396700000000003d0\n"
     ]
    },
    {
     "data": {
      "text/plain": [
       "NIL"
      ]
     },
     "execution_count": 19,
     "metadata": {},
     "output_type": "execute_result"
    }
   ],
   "source": [
    "(leap.add-ions:add-ions *chemwater* :|Na+| 3 :|Cl-| 1)"
   ]
  },
  {
   "cell_type": "code",
   "execution_count": 20,
   "metadata": {},
   "outputs": [
    {
     "name": "stdout",
     "output_type": "stream",
     "text": [
      "Total charge 1.999\n",
      "2 Cl- ions required to neutraize. \n",
      "Adding 2 counter ions to ACE using 1A grid. \n",
      "Placed Cl- in ACE at 0.23370000000000246d0 6.2479999999999976d0 14.508000000000003d0\n",
      "Placed Cl- in ACE at -14.766299999999998d0 2.2479999999999976d0 16.508000000000003d0\n"
     ]
    },
    {
     "data": {
      "text/plain": [
       "NIL"
      ]
     },
     "execution_count": 20,
     "metadata": {},
     "output_type": "execute_result"
    }
   ],
   "source": [
    "(leap.add-ions:add-ions *chemwater* :|Cl-| 0)"
   ]
  },
  {
   "cell_type": "code",
   "execution_count": 29,
   "metadata": {},
   "outputs": [
    {
     "data": {
      "text/plain": [
       "1.6d0"
      ]
     },
     "execution_count": 29,
     "metadata": {},
     "output_type": "execute_result"
    }
   ],
   "source": [
    "(chem:VDW-RADIUS-FOR-ELEMENT :|Na|)"
   ]
  },
  {
   "cell_type": "code",
   "execution_count": 10,
   "metadata": {
    "scrolled": true
   },
   "outputs": [
    {
     "data": {
      "text/plain": [
       "*OLEAP*"
      ]
     },
     "execution_count": 10,
     "metadata": {},
     "output_type": "execute_result"
    }
   ],
   "source": [
    "(defparameter *oleap* (core:make-cxx-object 'chem:octree))"
   ]
  },
  {
   "cell_type": "code",
   "execution_count": 11,
   "metadata": {},
   "outputs": [
    {
     "data": {
      "text/plain": [
       "NIL"
      ]
     },
     "execution_count": 11,
     "metadata": {},
     "output_type": "execute_result"
    }
   ],
   "source": [
    "(chem:oct-oct-tree-create *oleap* *chemleap* 1 1.0 2.51 4.0 0 t)"
   ]
  },
  {
   "cell_type": "code",
   "execution_count": 23,
   "metadata": {},
   "outputs": [
    {
     "data": {
      "text/plain": [
       "*MAX-CHARGE-POINT*"
      ]
     },
     "execution_count": 23,
     "metadata": {},
     "output_type": "execute_result"
    }
   ],
   "source": [
    "(multiple-value-bind (min-charge-point max-charge-point) (chem:oct-tree-init-charges *oleap*  1 1 2.51)\n",
    "    (defparameter *max-charge-point* max-charge-point))"
   ]
  },
  {
   "cell_type": "code",
   "execution_count": 24,
   "metadata": {},
   "outputs": [
    {
     "data": {
      "text/plain": [
       "[ 10.4763 7.99 -0.141202 ]"
      ]
     },
     "execution_count": 24,
     "metadata": {},
     "output_type": "execute_result"
    }
   ],
   "source": [
    "*max-charge-point*"
   ]
  },
  {
   "cell_type": "code",
   "execution_count": 25,
   "metadata": {},
   "outputs": [
    {
     "data": {
      "text/plain": [
       "NIL"
      ]
     },
     "execution_count": 25,
     "metadata": {},
     "output_type": "execute_result"
    }
   ],
   "source": [
    "(chem:oct-tree-delete-sphere *oleap* *max-charge-point* 5.026)"
   ]
  },
  {
   "cell_type": "code",
   "execution_count": 15,
   "metadata": {},
   "outputs": [
    {
     "data": {
      "text/plain": [
       "*MAX-CHARGE-POINT*"
      ]
     },
     "execution_count": 15,
     "metadata": {},
     "output_type": "execute_result"
    }
   ],
   "source": [
    "(multiple-value-bind (min-charge-point max-charge-point) (chem:oct-tree-update-charge *oleap* *max-charge-point* -1.0 2.51)\n",
    "    (defparameter *max-charge-point* max-charge-point))"
   ]
  },
  {
   "cell_type": "code",
   "execution_count": 16,
   "metadata": {},
   "outputs": [
    {
     "data": {
      "text/plain": [
       "[ -2.52374 1.99 -0.141202 ]"
      ]
     },
     "execution_count": 16,
     "metadata": {},
     "output_type": "execute_result"
    }
   ],
   "source": [
    "*max-charge-point*"
   ]
  },
  {
   "cell_type": "code",
   "execution_count": 15,
   "metadata": {},
   "outputs": [
    {
     "data": {
      "text/plain": [
       "*OLEAP*"
      ]
     },
     "execution_count": 15,
     "metadata": {},
     "output_type": "execute_result"
    }
   ],
   "source": [
    "(defparameter *oleap* (core:make-cxx-object 'chem:octree))"
   ]
  },
  {
   "cell_type": "code",
   "execution_count": 16,
   "metadata": {},
   "outputs": [
    {
     "data": {
      "text/plain": [
       "NIL"
      ]
     },
     "execution_count": 16,
     "metadata": {},
     "output_type": "execute_result"
    }
   ],
   "source": [
    "(chem:oct-oct-tree-create *oleap* *chemleap* 1 1.0 1.37 4.0 2.51 0 t)"
   ]
  },
  {
   "cell_type": "code",
   "execution_count": 17,
   "metadata": {},
   "outputs": [
    {
     "data": {
      "text/plain": [
       "*MIN-CHARGE-POINT*"
      ]
     },
     "execution_count": 17,
     "metadata": {},
     "output_type": "execute_result"
    }
   ],
   "source": [
    "(multiple-value-bind (min-charge-point max-charge-point) (chem:oct-tree-init-charges *oleap*  1 1 1.37)\n",
    "    (defparameter *min-charge-point* min-charge-point))"
   ]
  },
  {
   "cell_type": "code",
   "execution_count": 18,
   "metadata": {},
   "outputs": [
    {
     "data": {
      "text/plain": [
       "[ -2.40674 -0.88 -0.011202 ]"
      ]
     },
     "execution_count": 18,
     "metadata": {},
     "output_type": "execute_result"
    }
   ],
   "source": [
    "*min-charge-point*"
   ]
  },
  {
   "cell_type": "code",
   "execution_count": 35,
   "metadata": {},
   "outputs": [
    {
     "data": {
      "text/plain": [
       "NIL"
      ]
     },
     "execution_count": 35,
     "metadata": {},
     "output_type": "execute_result"
    }
   ],
   "source": [
    "(chem:oct-tree-delete-sphere *oleap* *min-charge-point* 2.74)"
   ]
  },
  {
   "cell_type": "code",
   "execution_count": 194,
   "metadata": {},
   "outputs": [
    {
     "data": {
      "text/plain": [
       "*MIN-CHARGE-POINT*"
      ]
     },
     "execution_count": 194,
     "metadata": {},
     "output_type": "execute_result"
    }
   ],
   "source": [
    "(multiple-value-bind (min-charge-point max-charge-point) (chem:oct-tree-update-charge *oleap* *min-charge-point* 1.0 1.37)\n",
    "    (defparameter *min-charge-point* min-charge-point))"
   ]
  },
  {
   "cell_type": "code",
   "execution_count": 195,
   "metadata": {},
   "outputs": [
    {
     "data": {
      "text/plain": [
       "[ 1.61626 9.13 -0.001202 ]"
      ]
     },
     "execution_count": 195,
     "metadata": {},
     "output_type": "execute_result"
    }
   ],
   "source": [
    "*min-charge-point*"
   ]
  },
  {
   "cell_type": "code",
   "execution_count": null,
   "metadata": {
    "collapsed": true
   },
   "outputs": [],
   "source": []
  },
  {
   "cell_type": "code",
   "execution_count": 21,
   "metadata": {},
   "outputs": [
    {
     "data": {
      "text/plain": [
       "NIL"
      ]
     },
     "execution_count": 21,
     "metadata": {},
     "output_type": "execute_result"
    }
   ],
   "source": [
    "(defparameter *mol1* (chem:make-molecule))\n",
    "(defparameter *res1* (chem:make-residue :foo))\n",
    "(defparameter *a1* (chem:make-atom :Na :|Na|))\n",
    "(chem:set-position *a1* *newposl*)\n",
    "(chem:set-charge *a1* '1.0)\n",
    "(chem:add-matter *res1* *a1*)\n",
    "(chem:add-matter *mol1* *res1*)\n",
    "(defparameter *Naion* (chem:make-aggregate))\n",
    "(chem:add-matter *Naion* *mol1*)"
   ]
  },
  {
   "cell_type": "code",
   "execution_count": 27,
   "metadata": {},
   "outputs": [
    {
     "data": {
      "text/plain": [
       "NIL"
      ]
     },
     "execution_count": 27,
     "metadata": {},
     "output_type": "execute_result"
    }
   ],
   "source": [
    "(chem:add-matter *chemleap* *Naion*)"
   ]
  },
  {
   "cell_type": "code",
   "execution_count": 13,
   "metadata": {},
   "outputs": [
    {
     "data": {
      "text/plain": [
       "1.6d0"
      ]
     },
     "execution_count": 13,
     "metadata": {},
     "output_type": "execute_result"
    }
   ],
   "source": [
    "(chem:vdw-radius-for-element :|Na|)"
   ]
  },
  {
   "cell_type": "code",
   "execution_count": 34,
   "metadata": {
    "scrolled": true
   },
   "outputs": [
    {
     "data": {
      "text/plain": [
       "NIL"
      ]
     },
     "execution_count": 34,
     "metadata": {},
     "output_type": "execute_result"
    }
   ],
   "source": [
    "(chem:oct-tree-delete-sphere *oleap* *otl* *newposl* 1.5)"
   ]
  },
  {
   "cell_type": "code",
   "execution_count": 35,
   "metadata": {},
   "outputs": [
    {
     "data": {
      "text/plain": [
       "*NEWPOSL2*"
      ]
     },
     "execution_count": 35,
     "metadata": {},
     "output_type": "execute_result"
    }
   ],
   "source": [
    "(defparameter *newposl2* (chem:oct-tree-update-charge *oleap* *otl* *newposl* 1.0 1.5))"
   ]
  },
  {
   "cell_type": "code",
   "execution_count": 36,
   "metadata": {},
   "outputs": [
    {
     "data": {
      "text/plain": [
       "[ 1.61626 9.13 -0.001202 ]"
      ]
     },
     "execution_count": 36,
     "metadata": {},
     "output_type": "execute_result"
    }
   ],
   "source": [
    "*newposl2*"
   ]
  },
  {
   "cell_type": "code",
   "execution_count": 40,
   "metadata": {},
   "outputs": [
    {
     "name": "stderr",
     "output_type": "stream",
     "text": [
      "An error occurred of type: TYPE-ERROR: \n",
      "  #<TYPE-ERROR>\n"
     ]
    },
    {
     "data": {
      "text/plain": [
       "NIL"
      ]
     },
     "execution_count": 40,
     "metadata": {},
     "output_type": "execute_result"
    }
   ],
   "source": [
    "(defparameter *a1* (chem:make-atom :|Na+| :|Na+|))"
   ]
  },
  {
   "cell_type": "code",
   "execution_count": 42,
   "metadata": {},
   "outputs": [
    {
     "data": {
      "text/plain": [
       ":|Na|"
      ]
     },
     "execution_count": 42,
     "metadata": {},
     "output_type": "execute_result"
    }
   ],
   "source": [
    "(chem:get-name *a1*)"
   ]
  },
  {
   "cell_type": "code",
   "execution_count": 26,
   "metadata": {},
   "outputs": [
    {
     "name": "stdout",
     "output_type": "stream",
     "text": [
      ":ssbond for (SSBOND A 6 A 127)\n",
      ":ssbond for (SSBOND A 30 A 115)\n",
      ":ssbond for (SSBOND A 64 A 80)\n",
      ":ssbond for (SSBOND A 76 A 94)\n",
      "popped residue: #<PDB-RESIDUE LYS>\n",
      "popped residue: #<PDB-RESIDUE VAL>\n",
      "popped residue: #<PDB-RESIDUE PHE>\n",
      "popped residue: #<PDB-RESIDUE GLY>\n",
      "popped residue: #<PDB-RESIDUE ARG>\n",
      "popped residue: #<PDB-RESIDUE CYS>\n",
      "popped residue: #<PDB-RESIDUE GLU>\n",
      "popped residue: #<PDB-RESIDUE LEU>\n",
      "popped residue: #<PDB-RESIDUE ALA>\n",
      "popped residue: #<PDB-RESIDUE ALA>\n",
      "popped residue: #<PDB-RESIDUE ALA>\n",
      "popped residue: #<PDB-RESIDUE MET>\n",
      "popped residue: #<PDB-RESIDUE LYS>\n",
      "popped residue: #<PDB-RESIDUE ARG>\n",
      "popped residue: #<PDB-RESIDUE HIS>\n",
      "popped residue: #<PDB-RESIDUE GLY>\n",
      "popped residue: #<PDB-RESIDUE LEU>\n",
      "popped residue: #<PDB-RESIDUE ASP>\n",
      "popped residue: #<PDB-RESIDUE ASN>\n",
      "popped residue: #<PDB-RESIDUE TYR>\n",
      "popped residue: #<PDB-RESIDUE ARG>\n",
      "popped residue: #<PDB-RESIDUE GLY>\n",
      "popped residue: #<PDB-RESIDUE TYR>\n",
      "popped residue: #<PDB-RESIDUE SER>\n",
      "popped residue: #<PDB-RESIDUE LEU>\n",
      "popped residue: #<PDB-RESIDUE GLY>\n",
      "popped residue: #<PDB-RESIDUE ASN>\n",
      "popped residue: #<PDB-RESIDUE TRP>\n",
      "popped residue: #<PDB-RESIDUE VAL>\n",
      "popped residue: #<PDB-RESIDUE CYS>\n",
      "popped residue: #<PDB-RESIDUE ALA>\n",
      "popped residue: #<PDB-RESIDUE ALA>\n",
      "popped residue: #<PDB-RESIDUE LYS>\n",
      "popped residue: #<PDB-RESIDUE PHE>\n",
      "popped residue: #<PDB-RESIDUE GLU>\n",
      "popped residue: #<PDB-RESIDUE SER>\n",
      "popped residue: #<PDB-RESIDUE ASN>\n",
      "popped residue: #<PDB-RESIDUE PHE>\n",
      "popped residue: #<PDB-RESIDUE ASN>\n",
      "popped residue: #<PDB-RESIDUE THR>\n",
      "popped residue: #<PDB-RESIDUE GLN>\n",
      "popped residue: #<PDB-RESIDUE ALA>\n",
      "popped residue: #<PDB-RESIDUE THR>\n",
      "popped residue: #<PDB-RESIDUE ASN>\n",
      "popped residue: #<PDB-RESIDUE ARG>\n",
      "popped residue: #<PDB-RESIDUE ASN>\n",
      "popped residue: #<PDB-RESIDUE THR>\n",
      "popped residue: #<PDB-RESIDUE ASP>\n",
      "popped residue: #<PDB-RESIDUE GLY>\n",
      "popped residue: #<PDB-RESIDUE SER>\n",
      "popped residue: #<PDB-RESIDUE THR>\n",
      "popped residue: #<PDB-RESIDUE ASP>\n",
      "popped residue: #<PDB-RESIDUE TYR>\n",
      "popped residue: #<PDB-RESIDUE GLY>\n",
      "popped residue: #<PDB-RESIDUE ILE>\n",
      "popped residue: #<PDB-RESIDUE LEU>\n",
      "popped residue: #<PDB-RESIDUE GLN>\n",
      "popped residue: #<PDB-RESIDUE ILE>\n",
      "popped residue: #<PDB-RESIDUE ASN>\n",
      "popped residue: #<PDB-RESIDUE SER>\n",
      "popped residue: #<PDB-RESIDUE ARG>\n",
      "popped residue: #<PDB-RESIDUE TRP>\n",
      "popped residue: #<PDB-RESIDUE TRP>\n",
      "popped residue: #<PDB-RESIDUE CYS>\n",
      "popped residue: #<PDB-RESIDUE ASN>\n",
      "popped residue: #<PDB-RESIDUE ASP>\n",
      "popped residue: #<PDB-RESIDUE GLY>\n",
      "popped residue: #<PDB-RESIDUE ARG>\n",
      "popped residue: #<PDB-RESIDUE THR>\n",
      "popped residue: #<PDB-RESIDUE PRO>\n",
      "popped residue: #<PDB-RESIDUE GLY>\n",
      "popped residue: #<PDB-RESIDUE SER>\n",
      "popped residue: #<PDB-RESIDUE ARG>\n",
      "popped residue: #<PDB-RESIDUE ASN>\n",
      "popped residue: #<PDB-RESIDUE LEU>\n",
      "popped residue: #<PDB-RESIDUE CYS>\n",
      "popped residue: #<PDB-RESIDUE ASN>\n",
      "popped residue: #<PDB-RESIDUE ILE>\n",
      "popped residue: #<PDB-RESIDUE PRO>\n",
      "popped residue: #<PDB-RESIDUE CYS>\n",
      "popped residue: #<PDB-RESIDUE SER>\n",
      "popped residue: #<PDB-RESIDUE ALA>\n",
      "popped residue: #<PDB-RESIDUE LEU>\n",
      "popped residue: #<PDB-RESIDUE LEU>\n",
      "popped residue: #<PDB-RESIDUE SER>\n",
      "popped residue: #<PDB-RESIDUE SER>\n",
      "popped residue: #<PDB-RESIDUE ASP>\n",
      "popped residue: #<PDB-RESIDUE ILE>\n",
      "popped residue: #<PDB-RESIDUE THR>\n",
      "popped residue: #<PDB-RESIDUE ALA>\n",
      "popped residue: #<PDB-RESIDUE SER>\n",
      "popped residue: #<PDB-RESIDUE VAL>\n",
      "popped residue: #<PDB-RESIDUE ASN>\n",
      "popped residue: #<PDB-RESIDUE CYS>\n",
      "popped residue: #<PDB-RESIDUE ALA>\n",
      "popped residue: #<PDB-RESIDUE LYS>\n",
      "popped residue: #<PDB-RESIDUE LYS>\n",
      "popped residue: #<PDB-RESIDUE ILE>\n",
      "popped residue: #<PDB-RESIDUE VAL>\n",
      "popped residue: #<PDB-RESIDUE SER>\n",
      "popped residue: #<PDB-RESIDUE ASP>\n",
      "popped residue: #<PDB-RESIDUE GLY>\n",
      "popped residue: #<PDB-RESIDUE ASN>\n",
      "popped residue: #<PDB-RESIDUE GLY>\n",
      "popped residue: #<PDB-RESIDUE MET>\n",
      "popped residue: #<PDB-RESIDUE ASN>\n",
      "popped residue: #<PDB-RESIDUE ALA>\n",
      "popped residue: #<PDB-RESIDUE TRP>\n",
      "popped residue: #<PDB-RESIDUE VAL>\n",
      "popped residue: #<PDB-RESIDUE ALA>\n",
      "popped residue: #<PDB-RESIDUE TRP>\n",
      "popped residue: #<PDB-RESIDUE ARG>\n",
      "popped residue: #<PDB-RESIDUE ASN>\n",
      "popped residue: #<PDB-RESIDUE ARG>\n",
      "popped residue: #<PDB-RESIDUE CYS>\n",
      "popped residue: #<PDB-RESIDUE LYS>\n",
      "popped residue: #<PDB-RESIDUE GLY>\n",
      "popped residue: #<PDB-RESIDUE THR>\n",
      "popped residue: #<PDB-RESIDUE ASP>\n",
      "popped residue: #<PDB-RESIDUE VAL>\n",
      "popped residue: #<PDB-RESIDUE GLN>\n",
      "popped residue: #<PDB-RESIDUE ALA>\n",
      "popped residue: #<PDB-RESIDUE TRP>\n",
      "popped residue: #<PDB-RESIDUE ILE>\n",
      "popped residue: #<PDB-RESIDUE ARG>\n",
      "popped residue: #<PDB-RESIDUE GLY>\n",
      "popped residue: #<PDB-RESIDUE CYS>\n",
      "popped residue: #<PDB-RESIDUE ARG>\n",
      "popped residue: #<PDB-RESIDUE LEU>\n",
      "popped residue: NIL\n",
      "Starting a new molecule\n",
      "popped first residue: #<PDB-RESIDUE AMU>\n",
      "popped residue: #<PDB-RESIDUE NAG>\n",
      "popped residue: #<PDB-RESIDUE AMU>\n",
      "popped residue: #<PDB-RESIDUE HOH>\n",
      "popped residue: #<PDB-RESIDUE HOH>\n",
      "popped residue: #<PDB-RESIDUE HOH>\n",
      "popped residue: #<PDB-RESIDUE HOH>\n",
      "popped residue: #<PDB-RESIDUE HOH>\n",
      "popped residue: #<PDB-RESIDUE HOH>\n",
      "popped residue: #<PDB-RESIDUE HOH>\n",
      "popped residue: #<PDB-RESIDUE HOH>\n",
      "popped residue: #<PDB-RESIDUE HOH>\n",
      "popped residue: #<PDB-RESIDUE HOH>\n",
      "popped residue: #<PDB-RESIDUE HOH>\n",
      "popped residue: #<PDB-RESIDUE HOH>\n",
      "popped residue: #<PDB-RESIDUE HOH>\n",
      "popped residue: #<PDB-RESIDUE HOH>\n",
      "popped residue: #<PDB-RESIDUE HOH>\n",
      "popped residue: #<PDB-RESIDUE HOH>\n",
      "popped residue: #<PDB-RESIDUE HOH>\n",
      "popped residue: #<PDB-RESIDUE HOH>\n",
      "popped residue: #<PDB-RESIDUE HOH>\n",
      "popped residue: #<PDB-RESIDUE HOH>\n",
      "popped residue: #<PDB-RESIDUE HOH>\n",
      "popped residue: #<PDB-RESIDUE HOH>\n",
      "popped residue: #<PDB-RESIDUE HOH>\n",
      "popped residue: #<PDB-RESIDUE HOH>\n",
      "popped residue: #<PDB-RESIDUE HOH>\n",
      "popped residue: #<PDB-RESIDUE HOH>\n",
      "popped residue: #<PDB-RESIDUE HOH>\n",
      "popped residue: #<PDB-RESIDUE HOH>\n",
      "popped residue: #<PDB-RESIDUE HOH>\n",
      "popped residue: #<PDB-RESIDUE HOH>\n",
      "popped residue: #<PDB-RESIDUE HOH>\n",
      "popped residue: #<PDB-RESIDUE HOH>\n",
      "popped residue: #<PDB-RESIDUE HOH>\n",
      "popped residue: #<PDB-RESIDUE HOH>\n",
      "popped residue: #<PDB-RESIDUE HOH>\n",
      "popped residue: #<PDB-RESIDUE HOH>\n",
      "popped residue: #<PDB-RESIDUE HOH>\n",
      "popped residue: #<PDB-RESIDUE HOH>\n",
      "popped residue: #<PDB-RESIDUE HOH>\n",
      "popped residue: #<PDB-RESIDUE HOH>\n",
      "popped residue: #<PDB-RESIDUE HOH>\n",
      "popped residue: #<PDB-RESIDUE HOH>\n",
      "popped residue: #<PDB-RESIDUE HOH>\n",
      "popped residue: #<PDB-RESIDUE HOH>\n",
      "popped residue: #<PDB-RESIDUE HOH>\n",
      "popped residue: #<PDB-RESIDUE HOH>\n",
      "popped residue: #<PDB-RESIDUE HOH>\n",
      "popped residue: #<PDB-RESIDUE HOH>\n",
      "popped residue: #<PDB-RESIDUE HOH>\n",
      "popped residue: #<PDB-RESIDUE HOH>\n",
      "popped residue: #<PDB-RESIDUE HOH>\n",
      "popped residue: #<PDB-RESIDUE HOH>\n",
      "popped residue: #<PDB-RESIDUE HOH>\n",
      "popped residue: #<PDB-RESIDUE HOH>\n",
      "popped residue: #<PDB-RESIDUE HOH>\n",
      "popped residue: #<PDB-RESIDUE HOH>\n",
      "popped residue: #<PDB-RESIDUE HOH>\n",
      "popped residue: #<PDB-RESIDUE HOH>\n",
      "popped residue: #<PDB-RESIDUE HOH>\n",
      "popped residue: #<PDB-RESIDUE HOH>\n",
      "popped residue: #<PDB-RESIDUE HOH>\n",
      "popped residue: #<PDB-RESIDUE HOH>\n",
      "popped residue: #<PDB-RESIDUE HOH>\n",
      "popped residue: #<PDB-RESIDUE HOH>\n",
      "popped residue: #<PDB-RESIDUE HOH>\n",
      "popped residue: #<PDB-RESIDUE HOH>\n",
      "popped residue: #<PDB-RESIDUE HOH>\n",
      "popped residue: #<PDB-RESIDUE HOH>\n",
      "popped residue: #<PDB-RESIDUE HOH>\n",
      "popped residue: #<PDB-RESIDUE HOH>\n",
      "popped residue: #<PDB-RESIDUE HOH>\n",
      "popped residue: #<PDB-RESIDUE HOH>\n",
      "popped residue: #<PDB-RESIDUE HOH>\n",
      "popped residue: #<PDB-RESIDUE HOH>\n",
      "popped residue: #<PDB-RESIDUE HOH>\n",
      "popped residue: #<PDB-RESIDUE HOH>\n",
      "popped residue: #<PDB-RESIDUE HOH>\n",
      "popped residue: #<PDB-RESIDUE HOH>\n",
      "popped residue: #<PDB-RESIDUE HOH>\n",
      "popped residue: #<PDB-RESIDUE HOH>\n",
      "popped residue: #<PDB-RESIDUE HOH>\n",
      "popped residue: #<PDB-RESIDUE HOH>\n",
      "popped residue: #<PDB-RESIDUE HOH>\n",
      "popped residue: #<PDB-RESIDUE HOH>\n",
      "popped residue: #<PDB-RESIDUE HOH>\n",
      "popped residue: #<PDB-RESIDUE HOH>\n",
      "popped residue: #<PDB-RESIDUE HOH>\n",
      "popped residue: #<PDB-RESIDUE HOH>\n",
      "popped residue: #<PDB-RESIDUE HOH>\n",
      "popped residue: #<PDB-RESIDUE HOH>\n",
      "popped residue: #<PDB-RESIDUE HOH>\n",
      "popped residue: #<PDB-RESIDUE HOH>\n",
      "popped residue: #<PDB-RESIDUE HOH>\n",
      "popped residue: #<PDB-RESIDUE HOH>\n",
      "popped residue: #<PDB-RESIDUE HOH>\n",
      "popped residue: #<PDB-RESIDUE HOH>\n",
      "popped residue: #<PDB-RESIDUE HOH>\n",
      "popped residue: #<PDB-RESIDUE HOH>\n",
      "popped residue: #<PDB-RESIDUE HOH>\n",
      "popped residue: #<PDB-RESIDUE HOH>\n",
      "popped residue: #<PDB-RESIDUE HOH>\n",
      "Building from sorted-built: (#<ATOM :C/:C> #<ATOM :CB/:C> #<ATOM :N/:N>)\n",
      "Hydrogens built 0.0%\n",
      "Building from sorted-built: (#<ATOM :C/:C> #<ATOM :CB/:C> #<ATOM :N/:N>)\n",
      "Building from sorted-built: (#<ATOM :CA/:C> #<ATOM :CG1/:C> #<ATOM :CG2/:C>)\n",
      "Building from sorted-built: (#<ATOM :C/:C> #<ATOM :CB/:C> #<ATOM :N/:N>)\n",
      "Building from sorted-built: (#<ATOM :C/:C> #<ATOM :CB/:C> #<ATOM :N/:N>)\n",
      "Building from sorted-built: (#<ATOM :C/:C> #<ATOM :CB/:C> #<ATOM :N/:N>)\n",
      "Building from sorted-built: (#<ATOM :C/:C> #<ATOM :CB/:C> #<ATOM :N/:N>)\n",
      "Building from sorted-built: (#<ATOM :C/:C> #<ATOM :CB/:C> #<ATOM :N/:N>)\n",
      "Building from sorted-built: (#<ATOM :CB/:C> #<ATOM :CD1/:C> #<ATOM :CD2/:C>)\n",
      "Building from sorted-built: (#<ATOM :C/:C> #<ATOM :CB/:C> #<ATOM :N/:N>)\n",
      "Building from sorted-built: (#<ATOM :C/:C> #<ATOM :CB/:C> #<ATOM :N/:N>)\n",
      "Building from sorted-built: (#<ATOM :C/:C> #<ATOM :CB/:C> #<ATOM :N/:N>)\n",
      "Building from sorted-built: (#<ATOM :C/:C> #<ATOM :CB/:C> #<ATOM :N/:N>)\n",
      "Building from sorted-built: (#<ATOM :C/:C> #<ATOM :CB/:C> #<ATOM :N/:N>)\n",
      "Hydrogens built 10.0%\n",
      "Building from sorted-built: (#<ATOM :C/:C> #<ATOM :CB/:C> #<ATOM :N/:N>)\n",
      "Building from sorted-built: (#<ATOM :C/:C> #<ATOM :CB/:C> #<ATOM :N/:N>)\n",
      "Building from sorted-built: (#<ATOM :C/:C> #<ATOM :CB/:C> #<ATOM :N/:N>)\n",
      "Building from sorted-built: (#<ATOM :CB/:C> #<ATOM :CD1/:C> #<ATOM :CD2/:C>)\n",
      "Building from sorted-built: (#<ATOM :C/:C> #<ATOM :CB/:C> #<ATOM :N/:N>)\n",
      "Building from sorted-built: (#<ATOM :C/:C> #<ATOM :CB/:C> #<ATOM :N/:N>)\n",
      "Building from sorted-built: (#<ATOM :C/:C> #<ATOM :CB/:C> #<ATOM :N/:N>)\n",
      "Building from sorted-built: (#<ATOM :C/:C> #<ATOM :CB/:C> #<ATOM :N/:N>)\n",
      "Building from sorted-built: (#<ATOM :C/:C> #<ATOM :CB/:C> #<ATOM :N/:N>)\n",
      "Building from sorted-built: (#<ATOM :C/:C> #<ATOM :CB/:C> #<ATOM :N/:N>)\n",
      "Building from sorted-built: (#<ATOM :C/:C> #<ATOM :CB/:C> #<ATOM :N/:N>)\n",
      "Hydrogens built 20.0%\n",
      "Building from sorted-built: (#<ATOM :CB/:C> #<ATOM :CD1/:C> #<ATOM :CD2/:C>)\n",
      "Building from sorted-built: (#<ATOM :C/:C> #<ATOM :CB/:C> #<ATOM :N/:N>)\n",
      "Building from sorted-built: (#<ATOM :C/:C> #<ATOM :CB/:C> #<ATOM :N/:N>)\n",
      "Building from sorted-built: (#<ATOM :C/:C> #<ATOM :CB/:C> #<ATOM :N/:N>)\n",
      "Building from sorted-built: (#<ATOM :CA/:C> #<ATOM :CG1/:C> #<ATOM :CG2/:C>)\n",
      "Building from sorted-built: (#<ATOM :C/:C> #<ATOM :CB/:C> #<ATOM :N/:N>)\n",
      "Building from sorted-built: (#<ATOM :C/:C> #<ATOM :CB/:C> #<ATOM :N/:N>)\n",
      "Building from sorted-built: (#<ATOM :C/:C> #<ATOM :CB/:C> #<ATOM :N/:N>)\n",
      "Building from sorted-built: (#<ATOM :C/:C> #<ATOM :CB/:C> #<ATOM :N/:N>)\n",
      "Building from sorted-built: (#<ATOM :C/:C> #<ATOM :CB/:C> #<ATOM :N/:N>)\n",
      "Building from sorted-built: (#<ATOM :C/:C> #<ATOM :CB/:C> #<ATOM :N/:N>)\n",
      "Building from sorted-built: (#<ATOM :C/:C> #<ATOM :CB/:C> #<ATOM :N/:N>)\n",
      "Building from sorted-built: (#<ATOM :C/:C> #<ATOM :CB/:C> #<ATOM :N/:N>)\n",
      "Building from sorted-built: (#<ATOM :C/:C> #<ATOM :CB/:C> #<ATOM :N/:N>)\n",
      "Hydrogens built 30.0%\n",
      "Building from sorted-built: (#<ATOM :C/:C> #<ATOM :CB/:C> #<ATOM :N/:N>)\n",
      "Building from sorted-built: (#<ATOM :C/:C> #<ATOM :CB/:C> #<ATOM :N/:N>)\n",
      "Building from sorted-built: (#<ATOM :CA/:C> #<ATOM :CG2/:C> #<ATOM :OG1/:O>)\n",
      "Building from sorted-built: (#<ATOM :C/:C> #<ATOM :CB/:C> #<ATOM :N/:N>)\n",
      "Building from sorted-built: (#<ATOM :C/:C> #<ATOM :CB/:C> #<ATOM :N/:N>)\n",
      "Building from sorted-built: (#<ATOM :C/:C> #<ATOM :CB/:C> #<ATOM :N/:N>)\n",
      "Building from sorted-built: (#<ATOM :CA/:C> #<ATOM :CG2/:C> #<ATOM :OG1/:O>)\n",
      "Building from sorted-built: (#<ATOM :C/:C> #<ATOM :CB/:C> #<ATOM :N/:N>)\n",
      "Building from sorted-built: (#<ATOM :C/:C> #<ATOM :CB/:C> #<ATOM :N/:N>)\n",
      "Building from sorted-built: (#<ATOM :C/:C> #<ATOM :CB/:C> #<ATOM :N/:N>)\n",
      "Building from sorted-built: (#<ATOM :C/:C> #<ATOM :CB/:C> #<ATOM :N/:N>)\n",
      "Building from sorted-built: (#<ATOM :CA/:C> #<ATOM :CG2/:C> #<ATOM :OG1/:O>)\n",
      "Building from sorted-built: (#<ATOM :C/:C> #<ATOM :CB/:C> #<ATOM :N/:N>)\n",
      "Building from sorted-built: (#<ATOM :C/:C> #<ATOM :CB/:C> #<ATOM :N/:N>)\n",
      "Building from sorted-built: (#<ATOM :C/:C> #<ATOM :CB/:C> #<ATOM :N/:N>)\n",
      "Building from sorted-built: (#<ATOM :CA/:C> #<ATOM :CG2/:C> #<ATOM :OG1/:O>)\n",
      "Building from sorted-built: (#<ATOM :C/:C> #<ATOM :CB/:C> #<ATOM :N/:N>)\n",
      "Building from sorted-built: (#<ATOM :C/:C> #<ATOM :CB/:C> #<ATOM :N/:N>)\n",
      "Hydrogens built 40.0%\n",
      "Building from sorted-built: (#<ATOM :C/:C> #<ATOM :CB/:C> #<ATOM :N/:N>)\n",
      "Building from sorted-built: (#<ATOM :CA/:C> #<ATOM :CG1/:C> #<ATOM :CG2/:C>)\n",
      "Building from sorted-built: (#<ATOM :C/:C> #<ATOM :CB/:C> #<ATOM :N/:N>)\n",
      "Building from sorted-built: (#<ATOM :CB/:C> #<ATOM :CD1/:C> #<ATOM :CD2/:C>)\n",
      "Building from sorted-built: (#<ATOM :C/:C> #<ATOM :CB/:C> #<ATOM :N/:N>)\n",
      "Building from sorted-built: (#<ATOM :C/:C> #<ATOM :CB/:C> #<ATOM :N/:N>)\n",
      "Building from sorted-built: (#<ATOM :CA/:C> #<ATOM :CG1/:C> #<ATOM :CG2/:C>)\n",
      "Building from sorted-built: (#<ATOM :C/:C> #<ATOM :CB/:C> #<ATOM :N/:N>)\n",
      "Building from sorted-built: (#<ATOM :C/:C> #<ATOM :CB/:C> #<ATOM :N/:N>)\n",
      "Building from sorted-built: (#<ATOM :C/:C> #<ATOM :CB/:C> #<ATOM :N/:N>)\n",
      "Building from sorted-built: (#<ATOM :C/:C> #<ATOM :CB/:C> #<ATOM :N/:N>)\n",
      "Building from sorted-built: (#<ATOM :C/:C> #<ATOM :CB/:C> #<ATOM :N/:N>)\n",
      "Building from sorted-built: (#<ATOM :C/:C> #<ATOM :CB/:C> #<ATOM :N/:N>)\n",
      "Hydrogens built 50.0%\n",
      "Building from sorted-built: (#<ATOM :C/:C> #<ATOM :CB/:C> #<ATOM :N/:N>)\n",
      "Building from sorted-built: (#<ATOM :C/:C> #<ATOM :CB/:C> #<ATOM :N/:N>)\n",
      "Building from sorted-built: (#<ATOM :C/:C> #<ATOM :CB/:C> #<ATOM :N/:N>)\n",
      "Building from sorted-built: (#<ATOM :C/:C> #<ATOM :CB/:C> #<ATOM :N/:N>)\n",
      "Building from sorted-built: (#<ATOM :CA/:C> #<ATOM :CG2/:C> #<ATOM :OG1/:O>)\n",
      "Building from sorted-built: (#<ATOM :C/:C> #<ATOM :CB/:C> #<ATOM :N/:N>)\n",
      "Building from sorted-built: (#<ATOM :C/:C> #<ATOM :CB/:C> #<ATOM :N/:N>)\n",
      "Building from sorted-built: (#<ATOM :C/:C> #<ATOM :CB/:C> #<ATOM :N/:N>)\n",
      "Building from sorted-built: (#<ATOM :C/:C> #<ATOM :CB/:C> #<ATOM :N/:N>)\n",
      "Building from sorted-built: (#<ATOM :C/:C> #<ATOM :CB/:C> #<ATOM :N/:N>)\n",
      "Building from sorted-built: (#<ATOM :CB/:C> #<ATOM :CD1/:C> #<ATOM :CD2/:C>)\n",
      "Building from sorted-built: (#<ATOM :C/:C> #<ATOM :CB/:C> #<ATOM :N/:N>)\n",
      "Building from sorted-built: (#<ATOM :C/:C> #<ATOM :CB/:C> #<ATOM :N/:N>)\n",
      "Building from sorted-built: (#<ATOM :C/:C> #<ATOM :CB/:C> #<ATOM :N/:N>)\n",
      "Building from sorted-built: (#<ATOM :CA/:C> #<ATOM :CG1/:C> #<ATOM :CG2/:C>)\n",
      "Hydrogens built 60.0%\n",
      "Building from sorted-built: (#<ATOM :C/:C> #<ATOM :CB/:C> #<ATOM :N/:N>)\n",
      "Building from sorted-built: (#<ATOM :C/:C> #<ATOM :CB/:C> #<ATOM :N/:N>)\n",
      "Building from sorted-built: (#<ATOM :C/:C> #<ATOM :CB/:C> #<ATOM :N/:N>)\n",
      "Building from sorted-built: (#<ATOM :C/:C> #<ATOM :CB/:C> #<ATOM :N/:N>)\n",
      "Building from sorted-built: (#<ATOM :C/:C> #<ATOM :CB/:C> #<ATOM :N/:N>)\n",
      "Building from sorted-built: (#<ATOM :CB/:C> #<ATOM :CD1/:C> #<ATOM :CD2/:C>)\n",
      "Building from sorted-built: (#<ATOM :C/:C> #<ATOM :CB/:C> #<ATOM :N/:N>)\n",
      "Building from sorted-built: (#<ATOM :CB/:C> #<ATOM :CD1/:C> #<ATOM :CD2/:C>)\n",
      "Building from sorted-built: (#<ATOM :C/:C> #<ATOM :CB/:C> #<ATOM :N/:N>)\n",
      "Building from sorted-built: (#<ATOM :C/:C> #<ATOM :CB/:C> #<ATOM :N/:N>)\n",
      "Building from sorted-built: (#<ATOM :C/:C> #<ATOM :CB/:C> #<ATOM :N/:N>)\n",
      "Building from sorted-built: (#<ATOM :C/:C> #<ATOM :CB/:C> #<ATOM :N/:N>)\n",
      "Building from sorted-built: (#<ATOM :CA/:C> #<ATOM :CG1/:C> #<ATOM :CG2/:C>)\n",
      "Building from sorted-built: (#<ATOM :C/:C> #<ATOM :CB/:C> #<ATOM :N/:N>)\n",
      "Building from sorted-built: (#<ATOM :CA/:C> #<ATOM :CG2/:C> #<ATOM :OG1/:O>)\n",
      "Building from sorted-built: (#<ATOM :C/:C> #<ATOM :CB/:C> #<ATOM :N/:N>)\n",
      "Building from sorted-built: (#<ATOM :C/:C> #<ATOM :CB/:C> #<ATOM :N/:N>)\n",
      "Building from sorted-built: (#<ATOM :C/:C> #<ATOM :CB/:C> #<ATOM :N/:N>)\n",
      "Building from sorted-built: (#<ATOM :CA/:C> #<ATOM :CG1/:C> #<ATOM :CG2/:C>)\n",
      "Hydrogens built 70.0%\n",
      "Building from sorted-built: (#<ATOM :C/:C> #<ATOM :CB/:C> #<ATOM :N/:N>)\n",
      "Building from sorted-built: (#<ATOM :C/:C> #<ATOM :CB/:C> #<ATOM :N/:N>)\n",
      "Building from sorted-built: (#<ATOM :C/:C> #<ATOM :CB/:C> #<ATOM :N/:N>)\n",
      "Building from sorted-built: (#<ATOM :C/:C> #<ATOM :CB/:C> #<ATOM :N/:N>)\n",
      "Building from sorted-built: (#<ATOM :C/:C> #<ATOM :CB/:C> #<ATOM :N/:N>)\n",
      "Building from sorted-built: (#<ATOM :C/:C> #<ATOM :CB/:C> #<ATOM :N/:N>)\n",
      "Building from sorted-built: (#<ATOM :CA/:C> #<ATOM :CG1/:C> #<ATOM :CG2/:C>)\n",
      "Building from sorted-built: (#<ATOM :C/:C> #<ATOM :CB/:C> #<ATOM :N/:N>)\n",
      "Building from sorted-built: (#<ATOM :CA/:C> #<ATOM :CG1/:C> #<ATOM :CG2/:C>)\n",
      "Building from sorted-built: (#<ATOM :C/:C> #<ATOM :CB/:C> #<ATOM :N/:N>)\n",
      "Building from sorted-built: (#<ATOM :C/:C> #<ATOM :CB/:C> #<ATOM :N/:N>)\n",
      "Building from sorted-built: (#<ATOM :C/:C> #<ATOM :CB/:C> #<ATOM :N/:N>)\n",
      "Building from sorted-built: (#<ATOM :C/:C> #<ATOM :CB/:C> #<ATOM :N/:N>)\n",
      "Building from sorted-built: (#<ATOM :C/:C> #<ATOM :CB/:C> #<ATOM :N/:N>)\n",
      "Hydrogens built 80.0%\n",
      "Building from sorted-built: (#<ATOM :C/:C> #<ATOM :CB/:C> #<ATOM :N/:N>)\n",
      "Building from sorted-built: (#<ATOM :C/:C> #<ATOM :CB/:C> #<ATOM :N/:N>)\n",
      "Building from sorted-built: (#<ATOM :C/:C> #<ATOM :CB/:C> #<ATOM :N/:N>)\n",
      "Building from sorted-built: (#<ATOM :CA/:C> #<ATOM :CG1/:C> #<ATOM :CG2/:C>)\n",
      "Building from sorted-built: (#<ATOM :C/:C> #<ATOM :CB/:C> #<ATOM :N/:N>)\n",
      "Building from sorted-built: (#<ATOM :C/:C> #<ATOM :CB/:C> #<ATOM :N/:N>)\n",
      "Building from sorted-built: (#<ATOM :C/:C> #<ATOM :CB/:C> #<ATOM :N/:N>)\n",
      "Building from sorted-built: (#<ATOM :C/:C> #<ATOM :CB/:C> #<ATOM :N/:N>)\n",
      "Building from sorted-built: (#<ATOM :C/:C> #<ATOM :CB/:C> #<ATOM :N/:N>)\n",
      "Building from sorted-built: (#<ATOM :C/:C> #<ATOM :CB/:C> #<ATOM :N/:N>)\n",
      "Building from sorted-built: (#<ATOM :C/:C> #<ATOM :CB/:C> #<ATOM :N/:N>)\n",
      "Building from sorted-built: (#<ATOM :C/:C> #<ATOM :CB/:C> #<ATOM :N/:N>)\n",
      "Building from sorted-built: (#<ATOM :CA/:C> #<ATOM :CG2/:C> #<ATOM :OG1/:O>)\n",
      "Hydrogens built 90.0%\n",
      "Building from sorted-built: (#<ATOM :C/:C> #<ATOM :CB/:C> #<ATOM :N/:N>)\n",
      "Building from sorted-built: (#<ATOM :C/:C> #<ATOM :CB/:C> #<ATOM :N/:N>)\n",
      "Building from sorted-built: (#<ATOM :CA/:C> #<ATOM :CG1/:C> #<ATOM :CG2/:C>)\n",
      "Building from sorted-built: (#<ATOM :C/:C> #<ATOM :CB/:C> #<ATOM :N/:N>)\n",
      "Building from sorted-built: (#<ATOM :C/:C> #<ATOM :CB/:C> #<ATOM :N/:N>)\n",
      "Building from sorted-built: (#<ATOM :C/:C> #<ATOM :CB/:C> #<ATOM :N/:N>)\n",
      "Building from sorted-built: (#<ATOM :C/:C> #<ATOM :CB/:C> #<ATOM :N/:N>)\n",
      "Building from sorted-built: (#<ATOM :CA/:C> #<ATOM :CG1/:C> #<ATOM :CG2/:C>)\n",
      "Building from sorted-built: (#<ATOM :C/:C> #<ATOM :CB/:C> #<ATOM :N/:N>)\n",
      "Building from sorted-built: (#<ATOM :C/:C> #<ATOM :CB/:C> #<ATOM :N/:N>)\n",
      "Building from sorted-built: (#<ATOM :C/:C> #<ATOM :CB/:C> #<ATOM :N/:N>)\n",
      "Building from sorted-built: (#<ATOM :C/:C> #<ATOM :CB/:C> #<ATOM :N/:N>)\n",
      "Building from sorted-built: (#<ATOM :CB/:C> #<ATOM :CD1/:C> #<ATOM :CD2/:C>)\n",
      "Built 967 missing hydrogens\n"
     ]
    },
    {
     "name": "stderr",
     "output_type": "stream",
     "text": [
      "SIMPLE-WARNING: \n",
      "Could not immediately identify topology for (AMU . HEAD)\n",
      "SIMPLE-WARNING: \n",
      "Could not identify topology for (AMU . HEAD)\n",
      "SIMPLE-WARNING: \n",
      "Could not immediately identify topology for (NAG . MAIN)\n",
      "SIMPLE-WARNING: \n",
      "Could not identify topology for (NAG . MAIN)\n",
      "SIMPLE-WARNING: \n",
      "Could not immediately identify topology for (AMU . MAIN)\n",
      "SIMPLE-WARNING: \n",
      "Could not identify topology for (AMU . MAIN)\n",
      "SIMPLE-WARNING: \n",
      "Could not immediately identify topology for (HOH . MAIN)\n",
      "SIMPLE-WARNING: \n",
      "Could not identify topology for (HOH . MAIN)\n",
      "SIMPLE-WARNING: \n",
      "Could not immediately identify topology for (HOH . MAIN)\n",
      "SIMPLE-WARNING: \n",
      "Could not immediately identify topology for (HOH . MAIN)\n",
      "SIMPLE-WARNING: \n",
      "Could not immediately identify topology for (HOH . MAIN)\n",
      "SIMPLE-WARNING: \n",
      "Could not immediately identify topology for (HOH . MAIN)\n",
      "SIMPLE-WARNING: \n",
      "Could not immediately identify topology for (HOH . MAIN)\n",
      "SIMPLE-WARNING: \n",
      "Could not immediately identify topology for (HOH . MAIN)\n",
      "SIMPLE-WARNING: \n",
      "Could not immediately identify topology for (HOH . MAIN)\n",
      "SIMPLE-WARNING: \n",
      "Could not immediately identify topology for (HOH . MAIN)\n",
      "SIMPLE-WARNING: \n",
      "Could not immediately identify topology for (HOH . MAIN)\n",
      "SIMPLE-WARNING: \n",
      "Could not immediately identify topology for (HOH . MAIN)\n",
      "SIMPLE-WARNING: \n",
      "Could not immediately identify topology for (HOH . MAIN)\n",
      "SIMPLE-WARNING: \n",
      "Could not immediately identify topology for (HOH . MAIN)\n",
      "SIMPLE-WARNING: \n",
      "Could not immediately identify topology for (HOH . MAIN)\n",
      "SIMPLE-WARNING: \n",
      "Could not immediately identify topology for (HOH . MAIN)\n",
      "SIMPLE-WARNING: \n",
      "Could not immediately identify topology for (HOH . MAIN)\n",
      "SIMPLE-WARNING: \n",
      "Could not immediately identify topology for (HOH . MAIN)\n",
      "SIMPLE-WARNING: \n",
      "Could not immediately identify topology for (HOH . MAIN)\n",
      "SIMPLE-WARNING: \n",
      "Could not immediately identify topology for (HOH . MAIN)\n",
      "SIMPLE-WARNING: \n",
      "Could not immediately identify topology for (HOH . MAIN)\n",
      "SIMPLE-WARNING: \n",
      "Could not immediately identify topology for (HOH . MAIN)\n",
      "SIMPLE-WARNING: \n",
      "Could not immediately identify topology for (HOH . MAIN)\n",
      "SIMPLE-WARNING: \n",
      "Could not immediately identify topology for (HOH . MAIN)\n",
      "SIMPLE-WARNING: \n",
      "Could not immediately identify topology for (HOH . MAIN)\n",
      "SIMPLE-WARNING: \n",
      "Could not immediately identify topology for (HOH . MAIN)\n",
      "SIMPLE-WARNING: \n",
      "Could not immediately identify topology for (HOH . MAIN)\n",
      "SIMPLE-WARNING: \n",
      "Could not immediately identify topology for (HOH . MAIN)\n",
      "SIMPLE-WARNING: \n",
      "Could not immediately identify topology for (HOH . MAIN)\n",
      "SIMPLE-WARNING: \n",
      "Could not immediately identify topology for (HOH . MAIN)\n",
      "SIMPLE-WARNING: \n",
      "Could not immediately identify topology for (HOH . MAIN)\n",
      "SIMPLE-WARNING: \n",
      "Could not immediately identify topology for (HOH . MAIN)\n",
      "SIMPLE-WARNING: \n",
      "Could not immediately identify topology for (HOH . MAIN)\n",
      "SIMPLE-WARNING: \n",
      "Could not immediately identify topology for (HOH . MAIN)\n",
      "SIMPLE-WARNING: \n",
      "Could not immediately identify topology for (HOH . MAIN)\n",
      "SIMPLE-WARNING: \n",
      "Could not immediately identify topology for (HOH . MAIN)\n",
      "SIMPLE-WARNING: \n",
      "Could not immediately identify topology for (HOH . MAIN)\n",
      "SIMPLE-WARNING: \n",
      "Could not immediately identify topology for (HOH . MAIN)\n",
      "SIMPLE-WARNING: \n",
      "Could not immediately identify topology for (HOH . MAIN)\n",
      "SIMPLE-WARNING: \n",
      "Could not immediately identify topology for (HOH . MAIN)\n",
      "SIMPLE-WARNING: \n",
      "Could not immediately identify topology for (HOH . MAIN)\n",
      "SIMPLE-WARNING: \n",
      "Could not immediately identify topology for (HOH . MAIN)\n",
      "SIMPLE-WARNING: \n",
      "Could not immediately identify topology for (HOH . MAIN)\n",
      "SIMPLE-WARNING: \n",
      "Could not immediately identify topology for (HOH . MAIN)\n",
      "SIMPLE-WARNING: \n",
      "Could not immediately identify topology for (HOH . MAIN)\n",
      "SIMPLE-WARNING: \n",
      "Could not immediately identify topology for (HOH . MAIN)\n",
      "SIMPLE-WARNING: \n",
      "Could not immediately identify topology for (HOH . MAIN)\n",
      "SIMPLE-WARNING: \n",
      "Could not immediately identify topology for (HOH . MAIN)\n",
      "SIMPLE-WARNING: \n",
      "Could not immediately identify topology for (HOH . MAIN)\n",
      "SIMPLE-WARNING: \n",
      "Could not immediately identify topology for (HOH . MAIN)\n",
      "SIMPLE-WARNING: \n",
      "Could not immediately identify topology for (HOH . MAIN)\n",
      "SIMPLE-WARNING: \n",
      "Could not immediately identify topology for (HOH . MAIN)\n",
      "SIMPLE-WARNING: \n",
      "Could not immediately identify topology for (HOH . MAIN)\n",
      "SIMPLE-WARNING: \n",
      "Could not immediately identify topology for (HOH . MAIN)\n",
      "SIMPLE-WARNING: \n",
      "Could not immediately identify topology for (HOH . MAIN)\n",
      "SIMPLE-WARNING: \n",
      "Could not immediately identify topology for (HOH . MAIN)\n",
      "SIMPLE-WARNING: \n",
      "Could not immediately identify topology for (HOH . MAIN)\n",
      "SIMPLE-WARNING: \n",
      "Could not immediately identify topology for (HOH . MAIN)\n",
      "SIMPLE-WARNING: \n",
      "Could not immediately identify topology for (HOH . MAIN)\n",
      "SIMPLE-WARNING: \n",
      "Could not immediately identify topology for (HOH . MAIN)\n",
      "SIMPLE-WARNING: \n",
      "Could not immediately identify topology for (HOH . MAIN)\n",
      "SIMPLE-WARNING: \n",
      "Could not immediately identify topology for (HOH . MAIN)\n",
      "SIMPLE-WARNING: \n",
      "Could not immediately identify topology for (HOH . MAIN)\n",
      "SIMPLE-WARNING: \n",
      "Could not immediately identify topology for (HOH . MAIN)\n",
      "SIMPLE-WARNING: \n",
      "Could not immediately identify topology for (HOH . MAIN)\n",
      "SIMPLE-WARNING: \n",
      "Could not immediately identify topology for (HOH . MAIN)\n",
      "SIMPLE-WARNING: \n",
      "Could not immediately identify topology for (HOH . MAIN)\n",
      "SIMPLE-WARNING: \n",
      "Could not immediately identify topology for (HOH . MAIN)\n",
      "SIMPLE-WARNING: \n",
      "Could not immediately identify topology for (HOH . MAIN)\n",
      "SIMPLE-WARNING: \n",
      "Could not immediately identify topology for (HOH . MAIN)\n",
      "SIMPLE-WARNING: \n",
      "Could not immediately identify topology for (HOH . MAIN)\n",
      "SIMPLE-WARNING: \n",
      "Could not immediately identify topology for (HOH . MAIN)\n",
      "SIMPLE-WARNING: \n",
      "Could not immediately identify topology for (HOH . MAIN)\n",
      "SIMPLE-WARNING: \n",
      "Could not immediately identify topology for (HOH . MAIN)\n",
      "SIMPLE-WARNING: \n",
      "Could not immediately identify topology for (HOH . MAIN)\n",
      "SIMPLE-WARNING: \n",
      "Could not immediately identify topology for (HOH . MAIN)\n",
      "SIMPLE-WARNING: \n",
      "Could not immediately identify topology for (HOH . MAIN)\n",
      "SIMPLE-WARNING: \n",
      "Could not immediately identify topology for (HOH . MAIN)\n",
      "SIMPLE-WARNING: \n",
      "Could not immediately identify topology for (HOH . MAIN)\n",
      "SIMPLE-WARNING: \n",
      "Could not immediately identify topology for (HOH . MAIN)\n",
      "SIMPLE-WARNING: \n",
      "Could not immediately identify topology for (HOH . MAIN)\n",
      "SIMPLE-WARNING: \n",
      "Could not immediately identify topology for (HOH . MAIN)\n",
      "SIMPLE-WARNING: \n",
      "Could not immediately identify topology for (HOH . MAIN)\n",
      "SIMPLE-WARNING: \n",
      "Could not immediately identify topology for (HOH . MAIN)\n",
      "SIMPLE-WARNING: \n",
      "Could not immediately identify topology for (HOH . MAIN)\n",
      "SIMPLE-WARNING: \n",
      "Could not immediately identify topology for (HOH . MAIN)\n",
      "SIMPLE-WARNING: \n",
      "Could not immediately identify topology for (HOH . MAIN)\n",
      "SIMPLE-WARNING: \n",
      "Could not immediately identify topology for (HOH . MAIN)\n",
      "SIMPLE-WARNING: \n",
      "Could not immediately identify topology for (HOH . MAIN)\n",
      "SIMPLE-WARNING: \n",
      "Could not immediately identify topology for (HOH . MAIN)\n",
      "SIMPLE-WARNING: \n",
      "Could not immediately identify topology for (HOH . MAIN)\n",
      "SIMPLE-WARNING: \n",
      "Could not immediately identify topology for (HOH . MAIN)\n",
      "SIMPLE-WARNING: \n",
      "Could not immediately identify topology for (HOH . MAIN)\n",
      "SIMPLE-WARNING: \n",
      "Could not immediately identify topology for (HOH . MAIN)\n",
      "SIMPLE-WARNING: \n",
      "Could not immediately identify topology for (HOH . MAIN)\n",
      "SIMPLE-WARNING: \n",
      "Could not immediately identify topology for (HOH . MAIN)\n",
      "SIMPLE-WARNING: \n",
      "Could not immediately identify topology for (HOH . MAIN)\n",
      "SIMPLE-WARNING: \n",
      "Could not immediately identify topology for (HOH . MAIN)\n",
      "SIMPLE-WARNING: \n",
      "Could not immediately identify topology for (HOH . MAIN)\n",
      "SIMPLE-WARNING: \n",
      "Could not immediately identify topology for (HOH . MAIN)\n",
      "SIMPLE-WARNING: \n",
      "Could not immediately identify topology for (HOH . MAIN)\n",
      "SIMPLE-WARNING: \n",
      "Could not immediately identify topology for (HOH . MAIN)\n",
      "SIMPLE-WARNING: \n",
      "Could not immediately identify topology for (HOH . TAIL)\n",
      "SIMPLE-WARNING: \n",
      "Could not identify topology for (HOH . TAIL)\n"
     ]
    },
    {
     "data": {
      "text/plain": [
       "*9LYZAGG*"
      ]
     },
     "execution_count": 26,
     "metadata": {},
     "output_type": "execute_result"
    }
   ],
   "source": [
    "(defparameter *9lyzagg* (leap.pdb:load-pdb \"9lyz.pdb\"))"
   ]
  },
  {
   "cell_type": "code",
   "execution_count": 27,
   "metadata": {},
   "outputs": [
    {
     "data": {
      "application/vnd.jupyter.widget-view+json": {
       "model_id": "176A49AA-E952-4A71-A389-A56752933600",
       "version_major": 2,
       "version_minor": 0
      },
      "text/html": [
       "<p>Failed to display Jupyter Widget of type <code>{widget_type}</code>.</p>\n",
       "<p>\n",
       "  If you're reading this message in the Jupyter Notebook or JupyterLab Notebook, it may mean\n",
       "  that the widgets JavaScript is still loading. If this message persists, it\n",
       "  likely means that the widgets JavaScript library is either not installed or\n",
       "  not enabled. See the <a href=\"https://ipywidgets.readthedocs.io/en/stable/user_install.html\">Jupyter\n",
       "  Widgets Documentation</a> for setup instructions.\n",
       "</p>\n",
       "<p>\n",
       "  If you're reading this message in another frontend (for example, a static\n",
       "  rendering on GitHub or <a href=\"https://nbviewer.jupyter.org/\">NBViewer</a>),\n",
       "  it may mean that your frontend doesn't currently support widgets.\n",
       "</p>\n"
      ],
      "text/plain": [
       "A Jupyter Widget"
      ]
     },
     "execution_count": 27,
     "metadata": {},
     "output_type": "execute_result"
    }
   ],
   "source": [
    "(:= w (show *9lyzagg*)) w"
   ]
  },
  {
   "cell_type": "code",
   "execution_count": 31,
   "metadata": {},
   "outputs": [
    {
     "data": {
      "text/plain": [
       "NIL"
      ]
     },
     "execution_count": 31,
     "metadata": {},
     "output_type": "execute_result"
    }
   ],
   "source": [
    " (defparameter *target-charge* 0)\n",
    "(chem:map-atoms\n",
    "     nil\n",
    "     (lambda (r)\n",
    "             (setf *target-charge* (+ (chem:get-charge r) *target-charge*)))\n",
    "     *9lyzagg*)"
   ]
  },
  {
   "cell_type": "code",
   "execution_count": 32,
   "metadata": {},
   "outputs": [
    {
     "data": {
      "text/plain": [
       "8.000000501750037d0"
      ]
     },
     "execution_count": 32,
     "metadata": {},
     "output_type": "execute_result"
    }
   ],
   "source": [
    "*target-charge*"
   ]
  },
  {
   "cell_type": "code",
   "execution_count": 19,
   "metadata": {},
   "outputs": [
    {
     "data": {
      "text/plain": [
       "*OPDB*"
      ]
     },
     "execution_count": 19,
     "metadata": {},
     "output_type": "execute_result"
    }
   ],
   "source": [
    "(defparameter *opdb* (core:make-cxx-object 'chem:octree))"
   ]
  },
  {
   "cell_type": "code",
   "execution_count": 20,
   "metadata": {},
   "outputs": [
    {
     "data": {
      "text/plain": [
       "*OTPDB*"
      ]
     },
     "execution_count": 20,
     "metadata": {},
     "output_type": "execute_result"
    }
   ],
   "source": [
    "(defparameter *otpdb* (chem:oct-oct-tree-create *opdb* *9lyzagg* 1 1.0 1.37 4.0 0 t))"
   ]
  },
  {
   "cell_type": "code",
   "execution_count": 21,
   "metadata": {},
   "outputs": [
    {
     "data": {
      "text/plain": [
       "*NP1*"
      ]
     },
     "execution_count": 21,
     "metadata": {},
     "output_type": "execute_result"
    }
   ],
   "source": [
    "(defparameter *np1* (chem:oct-tree-init-charges *opdb* *otpdb* 1 1 1.5))"
   ]
  },
  {
   "cell_type": "code",
   "execution_count": 22,
   "metadata": {},
   "outputs": [
    {
     "data": {
      "text/plain": [
       "[ 9.19465 24.121 15.9856 ]"
      ]
     },
     "execution_count": 22,
     "metadata": {},
     "output_type": "execute_result"
    }
   ],
   "source": [
    "*np1*"
   ]
  },
  {
   "cell_type": "code",
   "execution_count": 23,
   "metadata": {},
   "outputs": [
    {
     "data": {
      "text/plain": [
       "NIL"
      ]
     },
     "execution_count": 23,
     "metadata": {},
     "output_type": "execute_result"
    }
   ],
   "source": [
    "(chem:oct-tree-delete-sphere *opdb* *otpdb* *np1* 2.32)"
   ]
  },
  {
   "cell_type": "code",
   "execution_count": 24,
   "metadata": {},
   "outputs": [
    {
     "data": {
      "text/plain": [
       "*NP2*"
      ]
     },
     "execution_count": 24,
     "metadata": {},
     "output_type": "execute_result"
    }
   ],
   "source": [
    "(defparameter *np2* (chem:oct-tree-update-charge *opdb* *otpdb* *np1* 1.0 1.16))"
   ]
  },
  {
   "cell_type": "code",
   "execution_count": 25,
   "metadata": {},
   "outputs": [
    {
     "data": {
      "text/plain": [
       "[ -6.80535 6.121 18.9856 ]"
      ]
     },
     "execution_count": 25,
     "metadata": {},
     "output_type": "execute_result"
    }
   ],
   "source": [
    "*np2*"
   ]
  },
  {
   "cell_type": "code",
   "execution_count": null,
   "metadata": {
    "collapsed": true
   },
   "outputs": [],
   "source": []
  },
  {
   "cell_type": "code",
   "execution_count": 10,
   "metadata": {},
   "outputs": [
    {
     "data": {
      "text/plain": [
       "*CHEMAGG*"
      ]
     },
     "execution_count": 10,
     "metadata": {},
     "output_type": "execute_result"
    }
   ],
   "source": [
    "(defparameter *chemagg* (cando:load-chem-draw-aggregate \"alanine2.cdxml\"))"
   ]
  },
  {
   "cell_type": "code",
   "execution_count": 11,
   "metadata": {},
   "outputs": [
    {
     "data": {
      "text/plain": [
       "NIL"
      ]
     },
     "execution_count": 11,
     "metadata": {},
     "output_type": "execute_result"
    }
   ],
   "source": [
    "(build-hydrogens *chemagg*)"
   ]
  },
  {
   "cell_type": "code",
   "execution_count": 12,
   "metadata": {},
   "outputs": [
    {
     "data": {
      "application/vnd.jupyter.widget-view+json": {
       "model_id": "8828FCCD-869D-4A59-8436-C986EBE8DFDF",
       "version_major": 2,
       "version_minor": 0
      },
      "text/html": [
       "<p>Failed to display Jupyter Widget of type <code>{widget_type}</code>.</p>\n",
       "<p>\n",
       "  If you're reading this message in the Jupyter Notebook or JupyterLab Notebook, it may mean\n",
       "  that the widgets JavaScript is still loading. If this message persists, it\n",
       "  likely means that the widgets JavaScript library is either not installed or\n",
       "  not enabled. See the <a href=\"https://ipywidgets.readthedocs.io/en/stable/user_install.html\">Jupyter\n",
       "  Widgets Documentation</a> for setup instructions.\n",
       "</p>\n",
       "<p>\n",
       "  If you're reading this message in another frontend (for example, a static\n",
       "  rendering on GitHub or <a href=\"https://nbviewer.jupyter.org/\">NBViewer</a>),\n",
       "  it may mean that your frontend doesn't currently support widgets.\n",
       "</p>\n"
      ],
      "text/plain": [
       "A Jupyter Widget"
      ]
     },
     "execution_count": 12,
     "metadata": {},
     "output_type": "execute_result"
    }
   ],
   "source": [
    "(nglv::show-aggregate *chemagg*)"
   ]
  },
  {
   "cell_type": "code",
   "execution_count": 13,
   "metadata": {},
   "outputs": [
    {
     "name": "stdout",
     "output_type": "stream",
     "text": [
      "C_0    S\n"
     ]
    },
    {
     "data": {
      "text/plain": [
       "NIL"
      ]
     },
     "execution_count": 13,
     "metadata": {},
     "output_type": "execute_result"
    }
   ],
   "source": [
    "(progn\n",
    "  (defparameter *stereocenters*\n",
    "    (sort (cando:gather-stereocenters *chemagg*) #'string< :key #'chem:get-name))\n",
    "  (cando:set-stereoisomer-func *stereocenters* (constantly :S) :show t)\n",
    "  (let ((quat-matcher (core:make-cxx-object 'chem:chem-info)))\n",
    "    (chem:compile-smarts quat-matcher \"[C&H0&D4]\")\n",
    "    (chem:map-atoms nil (lambda (a) (when (chem:matches quat-matcher a)\n",
    "                  (chem:set-configuration a :S)\n",
    "                  (format t \"Set atom ~a to :S~%\" (chem:get-name a))))\n",
    "            *chemagg*)))"
   ]
  },
  {
   "cell_type": "code",
   "execution_count": 14,
   "metadata": {},
   "outputs": [
    {
     "data": {
      "text/plain": [
       "NIL"
      ]
     },
     "execution_count": 14,
     "metadata": {},
     "output_type": "execute_result"
    }
   ],
   "source": [
    "(assign-atom-types *chemagg*)\n",
    "(chem:map-atoms 'nil (lambda (a) (if (eq (chem:get-type a) :CT)\n",
    "                                     (if (eq (chem:get-name a) :C)\n",
    "                                         (chem:set-type a :CX)))) *chemagg*)"
   ]
  },
  {
   "cell_type": "code",
   "execution_count": 13,
   "metadata": {},
   "outputs": [
    {
     "data": {
      "text/plain": [
       "NIL"
      ]
     },
     "execution_count": 13,
     "metadata": {},
     "output_type": "execute_result"
    }
   ],
   "source": [
    "(cando:jostle *chemagg*)"
   ]
  },
  {
   "cell_type": "code",
   "execution_count": 14,
   "metadata": {},
   "outputs": [
    {
     "name": "stdout",
     "output_type": "stream",
     "text": [
      "minimize-no-fail\n",
      "======= Starting Steepest Descent Minimizer\n",
      "---Stage-Seconds--Step-log(Alpha)--Dir-------------Energy-----------RMSforce\n",
      " minSDnP       0     1      -inf   0.0              0.000          16889.091\n",
      " minSDnP       0     2     -8.04   0.0        2595175.764          12036.749\n",
      " minSDnP       0     3     -8.75   0.0        2328731.215           5958.852\n",
      "DONE absolute force test:\n",
      "forceRmsMag(4513.820269).LT.forceTolerance(5000.000000)\n",
      "======= Starting Conjugate Gradient Minimizer\n",
      " minCGnP       0     4      -inf   0.0              0.000           4513.820\n",
      " minCGnP       0     5     -7.89  37.4        1546179.728           3445.965\n",
      " minCGnP       0     6     -7.06  55.1        1205757.834           4417.259\n",
      " minCGnP       0     7     -8.17  47.5        1034977.584           2546.811\n",
      " minCGnP       0     8     -7.42  56.4         936334.529           3176.241\n",
      " minCGnP       0     9     -8.53  62.3         860287.559           4170.326\n",
      " minCGnP       0    10     -8.15  40.5         764962.065           3031.864\n",
      "---Stage-Seconds--Step-log(Alpha)--Dir-------------Energy-----------RMSforce\n",
      " minCGnP       0    11     -7.70  49.9         619819.397           2554.970\n",
      " minCGnP       0    12     -7.58  62.1         533129.501           3097.006\n",
      " minCGnP       0    13     -8.52  72.9         455042.415           5391.244\n",
      " minCGnP       0    14     -9.72  45.2         420255.440           2198.176\n",
      " minCGnP       0    15     -7.47  58.3         326233.372           2075.165\n",
      " minCGnP       0    16     -7.80  68.1         274468.363           2651.882\n",
      " minCGnP       0    17     -9.04  59.9         256333.096           2224.620\n",
      " minCGnP       0    18     -8.04  58.6         200047.836           2012.671\n",
      " minCGnP       0    19     -8.96  65.5         180011.766           2161.323\n",
      " minCGnP       0    20     -8.77  74.2         153242.809           2636.285\n",
      "---Stage-Seconds--Step-log(Alpha)--Dir-------------Energy-----------RMSforce\n",
      " minCGnP       0    21     -9.25  71.7         133158.171           1592.240\n",
      " minCGnP       0    22     -8.43  80.6         120153.447           3380.441\n",
      " minCGnP       0    23    -10.19  48.5         109841.611           1794.437\n",
      " minCGnP       0    24     -7.91  50.5          73570.572           1198.119\n",
      " minCGnP       0    25     -8.21  60.1          62711.423           1364.420\n",
      " minCGnP       0    26     -8.44  47.3          54297.989            884.014\n",
      " minCGnP       0    27     -7.54  49.9          40732.619            882.070\n",
      " minCGnP       0    28     -9.56  59.3          38885.483           1234.060\n",
      " minCGnP       0    29    -10.02  41.4          37382.502            847.896\n",
      " minCGnP       0    30     -8.44  45.7          33540.412            373.260\n",
      "---Stage-Seconds--Step-log(Alpha)--Dir-------------Energy-----------RMSforce\n",
      " minCGnP       0    31     -6.77  70.4          28725.252            846.567\n",
      " minCGnP       0    32     -9.43  67.0          27551.226            968.100\n",
      " minCGnP       0    33     -8.38  66.7          21431.360           1039.533\n",
      " minCGnP       0    34    -10.01  69.8          20484.935           1498.046\n",
      " minCGnP       0    35     -9.59  57.5          17621.678            523.125\n",
      " minCGnP       0    36     -8.27  72.6          15112.053            980.607\n",
      " minCGnP       0    37     -8.97  41.3          11908.820            364.733\n",
      " minCGnP       0    38     -7.31  49.7           9202.605            245.712\n",
      " minCGnP       0    39     -7.02  66.8           7314.754            372.794\n",
      " minCGnP       0    40     -8.05  63.5           6189.692            348.793\n",
      "---Stage-Seconds--Step-log(Alpha)--Dir-------------Energy-----------RMSforce\n",
      " minCGnP       0    41     -8.09  75.7           4967.705            700.427\n",
      " minCGnP       0    42     -9.43  43.5           4073.093            242.640\n",
      " minCGnP       0    43     -7.27  50.1           2815.935            147.613\n",
      " minCGnP       0    44     -7.04  55.6           2189.309            149.567\n",
      " minCGnP       0    45     -7.29  57.1           1680.812            139.752\n",
      " minCGnP       0    46     -7.86  65.0           1463.043            183.677\n",
      " minCGnP       0    47     -8.26  43.1           1284.164            116.832\n",
      " minCGnP       0    48     -7.42  44.5           1016.666             77.165\n",
      " minCGnP       0    49     -6.94  54.1            817.770             79.775\n",
      " minCGnP       0    50     -7.02  57.0            625.656             74.274\n",
      "---Stage-Seconds--Step-log(Alpha)--Dir-------------Energy-----------RMSforce\n",
      " minCGnP       0    51     -7.22  56.9            500.683             60.576\n",
      " minCGnP       0    52     -6.81  58.5            367.709             53.182\n",
      " minCGnP       0    53     -7.23  60.5            285.535             48.280\n",
      " minCGnP       0    54     -7.06  62.8            224.562             39.137\n",
      " minCGnP       0    55     -7.00  64.1            178.305             39.834\n",
      " minCGnP       0    56     -7.22  58.7            139.962             29.146\n",
      " minCGnP       0    57     -7.02  61.7            118.872             30.523\n",
      " minCGnP       0    58     -7.32  56.8             98.524             19.962\n",
      " minCGnP       0    59     -6.86  58.4             84.764             17.452\n",
      " minCGnP       0    60     -7.31  56.1             78.014             13.871\n",
      "---Stage-Seconds--Step-log(Alpha)--Dir-------------Energy-----------RMSforce\n",
      " minCGnP       0    61     -6.93  58.1             71.776             12.470\n",
      " minCGnP       0    62     -7.06  60.5             67.393             11.568\n",
      " minCGnP       0    63     -6.95  62.8             63.139             11.165\n",
      " minCGnP       0    64     -6.84  67.7             58.729             12.683\n",
      " minCGnP       0    65     -7.01  65.3             53.938             10.453\n",
      " minCGnP       0    66     -6.83  69.6             50.006             11.889\n",
      " minCGnP       0    67     -7.12  65.5             46.211              9.523\n",
      " minCGnP       0    68     -6.91  64.3             43.218              8.177\n",
      " minCGnP       0    69     -7.16  64.1             41.501              7.358\n",
      " minCGnP       0    70     -6.98   0.0             39.833              6.276\n",
      "---Stage-Seconds--Step-log(Alpha)--Dir-------------Energy-----------RMSforce\n",
      " minCGnP       0    71     -7.33  33.2             38.978              4.102\n",
      " minCGnP       0    72     -6.46  56.8             38.111              5.233\n",
      " minCGnP       0    73     -6.70  59.4             36.996              4.892\n",
      " minCGnP       0    74     -6.73  64.3             36.046              5.243\n",
      " minCGnP       0    75     -6.83  63.7             35.065              4.560\n",
      " minCGnP       0    76     -6.73  65.8             34.244              4.454\n",
      " minCGnP       0    77     -6.43  66.3             33.193              4.151\n",
      " minCGnP       0    78     -6.10  70.8             31.905              4.837\n",
      " minCGnP       0    79     -6.54  69.4             30.784              4.451\n",
      " minCGnP       0    80     -6.75  70.6             30.015              4.475\n",
      "---Stage-Seconds--Step-log(Alpha)--Dir-------------Energy-----------RMSforce\n",
      " minCGnP       0    81     -6.64  68.4             29.155              3.735\n",
      " minCGnP       0    82     -6.78  68.8             28.632              3.571\n",
      " minCGnP       0    83     -6.86  69.5             28.193              3.469\n",
      " minCGnP       0    84     -6.82  66.7             27.760              2.797\n",
      " minCGnP       0    85     -6.79  69.2             27.471              2.896\n",
      " minCGnP       0    86     -6.26  74.6             26.939              3.686\n",
      " minCGnP       0    87     -6.78  71.2             26.427              2.940\n",
      " minCGnP       0    88     -6.54  76.1             26.018              3.810\n",
      " minCGnP       0    89     -6.61  77.8             25.369              4.287\n",
      " minCGnP       0    90     -6.92  75.6             24.768              3.602\n",
      "---Stage-Seconds--Step-log(Alpha)--Dir-------------Energy-----------RMSforce\n",
      " minCGnP       0    91     -6.40  76.6             24.060              3.769\n",
      " minCGnP       0    92     -6.13  78.3             23.052              4.004\n",
      " minCGnP       0    93     -6.84  80.0             22.488              4.617\n",
      " minCGnP       0    94     -6.41  79.4             21.265              4.768\n",
      " minCGnP       0    95     -7.04  77.7             20.602              4.528\n",
      " minCGnP       0    96     -6.47  79.5             19.553              5.352\n",
      " minCGnP       0    97     -6.77  75.3             18.473              3.686\n",
      " minCGnP       0    98     -6.43  80.1             17.758              5.339\n",
      " minCGnP       0    99     -6.69  78.7             16.586              4.216\n",
      " minCGnP       0   100     -7.17  74.0             16.134              2.990\n",
      "---Stage-Seconds--Step-log(Alpha)--Dir-------------Energy-----------RMSforce\n",
      " minCGnP       0   101     -6.81  73.1             15.807              2.775\n",
      " minCGnP       0   102     -6.79  70.7             15.521              2.321\n",
      " minCGnP       0   103     -6.84  68.7             15.331              1.988\n",
      " minCGnP       0   104     -6.62  73.1             15.157              2.359\n",
      " minCGnP       0   105     -6.88  72.8             14.969              2.174\n",
      " minCGnP       0   106     -6.68  70.2             14.774              1.781\n",
      " minCGnP       0   107     -6.25  77.6             14.570              2.728\n",
      " minCGnP       0   108     -6.89  74.4             14.318              2.231\n",
      " minCGnP       0   109     -6.71  76.4             14.117              2.483\n",
      " minCGnP       0   110     -6.94  72.9             13.920              1.924\n",
      "---Stage-Seconds--Step-log(Alpha)--Dir-------------Energy-----------RMSforce\n",
      " minCGnP       0   111     -6.68  74.4             13.767              2.053\n",
      " minCGnP       0   112     -6.48  76.3             13.554              2.232\n",
      " minCGnP       0   113     -6.91  76.9             13.390              2.262\n",
      " minCGnP       0   114     -6.61  77.4             13.158              2.396\n",
      " minCGnP       0   115     -6.74  77.6             12.934              2.490\n",
      " minCGnP       0   116     -6.50  80.0             12.622              3.101\n",
      " minCGnP       0   117     -6.67  78.7             12.214              2.991\n",
      " minCGnP       0   118     -6.79  80.6             11.889              3.444\n",
      " minCGnP       0   119     -6.72  80.2             11.392              3.308\n",
      " minCGnP       0   120     -6.73  76.3             10.976              2.378\n",
      "---Stage-Seconds--Step-log(Alpha)--Dir-------------Energy-----------RMSforce\n",
      " minCGnP       0   121     -6.76  77.9             10.761              2.452\n",
      " minCGnP       0   122     -6.96  76.6             10.574              2.050\n",
      " minCGnP       0   123     -7.01  73.0             10.449              1.466\n",
      " minCGnP       0   124     -6.83  74.0             10.373              1.481\n",
      " minCGnP       0   125     -6.85  72.3             10.296              1.268\n",
      " minCGnP       0   126     -6.92  73.1             10.243              1.272\n",
      " minCGnP       0   127     -6.59  77.2             10.170              1.640\n",
      " minCGnP       0   128     -6.73  75.1             10.064              1.355\n",
      " minCGnP       0   129     -6.75  77.3              9.993              1.561\n",
      " minCGnP       0   130     -6.82  77.5              9.905              1.542\n",
      "---Stage-Seconds--Step-log(Alpha)--Dir-------------Energy-----------RMSforce\n",
      " minCGnP       0   131     -6.83  76.8              9.821              1.411\n",
      " minCGnP       0   132     -6.69  77.9              9.740              1.497\n",
      " minCGnP       0   133     -6.89  76.5              9.664              1.310\n",
      " minCGnP       0   134     -7.09  71.9              9.617              0.970\n",
      " minCGnP       0   135     -7.00  72.8              9.589              0.970\n",
      " minCGnP       0   136     -6.10   0.0              9.519              1.305\n",
      " minCGnP       0   137     -7.56  28.5              9.490              0.708\n",
      " minCGnP       0   138     -6.73  53.9              9.470              0.854\n",
      " minCGnP       0   139     -6.54  59.1              9.435              0.842\n",
      " minCGnP       0   140     -6.67  62.8              9.406              0.840\n",
      "---Stage-Seconds--Step-log(Alpha)--Dir-------------Energy-----------RMSforce\n",
      " minCGnP       0   141     -6.77  61.6              9.379              0.708\n",
      " minCGnP       0   142     -6.66  63.4              9.358              0.673\n",
      " minCGnP       0   143     -6.46  66.7              9.334              0.701\n",
      " minCGnP       0   144     -6.25  74.2              9.303              0.982\n",
      " minCGnP       0   145     -6.99  72.5              9.274              0.850\n",
      " minCGnP       0   146     -6.84  70.7              9.248              0.728\n",
      " minCGnP       0   147     -6.49  70.5              9.222              0.680\n",
      " minCGnP       0   148     -6.69  73.5              9.203              0.765\n",
      " minCGnP       0   149     -6.40  75.0              9.171              0.802\n",
      " minCGnP       0   150     -6.29  76.6              9.132              0.871\n",
      "---Stage-Seconds--Step-log(Alpha)--Dir-------------Energy-----------RMSforce\n",
      " minCGnP       0   151     -6.55  77.5              9.095              0.927\n",
      " minCGnP       0   152     -6.96  78.8              9.068              1.026\n",
      " minCGnP       0   153     -6.47  75.6              9.015              0.803\n",
      " minCGnP       0   154     -6.19  77.9              8.972              0.915\n",
      " minCGnP       0   155     -6.40  76.0              8.926              0.743\n",
      " minCGnP       0   156     -7.07  74.1              8.910              0.630\n",
      " minCGnP       0   157     -6.58  78.0              8.892              0.809\n",
      " minCGnP       0   158     -6.42  78.0              8.857              0.811\n",
      " minCGnP       0   159     -7.21  75.0              8.841              0.624\n",
      " minCGnP       0   160     -6.15  73.0              8.813              0.524\n",
      "DONE absolute force test:\n",
      "forceRmsMag(0.460518).LT.forceTolerance(0.500000)\n",
      "minimize-no-fail\n",
      "======= Starting Steepest Descent Minimizer\n",
      "---Stage-Seconds--Step-log(Alpha)--Dir-------------Energy-----------RMSforce\n",
      " minSDnP       0   161      -inf   0.0              0.000         135331.430\n",
      " minSDnP       0   162    -14.74   0.0          83185.866          50059.655\n",
      " minSDnP       0   163    -12.79   0.0          32622.458          20165.875\n",
      " minSDnP       0   164    -11.48   0.0           9070.898           5772.529\n",
      "DONE absolute force test:\n",
      "forceRmsMag(992.131291).LT.forceTolerance(5000.000000)\n",
      "======= Starting Conjugate Gradient Minimizer\n",
      " minCGnP       0   165      -inf   0.0              0.000            992.131\n",
      " minCGnP       0   166     -9.85  23.4           4348.359            428.549\n",
      " minCGnP       0   167     -8.67  28.8           3593.299            237.335\n",
      " minCGnP       0   168     -8.35  36.1           3113.934            202.189\n",
      " minCGnP       0   169     -8.93  38.4           2918.604            191.742\n",
      " minCGnP       0   170     -8.98  33.1           2765.191            110.578\n",
      "---Stage-Seconds--Step-log(Alpha)--Dir-------------Energy-----------RMSforce\n",
      " minCGnP       0   171     -8.99  38.4           2713.006             90.150\n",
      " minCGnP       0   172     -8.67  43.5           2666.366             88.141\n",
      " minCGnP       0   173     -8.70  47.2           2625.727             73.067\n",
      " minCGnP       0   174     -9.06  42.8           2605.961             44.080\n",
      " minCGnP       0   175     -7.93  56.3           2582.894             50.448\n",
      " minCGnP       0   176     -8.57  62.2           2564.647             58.822\n",
      " minCGnP       0   177     -8.68  61.7           2547.721             44.994\n",
      " minCGnP       0   178     -8.72  55.2           2536.841             36.308\n",
      " minCGnP       0   179     -8.65  54.4           2529.261             26.405\n",
      " minCGnP       0   180     -8.42  58.0           2524.141             23.471\n",
      "---Stage-Seconds--Step-log(Alpha)--Dir-------------Energy-----------RMSforce\n",
      " minCGnP       0   181     -7.93  57.5           2517.627             21.121\n",
      " minCGnP       0   182     -8.61  57.9           2514.972             18.036\n",
      " minCGnP       0   183     -8.21  63.2           2512.041             18.698\n",
      " minCGnP       0   184     -8.46  64.7           2509.589             17.243\n",
      " minCGnP       0   185     -8.05  64.1           2506.379             15.292\n",
      " minCGnP       0   186     -8.06  68.7           2503.967             17.269\n",
      " minCGnP       0   187     -8.27  67.2           2501.477             15.427\n",
      " minCGnP       0   188     -7.66  71.2           2497.712             18.556\n",
      " minCGnP       0   189     -8.42  71.8           2495.208             17.190\n",
      " minCGnP       0   190     -8.09  73.8           2492.253             17.369\n",
      "---Stage-Seconds--Step-log(Alpha)--Dir-------------Energy-----------RMSforce\n",
      " minCGnP       0   191     -8.65  69.6           2490.494             13.850\n",
      " minCGnP       0   192     -8.46  61.1           2489.134              9.605\n",
      " minCGnP       0   193     -7.99  67.7           2488.100             11.055\n",
      " minCGnP       0   194     -8.30  68.3           2487.098             10.337\n",
      " minCGnP       0   195     -8.29  70.6           2486.212             10.920\n",
      " minCGnP       0   196     -8.58  64.8           2485.471              7.858\n",
      " minCGnP       0   197     -8.35  62.3           2484.990              6.335\n",
      " minCGnP       0   198     -8.11  65.9           2484.591              6.565\n",
      " minCGnP       0   199     -8.15  63.9           2484.181              5.438\n",
      " minCGnP       0   200     -8.35  66.1           2483.952              5.382\n",
      "---Stage-Seconds--Step-log(Alpha)--Dir-------------Energy-----------RMSforce\n",
      " minCGnP       0   201     -8.44  65.4           2483.746              4.772\n",
      " minCGnP       0   202     -8.45  62.8           2483.586              3.867\n",
      " minCGnP       0   203     -8.37  61.3           2483.472              3.243\n",
      " minCGnP       0   204     -7.90  64.8           2483.344              3.312\n",
      " minCGnP       0   205     -8.14  70.4           2483.238              3.952\n",
      " minCGnP       0   206     -8.04  73.1           2483.072              4.360\n",
      " minCGnP       0   207     -8.45  73.0           2482.939              4.155\n",
      " minCGnP       0   208     -8.44  68.2           2482.816              3.070\n",
      " minCGnP       0   209     -8.03  68.8           2482.714              2.932\n",
      " minCGnP       0   210     -8.46  66.1           2482.654              2.397\n",
      "---Stage-Seconds--Step-log(Alpha)--Dir-------------Energy-----------RMSforce\n",
      " minCGnP       0   211     -7.97  68.4           2482.589              2.442\n",
      " minCGnP       0   212     -8.65  66.0           2482.555              2.029\n",
      " minCGnP       0   213     -8.49  59.4           2482.527              1.395\n",
      " minCGnP       0   214     -8.35  60.6           2482.511              1.258\n",
      " minCGnP       0   215     -8.26  60.0           2482.498              1.070\n",
      " minCGnP       0   216     -7.66  70.4           2482.480              1.507\n",
      " minCGnP       0   217     -8.50  69.4           2482.465              1.340\n",
      " minCGnP       0   218     -8.31  70.1           2482.450              1.303\n",
      " minCGnP       0   219     -8.43  68.0           2482.438              1.101\n",
      " minCGnP       0   220     -8.10  66.1           2482.426              0.934\n",
      "---Stage-Seconds--Step-log(Alpha)--Dir-------------Energy-----------RMSforce\n",
      " minCGnP       0   221     -8.00  72.3           2482.416              1.185\n",
      " minCGnP       0   222     -8.15  72.6           2482.403              1.148\n",
      " minCGnP       0   223     -8.41  73.6           2482.393              1.165\n",
      " minCGnP       0   224     -8.45  69.7           2482.383              0.890\n",
      " minCGnP       0   225     -8.09  71.9           2482.375              0.948\n",
      " minCGnP       0   226     -8.01  75.5           2482.365              1.138\n",
      " minCGnP       0   227     -7.79  76.7           2482.348              1.208\n",
      " minCGnP       0   228     -8.56  75.7           2482.338              1.087\n",
      " minCGnP       0   229     -8.27  75.9           2482.328              1.067\n",
      " minCGnP       0   230     -8.42  74.0           2482.320              0.907\n",
      "---Stage-Seconds--Step-log(Alpha)--Dir-------------Energy-----------RMSforce\n",
      " minCGnP       0   231     -8.13   0.0           2482.312              0.868\n",
      " minCGnP       0   232     -8.59  32.9           2482.308              0.561\n",
      " minCGnP       0   233     -7.21  61.5           2482.300              0.869\n",
      " minCGnP       0   234     -8.14  63.3           2482.293              0.825\n",
      " minCGnP       0   235     -7.63  66.5           2482.282              0.851\n",
      " minCGnP       0   236     -8.79  65.2           2482.278              0.733\n",
      " minCGnP       0   237     -8.16  58.9           2482.273              0.509\n",
      " minCGnP       0   238     -7.86  67.2           2482.270              0.625\n",
      " minCGnP       0   239     -6.90  73.6           2482.257              0.823\n",
      " minCGnP       0   240     -8.19  75.6           2482.251              0.901\n",
      "---Stage-Seconds--Step-log(Alpha)--Dir-------------Energy-----------RMSforce\n",
      " minCGnP       0   241     -7.33  70.3           2482.233              0.628\n",
      " minCGnP       0   242     -7.95  77.3           2482.228              0.939\n",
      " minCGnP       0   243     -8.54  73.6           2482.223              0.698\n",
      " minCGnP       0   244     -7.82  77.5           2482.216              0.890\n",
      " minCGnP       0   245     -8.12  74.7           2482.208              0.708\n",
      " minCGnP       0   246     -6.87  78.8           2482.191              0.946\n",
      " minCGnP       0   247     -7.97  79.7           2482.181              1.008\n",
      " minCGnP       0   248     -7.25  81.5           2482.157              1.200\n",
      " minCGnP       0   249     -8.57  80.7           2482.148              1.092\n",
      " minCGnP       0   250     -7.90  83.9           2482.134              1.656\n",
      "---Stage-Seconds--Step-log(Alpha)--Dir-------------Energy-----------RMSforce\n",
      " minCGnP       0   251     -8.36  80.9           2482.113              1.080\n",
      " minCGnP       0   252     -7.44  83.6           2482.090              1.531\n",
      " minCGnP       0   253     -8.13  78.9           2482.067              0.898\n",
      " minCGnP       0   254     -8.29  81.1           2482.061              1.102\n",
      " minCGnP       0   255     -8.33  78.8           2482.051              0.852\n",
      " minCGnP       0   256     -8.51  78.1           2482.046              0.788\n",
      " minCGnP       0   257     -6.25  81.0           2482.006              1.034\n",
      " minCGnP       0   258     -8.20  82.5           2481.997              1.233\n",
      " minCGnP       0   259     -8.14  83.0           2481.982              1.293\n",
      " minCGnP       0   260     -8.61  81.6           2481.972              1.067\n",
      "---Stage-Seconds--Step-log(Alpha)--Dir-------------Energy-----------RMSforce\n",
      " minCGnP       0   261     -7.64  80.9           2481.954              0.975\n",
      " minCGnP       0   262     -7.83  80.8           2481.941              0.966\n",
      " minCGnP       0   263     -8.16  73.9           2481.933              0.525\n",
      " minCGnP       0   264     -8.33  78.2           2481.931              0.693\n",
      " minCGnP       0   265     -8.03  75.9           2481.925              0.565\n",
      "DONE absolute force test:\n",
      "forceRmsMag(0.331371).LT.forceTolerance(0.500000)\n"
     ]
    },
    {
     "data": {
      "text/plain": [
       "*EE*"
      ]
     },
     "execution_count": 14,
     "metadata": {},
     "output_type": "execute_result"
    }
   ],
   "source": [
    "(defparameter *ee* (energy:minimize *chemagg*))"
   ]
  },
  {
   "cell_type": "code",
   "execution_count": 15,
   "metadata": {},
   "outputs": [
    {
     "data": {
      "application/vnd.jupyter.widget-view+json": {
       "model_id": "A15E92EE-B11E-49C5-8ABB-83CD0D9769C4",
       "version_major": 2,
       "version_minor": 0
      },
      "text/html": [
       "<p>Failed to display Jupyter Widget of type <code>{widget_type}</code>.</p>\n",
       "<p>\n",
       "  If you're reading this message in the Jupyter Notebook or JupyterLab Notebook, it may mean\n",
       "  that the widgets JavaScript is still loading. If this message persists, it\n",
       "  likely means that the widgets JavaScript library is either not installed or\n",
       "  not enabled. See the <a href=\"https://ipywidgets.readthedocs.io/en/stable/user_install.html\">Jupyter\n",
       "  Widgets Documentation</a> for setup instructions.\n",
       "</p>\n",
       "<p>\n",
       "  If you're reading this message in another frontend (for example, a static\n",
       "  rendering on GitHub or <a href=\"https://nbviewer.jupyter.org/\">NBViewer</a>),\n",
       "  it may mean that your frontend doesn't currently support widgets.\n",
       "</p>\n"
      ],
      "text/plain": [
       "A Jupyter Widget"
      ]
     },
     "execution_count": 15,
     "metadata": {},
     "output_type": "execute_result"
    }
   ],
   "source": [
    "(nglv::show-aggregate *chemagg*)"
   ]
  },
  {
   "cell_type": "code",
   "execution_count": 16,
   "metadata": {},
   "outputs": [
    {
     "data": {
      "text/plain": [
       "NIL"
      ]
     },
     "execution_count": 16,
     "metadata": {},
     "output_type": "execute_result"
    }
   ],
   "source": [
    "(assign-atom-types *chemagg*)\n",
    "(chem:map-atoms 'nil (lambda (a) (if (eq (chem:get-type a) :CT)\n",
    "                                     (if (eq (chem:get-name a) :C)\n",
    "                                         (chem:set-type a :CX)))) *chemagg*)"
   ]
  },
  {
   "cell_type": "code",
   "execution_count": 17,
   "metadata": {},
   "outputs": [
    {
     "data": {
      "text/plain": [
       "NIL"
      ]
     },
     "execution_count": 17,
     "metadata": {},
     "output_type": "execute_result"
    }
   ],
   "source": [
    "(defparameter *mol1* (chem:make-molecule))\n",
    "(defparameter *res1* (chem:make-residue :foo))\n",
    "(defparameter *a1* (chem:make-atom :CL :|Cl|))\n",
    "(chem:set-position *a1* '(0.0 0.0 0.0))\n",
    "(chem:set-charge *a1* '-1.0)\n",
    "(chem:add-matter *res1* *a1*)\n",
    "(chem:add-matter *mol1* *res1*)\n",
    "(defparameter *clion* (chem:make-aggregate))\n",
    "(chem:add-matter *clion* *mol1*)"
   ]
  },
  {
   "cell_type": "code",
   "execution_count": 18,
   "metadata": {},
   "outputs": [
    {
     "data": {
      "text/plain": [
       "*O1*"
      ]
     },
     "execution_count": 18,
     "metadata": {},
     "output_type": "execute_result"
    }
   ],
   "source": [
    "(defparameter *o1* (core:make-cxx-object 'chem:octree))"
   ]
  },
  {
   "cell_type": "code",
   "execution_count": 19,
   "metadata": {},
   "outputs": [
    {
     "data": {
      "text/plain": [
       "*OT*"
      ]
     },
     "execution_count": 19,
     "metadata": {},
     "output_type": "execute_result"
    }
   ],
   "source": [
    "(defparameter *ot* (chem:oct-oct-tree-create *o1* *chemagg* 1 1.0 1.0 4.0 0 t))"
   ]
  },
  {
   "cell_type": "code",
   "execution_count": 20,
   "metadata": {},
   "outputs": [
    {
     "data": {
      "text/plain": [
       "*NEWPOS*"
      ]
     },
     "execution_count": 20,
     "metadata": {},
     "output_type": "execute_result"
    }
   ],
   "source": [
    "(defparameter *newpos* (chem:oct-tree-init-charges *o1* *ot* 1 1 1.5))"
   ]
  },
  {
   "cell_type": "code",
   "execution_count": 21,
   "metadata": {},
   "outputs": [
    {
     "data": {
      "text/plain": [
       "[ 200.413 319.565 -2.55179 ]"
      ]
     },
     "execution_count": 21,
     "metadata": {},
     "output_type": "execute_result"
    }
   ],
   "source": [
    "*newpos*"
   ]
  },
  {
   "cell_type": "code",
   "execution_count": 21,
   "metadata": {},
   "outputs": [
    {
     "data": {
      "text/plain": [
       "*CLION-COPY*"
      ]
     },
     "execution_count": 21,
     "metadata": {},
     "output_type": "execute_result"
    }
   ],
   "source": [
    "(defparameter *clion-copy* (chem:matter-copy *clion*))"
   ]
  },
  {
   "cell_type": "code",
   "execution_count": 22,
   "metadata": {},
   "outputs": [
    {
     "data": {
      "text/plain": [
       "*CLION-TRANSFORM*"
      ]
     },
     "execution_count": 22,
     "metadata": {},
     "output_type": "execute_result"
    }
   ],
   "source": [
    "(defparameter *clion-transform* (geom:make-m4-translate *newpos*))"
   ]
  },
  {
   "cell_type": "code",
   "execution_count": 23,
   "metadata": {},
   "outputs": [
    {
     "data": {
      "text/plain": [
       "NIL"
      ]
     },
     "execution_count": 23,
     "metadata": {},
     "output_type": "execute_result"
    }
   ],
   "source": [
    "(chem:apply-transform-to-atoms *clion-copy* *clion-transform*)"
   ]
  },
  {
   "cell_type": "code",
   "execution_count": 24,
   "metadata": {},
   "outputs": [
    {
     "data": {
      "text/plain": [
       "NIL"
      ]
     },
     "execution_count": 24,
     "metadata": {},
     "output_type": "execute_result"
    }
   ],
   "source": [
    "(chem:add-matter *chemagg* *clion-copy*)"
   ]
  },
  {
   "cell_type": "code",
   "execution_count": 25,
   "metadata": {},
   "outputs": [
    {
     "data": {
      "text/plain": [
       "*OT*"
      ]
     },
     "execution_count": 25,
     "metadata": {},
     "output_type": "execute_result"
    }
   ],
   "source": [
    "(defparameter *ot* (chem:oct-oct-tree-create *o1* *chemagg* 1 1.0 1.0 4.0 0 t))"
   ]
  },
  {
   "cell_type": "code",
   "execution_count": 26,
   "metadata": {},
   "outputs": [
    {
     "data": {
      "text/plain": [
       "*NEWPOS1*"
      ]
     },
     "execution_count": 26,
     "metadata": {},
     "output_type": "execute_result"
    }
   ],
   "source": [
    "(defparameter *newpos1* (chem:oct-tree-init-charges *o1* *ot* 1 1 1.5))"
   ]
  },
  {
   "cell_type": "code",
   "execution_count": null,
   "metadata": {
    "collapsed": true
   },
   "outputs": [],
   "source": [
    "(chem:oct-tree-delete-sphere *o1* *ot* *newpos* 1.5)"
   ]
  },
  {
   "cell_type": "code",
   "execution_count": null,
   "metadata": {
    "collapsed": true
   },
   "outputs": [],
   "source": [
    "(chem:oct-tree-update-charge *o1* *ot* *newpos* -1.0 1.5)"
   ]
  },
  {
   "cell_type": "code",
   "execution_count": 11,
   "metadata": {},
   "outputs": [
    {
     "name": "stdout",
     "output_type": "stream",
     "text": [
      "Saving matter to /Users/tuj24515/Development/clasp/extensions/cando/src/tests/addions/alanine.mol2\n"
     ]
    },
    {
     "data": {
      "text/plain": [
       "NIL"
      ]
     },
     "execution_count": 11,
     "metadata": {},
     "output_type": "execute_result"
    }
   ],
   "source": [
    "(save-mol2 *chemagg* \"alanine.mol2\")"
   ]
  },
  {
   "cell_type": "code",
   "execution_count": 12,
   "metadata": {},
   "outputs": [
    {
     "data": {
      "text/plain": [
       "*CHEMAGG2*"
      ]
     },
     "execution_count": 12,
     "metadata": {},
     "output_type": "execute_result"
    }
   ],
   "source": [
    "(defparameter *chemagg2* (chem:matter-copy *chemagg*))"
   ]
  },
  {
   "cell_type": "code",
   "execution_count": 13,
   "metadata": {},
   "outputs": [
    {
     "data": {
      "text/plain": [
       "*CHEMCENTER*"
      ]
     },
     "execution_count": 13,
     "metadata": {},
     "output_type": "execute_result"
    }
   ],
   "source": [
    "(defparameter *chemcenter* (chem:geometric-center *chemagg2*))"
   ]
  },
  {
   "cell_type": "code",
   "execution_count": 14,
   "metadata": {},
   "outputs": [
    {
     "data": {
      "text/plain": [
       "*TRANSFORM*"
      ]
     },
     "execution_count": 14,
     "metadata": {},
     "output_type": "execute_result"
    }
   ],
   "source": [
    "(defparameter *transform* (geom:make-m4-translate (geom:v* *chemcenter* -1.0)))"
   ]
  },
  {
   "cell_type": "code",
   "execution_count": 19,
   "metadata": {},
   "outputs": [
    {
     "data": {
      "text/plain": [
       "NIL"
      ]
     },
     "execution_count": 19,
     "metadata": {},
     "output_type": "execute_result"
    }
   ],
   "source": [
    "(chem:apply-transform-to-atoms *chemagg2* *transform*))"
   ]
  },
  {
   "cell_type": "code",
   "execution_count": null,
   "metadata": {
    "collapsed": true
   },
   "outputs": [],
   "source": []
  },
  {
   "cell_type": "code",
   "execution_count": 10,
   "metadata": {},
   "outputs": [
    {
     "data": {
      "text/plain": [
       "(:TIP3PFBOX)"
      ]
     },
     "execution_count": 10,
     "metadata": {},
     "output_type": "execute_result"
    }
   ],
   "source": [
    "(load-off \"tip3pfbox.off\")"
   ]
  },
  {
   "cell_type": "code",
   "execution_count": 17,
   "metadata": {},
   "outputs": [
    {
     "data": {
      "text/plain": [
       "*SOLVENT*"
      ]
     },
     "execution_count": 17,
     "metadata": {},
     "output_type": "execute_result"
    }
   ],
   "source": [
    "(defparameter *solvent* ~tip3pfbox)"
   ]
  },
  {
   "cell_type": "code",
   "execution_count": 18,
   "metadata": {},
   "outputs": [
    {
     "data": {
      "application/vnd.jupyter.widget-view+json": {
       "model_id": "BBF50761-AE26-4961-AF2F-F6F677993715",
       "version_major": 2,
       "version_minor": 0
      },
      "text/html": [
       "<p>Failed to display Jupyter Widget of type <code>{widget_type}</code>.</p>\n",
       "<p>\n",
       "  If you're reading this message in the Jupyter Notebook or JupyterLab Notebook, it may mean\n",
       "  that the widgets JavaScript is still loading. If this message persists, it\n",
       "  likely means that the widgets JavaScript library is either not installed or\n",
       "  not enabled. See the <a href=\"https://ipywidgets.readthedocs.io/en/stable/user_install.html\">Jupyter\n",
       "  Widgets Documentation</a> for setup instructions.\n",
       "</p>\n",
       "<p>\n",
       "  If you're reading this message in another frontend (for example, a static\n",
       "  rendering on GitHub or <a href=\"https://nbviewer.jupyter.org/\">NBViewer</a>),\n",
       "  it may mean that your frontend doesn't currently support widgets.\n",
       "</p>\n"
      ],
      "text/plain": [
       "A Jupyter Widget"
      ]
     },
     "execution_count": 18,
     "metadata": {},
     "output_type": "execute_result"
    }
   ],
   "source": [
    "(nglv::show-aggregate *solvent*)"
   ]
  },
  {
   "cell_type": "code",
   "execution_count": 19,
   "metadata": {},
   "outputs": [
    {
     "data": {
      "text/plain": [
       "NIL"
      ]
     },
     "execution_count": 19,
     "metadata": {},
     "output_type": "execute_result"
    }
   ],
   "source": [
    "(assign-atom-types *chemleap*)\n",
    "(chem:map-atoms 'nil (lambda (a) (if (eq (chem:get-type a) :CT)\n",
    "                                     (if (eq (chem:get-name a) :C)\n",
    "                                         (chem:set-type a :CX)))) *chemleap*)"
   ]
  },
  {
   "cell_type": "code",
   "execution_count": 20,
   "metadata": {},
   "outputs": [
    {
     "name": "stdout",
     "output_type": "stream",
     "text": [
      "Total bounding box for atom centers:  25.250742000000002d0 27.647735d0 23.02103d0\n"
     ]
    },
    {
     "data": {
      "text/plain": [
       "*NEWAGG*"
      ]
     },
     "execution_count": 20,
     "metadata": {},
     "output_type": "execute_result"
    }
   ],
   "source": [
    "(:= *newagg* (leap.solvate::tool-solvate-and-shell *chemleap* *solvent* '(10.0 10.0 10.0)))"
   ]
  },
  {
   "cell_type": "code",
   "execution_count": 21,
   "metadata": {},
   "outputs": [
    {
     "data": {
      "application/vnd.jupyter.widget-view+json": {
       "model_id": "09F79548-0308-4BC4-8E8C-66959EB5298E",
       "version_major": 2,
       "version_minor": 0
      },
      "text/html": [
       "<p>Failed to display Jupyter Widget of type <code>{widget_type}</code>.</p>\n",
       "<p>\n",
       "  If you're reading this message in the Jupyter Notebook or JupyterLab Notebook, it may mean\n",
       "  that the widgets JavaScript is still loading. If this message persists, it\n",
       "  likely means that the widgets JavaScript library is either not installed or\n",
       "  not enabled. See the <a href=\"https://ipywidgets.readthedocs.io/en/stable/user_install.html\">Jupyter\n",
       "  Widgets Documentation</a> for setup instructions.\n",
       "</p>\n",
       "<p>\n",
       "  If you're reading this message in another frontend (for example, a static\n",
       "  rendering on GitHub or <a href=\"https://nbviewer.jupyter.org/\">NBViewer</a>),\n",
       "  it may mean that your frontend doesn't currently support widgets.\n",
       "</p>\n"
      ],
      "text/plain": [
       "A Jupyter Widget"
      ]
     },
     "execution_count": 21,
     "metadata": {},
     "output_type": "execute_result"
    }
   ],
   "source": [
    "(nglv::show-aggregate *newagg*)"
   ]
  },
  {
   "cell_type": "code",
   "execution_count": 29,
   "metadata": {},
   "outputs": [
    {
     "name": "stdout",
     "output_type": "stream",
     "text": [
      "Saving matter to /Users/tuj24515/Development/clasp/extensions/cando/src/tests/addions/alanine-water.mol2\n"
     ]
    },
    {
     "data": {
      "text/plain": [
       "NIL"
      ]
     },
     "execution_count": 29,
     "metadata": {},
     "output_type": "execute_result"
    }
   ],
   "source": [
    "(save-mol2 *newagg* \"alanine-water.mol2\")"
   ]
  },
  {
   "cell_type": "code",
   "execution_count": 21,
   "metadata": {},
   "outputs": [
    {
     "name": "stdout",
     "output_type": "stream",
     "text": [
      "Total charge 0.0\n",
      "Adding 2 counter ions to ACE using 1A grid. \n",
      "Placed Na+ in ACE at -1.471889537811279d0 9.405495601654053d0 11.664794403076172d0\n",
      "Placed Na+ in ACE at -2.471889537811279d0 -7.594504398345947d0 12.664794403076172d0\n"
     ]
    },
    {
     "data": {
      "text/plain": [
       "NIL"
      ]
     },
     "execution_count": 21,
     "metadata": {},
     "output_type": "execute_result"
    }
   ],
   "source": [
    "(leap.add-ions:add-ions *newagg* :|Na+| 2)"
   ]
  },
  {
   "cell_type": "code",
   "execution_count": 20,
   "metadata": {},
   "outputs": [
    {
     "name": "stderr",
     "output_type": "stream",
     "text": [
      "An error occurred of type: UNBOUND-VARIABLE: \n",
      "  #<UNBOUND-VARIABLE>\n"
     ]
    },
    {
     "data": {
      "text/plain": [
       "NIL"
      ]
     },
     "execution_count": 20,
     "metadata": {},
     "output_type": "execute_result"
    }
   ],
   "source": [
    "(assign-atom-types *chemagg*)\n",
    "(chem:map-atoms 'nil (lambda (a) (if (eq (chem:get-type a) :CT)\n",
    "                                     (if (eq (chem:get-name a) :C)\n",
    "                                         (chem:set-type a :CX)))) *chemagg*)"
   ]
  },
  {
   "cell_type": "code",
   "execution_count": 30,
   "metadata": {},
   "outputs": [
    {
     "name": "stdout",
     "output_type": "stream",
     "text": [
      "\n",
      "#<RESIDUE :ACE> \n",
      "#<RESIDUE :ALA> \n",
      "#<RESIDUE :NME> \n",
      "#<RESIDUE :WAT> \n",
      "#<RESIDUE :WAT> \n",
      "#<RESIDUE :WAT> \n",
      "#<RESIDUE :WAT> \n",
      "#<RESIDUE :WAT> \n",
      "#<RESIDUE :WAT> \n",
      "#<RESIDUE :WAT> \n",
      "#<RESIDUE :WAT> \n",
      "#<RESIDUE :WAT> \n",
      "#<RESIDUE :WAT> \n",
      "#<RESIDUE :WAT> \n",
      "#<RESIDUE :WAT> \n",
      "#<RESIDUE :WAT> \n",
      "#<RESIDUE :WAT> \n",
      "#<RESIDUE :WAT> \n",
      "#<RESIDUE :WAT> \n",
      "#<RESIDUE :WAT> \n",
      "#<RESIDUE :WAT> \n",
      "#<RESIDUE :WAT> \n",
      "#<RESIDUE :WAT> \n",
      "#<RESIDUE :WAT> \n",
      "#<RESIDUE :WAT> \n",
      "#<RESIDUE :WAT> \n",
      "#<RESIDUE :WAT> \n",
      "#<RESIDUE :WAT> \n",
      "#<RESIDUE :WAT> \n",
      "#<RESIDUE :WAT> \n",
      "#<RESIDUE :WAT> \n",
      "#<RESIDUE :WAT> \n",
      "#<RESIDUE :WAT> \n",
      "#<RESIDUE :WAT> \n",
      "#<RESIDUE :WAT> \n",
      "#<RESIDUE :WAT> \n",
      "#<RESIDUE :WAT> \n",
      "#<RESIDUE :WAT> \n",
      "#<RESIDUE :WAT> \n",
      "#<RESIDUE :WAT> \n",
      "#<RESIDUE :WAT> \n",
      "#<RESIDUE :WAT> \n",
      "#<RESIDUE :WAT> \n",
      "#<RESIDUE :WAT> \n",
      "#<RESIDUE :WAT> \n",
      "#<RESIDUE :WAT> \n",
      "#<RESIDUE :WAT> \n",
      "#<RESIDUE :WAT> \n",
      "#<RESIDUE :WAT> \n",
      "#<RESIDUE :WAT> \n",
      "#<RESIDUE :WAT> \n",
      "#<RESIDUE :WAT> \n",
      "#<RESIDUE :WAT> \n",
      "#<RESIDUE :WAT> \n",
      "#<RESIDUE :WAT> \n",
      "#<RESIDUE :WAT> \n",
      "#<RESIDUE :WAT> \n",
      "#<RESIDUE :WAT> \n",
      "#<RESIDUE :WAT> \n",
      "#<RESIDUE :WAT> \n",
      "#<RESIDUE :WAT> \n",
      "#<RESIDUE :WAT> \n",
      "#<RESIDUE :WAT> \n",
      "#<RESIDUE :WAT> \n",
      "#<RESIDUE :WAT> \n",
      "#<RESIDUE :WAT> \n",
      "#<RESIDUE :WAT> \n",
      "#<RESIDUE :WAT> \n",
      "#<RESIDUE :WAT> \n",
      "#<RESIDUE :WAT> \n",
      "#<RESIDUE :WAT> \n",
      "#<RESIDUE :WAT> \n",
      "#<RESIDUE :WAT> \n",
      "#<RESIDUE :WAT> \n",
      "#<RESIDUE :WAT> \n",
      "#<RESIDUE :WAT> \n",
      "#<RESIDUE :WAT> \n",
      "#<RESIDUE :WAT> \n",
      "#<RESIDUE :WAT> \n",
      "#<RESIDUE :WAT> \n",
      "#<RESIDUE :WAT> \n",
      "#<RESIDUE :WAT> \n",
      "#<RESIDUE :WAT> \n",
      "#<RESIDUE :WAT> \n",
      "#<RESIDUE :WAT> \n",
      "#<RESIDUE :WAT> \n",
      "#<RESIDUE :WAT> \n",
      "#<RESIDUE :WAT> \n",
      "#<RESIDUE :WAT> \n",
      "#<RESIDUE :WAT> \n",
      "#<RESIDUE :WAT> \n",
      "#<RESIDUE :WAT> \n",
      "#<RESIDUE :WAT> \n",
      "#<RESIDUE :WAT> \n",
      "#<RESIDUE :WAT> \n",
      "#<RESIDUE :WAT> \n",
      "#<RESIDUE :WAT> \n",
      "#<RESIDUE :WAT> \n",
      "#<RESIDUE :WAT> \n",
      "#<RESIDUE :WAT> \n",
      "#<RESIDUE :WAT> \n",
      "#<RESIDUE :WAT> \n",
      "#<RESIDUE :WAT> \n",
      "#<RESIDUE :WAT> \n",
      "#<RESIDUE :WAT> \n",
      "#<RESIDUE :WAT> \n",
      "#<RESIDUE :WAT> \n",
      "#<RESIDUE :WAT> \n",
      "#<RESIDUE :WAT> \n",
      "#<RESIDUE :WAT> \n",
      "#<RESIDUE :WAT> \n",
      "#<RESIDUE :WAT> \n",
      "#<RESIDUE :WAT> \n",
      "#<RESIDUE :WAT> \n",
      "#<RESIDUE :WAT> \n",
      "#<RESIDUE :WAT> \n",
      "#<RESIDUE :WAT> \n",
      "#<RESIDUE :WAT> \n",
      "#<RESIDUE :WAT> \n",
      "#<RESIDUE :WAT> \n",
      "#<RESIDUE :WAT> \n",
      "#<RESIDUE :WAT> \n",
      "#<RESIDUE :WAT> \n",
      "#<RESIDUE :WAT> \n",
      "#<RESIDUE :WAT> \n",
      "#<RESIDUE :WAT> \n",
      "#<RESIDUE :WAT> \n",
      "#<RESIDUE :WAT> \n",
      "#<RESIDUE :WAT> \n",
      "#<RESIDUE :WAT> \n",
      "#<RESIDUE :WAT> \n",
      "#<RESIDUE :WAT> \n",
      "#<RESIDUE :WAT> \n",
      "#<RESIDUE :WAT> \n",
      "#<RESIDUE :WAT> \n",
      "#<RESIDUE :WAT> \n",
      "#<RESIDUE :WAT> \n",
      "#<RESIDUE :WAT> \n",
      "#<RESIDUE :WAT> \n",
      "#<RESIDUE :WAT> \n",
      "#<RESIDUE :WAT> \n",
      "#<RESIDUE :WAT> \n",
      "#<RESIDUE :WAT> \n",
      "#<RESIDUE :WAT> \n",
      "#<RESIDUE :WAT> \n",
      "#<RESIDUE :WAT> \n",
      "#<RESIDUE :WAT> \n",
      "#<RESIDUE :WAT> \n",
      "#<RESIDUE :WAT> \n",
      "#<RESIDUE :WAT> \n",
      "#<RESIDUE :WAT> \n",
      "#<RESIDUE :WAT> \n",
      "#<RESIDUE :WAT> \n",
      "#<RESIDUE :WAT> \n",
      "#<RESIDUE :WAT> \n",
      "#<RESIDUE :WAT> \n",
      "#<RESIDUE :WAT> \n",
      "#<RESIDUE :WAT> \n",
      "#<RESIDUE :WAT> \n",
      "#<RESIDUE :WAT> \n",
      "#<RESIDUE :WAT> \n",
      "#<RESIDUE :WAT> \n",
      "#<RESIDUE :WAT> \n",
      "#<RESIDUE :WAT> \n",
      "#<RESIDUE :WAT> \n",
      "#<RESIDUE :WAT> \n",
      "#<RESIDUE :WAT> \n",
      "#<RESIDUE :WAT> \n",
      "#<RESIDUE :WAT> \n",
      "#<RESIDUE :WAT> \n",
      "#<RESIDUE :WAT> \n",
      "#<RESIDUE :WAT> \n",
      "#<RESIDUE :WAT> \n",
      "#<RESIDUE :WAT> \n",
      "#<RESIDUE :WAT> \n",
      "#<RESIDUE :WAT> \n",
      "#<RESIDUE :WAT> \n",
      "#<RESIDUE :WAT> \n",
      "#<RESIDUE :WAT> \n",
      "#<RESIDUE :WAT> \n",
      "#<RESIDUE :WAT> \n",
      "#<RESIDUE :WAT> \n",
      "#<RESIDUE :WAT> \n",
      "#<RESIDUE :WAT> \n",
      "#<RESIDUE :WAT> \n",
      "#<RESIDUE :WAT> \n",
      "#<RESIDUE :WAT> \n",
      "#<RESIDUE :WAT> \n",
      "#<RESIDUE :WAT> \n",
      "#<RESIDUE :WAT> \n",
      "#<RESIDUE :WAT> \n",
      "#<RESIDUE :WAT> \n",
      "#<RESIDUE :WAT> \n",
      "#<RESIDUE :WAT> \n",
      "#<RESIDUE :WAT> \n",
      "#<RESIDUE :WAT> \n",
      "#<RESIDUE :WAT> \n",
      "#<RESIDUE :WAT> \n",
      "#<RESIDUE :WAT> \n",
      "#<RESIDUE :WAT> \n",
      "#<RESIDUE :WAT> \n",
      "#<RESIDUE :WAT> \n",
      "#<RESIDUE :WAT> \n",
      "#<RESIDUE :WAT> \n",
      "#<RESIDUE :WAT> \n",
      "#<RESIDUE :WAT> \n",
      "#<RESIDUE :WAT> \n",
      "#<RESIDUE :WAT> \n",
      "#<RESIDUE :WAT> \n",
      "#<RESIDUE :WAT> \n",
      "#<RESIDUE :WAT> \n",
      "#<RESIDUE :WAT> \n",
      "#<RESIDUE :WAT> \n",
      "#<RESIDUE :WAT> \n",
      "#<RESIDUE :WAT> \n",
      "#<RESIDUE :WAT> \n",
      "#<RESIDUE :WAT> \n",
      "#<RESIDUE :WAT> \n",
      "#<RESIDUE :WAT> \n",
      "#<RESIDUE :WAT> \n",
      "#<RESIDUE :WAT> \n",
      "#<RESIDUE :WAT> \n",
      "#<RESIDUE :WAT> \n",
      "#<RESIDUE :WAT> \n",
      "#<RESIDUE :WAT> \n",
      "#<RESIDUE :WAT> \n",
      "#<RESIDUE :WAT> \n",
      "#<RESIDUE :WAT> \n",
      "#<RESIDUE :WAT> \n",
      "#<RESIDUE :WAT> \n",
      "#<RESIDUE :WAT> \n",
      "#<RESIDUE :WAT> \n",
      "#<RESIDUE :WAT> \n",
      "#<RESIDUE :WAT> \n",
      "#<RESIDUE :WAT> \n",
      "#<RESIDUE :WAT> \n",
      "#<RESIDUE :WAT> \n",
      "#<RESIDUE :WAT> \n",
      "#<RESIDUE :WAT> \n",
      "#<RESIDUE :WAT> \n",
      "#<RESIDUE :WAT> \n",
      "#<RESIDUE :WAT> \n",
      "#<RESIDUE :WAT> \n",
      "#<RESIDUE :WAT> \n",
      "#<RESIDUE :WAT> \n",
      "#<RESIDUE :WAT> \n",
      "#<RESIDUE :WAT> \n",
      "#<RESIDUE :WAT> \n",
      "#<RESIDUE :WAT> \n",
      "#<RESIDUE :WAT> \n",
      "#<RESIDUE :WAT> \n",
      "#<RESIDUE :WAT> \n",
      "#<RESIDUE :WAT> \n",
      "#<RESIDUE :WAT> \n",
      "#<RESIDUE :WAT> \n",
      "#<RESIDUE :WAT> \n",
      "#<RESIDUE :WAT> \n",
      "#<RESIDUE :WAT> \n",
      "#<RESIDUE :WAT> \n",
      "#<RESIDUE :WAT> \n",
      "#<RESIDUE :WAT> \n",
      "#<RESIDUE :WAT> \n",
      "#<RESIDUE :WAT> \n",
      "#<RESIDUE :WAT> \n",
      "#<RESIDUE :WAT> \n",
      "#<RESIDUE :WAT> \n",
      "#<RESIDUE :WAT> \n",
      "#<RESIDUE :WAT> \n",
      "#<RESIDUE :WAT> \n",
      "#<RESIDUE :WAT> \n",
      "#<RESIDUE :WAT> \n",
      "#<RESIDUE :WAT> \n",
      "#<RESIDUE :WAT> \n",
      "#<RESIDUE :WAT> \n",
      "#<RESIDUE :WAT> \n",
      "#<RESIDUE :WAT> \n",
      "#<RESIDUE :WAT> \n",
      "#<RESIDUE :WAT> \n",
      "#<RESIDUE :WAT> \n",
      "#<RESIDUE :WAT> \n",
      "#<RESIDUE :WAT> \n",
      "#<RESIDUE :WAT> \n",
      "#<RESIDUE :WAT> \n",
      "#<RESIDUE :WAT> \n",
      "#<RESIDUE :WAT> \n",
      "#<RESIDUE :WAT> \n",
      "#<RESIDUE :WAT> \n",
      "#<RESIDUE :WAT> \n",
      "#<RESIDUE :WAT> \n",
      "#<RESIDUE :WAT> \n",
      "#<RESIDUE :WAT> \n",
      "#<RESIDUE :WAT> \n",
      "#<RESIDUE :WAT> \n",
      "#<RESIDUE :WAT> \n",
      "#<RESIDUE :WAT> \n",
      "#<RESIDUE :WAT> \n",
      "#<RESIDUE :WAT> \n",
      "#<RESIDUE :WAT> \n",
      "#<RESIDUE :WAT> \n",
      "#<RESIDUE :WAT> \n",
      "#<RESIDUE :WAT> \n",
      "#<RESIDUE :WAT> \n",
      "#<RESIDUE :WAT> \n",
      "#<RESIDUE :WAT> \n",
      "#<RESIDUE :WAT> \n",
      "#<RESIDUE :WAT> \n",
      "#<RESIDUE :WAT> \n",
      "#<RESIDUE :WAT> \n",
      "#<RESIDUE :WAT> \n",
      "#<RESIDUE :WAT> \n",
      "#<RESIDUE :WAT> \n",
      "#<RESIDUE :WAT> \n",
      "#<RESIDUE :WAT> \n",
      "#<RESIDUE :WAT> \n",
      "#<RESIDUE :WAT> \n",
      "#<RESIDUE :WAT> \n",
      "#<RESIDUE :WAT> \n",
      "#<RESIDUE :WAT> \n",
      "#<RESIDUE :WAT> \n",
      "#<RESIDUE :WAT> \n",
      "#<RESIDUE :WAT> \n",
      "#<RESIDUE :WAT> \n",
      "#<RESIDUE :WAT> \n",
      "#<RESIDUE :WAT> \n",
      "#<RESIDUE :WAT> \n",
      "#<RESIDUE :WAT> \n",
      "#<RESIDUE :WAT> \n",
      "#<RESIDUE :WAT> \n",
      "#<RESIDUE :WAT> \n",
      "#<RESIDUE :WAT> \n",
      "#<RESIDUE :WAT> \n",
      "#<RESIDUE :WAT> \n",
      "#<RESIDUE :WAT> \n",
      "#<RESIDUE :WAT> \n",
      "#<RESIDUE :WAT> \n",
      "#<RESIDUE :WAT> \n",
      "#<RESIDUE :WAT> \n",
      "#<RESIDUE :WAT> \n",
      "#<RESIDUE :WAT> \n",
      "#<RESIDUE :WAT> \n",
      "#<RESIDUE :WAT> \n",
      "#<RESIDUE :WAT> \n",
      "#<RESIDUE :WAT> \n",
      "#<RESIDUE :WAT> \n",
      "#<RESIDUE :WAT> \n",
      "#<RESIDUE :WAT> \n",
      "#<RESIDUE :WAT> \n",
      "#<RESIDUE :WAT> \n",
      "#<RESIDUE :WAT> \n",
      "#<RESIDUE :WAT> \n",
      "#<RESIDUE :WAT> \n",
      "#<RESIDUE :WAT> \n",
      "#<RESIDUE :WAT> \n",
      "#<RESIDUE :WAT> \n",
      "#<RESIDUE :WAT> \n",
      "#<RESIDUE :WAT> \n",
      "#<RESIDUE :WAT> \n",
      "#<RESIDUE :WAT> \n",
      "#<RESIDUE :WAT> \n",
      "#<RESIDUE :WAT> \n",
      "#<RESIDUE :WAT> \n",
      "#<RESIDUE :WAT> \n",
      "#<RESIDUE :WAT> \n",
      "#<RESIDUE :WAT> \n",
      "#<RESIDUE :WAT> \n",
      "#<RESIDUE :WAT> \n",
      "#<RESIDUE :WAT> \n",
      "#<RESIDUE :WAT> \n",
      "#<RESIDUE :WAT> \n",
      "#<RESIDUE :WAT> \n",
      "#<RESIDUE :WAT> \n",
      "#<RESIDUE :WAT> \n",
      "#<RESIDUE :WAT> \n",
      "#<RESIDUE :WAT> \n",
      "#<RESIDUE :WAT> \n",
      "#<RESIDUE :WAT> \n",
      "#<RESIDUE :WAT> \n",
      "#<RESIDUE :WAT> \n",
      "#<RESIDUE :WAT> \n",
      "#<RESIDUE :WAT> \n",
      "#<RESIDUE :WAT> \n",
      "#<RESIDUE :WAT> \n",
      "#<RESIDUE :WAT> \n",
      "#<RESIDUE :WAT> \n",
      "#<RESIDUE :WAT> \n",
      "#<RESIDUE :WAT> \n",
      "#<RESIDUE :WAT> \n",
      "#<RESIDUE :WAT> \n",
      "#<RESIDUE :WAT> \n",
      "#<RESIDUE :WAT> \n",
      "#<RESIDUE :WAT> \n",
      "#<RESIDUE :WAT> \n",
      "#<RESIDUE :WAT> \n",
      "#<RESIDUE :WAT> \n",
      "#<RESIDUE :WAT> \n",
      "#<RESIDUE :WAT> \n",
      "#<RESIDUE :WAT> \n",
      "#<RESIDUE :WAT> \n",
      "#<RESIDUE :WAT> \n",
      "#<RESIDUE :WAT> \n",
      "#<RESIDUE :WAT> \n",
      "#<RESIDUE :WAT> \n",
      "#<RESIDUE :WAT> \n",
      "#<RESIDUE :WAT> \n",
      "#<RESIDUE :WAT> \n",
      "#<RESIDUE :WAT> \n",
      "#<RESIDUE :WAT> \n",
      "#<RESIDUE :WAT> \n",
      "#<RESIDUE :WAT> \n",
      "#<RESIDUE :WAT> \n",
      "#<RESIDUE :WAT> \n",
      "#<RESIDUE :WAT> \n",
      "#<RESIDUE :WAT> \n",
      "#<RESIDUE :WAT> \n",
      "#<RESIDUE :WAT> \n",
      "#<RESIDUE :WAT> \n",
      "#<RESIDUE :WAT> \n",
      "#<RESIDUE :WAT> \n",
      "#<RESIDUE :WAT> \n",
      "#<RESIDUE :WAT> \n",
      "#<RESIDUE :WAT> \n",
      "#<RESIDUE :WAT> \n",
      "#<RESIDUE :WAT> \n",
      "#<RESIDUE :WAT> \n",
      "#<RESIDUE :WAT> \n",
      "#<RESIDUE :WAT> \n",
      "#<RESIDUE :WAT> \n",
      "#<RESIDUE :WAT> \n",
      "#<RESIDUE :WAT> \n",
      "#<RESIDUE :WAT> \n",
      "#<RESIDUE :WAT> \n",
      "#<RESIDUE :WAT> \n",
      "#<RESIDUE :WAT> \n",
      "#<RESIDUE :WAT> \n",
      "#<RESIDUE :WAT> \n",
      "#<RESIDUE :WAT> \n",
      "#<RESIDUE :WAT> \n",
      "#<RESIDUE :WAT> \n",
      "#<RESIDUE :WAT> \n",
      "#<RESIDUE :WAT> \n",
      "#<RESIDUE :WAT> \n",
      "#<RESIDUE :WAT> \n",
      "#<RESIDUE :WAT> \n",
      "#<RESIDUE :WAT> \n",
      "#<RESIDUE :WAT> \n",
      "#<RESIDUE :WAT> \n",
      "#<RESIDUE :WAT> \n",
      "#<RESIDUE :WAT> \n",
      "#<RESIDUE :WAT> \n",
      "#<RESIDUE :WAT> \n",
      "#<RESIDUE :WAT> \n",
      "#<RESIDUE :WAT> \n",
      "#<RESIDUE :WAT> \n",
      "#<RESIDUE :WAT> \n",
      "#<RESIDUE :WAT> "
     ]
    },
    {
     "data": {
      "text/plain": [
       "NIL"
      ]
     },
     "execution_count": 30,
     "metadata": {},
     "output_type": "execute_result"
    }
   ],
   "source": [
    "(chem:map-residues nil (lambda (r) (print r)) *newagg*)"
   ]
  },
  {
   "cell_type": "code",
   "execution_count": 29,
   "metadata": {},
   "outputs": [
    {
     "data": {
      "text/plain": [
       "NIL"
      ]
     },
     "execution_count": 29,
     "metadata": {},
     "output_type": "execute_result"
    }
   ],
   "source": [
    "(multiple-value-list (values))"
   ]
  },
  {
   "cell_type": "code",
   "execution_count": 11,
   "metadata": {},
   "outputs": [
    {
     "data": {
      "text/plain": [
       "NIL"
      ]
     },
     "execution_count": 11,
     "metadata": {},
     "output_type": "execute_result"
    }
   ],
   "source": [
    "(leap.off:load-off \"/Users/tuj24515/Development/amber16/dat/leap/lib/atomic_ions.lib\")"
   ]
  },
  {
   "cell_type": "code",
   "execution_count": 9,
   "metadata": {},
   "outputs": [
    {
     "name": "stderr",
     "output_type": "stream",
     "text": [
      "An error occurred of type: TYPE-ERROR: \n",
      "  #<TYPE-ERROR>\n"
     ]
    },
    {
     "data": {
      "text/plain": [
       "NIL"
      ]
     },
     "execution_count": 9,
     "metadata": {},
     "output_type": "execute_result"
    }
   ],
   "source": [
    "(defparameter *a1* (chem:make-atom :CL :|Cl-|))"
   ]
  },
  {
   "cell_type": "code",
   "execution_count": 10,
   "metadata": {},
   "outputs": [
    {
     "name": "stdout",
     "output_type": "stream",
     "text": [
      "CLASP-FFI:%OWNERSHIP-FLAGS  Function\n",
      "CORE:*BUILD-LINKFLAGS*  Constant\n",
      "CFFI-TOOLCHAIN:*CC-FLAGS*  has value\n",
      "CFFI-TOOLCHAIN:*LD-DLL-FLAGS*  has value\n",
      "CFFI-TOOLCHAIN:*LD-EXE-FLAGS*  has value\n",
      "CORE:ARRAY-FLAGS  Function\n",
      ":CC-FLAGS  Constant\n",
      "CFFI-GROVEL::CC-FLAGS\n",
      "CFFI-GROVEL::CC-FLAGS-MIXIN\n",
      "CFFI-GROVEL::CC-FLAGS-OF  Function\n",
      ":CFLAGS  Constant\n",
      "CFFI-TOOLCHAIN::CFLAGS\n",
      "CORE::DEFAULT-LINK-FLAGS  Function\n",
      "LLVM-SYS:DIFLAGS-APPLE-BLOCK\n",
      "LLVM-SYS:DIFLAGS-ARTIFICIAL\n",
      "LLVM-SYS:DIFLAGS-BIT-FIELD\n",
      "LLVM-SYS:DIFLAGS-BLOCK-BYREF-STRUCT\n",
      "LLVM-SYS:DIFLAGS-ENUM  has value\n",
      "LLVM-SYS:DIFLAGS-EXPLICIT\n",
      "LLVM-SYS:DIFLAGS-EXTERNAL-TYPE-REF\n",
      "LLVM-SYS:DIFLAGS-FWD-DECL\n",
      "LLVM-SYS:DIFLAGS-INTRODUCED-VIRTUAL\n",
      "LLVM-SYS:DIFLAGS-LVALUE-REFERENCE\n",
      "LLVM-SYS:DIFLAGS-MULTIPLE-INHERITANCE\n",
      "LLVM-SYS:DIFLAGS-NO-RETURN\n",
      "LLVM-SYS:DIFLAGS-OBJC-CLASS-COMPLETE\n",
      "LLVM-SYS:DIFLAGS-OBJECT-POINTER\n",
      "LLVM-SYS:DIFLAGS-PRIVATE\n",
      "LLVM-SYS:DIFLAGS-PROTECTED\n",
      "LLVM-SYS:DIFLAGS-PROTOTYPED\n",
      "LLVM-SYS:DIFLAGS-PUBLIC\n",
      "LLVM-SYS:DIFLAGS-RVALUE-REFERENCE\n",
      "LLVM-SYS:DIFLAGS-SINGLE-INHERITANCE\n",
      "LLVM-SYS:DIFLAGS-STATIC-MEMBER\n",
      "LLVM-SYS:DIFLAGS-VECTOR\n",
      "LLVM-SYS:DIFLAGS-VIRTUAL\n",
      "LLVM-SYS:DIFLAGS-VIRTUAL-INHERITANCE\n",
      "LLVM-SYS:DIFLAGS-ZERO\n",
      "CLASP-CLEAVIR::FAST-MATH-FLAGS\n",
      "GCTOOLS::FLAGS\n",
      ":FLAGS  Constant\n",
      "CORE::FLAGS\n",
      "CFFI-TOOLCHAIN::FLAGS\n",
      "PZMQ::FLAGS\n",
      "CHEM:FLAGS-SET  Function\n",
      "CHEM:GET-FLAGS  Function\n",
      "CORE:LINK-FLAGS  Function\n",
      "CFFI-TOOLCHAIN::NORMALIZE-FLAGS  Function\n",
      "CFFI-TOOLCHAIN:PARSE-COMMAND-FLAGS  Function\n",
      "CFFI-TOOLCHAIN:PARSE-COMMAND-FLAGS-LIST  Function\n",
      "CFFI-GROVEL::PKG-CONFIG-CFLAGS\n",
      "CHEM:RESET-FLAGS  Function\n",
      "CHEM:TEST-ALL-FLAGS  Function\n",
      "CHEM:TEST-ANY-FLAGS  Function\n",
      "CHEM:TURN-OFF-FLAGS  Function\n",
      "CHEM:TURN-ON-FLAGS  Function\n"
     ]
    },
    {
     "data": {
      "text/plain": [
       "NIL"
      ]
     },
     "execution_count": 10,
     "metadata": {},
     "output_type": "execute_result"
    }
   ],
   "source": [
    "(apropos \"flags\")"
   ]
  },
  {
   "cell_type": "code",
   "execution_count": 14,
   "metadata": {},
   "outputs": [
    {
     "name": "stderr",
     "output_type": "stream",
     "text": [
      "SIMPLE-PROGRAM-ERROR: \n",
      "The symbol CANDO-USER::*NEWPOSL* is unbound\n"
     ]
    },
    {
     "data": {
      "text/plain": [
       "NIL"
      ]
     },
     "execution_count": 14,
     "metadata": {},
     "output_type": "execute_result"
    }
   ],
   "source": [
    "(defparameter *mol1* (chem:make-molecule))\n",
    "(defparameter *res1* (chem:make-residue :foo))\n",
    "(defparameter *a1* (chem:make-atom :CL :|Cl|))\n",
    "(chem:set-position *a1* '(0.0 0.0 0.0))\n",
    "(chem:set-charge *a1* '-1.0)\n",
    "(chem:add-matter *res1* *a1*)\n",
    "(chem:add-matter *mol1* *res1*)\n",
    "(defparameter *clion* (chem:make-aggregate))\n",
    "(chem:add-matter *clion* *mol1*)\n",
    "(defparameter *clion-copy1* (chem:matter-copy *clion*))\n",
    "(defparameter *clion-transform* (geom:make-m4-translate *newposl*))\n",
    "(chem:apply-transform-to-atoms *clion-copy* *clion-transform*)\n",
    "(chem:add-matter *chemleap* *clion-copy*)"
   ]
  },
  {
   "cell_type": "code",
   "execution_count": 30,
   "metadata": {},
   "outputs": [
    {
     "name": "stderr",
     "output_type": "stream",
     "text": [
      "SIMPLE-PROGRAM-ERROR: \n",
      "There are no applicable methods of GET-NET-CHARGE for receiver class AGGREGATE\n"
     ]
    },
    {
     "data": {
      "text/plain": [
       "NIL"
      ]
     },
     "execution_count": 30,
     "metadata": {},
     "output_type": "execute_result"
    }
   ],
   "source": [
    " (chem:get-net-charge *chemleap*)"
   ]
  },
  {
   "cell_type": "code",
   "execution_count": 30,
   "metadata": {},
   "outputs": [
    {
     "name": "stderr",
     "output_type": "stream",
     "text": [
      "SIMPLE-PROGRAM-ERROR: \n",
      "There are no applicable methods of GET-NET-CHARGE for receiver class AGGREGATE\n"
     ]
    },
    {
     "data": {
      "text/plain": [
       "NIL"
      ]
     },
     "execution_count": 30,
     "metadata": {},
     "output_type": "execute_result"
    }
   ],
   "source": [
    " (chem:get-net-charge *chemleap*)"
   ]
  },
  {
   "cell_type": "code",
   "execution_count": 13,
   "metadata": {},
   "outputs": [
    {
     "data": {
      "text/plain": [
       "*NEWPOSL*"
      ]
     },
     "execution_count": 13,
     "metadata": {},
     "output_type": "execute_result"
    }
   ],
   "source": []
  },
  {
   "cell_type": "code",
   "execution_count": null,
   "metadata": {
    "collapsed": true
   },
   "outputs": [],
   "source": [
    "(picked-atoms viewer)"
   ]
  }
 ],
 "metadata": {
  "kernelspec": {
   "display_name": "clasp",
   "language": "lisp",
   "name": "clasp"
  },
  "language_info": {
   "codemirror_mode": "text/x-common-lisp",
   "file_extension": ".lisp",
   "mimetype": "text/x-common-lisp",
   "name": "common-lisp",
   "pygments_lexer": "common-lisp",
   "version": "X3J13"
  }
 },
 "nbformat": 4,
 "nbformat_minor": 2
}
