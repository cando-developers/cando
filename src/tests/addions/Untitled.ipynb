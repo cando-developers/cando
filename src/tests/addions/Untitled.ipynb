{
 "cells": [
  {
   "cell_type": "code",
   "execution_count": 1,
   "metadata": {},
   "outputs": [
    {
     "data": {
      "text/plain": [
       "1"
      ]
     },
     "execution_count": 1,
     "metadata": {},
     "output_type": "execute_result"
    }
   ],
   "source": [
    "1"
   ]
  },
  {
   "cell_type": "code",
   "execution_count": 2,
   "metadata": {},
   "outputs": [
    {
     "data": {
      "text/plain": [
       "T"
      ]
     },
     "execution_count": 2,
     "metadata": {},
     "output_type": "execute_result"
    }
   ],
   "source": [
    "(start-swank)"
   ]
  },
  {
   "cell_type": "code",
   "execution_count": 3,
   "metadata": {},
   "outputs": [
    {
     "data": {
      "text/plain": [
       "(#P\"/Users/tuj24515/Development/amber16/dat/antechamber/\"\n",
       " #P\"/Users/tuj24515/Development/amber16/dat/leap/prep/\"\n",
       " #P\"/Users/tuj24515/Development/amber16/dat/leap/parm/\"\n",
       " #P\"/Users/tuj24515/Development/amber16/dat/leap/lib/\"\n",
       " #P\"/Users/tuj24515/Development/amber16/dat/leap/cmd/\"\n",
       " #P\"/Users/tuj24515/Development/clasp/extensions/cando/src/tests/addions/\")"
      ]
     },
     "execution_count": 3,
     "metadata": {},
     "output_type": "execute_result"
    }
   ],
   "source": [
    "(leap.core::clear-path)\n",
    "(add-path *default-pathname-defaults*)\n",
    "(add-path \"~/Development/amber16/dat/leap/cmd/\")\n",
    "(add-path \"~/Development/amber16/dat/leap/lib/\")\n",
    "(add-path \"~/Development/amber16/dat/leap/parm/\")\n",
    "(add-path \"~/Development/amber16/dat/leap/prep/\")\n",
    "(add-path \"~/Development/amber16/dat/antechamber/\")"
   ]
  },
  {
   "cell_type": "code",
   "execution_count": 4,
   "metadata": {},
   "outputs": [
    {
     "data": {
      "text/plain": [
       "(#<FORCE-FIELD ATOMTYPE_AMBER.DEF>)"
      ]
     },
     "execution_count": 4,
     "metadata": {},
     "output_type": "execute_result"
    }
   ],
   "source": [
    "(load-atom-type-rules \"ATOMTYPE_AMBER.DEF\")"
   ]
  },
  {
   "cell_type": "code",
   "execution_count": 5,
   "metadata": {},
   "outputs": [
    {
     "name": "stderr",
     "output_type": "stream",
     "text": [
      "SIMPLE-WARNING: \n",
      "add-atom-types doesn't do anything\n",
      "SIMPLE-WARNING: \n",
      "Warning!  Skipping 10-12 hbond\n",
      "SIMPLE-WARNING: \n",
      "Warning!  Skipping force field atom equivalences\n"
     ]
    },
    {
     "data": {
      "text/plain": [
       "T"
      ]
     },
     "execution_count": 5,
     "metadata": {},
     "output_type": "execute_result"
    }
   ],
   "source": [
    "(source \"leaprc.protein.ff14SB\")"
   ]
  },
  {
   "cell_type": "code",
   "execution_count": 6,
   "metadata": {},
   "outputs": [
    {
     "data": {
      "text/plain": [
       "(#<FORCE-FIELD water_amber.def> #<FORCE-FIELD frcmod.ff14SB>\n",
       " #<FORCE-FIELD parm10.dat> #<FORCE-FIELD ATOMTYPE_AMBER.DEF>)"
      ]
     },
     "execution_count": 6,
     "metadata": {},
     "output_type": "execute_result"
    }
   ],
   "source": [
    "(load-atom-type-rules \"water_amber.def\")"
   ]
  },
  {
   "cell_type": "code",
   "execution_count": 7,
   "metadata": {},
   "outputs": [
    {
     "data": {
      "text/plain": [
       "*FF*"
      ]
     },
     "execution_count": 7,
     "metadata": {},
     "output_type": "execute_result"
    }
   ],
   "source": [
    "(:= *ff* (leap.core::merged-force-field))"
   ]
  },
  {
   "cell_type": "code",
   "execution_count": 8,
   "metadata": {},
   "outputs": [
    {
     "data": {
      "text/plain": [
       "*CHEMAGG*"
      ]
     },
     "execution_count": 8,
     "metadata": {},
     "output_type": "execute_result"
    }
   ],
   "source": [
    "(defparameter *chemagg* (cando:load-chem-draw-aggregate \"alanine2.cdxml\"))"
   ]
  },
  {
   "cell_type": "code",
   "execution_count": 9,
   "metadata": {},
   "outputs": [
    {
     "data": {
      "text/plain": [
       "NIL"
      ]
     },
     "execution_count": 9,
     "metadata": {},
     "output_type": "execute_result"
    }
   ],
   "source": [
    "(build-hydrogens *chemagg*)"
   ]
  },
  {
   "cell_type": "code",
   "execution_count": 10,
   "metadata": {},
   "outputs": [
    {
     "data": {
      "application/vnd.jupyter.widget-view+json": {
       "model_id": "65D7E3FA-96FB-46C4-981B-4F72DC8D3687",
       "version_major": 2,
       "version_minor": 0
      },
      "text/html": [
       "<p>Failed to display Jupyter Widget of type <code>{widget_type}</code>.</p>\n",
       "<p>\n",
       "  If you're reading this message in the Jupyter Notebook or JupyterLab Notebook, it may mean\n",
       "  that the widgets JavaScript is still loading. If this message persists, it\n",
       "  likely means that the widgets JavaScript library is either not installed or\n",
       "  not enabled. See the <a href=\"https://ipywidgets.readthedocs.io/en/stable/user_install.html\">Jupyter\n",
       "  Widgets Documentation</a> for setup instructions.\n",
       "</p>\n",
       "<p>\n",
       "  If you're reading this message in another frontend (for example, a static\n",
       "  rendering on GitHub or <a href=\"https://nbviewer.jupyter.org/\">NBViewer</a>),\n",
       "  it may mean that your frontend doesn't currently support widgets.\n",
       "</p>\n"
      ],
      "text/plain": [
       "A Jupyter Widget"
      ]
     },
     "execution_count": 10,
     "metadata": {},
     "output_type": "execute_result"
    }
   ],
   "source": [
    "(nglv::show-aggregate *chemagg*)"
   ]
  },
  {
   "cell_type": "code",
   "execution_count": 11,
   "metadata": {},
   "outputs": [
    {
     "name": "stdout",
     "output_type": "stream",
     "text": [
      "C      S\n"
     ]
    },
    {
     "data": {
      "text/plain": [
       "NIL"
      ]
     },
     "execution_count": 11,
     "metadata": {},
     "output_type": "execute_result"
    }
   ],
   "source": [
    "(progn\n",
    "  (defparameter *stereocenters*\n",
    "    (sort (cando:gather-stereocenters *chemagg*) #'string< :key #'chem:get-name))\n",
    "  (cando:set-stereoisomer-func *stereocenters* (constantly :S) :show t)\n",
    "  (let ((quat-matcher (core:make-cxx-object 'chem:chem-info)))\n",
    "    (chem:compile-smarts quat-matcher \"[C&H0&D4]\")\n",
    "    (chem:map-atoms nil (lambda (a) (when (chem:matches quat-matcher a)\n",
    "                  (chem:set-configuration a :S)\n",
    "                  (format t \"Set atom ~a to :S~%\" (chem:get-name a))))\n",
    "            *chemagg*)))"
   ]
  },
  {
   "cell_type": "code",
   "execution_count": 12,
   "metadata": {},
   "outputs": [
    {
     "data": {
      "text/plain": [
       "NIL"
      ]
     },
     "execution_count": 12,
     "metadata": {},
     "output_type": "execute_result"
    }
   ],
   "source": [
    "(assign-atom-types *chemagg*)\n",
    "(chem:map-atoms 'nil (lambda (a) (if (eq (chem:get-type a) :CT)\n",
    "                                     (if (eq (chem:get-name a) :C)\n",
    "                                         (chem:set-type a :CX)))) *chemagg*)"
   ]
  },
  {
   "cell_type": "code",
   "execution_count": 13,
   "metadata": {},
   "outputs": [
    {
     "data": {
      "text/plain": [
       "NIL"
      ]
     },
     "execution_count": 13,
     "metadata": {},
     "output_type": "execute_result"
    }
   ],
   "source": [
    "(cando:jostle *chemagg*)"
   ]
  },
  {
   "cell_type": "code",
   "execution_count": 14,
   "metadata": {},
   "outputs": [
    {
     "name": "stdout",
     "output_type": "stream",
     "text": [
      "minimize-no-fail\n",
      "======= Starting Steepest Descent Minimizer\n",
      "---Stage-Seconds--Step-log(Alpha)--Dir-------------Energy-----------RMSforce\n",
      " minSDnP       0     1      -inf   0.0              0.000          17375.429\n",
      " minSDnP       0     2     -7.99   0.0        2649742.383          10019.048\n",
      " minSDnP       0     3     -8.30   0.0        2197521.753           5633.562\n",
      "DONE absolute force test:\n",
      "forceRmsMag(4051.371576).LT.forceTolerance(5000.000000)\n",
      "======= Starting Conjugate Gradient Minimizer\n",
      " minCGnP       0     4      -inf   0.0              0.000           4051.372\n",
      " minCGnP       0     5     -7.74  38.2        1457984.565           3192.634\n",
      " minCGnP       0     6     -6.67  45.7        1031445.839           2635.969\n",
      " minCGnP       0     7     -7.70  56.9         914707.921           2900.914\n",
      " minCGnP       0     8     -8.17  49.5         865958.013           2598.774\n",
      " minCGnP       0     9     -7.37  82.1         711156.715          12182.936\n",
      " minCGnP       0    10    -11.73  17.1         693752.523           2853.204\n",
      "---Stage-Seconds--Step-log(Alpha)--Dir-------------Energy-----------RMSforce\n",
      " minCGnP       0    11     -7.82  38.5         591420.539           1696.577\n",
      " minCGnP       0    12     -6.64  65.7         499010.027           3001.677\n",
      " minCGnP       0    13     -9.04  54.0         474186.849           2915.391\n",
      " minCGnP       0    14     -7.82  49.2         377432.108           1918.994\n",
      " minCGnP       0    15     -7.73  78.5         321945.656           6618.990\n",
      " minCGnP       0    16    -11.50   0.0         308128.148           2958.092\n",
      " minCGnP       0    17     -8.95  20.5         290106.227           1104.229\n",
      " minCGnP       0    18     -7.48  61.9         269243.564           2007.122\n",
      " minCGnP       0    19     -9.32  63.8         255455.475           2639.320\n",
      " minCGnP       0    20     -8.94  40.4         239532.439           1555.262\n",
      "---Stage-Seconds--Step-log(Alpha)--Dir-------------Energy-----------RMSforce\n",
      " minCGnP       0    21     -7.86  46.4         209620.775           1351.449\n",
      " minCGnP       0    22     -8.60  60.9         198177.957           1575.137\n",
      " minCGnP       0    23     -8.92  66.7         184698.539           2062.270\n",
      " minCGnP       0    24     -8.47  66.1         164437.454           2026.397\n",
      " minCGnP       0    25     -8.63  55.7         152550.754           1337.659\n",
      " minCGnP       0    26     -8.00  75.4         129854.039           3082.732\n",
      " minCGnP       0    27     -9.95  72.8         116901.049           2935.271\n",
      " minCGnP       0    28    -11.21  73.7         112841.311           3704.386\n",
      " minCGnP       0    29    -10.46  35.1         106107.997           1304.151\n",
      " minCGnP       0    30     -8.12  62.4          88553.434           1733.048\n",
      "---Stage-Seconds--Step-log(Alpha)--Dir-------------Energy-----------RMSforce\n",
      " minCGnP       0    31     -9.57  51.2          82667.946           1220.052\n",
      " minCGnP       0    32     -8.54  59.8          74474.428           1366.353\n",
      " minCGnP       0    33     -9.86  62.8          72567.552           1787.962\n",
      " minCGnP       0    34     -9.16  44.8          65762.433            967.947\n",
      " minCGnP       0    35     -8.29  55.5          58991.921           1090.624\n",
      " minCGnP       0    36     -9.18  65.1          56172.925           1318.718\n",
      " minCGnP       0    37    -10.24  50.1          54640.201           1018.146\n",
      " minCGnP       0    38     -8.56  41.3          50163.343            589.540\n",
      " minCGnP       0    39     -7.33  63.1          43113.704            978.024\n",
      " minCGnP       0    40    -11.57  70.4          42795.748           1719.937\n",
      "---Stage-Seconds--Step-log(Alpha)--Dir-------------Energy-----------RMSforce\n",
      " minCGnP       0    41     -9.75  44.6          39386.669            719.116\n",
      " minCGnP       0    42     -7.76  48.3          34843.067            425.241\n",
      " minCGnP       0    43     -7.19  72.3          28842.489            926.487\n",
      " minCGnP       0    44     -9.23  78.9          25912.222           1547.840\n",
      " minCGnP       0    45    -10.39  69.2          23264.094            933.325\n",
      " minCGnP       0    46     -7.98  80.2          17927.372           1996.341\n",
      " minCGnP       0    47    -11.44   0.0          16776.222            695.607\n",
      " minCGnP       0    48     -7.94  21.8          12739.347            278.243\n",
      " minCGnP       0    49     -7.68  38.4          11353.535            202.214\n",
      " minCGnP       0    50     -6.92  67.4           9929.418            377.316\n",
      "---Stage-Seconds--Step-log(Alpha)--Dir-------------Energy-----------RMSforce\n",
      " minCGnP       0    51     -8.54  42.6           9228.227            263.087\n",
      " minCGnP       0    52     -7.54  66.9           7786.036            452.861\n",
      " minCGnP       0    53     -8.89  48.5           7231.722            234.781\n",
      " minCGnP       0    54     -7.07  65.2           5854.409            340.687\n",
      " minCGnP       0    55     -8.31  62.1           5242.645            392.042\n",
      " minCGnP       0    56     -9.46  69.9           4882.796            616.116\n",
      " minCGnP       0    57     -8.80  29.7           3781.281            189.053\n",
      " minCGnP       0    58     -7.17  43.1           2899.556            110.592\n",
      " minCGnP       0    59     -6.82  58.7           2452.865            130.312\n",
      " minCGnP       0    60     -6.58  63.5           1691.180            138.018\n",
      "---Stage-Seconds--Step-log(Alpha)--Dir-------------Energy-----------RMSforce\n",
      " minCGnP       0    61     -7.95  81.4           1465.373            416.080\n",
      " minCGnP       0    62     -9.39  56.8           1131.774            116.376\n",
      " minCGnP       0    63     -7.06  60.5            716.294             97.120\n",
      " minCGnP       0    64     -7.06  50.6            487.477             71.549\n",
      " minCGnP       0    65     -7.37  42.5            381.068             40.056\n",
      " minCGnP       0    66     -6.88  53.9            327.089             40.055\n",
      " minCGnP       0    67     -7.07  63.1            270.606             53.184\n",
      " minCGnP       0    68     -7.77  53.0            245.560             33.304\n",
      " minCGnP       0    69     -6.99  58.7            212.158             32.609\n",
      " minCGnP       0    70     -7.00  59.0            179.860             28.935\n",
      "---Stage-Seconds--Step-log(Alpha)--Dir-------------Energy-----------RMSforce\n",
      " minCGnP       0    71     -6.74  56.3            146.364             25.276\n",
      " minCGnP       0    72     -7.26  53.3            131.537             19.175\n",
      " minCGnP       0    73     -6.56  63.8            114.581             23.093\n",
      " minCGnP       0    74     -6.88  63.7             96.013             21.080\n",
      " minCGnP       0    75     -6.95  62.0             82.012             18.522\n",
      " minCGnP       0    76     -6.87  61.7             70.309             15.630\n",
      " minCGnP       0    77     -7.10  61.6             63.620             13.662\n",
      " minCGnP       0    78     -6.51  64.0             54.535             13.788\n",
      " minCGnP       0    79     -7.30  54.2             50.326              8.204\n",
      " minCGnP       0    80     -6.95  61.1             48.210              8.604\n",
      "---Stage-Seconds--Step-log(Alpha)--Dir-------------Energy-----------RMSforce\n",
      " minCGnP       0    81     -6.56  65.8             44.720              9.291\n",
      " minCGnP       0    82     -6.92  63.0             41.923              7.775\n",
      " minCGnP       0    83     -6.93  65.6             40.003              7.450\n",
      " minCGnP       0    84     -6.77  67.8             37.870              7.297\n",
      " minCGnP       0    85     -7.10  61.6             36.409              5.684\n",
      " minCGnP       0    86     -6.97  58.7             35.413              4.442\n",
      " minCGnP       0    87     -6.70  67.5             34.612              5.530\n",
      " minCGnP       0    88     -7.00  64.2             33.688              4.356\n",
      " minCGnP       0    89     -6.79  64.0             32.988              3.820\n",
      " minCGnP       0    90     -6.82  68.6             32.461              4.292\n",
      "---Stage-Seconds--Step-log(Alpha)--Dir-------------Energy-----------RMSforce\n",
      " minCGnP       0    91     -7.05  62.4             31.933              3.162\n",
      " minCGnP       0    92     -6.73  66.7             31.540              3.397\n",
      " minCGnP       0    93     -6.99  65.9             31.189              3.005\n",
      " minCGnP       0    94     -6.75  69.9             30.840              3.359\n",
      " minCGnP       0    95     -6.78  71.9             30.416              3.536\n",
      " minCGnP       0    96     -6.53  75.4             29.816              4.160\n",
      " minCGnP       0    97     -6.86  77.6             29.217              4.650\n",
      " minCGnP       0    98     -6.82  75.9             28.427              3.986\n",
      " minCGnP       0    99     -6.63  78.4             27.724              4.937\n",
      " minCGnP       0   100     -6.89  78.5             26.900              5.192\n",
      "---Stage-Seconds--Step-log(Alpha)--Dir-------------Energy-----------RMSforce\n",
      " minCGnP       0   101     -6.90  76.8             26.002              4.515\n",
      " minCGnP       0   102     -6.39  80.8             24.882              6.428\n",
      " minCGnP       0   103     -6.71  80.4             23.190              6.064\n",
      " minCGnP       0   104     -7.06  79.3             22.127              5.944\n",
      " minCGnP       0   105     -6.45  81.3             20.245              7.700\n",
      " minCGnP       0   106     -6.98  74.7             18.404              5.250\n",
      " minCGnP       0   107     -6.75  76.9             17.350              5.990\n",
      " minCGnP       0   108     -6.72  78.5             15.927              6.338\n",
      " minCGnP       0   109     -7.01  72.0             14.739              3.435\n",
      " minCGnP       0   110     -6.53  75.1             14.172              3.850\n",
      "---Stage-Seconds--Step-log(Alpha)--Dir-------------Energy-----------RMSforce\n",
      " minCGnP       0   111     -7.09  74.1             13.766              3.405\n",
      " minCGnP       0   112     -6.69  74.7             13.287              3.428\n",
      " minCGnP       0   113     -6.79   0.0             12.846              3.106\n",
      " minCGnP       0   114     -7.42  35.3             12.656              2.200\n",
      " minCGnP       0   115     -6.44  53.4             12.400              2.414\n",
      " minCGnP       0   116     -6.79  61.5             12.183              2.643\n",
      " minCGnP       0   117     -6.70  66.3             11.900              2.875\n",
      " minCGnP       0   118     -6.51  64.8             11.491              2.475\n",
      " minCGnP       0   119     -6.57  61.2             11.208              1.922\n",
      " minCGnP       0   120     -6.78  64.2             11.070              1.916\n",
      "---Stage-Seconds--Step-log(Alpha)--Dir-------------Energy-----------RMSforce\n",
      " minCGnP       0   121     -6.30  70.3             10.848              2.307\n",
      " minCGnP       0   122     -7.11  63.0             10.704              1.503\n",
      " minCGnP       0   123     -7.06  59.8             10.640              1.168\n",
      " minCGnP       0   124     -6.79  63.6             10.589              1.185\n",
      " minCGnP       0   125     -6.51  66.6             10.520              1.223\n",
      " minCGnP       0   126     -6.34  70.0             10.433              1.337\n",
      " minCGnP       0   127     -6.08  76.2             10.297              1.863\n",
      " minCGnP       0   128     -7.11  74.8             10.204              1.656\n",
      " minCGnP       0   129     -6.72  73.8             10.094              1.499\n",
      " minCGnP       0   130     -6.42  73.0              9.973              1.384\n",
      "---Stage-Seconds--Step-log(Alpha)--Dir-------------Energy-----------RMSforce\n",
      " minCGnP       0   131     -6.72  71.3              9.897              1.192\n",
      " minCGnP       0   132     -6.41  76.2              9.820              1.553\n",
      " minCGnP       0   133     -7.22  67.0              9.761              0.894\n",
      " minCGnP       0   134     -6.79  69.6              9.732              0.941\n",
      " minCGnP       0   135     -6.00  74.8              9.659              1.212\n",
      " minCGnP       0   136     -7.07  71.4              9.618              0.950\n",
      " minCGnP       0   137     -6.13  74.3              9.554              1.066\n",
      " minCGnP       0   138     -7.09  69.6              9.522              0.764\n",
      " minCGnP       0   139     -6.95  71.9              9.504              0.817\n",
      " minCGnP       0   140     -6.52  68.0              9.471              0.636\n",
      "---Stage-Seconds--Step-log(Alpha)--Dir-------------Energy-----------RMSforce\n",
      " minCGnP       0   141     -6.67  68.9              9.455              0.615\n",
      " minCGnP       0   142     -6.66  71.0              9.439              0.645\n",
      " minCGnP       0   143     -6.96  69.4              9.425              0.558\n",
      " minCGnP       0   144     -6.13  77.9              9.403              0.920\n",
      " minCGnP       0   145     -6.97  74.6              9.377              0.701\n",
      " minCGnP       0   146     -6.31  76.1              9.347              0.749\n",
      " minCGnP       0   147     -6.47  76.7              9.319              0.759\n",
      " minCGnP       0   148     -6.31  80.6              9.284              1.054\n",
      " minCGnP       0   149     -7.18  77.5              9.256              0.790\n",
      " minCGnP       0   150     -6.15  81.0              9.212              1.084\n",
      "---Stage-Seconds--Step-log(Alpha)--Dir-------------Energy-----------RMSforce\n",
      " minCGnP       0   151     -6.93  77.7              9.174              0.713\n",
      " minCGnP       0   152     -6.28  82.5              9.143              1.143\n",
      " minCGnP       0   153     -6.52  81.4              9.078              1.057\n",
      " minCGnP       0   154     -7.10  78.6              9.048              0.827\n",
      " minCGnP       0   155     -6.89  78.8              9.025              0.830\n",
      " minCGnP       0   156     -6.11  81.8              8.975              1.093\n",
      " minCGnP       0   157     -6.60  80.6              8.922              0.855\n",
      " minCGnP       0   158     -6.78  81.8              8.894              0.983\n",
      " minCGnP       0   159     -6.49  80.8              8.845              0.932\n",
      " minCGnP       0   160     -7.14  77.1              8.823              0.644\n",
      "---Stage-Seconds--Step-log(Alpha)--Dir-------------Energy-----------RMSforce\n",
      " minCGnP       0   161     -6.95  77.3              8.809              0.634\n",
      " minCGnP       0   162     -6.14  80.3              8.781              0.811\n",
      "DONE absolute force test:\n",
      "forceRmsMag(0.419469).LT.forceTolerance(0.500000)\n",
      "minimize-no-fail\n",
      "======= Starting Steepest Descent Minimizer\n",
      " minSDnP       0   163      -inf   0.0              0.000         136009.403\n",
      " minSDnP       0   164    -14.75   0.0          83869.616          50031.481\n",
      " minSDnP       0   165    -12.79   0.0          33551.444          22404.226\n",
      "DONE absolute force test:\n",
      "forceRmsMag(1499.563081).LT.forceTolerance(5000.000000)\n",
      "======= Starting Conjugate Gradient Minimizer\n",
      " minCGnP       0   166      -inf   0.0              0.000           1499.563\n",
      " minCGnP       0   167    -10.24  23.8           6099.323            660.400\n",
      " minCGnP       0   168     -8.84  28.6           4826.233            378.671\n",
      " minCGnP       0   169     -8.08  36.2           3386.984            289.055\n",
      " minCGnP       0   170     -9.14  25.2           3029.540            256.960\n",
      "---Stage-Seconds--Step-log(Alpha)--Dir-------------Energy-----------RMSforce\n",
      " minCGnP       0   171     -9.21  29.5           2800.635            149.398\n",
      " minCGnP       0   172     -9.03  33.9           2714.849             73.656\n",
      " minCGnP       0   173     -8.49  36.1           2676.861             54.164\n",
      " minCGnP       0   174     -8.36  56.5           2654.848             67.712\n",
      " minCGnP       0   175     -8.13  58.4           2609.445             62.105\n",
      " minCGnP       0   176     -8.71  52.8           2588.305             44.832\n",
      " minCGnP       0   177     -7.76  50.3           2555.106             35.641\n",
      " minCGnP       0   178     -8.41  58.0           2546.157             31.405\n",
      " minCGnP       0   179     -8.08  63.3           2536.142             33.436\n",
      " minCGnP       0   180     -8.68  58.1           2529.889             24.574\n",
      "---Stage-Seconds--Step-log(Alpha)--Dir-------------Energy-----------RMSforce\n",
      " minCGnP       0   181     -8.46  56.7           2525.652             19.793\n",
      " minCGnP       0   182     -8.28  59.3           2522.333             17.715\n",
      " minCGnP       0   183     -8.22  57.6           2519.565             14.135\n",
      " minCGnP       0   184     -7.41  70.1           2515.565             21.070\n",
      " minCGnP       0   185     -8.13  71.5           2511.197             22.546\n",
      " minCGnP       0   186     -8.00  72.9           2505.458             25.532\n",
      " minCGnP       0   187     -8.49  72.1           2501.117             22.426\n",
      " minCGnP       0   188     -8.53  69.4           2497.896             16.195\n",
      " minCGnP       0   189     -8.03  69.4           2495.010             14.076\n",
      " minCGnP       0   190     -8.58  63.7           2493.782             10.679\n",
      "---Stage-Seconds--Step-log(Alpha)--Dir-------------Energy-----------RMSforce\n",
      " minCGnP       0   191     -7.91  67.8           2492.410             11.541\n",
      " minCGnP       0   192     -8.59  66.9           2491.594             10.280\n",
      " minCGnP       0   193     -8.36  65.2           2490.779              8.814\n",
      " minCGnP       0   194     -8.03  68.9           2489.934              9.519\n",
      " minCGnP       0   195     -8.28  67.6           2489.179              8.343\n",
      " minCGnP       0   196     -7.80  72.7           2488.246             10.191\n",
      " minCGnP       0   197     -8.75  67.2           2487.700              7.347\n",
      " minCGnP       0   198     -8.30  68.6           2487.260              7.304\n",
      " minCGnP       0   199     -8.23  65.7           2486.791              5.755\n",
      " minCGnP       0   200     -8.21  65.1           2486.492              5.095\n",
      "---Stage-Seconds--Step-log(Alpha)--Dir-------------Energy-----------RMSforce\n",
      " minCGnP       0   201     -8.18  68.8           2486.252              5.515\n",
      " minCGnP       0   202     -8.36  68.0           2486.017              5.007\n",
      " minCGnP       0   203     -8.60  65.8           2485.865              4.205\n",
      " minCGnP       0   204     -7.96  66.4           2485.661              3.893\n",
      " minCGnP       0   205     -8.24  69.4           2485.528              4.125\n",
      " minCGnP       0   206     -7.88  72.6           2485.316              4.671\n",
      " minCGnP       0   207     -8.52  71.2           2485.173              4.137\n",
      " minCGnP       0   208     -8.56  66.5           2485.064              3.069\n",
      " minCGnP       0   209     -8.16  66.2           2484.975              2.765\n",
      " minCGnP       0   210     -8.43  63.5           2484.920              2.227\n",
      "---Stage-Seconds--Step-log(Alpha)--Dir-------------Energy-----------RMSforce\n",
      " minCGnP       0   211     -7.46  74.8           2484.826              3.662\n",
      " minCGnP       0   212     -8.43  73.9           2484.730              3.355\n",
      " minCGnP       0   213     -8.41  72.4           2484.647              2.927\n",
      " minCGnP       0   214     -8.42  68.9           2484.585              2.295\n",
      " minCGnP       0   215     -8.15  68.5           2484.535              2.104\n",
      " minCGnP       0   216     -7.73  75.2           2484.471              2.908\n",
      " minCGnP       0   217     -8.40  72.5           2484.408              2.349\n",
      " minCGnP       0   218     -8.46  73.7           2484.369              2.431\n",
      " minCGnP       0   219     -8.18  73.3           2484.314              2.277\n",
      " minCGnP       0   220     -8.12  73.8           2484.263              2.240\n",
      "---Stage-Seconds--Step-log(Alpha)--Dir-------------Energy-----------RMSforce\n",
      " minCGnP       0   221     -7.88  77.6           2484.201              2.830\n",
      " minCGnP       0   222     -8.09  78.1           2484.120              2.883\n",
      " minCGnP       0   223     -8.36  79.6           2484.056              3.210\n",
      " minCGnP       0   224     -8.24  78.6           2483.965              2.904\n",
      " minCGnP       0   225     -8.20  78.4           2483.889              2.837\n",
      " minCGnP       0   226     -7.95  79.8           2483.796              3.155\n",
      " minCGnP       0   227     -8.15  78.5           2483.701              2.698\n",
      " minCGnP       0   228     -8.50  79.1           2483.652              2.791\n",
      " minCGnP       0   229     -8.21  78.4           2483.582              2.588\n",
      " minCGnP       0   230     -8.28  78.4           2483.526              2.560\n",
      "---Stage-Seconds--Step-log(Alpha)--Dir-------------Energy-----------RMSforce\n",
      " minCGnP       0   231     -7.90  78.8           2483.446              2.575\n",
      " minCGnP       0   232     -8.16   0.0           2483.384              2.416\n",
      " minCGnP       0   233     -8.99  32.8           2483.360              1.556\n",
      " minCGnP       0   234     -8.20  53.9           2483.338              1.788\n",
      " minCGnP       0   235     -8.32  53.5           2483.312              1.426\n",
      " minCGnP       0   236     -7.57  59.0           2483.278              1.409\n",
      " minCGnP       0   237     -7.81  66.7           2483.251              1.679\n",
      " minCGnP       0   238     -7.96  69.4           2483.218              1.770\n",
      " minCGnP       0   239     -8.93  58.3           2483.205              1.010\n",
      " minCGnP       0   240     -7.91  70.5           2483.192              1.496\n",
      "---Stage-Seconds--Step-log(Alpha)--Dir-------------Energy-----------RMSforce\n",
      " minCGnP       0   241     -7.62  67.0           2483.156              1.185\n",
      " minCGnP       0   242     -7.40  73.5           2483.128              1.556\n",
      " minCGnP       0   243     -8.56  65.6           2483.112              0.973\n",
      " minCGnP       0   244     -8.94  59.3           2483.108              0.680\n",
      " minCGnP       0   245     -7.60  64.7           2483.101              0.734\n",
      " minCGnP       0   246     -8.14  69.6           2483.095              0.843\n",
      " minCGnP       0   247     -7.06  73.0           2483.075              0.961\n",
      " minCGnP       0   248     -8.54  75.2           2483.069              1.067\n",
      " minCGnP       0   249     -8.21  68.8           2483.059              0.706\n",
      " minCGnP       0   250     -7.53  74.8           2483.050              0.942\n",
      "---Stage-Seconds--Step-log(Alpha)--Dir-------------Energy-----------RMSforce\n",
      " minCGnP       0   251     -8.35  69.6           2483.043              0.662\n",
      " minCGnP       0   252     -7.23  79.8           2483.033              1.286\n",
      " minCGnP       0   253     -8.66  77.0           2483.023              0.984\n",
      " minCGnP       0   254     -8.14  78.5           2483.014              1.084\n",
      " minCGnP       0   255     -7.22  76.4           2482.986              0.890\n",
      " minCGnP       0   256     -8.63  73.5           2482.981              0.710\n",
      " minCGnP       0   257     -7.51  81.1           2482.972              1.281\n",
      " minCGnP       0   258     -8.51  79.1           2482.961              1.040\n",
      " minCGnP       0   259     -7.90  81.8           2482.948              1.355\n",
      " minCGnP       0   260     -7.30  78.9           2482.907              0.940\n",
      "---Stage-Seconds--Step-log(Alpha)--Dir-------------Energy-----------RMSforce\n",
      " minCGnP       0   261     -8.30  81.6           2482.900              1.225\n",
      " minCGnP       0   262     -7.88  83.5           2482.881              1.584\n",
      " minCGnP       0   263     -8.21  83.6           2482.858              1.595\n",
      " minCGnP       0   264     -7.84  79.8           2482.826              0.935\n",
      " minCGnP       0   265     -7.50  84.0           2482.810              1.581\n",
      " minCGnP       0   266     -8.81  79.9           2482.797              0.928\n",
      " minCGnP       0   267     -7.89  82.9           2482.787              1.320\n",
      " minCGnP       0   268     -7.40  83.5           2482.752              1.440\n",
      " minCGnP       0   269     -8.37  81.8           2482.736              1.112\n",
      " minCGnP       0   270     -7.68  85.4           2482.717              1.952\n",
      "---Stage-Seconds--Step-log(Alpha)--Dir-------------Energy-----------RMSforce\n",
      " minCGnP       0   271     -8.61  81.1           2482.694              0.984\n",
      " minCGnP       0   272     -7.66  78.8           2482.679              0.782\n",
      " minCGnP       0   273     -8.32  78.5           2482.674              0.746\n",
      " minCGnP       0   274     -7.96  80.3           2482.668              0.865\n",
      " minCGnP       0   275     -8.44  81.5           2482.663              0.980\n",
      " minCGnP       0   276     -7.52  82.8           2482.646              1.142\n",
      " minCGnP       0   277     -8.46  76.4           2482.636              0.596\n",
      " minCGnP       0   278     -7.42  81.1           2482.629              0.900\n",
      " minCGnP       0   279     -8.56  79.4           2482.624              0.743\n",
      " minCGnP       0   280     -8.24  81.4           2482.619              0.898\n",
      "DONE absolute force test:\n",
      "forceRmsMag(0.468241).LT.forceTolerance(0.500000)\n"
     ]
    },
    {
     "data": {
      "text/plain": [
       "*EE*"
      ]
     },
     "execution_count": 14,
     "metadata": {},
     "output_type": "execute_result"
    }
   ],
   "source": [
    "(defparameter *ee* (energy:minimize *chemagg*))"
   ]
  },
  {
   "cell_type": "code",
   "execution_count": 15,
   "metadata": {},
   "outputs": [
    {
     "data": {
      "application/vnd.jupyter.widget-view+json": {
       "model_id": "52CE93CE-12EF-4D96-8D89-36D45238FA71",
       "version_major": 2,
       "version_minor": 0
      },
      "text/html": [
       "<p>Failed to display Jupyter Widget of type <code>{widget_type}</code>.</p>\n",
       "<p>\n",
       "  If you're reading this message in the Jupyter Notebook or JupyterLab Notebook, it may mean\n",
       "  that the widgets JavaScript is still loading. If this message persists, it\n",
       "  likely means that the widgets JavaScript library is either not installed or\n",
       "  not enabled. See the <a href=\"https://ipywidgets.readthedocs.io/en/stable/user_install.html\">Jupyter\n",
       "  Widgets Documentation</a> for setup instructions.\n",
       "</p>\n",
       "<p>\n",
       "  If you're reading this message in another frontend (for example, a static\n",
       "  rendering on GitHub or <a href=\"https://nbviewer.jupyter.org/\">NBViewer</a>),\n",
       "  it may mean that your frontend doesn't currently support widgets.\n",
       "</p>\n"
      ],
      "text/plain": [
       "A Jupyter Widget"
      ]
     },
     "execution_count": 15,
     "metadata": {},
     "output_type": "execute_result"
    }
   ],
   "source": [
    "(nglv::show-aggregate *chemagg*)"
   ]
  },
  {
   "cell_type": "code",
   "execution_count": 16,
   "metadata": {},
   "outputs": [
    {
     "data": {
      "text/plain": [
       "NIL"
      ]
     },
     "execution_count": 16,
     "metadata": {},
     "output_type": "execute_result"
    }
   ],
   "source": [
    "(assign-atom-types *chemagg*)\n",
    "(chem:map-atoms 'nil (lambda (a) (if (eq (chem:get-type a) :CT)\n",
    "                                     (if (eq (chem:get-name a) :C)\n",
    "                                         (chem:set-type a :CX)))) *chemagg*)"
   ]
  },
  {
   "cell_type": "code",
   "execution_count": 17,
   "metadata": {},
   "outputs": [
    {
     "data": {
      "text/plain": [
       "NIL"
      ]
     },
     "execution_count": 17,
     "metadata": {},
     "output_type": "execute_result"
    }
   ],
   "source": [
    "(defparameter *mol1* (chem:make-molecule))\n",
    "(defparameter *res1* (chem:make-residue :foo))\n",
    "(defparameter *a1* (chem:make-atom :CL :|Cl|))\n",
    "(chem:set-position *a1* '(0.0 0.0 0.0))\n",
    "(chem:set-charge *a1* '-1.0)\n",
    "(chem:add-matter *res1* *a1*)\n",
    "(chem:add-matter *mol1* *res1*)\n",
    "(defparameter *clion* (chem:make-aggregate))\n",
    "(chem:add-matter *clion* *mol1*)"
   ]
  },
  {
   "cell_type": "code",
   "execution_count": 18,
   "metadata": {},
   "outputs": [
    {
     "data": {
      "text/plain": [
       "*O1*"
      ]
     },
     "execution_count": 18,
     "metadata": {},
     "output_type": "execute_result"
    }
   ],
   "source": [
    "(defparameter *o1* (core:make-cxx-object 'chem:octree))"
   ]
  },
  {
   "cell_type": "code",
   "execution_count": 19,
   "metadata": {},
   "outputs": [
    {
     "data": {
      "text/plain": [
       "*OT*"
      ]
     },
     "execution_count": 19,
     "metadata": {},
     "output_type": "execute_result"
    }
   ],
   "source": [
    "(defparameter *ot* (chem:oct-oct-tree-create *o1* *chemagg* 1 1.0 1.0 4.0 0 t))"
   ]
  },
  {
   "cell_type": "code",
   "execution_count": 20,
   "metadata": {},
   "outputs": [
    {
     "data": {
      "text/plain": [
       "*NEWPOS*"
      ]
     },
     "execution_count": 20,
     "metadata": {},
     "output_type": "execute_result"
    }
   ],
   "source": [
    "(defparameter *newpos* (chem:oct-tree-init-charges *o1* *ot* 1 1 1.5))"
   ]
  },
  {
   "cell_type": "code",
   "execution_count": 21,
   "metadata": {},
   "outputs": [
    {
     "data": {
      "text/plain": [
       "*CLION-COPY*"
      ]
     },
     "execution_count": 21,
     "metadata": {},
     "output_type": "execute_result"
    }
   ],
   "source": [
    "(defparameter *clion-copy* (chem:matter-copy *clion*))"
   ]
  },
  {
   "cell_type": "code",
   "execution_count": 22,
   "metadata": {},
   "outputs": [
    {
     "data": {
      "text/plain": [
       "*CLION-TRANSFORM*"
      ]
     },
     "execution_count": 22,
     "metadata": {},
     "output_type": "execute_result"
    }
   ],
   "source": [
    "(defparameter *clion-transform* (geom:make-m4-translate *newpos*))"
   ]
  },
  {
   "cell_type": "code",
   "execution_count": 23,
   "metadata": {},
   "outputs": [
    {
     "data": {
      "text/plain": [
       "NIL"
      ]
     },
     "execution_count": 23,
     "metadata": {},
     "output_type": "execute_result"
    }
   ],
   "source": [
    "(chem:apply-transform-to-atoms *clion-copy* *clion-transform*)"
   ]
  },
  {
   "cell_type": "code",
   "execution_count": 24,
   "metadata": {},
   "outputs": [
    {
     "data": {
      "text/plain": [
       "NIL"
      ]
     },
     "execution_count": 24,
     "metadata": {},
     "output_type": "execute_result"
    }
   ],
   "source": [
    "(chem:add-matter *chemagg* *clion-copy*)"
   ]
  },
  {
   "cell_type": "code",
   "execution_count": 25,
   "metadata": {},
   "outputs": [
    {
     "data": {
      "text/plain": [
       "*OT*"
      ]
     },
     "execution_count": 25,
     "metadata": {},
     "output_type": "execute_result"
    }
   ],
   "source": [
    "(defparameter *ot* (chem:oct-oct-tree-create *o1* *chemagg* 1 1.0 1.0 4.0 0 t))"
   ]
  },
  {
   "cell_type": "code",
   "execution_count": 26,
   "metadata": {},
   "outputs": [
    {
     "data": {
      "text/plain": [
       "*NEWPOS1*"
      ]
     },
     "execution_count": 26,
     "metadata": {},
     "output_type": "execute_result"
    }
   ],
   "source": [
    "(defparameter *newpos1* (chem:oct-tree-init-charges *o1* *ot* 1 1 1.5))"
   ]
  },
  {
   "cell_type": "code",
   "execution_count": null,
   "metadata": {
    "collapsed": true
   },
   "outputs": [],
   "source": [
    "(chem:oct-tree-delete-sphere *o1* *ot* *newpos* 1.5)"
   ]
  },
  {
   "cell_type": "code",
   "execution_count": null,
   "metadata": {
    "collapsed": true
   },
   "outputs": [],
   "source": [
    "(chem:oct-tree-update-charge *o1* *ot* *newpos* -1.0 1.5)"
   ]
  },
  {
   "cell_type": "code",
   "execution_count": 17,
   "metadata": {},
   "outputs": [
    {
     "name": "stdout",
     "output_type": "stream",
     "text": [
      "Saving matter to /Users/tuj24515/Development/clasp/extensions/cando/src/tests/addions/alanine.mol2\n"
     ]
    },
    {
     "data": {
      "text/plain": [
       "NIL"
      ]
     },
     "execution_count": 17,
     "metadata": {},
     "output_type": "execute_result"
    }
   ],
   "source": [
    "(save-mol2 *chemagg* \"alanine.mol2\")"
   ]
  },
  {
   "cell_type": "code",
   "execution_count": 16,
   "metadata": {},
   "outputs": [
    {
     "data": {
      "text/plain": [
       "*CHEMAGG2*"
      ]
     },
     "execution_count": 16,
     "metadata": {},
     "output_type": "execute_result"
    }
   ],
   "source": [
    "(defparameter *chemagg2* (chem:matter-copy *chemagg*))"
   ]
  },
  {
   "cell_type": "code",
   "execution_count": 17,
   "metadata": {},
   "outputs": [
    {
     "data": {
      "text/plain": [
       "*CHEMCENTER*"
      ]
     },
     "execution_count": 17,
     "metadata": {},
     "output_type": "execute_result"
    }
   ],
   "source": [
    "(defparameter *chemcenter* (chem:geometric-center *chemagg2*))"
   ]
  },
  {
   "cell_type": "code",
   "execution_count": 18,
   "metadata": {},
   "outputs": [
    {
     "data": {
      "text/plain": [
       "*TRANSFORM*"
      ]
     },
     "execution_count": 18,
     "metadata": {},
     "output_type": "execute_result"
    }
   ],
   "source": [
    "(defparameter *transform* (geom:make-m4-translate (geom:v* *chemcenter* -1.0)))"
   ]
  },
  {
   "cell_type": "code",
   "execution_count": 19,
   "metadata": {},
   "outputs": [
    {
     "data": {
      "text/plain": [
       "NIL"
      ]
     },
     "execution_count": 19,
     "metadata": {},
     "output_type": "execute_result"
    }
   ],
   "source": [
    "(chem:apply-transform-to-atoms *chemagg2* *transform*))"
   ]
  },
  {
   "cell_type": "code",
   "execution_count": null,
   "metadata": {
    "collapsed": true
   },
   "outputs": [],
   "source": []
  },
  {
   "cell_type": "code",
   "execution_count": 17,
   "metadata": {},
   "outputs": [
    {
     "data": {
      "text/plain": [
       "(:TIP3PFBOX)"
      ]
     },
     "execution_count": 17,
     "metadata": {},
     "output_type": "execute_result"
    }
   ],
   "source": [
    "(load-off \"tip3pfbox.off\")"
   ]
  },
  {
   "cell_type": "code",
   "execution_count": 18,
   "metadata": {},
   "outputs": [
    {
     "data": {
      "text/plain": [
       "*SOLVENT*"
      ]
     },
     "execution_count": 18,
     "metadata": {},
     "output_type": "execute_result"
    }
   ],
   "source": [
    "(defparameter *solvent* ~tip3pfbox)"
   ]
  },
  {
   "cell_type": "code",
   "execution_count": 19,
   "metadata": {},
   "outputs": [
    {
     "name": "stderr",
     "output_type": "stream",
     "text": [
      "SIMPLE-WARNING: \n",
      "Finish %set-coordinates\n",
      "SIMPLE-WARNING: \n",
      "Finish %handle-n-components-changed\n"
     ]
    },
    {
     "data": {
      "application/vnd.jupyter.widget-view+json": {
       "model_id": "78908997-257E-481D-910E-0DE1BA972A4F",
       "version_major": 2,
       "version_minor": 0
      },
      "text/html": [
       "<p>Failed to display Jupyter Widget of type <code>{widget_type}</code>.</p>\n",
       "<p>\n",
       "  If you're reading this message in the Jupyter Notebook or JupyterLab Notebook, it may mean\n",
       "  that the widgets JavaScript is still loading. If this message persists, it\n",
       "  likely means that the widgets JavaScript library is either not installed or\n",
       "  not enabled. See the <a href=\"https://ipywidgets.readthedocs.io/en/stable/user_install.html\">Jupyter\n",
       "  Widgets Documentation</a> for setup instructions.\n",
       "</p>\n",
       "<p>\n",
       "  If you're reading this message in another frontend (for example, a static\n",
       "  rendering on GitHub or <a href=\"https://nbviewer.jupyter.org/\">NBViewer</a>),\n",
       "  it may mean that your frontend doesn't currently support widgets.\n",
       "</p>\n"
      ],
      "text/plain": [
       "A Jupyter Widget"
      ]
     },
     "execution_count": 19,
     "metadata": {},
     "output_type": "execute_result"
    }
   ],
   "source": [
    "(nglv::show-aggregate *solvent*)"
   ]
  },
  {
   "cell_type": "code",
   "execution_count": 20,
   "metadata": {},
   "outputs": [
    {
     "data": {
      "text/plain": [
       "NIL"
      ]
     },
     "execution_count": 20,
     "metadata": {},
     "output_type": "execute_result"
    }
   ],
   "source": [
    "(assign-atom-types *chemagg*)\n",
    "(chem:map-atoms 'nil (lambda (a) (if (eq (chem:get-type a) :CT)\n",
    "                                     (if (eq (chem:get-name a) :C)\n",
    "                                         (chem:set-type a :CX)))) *chemagg*)"
   ]
  },
  {
   "cell_type": "code",
   "execution_count": 21,
   "metadata": {},
   "outputs": [
    {
     "name": "stdout",
     "output_type": "stream",
     "text": [
      "Total bounding box for atom centers:  29.504539513834402d0 24.43666854312727d0 24.18439487940269d0\n"
     ]
    },
    {
     "data": {
      "text/plain": [
       "*NEWAGG*"
      ]
     },
     "execution_count": 21,
     "metadata": {},
     "output_type": "execute_result"
    }
   ],
   "source": [
    "(:= *newagg* (leap.solvate::tool-solvate-and-shell *chemagg* *solvent* '(10.0 10.0 10.0)))"
   ]
  },
  {
   "cell_type": "code",
   "execution_count": 22,
   "metadata": {},
   "outputs": [
    {
     "name": "stderr",
     "output_type": "stream",
     "text": [
      "SIMPLE-WARNING: \n",
      "Finish %set-coordinates\n",
      "SIMPLE-WARNING: \n",
      "Finish %handle-n-components-changed\n"
     ]
    },
    {
     "data": {
      "application/vnd.jupyter.widget-view+json": {
       "model_id": "CFFBFA39-A4FB-4E3D-8D03-190575206F30",
       "version_major": 2,
       "version_minor": 0
      },
      "text/html": [
       "<p>Failed to display Jupyter Widget of type <code>{widget_type}</code>.</p>\n",
       "<p>\n",
       "  If you're reading this message in the Jupyter Notebook or JupyterLab Notebook, it may mean\n",
       "  that the widgets JavaScript is still loading. If this message persists, it\n",
       "  likely means that the widgets JavaScript library is either not installed or\n",
       "  not enabled. See the <a href=\"https://ipywidgets.readthedocs.io/en/stable/user_install.html\">Jupyter\n",
       "  Widgets Documentation</a> for setup instructions.\n",
       "</p>\n",
       "<p>\n",
       "  If you're reading this message in another frontend (for example, a static\n",
       "  rendering on GitHub or <a href=\"https://nbviewer.jupyter.org/\">NBViewer</a>),\n",
       "  it may mean that your frontend doesn't currently support widgets.\n",
       "</p>\n"
      ],
      "text/plain": [
       "A Jupyter Widget"
      ]
     },
     "execution_count": 22,
     "metadata": {},
     "output_type": "execute_result"
    }
   ],
   "source": [
    "(nglv::show-aggregate *newagg*)"
   ]
  },
  {
   "cell_type": "code",
   "execution_count": 23,
   "metadata": {},
   "outputs": [
    {
     "data": {
      "text/plain": [
       "NIL"
      ]
     },
     "execution_count": 23,
     "metadata": {},
     "output_type": "execute_result"
    }
   ],
   "source": [
    "(assign-atom-types *chemagg*)\n",
    "(chem:map-atoms 'nil (lambda (a) (if (eq (chem:get-type a) :CT)\n",
    "                                     (if (eq (chem:get-name a) :C)\n",
    "                                         (chem:set-type a :CX)))) *chemagg*)"
   ]
  },
  {
   "cell_type": "code",
   "execution_count": 8,
   "metadata": {},
   "outputs": [
    {
     "data": {
      "text/plain": [
       "*CHEMLEAP*"
      ]
     },
     "execution_count": 8,
     "metadata": {},
     "output_type": "execute_result"
    }
   ],
   "source": [
    "(defparameter *chemleap* (cando:load-mol2 \"alanine-leap.mol2\"))"
   ]
  },
  {
   "cell_type": "code",
   "execution_count": 9,
   "metadata": {},
   "outputs": [
    {
     "data": {
      "application/vnd.jupyter.widget-view+json": {
       "model_id": "71D1EDA6-3C19-4B48-89D2-2ED898547140",
       "version_major": 2,
       "version_minor": 0
      },
      "text/html": [
       "<p>Failed to display Jupyter Widget of type <code>{widget_type}</code>.</p>\n",
       "<p>\n",
       "  If you're reading this message in the Jupyter Notebook or JupyterLab Notebook, it may mean\n",
       "  that the widgets JavaScript is still loading. If this message persists, it\n",
       "  likely means that the widgets JavaScript library is either not installed or\n",
       "  not enabled. See the <a href=\"https://ipywidgets.readthedocs.io/en/stable/user_install.html\">Jupyter\n",
       "  Widgets Documentation</a> for setup instructions.\n",
       "</p>\n",
       "<p>\n",
       "  If you're reading this message in another frontend (for example, a static\n",
       "  rendering on GitHub or <a href=\"https://nbviewer.jupyter.org/\">NBViewer</a>),\n",
       "  it may mean that your frontend doesn't currently support widgets.\n",
       "</p>\n"
      ],
      "text/plain": [
       "A Jupyter Widget"
      ]
     },
     "execution_count": 9,
     "metadata": {},
     "output_type": "execute_result"
    }
   ],
   "source": [
    "(nglv::show-aggregate *chemleap*)"
   ]
  },
  {
   "cell_type": "code",
   "execution_count": 10,
   "metadata": {},
   "outputs": [
    {
     "data": {
      "text/plain": [
       "*OLEAP*"
      ]
     },
     "execution_count": 10,
     "metadata": {},
     "output_type": "execute_result"
    }
   ],
   "source": [
    "(defparameter *oleap* (core:make-cxx-object 'chem:octree))"
   ]
  },
  {
   "cell_type": "code",
   "execution_count": 14,
   "metadata": {},
   "outputs": [
    {
     "data": {
      "text/plain": [
       "*OTL*"
      ]
     },
     "execution_count": 14,
     "metadata": {},
     "output_type": "execute_result"
    }
   ],
   "source": [
    "(defparameter *otl* (chem:oct-oct-tree-create *oleap* *chemleap* 1 1.0 1.5 4.0 0 t))"
   ]
  },
  {
   "cell_type": "code",
   "execution_count": 19,
   "metadata": {},
   "outputs": [
    {
     "data": {
      "text/plain": [
       "*NEWPOSL*"
      ]
     },
     "execution_count": 19,
     "metadata": {},
     "output_type": "execute_result"
    }
   ],
   "source": [
    "(defparameter *newposl* (chem:oct-tree-init-charges *oleap* *otl* 1 1 1.5))"
   ]
  },
  {
   "cell_type": "code",
   "execution_count": 20,
   "metadata": {},
   "outputs": [
    {
     "data": {
      "text/plain": [
       "[ -2.51374 -3 -2.1312 ]"
      ]
     },
     "execution_count": 20,
     "metadata": {},
     "output_type": "execute_result"
    }
   ],
   "source": [
    "*newposl*"
   ]
  },
  {
   "cell_type": "code",
   "execution_count": 37,
   "metadata": {},
   "outputs": [
    {
     "data": {
      "text/plain": [
       "NIL"
      ]
     },
     "execution_count": 37,
     "metadata": {},
     "output_type": "execute_result"
    }
   ],
   "source": [
    "(defparameter *mol1* (chem:make-molecule))\n",
    "(defparameter *res1* (chem:make-residue :foo))\n",
    "(defparameter *a1* (chem:make-atom :CL :|Cl|))\n",
    "(chem:set-position *a1* '(0.0 0.0 0.0))\n",
    "(chem:set-charge *a1* '-1.0)\n",
    "(chem:add-matter *res1* *a1*)\n",
    "(chem:add-matter *mol1* *res1*)\n",
    "(defparameter *clion* (chem:make-aggregate))\n",
    "(chem:add-matter *clion* *mol1*)\n",
    "(defparameter *clion-copy1* (chem:matter-copy *clion*))\n",
    "(defparameter *clion-transform* (geom:make-m4-translate *newposl*))\n",
    "(chem:apply-transform-to-atoms *clion-copy* *clion-transform*)\n",
    "(chem:add-matter *chemleap* *clion-copy*)"
   ]
  },
  {
   "cell_type": "code",
   "execution_count": 38,
   "metadata": {},
   "outputs": [
    {
     "data": {
      "text/plain": [
       "*OTL*"
      ]
     },
     "execution_count": 38,
     "metadata": {},
     "output_type": "execute_result"
    }
   ],
   "source": [
    "(defparameter *otl* (chem:oct-oct-tree-create *oleap* *chemleap* 1 1.0 1.0 4.0 0 t))"
   ]
  },
  {
   "cell_type": "code",
   "execution_count": 39,
   "metadata": {},
   "outputs": [
    {
     "data": {
      "text/plain": [
       "*NEWPOSL*"
      ]
     },
     "execution_count": 39,
     "metadata": {},
     "output_type": "execute_result"
    }
   ],
   "source": [
    "(defparameter *newposl* (chem:oct-tree-init-charges *oleap* *otl* 1 1 1.5))"
   ]
  },
  {
   "cell_type": "code",
   "execution_count": 40,
   "metadata": {},
   "outputs": [
    {
     "data": {
      "text/plain": [
       "[ -0.013741 1.5 -6.85722 ]"
      ]
     },
     "execution_count": 40,
     "metadata": {},
     "output_type": "execute_result"
    }
   ],
   "source": [
    "*newposl*"
   ]
  },
  {
   "cell_type": "code",
   "execution_count": null,
   "metadata": {
    "collapsed": true
   },
   "outputs": [],
   "source": []
  }
 ],
 "metadata": {
  "kernelspec": {
   "display_name": "Cando",
   "language": "lisp",
   "name": "lisp"
  },
  "language_info": {
   "codemirror_mode": "text/x-common-lisp",
   "mimetype": "text/x-common-lisp",
   "name": "common-lisp",
   "pygments_lexer": "common-lisp",
   "version": "X3J13"
  }
 },
 "nbformat": 4,
 "nbformat_minor": 2
}
