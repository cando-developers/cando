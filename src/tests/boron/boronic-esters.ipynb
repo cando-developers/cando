{
 "cells": [
  {
   "cell_type": "code",
   "execution_count": 1,
   "metadata": {},
   "outputs": [
    {
     "data": {
      "text/plain": [
       "-1"
      ]
     },
     "execution_count": 1,
     "metadata": {},
     "output_type": "execute_result"
    }
   ],
   "source": [
    "(ext:chdir \"~/Development/clasp/extensions/cando/src/lisp/tests/boron/\" t)"
   ]
  },
  {
   "cell_type": "code",
   "execution_count": 28,
   "metadata": {},
   "outputs": [
    {
     "data": {
      "text/plain": [
       "(#P\"/Users/meister/Development/amber16/dat/antechamber/\"\n",
       " #P\"/Users/meister/Development/amber16/dat/leap/prep/\"\n",
       " #P\"/Users/meister/Development/amber16/dat/leap/parm/\"\n",
       " #P\"/Users/meister/Development/amber16/dat/leap/lib/\"\n",
       " #P\"/Users/meister/Development/amber16/dat/leap/cmd/\"\n",
       " #P\"/Users/meister/Development/cando/extensions/cando/src/tests/boron/\")"
      ]
     },
     "execution_count": 28,
     "metadata": {},
     "output_type": "execute_result"
    }
   ],
   "source": [
    "(leap.core::clear-path)\n",
    "(add-path \"~/Development/cando/extensions/cando/src/tests/boron/\")\n",
    "(add-path \"~/Development/amber16/dat/leap/cmd/\")\n",
    "(add-path \"~/Development/amber16/dat/leap/lib/\")\n",
    "(add-path \"~/Development/amber16/dat/leap/parm/\")\n",
    "(add-path \"~/Development/amber16/dat/leap/prep/\")\n",
    "(add-path \"~/Development/amber16/dat/antechamber/\")"
   ]
  },
  {
   "cell_type": "markdown",
   "metadata": {},
   "source": [
    "Load the GAFF force field and boronic ester frcmod file."
   ]
  },
  {
   "cell_type": "code",
   "execution_count": 104,
   "metadata": {
    "collapsed": true
   },
   "outputs": [
    {
     "name": "stderr",
     "output_type": "stream",
     "text": [
      "SIMPLE-WARNING: \n",
      "Warning!  Skipping 10-12 hbond\n",
      "SIMPLE-WARNING: \n",
      "Warning!  Skipping force field atom equivalences\n"
     ]
    },
    {
     "data": {
      "text/plain": [
       "(#<FORCE-FIELD frcmod.boronic-ester> #<FORCE-FIELD BORON.DEF>\n",
       " #<FORCE-FIELD gaff.dat> #<FORCE-FIELD ATOMTYPE_GFF.DEF>)"
      ]
     },
     "execution_count": 104,
     "metadata": {},
     "output_type": "execute_result"
    }
   ],
   "source": [
    "(clear-force-field)\n",
    "(load-atom-type-rules \"ATOMTYPE_GFF.DEF\")\n",
    "(load-amber-params \"gaff.dat\")\n",
    "(load-atom-type-rules \"BORON.DEF\")\n",
    "(load-amber-params \"frcmod.boronic-ester\")\n",
    "(gethash :default leap.core::*force-fields*)"
   ]
  },
  {
   "cell_type": "markdown",
   "metadata": {},
   "source": [
    "Display a prototypical aryl boronic ester."
   ]
  },
  {
   "cell_type": "code",
   "execution_count": 105,
   "metadata": {},
   "outputs": [
    {
     "data": {
      "image/png": "[encoded data removed]",
      "text/plain": [
       "#<CL-JUPYTER-USER::PNG-BYTES>"
      ]
     },
     "execution_count": 105,
     "metadata": {},
     "output_type": "execute_result"
    }
   ],
   "source": [
    "(cl-jupyter-user:png-from-file \"arylboronate2d.png\")"
   ]
  },
  {
   "cell_type": "markdown",
   "metadata": {},
   "source": [
    "Load the arylboronic ester from a Chemdraw file."
   ]
  },
  {
   "cell_type": "code",
   "execution_count": 106,
   "metadata": {},
   "outputs": [
    {
     "data": {
      "text/plain": [
       "*CHEMAGG*"
      ]
     },
     "execution_count": 106,
     "metadata": {},
     "output_type": "execute_result"
    }
   ],
   "source": [
    "(defparameter *chemagg* (cando:load-chem-draw-aggregate \"arylboronate.cdxml\"))"
   ]
  },
  {
   "cell_type": "code",
   "execution_count": 107,
   "metadata": {},
   "outputs": [
    {
     "data": {
      "text/plain": [
       "NIL"
      ]
     },
     "execution_count": 107,
     "metadata": {},
     "output_type": "execute_result"
    }
   ],
   "source": [
    "(build-hydrogens *chemagg*)"
   ]
  },
  {
   "cell_type": "markdown",
   "metadata": {},
   "source": [
    "Draw the 2D representation of the molecule loaded from the Chemdraw file."
   ]
  },
  {
   "cell_type": "code",
   "execution_count": 108,
   "metadata": {},
   "outputs": [
    {
     "data": {
      "application/vnd.jupyter.widget-view+json": {
       "model_id": "E69356AF-A9BE-400F-B43A-B1183F8F53DB",
       "version_major": 2,
       "version_minor": 0
      },
      "text/plain": [
       "A Jupyter Widget"
      ]
     },
     "execution_count": 108,
     "metadata": {},
     "output_type": "execute_result"
    }
   ],
   "source": [
    "(nglv::show-aggregate *chemagg*)"
   ]
  },
  {
   "cell_type": "code",
   "execution_count": 109,
   "metadata": {},
   "outputs": [
    {
     "name": "stderr",
     "output_type": "stream",
     "text": [
      "SIMPLE-WARNING: \n",
      "Implement merge of FFVdwDb\n",
      "SIMPLE-WARNING: \n",
      "Implement merge of FFVdwDb\n",
      "SIMPLE-WARNING: \n",
      "Implement merge of FFVdwDb\n",
      "SIMPLE-WARNING: \n",
      "Implement merge of FFVdwDb\n"
     ]
    },
    {
     "data": {
      "text/plain": [
       "*FF*"
      ]
     },
     "execution_count": 109,
     "metadata": {},
     "output_type": "execute_result"
    }
   ],
   "source": [
    "(:= *ff* (leap.core::merged-force-field))"
   ]
  },
  {
   "cell_type": "markdown",
   "metadata": {},
   "source": [
    "Automatically assign atom types."
   ]
  },
  {
   "cell_type": "code",
   "execution_count": 110,
   "metadata": {},
   "outputs": [
    {
     "data": {
      "text/plain": [
       "NIL"
      ]
     },
     "execution_count": 110,
     "metadata": {},
     "output_type": "execute_result"
    }
   ],
   "source": [
    "(chem:assign-types *ff* *chemagg*)"
   ]
  },
  {
   "cell_type": "code",
   "execution_count": 111,
   "metadata": {},
   "outputs": [
    {
     "data": {
      "text/plain": [
       "NIL"
      ]
     },
     "execution_count": 111,
     "metadata": {},
     "output_type": "execute_result"
    }
   ],
   "source": [
    "(jostle *chemagg*)"
   ]
  },
  {
   "cell_type": "markdown",
   "metadata": {},
   "source": [
    "Atomatically assign force-field parameters and minimize the energy of the molecule."
   ]
  },
  {
   "cell_type": "code",
   "execution_count": 112,
   "metadata": {},
   "outputs": [
    {
     "name": "stdout",
     "output_type": "stream",
     "text": [
      "======= Starting Steepest Descent Minimizer\n",
      "---Stage-Seconds--Step-----Alpha---Dir-------------Energy-----------RMSforce\n",
      " minSDnP       0     1  0.000000   0.0              0.000          13135.937\n",
      " minSDnP       0     2  0.000362   0.0        2481773.429          13346.601\n",
      " minSDnP       0     3  0.000126   0.0        2109368.386           5383.795\n",
      " minSDnP       0     4  0.000662   0.0        1584114.660           5239.419\n",
      "DONE absolute force test:\n",
      "forceRmsMag(3444.606920).LT.forceTolerance(5000.000000)\n",
      "======= Starting Conjugate Gradient Minimizer\n",
      " minCGnP       0     5  0.000000   0.0              0.000           3444.607\n",
      " minCGnP       0     6  0.000445  41.9        1063141.826           3096.023\n",
      " minCGnP       0     7  0.001025  54.2         711539.687           3115.778\n",
      " minCGnP       0     8  0.000405  61.9         548415.469           3123.848\n",
      " minCGnP       0     9  0.000278  54.8         467124.111           1577.835\n",
      " minCGnP       0    10  0.000446  80.3         414746.518           5748.456\n",
      "---Stage-Seconds--Step-----Alpha---Dir-------------Energy-----------RMSforce\n",
      " minCGnP       0    11  0.000035  35.6         388886.304           1697.494\n",
      " minCGnP       0    12  0.000559  50.0         333869.286           1397.724\n",
      " minCGnP       0    13  0.000966  60.6         270330.090           1655.297\n",
      " minCGnP       0    14  0.000832  66.2         185725.601           1825.380\n",
      " minCGnP       0    15  0.000223  62.9         162667.098           1769.771\n",
      " minCGnP       0    16  0.000221  41.6         144046.055            916.023\n",
      " minCGnP       0    17  0.000730  57.5         117797.960           1003.069\n",
      " minCGnP       0    18  0.000135  71.8         112019.101           1743.356\n",
      " minCGnP       0    19  0.000125  80.2          98603.942           3287.104\n",
      " minCGnP       0    20  0.000017  34.2          94030.219            860.519\n",
      "---Stage-Seconds--Step-----Alpha---Dir-------------Energy-----------RMSforce\n",
      " minCGnP       0    21  0.000449  45.4          83583.040            497.382\n",
      " minCGnP       0    22  0.000329  72.3          79682.788           1183.027\n",
      " minCGnP       0    23  0.000172  75.1          69756.962           1436.725\n",
      " minCGnP       0    24  0.000109  56.5          66195.778            817.426\n",
      " minCGnP       0    25  0.000892  63.4          49849.485            824.154\n",
      " minCGnP       0    26  0.000374  65.1          42723.771           1027.568\n",
      " minCGnP       0    27  0.000183  66.2          36092.691            845.930\n",
      " minCGnP       0    28  0.000381  53.0          28535.881            481.425\n",
      " minCGnP       0    29  0.000633  77.4          21809.766           1371.438\n",
      " minCGnP       0    30  0.000044  37.0          20148.861            551.380\n",
      "---Stage-Seconds--Step-----Alpha---Dir-------------Energy-----------RMSforce\n",
      " minCGnP       0    31  0.000446  47.5          16222.523            444.413\n",
      " minCGnP       0    32  0.000268  52.2          15146.315            380.920\n",
      " minCGnP       0    33  0.000351  54.9          13781.690            315.615\n",
      " minCGnP       0    34  0.000518  47.1          11995.218            239.052\n",
      " minCGnP       0    35  0.000518  61.3          10743.642            327.844\n",
      " minCGnP       0    36  0.000401  56.2           9526.407            274.483\n",
      " minCGnP       0    37  0.000539  74.5           7989.814            645.305\n",
      " minCGnP       0    38  0.000072  14.7           7381.535            233.239\n",
      " minCGnP       0    39  0.000464  34.8           6489.329            129.093\n",
      " minCGnP       0    40  0.000876  56.8           6039.066            155.622\n",
      "---Stage-Seconds--Step-----Alpha---Dir-------------Energy-----------RMSforce\n",
      " minCGnP       0    41  0.000901  59.2           5313.768            165.298\n",
      " minCGnP       0    42  0.000844  64.3           4445.310            202.961\n",
      " minCGnP       0    43  0.000400  73.6           3795.398            317.240\n",
      " minCGnP       0    44  0.000138  59.5           3487.010            180.021\n",
      " minCGnP       0    45  0.000891  60.9           2467.636            156.651\n",
      " minCGnP       0    46  0.000625  60.0           1932.764            124.224\n",
      " minCGnP       0    47  0.000920  56.7           1489.337             94.798\n",
      " minCGnP       0    48  0.000743  58.4           1247.834             86.339\n",
      " minCGnP       0    49  0.001078  59.5            951.741             76.096\n",
      " minCGnP       0    50  0.000806  60.1            783.027             68.914\n",
      "---Stage-Seconds--Step-----Alpha---Dir-------------Energy-----------RMSforce\n",
      " minCGnP       0    51  0.000344  73.7            701.911            135.771\n",
      " minCGnP       0    52  0.000070  79.3            660.582            221.294\n",
      " minCGnP       0    53  0.000002  77.7            655.614             75.788\n",
      " minCGnP       0    54  0.000165  79.7            621.315             79.438\n",
      " minCGnP       0    55  0.000001  82.5            621.109            107.354\n",
      " minCGnP       0    56  0.000100  49.7            580.189             69.608\n",
      " minCGnP       0    57  0.000551  47.9            484.050             49.477\n",
      " minCGnP       0    58  0.000683  43.7            423.818             31.001\n",
      " minCGnP       0    59  0.000906  55.8            394.577             33.716\n",
      " minCGnP       0    60  0.000872  57.2            358.762             29.875\n",
      "---Stage-Seconds--Step-----Alpha---Dir-------------Energy-----------RMSforce\n",
      " minCGnP       0    61  0.000831  57.3            331.776             26.251\n",
      " minCGnP       0    62  0.000900  59.9            309.421             24.925\n",
      " minCGnP       0    63  0.000970  63.4            287.790             24.658\n",
      " minCGnP       0    64  0.000816  64.0            269.766             22.661\n",
      " minCGnP       0    65  0.000822  61.8            254.492             19.435\n",
      " minCGnP       0    66  0.000955  64.8            241.524             19.485\n",
      " minCGnP       0    67  0.000817  66.4            230.278             19.163\n",
      " minCGnP       0    68  0.001335  70.8            212.766             22.667\n",
      " minCGnP       0    69  0.000878  72.9            195.879             25.101\n",
      " minCGnP       0    70  0.000753  61.8            177.548             23.340\n",
      "---Stage-Seconds--Step-----Alpha---Dir-------------Energy-----------RMSforce\n",
      " minCGnP       0    71  0.000926  65.5            159.705             24.154\n",
      " minCGnP       0    72  0.000857  67.0            141.927             20.232\n",
      " minCGnP       0    73  0.000839  63.1            129.107             16.883\n",
      " minCGnP       0    74  0.000827  63.1            120.680             15.274\n",
      " minCGnP       0    75  0.000759  63.8            114.338             13.439\n",
      " minCGnP       0    76  0.000852  60.1            108.778             10.143\n",
      " minCGnP       0    77  0.000837   0.0            105.683             10.648\n",
      " minCGnP       0    78  0.000372  27.7            104.166              5.580\n",
      " minCGnP       0    79  0.001984  53.6            101.952              6.695\n",
      " minCGnP       0    80  0.001224  55.4             99.978              5.732\n",
      "---Stage-Seconds--Step-----Alpha---Dir-------------Energy-----------RMSforce\n",
      " minCGnP       0    81  0.001057  64.2             98.728              6.709\n",
      " minCGnP       0    82  0.001131  63.5             96.884              5.946\n",
      " minCGnP       0    83  0.000668  55.6             96.032              4.005\n",
      " minCGnP       0    84  0.001472  61.5             95.180              4.192\n",
      " minCGnP       0    85  0.001765  65.2             94.070              4.304\n",
      " minCGnP       0    86  0.001239  73.6             93.255              5.993\n",
      " minCGnP       0    87  0.001016  75.4             91.966              5.600\n",
      " minCGnP       0    88  0.002226  81.0             88.402             10.898\n",
      " minCGnP       0    89  0.000427  71.8             86.198             15.208\n",
      " minCGnP       0    90  0.001095  60.9             75.973             18.105\n",
      "---Stage-Seconds--Step-----Alpha---Dir-------------Energy-----------RMSforce\n",
      " minCGnP       0    91  0.001454  60.1             57.520             20.285\n",
      " minCGnP       0    92  0.000724  50.6             46.594             16.585\n",
      " minCGnP       0    93  0.001099  59.0             35.709             17.513\n",
      " minCGnP       0    94  0.000709  54.4             27.896             12.224\n",
      " minCGnP       0    95  0.001289  55.8             21.064             10.068\n",
      " minCGnP       0    96  0.000894  58.8             17.799              9.155\n",
      " minCGnP       0    97  0.000824  57.2             15.312              7.403\n",
      " minCGnP       0    98  0.000856  55.1             13.627              5.749\n",
      " minCGnP       0    99  0.001165  62.3             12.237              6.283\n",
      " minCGnP       0   100  0.001453  66.2             10.170              6.580\n",
      "---Stage-Seconds--Step-----Alpha---Dir-------------Energy-----------RMSforce\n",
      " minCGnP       0   101  0.000684  58.7              9.104              4.536\n",
      " minCGnP       0   102  0.000643  48.7              8.627              2.669\n",
      " minCGnP       0   103  0.001750  60.5              8.180              3.109\n",
      " minCGnP       0   104  0.000692  56.5              7.939              2.302\n",
      " minCGnP       0   105  0.000775  50.9              7.791              1.571\n",
      " minCGnP       0   106  0.001230  58.4              7.681              1.612\n",
      " minCGnP       0   107  0.000989  58.4              7.589              1.372\n",
      " minCGnP       0   108  0.000935  62.1              7.525              1.364\n",
      " minCGnP       0   109  0.001043  64.4              7.456              1.331\n",
      " minCGnP       0   110  0.001168  66.5              7.381              1.325\n",
      "---Stage-Seconds--Step-----Alpha---Dir-------------Energy-----------RMSforce\n",
      " minCGnP       0   111  0.001417  68.6              7.291              1.355\n",
      " minCGnP       0   112  0.000652  66.0              7.248              1.110\n",
      " minCGnP       0   113  0.001475  67.8              7.183              1.108\n",
      " minCGnP       0   114  0.001557  74.1              7.114              1.469\n",
      " minCGnP       0   115  0.001036  75.4              7.034              1.542\n",
      " minCGnP       0   116  0.001000  73.4              6.948              1.299\n",
      " minCGnP       0   117  0.000945  71.5              6.891              1.119\n",
      " minCGnP       0   118  0.001151  72.8              6.839              1.150\n",
      " minCGnP       0   119  0.001100  74.3              6.786              1.214\n",
      " minCGnP       0   120  0.000785  71.5              6.745              0.985\n",
      "---Stage-Seconds--Step-----Alpha---Dir-------------Energy-----------RMSforce\n",
      " minCGnP       0   121  0.001444  72.3              6.694              0.978\n",
      " minCGnP       0   122  0.001162  74.7              6.654              1.089\n",
      " minCGnP       0   123  0.000705  68.6              6.624              0.734\n",
      " minCGnP       0   124  0.001200  70.1              6.601              0.739\n",
      " minCGnP       0   125  0.001110  72.2              6.579              0.779\n",
      " minCGnP       0   126  0.001280  75.2              6.551              0.902\n",
      " minCGnP       0   127  0.000826  72.6              6.527              0.731\n",
      " minCGnP       0   128  0.001064  72.4              6.506              0.688\n",
      " minCGnP       0   129  0.001276  72.4              6.485              0.662\n",
      " minCGnP       0   130  0.000956  74.6              6.469              0.726\n",
      "---Stage-Seconds--Step-----Alpha---Dir-------------Energy-----------RMSforce\n",
      " minCGnP       0   131  0.000975  71.8              6.451              0.594\n",
      " minCGnP       0   132  0.001833  75.7              6.428              0.730\n",
      " minCGnP       0   133  0.001079  78.2              6.407              0.866\n",
      " minCGnP       0   134  0.001093  78.1              6.378              0.829\n",
      " minCGnP       0   135  0.001148  79.1              6.349              0.878\n",
      " minCGnP       0   136  0.001380  80.8              6.311              1.033\n",
      " minCGnP       0   137  0.001106  80.7              6.268              1.033\n",
      " minCGnP       0   138  0.000854  80.1              6.235              0.969\n",
      " minCGnP       0   139  0.001396  80.9              6.188              1.032\n",
      " minCGnP       0   140  0.001535  82.9              6.129              1.287\n",
      "---Stage-Seconds--Step-----Alpha---Dir-------------Energy-----------RMSforce\n",
      " minCGnP       0   141  0.000786  81.7              6.082              1.131\n",
      " minCGnP       0   142  0.001260  80.9              6.024              1.045\n",
      " minCGnP       0   143  0.001262  81.7              5.974              1.147\n",
      " minCGnP       0   144  0.000750  79.6              5.938              0.917\n",
      " minCGnP       0   145  0.001091  79.8              5.905              0.932\n",
      " minCGnP       0   146  0.001600  82.8              5.855              1.309\n",
      " minCGnP       0   147  0.001175  82.9              5.784              1.252\n",
      " minCGnP       0   148  0.000887  82.5              5.734              1.166\n",
      " minCGnP       0   149  0.001049   0.0              5.682              1.146\n",
      " minCGnP       0   150  0.000655  41.5              5.651              1.015\n",
      "---Stage-Seconds--Step-----Alpha---Dir-------------Energy-----------RMSforce\n",
      " minCGnP       0   151  0.000999  53.0              5.614              1.007\n",
      " minCGnP       0   152  0.001224  59.9              5.570              1.046\n",
      " minCGnP       0   153  0.000971  53.6              5.531              0.713\n",
      " minCGnP       0   154  0.001170  61.5              5.510              0.778\n",
      " minCGnP       0   155  0.001754  71.4              5.472              1.101\n",
      " minCGnP       0   156  0.000739  68.2              5.439              0.883\n",
      " minCGnP       0   157  0.001233  66.5              5.405              0.755\n",
      " minCGnP       0   158  0.001669  69.1              5.371              0.789\n",
      " minCGnP       0   159  0.001710  73.1              5.332              0.928\n",
      " minCGnP       0   160  0.000640  69.4              5.312              0.718\n",
      "---Stage-Seconds--Step-----Alpha---Dir-------------Energy-----------RMSforce\n",
      " minCGnP       0   161  0.000929  66.6              5.295              0.585\n",
      " minCGnP       0   162  0.001794  73.7              5.273              0.796\n",
      " minCGnP       0   163  0.001251  73.7              5.245              0.763\n",
      " minCGnP       0   164  0.001330  67.5              5.217              0.523\n",
      " minCGnP       0   165  0.001666  72.0              5.200              0.615\n",
      " minCGnP       0   166  0.001132  75.5              5.185              0.737\n",
      "DONE absolute force test:\n",
      "forceRmsMag(0.465349).LT.forceTolerance(0.500000)\n",
      "======= Starting Steepest Descent Minimizer\n",
      "DONE absolute force test:\n",
      "forceRmsMag(9.760663).LT.forceTolerance(5000.000000)\n",
      "======= Starting Conjugate Gradient Minimizer\n",
      " minCGnP       0   167  0.000000   0.0              0.000              9.761\n",
      " minCGnP       0   168  0.000712  33.2             28.054              6.390\n",
      " minCGnP       0   169  0.001869  51.0             25.368              6.321\n",
      " minCGnP       0   170  0.000614  52.4             24.488              4.884\n",
      "---Stage-Seconds--Step-----Alpha---Dir-------------Energy-----------RMSforce\n",
      " minCGnP       0   171  0.000778  51.1             23.824              3.515\n",
      " minCGnP       0   172  0.001564  62.2             23.132              4.079\n",
      " minCGnP       0   173  0.001026  61.4             22.517              3.438\n",
      " minCGnP       0   174  0.000896  63.6             22.136              3.312\n",
      " minCGnP       0   175  0.000755  64.1             21.838              3.023\n",
      " minCGnP       0   176  0.001263  64.1             21.423              2.700\n",
      " minCGnP       0   177  0.000922  55.0             21.182              1.659\n",
      " minCGnP       0   178  0.000873  63.3             21.095              1.894\n",
      " minCGnP       0   179  0.000821  59.4             20.989              1.437\n",
      " minCGnP       0   180  0.001267  53.1             20.895              0.970\n",
      "---Stage-Seconds--Step-----Alpha---Dir-------------Energy-----------RMSforce\n",
      " minCGnP       0   181  0.001057  64.3             20.859              1.210\n",
      " minCGnP       0   182  0.000901  65.2             20.812              1.136\n",
      " minCGnP       0   183  0.000999  64.1             20.765              0.980\n",
      " minCGnP       0   184  0.000925  63.0             20.733              0.841\n",
      " minCGnP       0   185  0.001011  66.1             20.708              0.861\n",
      " minCGnP       0   186  0.000864  68.1             20.685              0.868\n",
      " minCGnP       0   187  0.001152  66.6             20.653              0.739\n",
      " minCGnP       0   188  0.001112  71.8             20.631              0.892\n",
      " minCGnP       0   189  0.000771  69.7             20.609              0.754\n",
      " minCGnP       0   190  0.001498  72.2             20.579              0.821\n",
      "---Stage-Seconds--Step-----Alpha---Dir-------------Energy-----------RMSforce\n",
      " minCGnP       0   191  0.001185  73.0             20.550              0.831\n",
      " minCGnP       0   192  0.000688  72.5             20.533              0.767\n",
      " minCGnP       0   193  0.001071  70.3             20.510              0.640\n",
      " minCGnP       0   194  0.001925  75.8             20.482              0.852\n",
      " minCGnP       0   195  0.000820  74.8             20.460              0.762\n",
      " minCGnP       0   196  0.000950  76.6             20.441              0.836\n",
      " minCGnP       0   197  0.000894  71.5             20.418              0.579\n",
      "DONE absolute force test:\n",
      "forceRmsMag(0.464593).LT.forceTolerance(0.500000)\n"
     ]
    },
    {
     "data": {
      "text/plain": [
       "#<ENERGY-FUNCTION >"
      ]
     },
     "execution_count": 112,
     "metadata": {},
     "output_type": "execute_result"
    }
   ],
   "source": [
    "(energy:minimize *chemagg* :force-field *ff* :restraints-on nil)"
   ]
  },
  {
   "cell_type": "markdown",
   "metadata": {},
   "source": [
    "Visualize the minimized structure and demonstrate that the force field parameters lead to the construction of a chemically reasonable structure."
   ]
  },
  {
   "cell_type": "code",
   "execution_count": 113,
   "metadata": {},
   "outputs": [
    {
     "data": {
      "application/vnd.jupyter.widget-view+json": {
       "model_id": "59109601-F457-4B22-B4F3-34A5C4E74E3F",
       "version_major": 2,
       "version_minor": 0
      },
      "text/plain": [
       "A Jupyter Widget"
      ]
     },
     "execution_count": 113,
     "metadata": {},
     "output_type": "execute_result"
    }
   ],
   "source": [
    "(nglv::show-aggregate *chemagg*)"
   ]
  },
  {
   "cell_type": "code",
   "execution_count": 114,
   "metadata": {},
   "outputs": [
    {
     "data": {
      "text/plain": [
       "*CAT*"
      ]
     },
     "execution_count": 114,
     "metadata": {},
     "output_type": "execute_result"
    }
   ],
   "source": [
    "(defparameter *cat* (cando:load-chem-draw-aggregate \"spiroligomer transglycosylase copy.cdxml\"))"
   ]
  },
  {
   "cell_type": "code",
   "execution_count": 117,
   "metadata": {},
   "outputs": [
    {
     "data": {
      "text/plain": [
       "NIL"
      ]
     },
     "execution_count": 117,
     "metadata": {},
     "output_type": "execute_result"
    }
   ],
   "source": [
    "(build-hydrogens *cat*)"
   ]
  },
  {
   "cell_type": "code",
   "execution_count": 118,
   "metadata": {},
   "outputs": [
    {
     "data": {
      "application/vnd.jupyter.widget-view+json": {
       "model_id": "523CA619-CB9F-4D3E-800C-3AB6FEE5EC82",
       "version_major": 2,
       "version_minor": 0
      },
      "text/plain": [
       "A Jupyter Widget"
      ]
     },
     "execution_count": 118,
     "metadata": {},
     "output_type": "execute_result"
    }
   ],
   "source": [
    "(nglv::show-aggregate *cat*)"
   ]
  },
  {
   "cell_type": "code",
   "execution_count": 119,
   "metadata": {},
   "outputs": [
    {
     "name": "stdout",
     "output_type": "stream",
     "text": [
      "C_108  S\n",
      "C_110  S\n",
      "C_133  S\n",
      "C_135  S\n",
      "C_158  S\n",
      "C_160  S\n",
      "C_183  S\n",
      "C_185  S\n",
      "C_208  S\n",
      "C_210  S\n",
      "C_303  S\n",
      "C_305  S\n",
      "C_313  S\n",
      "C_315  S\n",
      "C_323  S\n",
      "C_325  S\n",
      "C_333  S\n",
      "C_335  S\n",
      "C_343  S\n",
      "C_345  S\n",
      "C_500  S\n",
      "Set atom C_305 to :S\n",
      "Set atom C_315 to :S\n",
      "Set atom C_325 to :S\n",
      "Set atom C_210 to :S\n",
      "Set atom C_335 to :S\n",
      "Set atom C_185 to :S\n",
      "Set atom C_345 to :S\n",
      "Set atom C_160 to :S\n",
      "Set atom C_135 to :S\n",
      "Set atom C_110 to :S\n"
     ]
    },
    {
     "data": {
      "text/plain": [
       "NIL"
      ]
     },
     "execution_count": 119,
     "metadata": {},
     "output_type": "execute_result"
    }
   ],
   "source": [
    "(progn\n",
    "  (defparameter *stereocenters*\n",
    "    (sort (cando:gather-stereocenters *cat*) #'string< :key #'chem:get-name))\n",
    "  (cando:set-stereoisomer-func *stereocenters* (constantly :S) :show t)\n",
    "  (let ((quat-matcher (core:make-cxx-object 'chem:chem-info)))\n",
    "    (chem:compile-smarts quat-matcher \"[C&H0&D4]\")\n",
    "    (chem:map-atoms nil (lambda (a) (when (chem:matches quat-matcher a)\n",
    "                  (chem:set-configuration a :S)\n",
    "                  (format t \"Set atom ~a to :S~%\" (chem:get-name a))))\n",
    "            *cat*)))"
   ]
  },
  {
   "cell_type": "code",
   "execution_count": 120,
   "metadata": {},
   "outputs": [
    {
     "data": {
      "text/plain": [
       "NIL"
      ]
     },
     "execution_count": 120,
     "metadata": {},
     "output_type": "execute_result"
    }
   ],
   "source": [
    "(chem:assign-types *ff* *cat*)"
   ]
  },
  {
   "cell_type": "code",
   "execution_count": 121,
   "metadata": {},
   "outputs": [
    {
     "data": {
      "text/plain": [
       "NIL"
      ]
     },
     "execution_count": 121,
     "metadata": {},
     "output_type": "execute_result"
    }
   ],
   "source": [
    "(jostle *cat*)"
   ]
  },
  {
   "cell_type": "code",
   "execution_count": 122,
   "metadata": {},
   "outputs": [
    {
     "name": "stderr",
     "output_type": "stream",
     "text": [
      "SIMPLE-PROGRAM-ERROR: \n",
      "Could not find FFNonbondDb type index for type :B\n"
     ]
    },
    {
     "data": {
      "text/plain": [
       "NIL"
      ]
     },
     "execution_count": 122,
     "metadata": {},
     "output_type": "execute_result"
    }
   ],
   "source": [
    "(energy:minimize *cat* :force-field *ff* :restraints-on t)"
   ]
  },
  {
   "cell_type": "code",
   "execution_count": null,
   "metadata": {
    "collapsed": true
   },
   "outputs": [],
   "source": []
  }
 ],
 "metadata": {
  "kernelspec": {
   "display_name": "cclasp-boehm",
   "language": "lisp",
   "name": "cclasp-boehm"
  },
  "language_info": {
   "codemirror_mode": "text/x-common-lisp",
   "mimetype": "text/x-common-lisp",
   "name": "common-lisp",
   "pygments_lexer": "common-lisp",
   "version": "X3J13"
  }
 },
 "nbformat": 4,
 "nbformat_minor": 2
}
