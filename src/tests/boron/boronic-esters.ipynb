{
 "cells": [
  {
   "cell_type": "code",
   "execution_count": 1,
   "metadata": {},
   "outputs": [
    {
     "data": {
      "text/plain": [
       "-1"
      ]
     },
     "execution_count": 1,
     "metadata": {},
     "output_type": "execute_result"
    }
   ],
   "source": [
    "(ext:chdir \"~/Development/clasp/extensions/cando/src/lisp/tests/boron/\" t)"
   ]
  },
  {
   "cell_type": "code",
   "execution_count": 13,
   "metadata": {},
   "outputs": [
    {
     "data": {
      "text/plain": [
       "(#P\"/Users/tuj24515/Development/amber16/dat/antechamber/\"\n",
       " #P\"/Users/tuj24515/Development/amber16/dat/leap/prep/\"\n",
       " #P\"/Users/tuj24515/Development/amber16/dat/leap/parm/\"\n",
       " #P\"/Users/tuj24515/Development/amber16/dat/leap/lib/\"\n",
       " #P\"/Users/tuj24515/Development/amber16/dat/leap/cmd/\"\n",
       " #P\"/Users/tuj24515/Development/clasp/extensions/cando/src/tests/boron/\")"
      ]
     },
     "execution_count": 13,
     "metadata": {},
     "output_type": "execute_result"
    }
   ],
   "source": [
    "(leap.core::clear-path)\n",
    "(add-path \"~/Development/clasp/extensions/cando/src/tests/boron/\")\n",
    "(add-path \"~/Development/amber16/dat/leap/cmd/\")\n",
    "(add-path \"~/Development/amber16/dat/leap/lib/\")\n",
    "(add-path \"~/Development/amber16/dat/leap/parm/\")\n",
    "(add-path \"~/Development/amber16/dat/leap/prep/\")\n",
    "(add-path \"~/Development/amber16/dat/antechamber/\")"
   ]
  },
  {
   "cell_type": "code",
   "execution_count": 3,
   "metadata": {},
   "outputs": [
    {
     "name": "stdout",
     "output_type": "stream",
     "text": [
      "swank-loader -> /Users/tuj24515/Development/slime/swank-loader.lisp\n",
      "\n",
      "\"Read: (DEFPACKAGE :SWANK-LOADER (:USE :CL) (:EXPORT :INIT :DUMP-IMAGE :LIST-FASLS :*SOURCE-DIRECTORY* :*FASL-DIRECTORY*))\n",
      "\" \n",
      "\"Read: (IN-PACKAGE :SWANK-LOADER)\n",
      "\" \n",
      "\"Read: (DEFVAR *SOURCE-DIRECTORY* (MAKE-PATHNAME :NAME NIL :TYPE NIL :DEFAULTS (OR *LOAD-PATHNAME* *DEFAULT-PATHNAME-DEFAULTS*)) The directory where to look for the source.)\n",
      "\" \n",
      "\"Read: (DEFPARAMETER *SYSDEP-FILES* (QUOTE ((SWANK CLASP) (SWANK GRAY))))\n",
      "\" \n",
      "\"Read: (DEFPARAMETER *IMPLEMENTATION-FEATURES* (QUOTE (:ALLEGRO :LISPWORKS :SBCL :CLOZURE :CMU :CLISP :CCL :CORMAN :CORMANLISP :ARMEDBEAR :GCL :ECL :SCL :MKCL :CLASP)))\n",
      "\" \n",
      "\"Read: (DEFPARAMETER *OS-FEATURES* (QUOTE (:MACOSX :LINUX :WINDOWS :MSWINDOWS :WIN32 :SOLARIS :DARWIN :SUNOS :HPUX :UNIX)))\n",
      "\" \n",
      "\"Read: (DEFPARAMETER *ARCHITECTURE-FEATURES* (QUOTE (:POWERPC :PPC :X86 :X86-64 :X86_64 :AMD64 :I686 :I586 :I486 :PC386 :IAPX386 :SPARC64 :SPARC :HPPA64 :HPPA :ARM :ARMV5L :ARMV6L :ARMV7L :ARM64 :PENTIUM3 :PENTIUM4 :MIPS :MIPSEL :JAVA-1.4 :JAVA-1.5 :JAVA-1.6 :JAVA-1.7)))\n",
      "\" \n",
      "\"Read: (DEFUN Q (S) (READ-FROM-STRING S))\n",
      "\" \n",
      "\"Read: (DEFUN CLASP-VERSION-STRING NIL (FORMAT NIL ~A~@[-~A~] (LISP-IMPLEMENTATION-VERSION) (LISP-IMPLEMENTATION-ID)))\n",
      "\" \n",
      "\"Read: (DEFUN LISP-VERSION-STRING NIL (CLASP-VERSION-STRING))\n",
      "\" \n",
      "\"Read: (DEFUN UNIQUE-DIR-NAME NIL Return a name that can be used as a directory name that is\n",
      "unique to a Lisp implementation, Lisp implementation version,\n",
      "operating system, and hardware architecture. (FLET ((FIRST-OF (FEATURES) (LOOP FOR F IN FEATURES WHEN (FIND F *FEATURES*) RETURN IT)) (MAYBE-WARN (VALUE FSTRING &REST ARGS) (COND (VALUE) (T (APPLY (FUNCTION WARN) FSTRING ARGS) unknown)))) (LET ((LISP (MAYBE-WARN (FIRST-OF *IMPLEMENTATION-FEATURES*) No implementation feature found in ~a. *IMPLEMENTATION-FEATURES*)) (OS (MAYBE-WARN (FIRST-OF *OS-FEATURES*) No os feature found in ~a. *OS-FEATURES*)) (ARCH (MAYBE-WARN (FIRST-OF *ARCHITECTURE-FEATURES*) No architecture feature found in ~a. *ARCHITECTURE-FEATURES*)) (VERSION (MAYBE-WARN (LISP-VERSION-STRING) Don't know how to get Lisp ~\n",
      "                                implementation version.))) (FORMAT NIL ~(~@{~a~^-~}~) LISP VERSION OS ARCH))))\n",
      "\" \n",
      "\"Read: (DEFUN FILE-NEWER-P (NEW-FILE OLD-FILE) Returns true if NEW-FILE is newer than OLD-FILE. (> (FILE-WRITE-DATE NEW-FILE) (FILE-WRITE-DATE OLD-FILE)))\n",
      "\" \n",
      "\"Read: (DEFUN STRING-STARTS-WITH (STRING PREFIX) (STRING-EQUAL STRING PREFIX :END1 (MIN (LENGTH STRING) (LENGTH PREFIX))))\n",
      "\" \n",
      "\"Read: (DEFUN SLIME-VERSION-STRING NIL Return a string identifying the SLIME version.\n",
      "Return nil if nothing appropriate is available. (WITH-OPEN-FILE (S (MERGE-PATHNAMES slime.el *SOURCE-DIRECTORY*) :IF-DOES-NOT-EXIST NIL) (LOOP WITH PREFIX = ;; Version:  FOR LINE = (READ-LINE S NIL :EOF) UNTIL (EQ LINE :EOF) WHEN (STRING-STARTS-WITH LINE PREFIX) RETURN (SUBSEQ LINE (LENGTH PREFIX)))))\n",
      "\" \n",
      "\"Read: (DEFUN DEFAULT-FASL-DIR NIL (MERGE-PATHNAMES (MAKE-PATHNAME :DIRECTORY (BACKQUOTE (:RELATIVE .slime fasl (UNQUOTE-SPLICE (IF (SLIME-VERSION-STRING) (LIST (SLIME-VERSION-STRING)))) (UNQUOTE (UNIQUE-DIR-NAME))))) (USER-HOMEDIR-PATHNAME)))\n",
      "\" \n",
      "\"Read: (DEFVAR *FASL-DIRECTORY* (DEFAULT-FASL-DIR) The directory where fasl files should be placed.)\n",
      "\" \n",
      "\"Read: (DEFUN BINARY-PATHNAME (SRC-PATHNAME BINARY-DIR) Return the pathname where SRC-PATHNAME's binary should be compiled. (LET ((CFP (COMPILE-FILE-PATHNAME SRC-PATHNAME))) (MERGE-PATHNAMES (MAKE-PATHNAME :NAME (PATHNAME-NAME CFP) :TYPE (PATHNAME-TYPE CFP)) BINARY-DIR)))\n",
      "\" \n",
      "\"Read: (DEFUN HANDLE-SWANK-LOAD-ERROR (CONDITION CONTEXT PATHNAME) (FRESH-LINE *ERROR-OUTPUT*) (PPRINT-LOGICAL-BLOCK (*ERROR-OUTPUT* NIL :PER-LINE-PREFIX ;; ) (FORMAT *ERROR-OUTPUT* ~%Error ~A ~A:~%  ~A~% CONTEXT PATHNAME CONDITION)))\n",
      "\" \n",
      "\"Read: (DEFUN COMPILE-FILES (FILES FASL-DIR LOAD QUIET) Compile each file in FILES if the source is newer than its\n",
      "corresponding binary, or the file preceding it was recompiled.\n",
      "If LOAD is true, load the fasl file. (LET ((NEEDS-RECOMPILE NIL) (STATE :UNKNOWN)) (DOLIST (SRC FILES) (LET ((DEST (BINARY-PATHNAME SRC FASL-DIR))) (HANDLER-BIND ((ERROR (LAMBDA (C) (ECASE STATE (:COMPILE (HANDLE-SWANK-LOAD-ERROR C compiling SRC)) (:LOAD (HANDLE-SWANK-LOAD-ERROR C loading DEST)) (:UNKNOWN (HANDLE-SWANK-LOAD-ERROR C ???ing SRC)))))) (WHEN (OR NEEDS-RECOMPILE (NOT (PROBE-FILE DEST)) (FILE-NEWER-P SRC DEST)) (ENSURE-DIRECTORIES-EXIST DEST) (SETF NEEDS-RECOMPILE T STATE :COMPILE) (OR (COMPILE-FILE SRC :OUTPUT-FILE DEST :PRINT NIL :VERBOSE (NOT QUIET)) (ERROR COMPILE-FILE returned NIL.))) (WHEN LOAD (SETF STATE :LOAD) (LOAD DEST :VERBOSE (NOT QUIET))))))))\n",
      "\" \n",
      "\"Read: (DEFUN LOAD-USER-INIT-FILE NIL Load the user init file, return NIL if it does not exist. (LOAD (MERGE-PATHNAMES (USER-HOMEDIR-PATHNAME) (MAKE-PATHNAME :NAME .swank :TYPE lisp)) :IF-DOES-NOT-EXIST NIL))\n",
      "\" \n",
      "\"Read: (DEFUN LOAD-SITE-INIT-FILE (DIR) (LOAD (MAKE-PATHNAME :NAME site-init :TYPE lisp :DEFAULTS DIR) :IF-DOES-NOT-EXIST NIL))\n",
      "\" \n",
      "\"Read: (DEFUN SRC-FILES (NAMES SRC-DIR) (MAPCAR (LAMBDA (NAME) (MULTIPLE-VALUE-BIND (DIRS NAME) (ETYPECASE NAME (SYMBOL (VALUES (QUOTE NIL) NAME)) (CONS (VALUES (BUTLAST NAME) (CAR (LAST NAME))))) (MAKE-PATHNAME :DIRECTORY (APPEND (OR (PATHNAME-DIRECTORY SRC-DIR) (QUOTE (:RELATIVE))) (MAPCAR (FUNCTION STRING-DOWNCASE) DIRS)) :NAME (STRING-DOWNCASE NAME) :TYPE lisp :DEFAULTS SRC-DIR))) NAMES))\n",
      "\" \n",
      "\"Read: (DEFVAR *SWANK-FILES* (BACKQUOTE (PACKAGES (SWANK BACKEND) (UNQUOTE-SPLICE *SYSDEP-FILES*) (SWANK MATCH) (SWANK RPC) SWANK)))\n",
      "\" \n",
      "\"Read: (DEFVAR *CONTRIBS* (QUOTE (SWANK-UTIL SWANK-REPL SWANK-C-P-C SWANK-ARGLISTS SWANK-FUZZY SWANK-FANCY-INSPECTOR SWANK-PRESENTATIONS SWANK-PRESENTATION-STREAMS SWANK-ASDF SWANK-PACKAGE-FU SWANK-HYPERDOC SWANK-MREPL SWANK-TRACE-DIALOG SWANK-MACROSTEP SWANK-QUICKLISP)) List of names for contrib modules.)\n",
      "\" \n",
      "\"Read: (DEFUN APPEND-DIR (ABSOLUTE NAME) (MERGE-PATHNAMES (MAKE-PATHNAME :DIRECTORY (BACKQUOTE (:RELATIVE (UNQUOTE NAME))) :DEFAULTS ABSOLUTE) ABSOLUTE))\n",
      "\" \n",
      "\"Read: (DEFUN CONTRIB-DIR (BASE-DIR) (APPEND-DIR BASE-DIR contrib))\n",
      "\" \n",
      "\"Read: (DEFUN LOAD-SWANK (&KEY (SRC-DIR *SOURCE-DIRECTORY*) (FASL-DIR *FASL-DIRECTORY*) QUIET) (WITH-COMPILATION-UNIT NIL (COMPILE-FILES (SRC-FILES *SWANK-FILES* SRC-DIR) FASL-DIR T QUIET)) (FUNCALL (Q swank::before-init) (SLIME-VERSION-STRING) (LIST (CONTRIB-DIR FASL-DIR) (CONTRIB-DIR SRC-DIR))))\n",
      "\" \n",
      "\"Read: (DEFUN DELETE-STALE-CONTRIB-FASL-FILES (SWANK-FILES CONTRIB-FILES FASL-DIR) (LET ((NEWEST (REDUCE (FUNCTION MAX) (MAPCAR (FUNCTION FILE-WRITE-DATE) SWANK-FILES)))) (DOLIST (SRC CONTRIB-FILES) (LET ((FASL (BINARY-PATHNAME SRC FASL-DIR))) (WHEN (AND (PROBE-FILE FASL) (<= (FILE-WRITE-DATE FASL) NEWEST)) (DELETE-FILE FASL))))))\n",
      "\" \n",
      "\"Read: (DEFUN COMPILE-CONTRIBS (&KEY (SRC-DIR (CONTRIB-DIR *SOURCE-DIRECTORY*)) (FASL-DIR (CONTRIB-DIR *FASL-DIRECTORY*)) (SWANK-SRC-DIR *SOURCE-DIRECTORY*) LOAD QUIET) (LET* ((SWANK-SRC-FILES (SRC-FILES *SWANK-FILES* SWANK-SRC-DIR)) (CONTRIB-SRC-FILES (SRC-FILES *CONTRIBS* SRC-DIR))) (DELETE-STALE-CONTRIB-FASL-FILES SWANK-SRC-FILES CONTRIB-SRC-FILES FASL-DIR) (COMPILE-FILES CONTRIB-SRC-FILES FASL-DIR LOAD QUIET)))\n",
      "\" \n",
      "\"Read: (DEFUN LOADUP NIL (LOAD-SWANK) (COMPILE-CONTRIBS :LOAD T))\n",
      "\" \n",
      "\"Read: (DEFUN SETUP NIL (LOAD-SITE-INIT-FILE *SOURCE-DIRECTORY*) (LOAD-USER-INIT-FILE) (WHEN (PROBE-FILE (CONTRIB-DIR *SOURCE-DIRECTORY*)) (EVAL (BACKQUOTE (PUSHNEW (QUOTE COMPILE-CONTRIBS) (UNQUOTE (Q swank::*after-init-hook*)))))) (FUNCALL (Q swank::init)))\n",
      "\" \n",
      "\"Read: (DEFUN LIST-SWANK-PACKAGES NIL (REMOVE-IF-NOT (LAMBDA (PACKAGE) (LET ((NAME (PACKAGE-NAME PACKAGE))) (AND (STRING-NOT-EQUAL NAME swank-loader) (STRING-STARTS-WITH NAME swank)))) (LIST-ALL-PACKAGES)))\n",
      "\" \n",
      "\"Read: (DEFUN DELETE-PACKAGES (PACKAGES) (DOLIST (PACKAGE PACKAGES) (FLET ((HANDLE-PACKAGE-ERROR (C) (LET ((PKGS (SET-DIFFERENCE (PACKAGE-USED-BY-LIST PACKAGE) PACKAGES))) (WHEN PKGS (WARN deleting ~a which is used by ~{~a~^, ~}. PACKAGE PKGS)) (CONTINUE C)))) (HANDLER-BIND ((PACKAGE-ERROR (FUNCTION HANDLE-PACKAGE-ERROR))) (DELETE-PACKAGE PACKAGE)))))\n",
      "\" \n",
      "\"Read: (DEFUN INIT (&KEY DELETE RELOAD LOAD-CONTRIBS (SETUP T) (QUIET (NOT *LOAD-VERBOSE*))) Load SWANK and initialize some global variables.\n",
      "If DELETE is true, delete any existing SWANK packages.\n",
      "If RELOAD is true, reload SWANK, even if the SWANK package already exists.\n",
      "If LOAD-CONTRIBS is true, load all contribs\n",
      "If SETUP is true, load user init files and initialize some\n",
      "global variabes in SWANK. (WHEN (AND DELETE (FIND-PACKAGE :SWANK)) (DELETE-PACKAGES (LIST-SWANK-PACKAGES))) (COND ((OR (NOT (FIND-PACKAGE :SWANK)) RELOAD) (LOAD-SWANK :QUIET QUIET)) (T (WARN Not reloading SWANK.  Package already exists.))) (WHEN LOAD-CONTRIBS (COMPILE-CONTRIBS :LOAD T :QUIET QUIET)) (WHEN SETUP (SETUP)))\n",
      "\" \n",
      "\"Read: (DEFUN DUMP-IMAGE (FILENAME) (INIT :SETUP NIL) (FUNCALL (Q swank/backend:save-image) FILENAME))\n",
      "\" \n",
      "\"Read: (DEFUN LIST-FASLS (&KEY (INCLUDE-CONTRIBS T) (COMPILE T) (QUIET (NOT *COMPILE-VERBOSE*))) List up SWANK's fasls along with their dependencies. (FLET ((COLLECT-FASLS (FILES FASL-DIR) (WHEN COMPILE (COMPILE-FILES FILES FASL-DIR NIL QUIET)) (LOOP FOR SRC IN FILES WHEN (PROBE-FILE (BINARY-PATHNAME SRC FASL-DIR)) COLLECT IT))) (APPEND (COLLECT-FASLS (SRC-FILES *SWANK-FILES* *SOURCE-DIRECTORY*) *FASL-DIRECTORY*) (WHEN INCLUDE-CONTRIBS (COLLECT-FASLS (SRC-FILES *CONTRIBS* (CONTRIB-DIR *SOURCE-DIRECTORY*)) (CONTRIB-DIR *FASL-DIRECTORY*))))))\n",
      "\" "
     ]
    },
    {
     "data": {
      "text/plain": [
       "T"
      ]
     },
     "execution_count": 3,
     "metadata": {},
     "output_type": "execute_result"
    }
   ],
   "source": [
    "(start-swank)"
   ]
  },
  {
   "cell_type": "markdown",
   "metadata": {},
   "source": [
    "Load the GAFF force field and boronic ester frcmod file."
   ]
  },
  {
   "cell_type": "code",
   "execution_count": 30,
   "metadata": {},
   "outputs": [
    {
     "data": {
      "text/plain": [
       "(#<FORCE-FIELD ATOMTYPE_GFF.DEF>)"
      ]
     },
     "execution_count": 30,
     "metadata": {},
     "output_type": "execute_result"
    }
   ],
   "source": [
    "(clear-force-field)\n",
    "(load-atom-type-rules \"ATOMTYPE_GFF.DEF\")"
   ]
  },
  {
   "cell_type": "code",
   "execution_count": 31,
   "metadata": {},
   "outputs": [
    {
     "name": "stderr",
     "output_type": "stream",
     "text": [
      "SIMPLE-WARNING: \n",
      "Warning!  Skipping 10-12 hbond\n",
      "SIMPLE-WARNING: \n",
      "Warning!  Skipping force field atom equivalences\n"
     ]
    },
    {
     "data": {
      "text/plain": [
       "#<FORCE-FIELD gaff.dat>"
      ]
     },
     "execution_count": 31,
     "metadata": {},
     "output_type": "execute_result"
    }
   ],
   "source": [
    "(load-amber-params \"gaff.dat\")"
   ]
  },
  {
   "cell_type": "code",
   "execution_count": 32,
   "metadata": {},
   "outputs": [
    {
     "data": {
      "text/plain": [
       "(#<FORCE-FIELD boron.def> #<FORCE-FIELD gaff.dat>\n",
       " #<FORCE-FIELD ATOMTYPE_GFF.DEF>)"
      ]
     },
     "execution_count": 32,
     "metadata": {},
     "output_type": "execute_result"
    }
   ],
   "source": [
    "(load-atom-type-rules \"boron.def\")"
   ]
  },
  {
   "cell_type": "code",
   "execution_count": 33,
   "metadata": {},
   "outputs": [
    {
     "data": {
      "text/plain": [
       "(#<FORCE-FIELD frcmod.boronic-ester> #<FORCE-FIELD boron.def>\n",
       " #<FORCE-FIELD gaff.dat> #<FORCE-FIELD ATOMTYPE_GFF.DEF>)"
      ]
     },
     "execution_count": 33,
     "metadata": {},
     "output_type": "execute_result"
    }
   ],
   "source": [
    "(load-amber-params \"frcmod.boronic-ester\")\n",
    "(gethash :default leap.core::*force-fields*)"
   ]
  },
  {
   "cell_type": "markdown",
   "metadata": {},
   "source": [
    "Display a prototypical aryl boronic ester."
   ]
  },
  {
   "cell_type": "code",
   "execution_count": 20,
   "metadata": {},
   "outputs": [
    {
     "data": {
      "image/png": "[encoded data removed]",
      "text/plain": [
       "#<CL-JUPYTER-USER::PNG-BYTES>"
      ]
     },
     "execution_count": 20,
     "metadata": {},
     "output_type": "execute_result"
    }
   ],
   "source": [
    "(cl-jupyter-user:png-from-file \"arylboronate2d.png\")"
   ]
  },
  {
   "cell_type": "markdown",
   "metadata": {},
   "source": [
    "Load the arylboronic ester from a Chemdraw file."
   ]
  },
  {
   "cell_type": "code",
   "execution_count": 21,
   "metadata": {},
   "outputs": [
    {
     "data": {
      "text/plain": [
       "*CHEMAGG*"
      ]
     },
     "execution_count": 21,
     "metadata": {},
     "output_type": "execute_result"
    }
   ],
   "source": [
    "(defparameter *chemagg* (cando:load-chem-draw-aggregate \"arylboronate.cdxml\"))"
   ]
  },
  {
   "cell_type": "code",
   "execution_count": 22,
   "metadata": {},
   "outputs": [
    {
     "data": {
      "text/plain": [
       "NIL"
      ]
     },
     "execution_count": 22,
     "metadata": {},
     "output_type": "execute_result"
    }
   ],
   "source": [
    "(build-hydrogens *chemagg*)"
   ]
  },
  {
   "cell_type": "markdown",
   "metadata": {},
   "source": [
    "Draw the 2D representation of the molecule loaded from the Chemdraw file."
   ]
  },
  {
   "cell_type": "code",
   "execution_count": 23,
   "metadata": {},
   "outputs": [
    {
     "data": {
      "application/vnd.jupyter.widget-view+json": {
       "model_id": "AC6B9BE7-EA13-4B40-BDA5-1852B18F44FE",
       "version_major": 2,
       "version_minor": 0
      },
      "text/plain": [
       "A Jupyter Widget"
      ]
     },
     "execution_count": 23,
     "metadata": {},
     "output_type": "execute_result"
    }
   ],
   "source": [
    "(nglv::show-aggregate *chemagg*)"
   ]
  },
  {
   "cell_type": "code",
   "execution_count": 24,
   "metadata": {},
   "outputs": [
    {
     "name": "stderr",
     "output_type": "stream",
     "text": [
      "SIMPLE-WARNING: \n",
      "Implement merge of FFVdwDb\n",
      "SIMPLE-WARNING: \n",
      "Implement merge of FFVdwDb\n",
      "SIMPLE-WARNING: \n",
      "Implement merge of FFVdwDb\n",
      "SIMPLE-WARNING: \n",
      "Implement merge of FFVdwDb\n"
     ]
    },
    {
     "data": {
      "text/plain": [
       "*FF*"
      ]
     },
     "execution_count": 24,
     "metadata": {},
     "output_type": "execute_result"
    }
   ],
   "source": [
    "(:= *ff* (leap.core::merged-force-field))"
   ]
  },
  {
   "cell_type": "markdown",
   "metadata": {},
   "source": [
    "Automatically assign atom types."
   ]
  },
  {
   "cell_type": "code",
   "execution_count": 25,
   "metadata": {},
   "outputs": [
    {
     "data": {
      "text/plain": [
       "NIL"
      ]
     },
     "execution_count": 25,
     "metadata": {},
     "output_type": "execute_result"
    }
   ],
   "source": [
    "(chem:assign-types *ff* *chemagg*)"
   ]
  },
  {
   "cell_type": "code",
   "execution_count": 26,
   "metadata": {},
   "outputs": [
    {
     "data": {
      "text/plain": [
       "NIL"
      ]
     },
     "execution_count": 26,
     "metadata": {},
     "output_type": "execute_result"
    }
   ],
   "source": [
    "(jostle *chemagg*)"
   ]
  },
  {
   "cell_type": "markdown",
   "metadata": {},
   "source": [
    "Atomatically assign force-field parameters and minimize the energy of the molecule."
   ]
  },
  {
   "cell_type": "code",
   "execution_count": 27,
   "metadata": {},
   "outputs": [
    {
     "name": "stdout",
     "output_type": "stream",
     "text": [
      "======= Starting Steepest Descent Minimizer\n",
      "---Stage-Seconds--Step-----Alpha---Dir-------------Energy-----------RMSforce\n",
      " minSDnP       0     1  0.000000   0.0              0.000          16734.692\n",
      " minSDnP       0     2  0.000303   0.0        2765982.651           7455.396\n",
      " minSDnP       0     3  0.000361   0.0        2041859.297           5393.469\n",
      "DONE absolute force test:\n",
      "forceRmsMag(4262.681667).LT.forceTolerance(5000.000000)\n",
      "======= Starting Conjugate Gradient Minimizer\n",
      " minCGnP       0     4  0.000000   0.0              0.000           4262.682\n",
      " minCGnP       0     5  0.000391  42.0        1421068.053           3844.529\n",
      " minCGnP       0     6  0.001572  39.1         631776.000           1962.937\n",
      " minCGnP       0     7  0.000861  54.1         514705.359           2098.625\n",
      " minCGnP       0     8  0.000385  68.9         449966.853           3117.709\n",
      " minCGnP       0     9  0.000125  49.7         418139.457           1839.865\n",
      " minCGnP       0    10  0.000684  56.9         327163.440           1614.769\n",
      "---Stage-Seconds--Step-----Alpha---Dir-------------Energy-----------RMSforce\n",
      " minCGnP       0    11  0.000643  69.5         267316.444           2522.066\n",
      " minCGnP       0    12  0.000130  55.2         249583.697           1673.394\n",
      " minCGnP       0    13  0.000554  63.8         194342.783           1838.353\n",
      " minCGnP       0    14  0.000070  66.5         185490.480           2028.051\n",
      " minCGnP       0    15  0.000317  56.6         141307.912           1111.465\n",
      " minCGnP       0    16  0.000641  59.8         115403.562           1062.168\n",
      " minCGnP       0    17  0.000268  63.8         104200.405           1161.840\n",
      " minCGnP       0    18  0.000156  82.0          96132.004           3820.078\n",
      " minCGnP       0    19  0.000009  81.2          91913.521           4369.813\n",
      " minCGnP       0    20  0.000011   0.0          87506.233            900.855\n",
      "---Stage-Seconds--Step-----Alpha---Dir-------------Energy-----------RMSforce\n",
      " minCGnP       0    21  0.000200  48.6          81950.045           1021.589\n",
      " minCGnP       0    22  0.000086  22.4          80011.966            593.641\n",
      " minCGnP       0    23  0.000336  39.9          76966.950            442.612\n",
      " minCGnP       0    24  0.001054  64.6          70702.172            769.391\n",
      " minCGnP       0    25  0.000488  61.6          62106.474            780.775\n",
      " minCGnP       0    26  0.000362  57.5          53515.397            658.446\n",
      " minCGnP       0    27  0.000554  71.2          44073.041           1121.346\n",
      " minCGnP       0    28  0.000130  61.1          40540.448            856.212\n",
      " minCGnP       0    29  0.000373  58.6          33581.821            746.377\n",
      " minCGnP       0    30  0.000312  60.1          28661.849            855.052\n",
      "---Stage-Seconds--Step-----Alpha---Dir-------------Energy-----------RMSforce\n",
      " minCGnP       0    31  0.000268  47.9          24993.563            684.188\n",
      " minCGnP       0    32  0.000109  52.4          23232.099            621.373\n",
      " minCGnP       0    33  0.000281  44.8          19658.287            322.996\n",
      " minCGnP       0    34  0.000666  52.6          17141.439            295.394\n",
      " minCGnP       0    35  0.000680  64.6          14655.174            382.295\n",
      " minCGnP       0    36  0.000101  72.4          14110.305            462.322\n",
      " minCGnP       0    37  0.000207  67.6          12304.162            457.575\n",
      " minCGnP       0    38  0.000429  47.3          10019.841            297.352\n",
      " minCGnP       0    39  0.000853  56.7           7516.140            239.782\n",
      " minCGnP       0    40  0.000344  67.6           6582.004            358.174\n",
      "---Stage-Seconds--Step-----Alpha---Dir-------------Energy-----------RMSforce\n",
      " minCGnP       0    41  0.000258  51.0           5810.453            207.620\n",
      " minCGnP       0    42  0.000802  62.5           4566.604            186.627\n",
      " minCGnP       0    43  0.000720  62.9           3666.202            173.310\n",
      " minCGnP       0    44  0.000862  70.8           2690.524            241.366\n",
      " minCGnP       0    45  0.000289  56.2           2349.016            179.864\n",
      " minCGnP       0    46  0.000495  51.6           1799.376            129.413\n",
      " minCGnP       0    47  0.000728  48.6           1370.062             79.903\n",
      " minCGnP       0    48  0.000793  54.3           1187.692             74.166\n",
      " minCGnP       0    49  0.000863  61.2           1018.820             77.023\n",
      " minCGnP       0    50  0.000803  57.5            845.833             62.331\n",
      "---Stage-Seconds--Step-----Alpha---Dir-------------Energy-----------RMSforce\n",
      " minCGnP       0    51  0.000988  61.7            706.931             63.253\n",
      " minCGnP       0    52  0.000707  61.5            604.757             55.945\n",
      " minCGnP       0    53  0.000997  63.0            493.335             50.053\n",
      " minCGnP       0    54  0.000729  60.5            427.755             39.010\n",
      " minCGnP       0    55  0.000775  60.5            385.465             33.770\n",
      " minCGnP       0    56  0.000794  59.1            352.824             27.276\n",
      " minCGnP       0    57  0.000915  63.1            328.442             27.389\n",
      " minCGnP       0    58  0.000860  66.5            305.251             28.192\n",
      " minCGnP       0    59  0.001000  65.7            276.917             24.294\n",
      " minCGnP       0    60  0.000982  69.4            255.940             26.712\n",
      "---Stage-Seconds--Step-----Alpha---Dir-------------Energy-----------RMSforce\n",
      " minCGnP       0    61  0.000649  61.6            239.156             18.662\n",
      " minCGnP       0    62  0.000947  62.1            227.286             17.034\n",
      " minCGnP       0    63  0.000740  60.6            219.529             14.219\n",
      " minCGnP       0    64  0.000737  58.0            214.179             11.251\n",
      " minCGnP       0    65  0.000893  57.8            210.122              9.182\n",
      " minCGnP       0    66  0.000857  63.5            207.510              9.834\n",
      " minCGnP       0    67  0.000965  63.9            204.109              9.446\n",
      " minCGnP       0    68  0.000902  62.1            201.219              8.156\n",
      " minCGnP       0    69  0.000733  60.2            199.468              6.485\n",
      " minCGnP       0    70  0.000694  57.8            198.416              5.120\n",
      "---Stage-Seconds--Step-----Alpha---Dir-------------Energy-----------RMSforce\n",
      " minCGnP       0    71  0.001110  61.3            197.367              5.032\n",
      " minCGnP       0    72  0.000824  64.3            196.617              5.006\n",
      " minCGnP       0    73  0.000927  65.4            195.784              4.645\n",
      " minCGnP       0    74  0.001042  68.2            194.974              4.801\n",
      " minCGnP       0    75  0.001006  71.2            194.136              5.268\n",
      " minCGnP       0    76  0.000769  68.4            193.366              4.375\n",
      " minCGnP       0    77  0.001045  69.3            192.648              4.240\n",
      " minCGnP       0    78  0.001008  72.8            191.997              4.800\n",
      " minCGnP       0    79  0.000763  70.2            191.365              3.915\n",
      " minCGnP       0    80  0.001111  68.5            190.751              3.382\n",
      "---Stage-Seconds--Step-----Alpha---Dir-------------Energy-----------RMSforce\n",
      " minCGnP       0    81  0.000636  66.4            190.489              2.830\n",
      " minCGnP       0    82  0.000844  61.8            190.246              2.119\n",
      " minCGnP       0    83  0.000860  63.5            190.107              2.006\n",
      " minCGnP       0    84  0.000824  64.2            189.987              1.850\n",
      " minCGnP       0    85  0.000894  64.5            189.877              1.686\n",
      " minCGnP       0    86  0.000902  64.3            189.785              1.514\n",
      " minCGnP       0    87  0.000869  67.6            189.713              1.592\n",
      " minCGnP       0    88  0.000909  67.4            189.630              1.450\n",
      " minCGnP       0    89  0.001270  71.6            189.534              1.667\n",
      " minCGnP       0    90  0.000741  69.8            189.460              1.432\n",
      "---Stage-Seconds--Step-----Alpha---Dir-------------Energy-----------RMSforce\n",
      " minCGnP       0    91  0.000737  65.0            189.406              1.071\n",
      " minCGnP       0    92  0.001118   0.0            189.359              1.111\n",
      " minCGnP       0    93  0.000430  29.3            189.340              0.624\n",
      " minCGnP       0    94  0.001006  50.0            189.326              0.648\n",
      " minCGnP       0    95  0.002892  66.2            189.283              0.943\n",
      " minCGnP       0    96  0.000832  61.3            189.256              0.697\n",
      " minCGnP       0    97  0.001450  69.8            189.231              0.912\n",
      " minCGnP       0    98  0.001122  74.6            189.197              1.139\n",
      " minCGnP       0    99  0.000971  71.1            189.152              0.874\n",
      " minCGnP       0   100  0.002032  74.0            189.096              0.986\n",
      "---Stage-Seconds--Step-----Alpha---Dir-------------Energy-----------RMSforce\n",
      " minCGnP       0   101  0.001292  75.9            189.051              1.078\n",
      " minCGnP       0   102  0.000934  77.8            189.012              1.221\n",
      " minCGnP       0   103  0.001956  82.6            188.908              1.933\n",
      " minCGnP       0   104  0.001281  82.2            188.730              1.833\n",
      " minCGnP       0   105  0.001495  79.6            188.540              1.842\n",
      " minCGnP       0   106  0.002245  84.1            188.278              3.193\n",
      " minCGnP       0   107  0.001121  84.8            187.820              3.793\n",
      " minCGnP       0   108  0.000576  76.1            187.495              3.539\n",
      " minCGnP       0   109  0.001623  80.8            186.811              5.028\n",
      " minCGnP       0   110  0.001187  84.3            185.729              6.681\n",
      "---Stage-Seconds--Step-----Alpha---Dir-------------Energy-----------RMSforce\n",
      " minCGnP       0   111  0.000570  72.1            184.634              6.243\n",
      " minCGnP       0   112  0.000573  69.6            183.828              5.564\n",
      " minCGnP       0   113  0.001268  74.5            182.444              6.834\n",
      " minCGnP       0   114  0.001501  78.7            179.873              8.691\n",
      " minCGnP       0   115  0.001078  79.2            176.437             12.269\n",
      " minCGnP       0   116  0.000820  75.9            171.225             17.216\n",
      " minCGnP       0   117  0.001075  59.5            157.854             19.392\n",
      " minCGnP       0   118  0.001284  61.3            140.072             20.580\n",
      " minCGnP       0   119  0.000536  47.3            131.769             13.953\n",
      " minCGnP       0   120  0.001580  57.9            120.897             14.683\n",
      "---Stage-Seconds--Step-----Alpha---Dir-------------Energy-----------RMSforce\n",
      " minCGnP       0   121  0.000765  58.8            115.044             11.987\n",
      " minCGnP       0   122  0.000934  60.2            110.165             10.577\n",
      " minCGnP       0   123  0.000836  58.8            106.811              8.616\n",
      " minCGnP       0   124  0.001151  57.6            103.724              7.078\n",
      " minCGnP       0   125  0.000806  62.2            102.270              7.178\n",
      " minCGnP       0   126  0.001023  61.4            100.349              6.337\n",
      " minCGnP       0   127  0.001122  61.5             98.730              5.816\n",
      " minCGnP       0   128  0.000923  64.7             97.608              5.792\n",
      " minCGnP       0   129  0.000815  62.7             96.630              4.659\n",
      " minCGnP       0   130  0.001426  68.6             95.519              5.339\n",
      "---Stage-Seconds--Step-----Alpha---Dir-------------Energy-----------RMSforce\n",
      " minCGnP       0   131  0.001228  74.2             94.253              6.789\n",
      " minCGnP       0   132  0.001323  77.9             92.035              9.090\n",
      " minCGnP       0   133  0.001096  78.6             88.472             11.442\n",
      " minCGnP       0   134  0.001055  76.1             82.030             17.037\n",
      " minCGnP       0   135  0.000787  66.8             72.113             22.233\n",
      " minCGnP       0   136  0.001024  37.5             52.386             18.795\n",
      " minCGnP       0   137  0.001070  52.9             38.890             19.568\n",
      " minCGnP       0   138  0.000642  50.4             30.153             12.596\n",
      " minCGnP       0   139  0.001270  52.0             22.926             10.004\n",
      " minCGnP       0   140  0.000904  55.2             19.674              8.771\n",
      "---Stage-Seconds--Step-----Alpha---Dir-------------Energy-----------RMSforce\n",
      " minCGnP       0   141  0.000925  57.2             17.108              7.682\n",
      " minCGnP       0   142  0.000777  53.7             15.452              5.782\n",
      " minCGnP       0   143  0.000832  50.2             14.448              4.176\n",
      " minCGnP       0   144  0.001130  57.8             13.738              4.265\n",
      " minCGnP       0   145  0.001719  71.7             12.607              6.888\n",
      " minCGnP       0   146  0.000795  62.7             11.239              4.631\n",
      " minCGnP       0   147  0.000933  58.0             10.521              3.322\n",
      " minCGnP       0   148  0.001181  62.8             10.052              3.390\n",
      " minCGnP       0   149  0.000725  60.9              9.752              2.783\n",
      " minCGnP       0   150  0.000926  55.8              9.494              2.002\n",
      "---Stage-Seconds--Step-----Alpha---Dir-------------Energy-----------RMSforce\n",
      " minCGnP       0   151  0.001247  62.9              9.314              2.201\n",
      " minCGnP       0   152  0.001302  66.6              9.087              2.307\n",
      " minCGnP       0   153  0.000954  66.1              8.904              2.071\n",
      " minCGnP       0   154  0.000699  62.7              8.796              1.634\n",
      " minCGnP       0   155  0.001167  60.0              8.684              1.307\n",
      " minCGnP       0   156  0.001744  68.2              8.577              1.637\n",
      " minCGnP       0   157  0.000903  71.3              8.489              1.790\n",
      " minCGnP       0   158  0.000984  68.4              8.376              1.444\n",
      " minCGnP       0   159  0.001780  71.3              8.242              1.567\n",
      " minCGnP       0   160  0.001102  76.0              8.145              2.020\n",
      "---Stage-Seconds--Step-----Alpha---Dir-------------Energy-----------RMSforce\n",
      " minCGnP       0   161  0.001158  76.1              7.975              1.993\n",
      " minCGnP       0   162  0.000881  72.6              7.848              1.547\n",
      " minCGnP       0   163  0.001415  75.0              7.726              1.738\n",
      " minCGnP       0   164  0.001066   0.0              7.610              1.358\n",
      " minCGnP       0   165  0.000504  35.6              7.577              0.972\n",
      " minCGnP       0   166  0.000932  46.5              7.545              0.832\n",
      " minCGnP       0   167  0.001368  54.8              7.511              0.812\n",
      " minCGnP       0   168  0.001422  58.2              7.477              0.755\n",
      " minCGnP       0   169  0.001112  62.2              7.454              0.753\n",
      " minCGnP       0   170  0.000987  66.1              7.434              0.792\n",
      "---Stage-Seconds--Step-----Alpha---Dir-------------Energy-----------RMSforce\n",
      " minCGnP       0   171  0.001070  69.2              7.410              0.845\n",
      " minCGnP       0   172  0.000873  62.5              7.388              0.575\n",
      " minCGnP       0   173  0.001552  66.5              7.369              0.611\n",
      " minCGnP       0   174  0.001355  74.3              7.351              0.870\n",
      " minCGnP       0   175  0.000879  71.0              7.327              0.679\n",
      " minCGnP       0   176  0.001239  67.5              7.306              0.530\n",
      " minCGnP       0   177  0.002154  72.2              7.285              0.635\n",
      " minCGnP       0   178  0.002025  78.1              7.255              0.924\n",
      " minCGnP       0   179  0.000982  77.8              7.225              0.874\n",
      " minCGnP       0   180  0.001031  79.0              7.197              0.956\n",
      "---Stage-Seconds--Step-----Alpha---Dir-------------Energy-----------RMSforce\n",
      " minCGnP       0   181  0.000968  79.2              7.165              0.957\n",
      " minCGnP       0   182  0.001677  80.0              7.110              1.000\n",
      " minCGnP       0   183  0.001565  78.8              7.054              0.855\n",
      " minCGnP       0   184  0.001085  80.6              7.025              1.007\n",
      " minCGnP       0   185  0.000761  78.6              6.997              0.827\n",
      " minCGnP       0   186  0.001977  79.5              6.948              0.886\n",
      " minCGnP       0   187  0.001527  81.1              6.905              1.037\n",
      " minCGnP       0   188  0.000591  77.0              6.882              0.700\n",
      " minCGnP       0   189  0.001299  77.6              6.860              0.718\n",
      " minCGnP       0   190  0.000953  75.4              6.842              0.587\n",
      "---Stage-Seconds--Step-----Alpha---Dir-------------Energy-----------RMSforce\n",
      " minCGnP       0   191  0.001294  74.5              6.826              0.528\n",
      "DONE absolute force test:\n",
      "forceRmsMag(0.473721).LT.forceTolerance(0.500000)\n",
      "======= Starting Steepest Descent Minimizer\n",
      "DONE absolute force test:\n",
      "forceRmsMag(11.336788).LT.forceTolerance(5000.000000)\n",
      "======= Starting Conjugate Gradient Minimizer\n",
      " minCGnP       0   192  0.000000   0.0              0.000             11.337\n",
      " minCGnP       0   193  0.000768  34.3             33.921              7.728\n",
      " minCGnP       0   194  0.001686  52.9             30.410              7.612\n",
      " minCGnP       0   195  0.000595  53.4             29.174              5.767\n",
      " minCGnP       0   196  0.000842  52.3             28.168              4.338\n",
      " minCGnP       0   197  0.001572  62.8             27.107              5.103\n",
      " minCGnP       0   198  0.001006  65.9             26.166              5.143\n",
      " minCGnP       0   199  0.000706  63.1             25.494              4.097\n",
      " minCGnP       0   200  0.000857  63.5             24.976              3.712\n",
      "---Stage-Seconds--Step-----Alpha---Dir-------------Energy-----------RMSforce\n",
      " minCGnP       0   201  0.001571  68.8             24.200              4.226\n",
      " minCGnP       0   202  0.000711  63.8             23.744              3.036\n",
      " minCGnP       0   203  0.000570  58.5             23.555              2.177\n",
      " minCGnP       0   204  0.001552  63.1             23.289              2.244\n",
      " minCGnP       0   205  0.000647  61.1             23.172              1.838\n",
      " minCGnP       0   206  0.000709  51.1             23.086              1.106\n",
      " minCGnP       0   207  0.001259  63.2             23.031              1.373\n",
      " minCGnP       0   208  0.000697  61.7             22.983              1.145\n",
      " minCGnP       0   209  0.000961  58.9             22.938              0.898\n",
      " minCGnP       0   210  0.001605  70.0             22.891              1.279\n",
      "---Stage-Seconds--Step-----Alpha---Dir-------------Energy-----------RMSforce\n",
      " minCGnP       0   211  0.000639  68.2             22.854              1.097\n",
      " minCGnP       0   212  0.001746  71.2             22.778              1.196\n",
      " minCGnP       0   213  0.001119  74.5             22.720              1.397\n",
      " minCGnP       0   214  0.000738  74.6             22.668              1.352\n",
      " minCGnP       0   215  0.001464  76.8             22.572              1.531\n",
      " minCGnP       0   216  0.001655  81.0             22.433              2.176\n",
      " minCGnP       0   217  0.000773  80.8             22.302              2.073\n",
      " minCGnP       0   218  0.000910  78.5             22.160              1.697\n",
      " minCGnP       0   219  0.000917  77.7             22.064              1.623\n",
      " minCGnP       0   220  0.001109  79.2             21.958              1.856\n",
      "---Stage-Seconds--Step-----Alpha---Dir-------------Energy-----------RMSforce\n",
      " minCGnP       0   221  0.000677  76.7             21.874              1.506\n",
      " minCGnP       0   222  0.001234  77.3             21.774              1.517\n",
      " minCGnP       0   223  0.001234  78.2             21.673              1.512\n",
      " minCGnP       0   224  0.000702  78.6             21.615              1.500\n",
      " minCGnP       0   225  0.001423  78.8             21.498              1.527\n",
      " minCGnP       0   226  0.001006  80.1             21.413              1.772\n",
      " minCGnP       0   227  0.000736  77.2             21.330              1.421\n",
      " minCGnP       0   228  0.001151  76.4             21.246              1.328\n",
      " minCGnP       0   229  0.000872  77.7             21.191              1.425\n",
      " minCGnP       0   230  0.000975  77.7             21.120              1.375\n",
      "---Stage-Seconds--Step-----Alpha---Dir-------------Energy-----------RMSforce\n",
      " minCGnP       0   231  0.000910  74.5             21.058              1.021\n",
      " minCGnP       0   232  0.000823  71.7             21.027              0.817\n",
      " minCGnP       0   233  0.001015  75.7             21.003              1.001\n",
      " minCGnP       0   234  0.000861  74.5             20.972              0.885\n",
      " minCGnP       0   235  0.001772  76.0             20.921              0.960\n",
      " minCGnP       0   236  0.000713  74.3             20.898              0.841\n",
      " minCGnP       0   237  0.000700  71.9             20.880              0.703\n",
      " minCGnP       0   238  0.001606  71.4             20.851              0.649\n",
      " minCGnP       0   239  0.000963  72.9             20.837              0.666\n",
      " minCGnP       0   240  0.000680  71.3             20.826              0.574\n",
      "---Stage-Seconds--Step-----Alpha---Dir-------------Energy-----------RMSforce\n",
      " minCGnP       0   241  0.001463  73.7             20.808              0.631\n",
      " minCGnP       0   242  0.001245  76.0             20.791              0.710\n",
      " minCGnP       0   243  0.000747  75.5             20.777              0.667\n",
      " minCGnP       0   244  0.001242  78.1             20.757              0.799\n",
      " minCGnP       0   245  0.001047  77.1             20.733              0.727\n",
      " minCGnP       0   246  0.000885  76.3             20.716              0.670\n",
      " minCGnP       0   247  0.000798  76.3             20.703              0.651\n",
      " minCGnP       0   248  0.001398  77.5             20.682              0.696\n",
      " minCGnP       0   249  0.001273  81.5             20.660              0.994\n",
      " minCGnP       0   250  0.000845  79.7             20.630              0.769\n",
      "---Stage-Seconds--Step-----Alpha---Dir-------------Energy-----------RMSforce\n",
      " minCGnP       0   251  0.001286  79.2             20.602              0.720\n",
      " minCGnP       0   252  0.001062  80.5             20.582              0.826\n",
      " minCGnP       0   253  0.000621  76.4             20.567              0.604\n",
      " minCGnP       0   254  0.001766  77.8             20.544              0.661\n",
      " minCGnP       0   255  0.000955  77.1             20.529              0.598\n",
      " minCGnP       0   256  0.000748  77.5             20.519              0.596\n",
      " minCGnP       0   257  0.001192  76.5             20.504              0.543\n",
      "DONE absolute force test:\n",
      "forceRmsMag(0.436730).LT.forceTolerance(0.500000)\n"
     ]
    },
    {
     "data": {
      "text/plain": [
       "#<ENERGY-FUNCTION >"
      ]
     },
     "execution_count": 27,
     "metadata": {},
     "output_type": "execute_result"
    }
   ],
   "source": [
    "(energy:minimize *chemagg* :force-field *ff* :restraints-on nil)"
   ]
  },
  {
   "cell_type": "markdown",
   "metadata": {},
   "source": [
    "Visualize the minimized structure and demonstrate that the force field parameters lead to the construction of a chemically reasonable structure."
   ]
  },
  {
   "cell_type": "code",
   "execution_count": 28,
   "metadata": {},
   "outputs": [
    {
     "data": {
      "application/vnd.jupyter.widget-view+json": {
       "model_id": "B7D2B7B7-77B4-40A7-8820-54E0384C3EE5",
       "version_major": 2,
       "version_minor": 0
      },
      "text/plain": [
       "A Jupyter Widget"
      ]
     },
     "execution_count": 28,
     "metadata": {},
     "output_type": "execute_result"
    }
   ],
   "source": [
    "(nglv::show-aggregate *chemagg*)"
   ]
  },
  {
   "cell_type": "code",
   "execution_count": 34,
   "metadata": {},
   "outputs": [
    {
     "data": {
      "text/plain": [
       "NIL"
      ]
     },
     "execution_count": 34,
     "metadata": {},
     "output_type": "execute_result"
    }
   ],
   "source": [
    "(chem:assign-types *ff* *chemagg*)"
   ]
  },
  {
   "cell_type": "code",
   "execution_count": 38,
   "metadata": {},
   "outputs": [
    {
     "data": {
      "text/plain": [
       "NIL"
      ]
     },
     "execution_count": 38,
     "metadata": {},
     "output_type": "execute_result"
    }
   ],
   "source": [
    "(chem:set-property *chemagg* :bounding-box '(30.0 30.0 30.0))"
   ]
  },
  {
   "cell_type": "code",
   "execution_count": 41,
   "metadata": {},
   "outputs": [
    {
     "name": "stdout",
     "output_type": "stream",
     "text": [
      "atom1: #<ATOM :C_118/:C> atom2: #<ATOM :C_116/:C> i1: 0 i2: 3\n",
      " atom1: #<ATOM :C_116/:C> atom2: #<ATOM :C_114/:C> i1: 3 i2: 12\n",
      " atom1: #<ATOM :C_120/:C> atom2: #<ATOM :C_118/:C> i1: 6 i2: 0\n",
      " atom1: #<ATOM :C_120/:C> atom2: #<ATOM :C_110/:C> i1: 6 i2: 15\n",
      " atom1: #<ATOM :C_120/:C> atom2: #<ATOM :H_120/:H> i1: 6 i2: 60\n",
      " atom1: #<ATOM :B/:B> atom2: #<ATOM :C_118/:C> i1: 9 i2: 0\n",
      " atom1: #<ATOM :C_114/:C> atom2: #<ATOM :C_112/:C> i1: 12 i2: 27\n",
      " atom1: #<ATOM :OH/:O> atom2: #<ATOM :B/:B> i1: 18 i2: 9\n",
      " atom1: #<ATOM :OH/:O> atom2: #<ATOM :HH/:H> i1: 18 i2: 69\n",
      " atom1: #<ATOM :OH/:O> atom2: #<ATOM :B/:B> i1: 21 i2: 9\n",
      " atom1: #<ATOM :OH/:O> atom2: #<ATOM :HH/:H> i1: 21 i2: 66\n",
      " atom1: #<ATOM :O/:O> atom2: #<ATOM :B/:B> i1: 24 i2: 9\n",
      " atom1: #<ATOM :C_112/:C> atom2: #<ATOM :C_110/:C> i1: 27 i2: 15\n",
      " atom1: #<ATOM :C_142/:C> atom2: #<ATOM :O/:O> i1: 30 i2: 24\n",
      " atom1: #<ATOM :C_142/:C> atom2: #<ATOM :H_1421/:H> i1: 30 i2: 45\n",
      " atom1: #<ATOM :C_142/:C> atom2: #<ATOM :H_1422/:H> i1: 30 i2: 48\n",
      " atom1: #<ATOM :C_144/:C> atom2: #<ATOM :C_142/:C> i1: 33 i2: 30\n",
      " atom1: #<ATOM :C_144/:C> atom2: #<ATOM :H_1442/:H> i1: 33 i2: 39\n",
      " atom1: #<ATOM :C_144/:C> atom2: #<ATOM :H_1443/:H> i1: 33 i2: 42\n",
      " atom1: #<ATOM :H_1441/:H> atom2: #<ATOM :C_144/:C> i1: 36 i2: 33\n",
      " atom1: #<ATOM :H_112/:H> atom2: #<ATOM :C_112/:C> i1: 51 i2: 27\n",
      " atom1: #<ATOM :H_110/:H> atom2: #<ATOM :C_110/:C> i1: 54 i2: 15\n",
      " atom1: #<ATOM :H_114/:H> atom2: #<ATOM :C_114/:C> i1: 57 i2: 12\n",
      " atom1: #<ATOM :H_116/:H> atom2: #<ATOM :C_116/:C> i1: 63 i2: 3\n",
      " atom1: #<ATOM :C_118/:C> atom2: #<ATOM :C_116/:C> atom3: #<ATOM :H_116/:H>  key: c2-c2-ha\n",
      " atom1: #<ATOM :C_118/:C> atom2: #<ATOM :C_120/:C> atom3: #<ATOM :H_120/:H>  key: c2-c2-ha\n",
      " atom1: #<ATOM :C_118/:C> atom2: #<ATOM :B/:B> atom3: #<ATOM :OH/:O>  key: c2-b-oh\n",
      " atom1: #<ATOM :C_118/:C> atom2: #<ATOM :B/:B> atom3: #<ATOM :OH/:O>  key: c2-b-oh\n",
      " atom1: #<ATOM :C_118/:C> atom2: #<ATOM :B/:B> atom3: #<ATOM :O/:O>  key: c2-b-os\n",
      " atom1: #<ATOM :C_116/:C> atom2: #<ATOM :C_114/:C> atom3: #<ATOM :H_114/:H>  key: c2-c2-ha\n",
      " atom1: #<ATOM :C_116/:C> atom2: #<ATOM :C_118/:C> atom3: #<ATOM :C_120/:C>  key: c2-c2-c2\n",
      " atom1: #<ATOM :C_116/:C> atom2: #<ATOM :C_118/:C> atom3: #<ATOM :B/:B>  key: b-c2-c2\n",
      " atom1: #<ATOM :C_120/:C> atom2: #<ATOM :C_118/:C> atom3: #<ATOM :B/:B>  key: b-c2-c2\n",
      " atom1: #<ATOM :C_120/:C> atom2: #<ATOM :C_110/:C> atom3: #<ATOM :H_110/:H>  key: c2-c2-ha\n",
      " atom1: #<ATOM :B/:B> atom2: #<ATOM :OH/:O> atom3: #<ATOM :HH/:H>  key: b-oh-ho\n",
      " atom1: #<ATOM :B/:B> atom2: #<ATOM :OH/:O> atom3: #<ATOM :HH/:H>  key: b-oh-ho\n",
      " atom1: #<ATOM :B/:B> atom2: #<ATOM :O/:O> atom3: #<ATOM :C_142/:C>  key: b-os-c3\n",
      " atom1: #<ATOM :C_114/:C> atom2: #<ATOM :C_112/:C> atom3: #<ATOM :H_112/:H>  key: c2-c2-ha\n",
      " atom1: #<ATOM :C_114/:C> atom2: #<ATOM :C_116/:C> atom3: #<ATOM :C_118/:C>  key: c2-c2-c2\n",
      " atom1: #<ATOM :C_114/:C> atom2: #<ATOM :C_116/:C> atom3: #<ATOM :H_116/:H>  key: c2-c2-ha\n",
      " atom1: #<ATOM :C_110/:C> atom2: #<ATOM :C_112/:C> atom3: #<ATOM :C_114/:C>  key: c2-c2-c2\n",
      " atom1: #<ATOM :C_110/:C> atom2: #<ATOM :C_112/:C> atom3: #<ATOM :H_112/:H>  key: c2-c2-ha\n",
      " atom1: #<ATOM :C_110/:C> atom2: #<ATOM :C_120/:C> atom3: #<ATOM :C_118/:C>  key: c2-c2-c2\n",
      " atom1: #<ATOM :C_110/:C> atom2: #<ATOM :C_120/:C> atom3: #<ATOM :H_120/:H>  key: c2-c2-ha\n",
      " atom1: #<ATOM :OH/:O> atom2: #<ATOM :B/:B> atom3: #<ATOM :OH/:O>  key: oh-b-oh\n",
      " atom1: #<ATOM :OH/:O> atom2: #<ATOM :B/:B> atom3: #<ATOM :O/:O>  key: oh-b-os\n",
      " atom1: #<ATOM :OH/:O> atom2: #<ATOM :B/:B> atom3: #<ATOM :O/:O>  key: oh-b-os\n",
      " atom1: #<ATOM :O/:O> atom2: #<ATOM :C_142/:C> atom3: #<ATOM :C_144/:C>  key: c3-c3-os\n",
      " atom1: #<ATOM :O/:O> atom2: #<ATOM :C_142/:C> atom3: #<ATOM :H_1421/:H>  key: h1-c3-os\n",
      " atom1: #<ATOM :O/:O> atom2: #<ATOM :C_142/:C> atom3: #<ATOM :H_1422/:H>  key: h1-c3-os\n",
      " atom1: #<ATOM :C_112/:C> atom2: #<ATOM :C_110/:C> atom3: #<ATOM :C_120/:C>  key: c2-c2-c2\n",
      " atom1: #<ATOM :C_112/:C> atom2: #<ATOM :C_110/:C> atom3: #<ATOM :H_110/:H>  key: c2-c2-ha\n",
      " atom1: #<ATOM :C_112/:C> atom2: #<ATOM :C_114/:C> atom3: #<ATOM :C_116/:C>  key: c2-c2-c2\n",
      " atom1: #<ATOM :C_112/:C> atom2: #<ATOM :C_114/:C> atom3: #<ATOM :H_114/:H>  key: c2-c2-ha\n",
      " atom1: #<ATOM :C_142/:C> atom2: #<ATOM :C_144/:C> atom3: #<ATOM :H_1441/:H>  key: c3-c3-hc\n",
      " atom1: #<ATOM :C_142/:C> atom2: #<ATOM :C_144/:C> atom3: #<ATOM :H_1442/:H>  key: c3-c3-hc\n",
      " atom1: #<ATOM :C_142/:C> atom2: #<ATOM :C_144/:C> atom3: #<ATOM :H_1443/:H>  key: c3-c3-hc\n",
      " atom1: #<ATOM :C_144/:C> atom2: #<ATOM :C_142/:C> atom3: #<ATOM :H_1421/:H>  key: c3-c3-h1\n",
      " atom1: #<ATOM :C_144/:C> atom2: #<ATOM :C_142/:C> atom3: #<ATOM :H_1422/:H>  key: c3-c3-h1\n",
      " atom1: #<ATOM :H_1441/:H> atom2: #<ATOM :C_144/:C> atom3: #<ATOM :H_1442/:H>  key: hc-c3-hc\n",
      " atom1: #<ATOM :H_1441/:H> atom2: #<ATOM :C_144/:C> atom3: #<ATOM :H_1443/:H>  key: hc-c3-hc\n",
      " atom1: #<ATOM :H_1442/:H> atom2: #<ATOM :C_144/:C> atom3: #<ATOM :H_1443/:H>  key: hc-c3-hc\n",
      " atom1: #<ATOM :H_1421/:H> atom2: #<ATOM :C_142/:C> atom3: #<ATOM :H_1422/:H>  key: h1-c3-h1\n",
      " v-vector #(6.65d0 6.65d0 0.2d0 0.2d0 0.1d0 6.65d0 6.65d0 0.1d0 0.1d0 0.1d0\n",
      "            6.65d0 0.1d0 0.1d0 0.1d0 6.65d0 6.65d0 6.65d0 0.38333333333333336d0\n",
      "            0.38333333333333336d0 0.38333333333333336d0 6.65d0 6.65d0 6.65d0\n",
      "            6.65d0 6.65d0 6.65d0 6.65d0 6.65d0 0.25d0 0.0d0 0.25d0 0.0d0 0.25d0\n",
      "            0.0d0 6.65d0 6.65d0 6.65d0 6.65d0 0.15555555555555556d0\n",
      "            0.15555555555555556d0 0.15555555555555556d0 0.15555555555555556d0\n",
      "            0.15555555555555556d0 0.15555555555555556d0 6.65d0 6.65d0 6.65d0\n",
      "            6.65d0)\n",
      "in-vector #(2 2 3 3 3 2 2 6 6 6 2 6 6 6 2 2 2 3 3 3 2 2 2 2 2 2 2 2 1 3 1 3 1 3\n",
      "            2 2 2 2 3 3 3 3 3 3 2 2 2 2)\n",
      "phase-vector #(3.1415939703583717d0 3.1415939703583717d0 0.0d0 0.0d0\n",
      "               3.1415939703583717d0 3.1415939703583717d0 3.1415939703583717d0\n",
      "               3.1415939703583717d0 3.1415939703583717d0 3.1415939703583717d0\n",
      "               3.1415939703583717d0 3.1415939703583717d0 3.1415939703583717d0\n",
      "               3.1415939703583717d0 3.1415939703583717d0 3.1415939703583717d0\n",
      "               3.1415939703583717d0 0.0d0 0.0d0 0.0d0 3.1415939703583717d0\n",
      "               3.1415939703583717d0 3.1415939703583717d0 3.1415939703583717d0\n",
      "               3.1415939703583717d0 3.1415939703583717d0 3.1415939703583717d0\n",
      "               3.1415939703583717d0 0.0d0 0.0d0 0.0d0 0.0d0 0.0d0 0.0d0\n",
      "               3.1415939703583717d0 3.1415939703583717d0 3.1415939703583717d0\n",
      "               3.1415939703583717d0 0.0d0 0.0d0 0.0d0 0.0d0 0.0d0 0.0d0\n",
      "               3.1415939703583717d0 3.1415939703583717d0 3.1415939703583717d0\n",
      "               3.1415939703583717d0)\n",
      "i1-vector #(0 0 0 0 0 3 3 3 3 3 6 6 6 6 6 9 9 9 9 9 12 12 12 12 15 15 15 15 24\n",
      "            24 24 24 24 24 27 27 27 27 36 36 39 39 42 42 51 51 54 57)\n",
      "i2-vector #(3 6 9 9 9 12 0 0 0 0 0 0 0 0 15 0 0 24 24 24 27 27 3 3 27 27 6 6 30\n",
      "            30 30 30 30 30 15 15 12 12 33 33 33 33 33 33 27 27 15 12)\n",
      "i3-vector #(12 15 18 21 24 27 6 9 9 9 3 9 9 9 27 3 6 30 30 30 15 15 0 0 12 12 0\n",
      "            0 33 33 33 33 33 33 6 6 3 3 30 30 30 30 30 30 15 12 6 3)\n",
      "i4-vector #(57 54 69 66 30 51 60 18 21 24 63 18 21 24 51 63 60 33 45 48 6 54 6\n",
      "            9 3 57 3 9 36 36 39 39 42 42 0 60 0 63 45 48 45 48 45 48 54 57 60\n",
      "            63)\n",
      "proper-vector #(T T T T T T T T T T T T T T T T T T T T T T T T T T T T T T T T\n",
      "                T T T T T T T T T T T T T T T T)\n",
      "atom1: #<ATOM :C_118/:C> atom2: #<ATOM :C_116/:C> atom3: #<ATOM :C_114/:C> atom4 #<ATOM :H_114/:H> key: 6.65-2-3.1415939703583717 vi: 6.65d0 ini 2 phase 3.1415939703583717d0\n",
      "  6.65d0 2\n",
      " atom1: #<ATOM :C_118/:C> atom2: #<ATOM :C_120/:C> atom3: #<ATOM :C_110/:C> atom4 #<ATOM :H_110/:H> key: 6.65-2-3.1415939703583717 vi: 6.65d0 ini 2 phase 3.1415939703583717d0\n",
      " atom1: #<ATOM :C_118/:C> atom2: #<ATOM :B/:B> atom3: #<ATOM :OH/:O> atom4 #<ATOM :HH/:H> key: 0.2-3-0.0 vi: 0.2d0 ini 3 phase 0.0d0\n",
      "  0.2d0 3\n",
      " atom1: #<ATOM :C_118/:C> atom2: #<ATOM :B/:B> atom3: #<ATOM :OH/:O> atom4 #<ATOM :HH/:H> key: 0.2-3-0.0 vi: 0.2d0 ini 3 phase 0.0d0\n",
      " atom1: #<ATOM :C_118/:C> atom2: #<ATOM :B/:B> atom3: #<ATOM :O/:O> atom4 #<ATOM :C_142/:C> key: 0.1-3-3.1415939703583717 vi: 0.1d0 ini 3 phase 3.1415939703583717d0\n",
      "  0.1d0 3\n",
      " atom1: #<ATOM :C_116/:C> atom2: #<ATOM :C_114/:C> atom3: #<ATOM :C_112/:C> atom4 #<ATOM :H_112/:H> key: 6.65-2-3.1415939703583717 vi: 6.65d0 ini 2 phase 3.1415939703583717d0\n",
      " atom1: #<ATOM :C_116/:C> atom2: #<ATOM :C_118/:C> atom3: #<ATOM :C_120/:C> atom4 #<ATOM :H_120/:H> key: 6.65-2-3.1415939703583717 vi: 6.65d0 ini 2 phase 3.1415939703583717d0\n",
      " atom1: #<ATOM :C_116/:C> atom2: #<ATOM :C_118/:C> atom3: #<ATOM :B/:B> atom4 #<ATOM :OH/:O> key: 0.1-6-3.1415939703583717 vi: 0.1d0 ini 6 phase 3.1415939703583717d0\n",
      "  0.1d0 6\n",
      " atom1: #<ATOM :C_116/:C> atom2: #<ATOM :C_118/:C> atom3: #<ATOM :B/:B> atom4 #<ATOM :OH/:O> key: 0.1-6-3.1415939703583717 vi: 0.1d0 ini 6 phase 3.1415939703583717d0\n",
      " atom1: #<ATOM :C_116/:C> atom2: #<ATOM :C_118/:C> atom3: #<ATOM :B/:B> atom4 #<ATOM :O/:O> key: 0.1-6-3.1415939703583717 vi: 0.1d0 ini 6 phase 3.1415939703583717d0\n",
      " atom1: #<ATOM :C_120/:C> atom2: #<ATOM :C_118/:C> atom3: #<ATOM :C_116/:C> atom4 #<ATOM :H_116/:H> key: 6.65-2-3.1415939703583717 vi: 6.65d0 ini 2 phase 3.1415939703583717d0\n",
      " atom1: #<ATOM :C_120/:C> atom2: #<ATOM :C_118/:C> atom3: #<ATOM :B/:B> atom4 #<ATOM :OH/:O> key: 0.1-6-3.1415939703583717 vi: 0.1d0 ini 6 phase 3.1415939703583717d0\n",
      " atom1: #<ATOM :C_120/:C> atom2: #<ATOM :C_118/:C> atom3: #<ATOM :B/:B> atom4 #<ATOM :OH/:O> key: 0.1-6-3.1415939703583717 vi: 0.1d0 ini 6 phase 3.1415939703583717d0\n",
      " atom1: #<ATOM :C_120/:C> atom2: #<ATOM :C_118/:C> atom3: #<ATOM :B/:B> atom4 #<ATOM :O/:O> key: 0.1-6-3.1415939703583717 vi: 0.1d0 ini 6 phase 3.1415939703583717d0\n",
      " atom1: #<ATOM :C_120/:C> atom2: #<ATOM :C_110/:C> atom3: #<ATOM :C_112/:C> atom4 #<ATOM :H_112/:H> key: 6.65-2-3.1415939703583717 vi: 6.65d0 ini 2 phase 3.1415939703583717d0\n",
      " atom1: #<ATOM :B/:B> atom2: #<ATOM :C_118/:C> atom3: #<ATOM :C_116/:C> atom4 #<ATOM :H_116/:H> key: 6.65-2-3.1415939703583717 vi: 6.65d0 ini 2 phase 3.1415939703583717d0\n",
      " atom1: #<ATOM :B/:B> atom2: #<ATOM :C_118/:C> atom3: #<ATOM :C_120/:C> atom4 #<ATOM :H_120/:H> key: 6.65-2-3.1415939703583717 vi: 6.65d0 ini 2 phase 3.1415939703583717d0\n",
      " atom1: #<ATOM :B/:B> atom2: #<ATOM :O/:O> atom3: #<ATOM :C_142/:C> atom4 #<ATOM :C_144/:C> key: 0.38333333333333336-3-0.0 vi: 0.38333333333333336d0 ini 3 phase 0.0d0\n",
      "  0.38333333333333336d0 3\n",
      " atom1: #<ATOM :B/:B> atom2: #<ATOM :O/:O> atom3: #<ATOM :C_142/:C> atom4 #<ATOM :H_1421/:H> key: 0.38333333333333336-3-0.0 vi: 0.38333333333333336d0 ini 3 phase 0.0d0\n",
      " atom1: #<ATOM :B/:B> atom2: #<ATOM :O/:O> atom3: #<ATOM :C_142/:C> atom4 #<ATOM :H_1422/:H> key: 0.38333333333333336-3-0.0 vi: 0.38333333333333336d0 ini 3 phase 0.0d0\n",
      " atom1: #<ATOM :C_114/:C> atom2: #<ATOM :C_112/:C> atom3: #<ATOM :C_110/:C> atom4 #<ATOM :C_120/:C> key: 6.65-2-3.1415939703583717 vi: 6.65d0 ini 2 phase 3.1415939703583717d0\n",
      " atom1: #<ATOM :C_114/:C> atom2: #<ATOM :C_112/:C> atom3: #<ATOM :C_110/:C> atom4 #<ATOM :H_110/:H> key: 6.65-2-3.1415939703583717 vi: 6.65d0 ini 2 phase 3.1415939703583717d0\n",
      " atom1: #<ATOM :C_114/:C> atom2: #<ATOM :C_116/:C> atom3: #<ATOM :C_118/:C> atom4 #<ATOM :C_120/:C> key: 6.65-2-3.1415939703583717 vi: 6.65d0 ini 2 phase 3.1415939703583717d0\n",
      " atom1: #<ATOM :C_114/:C> atom2: #<ATOM :C_116/:C> atom3: #<ATOM :C_118/:C> atom4 #<ATOM :B/:B> key: 6.65-2-3.1415939703583717 vi: 6.65d0 ini 2 phase 3.1415939703583717d0\n",
      " atom1: #<ATOM :C_110/:C> atom2: #<ATOM :C_112/:C> atom3: #<ATOM :C_114/:C> atom4 #<ATOM :C_116/:C> key: 6.65-2-3.1415939703583717 vi: 6.65d0 ini 2 phase 3.1415939703583717d0\n",
      " atom1: #<ATOM :C_110/:C> atom2: #<ATOM :C_112/:C> atom3: #<ATOM :C_114/:C> atom4 #<ATOM :H_114/:H> key: 6.65-2-3.1415939703583717 vi: 6.65d0 ini 2 phase 3.1415939703583717d0\n",
      " atom1: #<ATOM :C_110/:C> atom2: #<ATOM :C_120/:C> atom3: #<ATOM :C_118/:C> atom4 #<ATOM :C_116/:C> key: 6.65-2-3.1415939703583717 vi: 6.65d0 ini 2 phase 3.1415939703583717d0\n",
      " atom1: #<ATOM :C_110/:C> atom2: #<ATOM :C_120/:C> atom3: #<ATOM :C_118/:C> atom4 #<ATOM :B/:B> key: 6.65-2-3.1415939703583717 vi: 6.65d0 ini 2 phase 3.1415939703583717d0\n",
      " atom1: #<ATOM :O/:O> atom2: #<ATOM :C_142/:C> atom3: #<ATOM :C_144/:C> atom4 #<ATOM :H_1441/:H> key: 0.25-1-0.0 vi: 0.25d0 ini 1 phase 0.0d0\n",
      "  0.25d0 1\n",
      " atom1: #<ATOM :O/:O> atom2: #<ATOM :C_142/:C> atom3: #<ATOM :C_144/:C> atom4 #<ATOM :H_1441/:H> key: 0.0-3-0.0 vi: 0.0d0 ini 3 phase 0.0d0\n",
      "  0.0d0 3\n",
      " atom1: #<ATOM :O/:O> atom2: #<ATOM :C_142/:C> atom3: #<ATOM :C_144/:C> atom4 #<ATOM :H_1442/:H> key: 0.25-1-0.0 vi: 0.25d0 ini 1 phase 0.0d0\n",
      " atom1: #<ATOM :O/:O> atom2: #<ATOM :C_142/:C> atom3: #<ATOM :C_144/:C> atom4 #<ATOM :H_1442/:H> key: 0.0-3-0.0 vi: 0.0d0 ini 3 phase 0.0d0\n",
      " atom1: #<ATOM :O/:O> atom2: #<ATOM :C_142/:C> atom3: #<ATOM :C_144/:C> atom4 #<ATOM :H_1443/:H> key: 0.25-1-0.0 vi: 0.25d0 ini 1 phase 0.0d0\n",
      " atom1: #<ATOM :O/:O> atom2: #<ATOM :C_142/:C> atom3: #<ATOM :C_144/:C> atom4 #<ATOM :H_1443/:H> key: 0.0-3-0.0 vi: 0.0d0 ini 3 phase 0.0d0\n",
      " atom1: #<ATOM :C_112/:C> atom2: #<ATOM :C_110/:C> atom3: #<ATOM :C_120/:C> atom4 #<ATOM :C_118/:C> key: 6.65-2-3.1415939703583717 vi: 6.65d0 ini 2 phase 3.1415939703583717d0\n",
      " atom1: #<ATOM :C_112/:C> atom2: #<ATOM :C_110/:C> atom3: #<ATOM :C_120/:C> atom4 #<ATOM :H_120/:H> key: 6.65-2-3.1415939703583717 vi: 6.65d0 ini 2 phase 3.1415939703583717d0\n",
      " atom1: #<ATOM :C_112/:C> atom2: #<ATOM :C_114/:C> atom3: #<ATOM :C_116/:C> atom4 #<ATOM :C_118/:C> key: 6.65-2-3.1415939703583717 vi: 6.65d0 ini 2 phase 3.1415939703583717d0\n",
      " atom1: #<ATOM :C_112/:C> atom2: #<ATOM :C_114/:C> atom3: #<ATOM :C_116/:C> atom4 #<ATOM :H_116/:H> key: 6.65-2-3.1415939703583717 vi: 6.65d0 ini 2 phase 3.1415939703583717d0\n",
      " atom1: #<ATOM :H_1441/:H> atom2: #<ATOM :C_144/:C> atom3: #<ATOM :C_142/:C> atom4 #<ATOM :H_1421/:H> key: 0.15555555555555556-3-0.0 vi: 0.15555555555555556d0 ini 3 phase 0.0d0\n",
      "  0.15555555555555556d0 3\n",
      " atom1: #<ATOM :H_1441/:H> atom2: #<ATOM :C_144/:C> atom3: #<ATOM :C_142/:C> atom4 #<ATOM :H_1422/:H> key: 0.15555555555555556-3-0.0 vi: 0.15555555555555556d0 ini 3 phase 0.0d0\n",
      " atom1: #<ATOM :H_1442/:H> atom2: #<ATOM :C_144/:C> atom3: #<ATOM :C_142/:C> atom4 #<ATOM :H_1421/:H> key: 0.15555555555555556-3-0.0 vi: 0.15555555555555556d0 ini 3 phase 0.0d0\n",
      " atom1: #<ATOM :H_1442/:H> atom2: #<ATOM :C_144/:C> atom3: #<ATOM :C_142/:C> atom4 #<ATOM :H_1422/:H> key: 0.15555555555555556-3-0.0 vi: 0.15555555555555556d0 ini 3 phase 0.0d0\n",
      " atom1: #<ATOM :H_1443/:H> atom2: #<ATOM :C_144/:C> atom3: #<ATOM :C_142/:C> atom4 #<ATOM :H_1421/:H> key: 0.15555555555555556-3-0.0 vi: 0.15555555555555556d0 ini 3 phase 0.0d0\n",
      " atom1: #<ATOM :H_1443/:H> atom2: #<ATOM :C_144/:C> atom3: #<ATOM :C_142/:C> atom4 #<ATOM :H_1422/:H> key: 0.15555555555555556-3-0.0 vi: 0.15555555555555556d0 ini 3 phase 0.0d0\n",
      " atom1: #<ATOM :H_112/:H> atom2: #<ATOM :C_112/:C> atom3: #<ATOM :C_110/:C> atom4 #<ATOM :H_110/:H> key: 6.65-2-3.1415939703583717 vi: 6.65d0 ini 2 phase 3.1415939703583717d0\n",
      " atom1: #<ATOM :H_112/:H> atom2: #<ATOM :C_112/:C> atom3: #<ATOM :C_114/:C> atom4 #<ATOM :H_114/:H> key: 6.65-2-3.1415939703583717 vi: 6.65d0 ini 2 phase 3.1415939703583717d0\n",
      " atom1: #<ATOM :H_110/:H> atom2: #<ATOM :C_110/:C> atom3: #<ATOM :C_120/:C> atom4 #<ATOM :H_120/:H> key: 6.65-2-3.1415939703583717 vi: 6.65d0 ini 2 phase 3.1415939703583717d0\n",
      " atom1: #<ATOM :H_114/:H> atom2: #<ATOM :C_114/:C> atom3: #<ATOM :C_116/:C> atom4 #<ATOM :H_116/:H> key: 6.65-2-3.1415939703583717 vi: 6.65d0 ini 2 phase 3.1415939703583717d0\n",
      " residue-count 1\n",
      "molecule-count 1\n"
     ]
    },
    {
     "data": {
      "text/plain": [
       "0"
      ]
     },
     "execution_count": 41,
     "metadata": {},
     "output_type": "execute_result"
    }
   ],
   "source": [
    "(leap.topology:save-amber-parm-format *chemagg* \"boronic-ester.top\" \"boronic-ester.crd\" *ff* :assign-types nil)"
   ]
  },
  {
   "cell_type": "code",
   "execution_count": 29,
   "metadata": {},
   "outputs": [
    {
     "name": "stderr",
     "output_type": "stream",
     "text": [
      "SIMPLE-ERROR: \n",
      "Could not find file spiroligomer transglycosylase copy.cdxml\n"
     ]
    },
    {
     "data": {
      "text/plain": [
       "NIL"
      ]
     },
     "execution_count": 29,
     "metadata": {},
     "output_type": "execute_result"
    }
   ],
   "source": [
    "(defparameter *cat* (cando:load-chem-draw-aggregate \"spiroligomer transglycosylase copy.cdxml\"))"
   ]
  },
  {
   "cell_type": "code",
   "execution_count": 117,
   "metadata": {},
   "outputs": [
    {
     "data": {
      "text/plain": [
       "NIL"
      ]
     },
     "execution_count": 117,
     "metadata": {},
     "output_type": "execute_result"
    }
   ],
   "source": [
    "(build-hydrogens *cat*)"
   ]
  },
  {
   "cell_type": "code",
   "execution_count": 118,
   "metadata": {},
   "outputs": [
    {
     "data": {
      "application/vnd.jupyter.widget-view+json": {
       "model_id": "523CA619-CB9F-4D3E-800C-3AB6FEE5EC82",
       "version_major": 2,
       "version_minor": 0
      },
      "text/plain": [
       "A Jupyter Widget"
      ]
     },
     "execution_count": 118,
     "metadata": {},
     "output_type": "execute_result"
    }
   ],
   "source": [
    "(nglv::show-aggregate *cat*)"
   ]
  },
  {
   "cell_type": "code",
   "execution_count": 119,
   "metadata": {},
   "outputs": [
    {
     "name": "stdout",
     "output_type": "stream",
     "text": [
      "C_108  S\n",
      "C_110  S\n",
      "C_133  S\n",
      "C_135  S\n",
      "C_158  S\n",
      "C_160  S\n",
      "C_183  S\n",
      "C_185  S\n",
      "C_208  S\n",
      "C_210  S\n",
      "C_303  S\n",
      "C_305  S\n",
      "C_313  S\n",
      "C_315  S\n",
      "C_323  S\n",
      "C_325  S\n",
      "C_333  S\n",
      "C_335  S\n",
      "C_343  S\n",
      "C_345  S\n",
      "C_500  S\n",
      "Set atom C_305 to :S\n",
      "Set atom C_315 to :S\n",
      "Set atom C_325 to :S\n",
      "Set atom C_210 to :S\n",
      "Set atom C_335 to :S\n",
      "Set atom C_185 to :S\n",
      "Set atom C_345 to :S\n",
      "Set atom C_160 to :S\n",
      "Set atom C_135 to :S\n",
      "Set atom C_110 to :S\n"
     ]
    },
    {
     "data": {
      "text/plain": [
       "NIL"
      ]
     },
     "execution_count": 119,
     "metadata": {},
     "output_type": "execute_result"
    }
   ],
   "source": [
    "(progn\n",
    "  (defparameter *stereocenters*\n",
    "    (sort (cando:gather-stereocenters *cat*) #'string< :key #'chem:get-name))\n",
    "  (cando:set-stereoisomer-func *stereocenters* (constantly :S) :show t)\n",
    "  (let ((quat-matcher (core:make-cxx-object 'chem:chem-info)))\n",
    "    (chem:compile-smarts quat-matcher \"[C&H0&D4]\")\n",
    "    (chem:map-atoms nil (lambda (a) (when (chem:matches quat-matcher a)\n",
    "                  (chem:set-configuration a :S)\n",
    "                  (format t \"Set atom ~a to :S~%\" (chem:get-name a))))\n",
    "            *cat*)))"
   ]
  },
  {
   "cell_type": "code",
   "execution_count": 120,
   "metadata": {},
   "outputs": [
    {
     "data": {
      "text/plain": [
       "NIL"
      ]
     },
     "execution_count": 120,
     "metadata": {},
     "output_type": "execute_result"
    }
   ],
   "source": [
    "(chem:assign-types *ff* *cat*)"
   ]
  },
  {
   "cell_type": "code",
   "execution_count": 121,
   "metadata": {},
   "outputs": [
    {
     "data": {
      "text/plain": [
       "NIL"
      ]
     },
     "execution_count": 121,
     "metadata": {},
     "output_type": "execute_result"
    }
   ],
   "source": [
    "(jostle *cat*)"
   ]
  },
  {
   "cell_type": "code",
   "execution_count": 122,
   "metadata": {
    "scrolled": true
   },
   "outputs": [
    {
     "name": "stderr",
     "output_type": "stream",
     "text": [
      "SIMPLE-PROGRAM-ERROR: \n",
      "Could not find FFNonbondDb type index for type :B\n"
     ]
    },
    {
     "data": {
      "text/plain": [
       "NIL"
      ]
     },
     "execution_count": 122,
     "metadata": {},
     "output_type": "execute_result"
    }
   ],
   "source": [
    "(energy:minimize *cat* :force-field *ff* :restraints-on t)"
   ]
  },
  {
   "cell_type": "code",
   "execution_count": 12,
   "metadata": {},
   "outputs": [
    {
     "name": "stdout",
     "output_type": "stream",
     "text": [
      "swank-loader -> /Users/tuj24515/Development/slime/swank-loader.lisp\n",
      "\n",
      "\"Read: (DEFPACKAGE :SWANK-LOADER (:USE :CL) (:EXPORT :INIT :DUMP-IMAGE :LIST-FASLS :*SOURCE-DIRECTORY* :*FASL-DIRECTORY*))\n",
      "\" \n",
      "\"Read: (IN-PACKAGE :SWANK-LOADER)\n",
      "\" \n",
      "\"Read: (DEFVAR *SOURCE-DIRECTORY* (MAKE-PATHNAME :NAME NIL :TYPE NIL :DEFAULTS (OR *LOAD-PATHNAME* *DEFAULT-PATHNAME-DEFAULTS*)) The directory where to look for the source.)\n",
      "\" \n",
      "\"Read: (DEFPARAMETER *SYSDEP-FILES* (QUOTE ((SWANK CLASP) (SWANK GRAY))))\n",
      "\" \n",
      "\"Read: (DEFPARAMETER *IMPLEMENTATION-FEATURES* (QUOTE (:ALLEGRO :LISPWORKS :SBCL :CLOZURE :CMU :CLISP :CCL :CORMAN :CORMANLISP :ARMEDBEAR :GCL :ECL :SCL :MKCL :CLASP)))\n",
      "\" \n",
      "\"Read: (DEFPARAMETER *OS-FEATURES* (QUOTE (:MACOSX :LINUX :WINDOWS :MSWINDOWS :WIN32 :SOLARIS :DARWIN :SUNOS :HPUX :UNIX)))\n",
      "\" \n",
      "\"Read: (DEFPARAMETER *ARCHITECTURE-FEATURES* (QUOTE (:POWERPC :PPC :X86 :X86-64 :X86_64 :AMD64 :I686 :I586 :I486 :PC386 :IAPX386 :SPARC64 :SPARC :HPPA64 :HPPA :ARM :ARMV5L :ARMV6L :ARMV7L :ARM64 :PENTIUM3 :PENTIUM4 :MIPS :MIPSEL :JAVA-1.4 :JAVA-1.5 :JAVA-1.6 :JAVA-1.7)))\n",
      "\" \n",
      "\"Read: (DEFUN Q (S) (READ-FROM-STRING S))\n",
      "\" \n",
      "\"Read: (DEFUN CLASP-VERSION-STRING NIL (FORMAT NIL ~A~@[-~A~] (LISP-IMPLEMENTATION-VERSION) (LISP-IMPLEMENTATION-ID)))\n",
      "\" \n",
      "\"Read: (DEFUN LISP-VERSION-STRING NIL (CLASP-VERSION-STRING))\n",
      "\" \n",
      "\"Read: (DEFUN UNIQUE-DIR-NAME NIL Return a name that can be used as a directory name that is\n",
      "unique to a Lisp implementation, Lisp implementation version,\n",
      "operating system, and hardware architecture. (FLET ((FIRST-OF (FEATURES) (LOOP FOR F IN FEATURES WHEN (FIND F *FEATURES*) RETURN IT)) (MAYBE-WARN (VALUE FSTRING &REST ARGS) (COND (VALUE) (T (APPLY (FUNCTION WARN) FSTRING ARGS) unknown)))) (LET ((LISP (MAYBE-WARN (FIRST-OF *IMPLEMENTATION-FEATURES*) No implementation feature found in ~a. *IMPLEMENTATION-FEATURES*)) (OS (MAYBE-WARN (FIRST-OF *OS-FEATURES*) No os feature found in ~a. *OS-FEATURES*)) (ARCH (MAYBE-WARN (FIRST-OF *ARCHITECTURE-FEATURES*) No architecture feature found in ~a. *ARCHITECTURE-FEATURES*)) (VERSION (MAYBE-WARN (LISP-VERSION-STRING) Don't know how to get Lisp ~\n",
      "                                implementation version.))) (FORMAT NIL ~(~@{~a~^-~}~) LISP VERSION OS ARCH))))\n",
      "\" \n",
      "\"Read: (DEFUN FILE-NEWER-P (NEW-FILE OLD-FILE) Returns true if NEW-FILE is newer than OLD-FILE. (> (FILE-WRITE-DATE NEW-FILE) (FILE-WRITE-DATE OLD-FILE)))\n",
      "\" \n",
      "\"Read: (DEFUN STRING-STARTS-WITH (STRING PREFIX) (STRING-EQUAL STRING PREFIX :END1 (MIN (LENGTH STRING) (LENGTH PREFIX))))\n",
      "\" \n",
      "\"Read: (DEFUN SLIME-VERSION-STRING NIL Return a string identifying the SLIME version.\n",
      "Return nil if nothing appropriate is available. (WITH-OPEN-FILE (S (MERGE-PATHNAMES slime.el *SOURCE-DIRECTORY*) :IF-DOES-NOT-EXIST NIL) (LOOP WITH PREFIX = ;; Version:  FOR LINE = (READ-LINE S NIL :EOF) UNTIL (EQ LINE :EOF) WHEN (STRING-STARTS-WITH LINE PREFIX) RETURN (SUBSEQ LINE (LENGTH PREFIX)))))\n",
      "\" \n",
      "\"Read: (DEFUN DEFAULT-FASL-DIR NIL (MERGE-PATHNAMES (MAKE-PATHNAME :DIRECTORY (BACKQUOTE (:RELATIVE .slime fasl (UNQUOTE-SPLICE (IF (SLIME-VERSION-STRING) (LIST (SLIME-VERSION-STRING)))) (UNQUOTE (UNIQUE-DIR-NAME))))) (USER-HOMEDIR-PATHNAME)))\n",
      "\" \n",
      "\"Read: (DEFVAR *FASL-DIRECTORY* (DEFAULT-FASL-DIR) The directory where fasl files should be placed.)\n",
      "\" \n",
      "\"Read: (DEFUN BINARY-PATHNAME (SRC-PATHNAME BINARY-DIR) Return the pathname where SRC-PATHNAME's binary should be compiled. (LET ((CFP (COMPILE-FILE-PATHNAME SRC-PATHNAME))) (MERGE-PATHNAMES (MAKE-PATHNAME :NAME (PATHNAME-NAME CFP) :TYPE (PATHNAME-TYPE CFP)) BINARY-DIR)))\n",
      "\" \n",
      "\"Read: (DEFUN HANDLE-SWANK-LOAD-ERROR (CONDITION CONTEXT PATHNAME) (FRESH-LINE *ERROR-OUTPUT*) (PPRINT-LOGICAL-BLOCK (*ERROR-OUTPUT* NIL :PER-LINE-PREFIX ;; ) (FORMAT *ERROR-OUTPUT* ~%Error ~A ~A:~%  ~A~% CONTEXT PATHNAME CONDITION)))\n",
      "\" \n",
      "\"Read: (DEFUN COMPILE-FILES (FILES FASL-DIR LOAD QUIET) Compile each file in FILES if the source is newer than its\n",
      "corresponding binary, or the file preceding it was recompiled.\n",
      "If LOAD is true, load the fasl file. (LET ((NEEDS-RECOMPILE NIL) (STATE :UNKNOWN)) (DOLIST (SRC FILES) (LET ((DEST (BINARY-PATHNAME SRC FASL-DIR))) (HANDLER-BIND ((ERROR (LAMBDA (C) (ECASE STATE (:COMPILE (HANDLE-SWANK-LOAD-ERROR C compiling SRC)) (:LOAD (HANDLE-SWANK-LOAD-ERROR C loading DEST)) (:UNKNOWN (HANDLE-SWANK-LOAD-ERROR C ???ing SRC)))))) (WHEN (OR NEEDS-RECOMPILE (NOT (PROBE-FILE DEST)) (FILE-NEWER-P SRC DEST)) (ENSURE-DIRECTORIES-EXIST DEST) (SETF NEEDS-RECOMPILE T STATE :COMPILE) (OR (COMPILE-FILE SRC :OUTPUT-FILE DEST :PRINT NIL :VERBOSE (NOT QUIET)) (ERROR COMPILE-FILE returned NIL.))) (WHEN LOAD (SETF STATE :LOAD) (LOAD DEST :VERBOSE (NOT QUIET))))))))\n",
      "\" \n",
      "\"Read: (DEFUN LOAD-USER-INIT-FILE NIL Load the user init file, return NIL if it does not exist. (LOAD (MERGE-PATHNAMES (USER-HOMEDIR-PATHNAME) (MAKE-PATHNAME :NAME .swank :TYPE lisp)) :IF-DOES-NOT-EXIST NIL))\n",
      "\" \n",
      "\"Read: (DEFUN LOAD-SITE-INIT-FILE (DIR) (LOAD (MAKE-PATHNAME :NAME site-init :TYPE lisp :DEFAULTS DIR) :IF-DOES-NOT-EXIST NIL))\n",
      "\" \n",
      "\"Read: (DEFUN SRC-FILES (NAMES SRC-DIR) (MAPCAR (LAMBDA (NAME) (MULTIPLE-VALUE-BIND (DIRS NAME) (ETYPECASE NAME (SYMBOL (VALUES (QUOTE NIL) NAME)) (CONS (VALUES (BUTLAST NAME) (CAR (LAST NAME))))) (MAKE-PATHNAME :DIRECTORY (APPEND (OR (PATHNAME-DIRECTORY SRC-DIR) (QUOTE (:RELATIVE))) (MAPCAR (FUNCTION STRING-DOWNCASE) DIRS)) :NAME (STRING-DOWNCASE NAME) :TYPE lisp :DEFAULTS SRC-DIR))) NAMES))\n",
      "\" \n",
      "\"Read: (DEFVAR *SWANK-FILES* (BACKQUOTE (PACKAGES (SWANK BACKEND) (UNQUOTE-SPLICE *SYSDEP-FILES*) (SWANK MATCH) (SWANK RPC) SWANK)))\n",
      "\" \n",
      "\"Read: (DEFVAR *CONTRIBS* (QUOTE (SWANK-UTIL SWANK-REPL SWANK-C-P-C SWANK-ARGLISTS SWANK-FUZZY SWANK-FANCY-INSPECTOR SWANK-PRESENTATIONS SWANK-PRESENTATION-STREAMS SWANK-ASDF SWANK-PACKAGE-FU SWANK-HYPERDOC SWANK-MREPL SWANK-TRACE-DIALOG SWANK-MACROSTEP SWANK-QUICKLISP)) List of names for contrib modules.)\n",
      "\" \n",
      "\"Read: (DEFUN APPEND-DIR (ABSOLUTE NAME) (MERGE-PATHNAMES (MAKE-PATHNAME :DIRECTORY (BACKQUOTE (:RELATIVE (UNQUOTE NAME))) :DEFAULTS ABSOLUTE) ABSOLUTE))\n",
      "\" \n",
      "\"Read: (DEFUN CONTRIB-DIR (BASE-DIR) (APPEND-DIR BASE-DIR contrib))\n",
      "\" \n",
      "\"Read: (DEFUN LOAD-SWANK (&KEY (SRC-DIR *SOURCE-DIRECTORY*) (FASL-DIR *FASL-DIRECTORY*) QUIET) (WITH-COMPILATION-UNIT NIL (COMPILE-FILES (SRC-FILES *SWANK-FILES* SRC-DIR) FASL-DIR T QUIET)) (FUNCALL (Q swank::before-init) (SLIME-VERSION-STRING) (LIST (CONTRIB-DIR FASL-DIR) (CONTRIB-DIR SRC-DIR))))\n",
      "\" \n",
      "\"Read: (DEFUN DELETE-STALE-CONTRIB-FASL-FILES (SWANK-FILES CONTRIB-FILES FASL-DIR) (LET ((NEWEST (REDUCE (FUNCTION MAX) (MAPCAR (FUNCTION FILE-WRITE-DATE) SWANK-FILES)))) (DOLIST (SRC CONTRIB-FILES) (LET ((FASL (BINARY-PATHNAME SRC FASL-DIR))) (WHEN (AND (PROBE-FILE FASL) (<= (FILE-WRITE-DATE FASL) NEWEST)) (DELETE-FILE FASL))))))\n",
      "\" \n",
      "\"Read: (DEFUN COMPILE-CONTRIBS (&KEY (SRC-DIR (CONTRIB-DIR *SOURCE-DIRECTORY*)) (FASL-DIR (CONTRIB-DIR *FASL-DIRECTORY*)) (SWANK-SRC-DIR *SOURCE-DIRECTORY*) LOAD QUIET) (LET* ((SWANK-SRC-FILES (SRC-FILES *SWANK-FILES* SWANK-SRC-DIR)) (CONTRIB-SRC-FILES (SRC-FILES *CONTRIBS* SRC-DIR))) (DELETE-STALE-CONTRIB-FASL-FILES SWANK-SRC-FILES CONTRIB-SRC-FILES FASL-DIR) (COMPILE-FILES CONTRIB-SRC-FILES FASL-DIR LOAD QUIET)))\n",
      "\" \n",
      "\"Read: (DEFUN LOADUP NIL (LOAD-SWANK) (COMPILE-CONTRIBS :LOAD T))\n",
      "\" \n",
      "\"Read: (DEFUN SETUP NIL (LOAD-SITE-INIT-FILE *SOURCE-DIRECTORY*) (LOAD-USER-INIT-FILE) (WHEN (PROBE-FILE (CONTRIB-DIR *SOURCE-DIRECTORY*)) (EVAL (BACKQUOTE (PUSHNEW (QUOTE COMPILE-CONTRIBS) (UNQUOTE (Q swank::*after-init-hook*)))))) (FUNCALL (Q swank::init)))\n",
      "\" \n",
      "\"Read: (DEFUN LIST-SWANK-PACKAGES NIL (REMOVE-IF-NOT (LAMBDA (PACKAGE) (LET ((NAME (PACKAGE-NAME PACKAGE))) (AND (STRING-NOT-EQUAL NAME swank-loader) (STRING-STARTS-WITH NAME swank)))) (LIST-ALL-PACKAGES)))\n",
      "\" \n",
      "\"Read: (DEFUN DELETE-PACKAGES (PACKAGES) (DOLIST (PACKAGE PACKAGES) (FLET ((HANDLE-PACKAGE-ERROR (C) (LET ((PKGS (SET-DIFFERENCE (PACKAGE-USED-BY-LIST PACKAGE) PACKAGES))) (WHEN PKGS (WARN deleting ~a which is used by ~{~a~^, ~}. PACKAGE PKGS)) (CONTINUE C)))) (HANDLER-BIND ((PACKAGE-ERROR (FUNCTION HANDLE-PACKAGE-ERROR))) (DELETE-PACKAGE PACKAGE)))))\n",
      "\" \n",
      "\"Read: (DEFUN INIT (&KEY DELETE RELOAD LOAD-CONTRIBS (SETUP T) (QUIET (NOT *LOAD-VERBOSE*))) Load SWANK and initialize some global variables.\n",
      "If DELETE is true, delete any existing SWANK packages.\n",
      "If RELOAD is true, reload SWANK, even if the SWANK package already exists.\n",
      "If LOAD-CONTRIBS is true, load all contribs\n",
      "If SETUP is true, load user init files and initialize some\n",
      "global variabes in SWANK. (WHEN (AND DELETE (FIND-PACKAGE :SWANK)) (DELETE-PACKAGES (LIST-SWANK-PACKAGES))) (COND ((OR (NOT (FIND-PACKAGE :SWANK)) RELOAD) (LOAD-SWANK :QUIET QUIET)) (T (WARN Not reloading SWANK.  Package already exists.))) (WHEN LOAD-CONTRIBS (COMPILE-CONTRIBS :LOAD T :QUIET QUIET)) (WHEN SETUP (SETUP)))\n",
      "\" \n",
      "\"Read: (DEFUN DUMP-IMAGE (FILENAME) (INIT :SETUP NIL) (FUNCALL (Q swank/backend:save-image) FILENAME))\n",
      "\" \n",
      "\"Read: (DEFUN LIST-FASLS (&KEY (INCLUDE-CONTRIBS T) (COMPILE T) (QUIET (NOT *COMPILE-VERBOSE*))) List up SWANK's fasls along with their dependencies. (FLET ((COLLECT-FASLS (FILES FASL-DIR) (WHEN COMPILE (COMPILE-FILES FILES FASL-DIR NIL QUIET)) (LOOP FOR SRC IN FILES WHEN (PROBE-FILE (BINARY-PATHNAME SRC FASL-DIR)) COLLECT IT))) (APPEND (COLLECT-FASLS (SRC-FILES *SWANK-FILES* *SOURCE-DIRECTORY*) *FASL-DIRECTORY*) (WHEN INCLUDE-CONTRIBS (COLLECT-FASLS (SRC-FILES *CONTRIBS* (CONTRIB-DIR *SOURCE-DIRECTORY*)) (CONTRIB-DIR *FASL-DIRECTORY*))))))\n",
      "\" "
     ]
    },
    {
     "data": {
      "text/plain": [
       "T"
      ]
     },
     "execution_count": 12,
     "metadata": {},
     "output_type": "execute_result"
    }
   ],
   "source": [
    "(start-swank)"
   ]
  },
  {
   "cell_type": "code",
   "execution_count": 6,
   "metadata": {},
   "outputs": [
    {
     "data": {
      "text/plain": [
       "NIL"
      ]
     },
     "execution_count": 6,
     "metadata": {},
     "output_type": "execute_result"
    }
   ],
   "source": [
    "(load-off \"tip3pfbox.off\")"
   ]
  },
  {
   "cell_type": "code",
   "execution_count": 5,
   "metadata": {},
   "outputs": [
    {
     "data": {
      "application/vnd.jupyter.widget-view+json": {
       "model_id": "0A3BB015-EB88-47F1-B082-9AB942AB0E80",
       "version_major": 2,
       "version_minor": 0
      },
      "text/plain": [
       "A Jupyter Widget"
      ]
     },
     "execution_count": 5,
     "metadata": {},
     "output_type": "execute_result"
    }
   ],
   "source": [
    "(nglv::show-aggregate ~tip3pfbox)"
   ]
  },
  {
   "cell_type": "code",
   "execution_count": 7,
   "metadata": {},
   "outputs": [
    {
     "name": "stdout",
     "output_type": "stream",
     "text": [
      "\n",
      "AGGREGATE "
     ]
    },
    {
     "data": {
      "text/plain": [
       "AGGREGATE"
      ]
     },
     "execution_count": 7,
     "metadata": {},
     "output_type": "execute_result"
    }
   ],
   "source": [
    "(print ~tip3pfbox)"
   ]
  },
  {
   "cell_type": "code",
   "execution_count": 4,
   "metadata": {},
   "outputs": [
    {
     "data": {
      "text/plain": [
       "*SOLVENT*"
      ]
     },
     "execution_count": 4,
     "metadata": {},
     "output_type": "execute_result"
    }
   ],
   "source": [
    "(defparameter *solvent* ~tip3pfbox)"
   ]
  },
  {
   "cell_type": "code",
   "execution_count": 5,
   "metadata": {},
   "outputs": [
    {
     "data": {
      "text/plain": [
       "AGGREGATE"
      ]
     },
     "execution_count": 5,
     "metadata": {},
     "output_type": "execute_result"
    }
   ],
   "source": [
    "*solvent*"
   ]
  },
  {
   "cell_type": "code",
   "execution_count": 8,
   "metadata": {},
   "outputs": [
    {
     "name": "stdout",
     "output_type": "stream",
     "text": [
      "\n",
      "#<ATOM :O/:O> \n",
      "#<ATOM :H1/:H> \n",
      "#<ATOM :H2/:H> \n",
      "#<ATOM :O/:O> \n",
      "#<ATOM :H1/:H> \n",
      "#<ATOM :H2/:H> \n",
      "#<ATOM :O/:O> \n",
      "#<ATOM :H1/:H> \n",
      "#<ATOM :H2/:H> \n",
      "#<ATOM :O/:O> \n",
      "#<ATOM :H1/:H> \n",
      "#<ATOM :H2/:H> \n",
      "#<ATOM :O/:O> \n",
      "#<ATOM :H1/:H> \n",
      "#<ATOM :H2/:H> \n",
      "#<ATOM :O/:O> \n",
      "#<ATOM :H1/:H> \n",
      "#<ATOM :H2/:H> \n",
      "#<ATOM :O/:O> \n",
      "#<ATOM :H1/:H> \n",
      "#<ATOM :H2/:H> \n",
      "#<ATOM :O/:O> \n",
      "#<ATOM :H1/:H> \n",
      "#<ATOM :H2/:H> \n",
      "#<ATOM :O/:O> \n",
      "#<ATOM :H1/:H> \n",
      "#<ATOM :H2/:H> \n",
      "#<ATOM :O/:O> \n",
      "#<ATOM :H1/:H> \n",
      "#<ATOM :H2/:H> \n",
      "#<ATOM :O/:O> \n",
      "#<ATOM :H1/:H> \n",
      "#<ATOM :H2/:H> \n",
      "#<ATOM :O/:O> \n",
      "#<ATOM :H1/:H> \n",
      "#<ATOM :H2/:H> \n",
      "#<ATOM :O/:O> \n",
      "#<ATOM :H1/:H> \n",
      "#<ATOM :H2/:H> \n",
      "#<ATOM :O/:O> \n",
      "#<ATOM :H1/:H> \n",
      "#<ATOM :H2/:H> \n",
      "#<ATOM :O/:O> \n",
      "#<ATOM :H1/:H> \n",
      "#<ATOM :H2/:H> \n",
      "#<ATOM :O/:O> \n",
      "#<ATOM :H1/:H> \n",
      "#<ATOM :H2/:H> \n",
      "#<ATOM :O/:O> \n",
      "#<ATOM :H1/:H> \n",
      "#<ATOM :H2/:H> \n",
      "#<ATOM :O/:O> \n",
      "#<ATOM :H1/:H> \n",
      "#<ATOM :H2/:H> \n",
      "#<ATOM :O/:O> \n",
      "#<ATOM :H1/:H> \n",
      "#<ATOM :H2/:H> \n",
      "#<ATOM :O/:O> \n",
      "#<ATOM :H1/:H> \n",
      "#<ATOM :H2/:H> \n",
      "#<ATOM :O/:O> \n",
      "#<ATOM :H1/:H> \n",
      "#<ATOM :H2/:H> \n",
      "#<ATOM :O/:O> \n",
      "#<ATOM :H1/:H> \n",
      "#<ATOM :H2/:H> \n",
      "#<ATOM :O/:O> \n",
      "#<ATOM :H1/:H> \n",
      "#<ATOM :H2/:H> \n",
      "#<ATOM :O/:O> \n",
      "#<ATOM :H1/:H> \n",
      "#<ATOM :H2/:H> \n",
      "#<ATOM :O/:O> \n",
      "#<ATOM :H1/:H> \n",
      "#<ATOM :H2/:H> \n",
      "#<ATOM :O/:O> \n",
      "#<ATOM :H1/:H> \n",
      "#<ATOM :H2/:H> \n",
      "#<ATOM :O/:O> \n",
      "#<ATOM :H1/:H> \n",
      "#<ATOM :H2/:H> \n",
      "#<ATOM :O/:O> \n",
      "#<ATOM :H1/:H> \n",
      "#<ATOM :H2/:H> \n",
      "#<ATOM :O/:O> \n",
      "#<ATOM :H1/:H> \n",
      "#<ATOM :H2/:H> \n",
      "#<ATOM :O/:O> \n",
      "#<ATOM :H1/:H> \n",
      "#<ATOM :H2/:H> \n",
      "#<ATOM :O/:O> \n",
      "#<ATOM :H1/:H> \n",
      "#<ATOM :H2/:H> \n",
      "#<ATOM :O/:O> \n",
      "#<ATOM :H1/:H> \n",
      "#<ATOM :H2/:H> \n",
      "#<ATOM :O/:O> \n",
      "#<ATOM :H1/:H> \n",
      "#<ATOM :H2/:H> \n",
      "#<ATOM :O/:O> \n",
      "#<ATOM :H1/:H> \n",
      "#<ATOM :H2/:H> \n",
      "#<ATOM :O/:O> \n",
      "#<ATOM :H1/:H> \n",
      "#<ATOM :H2/:H> \n",
      "#<ATOM :O/:O> \n",
      "#<ATOM :H1/:H> \n",
      "#<ATOM :H2/:H> \n",
      "#<ATOM :O/:O> \n",
      "#<ATOM :H1/:H> \n",
      "#<ATOM :H2/:H> \n",
      "#<ATOM :O/:O> \n",
      "#<ATOM :H1/:H> \n",
      "#<ATOM :H2/:H> \n",
      "#<ATOM :O/:O> \n",
      "#<ATOM :H1/:H> \n",
      "#<ATOM :H2/:H> \n",
      "#<ATOM :O/:O> \n",
      "#<ATOM :H1/:H> \n",
      "#<ATOM :H2/:H> \n",
      "#<ATOM :O/:O> \n",
      "#<ATOM :H1/:H> \n",
      "#<ATOM :H2/:H> \n",
      "#<ATOM :O/:O> \n",
      "#<ATOM :H1/:H> \n",
      "#<ATOM :H2/:H> \n",
      "#<ATOM :O/:O> \n",
      "#<ATOM :H1/:H> \n",
      "#<ATOM :H2/:H> \n",
      "#<ATOM :O/:O> \n",
      "#<ATOM :H1/:H> \n",
      "#<ATOM :H2/:H> \n",
      "#<ATOM :O/:O> \n",
      "#<ATOM :H1/:H> \n",
      "#<ATOM :H2/:H> \n",
      "#<ATOM :O/:O> \n",
      "#<ATOM :H1/:H> \n",
      "#<ATOM :H2/:H> \n",
      "#<ATOM :O/:O> \n",
      "#<ATOM :H1/:H> \n",
      "#<ATOM :H2/:H> \n",
      "#<ATOM :O/:O> \n",
      "#<ATOM :H1/:H> \n",
      "#<ATOM :H2/:H> \n",
      "#<ATOM :O/:O> \n",
      "#<ATOM :H1/:H> \n",
      "#<ATOM :H2/:H> \n",
      "#<ATOM :O/:O> \n",
      "#<ATOM :H1/:H> \n",
      "#<ATOM :H2/:H> \n",
      "#<ATOM :O/:O> \n",
      "#<ATOM :H1/:H> \n",
      "#<ATOM :H2/:H> \n",
      "#<ATOM :O/:O> \n",
      "#<ATOM :H1/:H> \n",
      "#<ATOM :H2/:H> \n",
      "#<ATOM :O/:O> \n",
      "#<ATOM :H1/:H> \n",
      "#<ATOM :H2/:H> \n",
      "#<ATOM :O/:O> \n",
      "#<ATOM :H1/:H> \n",
      "#<ATOM :H2/:H> \n",
      "#<ATOM :O/:O> \n",
      "#<ATOM :H1/:H> \n",
      "#<ATOM :H2/:H> \n",
      "#<ATOM :O/:O> \n",
      "#<ATOM :H1/:H> \n",
      "#<ATOM :H2/:H> \n",
      "#<ATOM :O/:O> \n",
      "#<ATOM :H1/:H> \n",
      "#<ATOM :H2/:H> \n",
      "#<ATOM :O/:O> \n",
      "#<ATOM :H1/:H> \n",
      "#<ATOM :H2/:H> \n",
      "#<ATOM :O/:O> \n",
      "#<ATOM :H1/:H> \n",
      "#<ATOM :H2/:H> \n",
      "#<ATOM :O/:O> \n",
      "#<ATOM :H1/:H> \n",
      "#<ATOM :H2/:H> \n",
      "#<ATOM :O/:O> \n",
      "#<ATOM :H1/:H> \n",
      "#<ATOM :H2/:H> \n",
      "#<ATOM :O/:O> \n",
      "#<ATOM :H1/:H> \n",
      "#<ATOM :H2/:H> \n",
      "#<ATOM :O/:O> \n",
      "#<ATOM :H1/:H> \n",
      "#<ATOM :H2/:H> \n",
      "#<ATOM :O/:O> \n",
      "#<ATOM :H1/:H> \n",
      "#<ATOM :H2/:H> \n",
      "#<ATOM :O/:O> \n",
      "#<ATOM :H1/:H> \n",
      "#<ATOM :H2/:H> \n",
      "#<ATOM :O/:O> \n",
      "#<ATOM :H1/:H> \n",
      "#<ATOM :H2/:H> \n",
      "#<ATOM :O/:O> \n",
      "#<ATOM :H1/:H> \n",
      "#<ATOM :H2/:H> \n",
      "#<ATOM :O/:O> \n",
      "#<ATOM :H1/:H> \n",
      "#<ATOM :H2/:H> \n",
      "#<ATOM :O/:O> \n",
      "#<ATOM :H1/:H> \n",
      "#<ATOM :H2/:H> \n",
      "#<ATOM :O/:O> \n",
      "#<ATOM :H1/:H> \n",
      "#<ATOM :H2/:H> \n",
      "#<ATOM :O/:O> \n",
      "#<ATOM :H1/:H> \n",
      "#<ATOM :H2/:H> \n",
      "#<ATOM :O/:O> \n",
      "#<ATOM :H1/:H> \n",
      "#<ATOM :H2/:H> \n",
      "#<ATOM :O/:O> \n",
      "#<ATOM :H1/:H> \n",
      "#<ATOM :H2/:H> \n",
      "#<ATOM :O/:O> \n",
      "#<ATOM :H1/:H> \n",
      "#<ATOM :H2/:H> \n",
      "#<ATOM :O/:O> \n",
      "#<ATOM :H1/:H> \n",
      "#<ATOM :H2/:H> \n",
      "#<ATOM :O/:O> \n",
      "#<ATOM :H1/:H> \n",
      "#<ATOM :H2/:H> \n",
      "#<ATOM :O/:O> \n",
      "#<ATOM :H1/:H> \n",
      "#<ATOM :H2/:H> \n",
      "#<ATOM :O/:O> \n",
      "#<ATOM :H1/:H> \n",
      "#<ATOM :H2/:H> \n",
      "#<ATOM :O/:O> \n",
      "#<ATOM :H1/:H> \n",
      "#<ATOM :H2/:H> \n",
      "#<ATOM :O/:O> \n",
      "#<ATOM :H1/:H> \n",
      "#<ATOM :H2/:H> \n",
      "#<ATOM :O/:O> \n",
      "#<ATOM :H1/:H> \n",
      "#<ATOM :H2/:H> \n",
      "#<ATOM :O/:O> \n",
      "#<ATOM :H1/:H> \n",
      "#<ATOM :H2/:H> \n",
      "#<ATOM :O/:O> \n",
      "#<ATOM :H1/:H> \n",
      "#<ATOM :H2/:H> \n",
      "#<ATOM :O/:O> \n",
      "#<ATOM :H1/:H> \n",
      "#<ATOM :H2/:H> \n",
      "#<ATOM :O/:O> \n",
      "#<ATOM :H1/:H> \n",
      "#<ATOM :H2/:H> \n",
      "#<ATOM :O/:O> \n",
      "#<ATOM :H1/:H> \n",
      "#<ATOM :H2/:H> \n",
      "#<ATOM :O/:O> \n",
      "#<ATOM :H1/:H> \n",
      "#<ATOM :H2/:H> \n",
      "#<ATOM :O/:O> \n",
      "#<ATOM :H1/:H> \n",
      "#<ATOM :H2/:H> \n",
      "#<ATOM :O/:O> \n",
      "#<ATOM :H1/:H> \n",
      "#<ATOM :H2/:H> \n",
      "#<ATOM :O/:O> \n",
      "#<ATOM :H1/:H> \n",
      "#<ATOM :H2/:H> \n",
      "#<ATOM :O/:O> \n",
      "#<ATOM :H1/:H> \n",
      "#<ATOM :H2/:H> \n",
      "#<ATOM :O/:O> \n",
      "#<ATOM :H1/:H> \n",
      "#<ATOM :H2/:H> \n",
      "#<ATOM :O/:O> \n",
      "#<ATOM :H1/:H> \n",
      "#<ATOM :H2/:H> \n",
      "#<ATOM :O/:O> \n",
      "#<ATOM :H1/:H> \n",
      "#<ATOM :H2/:H> \n",
      "#<ATOM :O/:O> \n",
      "#<ATOM :H1/:H> \n",
      "#<ATOM :H2/:H> \n",
      "#<ATOM :O/:O> \n",
      "#<ATOM :H1/:H> \n",
      "#<ATOM :H2/:H> \n",
      "#<ATOM :O/:O> \n",
      "#<ATOM :H1/:H> \n",
      "#<ATOM :H2/:H> \n",
      "#<ATOM :O/:O> \n",
      "#<ATOM :H1/:H> \n",
      "#<ATOM :H2/:H> \n",
      "#<ATOM :O/:O> \n",
      "#<ATOM :H1/:H> \n",
      "#<ATOM :H2/:H> \n",
      "#<ATOM :O/:O> \n",
      "#<ATOM :H1/:H> \n",
      "#<ATOM :H2/:H> \n",
      "#<ATOM :O/:O> \n",
      "#<ATOM :H1/:H> \n",
      "#<ATOM :H2/:H> \n",
      "#<ATOM :O/:O> \n",
      "#<ATOM :H1/:H> \n",
      "#<ATOM :H2/:H> \n",
      "#<ATOM :O/:O> \n",
      "#<ATOM :H1/:H> \n",
      "#<ATOM :H2/:H> \n",
      "#<ATOM :O/:O> \n",
      "#<ATOM :H1/:H> \n",
      "#<ATOM :H2/:H> \n",
      "#<ATOM :O/:O> \n",
      "#<ATOM :H1/:H> \n",
      "#<ATOM :H2/:H> \n",
      "#<ATOM :O/:O> \n",
      "#<ATOM :H1/:H> \n",
      "#<ATOM :H2/:H> \n",
      "#<ATOM :O/:O> \n",
      "#<ATOM :H1/:H> \n",
      "#<ATOM :H2/:H> \n",
      "#<ATOM :O/:O> \n",
      "#<ATOM :H1/:H> \n",
      "#<ATOM :H2/:H> \n",
      "#<ATOM :O/:O> \n",
      "#<ATOM :H1/:H> \n",
      "#<ATOM :H2/:H> \n",
      "#<ATOM :O/:O> \n",
      "#<ATOM :H1/:H> \n",
      "#<ATOM :H2/:H> \n",
      "#<ATOM :O/:O> \n",
      "#<ATOM :H1/:H> \n",
      "#<ATOM :H2/:H> \n",
      "#<ATOM :O/:O> \n",
      "#<ATOM :H1/:H> \n",
      "#<ATOM :H2/:H> \n",
      "#<ATOM :O/:O> \n",
      "#<ATOM :H1/:H> \n",
      "#<ATOM :H2/:H> \n",
      "#<ATOM :O/:O> \n",
      "#<ATOM :H1/:H> \n",
      "#<ATOM :H2/:H> \n",
      "#<ATOM :O/:O> \n",
      "#<ATOM :H1/:H> \n",
      "#<ATOM :H2/:H> \n",
      "#<ATOM :O/:O> \n",
      "#<ATOM :H1/:H> \n",
      "#<ATOM :H2/:H> \n",
      "#<ATOM :O/:O> \n",
      "#<ATOM :H1/:H> \n",
      "#<ATOM :H2/:H> \n",
      "#<ATOM :O/:O> \n",
      "#<ATOM :H1/:H> \n",
      "#<ATOM :H2/:H> \n",
      "#<ATOM :O/:O> \n",
      "#<ATOM :H1/:H> \n",
      "#<ATOM :H2/:H> \n",
      "#<ATOM :O/:O> \n",
      "#<ATOM :H1/:H> \n",
      "#<ATOM :H2/:H> \n",
      "#<ATOM :O/:O> \n",
      "#<ATOM :H1/:H> \n",
      "#<ATOM :H2/:H> \n",
      "#<ATOM :O/:O> \n",
      "#<ATOM :H1/:H> \n",
      "#<ATOM :H2/:H> \n",
      "#<ATOM :O/:O> \n",
      "#<ATOM :H1/:H> \n",
      "#<ATOM :H2/:H> \n",
      "#<ATOM :O/:O> \n",
      "#<ATOM :H1/:H> \n",
      "#<ATOM :H2/:H> \n",
      "#<ATOM :O/:O> \n",
      "#<ATOM :H1/:H> \n",
      "#<ATOM :H2/:H> \n",
      "#<ATOM :O/:O> \n",
      "#<ATOM :H1/:H> \n",
      "#<ATOM :H2/:H> \n",
      "#<ATOM :O/:O> \n",
      "#<ATOM :H1/:H> \n",
      "#<ATOM :H2/:H> \n",
      "#<ATOM :O/:O> \n",
      "#<ATOM :H1/:H> \n",
      "#<ATOM :H2/:H> \n",
      "#<ATOM :O/:O> \n",
      "#<ATOM :H1/:H> \n",
      "#<ATOM :H2/:H> \n",
      "#<ATOM :O/:O> \n",
      "#<ATOM :H1/:H> \n",
      "#<ATOM :H2/:H> \n",
      "#<ATOM :O/:O> \n",
      "#<ATOM :H1/:H> \n",
      "#<ATOM :H2/:H> \n",
      "#<ATOM :O/:O> \n",
      "#<ATOM :H1/:H> \n",
      "#<ATOM :H2/:H> \n",
      "#<ATOM :O/:O> \n",
      "#<ATOM :H1/:H> \n",
      "#<ATOM :H2/:H> \n",
      "#<ATOM :O/:O> \n",
      "#<ATOM :H1/:H> \n",
      "#<ATOM :H2/:H> \n",
      "#<ATOM :O/:O> \n",
      "#<ATOM :H1/:H> \n",
      "#<ATOM :H2/:H> \n",
      "#<ATOM :O/:O> \n",
      "#<ATOM :H1/:H> \n",
      "#<ATOM :H2/:H> \n",
      "#<ATOM :O/:O> \n",
      "#<ATOM :H1/:H> \n",
      "#<ATOM :H2/:H> \n",
      "#<ATOM :O/:O> \n",
      "#<ATOM :H1/:H> \n",
      "#<ATOM :H2/:H> \n",
      "#<ATOM :O/:O> \n",
      "#<ATOM :H1/:H> \n",
      "#<ATOM :H2/:H> \n",
      "#<ATOM :O/:O> \n",
      "#<ATOM :H1/:H> \n",
      "#<ATOM :H2/:H> \n",
      "#<ATOM :O/:O> \n",
      "#<ATOM :H1/:H> \n",
      "#<ATOM :H2/:H> \n",
      "#<ATOM :O/:O> \n",
      "#<ATOM :H1/:H> \n",
      "#<ATOM :H2/:H> \n",
      "#<ATOM :O/:O> \n",
      "#<ATOM :H1/:H> \n",
      "#<ATOM :H2/:H> \n",
      "#<ATOM :O/:O> \n",
      "#<ATOM :H1/:H> \n",
      "#<ATOM :H2/:H> \n",
      "#<ATOM :O/:O> \n",
      "#<ATOM :H1/:H> \n",
      "#<ATOM :H2/:H> \n",
      "#<ATOM :O/:O> \n",
      "#<ATOM :H1/:H> \n",
      "#<ATOM :H2/:H> \n",
      "#<ATOM :O/:O> \n",
      "#<ATOM :H1/:H> \n",
      "#<ATOM :H2/:H> \n",
      "#<ATOM :O/:O> \n",
      "#<ATOM :H1/:H> \n",
      "#<ATOM :H2/:H> \n",
      "#<ATOM :O/:O> \n",
      "#<ATOM :H1/:H> \n",
      "#<ATOM :H2/:H> \n",
      "#<ATOM :O/:O> \n",
      "#<ATOM :H1/:H> \n",
      "#<ATOM :H2/:H> \n",
      "#<ATOM :O/:O> \n",
      "#<ATOM :H1/:H> \n",
      "#<ATOM :H2/:H> \n",
      "#<ATOM :O/:O> \n",
      "#<ATOM :H1/:H> \n",
      "#<ATOM :H2/:H> \n",
      "#<ATOM :O/:O> \n",
      "#<ATOM :H1/:H> \n",
      "#<ATOM :H2/:H> \n",
      "#<ATOM :O/:O> \n",
      "#<ATOM :H1/:H> \n",
      "#<ATOM :H2/:H> \n",
      "#<ATOM :O/:O> \n",
      "#<ATOM :H1/:H> \n",
      "#<ATOM :H2/:H> \n",
      "#<ATOM :O/:O> \n",
      "#<ATOM :H1/:H> \n",
      "#<ATOM :H2/:H> \n",
      "#<ATOM :O/:O> \n",
      "#<ATOM :H1/:H> \n",
      "#<ATOM :H2/:H> \n",
      "#<ATOM :O/:O> \n",
      "#<ATOM :H1/:H> \n",
      "#<ATOM :H2/:H> \n",
      "#<ATOM :O/:O> \n",
      "#<ATOM :H1/:H> \n",
      "#<ATOM :H2/:H> \n",
      "#<ATOM :O/:O> \n",
      "#<ATOM :H1/:H> \n",
      "#<ATOM :H2/:H> \n",
      "#<ATOM :O/:O> \n",
      "#<ATOM :H1/:H> \n",
      "#<ATOM :H2/:H> \n",
      "#<ATOM :O/:O> \n",
      "#<ATOM :H1/:H> \n",
      "#<ATOM :H2/:H> \n",
      "#<ATOM :O/:O> \n",
      "#<ATOM :H1/:H> \n",
      "#<ATOM :H2/:H> \n",
      "#<ATOM :O/:O> \n",
      "#<ATOM :H1/:H> \n",
      "#<ATOM :H2/:H> \n",
      "#<ATOM :O/:O> \n",
      "#<ATOM :H1/:H> \n",
      "#<ATOM :H2/:H> \n",
      "#<ATOM :O/:O> \n",
      "#<ATOM :H1/:H> \n",
      "#<ATOM :H2/:H> \n",
      "#<ATOM :O/:O> \n",
      "#<ATOM :H1/:H> \n",
      "#<ATOM :H2/:H> \n",
      "#<ATOM :O/:O> \n",
      "#<ATOM :H1/:H> \n",
      "#<ATOM :H2/:H> \n",
      "#<ATOM :O/:O> \n",
      "#<ATOM :H1/:H> \n",
      "#<ATOM :H2/:H> \n",
      "#<ATOM :O/:O> \n",
      "#<ATOM :H1/:H> \n",
      "#<ATOM :H2/:H> \n",
      "#<ATOM :O/:O> \n",
      "#<ATOM :H1/:H> \n",
      "#<ATOM :H2/:H> \n",
      "#<ATOM :O/:O> \n",
      "#<ATOM :H1/:H> \n",
      "#<ATOM :H2/:H> \n",
      "#<ATOM :O/:O> \n",
      "#<ATOM :H1/:H> \n",
      "#<ATOM :H2/:H> \n",
      "#<ATOM :O/:O> \n",
      "#<ATOM :H1/:H> \n",
      "#<ATOM :H2/:H> \n",
      "#<ATOM :O/:O> \n",
      "#<ATOM :H1/:H> \n",
      "#<ATOM :H2/:H> \n",
      "#<ATOM :O/:O> \n",
      "#<ATOM :H1/:H> \n",
      "#<ATOM :H2/:H> \n",
      "#<ATOM :O/:O> \n",
      "#<ATOM :H1/:H> \n",
      "#<ATOM :H2/:H> \n",
      "#<ATOM :O/:O> \n",
      "#<ATOM :H1/:H> \n",
      "#<ATOM :H2/:H> \n",
      "#<ATOM :O/:O> \n",
      "#<ATOM :H1/:H> \n",
      "#<ATOM :H2/:H> \n",
      "#<ATOM :O/:O> \n",
      "#<ATOM :H1/:H> \n",
      "#<ATOM :H2/:H> \n",
      "#<ATOM :O/:O> \n",
      "#<ATOM :H1/:H> \n",
      "#<ATOM :H2/:H> \n",
      "#<ATOM :O/:O> \n",
      "#<ATOM :H1/:H> \n",
      "#<ATOM :H2/:H> \n",
      "#<ATOM :O/:O> \n",
      "#<ATOM :H1/:H> \n",
      "#<ATOM :H2/:H> \n",
      "#<ATOM :O/:O> \n",
      "#<ATOM :H1/:H> \n",
      "#<ATOM :H2/:H> \n",
      "#<ATOM :O/:O> \n",
      "#<ATOM :H1/:H> \n",
      "#<ATOM :H2/:H> \n",
      "#<ATOM :O/:O> \n",
      "#<ATOM :H1/:H> \n",
      "#<ATOM :H2/:H> \n",
      "#<ATOM :O/:O> \n",
      "#<ATOM :H1/:H> \n",
      "#<ATOM :H2/:H> \n",
      "#<ATOM :O/:O> \n",
      "#<ATOM :H1/:H> \n",
      "#<ATOM :H2/:H> \n",
      "#<ATOM :O/:O> \n",
      "#<ATOM :H1/:H> \n",
      "#<ATOM :H2/:H> \n",
      "#<ATOM :O/:O> \n",
      "#<ATOM :H1/:H> \n",
      "#<ATOM :H2/:H> \n",
      "#<ATOM :O/:O> \n",
      "#<ATOM :H1/:H> \n",
      "#<ATOM :H2/:H> \n",
      "#<ATOM :O/:O> \n",
      "#<ATOM :H1/:H> \n",
      "#<ATOM :H2/:H> \n",
      "#<ATOM :O/:O> \n",
      "#<ATOM :H1/:H> \n",
      "#<ATOM :H2/:H> \n",
      "#<ATOM :O/:O> \n",
      "#<ATOM :H1/:H> \n",
      "#<ATOM :H2/:H> \n",
      "#<ATOM :O/:O> \n",
      "#<ATOM :H1/:H> \n",
      "#<ATOM :H2/:H> \n",
      "#<ATOM :O/:O> \n",
      "#<ATOM :H1/:H> \n",
      "#<ATOM :H2/:H> \n",
      "#<ATOM :O/:O> \n",
      "#<ATOM :H1/:H> \n",
      "#<ATOM :H2/:H> \n",
      "#<ATOM :O/:O> \n",
      "#<ATOM :H1/:H> \n",
      "#<ATOM :H2/:H> \n",
      "#<ATOM :O/:O> \n",
      "#<ATOM :H1/:H> \n",
      "#<ATOM :H2/:H> \n",
      "#<ATOM :O/:O> \n",
      "#<ATOM :H1/:H> \n",
      "#<ATOM :H2/:H> \n",
      "#<ATOM :O/:O> \n",
      "#<ATOM :H1/:H> \n",
      "#<ATOM :H2/:H> \n",
      "#<ATOM :O/:O> \n",
      "#<ATOM :H1/:H> \n",
      "#<ATOM :H2/:H> \n",
      "#<ATOM :O/:O> \n",
      "#<ATOM :H1/:H> \n",
      "#<ATOM :H2/:H> \n",
      "#<ATOM :O/:O> \n",
      "#<ATOM :H1/:H> \n",
      "#<ATOM :H2/:H> \n",
      "#<ATOM :O/:O> \n",
      "#<ATOM :H1/:H> \n",
      "#<ATOM :H2/:H> \n",
      "#<ATOM :O/:O> \n",
      "#<ATOM :H1/:H> \n",
      "#<ATOM :H2/:H> \n",
      "#<ATOM :O/:O> \n",
      "#<ATOM :H1/:H> \n",
      "#<ATOM :H2/:H> \n",
      "#<ATOM :O/:O> \n",
      "#<ATOM :H1/:H> \n",
      "#<ATOM :H2/:H> \n",
      "#<ATOM :O/:O> \n",
      "#<ATOM :H1/:H> \n",
      "#<ATOM :H2/:H> \n",
      "#<ATOM :O/:O> \n",
      "#<ATOM :H1/:H> \n",
      "#<ATOM :H2/:H> \n",
      "#<ATOM :O/:O> \n",
      "#<ATOM :H1/:H> \n",
      "#<ATOM :H2/:H> \n",
      "#<ATOM :O/:O> \n",
      "#<ATOM :H1/:H> \n",
      "#<ATOM :H2/:H> \n",
      "#<ATOM :O/:O> \n",
      "#<ATOM :H1/:H> \n",
      "#<ATOM :H2/:H> \n",
      "#<ATOM :O/:O> \n",
      "#<ATOM :H1/:H> \n",
      "#<ATOM :H2/:H> \n",
      "#<ATOM :O/:O> \n",
      "#<ATOM :H1/:H> \n",
      "#<ATOM :H2/:H> \n",
      "#<ATOM :O/:O> \n",
      "#<ATOM :H1/:H> \n",
      "#<ATOM :H2/:H> "
     ]
    },
    {
     "data": {
      "text/plain": [
       "NIL"
      ]
     },
     "execution_count": 8,
     "metadata": {},
     "output_type": "execute_result"
    }
   ],
   "source": [
    "(chem:map-atoms nil (lambda (r) (print r)) *solvent*)"
   ]
  },
  {
   "cell_type": "code",
   "execution_count": 14,
   "metadata": {},
   "outputs": [
    {
     "name": "stdout",
     "output_type": "stream",
     "text": [
      "\n",
      "#<RESIDUE :WAT> \n",
      "#<RESIDUE :WAT> \n",
      "#<RESIDUE :WAT> \n",
      "#<RESIDUE :WAT> \n",
      "#<RESIDUE :WAT> \n",
      "#<RESIDUE :WAT> \n",
      "#<RESIDUE :WAT> \n",
      "#<RESIDUE :WAT> \n",
      "#<RESIDUE :WAT> \n",
      "#<RESIDUE :WAT> \n",
      "#<RESIDUE :WAT> \n",
      "#<RESIDUE :WAT> \n",
      "#<RESIDUE :WAT> \n",
      "#<RESIDUE :WAT> \n",
      "#<RESIDUE :WAT> \n",
      "#<RESIDUE :WAT> \n",
      "#<RESIDUE :WAT> \n",
      "#<RESIDUE :WAT> \n",
      "#<RESIDUE :WAT> \n",
      "#<RESIDUE :WAT> \n",
      "#<RESIDUE :WAT> \n",
      "#<RESIDUE :WAT> \n",
      "#<RESIDUE :WAT> \n",
      "#<RESIDUE :WAT> \n",
      "#<RESIDUE :WAT> \n",
      "#<RESIDUE :WAT> \n",
      "#<RESIDUE :WAT> \n",
      "#<RESIDUE :WAT> \n",
      "#<RESIDUE :WAT> \n",
      "#<RESIDUE :WAT> \n",
      "#<RESIDUE :WAT> \n",
      "#<RESIDUE :WAT> \n",
      "#<RESIDUE :WAT> \n",
      "#<RESIDUE :WAT> \n",
      "#<RESIDUE :WAT> \n",
      "#<RESIDUE :WAT> \n",
      "#<RESIDUE :WAT> \n",
      "#<RESIDUE :WAT> \n",
      "#<RESIDUE :WAT> \n",
      "#<RESIDUE :WAT> \n",
      "#<RESIDUE :WAT> \n",
      "#<RESIDUE :WAT> \n",
      "#<RESIDUE :WAT> \n",
      "#<RESIDUE :WAT> \n",
      "#<RESIDUE :WAT> \n",
      "#<RESIDUE :WAT> \n",
      "#<RESIDUE :WAT> \n",
      "#<RESIDUE :WAT> \n",
      "#<RESIDUE :WAT> \n",
      "#<RESIDUE :WAT> \n",
      "#<RESIDUE :WAT> \n",
      "#<RESIDUE :WAT> \n",
      "#<RESIDUE :WAT> \n",
      "#<RESIDUE :WAT> \n",
      "#<RESIDUE :WAT> \n",
      "#<RESIDUE :WAT> \n",
      "#<RESIDUE :WAT> \n",
      "#<RESIDUE :WAT> \n",
      "#<RESIDUE :WAT> \n",
      "#<RESIDUE :WAT> \n",
      "#<RESIDUE :WAT> \n",
      "#<RESIDUE :WAT> \n",
      "#<RESIDUE :WAT> \n",
      "#<RESIDUE :WAT> \n",
      "#<RESIDUE :WAT> \n",
      "#<RESIDUE :WAT> \n",
      "#<RESIDUE :WAT> \n",
      "#<RESIDUE :WAT> \n",
      "#<RESIDUE :WAT> \n",
      "#<RESIDUE :WAT> \n",
      "#<RESIDUE :WAT> \n",
      "#<RESIDUE :WAT> \n",
      "#<RESIDUE :WAT> \n",
      "#<RESIDUE :WAT> \n",
      "#<RESIDUE :WAT> \n",
      "#<RESIDUE :WAT> \n",
      "#<RESIDUE :WAT> \n",
      "#<RESIDUE :WAT> \n",
      "#<RESIDUE :WAT> \n",
      "#<RESIDUE :WAT> \n",
      "#<RESIDUE :WAT> \n",
      "#<RESIDUE :WAT> \n",
      "#<RESIDUE :WAT> \n",
      "#<RESIDUE :WAT> \n",
      "#<RESIDUE :WAT> \n",
      "#<RESIDUE :WAT> \n",
      "#<RESIDUE :WAT> \n",
      "#<RESIDUE :WAT> \n",
      "#<RESIDUE :WAT> \n",
      "#<RESIDUE :WAT> \n",
      "#<RESIDUE :WAT> \n",
      "#<RESIDUE :WAT> \n",
      "#<RESIDUE :WAT> \n",
      "#<RESIDUE :WAT> \n",
      "#<RESIDUE :WAT> \n",
      "#<RESIDUE :WAT> \n",
      "#<RESIDUE :WAT> \n",
      "#<RESIDUE :WAT> \n",
      "#<RESIDUE :WAT> \n",
      "#<RESIDUE :WAT> \n",
      "#<RESIDUE :WAT> \n",
      "#<RESIDUE :WAT> \n",
      "#<RESIDUE :WAT> \n",
      "#<RESIDUE :WAT> \n",
      "#<RESIDUE :WAT> \n",
      "#<RESIDUE :WAT> \n",
      "#<RESIDUE :WAT> \n",
      "#<RESIDUE :WAT> \n",
      "#<RESIDUE :WAT> \n",
      "#<RESIDUE :WAT> \n",
      "#<RESIDUE :WAT> \n",
      "#<RESIDUE :WAT> \n",
      "#<RESIDUE :WAT> \n",
      "#<RESIDUE :WAT> \n",
      "#<RESIDUE :WAT> \n",
      "#<RESIDUE :WAT> \n",
      "#<RESIDUE :WAT> \n",
      "#<RESIDUE :WAT> \n",
      "#<RESIDUE :WAT> \n",
      "#<RESIDUE :WAT> \n",
      "#<RESIDUE :WAT> \n",
      "#<RESIDUE :WAT> \n",
      "#<RESIDUE :WAT> \n",
      "#<RESIDUE :WAT> \n",
      "#<RESIDUE :WAT> \n",
      "#<RESIDUE :WAT> \n",
      "#<RESIDUE :WAT> \n",
      "#<RESIDUE :WAT> \n",
      "#<RESIDUE :WAT> \n",
      "#<RESIDUE :WAT> \n",
      "#<RESIDUE :WAT> \n",
      "#<RESIDUE :WAT> \n",
      "#<RESIDUE :WAT> \n",
      "#<RESIDUE :WAT> \n",
      "#<RESIDUE :WAT> \n",
      "#<RESIDUE :WAT> \n",
      "#<RESIDUE :WAT> \n",
      "#<RESIDUE :WAT> \n",
      "#<RESIDUE :WAT> \n",
      "#<RESIDUE :WAT> \n",
      "#<RESIDUE :WAT> \n",
      "#<RESIDUE :WAT> \n",
      "#<RESIDUE :WAT> \n",
      "#<RESIDUE :WAT> \n",
      "#<RESIDUE :WAT> \n",
      "#<RESIDUE :WAT> \n",
      "#<RESIDUE :WAT> \n",
      "#<RESIDUE :WAT> \n",
      "#<RESIDUE :WAT> \n",
      "#<RESIDUE :WAT> \n",
      "#<RESIDUE :WAT> \n",
      "#<RESIDUE :WAT> \n",
      "#<RESIDUE :WAT> \n",
      "#<RESIDUE :WAT> \n",
      "#<RESIDUE :WAT> \n",
      "#<RESIDUE :WAT> \n",
      "#<RESIDUE :WAT> \n",
      "#<RESIDUE :WAT> \n",
      "#<RESIDUE :WAT> \n",
      "#<RESIDUE :WAT> \n",
      "#<RESIDUE :WAT> \n",
      "#<RESIDUE :WAT> \n",
      "#<RESIDUE :WAT> \n",
      "#<RESIDUE :WAT> \n",
      "#<RESIDUE :WAT> \n",
      "#<RESIDUE :WAT> \n",
      "#<RESIDUE :WAT> \n",
      "#<RESIDUE :WAT> \n",
      "#<RESIDUE :WAT> \n",
      "#<RESIDUE :WAT> \n",
      "#<RESIDUE :WAT> \n",
      "#<RESIDUE :WAT> \n",
      "#<RESIDUE :WAT> \n",
      "#<RESIDUE :WAT> \n",
      "#<RESIDUE :WAT> \n",
      "#<RESIDUE :WAT> \n",
      "#<RESIDUE :WAT> \n",
      "#<RESIDUE :WAT> \n",
      "#<RESIDUE :WAT> \n",
      "#<RESIDUE :WAT> \n",
      "#<RESIDUE :WAT> \n",
      "#<RESIDUE :WAT> \n",
      "#<RESIDUE :WAT> \n",
      "#<RESIDUE :WAT> \n",
      "#<RESIDUE :WAT> \n",
      "#<RESIDUE :WAT> \n",
      "#<RESIDUE :WAT> \n",
      "#<RESIDUE :WAT> \n",
      "#<RESIDUE :WAT> \n",
      "#<RESIDUE :WAT> \n",
      "#<RESIDUE :WAT> \n",
      "#<RESIDUE :WAT> \n",
      "#<RESIDUE :WAT> \n",
      "#<RESIDUE :WAT> \n",
      "#<RESIDUE :WAT> \n",
      "#<RESIDUE :WAT> \n",
      "#<RESIDUE :WAT> \n",
      "#<RESIDUE :WAT> \n",
      "#<RESIDUE :WAT> \n",
      "#<RESIDUE :WAT> \n",
      "#<RESIDUE :WAT> \n",
      "#<RESIDUE :WAT> \n",
      "#<RESIDUE :WAT> \n",
      "#<RESIDUE :WAT> \n",
      "#<RESIDUE :WAT> \n",
      "#<RESIDUE :WAT> \n",
      "#<RESIDUE :WAT> \n",
      "#<RESIDUE :WAT> \n",
      "#<RESIDUE :WAT> \n",
      "#<RESIDUE :WAT> \n",
      "#<RESIDUE :WAT> \n",
      "#<RESIDUE :WAT> \n",
      "#<RESIDUE :WAT> \n",
      "#<RESIDUE :WAT> \n",
      "#<RESIDUE :WAT> \n",
      "#<RESIDUE :WAT> "
     ]
    },
    {
     "data": {
      "text/plain": [
       "NIL"
      ]
     },
     "execution_count": 14,
     "metadata": {},
     "output_type": "execute_result"
    }
   ],
   "source": [
    "(chem:map-residues nil (lambda (r) (print r)) ~tip3pfbox)"
   ]
  },
  {
   "cell_type": "code",
   "execution_count": 21,
   "metadata": {},
   "outputs": [
    {
     "name": "stderr",
     "output_type": "stream",
     "text": [
      "Reader error: Package error on package \"LEAP.SOLVANT\" (condition of type PACKAGE-ERROR)\n"
     ]
    },
    {
     "data": {
      "text/plain": [
       "NIL"
      ]
     },
     "execution_count": 21,
     "metadata": {},
     "output_type": "execute_result"
    }
   ],
   "source": [
    "(leap.solvant::tool-find-close-solute-atoms *solvent*)"
   ]
  },
  {
   "cell_type": "code",
   "execution_count": 14,
   "metadata": {},
   "outputs": [
    {
     "name": "stdout",
     "output_type": "stream",
     "text": [
      "\n",
      "AGGREGATE "
     ]
    },
    {
     "data": {
      "text/plain": [
       "AGGREGATE"
      ]
     },
     "execution_count": 14,
     "metadata": {},
     "output_type": "execute_result"
    }
   ],
   "source": [
    "(print ~tip3pfbox)"
   ]
  },
  {
   "cell_type": "code",
   "execution_count": null,
   "metadata": {
    "collapsed": true
   },
   "outputs": [],
   "source": []
  }
 ],
 "metadata": {
  "kernelspec": {
   "display_name": "Cando",
   "language": "lisp",
   "name": "lisp"
  },
  "language_info": {
   "codemirror_mode": "text/x-common-lisp",
   "mimetype": "text/x-common-lisp",
   "name": "common-lisp",
   "pygments_lexer": "common-lisp",
   "version": "X3J13"
  }
 },
 "nbformat": 4,
 "nbformat_minor": 2
}
