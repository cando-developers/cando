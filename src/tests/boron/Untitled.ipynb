{
 "cells": [
  {
   "cell_type": "code",
   "execution_count": 1,
   "metadata": {},
   "outputs": [
    {
     "data": {
      "text/plain": [
       "-1"
      ]
     },
     "execution_count": 1,
     "metadata": {},
     "output_type": "execute_result"
    }
   ],
   "source": [
    "(ext:chdir \"~/Development/clasp/extensions/cando/src/lisp/tests/boron/\" t)"
   ]
  },
  {
   "cell_type": "code",
   "execution_count": 2,
   "metadata": {},
   "outputs": [
    {
     "name": "stdout",
     "output_type": "stream",
     "text": [
      "swank-loader -> /Users/tuj24515/Development/slime/swank-loader.lisp\n",
      "\n",
      "\"Read: (DEFPACKAGE :SWANK-LOADER (:USE :CL) (:EXPORT :INIT :DUMP-IMAGE :LIST-FASLS :*SOURCE-DIRECTORY* :*FASL-DIRECTORY*))\n",
      "\" \n",
      "\"Read: (IN-PACKAGE :SWANK-LOADER)\n",
      "\" \n",
      "\"Read: (DEFVAR *SOURCE-DIRECTORY* (MAKE-PATHNAME :NAME NIL :TYPE NIL :DEFAULTS (OR *LOAD-PATHNAME* *DEFAULT-PATHNAME-DEFAULTS*)) The directory where to look for the source.)\n",
      "\" \n",
      "\"Read: (DEFPARAMETER *SYSDEP-FILES* (QUOTE ((SWANK CLASP) (SWANK GRAY))))\n",
      "\" \n",
      "\"Read: (DEFPARAMETER *IMPLEMENTATION-FEATURES* (QUOTE (:ALLEGRO :LISPWORKS :SBCL :CLOZURE :CMU :CLISP :CCL :CORMAN :CORMANLISP :ARMEDBEAR :GCL :ECL :SCL :MKCL :CLASP)))\n",
      "\" \n",
      "\"Read: (DEFPARAMETER *OS-FEATURES* (QUOTE (:MACOSX :LINUX :WINDOWS :MSWINDOWS :WIN32 :SOLARIS :DARWIN :SUNOS :HPUX :UNIX)))\n",
      "\" \n",
      "\"Read: (DEFPARAMETER *ARCHITECTURE-FEATURES* (QUOTE (:POWERPC :PPC :X86 :X86-64 :X86_64 :AMD64 :I686 :I586 :I486 :PC386 :IAPX386 :SPARC64 :SPARC :HPPA64 :HPPA :ARM :ARMV5L :ARMV6L :ARMV7L :ARM64 :PENTIUM3 :PENTIUM4 :MIPS :MIPSEL :JAVA-1.4 :JAVA-1.5 :JAVA-1.6 :JAVA-1.7)))\n",
      "\" \n",
      "\"Read: (DEFUN Q (S) (READ-FROM-STRING S))\n",
      "\" \n",
      "\"Read: (DEFUN CLASP-VERSION-STRING NIL (FORMAT NIL ~A~@[-~A~] (LISP-IMPLEMENTATION-VERSION) (LISP-IMPLEMENTATION-ID)))\n",
      "\" \n",
      "\"Read: (DEFUN LISP-VERSION-STRING NIL (CLASP-VERSION-STRING))\n",
      "\" \n",
      "\"Read: (DEFUN UNIQUE-DIR-NAME NIL Return a name that can be used as a directory name that is\n",
      "unique to a Lisp implementation, Lisp implementation version,\n",
      "operating system, and hardware architecture. (FLET ((FIRST-OF (FEATURES) (LOOP FOR F IN FEATURES WHEN (FIND F *FEATURES*) RETURN IT)) (MAYBE-WARN (VALUE FSTRING &REST ARGS) (COND (VALUE) (T (APPLY (FUNCTION WARN) FSTRING ARGS) unknown)))) (LET ((LISP (MAYBE-WARN (FIRST-OF *IMPLEMENTATION-FEATURES*) No implementation feature found in ~a. *IMPLEMENTATION-FEATURES*)) (OS (MAYBE-WARN (FIRST-OF *OS-FEATURES*) No os feature found in ~a. *OS-FEATURES*)) (ARCH (MAYBE-WARN (FIRST-OF *ARCHITECTURE-FEATURES*) No architecture feature found in ~a. *ARCHITECTURE-FEATURES*)) (VERSION (MAYBE-WARN (LISP-VERSION-STRING) Don't know how to get Lisp ~\n",
      "                                implementation version.))) (FORMAT NIL ~(~@{~a~^-~}~) LISP VERSION OS ARCH))))\n",
      "\" \n",
      "\"Read: (DEFUN FILE-NEWER-P (NEW-FILE OLD-FILE) Returns true if NEW-FILE is newer than OLD-FILE. (> (FILE-WRITE-DATE NEW-FILE) (FILE-WRITE-DATE OLD-FILE)))\n",
      "\" \n",
      "\"Read: (DEFUN STRING-STARTS-WITH (STRING PREFIX) (STRING-EQUAL STRING PREFIX :END1 (MIN (LENGTH STRING) (LENGTH PREFIX))))\n",
      "\" \n",
      "\"Read: (DEFUN SLIME-VERSION-STRING NIL Return a string identifying the SLIME version.\n",
      "Return nil if nothing appropriate is available. (WITH-OPEN-FILE (S (MERGE-PATHNAMES slime.el *SOURCE-DIRECTORY*) :IF-DOES-NOT-EXIST NIL) (LOOP WITH PREFIX = ;; Version:  FOR LINE = (READ-LINE S NIL :EOF) UNTIL (EQ LINE :EOF) WHEN (STRING-STARTS-WITH LINE PREFIX) RETURN (SUBSEQ LINE (LENGTH PREFIX)))))\n",
      "\" \n",
      "\"Read: (DEFUN DEFAULT-FASL-DIR NIL (MERGE-PATHNAMES (MAKE-PATHNAME :DIRECTORY (BACKQUOTE (:RELATIVE .slime fasl (UNQUOTE-SPLICE (IF (SLIME-VERSION-STRING) (LIST (SLIME-VERSION-STRING)))) (UNQUOTE (UNIQUE-DIR-NAME))))) (USER-HOMEDIR-PATHNAME)))\n",
      "\" \n",
      "\"Read: (DEFVAR *FASL-DIRECTORY* (DEFAULT-FASL-DIR) The directory where fasl files should be placed.)\n",
      "\" \n",
      "\"Read: (DEFUN BINARY-PATHNAME (SRC-PATHNAME BINARY-DIR) Return the pathname where SRC-PATHNAME's binary should be compiled. (LET ((CFP (COMPILE-FILE-PATHNAME SRC-PATHNAME))) (MERGE-PATHNAMES (MAKE-PATHNAME :NAME (PATHNAME-NAME CFP) :TYPE (PATHNAME-TYPE CFP)) BINARY-DIR)))\n",
      "\" \n",
      "\"Read: (DEFUN HANDLE-SWANK-LOAD-ERROR (CONDITION CONTEXT PATHNAME) (FRESH-LINE *ERROR-OUTPUT*) (PPRINT-LOGICAL-BLOCK (*ERROR-OUTPUT* NIL :PER-LINE-PREFIX ;; ) (FORMAT *ERROR-OUTPUT* ~%Error ~A ~A:~%  ~A~% CONTEXT PATHNAME CONDITION)))\n",
      "\" \n",
      "\"Read: (DEFUN COMPILE-FILES (FILES FASL-DIR LOAD QUIET) Compile each file in FILES if the source is newer than its\n",
      "corresponding binary, or the file preceding it was recompiled.\n",
      "If LOAD is true, load the fasl file. (LET ((NEEDS-RECOMPILE NIL) (STATE :UNKNOWN)) (DOLIST (SRC FILES) (LET ((DEST (BINARY-PATHNAME SRC FASL-DIR))) (HANDLER-BIND ((ERROR (LAMBDA (C) (ECASE STATE (:COMPILE (HANDLE-SWANK-LOAD-ERROR C compiling SRC)) (:LOAD (HANDLE-SWANK-LOAD-ERROR C loading DEST)) (:UNKNOWN (HANDLE-SWANK-LOAD-ERROR C ???ing SRC)))))) (WHEN (OR NEEDS-RECOMPILE (NOT (PROBE-FILE DEST)) (FILE-NEWER-P SRC DEST)) (ENSURE-DIRECTORIES-EXIST DEST) (SETF NEEDS-RECOMPILE T STATE :COMPILE) (OR (COMPILE-FILE SRC :OUTPUT-FILE DEST :PRINT NIL :VERBOSE (NOT QUIET)) (ERROR COMPILE-FILE returned NIL.))) (WHEN LOAD (SETF STATE :LOAD) (LOAD DEST :VERBOSE (NOT QUIET))))))))\n",
      "\" \n",
      "\"Read: (DEFUN LOAD-USER-INIT-FILE NIL Load the user init file, return NIL if it does not exist. (LOAD (MERGE-PATHNAMES (USER-HOMEDIR-PATHNAME) (MAKE-PATHNAME :NAME .swank :TYPE lisp)) :IF-DOES-NOT-EXIST NIL))\n",
      "\" \n",
      "\"Read: (DEFUN LOAD-SITE-INIT-FILE (DIR) (LOAD (MAKE-PATHNAME :NAME site-init :TYPE lisp :DEFAULTS DIR) :IF-DOES-NOT-EXIST NIL))\n",
      "\" \n",
      "\"Read: (DEFUN SRC-FILES (NAMES SRC-DIR) (MAPCAR (LAMBDA (NAME) (MULTIPLE-VALUE-BIND (DIRS NAME) (ETYPECASE NAME (SYMBOL (VALUES (QUOTE NIL) NAME)) (CONS (VALUES (BUTLAST NAME) (CAR (LAST NAME))))) (MAKE-PATHNAME :DIRECTORY (APPEND (OR (PATHNAME-DIRECTORY SRC-DIR) (QUOTE (:RELATIVE))) (MAPCAR (FUNCTION STRING-DOWNCASE) DIRS)) :NAME (STRING-DOWNCASE NAME) :TYPE lisp :DEFAULTS SRC-DIR))) NAMES))\n",
      "\" \n",
      "\"Read: (DEFVAR *SWANK-FILES* (BACKQUOTE (PACKAGES (SWANK BACKEND) (UNQUOTE-SPLICE *SYSDEP-FILES*) (SWANK MATCH) (SWANK RPC) SWANK)))\n",
      "\" \n",
      "\"Read: (DEFVAR *CONTRIBS* (QUOTE (SWANK-UTIL SWANK-REPL SWANK-C-P-C SWANK-ARGLISTS SWANK-FUZZY SWANK-FANCY-INSPECTOR SWANK-PRESENTATIONS SWANK-PRESENTATION-STREAMS SWANK-ASDF SWANK-PACKAGE-FU SWANK-HYPERDOC SWANK-MREPL SWANK-TRACE-DIALOG SWANK-MACROSTEP SWANK-QUICKLISP)) List of names for contrib modules.)\n",
      "\" \n",
      "\"Read: (DEFUN APPEND-DIR (ABSOLUTE NAME) (MERGE-PATHNAMES (MAKE-PATHNAME :DIRECTORY (BACKQUOTE (:RELATIVE (UNQUOTE NAME))) :DEFAULTS ABSOLUTE) ABSOLUTE))\n",
      "\" \n",
      "\"Read: (DEFUN CONTRIB-DIR (BASE-DIR) (APPEND-DIR BASE-DIR contrib))\n",
      "\" \n",
      "\"Read: (DEFUN LOAD-SWANK (&KEY (SRC-DIR *SOURCE-DIRECTORY*) (FASL-DIR *FASL-DIRECTORY*) QUIET) (WITH-COMPILATION-UNIT NIL (COMPILE-FILES (SRC-FILES *SWANK-FILES* SRC-DIR) FASL-DIR T QUIET)) (FUNCALL (Q swank::before-init) (SLIME-VERSION-STRING) (LIST (CONTRIB-DIR FASL-DIR) (CONTRIB-DIR SRC-DIR))))\n",
      "\" \n",
      "\"Read: (DEFUN DELETE-STALE-CONTRIB-FASL-FILES (SWANK-FILES CONTRIB-FILES FASL-DIR) (LET ((NEWEST (REDUCE (FUNCTION MAX) (MAPCAR (FUNCTION FILE-WRITE-DATE) SWANK-FILES)))) (DOLIST (SRC CONTRIB-FILES) (LET ((FASL (BINARY-PATHNAME SRC FASL-DIR))) (WHEN (AND (PROBE-FILE FASL) (<= (FILE-WRITE-DATE FASL) NEWEST)) (DELETE-FILE FASL))))))\n",
      "\" \n",
      "\"Read: (DEFUN COMPILE-CONTRIBS (&KEY (SRC-DIR (CONTRIB-DIR *SOURCE-DIRECTORY*)) (FASL-DIR (CONTRIB-DIR *FASL-DIRECTORY*)) (SWANK-SRC-DIR *SOURCE-DIRECTORY*) LOAD QUIET) (LET* ((SWANK-SRC-FILES (SRC-FILES *SWANK-FILES* SWANK-SRC-DIR)) (CONTRIB-SRC-FILES (SRC-FILES *CONTRIBS* SRC-DIR))) (DELETE-STALE-CONTRIB-FASL-FILES SWANK-SRC-FILES CONTRIB-SRC-FILES FASL-DIR) (COMPILE-FILES CONTRIB-SRC-FILES FASL-DIR LOAD QUIET)))\n",
      "\" \n",
      "\"Read: (DEFUN LOADUP NIL (LOAD-SWANK) (COMPILE-CONTRIBS :LOAD T))\n",
      "\" \n",
      "\"Read: (DEFUN SETUP NIL (LOAD-SITE-INIT-FILE *SOURCE-DIRECTORY*) (LOAD-USER-INIT-FILE) (WHEN (PROBE-FILE (CONTRIB-DIR *SOURCE-DIRECTORY*)) (EVAL (BACKQUOTE (PUSHNEW (QUOTE COMPILE-CONTRIBS) (UNQUOTE (Q swank::*after-init-hook*)))))) (FUNCALL (Q swank::init)))\n",
      "\" \n",
      "\"Read: (DEFUN LIST-SWANK-PACKAGES NIL (REMOVE-IF-NOT (LAMBDA (PACKAGE) (LET ((NAME (PACKAGE-NAME PACKAGE))) (AND (STRING-NOT-EQUAL NAME swank-loader) (STRING-STARTS-WITH NAME swank)))) (LIST-ALL-PACKAGES)))\n",
      "\" \n",
      "\"Read: (DEFUN DELETE-PACKAGES (PACKAGES) (DOLIST (PACKAGE PACKAGES) (FLET ((HANDLE-PACKAGE-ERROR (C) (LET ((PKGS (SET-DIFFERENCE (PACKAGE-USED-BY-LIST PACKAGE) PACKAGES))) (WHEN PKGS (WARN deleting ~a which is used by ~{~a~^, ~}. PACKAGE PKGS)) (CONTINUE C)))) (HANDLER-BIND ((PACKAGE-ERROR (FUNCTION HANDLE-PACKAGE-ERROR))) (DELETE-PACKAGE PACKAGE)))))\n",
      "\" \n",
      "\"Read: (DEFUN INIT (&KEY DELETE RELOAD LOAD-CONTRIBS (SETUP T) (QUIET (NOT *LOAD-VERBOSE*))) Load SWANK and initialize some global variables.\n",
      "If DELETE is true, delete any existing SWANK packages.\n",
      "If RELOAD is true, reload SWANK, even if the SWANK package already exists.\n",
      "If LOAD-CONTRIBS is true, load all contribs\n",
      "If SETUP is true, load user init files and initialize some\n",
      "global variabes in SWANK. (WHEN (AND DELETE (FIND-PACKAGE :SWANK)) (DELETE-PACKAGES (LIST-SWANK-PACKAGES))) (COND ((OR (NOT (FIND-PACKAGE :SWANK)) RELOAD) (LOAD-SWANK :QUIET QUIET)) (T (WARN Not reloading SWANK.  Package already exists.))) (WHEN LOAD-CONTRIBS (COMPILE-CONTRIBS :LOAD T :QUIET QUIET)) (WHEN SETUP (SETUP)))\n",
      "\" \n",
      "\"Read: (DEFUN DUMP-IMAGE (FILENAME) (INIT :SETUP NIL) (FUNCALL (Q swank/backend:save-image) FILENAME))\n",
      "\" \n",
      "\"Read: (DEFUN LIST-FASLS (&KEY (INCLUDE-CONTRIBS T) (COMPILE T) (QUIET (NOT *COMPILE-VERBOSE*))) List up SWANK's fasls along with their dependencies. (FLET ((COLLECT-FASLS (FILES FASL-DIR) (WHEN COMPILE (COMPILE-FILES FILES FASL-DIR NIL QUIET)) (LOOP FOR SRC IN FILES WHEN (PROBE-FILE (BINARY-PATHNAME SRC FASL-DIR)) COLLECT IT))) (APPEND (COLLECT-FASLS (SRC-FILES *SWANK-FILES* *SOURCE-DIRECTORY*) *FASL-DIRECTORY*) (WHEN INCLUDE-CONTRIBS (COLLECT-FASLS (SRC-FILES *CONTRIBS* (CONTRIB-DIR *SOURCE-DIRECTORY*)) (CONTRIB-DIR *FASL-DIRECTORY*))))))\n",
      "\" "
     ]
    },
    {
     "data": {
      "text/plain": [
       "T"
      ]
     },
     "execution_count": 2,
     "metadata": {},
     "output_type": "execute_result"
    }
   ],
   "source": [
    "(start-swank)"
   ]
  },
  {
   "cell_type": "code",
   "execution_count": 3,
   "metadata": {},
   "outputs": [
    {
     "data": {
      "text/plain": [
       "(#P\"/Users/tuj24515/Development/amber16/dat/antechamber/\"\n",
       " #P\"/Users/tuj24515/Development/amber16/dat/leap/prep/\"\n",
       " #P\"/Users/tuj24515/Development/amber16/dat/leap/parm/\"\n",
       " #P\"/Users/tuj24515/Development/amber16/dat/leap/lib/\"\n",
       " #P\"/Users/tuj24515/Development/amber16/dat/leap/cmd/\")"
      ]
     },
     "execution_count": 3,
     "metadata": {},
     "output_type": "execute_result"
    }
   ],
   "source": [
    "(add-path \"~/Development/amber16/dat/leap/cmd/\")\n",
    "(add-path \"~/Development/amber16/dat/leap/lib/\")\n",
    "(add-path \"~/Development/amber16/dat/leap/parm/\")\n",
    "(add-path \"~/Development/amber16/dat/leap/prep/\")\n",
    "(add-path \"~/Development/amber16/dat/antechamber/\")"
   ]
  },
  {
   "cell_type": "code",
   "execution_count": 4,
   "metadata": {},
   "outputs": [
    {
     "data": {
      "text/plain": [
       "(#<FORCE-FIELD ATOMTYPE_AMBER.DEF>)"
      ]
     },
     "execution_count": 4,
     "metadata": {},
     "output_type": "execute_result"
    }
   ],
   "source": [
    "(load-atom-type-rules \"ATOMTYPE_AMBER.DEF\")"
   ]
  },
  {
   "cell_type": "code",
   "execution_count": 5,
   "metadata": {},
   "outputs": [
    {
     "name": "stderr",
     "output_type": "stream",
     "text": [
      "SIMPLE-WARNING: \n",
      "add-atom-types doesn't do anything\n",
      "SIMPLE-WARNING: \n",
      "Warning!  Skipping 10-12 hbond\n",
      "SIMPLE-WARNING: \n",
      "Warning!  Skipping force field atom equivalences\n"
     ]
    },
    {
     "data": {
      "text/plain": [
       "T"
      ]
     },
     "execution_count": 5,
     "metadata": {},
     "output_type": "execute_result"
    }
   ],
   "source": [
    "(source \"leaprc.protein.ff14SB\")"
   ]
  },
  {
   "cell_type": "code",
   "execution_count": 7,
   "metadata": {},
   "outputs": [
    {
     "data": {
      "text/plain": [
       "*CHEMAGG*"
      ]
     },
     "execution_count": 7,
     "metadata": {},
     "output_type": "execute_result"
    }
   ],
   "source": [
    "(defparameter *chemagg* (cando:load-chem-draw-aggregate \"arylboronate.cdxml\"))"
   ]
  },
  {
   "cell_type": "code",
   "execution_count": 8,
   "metadata": {},
   "outputs": [
    {
     "data": {
      "application/vnd.jupyter.widget-view+json": {
       "model_id": "38515669-062B-468B-A7AC-062532E4B1FB",
       "version_major": 2,
       "version_minor": 0
      },
      "text/plain": [
       "A Jupyter Widget"
      ]
     },
     "execution_count": 8,
     "metadata": {},
     "output_type": "execute_result"
    }
   ],
   "source": [
    "(nglv::show-aggregate *chemagg*)"
   ]
  },
  {
   "cell_type": "code",
   "execution_count": 9,
   "metadata": {},
   "outputs": [
    {
     "data": {
      "text/plain": [
       "*STEREOCENTERS*"
      ]
     },
     "execution_count": 9,
     "metadata": {},
     "output_type": "execute_result"
    }
   ],
   "source": [
    "(defparameter *stereocenters* (cando:gather-stereocenters *chemagg*))"
   ]
  },
  {
   "cell_type": "code",
   "execution_count": 10,
   "metadata": {},
   "outputs": [
    {
     "data": {
      "text/plain": [
       "NIL"
      ]
     },
     "execution_count": 10,
     "metadata": {},
     "output_type": "execute_result"
    }
   ],
   "source": [
    "(cando:set-stereoisomer-func *stereocenters* (lambda (c) :R))"
   ]
  },
  {
   "cell_type": "code",
   "execution_count": 11,
   "metadata": {},
   "outputs": [
    {
     "data": {
      "text/plain": [
       "NIL"
      ]
     },
     "execution_count": 11,
     "metadata": {},
     "output_type": "execute_result"
    }
   ],
   "source": [
    "(chem:set-property *chemagg* :solvent-box '(50.0 50.0 50.0))"
   ]
  },
  {
   "cell_type": "code",
   "execution_count": 12,
   "metadata": {},
   "outputs": [
    {
     "name": "stderr",
     "output_type": "stream",
     "text": [
      "SIMPLE-WARNING: \n",
      "Implement merge of FFVdwDb\n",
      "SIMPLE-WARNING: \n",
      "Implement merge of FFVdwDb\n",
      "SIMPLE-WARNING: \n",
      "Implement merge of FFVdwDb\n"
     ]
    },
    {
     "data": {
      "text/plain": [
       "*FF*"
      ]
     },
     "execution_count": 12,
     "metadata": {},
     "output_type": "execute_result"
    }
   ],
   "source": [
    "(:= *ff* (leap.core::merged-force-field))"
   ]
  },
  {
   "cell_type": "code",
   "execution_count": null,
   "metadata": {
    "collapsed": true
   },
   "outputs": [],
   "source": []
  }
 ],
 "metadata": {
  "kernelspec": {
   "display_name": "Cando",
   "language": "lisp",
   "name": "lisp"
  },
  "language_info": {
   "codemirror_mode": "text/x-common-lisp",
   "mimetype": "text/x-common-lisp",
   "name": "common-lisp",
   "pygments_lexer": "common-lisp",
   "version": "X3J13"
  }
 },
 "nbformat": 4,
 "nbformat_minor": 2
}
