{
 "cells": [
  {
   "cell_type": "markdown",
   "metadata": {},
   "source": [
    "## Basic settings "
   ]
  },
  {
   "cell_type": "code",
   "execution_count": 1,
   "metadata": {},
   "outputs": [
    {
     "data": {
      "text/plain": [
       "T"
      ]
     },
     "execution_count": 1,
     "metadata": {},
     "output_type": "execute_result"
    }
   ],
   "source": [
    "(start-swank)"
   ]
  },
  {
   "cell_type": "code",
   "execution_count": 2,
   "metadata": {},
   "outputs": [
    {
     "data": {
      "text/plain": [
       "(#P\"/Users/tuj24515/Development/amber16/dat/antechamber/\"\n",
       " #P\"/Users/tuj24515/Development/amber16/dat/leap/cmd/\"\n",
       " #P\"/Users/tuj24515/Development/amber16/dat/leap/parm/\"\n",
       " #P\"/Users/tuj24515/Development/amber16/dat/leap/lib/\"\n",
       " #P\"/Users/tuj24515/Development/amber16/dat/leap/prep/\"\n",
       " #P\"/Users/tuj24515/Development/clasp/extensions/cando/src/tests/pdbfile/\")"
      ]
     },
     "execution_count": 2,
     "metadata": {},
     "output_type": "execute_result"
    }
   ],
   "source": [
    "(leap.core::clear-path)\n",
    "(add-path \"~/Development/clasp/extensions/cando/src/tests/pdbfile/\")\n",
    "(add-path \"~/Development/amber16/dat/leap/prep/\")\n",
    "(add-path \"~/Development/amber16/dat/leap/lib/\")\n",
    "(add-path \"~/Development/amber16/dat/leap/parm/\")\n",
    "(add-path \"~/Development/amber16/dat/leap/cmd/\")\n",
    "(add-path \"~/Development/amber16/dat/antechamber/\")"
   ]
  },
  {
   "cell_type": "markdown",
   "metadata": {},
   "source": [
    "#### Load force field parameters. "
   ]
  },
  {
   "cell_type": "code",
   "execution_count": 3,
   "metadata": {
    "scrolled": true
   },
   "outputs": [
    {
     "name": "stderr",
     "output_type": "stream",
     "text": [
      "SIMPLE-WARNING: \n",
      "add-atom-types doesn't do anything\n",
      "SIMPLE-WARNING: \n",
      "Warning!  Skipping 10-12 hbond\n",
      "SIMPLE-WARNING: \n",
      "Warning!  Skipping force field atom equivalences\n"
     ]
    },
    {
     "data": {
      "text/plain": [
       "T"
      ]
     },
     "execution_count": 3,
     "metadata": {},
     "output_type": "execute_result"
    }
   ],
   "source": [
    "(source \"leaprc.protein.ff14SB\")"
   ]
  },
  {
   "cell_type": "code",
   "execution_count": 4,
   "metadata": {
    "scrolled": true
   },
   "outputs": [
    {
     "data": {
      "text/plain": [
       "*FF*"
      ]
     },
     "execution_count": 4,
     "metadata": {},
     "output_type": "execute_result"
    }
   ],
   "source": [
    "(load-atom-type-rules \"ATOMTYPE_AMBER.DEF\")\n",
    "(load-atom-type-rules \"water_amber.def\")\n",
    "(:= *ff* (leap.core::merged-force-field))"
   ]
  },
  {
   "cell_type": "markdown",
   "metadata": {},
   "source": [
    "#### Load PDB file. "
   ]
  },
  {
   "cell_type": "code",
   "execution_count": null,
   "metadata": {
    "scrolled": true
   },
   "outputs": [],
   "source": [
    "(defparameter *9lyzagg* (leap.pdb:loadPdb \"9lyz.pdb\"))"
   ]
  },
  {
   "cell_type": "code",
   "execution_count": 6,
   "metadata": {
    "scrolled": true
   },
   "outputs": [
    {
     "data": {
      "text/plain": [
       "103"
      ]
     },
     "execution_count": 6,
     "metadata": {},
     "output_type": "execute_result"
    }
   ],
   "source": [
    "(chem:content-size *9lyzagg*)"
   ]
  },
  {
   "cell_type": "code",
   "execution_count": 7,
   "metadata": {},
   "outputs": [
    {
     "name": "stdout",
     "output_type": "stream",
     "text": [
      ":ssbond for (SSBOND A 6 A 127)\n",
      ":ssbond for (SSBOND A 30 A 115)\n",
      ":ssbond for (SSBOND A 64 A 80)\n",
      ":ssbond for (SSBOND A 76 A 94)\n"
     ]
    },
    {
     "name": "stderr",
     "output_type": "stream",
     "text": [
      "SIMPLE-WARNING: \n",
      "Could not immediately identify topology for (AMU . HEAD)\n",
      "SIMPLE-WARNING: \n",
      "Could not identify topology for (AMU . HEAD)\n",
      "SIMPLE-WARNING: \n",
      "Could not immediately identify topology for (NAG . MAIN)\n",
      "SIMPLE-WARNING: \n",
      "Could not identify topology for (NAG . MAIN)\n",
      "SIMPLE-WARNING: \n",
      "Could not immediately identify topology for (AMU . MAIN)\n",
      "SIMPLE-WARNING: \n",
      "Could not identify topology for (AMU . MAIN)\n",
      "SIMPLE-WARNING: \n",
      "Could not immediately identify topology for (HOH . MAIN)\n",
      "SIMPLE-WARNING: \n",
      "Could not identify topology for (HOH . MAIN)\n",
      "SIMPLE-WARNING: \n",
      "Could not immediately identify topology for (HOH . MAIN)\n",
      "SIMPLE-WARNING: \n",
      "Could not immediately identify topology for (HOH . MAIN)\n",
      "SIMPLE-WARNING: \n",
      "Could not immediately identify topology for (HOH . MAIN)\n",
      "SIMPLE-WARNING: \n",
      "Could not immediately identify topology for (HOH . MAIN)\n",
      "SIMPLE-WARNING: \n",
      "Could not immediately identify topology for (HOH . MAIN)\n",
      "SIMPLE-WARNING: \n",
      "Could not immediately identify topology for (HOH . MAIN)\n",
      "SIMPLE-WARNING: \n",
      "Could not immediately identify topology for (HOH . MAIN)\n",
      "SIMPLE-WARNING: \n",
      "Could not immediately identify topology for (HOH . MAIN)\n",
      "SIMPLE-WARNING: \n",
      "Could not immediately identify topology for (HOH . MAIN)\n",
      "SIMPLE-WARNING: \n",
      "Could not immediately identify topology for (HOH . MAIN)\n",
      "SIMPLE-WARNING: \n",
      "Could not immediately identify topology for (HOH . MAIN)\n",
      "SIMPLE-WARNING: \n",
      "Could not immediately identify topology for (HOH . MAIN)\n",
      "SIMPLE-WARNING: \n",
      "Could not immediately identify topology for (HOH . MAIN)\n",
      "SIMPLE-WARNING: \n",
      "Could not immediately identify topology for (HOH . MAIN)\n",
      "SIMPLE-WARNING: \n",
      "Could not immediately identify topology for (HOH . MAIN)\n",
      "SIMPLE-WARNING: \n",
      "Could not immediately identify topology for (HOH . MAIN)\n",
      "SIMPLE-WARNING: \n",
      "Could not immediately identify topology for (HOH . MAIN)\n",
      "SIMPLE-WARNING: \n",
      "Could not immediately identify topology for (HOH . MAIN)\n",
      "SIMPLE-WARNING: \n",
      "Could not immediately identify topology for (HOH . MAIN)\n",
      "SIMPLE-WARNING: \n",
      "Could not immediately identify topology for (HOH . MAIN)\n",
      "SIMPLE-WARNING: \n",
      "Could not immediately identify topology for (HOH . MAIN)\n",
      "SIMPLE-WARNING: \n",
      "Could not immediately identify topology for (HOH . MAIN)\n",
      "SIMPLE-WARNING: \n",
      "Could not immediately identify topology for (HOH . MAIN)\n",
      "SIMPLE-WARNING: \n",
      "Could not immediately identify topology for (HOH . MAIN)\n",
      "SIMPLE-WARNING: \n",
      "Could not immediately identify topology for (HOH . MAIN)\n",
      "SIMPLE-WARNING: \n",
      "Could not immediately identify topology for (HOH . MAIN)\n",
      "SIMPLE-WARNING: \n",
      "Could not immediately identify topology for (HOH . MAIN)\n",
      "SIMPLE-WARNING: \n",
      "Could not immediately identify topology for (HOH . MAIN)\n",
      "SIMPLE-WARNING: \n",
      "Could not immediately identify topology for (HOH . MAIN)\n",
      "SIMPLE-WARNING: \n",
      "Could not immediately identify topology for (HOH . MAIN)\n",
      "SIMPLE-WARNING: \n",
      "Could not immediately identify topology for (HOH . MAIN)\n",
      "SIMPLE-WARNING: \n",
      "Could not immediately identify topology for (HOH . MAIN)\n",
      "SIMPLE-WARNING: \n",
      "Could not immediately identify topology for (HOH . MAIN)\n",
      "SIMPLE-WARNING: \n",
      "Could not immediately identify topology for (HOH . MAIN)\n",
      "SIMPLE-WARNING: \n",
      "Could not immediately identify topology for (HOH . MAIN)\n",
      "SIMPLE-WARNING: \n",
      "Could not immediately identify topology for (HOH . MAIN)\n",
      "SIMPLE-WARNING: \n",
      "Could not immediately identify topology for (HOH . MAIN)\n",
      "SIMPLE-WARNING: \n",
      "Could not immediately identify topology for (HOH . MAIN)\n",
      "SIMPLE-WARNING: \n",
      "Could not immediately identify topology for (HOH . MAIN)\n",
      "SIMPLE-WARNING: \n",
      "Could not immediately identify topology for (HOH . MAIN)\n",
      "SIMPLE-WARNING: \n",
      "Could not immediately identify topology for (HOH . MAIN)\n",
      "SIMPLE-WARNING: \n",
      "Could not immediately identify topology for (HOH . MAIN)\n",
      "SIMPLE-WARNING: \n",
      "Could not immediately identify topology for (HOH . MAIN)\n",
      "SIMPLE-WARNING: \n",
      "Could not immediately identify topology for (HOH . MAIN)\n",
      "SIMPLE-WARNING: \n",
      "Could not immediately identify topology for (HOH . MAIN)\n",
      "SIMPLE-WARNING: \n",
      "Could not immediately identify topology for (HOH . MAIN)\n",
      "SIMPLE-WARNING: \n",
      "Could not immediately identify topology for (HOH . MAIN)\n",
      "SIMPLE-WARNING: \n",
      "Could not immediately identify topology for (HOH . MAIN)\n",
      "SIMPLE-WARNING: \n",
      "Could not immediately identify topology for (HOH . MAIN)\n",
      "SIMPLE-WARNING: \n",
      "Could not immediately identify topology for (HOH . MAIN)\n",
      "SIMPLE-WARNING: \n",
      "Could not immediately identify topology for (HOH . MAIN)\n",
      "SIMPLE-WARNING: \n",
      "Could not immediately identify topology for (HOH . MAIN)\n",
      "SIMPLE-WARNING: \n",
      "Could not immediately identify topology for (HOH . MAIN)\n",
      "SIMPLE-WARNING: \n",
      "Could not immediately identify topology for (HOH . MAIN)\n",
      "SIMPLE-WARNING: \n",
      "Could not immediately identify topology for (HOH . MAIN)\n",
      "SIMPLE-WARNING: \n",
      "Could not immediately identify topology for (HOH . MAIN)\n",
      "SIMPLE-WARNING: \n",
      "Could not immediately identify topology for (HOH . MAIN)\n",
      "SIMPLE-WARNING: \n",
      "Could not immediately identify topology for (HOH . MAIN)\n",
      "SIMPLE-WARNING: \n",
      "Could not immediately identify topology for (HOH . MAIN)\n",
      "SIMPLE-WARNING: \n",
      "Could not immediately identify topology for (HOH . MAIN)\n",
      "SIMPLE-WARNING: \n",
      "Could not immediately identify topology for (HOH . MAIN)\n",
      "SIMPLE-WARNING: \n",
      "Could not immediately identify topology for (HOH . MAIN)\n",
      "SIMPLE-WARNING: \n",
      "Could not immediately identify topology for (HOH . MAIN)\n",
      "SIMPLE-WARNING: \n",
      "Could not immediately identify topology for (HOH . MAIN)\n",
      "SIMPLE-WARNING: \n",
      "Could not immediately identify topology for (HOH . MAIN)\n",
      "SIMPLE-WARNING: \n",
      "Could not immediately identify topology for (HOH . MAIN)\n",
      "SIMPLE-WARNING: \n",
      "Could not immediately identify topology for (HOH . MAIN)\n",
      "SIMPLE-WARNING: \n",
      "Could not immediately identify topology for (HOH . MAIN)\n",
      "SIMPLE-WARNING: \n",
      "Could not immediately identify topology for (HOH . MAIN)\n",
      "SIMPLE-WARNING: \n",
      "Could not immediately identify topology for (HOH . MAIN)\n",
      "SIMPLE-WARNING: \n",
      "Could not immediately identify topology for (HOH . MAIN)\n",
      "SIMPLE-WARNING: \n",
      "Could not immediately identify topology for (HOH . MAIN)\n",
      "SIMPLE-WARNING: \n",
      "Could not immediately identify topology for (HOH . MAIN)\n",
      "SIMPLE-WARNING: \n",
      "Could not immediately identify topology for (HOH . MAIN)\n",
      "SIMPLE-WARNING: \n",
      "Could not immediately identify topology for (HOH . MAIN)\n",
      "SIMPLE-WARNING: \n",
      "Could not immediately identify topology for (HOH . MAIN)\n",
      "SIMPLE-WARNING: \n",
      "Could not immediately identify topology for (HOH . MAIN)\n",
      "SIMPLE-WARNING: \n",
      "Could not immediately identify topology for (HOH . MAIN)\n",
      "SIMPLE-WARNING: \n",
      "Could not immediately identify topology for (HOH . MAIN)\n",
      "SIMPLE-WARNING: \n",
      "Could not immediately identify topology for (HOH . MAIN)\n",
      "SIMPLE-WARNING: \n",
      "Could not immediately identify topology for (HOH . MAIN)\n",
      "SIMPLE-WARNING: \n",
      "Could not immediately identify topology for (HOH . MAIN)\n",
      "SIMPLE-WARNING: \n",
      "Could not immediately identify topology for (HOH . MAIN)\n",
      "SIMPLE-WARNING: \n",
      "Could not immediately identify topology for (HOH . MAIN)\n",
      "SIMPLE-WARNING: \n",
      "Could not immediately identify topology for (HOH . MAIN)\n",
      "SIMPLE-WARNING: \n",
      "Could not immediately identify topology for (HOH . MAIN)\n",
      "SIMPLE-WARNING: \n",
      "Could not immediately identify topology for (HOH . MAIN)\n",
      "SIMPLE-WARNING: \n",
      "Could not immediately identify topology for (HOH . MAIN)\n",
      "SIMPLE-WARNING: \n",
      "Could not immediately identify topology for (HOH . MAIN)\n",
      "SIMPLE-WARNING: \n",
      "Could not immediately identify topology for (HOH . MAIN)\n",
      "SIMPLE-WARNING: \n",
      "Could not immediately identify topology for (HOH . MAIN)\n",
      "SIMPLE-WARNING: \n",
      "Could not immediately identify topology for (HOH . MAIN)\n",
      "SIMPLE-WARNING: \n",
      "Could not immediately identify topology for (HOH . MAIN)\n",
      "SIMPLE-WARNING: \n",
      "Could not immediately identify topology for (HOH . MAIN)\n",
      "SIMPLE-WARNING: \n",
      "Could not immediately identify topology for (HOH . MAIN)\n",
      "SIMPLE-WARNING: \n",
      "Could not immediately identify topology for (HOH . MAIN)\n",
      "SIMPLE-WARNING: \n",
      "Could not immediately identify topology for (HOH . MAIN)\n",
      "SIMPLE-WARNING: \n",
      "Could not immediately identify topology for (HOH . MAIN)\n",
      "SIMPLE-WARNING: \n",
      "Could not immediately identify topology for (HOH . MAIN)\n",
      "SIMPLE-WARNING: \n",
      "Could not immediately identify topology for (HOH . MAIN)\n",
      "SIMPLE-WARNING: \n",
      "Could not immediately identify topology for (HOH . TAIL)\n",
      "SIMPLE-WARNING: \n",
      "Could not identify topology for (HOH . TAIL)\n"
     ]
    },
    {
     "data": {
      "text/plain": [
       "*9LYZ-SCAN*"
      ]
     },
     "execution_count": 7,
     "metadata": {},
     "output_type": "execute_result"
    }
   ],
   "source": [
    "(defparameter *9lyz-scan* (leap.pdb:scan-pdb \"9lyz.pdb\"))"
   ]
  },
  {
   "cell_type": "code",
   "execution_count": 8,
   "metadata": {},
   "outputs": [
    {
     "data": {
      "text/plain": [
       "BAD"
      ]
     },
     "execution_count": 8,
     "metadata": {},
     "output_type": "execute_result"
    }
   ],
   "source": [
    "(:= bad (second (leap.pdb::sequences *9lyz-scan*)))"
   ]
  },
  {
   "cell_type": "code",
   "execution_count": 9,
   "metadata": {
    "scrolled": true
   },
   "outputs": [
    {
     "data": {
      "text/plain": [
       "(#<PDB-RESIDUE AMU> #<PDB-RESIDUE NAG> #<PDB-RESIDUE AMU> #<PDB-RESIDUE HOH>\n",
       " #<PDB-RESIDUE HOH> #<PDB-RESIDUE HOH> #<PDB-RESIDUE HOH> #<PDB-RESIDUE HOH>\n",
       " #<PDB-RESIDUE HOH> #<PDB-RESIDUE HOH> #<PDB-RESIDUE HOH> #<PDB-RESIDUE HOH>\n",
       " #<PDB-RESIDUE HOH> #<PDB-RESIDUE HOH> #<PDB-RESIDUE HOH> #<PDB-RESIDUE HOH>\n",
       " #<PDB-RESIDUE HOH> #<PDB-RESIDUE HOH> #<PDB-RESIDUE HOH> #<PDB-RESIDUE HOH>\n",
       " #<PDB-RESIDUE HOH> #<PDB-RESIDUE HOH> #<PDB-RESIDUE HOH> #<PDB-RESIDUE HOH>\n",
       " #<PDB-RESIDUE HOH> #<PDB-RESIDUE HOH> #<PDB-RESIDUE HOH> #<PDB-RESIDUE HOH>\n",
       " #<PDB-RESIDUE HOH> #<PDB-RESIDUE HOH> #<PDB-RESIDUE HOH> #<PDB-RESIDUE HOH>\n",
       " #<PDB-RESIDUE HOH> #<PDB-RESIDUE HOH> #<PDB-RESIDUE HOH> #<PDB-RESIDUE HOH>\n",
       " #<PDB-RESIDUE HOH> #<PDB-RESIDUE HOH> #<PDB-RESIDUE HOH> #<PDB-RESIDUE HOH>\n",
       " #<PDB-RESIDUE HOH> #<PDB-RESIDUE HOH> #<PDB-RESIDUE HOH> #<PDB-RESIDUE HOH>\n",
       " #<PDB-RESIDUE HOH> #<PDB-RESIDUE HOH> #<PDB-RESIDUE HOH> #<PDB-RESIDUE HOH>\n",
       " #<PDB-RESIDUE HOH> #<PDB-RESIDUE HOH> #<PDB-RESIDUE HOH> #<PDB-RESIDUE HOH>\n",
       " #<PDB-RESIDUE HOH> #<PDB-RESIDUE HOH> #<PDB-RESIDUE HOH> #<PDB-RESIDUE HOH>\n",
       " #<PDB-RESIDUE HOH> #<PDB-RESIDUE HOH> #<PDB-RESIDUE HOH> #<PDB-RESIDUE HOH>\n",
       " #<PDB-RESIDUE HOH> #<PDB-RESIDUE HOH> #<PDB-RESIDUE HOH> #<PDB-RESIDUE HOH>\n",
       " #<PDB-RESIDUE HOH> #<PDB-RESIDUE HOH> #<PDB-RESIDUE HOH> #<PDB-RESIDUE HOH>\n",
       " #<PDB-RESIDUE HOH> #<PDB-RESIDUE HOH> #<PDB-RESIDUE HOH> #<PDB-RESIDUE HOH>\n",
       " #<PDB-RESIDUE HOH> #<PDB-RESIDUE HOH> #<PDB-RESIDUE HOH> #<PDB-RESIDUE HOH>\n",
       " #<PDB-RESIDUE HOH> #<PDB-RESIDUE HOH> #<PDB-RESIDUE HOH> #<PDB-RESIDUE HOH>\n",
       " #<PDB-RESIDUE HOH> #<PDB-RESIDUE HOH> #<PDB-RESIDUE HOH> #<PDB-RESIDUE HOH>\n",
       " #<PDB-RESIDUE HOH> #<PDB-RESIDUE HOH> #<PDB-RESIDUE HOH> #<PDB-RESIDUE HOH>\n",
       " #<PDB-RESIDUE HOH> #<PDB-RESIDUE HOH> #<PDB-RESIDUE HOH> #<PDB-RESIDUE HOH>\n",
       " #<PDB-RESIDUE HOH> #<PDB-RESIDUE HOH> #<PDB-RESIDUE HOH> #<PDB-RESIDUE HOH>\n",
       " #<PDB-RESIDUE HOH> #<PDB-RESIDUE HOH> #<PDB-RESIDUE HOH> #<PDB-RESIDUE HOH>\n",
       " #<PDB-RESIDUE HOH> #<PDB-RESIDUE HOH> #<PDB-RESIDUE HOH> #<PDB-RESIDUE HOH>)"
      ]
     },
     "execution_count": 9,
     "metadata": {},
     "output_type": "execute_result"
    }
   ],
   "source": [
    "bad"
   ]
  },
  {
   "cell_type": "code",
   "execution_count": 10,
   "metadata": {},
   "outputs": [
    {
     "data": {
      "text/plain": [
       "FIX-SCANNER"
      ]
     },
     "execution_count": 10,
     "metadata": {},
     "output_type": "execute_result"
    }
   ],
   "source": [
    "(defun fix-scanner (scanner)\n",
    "    (let ((protein (first (leap.pdb::sequences scanner)))\n",
    "          (rest (second (leap.pdb::sequences scanner))))\n",
    "        (let ((sugar (subseq rest 0 3))\n",
    "               (waters (loop for wat in (subseq rest 4) collect (list wat))))\n",
    "             (format t \"sugar -> ~a~%\" sugar)\n",
    "              (format t \"waters -> ~a~%\" waters)\n",
    "             (list* protein sugar waters))))"
   ]
  },
  {
   "cell_type": "code",
   "execution_count": 11,
   "metadata": {
    "scrolled": true
   },
   "outputs": [
    {
     "name": "stdout",
     "output_type": "stream",
     "text": [
      "sugar -> (#<PDB-RESIDUE AMU> #<PDB-RESIDUE NAG> #<PDB-RESIDUE AMU>)\n",
      "waters -> ((#<PDB-RESIDUE HOH>) (#<PDB-RESIDUE HOH>) (#<PDB-RESIDUE HOH>)\n",
      "           (#<PDB-RESIDUE HOH>) (#<PDB-RESIDUE HOH>) (#<PDB-RESIDUE HOH>)\n",
      "           (#<PDB-RESIDUE HOH>) (#<PDB-RESIDUE HOH>) (#<PDB-RESIDUE HOH>)\n",
      "           (#<PDB-RESIDUE HOH>) (#<PDB-RESIDUE HOH>) (#<PDB-RESIDUE HOH>)\n",
      "           (#<PDB-RESIDUE HOH>) (#<PDB-RESIDUE HOH>) (#<PDB-RESIDUE HOH>)\n",
      "           (#<PDB-RESIDUE HOH>) (#<PDB-RESIDUE HOH>) (#<PDB-RESIDUE HOH>)\n",
      "           (#<PDB-RESIDUE HOH>) (#<PDB-RESIDUE HOH>) (#<PDB-RESIDUE HOH>)\n",
      "           (#<PDB-RESIDUE HOH>) (#<PDB-RESIDUE HOH>) (#<PDB-RESIDUE HOH>)\n",
      "           (#<PDB-RESIDUE HOH>) (#<PDB-RESIDUE HOH>) (#<PDB-RESIDUE HOH>)\n",
      "           (#<PDB-RESIDUE HOH>) (#<PDB-RESIDUE HOH>) (#<PDB-RESIDUE HOH>)\n",
      "           (#<PDB-RESIDUE HOH>) (#<PDB-RESIDUE HOH>) (#<PDB-RESIDUE HOH>)\n",
      "           (#<PDB-RESIDUE HOH>) (#<PDB-RESIDUE HOH>) (#<PDB-RESIDUE HOH>)\n",
      "           (#<PDB-RESIDUE HOH>) (#<PDB-RESIDUE HOH>) (#<PDB-RESIDUE HOH>)\n",
      "           (#<PDB-RESIDUE HOH>) (#<PDB-RESIDUE HOH>) (#<PDB-RESIDUE HOH>)\n",
      "           (#<PDB-RESIDUE HOH>) (#<PDB-RESIDUE HOH>) (#<PDB-RESIDUE HOH>)\n",
      "           (#<PDB-RESIDUE HOH>) (#<PDB-RESIDUE HOH>) (#<PDB-RESIDUE HOH>)\n",
      "           (#<PDB-RESIDUE HOH>) (#<PDB-RESIDUE HOH>) (#<PDB-RESIDUE HOH>)\n",
      "           (#<PDB-RESIDUE HOH>) (#<PDB-RESIDUE HOH>) (#<PDB-RESIDUE HOH>)\n",
      "           (#<PDB-RESIDUE HOH>) (#<PDB-RESIDUE HOH>) (#<PDB-RESIDUE HOH>)\n",
      "           (#<PDB-RESIDUE HOH>) (#<PDB-RESIDUE HOH>) (#<PDB-RESIDUE HOH>)\n",
      "           (#<PDB-RESIDUE HOH>) (#<PDB-RESIDUE HOH>) (#<PDB-RESIDUE HOH>)\n",
      "           (#<PDB-RESIDUE HOH>) (#<PDB-RESIDUE HOH>) (#<PDB-RESIDUE HOH>)\n",
      "           (#<PDB-RESIDUE HOH>) (#<PDB-RESIDUE HOH>) (#<PDB-RESIDUE HOH>)\n",
      "           (#<PDB-RESIDUE HOH>) (#<PDB-RESIDUE HOH>) (#<PDB-RESIDUE HOH>)\n",
      "           (#<PDB-RESIDUE HOH>) (#<PDB-RESIDUE HOH>) (#<PDB-RESIDUE HOH>)\n",
      "           (#<PDB-RESIDUE HOH>) (#<PDB-RESIDUE HOH>) (#<PDB-RESIDUE HOH>)\n",
      "           (#<PDB-RESIDUE HOH>) (#<PDB-RESIDUE HOH>) (#<PDB-RESIDUE HOH>)\n",
      "           (#<PDB-RESIDUE HOH>) (#<PDB-RESIDUE HOH>) (#<PDB-RESIDUE HOH>)\n",
      "           (#<PDB-RESIDUE HOH>) (#<PDB-RESIDUE HOH>) (#<PDB-RESIDUE HOH>)\n",
      "           (#<PDB-RESIDUE HOH>) (#<PDB-RESIDUE HOH>) (#<PDB-RESIDUE HOH>)\n",
      "           (#<PDB-RESIDUE HOH>) (#<PDB-RESIDUE HOH>) (#<PDB-RESIDUE HOH>)\n",
      "           (#<PDB-RESIDUE HOH>) (#<PDB-RESIDUE HOH>) (#<PDB-RESIDUE HOH>)\n",
      "           (#<PDB-RESIDUE HOH>) (#<PDB-RESIDUE HOH>) (#<PDB-RESIDUE HOH>)\n",
      "           (#<PDB-RESIDUE HOH>))\n"
     ]
    },
    {
     "data": {
      "text/plain": [
       "((#<PDB-RESIDUE LYS> #<PDB-RESIDUE VAL> #<PDB-RESIDUE PHE> #<PDB-RESIDUE GLY>\n",
       "  #<PDB-RESIDUE ARG> #<PDB-RESIDUE CYS> #<PDB-RESIDUE GLU> #<PDB-RESIDUE LEU>\n",
       "  #<PDB-RESIDUE ALA> #<PDB-RESIDUE ALA> #<PDB-RESIDUE ALA> #<PDB-RESIDUE MET>\n",
       "  #<PDB-RESIDUE LYS> #<PDB-RESIDUE ARG> #<PDB-RESIDUE HIS> #<PDB-RESIDUE GLY>\n",
       "  #<PDB-RESIDUE LEU> #<PDB-RESIDUE ASP> #<PDB-RESIDUE ASN> #<PDB-RESIDUE TYR>\n",
       "  #<PDB-RESIDUE ARG> #<PDB-RESIDUE GLY> #<PDB-RESIDUE TYR> #<PDB-RESIDUE SER>\n",
       "  #<PDB-RESIDUE LEU> #<PDB-RESIDUE GLY> #<PDB-RESIDUE ASN> #<PDB-RESIDUE TRP>\n",
       "  #<PDB-RESIDUE VAL> #<PDB-RESIDUE CYS> #<PDB-RESIDUE ALA> #<PDB-RESIDUE ALA>\n",
       "  #<PDB-RESIDUE LYS> #<PDB-RESIDUE PHE> #<PDB-RESIDUE GLU> #<PDB-RESIDUE SER>\n",
       "  #<PDB-RESIDUE ASN> #<PDB-RESIDUE PHE> #<PDB-RESIDUE ASN> #<PDB-RESIDUE THR>\n",
       "  #<PDB-RESIDUE GLN> #<PDB-RESIDUE ALA> #<PDB-RESIDUE THR> #<PDB-RESIDUE ASN>\n",
       "  #<PDB-RESIDUE ARG> #<PDB-RESIDUE ASN> #<PDB-RESIDUE THR> #<PDB-RESIDUE ASP>\n",
       "  #<PDB-RESIDUE GLY> #<PDB-RESIDUE SER> #<PDB-RESIDUE THR> #<PDB-RESIDUE ASP>\n",
       "  #<PDB-RESIDUE TYR> #<PDB-RESIDUE GLY> #<PDB-RESIDUE ILE> #<PDB-RESIDUE LEU>\n",
       "  #<PDB-RESIDUE GLN> #<PDB-RESIDUE ILE> #<PDB-RESIDUE ASN> #<PDB-RESIDUE SER>\n",
       "  #<PDB-RESIDUE ARG> #<PDB-RESIDUE TRP> #<PDB-RESIDUE TRP> #<PDB-RESIDUE CYS>\n",
       "  #<PDB-RESIDUE ASN> #<PDB-RESIDUE ASP> #<PDB-RESIDUE GLY> #<PDB-RESIDUE ARG>\n",
       "  #<PDB-RESIDUE THR> #<PDB-RESIDUE PRO> #<PDB-RESIDUE GLY> #<PDB-RESIDUE SER>\n",
       "  #<PDB-RESIDUE ARG> #<PDB-RESIDUE ASN> #<PDB-RESIDUE LEU> #<PDB-RESIDUE CYS>\n",
       "  #<PDB-RESIDUE ASN> #<PDB-RESIDUE ILE> #<PDB-RESIDUE PRO> #<PDB-RESIDUE CYS>\n",
       "  #<PDB-RESIDUE SER> #<PDB-RESIDUE ALA> #<PDB-RESIDUE LEU> #<PDB-RESIDUE LEU>\n",
       "  #<PDB-RESIDUE SER> #<PDB-RESIDUE SER> #<PDB-RESIDUE ASP> #<PDB-RESIDUE ILE>\n",
       "  #<PDB-RESIDUE THR> #<PDB-RESIDUE ALA> #<PDB-RESIDUE SER> #<PDB-RESIDUE VAL>\n",
       "  #<PDB-RESIDUE ASN> #<PDB-RESIDUE CYS> #<PDB-RESIDUE ALA> #<PDB-RESIDUE LYS>\n",
       "  #<PDB-RESIDUE LYS> #<PDB-RESIDUE ILE> #<PDB-RESIDUE VAL> #<PDB-RESIDUE SER>\n",
       "  #<PDB-RESIDUE ASP> #<PDB-RESIDUE GLY> #<PDB-RESIDUE ASN> #<PDB-RESIDUE GLY>\n",
       "  #<PDB-RESIDUE MET> #<PDB-RESIDUE ASN> #<PDB-RESIDUE ALA> #<PDB-RESIDUE TRP>\n",
       "  #<PDB-RESIDUE VAL> #<PDB-RESIDUE ALA> #<PDB-RESIDUE TRP> #<PDB-RESIDUE ARG>\n",
       "  #<PDB-RESIDUE ASN> #<PDB-RESIDUE ARG> #<PDB-RESIDUE CYS> #<PDB-RESIDUE LYS>\n",
       "  #<PDB-RESIDUE GLY> #<PDB-RESIDUE THR> #<PDB-RESIDUE ASP> #<PDB-RESIDUE VAL>\n",
       "  #<PDB-RESIDUE GLN> #<PDB-RESIDUE ALA> #<PDB-RESIDUE TRP> #<PDB-RESIDUE ILE>\n",
       "  #<PDB-RESIDUE ARG> #<PDB-RESIDUE GLY> #<PDB-RESIDUE CYS> #<PDB-RESIDUE ARG>\n",
       "  #<PDB-RESIDUE LEU>)\n",
       " (#<PDB-RESIDUE AMU> #<PDB-RESIDUE NAG> #<PDB-RESIDUE AMU>)\n",
       " (#<PDB-RESIDUE HOH>) (#<PDB-RESIDUE HOH>) (#<PDB-RESIDUE HOH>)\n",
       " (#<PDB-RESIDUE HOH>) (#<PDB-RESIDUE HOH>) (#<PDB-RESIDUE HOH>)\n",
       " (#<PDB-RESIDUE HOH>) (#<PDB-RESIDUE HOH>) (#<PDB-RESIDUE HOH>)\n",
       " (#<PDB-RESIDUE HOH>) (#<PDB-RESIDUE HOH>) (#<PDB-RESIDUE HOH>)\n",
       " (#<PDB-RESIDUE HOH>) (#<PDB-RESIDUE HOH>) (#<PDB-RESIDUE HOH>)\n",
       " (#<PDB-RESIDUE HOH>) (#<PDB-RESIDUE HOH>) (#<PDB-RESIDUE HOH>)\n",
       " (#<PDB-RESIDUE HOH>) (#<PDB-RESIDUE HOH>) (#<PDB-RESIDUE HOH>)\n",
       " (#<PDB-RESIDUE HOH>) (#<PDB-RESIDUE HOH>) (#<PDB-RESIDUE HOH>)\n",
       " (#<PDB-RESIDUE HOH>) (#<PDB-RESIDUE HOH>) (#<PDB-RESIDUE HOH>)\n",
       " (#<PDB-RESIDUE HOH>) (#<PDB-RESIDUE HOH>) (#<PDB-RESIDUE HOH>)\n",
       " (#<PDB-RESIDUE HOH>) (#<PDB-RESIDUE HOH>) (#<PDB-RESIDUE HOH>)\n",
       " (#<PDB-RESIDUE HOH>) (#<PDB-RESIDUE HOH>) (#<PDB-RESIDUE HOH>)\n",
       " (#<PDB-RESIDUE HOH>) (#<PDB-RESIDUE HOH>) (#<PDB-RESIDUE HOH>)\n",
       " (#<PDB-RESIDUE HOH>) (#<PDB-RESIDUE HOH>) (#<PDB-RESIDUE HOH>)\n",
       " (#<PDB-RESIDUE HOH>) (#<PDB-RESIDUE HOH>) (#<PDB-RESIDUE HOH>)\n",
       " (#<PDB-RESIDUE HOH>) (#<PDB-RESIDUE HOH>) (#<PDB-RESIDUE HOH>)\n",
       " (#<PDB-RESIDUE HOH>) (#<PDB-RESIDUE HOH>) (#<PDB-RESIDUE HOH>)\n",
       " (#<PDB-RESIDUE HOH>) (#<PDB-RESIDUE HOH>) (#<PDB-RESIDUE HOH>)\n",
       " (#<PDB-RESIDUE HOH>) (#<PDB-RESIDUE HOH>) (#<PDB-RESIDUE HOH>)\n",
       " (#<PDB-RESIDUE HOH>) (#<PDB-RESIDUE HOH>) (#<PDB-RESIDUE HOH>)\n",
       " (#<PDB-RESIDUE HOH>) (#<PDB-RESIDUE HOH>) (#<PDB-RESIDUE HOH>)\n",
       " (#<PDB-RESIDUE HOH>) (#<PDB-RESIDUE HOH>) (#<PDB-RESIDUE HOH>)\n",
       " (#<PDB-RESIDUE HOH>) (#<PDB-RESIDUE HOH>) (#<PDB-RESIDUE HOH>)\n",
       " (#<PDB-RESIDUE HOH>) (#<PDB-RESIDUE HOH>) (#<PDB-RESIDUE HOH>)\n",
       " (#<PDB-RESIDUE HOH>) (#<PDB-RESIDUE HOH>) (#<PDB-RESIDUE HOH>)\n",
       " (#<PDB-RESIDUE HOH>) (#<PDB-RESIDUE HOH>) (#<PDB-RESIDUE HOH>)\n",
       " (#<PDB-RESIDUE HOH>) (#<PDB-RESIDUE HOH>) (#<PDB-RESIDUE HOH>)\n",
       " (#<PDB-RESIDUE HOH>) (#<PDB-RESIDUE HOH>) (#<PDB-RESIDUE HOH>)\n",
       " (#<PDB-RESIDUE HOH>) (#<PDB-RESIDUE HOH>) (#<PDB-RESIDUE HOH>)\n",
       " (#<PDB-RESIDUE HOH>) (#<PDB-RESIDUE HOH>) (#<PDB-RESIDUE HOH>)\n",
       " (#<PDB-RESIDUE HOH>) (#<PDB-RESIDUE HOH>) (#<PDB-RESIDUE HOH>)\n",
       " (#<PDB-RESIDUE HOH>) (#<PDB-RESIDUE HOH>) (#<PDB-RESIDUE HOH>)\n",
       " (#<PDB-RESIDUE HOH>) (#<PDB-RESIDUE HOH>) (#<PDB-RESIDUE HOH>)\n",
       " (#<PDB-RESIDUE HOH>))"
      ]
     },
     "execution_count": 11,
     "metadata": {},
     "output_type": "execute_result"
    }
   ],
   "source": [
    "(setf (leap.pdb::sequences *9lyz-scan*) (fix-scanner *9lyz-scan*))"
   ]
  },
  {
   "cell_type": "code",
   "execution_count": 12,
   "metadata": {},
   "outputs": [
    {
     "name": "stdout",
     "output_type": "stream",
     "text": [
      "popped residue: #<PDB-RESIDUE LYS>\n",
      "popped residue: #<PDB-RESIDUE VAL>\n",
      "popped residue: #<PDB-RESIDUE PHE>\n",
      "popped residue: #<PDB-RESIDUE GLY>\n",
      "popped residue: #<PDB-RESIDUE ARG>\n",
      "popped residue: #<PDB-RESIDUE CYS>\n",
      "popped residue: #<PDB-RESIDUE GLU>\n",
      "popped residue: #<PDB-RESIDUE LEU>\n",
      "popped residue: #<PDB-RESIDUE ALA>\n",
      "popped residue: #<PDB-RESIDUE ALA>\n",
      "popped residue: #<PDB-RESIDUE ALA>\n",
      "popped residue: #<PDB-RESIDUE MET>\n",
      "popped residue: #<PDB-RESIDUE LYS>\n",
      "popped residue: #<PDB-RESIDUE ARG>\n",
      "popped residue: #<PDB-RESIDUE HIS>\n",
      "popped residue: #<PDB-RESIDUE GLY>\n",
      "popped residue: #<PDB-RESIDUE LEU>\n",
      "popped residue: #<PDB-RESIDUE ASP>\n",
      "popped residue: #<PDB-RESIDUE ASN>\n",
      "popped residue: #<PDB-RESIDUE TYR>\n",
      "popped residue: #<PDB-RESIDUE ARG>\n",
      "popped residue: #<PDB-RESIDUE GLY>\n",
      "popped residue: #<PDB-RESIDUE TYR>\n",
      "popped residue: #<PDB-RESIDUE SER>\n",
      "popped residue: #<PDB-RESIDUE LEU>\n",
      "popped residue: #<PDB-RESIDUE GLY>\n",
      "popped residue: #<PDB-RESIDUE ASN>\n",
      "popped residue: #<PDB-RESIDUE TRP>\n",
      "popped residue: #<PDB-RESIDUE VAL>\n",
      "popped residue: #<PDB-RESIDUE CYS>\n",
      "popped residue: #<PDB-RESIDUE ALA>\n",
      "popped residue: #<PDB-RESIDUE ALA>\n",
      "popped residue: #<PDB-RESIDUE LYS>\n",
      "popped residue: #<PDB-RESIDUE PHE>\n",
      "popped residue: #<PDB-RESIDUE GLU>\n",
      "popped residue: #<PDB-RESIDUE SER>\n",
      "popped residue: #<PDB-RESIDUE ASN>\n",
      "popped residue: #<PDB-RESIDUE PHE>\n",
      "popped residue: #<PDB-RESIDUE ASN>\n",
      "popped residue: #<PDB-RESIDUE THR>\n",
      "popped residue: #<PDB-RESIDUE GLN>\n",
      "popped residue: #<PDB-RESIDUE ALA>\n",
      "popped residue: #<PDB-RESIDUE THR>\n",
      "popped residue: #<PDB-RESIDUE ASN>\n",
      "popped residue: #<PDB-RESIDUE ARG>\n",
      "popped residue: #<PDB-RESIDUE ASN>\n",
      "popped residue: #<PDB-RESIDUE THR>\n",
      "popped residue: #<PDB-RESIDUE ASP>\n",
      "popped residue: #<PDB-RESIDUE GLY>\n",
      "popped residue: #<PDB-RESIDUE SER>\n",
      "popped residue: #<PDB-RESIDUE THR>\n",
      "popped residue: #<PDB-RESIDUE ASP>\n",
      "popped residue: #<PDB-RESIDUE TYR>\n",
      "popped residue: #<PDB-RESIDUE GLY>\n",
      "popped residue: #<PDB-RESIDUE ILE>\n",
      "popped residue: #<PDB-RESIDUE LEU>\n",
      "popped residue: #<PDB-RESIDUE GLN>\n",
      "popped residue: #<PDB-RESIDUE ILE>\n",
      "popped residue: #<PDB-RESIDUE ASN>\n",
      "popped residue: #<PDB-RESIDUE SER>\n",
      "popped residue: #<PDB-RESIDUE ARG>\n",
      "popped residue: #<PDB-RESIDUE TRP>\n",
      "popped residue: #<PDB-RESIDUE TRP>\n",
      "popped residue: #<PDB-RESIDUE CYS>\n",
      "popped residue: #<PDB-RESIDUE ASN>\n",
      "popped residue: #<PDB-RESIDUE ASP>\n",
      "popped residue: #<PDB-RESIDUE GLY>\n",
      "popped residue: #<PDB-RESIDUE ARG>\n",
      "popped residue: #<PDB-RESIDUE THR>\n",
      "popped residue: #<PDB-RESIDUE PRO>\n",
      "popped residue: #<PDB-RESIDUE GLY>\n",
      "popped residue: #<PDB-RESIDUE SER>\n",
      "popped residue: #<PDB-RESIDUE ARG>\n",
      "popped residue: #<PDB-RESIDUE ASN>\n",
      "popped residue: #<PDB-RESIDUE LEU>\n",
      "popped residue: #<PDB-RESIDUE CYS>\n",
      "popped residue: #<PDB-RESIDUE ASN>\n",
      "popped residue: #<PDB-RESIDUE ILE>\n",
      "popped residue: #<PDB-RESIDUE PRO>\n",
      "popped residue: #<PDB-RESIDUE CYS>\n",
      "popped residue: #<PDB-RESIDUE SER>\n",
      "popped residue: #<PDB-RESIDUE ALA>\n",
      "popped residue: #<PDB-RESIDUE LEU>\n",
      "popped residue: #<PDB-RESIDUE LEU>\n",
      "popped residue: #<PDB-RESIDUE SER>\n",
      "popped residue: #<PDB-RESIDUE SER>\n",
      "popped residue: #<PDB-RESIDUE ASP>\n",
      "popped residue: #<PDB-RESIDUE ILE>\n",
      "popped residue: #<PDB-RESIDUE THR>\n",
      "popped residue: #<PDB-RESIDUE ALA>\n",
      "popped residue: #<PDB-RESIDUE SER>\n",
      "popped residue: #<PDB-RESIDUE VAL>\n",
      "popped residue: #<PDB-RESIDUE ASN>\n",
      "popped residue: #<PDB-RESIDUE CYS>\n",
      "popped residue: #<PDB-RESIDUE ALA>\n",
      "popped residue: #<PDB-RESIDUE LYS>\n",
      "popped residue: #<PDB-RESIDUE LYS>\n",
      "popped residue: #<PDB-RESIDUE ILE>\n",
      "popped residue: #<PDB-RESIDUE VAL>\n",
      "popped residue: #<PDB-RESIDUE SER>\n",
      "popped residue: #<PDB-RESIDUE ASP>\n",
      "popped residue: #<PDB-RESIDUE GLY>\n",
      "popped residue: #<PDB-RESIDUE ASN>\n",
      "popped residue: #<PDB-RESIDUE GLY>\n",
      "popped residue: #<PDB-RESIDUE MET>\n",
      "popped residue: #<PDB-RESIDUE ASN>\n",
      "popped residue: #<PDB-RESIDUE ALA>\n",
      "popped residue: #<PDB-RESIDUE TRP>\n",
      "popped residue: #<PDB-RESIDUE VAL>\n",
      "popped residue: #<PDB-RESIDUE ALA>\n",
      "popped residue: #<PDB-RESIDUE TRP>\n",
      "popped residue: #<PDB-RESIDUE ARG>\n",
      "popped residue: #<PDB-RESIDUE ASN>\n",
      "popped residue: #<PDB-RESIDUE ARG>\n",
      "popped residue: #<PDB-RESIDUE CYS>\n",
      "popped residue: #<PDB-RESIDUE LYS>\n",
      "popped residue: #<PDB-RESIDUE GLY>\n",
      "popped residue: #<PDB-RESIDUE THR>\n",
      "popped residue: #<PDB-RESIDUE ASP>\n",
      "popped residue: #<PDB-RESIDUE VAL>\n",
      "popped residue: #<PDB-RESIDUE GLN>\n",
      "popped residue: #<PDB-RESIDUE ALA>\n",
      "popped residue: #<PDB-RESIDUE TRP>\n",
      "popped residue: #<PDB-RESIDUE ILE>\n",
      "popped residue: #<PDB-RESIDUE ARG>\n",
      "popped residue: #<PDB-RESIDUE GLY>\n",
      "popped residue: #<PDB-RESIDUE CYS>\n",
      "popped residue: #<PDB-RESIDUE ARG>\n",
      "popped residue: #<PDB-RESIDUE LEU>\n",
      "popped residue: NIL\n",
      "Starting a new molecule\n",
      "popped first residue: #<PDB-RESIDUE AMU>\n",
      "popped residue: #<PDB-RESIDUE NAG>\n",
      "popped residue: #<PDB-RESIDUE AMU>\n",
      "popped residue: NIL\n",
      "Starting a new molecule\n",
      "popped first residue: #<PDB-RESIDUE HOH>\n",
      "popped residue: NIL\n",
      "Starting a new molecule\n",
      "popped first residue: #<PDB-RESIDUE HOH>\n",
      "popped residue: NIL\n",
      "Starting a new molecule\n",
      "popped first residue: #<PDB-RESIDUE HOH>\n",
      "popped residue: NIL\n",
      "Starting a new molecule\n",
      "popped first residue: #<PDB-RESIDUE HOH>\n",
      "popped residue: NIL\n",
      "Starting a new molecule\n",
      "popped first residue: #<PDB-RESIDUE HOH>\n",
      "popped residue: NIL\n",
      "Starting a new molecule\n",
      "popped first residue: #<PDB-RESIDUE HOH>\n",
      "popped residue: NIL\n",
      "Starting a new molecule\n",
      "popped first residue: #<PDB-RESIDUE HOH>\n",
      "popped residue: NIL\n",
      "Starting a new molecule\n",
      "popped first residue: #<PDB-RESIDUE HOH>\n",
      "popped residue: NIL\n",
      "Starting a new molecule\n",
      "popped first residue: #<PDB-RESIDUE HOH>\n",
      "popped residue: NIL\n",
      "Starting a new molecule\n",
      "popped first residue: #<PDB-RESIDUE HOH>\n",
      "popped residue: NIL\n",
      "Starting a new molecule\n",
      "popped first residue: #<PDB-RESIDUE HOH>\n",
      "popped residue: NIL\n",
      "Starting a new molecule\n",
      "popped first residue: #<PDB-RESIDUE HOH>\n",
      "popped residue: NIL\n",
      "Starting a new molecule\n",
      "popped first residue: #<PDB-RESIDUE HOH>\n",
      "popped residue: NIL\n",
      "Starting a new molecule\n",
      "popped first residue: #<PDB-RESIDUE HOH>\n",
      "popped residue: NIL\n",
      "Starting a new molecule\n",
      "popped first residue: #<PDB-RESIDUE HOH>\n",
      "popped residue: NIL\n",
      "Starting a new molecule\n",
      "popped first residue: #<PDB-RESIDUE HOH>\n",
      "popped residue: NIL\n",
      "Starting a new molecule\n",
      "popped first residue: #<PDB-RESIDUE HOH>\n",
      "popped residue: NIL\n",
      "Starting a new molecule\n",
      "popped first residue: #<PDB-RESIDUE HOH>\n",
      "popped residue: NIL\n",
      "Starting a new molecule\n",
      "popped first residue: #<PDB-RESIDUE HOH>\n",
      "popped residue: NIL\n",
      "Starting a new molecule\n",
      "popped first residue: #<PDB-RESIDUE HOH>\n",
      "popped residue: NIL\n",
      "Starting a new molecule\n",
      "popped first residue: #<PDB-RESIDUE HOH>\n",
      "popped residue: NIL\n",
      "Starting a new molecule\n",
      "popped first residue: #<PDB-RESIDUE HOH>\n",
      "popped residue: NIL\n",
      "Starting a new molecule\n",
      "popped first residue: #<PDB-RESIDUE HOH>\n",
      "popped residue: NIL\n",
      "Starting a new molecule\n",
      "popped first residue: #<PDB-RESIDUE HOH>\n",
      "popped residue: NIL\n",
      "Starting a new molecule\n",
      "popped first residue: #<PDB-RESIDUE HOH>\n",
      "popped residue: NIL\n",
      "Starting a new molecule\n",
      "popped first residue: #<PDB-RESIDUE HOH>\n",
      "popped residue: NIL\n",
      "Starting a new molecule\n",
      "popped first residue: #<PDB-RESIDUE HOH>\n",
      "popped residue: NIL\n",
      "Starting a new molecule\n",
      "popped first residue: #<PDB-RESIDUE HOH>\n",
      "popped residue: NIL\n",
      "Starting a new molecule\n",
      "popped first residue: #<PDB-RESIDUE HOH>\n",
      "popped residue: NIL\n",
      "Starting a new molecule\n",
      "popped first residue: #<PDB-RESIDUE HOH>\n",
      "popped residue: NIL\n",
      "Starting a new molecule\n",
      "popped first residue: #<PDB-RESIDUE HOH>\n",
      "popped residue: NIL\n",
      "Starting a new molecule\n",
      "popped first residue: #<PDB-RESIDUE HOH>\n",
      "popped residue: NIL\n",
      "Starting a new molecule\n",
      "popped first residue: #<PDB-RESIDUE HOH>\n",
      "popped residue: NIL\n",
      "Starting a new molecule\n",
      "popped first residue: #<PDB-RESIDUE HOH>\n",
      "popped residue: NIL\n",
      "Starting a new molecule\n",
      "popped first residue: #<PDB-RESIDUE HOH>\n",
      "popped residue: NIL\n",
      "Starting a new molecule\n",
      "popped first residue: #<PDB-RESIDUE HOH>\n",
      "popped residue: NIL\n",
      "Starting a new molecule\n",
      "popped first residue: #<PDB-RESIDUE HOH>\n",
      "popped residue: NIL\n",
      "Starting a new molecule\n",
      "popped first residue: #<PDB-RESIDUE HOH>\n",
      "popped residue: NIL\n",
      "Starting a new molecule\n",
      "popped first residue: #<PDB-RESIDUE HOH>\n",
      "popped residue: NIL\n",
      "Starting a new molecule\n",
      "popped first residue: #<PDB-RESIDUE HOH>\n",
      "popped residue: NIL\n",
      "Starting a new molecule\n",
      "popped first residue: #<PDB-RESIDUE HOH>\n",
      "popped residue: NIL\n",
      "Starting a new molecule\n",
      "popped first residue: #<PDB-RESIDUE HOH>\n",
      "popped residue: NIL\n",
      "Starting a new molecule\n",
      "popped first residue: #<PDB-RESIDUE HOH>\n",
      "popped residue: NIL\n",
      "Starting a new molecule\n",
      "popped first residue: #<PDB-RESIDUE HOH>\n",
      "popped residue: NIL\n",
      "Starting a new molecule\n",
      "popped first residue: #<PDB-RESIDUE HOH>\n",
      "popped residue: NIL\n",
      "Starting a new molecule\n",
      "popped first residue: #<PDB-RESIDUE HOH>\n",
      "popped residue: NIL\n",
      "Starting a new molecule\n",
      "popped first residue: #<PDB-RESIDUE HOH>\n",
      "popped residue: NIL\n",
      "Starting a new molecule\n",
      "popped first residue: #<PDB-RESIDUE HOH>\n",
      "popped residue: NIL\n",
      "Starting a new molecule\n",
      "popped first residue: #<PDB-RESIDUE HOH>\n",
      "popped residue: NIL\n",
      "Starting a new molecule\n",
      "popped first residue: #<PDB-RESIDUE HOH>\n",
      "popped residue: NIL\n",
      "Starting a new molecule\n",
      "popped first residue: #<PDB-RESIDUE HOH>\n",
      "popped residue: NIL\n",
      "Starting a new molecule\n",
      "popped first residue: #<PDB-RESIDUE HOH>\n",
      "popped residue: NIL\n",
      "Starting a new molecule\n",
      "popped first residue: #<PDB-RESIDUE HOH>\n",
      "popped residue: NIL\n",
      "Starting a new molecule\n",
      "popped first residue: #<PDB-RESIDUE HOH>\n",
      "popped residue: NIL\n",
      "Starting a new molecule\n",
      "popped first residue: #<PDB-RESIDUE HOH>\n",
      "popped residue: NIL\n",
      "Starting a new molecule\n",
      "popped first residue: #<PDB-RESIDUE HOH>\n",
      "popped residue: NIL\n",
      "Starting a new molecule\n",
      "popped first residue: #<PDB-RESIDUE HOH>\n",
      "popped residue: NIL\n",
      "Starting a new molecule\n",
      "popped first residue: #<PDB-RESIDUE HOH>\n",
      "popped residue: NIL\n",
      "Starting a new molecule\n",
      "popped first residue: #<PDB-RESIDUE HOH>\n",
      "popped residue: NIL\n",
      "Starting a new molecule\n",
      "popped first residue: #<PDB-RESIDUE HOH>\n",
      "popped residue: NIL\n",
      "Starting a new molecule\n",
      "popped first residue: #<PDB-RESIDUE HOH>\n",
      "popped residue: NIL\n",
      "Starting a new molecule\n",
      "popped first residue: #<PDB-RESIDUE HOH>\n",
      "popped residue: NIL\n",
      "Starting a new molecule\n",
      "popped first residue: #<PDB-RESIDUE HOH>\n",
      "popped residue: NIL\n",
      "Starting a new molecule\n",
      "popped first residue: #<PDB-RESIDUE HOH>\n",
      "popped residue: NIL\n",
      "Starting a new molecule\n",
      "popped first residue: #<PDB-RESIDUE HOH>\n",
      "popped residue: NIL\n",
      "Starting a new molecule\n",
      "popped first residue: #<PDB-RESIDUE HOH>\n",
      "popped residue: NIL\n",
      "Starting a new molecule\n",
      "popped first residue: #<PDB-RESIDUE HOH>\n",
      "popped residue: NIL\n",
      "Starting a new molecule\n",
      "popped first residue: #<PDB-RESIDUE HOH>\n",
      "popped residue: NIL\n",
      "Starting a new molecule\n",
      "popped first residue: #<PDB-RESIDUE HOH>\n",
      "popped residue: NIL\n",
      "Starting a new molecule\n",
      "popped first residue: #<PDB-RESIDUE HOH>\n",
      "popped residue: NIL\n",
      "Starting a new molecule\n",
      "popped first residue: #<PDB-RESIDUE HOH>\n",
      "popped residue: NIL\n",
      "Starting a new molecule\n",
      "popped first residue: #<PDB-RESIDUE HOH>\n",
      "popped residue: NIL\n",
      "Starting a new molecule\n",
      "popped first residue: #<PDB-RESIDUE HOH>\n",
      "popped residue: NIL\n",
      "Starting a new molecule\n",
      "popped first residue: #<PDB-RESIDUE HOH>\n",
      "popped residue: NIL\n",
      "Starting a new molecule\n",
      "popped first residue: #<PDB-RESIDUE HOH>\n",
      "popped residue: NIL\n",
      "Starting a new molecule\n",
      "popped first residue: #<PDB-RESIDUE HOH>\n",
      "popped residue: NIL\n",
      "Starting a new molecule\n",
      "popped first residue: #<PDB-RESIDUE HOH>\n",
      "popped residue: NIL\n",
      "Starting a new molecule\n",
      "popped first residue: #<PDB-RESIDUE HOH>\n",
      "popped residue: NIL\n",
      "Starting a new molecule\n",
      "popped first residue: #<PDB-RESIDUE HOH>\n",
      "popped residue: NIL\n",
      "Starting a new molecule\n",
      "popped first residue: #<PDB-RESIDUE HOH>\n",
      "popped residue: NIL\n",
      "Starting a new molecule\n",
      "popped first residue: #<PDB-RESIDUE HOH>\n",
      "popped residue: NIL\n",
      "Starting a new molecule\n",
      "popped first residue: #<PDB-RESIDUE HOH>\n",
      "popped residue: NIL\n",
      "Starting a new molecule\n",
      "popped first residue: #<PDB-RESIDUE HOH>\n",
      "popped residue: NIL\n",
      "Starting a new molecule\n",
      "popped first residue: #<PDB-RESIDUE HOH>\n",
      "popped residue: NIL\n",
      "Starting a new molecule\n",
      "popped first residue: #<PDB-RESIDUE HOH>\n",
      "popped residue: NIL\n",
      "Starting a new molecule\n",
      "popped first residue: #<PDB-RESIDUE HOH>\n",
      "popped residue: NIL\n",
      "Starting a new molecule\n",
      "popped first residue: #<PDB-RESIDUE HOH>\n",
      "popped residue: NIL\n",
      "Starting a new molecule\n",
      "popped first residue: #<PDB-RESIDUE HOH>\n",
      "popped residue: NIL\n",
      "Starting a new molecule\n",
      "popped first residue: #<PDB-RESIDUE HOH>\n",
      "popped residue: NIL\n",
      "Starting a new molecule\n",
      "popped first residue: #<PDB-RESIDUE HOH>\n",
      "popped residue: NIL\n",
      "Starting a new molecule\n",
      "popped first residue: #<PDB-RESIDUE HOH>\n",
      "popped residue: NIL\n",
      "Starting a new molecule\n",
      "popped first residue: #<PDB-RESIDUE HOH>\n",
      "popped residue: NIL\n",
      "Starting a new molecule\n",
      "popped first residue: #<PDB-RESIDUE HOH>\n",
      "popped residue: NIL\n",
      "Starting a new molecule\n",
      "popped first residue: #<PDB-RESIDUE HOH>\n",
      "popped residue: NIL\n",
      "Starting a new molecule\n",
      "popped first residue: #<PDB-RESIDUE HOH>\n",
      "popped residue: NIL\n",
      "Starting a new molecule\n",
      "popped first residue: #<PDB-RESIDUE HOH>\n",
      "popped residue: NIL\n",
      "Starting a new molecule\n",
      "popped first residue: #<PDB-RESIDUE HOH>\n",
      "popped residue: NIL\n",
      "Starting a new molecule\n",
      "popped first residue: #<PDB-RESIDUE HOH>\n",
      "popped residue: NIL\n",
      "Starting a new molecule\n",
      "popped first residue: #<PDB-RESIDUE HOH>\n",
      "popped residue: NIL\n",
      "Starting a new molecule\n",
      "popped first residue: #<PDB-RESIDUE HOH>\n",
      "popped residue: NIL\n",
      "Starting a new molecule\n",
      "popped first residue: NIL\n"
     ]
    },
    {
     "name": "stderr",
     "output_type": "stream",
     "text": [
      "SIMPLE-ERROR: \n",
      "No applicable method for LEAP.PDB::TOPOLOGY with arguments of types \n",
      " NULL.\n"
     ]
    },
    {
     "data": {
      "text/plain": [
       "NIL"
      ]
     },
     "execution_count": 12,
     "metadata": {},
     "output_type": "execute_result"
    }
   ],
   "source": [
    "(:= *9lyzpdb* (loadPdb \"9lyz.pdb\" :scanner *9lyz-scan*))"
   ]
  },
  {
   "cell_type": "code",
   "execution_count": 13,
   "metadata": {
    "scrolled": false
   },
   "outputs": [
    {
     "name": "stderr",
     "output_type": "stream",
     "text": [
      "SIMPLE-WARNING: \n",
      "Finish %set-coordinates\n",
      "SIMPLE-WARNING: \n",
      "Finish %handle-n-components-changed\n"
     ]
    },
    {
     "data": {
      "application/vnd.jupyter.widget-view+json": {
       "model_id": "D596372C-8FB3-46FC-8335-1407C90CDFAF",
       "version_major": 2,
       "version_minor": 0
      },
      "text/html": [
       "<p>Failed to display Jupyter Widget of type <code>{widget_type}</code>.</p>\n",
       "<p>\n",
       "  If you're reading this message in the Jupyter Notebook or JupyterLab Notebook, it may mean\n",
       "  that the widgets JavaScript is still loading. If this message persists, it\n",
       "  likely means that the widgets JavaScript library is either not installed or\n",
       "  not enabled. See the <a href=\"https://ipywidgets.readthedocs.io/en/stable/user_install.html\">Jupyter\n",
       "  Widgets Documentation</a> for setup instructions.\n",
       "</p>\n",
       "<p>\n",
       "  If you're reading this message in another frontend (for example, a static\n",
       "  rendering on GitHub or <a href=\"https://nbviewer.jupyter.org/\">NBViewer</a>),\n",
       "  it may mean that your frontend doesn't currently support widgets.\n",
       "</p>\n"
      ],
      "text/plain": [
       "A Jupyter Widget"
      ]
     },
     "execution_count": 13,
     "metadata": {},
     "output_type": "execute_result"
    }
   ],
   "source": [
    "(:= w (show *9lyzagg*)) w"
   ]
  },
  {
   "cell_type": "code",
   "execution_count": 121,
   "metadata": {},
   "outputs": [
    {
     "data": {
      "text/plain": [
       "((\"atom\" (\"index\" . 2015) (\"residueIndex\" . 131) (\"resname\" . \"AMU_132\")\n",
       "  (\"x\" . 7.76) (\"y\" . 25.46) (\"z\" . 21.78) (\"element\" . \"O\")\n",
       "  (\"chainname\" . \"B\") (\"resno\" . 132) (\"serial\" . 2016) (\"vdw\" . 1.52)\n",
       "  (\"covalent\" . 0.66) (\"hetero\" . 1) (\"bfactor\" . 0) (\"altloc\" . \"\")\n",
       "  (\"atomname\" . \"O5\")))"
      ]
     },
     "execution_count": 121,
     "metadata": {},
     "output_type": "execute_result"
    }
   ],
   "source": [
    "(nglv::picked w)"
   ]
  },
  {
   "cell_type": "code",
   "execution_count": 122,
   "metadata": {},
   "outputs": [
    {
     "data": {
      "text/plain": [
       "*A*"
      ]
     },
     "execution_count": 122,
     "metadata": {},
     "output_type": "execute_result"
    }
   ],
   "source": [
    "(:= *a* (let* ((picked (nglv::picked w))\n",
    "       (atom (cdr (assoc \"atom\" picked :test #'string=)))\n",
    "       (x (cdr (assoc \"x\" atom :test #'string=)))\n",
    "       (y (cdr (assoc \"y\" atom :test #'string=)))\n",
    "       (z (cdr (assoc \"z\" atom :test #'string=)))\n",
    "       (pos (geom:vec x y z))\n",
    "        resulta)\n",
    "     (chem:map-atoms nil (lambda (a) \n",
    "                                 (when (< (distance pos (chem:get-position a)) 0.01) \n",
    "                                     (setf resulta a))) *9lyzagg*)\n",
    "              resulta))"
   ]
  },
  {
   "cell_type": "code",
   "execution_count": 123,
   "metadata": {},
   "outputs": [
    {
     "data": {
      "text/plain": [
       "#<ATOM :O5/:O>"
      ]
     },
     "execution_count": 123,
     "metadata": {},
     "output_type": "execute_result"
    }
   ],
   "source": [
    "*a*"
   ]
  },
  {
   "cell_type": "code",
   "execution_count": 128,
   "metadata": {},
   "outputs": [
    {
     "data": {
      "text/plain": [
       "*P*"
      ]
     },
     "execution_count": 128,
     "metadata": {},
     "output_type": "execute_result"
    }
   ],
   "source": [
    "(:= *p* (core:make-cxx-object 'chem:chem-info))"
   ]
  },
  {
   "cell_type": "code",
   "execution_count": 130,
   "metadata": {},
   "outputs": [
    {
     "data": {
      "text/plain": [
       "T"
      ]
     },
     "execution_count": 130,
     "metadata": {},
     "output_type": "execute_result"
    }
   ],
   "source": [
    "(chem:compile-smarts *p* \"O(CO)(CO)N3\")"
   ]
  },
  {
   "cell_type": "code",
   "execution_count": 9,
   "metadata": {},
   "outputs": [
    {
     "name": "stderr",
     "output_type": "stream",
     "text": [
      "An error occurred of type: UNBOUND-VARIABLE: \n",
      "  #<UNBOUND-VARIABLE>\n"
     ]
    },
    {
     "data": {
      "text/plain": [
       "NIL"
      ]
     },
     "execution_count": 9,
     "metadata": {},
     "output_type": "execute_result"
    }
   ],
   "source": [
    "(chem:matches *p* *a*)"
   ]
  },
  {
   "cell_type": "code",
   "execution_count": 127,
   "metadata": {},
   "outputs": [
    {
     "data": {
      "text/plain": [
       "\"OC1C2(CO)N3\""
      ]
     },
     "execution_count": 127,
     "metadata": {},
     "output_type": "execute_result"
    }
   ],
   "source": [
    "(chem:get-code *p*)"
   ]
  },
  {
   "cell_type": "code",
   "execution_count": null,
   "metadata": {
    "collapsed": true
   },
   "outputs": [],
   "source": []
  },
  {
   "cell_type": "code",
   "execution_count": null,
   "metadata": {
    "collapsed": true
   },
   "outputs": [],
   "source": []
  },
  {
   "cell_type": "code",
   "execution_count": null,
   "metadata": {
    "collapsed": true
   },
   "outputs": [],
   "source": []
  },
  {
   "cell_type": "code",
   "execution_count": null,
   "metadata": {
    "collapsed": true
   },
   "outputs": [],
   "source": []
  },
  {
   "cell_type": "code",
   "execution_count": 87,
   "metadata": {},
   "outputs": [
    {
     "data": {
      "text/plain": [
       "*SPAN*"
      ]
     },
     "execution_count": 87,
     "metadata": {},
     "output_type": "execute_result"
    }
   ],
   "source": [
    "(:= *span* (chem:make-spanning-loop *a*))"
   ]
  },
  {
   "cell_type": "code",
   "execution_count": 88,
   "metadata": {},
   "outputs": [
    {
     "data": {
      "text/plain": [
       "*ALL*"
      ]
     },
     "execution_count": 88,
     "metadata": {},
     "output_type": "execute_result"
    }
   ],
   "source": [
    "(:= *all* (chem:all-atoms *span*))"
   ]
  },
  {
   "cell_type": "code",
   "execution_count": 89,
   "metadata": {
    "scrolled": true
   },
   "outputs": [
    {
     "data": {
      "text/plain": [
       "(#<ATOM :C4/:C> #<ATOM :O4/:O> #<ATOM :C5/:C> #<ATOM :C3/:C> #<ATOM :C1/:C>\n",
       " #<ATOM :O5/:O> #<ATOM :C6/:C> #<ATOM :O3/:O> #<ATOM :C2/:C> #<ATOM :O5/:O>\n",
       " #<ATOM :C2/:C> #<ATOM :C1/:C> #<ATOM :O6/:O> #<ATOM :C9/:C> #<ATOM :N2/:N>\n",
       " #<ATOM :C5/:C> #<ATOM :N2/:N> #<ATOM :C3/:C> #<ATOM :O1/:O> #<ATOM :C11/:C>\n",
       " #<ATOM :C10/:C> #<ATOM :C7/:C> #<ATOM :C6/:C> #<ATOM :C4/:C> #<ATOM :C7/:C>\n",
       " #<ATOM :O3/:O> #<ATOM :O11/:O> #<ATOM :O10/:O> #<ATOM :O7/:O> #<ATOM :C8/:C>\n",
       " #<ATOM :O6/:O> #<ATOM :O4/:O> #<ATOM :O7/:O> #<ATOM :C8/:C> #<ATOM :C1/:C>\n",
       " #<ATOM :O5/:O> #<ATOM :O1/:O> #<ATOM :C2/:C> #<ATOM :C5/:C> #<ATOM :N2/:N>\n",
       " #<ATOM :C3/:C> #<ATOM :C6/:C> #<ATOM :C4/:C> #<ATOM :C7/:C> #<ATOM :O3/:O>\n",
       " #<ATOM :O6/:O> #<ATOM :O4/:O> #<ATOM :O7/:O> #<ATOM :C8/:C> #<ATOM :C9/:C>\n",
       " #<ATOM :C11/:C> #<ATOM :C10/:C> #<ATOM :O10/:O>)"
      ]
     },
     "execution_count": 89,
     "metadata": {},
     "output_type": "execute_result"
    }
   ],
   "source": [
    "*all*"
   ]
  },
  {
   "cell_type": "code",
   "execution_count": 86,
   "metadata": {},
   "outputs": [
    {
     "name": "stdout",
     "output_type": "stream",
     "text": [
      "NIL <- #<ATOM :C4/:C>\n",
      "#<ATOM :C4/:C> <- #<ATOM :O4/:O>\n",
      "#<ATOM :C4/:C> <- #<ATOM :C5/:C>\n",
      "#<ATOM :C4/:C> <- #<ATOM :C3/:C>\n",
      "#<ATOM :O4/:O> <- #<ATOM :C1/:C>\n",
      "#<ATOM :C5/:C> <- #<ATOM :O5/:O>\n",
      "#<ATOM :C5/:C> <- #<ATOM :C6/:C>\n",
      "#<ATOM :C3/:C> <- #<ATOM :O3/:O>\n",
      "#<ATOM :C3/:C> <- #<ATOM :C2/:C>\n",
      "#<ATOM :C1/:C> <- #<ATOM :O5/:O>\n",
      "#<ATOM :C1/:C> <- #<ATOM :C2/:C>\n",
      "#<ATOM :O5/:O> <- #<ATOM :C1/:C>\n",
      "#<ATOM :C6/:C> <- #<ATOM :O6/:O>\n",
      "#<ATOM :O3/:O> <- #<ATOM :C9/:C>\n",
      "#<ATOM :C2/:C> <- #<ATOM :N2/:N>\n",
      "#<ATOM :O5/:O> <- #<ATOM :C5/:C>\n",
      "#<ATOM :C2/:C> <- #<ATOM :N2/:N>\n",
      "#<ATOM :C2/:C> <- #<ATOM :C3/:C>\n",
      "#<ATOM :C1/:C> <- #<ATOM :O1/:O>\n",
      "#<ATOM :C9/:C> <- #<ATOM :C11/:C>\n",
      "#<ATOM :C9/:C> <- #<ATOM :C10/:C>\n",
      "#<ATOM :N2/:N> <- #<ATOM :C7/:C>\n",
      "#<ATOM :C5/:C> <- #<ATOM :C6/:C>\n",
      "#<ATOM :C5/:C> <- #<ATOM :C4/:C>\n",
      "#<ATOM :N2/:N> <- #<ATOM :C7/:C>\n",
      "#<ATOM :C3/:C> <- #<ATOM :O3/:O>\n",
      "#<ATOM :C10/:C> <- #<ATOM :O11/:O>\n",
      "#<ATOM :C10/:C> <- #<ATOM :O10/:O>\n",
      "#<ATOM :C7/:C> <- #<ATOM :O7/:O>\n",
      "#<ATOM :C7/:C> <- #<ATOM :C8/:C>\n",
      "#<ATOM :C6/:C> <- #<ATOM :O6/:O>\n",
      "#<ATOM :C4/:C> <- #<ATOM :O4/:O>\n",
      "#<ATOM :C7/:C> <- #<ATOM :O7/:O>\n",
      "#<ATOM :C7/:C> <- #<ATOM :C8/:C>\n",
      "#<ATOM :O4/:O> <- #<ATOM :C1/:C>\n",
      "#<ATOM :C1/:C> <- #<ATOM :O5/:O>\n",
      "#<ATOM :C1/:C> <- #<ATOM :O1/:O>\n",
      "#<ATOM :C1/:C> <- #<ATOM :C2/:C>\n",
      "#<ATOM :O5/:O> <- #<ATOM :C5/:C>\n",
      "#<ATOM :C2/:C> <- #<ATOM :N2/:N>\n",
      "#<ATOM :C2/:C> <- #<ATOM :C3/:C>\n",
      "#<ATOM :C5/:C> <- #<ATOM :C6/:C>\n",
      "#<ATOM :C5/:C> <- #<ATOM :C4/:C>\n",
      "#<ATOM :N2/:N> <- #<ATOM :C7/:C>\n",
      "#<ATOM :C3/:C> <- #<ATOM :O3/:O>\n",
      "#<ATOM :C6/:C> <- #<ATOM :O6/:O>\n",
      "#<ATOM :C4/:C> <- #<ATOM :O4/:O>\n",
      "#<ATOM :C7/:C> <- #<ATOM :O7/:O>\n",
      "#<ATOM :C7/:C> <- #<ATOM :C8/:C>\n",
      "#<ATOM :O3/:O> <- #<ATOM :C9/:C>\n",
      "#<ATOM :C9/:C> <- #<ATOM :C11/:C>\n",
      "#<ATOM :C9/:C> <- #<ATOM :C10/:C>\n",
      "#<ATOM :C10/:C> <- #<ATOM :O10/:O>\n"
     ]
    },
    {
     "data": {
      "text/plain": [
       "NIL"
      ]
     },
     "execution_count": 86,
     "metadata": {},
     "output_type": "execute_result"
    }
   ],
   "source": [
    "(loop for a in *all* do (format t \"~a <- ~a~%\" (chem:get-back-span a) a))"
   ]
  },
  {
   "cell_type": "code",
   "execution_count": 63,
   "metadata": {},
   "outputs": [
    {
     "data": {
      "text/plain": [
       "DISTANCE"
      ]
     },
     "execution_count": 63,
     "metadata": {},
     "output_type": "execute_result"
    }
   ],
   "source": [
    "(defun distance (p1 p2) (geom:vlength (geom:v- p1 p2)))"
   ]
  },
  {
   "cell_type": "code",
   "execution_count": 8,
   "metadata": {
    "scrolled": false
   },
   "outputs": [
    {
     "data": {
      "text/plain": [
       "T"
      ]
     },
     "execution_count": 8,
     "metadata": {},
     "output_type": "execute_result"
    }
   ],
   "source": [
    "(nglv::add-representation w \"ball+stick\")"
   ]
  },
  {
   "cell_type": "code",
   "execution_count": 7,
   "metadata": {
    "scrolled": true
   },
   "outputs": [
    {
     "name": "stdout",
     "output_type": "stream",
     "text": [
      "name AMU\n",
      "name NAG\n",
      "name AMU\n"
     ]
    },
    {
     "data": {
      "text/plain": [
       "NIL"
      ]
     },
     "execution_count": 7,
     "metadata": {},
     "output_type": "execute_result"
    }
   ],
   "source": [
    "(chem:map-residues nil (lambda (r) (if (or (string= (chem:get-name r) \"AMU\")\n",
    "                                           (string= (chem:get-name r) \"NAG\"))\n",
    "                                       (format t  \"name ~a~%\" (chem:get-name r)))) *9lyzagg*)"
   ]
  },
  {
   "cell_type": "code",
   "execution_count": 8,
   "metadata": {},
   "outputs": [
    {
     "data": {
      "text/plain": [
       "NIL"
      ]
     },
     "execution_count": 8,
     "metadata": {},
     "output_type": "execute_result"
    }
   ],
   "source": [
    "(defparameter *sugar9lyz* (chem:make-molecule))\n",
    "(chem:map-residues nil (lambda (r) (if (or (string= (chem:get-name r) \"AMU\")\n",
    "                                           (string= (chem:get-name r) \"NAG\"))\n",
    "                                       (chem:add-matter *sugar9lyz* r))) *9lyzagg*)\n",
    "(defparameter *sugar9lyzagg* (chem:make-aggregate))\n",
    "(chem:add-matter *sugar9lyzagg* *sugar9lyz*)"
   ]
  },
  {
   "cell_type": "code",
   "execution_count": 21,
   "metadata": {
    "scrolled": true
   },
   "outputs": [
    {
     "data": {
      "application/vnd.jupyter.widget-view+json": {
       "model_id": "D48757F2-E2E5-4E47-A87B-454E76B1F880",
       "version_major": 2,
       "version_minor": 0
      },
      "text/plain": [
       "A Jupyter Widget"
      ]
     },
     "execution_count": 21,
     "metadata": {},
     "output_type": "execute_result"
    }
   ],
   "source": [
    "(:= v (nglv::show-aggregate *sugar9lyzagg*)) v"
   ]
  },
  {
   "cell_type": "code",
   "execution_count": 42,
   "metadata": {},
   "outputs": [
    {
     "data": {
      "text/plain": [
       "#S(CLEXT.QUEUE:QUEUE :NAME PYTHREAD::REMOTE-CALL-THREAD-QUEUE :HEAD NIL :TAIL NIL :LOCK #<MUTEX REMOTE-CALL-THREAD-QUEUE-LOCK :owner #<PROCESS REMOTE-CALL-THREAD @0x110b037e9> :counter 1 @0x10f883889> :NOT-EMPTY #<CONDITION-VARIABLE >)"
      ]
     },
     "execution_count": 42,
     "metadata": {},
     "output_type": "execute_result"
    }
   ],
   "source": [
    "pythread:*remote-call-thread-queue*"
   ]
  },
  {
   "cell_type": "code",
   "execution_count": 41,
   "metadata": {},
   "outputs": [
    {
     "name": "stdout",
     "output_type": "stream",
     "text": [
      "PYTHREAD:*REMOTE-CALL-THREAD*  has value\n",
      "PYTHREAD:*REMOTE-CALL-THREAD-QUEUE*  has value\n",
      "PYTHREAD::REMOTE-CALL-THREAD\n",
      "NGLV:REMOTE-CALL-THREAD-QUEUE\n",
      "PYTHREAD::REMOTE-CALL-THREAD-QUEUE\n",
      "PYTHREAD:REMOTE-CALL-THREAD-RUN  Function\n"
     ]
    },
    {
     "data": {
      "text/plain": [
       "NIL"
      ]
     },
     "execution_count": 41,
     "metadata": {},
     "output_type": "execute_result"
    }
   ],
   "source": [
    "(apropos \"remote-call-thread\")"
   ]
  },
  {
   "cell_type": "code",
   "execution_count": 39,
   "metadata": {},
   "outputs": [
    {
     "data": {
      "text/plain": [
       "NIL"
      ]
     },
     "execution_count": 39,
     "metadata": {},
     "output_type": "execute_result"
    }
   ],
   "source": [
    "(nglv::picked v)"
   ]
  },
  {
   "cell_type": "code",
   "execution_count": 26,
   "metadata": {},
   "outputs": [
    {
     "data": {
      "text/plain": [
       "*M*"
      ]
     },
     "execution_count": 26,
     "metadata": {},
     "output_type": "execute_result"
    }
   ],
   "source": [
    "(:= *m* (chem:content-at *sugar9lyzagg* 0))"
   ]
  },
  {
   "cell_type": "code",
   "execution_count": 27,
   "metadata": {},
   "outputs": [
    {
     "data": {
      "text/plain": [
       "*RES*"
      ]
     },
     "execution_count": 27,
     "metadata": {},
     "output_type": "execute_result"
    }
   ],
   "source": [
    "(:= *res* (chem:content-at *m* 0))"
   ]
  },
  {
   "cell_type": "code",
   "execution_count": 28,
   "metadata": {
    "scrolled": true
   },
   "outputs": [
    {
     "data": {
      "text/plain": [
       "*ATOM*"
      ]
     },
     "execution_count": 28,
     "metadata": {},
     "output_type": "execute_result"
    }
   ],
   "source": [
    "(:= *atom* (chem:content-at *res* 11))"
   ]
  },
  {
   "cell_type": "code",
   "execution_count": 29,
   "metadata": {},
   "outputs": [
    {
     "data": {
      "text/plain": [
       "NIL"
      ]
     },
     "execution_count": 29,
     "metadata": {},
     "output_type": "execute_result"
    }
   ],
   "source": [
    "(chem:remove-atom-delete-bonds *res* *atom*)"
   ]
  },
  {
   "cell_type": "markdown",
   "metadata": {},
   "source": [
    "####  Load sugar file."
   ]
  },
  {
   "cell_type": "code",
   "execution_count": 7,
   "metadata": {},
   "outputs": [
    {
     "data": {
      "text/plain": [
       "*TNAGG*"
      ]
     },
     "execution_count": 7,
     "metadata": {},
     "output_type": "execute_result"
    }
   ],
   "source": [
    "(:= *tnagg* (load-mol2 \"trinag.mol2\"))"
   ]
  },
  {
   "cell_type": "code",
   "execution_count": 8,
   "metadata": {
    "scrolled": false
   },
   "outputs": [
    {
     "data": {
      "application/vnd.jupyter.widget-view+json": {
       "model_id": "1764CB28-EFE1-4683-8D35-8411E8CF0BA3",
       "version_major": 2,
       "version_minor": 0
      },
      "text/plain": [
       "A Jupyter Widget"
      ]
     },
     "execution_count": 8,
     "metadata": {},
     "output_type": "execute_result"
    }
   ],
   "source": [
    "(:= v (nglv:show-aggregate *tnagg*))\n",
    "v"
   ]
  },
  {
   "cell_type": "code",
   "execution_count": 36,
   "metadata": {},
   "outputs": [
    {
     "name": "stdout",
     "output_type": "stream",
     "text": [
      "position [ 4.13 -26.65 -31.04 ]\n",
      "position [ 4.06 -28.01 -31.81 ]\n",
      "position [ 3.94 -27.72 -33.31 ]\n",
      "position [ 2.72 -26.88 -33.55 ]\n",
      "position [ 2.66 -25.63 -32.68 ]\n",
      "position [ 1.29 -24.92 -32.61 ]\n",
      "position [ 5.2 -30.07 -31.17 ]\n",
      "position [ 6.3 -30.87 -31.63 ]\n",
      "position [ 3.57 -30.09 -33.07 ]\n",
      "position [ 2.11 -30.48 -33.16 ]\n",
      "position [ 4.48 -31.19 -33.5 ]\n",
      "position [ 3.85 -28.97 -33.91 ]\n",
      "position [ 2.7 -26.39 -34.89 ]\n",
      "position [ 2.91 -25.94 -31.28 ]\n",
      "position [ 0.44 -25.44 -31.62 ]\n",
      "position [ 4.28 -30.58 -30.49 ]\n",
      "position [ 1.24 -29.98 -32.53 ]\n",
      "position [ 5.24 -28.77 -31.49 ]\n",
      "position [ 5.93 -25.84 -26.08 ]\n",
      "position [ 4.65 -25.09 -26.43 ]\n",
      "position [ 3.89 -25.85 -27.55 ]\n",
      "position [ 4.82 -26.08 -28.74 ]\n",
      "position [ 6.12 -26.74 -28.28 ]\n",
      "position [ 7.11 -26.81 -29.38 ]\n",
      "position [ 3.29 -23.73 -24.86 ]\n",
      "position [ 3.07 -23.56 -23.37 ]\n",
      "position [ 3.79 -24.9 -25.25 ]\n",
      "position [ 2.78 -25.09 -27.99 ]\n",
      "position [ 4.11 -26.92 -29.65 ]\n",
      "position [ 6.73 -25.96 -27.23 ]\n",
      "position [ 7.44 -25.55 -29.9 ]\n",
      "position [ 3.07 -22.8 -25.66 ]\n",
      "position [ 9.16 -25.65 -21.99 ]\n",
      "position [ 9.34 -26.65 -23.17 ]\n",
      "position [ 8.69 -26.02 -24.42 ]\n",
      "position [ 7.25 -25.74 -24.15 ]\n",
      "position [ 7.05 -24.92 -22.89 ]\n",
      "position [ 5.6 -24.83 -22.36 ]\n",
      "position [ 11.27 -28.12 -23.2 ]\n",
      "position [ 12.7 -28.18 -22.89 ]\n",
      "position [ 10.22 -27.07 -25.97 ]\n",
      "position [ 11.11 -26.07 -25.27 ]\n",
      "position [ 10.65 -28.49 -25.73 ]\n",
      "position [ 9.64 -26.29 -20.81 ]\n",
      "position [ 8.86 -26.99 -25.44 ]\n",
      "position [ 6.69 -25.13 -25.09 ]\n",
      "position [ 7.76 -25.46 -21.78 ]\n",
      "position [ 5.41 -25.54 -21.16 ]\n",
      "position [ 10.6 -29.16 -23.27 ]\n",
      "position [ 10.76 -25.33 -24.43 ]\n",
      "position [ 12.36 -26.21 -25.65 ]\n",
      "position [ 10.71 -26.9 -23.33 ]\n"
     ]
    },
    {
     "data": {
      "text/plain": [
       "NIL"
      ]
     },
     "execution_count": 36,
     "metadata": {},
     "output_type": "execute_result"
    }
   ],
   "source": [
    "(chem:map-atoms nil (lambda (r) (format t \"position ~a~%\"(chem:get-position r))) *tnagg*)"
   ]
  },
  {
   "cell_type": "code",
   "execution_count": 13,
   "metadata": {},
   "outputs": [
    {
     "data": {
      "text/plain": [
       "NIL"
      ]
     },
     "execution_count": 13,
     "metadata": {},
     "output_type": "execute_result"
    }
   ],
   "source": [
    "(nglv::picked v)"
   ]
  },
  {
   "cell_type": "code",
   "execution_count": 19,
   "metadata": {},
   "outputs": [
    {
     "data": {
      "text/plain": [
       "((\"atom\" (\"index\" . 39) (\"residueIndex\" . 2) (\"resname\" . \"AMU_3\") (\"x\" . 12.7)\n",
       "  (\"y\" . 28.18) (\"z\" . 22.89) (\"element\" . \"C\") (\"chainname\" . \"A\")\n",
       "  (\"resno\" . 3) (\"serial\" . 40) (\"vdw\" . 1.7) (\"covalent\" . 0.76)\n",
       "  (\"hetero\" . 1) (\"bfactor\" . 0) (\"altloc\" . \"\") (\"atomname\" . \"C8\")))"
      ]
     },
     "execution_count": 19,
     "metadata": {},
     "output_type": "execute_result"
    }
   ],
   "source": [
    "(nglv::picked v)"
   ]
  },
  {
   "cell_type": "code",
   "execution_count": 18,
   "metadata": {},
   "outputs": [
    {
     "data": {
      "text/plain": [
       "NULL"
      ]
     },
     "execution_count": 18,
     "metadata": {},
     "output_type": "execute_result"
    }
   ],
   "source": [
    "(type-of (cdr (assoc \"index\" (cdr (assoc \"atom\" (nglv::picked v) :test #'string=)) :test #'string=)))"
   ]
  },
  {
   "cell_type": "code",
   "execution_count": 20,
   "metadata": {},
   "outputs": [
    {
     "data": {
      "text/plain": [
       "(\"index\" . 39)"
      ]
     },
     "execution_count": 20,
     "metadata": {},
     "output_type": "execute_result"
    }
   ],
   "source": [
    "(assoc \"index\" (cdr (assoc \"atom\" (nglv::picked v) :test #'string=)) :test #'string=)"
   ]
  },
  {
   "cell_type": "code",
   "execution_count": 21,
   "metadata": {},
   "outputs": [
    {
     "data": {
      "text/plain": [
       "39"
      ]
     },
     "execution_count": 21,
     "metadata": {},
     "output_type": "execute_result"
    }
   ],
   "source": [
    "(cdr (assoc \"index\" (cdr (assoc \"atom\" (nglv::picked v) :test #'string=)) :test #'string=))"
   ]
  },
  {
   "cell_type": "code",
   "execution_count": 10,
   "metadata": {},
   "outputs": [
    {
     "data": {
      "text/plain": [
       "\"(atom (index . 16) (residueIndex . 0) (resname . AMU_1) (x . 1.24) (y . 29.98)\n",
       " (z . 32.53) (element . O) (chainname . A) (resno . 1) (serial . 17)\n",
       " (vdw . 1.52) (covalent . 0.66) (hetero . 1) (bfactor . 0) (altloc . )\n",
       " (atomname . O10))\""
      ]
     },
     "execution_count": 10,
     "metadata": {},
     "output_type": "execute_result"
    }
   ],
   "source": [
    "(format nil \"~{~a~}\" (nglv::picked v))"
   ]
  },
  {
   "cell_type": "code",
   "execution_count": 10,
   "metadata": {
    "scrolled": true
   },
   "outputs": [
    {
     "data": {
      "text/plain": [
       "*B*"
      ]
     },
     "execution_count": 10,
     "metadata": {},
     "output_type": "execute_result"
    }
   ],
   "source": [
    "(:= *b* (nglv::picked v))"
   ]
  },
  {
   "cell_type": "code",
   "execution_count": 11,
   "metadata": {},
   "outputs": [
    {
     "data": {
      "text/plain": [
       "*TNLIST*"
      ]
     },
     "execution_count": 11,
     "metadata": {},
     "output_type": "execute_result"
    }
   ],
   "source": [
    "(:= *tnlist* (chem:map-atoms 'list (lambda (a) a) *tnagg*))"
   ]
  },
  {
   "cell_type": "code",
   "execution_count": 12,
   "metadata": {},
   "outputs": [
    {
     "data": {
      "text/plain": [
       "\"@<TRIPOS>MOLECULE\n",
       "9lyz.pdb\n",
       "52 54 3 0 0\n",
       "POLYMER\n",
       "CHARGES\n",
       "\n",
       "\n",
       "@<TRIPOS>ATOM\n",
       "1 C1 4.13 26.65 31.04 C.2 1 AMU_1    0.000\n",
       "2 C2 4.060 28.010 31.810 C.2 1 AMU_1    0.000\n",
       "3 C3 3.940 27.720 33.310 C.2 1 AMU_1    0.000\n",
       "4 C4 2.720 26.880 33.550 C.2 1 AMU_1    0.000\n",
       "5 C5 2.660 25.630 32.680 C.2 1 AMU_1    0.000\n",
       "6 C6 1.290 24.920 32.610 C.1 1 AMU_1    0.000\n",
       "7 C7 5.200 30.070 31.170 C.2 1 AMU_1    0.000\n",
       "8 C8 6.300 30.870 31.630 C.1 1 AMU_1    0.000\n",
       "9 C9 3.570 30.090 33.070 C.2 1 AMU_1    0.000\n",
       "10 C10 2.110 30.480 33.160 C.1 1 AMU_1    0.000\n",
       "11 C11 4.480 31.190 33.500 C.1 1 AMU_1    0.000\n",
       "12 O3 3.850 28.970 33.910 O.3 1 AMU_1    0.000\n",
       "13 O4 2.700 26.390 34.890 O.2 1 AMU_1    0.000\n",
       "14 O5 2.910 25.940 31.280 O.3 1 AMU_1    0.000\n",
       "15 O6 0.440 25.440 31.620 O.2 1 AMU_1    0.000\n",
       "16 O7 4.280 30.580 30.490 O.2 1 AMU_1    0.000\n",
       "17 O10 1.240 29.980 32.530 O.2 1 AMU_1    0.000\n",
       "18 N2 5.240 28.770 31.490 N.2 1 AMU_1    0.000\n",
       "19 C1 5.930 25.840 26.080 C.2 2 NAG_2    0.000\n",
       "20 C2 4.650 25.090 26.430 C.2 2 NAG_2    0.000\n",
       "21 C3 3.890 25.850 27.550 C.2 2 NAG_2    0.000\n",
       "22 C4 4.820 26.080 28.740 C.2 2 NAG_2    0.000\n",
       "23 C5 6.120 26.740 28.280 C.2 2 NAG_2    0.000\n",
       "24 C6 7.110 26.810 29.380 C.1 2 NAG_2    0.000\n",
       "25 C7 3.290 23.730 24.860 C.2 2 NAG_2    0.000\n",
       "26 C8 3.070 23.560 23.370 C.1 2 NAG_2    0.000\n",
       "27 N2 3.790 24.900 25.250 N.2 2 NAG_2    0.000\n",
       "28 O3 2.780 25.090 27.990 O.2 2 NAG_2    0.000\n",
       "29 O4 4.110 26.920 29.650 O.3 2 NAG_2    0.000\n",
       "30 O5 6.730 25.960 27.230 O.3 2 NAG_2    0.000\n",
       "31 O6 7.440 25.550 29.900 O.2 2 NAG_2    0.000\n",
       "32 O7 3.070 22.800 25.660 O.2 2 NAG_2    0.000\n",
       "33 C1 9.160 25.650 21.990 C.2 3 AMU_3    0.000\n",
       "34 C2 9.340 26.650 23.170 C.2 3 AMU_3    0.000\n",
       "35 C3 8.690 26.020 24.420 C.2 3 AMU_3    0.000\n",
       "36 C4 7.250 25.740 24.150 C.2 3 AMU_3    0.000\n",
       "37 C5 7.050 24.920 22.890 C.2 3 AMU_3    0.000\n",
       "38 C6 5.600 24.830 22.360 C.1 3 AMU_3    0.000\n",
       "39 C7 11.270 28.120 23.200 C.2 3 AMU_3    0.000\n",
       "40 C8 12.700 28.180 22.890 C.1 3 AMU_3    0.000\n",
       "41 C9 10.220 27.070 25.970 C.2 3 AMU_3    0.000\n",
       "42 C10 11.110 26.070 25.270 C.2 3 AMU_3    0.000\n",
       "43 C11 10.650 28.490 25.730 C.1 3 AMU_3    0.000\n",
       "44 O1 9.640 26.290 20.810 O.2 3 AMU_3    0.000\n",
       "45 O3 8.860 26.990 25.440 O.3 3 AMU_3    0.000\n",
       "46 O4 6.690 25.130 25.090 O.3 3 AMU_3    0.000\n",
       "47 O5 7.760 25.460 21.780 O.3 3 AMU_3    0.000\n",
       "48 O6 5.410 25.540 21.160 O.2 3 AMU_3    0.000\n",
       "49 O7 10.600 29.160 23.270 O.2 3 AMU_3    0.000\n",
       "50 O10 10.760 25.330 24.430 O.co2 3 AMU_3    0.000\n",
       "51 O11 12.360 26.210 25.650 O.co2 3 AMU_3    0.000\n",
       "52 N2 10.710 26.900 23.330 N.2 3 AMU_3    0.000\n",
       "@<TRIPOS>BOND\n",
       "1 1 14 1 \n",
       "2 2 1 1 \n",
       "3 3 2 1 \n",
       "4 3 12 1 \n",
       "5 4 3 1 \n",
       "6 4 13 1 \n",
       "7 5 4 1 \n",
       "8 5 14 1 \n",
       "9 6 5 1 \n",
       "10 6 15 1 \n",
       "11 7 16 2 \n",
       "12 8 7 1 \n",
       "13 10 9 1 \n",
       "14 11 9 1 \n",
       "15 12 9 1 \n",
       "16 17 10 2 \n",
       "17 18 2 1 \n",
       "18 18 7 1 \n",
       "19 19 46 1 \n",
       "20 20 19 1 \n",
       "21 21 20 1 \n",
       "22 22 21 1 \n",
       "23 23 22 1 \n",
       "24 24 23 1 \n",
       "25 24 31 1 \n",
       "26 25 32 2 \n",
       "27 26 25 1 \n",
       "28 27 20 1 \n",
       "29 27 25 1 \n",
       "30 28 21 1 \n",
       "31 29 1 1 \n",
       "32 29 22 1 \n",
       "33 30 19 1 \n",
       "34 30 23 1 \n",
       "35 34 33 1 \n",
       "36 34 52 1 \n",
       "37 35 34 1 \n",
       "38 36 35 1 \n",
       "39 37 36 1 \n",
       "40 38 37 1 \n",
       "41 39 49 2 \n",
       "42 39 52 1 \n",
       "43 40 39 1 \n",
       "44 42 41 1 \n",
       "45 42 50 2 \n",
       "46 42 51 2 \n",
       "47 43 41 1 \n",
       "48 44 33 1 \n",
       "49 45 35 1 \n",
       "50 45 41 1 \n",
       "51 46 36 1 \n",
       "52 47 33 1 \n",
       "53 47 37 1 \n",
       "54 48 38 1 \n",
       "@<TRIPOS>SUBSTRUCTURE\n",
       "1 AMU_1 1 RESIDUE 1 A AMU 1\n",
       "2 NAG_2 19 RESIDUE 1 A NAG 1\n",
       "3 AMU_3 33 RESIDUE 1 A AMU 1\n",
       "\""
      ]
     },
     "execution_count": 12,
     "metadata": {},
     "output_type": "execute_result"
    }
   ],
   "source": [
    "(chem:aggregate-as-mol2-string *tnagg*)"
   ]
  },
  {
   "cell_type": "code",
   "execution_count": null,
   "metadata": {
    "collapsed": true
   },
   "outputs": [],
   "source": []
  },
  {
   "cell_type": "markdown",
   "metadata": {},
   "source": [
    "#### Add the sugar to the protein. "
   ]
  },
  {
   "cell_type": "code",
   "execution_count": 11,
   "metadata": {},
   "outputs": [
    {
     "data": {
      "text/plain": [
       "NIL"
      ]
     },
     "execution_count": 11,
     "metadata": {},
     "output_type": "execute_result"
    }
   ],
   "source": [
    "(chem:add-matter *9lyzagg* *tnagg*)"
   ]
  },
  {
   "cell_type": "code",
   "execution_count": 12,
   "metadata": {},
   "outputs": [
    {
     "data": {
      "application/vnd.jupyter.widget-view+json": {
       "model_id": "63B282DA-6F24-4839-8455-173539EFD494",
       "version_major": 2,
       "version_minor": 0
      },
      "text/plain": [
       "A Jupyter Widget"
      ]
     },
     "execution_count": 12,
     "metadata": {},
     "output_type": "execute_result"
    }
   ],
   "source": [
    "(:= w (nglv::show-aggregate *9lyzagg*)) w"
   ]
  },
  {
   "cell_type": "code",
   "execution_count": 15,
   "metadata": {},
   "outputs": [
    {
     "name": "stdout",
     "output_type": "stream",
     "text": [
      "\n",
      "\"Good\" "
     ]
    },
    {
     "data": {
      "text/plain": [
       "\"Good\""
      ]
     },
     "execution_count": 15,
     "metadata": {},
     "output_type": "execute_result"
    }
   ],
   "source": [
    "(case :hetatm ((:atom :hetatm) (print \"Good\")) (otherwise (print \"bad\")))"
   ]
  },
  {
   "cell_type": "code",
   "execution_count": 19,
   "metadata": {},
   "outputs": [
    {
     "data": {
      "text/plain": [
       "NIL"
      ]
     },
     "execution_count": 19,
     "metadata": {},
     "output_type": "execute_result"
    }
   ],
   "source": [
    "(chem:set-property *9lyzagg* :bounding-box '(200.0 200.0 200.0))"
   ]
  },
  {
   "cell_type": "code",
   "execution_count": 20,
   "metadata": {},
   "outputs": [
    {
     "name": "stdout",
     "output_type": "stream",
     "text": [
      "\n",
      "AGGREGATE "
     ]
    },
    {
     "data": {
      "text/plain": [
       "*SOLVENT*"
      ]
     },
     "execution_count": 20,
     "metadata": {},
     "output_type": "execute_result"
    }
   ],
   "source": [
    "(load-off \"tip3pfbox.off\")\n",
    "(print ~tip3pfbox)\n",
    "(defparameter *solvent* ~tip3pfbox)"
   ]
  },
  {
   "cell_type": "code",
   "execution_count": 21,
   "metadata": {},
   "outputs": [
    {
     "data": {
      "application/vnd.jupyter.widget-view+json": {
       "model_id": "F9A11AF5-F8F9-4036-8A4A-1041CF9E7B5D",
       "version_major": 2,
       "version_minor": 0
      },
      "text/plain": [
       "A Jupyter Widget"
      ]
     },
     "execution_count": 21,
     "metadata": {},
     "output_type": "execute_result"
    }
   ],
   "source": [
    "(nglv::show-aggregate *solvent*)"
   ]
  },
  {
   "cell_type": "code",
   "execution_count": 39,
   "metadata": {},
   "outputs": [
    {
     "data": {
      "text/plain": [
       "NIL"
      ]
     },
     "execution_count": 39,
     "metadata": {},
     "output_type": "execute_result"
    }
   ],
   "source": [
    "(chem:force-field/assign-types *ff* *9lyzagg*)\n",
    "(chem:force-field/assign-types *ff* *solvent*)"
   ]
  },
  {
   "cell_type": "code",
   "execution_count": 41,
   "metadata": {},
   "outputs": [
    {
     "name": "stdout",
     "output_type": "stream",
     "text": [
      "Total bounding box for atom centers:  58.89183169556266d0 53.544196573327014d0 63.5917508226233d0\n"
     ]
    },
    {
     "data": {
      "text/plain": [
       "*NEWAGG*"
      ]
     },
     "execution_count": 41,
     "metadata": {},
     "output_type": "execute_result"
    }
   ],
   "source": [
    "(:= *newagg* (leap.solvate::tool-solvate-and-shell *9lyzagg* *solvent* '(10.0 10.0 10.0)))"
   ]
  },
  {
   "cell_type": "code",
   "execution_count": 42,
   "metadata": {},
   "outputs": [
    {
     "data": {
      "application/vnd.jupyter.widget-view+json": {
       "model_id": "FA872A3F-A14A-4469-A10A-36310F2300F5",
       "version_major": 2,
       "version_minor": 0
      },
      "text/plain": [
       "A Jupyter Widget"
      ]
     },
     "execution_count": 42,
     "metadata": {},
     "output_type": "execute_result"
    }
   ],
   "source": [
    "(nglv::show-aggregate *newagg*)"
   ]
  },
  {
   "cell_type": "code",
   "execution_count": null,
   "metadata": {
    "collapsed": true
   },
   "outputs": [],
   "source": []
  },
  {
   "cell_type": "code",
   "execution_count": 30,
   "metadata": {},
   "outputs": [
    {
     "name": "stdout",
     "output_type": "stream",
     "text": [
      "Scanned 0.0%\n",
      "Scanned 1.0%\n",
      "Scanned 2.0%\n",
      "Scanned 3.0%\n",
      "Scanned 4.0%\n",
      "Scanned 5.0%\n",
      "Scanned 6.0%\n",
      "Scanned 7.0%\n",
      "Creating hash-table for SER\n",
      "Creating hash-table for ALA\n",
      "Creating hash-table for PHE\n",
      "Creating hash-table for GLU\n",
      "Scanned 8.0%\n",
      "Creating hash-table for VAL\n",
      "Creating hash-table for GLY\n",
      "Creating hash-table for ARG\n",
      "Creating hash-table for ASN\n",
      "Scanned 9.0%\n",
      "Creating hash-table for THR\n",
      "Scanned 10.0%\n",
      "Scanned 11.0%\n",
      "Creating hash-table for TYR\n",
      "Scanned 12.0%\n",
      "Creating hash-table for GLN\n",
      "Creating hash-table for LEU\n",
      "Scanned 13.0%\n",
      "Creating hash-table for LYS\n",
      "Scanned 14.0%\n",
      "Creating hash-table for PRO\n",
      "Creating hash-table for ASP\n",
      "Scanned 15.0%\n",
      "Creating hash-table for HIS\n",
      "Scanned 16.0%\n",
      "Creating hash-table for MET\n",
      "Scanned 17.0%\n",
      "Creating hash-table for CYS\n",
      "Creating hash-table for ILE\n",
      "Scanned 18.0%\n",
      "Scanned 19.0%\n",
      "Scanned 20.0%\n",
      "Scanned 21.0%\n",
      "Scanned 22.0%\n",
      "Scanned 23.0%\n",
      "Scanned 24.0%\n",
      "Scanned 25.0%\n",
      "Creating hash-table for TRP\n",
      "Scanned 26.0%\n",
      "Scanned 27.0%\n",
      "Scanned 28.0%\n",
      "Scanned 29.0%\n",
      "Scanned 30.0%\n",
      "Scanned 31.0%\n",
      "Scanned 32.0%\n",
      "Scanned 33.0%\n",
      "Scanned 34.0%\n",
      "Scanned 35.0%\n",
      "Scanned 36.0%\n",
      "Scanned 37.0%\n",
      "Scanned 38.0% elapsed:  1.00 seconds est.remaining:  1.63 seconds\n",
      "Scanned 39.0% elapsed:  1.00 seconds est.remaining:  1.56 seconds\n",
      "Scanned 40.0% elapsed:  1.00 seconds est.remaining:  1.50 seconds\n",
      "Scanned 41.0% elapsed:  1.00 seconds est.remaining:  1.44 seconds\n",
      "Scanned 42.0% elapsed:  1.00 seconds est.remaining:  1.38 seconds\n",
      "Scanned 43.0% elapsed:  1.00 seconds est.remaining:  1.32 seconds\n",
      "Scanned 44.0% elapsed:  1.00 seconds est.remaining:  1.27 seconds\n",
      "Scanned 45.0% elapsed:  1.00 seconds est.remaining:  1.22 seconds\n",
      "Scanned 46.0% elapsed:  1.00 seconds est.remaining:  1.17 seconds\n",
      "Scanned 47.0% elapsed:  1.00 seconds est.remaining:  1.13 seconds\n",
      "Scanned 48.0% elapsed:  1.00 seconds est.remaining:  1.08 seconds\n",
      "Scanned 49.0% elapsed:  1.00 seconds est.remaining:  1.04 seconds\n",
      "Scanned 50.0% elapsed:  1.00 seconds est.remaining:  1.00 seconds\n",
      "Scanned 51.0% elapsed:  1.00 seconds est.remaining:  0.96 seconds\n",
      "Scanned 52.0% elapsed:  1.00 seconds est.remaining:  0.92 seconds\n",
      "Scanned 53.0% elapsed:  1.00 seconds est.remaining:  0.89 seconds\n",
      "Scanned 54.0% elapsed:  1.00 seconds est.remaining:  0.85 seconds\n",
      "Scanned 55.0% elapsed:  1.00 seconds est.remaining:  0.82 seconds\n",
      "Scanned 56.0% elapsed:  1.00 seconds est.remaining:  0.79 seconds\n",
      "Scanned 57.0% elapsed:  1.00 seconds est.remaining:  0.75 seconds\n",
      "Scanned 58.0% elapsed:  1.00 seconds est.remaining:  0.72 seconds\n",
      "Scanned 59.0% elapsed:  1.00 seconds est.remaining:  0.69 seconds\n",
      "Scanned 60.0% elapsed:  1.00 seconds est.remaining:  0.67 seconds\n",
      "Scanned 61.0% elapsed:  1.00 seconds est.remaining:  0.64 seconds\n",
      "Scanned 62.0% elapsed:  1.00 seconds est.remaining:  0.61 seconds\n",
      "Scanned 63.0% elapsed:  1.00 seconds est.remaining:  0.59 seconds\n",
      "Scanned 64.0% elapsed:  1.00 seconds est.remaining:  0.56 seconds\n",
      "Scanned 65.0% elapsed:  1.00 seconds est.remaining:  0.54 seconds\n",
      "Scanned 66.0% elapsed:  1.00 seconds est.remaining:  0.51 seconds\n",
      "Scanned 67.0% elapsed:  1.00 seconds est.remaining:  0.49 seconds\n",
      "Scanned 68.0% elapsed:  1.00 seconds est.remaining:  0.47 seconds\n",
      "Scanned 69.0% elapsed:  1.00 seconds est.remaining:  0.45 seconds\n",
      "Scanned 70.0% elapsed:  1.00 seconds est.remaining:  0.43 seconds\n",
      "Scanned 71.0% elapsed:  1.00 seconds est.remaining:  0.41 seconds\n",
      "Scanned 72.0% elapsed:  1.00 seconds est.remaining:  0.39 seconds\n",
      "Scanned 73.0% elapsed:  1.00 seconds est.remaining:  0.37 seconds\n",
      "Scanned 74.0% elapsed:  1.00 seconds est.remaining:  0.35 seconds\n",
      "Scanned 75.0% elapsed:  1.00 seconds est.remaining:  0.33 seconds\n",
      "Scanned 76.0% elapsed:  1.00 seconds est.remaining:  0.32 seconds\n",
      "Scanned 77.0% elapsed:  1.00 seconds est.remaining:  0.30 seconds\n",
      "Scanned 78.0% elapsed:  1.00 seconds est.remaining:  0.28 seconds\n",
      "Scanned 79.0% elapsed:  1.00 seconds est.remaining:  0.27 seconds\n",
      "Scanned 80.0% elapsed:  1.00 seconds est.remaining:  0.25 seconds\n",
      "Scanned 81.0% elapsed:  1.00 seconds est.remaining:  0.23 seconds\n",
      "Scanned 82.0% elapsed:  1.00 seconds est.remaining:  0.22 seconds\n",
      "Scanned 83.0% elapsed:  1.00 seconds est.remaining:  0.20 seconds\n",
      "Scanned 84.0% elapsed:  1.00 seconds est.remaining:  0.19 seconds\n",
      "Scanned 85.0% elapsed:  1.00 seconds est.remaining:  0.18 seconds\n",
      "Scanned 86.0% elapsed:  1.00 seconds est.remaining:  0.16 seconds\n",
      "Scanned 87.0% elapsed:  1.00 seconds est.remaining:  0.15 seconds\n",
      "Scanned 88.0% elapsed:  1.00 seconds est.remaining:  0.14 seconds\n",
      "Scanned 89.0% elapsed:  1.00 seconds est.remaining:  0.12 seconds\n",
      "Scanned 90.0% elapsed:  1.00 seconds est.remaining:  0.11 seconds\n",
      "Scanned 91.0% elapsed:  1.00 seconds est.remaining:  0.10 seconds\n",
      "Scanned 92.0% elapsed:  1.00 seconds est.remaining:  0.09 seconds\n",
      "Scanned 93.0% elapsed:  1.00 seconds est.remaining:  0.08 seconds\n",
      "Scanned 94.0% elapsed:  1.00 seconds est.remaining:  0.06 seconds\n",
      "Scanned 95.0% elapsed:  1.00 seconds est.remaining:  0.05 seconds\n",
      "Scanned 96.0% elapsed:  1.00 seconds est.remaining:  0.04 seconds\n",
      "Scanned 97.0% elapsed:  1.00 seconds est.remaining:  0.03 seconds\n",
      "Scanned 98.0% elapsed:  1.00 seconds est.remaining:  0.02 seconds\n",
      "Scanned 99.0% elapsed:  1.00 seconds est.remaining:  0.01 seconds\n"
     ]
    },
    {
     "data": {
      "text/plain": [
       "*PDB-LAYOUT*"
      ]
     },
     "execution_count": 30,
     "metadata": {},
     "output_type": "execute_result"
    }
   ],
   "source": [
    "(defparameter *pdb-layout* (leap.pdb:scanpdb \"5t6o.pdb\" :progress t))"
   ]
  },
  {
   "cell_type": "code",
   "execution_count": 31,
   "metadata": {},
   "outputs": [
    {
     "name": "stdout",
     "output_type": "stream",
     "text": [
      "Load pdb 0.0%\n",
      "Load pdb 1.0%\n",
      "Load pdb 2.0%\n",
      "Load pdb 3.0%\n",
      "Load pdb 4.0%\n",
      "Load pdb 5.0%\n",
      "Load pdb 6.0%\n",
      "Load pdb 7.0%\n",
      "Load pdb 8.0%\n",
      "Load pdb 9.0%\n",
      "Load pdb 10.0%\n",
      "Load pdb 11.0%\n",
      "Load pdb 12.0%\n",
      "Load pdb 13.0%\n",
      "Load pdb 14.0%\n",
      "Load pdb 15.0%\n"
     ]
    },
    {
     "name": "stderr",
     "output_type": "stream",
     "text": [
      "SIMPLE-PROGRAM-ERROR: \n",
      "There are no applicable methods of BUILD-RESIDUE for receiver class SYMBOL\n"
     ]
    },
    {
     "data": {
      "text/plain": [
       "NIL"
      ]
     },
     "execution_count": 31,
     "metadata": {},
     "output_type": "execute_result"
    }
   ],
   "source": [
    "(defparameter *pdb* (leap.pdb:loadpdb \"5t6o.pdb\" :layout *pdb-layout* :progress t))"
   ]
  },
  {
   "cell_type": "code",
   "execution_count": null,
   "metadata": {
    "collapsed": true
   },
   "outputs": [],
   "source": [
    "leap.core::*env"
   ]
  },
  {
   "cell_type": "code",
   "execution_count": 37,
   "metadata": {},
   "outputs": [
    {
     "name": "stdout",
     "output_type": "stream",
     "text": [
      "popped residue: #<PDB-RESIDUE SER>\n",
      "popped residue: #<PDB-RESIDUE ALA>\n",
      "popped residue: #<PDB-RESIDUE PHE>\n",
      "popped residue: #<PDB-RESIDUE GLU>\n",
      "popped residue: #<PDB-RESIDUE VAL>\n",
      "popped residue: #<PDB-RESIDUE GLY>\n",
      "popped residue: #<PDB-RESIDUE ARG>\n",
      "popped residue: #<PDB-RESIDUE ASN>\n",
      "popped residue: #<PDB-RESIDUE VAL>\n",
      "popped residue: #<PDB-RESIDUE ALA>\n",
      "popped residue: #<PDB-RESIDUE VAL>\n",
      "popped residue: #<PDB-RESIDUE THR>\n",
      "popped residue: #<PDB-RESIDUE GLU>\n",
      "popped residue: #<PDB-RESIDUE GLY>\n",
      "popped residue: #<PDB-RESIDUE ALA>\n",
      "popped residue: #<PDB-RESIDUE VAL>\n",
      "popped residue: #<PDB-RESIDUE VAL>\n",
      "popped residue: #<PDB-RESIDUE PHE>\n",
      "popped residue: #<PDB-RESIDUE GLU>\n",
      "popped residue: #<PDB-RESIDUE ASN>\n",
      "popped residue: #<PDB-RESIDUE GLU>\n",
      "popped residue: #<PDB-RESIDUE TYR>\n",
      "popped residue: #<PDB-RESIDUE PHE>\n",
      "popped residue: #<PDB-RESIDUE GLN>\n",
      "popped residue: #<PDB-RESIDUE LEU>\n",
      "popped residue: #<PDB-RESIDUE LEU>\n",
      "popped residue: #<PDB-RESIDUE GLN>\n",
      "popped residue: #<PDB-RESIDUE TYR>\n",
      "popped residue: #<PDB-RESIDUE LYS>\n",
      "popped residue: #<PDB-RESIDUE PRO>\n",
      "popped residue: #<PDB-RESIDUE LEU>\n",
      "popped residue: #<PDB-RESIDUE THR>\n",
      "popped residue: #<PDB-RESIDUE ASP>\n",
      "popped residue: #<PDB-RESIDUE LYS>\n",
      "popped residue: #<PDB-RESIDUE VAL>\n",
      "popped residue: #<PDB-RESIDUE HIS>\n",
      "popped residue: #<PDB-RESIDUE ALA>\n",
      "popped residue: #<PDB-RESIDUE ARG>\n",
      "popped residue: #<PDB-RESIDUE PRO>\n",
      "popped residue: #<PDB-RESIDUE LEU>\n",
      "popped residue: #<PDB-RESIDUE LEU>\n",
      "popped residue: #<PDB-RESIDUE MET>\n",
      "popped residue: #<PDB-RESIDUE VAL>\n",
      "popped residue: #<PDB-RESIDUE PRO>\n",
      "popped residue: #<PDB-RESIDUE PRO>\n",
      "popped residue: #<PDB-RESIDUE CYS>\n",
      "popped residue: #<PDB-RESIDUE ILE>\n",
      "popped residue: #<PDB-RESIDUE ASN>\n",
      "popped residue: #<PDB-RESIDUE LYS>\n",
      "popped residue: #<PDB-RESIDUE TYR>\n",
      "popped residue: #<PDB-RESIDUE TYR>\n",
      "popped residue: #<PDB-RESIDUE ILE>\n",
      "popped residue: #<PDB-RESIDUE LEU>\n",
      "popped residue: #<PDB-RESIDUE ASP>\n",
      "popped residue: #<PDB-RESIDUE LEU>\n",
      "popped residue: #<PDB-RESIDUE GLN>\n",
      "popped residue: #<PDB-RESIDUE PRO>\n",
      "popped residue: #<PDB-RESIDUE GLU>\n",
      "popped residue: #<PDB-RESIDUE SER>\n",
      "popped residue: #<PDB-RESIDUE SER>\n",
      "popped residue: #<PDB-RESIDUE LEU>\n",
      "popped residue: #<PDB-RESIDUE VAL>\n",
      "popped residue: #<PDB-RESIDUE ARG>\n",
      "popped residue: #<PDB-RESIDUE HIS>\n",
      "popped residue: #<PDB-RESIDUE VAL>\n",
      "popped residue: #<PDB-RESIDUE VAL>\n",
      "popped residue: #<PDB-RESIDUE GLU>\n",
      "popped residue: #<PDB-RESIDUE GLN>\n",
      "popped residue: #<PDB-RESIDUE GLY>\n",
      "popped residue: #<PDB-RESIDUE HIS>\n",
      "popped residue: #<PDB-RESIDUE THR>\n",
      "popped residue: #<PDB-RESIDUE VAL>\n",
      "popped residue: #<PDB-RESIDUE PHE>\n",
      "popped residue: #<PDB-RESIDUE LEU>\n",
      "popped residue: #<PDB-RESIDUE VAL>\n",
      "popped residue: #<PDB-RESIDUE SER>\n",
      "popped residue: #<PDB-RESIDUE TRP>\n",
      "popped residue: #<PDB-RESIDUE ARG>\n",
      "popped residue: #<PDB-RESIDUE ASN>\n",
      "popped residue: #<PDB-RESIDUE PRO>\n",
      "popped residue: #<PDB-RESIDUE ASP>\n",
      "popped residue: #<PDB-RESIDUE ALA>\n",
      "popped residue: #<PDB-RESIDUE SER>\n",
      "popped residue: #<PDB-RESIDUE MET>\n",
      "popped residue: #<PDB-RESIDUE ALA>\n",
      "popped residue: #<PDB-RESIDUE GLY>\n",
      "popped residue: #<PDB-RESIDUE SER>\n",
      "popped residue: #<PDB-RESIDUE THR>\n",
      "popped residue: #<PDB-RESIDUE TRP>\n",
      "popped residue: #<PDB-RESIDUE ASP>\n",
      "popped residue: #<PDB-RESIDUE ASP>\n",
      "popped residue: #<PDB-RESIDUE TYR>\n",
      "popped residue: #<PDB-RESIDUE ILE>\n",
      "popped residue: #<PDB-RESIDUE GLU>\n",
      "popped residue: #<PDB-RESIDUE HIS>\n",
      "popped residue: #<PDB-RESIDUE ALA>\n",
      "popped residue: #<PDB-RESIDUE ALA>\n",
      "popped residue: #<PDB-RESIDUE ILE>\n",
      "popped residue: #<PDB-RESIDUE ARG>\n",
      "popped residue: #<PDB-RESIDUE ALA>\n",
      "popped residue: #<PDB-RESIDUE ILE>\n",
      "popped residue: #<PDB-RESIDUE GLU>\n",
      "popped residue: #<PDB-RESIDUE VAL>\n",
      "popped residue: #<PDB-RESIDUE ALA>\n",
      "popped residue: #<PDB-RESIDUE ARG>\n",
      "popped residue: #<PDB-RESIDUE ASP>\n",
      "popped residue: #<PDB-RESIDUE ILE>\n",
      "popped residue: #<PDB-RESIDUE SER>\n",
      "popped residue: #<PDB-RESIDUE GLY>\n",
      "popped residue: #<PDB-RESIDUE GLN>\n",
      "popped residue: #<PDB-RESIDUE ASP>\n",
      "popped residue: #<PDB-RESIDUE LYS>\n",
      "popped residue: #<PDB-RESIDUE ILE>\n",
      "popped residue: #<PDB-RESIDUE ASN>\n",
      "popped residue: #<PDB-RESIDUE VAL>\n",
      "popped residue: #<PDB-RESIDUE LEU>\n",
      "popped residue: #<PDB-RESIDUE GLY>\n",
      "popped residue: #<PDB-RESIDUE PHE>\n",
      "popped residue: #<PDB-RESIDUE ALA>\n",
      "popped residue: #<PDB-RESIDUE VAL>\n",
      "popped residue: #<PDB-RESIDUE GLY>\n",
      "popped residue: #<PDB-RESIDUE GLY>\n",
      "popped residue: #<PDB-RESIDUE THR>\n",
      "popped residue: #<PDB-RESIDUE ILE>\n",
      "popped residue: #<PDB-RESIDUE VAL>\n",
      "popped residue: #<PDB-RESIDUE SER>\n",
      "popped residue: #<PDB-RESIDUE THR>\n",
      "popped residue: #<PDB-RESIDUE ALA>\n",
      "popped residue: #<PDB-RESIDUE LEU>\n",
      "popped residue: #<PDB-RESIDUE ALA>\n",
      "popped residue: #<PDB-RESIDUE VAL>\n",
      "popped residue: #<PDB-RESIDUE LEU>\n",
      "popped residue: #<PDB-RESIDUE ALA>\n",
      "popped residue: #<PDB-RESIDUE ALA>\n",
      "popped residue: #<PDB-RESIDUE ARG>\n",
      "popped residue: #<PDB-RESIDUE GLY>\n",
      "popped residue: #<PDB-RESIDUE GLU>\n",
      "popped residue: #<PDB-RESIDUE HIS>\n",
      "popped residue: #<PDB-RESIDUE PRO>\n",
      "popped residue: #<PDB-RESIDUE ALA>\n",
      "popped residue: #<PDB-RESIDUE ALA>\n",
      "popped residue: #<PDB-RESIDUE SER>\n",
      "popped residue: #<PDB-RESIDUE VAL>\n",
      "popped residue: #<PDB-RESIDUE THR>\n",
      "popped residue: #<PDB-RESIDUE LEU>\n",
      "popped residue: #<PDB-RESIDUE LEU>\n",
      "popped residue: #<PDB-RESIDUE THR>\n",
      "popped residue: #<PDB-RESIDUE THR>\n",
      "popped residue: #<PDB-RESIDUE LEU>\n",
      "popped residue: #<PDB-RESIDUE LEU>\n",
      "popped residue: #<PDB-RESIDUE ASP>\n",
      "popped residue: #<PDB-RESIDUE PHE>\n",
      "popped residue: #<PDB-RESIDUE ALA>\n",
      "popped residue: #<PDB-RESIDUE ASP>\n",
      "popped residue: #<PDB-RESIDUE THR>\n",
      "popped residue: #<PDB-RESIDUE GLY>\n",
      "popped residue: #<PDB-RESIDUE ILE>\n",
      "popped residue: #<PDB-RESIDUE LEU>\n",
      "popped residue: #<PDB-RESIDUE ASP>\n",
      "popped residue: #<PDB-RESIDUE VAL>\n",
      "popped residue: #<PDB-RESIDUE PHE>\n",
      "popped residue: #<PDB-RESIDUE VAL>\n",
      "popped residue: #<PDB-RESIDUE ASP>\n",
      "popped residue: #<PDB-RESIDUE GLU>\n",
      "popped residue: #<PDB-RESIDUE GLY>\n",
      "popped residue: #<PDB-RESIDUE HIS>\n",
      "popped residue: #<PDB-RESIDUE VAL>\n",
      "popped residue: #<PDB-RESIDUE GLN>\n",
      "popped residue: #<PDB-RESIDUE ALA>\n",
      "popped residue: #<PDB-RESIDUE GLY>\n",
      "popped residue: #<PDB-RESIDUE ALA>\n",
      "popped residue: #<PDB-RESIDUE PRO>\n",
      "popped residue: #<PDB-RESIDUE CYS>\n",
      "popped residue: #<PDB-RESIDUE ALA>\n",
      "popped residue: #<PDB-RESIDUE LEU>\n",
      "popped residue: #<PDB-RESIDUE LEU>\n",
      "popped residue: #<PDB-RESIDUE ARG>\n",
      "popped residue: #<PDB-RESIDUE GLY>\n",
      "popped residue: #<PDB-RESIDUE LEU>\n",
      "popped residue: #<PDB-RESIDUE GLU>\n",
      "popped residue: #<PDB-RESIDUE LEU>\n",
      "popped residue: #<PDB-RESIDUE ALA>\n",
      "popped residue: #<PDB-RESIDUE ASN>\n",
      "popped residue: #<PDB-RESIDUE THR>\n",
      "popped residue: #<PDB-RESIDUE PHE>\n",
      "popped residue: #<PDB-RESIDUE SER>\n",
      "popped residue: #<PDB-RESIDUE PHE>\n",
      "popped residue: #<PDB-RESIDUE LEU>\n",
      "popped residue: #<PDB-RESIDUE ARG>\n",
      "popped residue: #<PDB-RESIDUE PRO>\n",
      "popped residue: #<PDB-RESIDUE ASN>\n",
      "popped residue: #<PDB-RESIDUE ASP>\n",
      "popped residue: #<PDB-RESIDUE LEU>\n",
      "popped residue: #<PDB-RESIDUE VAL>\n",
      "popped residue: #<PDB-RESIDUE TRP>\n",
      "popped residue: #<PDB-RESIDUE ASN>\n",
      "popped residue: #<PDB-RESIDUE TYR>\n",
      "popped residue: #<PDB-RESIDUE VAL>\n",
      "popped residue: #<PDB-RESIDUE VAL>\n",
      "popped residue: #<PDB-RESIDUE ASP>\n",
      "popped residue: #<PDB-RESIDUE ASN>\n",
      "popped residue: #<PDB-RESIDUE TYR>\n",
      "popped residue: #<PDB-RESIDUE LEU>\n",
      "popped residue: #<PDB-RESIDUE LYS>\n",
      "popped residue: #<PDB-RESIDUE GLY>\n",
      "popped residue: #<PDB-RESIDUE ASN>\n",
      "popped residue: #<PDB-RESIDUE THR>\n",
      "popped residue: #<PDB-RESIDUE PRO>\n",
      "popped residue: #<PDB-RESIDUE VAL>\n",
      "popped residue: #<PDB-RESIDUE PRO>\n",
      "popped residue: #<PDB-RESIDUE PHE>\n",
      "popped residue: #<PDB-RESIDUE ASP>\n",
      "popped residue: #<PDB-RESIDUE LEU>\n",
      "popped residue: #<PDB-RESIDUE LEU>\n",
      "popped residue: #<PDB-RESIDUE PHE>\n",
      "popped residue: #<PDB-RESIDUE TRP>\n",
      "popped residue: #<PDB-RESIDUE ASN>\n",
      "popped residue: #<PDB-RESIDUE GLY>\n",
      "popped residue: #<PDB-RESIDUE ASP>\n",
      "popped residue: #<PDB-RESIDUE ALA>\n",
      "popped residue: #<PDB-RESIDUE THR>\n",
      "popped residue: #<PDB-RESIDUE ASN>\n",
      "popped residue: #<PDB-RESIDUE LEU>\n",
      "popped residue: #<PDB-RESIDUE PRO>\n",
      "popped residue: #<PDB-RESIDUE GLY>\n",
      "popped residue: #<PDB-RESIDUE PRO>\n",
      "popped residue: #<PDB-RESIDUE TRP>\n",
      "popped residue: #<PDB-RESIDUE TYR>\n",
      "popped residue: #<PDB-RESIDUE CYS>\n",
      "popped residue: #<PDB-RESIDUE TRP>\n",
      "popped residue: #<PDB-RESIDUE TYR>\n",
      "popped residue: #<PDB-RESIDUE LEU>\n",
      "popped residue: #<PDB-RESIDUE ARG>\n",
      "popped residue: #<PDB-RESIDUE HIS>\n",
      "popped residue: #<PDB-RESIDUE THR>\n",
      "popped residue: #<PDB-RESIDUE TYR>\n",
      "popped residue: #<PDB-RESIDUE LEU>\n",
      "popped residue: #<PDB-RESIDUE GLN>\n",
      "popped residue: #<PDB-RESIDUE ASN>\n",
      "popped residue: #<PDB-RESIDUE GLU>\n",
      "popped residue: #<PDB-RESIDUE LEU>\n",
      "popped residue: #<PDB-RESIDUE LYS>\n",
      "popped residue: #<PDB-RESIDUE VAL>\n",
      "popped residue: #<PDB-RESIDUE PRO>\n",
      "popped residue: #<PDB-RESIDUE GLY>\n",
      "popped residue: #<PDB-RESIDUE LYS>\n",
      "popped residue: #<PDB-RESIDUE LEU>\n",
      "popped residue: #<PDB-RESIDUE THR>\n",
      "popped residue: #<PDB-RESIDUE VAL>\n",
      "popped residue: #<PDB-RESIDUE CYS>\n",
      "popped residue: #<PDB-RESIDUE GLY>\n",
      "popped residue: #<PDB-RESIDUE VAL>\n",
      "popped residue: #<PDB-RESIDUE PRO>\n",
      "popped residue: #<PDB-RESIDUE VAL>\n",
      "popped residue: #<PDB-RESIDUE ASP>\n",
      "popped residue: #<PDB-RESIDUE LEU>\n",
      "popped residue: #<PDB-RESIDUE ALA>\n",
      "popped residue: #<PDB-RESIDUE SER>\n",
      "popped residue: #<PDB-RESIDUE ILE>\n",
      "popped residue: #<PDB-RESIDUE ASP>\n",
      "popped residue: #<PDB-RESIDUE VAL>\n",
      "popped residue: #<PDB-RESIDUE PRO>\n",
      "popped residue: #<PDB-RESIDUE THR>\n",
      "popped residue: #<PDB-RESIDUE TYR>\n",
      "popped residue: #<PDB-RESIDUE ILE>\n",
      "popped residue: #<PDB-RESIDUE TYR>\n",
      "popped residue: #<PDB-RESIDUE GLY>\n",
      "popped residue: #<PDB-RESIDUE SER>\n",
      "popped residue: #<PDB-RESIDUE ARG>\n",
      "popped residue: #<PDB-RESIDUE GLU>\n",
      "popped residue: #<PDB-RESIDUE ASP>\n",
      "popped residue: #<PDB-RESIDUE HIS>\n",
      "popped residue: #<PDB-RESIDUE ILE>\n",
      "popped residue: #<PDB-RESIDUE VAL>\n",
      "popped residue: #<PDB-RESIDUE PRO>\n",
      "popped residue: #<PDB-RESIDUE TRP>\n",
      "popped residue: #<PDB-RESIDUE THR>\n",
      "popped residue: #<PDB-RESIDUE ALA>\n",
      "popped residue: #<PDB-RESIDUE ALA>\n",
      "popped residue: #<PDB-RESIDUE TYR>\n",
      "popped residue: #<PDB-RESIDUE ALA>\n",
      "popped residue: #<PDB-RESIDUE SER>\n",
      "popped residue: #<PDB-RESIDUE THR>\n",
      "popped residue: #<PDB-RESIDUE ALA>\n",
      "popped residue: #<PDB-RESIDUE LEU>\n",
      "popped residue: #<PDB-RESIDUE LEU>\n",
      "popped residue: #<PDB-RESIDUE ALA>\n",
      "popped residue: #<PDB-RESIDUE ASN>\n",
      "popped residue: #<PDB-RESIDUE LYS>\n",
      "popped residue: #<PDB-RESIDUE LEU>\n",
      "popped residue: #<PDB-RESIDUE ARG>\n",
      "popped residue: #<PDB-RESIDUE PHE>\n",
      "popped residue: #<PDB-RESIDUE VAL>\n",
      "popped residue: #<PDB-RESIDUE LEU>\n",
      "popped residue: #<PDB-RESIDUE GLY>\n",
      "popped residue: #<PDB-RESIDUE ALA>\n",
      "popped residue: #<PDB-RESIDUE SER>\n",
      "popped residue: #<PDB-RESIDUE GLY>\n",
      "popped residue: #<PDB-RESIDUE HIS>\n",
      "popped residue: #<PDB-RESIDUE ILE>\n",
      "popped residue: #<PDB-RESIDUE ALA>\n",
      "popped residue: #<PDB-RESIDUE GLY>\n",
      "popped residue: #<PDB-RESIDUE VAL>\n",
      "popped residue: #<PDB-RESIDUE ILE>\n",
      "popped residue: #<PDB-RESIDUE ASN>\n",
      "popped residue: #<PDB-RESIDUE PRO>\n",
      "popped residue: #<PDB-RESIDUE PRO>\n",
      "popped residue: #<PDB-RESIDUE ALA>\n",
      "popped residue: #<PDB-RESIDUE LYS>\n",
      "popped residue: #<PDB-RESIDUE ASN>\n",
      "popped residue: #<PDB-RESIDUE LYS>\n",
      "popped residue: #<PDB-RESIDUE ARG>\n",
      "popped residue: #<PDB-RESIDUE SER>\n",
      "popped residue: #<PDB-RESIDUE HIS>\n",
      "popped residue: #<PDB-RESIDUE TRP>\n",
      "popped residue: #<PDB-RESIDUE THR>\n",
      "popped residue: #<PDB-RESIDUE ASN>\n",
      "popped residue: #<PDB-RESIDUE ASP>\n",
      "popped residue: #<PDB-RESIDUE ALA>\n",
      "popped residue: #<PDB-RESIDUE LEU>\n",
      "popped residue: #<PDB-RESIDUE PRO>\n",
      "popped residue: #<PDB-RESIDUE GLU>\n",
      "popped residue: #<PDB-RESIDUE SER>\n",
      "popped residue: #<PDB-RESIDUE PRO>\n",
      "popped residue: #<PDB-RESIDUE GLN>\n",
      "popped residue: #<PDB-RESIDUE GLN>\n",
      "popped residue: #<PDB-RESIDUE TRP>\n",
      "popped residue: #<PDB-RESIDUE LEU>\n",
      "popped residue: #<PDB-RESIDUE ALA>\n",
      "popped residue: #<PDB-RESIDUE GLY>\n",
      "popped residue: #<PDB-RESIDUE ALA>\n",
      "popped residue: #<PDB-RESIDUE ILE>\n",
      "popped residue: #<PDB-RESIDUE GLU>\n",
      "popped residue: #<PDB-RESIDUE HIS>\n",
      "popped residue: #<PDB-RESIDUE HIS>\n",
      "popped residue: #<PDB-RESIDUE GLY>\n",
      "popped residue: #<PDB-RESIDUE SER>\n",
      "popped residue: #<PDB-RESIDUE TRP>\n",
      "popped residue: #<PDB-RESIDUE TRP>\n",
      "popped residue: #<PDB-RESIDUE PRO>\n",
      "popped residue: #<PDB-RESIDUE ASP>\n",
      "popped residue: #<PDB-RESIDUE TRP>\n",
      "popped residue: #<PDB-RESIDUE THR>\n",
      "popped residue: #<PDB-RESIDUE ALA>\n",
      "popped residue: #<PDB-RESIDUE TRP>\n",
      "popped residue: #<PDB-RESIDUE LEU>\n",
      "popped residue: #<PDB-RESIDUE ALA>\n",
      "popped residue: #<PDB-RESIDUE GLY>\n",
      "popped residue: #<PDB-RESIDUE GLN>\n",
      "popped residue: #<PDB-RESIDUE ALA>\n",
      "popped residue: #<PDB-RESIDUE GLY>\n",
      "popped residue: #<PDB-RESIDUE ALA>\n",
      "popped residue: #<PDB-RESIDUE LYS>\n",
      "popped residue: #<PDB-RESIDUE ARG>\n",
      "popped residue: #<PDB-RESIDUE ALA>\n",
      "popped residue: #<PDB-RESIDUE ALA>\n",
      "popped residue: #<PDB-RESIDUE PRO>\n",
      "popped residue: #<PDB-RESIDUE ALA>\n",
      "popped residue: #<PDB-RESIDUE ASN>\n",
      "popped residue: #<PDB-RESIDUE TYR>\n",
      "popped residue: #<PDB-RESIDUE GLY>\n",
      "popped residue: #<PDB-RESIDUE ASN>\n",
      "popped residue: #<PDB-RESIDUE ALA>\n",
      "popped residue: #<PDB-RESIDUE ARG>\n",
      "popped residue: #<PDB-RESIDUE TYR>\n",
      "popped residue: #<PDB-RESIDUE ARG>\n",
      "popped residue: #<PDB-RESIDUE ALA>\n",
      "popped residue: #<PDB-RESIDUE ILE>\n",
      "popped residue: #<PDB-RESIDUE GLU>\n",
      "popped residue: #<PDB-RESIDUE PRO>\n",
      "popped residue: #<PDB-RESIDUE ALA>\n",
      "popped residue: #<PDB-RESIDUE PRO>\n",
      "popped residue: #<PDB-RESIDUE GLY>\n",
      "popped residue: #<PDB-RESIDUE ARG>\n",
      "popped residue: #<PDB-RESIDUE TYR>\n",
      "popped residue: #<PDB-RESIDUE VAL>\n",
      "popped residue: #<PDB-RESIDUE LYS>\n",
      "popped residue: #<PDB-RESIDUE ALA>\n",
      "popped residue: #<PDB-RESIDUE LYS>\n",
      "popped residue: #<PDB-RESIDUE ALA>\n",
      "popped residue: NIL\n",
      "Starting a new molecule\n",
      "popped first residue: #<PDB-RESIDUE SO4>\n",
      "popped residue: #<PDB-RESIDUE SO4>\n",
      "popped residue: #<PDB-RESIDUE SO4>\n",
      "popped residue: #<PDB-RESIDUE SO4>\n",
      "popped residue: #<PDB-RESIDUE HOH>\n",
      "popped residue: #<PDB-RESIDUE HOH>\n",
      "popped residue: #<PDB-RESIDUE HOH>\n",
      "popped residue: #<PDB-RESIDUE HOH>\n",
      "popped residue: #<PDB-RESIDUE HOH>\n",
      "popped residue: #<PDB-RESIDUE HOH>\n",
      "popped residue: #<PDB-RESIDUE HOH>\n",
      "popped residue: #<PDB-RESIDUE HOH>\n",
      "popped residue: #<PDB-RESIDUE HOH>\n",
      "popped residue: #<PDB-RESIDUE HOH>\n",
      "popped residue: #<PDB-RESIDUE HOH>\n",
      "popped residue: #<PDB-RESIDUE HOH>\n",
      "popped residue: #<PDB-RESIDUE HOH>\n",
      "popped residue: #<PDB-RESIDUE HOH>\n",
      "popped residue: #<PDB-RESIDUE HOH>\n",
      "popped residue: #<PDB-RESIDUE HOH>\n",
      "popped residue: #<PDB-RESIDUE HOH>\n",
      "popped residue: #<PDB-RESIDUE HOH>\n",
      "popped residue: #<PDB-RESIDUE HOH>\n",
      "popped residue: #<PDB-RESIDUE HOH>\n",
      "popped residue: #<PDB-RESIDUE HOH>\n",
      "popped residue: #<PDB-RESIDUE HOH>\n",
      "popped residue: #<PDB-RESIDUE HOH>\n",
      "popped residue: #<PDB-RESIDUE HOH>\n",
      "popped residue: #<PDB-RESIDUE HOH>\n",
      "popped residue: #<PDB-RESIDUE HOH>\n",
      "popped residue: #<PDB-RESIDUE HOH>\n",
      "popped residue: #<PDB-RESIDUE HOH>\n",
      "popped residue: #<PDB-RESIDUE HOH>\n",
      "popped residue: #<PDB-RESIDUE HOH>\n",
      "popped residue: #<PDB-RESIDUE HOH>\n",
      "popped residue: #<PDB-RESIDUE HOH>\n",
      "popped residue: #<PDB-RESIDUE HOH>\n",
      "popped residue: #<PDB-RESIDUE HOH>\n",
      "popped residue: #<PDB-RESIDUE HOH>\n",
      "popped residue: #<PDB-RESIDUE HOH>\n",
      "popped residue: #<PDB-RESIDUE HOH>\n",
      "popped residue: #<PDB-RESIDUE HOH>\n",
      "popped residue: #<PDB-RESIDUE HOH>\n",
      "popped residue: #<PDB-RESIDUE HOH>\n",
      "popped residue: #<PDB-RESIDUE HOH>\n",
      "popped residue: #<PDB-RESIDUE HOH>\n",
      "popped residue: #<PDB-RESIDUE HOH>\n",
      "popped residue: #<PDB-RESIDUE HOH>\n",
      "popped residue: #<PDB-RESIDUE HOH>\n",
      "popped residue: #<PDB-RESIDUE HOH>\n",
      "popped residue: #<PDB-RESIDUE HOH>\n",
      "popped residue: #<PDB-RESIDUE HOH>\n",
      "popped residue: #<PDB-RESIDUE HOH>\n",
      "popped residue: #<PDB-RESIDUE HOH>\n",
      "popped residue: #<PDB-RESIDUE HOH>\n",
      "popped residue: #<PDB-RESIDUE HOH>\n",
      "popped residue: #<PDB-RESIDUE HOH>\n",
      "popped residue: #<PDB-RESIDUE HOH>\n",
      "popped residue: #<PDB-RESIDUE HOH>\n",
      "popped residue: #<PDB-RESIDUE HOH>\n",
      "popped residue: #<PDB-RESIDUE HOH>\n",
      "popped residue: #<PDB-RESIDUE HOH>\n",
      "popped residue: #<PDB-RESIDUE HOH>\n",
      "popped residue: #<PDB-RESIDUE HOH>\n",
      "popped residue: #<PDB-RESIDUE HOH>\n",
      "popped residue: #<PDB-RESIDUE HOH>\n",
      "popped residue: #<PDB-RESIDUE HOH>\n",
      "popped residue: #<PDB-RESIDUE HOH>\n",
      "popped residue: #<PDB-RESIDUE HOH>\n",
      "popped residue: #<PDB-RESIDUE HOH>\n",
      "popped residue: #<PDB-RESIDUE HOH>\n",
      "popped residue: #<PDB-RESIDUE HOH>\n",
      "popped residue: #<PDB-RESIDUE HOH>\n",
      "popped residue: #<PDB-RESIDUE HOH>\n",
      "popped residue: #<PDB-RESIDUE HOH>\n",
      "popped residue: #<PDB-RESIDUE HOH>\n",
      "popped residue: #<PDB-RESIDUE HOH>\n",
      "popped residue: #<PDB-RESIDUE HOH>\n",
      "popped residue: #<PDB-RESIDUE HOH>\n",
      "popped residue: #<PDB-RESIDUE HOH>\n",
      "popped residue: #<PDB-RESIDUE HOH>\n",
      "popped residue: #<PDB-RESIDUE HOH>\n",
      "popped residue: #<PDB-RESIDUE HOH>\n",
      "popped residue: #<PDB-RESIDUE HOH>\n",
      "popped residue: #<PDB-RESIDUE HOH>\n",
      "popped residue: #<PDB-RESIDUE HOH>\n",
      "popped residue: #<PDB-RESIDUE HOH>\n",
      "popped residue: #<PDB-RESIDUE HOH>\n",
      "popped residue: #<PDB-RESIDUE HOH>\n",
      "popped residue: #<PDB-RESIDUE HOH>\n",
      "popped residue: #<PDB-RESIDUE HOH>\n",
      "popped residue: #<PDB-RESIDUE HOH>\n",
      "popped residue: #<PDB-RESIDUE HOH>\n",
      "popped residue: #<PDB-RESIDUE HOH>\n",
      "popped residue: #<PDB-RESIDUE HOH>\n",
      "popped residue: #<PDB-RESIDUE HOH>\n",
      "popped residue: #<PDB-RESIDUE HOH>\n",
      "popped residue: #<PDB-RESIDUE HOH>\n",
      "popped residue: #<PDB-RESIDUE HOH>\n",
      "popped residue: #<PDB-RESIDUE HOH>\n",
      "popped residue: #<PDB-RESIDUE HOH>\n",
      "popped residue: #<PDB-RESIDUE HOH>\n",
      "popped residue: #<PDB-RESIDUE HOH>\n",
      "popped residue: #<PDB-RESIDUE HOH>\n",
      "popped residue: #<PDB-RESIDUE HOH>\n",
      "popped residue: #<PDB-RESIDUE HOH>\n",
      "popped residue: #<PDB-RESIDUE HOH>\n",
      "popped residue: #<PDB-RESIDUE HOH>\n",
      "popped residue: #<PDB-RESIDUE HOH>\n",
      "popped residue: #<PDB-RESIDUE HOH>\n",
      "popped residue: #<PDB-RESIDUE HOH>\n",
      "popped residue: #<PDB-RESIDUE HOH>\n",
      "popped residue: #<PDB-RESIDUE HOH>\n",
      "popped residue: #<PDB-RESIDUE HOH>\n",
      "popped residue: #<PDB-RESIDUE HOH>\n",
      "popped residue: #<PDB-RESIDUE HOH>\n",
      "popped residue: #<PDB-RESIDUE HOH>\n",
      "popped residue: #<PDB-RESIDUE HOH>\n",
      "popped residue: #<PDB-RESIDUE HOH>\n",
      "popped residue: #<PDB-RESIDUE HOH>\n",
      "popped residue: #<PDB-RESIDUE HOH>\n",
      "popped residue: #<PDB-RESIDUE HOH>\n",
      "popped residue: #<PDB-RESIDUE HOH>\n",
      "popped residue: #<PDB-RESIDUE HOH>\n",
      "popped residue: #<PDB-RESIDUE HOH>\n",
      "popped residue: #<PDB-RESIDUE HOH>\n",
      "popped residue: #<PDB-RESIDUE HOH>\n",
      "popped residue: #<PDB-RESIDUE HOH>\n",
      "popped residue: #<PDB-RESIDUE HOH>\n",
      "popped residue: #<PDB-RESIDUE HOH>\n",
      "popped residue: #<PDB-RESIDUE HOH>\n",
      "popped residue: #<PDB-RESIDUE HOH>\n",
      "popped residue: #<PDB-RESIDUE HOH>\n",
      "popped residue: #<PDB-RESIDUE HOH>\n",
      "popped residue: #<PDB-RESIDUE HOH>\n",
      "popped residue: #<PDB-RESIDUE HOH>\n",
      "popped residue: #<PDB-RESIDUE HOH>\n",
      "popped residue: #<PDB-RESIDUE HOH>\n",
      "popped residue: #<PDB-RESIDUE HOH>\n",
      "popped residue: #<PDB-RESIDUE HOH>\n",
      "popped residue: #<PDB-RESIDUE HOH>\n",
      "popped residue: #<PDB-RESIDUE HOH>\n",
      "popped residue: #<PDB-RESIDUE HOH>\n",
      "popped residue: #<PDB-RESIDUE HOH>\n",
      "popped residue: #<PDB-RESIDUE HOH>\n",
      "popped residue: #<PDB-RESIDUE HOH>\n",
      "popped residue: #<PDB-RESIDUE HOH>\n",
      "popped residue: #<PDB-RESIDUE HOH>\n",
      "popped residue: #<PDB-RESIDUE HOH>\n",
      "popped residue: #<PDB-RESIDUE HOH>\n",
      "popped residue: #<PDB-RESIDUE HOH>\n",
      "popped residue: #<PDB-RESIDUE HOH>\n",
      "popped residue: #<PDB-RESIDUE HOH>\n",
      "popped residue: #<PDB-RESIDUE HOH>\n",
      "popped residue: #<PDB-RESIDUE HOH>\n",
      "popped residue: #<PDB-RESIDUE HOH>\n",
      "popped residue: #<PDB-RESIDUE HOH>\n",
      "popped residue: #<PDB-RESIDUE HOH>\n",
      "popped residue: #<PDB-RESIDUE HOH>\n",
      "popped residue: #<PDB-RESIDUE HOH>\n",
      "popped residue: #<PDB-RESIDUE HOH>\n",
      "popped residue: #<PDB-RESIDUE HOH>\n",
      "popped residue: #<PDB-RESIDUE HOH>\n",
      "popped residue: #<PDB-RESIDUE HOH>\n",
      "popped residue: #<PDB-RESIDUE HOH>\n",
      "popped residue: #<PDB-RESIDUE HOH>\n",
      "popped residue: #<PDB-RESIDUE HOH>\n",
      "popped residue: #<PDB-RESIDUE HOH>\n",
      "popped residue: #<PDB-RESIDUE HOH>\n",
      "popped residue: #<PDB-RESIDUE HOH>\n",
      "popped residue: #<PDB-RESIDUE HOH>\n",
      "popped residue: #<PDB-RESIDUE HOH>\n",
      "popped residue: #<PDB-RESIDUE HOH>\n",
      "popped residue: #<PDB-RESIDUE HOH>\n",
      "popped residue: #<PDB-RESIDUE HOH>\n",
      "popped residue: #<PDB-RESIDUE HOH>\n",
      "popped residue: #<PDB-RESIDUE HOH>\n",
      "popped residue: #<PDB-RESIDUE HOH>\n",
      "popped residue: #<PDB-RESIDUE HOH>\n",
      "popped residue: #<PDB-RESIDUE HOH>\n",
      "popped residue: #<PDB-RESIDUE HOH>\n",
      "popped residue: #<PDB-RESIDUE HOH>\n",
      "popped residue: #<PDB-RESIDUE HOH>\n",
      "popped residue: #<PDB-RESIDUE HOH>\n",
      "popped residue: #<PDB-RESIDUE HOH>\n",
      "popped residue: #<PDB-RESIDUE HOH>\n",
      "popped residue: #<PDB-RESIDUE HOH>\n",
      "popped residue: #<PDB-RESIDUE HOH>\n",
      "popped residue: #<PDB-RESIDUE HOH>\n",
      "popped residue: #<PDB-RESIDUE HOH>\n",
      "popped residue: #<PDB-RESIDUE HOH>\n",
      "popped residue: #<PDB-RESIDUE HOH>\n",
      "popped residue: #<PDB-RESIDUE HOH>\n",
      "popped residue: #<PDB-RESIDUE HOH>\n",
      "popped residue: #<PDB-RESIDUE HOH>\n",
      "popped residue: #<PDB-RESIDUE HOH>\n",
      "popped residue: #<PDB-RESIDUE HOH>\n",
      "popped residue: #<PDB-RESIDUE HOH>\n",
      "popped residue: #<PDB-RESIDUE HOH>\n",
      "popped residue: #<PDB-RESIDUE HOH>\n",
      "popped residue: #<PDB-RESIDUE HOH>\n",
      "popped residue: #<PDB-RESIDUE HOH>\n",
      "popped residue: #<PDB-RESIDUE HOH>\n",
      "popped residue: #<PDB-RESIDUE HOH>\n",
      "popped residue: #<PDB-RESIDUE HOH>\n",
      "popped residue: #<PDB-RESIDUE HOH>\n",
      "popped residue: #<PDB-RESIDUE HOH>\n",
      "popped residue: #<PDB-RESIDUE HOH>\n",
      "popped residue: #<PDB-RESIDUE HOH>\n",
      "popped residue: #<PDB-RESIDUE HOH>\n",
      "popped residue: #<PDB-RESIDUE HOH>\n",
      "popped residue: #<PDB-RESIDUE HOH>\n",
      "popped residue: #<PDB-RESIDUE HOH>\n",
      "popped residue: #<PDB-RESIDUE HOH>\n",
      "popped residue: #<PDB-RESIDUE HOH>\n",
      "popped residue: #<PDB-RESIDUE HOH>\n",
      "popped residue: #<PDB-RESIDUE HOH>\n",
      "popped residue: #<PDB-RESIDUE HOH>\n",
      "popped residue: #<PDB-RESIDUE HOH>\n",
      "popped residue: #<PDB-RESIDUE HOH>\n",
      "popped residue: #<PDB-RESIDUE HOH>\n",
      "popped residue: #<PDB-RESIDUE HOH>\n",
      "popped residue: #<PDB-RESIDUE HOH>\n",
      "popped residue: #<PDB-RESIDUE HOH>\n",
      "popped residue: #<PDB-RESIDUE HOH>\n",
      "popped residue: #<PDB-RESIDUE HOH>\n",
      "popped residue: #<PDB-RESIDUE HOH>\n",
      "popped residue: #<PDB-RESIDUE HOH>\n",
      "popped residue: #<PDB-RESIDUE HOH>\n",
      "popped residue: #<PDB-RESIDUE HOH>\n",
      "popped residue: #<PDB-RESIDUE HOH>\n",
      "popped residue: #<PDB-RESIDUE HOH>\n",
      "popped residue: #<PDB-RESIDUE HOH>\n",
      "popped residue: #<PDB-RESIDUE HOH>\n",
      "popped residue: #<PDB-RESIDUE HOH>\n",
      "popped residue: #<PDB-RESIDUE HOH>\n",
      "popped residue: #<PDB-RESIDUE HOH>\n",
      "popped residue: #<PDB-RESIDUE HOH>\n",
      "popped residue: #<PDB-RESIDUE HOH>\n",
      "popped residue: #<PDB-RESIDUE HOH>\n",
      "popped residue: #<PDB-RESIDUE HOH>\n",
      "popped residue: #<PDB-RESIDUE HOH>\n",
      "popped residue: #<PDB-RESIDUE HOH>\n",
      "popped residue: #<PDB-RESIDUE HOH>\n",
      "popped residue: #<PDB-RESIDUE HOH>\n",
      "popped residue: #<PDB-RESIDUE HOH>\n",
      "popped residue: #<PDB-RESIDUE HOH>\n",
      "popped residue: #<PDB-RESIDUE HOH>\n",
      "popped residue: #<PDB-RESIDUE HOH>\n",
      "popped residue: #<PDB-RESIDUE HOH>\n",
      "popped residue: #<PDB-RESIDUE HOH>\n",
      "popped residue: #<PDB-RESIDUE HOH>\n",
      "popped residue: #<PDB-RESIDUE HOH>\n",
      "popped residue: #<PDB-RESIDUE HOH>\n",
      "popped residue: #<PDB-RESIDUE HOH>\n",
      "popped residue: #<PDB-RESIDUE HOH>\n",
      "popped residue: #<PDB-RESIDUE HOH>\n",
      "popped residue: #<PDB-RESIDUE HOH>\n",
      "popped residue: #<PDB-RESIDUE HOH>\n",
      "popped residue: #<PDB-RESIDUE HOH>\n",
      "popped residue: #<PDB-RESIDUE HOH>\n",
      "popped residue: #<PDB-RESIDUE HOH>\n",
      "popped residue: #<PDB-RESIDUE HOH>\n",
      "popped residue: #<PDB-RESIDUE HOH>\n",
      "popped residue: #<PDB-RESIDUE HOH>\n",
      "popped residue: #<PDB-RESIDUE HOH>\n",
      "popped residue: #<PDB-RESIDUE HOH>\n",
      "popped residue: #<PDB-RESIDUE HOH>\n",
      "popped residue: #<PDB-RESIDUE HOH>\n",
      "popped residue: #<PDB-RESIDUE HOH>\n",
      "popped residue: #<PDB-RESIDUE HOH>\n",
      "popped residue: #<PDB-RESIDUE HOH>\n",
      "popped residue: #<PDB-RESIDUE HOH>\n",
      "popped residue: #<PDB-RESIDUE HOH>\n",
      "popped residue: #<PDB-RESIDUE HOH>\n",
      "popped residue: #<PDB-RESIDUE HOH>\n",
      "popped residue: #<PDB-RESIDUE HOH>\n",
      "popped residue: #<PDB-RESIDUE HOH>\n",
      "popped residue: #<PDB-RESIDUE HOH>\n",
      "popped residue: #<PDB-RESIDUE HOH>\n",
      "popped residue: #<PDB-RESIDUE HOH>\n",
      "popped residue: #<PDB-RESIDUE HOH>\n",
      "popped residue: #<PDB-RESIDUE HOH>\n",
      "popped residue: #<PDB-RESIDUE HOH>\n",
      "popped residue: #<PDB-RESIDUE HOH>\n",
      "popped residue: #<PDB-RESIDUE HOH>\n",
      "popped residue: #<PDB-RESIDUE HOH>\n"
     ]
    },
    {
     "name": "stderr",
     "output_type": "stream",
     "text": [
      "SIMPLE-WARNING: \n",
      "Could not immediately identify topology for (SO4 . HEAD)\n",
      "SIMPLE-WARNING: \n",
      "Could not identify topology for (SO4 . HEAD)\n",
      "SIMPLE-WARNING: \n",
      "Could not immediately identify topology for (SO4 . MAIN)\n",
      "SIMPLE-WARNING: \n",
      "Could not identify topology for (SO4 . MAIN)\n",
      "SIMPLE-WARNING: \n",
      "Could not immediately identify topology for (SO4 . MAIN)\n",
      "SIMPLE-WARNING: \n",
      "Could not immediately identify topology for (SO4 . MAIN)\n",
      "SIMPLE-WARNING: \n",
      "Could not immediately identify topology for (HOH . MAIN)\n",
      "SIMPLE-WARNING: \n",
      "Could not identify topology for (HOH . MAIN)\n",
      "SIMPLE-WARNING: \n",
      "Could not immediately identify topology for (HOH . MAIN)\n",
      "SIMPLE-WARNING: \n",
      "Could not immediately identify topology for (HOH . MAIN)\n",
      "SIMPLE-WARNING: \n",
      "Could not immediately identify topology for (HOH . MAIN)\n",
      "SIMPLE-WARNING: \n",
      "Could not immediately identify topology for (HOH . MAIN)\n",
      "SIMPLE-WARNING: \n",
      "Could not immediately identify topology for (HOH . MAIN)\n",
      "SIMPLE-WARNING: \n",
      "Could not immediately identify topology for (HOH . MAIN)\n",
      "SIMPLE-WARNING: \n",
      "Could not immediately identify topology for (HOH . MAIN)\n",
      "SIMPLE-WARNING: \n",
      "Could not immediately identify topology for (HOH . MAIN)\n",
      "SIMPLE-WARNING: \n",
      "Could not immediately identify topology for (HOH . MAIN)\n",
      "SIMPLE-WARNING: \n",
      "Could not immediately identify topology for (HOH . MAIN)\n",
      "SIMPLE-WARNING: \n",
      "Could not immediately identify topology for (HOH . MAIN)\n",
      "SIMPLE-WARNING: \n",
      "Could not immediately identify topology for (HOH . MAIN)\n",
      "SIMPLE-WARNING: \n",
      "Could not immediately identify topology for (HOH . MAIN)\n",
      "SIMPLE-WARNING: \n",
      "Could not immediately identify topology for (HOH . MAIN)\n",
      "SIMPLE-WARNING: \n",
      "Could not immediately identify topology for (HOH . MAIN)\n",
      "SIMPLE-WARNING: \n",
      "Could not immediately identify topology for (HOH . MAIN)\n",
      "SIMPLE-WARNING: \n",
      "Could not immediately identify topology for (HOH . MAIN)\n",
      "SIMPLE-WARNING: \n",
      "Could not immediately identify topology for (HOH . MAIN)\n",
      "SIMPLE-WARNING: \n",
      "Could not immediately identify topology for (HOH . MAIN)\n",
      "SIMPLE-WARNING: \n",
      "Could not immediately identify topology for (HOH . MAIN)\n",
      "SIMPLE-WARNING: \n",
      "Could not immediately identify topology for (HOH . MAIN)\n",
      "SIMPLE-WARNING: \n",
      "Could not immediately identify topology for (HOH . MAIN)\n",
      "SIMPLE-WARNING: \n",
      "Could not immediately identify topology for (HOH . MAIN)\n",
      "SIMPLE-WARNING: \n",
      "Could not immediately identify topology for (HOH . MAIN)\n",
      "SIMPLE-WARNING: \n",
      "Could not immediately identify topology for (HOH . MAIN)\n",
      "SIMPLE-WARNING: \n",
      "Could not immediately identify topology for (HOH . MAIN)\n",
      "SIMPLE-WARNING: \n",
      "Could not immediately identify topology for (HOH . MAIN)\n",
      "SIMPLE-WARNING: \n",
      "Could not immediately identify topology for (HOH . MAIN)\n",
      "SIMPLE-WARNING: \n",
      "Could not immediately identify topology for (HOH . MAIN)\n",
      "SIMPLE-WARNING: \n",
      "Could not immediately identify topology for (HOH . MAIN)\n",
      "SIMPLE-WARNING: \n",
      "Could not immediately identify topology for (HOH . MAIN)\n",
      "SIMPLE-WARNING: \n",
      "Could not immediately identify topology for (HOH . MAIN)\n",
      "SIMPLE-WARNING: \n",
      "Could not immediately identify topology for (HOH . MAIN)\n",
      "SIMPLE-WARNING: \n",
      "Could not immediately identify topology for (HOH . MAIN)\n",
      "SIMPLE-WARNING: \n",
      "Could not immediately identify topology for (HOH . MAIN)\n",
      "SIMPLE-WARNING: \n",
      "Could not immediately identify topology for (HOH . MAIN)\n",
      "SIMPLE-WARNING: \n",
      "Could not immediately identify topology for (HOH . MAIN)\n",
      "SIMPLE-WARNING: \n",
      "Could not immediately identify topology for (HOH . MAIN)\n",
      "SIMPLE-WARNING: \n",
      "Could not immediately identify topology for (HOH . MAIN)\n",
      "SIMPLE-WARNING: \n",
      "Could not immediately identify topology for (HOH . MAIN)\n",
      "SIMPLE-WARNING: \n",
      "Could not immediately identify topology for (HOH . MAIN)\n",
      "SIMPLE-WARNING: \n",
      "Could not immediately identify topology for (HOH . MAIN)\n",
      "SIMPLE-WARNING: \n",
      "Could not immediately identify topology for (HOH . MAIN)\n",
      "SIMPLE-WARNING: \n",
      "Could not immediately identify topology for (HOH . MAIN)\n",
      "SIMPLE-WARNING: \n",
      "Could not immediately identify topology for (HOH . MAIN)\n",
      "SIMPLE-WARNING: \n",
      "Could not immediately identify topology for (HOH . MAIN)\n",
      "SIMPLE-WARNING: \n",
      "Could not immediately identify topology for (HOH . MAIN)\n",
      "SIMPLE-WARNING: \n",
      "Could not immediately identify topology for (HOH . MAIN)\n",
      "SIMPLE-WARNING: \n",
      "Could not immediately identify topology for (HOH . MAIN)\n",
      "SIMPLE-WARNING: \n",
      "Could not immediately identify topology for (HOH . MAIN)\n",
      "SIMPLE-WARNING: \n",
      "Could not immediately identify topology for (HOH . MAIN)\n",
      "SIMPLE-WARNING: \n",
      "Could not immediately identify topology for (HOH . MAIN)\n",
      "SIMPLE-WARNING: \n",
      "Could not immediately identify topology for (HOH . MAIN)\n",
      "SIMPLE-WARNING: \n",
      "Could not immediately identify topology for (HOH . MAIN)\n",
      "SIMPLE-WARNING: \n",
      "Could not immediately identify topology for (HOH . MAIN)\n",
      "SIMPLE-WARNING: \n",
      "Could not immediately identify topology for (HOH . MAIN)\n",
      "SIMPLE-WARNING: \n",
      "Could not immediately identify topology for (HOH . MAIN)\n",
      "SIMPLE-WARNING: \n",
      "Could not immediately identify topology for (HOH . MAIN)\n",
      "SIMPLE-WARNING: \n",
      "Could not immediately identify topology for (HOH . MAIN)\n",
      "SIMPLE-WARNING: \n",
      "Could not immediately identify topology for (HOH . MAIN)\n",
      "SIMPLE-WARNING: \n",
      "Could not immediately identify topology for (HOH . MAIN)\n",
      "SIMPLE-WARNING: \n",
      "Could not immediately identify topology for (HOH . MAIN)\n",
      "SIMPLE-WARNING: \n",
      "Could not immediately identify topology for (HOH . MAIN)\n",
      "SIMPLE-WARNING: \n",
      "Could not immediately identify topology for (HOH . MAIN)\n",
      "SIMPLE-WARNING: \n",
      "Could not immediately identify topology for (HOH . MAIN)\n",
      "SIMPLE-WARNING: \n",
      "Could not immediately identify topology for (HOH . MAIN)\n",
      "SIMPLE-WARNING: \n",
      "Could not immediately identify topology for (HOH . MAIN)\n",
      "SIMPLE-WARNING: \n",
      "Could not immediately identify topology for (HOH . MAIN)\n",
      "SIMPLE-WARNING: \n",
      "Could not immediately identify topology for (HOH . MAIN)\n",
      "SIMPLE-WARNING: \n",
      "Could not immediately identify topology for (HOH . MAIN)\n",
      "SIMPLE-WARNING: \n",
      "Could not immediately identify topology for (HOH . MAIN)\n",
      "SIMPLE-WARNING: \n",
      "Could not immediately identify topology for (HOH . MAIN)\n",
      "SIMPLE-WARNING: \n",
      "Could not immediately identify topology for (HOH . MAIN)\n",
      "SIMPLE-WARNING: \n",
      "Could not immediately identify topology for (HOH . MAIN)\n",
      "SIMPLE-WARNING: \n",
      "Could not immediately identify topology for (HOH . MAIN)\n",
      "SIMPLE-WARNING: \n",
      "Could not immediately identify topology for (HOH . MAIN)\n",
      "SIMPLE-WARNING: \n",
      "Could not immediately identify topology for (HOH . MAIN)\n",
      "SIMPLE-WARNING: \n",
      "Could not immediately identify topology for (HOH . MAIN)\n",
      "SIMPLE-WARNING: \n",
      "Could not immediately identify topology for (HOH . MAIN)\n",
      "SIMPLE-WARNING: \n",
      "Could not immediately identify topology for (HOH . MAIN)\n",
      "SIMPLE-WARNING: \n",
      "Could not immediately identify topology for (HOH . MAIN)\n",
      "SIMPLE-WARNING: \n",
      "Could not immediately identify topology for (HOH . MAIN)\n",
      "SIMPLE-WARNING: \n",
      "Could not immediately identify topology for (HOH . MAIN)\n",
      "SIMPLE-WARNING: \n",
      "Could not immediately identify topology for (HOH . MAIN)\n",
      "SIMPLE-WARNING: \n",
      "Could not immediately identify topology for (HOH . MAIN)\n",
      "SIMPLE-WARNING: \n",
      "Could not immediately identify topology for (HOH . MAIN)\n",
      "SIMPLE-WARNING: \n",
      "Could not immediately identify topology for (HOH . MAIN)\n",
      "SIMPLE-WARNING: \n",
      "Could not immediately identify topology for (HOH . MAIN)\n",
      "SIMPLE-WARNING: \n",
      "Could not immediately identify topology for (HOH . MAIN)\n",
      "SIMPLE-WARNING: \n",
      "Could not immediately identify topology for (HOH . MAIN)\n",
      "SIMPLE-WARNING: \n",
      "Could not immediately identify topology for (HOH . MAIN)\n",
      "SIMPLE-WARNING: \n",
      "Could not immediately identify topology for (HOH . MAIN)\n",
      "SIMPLE-WARNING: \n",
      "Could not immediately identify topology for (HOH . MAIN)\n",
      "SIMPLE-WARNING: \n",
      "Could not immediately identify topology for (HOH . MAIN)\n",
      "SIMPLE-WARNING: \n",
      "Could not immediately identify topology for (HOH . MAIN)\n",
      "SIMPLE-WARNING: \n",
      "Could not immediately identify topology for (HOH . MAIN)\n",
      "SIMPLE-WARNING: \n",
      "Could not immediately identify topology for (HOH . MAIN)\n",
      "SIMPLE-WARNING: \n",
      "Could not immediately identify topology for (HOH . MAIN)\n",
      "SIMPLE-WARNING: \n",
      "Could not immediately identify topology for (HOH . MAIN)\n",
      "SIMPLE-WARNING: \n",
      "Could not immediately identify topology for (HOH . MAIN)\n",
      "SIMPLE-WARNING: \n",
      "Could not immediately identify topology for (HOH . MAIN)\n",
      "SIMPLE-WARNING: \n",
      "Could not immediately identify topology for (HOH . MAIN)\n",
      "SIMPLE-WARNING: \n",
      "Could not immediately identify topology for (HOH . MAIN)\n",
      "SIMPLE-WARNING: \n",
      "Could not immediately identify topology for (HOH . MAIN)\n",
      "SIMPLE-WARNING: \n",
      "Could not immediately identify topology for (HOH . MAIN)\n",
      "SIMPLE-WARNING: \n",
      "Could not immediately identify topology for (HOH . MAIN)\n",
      "SIMPLE-WARNING: \n",
      "Could not immediately identify topology for (HOH . MAIN)\n",
      "SIMPLE-WARNING: \n",
      "Could not immediately identify topology for (HOH . MAIN)\n",
      "SIMPLE-WARNING: \n",
      "Could not immediately identify topology for (HOH . MAIN)\n",
      "SIMPLE-WARNING: \n",
      "Could not immediately identify topology for (HOH . MAIN)\n",
      "SIMPLE-WARNING: \n",
      "Could not immediately identify topology for (HOH . MAIN)\n",
      "SIMPLE-WARNING: \n",
      "Could not immediately identify topology for (HOH . MAIN)\n",
      "SIMPLE-WARNING: \n",
      "Could not immediately identify topology for (HOH . MAIN)\n",
      "SIMPLE-WARNING: \n",
      "Could not immediately identify topology for (HOH . MAIN)\n",
      "SIMPLE-WARNING: \n",
      "Could not immediately identify topology for (HOH . MAIN)\n",
      "SIMPLE-WARNING: \n",
      "Could not immediately identify topology for (HOH . MAIN)\n",
      "SIMPLE-WARNING: \n",
      "Could not immediately identify topology for (HOH . MAIN)\n",
      "SIMPLE-WARNING: \n",
      "Could not immediately identify topology for (HOH . MAIN)\n",
      "SIMPLE-WARNING: \n",
      "Could not immediately identify topology for (HOH . MAIN)\n",
      "SIMPLE-WARNING: \n",
      "Could not immediately identify topology for (HOH . MAIN)\n",
      "SIMPLE-WARNING: \n",
      "Could not immediately identify topology for (HOH . MAIN)\n",
      "SIMPLE-WARNING: \n",
      "Could not immediately identify topology for (HOH . MAIN)\n",
      "SIMPLE-WARNING: \n",
      "Could not immediately identify topology for (HOH . MAIN)\n",
      "SIMPLE-WARNING: \n",
      "Could not immediately identify topology for (HOH . MAIN)\n",
      "SIMPLE-WARNING: \n",
      "Could not immediately identify topology for (HOH . MAIN)\n",
      "SIMPLE-WARNING: \n",
      "Could not immediately identify topology for (HOH . MAIN)\n",
      "SIMPLE-WARNING: \n",
      "Could not immediately identify topology for (HOH . MAIN)\n",
      "SIMPLE-WARNING: \n",
      "Could not immediately identify topology for (HOH . MAIN)\n",
      "SIMPLE-WARNING: \n",
      "Could not immediately identify topology for (HOH . MAIN)\n",
      "SIMPLE-WARNING: \n",
      "Could not immediately identify topology for (HOH . MAIN)\n",
      "SIMPLE-WARNING: \n",
      "Could not immediately identify topology for (HOH . MAIN)\n",
      "SIMPLE-WARNING: \n",
      "Could not immediately identify topology for (HOH . MAIN)\n",
      "SIMPLE-WARNING: \n",
      "Could not immediately identify topology for (HOH . MAIN)\n",
      "SIMPLE-WARNING: \n",
      "Could not immediately identify topology for (HOH . MAIN)\n",
      "SIMPLE-WARNING: \n",
      "Could not immediately identify topology for (HOH . MAIN)\n",
      "SIMPLE-WARNING: \n",
      "Could not immediately identify topology for (HOH . MAIN)\n",
      "SIMPLE-WARNING: \n",
      "Could not immediately identify topology for (HOH . MAIN)\n",
      "SIMPLE-WARNING: \n",
      "Could not immediately identify topology for (HOH . MAIN)\n",
      "SIMPLE-WARNING: \n",
      "Could not immediately identify topology for (HOH . MAIN)\n",
      "SIMPLE-WARNING: \n",
      "Could not immediately identify topology for (HOH . MAIN)\n",
      "SIMPLE-WARNING: \n",
      "Could not immediately identify topology for (HOH . MAIN)\n",
      "SIMPLE-WARNING: \n",
      "Could not immediately identify topology for (HOH . MAIN)\n",
      "SIMPLE-WARNING: \n",
      "Could not immediately identify topology for (HOH . MAIN)\n",
      "SIMPLE-WARNING: \n",
      "Could not immediately identify topology for (HOH . MAIN)\n",
      "SIMPLE-WARNING: \n",
      "Could not immediately identify topology for (HOH . MAIN)\n",
      "SIMPLE-WARNING: \n",
      "Could not immediately identify topology for (HOH . MAIN)\n",
      "SIMPLE-WARNING: \n",
      "Could not immediately identify topology for (HOH . MAIN)\n",
      "SIMPLE-WARNING: \n",
      "Could not immediately identify topology for (HOH . MAIN)\n",
      "SIMPLE-WARNING: \n",
      "Could not immediately identify topology for (HOH . MAIN)\n",
      "SIMPLE-WARNING: \n",
      "Could not immediately identify topology for (HOH . MAIN)\n",
      "SIMPLE-WARNING: \n",
      "Could not immediately identify topology for (HOH . MAIN)\n",
      "SIMPLE-WARNING: \n",
      "Could not immediately identify topology for (HOH . MAIN)\n",
      "SIMPLE-WARNING: \n",
      "Could not immediately identify topology for (HOH . MAIN)\n",
      "SIMPLE-WARNING: \n",
      "Could not immediately identify topology for (HOH . MAIN)\n",
      "SIMPLE-WARNING: \n",
      "Could not immediately identify topology for (HOH . MAIN)\n",
      "SIMPLE-WARNING: \n",
      "Could not immediately identify topology for (HOH . MAIN)\n",
      "SIMPLE-WARNING: \n",
      "Could not immediately identify topology for (HOH . MAIN)\n",
      "SIMPLE-WARNING: \n",
      "Could not immediately identify topology for (HOH . MAIN)\n",
      "SIMPLE-WARNING: \n",
      "Could not immediately identify topology for (HOH . MAIN)\n",
      "SIMPLE-WARNING: \n",
      "Could not immediately identify topology for (HOH . MAIN)\n",
      "SIMPLE-WARNING: \n",
      "Could not immediately identify topology for (HOH . MAIN)\n",
      "SIMPLE-WARNING: \n",
      "Could not immediately identify topology for (HOH . MAIN)\n",
      "SIMPLE-WARNING: \n",
      "Could not immediately identify topology for (HOH . MAIN)\n",
      "SIMPLE-WARNING: \n",
      "Could not immediately identify topology for (HOH . MAIN)\n",
      "SIMPLE-WARNING: \n",
      "Could not immediately identify topology for (HOH . MAIN)\n",
      "SIMPLE-WARNING: \n",
      "Could not immediately identify topology for (HOH . MAIN)\n",
      "SIMPLE-WARNING: \n",
      "Could not immediately identify topology for (HOH . MAIN)\n",
      "SIMPLE-WARNING: \n",
      "Could not immediately identify topology for (HOH . MAIN)\n",
      "SIMPLE-WARNING: \n",
      "Could not immediately identify topology for (HOH . MAIN)\n",
      "SIMPLE-WARNING: \n",
      "Could not immediately identify topology for (HOH . MAIN)\n",
      "SIMPLE-WARNING: \n",
      "Could not immediately identify topology for (HOH . MAIN)\n",
      "SIMPLE-WARNING: \n",
      "Could not immediately identify topology for (HOH . MAIN)\n",
      "SIMPLE-WARNING: \n",
      "Could not immediately identify topology for (HOH . MAIN)\n",
      "SIMPLE-WARNING: \n",
      "Could not immediately identify topology for (HOH . MAIN)\n",
      "SIMPLE-WARNING: \n",
      "Could not immediately identify topology for (HOH . MAIN)\n",
      "SIMPLE-WARNING: \n",
      "Could not immediately identify topology for (HOH . MAIN)\n",
      "SIMPLE-WARNING: \n",
      "Could not immediately identify topology for (HOH . MAIN)\n",
      "SIMPLE-WARNING: \n",
      "Could not immediately identify topology for (HOH . MAIN)\n",
      "SIMPLE-WARNING: \n",
      "Could not immediately identify topology for (HOH . MAIN)\n",
      "SIMPLE-WARNING: \n",
      "Could not immediately identify topology for (HOH . MAIN)\n",
      "SIMPLE-WARNING: \n",
      "Could not immediately identify topology for (HOH . MAIN)\n",
      "SIMPLE-WARNING: \n",
      "Could not immediately identify topology for (HOH . MAIN)\n",
      "SIMPLE-WARNING: \n",
      "Could not immediately identify topology for (HOH . MAIN)\n",
      "SIMPLE-WARNING: \n",
      "Could not immediately identify topology for (HOH . MAIN)\n",
      "SIMPLE-WARNING: \n",
      "Could not immediately identify topology for (HOH . MAIN)\n",
      "SIMPLE-WARNING: \n",
      "Could not immediately identify topology for (HOH . MAIN)\n",
      "SIMPLE-WARNING: \n",
      "Could not immediately identify topology for (HOH . MAIN)\n",
      "SIMPLE-WARNING: \n",
      "Could not immediately identify topology for (HOH . MAIN)\n",
      "SIMPLE-WARNING: \n",
      "Could not immediately identify topology for (HOH . MAIN)\n",
      "SIMPLE-WARNING: \n",
      "Could not immediately identify topology for (HOH . MAIN)\n",
      "SIMPLE-WARNING: \n",
      "Could not immediately identify topology for (HOH . MAIN)\n",
      "SIMPLE-WARNING: \n",
      "Could not immediately identify topology for (HOH . MAIN)\n",
      "SIMPLE-WARNING: \n",
      "Could not immediately identify topology for (HOH . MAIN)\n",
      "SIMPLE-WARNING: \n",
      "Could not immediately identify topology for (HOH . MAIN)\n",
      "SIMPLE-WARNING: \n",
      "Could not immediately identify topology for (HOH . MAIN)\n",
      "SIMPLE-WARNING: \n",
      "Could not immediately identify topology for (HOH . MAIN)\n",
      "SIMPLE-WARNING: \n",
      "Could not immediately identify topology for (HOH . MAIN)\n",
      "SIMPLE-WARNING: \n",
      "Could not immediately identify topology for (HOH . MAIN)\n",
      "SIMPLE-WARNING: \n",
      "Could not immediately identify topology for (HOH . MAIN)\n",
      "SIMPLE-WARNING: \n",
      "Could not immediately identify topology for (HOH . MAIN)\n",
      "SIMPLE-WARNING: \n",
      "Could not immediately identify topology for (HOH . MAIN)\n",
      "SIMPLE-WARNING: \n",
      "Could not immediately identify topology for (HOH . MAIN)\n",
      "SIMPLE-WARNING: \n",
      "Could not immediately identify topology for (HOH . MAIN)\n",
      "SIMPLE-WARNING: \n",
      "Could not immediately identify topology for (HOH . MAIN)\n",
      "SIMPLE-WARNING: \n",
      "Could not immediately identify topology for (HOH . MAIN)\n",
      "SIMPLE-WARNING: \n",
      "Could not immediately identify topology for (HOH . MAIN)\n",
      "SIMPLE-WARNING: \n",
      "Could not immediately identify topology for (HOH . MAIN)\n",
      "SIMPLE-WARNING: \n",
      "Could not immediately identify topology for (HOH . MAIN)\n",
      "SIMPLE-WARNING: \n",
      "Could not immediately identify topology for (HOH . MAIN)\n",
      "SIMPLE-WARNING: \n",
      "Could not immediately identify topology for (HOH . MAIN)\n",
      "SIMPLE-WARNING: \n",
      "Could not immediately identify topology for (HOH . MAIN)\n",
      "SIMPLE-WARNING: \n",
      "Could not immediately identify topology for (HOH . MAIN)\n",
      "SIMPLE-WARNING: \n",
      "Could not immediately identify topology for (HOH . MAIN)\n",
      "SIMPLE-WARNING: \n",
      "Could not immediately identify topology for (HOH . MAIN)\n",
      "SIMPLE-WARNING: \n",
      "Could not immediately identify topology for (HOH . MAIN)\n",
      "SIMPLE-WARNING: \n",
      "Could not immediately identify topology for (HOH . MAIN)\n",
      "SIMPLE-WARNING: \n",
      "Could not immediately identify topology for (HOH . MAIN)\n",
      "SIMPLE-WARNING: \n",
      "Could not immediately identify topology for (HOH . MAIN)\n",
      "SIMPLE-WARNING: \n",
      "Could not immediately identify topology for (HOH . MAIN)\n",
      "SIMPLE-WARNING: \n",
      "Could not immediately identify topology for (HOH . MAIN)\n",
      "SIMPLE-WARNING: \n",
      "Could not immediately identify topology for (HOH . MAIN)\n",
      "SIMPLE-WARNING: \n",
      "Could not immediately identify topology for (HOH . MAIN)\n",
      "SIMPLE-WARNING: \n",
      "Could not immediately identify topology for (HOH . MAIN)\n",
      "SIMPLE-WARNING: \n",
      "Could not immediately identify topology for (HOH . MAIN)\n",
      "SIMPLE-WARNING: \n",
      "Could not immediately identify topology for (HOH . MAIN)\n",
      "SIMPLE-WARNING: \n",
      "Could not immediately identify topology for (HOH . MAIN)\n",
      "SIMPLE-WARNING: \n",
      "Could not immediately identify topology for (HOH . MAIN)\n",
      "SIMPLE-WARNING: \n",
      "Could not immediately identify topology for (HOH . MAIN)\n",
      "SIMPLE-WARNING: \n",
      "Could not immediately identify topology for (HOH . MAIN)\n",
      "SIMPLE-WARNING: \n",
      "Could not immediately identify topology for (HOH . MAIN)\n",
      "SIMPLE-WARNING: \n",
      "Could not immediately identify topology for (HOH . MAIN)\n",
      "SIMPLE-WARNING: \n",
      "Could not immediately identify topology for (HOH . MAIN)\n",
      "SIMPLE-WARNING: \n",
      "Could not immediately identify topology for (HOH . MAIN)\n",
      "SIMPLE-WARNING: \n",
      "Could not immediately identify topology for (HOH . MAIN)\n",
      "SIMPLE-WARNING: \n",
      "Could not immediately identify topology for (HOH . MAIN)\n",
      "SIMPLE-WARNING: \n",
      "Could not immediately identify topology for (HOH . MAIN)\n",
      "SIMPLE-WARNING: \n",
      "Could not immediately identify topology for (HOH . MAIN)\n",
      "SIMPLE-WARNING: \n",
      "Could not immediately identify topology for (HOH . MAIN)\n",
      "SIMPLE-WARNING: \n",
      "Could not immediately identify topology for (HOH . MAIN)\n",
      "SIMPLE-WARNING: \n",
      "Could not immediately identify topology for (HOH . MAIN)\n",
      "SIMPLE-WARNING: \n",
      "Could not immediately identify topology for (HOH . MAIN)\n",
      "SIMPLE-WARNING: \n",
      "Could not immediately identify topology for (HOH . MAIN)\n",
      "SIMPLE-WARNING: \n",
      "Could not immediately identify topology for (HOH . MAIN)\n",
      "SIMPLE-WARNING: \n",
      "Could not immediately identify topology for (HOH . MAIN)\n",
      "SIMPLE-WARNING: \n",
      "Could not immediately identify topology for (HOH . MAIN)\n",
      "SIMPLE-WARNING: \n",
      "Could not immediately identify topology for (HOH . MAIN)\n",
      "SIMPLE-WARNING: \n",
      "Could not immediately identify topology for (HOH . MAIN)\n",
      "SIMPLE-WARNING: \n",
      "Could not immediately identify topology for (HOH . MAIN)\n",
      "SIMPLE-WARNING: \n",
      "Could not immediately identify topology for (HOH . MAIN)\n",
      "SIMPLE-WARNING: \n",
      "Could not immediately identify topology for (HOH . MAIN)\n",
      "SIMPLE-WARNING: \n",
      "Could not immediately identify topology for (HOH . MAIN)\n",
      "SIMPLE-WARNING: \n",
      "Could not immediately identify topology for (HOH . MAIN)\n",
      "SIMPLE-WARNING: \n",
      "Could not immediately identify topology for (HOH . MAIN)\n",
      "SIMPLE-WARNING: \n",
      "Could not immediately identify topology for (HOH . MAIN)\n",
      "SIMPLE-WARNING: \n",
      "Could not immediately identify topology for (HOH . MAIN)\n",
      "SIMPLE-WARNING: \n",
      "Could not immediately identify topology for (HOH . MAIN)\n",
      "SIMPLE-WARNING: \n",
      "Could not immediately identify topology for (HOH . MAIN)\n",
      "SIMPLE-WARNING: \n",
      "Could not immediately identify topology for (HOH . MAIN)\n",
      "SIMPLE-WARNING: \n",
      "Could not immediately identify topology for (HOH . MAIN)\n",
      "SIMPLE-WARNING: \n",
      "Could not immediately identify topology for (HOH . MAIN)\n",
      "SIMPLE-WARNING: \n",
      "Could not immediately identify topology for (HOH . MAIN)\n",
      "SIMPLE-WARNING: \n",
      "Could not immediately identify topology for (HOH . MAIN)\n",
      "SIMPLE-WARNING: \n",
      "Could not immediately identify topology for (HOH . MAIN)\n",
      "SIMPLE-WARNING: \n",
      "Could not immediately identify topology for (HOH . MAIN)\n",
      "SIMPLE-WARNING: \n",
      "Could not immediately identify topology for (HOH . MAIN)\n",
      "SIMPLE-WARNING: \n",
      "Could not immediately identify topology for (HOH . MAIN)\n",
      "SIMPLE-WARNING: \n",
      "Could not immediately identify topology for (HOH . MAIN)\n",
      "SIMPLE-WARNING: \n",
      "Could not immediately identify topology for (HOH . MAIN)\n",
      "SIMPLE-WARNING: \n",
      "Could not immediately identify topology for (HOH . MAIN)\n",
      "SIMPLE-WARNING: \n",
      "Could not immediately identify topology for (HOH . MAIN)\n",
      "SIMPLE-WARNING: \n",
      "Could not immediately identify topology for (HOH . MAIN)\n",
      "SIMPLE-WARNING: \n",
      "Could not immediately identify topology for (HOH . MAIN)\n",
      "SIMPLE-WARNING: \n",
      "Could not immediately identify topology for (HOH . MAIN)\n",
      "SIMPLE-WARNING: \n",
      "Could not immediately identify topology for (HOH . MAIN)\n",
      "SIMPLE-WARNING: \n",
      "Could not immediately identify topology for (HOH . MAIN)\n",
      "SIMPLE-WARNING: \n",
      "Could not immediately identify topology for (HOH . MAIN)\n",
      "SIMPLE-WARNING: \n",
      "Could not immediately identify topology for (HOH . MAIN)\n",
      "SIMPLE-WARNING: \n",
      "Could not immediately identify topology for (HOH . MAIN)\n",
      "SIMPLE-WARNING: \n",
      "Could not immediately identify topology for (HOH . MAIN)\n",
      "SIMPLE-WARNING: \n",
      "Could not immediately identify topology for (HOH . MAIN)\n",
      "SIMPLE-WARNING: \n",
      "Could not immediately identify topology for (HOH . MAIN)\n",
      "SIMPLE-WARNING: \n",
      "Could not immediately identify topology for (HOH . MAIN)\n",
      "SIMPLE-WARNING: \n",
      "Could not immediately identify topology for (HOH . TAIL)\n",
      "SIMPLE-WARNING: \n",
      "Could not identify topology for (HOH . TAIL)\n",
      "SIMPLE-WARNING: \n",
      "There are 44 unbuilt heavy atoms - not building hydrogens\n"
     ]
    },
    {
     "data": {
      "text/plain": [
       "*9LYZAGG*"
      ]
     },
     "execution_count": 37,
     "metadata": {},
     "output_type": "execute_result"
    }
   ],
   "source": [
    "(defparameter *9lyzagg* (leap.pdb:loadPdb \"5t6o.pdb\"))"
   ]
  },
  {
   "cell_type": "code",
   "execution_count": 38,
   "metadata": {},
   "outputs": [
    {
     "data": {
      "application/vnd.jupyter.widget-view+json": {
       "model_id": "EC09282F-52EF-4E2D-83F5-6F554F0030F3",
       "version_major": 2,
       "version_minor": 0
      },
      "text/plain": [
       "A Jupyter Widget"
      ]
     },
     "execution_count": 38,
     "metadata": {},
     "output_type": "execute_result"
    }
   ],
   "source": [
    "(:= w (nglv::show-aggregate *9lyzagg*)) w"
   ]
  },
  {
   "cell_type": "code",
   "execution_count": null,
   "metadata": {
    "collapsed": true
   },
   "outputs": [],
   "source": []
  }
 ],
 "metadata": {
  "kernelspec": {
   "display_name": "Cando",
   "language": "lisp",
   "name": "lisp"
  },
  "language_info": {
   "codemirror_mode": "text/x-common-lisp",
   "mimetype": "text/x-common-lisp",
   "name": "common-lisp",
   "pygments_lexer": "common-lisp",
   "version": "X3J13"
  }
 },
 "nbformat": 4,
 "nbformat_minor": 2
}
