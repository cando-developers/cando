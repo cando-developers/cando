{
 "cells": [
  {
   "cell_type": "markdown",
   "metadata": {},
   "source": [
    "## Basic settings "
   ]
  },
  {
   "cell_type": "code",
   "execution_count": 1,
   "metadata": {},
   "outputs": [
    {
     "data": {
      "text/plain": [
       "0"
      ]
     },
     "execution_count": 1,
     "metadata": {},
     "output_type": "execute_result"
    }
   ],
   "source": [
    "(ext:chdir \"~/Development/clasp/extensions/cando/src/tests/pdbfile/\" t)"
   ]
  },
  {
   "cell_type": "code",
   "execution_count": 2,
   "metadata": {},
   "outputs": [
    {
     "name": "stdout",
     "output_type": "stream",
     "text": [
      "swank-loader -> /Users/tuj24515/Development/slime/swank-loader.lisp\n",
      "\n",
      "\"Read: (DEFPACKAGE :SWANK-LOADER (:USE :CL) (:EXPORT :INIT :DUMP-IMAGE :LIST-FASLS :*SOURCE-DIRECTORY* :*FASL-DIRECTORY*))\n",
      "\" \n",
      "\"Read: (IN-PACKAGE :SWANK-LOADER)\n",
      "\" \n",
      "\"Read: (DEFVAR *SOURCE-DIRECTORY* (MAKE-PATHNAME :NAME NIL :TYPE NIL :DEFAULTS (OR *LOAD-PATHNAME* *DEFAULT-PATHNAME-DEFAULTS*)) The directory where to look for the source.)\n",
      "\" \n",
      "\"Read: (DEFPARAMETER *SYSDEP-FILES* (QUOTE ((SWANK CLASP) (SWANK GRAY))))\n",
      "\" \n",
      "\"Read: (DEFPARAMETER *IMPLEMENTATION-FEATURES* (QUOTE (:ALLEGRO :LISPWORKS :SBCL :CLOZURE :CMU :CLISP :CCL :CORMAN :CORMANLISP :ARMEDBEAR :GCL :ECL :SCL :MKCL :CLASP)))\n",
      "\" \n",
      "\"Read: (DEFPARAMETER *OS-FEATURES* (QUOTE (:MACOSX :LINUX :WINDOWS :MSWINDOWS :WIN32 :SOLARIS :DARWIN :SUNOS :HPUX :UNIX)))\n",
      "\" \n",
      "\"Read: (DEFPARAMETER *ARCHITECTURE-FEATURES* (QUOTE (:POWERPC :PPC :X86 :X86-64 :X86_64 :AMD64 :I686 :I586 :I486 :PC386 :IAPX386 :SPARC64 :SPARC :HPPA64 :HPPA :ARM :ARMV5L :ARMV6L :ARMV7L :ARM64 :PENTIUM3 :PENTIUM4 :MIPS :MIPSEL :JAVA-1.4 :JAVA-1.5 :JAVA-1.6 :JAVA-1.7)))\n",
      "\" \n",
      "\"Read: (DEFUN Q (S) (READ-FROM-STRING S))\n",
      "\" \n",
      "\"Read: (DEFUN CLASP-VERSION-STRING NIL (FORMAT NIL ~A~@[-~A~] (LISP-IMPLEMENTATION-VERSION) (LISP-IMPLEMENTATION-ID)))\n",
      "\" \n",
      "\"Read: (DEFUN LISP-VERSION-STRING NIL (CLASP-VERSION-STRING))\n",
      "\" \n",
      "\"Read: (DEFUN UNIQUE-DIR-NAME NIL Return a name that can be used as a directory name that is\n",
      "unique to a Lisp implementation, Lisp implementation version,\n",
      "operating system, and hardware architecture. (FLET ((FIRST-OF (FEATURES) (LOOP FOR F IN FEATURES WHEN (FIND F *FEATURES*) RETURN IT)) (MAYBE-WARN (VALUE FSTRING &REST ARGS) (COND (VALUE) (T (APPLY (FUNCTION WARN) FSTRING ARGS) unknown)))) (LET ((LISP (MAYBE-WARN (FIRST-OF *IMPLEMENTATION-FEATURES*) No implementation feature found in ~a. *IMPLEMENTATION-FEATURES*)) (OS (MAYBE-WARN (FIRST-OF *OS-FEATURES*) No os feature found in ~a. *OS-FEATURES*)) (ARCH (MAYBE-WARN (FIRST-OF *ARCHITECTURE-FEATURES*) No architecture feature found in ~a. *ARCHITECTURE-FEATURES*)) (VERSION (MAYBE-WARN (LISP-VERSION-STRING) Don't know how to get Lisp ~\n",
      "                                implementation version.))) (FORMAT NIL ~(~@{~a~^-~}~) LISP VERSION OS ARCH))))\n",
      "\" \n",
      "\"Read: (DEFUN FILE-NEWER-P (NEW-FILE OLD-FILE) Returns true if NEW-FILE is newer than OLD-FILE. (> (FILE-WRITE-DATE NEW-FILE) (FILE-WRITE-DATE OLD-FILE)))\n",
      "\" \n",
      "\"Read: (DEFUN STRING-STARTS-WITH (STRING PREFIX) (STRING-EQUAL STRING PREFIX :END1 (MIN (LENGTH STRING) (LENGTH PREFIX))))\n",
      "\" \n",
      "\"Read: (DEFUN SLIME-VERSION-STRING NIL Return a string identifying the SLIME version.\n",
      "Return nil if nothing appropriate is available. (WITH-OPEN-FILE (S (MERGE-PATHNAMES slime.el *SOURCE-DIRECTORY*) :IF-DOES-NOT-EXIST NIL) (LOOP WITH PREFIX = ;; Version:  FOR LINE = (READ-LINE S NIL :EOF) UNTIL (EQ LINE :EOF) WHEN (STRING-STARTS-WITH LINE PREFIX) RETURN (SUBSEQ LINE (LENGTH PREFIX)))))\n",
      "\" \n",
      "\"Read: (DEFUN DEFAULT-FASL-DIR NIL (MERGE-PATHNAMES (MAKE-PATHNAME :DIRECTORY (BACKQUOTE (:RELATIVE .slime fasl (UNQUOTE-SPLICE (IF (SLIME-VERSION-STRING) (LIST (SLIME-VERSION-STRING)))) (UNQUOTE (UNIQUE-DIR-NAME))))) (USER-HOMEDIR-PATHNAME)))\n",
      "\" \n",
      "\"Read: (DEFVAR *FASL-DIRECTORY* (DEFAULT-FASL-DIR) The directory where fasl files should be placed.)\n",
      "\" \n",
      "\"Read: (DEFUN BINARY-PATHNAME (SRC-PATHNAME BINARY-DIR) Return the pathname where SRC-PATHNAME's binary should be compiled. (LET ((CFP (COMPILE-FILE-PATHNAME SRC-PATHNAME))) (MERGE-PATHNAMES (MAKE-PATHNAME :NAME (PATHNAME-NAME CFP) :TYPE (PATHNAME-TYPE CFP)) BINARY-DIR)))\n",
      "\" \n",
      "\"Read: (DEFUN HANDLE-SWANK-LOAD-ERROR (CONDITION CONTEXT PATHNAME) (FRESH-LINE *ERROR-OUTPUT*) (PPRINT-LOGICAL-BLOCK (*ERROR-OUTPUT* NIL :PER-LINE-PREFIX ;; ) (FORMAT *ERROR-OUTPUT* ~%Error ~A ~A:~%  ~A~% CONTEXT PATHNAME CONDITION)))\n",
      "\" \n",
      "\"Read: (DEFUN COMPILE-FILES (FILES FASL-DIR LOAD QUIET) Compile each file in FILES if the source is newer than its\n",
      "corresponding binary, or the file preceding it was recompiled.\n",
      "If LOAD is true, load the fasl file. (LET ((NEEDS-RECOMPILE NIL) (STATE :UNKNOWN)) (DOLIST (SRC FILES) (LET ((DEST (BINARY-PATHNAME SRC FASL-DIR))) (HANDLER-BIND ((ERROR (LAMBDA (C) (ECASE STATE (:COMPILE (HANDLE-SWANK-LOAD-ERROR C compiling SRC)) (:LOAD (HANDLE-SWANK-LOAD-ERROR C loading DEST)) (:UNKNOWN (HANDLE-SWANK-LOAD-ERROR C ???ing SRC)))))) (WHEN (OR NEEDS-RECOMPILE (NOT (PROBE-FILE DEST)) (FILE-NEWER-P SRC DEST)) (ENSURE-DIRECTORIES-EXIST DEST) (SETF NEEDS-RECOMPILE T STATE :COMPILE) (OR (COMPILE-FILE SRC :OUTPUT-FILE DEST :PRINT NIL :VERBOSE (NOT QUIET)) (ERROR COMPILE-FILE returned NIL.))) (WHEN LOAD (SETF STATE :LOAD) (LOAD DEST :VERBOSE (NOT QUIET))))))))\n",
      "\" \n",
      "\"Read: (DEFUN LOAD-USER-INIT-FILE NIL Load the user init file, return NIL if it does not exist. (LOAD (MERGE-PATHNAMES (USER-HOMEDIR-PATHNAME) (MAKE-PATHNAME :NAME .swank :TYPE lisp)) :IF-DOES-NOT-EXIST NIL))\n",
      "\" \n",
      "\"Read: (DEFUN LOAD-SITE-INIT-FILE (DIR) (LOAD (MAKE-PATHNAME :NAME site-init :TYPE lisp :DEFAULTS DIR) :IF-DOES-NOT-EXIST NIL))\n",
      "\" \n",
      "\"Read: (DEFUN SRC-FILES (NAMES SRC-DIR) (MAPCAR (LAMBDA (NAME) (MULTIPLE-VALUE-BIND (DIRS NAME) (ETYPECASE NAME (SYMBOL (VALUES (QUOTE NIL) NAME)) (CONS (VALUES (BUTLAST NAME) (CAR (LAST NAME))))) (MAKE-PATHNAME :DIRECTORY (APPEND (OR (PATHNAME-DIRECTORY SRC-DIR) (QUOTE (:RELATIVE))) (MAPCAR (FUNCTION STRING-DOWNCASE) DIRS)) :NAME (STRING-DOWNCASE NAME) :TYPE lisp :DEFAULTS SRC-DIR))) NAMES))\n",
      "\" \n",
      "\"Read: (DEFVAR *SWANK-FILES* (BACKQUOTE (PACKAGES (SWANK BACKEND) (UNQUOTE-SPLICE *SYSDEP-FILES*) (SWANK MATCH) (SWANK RPC) SWANK)))\n",
      "\" \n",
      "\"Read: (DEFVAR *CONTRIBS* (QUOTE (SWANK-UTIL SWANK-REPL SWANK-C-P-C SWANK-ARGLISTS SWANK-FUZZY SWANK-FANCY-INSPECTOR SWANK-PRESENTATIONS SWANK-PRESENTATION-STREAMS SWANK-ASDF SWANK-PACKAGE-FU SWANK-HYPERDOC SWANK-MREPL SWANK-TRACE-DIALOG SWANK-MACROSTEP SWANK-QUICKLISP)) List of names for contrib modules.)\n",
      "\" \n",
      "\"Read: (DEFUN APPEND-DIR (ABSOLUTE NAME) (MERGE-PATHNAMES (MAKE-PATHNAME :DIRECTORY (BACKQUOTE (:RELATIVE (UNQUOTE NAME))) :DEFAULTS ABSOLUTE) ABSOLUTE))\n",
      "\" \n",
      "\"Read: (DEFUN CONTRIB-DIR (BASE-DIR) (APPEND-DIR BASE-DIR contrib))\n",
      "\" \n",
      "\"Read: (DEFUN LOAD-SWANK (&KEY (SRC-DIR *SOURCE-DIRECTORY*) (FASL-DIR *FASL-DIRECTORY*) QUIET) (WITH-COMPILATION-UNIT NIL (COMPILE-FILES (SRC-FILES *SWANK-FILES* SRC-DIR) FASL-DIR T QUIET)) (FUNCALL (Q swank::before-init) (SLIME-VERSION-STRING) (LIST (CONTRIB-DIR FASL-DIR) (CONTRIB-DIR SRC-DIR))))\n",
      "\" \n",
      "\"Read: (DEFUN DELETE-STALE-CONTRIB-FASL-FILES (SWANK-FILES CONTRIB-FILES FASL-DIR) (LET ((NEWEST (REDUCE (FUNCTION MAX) (MAPCAR (FUNCTION FILE-WRITE-DATE) SWANK-FILES)))) (DOLIST (SRC CONTRIB-FILES) (LET ((FASL (BINARY-PATHNAME SRC FASL-DIR))) (WHEN (AND (PROBE-FILE FASL) (<= (FILE-WRITE-DATE FASL) NEWEST)) (DELETE-FILE FASL))))))\n",
      "\" \n",
      "\"Read: (DEFUN COMPILE-CONTRIBS (&KEY (SRC-DIR (CONTRIB-DIR *SOURCE-DIRECTORY*)) (FASL-DIR (CONTRIB-DIR *FASL-DIRECTORY*)) (SWANK-SRC-DIR *SOURCE-DIRECTORY*) LOAD QUIET) (LET* ((SWANK-SRC-FILES (SRC-FILES *SWANK-FILES* SWANK-SRC-DIR)) (CONTRIB-SRC-FILES (SRC-FILES *CONTRIBS* SRC-DIR))) (DELETE-STALE-CONTRIB-FASL-FILES SWANK-SRC-FILES CONTRIB-SRC-FILES FASL-DIR) (COMPILE-FILES CONTRIB-SRC-FILES FASL-DIR LOAD QUIET)))\n",
      "\" \n",
      "\"Read: (DEFUN LOADUP NIL (LOAD-SWANK) (COMPILE-CONTRIBS :LOAD T))\n",
      "\" \n",
      "\"Read: (DEFUN SETUP NIL (LOAD-SITE-INIT-FILE *SOURCE-DIRECTORY*) (LOAD-USER-INIT-FILE) (WHEN (PROBE-FILE (CONTRIB-DIR *SOURCE-DIRECTORY*)) (EVAL (BACKQUOTE (PUSHNEW (QUOTE COMPILE-CONTRIBS) (UNQUOTE (Q swank::*after-init-hook*)))))) (FUNCALL (Q swank::init)))\n",
      "\" \n",
      "\"Read: (DEFUN LIST-SWANK-PACKAGES NIL (REMOVE-IF-NOT (LAMBDA (PACKAGE) (LET ((NAME (PACKAGE-NAME PACKAGE))) (AND (STRING-NOT-EQUAL NAME swank-loader) (STRING-STARTS-WITH NAME swank)))) (LIST-ALL-PACKAGES)))\n",
      "\" \n",
      "\"Read: (DEFUN DELETE-PACKAGES (PACKAGES) (DOLIST (PACKAGE PACKAGES) (FLET ((HANDLE-PACKAGE-ERROR (C) (LET ((PKGS (SET-DIFFERENCE (PACKAGE-USED-BY-LIST PACKAGE) PACKAGES))) (WHEN PKGS (WARN deleting ~a which is used by ~{~a~^, ~}. PACKAGE PKGS)) (CONTINUE C)))) (HANDLER-BIND ((PACKAGE-ERROR (FUNCTION HANDLE-PACKAGE-ERROR))) (DELETE-PACKAGE PACKAGE)))))\n",
      "\" \n",
      "\"Read: (DEFUN INIT (&KEY DELETE RELOAD LOAD-CONTRIBS (SETUP T) (QUIET (NOT *LOAD-VERBOSE*))) Load SWANK and initialize some global variables.\n",
      "If DELETE is true, delete any existing SWANK packages.\n",
      "If RELOAD is true, reload SWANK, even if the SWANK package already exists.\n",
      "If LOAD-CONTRIBS is true, load all contribs\n",
      "If SETUP is true, load user init files and initialize some\n",
      "global variabes in SWANK. (WHEN (AND DELETE (FIND-PACKAGE :SWANK)) (DELETE-PACKAGES (LIST-SWANK-PACKAGES))) (COND ((OR (NOT (FIND-PACKAGE :SWANK)) RELOAD) (LOAD-SWANK :QUIET QUIET)) (T (WARN Not reloading SWANK.  Package already exists.))) (WHEN LOAD-CONTRIBS (COMPILE-CONTRIBS :LOAD T :QUIET QUIET)) (WHEN SETUP (SETUP)))\n",
      "\" \n",
      "\"Read: (DEFUN DUMP-IMAGE (FILENAME) (INIT :SETUP NIL) (FUNCALL (Q swank/backend:save-image) FILENAME))\n",
      "\" \n",
      "\"Read: (DEFUN LIST-FASLS (&KEY (INCLUDE-CONTRIBS T) (COMPILE T) (QUIET (NOT *COMPILE-VERBOSE*))) List up SWANK's fasls along with their dependencies. (FLET ((COLLECT-FASLS (FILES FASL-DIR) (WHEN COMPILE (COMPILE-FILES FILES FASL-DIR NIL QUIET)) (LOOP FOR SRC IN FILES WHEN (PROBE-FILE (BINARY-PATHNAME SRC FASL-DIR)) COLLECT IT))) (APPEND (COLLECT-FASLS (SRC-FILES *SWANK-FILES* *SOURCE-DIRECTORY*) *FASL-DIRECTORY*) (WHEN INCLUDE-CONTRIBS (COLLECT-FASLS (SRC-FILES *CONTRIBS* (CONTRIB-DIR *SOURCE-DIRECTORY*)) (CONTRIB-DIR *FASL-DIRECTORY*))))))\n",
      "\" "
     ]
    },
    {
     "data": {
      "text/plain": [
       "T"
      ]
     },
     "execution_count": 2,
     "metadata": {},
     "output_type": "execute_result"
    }
   ],
   "source": [
    "(start-swank)"
   ]
  },
  {
   "cell_type": "code",
   "execution_count": 3,
   "metadata": {},
   "outputs": [
    {
     "data": {
      "text/plain": [
       "(#P\"/Users/tuj24515/Development/amber16/dat/antechamber/\"\n",
       " #P\"/Users/tuj24515/Development/amber16/dat/leap/cmd/\"\n",
       " #P\"/Users/tuj24515/Development/amber16/dat/leap/parm/\"\n",
       " #P\"/Users/tuj24515/Development/amber16/dat/leap/lib/\"\n",
       " #P\"/Users/tuj24515/Development/amber16/dat/leap/prep/\"\n",
       " #P\"/Users/tuj24515/Development/clasp/extensions/cando/src/tests/pdbfile/\")"
      ]
     },
     "execution_count": 3,
     "metadata": {},
     "output_type": "execute_result"
    }
   ],
   "source": [
    "(leap.core::clear-path)\n",
    "(add-path \"~/Development/clasp/extensions/cando/src/tests/pdbfile/\")\n",
    "(add-path \"~/Development/amber16/dat/leap/prep/\")\n",
    "(add-path \"~/Development/amber16/dat/leap/lib/\")\n",
    "(add-path \"~/Development/amber16/dat/leap/parm/\")\n",
    "(add-path \"~/Development/amber16/dat/leap/cmd/\")\n",
    "(add-path \"~/Development/amber16/dat/antechamber/\")"
   ]
  },
  {
   "cell_type": "markdown",
   "metadata": {},
   "source": [
    "#### Load force field parameters. "
   ]
  },
  {
   "cell_type": "code",
   "execution_count": 4,
   "metadata": {
    "scrolled": true
   },
   "outputs": [
    {
     "name": "stderr",
     "output_type": "stream",
     "text": [
      "SIMPLE-WARNING: \n",
      "add-atom-types doesn't do anything\n",
      "SIMPLE-WARNING: \n",
      "Warning!  Skipping 10-12 hbond\n",
      "SIMPLE-WARNING: \n",
      "Warning!  Skipping force field atom equivalences\n"
     ]
    },
    {
     "data": {
      "text/plain": [
       "T"
      ]
     },
     "execution_count": 4,
     "metadata": {},
     "output_type": "execute_result"
    }
   ],
   "source": [
    "(source \"leaprc.protein.ff14SB\")"
   ]
  },
  {
   "cell_type": "code",
   "execution_count": 5,
   "metadata": {
    "scrolled": true
   },
   "outputs": [
    {
     "name": "stderr",
     "output_type": "stream",
     "text": [
      "SIMPLE-WARNING: \n",
      "Implement merge of FFVdwDb\n",
      "SIMPLE-WARNING: \n",
      "Implement merge of FFVdwDb\n",
      "SIMPLE-WARNING: \n",
      "Implement merge of FFVdwDb\n",
      "SIMPLE-WARNING: \n",
      "Implement merge of FFVdwDb\n"
     ]
    },
    {
     "data": {
      "text/plain": [
       "*FF*"
      ]
     },
     "execution_count": 5,
     "metadata": {},
     "output_type": "execute_result"
    }
   ],
   "source": [
    "(load-atom-type-rules \"ATOMTYPE_AMBER.DEF\")\n",
    "(load-atom-type-rules \"water_amber.def\")\n",
    "(:= *ff* (leap.core::merged-force-field))"
   ]
  },
  {
   "cell_type": "markdown",
   "metadata": {},
   "source": [
    "#### Load PDB file. "
   ]
  },
  {
   "cell_type": "code",
   "execution_count": 16,
   "metadata": {
    "scrolled": true
   },
   "outputs": [
    {
     "name": "stdout",
     "output_type": "stream",
     "text": [
      "Building from sorted-built: (#<ATOM :C/:C> #<ATOM :CB/:C> #<ATOM :N/:N>)\n",
      "Hydrogens built 0.0%\n",
      "Building from sorted-built: (#<ATOM :C/:C> #<ATOM :CB/:C> #<ATOM :N/:N>)\n",
      "Building from sorted-built: (#<ATOM :CA/:C> #<ATOM :CG1/:C> #<ATOM :CG2/:C>)\n",
      "Building from sorted-built: (#<ATOM :C/:C> #<ATOM :CB/:C> #<ATOM :N/:N>)\n",
      "Building from sorted-built: (#<ATOM :C/:C> #<ATOM :CB/:C> #<ATOM :N/:N>)\n",
      "Building from sorted-built: (#<ATOM :C/:C> #<ATOM :CB/:C> #<ATOM :N/:N>)\n",
      "Building from sorted-built: (#<ATOM :C/:C> #<ATOM :CB/:C> #<ATOM :N/:N>)\n",
      "Building from sorted-built: (#<ATOM :C/:C> #<ATOM :CB/:C> #<ATOM :N/:N>)\n",
      "Building from sorted-built: (#<ATOM :CB/:C> #<ATOM :CD1/:C> #<ATOM :CD2/:C>)\n",
      "Building from sorted-built: (#<ATOM :C/:C> #<ATOM :CB/:C> #<ATOM :N/:N>)\n",
      "Building from sorted-built: (#<ATOM :C/:C> #<ATOM :CB/:C> #<ATOM :N/:N>)\n",
      "Building from sorted-built: (#<ATOM :C/:C> #<ATOM :CB/:C> #<ATOM :N/:N>)\n",
      "Building from sorted-built: (#<ATOM :C/:C> #<ATOM :CB/:C> #<ATOM :N/:N>)\n",
      "Building from sorted-built: (#<ATOM :C/:C> #<ATOM :CB/:C> #<ATOM :N/:N>)\n",
      "Hydrogens built 10.0%\n",
      "Building from sorted-built: (#<ATOM :C/:C> #<ATOM :CB/:C> #<ATOM :N/:N>)\n",
      "Building from sorted-built: (#<ATOM :C/:C> #<ATOM :CB/:C> #<ATOM :N/:N>)\n",
      "Building from sorted-built: (#<ATOM :C/:C> #<ATOM :CB/:C> #<ATOM :N/:N>)\n",
      "Building from sorted-built: (#<ATOM :CB/:C> #<ATOM :CD1/:C> #<ATOM :CD2/:C>)\n",
      "Building from sorted-built: (#<ATOM :C/:C> #<ATOM :CB/:C> #<ATOM :N/:N>)\n",
      "Building from sorted-built: (#<ATOM :C/:C> #<ATOM :CB/:C> #<ATOM :N/:N>)\n",
      "Building from sorted-built: (#<ATOM :C/:C> #<ATOM :CB/:C> #<ATOM :N/:N>)\n",
      "Building from sorted-built: (#<ATOM :C/:C> #<ATOM :CB/:C> #<ATOM :N/:N>)\n",
      "Building from sorted-built: (#<ATOM :C/:C> #<ATOM :CB/:C> #<ATOM :N/:N>)\n",
      "Building from sorted-built: (#<ATOM :C/:C> #<ATOM :CB/:C> #<ATOM :N/:N>)\n",
      "Building from sorted-built: (#<ATOM :C/:C> #<ATOM :CB/:C> #<ATOM :N/:N>)\n",
      "Building from sorted-built: (#<ATOM :CB/:C> #<ATOM :CD1/:C> #<ATOM :CD2/:C>)\n",
      "Hydrogens built 20.0%\n",
      "Building from sorted-built: (#<ATOM :C/:C> #<ATOM :CB/:C> #<ATOM :N/:N>)\n",
      "Building from sorted-built: (#<ATOM :C/:C> #<ATOM :CB/:C> #<ATOM :N/:N>)\n",
      "Building from sorted-built: (#<ATOM :C/:C> #<ATOM :CB/:C> #<ATOM :N/:N>)\n",
      "Building from sorted-built: (#<ATOM :CA/:C> #<ATOM :CG1/:C> #<ATOM :CG2/:C>)\n",
      "Building from sorted-built: (#<ATOM :C/:C> #<ATOM :CB/:C> #<ATOM :N/:N>)\n",
      "Building from sorted-built: (#<ATOM :C/:C> #<ATOM :CB/:C> #<ATOM :N/:N>)\n",
      "Building from sorted-built: (#<ATOM :C/:C> #<ATOM :CB/:C> #<ATOM :N/:N>)\n",
      "Building from sorted-built: (#<ATOM :C/:C> #<ATOM :CB/:C> #<ATOM :N/:N>)\n",
      "Building from sorted-built: (#<ATOM :C/:C> #<ATOM :CB/:C> #<ATOM :N/:N>)\n",
      "Building from sorted-built: (#<ATOM :C/:C> #<ATOM :CB/:C> #<ATOM :N/:N>)\n",
      "Building from sorted-built: (#<ATOM :C/:C> #<ATOM :CB/:C> #<ATOM :N/:N>)\n",
      "Building from sorted-built: (#<ATOM :C/:C> #<ATOM :CB/:C> #<ATOM :N/:N>)\n",
      "Building from sorted-built: (#<ATOM :C/:C> #<ATOM :CB/:C> #<ATOM :N/:N>)\n",
      "Hydrogens built 30.0%\n",
      "Building from sorted-built: (#<ATOM :C/:C> #<ATOM :CB/:C> #<ATOM :N/:N>)\n",
      "Building from sorted-built: (#<ATOM :C/:C> #<ATOM :CB/:C> #<ATOM :N/:N>)\n",
      "Building from sorted-built: (#<ATOM :CA/:C> #<ATOM :CG2/:C> #<ATOM :OG1/:O>)\n",
      "Building from sorted-built: (#<ATOM :C/:C> #<ATOM :CB/:C> #<ATOM :N/:N>)\n",
      "Building from sorted-built: (#<ATOM :C/:C> #<ATOM :CB/:C> #<ATOM :N/:N>)\n",
      "Building from sorted-built: (#<ATOM :C/:C> #<ATOM :CB/:C> #<ATOM :N/:N>)\n",
      "Building from sorted-built: (#<ATOM :CA/:C> #<ATOM :CG2/:C> #<ATOM :OG1/:O>)\n",
      "Building from sorted-built: (#<ATOM :C/:C> #<ATOM :CB/:C> #<ATOM :N/:N>)\n",
      "Building from sorted-built: (#<ATOM :C/:C> #<ATOM :CB/:C> #<ATOM :N/:N>)\n",
      "Building from sorted-built: (#<ATOM :C/:C> #<ATOM :CB/:C> #<ATOM :N/:N>)\n",
      "Building from sorted-built: (#<ATOM :C/:C> #<ATOM :CB/:C> #<ATOM :N/:N>)\n",
      "Building from sorted-built: (#<ATOM :CA/:C> #<ATOM :CG2/:C> #<ATOM :OG1/:O>)\n",
      "Building from sorted-built: (#<ATOM :C/:C> #<ATOM :CB/:C> #<ATOM :N/:N>)\n",
      "Building from sorted-built: (#<ATOM :C/:C> #<ATOM :CB/:C> #<ATOM :N/:N>)\n",
      "Building from sorted-built: (#<ATOM :C/:C> #<ATOM :CB/:C> #<ATOM :N/:N>)\n",
      "Building from sorted-built: (#<ATOM :CA/:C> #<ATOM :CG2/:C> #<ATOM :OG1/:O>)\n",
      "Building from sorted-built: (#<ATOM :C/:C> #<ATOM :CB/:C> #<ATOM :N/:N>)\n",
      "Building from sorted-built: (#<ATOM :C/:C> #<ATOM :CB/:C> #<ATOM :N/:N>)\n",
      "Hydrogens built 40.0%\n",
      "Building from sorted-built: (#<ATOM :C/:C> #<ATOM :CB/:C> #<ATOM :N/:N>)\n",
      "Building from sorted-built: (#<ATOM :CA/:C> #<ATOM :CG1/:C> #<ATOM :CG2/:C>)\n",
      "Building from sorted-built: (#<ATOM :C/:C> #<ATOM :CB/:C> #<ATOM :N/:N>)\n",
      "Building from sorted-built: (#<ATOM :CB/:C> #<ATOM :CD1/:C> #<ATOM :CD2/:C>)\n",
      "Building from sorted-built: (#<ATOM :C/:C> #<ATOM :CB/:C> #<ATOM :N/:N>)\n",
      "Building from sorted-built: (#<ATOM :C/:C> #<ATOM :CB/:C> #<ATOM :N/:N>)\n",
      "Building from sorted-built: (#<ATOM :CA/:C> #<ATOM :CG1/:C> #<ATOM :CG2/:C>)\n",
      "Building from sorted-built: (#<ATOM :C/:C> #<ATOM :CB/:C> #<ATOM :N/:N>)\n",
      "Building from sorted-built: (#<ATOM :C/:C> #<ATOM :CB/:C> #<ATOM :N/:N>)\n",
      "Building from sorted-built: (#<ATOM :C/:C> #<ATOM :CB/:C> #<ATOM :N/:N>)\n",
      "Building from sorted-built: (#<ATOM :C/:C> #<ATOM :CB/:C> #<ATOM :N/:N>)\n",
      "Building from sorted-built: (#<ATOM :C/:C> #<ATOM :CB/:C> #<ATOM :N/:N>)\n",
      "Building from sorted-built: (#<ATOM :C/:C> #<ATOM :CB/:C> #<ATOM :N/:N>)\n",
      "Building from sorted-built: (#<ATOM :C/:C> #<ATOM :CB/:C> #<ATOM :N/:N>)\n",
      "Hydrogens built 50.0%\n",
      "Building from sorted-built: (#<ATOM :C/:C> #<ATOM :CB/:C> #<ATOM :N/:N>)\n",
      "Building from sorted-built: (#<ATOM :C/:C> #<ATOM :CB/:C> #<ATOM :N/:N>)\n",
      "Building from sorted-built: (#<ATOM :C/:C> #<ATOM :CB/:C> #<ATOM :N/:N>)\n",
      "Building from sorted-built: (#<ATOM :CA/:C> #<ATOM :CG2/:C> #<ATOM :OG1/:O>)\n",
      "Building from sorted-built: (#<ATOM :C/:C> #<ATOM :CB/:C> #<ATOM :N/:N>)\n",
      "Building from sorted-built: (#<ATOM :C/:C> #<ATOM :CB/:C> #<ATOM :N/:N>)\n",
      "Building from sorted-built: (#<ATOM :C/:C> #<ATOM :CB/:C> #<ATOM :N/:N>)\n",
      "Building from sorted-built: (#<ATOM :C/:C> #<ATOM :CB/:C> #<ATOM :N/:N>)\n",
      "Building from sorted-built: (#<ATOM :C/:C> #<ATOM :CB/:C> #<ATOM :N/:N>)\n",
      "Building from sorted-built: (#<ATOM :CB/:C> #<ATOM :CD1/:C> #<ATOM :CD2/:C>)\n",
      "Building from sorted-built: (#<ATOM :C/:C> #<ATOM :CB/:C> #<ATOM :N/:N>)\n",
      "Building from sorted-built: (#<ATOM :C/:C> #<ATOM :CB/:C> #<ATOM :N/:N>)\n",
      "Building from sorted-built: (#<ATOM :C/:C> #<ATOM :CB/:C> #<ATOM :N/:N>)\n",
      "Building from sorted-built: (#<ATOM :CA/:C> #<ATOM :CG1/:C> #<ATOM :CG2/:C>)\n",
      "Hydrogens built 60.0%\n",
      "Building from sorted-built: (#<ATOM :C/:C> #<ATOM :CB/:C> #<ATOM :N/:N>)\n",
      "Building from sorted-built: (#<ATOM :C/:C> #<ATOM :CB/:C> #<ATOM :N/:N>)\n",
      "Building from sorted-built: (#<ATOM :C/:C> #<ATOM :CB/:C> #<ATOM :N/:N>)\n",
      "Building from sorted-built: (#<ATOM :C/:C> #<ATOM :CB/:C> #<ATOM :N/:N>)\n",
      "Building from sorted-built: (#<ATOM :C/:C> #<ATOM :CB/:C> #<ATOM :N/:N>)\n",
      "Building from sorted-built: (#<ATOM :CB/:C> #<ATOM :CD1/:C> #<ATOM :CD2/:C>)\n",
      "Building from sorted-built: (#<ATOM :C/:C> #<ATOM :CB/:C> #<ATOM :N/:N>)\n",
      "Building from sorted-built: (#<ATOM :CB/:C> #<ATOM :CD1/:C> #<ATOM :CD2/:C>)\n",
      "Building from sorted-built: (#<ATOM :C/:C> #<ATOM :CB/:C> #<ATOM :N/:N>)\n",
      "Building from sorted-built: (#<ATOM :C/:C> #<ATOM :CB/:C> #<ATOM :N/:N>)\n",
      "Building from sorted-built: (#<ATOM :C/:C> #<ATOM :CB/:C> #<ATOM :N/:N>)\n",
      "Building from sorted-built: (#<ATOM :C/:C> #<ATOM :CB/:C> #<ATOM :N/:N>)\n",
      "Building from sorted-built: (#<ATOM :CA/:C> #<ATOM :CG1/:C> #<ATOM :CG2/:C>)\n",
      "Building from sorted-built: (#<ATOM :C/:C> #<ATOM :CB/:C> #<ATOM :N/:N>)\n",
      "Building from sorted-built: (#<ATOM :CA/:C> #<ATOM :CG2/:C> #<ATOM :OG1/:O>)\n",
      "Building from sorted-built: (#<ATOM :C/:C> #<ATOM :CB/:C> #<ATOM :N/:N>)\n",
      "Building from sorted-built: (#<ATOM :C/:C> #<ATOM :CB/:C> #<ATOM :N/:N>)\n",
      "Building from sorted-built: (#<ATOM :C/:C> #<ATOM :CB/:C> #<ATOM :N/:N>)\n",
      "Building from sorted-built: (#<ATOM :CA/:C> #<ATOM :CG1/:C> #<ATOM :CG2/:C>)\n",
      "Hydrogens built 70.0%\n",
      "Building from sorted-built: (#<ATOM :C/:C> #<ATOM :CB/:C> #<ATOM :N/:N>)\n",
      "Building from sorted-built: (#<ATOM :C/:C> #<ATOM :CB/:C> #<ATOM :N/:N>)\n",
      "Building from sorted-built: (#<ATOM :C/:C> #<ATOM :CB/:C> #<ATOM :N/:N>)\n",
      "Building from sorted-built: (#<ATOM :C/:C> #<ATOM :CB/:C> #<ATOM :N/:N>)\n",
      "Building from sorted-built: (#<ATOM :C/:C> #<ATOM :CB/:C> #<ATOM :N/:N>)\n",
      "Building from sorted-built: (#<ATOM :C/:C> #<ATOM :CB/:C> #<ATOM :N/:N>)\n",
      "Building from sorted-built: (#<ATOM :CA/:C> #<ATOM :CG1/:C> #<ATOM :CG2/:C>)\n",
      "Building from sorted-built: (#<ATOM :C/:C> #<ATOM :CB/:C> #<ATOM :N/:N>)\n",
      "Building from sorted-built: (#<ATOM :CA/:C> #<ATOM :CG1/:C> #<ATOM :CG2/:C>)\n",
      "Building from sorted-built: (#<ATOM :C/:C> #<ATOM :CB/:C> #<ATOM :N/:N>)\n",
      "Building from sorted-built: (#<ATOM :C/:C> #<ATOM :CB/:C> #<ATOM :N/:N>)\n",
      "Building from sorted-built: (#<ATOM :C/:C> #<ATOM :CB/:C> #<ATOM :N/:N>)\n",
      "Building from sorted-built: (#<ATOM :C/:C> #<ATOM :CB/:C> #<ATOM :N/:N>)\n",
      "Building from sorted-built: (#<ATOM :C/:C> #<ATOM :CB/:C> #<ATOM :N/:N>)\n",
      "Hydrogens built 80.0%\n",
      "Building from sorted-built: (#<ATOM :C/:C> #<ATOM :CB/:C> #<ATOM :N/:N>)\n",
      "Building from sorted-built: (#<ATOM :C/:C> #<ATOM :CB/:C> #<ATOM :N/:N>)\n",
      "Building from sorted-built: (#<ATOM :C/:C> #<ATOM :CB/:C> #<ATOM :N/:N>)\n",
      "Building from sorted-built: (#<ATOM :CA/:C> #<ATOM :CG1/:C> #<ATOM :CG2/:C>)\n",
      "Building from sorted-built: (#<ATOM :C/:C> #<ATOM :CB/:C> #<ATOM :N/:N>)\n",
      "Building from sorted-built: (#<ATOM :C/:C> #<ATOM :CB/:C> #<ATOM :N/:N>)\n",
      "Building from sorted-built: (#<ATOM :C/:C> #<ATOM :CB/:C> #<ATOM :N/:N>)\n",
      "Building from sorted-built: (#<ATOM :C/:C> #<ATOM :CB/:C> #<ATOM :N/:N>)\n",
      "Building from sorted-built: (#<ATOM :C/:C> #<ATOM :CB/:C> #<ATOM :N/:N>)\n",
      "Building from sorted-built: (#<ATOM :C/:C> #<ATOM :CB/:C> #<ATOM :N/:N>)\n",
      "Building from sorted-built: (#<ATOM :C/:C> #<ATOM :CB/:C> #<ATOM :N/:N>)\n",
      "Building from sorted-built: (#<ATOM :C/:C> #<ATOM :CB/:C> #<ATOM :N/:N>)\n",
      "Building from sorted-built: (#<ATOM :CA/:C> #<ATOM :CG2/:C> #<ATOM :OG1/:O>)\n",
      "Hydrogens built 90.0%\n",
      "Building from sorted-built: (#<ATOM :C/:C> #<ATOM :CB/:C> #<ATOM :N/:N>)\n",
      "Building from sorted-built: (#<ATOM :C/:C> #<ATOM :CB/:C> #<ATOM :N/:N>)\n",
      "Building from sorted-built: (#<ATOM :CA/:C> #<ATOM :CG1/:C> #<ATOM :CG2/:C>)\n",
      "Building from sorted-built: (#<ATOM :C/:C> #<ATOM :CB/:C> #<ATOM :N/:N>)\n",
      "Building from sorted-built: (#<ATOM :C/:C> #<ATOM :CB/:C> #<ATOM :N/:N>)\n",
      "Building from sorted-built: (#<ATOM :C/:C> #<ATOM :CB/:C> #<ATOM :N/:N>)\n",
      "Building from sorted-built: (#<ATOM :C/:C> #<ATOM :CB/:C> #<ATOM :N/:N>)\n",
      "Building from sorted-built: (#<ATOM :CA/:C> #<ATOM :CG1/:C> #<ATOM :CG2/:C>)\n",
      "Building from sorted-built: (#<ATOM :C/:C> #<ATOM :CB/:C> #<ATOM :N/:N>)\n",
      "Building from sorted-built: (#<ATOM :C/:C> #<ATOM :CB/:C> #<ATOM :N/:N>)\n",
      "Building from sorted-built: (#<ATOM :C/:C> #<ATOM :CB/:C> #<ATOM :N/:N>)\n",
      "Building from sorted-built: (#<ATOM :C/:C> #<ATOM :CB/:C> #<ATOM :N/:N>)\n",
      "Building from sorted-built: (#<ATOM :CB/:C> #<ATOM :CD1/:C> #<ATOM :CD2/:C>)\n",
      "Built 965 missing hydrogens\n"
     ]
    },
    {
     "name": "stderr",
     "output_type": "stream",
     "text": [
      "SIMPLE-WARNING: \n",
      "Could not immediately identify topology for (AMU . HEAD)\n",
      "SIMPLE-WARNING: \n",
      "Could not identify topology for (AMU . HEAD)\n",
      "SIMPLE-WARNING: \n",
      "Could not immediately identify topology for (NAG . MAIN)\n",
      "SIMPLE-WARNING: \n",
      "Could not identify topology for (NAG . MAIN)\n",
      "SIMPLE-WARNING: \n",
      "Could not immediately identify topology for (AMU . MAIN)\n",
      "SIMPLE-WARNING: \n",
      "Could not identify topology for (AMU . MAIN)\n",
      "SIMPLE-WARNING: \n",
      "Could not immediately identify topology for (HOH . MAIN)\n",
      "SIMPLE-WARNING: \n",
      "Could not identify topology for (HOH . MAIN)\n",
      "SIMPLE-WARNING: \n",
      "Could not immediately identify topology for (HOH . MAIN)\n",
      "SIMPLE-WARNING: \n",
      "Could not immediately identify topology for (HOH . MAIN)\n",
      "SIMPLE-WARNING: \n",
      "Could not immediately identify topology for (HOH . MAIN)\n",
      "SIMPLE-WARNING: \n",
      "Could not immediately identify topology for (HOH . MAIN)\n",
      "SIMPLE-WARNING: \n",
      "Could not immediately identify topology for (HOH . MAIN)\n",
      "SIMPLE-WARNING: \n",
      "Could not immediately identify topology for (HOH . MAIN)\n",
      "SIMPLE-WARNING: \n",
      "Could not immediately identify topology for (HOH . MAIN)\n",
      "SIMPLE-WARNING: \n",
      "Could not immediately identify topology for (HOH . MAIN)\n",
      "SIMPLE-WARNING: \n",
      "Could not immediately identify topology for (HOH . MAIN)\n",
      "SIMPLE-WARNING: \n",
      "Could not immediately identify topology for (HOH . MAIN)\n",
      "SIMPLE-WARNING: \n",
      "Could not immediately identify topology for (HOH . MAIN)\n",
      "SIMPLE-WARNING: \n",
      "Could not immediately identify topology for (HOH . MAIN)\n",
      "SIMPLE-WARNING: \n",
      "Could not immediately identify topology for (HOH . MAIN)\n",
      "SIMPLE-WARNING: \n",
      "Could not immediately identify topology for (HOH . MAIN)\n",
      "SIMPLE-WARNING: \n",
      "Could not immediately identify topology for (HOH . MAIN)\n",
      "SIMPLE-WARNING: \n",
      "Could not immediately identify topology for (HOH . MAIN)\n",
      "SIMPLE-WARNING: \n",
      "Could not immediately identify topology for (HOH . MAIN)\n",
      "SIMPLE-WARNING: \n",
      "Could not immediately identify topology for (HOH . MAIN)\n",
      "SIMPLE-WARNING: \n",
      "Could not immediately identify topology for (HOH . MAIN)\n",
      "SIMPLE-WARNING: \n",
      "Could not immediately identify topology for (HOH . MAIN)\n",
      "SIMPLE-WARNING: \n",
      "Could not immediately identify topology for (HOH . MAIN)\n",
      "SIMPLE-WARNING: \n",
      "Could not immediately identify topology for (HOH . MAIN)\n",
      "SIMPLE-WARNING: \n",
      "Could not immediately identify topology for (HOH . MAIN)\n",
      "SIMPLE-WARNING: \n",
      "Could not immediately identify topology for (HOH . MAIN)\n",
      "SIMPLE-WARNING: \n",
      "Could not immediately identify topology for (HOH . MAIN)\n",
      "SIMPLE-WARNING: \n",
      "Could not immediately identify topology for (HOH . MAIN)\n",
      "SIMPLE-WARNING: \n",
      "Could not immediately identify topology for (HOH . MAIN)\n",
      "SIMPLE-WARNING: \n",
      "Could not immediately identify topology for (HOH . MAIN)\n",
      "SIMPLE-WARNING: \n",
      "Could not immediately identify topology for (HOH . MAIN)\n",
      "SIMPLE-WARNING: \n",
      "Could not immediately identify topology for (HOH . MAIN)\n",
      "SIMPLE-WARNING: \n",
      "Could not immediately identify topology for (HOH . MAIN)\n",
      "SIMPLE-WARNING: \n",
      "Could not immediately identify topology for (HOH . MAIN)\n",
      "SIMPLE-WARNING: \n",
      "Could not immediately identify topology for (HOH . MAIN)\n",
      "SIMPLE-WARNING: \n",
      "Could not immediately identify topology for (HOH . MAIN)\n",
      "SIMPLE-WARNING: \n",
      "Could not immediately identify topology for (HOH . MAIN)\n",
      "SIMPLE-WARNING: \n",
      "Could not immediately identify topology for (HOH . MAIN)\n",
      "SIMPLE-WARNING: \n",
      "Could not immediately identify topology for (HOH . MAIN)\n",
      "SIMPLE-WARNING: \n",
      "Could not immediately identify topology for (HOH . MAIN)\n",
      "SIMPLE-WARNING: \n",
      "Could not immediately identify topology for (HOH . MAIN)\n",
      "SIMPLE-WARNING: \n",
      "Could not immediately identify topology for (HOH . MAIN)\n",
      "SIMPLE-WARNING: \n",
      "Could not immediately identify topology for (HOH . MAIN)\n",
      "SIMPLE-WARNING: \n",
      "Could not immediately identify topology for (HOH . MAIN)\n",
      "SIMPLE-WARNING: \n",
      "Could not immediately identify topology for (HOH . MAIN)\n",
      "SIMPLE-WARNING: \n",
      "Could not immediately identify topology for (HOH . MAIN)\n",
      "SIMPLE-WARNING: \n",
      "Could not immediately identify topology for (HOH . MAIN)\n",
      "SIMPLE-WARNING: \n",
      "Could not immediately identify topology for (HOH . MAIN)\n",
      "SIMPLE-WARNING: \n",
      "Could not immediately identify topology for (HOH . MAIN)\n",
      "SIMPLE-WARNING: \n",
      "Could not immediately identify topology for (HOH . MAIN)\n",
      "SIMPLE-WARNING: \n",
      "Could not immediately identify topology for (HOH . MAIN)\n",
      "SIMPLE-WARNING: \n",
      "Could not immediately identify topology for (HOH . MAIN)\n",
      "SIMPLE-WARNING: \n",
      "Could not immediately identify topology for (HOH . MAIN)\n",
      "SIMPLE-WARNING: \n",
      "Could not immediately identify topology for (HOH . MAIN)\n",
      "SIMPLE-WARNING: \n",
      "Could not immediately identify topology for (HOH . MAIN)\n",
      "SIMPLE-WARNING: \n",
      "Could not immediately identify topology for (HOH . MAIN)\n",
      "SIMPLE-WARNING: \n",
      "Could not immediately identify topology for (HOH . MAIN)\n",
      "SIMPLE-WARNING: \n",
      "Could not immediately identify topology for (HOH . MAIN)\n",
      "SIMPLE-WARNING: \n",
      "Could not immediately identify topology for (HOH . MAIN)\n",
      "SIMPLE-WARNING: \n",
      "Could not immediately identify topology for (HOH . MAIN)\n",
      "SIMPLE-WARNING: \n",
      "Could not immediately identify topology for (HOH . MAIN)\n",
      "SIMPLE-WARNING: \n",
      "Could not immediately identify topology for (HOH . MAIN)\n",
      "SIMPLE-WARNING: \n",
      "Could not immediately identify topology for (HOH . MAIN)\n",
      "SIMPLE-WARNING: \n",
      "Could not immediately identify topology for (HOH . MAIN)\n",
      "SIMPLE-WARNING: \n",
      "Could not immediately identify topology for (HOH . MAIN)\n",
      "SIMPLE-WARNING: \n",
      "Could not immediately identify topology for (HOH . MAIN)\n",
      "SIMPLE-WARNING: \n",
      "Could not immediately identify topology for (HOH . MAIN)\n",
      "SIMPLE-WARNING: \n",
      "Could not immediately identify topology for (HOH . MAIN)\n",
      "SIMPLE-WARNING: \n",
      "Could not immediately identify topology for (HOH . MAIN)\n",
      "SIMPLE-WARNING: \n",
      "Could not immediately identify topology for (HOH . MAIN)\n",
      "SIMPLE-WARNING: \n",
      "Could not immediately identify topology for (HOH . MAIN)\n",
      "SIMPLE-WARNING: \n",
      "Could not immediately identify topology for (HOH . MAIN)\n",
      "SIMPLE-WARNING: \n",
      "Could not immediately identify topology for (HOH . MAIN)\n",
      "SIMPLE-WARNING: \n",
      "Could not immediately identify topology for (HOH . MAIN)\n",
      "SIMPLE-WARNING: \n",
      "Could not immediately identify topology for (HOH . MAIN)\n",
      "SIMPLE-WARNING: \n",
      "Could not immediately identify topology for (HOH . MAIN)\n",
      "SIMPLE-WARNING: \n",
      "Could not immediately identify topology for (HOH . MAIN)\n",
      "SIMPLE-WARNING: \n",
      "Could not immediately identify topology for (HOH . MAIN)\n",
      "SIMPLE-WARNING: \n",
      "Could not immediately identify topology for (HOH . MAIN)\n",
      "SIMPLE-WARNING: \n",
      "Could not immediately identify topology for (HOH . MAIN)\n",
      "SIMPLE-WARNING: \n",
      "Could not immediately identify topology for (HOH . MAIN)\n",
      "SIMPLE-WARNING: \n",
      "Could not immediately identify topology for (HOH . MAIN)\n",
      "SIMPLE-WARNING: \n",
      "Could not immediately identify topology for (HOH . MAIN)\n",
      "SIMPLE-WARNING: \n",
      "Could not immediately identify topology for (HOH . MAIN)\n",
      "SIMPLE-WARNING: \n",
      "Could not immediately identify topology for (HOH . MAIN)\n",
      "SIMPLE-WARNING: \n",
      "Could not immediately identify topology for (HOH . MAIN)\n",
      "SIMPLE-WARNING: \n",
      "Could not immediately identify topology for (HOH . MAIN)\n",
      "SIMPLE-WARNING: \n",
      "Could not immediately identify topology for (HOH . MAIN)\n",
      "SIMPLE-WARNING: \n",
      "Could not immediately identify topology for (HOH . MAIN)\n",
      "SIMPLE-WARNING: \n",
      "Could not immediately identify topology for (HOH . MAIN)\n",
      "SIMPLE-WARNING: \n",
      "Could not immediately identify topology for (HOH . MAIN)\n",
      "SIMPLE-WARNING: \n",
      "Could not immediately identify topology for (HOH . MAIN)\n",
      "SIMPLE-WARNING: \n",
      "Could not immediately identify topology for (HOH . MAIN)\n",
      "SIMPLE-WARNING: \n",
      "Could not immediately identify topology for (HOH . MAIN)\n",
      "SIMPLE-WARNING: \n",
      "Could not immediately identify topology for (HOH . MAIN)\n",
      "SIMPLE-WARNING: \n",
      "Could not immediately identify topology for (HOH . MAIN)\n",
      "SIMPLE-WARNING: \n",
      "Could not immediately identify topology for (HOH . MAIN)\n",
      "SIMPLE-WARNING: \n",
      "Could not immediately identify topology for (HOH . MAIN)\n",
      "SIMPLE-WARNING: \n",
      "Could not immediately identify topology for (HOH . MAIN)\n",
      "SIMPLE-WARNING: \n",
      "Could not immediately identify topology for (HOH . MAIN)\n",
      "SIMPLE-WARNING: \n",
      "Could not immediately identify topology for (HOH . MAIN)\n",
      "SIMPLE-WARNING: \n",
      "Could not immediately identify topology for (HOH . MAIN)\n",
      "SIMPLE-WARNING: \n",
      "Could not immediately identify topology for (HOH . TAIL)\n",
      "SIMPLE-WARNING: \n",
      "Could not identify topology for (HOH . TAIL)\n",
      "SIMPLE-WARNING: \n",
      "Loaded atom (1001 OXT LEU A 129 NIL) but amber form #<TOPOLOGY  :name :LEU @0x119ea5a28> does not recognize it\n"
     ]
    },
    {
     "data": {
      "text/plain": [
       "*9LYZAGG*"
      ]
     },
     "execution_count": 16,
     "metadata": {},
     "output_type": "execute_result"
    }
   ],
   "source": [
    "(defparameter *9lyzagg* (leap.pdb:load-pdb \"9lyz.pdb\"))"
   ]
  },
  {
   "cell_type": "code",
   "execution_count": 21,
   "metadata": {
    "scrolled": true
   },
   "outputs": [
    {
     "data": {
      "text/plain": [
       "2"
      ]
     },
     "execution_count": 21,
     "metadata": {},
     "output_type": "execute_result"
    }
   ],
   "source": [
    "(chem:content-size *9lyzagg*)"
   ]
  },
  {
   "cell_type": "code",
   "execution_count": 6,
   "metadata": {},
   "outputs": [
    {
     "name": "stderr",
     "output_type": "stream",
     "text": [
      "SIMPLE-WARNING: \n",
      "Could not immediately identify topology for (AMU . HEAD)\n",
      "SIMPLE-WARNING: \n",
      "Could not identify topology for (AMU . HEAD)\n",
      "SIMPLE-WARNING: \n",
      "Could not immediately identify topology for (NAG . MAIN)\n",
      "SIMPLE-WARNING: \n",
      "Could not identify topology for (NAG . MAIN)\n",
      "SIMPLE-WARNING: \n",
      "Could not immediately identify topology for (AMU . MAIN)\n",
      "SIMPLE-WARNING: \n",
      "Could not identify topology for (AMU . MAIN)\n",
      "SIMPLE-WARNING: \n",
      "Could not immediately identify topology for (HOH . MAIN)\n",
      "SIMPLE-WARNING: \n",
      "Could not identify topology for (HOH . MAIN)\n",
      "SIMPLE-WARNING: \n",
      "Could not immediately identify topology for (HOH . MAIN)\n",
      "SIMPLE-WARNING: \n",
      "Could not immediately identify topology for (HOH . MAIN)\n",
      "SIMPLE-WARNING: \n",
      "Could not immediately identify topology for (HOH . MAIN)\n",
      "SIMPLE-WARNING: \n",
      "Could not immediately identify topology for (HOH . MAIN)\n",
      "SIMPLE-WARNING: \n",
      "Could not immediately identify topology for (HOH . MAIN)\n",
      "SIMPLE-WARNING: \n",
      "Could not immediately identify topology for (HOH . MAIN)\n",
      "SIMPLE-WARNING: \n",
      "Could not immediately identify topology for (HOH . MAIN)\n",
      "SIMPLE-WARNING: \n",
      "Could not immediately identify topology for (HOH . MAIN)\n",
      "SIMPLE-WARNING: \n",
      "Could not immediately identify topology for (HOH . MAIN)\n",
      "SIMPLE-WARNING: \n",
      "Could not immediately identify topology for (HOH . MAIN)\n",
      "SIMPLE-WARNING: \n",
      "Could not immediately identify topology for (HOH . MAIN)\n",
      "SIMPLE-WARNING: \n",
      "Could not immediately identify topology for (HOH . MAIN)\n",
      "SIMPLE-WARNING: \n",
      "Could not immediately identify topology for (HOH . MAIN)\n",
      "SIMPLE-WARNING: \n",
      "Could not immediately identify topology for (HOH . MAIN)\n",
      "SIMPLE-WARNING: \n",
      "Could not immediately identify topology for (HOH . MAIN)\n",
      "SIMPLE-WARNING: \n",
      "Could not immediately identify topology for (HOH . MAIN)\n",
      "SIMPLE-WARNING: \n",
      "Could not immediately identify topology for (HOH . MAIN)\n",
      "SIMPLE-WARNING: \n",
      "Could not immediately identify topology for (HOH . MAIN)\n",
      "SIMPLE-WARNING: \n",
      "Could not immediately identify topology for (HOH . MAIN)\n",
      "SIMPLE-WARNING: \n",
      "Could not immediately identify topology for (HOH . MAIN)\n",
      "SIMPLE-WARNING: \n",
      "Could not immediately identify topology for (HOH . MAIN)\n",
      "SIMPLE-WARNING: \n",
      "Could not immediately identify topology for (HOH . MAIN)\n",
      "SIMPLE-WARNING: \n",
      "Could not immediately identify topology for (HOH . MAIN)\n",
      "SIMPLE-WARNING: \n",
      "Could not immediately identify topology for (HOH . MAIN)\n",
      "SIMPLE-WARNING: \n",
      "Could not immediately identify topology for (HOH . MAIN)\n",
      "SIMPLE-WARNING: \n",
      "Could not immediately identify topology for (HOH . MAIN)\n",
      "SIMPLE-WARNING: \n",
      "Could not immediately identify topology for (HOH . MAIN)\n",
      "SIMPLE-WARNING: \n",
      "Could not immediately identify topology for (HOH . MAIN)\n",
      "SIMPLE-WARNING: \n",
      "Could not immediately identify topology for (HOH . MAIN)\n",
      "SIMPLE-WARNING: \n",
      "Could not immediately identify topology for (HOH . MAIN)\n",
      "SIMPLE-WARNING: \n",
      "Could not immediately identify topology for (HOH . MAIN)\n",
      "SIMPLE-WARNING: \n",
      "Could not immediately identify topology for (HOH . MAIN)\n",
      "SIMPLE-WARNING: \n",
      "Could not immediately identify topology for (HOH . MAIN)\n",
      "SIMPLE-WARNING: \n",
      "Could not immediately identify topology for (HOH . MAIN)\n",
      "SIMPLE-WARNING: \n",
      "Could not immediately identify topology for (HOH . MAIN)\n",
      "SIMPLE-WARNING: \n",
      "Could not immediately identify topology for (HOH . MAIN)\n",
      "SIMPLE-WARNING: \n",
      "Could not immediately identify topology for (HOH . MAIN)\n",
      "SIMPLE-WARNING: \n",
      "Could not immediately identify topology for (HOH . MAIN)\n",
      "SIMPLE-WARNING: \n",
      "Could not immediately identify topology for (HOH . MAIN)\n",
      "SIMPLE-WARNING: \n",
      "Could not immediately identify topology for (HOH . MAIN)\n",
      "SIMPLE-WARNING: \n",
      "Could not immediately identify topology for (HOH . MAIN)\n",
      "SIMPLE-WARNING: \n",
      "Could not immediately identify topology for (HOH . MAIN)\n",
      "SIMPLE-WARNING: \n",
      "Could not immediately identify topology for (HOH . MAIN)\n",
      "SIMPLE-WARNING: \n",
      "Could not immediately identify topology for (HOH . MAIN)\n",
      "SIMPLE-WARNING: \n",
      "Could not immediately identify topology for (HOH . MAIN)\n",
      "SIMPLE-WARNING: \n",
      "Could not immediately identify topology for (HOH . MAIN)\n",
      "SIMPLE-WARNING: \n",
      "Could not immediately identify topology for (HOH . MAIN)\n",
      "SIMPLE-WARNING: \n",
      "Could not immediately identify topology for (HOH . MAIN)\n",
      "SIMPLE-WARNING: \n",
      "Could not immediately identify topology for (HOH . MAIN)\n",
      "SIMPLE-WARNING: \n",
      "Could not immediately identify topology for (HOH . MAIN)\n",
      "SIMPLE-WARNING: \n",
      "Could not immediately identify topology for (HOH . MAIN)\n",
      "SIMPLE-WARNING: \n",
      "Could not immediately identify topology for (HOH . MAIN)\n",
      "SIMPLE-WARNING: \n",
      "Could not immediately identify topology for (HOH . MAIN)\n",
      "SIMPLE-WARNING: \n",
      "Could not immediately identify topology for (HOH . MAIN)\n",
      "SIMPLE-WARNING: \n",
      "Could not immediately identify topology for (HOH . MAIN)\n",
      "SIMPLE-WARNING: \n",
      "Could not immediately identify topology for (HOH . MAIN)\n",
      "SIMPLE-WARNING: \n",
      "Could not immediately identify topology for (HOH . MAIN)\n",
      "SIMPLE-WARNING: \n",
      "Could not immediately identify topology for (HOH . MAIN)\n",
      "SIMPLE-WARNING: \n",
      "Could not immediately identify topology for (HOH . MAIN)\n",
      "SIMPLE-WARNING: \n",
      "Could not immediately identify topology for (HOH . MAIN)\n",
      "SIMPLE-WARNING: \n",
      "Could not immediately identify topology for (HOH . MAIN)\n",
      "SIMPLE-WARNING: \n",
      "Could not immediately identify topology for (HOH . MAIN)\n",
      "SIMPLE-WARNING: \n",
      "Could not immediately identify topology for (HOH . MAIN)\n",
      "SIMPLE-WARNING: \n",
      "Could not immediately identify topology for (HOH . MAIN)\n",
      "SIMPLE-WARNING: \n",
      "Could not immediately identify topology for (HOH . MAIN)\n",
      "SIMPLE-WARNING: \n",
      "Could not immediately identify topology for (HOH . MAIN)\n",
      "SIMPLE-WARNING: \n",
      "Could not immediately identify topology for (HOH . MAIN)\n",
      "SIMPLE-WARNING: \n",
      "Could not immediately identify topology for (HOH . MAIN)\n",
      "SIMPLE-WARNING: \n",
      "Could not immediately identify topology for (HOH . MAIN)\n",
      "SIMPLE-WARNING: \n",
      "Could not immediately identify topology for (HOH . MAIN)\n",
      "SIMPLE-WARNING: \n",
      "Could not immediately identify topology for (HOH . MAIN)\n",
      "SIMPLE-WARNING: \n",
      "Could not immediately identify topology for (HOH . MAIN)\n",
      "SIMPLE-WARNING: \n",
      "Could not immediately identify topology for (HOH . MAIN)\n",
      "SIMPLE-WARNING: \n",
      "Could not immediately identify topology for (HOH . MAIN)\n",
      "SIMPLE-WARNING: \n",
      "Could not immediately identify topology for (HOH . MAIN)\n",
      "SIMPLE-WARNING: \n",
      "Could not immediately identify topology for (HOH . MAIN)\n",
      "SIMPLE-WARNING: \n",
      "Could not immediately identify topology for (HOH . MAIN)\n",
      "SIMPLE-WARNING: \n",
      "Could not immediately identify topology for (HOH . MAIN)\n",
      "SIMPLE-WARNING: \n",
      "Could not immediately identify topology for (HOH . MAIN)\n",
      "SIMPLE-WARNING: \n",
      "Could not immediately identify topology for (HOH . MAIN)\n",
      "SIMPLE-WARNING: \n",
      "Could not immediately identify topology for (HOH . MAIN)\n",
      "SIMPLE-WARNING: \n",
      "Could not immediately identify topology for (HOH . MAIN)\n",
      "SIMPLE-WARNING: \n",
      "Could not immediately identify topology for (HOH . MAIN)\n",
      "SIMPLE-WARNING: \n",
      "Could not immediately identify topology for (HOH . MAIN)\n",
      "SIMPLE-WARNING: \n",
      "Could not immediately identify topology for (HOH . MAIN)\n",
      "SIMPLE-WARNING: \n",
      "Could not immediately identify topology for (HOH . MAIN)\n",
      "SIMPLE-WARNING: \n",
      "Could not immediately identify topology for (HOH . MAIN)\n",
      "SIMPLE-WARNING: \n",
      "Could not immediately identify topology for (HOH . MAIN)\n",
      "SIMPLE-WARNING: \n",
      "Could not immediately identify topology for (HOH . MAIN)\n",
      "SIMPLE-WARNING: \n",
      "Could not immediately identify topology for (HOH . MAIN)\n",
      "SIMPLE-WARNING: \n",
      "Could not immediately identify topology for (HOH . MAIN)\n",
      "SIMPLE-WARNING: \n",
      "Could not immediately identify topology for (HOH . MAIN)\n",
      "SIMPLE-WARNING: \n",
      "Could not immediately identify topology for (HOH . MAIN)\n",
      "SIMPLE-WARNING: \n",
      "Could not immediately identify topology for (HOH . MAIN)\n",
      "SIMPLE-WARNING: \n",
      "Could not immediately identify topology for (HOH . MAIN)\n",
      "SIMPLE-WARNING: \n",
      "Could not immediately identify topology for (HOH . MAIN)\n",
      "SIMPLE-WARNING: \n",
      "Could not immediately identify topology for (HOH . MAIN)\n",
      "SIMPLE-WARNING: \n",
      "Could not immediately identify topology for (HOH . MAIN)\n",
      "SIMPLE-WARNING: \n",
      "Could not immediately identify topology for (HOH . MAIN)\n",
      "SIMPLE-WARNING: \n",
      "Could not immediately identify topology for (HOH . MAIN)\n",
      "SIMPLE-WARNING: \n",
      "Could not immediately identify topology for (HOH . TAIL)\n",
      "SIMPLE-WARNING: \n",
      "Could not identify topology for (HOH . TAIL)\n"
     ]
    },
    {
     "data": {
      "text/plain": [
       "*9LYZ-SCAN*"
      ]
     },
     "execution_count": 6,
     "metadata": {},
     "output_type": "execute_result"
    }
   ],
   "source": [
    "(defparameter *9lyz-scan* (leap.pdb:scan-pdb \"9lyz.pdb\"))"
   ]
  },
  {
   "cell_type": "code",
   "execution_count": 7,
   "metadata": {},
   "outputs": [
    {
     "data": {
      "text/plain": [
       "BAD"
      ]
     },
     "execution_count": 7,
     "metadata": {},
     "output_type": "execute_result"
    }
   ],
   "source": [
    "(:= bad (second (leap.pdb::sequences *9lyz-scan*)))"
   ]
  },
  {
   "cell_type": "code",
   "execution_count": 8,
   "metadata": {
    "scrolled": true
   },
   "outputs": [
    {
     "data": {
      "text/plain": [
       "(#<PDB-RESIDUE AMU> #<PDB-RESIDUE NAG> #<PDB-RESIDUE AMU> #<PDB-RESIDUE HOH>\n",
       " #<PDB-RESIDUE HOH> #<PDB-RESIDUE HOH> #<PDB-RESIDUE HOH> #<PDB-RESIDUE HOH>\n",
       " #<PDB-RESIDUE HOH> #<PDB-RESIDUE HOH> #<PDB-RESIDUE HOH> #<PDB-RESIDUE HOH>\n",
       " #<PDB-RESIDUE HOH> #<PDB-RESIDUE HOH> #<PDB-RESIDUE HOH> #<PDB-RESIDUE HOH>\n",
       " #<PDB-RESIDUE HOH> #<PDB-RESIDUE HOH> #<PDB-RESIDUE HOH> #<PDB-RESIDUE HOH>\n",
       " #<PDB-RESIDUE HOH> #<PDB-RESIDUE HOH> #<PDB-RESIDUE HOH> #<PDB-RESIDUE HOH>\n",
       " #<PDB-RESIDUE HOH> #<PDB-RESIDUE HOH> #<PDB-RESIDUE HOH> #<PDB-RESIDUE HOH>\n",
       " #<PDB-RESIDUE HOH> #<PDB-RESIDUE HOH> #<PDB-RESIDUE HOH> #<PDB-RESIDUE HOH>\n",
       " #<PDB-RESIDUE HOH> #<PDB-RESIDUE HOH> #<PDB-RESIDUE HOH> #<PDB-RESIDUE HOH>\n",
       " #<PDB-RESIDUE HOH> #<PDB-RESIDUE HOH> #<PDB-RESIDUE HOH> #<PDB-RESIDUE HOH>\n",
       " #<PDB-RESIDUE HOH> #<PDB-RESIDUE HOH> #<PDB-RESIDUE HOH> #<PDB-RESIDUE HOH>\n",
       " #<PDB-RESIDUE HOH> #<PDB-RESIDUE HOH> #<PDB-RESIDUE HOH> #<PDB-RESIDUE HOH>\n",
       " #<PDB-RESIDUE HOH> #<PDB-RESIDUE HOH> #<PDB-RESIDUE HOH> #<PDB-RESIDUE HOH>\n",
       " #<PDB-RESIDUE HOH> #<PDB-RESIDUE HOH> #<PDB-RESIDUE HOH> #<PDB-RESIDUE HOH>\n",
       " #<PDB-RESIDUE HOH> #<PDB-RESIDUE HOH> #<PDB-RESIDUE HOH> #<PDB-RESIDUE HOH>\n",
       " #<PDB-RESIDUE HOH> #<PDB-RESIDUE HOH> #<PDB-RESIDUE HOH> #<PDB-RESIDUE HOH>\n",
       " #<PDB-RESIDUE HOH> #<PDB-RESIDUE HOH> #<PDB-RESIDUE HOH> #<PDB-RESIDUE HOH>\n",
       " #<PDB-RESIDUE HOH> #<PDB-RESIDUE HOH> #<PDB-RESIDUE HOH> #<PDB-RESIDUE HOH>\n",
       " #<PDB-RESIDUE HOH> #<PDB-RESIDUE HOH> #<PDB-RESIDUE HOH> #<PDB-RESIDUE HOH>\n",
       " #<PDB-RESIDUE HOH> #<PDB-RESIDUE HOH> #<PDB-RESIDUE HOH> #<PDB-RESIDUE HOH>\n",
       " #<PDB-RESIDUE HOH> #<PDB-RESIDUE HOH> #<PDB-RESIDUE HOH> #<PDB-RESIDUE HOH>\n",
       " #<PDB-RESIDUE HOH> #<PDB-RESIDUE HOH> #<PDB-RESIDUE HOH> #<PDB-RESIDUE HOH>\n",
       " #<PDB-RESIDUE HOH> #<PDB-RESIDUE HOH> #<PDB-RESIDUE HOH> #<PDB-RESIDUE HOH>\n",
       " #<PDB-RESIDUE HOH> #<PDB-RESIDUE HOH> #<PDB-RESIDUE HOH> #<PDB-RESIDUE HOH>\n",
       " #<PDB-RESIDUE HOH> #<PDB-RESIDUE HOH> #<PDB-RESIDUE HOH> #<PDB-RESIDUE HOH>\n",
       " #<PDB-RESIDUE HOH> #<PDB-RESIDUE HOH> #<PDB-RESIDUE HOH> #<PDB-RESIDUE HOH>)"
      ]
     },
     "execution_count": 8,
     "metadata": {},
     "output_type": "execute_result"
    }
   ],
   "source": [
    "bad"
   ]
  },
  {
   "cell_type": "code",
   "execution_count": 52,
   "metadata": {},
   "outputs": [
    {
     "data": {
      "text/plain": [
       "FIX-SCANNER"
      ]
     },
     "execution_count": 52,
     "metadata": {},
     "output_type": "execute_result"
    }
   ],
   "source": [
    "(defun fix-scanner (scanner)\n",
    "    (let ((protein (first (leap.pdb::sequences scanner)))\n",
    "          (rest (second (leap.pdb::sequences scanner))))\n",
    "        (let ((sugar (subseq rest 0 3))\n",
    "               (waters (loop for wat in (subseq rest 4) collect (list wat))))\n",
    "             (format t \"sugar -> ~a~%\" sugar)\n",
    "              (format t \"waters -> ~a~%\" waters)\n",
    "             (list* protein sugar waters))))"
   ]
  },
  {
   "cell_type": "code",
   "execution_count": 53,
   "metadata": {
    "scrolled": true
   },
   "outputs": [
    {
     "name": "stdout",
     "output_type": "stream",
     "text": [
      "sugar -> (#<PDB-RESIDUE AMU> #<PDB-RESIDUE NAG> #<PDB-RESIDUE AMU>)\n",
      "waters -> ((#<PDB-RESIDUE HOH>) (#<PDB-RESIDUE HOH>) (#<PDB-RESIDUE HOH>)\n",
      "           (#<PDB-RESIDUE HOH>) (#<PDB-RESIDUE HOH>) (#<PDB-RESIDUE HOH>)\n",
      "           (#<PDB-RESIDUE HOH>) (#<PDB-RESIDUE HOH>) (#<PDB-RESIDUE HOH>)\n",
      "           (#<PDB-RESIDUE HOH>) (#<PDB-RESIDUE HOH>) (#<PDB-RESIDUE HOH>)\n",
      "           (#<PDB-RESIDUE HOH>) (#<PDB-RESIDUE HOH>) (#<PDB-RESIDUE HOH>)\n",
      "           (#<PDB-RESIDUE HOH>) (#<PDB-RESIDUE HOH>) (#<PDB-RESIDUE HOH>)\n",
      "           (#<PDB-RESIDUE HOH>) (#<PDB-RESIDUE HOH>) (#<PDB-RESIDUE HOH>)\n",
      "           (#<PDB-RESIDUE HOH>) (#<PDB-RESIDUE HOH>) (#<PDB-RESIDUE HOH>)\n",
      "           (#<PDB-RESIDUE HOH>) (#<PDB-RESIDUE HOH>) (#<PDB-RESIDUE HOH>)\n",
      "           (#<PDB-RESIDUE HOH>) (#<PDB-RESIDUE HOH>) (#<PDB-RESIDUE HOH>)\n",
      "           (#<PDB-RESIDUE HOH>) (#<PDB-RESIDUE HOH>) (#<PDB-RESIDUE HOH>)\n",
      "           (#<PDB-RESIDUE HOH>) (#<PDB-RESIDUE HOH>) (#<PDB-RESIDUE HOH>)\n",
      "           (#<PDB-RESIDUE HOH>) (#<PDB-RESIDUE HOH>) (#<PDB-RESIDUE HOH>)\n",
      "           (#<PDB-RESIDUE HOH>) (#<PDB-RESIDUE HOH>) (#<PDB-RESIDUE HOH>)\n",
      "           (#<PDB-RESIDUE HOH>) (#<PDB-RESIDUE HOH>) (#<PDB-RESIDUE HOH>)\n",
      "           (#<PDB-RESIDUE HOH>) (#<PDB-RESIDUE HOH>) (#<PDB-RESIDUE HOH>)\n",
      "           (#<PDB-RESIDUE HOH>) (#<PDB-RESIDUE HOH>) (#<PDB-RESIDUE HOH>)\n",
      "           (#<PDB-RESIDUE HOH>) (#<PDB-RESIDUE HOH>) (#<PDB-RESIDUE HOH>)\n",
      "           (#<PDB-RESIDUE HOH>) (#<PDB-RESIDUE HOH>) (#<PDB-RESIDUE HOH>)\n",
      "           (#<PDB-RESIDUE HOH>) (#<PDB-RESIDUE HOH>) (#<PDB-RESIDUE HOH>)\n",
      "           (#<PDB-RESIDUE HOH>) (#<PDB-RESIDUE HOH>) (#<PDB-RESIDUE HOH>)\n",
      "           (#<PDB-RESIDUE HOH>) (#<PDB-RESIDUE HOH>) (#<PDB-RESIDUE HOH>)\n",
      "           (#<PDB-RESIDUE HOH>) (#<PDB-RESIDUE HOH>) (#<PDB-RESIDUE HOH>)\n",
      "           (#<PDB-RESIDUE HOH>) (#<PDB-RESIDUE HOH>) (#<PDB-RESIDUE HOH>)\n",
      "           (#<PDB-RESIDUE HOH>) (#<PDB-RESIDUE HOH>) (#<PDB-RESIDUE HOH>)\n",
      "           (#<PDB-RESIDUE HOH>) (#<PDB-RESIDUE HOH>) (#<PDB-RESIDUE HOH>)\n",
      "           (#<PDB-RESIDUE HOH>) (#<PDB-RESIDUE HOH>) (#<PDB-RESIDUE HOH>)\n",
      "           (#<PDB-RESIDUE HOH>) (#<PDB-RESIDUE HOH>) (#<PDB-RESIDUE HOH>)\n",
      "           (#<PDB-RESIDUE HOH>) (#<PDB-RESIDUE HOH>) (#<PDB-RESIDUE HOH>)\n",
      "           (#<PDB-RESIDUE HOH>) (#<PDB-RESIDUE HOH>) (#<PDB-RESIDUE HOH>)\n",
      "           (#<PDB-RESIDUE HOH>) (#<PDB-RESIDUE HOH>) (#<PDB-RESIDUE HOH>)\n",
      "           (#<PDB-RESIDUE HOH>) (#<PDB-RESIDUE HOH>) (#<PDB-RESIDUE HOH>)\n",
      "           (#<PDB-RESIDUE HOH>) (#<PDB-RESIDUE HOH>) (#<PDB-RESIDUE HOH>)\n",
      "           (#<PDB-RESIDUE HOH>))\n"
     ]
    },
    {
     "data": {
      "text/plain": [
       "((#<PDB-RESIDUE LYS> #<PDB-RESIDUE VAL> #<PDB-RESIDUE PHE> #<PDB-RESIDUE GLY>\n",
       "  #<PDB-RESIDUE ARG> #<PDB-RESIDUE CYS> #<PDB-RESIDUE GLU> #<PDB-RESIDUE LEU>\n",
       "  #<PDB-RESIDUE ALA> #<PDB-RESIDUE ALA> #<PDB-RESIDUE ALA> #<PDB-RESIDUE MET>\n",
       "  #<PDB-RESIDUE LYS> #<PDB-RESIDUE ARG> #<PDB-RESIDUE HIS> #<PDB-RESIDUE GLY>\n",
       "  #<PDB-RESIDUE LEU> #<PDB-RESIDUE ASP> #<PDB-RESIDUE ASN> #<PDB-RESIDUE TYR>\n",
       "  #<PDB-RESIDUE ARG> #<PDB-RESIDUE GLY> #<PDB-RESIDUE TYR> #<PDB-RESIDUE SER>\n",
       "  #<PDB-RESIDUE LEU> #<PDB-RESIDUE GLY> #<PDB-RESIDUE ASN> #<PDB-RESIDUE TRP>\n",
       "  #<PDB-RESIDUE VAL> #<PDB-RESIDUE CYS> #<PDB-RESIDUE ALA> #<PDB-RESIDUE ALA>\n",
       "  #<PDB-RESIDUE LYS> #<PDB-RESIDUE PHE> #<PDB-RESIDUE GLU> #<PDB-RESIDUE SER>\n",
       "  #<PDB-RESIDUE ASN> #<PDB-RESIDUE PHE> #<PDB-RESIDUE ASN> #<PDB-RESIDUE THR>\n",
       "  #<PDB-RESIDUE GLN> #<PDB-RESIDUE ALA> #<PDB-RESIDUE THR> #<PDB-RESIDUE ASN>\n",
       "  #<PDB-RESIDUE ARG> #<PDB-RESIDUE ASN> #<PDB-RESIDUE THR> #<PDB-RESIDUE ASP>\n",
       "  #<PDB-RESIDUE GLY> #<PDB-RESIDUE SER> #<PDB-RESIDUE THR> #<PDB-RESIDUE ASP>\n",
       "  #<PDB-RESIDUE TYR> #<PDB-RESIDUE GLY> #<PDB-RESIDUE ILE> #<PDB-RESIDUE LEU>\n",
       "  #<PDB-RESIDUE GLN> #<PDB-RESIDUE ILE> #<PDB-RESIDUE ASN> #<PDB-RESIDUE SER>\n",
       "  #<PDB-RESIDUE ARG> #<PDB-RESIDUE TRP> #<PDB-RESIDUE TRP> #<PDB-RESIDUE CYS>\n",
       "  #<PDB-RESIDUE ASN> #<PDB-RESIDUE ASP> #<PDB-RESIDUE GLY> #<PDB-RESIDUE ARG>\n",
       "  #<PDB-RESIDUE THR> #<PDB-RESIDUE PRO> #<PDB-RESIDUE GLY> #<PDB-RESIDUE SER>\n",
       "  #<PDB-RESIDUE ARG> #<PDB-RESIDUE ASN> #<PDB-RESIDUE LEU> #<PDB-RESIDUE CYS>\n",
       "  #<PDB-RESIDUE ASN> #<PDB-RESIDUE ILE> #<PDB-RESIDUE PRO> #<PDB-RESIDUE CYS>\n",
       "  #<PDB-RESIDUE SER> #<PDB-RESIDUE ALA> #<PDB-RESIDUE LEU> #<PDB-RESIDUE LEU>\n",
       "  #<PDB-RESIDUE SER> #<PDB-RESIDUE SER> #<PDB-RESIDUE ASP> #<PDB-RESIDUE ILE>\n",
       "  #<PDB-RESIDUE THR> #<PDB-RESIDUE ALA> #<PDB-RESIDUE SER> #<PDB-RESIDUE VAL>\n",
       "  #<PDB-RESIDUE ASN> #<PDB-RESIDUE CYS> #<PDB-RESIDUE ALA> #<PDB-RESIDUE LYS>\n",
       "  #<PDB-RESIDUE LYS> #<PDB-RESIDUE ILE> #<PDB-RESIDUE VAL> #<PDB-RESIDUE SER>\n",
       "  #<PDB-RESIDUE ASP> #<PDB-RESIDUE GLY> #<PDB-RESIDUE ASN> #<PDB-RESIDUE GLY>\n",
       "  #<PDB-RESIDUE MET> #<PDB-RESIDUE ASN> #<PDB-RESIDUE ALA> #<PDB-RESIDUE TRP>\n",
       "  #<PDB-RESIDUE VAL> #<PDB-RESIDUE ALA> #<PDB-RESIDUE TRP> #<PDB-RESIDUE ARG>\n",
       "  #<PDB-RESIDUE ASN> #<PDB-RESIDUE ARG> #<PDB-RESIDUE CYS> #<PDB-RESIDUE LYS>\n",
       "  #<PDB-RESIDUE GLY> #<PDB-RESIDUE THR> #<PDB-RESIDUE ASP> #<PDB-RESIDUE VAL>\n",
       "  #<PDB-RESIDUE GLN> #<PDB-RESIDUE ALA> #<PDB-RESIDUE TRP> #<PDB-RESIDUE ILE>\n",
       "  #<PDB-RESIDUE ARG> #<PDB-RESIDUE GLY> #<PDB-RESIDUE CYS> #<PDB-RESIDUE ARG>\n",
       "  #<PDB-RESIDUE LEU>)\n",
       " (#<PDB-RESIDUE AMU> #<PDB-RESIDUE NAG> #<PDB-RESIDUE AMU>)\n",
       " (#<PDB-RESIDUE HOH>) (#<PDB-RESIDUE HOH>) (#<PDB-RESIDUE HOH>)\n",
       " (#<PDB-RESIDUE HOH>) (#<PDB-RESIDUE HOH>) (#<PDB-RESIDUE HOH>)\n",
       " (#<PDB-RESIDUE HOH>) (#<PDB-RESIDUE HOH>) (#<PDB-RESIDUE HOH>)\n",
       " (#<PDB-RESIDUE HOH>) (#<PDB-RESIDUE HOH>) (#<PDB-RESIDUE HOH>)\n",
       " (#<PDB-RESIDUE HOH>) (#<PDB-RESIDUE HOH>) (#<PDB-RESIDUE HOH>)\n",
       " (#<PDB-RESIDUE HOH>) (#<PDB-RESIDUE HOH>) (#<PDB-RESIDUE HOH>)\n",
       " (#<PDB-RESIDUE HOH>) (#<PDB-RESIDUE HOH>) (#<PDB-RESIDUE HOH>)\n",
       " (#<PDB-RESIDUE HOH>) (#<PDB-RESIDUE HOH>) (#<PDB-RESIDUE HOH>)\n",
       " (#<PDB-RESIDUE HOH>) (#<PDB-RESIDUE HOH>) (#<PDB-RESIDUE HOH>)\n",
       " (#<PDB-RESIDUE HOH>) (#<PDB-RESIDUE HOH>) (#<PDB-RESIDUE HOH>)\n",
       " (#<PDB-RESIDUE HOH>) (#<PDB-RESIDUE HOH>) (#<PDB-RESIDUE HOH>)\n",
       " (#<PDB-RESIDUE HOH>) (#<PDB-RESIDUE HOH>) (#<PDB-RESIDUE HOH>)\n",
       " (#<PDB-RESIDUE HOH>) (#<PDB-RESIDUE HOH>) (#<PDB-RESIDUE HOH>)\n",
       " (#<PDB-RESIDUE HOH>) (#<PDB-RESIDUE HOH>) (#<PDB-RESIDUE HOH>)\n",
       " (#<PDB-RESIDUE HOH>) (#<PDB-RESIDUE HOH>) (#<PDB-RESIDUE HOH>)\n",
       " (#<PDB-RESIDUE HOH>) (#<PDB-RESIDUE HOH>) (#<PDB-RESIDUE HOH>)\n",
       " (#<PDB-RESIDUE HOH>) (#<PDB-RESIDUE HOH>) (#<PDB-RESIDUE HOH>)\n",
       " (#<PDB-RESIDUE HOH>) (#<PDB-RESIDUE HOH>) (#<PDB-RESIDUE HOH>)\n",
       " (#<PDB-RESIDUE HOH>) (#<PDB-RESIDUE HOH>) (#<PDB-RESIDUE HOH>)\n",
       " (#<PDB-RESIDUE HOH>) (#<PDB-RESIDUE HOH>) (#<PDB-RESIDUE HOH>)\n",
       " (#<PDB-RESIDUE HOH>) (#<PDB-RESIDUE HOH>) (#<PDB-RESIDUE HOH>)\n",
       " (#<PDB-RESIDUE HOH>) (#<PDB-RESIDUE HOH>) (#<PDB-RESIDUE HOH>)\n",
       " (#<PDB-RESIDUE HOH>) (#<PDB-RESIDUE HOH>) (#<PDB-RESIDUE HOH>)\n",
       " (#<PDB-RESIDUE HOH>) (#<PDB-RESIDUE HOH>) (#<PDB-RESIDUE HOH>)\n",
       " (#<PDB-RESIDUE HOH>) (#<PDB-RESIDUE HOH>) (#<PDB-RESIDUE HOH>)\n",
       " (#<PDB-RESIDUE HOH>) (#<PDB-RESIDUE HOH>) (#<PDB-RESIDUE HOH>)\n",
       " (#<PDB-RESIDUE HOH>) (#<PDB-RESIDUE HOH>) (#<PDB-RESIDUE HOH>)\n",
       " (#<PDB-RESIDUE HOH>) (#<PDB-RESIDUE HOH>) (#<PDB-RESIDUE HOH>)\n",
       " (#<PDB-RESIDUE HOH>) (#<PDB-RESIDUE HOH>) (#<PDB-RESIDUE HOH>)\n",
       " (#<PDB-RESIDUE HOH>) (#<PDB-RESIDUE HOH>) (#<PDB-RESIDUE HOH>)\n",
       " (#<PDB-RESIDUE HOH>) (#<PDB-RESIDUE HOH>) (#<PDB-RESIDUE HOH>)\n",
       " (#<PDB-RESIDUE HOH>) (#<PDB-RESIDUE HOH>) (#<PDB-RESIDUE HOH>)\n",
       " (#<PDB-RESIDUE HOH>) (#<PDB-RESIDUE HOH>) (#<PDB-RESIDUE HOH>)\n",
       " (#<PDB-RESIDUE HOH>))"
      ]
     },
     "execution_count": 53,
     "metadata": {},
     "output_type": "execute_result"
    }
   ],
   "source": [
    "(setf (leap.pdb::sequences *9lyz-scan*) (fix-scanner *9lyz-scan*))"
   ]
  },
  {
   "cell_type": "code",
   "execution_count": 54,
   "metadata": {},
   "outputs": [
    {
     "name": "stdout",
     "output_type": "stream",
     "text": [
      "Continuing with partial sequence\n",
      "Building from sorted-built: (#<ATOM :C/:C> #<ATOM :CB/:C> #<ATOM :N/:N>)\n",
      "Hydrogens built 0.0%\n",
      "Building from sorted-built: (#<ATOM :C/:C> #<ATOM :CB/:C> #<ATOM :N/:N>)\n",
      "Building from sorted-built: (#<ATOM :CA/:C> #<ATOM :CG1/:C> #<ATOM :CG2/:C>)\n",
      "Building from sorted-built: (#<ATOM :C/:C> #<ATOM :CB/:C> #<ATOM :N/:N>)\n",
      "Building from sorted-built: (#<ATOM :C/:C> #<ATOM :CB/:C> #<ATOM :N/:N>)\n",
      "Building from sorted-built: (#<ATOM :C/:C> #<ATOM :CB/:C> #<ATOM :N/:N>)\n",
      "Building from sorted-built: (#<ATOM :C/:C> #<ATOM :CB/:C> #<ATOM :N/:N>)\n",
      "Building from sorted-built: (#<ATOM :C/:C> #<ATOM :CB/:C> #<ATOM :N/:N>)\n",
      "Building from sorted-built: (#<ATOM :CB/:C> #<ATOM :CD1/:C> #<ATOM :CD2/:C>)\n",
      "Building from sorted-built: (#<ATOM :C/:C> #<ATOM :CB/:C> #<ATOM :N/:N>)\n",
      "Building from sorted-built: (#<ATOM :C/:C> #<ATOM :CB/:C> #<ATOM :N/:N>)\n",
      "Building from sorted-built: (#<ATOM :C/:C> #<ATOM :CB/:C> #<ATOM :N/:N>)\n",
      "Building from sorted-built: (#<ATOM :C/:C> #<ATOM :CB/:C> #<ATOM :N/:N>)\n",
      "Building from sorted-built: (#<ATOM :C/:C> #<ATOM :CB/:C> #<ATOM :N/:N>)\n",
      "Hydrogens built 10.0%\n",
      "Building from sorted-built: (#<ATOM :C/:C> #<ATOM :CB/:C> #<ATOM :N/:N>)\n",
      "Building from sorted-built: (#<ATOM :C/:C> #<ATOM :CB/:C> #<ATOM :N/:N>)\n",
      "Building from sorted-built: (#<ATOM :C/:C> #<ATOM :CB/:C> #<ATOM :N/:N>)\n",
      "Building from sorted-built: (#<ATOM :CB/:C> #<ATOM :CD1/:C> #<ATOM :CD2/:C>)\n",
      "Building from sorted-built: (#<ATOM :C/:C> #<ATOM :CB/:C> #<ATOM :N/:N>)\n",
      "Building from sorted-built: (#<ATOM :C/:C> #<ATOM :CB/:C> #<ATOM :N/:N>)\n",
      "Building from sorted-built: (#<ATOM :C/:C> #<ATOM :CB/:C> #<ATOM :N/:N>)\n",
      "Building from sorted-built: (#<ATOM :C/:C> #<ATOM :CB/:C> #<ATOM :N/:N>)\n",
      "Building from sorted-built: (#<ATOM :C/:C> #<ATOM :CB/:C> #<ATOM :N/:N>)\n",
      "Building from sorted-built: (#<ATOM :C/:C> #<ATOM :CB/:C> #<ATOM :N/:N>)\n",
      "Building from sorted-built: (#<ATOM :C/:C> #<ATOM :CB/:C> #<ATOM :N/:N>)\n",
      "Building from sorted-built: (#<ATOM :CB/:C> #<ATOM :CD1/:C> #<ATOM :CD2/:C>)\n",
      "Hydrogens built 20.0%\n",
      "Building from sorted-built: (#<ATOM :C/:C> #<ATOM :CB/:C> #<ATOM :N/:N>)\n",
      "Building from sorted-built: (#<ATOM :C/:C> #<ATOM :CB/:C> #<ATOM :N/:N>)\n",
      "Building from sorted-built: (#<ATOM :C/:C> #<ATOM :CB/:C> #<ATOM :N/:N>)\n",
      "Building from sorted-built: (#<ATOM :CA/:C> #<ATOM :CG1/:C> #<ATOM :CG2/:C>)\n",
      "Building from sorted-built: (#<ATOM :C/:C> #<ATOM :CB/:C> #<ATOM :N/:N>)\n",
      "Building from sorted-built: (#<ATOM :C/:C> #<ATOM :CB/:C> #<ATOM :N/:N>)\n",
      "Building from sorted-built: (#<ATOM :C/:C> #<ATOM :CB/:C> #<ATOM :N/:N>)\n",
      "Building from sorted-built: (#<ATOM :C/:C> #<ATOM :CB/:C> #<ATOM :N/:N>)\n",
      "Building from sorted-built: (#<ATOM :C/:C> #<ATOM :CB/:C> #<ATOM :N/:N>)\n",
      "Building from sorted-built: (#<ATOM :C/:C> #<ATOM :CB/:C> #<ATOM :N/:N>)\n",
      "Building from sorted-built: (#<ATOM :C/:C> #<ATOM :CB/:C> #<ATOM :N/:N>)\n",
      "Building from sorted-built: (#<ATOM :C/:C> #<ATOM :CB/:C> #<ATOM :N/:N>)\n",
      "Building from sorted-built: (#<ATOM :C/:C> #<ATOM :CB/:C> #<ATOM :N/:N>)\n",
      "Hydrogens built 30.0%\n",
      "Building from sorted-built: (#<ATOM :C/:C> #<ATOM :CB/:C> #<ATOM :N/:N>)\n",
      "Building from sorted-built: (#<ATOM :C/:C> #<ATOM :CB/:C> #<ATOM :N/:N>)\n",
      "Building from sorted-built: (#<ATOM :CA/:C> #<ATOM :CG2/:C> #<ATOM :OG1/:O>)\n",
      "Building from sorted-built: (#<ATOM :C/:C> #<ATOM :CB/:C> #<ATOM :N/:N>)\n",
      "Building from sorted-built: (#<ATOM :C/:C> #<ATOM :CB/:C> #<ATOM :N/:N>)\n",
      "Building from sorted-built: (#<ATOM :C/:C> #<ATOM :CB/:C> #<ATOM :N/:N>)\n",
      "Building from sorted-built: (#<ATOM :CA/:C> #<ATOM :CG2/:C> #<ATOM :OG1/:O>)\n",
      "Building from sorted-built: (#<ATOM :C/:C> #<ATOM :CB/:C> #<ATOM :N/:N>)\n",
      "Building from sorted-built: (#<ATOM :C/:C> #<ATOM :CB/:C> #<ATOM :N/:N>)\n",
      "Building from sorted-built: (#<ATOM :C/:C> #<ATOM :CB/:C> #<ATOM :N/:N>)\n",
      "Building from sorted-built: (#<ATOM :C/:C> #<ATOM :CB/:C> #<ATOM :N/:N>)\n",
      "Building from sorted-built: (#<ATOM :CA/:C> #<ATOM :CG2/:C> #<ATOM :OG1/:O>)\n",
      "Building from sorted-built: (#<ATOM :C/:C> #<ATOM :CB/:C> #<ATOM :N/:N>)\n",
      "Building from sorted-built: (#<ATOM :C/:C> #<ATOM :CB/:C> #<ATOM :N/:N>)\n",
      "Building from sorted-built: (#<ATOM :C/:C> #<ATOM :CB/:C> #<ATOM :N/:N>)\n",
      "Building from sorted-built: (#<ATOM :CA/:C> #<ATOM :CG2/:C> #<ATOM :OG1/:O>)\n",
      "Building from sorted-built: (#<ATOM :C/:C> #<ATOM :CB/:C> #<ATOM :N/:N>)\n",
      "Building from sorted-built: (#<ATOM :C/:C> #<ATOM :CB/:C> #<ATOM :N/:N>)\n",
      "Hydrogens built 40.0%\n",
      "Building from sorted-built: (#<ATOM :C/:C> #<ATOM :CB/:C> #<ATOM :N/:N>)\n",
      "Building from sorted-built: (#<ATOM :CA/:C> #<ATOM :CG1/:C> #<ATOM :CG2/:C>)\n",
      "Building from sorted-built: (#<ATOM :C/:C> #<ATOM :CB/:C> #<ATOM :N/:N>)\n",
      "Building from sorted-built: (#<ATOM :CB/:C> #<ATOM :CD1/:C> #<ATOM :CD2/:C>)\n",
      "Building from sorted-built: (#<ATOM :C/:C> #<ATOM :CB/:C> #<ATOM :N/:N>)\n",
      "Building from sorted-built: (#<ATOM :C/:C> #<ATOM :CB/:C> #<ATOM :N/:N>)\n",
      "Building from sorted-built: (#<ATOM :CA/:C> #<ATOM :CG1/:C> #<ATOM :CG2/:C>)\n",
      "Building from sorted-built: (#<ATOM :C/:C> #<ATOM :CB/:C> #<ATOM :N/:N>)\n",
      "Building from sorted-built: (#<ATOM :C/:C> #<ATOM :CB/:C> #<ATOM :N/:N>)\n",
      "Building from sorted-built: (#<ATOM :C/:C> #<ATOM :CB/:C> #<ATOM :N/:N>)\n",
      "Building from sorted-built: (#<ATOM :C/:C> #<ATOM :CB/:C> #<ATOM :N/:N>)\n",
      "Building from sorted-built: (#<ATOM :C/:C> #<ATOM :CB/:C> #<ATOM :N/:N>)\n",
      "Building from sorted-built: (#<ATOM :C/:C> #<ATOM :CB/:C> #<ATOM :N/:N>)\n",
      "Building from sorted-built: (#<ATOM :C/:C> #<ATOM :CB/:C> #<ATOM :N/:N>)\n",
      "Hydrogens built 50.0%\n",
      "Building from sorted-built: (#<ATOM :C/:C> #<ATOM :CB/:C> #<ATOM :N/:N>)\n",
      "Building from sorted-built: (#<ATOM :C/:C> #<ATOM :CB/:C> #<ATOM :N/:N>)\n",
      "Building from sorted-built: (#<ATOM :C/:C> #<ATOM :CB/:C> #<ATOM :N/:N>)\n",
      "Building from sorted-built: (#<ATOM :CA/:C> #<ATOM :CG2/:C> #<ATOM :OG1/:O>)\n",
      "Building from sorted-built: (#<ATOM :C/:C> #<ATOM :CB/:C> #<ATOM :N/:N>)\n",
      "Building from sorted-built: (#<ATOM :C/:C> #<ATOM :CB/:C> #<ATOM :N/:N>)\n",
      "Building from sorted-built: (#<ATOM :C/:C> #<ATOM :CB/:C> #<ATOM :N/:N>)\n",
      "Building from sorted-built: (#<ATOM :C/:C> #<ATOM :CB/:C> #<ATOM :N/:N>)\n",
      "Building from sorted-built: (#<ATOM :C/:C> #<ATOM :CB/:C> #<ATOM :N/:N>)\n",
      "Building from sorted-built: (#<ATOM :CB/:C> #<ATOM :CD1/:C> #<ATOM :CD2/:C>)\n",
      "Building from sorted-built: (#<ATOM :C/:C> #<ATOM :CB/:C> #<ATOM :N/:N>)\n",
      "Building from sorted-built: (#<ATOM :C/:C> #<ATOM :CB/:C> #<ATOM :N/:N>)\n",
      "Building from sorted-built: (#<ATOM :C/:C> #<ATOM :CB/:C> #<ATOM :N/:N>)\n",
      "Building from sorted-built: (#<ATOM :CA/:C> #<ATOM :CG1/:C> #<ATOM :CG2/:C>)\n",
      "Hydrogens built 60.0%\n",
      "Building from sorted-built: (#<ATOM :C/:C> #<ATOM :CB/:C> #<ATOM :N/:N>)\n",
      "Building from sorted-built: (#<ATOM :C/:C> #<ATOM :CB/:C> #<ATOM :N/:N>)\n",
      "Building from sorted-built: (#<ATOM :C/:C> #<ATOM :CB/:C> #<ATOM :N/:N>)\n",
      "Building from sorted-built: (#<ATOM :C/:C> #<ATOM :CB/:C> #<ATOM :N/:N>)\n",
      "Building from sorted-built: (#<ATOM :C/:C> #<ATOM :CB/:C> #<ATOM :N/:N>)\n",
      "Building from sorted-built: (#<ATOM :CB/:C> #<ATOM :CD1/:C> #<ATOM :CD2/:C>)\n",
      "Building from sorted-built: (#<ATOM :C/:C> #<ATOM :CB/:C> #<ATOM :N/:N>)\n",
      "Building from sorted-built: (#<ATOM :CB/:C> #<ATOM :CD1/:C> #<ATOM :CD2/:C>)\n",
      "Building from sorted-built: (#<ATOM :C/:C> #<ATOM :CB/:C> #<ATOM :N/:N>)\n",
      "Building from sorted-built: (#<ATOM :C/:C> #<ATOM :CB/:C> #<ATOM :N/:N>)\n",
      "Building from sorted-built: (#<ATOM :C/:C> #<ATOM :CB/:C> #<ATOM :N/:N>)\n",
      "Building from sorted-built: (#<ATOM :C/:C> #<ATOM :CB/:C> #<ATOM :N/:N>)\n",
      "Building from sorted-built: (#<ATOM :CA/:C> #<ATOM :CG1/:C> #<ATOM :CG2/:C>)\n",
      "Building from sorted-built: (#<ATOM :C/:C> #<ATOM :CB/:C> #<ATOM :N/:N>)\n",
      "Building from sorted-built: (#<ATOM :CA/:C> #<ATOM :CG2/:C> #<ATOM :OG1/:O>)\n",
      "Building from sorted-built: (#<ATOM :C/:C> #<ATOM :CB/:C> #<ATOM :N/:N>)\n",
      "Building from sorted-built: (#<ATOM :C/:C> #<ATOM :CB/:C> #<ATOM :N/:N>)\n",
      "Building from sorted-built: (#<ATOM :C/:C> #<ATOM :CB/:C> #<ATOM :N/:N>)\n",
      "Building from sorted-built: (#<ATOM :CA/:C> #<ATOM :CG1/:C> #<ATOM :CG2/:C>)\n",
      "Hydrogens built 70.0%\n",
      "Building from sorted-built: (#<ATOM :C/:C> #<ATOM :CB/:C> #<ATOM :N/:N>)\n",
      "Building from sorted-built: (#<ATOM :C/:C> #<ATOM :CB/:C> #<ATOM :N/:N>)\n",
      "Building from sorted-built: (#<ATOM :C/:C> #<ATOM :CB/:C> #<ATOM :N/:N>)\n",
      "Building from sorted-built: (#<ATOM :C/:C> #<ATOM :CB/:C> #<ATOM :N/:N>)\n",
      "Building from sorted-built: (#<ATOM :C/:C> #<ATOM :CB/:C> #<ATOM :N/:N>)\n",
      "Building from sorted-built: (#<ATOM :C/:C> #<ATOM :CB/:C> #<ATOM :N/:N>)\n",
      "Building from sorted-built: (#<ATOM :CA/:C> #<ATOM :CG1/:C> #<ATOM :CG2/:C>)\n",
      "Building from sorted-built: (#<ATOM :C/:C> #<ATOM :CB/:C> #<ATOM :N/:N>)\n",
      "Building from sorted-built: (#<ATOM :CA/:C> #<ATOM :CG1/:C> #<ATOM :CG2/:C>)\n",
      "Building from sorted-built: (#<ATOM :C/:C> #<ATOM :CB/:C> #<ATOM :N/:N>)\n",
      "Building from sorted-built: (#<ATOM :C/:C> #<ATOM :CB/:C> #<ATOM :N/:N>)\n",
      "Building from sorted-built: (#<ATOM :C/:C> #<ATOM :CB/:C> #<ATOM :N/:N>)\n",
      "Building from sorted-built: (#<ATOM :C/:C> #<ATOM :CB/:C> #<ATOM :N/:N>)\n",
      "Building from sorted-built: (#<ATOM :C/:C> #<ATOM :CB/:C> #<ATOM :N/:N>)\n",
      "Hydrogens built 80.0%\n",
      "Building from sorted-built: (#<ATOM :C/:C> #<ATOM :CB/:C> #<ATOM :N/:N>)\n",
      "Building from sorted-built: (#<ATOM :C/:C> #<ATOM :CB/:C> #<ATOM :N/:N>)\n",
      "Building from sorted-built: (#<ATOM :C/:C> #<ATOM :CB/:C> #<ATOM :N/:N>)\n",
      "Building from sorted-built: (#<ATOM :CA/:C> #<ATOM :CG1/:C> #<ATOM :CG2/:C>)\n",
      "Building from sorted-built: (#<ATOM :C/:C> #<ATOM :CB/:C> #<ATOM :N/:N>)\n",
      "Building from sorted-built: (#<ATOM :C/:C> #<ATOM :CB/:C> #<ATOM :N/:N>)\n",
      "Building from sorted-built: (#<ATOM :C/:C> #<ATOM :CB/:C> #<ATOM :N/:N>)\n",
      "Building from sorted-built: (#<ATOM :C/:C> #<ATOM :CB/:C> #<ATOM :N/:N>)\n",
      "Building from sorted-built: (#<ATOM :C/:C> #<ATOM :CB/:C> #<ATOM :N/:N>)\n",
      "Building from sorted-built: (#<ATOM :C/:C> #<ATOM :CB/:C> #<ATOM :N/:N>)\n",
      "Building from sorted-built: (#<ATOM :C/:C> #<ATOM :CB/:C> #<ATOM :N/:N>)\n",
      "Building from sorted-built: (#<ATOM :C/:C> #<ATOM :CB/:C> #<ATOM :N/:N>)\n",
      "Building from sorted-built: (#<ATOM :CA/:C> #<ATOM :CG2/:C> #<ATOM :OG1/:O>)\n",
      "Hydrogens built 90.0%\n",
      "Building from sorted-built: (#<ATOM :C/:C> #<ATOM :CB/:C> #<ATOM :N/:N>)\n",
      "Building from sorted-built: (#<ATOM :C/:C> #<ATOM :CB/:C> #<ATOM :N/:N>)\n",
      "Building from sorted-built: (#<ATOM :CA/:C> #<ATOM :CG1/:C> #<ATOM :CG2/:C>)\n",
      "Building from sorted-built: (#<ATOM :C/:C> #<ATOM :CB/:C> #<ATOM :N/:N>)\n",
      "Building from sorted-built: (#<ATOM :C/:C> #<ATOM :CB/:C> #<ATOM :N/:N>)\n",
      "Building from sorted-built: (#<ATOM :C/:C> #<ATOM :CB/:C> #<ATOM :N/:N>)\n",
      "Building from sorted-built: (#<ATOM :C/:C> #<ATOM :CB/:C> #<ATOM :N/:N>)\n",
      "Building from sorted-built: (#<ATOM :CA/:C> #<ATOM :CG1/:C> #<ATOM :CG2/:C>)\n",
      "Building from sorted-built: (#<ATOM :C/:C> #<ATOM :CB/:C> #<ATOM :N/:N>)\n",
      "Building from sorted-built: (#<ATOM :C/:C> #<ATOM :CB/:C> #<ATOM :N/:N>)\n",
      "Building from sorted-built: (#<ATOM :C/:C> #<ATOM :CB/:C> #<ATOM :N/:N>)\n",
      "Building from sorted-built: (#<ATOM :C/:C> #<ATOM :CB/:C> #<ATOM :N/:N>)\n",
      "Building from sorted-built: (#<ATOM :CB/:C> #<ATOM :CD1/:C> #<ATOM :CD2/:C>)\n",
      "Built 965 missing hydrogens\n"
     ]
    },
    {
     "name": "stderr",
     "output_type": "stream",
     "text": [
      "SIMPLE-WARNING: \n",
      "Loaded atom (1001 OXT LEU A 129 NIL) but amber form #<TOPOLOGY  :name :LEU @0x119ea5a28> does not recognize it\n"
     ]
    },
    {
     "data": {
      "text/plain": [
       "*9LYZPDB*"
      ]
     },
     "execution_count": 54,
     "metadata": {},
     "output_type": "execute_result"
    }
   ],
   "source": [
    "(:= *9lyzpdb* (load-pdb \"9lyz.pdb\" :scanner *9lyz-scan*))"
   ]
  },
  {
   "cell_type": "code",
   "execution_count": 55,
   "metadata": {
    "scrolled": true
   },
   "outputs": [
    {
     "data": {
      "application/vnd.jupyter.widget-view+json": {
       "model_id": "A163C07D-9753-4693-8D28-B574DA6DC65E",
       "version_major": 2,
       "version_minor": 0
      },
      "text/plain": [
       "A Jupyter Widget"
      ]
     },
     "execution_count": 55,
     "metadata": {},
     "output_type": "execute_result"
    }
   ],
   "source": [
    "(:= w (nglv::show-aggregate *9lyzagg*)) w"
   ]
  },
  {
   "cell_type": "code",
   "execution_count": 19,
   "metadata": {
    "scrolled": true
   },
   "outputs": [
    {
     "data": {
      "text/plain": [
       "T"
      ]
     },
     "execution_count": 19,
     "metadata": {},
     "output_type": "execute_result"
    }
   ],
   "source": [
    "(nglv::add-representation w \"ball+stick\")"
   ]
  },
  {
   "cell_type": "markdown",
   "metadata": {},
   "source": [
    "####  Load sugar file."
   ]
  },
  {
   "cell_type": "code",
   "execution_count": 9,
   "metadata": {},
   "outputs": [
    {
     "data": {
      "text/plain": [
       "*TNAGG*"
      ]
     },
     "execution_count": 9,
     "metadata": {},
     "output_type": "execute_result"
    }
   ],
   "source": [
    "(:= *tnagg* (load-mol2 \"trinag.mol2\"))"
   ]
  },
  {
   "cell_type": "code",
   "execution_count": 10,
   "metadata": {},
   "outputs": [
    {
     "data": {
      "application/vnd.jupyter.widget-view+json": {
       "model_id": "F3A3EB86-D18F-4CF3-9D14-9B5F87769243",
       "version_major": 2,
       "version_minor": 0
      },
      "text/plain": [
       "A Jupyter Widget"
      ]
     },
     "execution_count": 10,
     "metadata": {},
     "output_type": "execute_result"
    }
   ],
   "source": [
    "(:= v (nglv:show-aggregate *tnagg*))\n",
    "v"
   ]
  },
  {
   "cell_type": "markdown",
   "metadata": {},
   "source": [
    "#### Add the sugar to the protein. "
   ]
  },
  {
   "cell_type": "code",
   "execution_count": 11,
   "metadata": {},
   "outputs": [
    {
     "data": {
      "text/plain": [
       "NIL"
      ]
     },
     "execution_count": 11,
     "metadata": {},
     "output_type": "execute_result"
    }
   ],
   "source": [
    "(chem:add-matter *9lyzagg* *tnagg*)"
   ]
  },
  {
   "cell_type": "code",
   "execution_count": 12,
   "metadata": {},
   "outputs": [
    {
     "data": {
      "application/vnd.jupyter.widget-view+json": {
       "model_id": "63B282DA-6F24-4839-8455-173539EFD494",
       "version_major": 2,
       "version_minor": 0
      },
      "text/plain": [
       "A Jupyter Widget"
      ]
     },
     "execution_count": 12,
     "metadata": {},
     "output_type": "execute_result"
    }
   ],
   "source": [
    "(:= w (nglv::show-aggregate *9lyzagg*)) w"
   ]
  },
  {
   "cell_type": "code",
   "execution_count": 15,
   "metadata": {},
   "outputs": [
    {
     "name": "stdout",
     "output_type": "stream",
     "text": [
      "\n",
      "\"Good\" "
     ]
    },
    {
     "data": {
      "text/plain": [
       "\"Good\""
      ]
     },
     "execution_count": 15,
     "metadata": {},
     "output_type": "execute_result"
    }
   ],
   "source": [
    "(case :hetatm ((:atom :hetatm) (print \"Good\")) (otherwise (print \"bad\")))"
   ]
  },
  {
   "cell_type": "code",
   "execution_count": 19,
   "metadata": {},
   "outputs": [
    {
     "data": {
      "text/plain": [
       "NIL"
      ]
     },
     "execution_count": 19,
     "metadata": {},
     "output_type": "execute_result"
    }
   ],
   "source": [
    "(chem:set-property *9lyzagg* :bounding-box '(200.0 200.0 200.0))"
   ]
  },
  {
   "cell_type": "code",
   "execution_count": 20,
   "metadata": {},
   "outputs": [
    {
     "name": "stdout",
     "output_type": "stream",
     "text": [
      "\n",
      "AGGREGATE "
     ]
    },
    {
     "data": {
      "text/plain": [
       "*SOLVENT*"
      ]
     },
     "execution_count": 20,
     "metadata": {},
     "output_type": "execute_result"
    }
   ],
   "source": [
    "(load-off \"tip3pfbox.off\")\n",
    "(print ~tip3pfbox)\n",
    "(defparameter *solvent* ~tip3pfbox)"
   ]
  },
  {
   "cell_type": "code",
   "execution_count": 21,
   "metadata": {},
   "outputs": [
    {
     "data": {
      "application/vnd.jupyter.widget-view+json": {
       "model_id": "F9A11AF5-F8F9-4036-8A4A-1041CF9E7B5D",
       "version_major": 2,
       "version_minor": 0
      },
      "text/plain": [
       "A Jupyter Widget"
      ]
     },
     "execution_count": 21,
     "metadata": {},
     "output_type": "execute_result"
    }
   ],
   "source": [
    "(nglv::show-aggregate *solvent*)"
   ]
  },
  {
   "cell_type": "code",
   "execution_count": 39,
   "metadata": {},
   "outputs": [
    {
     "data": {
      "text/plain": [
       "NIL"
      ]
     },
     "execution_count": 39,
     "metadata": {},
     "output_type": "execute_result"
    }
   ],
   "source": [
    "(chem:assign-types *ff* *9lyzagg*)\n",
    "(chem:assign-types *ff* *solvent*)"
   ]
  },
  {
   "cell_type": "code",
   "execution_count": 41,
   "metadata": {},
   "outputs": [
    {
     "name": "stdout",
     "output_type": "stream",
     "text": [
      "Total bounding box for atom centers:  58.89183169556266d0 53.544196573327014d0 63.5917508226233d0\n"
     ]
    },
    {
     "data": {
      "text/plain": [
       "*NEWAGG*"
      ]
     },
     "execution_count": 41,
     "metadata": {},
     "output_type": "execute_result"
    }
   ],
   "source": [
    "(:= *newagg* (leap.solvate::tool-solvate-and-shell *9lyzagg* *solvent* '(10.0 10.0 10.0)))"
   ]
  },
  {
   "cell_type": "code",
   "execution_count": 42,
   "metadata": {},
   "outputs": [
    {
     "data": {
      "application/vnd.jupyter.widget-view+json": {
       "model_id": "FA872A3F-A14A-4469-A10A-36310F2300F5",
       "version_major": 2,
       "version_minor": 0
      },
      "text/plain": [
       "A Jupyter Widget"
      ]
     },
     "execution_count": 42,
     "metadata": {},
     "output_type": "execute_result"
    }
   ],
   "source": [
    "(nglv::show-aggregate *newagg*)"
   ]
  },
  {
   "cell_type": "code",
   "execution_count": null,
   "metadata": {
    "collapsed": true
   },
   "outputs": [],
   "source": []
  },
  {
   "cell_type": "code",
   "execution_count": 30,
   "metadata": {},
   "outputs": [
    {
     "name": "stdout",
     "output_type": "stream",
     "text": [
      "Scanned 0.0%\n",
      "Scanned 1.0%\n",
      "Scanned 2.0%\n",
      "Scanned 3.0%\n",
      "Scanned 4.0%\n",
      "Scanned 5.0%\n",
      "Scanned 6.0%\n",
      "Scanned 7.0%\n",
      "Creating hash-table for SER\n",
      "Creating hash-table for ALA\n",
      "Creating hash-table for PHE\n",
      "Creating hash-table for GLU\n",
      "Scanned 8.0%\n",
      "Creating hash-table for VAL\n",
      "Creating hash-table for GLY\n",
      "Creating hash-table for ARG\n",
      "Creating hash-table for ASN\n",
      "Scanned 9.0%\n",
      "Creating hash-table for THR\n",
      "Scanned 10.0%\n",
      "Scanned 11.0%\n",
      "Creating hash-table for TYR\n",
      "Scanned 12.0%\n",
      "Creating hash-table for GLN\n",
      "Creating hash-table for LEU\n",
      "Scanned 13.0%\n",
      "Creating hash-table for LYS\n",
      "Scanned 14.0%\n",
      "Creating hash-table for PRO\n",
      "Creating hash-table for ASP\n",
      "Scanned 15.0%\n",
      "Creating hash-table for HIS\n",
      "Scanned 16.0%\n",
      "Creating hash-table for MET\n",
      "Scanned 17.0%\n",
      "Creating hash-table for CYS\n",
      "Creating hash-table for ILE\n",
      "Scanned 18.0%\n",
      "Scanned 19.0%\n",
      "Scanned 20.0%\n",
      "Scanned 21.0%\n",
      "Scanned 22.0%\n",
      "Scanned 23.0%\n",
      "Scanned 24.0%\n",
      "Scanned 25.0%\n",
      "Creating hash-table for TRP\n",
      "Scanned 26.0%\n",
      "Scanned 27.0%\n",
      "Scanned 28.0%\n",
      "Scanned 29.0%\n",
      "Scanned 30.0%\n",
      "Scanned 31.0%\n",
      "Scanned 32.0%\n",
      "Scanned 33.0%\n",
      "Scanned 34.0%\n",
      "Scanned 35.0%\n",
      "Scanned 36.0%\n",
      "Scanned 37.0%\n",
      "Scanned 38.0% elapsed:  1.00 seconds est.remaining:  1.63 seconds\n",
      "Scanned 39.0% elapsed:  1.00 seconds est.remaining:  1.56 seconds\n",
      "Scanned 40.0% elapsed:  1.00 seconds est.remaining:  1.50 seconds\n",
      "Scanned 41.0% elapsed:  1.00 seconds est.remaining:  1.44 seconds\n",
      "Scanned 42.0% elapsed:  1.00 seconds est.remaining:  1.38 seconds\n",
      "Scanned 43.0% elapsed:  1.00 seconds est.remaining:  1.32 seconds\n",
      "Scanned 44.0% elapsed:  1.00 seconds est.remaining:  1.27 seconds\n",
      "Scanned 45.0% elapsed:  1.00 seconds est.remaining:  1.22 seconds\n",
      "Scanned 46.0% elapsed:  1.00 seconds est.remaining:  1.17 seconds\n",
      "Scanned 47.0% elapsed:  1.00 seconds est.remaining:  1.13 seconds\n",
      "Scanned 48.0% elapsed:  1.00 seconds est.remaining:  1.08 seconds\n",
      "Scanned 49.0% elapsed:  1.00 seconds est.remaining:  1.04 seconds\n",
      "Scanned 50.0% elapsed:  1.00 seconds est.remaining:  1.00 seconds\n",
      "Scanned 51.0% elapsed:  1.00 seconds est.remaining:  0.96 seconds\n",
      "Scanned 52.0% elapsed:  1.00 seconds est.remaining:  0.92 seconds\n",
      "Scanned 53.0% elapsed:  1.00 seconds est.remaining:  0.89 seconds\n",
      "Scanned 54.0% elapsed:  1.00 seconds est.remaining:  0.85 seconds\n",
      "Scanned 55.0% elapsed:  1.00 seconds est.remaining:  0.82 seconds\n",
      "Scanned 56.0% elapsed:  1.00 seconds est.remaining:  0.79 seconds\n",
      "Scanned 57.0% elapsed:  1.00 seconds est.remaining:  0.75 seconds\n",
      "Scanned 58.0% elapsed:  1.00 seconds est.remaining:  0.72 seconds\n",
      "Scanned 59.0% elapsed:  1.00 seconds est.remaining:  0.69 seconds\n",
      "Scanned 60.0% elapsed:  1.00 seconds est.remaining:  0.67 seconds\n",
      "Scanned 61.0% elapsed:  1.00 seconds est.remaining:  0.64 seconds\n",
      "Scanned 62.0% elapsed:  1.00 seconds est.remaining:  0.61 seconds\n",
      "Scanned 63.0% elapsed:  1.00 seconds est.remaining:  0.59 seconds\n",
      "Scanned 64.0% elapsed:  1.00 seconds est.remaining:  0.56 seconds\n",
      "Scanned 65.0% elapsed:  1.00 seconds est.remaining:  0.54 seconds\n",
      "Scanned 66.0% elapsed:  1.00 seconds est.remaining:  0.51 seconds\n",
      "Scanned 67.0% elapsed:  1.00 seconds est.remaining:  0.49 seconds\n",
      "Scanned 68.0% elapsed:  1.00 seconds est.remaining:  0.47 seconds\n",
      "Scanned 69.0% elapsed:  1.00 seconds est.remaining:  0.45 seconds\n",
      "Scanned 70.0% elapsed:  1.00 seconds est.remaining:  0.43 seconds\n",
      "Scanned 71.0% elapsed:  1.00 seconds est.remaining:  0.41 seconds\n",
      "Scanned 72.0% elapsed:  1.00 seconds est.remaining:  0.39 seconds\n",
      "Scanned 73.0% elapsed:  1.00 seconds est.remaining:  0.37 seconds\n",
      "Scanned 74.0% elapsed:  1.00 seconds est.remaining:  0.35 seconds\n",
      "Scanned 75.0% elapsed:  1.00 seconds est.remaining:  0.33 seconds\n",
      "Scanned 76.0% elapsed:  1.00 seconds est.remaining:  0.32 seconds\n",
      "Scanned 77.0% elapsed:  1.00 seconds est.remaining:  0.30 seconds\n",
      "Scanned 78.0% elapsed:  1.00 seconds est.remaining:  0.28 seconds\n",
      "Scanned 79.0% elapsed:  1.00 seconds est.remaining:  0.27 seconds\n",
      "Scanned 80.0% elapsed:  1.00 seconds est.remaining:  0.25 seconds\n",
      "Scanned 81.0% elapsed:  1.00 seconds est.remaining:  0.23 seconds\n",
      "Scanned 82.0% elapsed:  1.00 seconds est.remaining:  0.22 seconds\n",
      "Scanned 83.0% elapsed:  1.00 seconds est.remaining:  0.20 seconds\n",
      "Scanned 84.0% elapsed:  1.00 seconds est.remaining:  0.19 seconds\n",
      "Scanned 85.0% elapsed:  1.00 seconds est.remaining:  0.18 seconds\n",
      "Scanned 86.0% elapsed:  1.00 seconds est.remaining:  0.16 seconds\n",
      "Scanned 87.0% elapsed:  1.00 seconds est.remaining:  0.15 seconds\n",
      "Scanned 88.0% elapsed:  1.00 seconds est.remaining:  0.14 seconds\n",
      "Scanned 89.0% elapsed:  1.00 seconds est.remaining:  0.12 seconds\n",
      "Scanned 90.0% elapsed:  1.00 seconds est.remaining:  0.11 seconds\n",
      "Scanned 91.0% elapsed:  1.00 seconds est.remaining:  0.10 seconds\n",
      "Scanned 92.0% elapsed:  1.00 seconds est.remaining:  0.09 seconds\n",
      "Scanned 93.0% elapsed:  1.00 seconds est.remaining:  0.08 seconds\n",
      "Scanned 94.0% elapsed:  1.00 seconds est.remaining:  0.06 seconds\n",
      "Scanned 95.0% elapsed:  1.00 seconds est.remaining:  0.05 seconds\n",
      "Scanned 96.0% elapsed:  1.00 seconds est.remaining:  0.04 seconds\n",
      "Scanned 97.0% elapsed:  1.00 seconds est.remaining:  0.03 seconds\n",
      "Scanned 98.0% elapsed:  1.00 seconds est.remaining:  0.02 seconds\n",
      "Scanned 99.0% elapsed:  1.00 seconds est.remaining:  0.01 seconds\n"
     ]
    },
    {
     "data": {
      "text/plain": [
       "*PDB-LAYOUT*"
      ]
     },
     "execution_count": 30,
     "metadata": {},
     "output_type": "execute_result"
    }
   ],
   "source": [
    "(defparameter *pdb-layout* (leap.pdb:scanpdb \"5t6o.pdb\" :progress t))"
   ]
  },
  {
   "cell_type": "code",
   "execution_count": 31,
   "metadata": {},
   "outputs": [
    {
     "name": "stdout",
     "output_type": "stream",
     "text": [
      "Load pdb 0.0%\n",
      "Load pdb 1.0%\n",
      "Load pdb 2.0%\n",
      "Load pdb 3.0%\n",
      "Load pdb 4.0%\n",
      "Load pdb 5.0%\n",
      "Load pdb 6.0%\n",
      "Load pdb 7.0%\n",
      "Load pdb 8.0%\n",
      "Load pdb 9.0%\n",
      "Load pdb 10.0%\n",
      "Load pdb 11.0%\n",
      "Load pdb 12.0%\n",
      "Load pdb 13.0%\n",
      "Load pdb 14.0%\n",
      "Load pdb 15.0%\n"
     ]
    },
    {
     "name": "stderr",
     "output_type": "stream",
     "text": [
      "SIMPLE-PROGRAM-ERROR: \n",
      "There are no applicable methods of BUILD-RESIDUE for receiver class SYMBOL\n"
     ]
    },
    {
     "data": {
      "text/plain": [
       "NIL"
      ]
     },
     "execution_count": 31,
     "metadata": {},
     "output_type": "execute_result"
    }
   ],
   "source": [
    "(defparameter *pdb* (leap.pdb:loadpdb \"5t6o.pdb\" :layout *pdb-layout* :progress t))"
   ]
  },
  {
   "cell_type": "code",
   "execution_count": null,
   "metadata": {
    "collapsed": true
   },
   "outputs": [],
   "source": [
    "leap.core::*env"
   ]
  }
 ],
 "metadata": {
  "kernelspec": {
   "display_name": "Cando",
   "language": "lisp",
   "name": "lisp"
  },
  "language_info": {
   "codemirror_mode": "text/x-common-lisp",
   "mimetype": "text/x-common-lisp",
   "name": "common-lisp",
   "pygments_lexer": "common-lisp",
   "version": "X3J13"
  }
 },
 "nbformat": 4,
 "nbformat_minor": 2
}
