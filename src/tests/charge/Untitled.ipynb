{
 "cells": [
  {
   "cell_type": "code",
   "execution_count": 1,
   "metadata": {},
   "outputs": [
    {
     "data": {
      "text/plain": [
       "1"
      ]
     },
     "execution_count": 1,
     "metadata": {},
     "output_type": "execute_result"
    }
   ],
   "source": [
    "1"
   ]
  },
  {
   "cell_type": "code",
   "execution_count": 2,
   "metadata": {},
   "outputs": [
    {
     "data": {
      "text/plain": [
       "T"
      ]
     },
     "execution_count": 2,
     "metadata": {},
     "output_type": "execute_result"
    }
   ],
   "source": [
    "(start-swank)"
   ]
  },
  {
   "cell_type": "code",
   "execution_count": 3,
   "metadata": {},
   "outputs": [
    {
     "data": {
      "text/plain": [
       "*ALA*"
      ]
     },
     "execution_count": 3,
     "metadata": {},
     "output_type": "execute_result"
    }
   ],
   "source": [
    "(:= *ala* (load-mol2 \"alanine2.mol2\"))"
   ]
  },
  {
   "cell_type": "code",
   "execution_count": 4,
   "metadata": {},
   "outputs": [
    {
     "name": "stderr",
     "output_type": "stream",
     "text": [
      "SIMPLE-PROGRAM-ERROR: \n",
      "The symbol NGLV::SHOW-AGGREGATE has no function bound to it\n"
     ]
    },
    {
     "data": {
      "text/plain": [
       "NIL"
      ]
     },
     "execution_count": 4,
     "metadata": {},
     "output_type": "execute_result"
    }
   ],
   "source": [
    "(:= v (nglv:show-aggregate *ala*))\n",
    "v"
   ]
  },
  {
   "cell_type": "code",
   "execution_count": 8,
   "metadata": {},
   "outputs": [
    {
     "data": {
      "text/plain": [
       "(#P\"/Users/tuj24515/Development/amber16/dat/antechamber/\"\n",
       " #P\"/Users/tuj24515/Development/amber16/dat/leap/cmd/\"\n",
       " #P\"/Users/tuj24515/Development/amber16/dat/leap/parm/\"\n",
       " #P\"/Users/tuj24515/Development/amber16/dat/leap/lib/\"\n",
       " #P\"/Users/tuj24515/Development/amber16/dat/leap/prep/\"\n",
       " #P\"/Users/tuj24515/Development/clasp/extensions/cando/src/tests/pdbfile/\")"
      ]
     },
     "execution_count": 8,
     "metadata": {},
     "output_type": "execute_result"
    }
   ],
   "source": [
    "(leap.core::clear-path)\n",
    "(add-path \"~/Development/clasp/extensions/cando/src/tests/pdbfile/\")\n",
    "(add-path \"~/Development/amber16/dat/leap/prep/\")\n",
    "(add-path \"~/Development/amber16/dat/leap/lib/\")\n",
    "(add-path \"~/Development/amber16/dat/leap/parm/\")\n",
    "(add-path \"~/Development/amber16/dat/leap/cmd/\")\n",
    "(add-path \"~/Development/amber16/dat/antechamber/\")"
   ]
  },
  {
   "cell_type": "code",
   "execution_count": 9,
   "metadata": {},
   "outputs": [
    {
     "name": "stderr",
     "output_type": "stream",
     "text": [
      "SIMPLE-WARNING: \n",
      "add-atom-types doesn't do anything\n",
      "SIMPLE-WARNING: \n",
      "Warning!  Skipping 10-12 hbond\n",
      "SIMPLE-WARNING: \n",
      "Warning!  Skipping force field atom equivalences\n"
     ]
    },
    {
     "data": {
      "text/plain": [
       "T"
      ]
     },
     "execution_count": 9,
     "metadata": {},
     "output_type": "execute_result"
    }
   ],
   "source": [
    "(clear-force-field)\n",
    "(source \"leaprc.protein.ff14SB\")"
   ]
  },
  {
   "cell_type": "code",
   "execution_count": 10,
   "metadata": {},
   "outputs": [
    {
     "data": {
      "text/plain": [
       "*FF*"
      ]
     },
     "execution_count": 10,
     "metadata": {},
     "output_type": "execute_result"
    }
   ],
   "source": [
    "(load-atom-type-rules \"ATOMTYPE_AMBER.DEF\")\n",
    "(load-atom-type-rules \"water_amber.def\")\n",
    "(:= *ff* (leap.core::merged-force-field))"
   ]
  },
  {
   "cell_type": "code",
   "execution_count": 11,
   "metadata": {},
   "outputs": [
    {
     "data": {
      "text/plain": [
       "NIL"
      ]
     },
     "execution_count": 11,
     "metadata": {},
     "output_type": "execute_result"
    }
   ],
   "source": [
    "(build-hydrogens *ala*)"
   ]
  },
  {
   "cell_type": "code",
   "execution_count": 8,
   "metadata": {},
   "outputs": [
    {
     "data": {
      "application/vnd.jupyter.widget-view+json": {
       "model_id": "19141ACF-931E-4A06-B0A3-ADE9B3363D9D",
       "version_major": 2,
       "version_minor": 0
      },
      "text/plain": [
       "A Jupyter Widget"
      ]
     },
     "execution_count": 8,
     "metadata": {},
     "output_type": "execute_result"
    }
   ],
   "source": [
    "(:= v (nglv:show-aggregate *ala*))\n",
    "v"
   ]
  },
  {
   "cell_type": "code",
   "execution_count": 12,
   "metadata": {},
   "outputs": [
    {
     "data": {
      "text/plain": [
       "NIL"
      ]
     },
     "execution_count": 12,
     "metadata": {},
     "output_type": "execute_result"
    }
   ],
   "source": [
    "(progn\n",
    "  (defparameter *stereocenters*\n",
    "    (sort (cando:gather-stereocenters *ala*) #'string< :key #'chem:get-name))\n",
    "  (cando:set-stereoisomer-func *stereocenters* (constantly :S) :show t)\n",
    "  (let ((quat-matcher (core:make-cxx-object 'chem:chem-info)))\n",
    "    (chem:compile-smarts quat-matcher \"[C&H0&D4]\")\n",
    "    (chem:map-atoms nil (lambda (a) (when (chem:matches quat-matcher a)\n",
    "                  (chem:set-configuration a :S)\n",
    "                  (format t \"Set atom ~a to :S~%\" (chem:get-name a))))\n",
    "            *ala*)))"
   ]
  },
  {
   "cell_type": "code",
   "execution_count": 13,
   "metadata": {},
   "outputs": [
    {
     "data": {
      "text/plain": [
       "NIL"
      ]
     },
     "execution_count": 13,
     "metadata": {},
     "output_type": "execute_result"
    }
   ],
   "source": [
    "(assign-atom-types *ala*)\n",
    "(chem:map-atoms 'nil (lambda (a) (if (eq (chem:get-type a) :CT)\n",
    "                                     (if (eq (chem:get-name a) :C)\n",
    "                                         (chem:set-type a :CX)))) *ala*)"
   ]
  },
  {
   "cell_type": "code",
   "execution_count": 14,
   "metadata": {},
   "outputs": [
    {
     "data": {
      "text/plain": [
       "NIL"
      ]
     },
     "execution_count": 14,
     "metadata": {},
     "output_type": "execute_result"
    }
   ],
   "source": [
    "(cando:jostle *ala*)"
   ]
  },
  {
   "cell_type": "code",
   "execution_count": 15,
   "metadata": {},
   "outputs": [
    {
     "name": "stdout",
     "output_type": "stream",
     "text": [
      "minimize-no-fail\n",
      "======= Starting Steepest Descent Minimizer\n",
      "---Stage-Seconds--Step-log(Alpha)--Dir-------------Energy-----------RMSforce\n",
      " minSDnP       0     1      -inf   0.0              0.000          19857.749\n",
      " minSDnP       0     2     -8.09   0.0        2562824.141           6173.573\n",
      "DONE absolute force test:\n",
      "forceRmsMag(4484.139639).LT.forceTolerance(5000.000000)\n",
      "======= Starting Conjugate Gradient Minimizer\n",
      " minCGnP       0     3      -inf   0.0              0.000           4484.140\n",
      " minCGnP       0     4     -7.79  37.6        1713304.741           3448.913\n",
      " minCGnP       0     5     -6.45  42.9        1103524.504           2099.700\n",
      " minCGnP       0     6     -7.15  59.1         987432.892           2583.870\n",
      " minCGnP       0     7     -6.32  66.3         590214.255           3100.880\n",
      " minCGnP       0     8     -7.32  58.9         384492.941           1876.664\n",
      " minCGnP       0     9     -6.97  64.4         275761.566           2057.630\n",
      " minCGnP       0    10     -6.87  64.6         133017.702           1966.188\n",
      "---Stage-Seconds--Step-log(Alpha)--Dir-------------Energy-----------RMSforce\n",
      " minCGnP       0    11     -7.33  54.8          52567.189           1112.743\n",
      " minCGnP       0    12     -7.57  46.9          31165.365            645.562\n",
      " minCGnP       0    13     -6.95  54.3          19444.465            560.345\n",
      " minCGnP       0    14     -7.32  49.1          12835.395            434.742\n",
      " minCGnP       0    15     -7.13  49.7           8346.078            312.268\n",
      " minCGnP       0    16     -7.42  51.9           6357.519            231.582\n",
      " minCGnP       0    17     -6.83  57.9           4488.659            263.408\n",
      " minCGnP       0    18     -6.99  60.1           2556.935            211.122\n",
      " minCGnP       0    19     -7.33  50.6           1563.256            146.549\n",
      " minCGnP       0    20     -7.42  48.1           1138.139            104.174\n",
      "---Stage-Seconds--Step-log(Alpha)--Dir-------------Energy-----------RMSforce\n",
      " minCGnP       0    21     -7.03  52.6            825.532             92.222\n",
      " minCGnP       0    22     -7.23  54.9            622.362             77.420\n",
      " minCGnP       0    23     -7.04  57.1            445.650             69.397\n",
      " minCGnP       0    24     -7.21  55.2            327.455             54.256\n",
      " minCGnP       0    25     -7.31  52.9            262.579             41.770\n",
      " minCGnP       0    26     -7.29  49.0            223.254             30.001\n",
      " minCGnP       0    27     -7.10  55.2            198.699             28.632\n",
      " minCGnP       0    28     -7.14  56.5            176.992             26.278\n",
      " minCGnP       0    29     -6.93  63.4            155.096             28.774\n",
      " minCGnP       0    30     -6.86  68.7            126.563             30.941\n",
      "---Stage-Seconds--Step-log(Alpha)--Dir-------------Energy-----------RMSforce\n",
      " minCGnP       0    31     -7.16  61.0            100.552             25.517\n",
      " minCGnP       0    32     -7.37  57.1             86.917             20.914\n",
      " minCGnP       0    33     -7.04  56.8             74.168             18.745\n",
      " minCGnP       0    34     -6.85  61.5             62.219             18.368\n",
      " minCGnP       0    35     -7.23  59.6             54.203             13.256\n",
      " minCGnP       0    36     -7.05  59.7             49.091             11.978\n",
      " minCGnP       0    37     -6.96  62.8             44.632             11.972\n",
      " minCGnP       0    38     -6.95  65.3             40.123             11.411\n",
      " minCGnP       0    39     -7.13  62.7             36.633              9.475\n",
      " minCGnP       0    40     -6.83  68.3             33.444             11.175\n",
      "---Stage-Seconds--Step-log(Alpha)--Dir-------------Energy-----------RMSforce\n",
      " minCGnP       0    41     -6.94  68.4             29.425             10.433\n",
      " minCGnP       0    42     -6.86  69.4             25.605             10.980\n",
      " minCGnP       0    43     -7.23  64.1             22.758              7.788\n",
      " minCGnP       0    44     -6.81  67.6             20.536              8.083\n",
      " minCGnP       0    45     -7.12  64.5             18.791              6.620\n",
      " minCGnP       0    46     -6.99  65.8             17.466              6.333\n",
      " minCGnP       0    47     -6.87  67.7             16.089              6.248\n",
      " minCGnP       0    48     -7.10  62.0             15.016              4.566\n",
      " minCGnP       0    49     -7.29  59.2             14.547              3.641\n",
      " minCGnP       0    50     -6.73  63.5             14.024              3.760\n",
      "---Stage-Seconds--Step-log(Alpha)--Dir-------------Energy-----------RMSforce\n",
      " minCGnP       0    51     -7.17  60.9             13.663              3.062\n",
      " minCGnP       0    52     -6.94  64.1             13.364              3.049\n",
      " minCGnP       0    53     -6.65  71.4             12.965              3.975\n",
      " minCGnP       0    54     -6.91  69.1             12.446              3.381\n",
      " minCGnP       0    55     -7.03  69.0             12.113              3.181\n",
      " minCGnP       0    56     -6.95  69.3             11.793              3.056\n",
      " minCGnP       0    57     -6.93  69.6             11.492              2.936\n",
      " minCGnP       0    58     -6.81  71.8             11.180              3.116\n",
      " minCGnP       0    59     -7.03  69.7             10.897              2.609\n",
      " minCGnP       0    60     -6.97  69.6             10.686              2.402\n",
      "---Stage-Seconds--Step-log(Alpha)--Dir-------------Energy-----------RMSforce\n",
      " minCGnP       0    61     -7.11  66.3             10.530              1.903\n",
      " minCGnP       0    62     -6.78  71.4             10.395              2.273\n",
      " minCGnP       0    63     -6.72  74.6             10.191              2.604\n",
      " minCGnP       0    64     -6.79  75.4              9.938              2.642\n",
      " minCGnP       0    65     -7.16  72.0              9.759              2.064\n",
      " minCGnP       0    66     -6.88  72.4              9.615              2.017\n",
      " minCGnP       0    67     -7.08  71.9              9.501              1.884\n",
      " minCGnP       0    68     -6.78  72.7              9.368              1.901\n",
      " minCGnP       0    69     -6.95   0.0              9.253              1.889\n",
      " minCGnP       0    70     -7.69  30.6              9.199              1.118\n",
      "---Stage-Seconds--Step-log(Alpha)--Dir-------------Energy-----------RMSforce\n",
      " minCGnP       0    71     -6.47  50.9              9.136              1.182\n",
      " minCGnP       0    72     -6.56  54.7              9.071              1.049\n",
      " minCGnP       0    73     -6.27  68.2              9.002              1.516\n",
      " minCGnP       0    74     -6.91  66.6              8.926              1.314\n",
      " minCGnP       0    75     -6.66  65.9              8.853              1.178\n",
      " minCGnP       0    76     -7.23  61.5              8.820              0.887\n",
      " minCGnP       0    77     -6.18  69.2              8.766              1.107\n",
      " minCGnP       0    78     -6.67  66.1              8.715              0.881\n",
      " minCGnP       0    79     -6.25  68.5              8.665              0.923\n",
      " minCGnP       0    80     -6.59  70.5              8.626              0.960\n",
      "---Stage-Seconds--Step-log(Alpha)--Dir-------------Energy-----------RMSforce\n",
      " minCGnP       0    81     -6.53  75.2              8.582              1.205\n",
      " minCGnP       0    82     -6.25  78.1              8.489              1.445\n",
      " minCGnP       0    83     -7.02  75.3              8.427              1.165\n",
      " minCGnP       0    84     -6.98  73.9              8.386              1.049\n",
      " minCGnP       0    85     -6.28  78.7              8.317              1.481\n",
      " minCGnP       0    86     -6.32  77.5              8.185              1.399\n",
      " minCGnP       0    87     -6.59  78.8              8.095              1.629\n",
      " minCGnP       0    88     -6.90  77.9              8.006              1.577\n",
      " minCGnP       0    89     -7.04  71.8              7.934              0.960\n",
      " minCGnP       0    90     -6.40  74.7              7.885              1.028\n",
      "---Stage-Seconds--Step-log(Alpha)--Dir-------------Energy-----------RMSforce\n",
      " minCGnP       0    91     -6.78  75.1              7.845              0.956\n",
      " minCGnP       0    92     -7.09  71.7              7.820              0.729\n",
      " minCGnP       0    93     -6.44  72.5              7.792              0.737\n",
      "DONE absolute force test:\n",
      "forceRmsMag(0.460240).LT.forceTolerance(0.500000)\n",
      "minimize-no-fail\n",
      "======= Starting Steepest Descent Minimizer\n",
      " minSDnP       0    94      -inf   0.0              0.000          61506.507\n",
      " minSDnP       0    95    -14.02   0.0          27802.366          29490.821\n",
      " minSDnP       0    96    -13.69   0.0          11470.174           7120.747\n",
      "DONE absolute force test:\n",
      "forceRmsMag(2624.589399).LT.forceTolerance(5000.000000)\n",
      "======= Starting Conjugate Gradient Minimizer\n",
      " minCGnP       0    97      -inf   0.0              0.000           2624.589\n",
      " minCGnP       0    98    -11.31  14.4           2092.791            673.606\n",
      " minCGnP       0    99     -9.50  15.8           1343.427            125.087\n",
      " minCGnP       0   100     -8.64  36.1           1253.737             89.988\n",
      "---Stage-Seconds--Step-log(Alpha)--Dir-------------Energy-----------RMSforce\n",
      " minCGnP       0   101     -7.89  36.4           1156.190             47.210\n",
      " minCGnP       0   102     -8.30  48.5           1138.711             42.737\n",
      " minCGnP       0   103     -7.50  54.3           1105.623             35.590\n",
      " minCGnP       0   104     -8.75  47.6           1099.187             24.285\n",
      " minCGnP       0   105     -7.53  57.7           1088.858             26.989\n",
      " minCGnP       0   106     -8.22  53.1           1082.241             18.924\n",
      " minCGnP       0   107     -8.16  56.2           1078.816             16.570\n",
      " minCGnP       0   108     -8.18  55.0           1076.272             12.976\n",
      " minCGnP       0   109     -7.84  59.6           1074.067             12.935\n",
      " minCGnP       0   110     -7.98  66.6           1072.155             15.037\n",
      "---Stage-Seconds--Step-log(Alpha)--Dir-------------Energy-----------RMSforce\n",
      " minCGnP       0   111     -7.29  71.3           1067.055             17.123\n",
      " minCGnP       0   112     -8.27  71.0           1064.550             15.751\n",
      " minCGnP       0   113     -7.63  71.7           1060.670             14.255\n",
      " minCGnP       0   114     -8.11  72.6           1058.628             14.928\n",
      " minCGnP       0   115     -8.01  67.0           1056.201             12.095\n",
      " minCGnP       0   116     -7.85  70.8           1054.323             13.659\n",
      " minCGnP       0   117     -8.04  69.6           1052.333             11.190\n",
      " minCGnP       0   118     -7.83  66.1           1050.694              8.355\n",
      " minCGnP       0   119     -8.34  59.5           1050.144              6.105\n",
      " minCGnP       0   120     -7.67  66.5           1049.573              7.195\n",
      "---Stage-Seconds--Step-log(Alpha)--Dir-------------Energy-----------RMSforce\n",
      " minCGnP       0   121     -8.20  65.1           1049.105              6.140\n",
      " minCGnP       0   122     -7.54  70.5           1048.443              7.294\n",
      " minCGnP       0   123     -8.45  61.2           1048.069              4.412\n",
      " minCGnP       0   124     -7.55  62.3           1047.730              4.074\n",
      " minCGnP       0   125     -8.29  60.9           1047.593              3.390\n",
      " minCGnP       0   126     -7.83  62.0           1047.442              3.096\n",
      " minCGnP       0   127     -7.83  68.9           1047.316              3.763\n",
      " minCGnP       0   128     -8.01  66.8           1047.162              3.188\n",
      " minCGnP       0   129     -7.77  70.2           1047.020              3.487\n",
      " minCGnP       0   130     -8.13  62.1           1046.901              2.213\n",
      "---Stage-Seconds--Step-log(Alpha)--Dir-------------Energy-----------RMSforce\n",
      " minCGnP       0   131     -7.72  71.4           1046.829              3.066\n",
      " minCGnP       0   132     -7.73  70.7           1046.694              2.808\n",
      " minCGnP       0   133     -7.59  76.0           1046.562              3.740\n",
      " minCGnP       0   134     -8.28  68.0           1046.445              2.256\n",
      " minCGnP       0   135     -7.79  69.5           1046.375              2.250\n",
      " minCGnP       0   136     -8.12  70.1           1046.325              2.175\n",
      " minCGnP       0   137     -7.54  72.8           1046.242              2.388\n",
      " minCGnP       0   138     -7.95  73.6           1046.176              2.407\n",
      " minCGnP       0   139     -7.88  71.5           1046.104              2.025\n",
      " minCGnP       0   140     -8.14  72.4           1046.064              2.034\n",
      "---Stage-Seconds--Step-log(Alpha)--Dir-------------Energy-----------RMSforce\n",
      " minCGnP       0   141     -7.46  73.9           1045.985              2.123\n",
      " minCGnP       0   142     -8.16  74.5           1045.943              2.130\n",
      " minCGnP       0   143     -7.75  70.7           1045.878              1.630\n",
      " minCGnP       0   144     -7.77  75.0           1045.841              2.012\n",
      " minCGnP       0   145     -8.04  72.4           1045.798              1.641\n",
      " minCGnP       0   146     -7.57  77.0           1045.752              2.143\n",
      " minCGnP       0   147     -7.82  78.5           1045.691              2.398\n",
      " minCGnP       0   148     -7.80  77.7           1045.613              2.201\n",
      " minCGnP       0   149     -8.38  71.0           1045.577              1.356\n",
      " minCGnP       0   150     -7.71  73.6           1045.549              1.500\n",
      "---Stage-Seconds--Step-log(Alpha)--Dir-------------Energy-----------RMSforce\n",
      " minCGnP       0   151     -8.11  74.6           1045.527              1.530\n",
      " minCGnP       0   152     -6.58  81.6           1045.421              2.754\n",
      " minCGnP       0   153     -8.40  78.7           1045.365              1.956\n",
      " minCGnP       0   154     -7.72  78.6           1045.309              1.866\n",
      " minCGnP       0   155     -7.89  79.4           1045.266              1.958\n",
      " minCGnP       0   156     -8.22  74.8           1045.232              1.350\n",
      " minCGnP       0   157     -7.77  78.0           1045.207              1.668\n",
      " minCGnP       0   158     -7.80  76.8           1045.169              1.481\n",
      " minCGnP       0   159     -7.88  79.0           1045.141              1.743\n",
      " minCGnP       0   160     -7.88  75.4           1045.103              1.296\n",
      "---Stage-Seconds--Step-log(Alpha)--Dir-------------Energy-----------RMSforce\n",
      " minCGnP       0   161     -7.55  80.0           1045.074              1.864\n",
      " minCGnP       0   162     -8.13  77.7           1045.040              1.471\n",
      " minCGnP       0   163     -7.38   0.0           1044.996              1.967\n",
      " minCGnP       0   164     -8.80  31.2           1044.977              1.192\n",
      " minCGnP       0   165     -7.51  46.5           1044.951              1.072\n",
      " minCGnP       0   166     -7.80  58.7           1044.935              1.214\n",
      " minCGnP       0   167     -8.00  61.4           1044.919              1.153\n",
      " minCGnP       0   168     -7.83  65.8           1044.902              1.228\n",
      " minCGnP       0   169     -8.04  58.7           1044.886              0.829\n",
      " minCGnP       0   170     -7.08  60.8           1044.866              0.773\n",
      "---Stage-Seconds--Step-log(Alpha)--Dir-------------Energy-----------RMSforce\n",
      " minCGnP       0   171     -7.77  70.1           1044.858              1.042\n",
      " minCGnP       0   172     -8.09  61.9           1044.847              0.664\n",
      " minCGnP       0   173     -6.57  69.0           1044.827              0.818\n",
      " minCGnP       0   174     -7.81  73.6           1044.818              0.996\n",
      " minCGnP       0   175     -8.07  68.4           1044.807              0.710\n",
      " minCGnP       0   176     -7.97  72.2           1044.802              0.813\n",
      " minCGnP       0   177     -7.39  72.5           1044.788              0.790\n",
      " minCGnP       0   178     -7.67  78.6           1044.779              1.175\n",
      " minCGnP       0   179     -8.08  67.3           1044.764              0.552\n",
      "DONE absolute force test:\n",
      "forceRmsMag(0.483788).LT.forceTolerance(0.500000)\n"
     ]
    },
    {
     "data": {
      "text/plain": [
       "*EE*"
      ]
     },
     "execution_count": 15,
     "metadata": {},
     "output_type": "execute_result"
    }
   ],
   "source": [
    "(defparameter *ee* (energy:minimize *ala*))"
   ]
  },
  {
   "cell_type": "code",
   "execution_count": 13,
   "metadata": {},
   "outputs": [
    {
     "data": {
      "application/vnd.jupyter.widget-view+json": {
       "model_id": "9E64B1BA-B3D2-4BAB-ADAB-9ECC6768B87E",
       "version_major": 2,
       "version_minor": 0
      },
      "text/plain": [
       "A Jupyter Widget"
      ]
     },
     "execution_count": 13,
     "metadata": {},
     "output_type": "execute_result"
    }
   ],
   "source": [
    "(:= v (nglv:show-aggregate *ala*))\n",
    "v"
   ]
  },
  {
   "cell_type": "code",
   "execution_count": 14,
   "metadata": {},
   "outputs": [
    {
     "name": "stdout",
     "output_type": "stream",
     "text": [
      "key 110191 sign 1.0\n",
      "key 110191 sign 1.0\n",
      "key 110191 sign 1.0\n",
      "key 110114 sign 1.0\n",
      "key 140122 sign 1.0\n",
      "key 140232 sign 1.0\n",
      "key 110114 sign -1.0\n",
      "key 140232 sign -1.0\n",
      "key 110191 sign -1.0\n",
      "key 110191 sign -1.0\n",
      "key 110191 sign -1.0\n",
      "key 110114 sign 1.0\n",
      "key 110111 sign 1.0\n",
      "key 110191 sign 1.0\n",
      "key 110122 sign 1.0\n",
      "key 220191 sign 1.0\n",
      "key 140122 sign -1.0\n",
      "key 110122 sign -1.0\n",
      "key 110191 sign -1.0\n",
      "key 110191 sign 1.0\n",
      "key 110191 sign 1.0\n",
      "key 110191 sign 1.0\n",
      "key 110111 sign 1.0\n",
      "key 140122 sign 1.0\n",
      "key 140232 sign 1.0\n",
      "key 110114 sign -1.0\n",
      "key 140232 sign -1.0\n",
      "key 110191 sign -1.0\n",
      "key 110191 sign -1.0\n",
      "key 110191 sign -1.0\n",
      "key 220191 sign -1.0\n",
      "key 220191 sign 1.0\n",
      "key 110122 sign -1.0\n",
      "key 140122 sign -1.0\n",
      "key 110191 sign 1.0\n",
      "key 110191 sign 1.0\n",
      "key 110191 sign 1.0\n",
      "key 110122 sign 1.0\n",
      "key 110191 sign -1.0\n",
      "key 110191 sign -1.0\n",
      "key 110191 sign -1.0\n",
      "key 220191 sign -1.0\n"
     ]
    },
    {
     "data": {
      "text/plain": [
       "*C*"
      ]
     },
     "execution_count": 14,
     "metadata": {},
     "output_type": "execute_result"
    }
   ],
   "source": [
    "(:= *c* (charges::calculate-am1-bcc-corrections *ala*))"
   ]
  },
  {
   "cell_type": "code",
   "execution_count": 15,
   "metadata": {},
   "outputs": [
    {
     "data": {
      "text/plain": [
       "#<HASH-TABLE-EQL :count 22 :total-alist-entries 22 @0x12bb6b5a8> "
      ]
     },
     "execution_count": 15,
     "metadata": {},
     "output_type": "execute_result"
    }
   ],
   "source": [
    "*c*"
   ]
  },
  {
   "cell_type": "code",
   "execution_count": 39,
   "metadata": {},
   "outputs": [
    {
     "name": "stdout",
     "output_type": "stream",
     "text": [
      ":ssbond for (SSBOND A 6 A 127)\n",
      ":ssbond for (SSBOND A 30 A 115)\n",
      ":ssbond for (SSBOND A 64 A 80)\n",
      ":ssbond for (SSBOND A 76 A 94)\n",
      "popped residue: #<PDB-RESIDUE LYS>\n",
      "popped residue: #<PDB-RESIDUE VAL>\n",
      "popped residue: #<PDB-RESIDUE PHE>\n",
      "popped residue: #<PDB-RESIDUE GLY>\n",
      "popped residue: #<PDB-RESIDUE ARG>\n",
      "popped residue: #<PDB-RESIDUE CYS>\n",
      "popped residue: #<PDB-RESIDUE GLU>\n",
      "popped residue: #<PDB-RESIDUE LEU>\n",
      "popped residue: #<PDB-RESIDUE ALA>\n",
      "popped residue: #<PDB-RESIDUE ALA>\n",
      "popped residue: #<PDB-RESIDUE ALA>\n",
      "popped residue: #<PDB-RESIDUE MET>\n",
      "popped residue: #<PDB-RESIDUE LYS>\n",
      "popped residue: #<PDB-RESIDUE ARG>\n",
      "popped residue: #<PDB-RESIDUE HIS>\n",
      "popped residue: #<PDB-RESIDUE GLY>\n",
      "popped residue: #<PDB-RESIDUE LEU>\n",
      "popped residue: #<PDB-RESIDUE ASP>\n",
      "popped residue: #<PDB-RESIDUE ASN>\n",
      "popped residue: #<PDB-RESIDUE TYR>\n",
      "popped residue: #<PDB-RESIDUE ARG>\n",
      "popped residue: #<PDB-RESIDUE GLY>\n",
      "popped residue: #<PDB-RESIDUE TYR>\n",
      "popped residue: #<PDB-RESIDUE SER>\n",
      "popped residue: #<PDB-RESIDUE LEU>\n",
      "popped residue: #<PDB-RESIDUE GLY>\n",
      "popped residue: #<PDB-RESIDUE ASN>\n",
      "popped residue: #<PDB-RESIDUE TRP>\n",
      "popped residue: #<PDB-RESIDUE VAL>\n",
      "popped residue: #<PDB-RESIDUE CYS>\n",
      "popped residue: #<PDB-RESIDUE ALA>\n",
      "popped residue: #<PDB-RESIDUE ALA>\n",
      "popped residue: #<PDB-RESIDUE LYS>\n",
      "popped residue: #<PDB-RESIDUE PHE>\n",
      "popped residue: #<PDB-RESIDUE GLU>\n",
      "popped residue: #<PDB-RESIDUE SER>\n",
      "popped residue: #<PDB-RESIDUE ASN>\n",
      "popped residue: #<PDB-RESIDUE PHE>\n",
      "popped residue: #<PDB-RESIDUE ASN>\n",
      "popped residue: #<PDB-RESIDUE THR>\n",
      "popped residue: #<PDB-RESIDUE GLN>\n",
      "popped residue: #<PDB-RESIDUE ALA>\n",
      "popped residue: #<PDB-RESIDUE THR>\n",
      "popped residue: #<PDB-RESIDUE ASN>\n",
      "popped residue: #<PDB-RESIDUE ARG>\n",
      "popped residue: #<PDB-RESIDUE ASN>\n",
      "popped residue: #<PDB-RESIDUE THR>\n",
      "popped residue: #<PDB-RESIDUE ASP>\n",
      "popped residue: #<PDB-RESIDUE GLY>\n",
      "popped residue: #<PDB-RESIDUE SER>\n",
      "popped residue: #<PDB-RESIDUE THR>\n",
      "popped residue: #<PDB-RESIDUE ASP>\n",
      "popped residue: #<PDB-RESIDUE TYR>\n",
      "popped residue: #<PDB-RESIDUE GLY>\n",
      "popped residue: #<PDB-RESIDUE ILE>\n",
      "popped residue: #<PDB-RESIDUE LEU>\n",
      "popped residue: #<PDB-RESIDUE GLN>\n",
      "popped residue: #<PDB-RESIDUE ILE>\n",
      "popped residue: #<PDB-RESIDUE ASN>\n",
      "popped residue: #<PDB-RESIDUE SER>\n",
      "popped residue: #<PDB-RESIDUE ARG>\n",
      "popped residue: #<PDB-RESIDUE TRP>\n",
      "popped residue: #<PDB-RESIDUE TRP>\n",
      "popped residue: #<PDB-RESIDUE CYS>\n",
      "popped residue: #<PDB-RESIDUE ASN>\n",
      "popped residue: #<PDB-RESIDUE ASP>\n",
      "popped residue: #<PDB-RESIDUE GLY>\n",
      "popped residue: #<PDB-RESIDUE ARG>\n",
      "popped residue: #<PDB-RESIDUE THR>\n",
      "popped residue: #<PDB-RESIDUE PRO>\n",
      "popped residue: #<PDB-RESIDUE GLY>\n",
      "popped residue: #<PDB-RESIDUE SER>\n",
      "popped residue: #<PDB-RESIDUE ARG>\n",
      "popped residue: #<PDB-RESIDUE ASN>\n",
      "popped residue: #<PDB-RESIDUE LEU>\n",
      "popped residue: #<PDB-RESIDUE CYS>\n",
      "popped residue: #<PDB-RESIDUE ASN>\n",
      "popped residue: #<PDB-RESIDUE ILE>\n",
      "popped residue: #<PDB-RESIDUE PRO>\n",
      "popped residue: #<PDB-RESIDUE CYS>\n",
      "popped residue: #<PDB-RESIDUE SER>\n",
      "popped residue: #<PDB-RESIDUE ALA>\n",
      "popped residue: #<PDB-RESIDUE LEU>\n",
      "popped residue: #<PDB-RESIDUE LEU>\n",
      "popped residue: #<PDB-RESIDUE SER>\n",
      "popped residue: #<PDB-RESIDUE SER>\n",
      "popped residue: #<PDB-RESIDUE ASP>\n",
      "popped residue: #<PDB-RESIDUE ILE>\n",
      "popped residue: #<PDB-RESIDUE THR>\n",
      "popped residue: #<PDB-RESIDUE ALA>\n",
      "popped residue: #<PDB-RESIDUE SER>\n",
      "popped residue: #<PDB-RESIDUE VAL>\n",
      "popped residue: #<PDB-RESIDUE ASN>\n",
      "popped residue: #<PDB-RESIDUE CYS>\n",
      "popped residue: #<PDB-RESIDUE ALA>\n",
      "popped residue: #<PDB-RESIDUE LYS>\n",
      "popped residue: #<PDB-RESIDUE LYS>\n",
      "popped residue: #<PDB-RESIDUE ILE>\n",
      "popped residue: #<PDB-RESIDUE VAL>\n",
      "popped residue: #<PDB-RESIDUE SER>\n",
      "popped residue: #<PDB-RESIDUE ASP>\n",
      "popped residue: #<PDB-RESIDUE GLY>\n",
      "popped residue: #<PDB-RESIDUE ASN>\n",
      "popped residue: #<PDB-RESIDUE GLY>\n",
      "popped residue: #<PDB-RESIDUE MET>\n",
      "popped residue: #<PDB-RESIDUE ASN>\n",
      "popped residue: #<PDB-RESIDUE ALA>\n",
      "popped residue: #<PDB-RESIDUE TRP>\n",
      "popped residue: #<PDB-RESIDUE VAL>\n",
      "popped residue: #<PDB-RESIDUE ALA>\n",
      "popped residue: #<PDB-RESIDUE TRP>\n",
      "popped residue: #<PDB-RESIDUE ARG>\n",
      "popped residue: #<PDB-RESIDUE ASN>\n",
      "popped residue: #<PDB-RESIDUE ARG>\n",
      "popped residue: #<PDB-RESIDUE CYS>\n",
      "popped residue: #<PDB-RESIDUE LYS>\n",
      "popped residue: #<PDB-RESIDUE GLY>\n",
      "popped residue: #<PDB-RESIDUE THR>\n",
      "popped residue: #<PDB-RESIDUE ASP>\n",
      "popped residue: #<PDB-RESIDUE VAL>\n",
      "popped residue: #<PDB-RESIDUE GLN>\n",
      "popped residue: #<PDB-RESIDUE ALA>\n",
      "popped residue: #<PDB-RESIDUE TRP>\n",
      "popped residue: #<PDB-RESIDUE ILE>\n",
      "popped residue: #<PDB-RESIDUE ARG>\n",
      "popped residue: #<PDB-RESIDUE GLY>\n",
      "popped residue: #<PDB-RESIDUE CYS>\n",
      "popped residue: #<PDB-RESIDUE ARG>\n",
      "popped residue: #<PDB-RESIDUE LEU>\n",
      "popped residue: NIL\n",
      "Starting a new molecule\n",
      "popped first residue: #<PDB-RESIDUE AMU>\n",
      "popped residue: #<PDB-RESIDUE NAG>\n",
      "popped residue: #<PDB-RESIDUE AMU>\n",
      "popped residue: #<PDB-RESIDUE HOH>\n",
      "popped residue: #<PDB-RESIDUE HOH>\n",
      "popped residue: #<PDB-RESIDUE HOH>\n",
      "popped residue: #<PDB-RESIDUE HOH>\n",
      "popped residue: #<PDB-RESIDUE HOH>\n",
      "popped residue: #<PDB-RESIDUE HOH>\n",
      "popped residue: #<PDB-RESIDUE HOH>\n",
      "popped residue: #<PDB-RESIDUE HOH>\n",
      "popped residue: #<PDB-RESIDUE HOH>\n",
      "popped residue: #<PDB-RESIDUE HOH>\n",
      "popped residue: #<PDB-RESIDUE HOH>\n",
      "popped residue: #<PDB-RESIDUE HOH>\n",
      "popped residue: #<PDB-RESIDUE HOH>\n",
      "popped residue: #<PDB-RESIDUE HOH>\n",
      "popped residue: #<PDB-RESIDUE HOH>\n",
      "popped residue: #<PDB-RESIDUE HOH>\n",
      "popped residue: #<PDB-RESIDUE HOH>\n",
      "popped residue: #<PDB-RESIDUE HOH>\n",
      "popped residue: #<PDB-RESIDUE HOH>\n",
      "popped residue: #<PDB-RESIDUE HOH>\n",
      "popped residue: #<PDB-RESIDUE HOH>\n",
      "popped residue: #<PDB-RESIDUE HOH>\n",
      "popped residue: #<PDB-RESIDUE HOH>\n",
      "popped residue: #<PDB-RESIDUE HOH>\n",
      "popped residue: #<PDB-RESIDUE HOH>\n",
      "popped residue: #<PDB-RESIDUE HOH>\n",
      "popped residue: #<PDB-RESIDUE HOH>\n",
      "popped residue: #<PDB-RESIDUE HOH>\n",
      "popped residue: #<PDB-RESIDUE HOH>\n",
      "popped residue: #<PDB-RESIDUE HOH>\n",
      "popped residue: #<PDB-RESIDUE HOH>\n",
      "popped residue: #<PDB-RESIDUE HOH>\n",
      "popped residue: #<PDB-RESIDUE HOH>\n",
      "popped residue: #<PDB-RESIDUE HOH>\n",
      "popped residue: #<PDB-RESIDUE HOH>\n",
      "popped residue: #<PDB-RESIDUE HOH>\n",
      "popped residue: #<PDB-RESIDUE HOH>\n",
      "popped residue: #<PDB-RESIDUE HOH>\n",
      "popped residue: #<PDB-RESIDUE HOH>\n",
      "popped residue: #<PDB-RESIDUE HOH>\n",
      "popped residue: #<PDB-RESIDUE HOH>\n",
      "popped residue: #<PDB-RESIDUE HOH>\n",
      "popped residue: #<PDB-RESIDUE HOH>\n",
      "popped residue: #<PDB-RESIDUE HOH>\n",
      "popped residue: #<PDB-RESIDUE HOH>\n",
      "popped residue: #<PDB-RESIDUE HOH>\n",
      "popped residue: #<PDB-RESIDUE HOH>\n",
      "popped residue: #<PDB-RESIDUE HOH>\n",
      "popped residue: #<PDB-RESIDUE HOH>\n",
      "popped residue: #<PDB-RESIDUE HOH>\n",
      "popped residue: #<PDB-RESIDUE HOH>\n",
      "popped residue: #<PDB-RESIDUE HOH>\n",
      "popped residue: #<PDB-RESIDUE HOH>\n",
      "popped residue: #<PDB-RESIDUE HOH>\n",
      "popped residue: #<PDB-RESIDUE HOH>\n",
      "popped residue: #<PDB-RESIDUE HOH>\n",
      "popped residue: #<PDB-RESIDUE HOH>\n",
      "popped residue: #<PDB-RESIDUE HOH>\n",
      "popped residue: #<PDB-RESIDUE HOH>\n",
      "popped residue: #<PDB-RESIDUE HOH>\n",
      "popped residue: #<PDB-RESIDUE HOH>\n",
      "popped residue: #<PDB-RESIDUE HOH>\n",
      "popped residue: #<PDB-RESIDUE HOH>\n",
      "popped residue: #<PDB-RESIDUE HOH>\n",
      "popped residue: #<PDB-RESIDUE HOH>\n",
      "popped residue: #<PDB-RESIDUE HOH>\n",
      "popped residue: #<PDB-RESIDUE HOH>\n",
      "popped residue: #<PDB-RESIDUE HOH>\n",
      "popped residue: #<PDB-RESIDUE HOH>\n",
      "popped residue: #<PDB-RESIDUE HOH>\n",
      "popped residue: #<PDB-RESIDUE HOH>\n",
      "popped residue: #<PDB-RESIDUE HOH>\n",
      "popped residue: #<PDB-RESIDUE HOH>\n",
      "popped residue: #<PDB-RESIDUE HOH>\n",
      "popped residue: #<PDB-RESIDUE HOH>\n",
      "popped residue: #<PDB-RESIDUE HOH>\n",
      "popped residue: #<PDB-RESIDUE HOH>\n",
      "popped residue: #<PDB-RESIDUE HOH>\n",
      "popped residue: #<PDB-RESIDUE HOH>\n",
      "popped residue: #<PDB-RESIDUE HOH>\n",
      "popped residue: #<PDB-RESIDUE HOH>\n",
      "popped residue: #<PDB-RESIDUE HOH>\n",
      "popped residue: #<PDB-RESIDUE HOH>\n",
      "popped residue: #<PDB-RESIDUE HOH>\n",
      "popped residue: #<PDB-RESIDUE HOH>\n",
      "popped residue: #<PDB-RESIDUE HOH>\n",
      "popped residue: #<PDB-RESIDUE HOH>\n",
      "popped residue: #<PDB-RESIDUE HOH>\n",
      "popped residue: #<PDB-RESIDUE HOH>\n",
      "popped residue: #<PDB-RESIDUE HOH>\n",
      "popped residue: #<PDB-RESIDUE HOH>\n",
      "popped residue: #<PDB-RESIDUE HOH>\n",
      "popped residue: #<PDB-RESIDUE HOH>\n",
      "popped residue: #<PDB-RESIDUE HOH>\n",
      "popped residue: #<PDB-RESIDUE HOH>\n",
      "popped residue: #<PDB-RESIDUE HOH>\n",
      "popped residue: #<PDB-RESIDUE HOH>\n",
      "popped residue: #<PDB-RESIDUE HOH>\n",
      "popped residue: #<PDB-RESIDUE HOH>\n",
      "popped residue: #<PDB-RESIDUE HOH>\n",
      "popped residue: #<PDB-RESIDUE HOH>\n",
      "Building from sorted-built: (#<ATOM :C/:C> #<ATOM :CB/:C> #<ATOM :N/:N>)\n",
      "Hydrogens built 0.0%\n",
      "Building from sorted-built: (#<ATOM :C/:C> #<ATOM :CB/:C> #<ATOM :N/:N>)\n",
      "Building from sorted-built: (#<ATOM :CA/:C> #<ATOM :CG1/:C> #<ATOM :CG2/:C>)\n",
      "Building from sorted-built: (#<ATOM :C/:C> #<ATOM :CB/:C> #<ATOM :N/:N>)\n",
      "Building from sorted-built: (#<ATOM :C/:C> #<ATOM :CB/:C> #<ATOM :N/:N>)\n",
      "Building from sorted-built: (#<ATOM :C/:C> #<ATOM :CB/:C> #<ATOM :N/:N>)\n",
      "Building from sorted-built: (#<ATOM :C/:C> #<ATOM :CB/:C> #<ATOM :N/:N>)\n",
      "Building from sorted-built: (#<ATOM :C/:C> #<ATOM :CB/:C> #<ATOM :N/:N>)\n",
      "Building from sorted-built: (#<ATOM :CB/:C> #<ATOM :CD1/:C> #<ATOM :CD2/:C>)\n",
      "Building from sorted-built: (#<ATOM :C/:C> #<ATOM :CB/:C> #<ATOM :N/:N>)\n",
      "Building from sorted-built: (#<ATOM :C/:C> #<ATOM :CB/:C> #<ATOM :N/:N>)\n",
      "Building from sorted-built: (#<ATOM :C/:C> #<ATOM :CB/:C> #<ATOM :N/:N>)\n",
      "Building from sorted-built: (#<ATOM :C/:C> #<ATOM :CB/:C> #<ATOM :N/:N>)\n",
      "Building from sorted-built: (#<ATOM :C/:C> #<ATOM :CB/:C> #<ATOM :N/:N>)\n",
      "Hydrogens built 10.0%\n",
      "Building from sorted-built: (#<ATOM :C/:C> #<ATOM :CB/:C> #<ATOM :N/:N>)\n",
      "Building from sorted-built: (#<ATOM :C/:C> #<ATOM :CB/:C> #<ATOM :N/:N>)\n",
      "Building from sorted-built: (#<ATOM :C/:C> #<ATOM :CB/:C> #<ATOM :N/:N>)\n",
      "Building from sorted-built: (#<ATOM :CB/:C> #<ATOM :CD1/:C> #<ATOM :CD2/:C>)\n",
      "Building from sorted-built: (#<ATOM :C/:C> #<ATOM :CB/:C> #<ATOM :N/:N>)\n",
      "Building from sorted-built: (#<ATOM :C/:C> #<ATOM :CB/:C> #<ATOM :N/:N>)\n",
      "Building from sorted-built: (#<ATOM :C/:C> #<ATOM :CB/:C> #<ATOM :N/:N>)\n",
      "Building from sorted-built: (#<ATOM :C/:C> #<ATOM :CB/:C> #<ATOM :N/:N>)\n",
      "Building from sorted-built: (#<ATOM :C/:C> #<ATOM :CB/:C> #<ATOM :N/:N>)\n",
      "Building from sorted-built: (#<ATOM :C/:C> #<ATOM :CB/:C> #<ATOM :N/:N>)\n",
      "Building from sorted-built: (#<ATOM :C/:C> #<ATOM :CB/:C> #<ATOM :N/:N>)\n",
      "Hydrogens built 20.0%\n",
      "Building from sorted-built: (#<ATOM :CB/:C> #<ATOM :CD1/:C> #<ATOM :CD2/:C>)\n",
      "Building from sorted-built: (#<ATOM :C/:C> #<ATOM :CB/:C> #<ATOM :N/:N>)\n",
      "Building from sorted-built: (#<ATOM :C/:C> #<ATOM :CB/:C> #<ATOM :N/:N>)\n",
      "Building from sorted-built: (#<ATOM :C/:C> #<ATOM :CB/:C> #<ATOM :N/:N>)\n",
      "Building from sorted-built: (#<ATOM :CA/:C> #<ATOM :CG1/:C> #<ATOM :CG2/:C>)\n",
      "Building from sorted-built: (#<ATOM :C/:C> #<ATOM :CB/:C> #<ATOM :N/:N>)\n",
      "Building from sorted-built: (#<ATOM :C/:C> #<ATOM :CB/:C> #<ATOM :N/:N>)\n",
      "Building from sorted-built: (#<ATOM :C/:C> #<ATOM :CB/:C> #<ATOM :N/:N>)\n",
      "Building from sorted-built: (#<ATOM :C/:C> #<ATOM :CB/:C> #<ATOM :N/:N>)\n",
      "Building from sorted-built: (#<ATOM :C/:C> #<ATOM :CB/:C> #<ATOM :N/:N>)\n",
      "Building from sorted-built: (#<ATOM :C/:C> #<ATOM :CB/:C> #<ATOM :N/:N>)\n",
      "Building from sorted-built: (#<ATOM :C/:C> #<ATOM :CB/:C> #<ATOM :N/:N>)\n",
      "Building from sorted-built: (#<ATOM :C/:C> #<ATOM :CB/:C> #<ATOM :N/:N>)\n",
      "Building from sorted-built: (#<ATOM :C/:C> #<ATOM :CB/:C> #<ATOM :N/:N>)\n",
      "Hydrogens built 30.0%\n",
      "Building from sorted-built: (#<ATOM :C/:C> #<ATOM :CB/:C> #<ATOM :N/:N>)\n",
      "Building from sorted-built: (#<ATOM :C/:C> #<ATOM :CB/:C> #<ATOM :N/:N>)\n",
      "Building from sorted-built: (#<ATOM :CA/:C> #<ATOM :CG2/:C> #<ATOM :OG1/:O>)\n",
      "Building from sorted-built: (#<ATOM :C/:C> #<ATOM :CB/:C> #<ATOM :N/:N>)\n",
      "Building from sorted-built: (#<ATOM :C/:C> #<ATOM :CB/:C> #<ATOM :N/:N>)\n",
      "Building from sorted-built: (#<ATOM :C/:C> #<ATOM :CB/:C> #<ATOM :N/:N>)\n",
      "Building from sorted-built: (#<ATOM :CA/:C> #<ATOM :CG2/:C> #<ATOM :OG1/:O>)\n",
      "Building from sorted-built: (#<ATOM :C/:C> #<ATOM :CB/:C> #<ATOM :N/:N>)\n",
      "Building from sorted-built: (#<ATOM :C/:C> #<ATOM :CB/:C> #<ATOM :N/:N>)\n",
      "Building from sorted-built: (#<ATOM :C/:C> #<ATOM :CB/:C> #<ATOM :N/:N>)\n",
      "Building from sorted-built: (#<ATOM :C/:C> #<ATOM :CB/:C> #<ATOM :N/:N>)\n",
      "Building from sorted-built: (#<ATOM :CA/:C> #<ATOM :CG2/:C> #<ATOM :OG1/:O>)\n",
      "Building from sorted-built: (#<ATOM :C/:C> #<ATOM :CB/:C> #<ATOM :N/:N>)\n",
      "Building from sorted-built: (#<ATOM :C/:C> #<ATOM :CB/:C> #<ATOM :N/:N>)\n",
      "Building from sorted-built: (#<ATOM :C/:C> #<ATOM :CB/:C> #<ATOM :N/:N>)\n",
      "Building from sorted-built: (#<ATOM :CA/:C> #<ATOM :CG2/:C> #<ATOM :OG1/:O>)\n",
      "Building from sorted-built: (#<ATOM :C/:C> #<ATOM :CB/:C> #<ATOM :N/:N>)\n",
      "Building from sorted-built: (#<ATOM :C/:C> #<ATOM :CB/:C> #<ATOM :N/:N>)\n",
      "Hydrogens built 40.0%\n",
      "Building from sorted-built: (#<ATOM :C/:C> #<ATOM :CB/:C> #<ATOM :N/:N>)\n",
      "Building from sorted-built: (#<ATOM :CA/:C> #<ATOM :CG1/:C> #<ATOM :CG2/:C>)\n",
      "Building from sorted-built: (#<ATOM :C/:C> #<ATOM :CB/:C> #<ATOM :N/:N>)\n",
      "Building from sorted-built: (#<ATOM :CB/:C> #<ATOM :CD1/:C> #<ATOM :CD2/:C>)\n",
      "Building from sorted-built: (#<ATOM :C/:C> #<ATOM :CB/:C> #<ATOM :N/:N>)\n",
      "Building from sorted-built: (#<ATOM :C/:C> #<ATOM :CB/:C> #<ATOM :N/:N>)\n",
      "Building from sorted-built: (#<ATOM :CA/:C> #<ATOM :CG1/:C> #<ATOM :CG2/:C>)\n",
      "Building from sorted-built: (#<ATOM :C/:C> #<ATOM :CB/:C> #<ATOM :N/:N>)\n",
      "Building from sorted-built: (#<ATOM :C/:C> #<ATOM :CB/:C> #<ATOM :N/:N>)\n",
      "Building from sorted-built: (#<ATOM :C/:C> #<ATOM :CB/:C> #<ATOM :N/:N>)\n",
      "Building from sorted-built: (#<ATOM :C/:C> #<ATOM :CB/:C> #<ATOM :N/:N>)\n",
      "Building from sorted-built: (#<ATOM :C/:C> #<ATOM :CB/:C> #<ATOM :N/:N>)\n",
      "Building from sorted-built: (#<ATOM :C/:C> #<ATOM :CB/:C> #<ATOM :N/:N>)\n",
      "Hydrogens built 50.0%\n",
      "Building from sorted-built: (#<ATOM :C/:C> #<ATOM :CB/:C> #<ATOM :N/:N>)\n",
      "Building from sorted-built: (#<ATOM :C/:C> #<ATOM :CB/:C> #<ATOM :N/:N>)\n",
      "Building from sorted-built: (#<ATOM :C/:C> #<ATOM :CB/:C> #<ATOM :N/:N>)\n",
      "Building from sorted-built: (#<ATOM :C/:C> #<ATOM :CB/:C> #<ATOM :N/:N>)\n",
      "Building from sorted-built: (#<ATOM :CA/:C> #<ATOM :CG2/:C> #<ATOM :OG1/:O>)\n",
      "Building from sorted-built: (#<ATOM :C/:C> #<ATOM :CB/:C> #<ATOM :N/:N>)\n",
      "Building from sorted-built: (#<ATOM :C/:C> #<ATOM :CB/:C> #<ATOM :N/:N>)\n",
      "Building from sorted-built: (#<ATOM :C/:C> #<ATOM :CB/:C> #<ATOM :N/:N>)\n",
      "Building from sorted-built: (#<ATOM :C/:C> #<ATOM :CB/:C> #<ATOM :N/:N>)\n",
      "Building from sorted-built: (#<ATOM :C/:C> #<ATOM :CB/:C> #<ATOM :N/:N>)\n",
      "Building from sorted-built: (#<ATOM :CB/:C> #<ATOM :CD1/:C> #<ATOM :CD2/:C>)\n",
      "Building from sorted-built: (#<ATOM :C/:C> #<ATOM :CB/:C> #<ATOM :N/:N>)\n",
      "Building from sorted-built: (#<ATOM :C/:C> #<ATOM :CB/:C> #<ATOM :N/:N>)\n",
      "Building from sorted-built: (#<ATOM :C/:C> #<ATOM :CB/:C> #<ATOM :N/:N>)\n",
      "Building from sorted-built: (#<ATOM :CA/:C> #<ATOM :CG1/:C> #<ATOM :CG2/:C>)\n",
      "Hydrogens built 60.0%\n",
      "Building from sorted-built: (#<ATOM :C/:C> #<ATOM :CB/:C> #<ATOM :N/:N>)\n",
      "Building from sorted-built: (#<ATOM :C/:C> #<ATOM :CB/:C> #<ATOM :N/:N>)\n",
      "Building from sorted-built: (#<ATOM :C/:C> #<ATOM :CB/:C> #<ATOM :N/:N>)\n",
      "Building from sorted-built: (#<ATOM :C/:C> #<ATOM :CB/:C> #<ATOM :N/:N>)\n",
      "Building from sorted-built: (#<ATOM :C/:C> #<ATOM :CB/:C> #<ATOM :N/:N>)\n",
      "Building from sorted-built: (#<ATOM :CB/:C> #<ATOM :CD1/:C> #<ATOM :CD2/:C>)\n",
      "Building from sorted-built: (#<ATOM :C/:C> #<ATOM :CB/:C> #<ATOM :N/:N>)\n",
      "Building from sorted-built: (#<ATOM :CB/:C> #<ATOM :CD1/:C> #<ATOM :CD2/:C>)\n",
      "Building from sorted-built: (#<ATOM :C/:C> #<ATOM :CB/:C> #<ATOM :N/:N>)\n",
      "Building from sorted-built: (#<ATOM :C/:C> #<ATOM :CB/:C> #<ATOM :N/:N>)\n",
      "Building from sorted-built: (#<ATOM :C/:C> #<ATOM :CB/:C> #<ATOM :N/:N>)\n",
      "Building from sorted-built: (#<ATOM :C/:C> #<ATOM :CB/:C> #<ATOM :N/:N>)\n",
      "Building from sorted-built: (#<ATOM :CA/:C> #<ATOM :CG1/:C> #<ATOM :CG2/:C>)\n",
      "Building from sorted-built: (#<ATOM :C/:C> #<ATOM :CB/:C> #<ATOM :N/:N>)\n",
      "Building from sorted-built: (#<ATOM :CA/:C> #<ATOM :CG2/:C> #<ATOM :OG1/:O>)\n",
      "Building from sorted-built: (#<ATOM :C/:C> #<ATOM :CB/:C> #<ATOM :N/:N>)\n",
      "Building from sorted-built: (#<ATOM :C/:C> #<ATOM :CB/:C> #<ATOM :N/:N>)\n",
      "Building from sorted-built: (#<ATOM :C/:C> #<ATOM :CB/:C> #<ATOM :N/:N>)\n",
      "Building from sorted-built: (#<ATOM :CA/:C> #<ATOM :CG1/:C> #<ATOM :CG2/:C>)\n",
      "Hydrogens built 70.0%\n",
      "Building from sorted-built: (#<ATOM :C/:C> #<ATOM :CB/:C> #<ATOM :N/:N>)\n",
      "Building from sorted-built: (#<ATOM :C/:C> #<ATOM :CB/:C> #<ATOM :N/:N>)\n",
      "Building from sorted-built: (#<ATOM :C/:C> #<ATOM :CB/:C> #<ATOM :N/:N>)\n",
      "Building from sorted-built: (#<ATOM :C/:C> #<ATOM :CB/:C> #<ATOM :N/:N>)\n",
      "Building from sorted-built: (#<ATOM :C/:C> #<ATOM :CB/:C> #<ATOM :N/:N>)\n",
      "Building from sorted-built: (#<ATOM :C/:C> #<ATOM :CB/:C> #<ATOM :N/:N>)\n",
      "Building from sorted-built: (#<ATOM :CA/:C> #<ATOM :CG1/:C> #<ATOM :CG2/:C>)\n",
      "Building from sorted-built: (#<ATOM :C/:C> #<ATOM :CB/:C> #<ATOM :N/:N>)\n",
      "Building from sorted-built: (#<ATOM :CA/:C> #<ATOM :CG1/:C> #<ATOM :CG2/:C>)\n",
      "Building from sorted-built: (#<ATOM :C/:C> #<ATOM :CB/:C> #<ATOM :N/:N>)\n",
      "Building from sorted-built: (#<ATOM :C/:C> #<ATOM :CB/:C> #<ATOM :N/:N>)\n",
      "Building from sorted-built: (#<ATOM :C/:C> #<ATOM :CB/:C> #<ATOM :N/:N>)\n",
      "Building from sorted-built: (#<ATOM :C/:C> #<ATOM :CB/:C> #<ATOM :N/:N>)\n",
      "Building from sorted-built: (#<ATOM :C/:C> #<ATOM :CB/:C> #<ATOM :N/:N>)\n",
      "Hydrogens built 80.0%\n",
      "Building from sorted-built: (#<ATOM :C/:C> #<ATOM :CB/:C> #<ATOM :N/:N>)\n",
      "Building from sorted-built: (#<ATOM :C/:C> #<ATOM :CB/:C> #<ATOM :N/:N>)\n",
      "Building from sorted-built: (#<ATOM :C/:C> #<ATOM :CB/:C> #<ATOM :N/:N>)\n",
      "Building from sorted-built: (#<ATOM :CA/:C> #<ATOM :CG1/:C> #<ATOM :CG2/:C>)\n",
      "Building from sorted-built: (#<ATOM :C/:C> #<ATOM :CB/:C> #<ATOM :N/:N>)\n",
      "Building from sorted-built: (#<ATOM :C/:C> #<ATOM :CB/:C> #<ATOM :N/:N>)\n",
      "Building from sorted-built: (#<ATOM :C/:C> #<ATOM :CB/:C> #<ATOM :N/:N>)\n",
      "Building from sorted-built: (#<ATOM :C/:C> #<ATOM :CB/:C> #<ATOM :N/:N>)\n",
      "Building from sorted-built: (#<ATOM :C/:C> #<ATOM :CB/:C> #<ATOM :N/:N>)\n",
      "Building from sorted-built: (#<ATOM :C/:C> #<ATOM :CB/:C> #<ATOM :N/:N>)\n",
      "Building from sorted-built: (#<ATOM :C/:C> #<ATOM :CB/:C> #<ATOM :N/:N>)\n",
      "Building from sorted-built: (#<ATOM :C/:C> #<ATOM :CB/:C> #<ATOM :N/:N>)\n",
      "Building from sorted-built: (#<ATOM :CA/:C> #<ATOM :CG2/:C> #<ATOM :OG1/:O>)\n",
      "Hydrogens built 90.0%\n",
      "Building from sorted-built: (#<ATOM :C/:C> #<ATOM :CB/:C> #<ATOM :N/:N>)\n",
      "Building from sorted-built: (#<ATOM :C/:C> #<ATOM :CB/:C> #<ATOM :N/:N>)\n",
      "Building from sorted-built: (#<ATOM :CA/:C> #<ATOM :CG1/:C> #<ATOM :CG2/:C>)\n",
      "Building from sorted-built: (#<ATOM :C/:C> #<ATOM :CB/:C> #<ATOM :N/:N>)\n",
      "Building from sorted-built: (#<ATOM :C/:C> #<ATOM :CB/:C> #<ATOM :N/:N>)\n",
      "Building from sorted-built: (#<ATOM :C/:C> #<ATOM :CB/:C> #<ATOM :N/:N>)\n",
      "Building from sorted-built: (#<ATOM :C/:C> #<ATOM :CB/:C> #<ATOM :N/:N>)\n",
      "Building from sorted-built: (#<ATOM :CA/:C> #<ATOM :CG1/:C> #<ATOM :CG2/:C>)\n",
      "Building from sorted-built: (#<ATOM :C/:C> #<ATOM :CB/:C> #<ATOM :N/:N>)\n",
      "Building from sorted-built: (#<ATOM :C/:C> #<ATOM :CB/:C> #<ATOM :N/:N>)\n",
      "Building from sorted-built: (#<ATOM :C/:C> #<ATOM :CB/:C> #<ATOM :N/:N>)\n",
      "Building from sorted-built: (#<ATOM :C/:C> #<ATOM :CB/:C> #<ATOM :N/:N>)\n",
      "Building from sorted-built: (#<ATOM :CB/:C> #<ATOM :CD1/:C> #<ATOM :CD2/:C>)\n",
      "Built 967 missing hydrogens\n"
     ]
    },
    {
     "name": "stderr",
     "output_type": "stream",
     "text": [
      "SIMPLE-WARNING: \n",
      "Could not immediately identify topology for (AMU . HEAD)\n",
      "SIMPLE-WARNING: \n",
      "Could not identify topology for (AMU . HEAD)\n",
      "SIMPLE-WARNING: \n",
      "Could not immediately identify topology for (NAG . MAIN)\n",
      "SIMPLE-WARNING: \n",
      "Could not identify topology for (NAG . MAIN)\n",
      "SIMPLE-WARNING: \n",
      "Could not immediately identify topology for (AMU . MAIN)\n",
      "SIMPLE-WARNING: \n",
      "Could not identify topology for (AMU . MAIN)\n",
      "SIMPLE-WARNING: \n",
      "Could not immediately identify topology for (HOH . MAIN)\n",
      "SIMPLE-WARNING: \n",
      "Could not identify topology for (HOH . MAIN)\n",
      "SIMPLE-WARNING: \n",
      "Could not immediately identify topology for (HOH . MAIN)\n",
      "SIMPLE-WARNING: \n",
      "Could not immediately identify topology for (HOH . MAIN)\n",
      "SIMPLE-WARNING: \n",
      "Could not immediately identify topology for (HOH . MAIN)\n",
      "SIMPLE-WARNING: \n",
      "Could not immediately identify topology for (HOH . MAIN)\n",
      "SIMPLE-WARNING: \n",
      "Could not immediately identify topology for (HOH . MAIN)\n",
      "SIMPLE-WARNING: \n",
      "Could not immediately identify topology for (HOH . MAIN)\n",
      "SIMPLE-WARNING: \n",
      "Could not immediately identify topology for (HOH . MAIN)\n",
      "SIMPLE-WARNING: \n",
      "Could not immediately identify topology for (HOH . MAIN)\n",
      "SIMPLE-WARNING: \n",
      "Could not immediately identify topology for (HOH . MAIN)\n",
      "SIMPLE-WARNING: \n",
      "Could not immediately identify topology for (HOH . MAIN)\n",
      "SIMPLE-WARNING: \n",
      "Could not immediately identify topology for (HOH . MAIN)\n",
      "SIMPLE-WARNING: \n",
      "Could not immediately identify topology for (HOH . MAIN)\n",
      "SIMPLE-WARNING: \n",
      "Could not immediately identify topology for (HOH . MAIN)\n",
      "SIMPLE-WARNING: \n",
      "Could not immediately identify topology for (HOH . MAIN)\n",
      "SIMPLE-WARNING: \n",
      "Could not immediately identify topology for (HOH . MAIN)\n",
      "SIMPLE-WARNING: \n",
      "Could not immediately identify topology for (HOH . MAIN)\n",
      "SIMPLE-WARNING: \n",
      "Could not immediately identify topology for (HOH . MAIN)\n",
      "SIMPLE-WARNING: \n",
      "Could not immediately identify topology for (HOH . MAIN)\n",
      "SIMPLE-WARNING: \n",
      "Could not immediately identify topology for (HOH . MAIN)\n",
      "SIMPLE-WARNING: \n",
      "Could not immediately identify topology for (HOH . MAIN)\n",
      "SIMPLE-WARNING: \n",
      "Could not immediately identify topology for (HOH . MAIN)\n",
      "SIMPLE-WARNING: \n",
      "Could not immediately identify topology for (HOH . MAIN)\n",
      "SIMPLE-WARNING: \n",
      "Could not immediately identify topology for (HOH . MAIN)\n",
      "SIMPLE-WARNING: \n",
      "Could not immediately identify topology for (HOH . MAIN)\n",
      "SIMPLE-WARNING: \n",
      "Could not immediately identify topology for (HOH . MAIN)\n",
      "SIMPLE-WARNING: \n",
      "Could not immediately identify topology for (HOH . MAIN)\n",
      "SIMPLE-WARNING: \n",
      "Could not immediately identify topology for (HOH . MAIN)\n",
      "SIMPLE-WARNING: \n",
      "Could not immediately identify topology for (HOH . MAIN)\n",
      "SIMPLE-WARNING: \n",
      "Could not immediately identify topology for (HOH . MAIN)\n",
      "SIMPLE-WARNING: \n",
      "Could not immediately identify topology for (HOH . MAIN)\n",
      "SIMPLE-WARNING: \n",
      "Could not immediately identify topology for (HOH . MAIN)\n",
      "SIMPLE-WARNING: \n",
      "Could not immediately identify topology for (HOH . MAIN)\n",
      "SIMPLE-WARNING: \n",
      "Could not immediately identify topology for (HOH . MAIN)\n",
      "SIMPLE-WARNING: \n",
      "Could not immediately identify topology for (HOH . MAIN)\n",
      "SIMPLE-WARNING: \n",
      "Could not immediately identify topology for (HOH . MAIN)\n",
      "SIMPLE-WARNING: \n",
      "Could not immediately identify topology for (HOH . MAIN)\n",
      "SIMPLE-WARNING: \n",
      "Could not immediately identify topology for (HOH . MAIN)\n",
      "SIMPLE-WARNING: \n",
      "Could not immediately identify topology for (HOH . MAIN)\n",
      "SIMPLE-WARNING: \n",
      "Could not immediately identify topology for (HOH . MAIN)\n",
      "SIMPLE-WARNING: \n",
      "Could not immediately identify topology for (HOH . MAIN)\n",
      "SIMPLE-WARNING: \n",
      "Could not immediately identify topology for (HOH . MAIN)\n",
      "SIMPLE-WARNING: \n",
      "Could not immediately identify topology for (HOH . MAIN)\n",
      "SIMPLE-WARNING: \n",
      "Could not immediately identify topology for (HOH . MAIN)\n",
      "SIMPLE-WARNING: \n",
      "Could not immediately identify topology for (HOH . MAIN)\n",
      "SIMPLE-WARNING: \n",
      "Could not immediately identify topology for (HOH . MAIN)\n",
      "SIMPLE-WARNING: \n",
      "Could not immediately identify topology for (HOH . MAIN)\n",
      "SIMPLE-WARNING: \n",
      "Could not immediately identify topology for (HOH . MAIN)\n",
      "SIMPLE-WARNING: \n",
      "Could not immediately identify topology for (HOH . MAIN)\n",
      "SIMPLE-WARNING: \n",
      "Could not immediately identify topology for (HOH . MAIN)\n",
      "SIMPLE-WARNING: \n",
      "Could not immediately identify topology for (HOH . MAIN)\n",
      "SIMPLE-WARNING: \n",
      "Could not immediately identify topology for (HOH . MAIN)\n",
      "SIMPLE-WARNING: \n",
      "Could not immediately identify topology for (HOH . MAIN)\n",
      "SIMPLE-WARNING: \n",
      "Could not immediately identify topology for (HOH . MAIN)\n",
      "SIMPLE-WARNING: \n",
      "Could not immediately identify topology for (HOH . MAIN)\n",
      "SIMPLE-WARNING: \n",
      "Could not immediately identify topology for (HOH . MAIN)\n",
      "SIMPLE-WARNING: \n",
      "Could not immediately identify topology for (HOH . MAIN)\n",
      "SIMPLE-WARNING: \n",
      "Could not immediately identify topology for (HOH . MAIN)\n",
      "SIMPLE-WARNING: \n",
      "Could not immediately identify topology for (HOH . MAIN)\n",
      "SIMPLE-WARNING: \n",
      "Could not immediately identify topology for (HOH . MAIN)\n",
      "SIMPLE-WARNING: \n",
      "Could not immediately identify topology for (HOH . MAIN)\n",
      "SIMPLE-WARNING: \n",
      "Could not immediately identify topology for (HOH . MAIN)\n",
      "SIMPLE-WARNING: \n",
      "Could not immediately identify topology for (HOH . MAIN)\n",
      "SIMPLE-WARNING: \n",
      "Could not immediately identify topology for (HOH . MAIN)\n",
      "SIMPLE-WARNING: \n",
      "Could not immediately identify topology for (HOH . MAIN)\n",
      "SIMPLE-WARNING: \n",
      "Could not immediately identify topology for (HOH . MAIN)\n",
      "SIMPLE-WARNING: \n",
      "Could not immediately identify topology for (HOH . MAIN)\n",
      "SIMPLE-WARNING: \n",
      "Could not immediately identify topology for (HOH . MAIN)\n",
      "SIMPLE-WARNING: \n",
      "Could not immediately identify topology for (HOH . MAIN)\n",
      "SIMPLE-WARNING: \n",
      "Could not immediately identify topology for (HOH . MAIN)\n",
      "SIMPLE-WARNING: \n",
      "Could not immediately identify topology for (HOH . MAIN)\n",
      "SIMPLE-WARNING: \n",
      "Could not immediately identify topology for (HOH . MAIN)\n",
      "SIMPLE-WARNING: \n",
      "Could not immediately identify topology for (HOH . MAIN)\n",
      "SIMPLE-WARNING: \n",
      "Could not immediately identify topology for (HOH . MAIN)\n",
      "SIMPLE-WARNING: \n",
      "Could not immediately identify topology for (HOH . MAIN)\n",
      "SIMPLE-WARNING: \n",
      "Could not immediately identify topology for (HOH . MAIN)\n",
      "SIMPLE-WARNING: \n",
      "Could not immediately identify topology for (HOH . MAIN)\n",
      "SIMPLE-WARNING: \n",
      "Could not immediately identify topology for (HOH . MAIN)\n",
      "SIMPLE-WARNING: \n",
      "Could not immediately identify topology for (HOH . MAIN)\n",
      "SIMPLE-WARNING: \n",
      "Could not immediately identify topology for (HOH . MAIN)\n",
      "SIMPLE-WARNING: \n",
      "Could not immediately identify topology for (HOH . MAIN)\n",
      "SIMPLE-WARNING: \n",
      "Could not immediately identify topology for (HOH . MAIN)\n",
      "SIMPLE-WARNING: \n",
      "Could not immediately identify topology for (HOH . MAIN)\n",
      "SIMPLE-WARNING: \n",
      "Could not immediately identify topology for (HOH . MAIN)\n",
      "SIMPLE-WARNING: \n",
      "Could not immediately identify topology for (HOH . MAIN)\n",
      "SIMPLE-WARNING: \n",
      "Could not immediately identify topology for (HOH . MAIN)\n",
      "SIMPLE-WARNING: \n",
      "Could not immediately identify topology for (HOH . MAIN)\n",
      "SIMPLE-WARNING: \n",
      "Could not immediately identify topology for (HOH . MAIN)\n",
      "SIMPLE-WARNING: \n",
      "Could not immediately identify topology for (HOH . MAIN)\n",
      "SIMPLE-WARNING: \n",
      "Could not immediately identify topology for (HOH . MAIN)\n",
      "SIMPLE-WARNING: \n",
      "Could not immediately identify topology for (HOH . MAIN)\n",
      "SIMPLE-WARNING: \n",
      "Could not immediately identify topology for (HOH . MAIN)\n",
      "SIMPLE-WARNING: \n",
      "Could not immediately identify topology for (HOH . MAIN)\n",
      "SIMPLE-WARNING: \n",
      "Could not immediately identify topology for (HOH . MAIN)\n",
      "SIMPLE-WARNING: \n",
      "Could not immediately identify topology for (HOH . MAIN)\n",
      "SIMPLE-WARNING: \n",
      "Could not immediately identify topology for (HOH . MAIN)\n",
      "SIMPLE-WARNING: \n",
      "Could not immediately identify topology for (HOH . MAIN)\n",
      "SIMPLE-WARNING: \n",
      "Could not immediately identify topology for (HOH . MAIN)\n",
      "SIMPLE-WARNING: \n",
      "Could not immediately identify topology for (HOH . MAIN)\n",
      "SIMPLE-WARNING: \n",
      "Could not immediately identify topology for (HOH . MAIN)\n",
      "SIMPLE-WARNING: \n",
      "Could not immediately identify topology for (HOH . MAIN)\n",
      "SIMPLE-WARNING: \n",
      "Could not immediately identify topology for (HOH . TAIL)\n",
      "SIMPLE-WARNING: \n",
      "Could not identify topology for (HOH . TAIL)\n"
     ]
    },
    {
     "data": {
      "text/plain": [
       "*9LYZAGG*"
      ]
     },
     "execution_count": 39,
     "metadata": {},
     "output_type": "execute_result"
    }
   ],
   "source": [
    "(defparameter *9lyzagg* (leap.pdb:load-pdb \"9lyz.pdb\"))"
   ]
  },
  {
   "cell_type": "code",
   "execution_count": 40,
   "metadata": {},
   "outputs": [
    {
     "data": {
      "application/vnd.jupyter.widget-view+json": {
       "model_id": "8FF5DE1C-8499-458E-B280-D5FC7346975C",
       "version_major": 2,
       "version_minor": 0
      },
      "text/plain": [
       "A Jupyter Widget"
      ]
     },
     "execution_count": 40,
     "metadata": {},
     "output_type": "execute_result"
    }
   ],
   "source": [
    "(:= w (show *9lyzagg*)) w"
   ]
  },
  {
   "cell_type": "code",
   "execution_count": 41,
   "metadata": {},
   "outputs": [
    {
     "data": {
      "text/plain": [
       "NIL"
      ]
     },
     "execution_count": 41,
     "metadata": {},
     "output_type": "execute_result"
    }
   ],
   "source": [
    "(defparameter *sugar9lyz* (chem:make-molecule))\n",
    "(chem:map-residues nil (lambda (r) (if (or (string= (chem:get-name r) \"AMU\")\n",
    "                                           (string= (chem:get-name r) \"NAG\"))\n",
    "                                       (chem:add-matter *sugar9lyz* r))) *9lyzagg*)\n",
    "(defparameter *sugar9lyzagg* (chem:make-aggregate))\n",
    "(chem:add-matter *sugar9lyzagg* *sugar9lyz*)"
   ]
  },
  {
   "cell_type": "code",
   "execution_count": 42,
   "metadata": {},
   "outputs": [
    {
     "data": {
      "application/vnd.jupyter.widget-view+json": {
       "model_id": "A7BD8517-CB6B-48D7-9EF3-9591EE0222F7",
       "version_major": 2,
       "version_minor": 0
      },
      "text/plain": [
       "A Jupyter Widget"
      ]
     },
     "execution_count": 42,
     "metadata": {},
     "output_type": "execute_result"
    }
   ],
   "source": [
    "(:= v (nglv::show-aggregate *sugar9lyzagg*)) v"
   ]
  },
  {
   "cell_type": "code",
   "execution_count": 43,
   "metadata": {},
   "outputs": [
    {
     "name": "stdout",
     "output_type": "stream",
     "text": [
      "Residue: C1\n",
      "Residue: C2\n",
      "Residue: C3\n",
      "Residue: C4\n",
      "Residue: C5\n",
      "Residue: C6\n",
      "Residue: C7\n",
      "Residue: C8\n",
      "Residue: C9\n",
      "Residue: C10\n",
      "Residue: C11\n",
      "Residue: O1\n",
      "Residue: O3\n",
      "Residue: O4\n",
      "Residue: O5\n",
      "Residue: O6\n",
      "Residue: O7\n",
      "Residue: O10\n",
      "Residue: N2\n"
     ]
    },
    {
     "data": {
      "text/plain": [
       "NIL"
      ]
     },
     "execution_count": 43,
     "metadata": {},
     "output_type": "execute_result"
    }
   ],
   "source": [
    "(:= *m* (chem:content-at *sugar9lyzagg* 0))\n",
    "(:= *res* (chem:content-at *m* 0))\n",
    "(chem:map-atoms nil (lambda (a) (format t \"Residue: ~a~%\" (chem:get-name a))) *res*)"
   ]
  },
  {
   "cell_type": "code",
   "execution_count": 44,
   "metadata": {},
   "outputs": [
    {
     "data": {
      "text/plain": [
       "*ATOM*"
      ]
     },
     "execution_count": 44,
     "metadata": {},
     "output_type": "execute_result"
    }
   ],
   "source": [
    "(:= *atom* (chem:content-with-name *res* :O1))"
   ]
  },
  {
   "cell_type": "code",
   "execution_count": 45,
   "metadata": {
    "scrolled": false
   },
   "outputs": [
    {
     "data": {
      "text/plain": [
       "NIL"
      ]
     },
     "execution_count": 45,
     "metadata": {},
     "output_type": "execute_result"
    }
   ],
   "source": [
    "(chem:remove-atom-delete-bonds *res* *atom*)"
   ]
  },
  {
   "cell_type": "code",
   "execution_count": 55,
   "metadata": {},
   "outputs": [
    {
     "data": {
      "text/plain": [
       "NIL"
      ]
     },
     "execution_count": 55,
     "metadata": {},
     "output_type": "execute_result"
    }
   ],
   "source": [
    "(chem:fill-in-implicit-hydrogens *sugar9lyzagg*)"
   ]
  },
  {
   "cell_type": "code",
   "execution_count": 57,
   "metadata": {},
   "outputs": [
    {
     "name": "stdout",
     "output_type": "stream",
     "text": [
      "Building from sorted-built: (#<ATOM :C2/:C> #<ATOM :O4/:O> #<ATOM :O5/:O>)\n",
      "Building from sorted-built: (#<ATOM :C1/:C> #<ATOM :C3/:C> #<ATOM :N2/:N>)\n",
      "Hydrogens built 3.0%\n",
      "Building from sorted-built: (#<ATOM :C2/:C> #<ATOM :C4/:C> #<ATOM :O3/:O>)\n",
      "Building from sorted-built: (#<ATOM :C3/:C> #<ATOM :C5/:C> #<ATOM :O4/:O>)\n",
      "Building from sorted-built: (#<ATOM :C4/:C> #<ATOM :C6/:C> #<ATOM :O5/:O>)\n",
      "Hydrogens built 11.0%\n",
      "Building from sorted-built: (#<ATOM :C8/:C> #<ATOM :N2/:N> #<ATOM :O7/:O>)\n",
      "Building from sorted-built: (#<ATOM :C10/:C> #<ATOM :C11/:C> #<ATOM :O3/:O>)\n",
      "Hydrogens built 20.0%\n",
      "Hydrogens built 30.0%\n",
      "Building from sorted-built: (#<ATOM :C2/:C> #<ATOM :O4/:O> #<ATOM :O5/:O>)\n",
      "Building from sorted-built: (#<ATOM :C1/:C> #<ATOM :C3/:C> #<ATOM :N2/:N>)\n",
      "Hydrogens built 40.0%\n",
      "Building from sorted-built: (#<ATOM :C2/:C> #<ATOM :C4/:C> #<ATOM :O3/:O>)\n",
      "Building from sorted-built: (#<ATOM :C3/:C> #<ATOM :C5/:C> #<ATOM :O4/:O>)\n",
      "Building from sorted-built: (#<ATOM :C4/:C> #<ATOM :C6/:C> #<ATOM :O5/:O>)\n",
      "Building from sorted-built: (#<ATOM :C8/:C> #<ATOM :N2/:N> #<ATOM :O7/:O>)\n",
      "Hydrogens built 50.0%\n",
      "Hydrogens built 61.0%\n",
      "Building from sorted-built: (#<ATOM :C2/:C> #<ATOM :O1/:O> #<ATOM :O5/:O>)\n",
      "Building from sorted-built: (#<ATOM :C1/:C> #<ATOM :C3/:C> #<ATOM :N2/:N>)\n",
      "Building from sorted-built: (#<ATOM :C2/:C> #<ATOM :C4/:C> #<ATOM :O3/:O>)\n",
      "Building from sorted-built: (#<ATOM :C3/:C> #<ATOM :C5/:C> #<ATOM :O4/:O>)\n",
      "Building from sorted-built: (#<ATOM :C4/:C> #<ATOM :C6/:C> #<ATOM :O5/:O>)\n",
      "Hydrogens built 71.0%\n",
      "Building from sorted-built: (#<ATOM :C8/:C> #<ATOM :N2/:N> #<ATOM :O7/:O>)\n",
      "Hydrogens built 81.0%\n",
      "Building from sorted-built: (#<ATOM :C10/:C> #<ATOM :C11/:C> #<ATOM :O3/:O>)\n",
      "Building from sorted-built: (#<ATOM :C9/:C> #<ATOM :O10/:O> #<ATOM :O11/:O>)\n",
      "Hydrogens built 91.0%\n"
     ]
    },
    {
     "data": {
      "text/plain": [
       "59"
      ]
     },
     "execution_count": 57,
     "metadata": {},
     "output_type": "execute_result"
    }
   ],
   "source": [
    "(cando:build-unbuilt-hydrogens *sugar9lyzagg*)"
   ]
  },
  {
   "cell_type": "code",
   "execution_count": 58,
   "metadata": {},
   "outputs": [
    {
     "data": {
      "application/vnd.jupyter.widget-view+json": {
       "model_id": "99ED00AD-82D4-4CE8-9EA2-D677C05B5DAC",
       "version_major": 2,
       "version_minor": 0
      },
      "text/plain": [
       "A Jupyter Widget"
      ]
     },
     "execution_count": 58,
     "metadata": {},
     "output_type": "execute_result"
    }
   ],
   "source": [
    "(:= v (nglv::show-aggregate *sugar9lyzagg*)) v"
   ]
  },
  {
   "cell_type": "code",
   "execution_count": 59,
   "metadata": {},
   "outputs": [
    {
     "name": "stdout",
     "output_type": "stream",
     "text": [
      "atom name C1\n",
      "atom name C2\n",
      "atom name C3\n",
      "atom name C4\n",
      "atom name C5\n",
      "atom name C6\n",
      "atom name C7\n",
      "atom name C8\n",
      "atom name C9\n",
      "atom name C10\n",
      "atom name C11\n",
      "atom name O3\n",
      "atom name O4\n",
      "atom name O5\n",
      "atom name O6\n",
      "atom name O7\n",
      "atom name O10\n",
      "atom name N2\n",
      "atom name H1\n",
      "atom name H2\n",
      "atom name H3\n",
      "atom name H4\n",
      "atom name H5\n",
      "atom name H61\n",
      "atom name H62\n",
      "atom name H7\n",
      "atom name H81\n",
      "atom name H82\n",
      "atom name H83\n",
      "atom name H9\n",
      "atom name H101\n",
      "atom name H102\n",
      "atom name H111\n",
      "atom name H112\n",
      "atom name H113\n",
      "atom name H4\n",
      "atom name H6\n",
      "atom name H7\n",
      "atom name H10\n",
      "atom name H2\n",
      "atom name C1\n",
      "atom name C2\n",
      "atom name C3\n",
      "atom name C4\n",
      "atom name C5\n",
      "atom name C6\n",
      "atom name C7\n",
      "atom name C8\n",
      "atom name N2\n",
      "atom name O3\n",
      "atom name O4\n",
      "atom name O5\n",
      "atom name O6\n",
      "atom name O7\n",
      "atom name H1\n",
      "atom name H2\n",
      "atom name H3\n",
      "atom name H4\n",
      "atom name H5\n",
      "atom name H61\n",
      "atom name H62\n",
      "atom name H7\n",
      "atom name H81\n",
      "atom name H82\n",
      "atom name H83\n",
      "atom name H2\n",
      "atom name H3\n",
      "atom name H6\n",
      "atom name H7\n",
      "atom name C1\n",
      "atom name C2\n",
      "atom name C3\n",
      "atom name C4\n",
      "atom name C5\n",
      "atom name C6\n",
      "atom name C7\n",
      "atom name C8\n",
      "atom name C9\n",
      "atom name C10\n",
      "atom name C11\n",
      "atom name O1\n",
      "atom name O3\n",
      "atom name O4\n",
      "atom name O5\n",
      "atom name O6\n",
      "atom name O7\n",
      "atom name O10\n",
      "atom name O11\n",
      "atom name N2\n",
      "atom name H1\n",
      "atom name H2\n",
      "atom name H3\n",
      "atom name H4\n",
      "atom name H5\n",
      "atom name H61\n",
      "atom name H62\n",
      "atom name H7\n",
      "atom name H81\n",
      "atom name H82\n",
      "atom name H83\n",
      "atom name H9\n",
      "atom name H10\n",
      "atom name H111\n",
      "atom name H112\n",
      "atom name H113\n",
      "atom name H1\n",
      "atom name H6\n",
      "atom name H7\n",
      "atom name H10\n",
      "atom name H11\n",
      "atom name H2\n",
      "key 110191 sign 1.0\n",
      "key 110111 sign 1.0\n",
      "key 110131 sign 1.0\n",
      "key 110131 sign 1.0\n",
      "key 110191 sign 1.0\n",
      "key 110111 sign 1.0\n",
      "key 110111 sign 1.0\n",
      "key 110121 sign 1.0\n",
      "key 110191 sign 1.0\n",
      "key 110111 sign 1.0\n",
      "key 110111 sign 1.0\n",
      "key 110131 sign 1.0\n",
      "key 110191 sign 1.0\n",
      "key 110111 sign 1.0\n",
      "key 110111 sign 1.0\n",
      "key 110131 sign 1.0\n",
      "key 110191 sign 1.0\n",
      "key 110111 sign 1.0\n",
      "key 110111 sign 1.0\n",
      "key 110131 sign 1.0\n",
      "key 110191 sign 1.0\n",
      "key 110191 sign 1.0\n",
      "key 110111 sign 1.0\n",
      "key 110131 sign 1.0\n",
      "key 110191 sign 1.0\n",
      "key 110111 sign 1.0\n",
      "key 110131 sign 1.0\n",
      "key 110121 sign 1.0\n",
      "key 110191 sign 1.0\n",
      "key 110191 sign 1.0\n",
      "key 110191 sign 1.0\n",
      "key 110111 sign 1.0\n",
      "key 110191 sign 1.0\n",
      "key 110111 sign 1.0\n",
      "key 110111 sign 1.0\n",
      "key 110131 sign 1.0\n",
      "key 110191 sign 1.0\n",
      "key 110191 sign 1.0\n",
      "key 110111 sign 1.0\n",
      "key 110131 sign 1.0\n",
      "key 110191 sign 1.0\n",
      "key 110191 sign 1.0\n",
      "key 110191 sign 1.0\n",
      "key 110111 sign 1.0\n",
      "key 110131 sign -1.0\n",
      "key 110131 sign -1.0\n",
      "key 310191 sign 1.0\n",
      "key 110131 sign -1.0\n",
      "key 110131 sign -1.0\n",
      "key 110131 sign -1.0\n",
      "key 310191 sign 1.0\n",
      "key 110131 sign -1.0\n",
      "key 310191 sign 1.0\n",
      "key 110131 sign -1.0\n",
      "key 310191 sign 1.0\n",
      "key 110131 sign -1.0\n",
      "key 210191 sign 1.0\n",
      "key 110121 sign -1.0\n",
      "key 110121 sign -1.0\n",
      "key 110191 sign -1.0\n",
      "key 110191 sign -1.0\n",
      "key 110191 sign -1.0\n",
      "key 110191 sign -1.0\n",
      "key 110191 sign -1.0\n",
      "key 110191 sign -1.0\n",
      "key 110191 sign -1.0\n",
      "key 110191 sign -1.0\n",
      "key 110191 sign -1.0\n",
      "key 110191 sign -1.0\n",
      "key 110191 sign -1.0\n",
      "key 110191 sign -1.0\n",
      "key 110191 sign -1.0\n",
      "key 110191 sign -1.0\n",
      "key 110191 sign -1.0\n",
      "key 110191 sign -1.0\n",
      "key 110191 sign -1.0\n",
      "key 310191 sign -1.0\n",
      "key 310191 sign -1.0\n",
      "key 310191 sign -1.0\n",
      "key 310191 sign -1.0\n",
      "key 210191 sign -1.0\n",
      "key 110191 sign 1.0\n",
      "key 110111 sign 1.0\n",
      "key 110131 sign 1.0\n",
      "key 110131 sign 1.0\n",
      "key 110191 sign 1.0\n",
      "key 110111 sign 1.0\n",
      "key 110111 sign 1.0\n",
      "key 110121 sign 1.0\n",
      "key 110191 sign 1.0\n",
      "key 110111 sign 1.0\n",
      "key 110111 sign 1.0\n",
      "key 110131 sign 1.0\n",
      "key 110191 sign 1.0\n",
      "key 110111 sign 1.0\n",
      "key 110111 sign 1.0\n",
      "key 110131 sign 1.0\n",
      "key 110191 sign 1.0\n",
      "key 110111 sign 1.0\n",
      "key 110111 sign 1.0\n",
      "key 110131 sign 1.0\n",
      "key 110191 sign 1.0\n",
      "key 110191 sign 1.0\n",
      "key 110111 sign 1.0\n",
      "key 110131 sign 1.0\n",
      "key 110191 sign 1.0\n",
      "key 110111 sign 1.0\n",
      "key 110121 sign 1.0\n",
      "key 110131 sign 1.0\n",
      "key 110191 sign 1.0\n",
      "key 110191 sign 1.0\n",
      "key 110191 sign 1.0\n",
      "key 110111 sign 1.0\n",
      "key 210191 sign 1.0\n",
      "key 110121 sign -1.0\n",
      "key 110121 sign -1.0\n",
      "key 310191 sign 1.0\n",
      "key 110131 sign -1.0\n",
      "key 110131 sign -1.0\n",
      "key 110131 sign -1.0\n",
      "key 110131 sign -1.0\n",
      "key 110131 sign -1.0\n",
      "key 310191 sign 1.0\n",
      "key 110131 sign -1.0\n",
      "key 310191 sign 1.0\n",
      "key 110131 sign -1.0\n",
      "key 110191 sign -1.0\n",
      "key 110191 sign -1.0\n",
      "key 110191 sign -1.0\n",
      "key 110191 sign -1.0\n",
      "key 110191 sign -1.0\n",
      "key 110191 sign -1.0\n",
      "key 110191 sign -1.0\n",
      "key 110191 sign -1.0\n",
      "key 110191 sign -1.0\n",
      "key 110191 sign -1.0\n",
      "key 110191 sign -1.0\n",
      "key 210191 sign -1.0\n",
      "key 310191 sign -1.0\n",
      "key 310191 sign -1.0\n",
      "key 310191 sign -1.0\n",
      "key 110191 sign 1.0\n",
      "key 110111 sign 1.0\n",
      "key 110131 sign 1.0\n",
      "key 110131 sign 1.0\n",
      "key 110191 sign 1.0\n",
      "key 110111 sign 1.0\n",
      "key 110111 sign 1.0\n",
      "key 110121 sign 1.0\n",
      "key 110191 sign 1.0\n",
      "key 110111 sign 1.0\n",
      "key 110111 sign 1.0\n",
      "key 110131 sign 1.0\n",
      "key 110191 sign 1.0\n",
      "key 110111 sign 1.0\n",
      "key 110111 sign 1.0\n",
      "key 110131 sign 1.0\n",
      "key 110191 sign 1.0\n",
      "key 110111 sign 1.0\n",
      "key 110111 sign 1.0\n",
      "key 110131 sign 1.0\n",
      "key 110191 sign 1.0\n",
      "key 110191 sign 1.0\n",
      "key 110111 sign 1.0\n",
      "key 110131 sign 1.0\n",
      "key 110191 sign 1.0\n",
      "key 110111 sign 1.0\n",
      "key 110131 sign 1.0\n",
      "key 110121 sign 1.0\n",
      "key 110191 sign 1.0\n",
      "key 110191 sign 1.0\n",
      "key 110191 sign 1.0\n",
      "key 110111 sign 1.0\n",
      "key 110191 sign 1.0\n",
      "key 110111 sign 1.0\n",
      "key 110111 sign 1.0\n",
      "key 110131 sign 1.0\n",
      "key 110191 sign 1.0\n",
      "key 110111 sign 1.0\n",
      "key 110131 sign 1.0\n",
      "key 110131 sign 1.0\n",
      "key 110191 sign 1.0\n",
      "key 110191 sign 1.0\n",
      "key 110191 sign 1.0\n",
      "key 110111 sign 1.0\n",
      "key 310191 sign 1.0\n",
      "key 110131 sign -1.0\n",
      "key 110131 sign -1.0\n",
      "key 110131 sign -1.0\n",
      "key 110131 sign -1.0\n",
      "key 110131 sign -1.0\n",
      "key 110131 sign -1.0\n",
      "key 110131 sign -1.0\n",
      "key 310191 sign 1.0\n",
      "key 110131 sign -1.0\n",
      "key 310191 sign 1.0\n",
      "key 110131 sign -1.0\n",
      "key 310191 sign 1.0\n",
      "key 110131 sign -1.0\n",
      "key 310191 sign 1.0\n",
      "key 110131 sign -1.0\n",
      "key 210191 sign 1.0\n",
      "key 110121 sign -1.0\n",
      "key 110121 sign -1.0\n",
      "key 110191 sign -1.0\n",
      "key 110191 sign -1.0\n",
      "key 110191 sign -1.0\n",
      "key 110191 sign -1.0\n",
      "key 110191 sign -1.0\n",
      "key 110191 sign -1.0\n",
      "key 110191 sign -1.0\n",
      "key 110191 sign -1.0\n",
      "key 110191 sign -1.0\n",
      "key 110191 sign -1.0\n",
      "key 110191 sign -1.0\n",
      "key 110191 sign -1.0\n",
      "key 110191 sign -1.0\n",
      "key 110191 sign -1.0\n",
      "key 110191 sign -1.0\n",
      "key 110191 sign -1.0\n",
      "key 310191 sign -1.0\n",
      "key 310191 sign -1.0\n",
      "key 310191 sign -1.0\n",
      "key 310191 sign -1.0\n",
      "key 310191 sign -1.0\n",
      "key 210191 sign -1.0\n"
     ]
    },
    {
     "data": {
      "text/plain": [
       "*C*"
      ]
     },
     "execution_count": 59,
     "metadata": {},
     "output_type": "execute_result"
    }
   ],
   "source": [
    "(:= *c* (charges:calculate-am1-bcc-corrections *sugar9lyzagg*))"
   ]
  },
  {
   "cell_type": "code",
   "execution_count": 60,
   "metadata": {},
   "outputs": [
    {
     "data": {
      "text/plain": [
       "#<HASH-TABLE-EQL :count 111 :total-alist-entries 111 @0x12074fb48> "
      ]
     },
     "execution_count": 60,
     "metadata": {},
     "output_type": "execute_result"
    }
   ],
   "source": [
    "*c*"
   ]
  },
  {
   "cell_type": "code",
   "execution_count": 17,
   "metadata": {},
   "outputs": [
    {
     "name": "stdout",
     "output_type": "stream",
     "text": [
      "type CT\n",
      "type C\n",
      "type O\n",
      "type HC\n",
      "type HC\n",
      "type HC\n",
      "type CX\n",
      "type N\n",
      "type H1\n",
      "type CT\n",
      "type C\n",
      "type O\n",
      "type HC\n",
      "type HC\n",
      "type HC\n",
      "type H\n",
      "type N\n",
      "type CT\n",
      "type H1\n",
      "type H1\n",
      "type H1\n",
      "type H\n"
     ]
    },
    {
     "data": {
      "text/plain": [
       "NIL"
      ]
     },
     "execution_count": 17,
     "metadata": {},
     "output_type": "execute_result"
    }
   ],
   "source": [
    "(chem:map-atoms nil (lambda (r) (format t \"type ~a~%\" (chem:get-type r))) *ala*)"
   ]
  },
  {
   "cell_type": "code",
   "execution_count": 22,
   "metadata": {},
   "outputs": [
    {
     "data": {
      "text/plain": [
       "*B*"
      ]
     },
     "execution_count": 22,
     "metadata": {},
     "output_type": "execute_result"
    }
   ],
   "source": [
    "(:= *b* (picked-atoms *picks* *ala* 1))"
   ]
  },
  {
   "cell_type": "code",
   "execution_count": 23,
   "metadata": {},
   "outputs": [
    {
     "data": {
      "text/plain": [
       "(#<ATOM :NH/:N>)"
      ]
     },
     "execution_count": 23,
     "metadata": {},
     "output_type": "execute_result"
    }
   ],
   "source": [
    "*b*"
   ]
  },
  {
   "cell_type": "code",
   "execution_count": null,
   "metadata": {
    "collapsed": true
   },
   "outputs": [],
   "source": []
  }
 ],
 "metadata": {
  "kernelspec": {
   "display_name": "Cando",
   "language": "lisp",
   "name": "lisp"
  },
  "language_info": {
   "codemirror_mode": "text/x-common-lisp",
   "mimetype": "text/x-common-lisp",
   "name": "common-lisp",
   "pygments_lexer": "common-lisp",
   "version": "X3J13"
  }
 },
 "nbformat": 4,
 "nbformat_minor": 2
}
