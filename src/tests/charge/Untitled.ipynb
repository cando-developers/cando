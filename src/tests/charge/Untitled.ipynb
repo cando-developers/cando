{
 "cells": [
  {
   "cell_type": "code",
   "execution_count": null,
   "metadata": {},
   "outputs": [],
   "source": [
    "1"
   ]
  },
  {
   "cell_type": "code",
   "execution_count": 26,
   "metadata": {},
   "outputs": [
    {
     "data": {
      "text/plain": [
       "T"
      ]
     },
     "execution_count": 26,
     "metadata": {},
     "output_type": "execute_result"
    }
   ],
   "source": [
    "(start-swank)"
   ]
  },
  {
   "cell_type": "code",
   "execution_count": 2,
   "metadata": {},
   "outputs": [
    {
     "data": {
      "text/plain": [
       "*ALA*"
      ]
     },
     "execution_count": 2,
     "metadata": {},
     "output_type": "execute_result"
    }
   ],
   "source": [
    "(:= *ala* (load-mol2 \"alanine2.mol2\"))"
   ]
  },
  {
   "cell_type": "code",
   "execution_count": 3,
   "metadata": {},
   "outputs": [
    {
     "data": {
      "application/vnd.jupyter.widget-view+json": {
       "model_id": "D2D9915E-266F-4C08-ADA3-34744BAAAFAD",
       "version_major": 2,
       "version_minor": 0
      },
      "text/plain": [
       "A Jupyter Widget"
      ]
     },
     "execution_count": 3,
     "metadata": {},
     "output_type": "execute_result"
    }
   ],
   "source": [
    "(:= v (nglv:show-aggregate *ala*))\n",
    "v"
   ]
  },
  {
   "cell_type": "code",
   "execution_count": 4,
   "metadata": {},
   "outputs": [
    {
     "data": {
      "text/plain": [
       "(#P\"/Users/tuj24515/Development/amber16/dat/antechamber/\"\n",
       " #P\"/Users/tuj24515/Development/amber16/dat/leap/cmd/\"\n",
       " #P\"/Users/tuj24515/Development/amber16/dat/leap/parm/\"\n",
       " #P\"/Users/tuj24515/Development/amber16/dat/leap/lib/\"\n",
       " #P\"/Users/tuj24515/Development/amber16/dat/leap/prep/\"\n",
       " #P\"/Users/tuj24515/Development/clasp/extensions/cando/src/tests/pdbfile/\")"
      ]
     },
     "execution_count": 4,
     "metadata": {},
     "output_type": "execute_result"
    }
   ],
   "source": [
    "(leap.core::clear-path)\n",
    "(add-path \"~/Development/clasp/extensions/cando/src/tests/pdbfile/\")\n",
    "(add-path \"~/Development/amber16/dat/leap/prep/\")\n",
    "(add-path \"~/Development/amber16/dat/leap/lib/\")\n",
    "(add-path \"~/Development/amber16/dat/leap/parm/\")\n",
    "(add-path \"~/Development/amber16/dat/leap/cmd/\")\n",
    "(add-path \"~/Development/amber16/dat/antechamber/\")"
   ]
  },
  {
   "cell_type": "code",
   "execution_count": 5,
   "metadata": {},
   "outputs": [
    {
     "name": "stderr",
     "output_type": "stream",
     "text": [
      "SIMPLE-WARNING: \n",
      "add-atom-types doesn't do anything\n",
      "SIMPLE-WARNING: \n",
      "Warning!  Skipping 10-12 hbond\n",
      "SIMPLE-WARNING: \n",
      "Warning!  Skipping force field atom equivalences\n"
     ]
    },
    {
     "data": {
      "text/plain": [
       "T"
      ]
     },
     "execution_count": 5,
     "metadata": {},
     "output_type": "execute_result"
    }
   ],
   "source": [
    "(clear-force-field)\n",
    "(source \"leaprc.protein.ff14SB\")"
   ]
  },
  {
   "cell_type": "code",
   "execution_count": 6,
   "metadata": {},
   "outputs": [
    {
     "data": {
      "text/plain": [
       "*FF*"
      ]
     },
     "execution_count": 6,
     "metadata": {},
     "output_type": "execute_result"
    }
   ],
   "source": [
    "(load-atom-type-rules \"ATOMTYPE_AMBER.DEF\")\n",
    "(load-atom-type-rules \"water_amber.def\")\n",
    "(:= *ff* (leap.core::merged-force-field))"
   ]
  },
  {
   "cell_type": "code",
   "execution_count": 7,
   "metadata": {},
   "outputs": [
    {
     "data": {
      "text/plain": [
       "NIL"
      ]
     },
     "execution_count": 7,
     "metadata": {},
     "output_type": "execute_result"
    }
   ],
   "source": [
    "(build-hydrogens *ala*)"
   ]
  },
  {
   "cell_type": "code",
   "execution_count": 8,
   "metadata": {},
   "outputs": [
    {
     "data": {
      "application/vnd.jupyter.widget-view+json": {
       "model_id": "19141ACF-931E-4A06-B0A3-ADE9B3363D9D",
       "version_major": 2,
       "version_minor": 0
      },
      "text/plain": [
       "A Jupyter Widget"
      ]
     },
     "execution_count": 8,
     "metadata": {},
     "output_type": "execute_result"
    }
   ],
   "source": [
    "(:= v (nglv:show-aggregate *ala*))\n",
    "v"
   ]
  },
  {
   "cell_type": "code",
   "execution_count": 9,
   "metadata": {},
   "outputs": [
    {
     "data": {
      "text/plain": [
       "NIL"
      ]
     },
     "execution_count": 9,
     "metadata": {},
     "output_type": "execute_result"
    }
   ],
   "source": [
    "(progn\n",
    "  (defparameter *stereocenters*\n",
    "    (sort (cando:gather-stereocenters *ala*) #'string< :key #'chem:get-name))\n",
    "  (cando:set-stereoisomer-func *stereocenters* (constantly :S) :show t)\n",
    "  (let ((quat-matcher (core:make-cxx-object 'chem:chem-info)))\n",
    "    (chem:compile-smarts quat-matcher \"[C&H0&D4]\")\n",
    "    (chem:map-atoms nil (lambda (a) (when (chem:matches quat-matcher a)\n",
    "                  (chem:set-configuration a :S)\n",
    "                  (format t \"Set atom ~a to :S~%\" (chem:get-name a))))\n",
    "            *ala*)))"
   ]
  },
  {
   "cell_type": "code",
   "execution_count": 10,
   "metadata": {},
   "outputs": [
    {
     "data": {
      "text/plain": [
       "NIL"
      ]
     },
     "execution_count": 10,
     "metadata": {},
     "output_type": "execute_result"
    }
   ],
   "source": [
    "(assign-atom-types *ala*)\n",
    "(chem:map-atoms 'nil (lambda (a) (if (eq (chem:get-type a) :CT)\n",
    "                                     (if (eq (chem:get-name a) :C)\n",
    "                                         (chem:set-type a :CX)))) *ala*)"
   ]
  },
  {
   "cell_type": "code",
   "execution_count": 11,
   "metadata": {},
   "outputs": [
    {
     "data": {
      "text/plain": [
       "NIL"
      ]
     },
     "execution_count": 11,
     "metadata": {},
     "output_type": "execute_result"
    }
   ],
   "source": [
    "(cando:jostle *ala*)"
   ]
  },
  {
   "cell_type": "code",
   "execution_count": 12,
   "metadata": {},
   "outputs": [
    {
     "name": "stdout",
     "output_type": "stream",
     "text": [
      "======= Starting Steepest Descent Minimizer\n",
      "---Stage-Seconds--Step-----Alpha---Dir-------------Energy-----------RMSforce\n",
      " minSDnP       0     1  0.000000   0.0              0.000          17627.752\n",
      " minSDnP       0     2  0.000352   0.0        2803286.431           6663.063\n",
      "DONE absolute force test:\n",
      "forceRmsMag(4833.180441).LT.forceTolerance(5000.000000)\n",
      "======= Starting Conjugate Gradient Minimizer\n",
      " minCGnP       0     3  0.000000   0.0              0.000           4833.180\n",
      " minCGnP       0     4  0.000436  38.4        1832775.488           3825.011\n",
      " minCGnP       0     5  0.001331  42.4        1202515.918           2167.064\n",
      " minCGnP       0     6  0.000708  57.0        1091303.674           2495.301\n",
      " minCGnP       0     7  0.002217  67.5         636271.739           3350.535\n",
      " minCGnP       0     8  0.000739  60.0         363346.964           2070.797\n",
      " minCGnP       0     9  0.000819  59.8         248284.781           1767.379\n",
      " minCGnP       0    10  0.001098  64.4         136245.492           1850.217\n",
      "---Stage-Seconds--Step-----Alpha---Dir-------------Energy-----------RMSforce\n",
      " minCGnP       0    11  0.000799  50.1          55026.889            938.724\n",
      " minCGnP       0    12  0.000689  49.2          34799.125            658.913\n",
      " minCGnP       0    13  0.000960  56.1          21577.750            618.808\n",
      " minCGnP       0    14  0.000712  54.1          12932.389            414.752\n",
      " minCGnP       0    15  0.000915  51.5           7973.729            250.693\n",
      " minCGnP       0    16  0.001011  58.7           5931.444            270.566\n",
      " minCGnP       0    17  0.001051  58.4           3529.161            223.460\n",
      " minCGnP       0    18  0.000911  58.5           2072.361            166.528\n",
      " minCGnP       0    19  0.000872  56.4           1272.218            114.754\n",
      " minCGnP       0    20  0.001007  54.2            832.354             90.288\n",
      "---Stage-Seconds--Step-----Alpha---Dir-------------Energy-----------RMSforce\n",
      " minCGnP       0    21  0.000829  53.4            607.449             70.131\n",
      " minCGnP       0    22  0.000680  47.0            496.698             47.394\n",
      " minCGnP       0    23  0.001228  58.0            407.263             51.388\n",
      " minCGnP       0    24  0.000772  54.2            338.194             41.924\n",
      " minCGnP       0    25  0.000798  50.7            292.032             32.617\n",
      " minCGnP       0    26  0.001398  60.4            242.638             36.253\n",
      " minCGnP       0    27  0.000873  52.1            202.621             29.635\n",
      " minCGnP       0    28  0.000782  50.4            179.768             25.177\n",
      " minCGnP       0    29  0.001223  54.4            153.948             23.705\n",
      " minCGnP       0    30  0.001016  52.2            134.907             18.914\n",
      "---Stage-Seconds--Step-----Alpha---Dir-------------Energy-----------RMSforce\n",
      " minCGnP       0    31  0.001146  51.9            120.794             16.971\n",
      " minCGnP       0    32  0.001033  52.3            110.819             15.784\n",
      " minCGnP       0    33  0.001143  56.5            101.422             15.107\n",
      " minCGnP       0    34  0.000958  58.5             94.198             13.411\n",
      " minCGnP       0    35  0.001457  65.1             85.116             16.327\n",
      " minCGnP       0    36  0.001228  61.1             73.525             17.514\n",
      " minCGnP       0    37  0.001282  52.8             59.781             16.546\n",
      " minCGnP       0    38  0.001349  49.8             47.506             14.014\n",
      " minCGnP       0    39  0.000907  52.3             41.608             12.013\n",
      " minCGnP       0    40  0.000838  51.9             37.617              9.461\n",
      "---Stage-Seconds--Step-----Alpha---Dir-------------Energy-----------RMSforce\n",
      " minCGnP       0    41  0.001367  57.3             33.596              9.018\n",
      " minCGnP       0    42  0.000956  57.5             31.024              7.630\n",
      " minCGnP       0    43  0.001442  60.2             28.238              7.352\n",
      " minCGnP       0    44  0.001248  61.5             26.006              6.906\n",
      " minCGnP       0    45  0.001004  63.3             24.418              6.657\n",
      " minCGnP       0    46  0.001046  61.8             22.886              5.689\n",
      " minCGnP       0    47  0.001157  62.4             21.663              5.008\n",
      " minCGnP       0    48  0.001696  66.9             20.249              5.323\n",
      " minCGnP       0    49  0.001050  66.7             19.273              4.825\n",
      " minCGnP       0    50  0.000830  62.9             18.637              3.663\n",
      "---Stage-Seconds--Step-----Alpha---Dir-------------Energy-----------RMSforce\n",
      " minCGnP       0    51  0.001495  66.1             17.968              3.865\n",
      " minCGnP       0    52  0.001270  68.5             17.341              4.067\n",
      " minCGnP       0    53  0.001334  70.5             16.613              4.201\n",
      " minCGnP       0    54  0.001395  70.4             15.805              3.898\n",
      " minCGnP       0    55  0.000837  69.5             15.385              3.506\n",
      " minCGnP       0    56  0.001312  69.3             14.853              3.258\n",
      " minCGnP       0    57  0.001452  69.4             14.347              3.041\n",
      " minCGnP       0    58  0.001295  68.6             13.951              2.707\n",
      " minCGnP       0    59  0.000898  66.6             13.733              2.316\n",
      " minCGnP       0    60  0.001139  68.8             13.531              2.403\n",
      "---Stage-Seconds--Step-----Alpha---Dir-------------Energy-----------RMSforce\n",
      " minCGnP       0    61  0.001506  71.7             13.244              2.627\n",
      " minCGnP       0    62  0.001171  71.2             12.979              2.399\n",
      " minCGnP       0    63  0.001172  69.9             12.757              2.084\n",
      " minCGnP       0    64  0.001589  74.3             12.529              2.520\n",
      " minCGnP       0    65  0.001192  76.7             12.280              2.858\n",
      " minCGnP       0    66  0.001206  76.2             11.953              2.717\n",
      " minCGnP       0    67  0.001404  75.4             11.610              2.550\n",
      " minCGnP       0    68  0.001643  75.9             11.258              2.591\n",
      " minCGnP       0    69  0.001068   0.0             11.020              2.615\n",
      " minCGnP       0    70  0.000551  37.5             10.896              2.006\n",
      "---Stage-Seconds--Step-----Alpha---Dir-------------Energy-----------RMSforce\n",
      " minCGnP       0    71  0.001789  48.5             10.658              1.794\n",
      " minCGnP       0    72  0.000732  46.7             10.581              1.257\n",
      " minCGnP       0    73  0.001491  55.3             10.503              1.248\n",
      " minCGnP       0    74  0.001108  53.2             10.446              0.948\n",
      " minCGnP       0    75  0.001721  58.5             10.395              0.931\n",
      " minCGnP       0    76  0.002502  72.5             10.323              1.542\n",
      " minCGnP       0    77  0.001508  71.0             10.205              1.345\n",
      " minCGnP       0    78  0.000711  66.6             10.162              1.012\n",
      " minCGnP       0    79  0.001568  73.5             10.109              1.356\n",
      " minCGnP       0    80  0.001445  74.5             10.022              1.401\n",
      "---Stage-Seconds--Step-----Alpha---Dir-------------Energy-----------RMSforce\n",
      " minCGnP       0    81  0.001234  75.5              9.941              1.467\n",
      " minCGnP       0    82  0.001720  77.0              9.819              1.621\n",
      " minCGnP       0    83  0.001493  74.5              9.691              1.271\n",
      " minCGnP       0    84  0.001584  76.6              9.606              1.398\n",
      " minCGnP       0    85  0.000813  75.1              9.554              1.212\n",
      " minCGnP       0    86  0.001098  72.6              9.501              0.994\n",
      " minCGnP       0    87  0.001723  75.3              9.444              1.146\n",
      " minCGnP       0    88  0.001262  71.8              9.390              0.880\n",
      " minCGnP       0    89  0.001467  76.4              9.352              1.132\n",
      " minCGnP       0    90  0.001449  79.1              9.291              1.382\n",
      "---Stage-Seconds--Step-----Alpha---Dir-------------Energy-----------RMSforce\n",
      " minCGnP       0    91  0.001055  75.5              9.225              1.013\n",
      " minCGnP       0    92  0.000783  74.3              9.198              0.901\n",
      " minCGnP       0    93  0.002782  78.8              9.124              1.215\n",
      " minCGnP       0    94  0.001165  75.5              9.067              0.914\n",
      " minCGnP       0    95  0.001344  79.4              9.030              1.227\n",
      " minCGnP       0    96  0.000917  73.6              8.984              0.770\n",
      " minCGnP       0    97  0.001814  78.8              8.949              1.098\n",
      " minCGnP       0    98  0.001465  78.6              8.890              1.065\n",
      " minCGnP       0    99  0.000967  77.1              8.854              0.913\n",
      " minCGnP       0   100  0.001596  79.5              8.810              1.099\n",
      "---Stage-Seconds--Step-----Alpha---Dir-------------Energy-----------RMSforce\n",
      " minCGnP       0   101  0.000743  75.5              8.781              0.773\n",
      " minCGnP       0   102  0.001560  78.6              8.750              0.960\n",
      " minCGnP       0   103  0.001583  75.9              8.702              0.762\n",
      " minCGnP       0   104  0.001188  73.3              8.679              0.619\n",
      " minCGnP       0   105  0.000927  73.8              8.667              0.612\n",
      " minCGnP       0   106  0.001297  76.8              8.651              0.726\n",
      "DONE absolute force test:\n",
      "forceRmsMag(0.497918).LT.forceTolerance(0.500000)\n",
      "======= Starting Steepest Descent Minimizer\n",
      " minSDnP       0   107  0.000000   0.0              0.000          62060.250\n",
      " minSDnP       0   108  0.000001   0.0          27886.250          29762.886\n",
      " minSDnP       0   109  0.000001   0.0          11402.739           7112.153\n",
      "DONE absolute force test:\n",
      "forceRmsMag(2671.292948).LT.forceTolerance(5000.000000)\n",
      "======= Starting Conjugate Gradient Minimizer\n",
      " minCGnP       0   110  0.000000   0.0              0.000           2671.293\n",
      "---Stage-Seconds--Step-----Alpha---Dir-------------Energy-----------RMSforce\n",
      " minCGnP       0   111  0.000011  12.8           2008.826            606.074\n",
      " minCGnP       0   112  0.000076  17.0           1364.580            130.471\n",
      " minCGnP       0   113  0.000190  39.9           1265.076            105.688\n",
      " minCGnP       0   114  0.000296  39.1           1160.980             64.497\n",
      " minCGnP       0   115  0.000193  40.5           1135.593             43.888\n",
      " minCGnP       0   116  0.000466  51.5           1106.051             40.347\n",
      " minCGnP       0   117  0.000170  47.0           1097.055             25.625\n",
      " minCGnP       0   118  0.000393  51.0           1088.647             21.493\n",
      " minCGnP       0   119  0.000394  58.6           1082.613             22.508\n",
      " minCGnP       0   120  0.000240  43.8           1078.562             11.380\n",
      "---Stage-Seconds--Step-----Alpha---Dir-------------Energy-----------RMSforce\n",
      " minCGnP       0   121  0.000541  62.5           1076.247             15.715\n",
      " minCGnP       0   122  0.000213  55.3           1074.523             10.736\n",
      " minCGnP       0   123  0.000807  69.4           1071.468             16.374\n",
      " minCGnP       0   124  0.000300  70.8           1068.774             16.734\n",
      " minCGnP       0   125  0.000526  71.8           1064.067             15.893\n",
      " minCGnP       0   126  0.000252  71.4           1061.958             14.229\n",
      " minCGnP       0   127  0.000365  69.7           1059.491             13.256\n",
      " minCGnP       0   128  0.000347  68.2           1057.460             12.240\n",
      " minCGnP       0   129  0.000443  71.1           1055.302             12.780\n",
      " minCGnP       0   130  0.000288  72.7           1053.759             12.653\n",
      "---Stage-Seconds--Step-----Alpha---Dir-------------Energy-----------RMSforce\n",
      " minCGnP       0   131  0.000280  56.9           1052.253              6.122\n",
      " minCGnP       0   132  0.000390  65.1           1051.774              7.303\n",
      " minCGnP       0   133  0.000271  60.2           1051.297              5.393\n",
      " minCGnP       0   134  0.000328  64.5           1050.981              5.623\n",
      " minCGnP       0   135  0.000481  65.5           1050.479              5.303\n",
      " minCGnP       0   136  0.000201  59.8           1050.292              3.762\n",
      " minCGnP       0   137  0.000439  59.6           1050.087              3.182\n",
      " minCGnP       0   138  0.000267  64.0           1049.997              3.300\n",
      " minCGnP       0   139  0.000450  66.1           1049.836              3.251\n",
      " minCGnP       0   140  0.000313  65.6           1049.727              2.909\n",
      "---Stage-Seconds--Step-----Alpha---Dir-------------Energy-----------RMSforce\n",
      " minCGnP       0   141  0.000473  70.2           1049.595              3.343\n",
      " minCGnP       0   142  0.000201  63.6           1049.521              2.282\n",
      " minCGnP       0   143  0.000782  71.6           1049.387              3.058\n",
      " minCGnP       0   144  0.000220  67.5           1049.319              2.331\n",
      " minCGnP       0   145  0.000485  73.3           1049.232              2.970\n",
      " minCGnP       0   146  0.000316  69.0           1049.140              2.239\n",
      " minCGnP       0   147  0.000320  72.1           1049.087              2.479\n",
      " minCGnP       0   148  0.000337  65.4           1049.018              1.675\n",
      " minCGnP       0   149  0.000473  73.1           1048.975              2.284\n",
      " minCGnP       0   150  0.000274  70.6           1048.927              1.877\n",
      "---Stage-Seconds--Step-----Alpha---Dir-------------Energy-----------RMSforce\n",
      " minCGnP       0   151  0.000432  73.6           1048.877              2.129\n",
      " minCGnP       0   152  0.000365  70.5           1048.823              1.697\n",
      " minCGnP       0   153  0.000308  74.3           1048.794              2.006\n",
      " minCGnP       0   154  0.000483  74.0           1048.729              1.903\n",
      " minCGnP       0   155  0.000405  77.7           1048.681              2.403\n",
      " minCGnP       0   156  0.000310  74.4           1048.622              1.851\n",
      " minCGnP       0   157  0.000312  71.7           1048.587              1.508\n",
      " minCGnP       0   158  0.000303  71.1           1048.564              1.385\n",
      " minCGnP       0   159  0.000363  75.6           1048.541              1.745\n",
      " minCGnP       0   160  0.000534  74.8           1048.487              1.601\n",
      "---Stage-Seconds--Step-----Alpha---Dir-------------Energy-----------RMSforce\n",
      " minCGnP       0   161  0.000523  80.1           1048.443              2.400\n",
      " minCGnP       0   162  0.000264  75.8           1048.393              1.617\n",
      " minCGnP       0   163  0.000370  77.5           1048.361              1.778\n",
      " minCGnP       0   164  0.000483  77.8           1048.311              1.802\n",
      " minCGnP       0   165  0.000252  77.4           1048.284              1.702\n",
      " minCGnP       0   166  0.000496  77.7           1048.236              1.705\n",
      " minCGnP       0   167  0.000361  80.6           1048.202              2.184\n",
      " minCGnP       0   168  0.000401  77.7           1048.139              1.604\n",
      " minCGnP       0   169  0.000283  77.1           1048.115              1.494\n",
      " minCGnP       0   170  0.000521  80.6           1048.076              2.024\n",
      "---Stage-Seconds--Step-----Alpha---Dir-------------Energy-----------RMSforce\n",
      " minCGnP       0   171  0.000248  78.2           1048.043              1.579\n",
      " minCGnP       0   172  0.000920  82.2           1047.967              2.368\n",
      " minCGnP       0   173  0.000214  79.9           1047.927              1.807\n",
      " minCGnP       0   174  0.000451  81.0           1047.879              1.997\n",
      " minCGnP       0   175  0.000283  77.9           1047.841              1.447\n",
      " minCGnP       0   176  0.000377   0.0           1047.815              1.815\n",
      " minCGnP       0   177  0.000142  28.2           1047.800              0.973\n",
      " minCGnP       0   178  0.000689  53.2           1047.779              1.147\n",
      " minCGnP       0   179  0.000295  54.5           1047.766              0.963\n",
      " minCGnP       0   180  0.000847  53.1           1047.740              0.744\n",
      "---Stage-Seconds--Step-----Alpha---Dir-------------Energy-----------RMSforce\n",
      " minCGnP       0   181  0.000577  68.0           1047.729              1.108\n",
      " minCGnP       0   182  0.000216  57.2           1047.721              0.642\n",
      " minCGnP       0   183  0.001118  60.2           1047.705              0.611\n",
      " minCGnP       0   184  0.001159  67.6           1047.691              0.737\n",
      " minCGnP       0   185  0.000206  65.4           1047.687              0.614\n",
      " minCGnP       0   186  0.000857  71.4           1047.677              0.762\n",
      " minCGnP       0   187  0.000469  72.6           1047.668              0.774\n",
      " minCGnP       0   188  0.000371  71.9           1047.660              0.707\n",
      " minCGnP       0   189  0.000536  75.0           1047.652              0.818\n",
      " minCGnP       0   190  0.000193  67.8           1047.647              0.520\n",
      "---Stage-Seconds--Step-----Alpha---Dir-------------Energy-----------RMSforce\n",
      " minCGnP       0   191  0.000845  68.9           1047.640              0.510\n",
      " minCGnP       0   192  0.000632  77.2           1047.634              0.805\n",
      " minCGnP       0   193  0.000279  75.1           1047.628              0.671\n",
      " minCGnP       0   194  0.001511  74.7           1047.606              0.632\n",
      " minCGnP       0   195  0.000559  79.7           1047.599              0.916\n",
      " minCGnP       0   196  0.000381  79.1           1047.588              0.851\n",
      " minCGnP       0   197  0.000397  82.2           1047.579              1.172\n",
      " minCGnP       0   198  0.000533  78.6           1047.554              0.771\n",
      " minCGnP       0   199  0.000968  82.1           1047.535              1.092\n",
      " minCGnP       0   200  0.000200  79.7           1047.528              0.830\n",
      "---Stage-Seconds--Step-----Alpha---Dir-------------Energy-----------RMSforce\n",
      " minCGnP       0   201  0.001343  80.9           1047.497              0.946\n",
      " minCGnP       0   202  0.000636  84.1           1047.478              1.442\n",
      " minCGnP       0   203  0.000387  82.8           1047.452              1.161\n",
      " minCGnP       0   204  0.000263  81.9           1047.440              1.030\n",
      " minCGnP       0   205  0.000338  80.7           1047.428              0.900\n",
      " minCGnP       0   206  0.000796  80.9           1047.407              0.909\n",
      " minCGnP       0   207  0.000325  82.8           1047.398              1.134\n",
      " minCGnP       0   208  0.000529  78.9           1047.375              0.740\n",
      " minCGnP       0   209  0.000694  83.2           1047.363              1.193\n",
      " minCGnP       0   210  0.000456  81.9           1047.341              0.984\n",
      "---Stage-Seconds--Step-----Alpha---Dir-------------Energy-----------RMSforce\n",
      " minCGnP       0   211  0.000493  84.0           1047.326              1.319\n",
      " minCGnP       0   212  0.000236  79.6           1047.312              0.749\n",
      " minCGnP       0   213  0.000821  82.0           1047.297              0.963\n",
      " minCGnP       0   214  0.000310  83.7           1047.287              1.206\n",
      " minCGnP       0   215  0.000877  83.4           1047.246              1.098\n",
      " minCGnP       0   216  0.000199  77.5           1047.238              0.565\n",
      " minCGnP       0   217  0.000853  78.5           1047.229              0.603\n",
      " minCGnP       0   218  0.000663  82.7           1047.221              0.932\n",
      "DONE absolute force test:\n",
      "forceRmsMag(0.459265).LT.forceTolerance(0.500000)\n"
     ]
    },
    {
     "data": {
      "text/plain": [
       "*EE*"
      ]
     },
     "execution_count": 12,
     "metadata": {},
     "output_type": "execute_result"
    }
   ],
   "source": [
    "(defparameter *ee* (energy:minimize *ala*))"
   ]
  },
  {
   "cell_type": "code",
   "execution_count": 13,
   "metadata": {},
   "outputs": [
    {
     "data": {
      "application/vnd.jupyter.widget-view+json": {
       "model_id": "9E64B1BA-B3D2-4BAB-ADAB-9ECC6768B87E",
       "version_major": 2,
       "version_minor": 0
      },
      "text/plain": [
       "A Jupyter Widget"
      ]
     },
     "execution_count": 13,
     "metadata": {},
     "output_type": "execute_result"
    }
   ],
   "source": [
    "(:= v (nglv:show-aggregate *ala*))\n",
    "v"
   ]
  },
  {
   "cell_type": "code",
   "execution_count": 14,
   "metadata": {},
   "outputs": [
    {
     "name": "stdout",
     "output_type": "stream",
     "text": [
      "key 110191 sign 1.0\n",
      "key 110191 sign 1.0\n",
      "key 110191 sign 1.0\n",
      "key 110114 sign 1.0\n",
      "key 140122 sign 1.0\n",
      "key 140232 sign 1.0\n",
      "key 110114 sign -1.0\n",
      "key 140232 sign -1.0\n",
      "key 110191 sign -1.0\n",
      "key 110191 sign -1.0\n",
      "key 110191 sign -1.0\n",
      "key 110114 sign 1.0\n",
      "key 110111 sign 1.0\n",
      "key 110191 sign 1.0\n",
      "key 110122 sign 1.0\n",
      "key 220191 sign 1.0\n",
      "key 140122 sign -1.0\n",
      "key 110122 sign -1.0\n",
      "key 110191 sign -1.0\n",
      "key 110191 sign 1.0\n",
      "key 110191 sign 1.0\n",
      "key 110191 sign 1.0\n",
      "key 110111 sign 1.0\n",
      "key 140122 sign 1.0\n",
      "key 140232 sign 1.0\n",
      "key 110114 sign -1.0\n",
      "key 140232 sign -1.0\n",
      "key 110191 sign -1.0\n",
      "key 110191 sign -1.0\n",
      "key 110191 sign -1.0\n",
      "key 220191 sign -1.0\n",
      "key 220191 sign 1.0\n",
      "key 110122 sign -1.0\n",
      "key 140122 sign -1.0\n",
      "key 110191 sign 1.0\n",
      "key 110191 sign 1.0\n",
      "key 110191 sign 1.0\n",
      "key 110122 sign 1.0\n",
      "key 110191 sign -1.0\n",
      "key 110191 sign -1.0\n",
      "key 110191 sign -1.0\n",
      "key 220191 sign -1.0\n"
     ]
    },
    {
     "data": {
      "text/plain": [
       "*C*"
      ]
     },
     "execution_count": 14,
     "metadata": {},
     "output_type": "execute_result"
    }
   ],
   "source": [
    "(:= *c* (charges::calculate-am1-bcc-corrections *ala*))"
   ]
  },
  {
   "cell_type": "code",
   "execution_count": 15,
   "metadata": {},
   "outputs": [
    {
     "data": {
      "text/plain": [
       "#<HASH-TABLE-EQL :count 22 :total-alist-entries 22 @0x12bb6b5a8> "
      ]
     },
     "execution_count": 15,
     "metadata": {},
     "output_type": "execute_result"
    }
   ],
   "source": [
    "*c*"
   ]
  },
  {
   "cell_type": "code",
   "execution_count": 39,
   "metadata": {},
   "outputs": [
    {
     "name": "stdout",
     "output_type": "stream",
     "text": [
      ":ssbond for (SSBOND A 6 A 127)\n",
      ":ssbond for (SSBOND A 30 A 115)\n",
      ":ssbond for (SSBOND A 64 A 80)\n",
      ":ssbond for (SSBOND A 76 A 94)\n",
      "popped residue: #<PDB-RESIDUE LYS>\n",
      "popped residue: #<PDB-RESIDUE VAL>\n",
      "popped residue: #<PDB-RESIDUE PHE>\n",
      "popped residue: #<PDB-RESIDUE GLY>\n",
      "popped residue: #<PDB-RESIDUE ARG>\n",
      "popped residue: #<PDB-RESIDUE CYS>\n",
      "popped residue: #<PDB-RESIDUE GLU>\n",
      "popped residue: #<PDB-RESIDUE LEU>\n",
      "popped residue: #<PDB-RESIDUE ALA>\n",
      "popped residue: #<PDB-RESIDUE ALA>\n",
      "popped residue: #<PDB-RESIDUE ALA>\n",
      "popped residue: #<PDB-RESIDUE MET>\n",
      "popped residue: #<PDB-RESIDUE LYS>\n",
      "popped residue: #<PDB-RESIDUE ARG>\n",
      "popped residue: #<PDB-RESIDUE HIS>\n",
      "popped residue: #<PDB-RESIDUE GLY>\n",
      "popped residue: #<PDB-RESIDUE LEU>\n",
      "popped residue: #<PDB-RESIDUE ASP>\n",
      "popped residue: #<PDB-RESIDUE ASN>\n",
      "popped residue: #<PDB-RESIDUE TYR>\n",
      "popped residue: #<PDB-RESIDUE ARG>\n",
      "popped residue: #<PDB-RESIDUE GLY>\n",
      "popped residue: #<PDB-RESIDUE TYR>\n",
      "popped residue: #<PDB-RESIDUE SER>\n",
      "popped residue: #<PDB-RESIDUE LEU>\n",
      "popped residue: #<PDB-RESIDUE GLY>\n",
      "popped residue: #<PDB-RESIDUE ASN>\n",
      "popped residue: #<PDB-RESIDUE TRP>\n",
      "popped residue: #<PDB-RESIDUE VAL>\n",
      "popped residue: #<PDB-RESIDUE CYS>\n",
      "popped residue: #<PDB-RESIDUE ALA>\n",
      "popped residue: #<PDB-RESIDUE ALA>\n",
      "popped residue: #<PDB-RESIDUE LYS>\n",
      "popped residue: #<PDB-RESIDUE PHE>\n",
      "popped residue: #<PDB-RESIDUE GLU>\n",
      "popped residue: #<PDB-RESIDUE SER>\n",
      "popped residue: #<PDB-RESIDUE ASN>\n",
      "popped residue: #<PDB-RESIDUE PHE>\n",
      "popped residue: #<PDB-RESIDUE ASN>\n",
      "popped residue: #<PDB-RESIDUE THR>\n",
      "popped residue: #<PDB-RESIDUE GLN>\n",
      "popped residue: #<PDB-RESIDUE ALA>\n",
      "popped residue: #<PDB-RESIDUE THR>\n",
      "popped residue: #<PDB-RESIDUE ASN>\n",
      "popped residue: #<PDB-RESIDUE ARG>\n",
      "popped residue: #<PDB-RESIDUE ASN>\n",
      "popped residue: #<PDB-RESIDUE THR>\n",
      "popped residue: #<PDB-RESIDUE ASP>\n",
      "popped residue: #<PDB-RESIDUE GLY>\n",
      "popped residue: #<PDB-RESIDUE SER>\n",
      "popped residue: #<PDB-RESIDUE THR>\n",
      "popped residue: #<PDB-RESIDUE ASP>\n",
      "popped residue: #<PDB-RESIDUE TYR>\n",
      "popped residue: #<PDB-RESIDUE GLY>\n",
      "popped residue: #<PDB-RESIDUE ILE>\n",
      "popped residue: #<PDB-RESIDUE LEU>\n",
      "popped residue: #<PDB-RESIDUE GLN>\n",
      "popped residue: #<PDB-RESIDUE ILE>\n",
      "popped residue: #<PDB-RESIDUE ASN>\n",
      "popped residue: #<PDB-RESIDUE SER>\n",
      "popped residue: #<PDB-RESIDUE ARG>\n",
      "popped residue: #<PDB-RESIDUE TRP>\n",
      "popped residue: #<PDB-RESIDUE TRP>\n",
      "popped residue: #<PDB-RESIDUE CYS>\n",
      "popped residue: #<PDB-RESIDUE ASN>\n",
      "popped residue: #<PDB-RESIDUE ASP>\n",
      "popped residue: #<PDB-RESIDUE GLY>\n",
      "popped residue: #<PDB-RESIDUE ARG>\n",
      "popped residue: #<PDB-RESIDUE THR>\n",
      "popped residue: #<PDB-RESIDUE PRO>\n",
      "popped residue: #<PDB-RESIDUE GLY>\n",
      "popped residue: #<PDB-RESIDUE SER>\n",
      "popped residue: #<PDB-RESIDUE ARG>\n",
      "popped residue: #<PDB-RESIDUE ASN>\n",
      "popped residue: #<PDB-RESIDUE LEU>\n",
      "popped residue: #<PDB-RESIDUE CYS>\n",
      "popped residue: #<PDB-RESIDUE ASN>\n",
      "popped residue: #<PDB-RESIDUE ILE>\n",
      "popped residue: #<PDB-RESIDUE PRO>\n",
      "popped residue: #<PDB-RESIDUE CYS>\n",
      "popped residue: #<PDB-RESIDUE SER>\n",
      "popped residue: #<PDB-RESIDUE ALA>\n",
      "popped residue: #<PDB-RESIDUE LEU>\n",
      "popped residue: #<PDB-RESIDUE LEU>\n",
      "popped residue: #<PDB-RESIDUE SER>\n",
      "popped residue: #<PDB-RESIDUE SER>\n",
      "popped residue: #<PDB-RESIDUE ASP>\n",
      "popped residue: #<PDB-RESIDUE ILE>\n",
      "popped residue: #<PDB-RESIDUE THR>\n",
      "popped residue: #<PDB-RESIDUE ALA>\n",
      "popped residue: #<PDB-RESIDUE SER>\n",
      "popped residue: #<PDB-RESIDUE VAL>\n",
      "popped residue: #<PDB-RESIDUE ASN>\n",
      "popped residue: #<PDB-RESIDUE CYS>\n",
      "popped residue: #<PDB-RESIDUE ALA>\n",
      "popped residue: #<PDB-RESIDUE LYS>\n",
      "popped residue: #<PDB-RESIDUE LYS>\n",
      "popped residue: #<PDB-RESIDUE ILE>\n",
      "popped residue: #<PDB-RESIDUE VAL>\n",
      "popped residue: #<PDB-RESIDUE SER>\n",
      "popped residue: #<PDB-RESIDUE ASP>\n",
      "popped residue: #<PDB-RESIDUE GLY>\n",
      "popped residue: #<PDB-RESIDUE ASN>\n",
      "popped residue: #<PDB-RESIDUE GLY>\n",
      "popped residue: #<PDB-RESIDUE MET>\n",
      "popped residue: #<PDB-RESIDUE ASN>\n",
      "popped residue: #<PDB-RESIDUE ALA>\n",
      "popped residue: #<PDB-RESIDUE TRP>\n",
      "popped residue: #<PDB-RESIDUE VAL>\n",
      "popped residue: #<PDB-RESIDUE ALA>\n",
      "popped residue: #<PDB-RESIDUE TRP>\n",
      "popped residue: #<PDB-RESIDUE ARG>\n",
      "popped residue: #<PDB-RESIDUE ASN>\n",
      "popped residue: #<PDB-RESIDUE ARG>\n",
      "popped residue: #<PDB-RESIDUE CYS>\n",
      "popped residue: #<PDB-RESIDUE LYS>\n",
      "popped residue: #<PDB-RESIDUE GLY>\n",
      "popped residue: #<PDB-RESIDUE THR>\n",
      "popped residue: #<PDB-RESIDUE ASP>\n",
      "popped residue: #<PDB-RESIDUE VAL>\n",
      "popped residue: #<PDB-RESIDUE GLN>\n",
      "popped residue: #<PDB-RESIDUE ALA>\n",
      "popped residue: #<PDB-RESIDUE TRP>\n",
      "popped residue: #<PDB-RESIDUE ILE>\n",
      "popped residue: #<PDB-RESIDUE ARG>\n",
      "popped residue: #<PDB-RESIDUE GLY>\n",
      "popped residue: #<PDB-RESIDUE CYS>\n",
      "popped residue: #<PDB-RESIDUE ARG>\n",
      "popped residue: #<PDB-RESIDUE LEU>\n",
      "popped residue: NIL\n",
      "Starting a new molecule\n",
      "popped first residue: #<PDB-RESIDUE AMU>\n",
      "popped residue: #<PDB-RESIDUE NAG>\n",
      "popped residue: #<PDB-RESIDUE AMU>\n",
      "popped residue: #<PDB-RESIDUE HOH>\n",
      "popped residue: #<PDB-RESIDUE HOH>\n",
      "popped residue: #<PDB-RESIDUE HOH>\n",
      "popped residue: #<PDB-RESIDUE HOH>\n",
      "popped residue: #<PDB-RESIDUE HOH>\n",
      "popped residue: #<PDB-RESIDUE HOH>\n",
      "popped residue: #<PDB-RESIDUE HOH>\n",
      "popped residue: #<PDB-RESIDUE HOH>\n",
      "popped residue: #<PDB-RESIDUE HOH>\n",
      "popped residue: #<PDB-RESIDUE HOH>\n",
      "popped residue: #<PDB-RESIDUE HOH>\n",
      "popped residue: #<PDB-RESIDUE HOH>\n",
      "popped residue: #<PDB-RESIDUE HOH>\n",
      "popped residue: #<PDB-RESIDUE HOH>\n",
      "popped residue: #<PDB-RESIDUE HOH>\n",
      "popped residue: #<PDB-RESIDUE HOH>\n",
      "popped residue: #<PDB-RESIDUE HOH>\n",
      "popped residue: #<PDB-RESIDUE HOH>\n",
      "popped residue: #<PDB-RESIDUE HOH>\n",
      "popped residue: #<PDB-RESIDUE HOH>\n",
      "popped residue: #<PDB-RESIDUE HOH>\n",
      "popped residue: #<PDB-RESIDUE HOH>\n",
      "popped residue: #<PDB-RESIDUE HOH>\n",
      "popped residue: #<PDB-RESIDUE HOH>\n",
      "popped residue: #<PDB-RESIDUE HOH>\n",
      "popped residue: #<PDB-RESIDUE HOH>\n",
      "popped residue: #<PDB-RESIDUE HOH>\n",
      "popped residue: #<PDB-RESIDUE HOH>\n",
      "popped residue: #<PDB-RESIDUE HOH>\n",
      "popped residue: #<PDB-RESIDUE HOH>\n",
      "popped residue: #<PDB-RESIDUE HOH>\n",
      "popped residue: #<PDB-RESIDUE HOH>\n",
      "popped residue: #<PDB-RESIDUE HOH>\n",
      "popped residue: #<PDB-RESIDUE HOH>\n",
      "popped residue: #<PDB-RESIDUE HOH>\n",
      "popped residue: #<PDB-RESIDUE HOH>\n",
      "popped residue: #<PDB-RESIDUE HOH>\n",
      "popped residue: #<PDB-RESIDUE HOH>\n",
      "popped residue: #<PDB-RESIDUE HOH>\n",
      "popped residue: #<PDB-RESIDUE HOH>\n",
      "popped residue: #<PDB-RESIDUE HOH>\n",
      "popped residue: #<PDB-RESIDUE HOH>\n",
      "popped residue: #<PDB-RESIDUE HOH>\n",
      "popped residue: #<PDB-RESIDUE HOH>\n",
      "popped residue: #<PDB-RESIDUE HOH>\n",
      "popped residue: #<PDB-RESIDUE HOH>\n",
      "popped residue: #<PDB-RESIDUE HOH>\n",
      "popped residue: #<PDB-RESIDUE HOH>\n",
      "popped residue: #<PDB-RESIDUE HOH>\n",
      "popped residue: #<PDB-RESIDUE HOH>\n",
      "popped residue: #<PDB-RESIDUE HOH>\n",
      "popped residue: #<PDB-RESIDUE HOH>\n",
      "popped residue: #<PDB-RESIDUE HOH>\n",
      "popped residue: #<PDB-RESIDUE HOH>\n",
      "popped residue: #<PDB-RESIDUE HOH>\n",
      "popped residue: #<PDB-RESIDUE HOH>\n",
      "popped residue: #<PDB-RESIDUE HOH>\n",
      "popped residue: #<PDB-RESIDUE HOH>\n",
      "popped residue: #<PDB-RESIDUE HOH>\n",
      "popped residue: #<PDB-RESIDUE HOH>\n",
      "popped residue: #<PDB-RESIDUE HOH>\n",
      "popped residue: #<PDB-RESIDUE HOH>\n",
      "popped residue: #<PDB-RESIDUE HOH>\n",
      "popped residue: #<PDB-RESIDUE HOH>\n",
      "popped residue: #<PDB-RESIDUE HOH>\n",
      "popped residue: #<PDB-RESIDUE HOH>\n",
      "popped residue: #<PDB-RESIDUE HOH>\n",
      "popped residue: #<PDB-RESIDUE HOH>\n",
      "popped residue: #<PDB-RESIDUE HOH>\n",
      "popped residue: #<PDB-RESIDUE HOH>\n",
      "popped residue: #<PDB-RESIDUE HOH>\n",
      "popped residue: #<PDB-RESIDUE HOH>\n",
      "popped residue: #<PDB-RESIDUE HOH>\n",
      "popped residue: #<PDB-RESIDUE HOH>\n",
      "popped residue: #<PDB-RESIDUE HOH>\n",
      "popped residue: #<PDB-RESIDUE HOH>\n",
      "popped residue: #<PDB-RESIDUE HOH>\n",
      "popped residue: #<PDB-RESIDUE HOH>\n",
      "popped residue: #<PDB-RESIDUE HOH>\n",
      "popped residue: #<PDB-RESIDUE HOH>\n",
      "popped residue: #<PDB-RESIDUE HOH>\n",
      "popped residue: #<PDB-RESIDUE HOH>\n",
      "popped residue: #<PDB-RESIDUE HOH>\n",
      "popped residue: #<PDB-RESIDUE HOH>\n",
      "popped residue: #<PDB-RESIDUE HOH>\n",
      "popped residue: #<PDB-RESIDUE HOH>\n",
      "popped residue: #<PDB-RESIDUE HOH>\n",
      "popped residue: #<PDB-RESIDUE HOH>\n",
      "popped residue: #<PDB-RESIDUE HOH>\n",
      "popped residue: #<PDB-RESIDUE HOH>\n",
      "popped residue: #<PDB-RESIDUE HOH>\n",
      "popped residue: #<PDB-RESIDUE HOH>\n",
      "popped residue: #<PDB-RESIDUE HOH>\n",
      "popped residue: #<PDB-RESIDUE HOH>\n",
      "popped residue: #<PDB-RESIDUE HOH>\n",
      "popped residue: #<PDB-RESIDUE HOH>\n",
      "popped residue: #<PDB-RESIDUE HOH>\n",
      "popped residue: #<PDB-RESIDUE HOH>\n",
      "popped residue: #<PDB-RESIDUE HOH>\n",
      "popped residue: #<PDB-RESIDUE HOH>\n",
      "popped residue: #<PDB-RESIDUE HOH>\n",
      "Building from sorted-built: (#<ATOM :C/:C> #<ATOM :CB/:C> #<ATOM :N/:N>)\n",
      "Hydrogens built 0.0%\n",
      "Building from sorted-built: (#<ATOM :C/:C> #<ATOM :CB/:C> #<ATOM :N/:N>)\n",
      "Building from sorted-built: (#<ATOM :CA/:C> #<ATOM :CG1/:C> #<ATOM :CG2/:C>)\n",
      "Building from sorted-built: (#<ATOM :C/:C> #<ATOM :CB/:C> #<ATOM :N/:N>)\n",
      "Building from sorted-built: (#<ATOM :C/:C> #<ATOM :CB/:C> #<ATOM :N/:N>)\n",
      "Building from sorted-built: (#<ATOM :C/:C> #<ATOM :CB/:C> #<ATOM :N/:N>)\n",
      "Building from sorted-built: (#<ATOM :C/:C> #<ATOM :CB/:C> #<ATOM :N/:N>)\n",
      "Building from sorted-built: (#<ATOM :C/:C> #<ATOM :CB/:C> #<ATOM :N/:N>)\n",
      "Building from sorted-built: (#<ATOM :CB/:C> #<ATOM :CD1/:C> #<ATOM :CD2/:C>)\n",
      "Building from sorted-built: (#<ATOM :C/:C> #<ATOM :CB/:C> #<ATOM :N/:N>)\n",
      "Building from sorted-built: (#<ATOM :C/:C> #<ATOM :CB/:C> #<ATOM :N/:N>)\n",
      "Building from sorted-built: (#<ATOM :C/:C> #<ATOM :CB/:C> #<ATOM :N/:N>)\n",
      "Building from sorted-built: (#<ATOM :C/:C> #<ATOM :CB/:C> #<ATOM :N/:N>)\n",
      "Building from sorted-built: (#<ATOM :C/:C> #<ATOM :CB/:C> #<ATOM :N/:N>)\n",
      "Hydrogens built 10.0%\n",
      "Building from sorted-built: (#<ATOM :C/:C> #<ATOM :CB/:C> #<ATOM :N/:N>)\n",
      "Building from sorted-built: (#<ATOM :C/:C> #<ATOM :CB/:C> #<ATOM :N/:N>)\n",
      "Building from sorted-built: (#<ATOM :C/:C> #<ATOM :CB/:C> #<ATOM :N/:N>)\n",
      "Building from sorted-built: (#<ATOM :CB/:C> #<ATOM :CD1/:C> #<ATOM :CD2/:C>)\n",
      "Building from sorted-built: (#<ATOM :C/:C> #<ATOM :CB/:C> #<ATOM :N/:N>)\n",
      "Building from sorted-built: (#<ATOM :C/:C> #<ATOM :CB/:C> #<ATOM :N/:N>)\n",
      "Building from sorted-built: (#<ATOM :C/:C> #<ATOM :CB/:C> #<ATOM :N/:N>)\n",
      "Building from sorted-built: (#<ATOM :C/:C> #<ATOM :CB/:C> #<ATOM :N/:N>)\n",
      "Building from sorted-built: (#<ATOM :C/:C> #<ATOM :CB/:C> #<ATOM :N/:N>)\n",
      "Building from sorted-built: (#<ATOM :C/:C> #<ATOM :CB/:C> #<ATOM :N/:N>)\n",
      "Building from sorted-built: (#<ATOM :C/:C> #<ATOM :CB/:C> #<ATOM :N/:N>)\n",
      "Hydrogens built 20.0%\n",
      "Building from sorted-built: (#<ATOM :CB/:C> #<ATOM :CD1/:C> #<ATOM :CD2/:C>)\n",
      "Building from sorted-built: (#<ATOM :C/:C> #<ATOM :CB/:C> #<ATOM :N/:N>)\n",
      "Building from sorted-built: (#<ATOM :C/:C> #<ATOM :CB/:C> #<ATOM :N/:N>)\n",
      "Building from sorted-built: (#<ATOM :C/:C> #<ATOM :CB/:C> #<ATOM :N/:N>)\n",
      "Building from sorted-built: (#<ATOM :CA/:C> #<ATOM :CG1/:C> #<ATOM :CG2/:C>)\n",
      "Building from sorted-built: (#<ATOM :C/:C> #<ATOM :CB/:C> #<ATOM :N/:N>)\n",
      "Building from sorted-built: (#<ATOM :C/:C> #<ATOM :CB/:C> #<ATOM :N/:N>)\n",
      "Building from sorted-built: (#<ATOM :C/:C> #<ATOM :CB/:C> #<ATOM :N/:N>)\n",
      "Building from sorted-built: (#<ATOM :C/:C> #<ATOM :CB/:C> #<ATOM :N/:N>)\n",
      "Building from sorted-built: (#<ATOM :C/:C> #<ATOM :CB/:C> #<ATOM :N/:N>)\n",
      "Building from sorted-built: (#<ATOM :C/:C> #<ATOM :CB/:C> #<ATOM :N/:N>)\n",
      "Building from sorted-built: (#<ATOM :C/:C> #<ATOM :CB/:C> #<ATOM :N/:N>)\n",
      "Building from sorted-built: (#<ATOM :C/:C> #<ATOM :CB/:C> #<ATOM :N/:N>)\n",
      "Building from sorted-built: (#<ATOM :C/:C> #<ATOM :CB/:C> #<ATOM :N/:N>)\n",
      "Hydrogens built 30.0%\n",
      "Building from sorted-built: (#<ATOM :C/:C> #<ATOM :CB/:C> #<ATOM :N/:N>)\n",
      "Building from sorted-built: (#<ATOM :C/:C> #<ATOM :CB/:C> #<ATOM :N/:N>)\n",
      "Building from sorted-built: (#<ATOM :CA/:C> #<ATOM :CG2/:C> #<ATOM :OG1/:O>)\n",
      "Building from sorted-built: (#<ATOM :C/:C> #<ATOM :CB/:C> #<ATOM :N/:N>)\n",
      "Building from sorted-built: (#<ATOM :C/:C> #<ATOM :CB/:C> #<ATOM :N/:N>)\n",
      "Building from sorted-built: (#<ATOM :C/:C> #<ATOM :CB/:C> #<ATOM :N/:N>)\n",
      "Building from sorted-built: (#<ATOM :CA/:C> #<ATOM :CG2/:C> #<ATOM :OG1/:O>)\n",
      "Building from sorted-built: (#<ATOM :C/:C> #<ATOM :CB/:C> #<ATOM :N/:N>)\n",
      "Building from sorted-built: (#<ATOM :C/:C> #<ATOM :CB/:C> #<ATOM :N/:N>)\n",
      "Building from sorted-built: (#<ATOM :C/:C> #<ATOM :CB/:C> #<ATOM :N/:N>)\n",
      "Building from sorted-built: (#<ATOM :C/:C> #<ATOM :CB/:C> #<ATOM :N/:N>)\n",
      "Building from sorted-built: (#<ATOM :CA/:C> #<ATOM :CG2/:C> #<ATOM :OG1/:O>)\n",
      "Building from sorted-built: (#<ATOM :C/:C> #<ATOM :CB/:C> #<ATOM :N/:N>)\n",
      "Building from sorted-built: (#<ATOM :C/:C> #<ATOM :CB/:C> #<ATOM :N/:N>)\n",
      "Building from sorted-built: (#<ATOM :C/:C> #<ATOM :CB/:C> #<ATOM :N/:N>)\n",
      "Building from sorted-built: (#<ATOM :CA/:C> #<ATOM :CG2/:C> #<ATOM :OG1/:O>)\n",
      "Building from sorted-built: (#<ATOM :C/:C> #<ATOM :CB/:C> #<ATOM :N/:N>)\n",
      "Building from sorted-built: (#<ATOM :C/:C> #<ATOM :CB/:C> #<ATOM :N/:N>)\n",
      "Hydrogens built 40.0%\n",
      "Building from sorted-built: (#<ATOM :C/:C> #<ATOM :CB/:C> #<ATOM :N/:N>)\n",
      "Building from sorted-built: (#<ATOM :CA/:C> #<ATOM :CG1/:C> #<ATOM :CG2/:C>)\n",
      "Building from sorted-built: (#<ATOM :C/:C> #<ATOM :CB/:C> #<ATOM :N/:N>)\n",
      "Building from sorted-built: (#<ATOM :CB/:C> #<ATOM :CD1/:C> #<ATOM :CD2/:C>)\n",
      "Building from sorted-built: (#<ATOM :C/:C> #<ATOM :CB/:C> #<ATOM :N/:N>)\n",
      "Building from sorted-built: (#<ATOM :C/:C> #<ATOM :CB/:C> #<ATOM :N/:N>)\n",
      "Building from sorted-built: (#<ATOM :CA/:C> #<ATOM :CG1/:C> #<ATOM :CG2/:C>)\n",
      "Building from sorted-built: (#<ATOM :C/:C> #<ATOM :CB/:C> #<ATOM :N/:N>)\n",
      "Building from sorted-built: (#<ATOM :C/:C> #<ATOM :CB/:C> #<ATOM :N/:N>)\n",
      "Building from sorted-built: (#<ATOM :C/:C> #<ATOM :CB/:C> #<ATOM :N/:N>)\n",
      "Building from sorted-built: (#<ATOM :C/:C> #<ATOM :CB/:C> #<ATOM :N/:N>)\n",
      "Building from sorted-built: (#<ATOM :C/:C> #<ATOM :CB/:C> #<ATOM :N/:N>)\n",
      "Building from sorted-built: (#<ATOM :C/:C> #<ATOM :CB/:C> #<ATOM :N/:N>)\n",
      "Hydrogens built 50.0%\n",
      "Building from sorted-built: (#<ATOM :C/:C> #<ATOM :CB/:C> #<ATOM :N/:N>)\n",
      "Building from sorted-built: (#<ATOM :C/:C> #<ATOM :CB/:C> #<ATOM :N/:N>)\n",
      "Building from sorted-built: (#<ATOM :C/:C> #<ATOM :CB/:C> #<ATOM :N/:N>)\n",
      "Building from sorted-built: (#<ATOM :C/:C> #<ATOM :CB/:C> #<ATOM :N/:N>)\n",
      "Building from sorted-built: (#<ATOM :CA/:C> #<ATOM :CG2/:C> #<ATOM :OG1/:O>)\n",
      "Building from sorted-built: (#<ATOM :C/:C> #<ATOM :CB/:C> #<ATOM :N/:N>)\n",
      "Building from sorted-built: (#<ATOM :C/:C> #<ATOM :CB/:C> #<ATOM :N/:N>)\n",
      "Building from sorted-built: (#<ATOM :C/:C> #<ATOM :CB/:C> #<ATOM :N/:N>)\n",
      "Building from sorted-built: (#<ATOM :C/:C> #<ATOM :CB/:C> #<ATOM :N/:N>)\n",
      "Building from sorted-built: (#<ATOM :C/:C> #<ATOM :CB/:C> #<ATOM :N/:N>)\n",
      "Building from sorted-built: (#<ATOM :CB/:C> #<ATOM :CD1/:C> #<ATOM :CD2/:C>)\n",
      "Building from sorted-built: (#<ATOM :C/:C> #<ATOM :CB/:C> #<ATOM :N/:N>)\n",
      "Building from sorted-built: (#<ATOM :C/:C> #<ATOM :CB/:C> #<ATOM :N/:N>)\n",
      "Building from sorted-built: (#<ATOM :C/:C> #<ATOM :CB/:C> #<ATOM :N/:N>)\n",
      "Building from sorted-built: (#<ATOM :CA/:C> #<ATOM :CG1/:C> #<ATOM :CG2/:C>)\n",
      "Hydrogens built 60.0%\n",
      "Building from sorted-built: (#<ATOM :C/:C> #<ATOM :CB/:C> #<ATOM :N/:N>)\n",
      "Building from sorted-built: (#<ATOM :C/:C> #<ATOM :CB/:C> #<ATOM :N/:N>)\n",
      "Building from sorted-built: (#<ATOM :C/:C> #<ATOM :CB/:C> #<ATOM :N/:N>)\n",
      "Building from sorted-built: (#<ATOM :C/:C> #<ATOM :CB/:C> #<ATOM :N/:N>)\n",
      "Building from sorted-built: (#<ATOM :C/:C> #<ATOM :CB/:C> #<ATOM :N/:N>)\n",
      "Building from sorted-built: (#<ATOM :CB/:C> #<ATOM :CD1/:C> #<ATOM :CD2/:C>)\n",
      "Building from sorted-built: (#<ATOM :C/:C> #<ATOM :CB/:C> #<ATOM :N/:N>)\n",
      "Building from sorted-built: (#<ATOM :CB/:C> #<ATOM :CD1/:C> #<ATOM :CD2/:C>)\n",
      "Building from sorted-built: (#<ATOM :C/:C> #<ATOM :CB/:C> #<ATOM :N/:N>)\n",
      "Building from sorted-built: (#<ATOM :C/:C> #<ATOM :CB/:C> #<ATOM :N/:N>)\n",
      "Building from sorted-built: (#<ATOM :C/:C> #<ATOM :CB/:C> #<ATOM :N/:N>)\n",
      "Building from sorted-built: (#<ATOM :C/:C> #<ATOM :CB/:C> #<ATOM :N/:N>)\n",
      "Building from sorted-built: (#<ATOM :CA/:C> #<ATOM :CG1/:C> #<ATOM :CG2/:C>)\n",
      "Building from sorted-built: (#<ATOM :C/:C> #<ATOM :CB/:C> #<ATOM :N/:N>)\n",
      "Building from sorted-built: (#<ATOM :CA/:C> #<ATOM :CG2/:C> #<ATOM :OG1/:O>)\n",
      "Building from sorted-built: (#<ATOM :C/:C> #<ATOM :CB/:C> #<ATOM :N/:N>)\n",
      "Building from sorted-built: (#<ATOM :C/:C> #<ATOM :CB/:C> #<ATOM :N/:N>)\n",
      "Building from sorted-built: (#<ATOM :C/:C> #<ATOM :CB/:C> #<ATOM :N/:N>)\n",
      "Building from sorted-built: (#<ATOM :CA/:C> #<ATOM :CG1/:C> #<ATOM :CG2/:C>)\n",
      "Hydrogens built 70.0%\n",
      "Building from sorted-built: (#<ATOM :C/:C> #<ATOM :CB/:C> #<ATOM :N/:N>)\n",
      "Building from sorted-built: (#<ATOM :C/:C> #<ATOM :CB/:C> #<ATOM :N/:N>)\n",
      "Building from sorted-built: (#<ATOM :C/:C> #<ATOM :CB/:C> #<ATOM :N/:N>)\n",
      "Building from sorted-built: (#<ATOM :C/:C> #<ATOM :CB/:C> #<ATOM :N/:N>)\n",
      "Building from sorted-built: (#<ATOM :C/:C> #<ATOM :CB/:C> #<ATOM :N/:N>)\n",
      "Building from sorted-built: (#<ATOM :C/:C> #<ATOM :CB/:C> #<ATOM :N/:N>)\n",
      "Building from sorted-built: (#<ATOM :CA/:C> #<ATOM :CG1/:C> #<ATOM :CG2/:C>)\n",
      "Building from sorted-built: (#<ATOM :C/:C> #<ATOM :CB/:C> #<ATOM :N/:N>)\n",
      "Building from sorted-built: (#<ATOM :CA/:C> #<ATOM :CG1/:C> #<ATOM :CG2/:C>)\n",
      "Building from sorted-built: (#<ATOM :C/:C> #<ATOM :CB/:C> #<ATOM :N/:N>)\n",
      "Building from sorted-built: (#<ATOM :C/:C> #<ATOM :CB/:C> #<ATOM :N/:N>)\n",
      "Building from sorted-built: (#<ATOM :C/:C> #<ATOM :CB/:C> #<ATOM :N/:N>)\n",
      "Building from sorted-built: (#<ATOM :C/:C> #<ATOM :CB/:C> #<ATOM :N/:N>)\n",
      "Building from sorted-built: (#<ATOM :C/:C> #<ATOM :CB/:C> #<ATOM :N/:N>)\n",
      "Hydrogens built 80.0%\n",
      "Building from sorted-built: (#<ATOM :C/:C> #<ATOM :CB/:C> #<ATOM :N/:N>)\n",
      "Building from sorted-built: (#<ATOM :C/:C> #<ATOM :CB/:C> #<ATOM :N/:N>)\n",
      "Building from sorted-built: (#<ATOM :C/:C> #<ATOM :CB/:C> #<ATOM :N/:N>)\n",
      "Building from sorted-built: (#<ATOM :CA/:C> #<ATOM :CG1/:C> #<ATOM :CG2/:C>)\n",
      "Building from sorted-built: (#<ATOM :C/:C> #<ATOM :CB/:C> #<ATOM :N/:N>)\n",
      "Building from sorted-built: (#<ATOM :C/:C> #<ATOM :CB/:C> #<ATOM :N/:N>)\n",
      "Building from sorted-built: (#<ATOM :C/:C> #<ATOM :CB/:C> #<ATOM :N/:N>)\n",
      "Building from sorted-built: (#<ATOM :C/:C> #<ATOM :CB/:C> #<ATOM :N/:N>)\n",
      "Building from sorted-built: (#<ATOM :C/:C> #<ATOM :CB/:C> #<ATOM :N/:N>)\n",
      "Building from sorted-built: (#<ATOM :C/:C> #<ATOM :CB/:C> #<ATOM :N/:N>)\n",
      "Building from sorted-built: (#<ATOM :C/:C> #<ATOM :CB/:C> #<ATOM :N/:N>)\n",
      "Building from sorted-built: (#<ATOM :C/:C> #<ATOM :CB/:C> #<ATOM :N/:N>)\n",
      "Building from sorted-built: (#<ATOM :CA/:C> #<ATOM :CG2/:C> #<ATOM :OG1/:O>)\n",
      "Hydrogens built 90.0%\n",
      "Building from sorted-built: (#<ATOM :C/:C> #<ATOM :CB/:C> #<ATOM :N/:N>)\n",
      "Building from sorted-built: (#<ATOM :C/:C> #<ATOM :CB/:C> #<ATOM :N/:N>)\n",
      "Building from sorted-built: (#<ATOM :CA/:C> #<ATOM :CG1/:C> #<ATOM :CG2/:C>)\n",
      "Building from sorted-built: (#<ATOM :C/:C> #<ATOM :CB/:C> #<ATOM :N/:N>)\n",
      "Building from sorted-built: (#<ATOM :C/:C> #<ATOM :CB/:C> #<ATOM :N/:N>)\n",
      "Building from sorted-built: (#<ATOM :C/:C> #<ATOM :CB/:C> #<ATOM :N/:N>)\n",
      "Building from sorted-built: (#<ATOM :C/:C> #<ATOM :CB/:C> #<ATOM :N/:N>)\n",
      "Building from sorted-built: (#<ATOM :CA/:C> #<ATOM :CG1/:C> #<ATOM :CG2/:C>)\n",
      "Building from sorted-built: (#<ATOM :C/:C> #<ATOM :CB/:C> #<ATOM :N/:N>)\n",
      "Building from sorted-built: (#<ATOM :C/:C> #<ATOM :CB/:C> #<ATOM :N/:N>)\n",
      "Building from sorted-built: (#<ATOM :C/:C> #<ATOM :CB/:C> #<ATOM :N/:N>)\n",
      "Building from sorted-built: (#<ATOM :C/:C> #<ATOM :CB/:C> #<ATOM :N/:N>)\n",
      "Building from sorted-built: (#<ATOM :CB/:C> #<ATOM :CD1/:C> #<ATOM :CD2/:C>)\n",
      "Built 967 missing hydrogens\n"
     ]
    },
    {
     "name": "stderr",
     "output_type": "stream",
     "text": [
      "SIMPLE-WARNING: \n",
      "Could not immediately identify topology for (AMU . HEAD)\n",
      "SIMPLE-WARNING: \n",
      "Could not identify topology for (AMU . HEAD)\n",
      "SIMPLE-WARNING: \n",
      "Could not immediately identify topology for (NAG . MAIN)\n",
      "SIMPLE-WARNING: \n",
      "Could not identify topology for (NAG . MAIN)\n",
      "SIMPLE-WARNING: \n",
      "Could not immediately identify topology for (AMU . MAIN)\n",
      "SIMPLE-WARNING: \n",
      "Could not identify topology for (AMU . MAIN)\n",
      "SIMPLE-WARNING: \n",
      "Could not immediately identify topology for (HOH . MAIN)\n",
      "SIMPLE-WARNING: \n",
      "Could not identify topology for (HOH . MAIN)\n",
      "SIMPLE-WARNING: \n",
      "Could not immediately identify topology for (HOH . MAIN)\n",
      "SIMPLE-WARNING: \n",
      "Could not immediately identify topology for (HOH . MAIN)\n",
      "SIMPLE-WARNING: \n",
      "Could not immediately identify topology for (HOH . MAIN)\n",
      "SIMPLE-WARNING: \n",
      "Could not immediately identify topology for (HOH . MAIN)\n",
      "SIMPLE-WARNING: \n",
      "Could not immediately identify topology for (HOH . MAIN)\n",
      "SIMPLE-WARNING: \n",
      "Could not immediately identify topology for (HOH . MAIN)\n",
      "SIMPLE-WARNING: \n",
      "Could not immediately identify topology for (HOH . MAIN)\n",
      "SIMPLE-WARNING: \n",
      "Could not immediately identify topology for (HOH . MAIN)\n",
      "SIMPLE-WARNING: \n",
      "Could not immediately identify topology for (HOH . MAIN)\n",
      "SIMPLE-WARNING: \n",
      "Could not immediately identify topology for (HOH . MAIN)\n",
      "SIMPLE-WARNING: \n",
      "Could not immediately identify topology for (HOH . MAIN)\n",
      "SIMPLE-WARNING: \n",
      "Could not immediately identify topology for (HOH . MAIN)\n",
      "SIMPLE-WARNING: \n",
      "Could not immediately identify topology for (HOH . MAIN)\n",
      "SIMPLE-WARNING: \n",
      "Could not immediately identify topology for (HOH . MAIN)\n",
      "SIMPLE-WARNING: \n",
      "Could not immediately identify topology for (HOH . MAIN)\n",
      "SIMPLE-WARNING: \n",
      "Could not immediately identify topology for (HOH . MAIN)\n",
      "SIMPLE-WARNING: \n",
      "Could not immediately identify topology for (HOH . MAIN)\n",
      "SIMPLE-WARNING: \n",
      "Could not immediately identify topology for (HOH . MAIN)\n",
      "SIMPLE-WARNING: \n",
      "Could not immediately identify topology for (HOH . MAIN)\n",
      "SIMPLE-WARNING: \n",
      "Could not immediately identify topology for (HOH . MAIN)\n",
      "SIMPLE-WARNING: \n",
      "Could not immediately identify topology for (HOH . MAIN)\n",
      "SIMPLE-WARNING: \n",
      "Could not immediately identify topology for (HOH . MAIN)\n",
      "SIMPLE-WARNING: \n",
      "Could not immediately identify topology for (HOH . MAIN)\n",
      "SIMPLE-WARNING: \n",
      "Could not immediately identify topology for (HOH . MAIN)\n",
      "SIMPLE-WARNING: \n",
      "Could not immediately identify topology for (HOH . MAIN)\n",
      "SIMPLE-WARNING: \n",
      "Could not immediately identify topology for (HOH . MAIN)\n",
      "SIMPLE-WARNING: \n",
      "Could not immediately identify topology for (HOH . MAIN)\n",
      "SIMPLE-WARNING: \n",
      "Could not immediately identify topology for (HOH . MAIN)\n",
      "SIMPLE-WARNING: \n",
      "Could not immediately identify topology for (HOH . MAIN)\n",
      "SIMPLE-WARNING: \n",
      "Could not immediately identify topology for (HOH . MAIN)\n",
      "SIMPLE-WARNING: \n",
      "Could not immediately identify topology for (HOH . MAIN)\n",
      "SIMPLE-WARNING: \n",
      "Could not immediately identify topology for (HOH . MAIN)\n",
      "SIMPLE-WARNING: \n",
      "Could not immediately identify topology for (HOH . MAIN)\n",
      "SIMPLE-WARNING: \n",
      "Could not immediately identify topology for (HOH . MAIN)\n",
      "SIMPLE-WARNING: \n",
      "Could not immediately identify topology for (HOH . MAIN)\n",
      "SIMPLE-WARNING: \n",
      "Could not immediately identify topology for (HOH . MAIN)\n",
      "SIMPLE-WARNING: \n",
      "Could not immediately identify topology for (HOH . MAIN)\n",
      "SIMPLE-WARNING: \n",
      "Could not immediately identify topology for (HOH . MAIN)\n",
      "SIMPLE-WARNING: \n",
      "Could not immediately identify topology for (HOH . MAIN)\n",
      "SIMPLE-WARNING: \n",
      "Could not immediately identify topology for (HOH . MAIN)\n",
      "SIMPLE-WARNING: \n",
      "Could not immediately identify topology for (HOH . MAIN)\n",
      "SIMPLE-WARNING: \n",
      "Could not immediately identify topology for (HOH . MAIN)\n",
      "SIMPLE-WARNING: \n",
      "Could not immediately identify topology for (HOH . MAIN)\n",
      "SIMPLE-WARNING: \n",
      "Could not immediately identify topology for (HOH . MAIN)\n",
      "SIMPLE-WARNING: \n",
      "Could not immediately identify topology for (HOH . MAIN)\n",
      "SIMPLE-WARNING: \n",
      "Could not immediately identify topology for (HOH . MAIN)\n",
      "SIMPLE-WARNING: \n",
      "Could not immediately identify topology for (HOH . MAIN)\n",
      "SIMPLE-WARNING: \n",
      "Could not immediately identify topology for (HOH . MAIN)\n",
      "SIMPLE-WARNING: \n",
      "Could not immediately identify topology for (HOH . MAIN)\n",
      "SIMPLE-WARNING: \n",
      "Could not immediately identify topology for (HOH . MAIN)\n",
      "SIMPLE-WARNING: \n",
      "Could not immediately identify topology for (HOH . MAIN)\n",
      "SIMPLE-WARNING: \n",
      "Could not immediately identify topology for (HOH . MAIN)\n",
      "SIMPLE-WARNING: \n",
      "Could not immediately identify topology for (HOH . MAIN)\n",
      "SIMPLE-WARNING: \n",
      "Could not immediately identify topology for (HOH . MAIN)\n",
      "SIMPLE-WARNING: \n",
      "Could not immediately identify topology for (HOH . MAIN)\n",
      "SIMPLE-WARNING: \n",
      "Could not immediately identify topology for (HOH . MAIN)\n",
      "SIMPLE-WARNING: \n",
      "Could not immediately identify topology for (HOH . MAIN)\n",
      "SIMPLE-WARNING: \n",
      "Could not immediately identify topology for (HOH . MAIN)\n",
      "SIMPLE-WARNING: \n",
      "Could not immediately identify topology for (HOH . MAIN)\n",
      "SIMPLE-WARNING: \n",
      "Could not immediately identify topology for (HOH . MAIN)\n",
      "SIMPLE-WARNING: \n",
      "Could not immediately identify topology for (HOH . MAIN)\n",
      "SIMPLE-WARNING: \n",
      "Could not immediately identify topology for (HOH . MAIN)\n",
      "SIMPLE-WARNING: \n",
      "Could not immediately identify topology for (HOH . MAIN)\n",
      "SIMPLE-WARNING: \n",
      "Could not immediately identify topology for (HOH . MAIN)\n",
      "SIMPLE-WARNING: \n",
      "Could not immediately identify topology for (HOH . MAIN)\n",
      "SIMPLE-WARNING: \n",
      "Could not immediately identify topology for (HOH . MAIN)\n",
      "SIMPLE-WARNING: \n",
      "Could not immediately identify topology for (HOH . MAIN)\n",
      "SIMPLE-WARNING: \n",
      "Could not immediately identify topology for (HOH . MAIN)\n",
      "SIMPLE-WARNING: \n",
      "Could not immediately identify topology for (HOH . MAIN)\n",
      "SIMPLE-WARNING: \n",
      "Could not immediately identify topology for (HOH . MAIN)\n",
      "SIMPLE-WARNING: \n",
      "Could not immediately identify topology for (HOH . MAIN)\n",
      "SIMPLE-WARNING: \n",
      "Could not immediately identify topology for (HOH . MAIN)\n",
      "SIMPLE-WARNING: \n",
      "Could not immediately identify topology for (HOH . MAIN)\n",
      "SIMPLE-WARNING: \n",
      "Could not immediately identify topology for (HOH . MAIN)\n",
      "SIMPLE-WARNING: \n",
      "Could not immediately identify topology for (HOH . MAIN)\n",
      "SIMPLE-WARNING: \n",
      "Could not immediately identify topology for (HOH . MAIN)\n",
      "SIMPLE-WARNING: \n",
      "Could not immediately identify topology for (HOH . MAIN)\n",
      "SIMPLE-WARNING: \n",
      "Could not immediately identify topology for (HOH . MAIN)\n",
      "SIMPLE-WARNING: \n",
      "Could not immediately identify topology for (HOH . MAIN)\n",
      "SIMPLE-WARNING: \n",
      "Could not immediately identify topology for (HOH . MAIN)\n",
      "SIMPLE-WARNING: \n",
      "Could not immediately identify topology for (HOH . MAIN)\n",
      "SIMPLE-WARNING: \n",
      "Could not immediately identify topology for (HOH . MAIN)\n",
      "SIMPLE-WARNING: \n",
      "Could not immediately identify topology for (HOH . MAIN)\n",
      "SIMPLE-WARNING: \n",
      "Could not immediately identify topology for (HOH . MAIN)\n",
      "SIMPLE-WARNING: \n",
      "Could not immediately identify topology for (HOH . MAIN)\n",
      "SIMPLE-WARNING: \n",
      "Could not immediately identify topology for (HOH . MAIN)\n",
      "SIMPLE-WARNING: \n",
      "Could not immediately identify topology for (HOH . MAIN)\n",
      "SIMPLE-WARNING: \n",
      "Could not immediately identify topology for (HOH . MAIN)\n",
      "SIMPLE-WARNING: \n",
      "Could not immediately identify topology for (HOH . MAIN)\n",
      "SIMPLE-WARNING: \n",
      "Could not immediately identify topology for (HOH . MAIN)\n",
      "SIMPLE-WARNING: \n",
      "Could not immediately identify topology for (HOH . MAIN)\n",
      "SIMPLE-WARNING: \n",
      "Could not immediately identify topology for (HOH . MAIN)\n",
      "SIMPLE-WARNING: \n",
      "Could not immediately identify topology for (HOH . MAIN)\n",
      "SIMPLE-WARNING: \n",
      "Could not immediately identify topology for (HOH . MAIN)\n",
      "SIMPLE-WARNING: \n",
      "Could not immediately identify topology for (HOH . MAIN)\n",
      "SIMPLE-WARNING: \n",
      "Could not immediately identify topology for (HOH . MAIN)\n",
      "SIMPLE-WARNING: \n",
      "Could not immediately identify topology for (HOH . MAIN)\n",
      "SIMPLE-WARNING: \n",
      "Could not immediately identify topology for (HOH . MAIN)\n",
      "SIMPLE-WARNING: \n",
      "Could not immediately identify topology for (HOH . MAIN)\n",
      "SIMPLE-WARNING: \n",
      "Could not immediately identify topology for (HOH . MAIN)\n",
      "SIMPLE-WARNING: \n",
      "Could not immediately identify topology for (HOH . TAIL)\n",
      "SIMPLE-WARNING: \n",
      "Could not identify topology for (HOH . TAIL)\n"
     ]
    },
    {
     "data": {
      "text/plain": [
       "*9LYZAGG*"
      ]
     },
     "execution_count": 39,
     "metadata": {},
     "output_type": "execute_result"
    }
   ],
   "source": [
    "(defparameter *9lyzagg* (leap.pdb:load-pdb \"9lyz.pdb\"))"
   ]
  },
  {
   "cell_type": "code",
   "execution_count": 40,
   "metadata": {},
   "outputs": [
    {
     "data": {
      "application/vnd.jupyter.widget-view+json": {
       "model_id": "8FF5DE1C-8499-458E-B280-D5FC7346975C",
       "version_major": 2,
       "version_minor": 0
      },
      "text/plain": [
       "A Jupyter Widget"
      ]
     },
     "execution_count": 40,
     "metadata": {},
     "output_type": "execute_result"
    }
   ],
   "source": [
    "(:= w (show *9lyzagg*)) w"
   ]
  },
  {
   "cell_type": "code",
   "execution_count": 41,
   "metadata": {},
   "outputs": [
    {
     "data": {
      "text/plain": [
       "NIL"
      ]
     },
     "execution_count": 41,
     "metadata": {},
     "output_type": "execute_result"
    }
   ],
   "source": [
    "(defparameter *sugar9lyz* (chem:make-molecule))\n",
    "(chem:map-residues nil (lambda (r) (if (or (string= (chem:get-name r) \"AMU\")\n",
    "                                           (string= (chem:get-name r) \"NAG\"))\n",
    "                                       (chem:add-matter *sugar9lyz* r))) *9lyzagg*)\n",
    "(defparameter *sugar9lyzagg* (chem:make-aggregate))\n",
    "(chem:add-matter *sugar9lyzagg* *sugar9lyz*)"
   ]
  },
  {
   "cell_type": "code",
   "execution_count": 42,
   "metadata": {},
   "outputs": [
    {
     "data": {
      "application/vnd.jupyter.widget-view+json": {
       "model_id": "A7BD8517-CB6B-48D7-9EF3-9591EE0222F7",
       "version_major": 2,
       "version_minor": 0
      },
      "text/plain": [
       "A Jupyter Widget"
      ]
     },
     "execution_count": 42,
     "metadata": {},
     "output_type": "execute_result"
    }
   ],
   "source": [
    "(:= v (nglv::show-aggregate *sugar9lyzagg*)) v"
   ]
  },
  {
   "cell_type": "code",
   "execution_count": 43,
   "metadata": {},
   "outputs": [
    {
     "name": "stdout",
     "output_type": "stream",
     "text": [
      "Residue: C1\n",
      "Residue: C2\n",
      "Residue: C3\n",
      "Residue: C4\n",
      "Residue: C5\n",
      "Residue: C6\n",
      "Residue: C7\n",
      "Residue: C8\n",
      "Residue: C9\n",
      "Residue: C10\n",
      "Residue: C11\n",
      "Residue: O1\n",
      "Residue: O3\n",
      "Residue: O4\n",
      "Residue: O5\n",
      "Residue: O6\n",
      "Residue: O7\n",
      "Residue: O10\n",
      "Residue: N2\n"
     ]
    },
    {
     "data": {
      "text/plain": [
       "NIL"
      ]
     },
     "execution_count": 43,
     "metadata": {},
     "output_type": "execute_result"
    }
   ],
   "source": [
    "(:= *m* (chem:content-at *sugar9lyzagg* 0))\n",
    "(:= *res* (chem:content-at *m* 0))\n",
    "(chem:map-atoms nil (lambda (a) (format t \"Residue: ~a~%\" (chem:get-name a))) *res*)"
   ]
  },
  {
   "cell_type": "code",
   "execution_count": 44,
   "metadata": {},
   "outputs": [
    {
     "data": {
      "text/plain": [
       "*ATOM*"
      ]
     },
     "execution_count": 44,
     "metadata": {},
     "output_type": "execute_result"
    }
   ],
   "source": [
    "(:= *atom* (chem:content-with-name *res* :O1))"
   ]
  },
  {
   "cell_type": "code",
   "execution_count": 45,
   "metadata": {
    "scrolled": false
   },
   "outputs": [
    {
     "data": {
      "text/plain": [
       "NIL"
      ]
     },
     "execution_count": 45,
     "metadata": {},
     "output_type": "execute_result"
    }
   ],
   "source": [
    "(chem:remove-atom-delete-bonds *res* *atom*)"
   ]
  },
  {
   "cell_type": "code",
   "execution_count": 55,
   "metadata": {},
   "outputs": [
    {
     "data": {
      "text/plain": [
       "NIL"
      ]
     },
     "execution_count": 55,
     "metadata": {},
     "output_type": "execute_result"
    }
   ],
   "source": [
    "(chem:fill-in-implicit-hydrogens *sugar9lyzagg*)"
   ]
  },
  {
   "cell_type": "code",
   "execution_count": 57,
   "metadata": {},
   "outputs": [
    {
     "name": "stdout",
     "output_type": "stream",
     "text": [
      "Building from sorted-built: (#<ATOM :C2/:C> #<ATOM :O4/:O> #<ATOM :O5/:O>)\n",
      "Building from sorted-built: (#<ATOM :C1/:C> #<ATOM :C3/:C> #<ATOM :N2/:N>)\n",
      "Hydrogens built 3.0%\n",
      "Building from sorted-built: (#<ATOM :C2/:C> #<ATOM :C4/:C> #<ATOM :O3/:O>)\n",
      "Building from sorted-built: (#<ATOM :C3/:C> #<ATOM :C5/:C> #<ATOM :O4/:O>)\n",
      "Building from sorted-built: (#<ATOM :C4/:C> #<ATOM :C6/:C> #<ATOM :O5/:O>)\n",
      "Hydrogens built 11.0%\n",
      "Building from sorted-built: (#<ATOM :C8/:C> #<ATOM :N2/:N> #<ATOM :O7/:O>)\n",
      "Building from sorted-built: (#<ATOM :C10/:C> #<ATOM :C11/:C> #<ATOM :O3/:O>)\n",
      "Hydrogens built 20.0%\n",
      "Hydrogens built 30.0%\n",
      "Building from sorted-built: (#<ATOM :C2/:C> #<ATOM :O4/:O> #<ATOM :O5/:O>)\n",
      "Building from sorted-built: (#<ATOM :C1/:C> #<ATOM :C3/:C> #<ATOM :N2/:N>)\n",
      "Hydrogens built 40.0%\n",
      "Building from sorted-built: (#<ATOM :C2/:C> #<ATOM :C4/:C> #<ATOM :O3/:O>)\n",
      "Building from sorted-built: (#<ATOM :C3/:C> #<ATOM :C5/:C> #<ATOM :O4/:O>)\n",
      "Building from sorted-built: (#<ATOM :C4/:C> #<ATOM :C6/:C> #<ATOM :O5/:O>)\n",
      "Building from sorted-built: (#<ATOM :C8/:C> #<ATOM :N2/:N> #<ATOM :O7/:O>)\n",
      "Hydrogens built 50.0%\n",
      "Hydrogens built 61.0%\n",
      "Building from sorted-built: (#<ATOM :C2/:C> #<ATOM :O1/:O> #<ATOM :O5/:O>)\n",
      "Building from sorted-built: (#<ATOM :C1/:C> #<ATOM :C3/:C> #<ATOM :N2/:N>)\n",
      "Building from sorted-built: (#<ATOM :C2/:C> #<ATOM :C4/:C> #<ATOM :O3/:O>)\n",
      "Building from sorted-built: (#<ATOM :C3/:C> #<ATOM :C5/:C> #<ATOM :O4/:O>)\n",
      "Building from sorted-built: (#<ATOM :C4/:C> #<ATOM :C6/:C> #<ATOM :O5/:O>)\n",
      "Hydrogens built 71.0%\n",
      "Building from sorted-built: (#<ATOM :C8/:C> #<ATOM :N2/:N> #<ATOM :O7/:O>)\n",
      "Hydrogens built 81.0%\n",
      "Building from sorted-built: (#<ATOM :C10/:C> #<ATOM :C11/:C> #<ATOM :O3/:O>)\n",
      "Building from sorted-built: (#<ATOM :C9/:C> #<ATOM :O10/:O> #<ATOM :O11/:O>)\n",
      "Hydrogens built 91.0%\n"
     ]
    },
    {
     "data": {
      "text/plain": [
       "59"
      ]
     },
     "execution_count": 57,
     "metadata": {},
     "output_type": "execute_result"
    }
   ],
   "source": [
    "(cando:build-unbuilt-hydrogens *sugar9lyzagg*)"
   ]
  },
  {
   "cell_type": "code",
   "execution_count": 58,
   "metadata": {},
   "outputs": [
    {
     "data": {
      "application/vnd.jupyter.widget-view+json": {
       "model_id": "99ED00AD-82D4-4CE8-9EA2-D677C05B5DAC",
       "version_major": 2,
       "version_minor": 0
      },
      "text/plain": [
       "A Jupyter Widget"
      ]
     },
     "execution_count": 58,
     "metadata": {},
     "output_type": "execute_result"
    }
   ],
   "source": [
    "(:= v (nglv::show-aggregate *sugar9lyzagg*)) v"
   ]
  },
  {
   "cell_type": "code",
   "execution_count": 59,
   "metadata": {},
   "outputs": [
    {
     "name": "stdout",
     "output_type": "stream",
     "text": [
      "atom name C1\n",
      "atom name C2\n",
      "atom name C3\n",
      "atom name C4\n",
      "atom name C5\n",
      "atom name C6\n",
      "atom name C7\n",
      "atom name C8\n",
      "atom name C9\n",
      "atom name C10\n",
      "atom name C11\n",
      "atom name O3\n",
      "atom name O4\n",
      "atom name O5\n",
      "atom name O6\n",
      "atom name O7\n",
      "atom name O10\n",
      "atom name N2\n",
      "atom name H1\n",
      "atom name H2\n",
      "atom name H3\n",
      "atom name H4\n",
      "atom name H5\n",
      "atom name H61\n",
      "atom name H62\n",
      "atom name H7\n",
      "atom name H81\n",
      "atom name H82\n",
      "atom name H83\n",
      "atom name H9\n",
      "atom name H101\n",
      "atom name H102\n",
      "atom name H111\n",
      "atom name H112\n",
      "atom name H113\n",
      "atom name H4\n",
      "atom name H6\n",
      "atom name H7\n",
      "atom name H10\n",
      "atom name H2\n",
      "atom name C1\n",
      "atom name C2\n",
      "atom name C3\n",
      "atom name C4\n",
      "atom name C5\n",
      "atom name C6\n",
      "atom name C7\n",
      "atom name C8\n",
      "atom name N2\n",
      "atom name O3\n",
      "atom name O4\n",
      "atom name O5\n",
      "atom name O6\n",
      "atom name O7\n",
      "atom name H1\n",
      "atom name H2\n",
      "atom name H3\n",
      "atom name H4\n",
      "atom name H5\n",
      "atom name H61\n",
      "atom name H62\n",
      "atom name H7\n",
      "atom name H81\n",
      "atom name H82\n",
      "atom name H83\n",
      "atom name H2\n",
      "atom name H3\n",
      "atom name H6\n",
      "atom name H7\n",
      "atom name C1\n",
      "atom name C2\n",
      "atom name C3\n",
      "atom name C4\n",
      "atom name C5\n",
      "atom name C6\n",
      "atom name C7\n",
      "atom name C8\n",
      "atom name C9\n",
      "atom name C10\n",
      "atom name C11\n",
      "atom name O1\n",
      "atom name O3\n",
      "atom name O4\n",
      "atom name O5\n",
      "atom name O6\n",
      "atom name O7\n",
      "atom name O10\n",
      "atom name O11\n",
      "atom name N2\n",
      "atom name H1\n",
      "atom name H2\n",
      "atom name H3\n",
      "atom name H4\n",
      "atom name H5\n",
      "atom name H61\n",
      "atom name H62\n",
      "atom name H7\n",
      "atom name H81\n",
      "atom name H82\n",
      "atom name H83\n",
      "atom name H9\n",
      "atom name H10\n",
      "atom name H111\n",
      "atom name H112\n",
      "atom name H113\n",
      "atom name H1\n",
      "atom name H6\n",
      "atom name H7\n",
      "atom name H10\n",
      "atom name H11\n",
      "atom name H2\n",
      "key 110191 sign 1.0\n",
      "key 110111 sign 1.0\n",
      "key 110131 sign 1.0\n",
      "key 110131 sign 1.0\n",
      "key 110191 sign 1.0\n",
      "key 110111 sign 1.0\n",
      "key 110111 sign 1.0\n",
      "key 110121 sign 1.0\n",
      "key 110191 sign 1.0\n",
      "key 110111 sign 1.0\n",
      "key 110111 sign 1.0\n",
      "key 110131 sign 1.0\n",
      "key 110191 sign 1.0\n",
      "key 110111 sign 1.0\n",
      "key 110111 sign 1.0\n",
      "key 110131 sign 1.0\n",
      "key 110191 sign 1.0\n",
      "key 110111 sign 1.0\n",
      "key 110111 sign 1.0\n",
      "key 110131 sign 1.0\n",
      "key 110191 sign 1.0\n",
      "key 110191 sign 1.0\n",
      "key 110111 sign 1.0\n",
      "key 110131 sign 1.0\n",
      "key 110191 sign 1.0\n",
      "key 110111 sign 1.0\n",
      "key 110131 sign 1.0\n",
      "key 110121 sign 1.0\n",
      "key 110191 sign 1.0\n",
      "key 110191 sign 1.0\n",
      "key 110191 sign 1.0\n",
      "key 110111 sign 1.0\n",
      "key 110191 sign 1.0\n",
      "key 110111 sign 1.0\n",
      "key 110111 sign 1.0\n",
      "key 110131 sign 1.0\n",
      "key 110191 sign 1.0\n",
      "key 110191 sign 1.0\n",
      "key 110111 sign 1.0\n",
      "key 110131 sign 1.0\n",
      "key 110191 sign 1.0\n",
      "key 110191 sign 1.0\n",
      "key 110191 sign 1.0\n",
      "key 110111 sign 1.0\n",
      "key 110131 sign -1.0\n",
      "key 110131 sign -1.0\n",
      "key 310191 sign 1.0\n",
      "key 110131 sign -1.0\n",
      "key 110131 sign -1.0\n",
      "key 110131 sign -1.0\n",
      "key 310191 sign 1.0\n",
      "key 110131 sign -1.0\n",
      "key 310191 sign 1.0\n",
      "key 110131 sign -1.0\n",
      "key 310191 sign 1.0\n",
      "key 110131 sign -1.0\n",
      "key 210191 sign 1.0\n",
      "key 110121 sign -1.0\n",
      "key 110121 sign -1.0\n",
      "key 110191 sign -1.0\n",
      "key 110191 sign -1.0\n",
      "key 110191 sign -1.0\n",
      "key 110191 sign -1.0\n",
      "key 110191 sign -1.0\n",
      "key 110191 sign -1.0\n",
      "key 110191 sign -1.0\n",
      "key 110191 sign -1.0\n",
      "key 110191 sign -1.0\n",
      "key 110191 sign -1.0\n",
      "key 110191 sign -1.0\n",
      "key 110191 sign -1.0\n",
      "key 110191 sign -1.0\n",
      "key 110191 sign -1.0\n",
      "key 110191 sign -1.0\n",
      "key 110191 sign -1.0\n",
      "key 110191 sign -1.0\n",
      "key 310191 sign -1.0\n",
      "key 310191 sign -1.0\n",
      "key 310191 sign -1.0\n",
      "key 310191 sign -1.0\n",
      "key 210191 sign -1.0\n",
      "key 110191 sign 1.0\n",
      "key 110111 sign 1.0\n",
      "key 110131 sign 1.0\n",
      "key 110131 sign 1.0\n",
      "key 110191 sign 1.0\n",
      "key 110111 sign 1.0\n",
      "key 110111 sign 1.0\n",
      "key 110121 sign 1.0\n",
      "key 110191 sign 1.0\n",
      "key 110111 sign 1.0\n",
      "key 110111 sign 1.0\n",
      "key 110131 sign 1.0\n",
      "key 110191 sign 1.0\n",
      "key 110111 sign 1.0\n",
      "key 110111 sign 1.0\n",
      "key 110131 sign 1.0\n",
      "key 110191 sign 1.0\n",
      "key 110111 sign 1.0\n",
      "key 110111 sign 1.0\n",
      "key 110131 sign 1.0\n",
      "key 110191 sign 1.0\n",
      "key 110191 sign 1.0\n",
      "key 110111 sign 1.0\n",
      "key 110131 sign 1.0\n",
      "key 110191 sign 1.0\n",
      "key 110111 sign 1.0\n",
      "key 110121 sign 1.0\n",
      "key 110131 sign 1.0\n",
      "key 110191 sign 1.0\n",
      "key 110191 sign 1.0\n",
      "key 110191 sign 1.0\n",
      "key 110111 sign 1.0\n",
      "key 210191 sign 1.0\n",
      "key 110121 sign -1.0\n",
      "key 110121 sign -1.0\n",
      "key 310191 sign 1.0\n",
      "key 110131 sign -1.0\n",
      "key 110131 sign -1.0\n",
      "key 110131 sign -1.0\n",
      "key 110131 sign -1.0\n",
      "key 110131 sign -1.0\n",
      "key 310191 sign 1.0\n",
      "key 110131 sign -1.0\n",
      "key 310191 sign 1.0\n",
      "key 110131 sign -1.0\n",
      "key 110191 sign -1.0\n",
      "key 110191 sign -1.0\n",
      "key 110191 sign -1.0\n",
      "key 110191 sign -1.0\n",
      "key 110191 sign -1.0\n",
      "key 110191 sign -1.0\n",
      "key 110191 sign -1.0\n",
      "key 110191 sign -1.0\n",
      "key 110191 sign -1.0\n",
      "key 110191 sign -1.0\n",
      "key 110191 sign -1.0\n",
      "key 210191 sign -1.0\n",
      "key 310191 sign -1.0\n",
      "key 310191 sign -1.0\n",
      "key 310191 sign -1.0\n",
      "key 110191 sign 1.0\n",
      "key 110111 sign 1.0\n",
      "key 110131 sign 1.0\n",
      "key 110131 sign 1.0\n",
      "key 110191 sign 1.0\n",
      "key 110111 sign 1.0\n",
      "key 110111 sign 1.0\n",
      "key 110121 sign 1.0\n",
      "key 110191 sign 1.0\n",
      "key 110111 sign 1.0\n",
      "key 110111 sign 1.0\n",
      "key 110131 sign 1.0\n",
      "key 110191 sign 1.0\n",
      "key 110111 sign 1.0\n",
      "key 110111 sign 1.0\n",
      "key 110131 sign 1.0\n",
      "key 110191 sign 1.0\n",
      "key 110111 sign 1.0\n",
      "key 110111 sign 1.0\n",
      "key 110131 sign 1.0\n",
      "key 110191 sign 1.0\n",
      "key 110191 sign 1.0\n",
      "key 110111 sign 1.0\n",
      "key 110131 sign 1.0\n",
      "key 110191 sign 1.0\n",
      "key 110111 sign 1.0\n",
      "key 110131 sign 1.0\n",
      "key 110121 sign 1.0\n",
      "key 110191 sign 1.0\n",
      "key 110191 sign 1.0\n",
      "key 110191 sign 1.0\n",
      "key 110111 sign 1.0\n",
      "key 110191 sign 1.0\n",
      "key 110111 sign 1.0\n",
      "key 110111 sign 1.0\n",
      "key 110131 sign 1.0\n",
      "key 110191 sign 1.0\n",
      "key 110111 sign 1.0\n",
      "key 110131 sign 1.0\n",
      "key 110131 sign 1.0\n",
      "key 110191 sign 1.0\n",
      "key 110191 sign 1.0\n",
      "key 110191 sign 1.0\n",
      "key 110111 sign 1.0\n",
      "key 310191 sign 1.0\n",
      "key 110131 sign -1.0\n",
      "key 110131 sign -1.0\n",
      "key 110131 sign -1.0\n",
      "key 110131 sign -1.0\n",
      "key 110131 sign -1.0\n",
      "key 110131 sign -1.0\n",
      "key 110131 sign -1.0\n",
      "key 310191 sign 1.0\n",
      "key 110131 sign -1.0\n",
      "key 310191 sign 1.0\n",
      "key 110131 sign -1.0\n",
      "key 310191 sign 1.0\n",
      "key 110131 sign -1.0\n",
      "key 310191 sign 1.0\n",
      "key 110131 sign -1.0\n",
      "key 210191 sign 1.0\n",
      "key 110121 sign -1.0\n",
      "key 110121 sign -1.0\n",
      "key 110191 sign -1.0\n",
      "key 110191 sign -1.0\n",
      "key 110191 sign -1.0\n",
      "key 110191 sign -1.0\n",
      "key 110191 sign -1.0\n",
      "key 110191 sign -1.0\n",
      "key 110191 sign -1.0\n",
      "key 110191 sign -1.0\n",
      "key 110191 sign -1.0\n",
      "key 110191 sign -1.0\n",
      "key 110191 sign -1.0\n",
      "key 110191 sign -1.0\n",
      "key 110191 sign -1.0\n",
      "key 110191 sign -1.0\n",
      "key 110191 sign -1.0\n",
      "key 110191 sign -1.0\n",
      "key 310191 sign -1.0\n",
      "key 310191 sign -1.0\n",
      "key 310191 sign -1.0\n",
      "key 310191 sign -1.0\n",
      "key 310191 sign -1.0\n",
      "key 210191 sign -1.0\n"
     ]
    },
    {
     "data": {
      "text/plain": [
       "*C*"
      ]
     },
     "execution_count": 59,
     "metadata": {},
     "output_type": "execute_result"
    }
   ],
   "source": [
    "(:= *c* (charges:calculate-am1-bcc-corrections *sugar9lyzagg*))"
   ]
  },
  {
   "cell_type": "code",
   "execution_count": 60,
   "metadata": {},
   "outputs": [
    {
     "data": {
      "text/plain": [
       "#<HASH-TABLE-EQL :count 111 :total-alist-entries 111 @0x12074fb48> "
      ]
     },
     "execution_count": 60,
     "metadata": {},
     "output_type": "execute_result"
    }
   ],
   "source": [
    "*c*"
   ]
  },
  {
   "cell_type": "code",
   "execution_count": 17,
   "metadata": {},
   "outputs": [
    {
     "name": "stdout",
     "output_type": "stream",
     "text": [
      "type CT\n",
      "type C\n",
      "type O\n",
      "type HC\n",
      "type HC\n",
      "type HC\n",
      "type CX\n",
      "type N\n",
      "type H1\n",
      "type CT\n",
      "type C\n",
      "type O\n",
      "type HC\n",
      "type HC\n",
      "type HC\n",
      "type H\n",
      "type N\n",
      "type CT\n",
      "type H1\n",
      "type H1\n",
      "type H1\n",
      "type H\n"
     ]
    },
    {
     "data": {
      "text/plain": [
       "NIL"
      ]
     },
     "execution_count": 17,
     "metadata": {},
     "output_type": "execute_result"
    }
   ],
   "source": [
    "(chem:map-atoms nil (lambda (r) (format t \"type ~a~%\" (chem:get-type r))) *ala*)"
   ]
  },
  {
   "cell_type": "code",
   "execution_count": 22,
   "metadata": {},
   "outputs": [
    {
     "data": {
      "text/plain": [
       "*B*"
      ]
     },
     "execution_count": 22,
     "metadata": {},
     "output_type": "execute_result"
    }
   ],
   "source": [
    "(:= *b* (picked-atoms *picks* *ala* 1))"
   ]
  },
  {
   "cell_type": "code",
   "execution_count": 23,
   "metadata": {},
   "outputs": [
    {
     "data": {
      "text/plain": [
       "(#<ATOM :NH/:N>)"
      ]
     },
     "execution_count": 23,
     "metadata": {},
     "output_type": "execute_result"
    }
   ],
   "source": [
    "*b*"
   ]
  },
  {
   "cell_type": "code",
   "execution_count": null,
   "metadata": {
    "collapsed": true
   },
   "outputs": [],
   "source": []
  }
 ],
 "metadata": {
  "kernelspec": {
   "display_name": "Cando",
   "language": "lisp",
   "name": "lisp"
  },
  "language_info": {
   "codemirror_mode": "text/x-common-lisp",
   "mimetype": "text/x-common-lisp",
   "name": "common-lisp",
   "pygments_lexer": "common-lisp",
   "version": "X3J13"
  }
 },
 "nbformat": 4,
 "nbformat_minor": 2
}
