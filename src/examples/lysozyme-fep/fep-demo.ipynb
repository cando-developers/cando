{
 "cells": [
  {
   "cell_type": "markdown",
   "metadata": {},
   "source": [
    "# A Cando-app to setup free energy perturbation calculations using AMBER"
   ]
  },
  {
   "cell_type": "markdown",
   "metadata": {},
   "source": [
    "First we do the following:\n",
    "\n",
    "  * Load the FEP package.\n",
    "  * Set things up to carry out geometry optimization using Amber."
   ]
  },
  {
   "cell_type": "code",
   "execution_count": 1,
   "metadata": {},
   "outputs": [
    {
     "data": {
      "text/plain": [
       "#P\"/Users/meister/Development/cando-dev/extensions/cando/src/examples/lysozyme-fep/\""
      ]
     },
     "execution_count": 1,
     "metadata": {},
     "output_type": "execute_result"
    }
   ],
   "source": [
    "*default-pathname-defaults*"
   ]
  },
  {
   "cell_type": "code",
   "execution_count": 2,
   "metadata": {
    "scrolled": true
   },
   "outputs": [
    {
     "name": "stdout",
     "output_type": "stream",
     "text": [
      "To load \"fep\":\n",
      "  Load 1 ASDF system:\n",
      "    fep\n",
      "\n",
      "; Loading \"fep\"\n",
      "\n"
     ]
    },
    {
     "data": {
      "text/plain": [
       "(:FEP)"
      ]
     },
     "execution_count": 2,
     "metadata": {},
     "output_type": "execute_result"
    }
   ],
   "source": [
    "(ql:quickload :fep)"
   ]
  },
  {
   "cell_type": "code",
   "execution_count": 3,
   "metadata": {},
   "outputs": [
    {
     "name": "stdout",
     "output_type": "stream",
     "text": [
      "Paths: (/Users/meister/Development/cando-dev/extensions/cando/src/examples/lysozyme-fep/\n",
      " /Users/meister/Dropbox/amber18/dat/antechamber/\n",
      " /Users/meister/Dropbox/amber18/dat/leap/cmd/\n",
      " /Users/meister/Dropbox/amber18/dat/leap/parm/\n",
      " /Users/meister/Dropbox/amber18/dat/leap/lib/\n",
      " /Users/meister/Dropbox/amber18/dat/leap/prep/)\n"
     ]
    },
    {
     "data": {
      "text/plain": [
       "NIL"
      ]
     },
     "execution_count": 3,
     "metadata": {},
     "output_type": "execute_result"
    }
   ],
   "source": [
    "(setup-default-paths)"
   ]
  },
  {
   "cell_type": "code",
   "execution_count": 4,
   "metadata": {},
   "outputs": [
    {
     "data": {
      "text/plain": [
       "#<FORCE-FIELD ATOMTYPE_GFF.DEF>"
      ]
     },
     "execution_count": 4,
     "metadata": {},
     "output_type": "execute_result"
    }
   ],
   "source": [
    "(load-atom-type-rules \"ATOMTYPE_GFF.DEF\")"
   ]
  },
  {
   "cell_type": "code",
   "execution_count": 5,
   "metadata": {},
   "outputs": [
    {
     "data": {
      "text/plain": [
       "89049"
      ]
     },
     "execution_count": 5,
     "metadata": {},
     "output_type": "execute_result"
    }
   ],
   "source": [
    "(core:getpid)"
   ]
  },
  {
   "cell_type": "code",
   "execution_count": 6,
   "metadata": {},
   "outputs": [
    {
     "name": "stdout",
     "output_type": "stream",
     "text": [
      "Adding force field parm10.dat to DEFAULT\n",
      "Adding force field frcmod.ff14SB to DEFAULT\n"
     ]
    },
    {
     "name": "stderr",
     "output_type": "stream",
     "text": [
      "\n",
      "add-atom-types doesn't do anything\n",
      "\n",
      "Warning!  Skipping 10-12 hbond\n",
      "\n",
      "\n",
      "Warning!  Skipping force field atom equivalences\n",
      "\n"
     ]
    },
    {
     "data": {
      "text/plain": [
       "T"
      ]
     },
     "execution_count": 6,
     "metadata": {},
     "output_type": "execute_result"
    }
   ],
   "source": [
    "(loop repeat 10(source \"leaprc.ff14SB.redq\")"
   ]
  },
  {
   "cell_type": "code",
   "execution_count": 7,
   "metadata": {},
   "outputs": [
    {
     "name": "stdout",
     "output_type": "stream",
     "text": [
      "Adding force field gaff.dat to DEFAULT\n"
     ]
    },
    {
     "name": "stderr",
     "output_type": "stream",
     "text": [
      "\n",
      "add-atom-types doesn't do anything\n",
      "\n",
      "Warning!  Skipping 10-12 hbond\n",
      "\n",
      "\n",
      "Warning!  Skipping force field atom equivalences\n",
      "\n"
     ]
    },
    {
     "data": {
      "text/plain": [
       "T"
      ]
     },
     "execution_count": 7,
     "metadata": {},
     "output_type": "execute_result"
    }
   ],
   "source": [
    "(source \"leaprc.gaff\")"
   ]
  },
  {
   "cell_type": "code",
   "execution_count": 8,
   "metadata": {},
   "outputs": [
    {
     "name": "stdout",
     "output_type": "stream",
     "text": [
      ":DEFAULT (#<FORCE-FIELD gaff.dat> #<FORCE-FIELD frcmod.ff14SB> #<FORCE-FIELD parm10.dat>\n",
      " #<FORCE-FIELD ATOMTYPE_GFF.DEF> #<FORCE-FIELD >)\n"
     ]
    },
    {
     "data": {
      "text/plain": [
       "NIL"
      ]
     },
     "execution_count": 8,
     "metadata": {},
     "output_type": "execute_result"
    }
   ],
   "source": [
    "(list-force-fields)"
   ]
  },
  {
   "cell_type": "code",
   "execution_count": 9,
   "metadata": {},
   "outputs": [
    {
     "data": {
      "text/plain": [
       "T"
      ]
     },
     "execution_count": 9,
     "metadata": {},
     "output_type": "execute_result"
    }
   ],
   "source": [
    "(start-swank)"
   ]
  },
  {
   "cell_type": "code",
   "execution_count": 10,
   "metadata": {},
   "outputs": [
    {
     "data": {
      "text/plain": [
       "*FOO*"
      ]
     },
     "execution_count": 10,
     "metadata": {},
     "output_type": "execute_result"
    }
   ],
   "source": [
    "(defparameter *foo* 1234)"
   ]
  },
  {
   "cell_type": "markdown",
   "metadata": {},
   "source": [
    "# Start a new FEP calculation"
   ]
  },
  {
   "cell_type": "code",
   "execution_count": 11,
   "metadata": {},
   "outputs": [
    {
     "data": {
      "text/plain": [
       "*FEPS*"
      ]
     },
     "execution_count": 11,
     "metadata": {},
     "output_type": "execute_result"
    }
   ],
   "source": [
    "(defparameter *feps* (make-instance 'fep::fep-calculation))"
   ]
  },
  {
   "cell_type": "markdown",
   "metadata": {},
   "source": [
    "# Import sketch - use Chemdraw"
   ]
  },
  {
   "cell_type": "markdown",
   "metadata": {},
   "source": [
    "## Open chemdraw and add more functional groups if you want"
   ]
  },
  {
   "cell_type": "code",
   "execution_count": 149,
   "metadata": {},
   "outputs": [
    {
     "data": {
      "image/png": "[encoded data removed]",
      "text/plain": [
       "#<CL-JUPYTER-USER::PNG-BYTES>"
      ]
     },
     "execution_count": 149,
     "metadata": {},
     "output_type": "execute_result"
    }
   ],
   "source": [
    "(png-from-file \"ligands.png\" )"
   ]
  },
  {
   "cell_type": "code",
   "execution_count": 152,
   "metadata": {},
   "outputs": [
    {
     "name": "stdout",
     "output_type": "stream",
     "text": [
      "ChemDraw_O::parse child of page with name(fragment)\n",
      "CDFragment - starting\n",
      "CDNode id(337) color(3) label(C_337)\n",
      "CDNode id(339) color(3) label(C1)\n",
      "CDNode id(341) color(3) label(C_341)\n",
      "CDNode id(343) color(3) label(C3)\n",
      "CDNode id(345) color(3) label(C_345)\n",
      "CDNode id(347) color(3) label(C5)\n",
      "CDNode id(363) color(3) label(ZA?)\n",
      "CDNode id(365) color(3) label(:topology :CRA)\n",
      "CDBond _IdBegin(337) _IdEnd(339) order(2) display()\n",
      "CDBond _IdBegin(339) _IdEnd(341) order(1) display()\n",
      "CDBond _IdBegin(341) _IdEnd(343) order(2) display()\n",
      "CDBond _IdBegin(343) _IdEnd(345) order(1) display()\n",
      "CDBond _IdBegin(345) _IdEnd(347) order(2) display()\n",
      "CDBond _IdBegin(347) _IdEnd(337) order(1) display()\n",
      "CDBond _IdBegin(337) _IdEnd(363) order(1) display()\n",
      "CDBond _IdBegin(341) _IdEnd(365) order(1) display(Wavy)\n",
      "CDFragment - done.\n",
      "Adding molecule property :TOPOLOGY value: :CRA\n",
      "ChemDraw_O::parse child of page with name(fragment)\n",
      "CDFragment - starting\n",
      "CDNode id(355) color(3) label(H)\n",
      "CDNode id(357) color(3) label(ZAA)\n",
      "CDBond _IdBegin(355) _IdEnd(357) order(1) display()\n",
      "CDFragment - done.\n",
      "ChemDraw_O::parse child of page with name(fragment)\n",
      "CDFragment - starting\n",
      "CDNode id(359) color(3) label(OH)\n",
      "CDNode id(361) color(3) label(ZAB)\n",
      "CDBond _IdBegin(359) _IdEnd(361) order(1) display()\n",
      "CDFragment - done.\n",
      "ChemDraw_O::parse done.\n"
     ]
    },
    {
     "data": {
      "text/plain": [
       "*SK*"
      ]
     },
     "execution_count": 152,
     "metadata": {},
     "output_type": "execute_result"
    }
   ],
   "source": [
    "(defparameter *sk* (handler-bind ((warning #'muffle-warning))\n",
    "             (with-open-file (fin (open \"ligands.cdxml\" :direction :input))\n",
    "             (chem:make-chem-draw fin :add-hydrogens nil))))"
   ]
  },
  {
   "cell_type": "code",
   "execution_count": 153,
   "metadata": {},
   "outputs": [
    {
     "name": "stdout",
     "output_type": "stream",
     "text": [
      "Swank is already running\n"
     ]
    },
    {
     "data": {
      "text/plain": [
       "NIL"
      ]
     },
     "execution_count": 153,
     "metadata": {},
     "output_type": "execute_result"
    }
   ],
   "source": [
    "(start-swank)"
   ]
  },
  {
   "cell_type": "code",
   "execution_count": 154,
   "metadata": {},
   "outputs": [
    {
     "name": "stdout",
     "output_type": "stream",
     "text": [
      "Average bond length: 29.99970501898104d0\n",
      "In build-topologys core-group: (#<ATOM :C_341/:C @0x13f9a8699> #<ATOM :C1/:C @0x13f9a8789>\n",
      " #<ATOM :C3/:C @0x13f9a85a9> #<ATOM :C_337/:C @0x13f9a8879>\n",
      " #<ATOM :C_345/:C @0x13f9a84b9> #<ATOM :C5/:C @0x13f9a83c9>\n",
      " #<ATOM :ZA?/:NE @0x13f9a81e9>)\n",
      "side-chain-groups: #<HASH-TABLE-EQL :HashTableCount 2 :calculated-entries 2 :size 16 @0x13c6b4058>\n",
      "map-names-numbers: #<HASH-TABLE-EQL :HashTableCount 0 :calculated-entries 0 :size 16 @0x13c6b40f8>\n",
      "Hydrogens built 100.0% elapsed: -- ETC: --   \n",
      "Hydrogens built 100.0% elapsed: -- ETC: --   \n"
     ]
    },
    {
     "data": {
      "text/plain": [
       "(#<FEP-STRUCTURE AA> #<FEP-STRUCTURE AB>)"
      ]
     },
     "execution_count": 154,
     "metadata": {},
     "output_type": "execute_result"
    }
   ],
   "source": [
    "(fep:setup-ligands *feps* *sk*)"
   ]
  },
  {
   "cell_type": "code",
   "execution_count": 155,
   "metadata": {
    "scrolled": true
   },
   "outputs": [
    {
     "data": {
      "application/vnd.jupyter.widget-view+json": {
       "model_id": "155561C3-DFB2-4E10-ACC3-B569CB343D35",
       "version_major": 2,
       "version_minor": 0
      },
      "text/plain": [
       "#<NGLV:NGLWIDGET>"
      ]
     },
     "execution_count": 155,
     "metadata": {},
     "output_type": "execute_result"
    }
   ],
   "source": [
    "(defparameter *v* (show (fep:layout-ligands *feps*))) *v*"
   ]
  },
  {
   "cell_type": "code",
   "execution_count": 156,
   "metadata": {},
   "outputs": [
    {
     "data": {
      "text/plain": [
       "*TESTS*"
      ]
     },
     "execution_count": 156,
     "metadata": {},
     "output_type": "execute_result"
    }
   ],
   "source": [
    "(defparameter *tests* (list (cons :c1 (lambda (a) (eq (chem:get-name a) :c1)))\n",
    "                  (cons :c3 (lambda (a) (eq (chem:get-name a) :c3)))\n",
    "                  (cons :c5 (lambda (a) (eq (chem:get-name a) :c5)))))"
   ]
  },
  {
   "cell_type": "code",
   "execution_count": 157,
   "metadata": {},
   "outputs": [
    {
     "data": {
      "text/plain": [
       "*PICK*"
      ]
     },
     "execution_count": 157,
     "metadata": {},
     "output_type": "execute_result"
    }
   ],
   "source": [
    "(defparameter *pick* (chem:compile-smarts \n",
    "             \"[C:6]1~[C<c1>:1]~[C:2]~[C<c3>:3]~[C:4]~[C<c5>:5]1\" :tests *tests*))"
   ]
  },
  {
   "cell_type": "code",
   "execution_count": 158,
   "metadata": {},
   "outputs": [
    {
     "data": {
      "application/vnd.jupyter.widget-view+json": {
       "model_id": "11DDC1E5-A0D7-431C-A91F-8169419281BD",
       "version_major": 2,
       "version_minor": 0
      },
      "text/plain": [
       "#<NGLV:NGLWIDGET>"
      ]
     },
     "execution_count": 158,
     "metadata": {},
     "output_type": "execute_result"
    }
   ],
   "source": [
    "(show (fep:molecule (find-if (lambda (x) (eq (fep:name x) :AA)) (fep:ligands *feps*))))"
   ]
  },
  {
   "cell_type": "markdown",
   "metadata": {},
   "source": [
    "# Load the lysozyme PDB file"
   ]
  },
  {
   "cell_type": "code",
   "execution_count": 169,
   "metadata": {
    "scrolled": true
   },
   "outputs": [
    {
     "name": "stdout",
     "output_type": "stream",
     "text": [
      "\n",
      "Creating molecule with name: A\n",
      "\n"
     ]
    },
    {
     "name": "stderr",
     "output_type": "stream",
     "text": [
      "\n",
      "There are 1 unbuilt heavy atoms - not building hydrogens\n"
     ]
    },
    {
     "data": {
      "text/plain": [
       "*LYSOZYME*"
      ]
     },
     "execution_count": 169,
     "metadata": {},
     "output_type": "execute_result"
    }
   ],
   "source": [
    "(defparameter *lysozyme* (load-pdb \"181L_mod.pdb\"))"
   ]
  },
  {
   "cell_type": "code",
   "execution_count": 170,
   "metadata": {},
   "outputs": [
    {
     "name": "stdout",
     "output_type": "stream",
     "text": [
      "Building from sorted-built: (#<ATOM :C/:C @0x11fec04b9> #<ATOM :CB/:C @0x120b82009>\n",
      " #<ATOM :N/:N @0x120b825a9>)\n",
      "Hydrogens built   0.0% elapsed: -- ETC: --   Building from sorted-built: (#<ATOM :C/:C @0x11ff0f4b9> #<ATOM :CB/:C @0x11ff0ff09>\n",
      " #<ATOM :N/:N @0x11fec02d9>)\n",
      "Hydrogens built   1.0% elapsed: -- ETC: --   Building from sorted-built: (#<ATOM :C/:C @0x11f997d29> #<ATOM :CB/:C @0x11ffa0f09>\n",
      " #<ATOM :N/:N @0x11ff0f2d9>)\n",
      "Building from sorted-built: (#<ATOM :CA/:C @0x11ff0f0f9> #<ATOM :CG1/:C @0x11ffa03c9>\n",
      " #<ATOM :CG2/:C @0x11ffa0d29>)\n",
      "Hydrogens built   2.0% elapsed: -- ETC: --   Building from sorted-built: (#<ATOM :C/:C @0x11f9e5009> #<ATOM :CB/:C @0x11f997789>\n",
      " #<ATOM :N/:N @0x11f997b49>)\n",
      "Building from sorted-built: (#<ATOM :C/:C @0x11da7fb49> #<ATOM :CB/:C @0x11fa60699>\n",
      " #<ATOM :N/:N @0x11fa60e19>)\n",
      "Hydrogens built   3.0% elapsed: -- ETC: --   Building from sorted-built: (#<ATOM :C/:C @0x11d7ea969> #<ATOM :CB/:C @0x11db023c9>\n",
      " #<ATOM :N/:N @0x11da7f969>)\n",
      "Hydrogens built   4.0% elapsed: -- ETC: --   Building from sorted-built: (#<ATOM :C/:C @0x11c9b6969> #<ATOM :CB/:C @0x11d7ea3c9>\n",
      " #<ATOM :N/:N @0x11d7ea789>)\n",
      "Building from sorted-built: (#<ATOM :CB/:C @0x11d7ea3c9> #<ATOM :CD1/:C @0x11d15bb49>\n",
      " #<ATOM :CD2/:C @0x11d15b789>)\n",
      "Building from sorted-built: (#<ATOM :C/:C @0x11cbe0009> #<ATOM :CB/:C @0x11c9b63c9>\n",
      " #<ATOM :N/:N @0x11c9b6789>)\n",
      "Hydrogens built   5.0% elapsed: -- ETC: --   Building from sorted-built: (#<ATOM :C/:C @0x11bd6c3c9> #<ATOM :CB/:C @0x11c1290f9>\n",
      " #<ATOM :N/:N @0x11c0500f9>)\n",
      "Building from sorted-built: (#<ATOM :CA/:C @0x11c1292d9> #<ATOM :CG1/:C @0x11bd6cf09>\n",
      " #<ATOM :CG2/:C @0x11c1c2789>)\n",
      "Hydrogens built   6.0% elapsed: -- ETC: --   Building from sorted-built: (#<ATOM :C/:C @0x11bf35969> #<ATOM :CB/:C @0x11bf1c1e9>\n",
      " #<ATOM :N/:N @0x11bf1c5a9>)\n",
      "Hydrogens built   7.0% elapsed: -- ETC: --   Building from sorted-built: (#<ATOM :C/:C @0x11baf8969> #<ATOM :CB/:C @0x11ba17789>\n",
      " #<ATOM :N/:N @0x11ba17e19>)\n",
      "Building from sorted-built: (#<ATOM :C/:C @0x119a2b3c9> #<ATOM :CB/:C @0x11b7e0f09>\n",
      " #<ATOM :N/:N @0x11b7b45a9>)\n",
      "Building from sorted-built: (#<ATOM :CB/:C @0x11b7e0f09> #<ATOM :CD1/:C @0x11b7e0699>\n",
      " #<ATOM :CD2/:C @0x11b7e0009>)\n",
      "Hydrogens built   8.0% elapsed: -- ETC: --   Building from sorted-built: (#<ATOM :C/:C @0x117bb7e19> #<ATOM :CB/:C @0x119461e19>\n",
      " #<ATOM :N/:N @0x119a2b1e9>)\n",
      "Hydrogens built   9.0% elapsed: -- ETC: --   Building from sorted-built: (#<ATOM :C/:C @0x116060e19> #<ATOM :CB/:C @0x117bb71e9>\n",
      " #<ATOM :N/:N @0x117bb7c39>)\n",
      "Building from sorted-built: (#<ATOM :CB/:C @0x117bb71e9> #<ATOM :CD1/:C @0x116cf6d29>\n",
      " #<ATOM :CD2/:C @0x116cf6969>)\n",
      "Hydrogens built  10.0% elapsed: -- ETC: --   Building from sorted-built: (#<ATOM :C/:C @0x115ddbe19> #<ATOM :CB/:C @0x1160600f9>\n",
      " #<ATOM :N/:N @0x116060c39>)\n",
      "Hydrogens built  11.0% elapsed: -- ETC: --   Building from sorted-built: (#<ATOM :C/:C @0x115e2a0f9> #<ATOM :CB/:C @0x115ddb879>\n",
      " #<ATOM :N/:N @0x115ddbc39>)\n",
      "Building from sorted-built: (#<ATOM :CA/:C @0x115ddba59> #<ATOM :CG1/:C @0x115ddb009>\n",
      " #<ATOM :CG2/:C @0x115ddb699>)\n",
      "Hydrogens built  12.0% elapsed: -- ETC: --   Building from sorted-built: (#<ATOM :C/:C @0x115330c39> #<ATOM :CB/:C @0x115ff2b49>\n",
      " #<ATOM :N/:N @0x115ff2f09>)\n",
      "Building from sorted-built: (#<ATOM :C/:C @0x114bd9d29> #<ATOM :CB/:C @0x1153302d9>\n",
      " #<ATOM :N/:N @0x115330a59>)\n",
      "Hydrogens built  13.0% elapsed: -- ETC: --   Building from sorted-built: (#<ATOM :C/:C @0x1121e05a9> #<ATOM :CB/:C @0x1121e0b49>\n",
      " #<ATOM :N/:N @0x1121e0f09>)\n",
      "Hydrogens built  14.0% elapsed: -- ETC: --   Building from sorted-built: (#<ATOM :C/:C @0x12ee76b49> #<ATOM :CB/:C @0x10b3ad2d9>\n",
      " #<ATOM :N/:N @0x1121e00f9>)\n",
      "Building from sorted-built: (#<ATOM :CA/:C @0x10b3ad4b9> #<ATOM :CG2/:C @0x10b3ad0f9>\n",
      " #<ATOM :OG1/:O @0x12ee76d29>)\n",
      "Building from sorted-built: (#<ATOM :C/:C @0x12ee78d29> #<ATOM :CB/:C @0x12ee765a9>\n",
      " #<ATOM :N/:N @0x12ee76969>)\n",
      "Hydrogens built  15.0% elapsed: -- ETC: --   Building from sorted-built: (#<ATOM :C/:C @0x12efff2d9> #<ATOM :CB/:C @0x12ee780f9>\n",
      " #<ATOM :N/:N @0x12ee784b9>)\n",
      "Hydrogens built  16.0% elapsed: -- ETC: --   Building from sorted-built: (#<ATOM :C/:C @0x12e9cef09> #<ATOM :CB/:C @0x12e87bd29>\n",
      " #<ATOM :N/:N @0x12efff0f9>)\n",
      "Building from sorted-built: (#<ATOM :C/:C @0x12e9ce1e9> #<ATOM :CB/:C @0x12e9ce969>\n",
      " #<ATOM :N/:N @0x12e9ced29>)\n",
      "Building from sorted-built: (#<ATOM :CA/:C @0x12e9ceb49> #<ATOM :CG2/:C @0x12e9ce789>\n",
      " #<ATOM :OG1/:O @0x12e9ce3c9>)\n",
      "Hydrogens built  17.0% elapsed: -- ETC: --   Building from sorted-built: (#<ATOM :C/:C @0x12eb22009> #<ATOM :CB/:C @0x12eb22c39>\n",
      " #<ATOM :N/:N @0x12e9ce009>)\n",
      "Building from sorted-built: (#<ATOM :CA/:C @0x12eb22e19> #<ATOM :CG1/:C @0x12eb22699>\n",
      " #<ATOM :CG2/:C @0x12eb22a59>)\n",
      "Hydrogens built  18.0% elapsed: -- ETC: --   Building from sorted-built: (#<ATOM :C/:C @0x12e45e789> #<ATOM :CB/:C @0x12eb2d3c9>\n",
      " #<ATOM :N/:N @0x12eb2d789>)\n",
      "Building from sorted-built: (#<ATOM :CA/:C @0x12eb2d5a9> #<ATOM :CG1/:C @0x12e45ee19>\n",
      " #<ATOM :CG2/:C @0x12eb2d1e9>)\n",
      "Hydrogens built  19.0% elapsed: -- ETC: --   Building from sorted-built: (#<ATOM :C/:C @0x12e55c0f9> #<ATOM :CB/:C @0x12e55cb49>\n",
      " #<ATOM :N/:N @0x12e55cf09>)\n",
      "Building from sorted-built: (#<ATOM :C/:C @0x12e63ff09> #<ATOM :CB/:C @0x12e616b49>\n",
      " #<ATOM :N/:N @0x12e616f09>)\n",
      "Hydrogens built  20.0% elapsed: -- ETC: --   Building from sorted-built: (#<ATOM :CB/:C @0x12e616b49> #<ATOM :CD1/:C @0x12e616699>\n",
      " #<ATOM :CD2/:C @0x12e6162d9>)\n",
      "Building from sorted-built: (#<ATOM :C/:C @0x12e761d29> #<ATOM :CB/:C @0x12e63f969>\n",
      " #<ATOM :N/:N @0x12e63fd29>)\n",
      "Hydrogens built  21.0% elapsed: -- ETC: --   Building from sorted-built: (#<ATOM :CB/:C @0x12e63f969> #<ATOM :CD1/:C @0x12e63f4b9>\n",
      " #<ATOM :CD2/:C @0x12e63f0f9>)\n",
      "Building from sorted-built: (#<ATOM :C/:C @0x12e761009> #<ATOM :CB/:C @0x12e761789>\n",
      " #<ATOM :N/:N @0x12e761b49>)\n",
      "Building from sorted-built: (#<ATOM :CA/:C @0x12e761969> #<ATOM :CG2/:C @0x12e7615a9>\n",
      " #<ATOM :OG1/:O @0x12e7611e9>)\n",
      "Hydrogens built  22.0% elapsed: -- ETC: --   Building from sorted-built: (#<ATOM :C/:C @0x12e127b49> #<ATOM :CB/:C @0x12e7d1a59>\n",
      " #<ATOM :N/:N @0x12e7d1e19>)\n",
      "Hydrogens built  23.0% elapsed: -- ETC: --   Building from sorted-built: (#<ATOM :C/:C @0x12e1270f9> #<ATOM :CB/:C @0x12e1275a9>\n",
      " #<ATOM :N/:N @0x12e127969>)\n",
      "Building from sorted-built: (#<ATOM :C/:C @0x12e2473c9> #<ATOM :CB/:C @0x12e247879>\n",
      " #<ATOM :N/:N @0x12e247f09>)\n",
      "Hydrogens built  24.0% elapsed: -- ETC: --   Building from sorted-built: (#<ATOM :C/:C @0x12e281969> #<ATOM :CB/:C @0x12e281e19>\n",
      " #<ATOM :N/:N @0x12e2471e9>)\n",
      "Building from sorted-built: (#<ATOM :C/:C @0x12e294789> #<ATOM :CB/:C @0x12e2813c9>\n",
      " #<ATOM :N/:N @0x12e281789>)\n",
      "Building from sorted-built: (#<ATOM :CB/:C @0x12e2813c9> #<ATOM :CD1/:C @0x12e294f09>\n",
      " #<ATOM :CD2/:C @0x12e294b49>)\n",
      "Hydrogens built  25.0% elapsed: -- ETC: --   Building from sorted-built: (#<ATOM :C/:C @0x12e2caa59> #<ATOM :CB/:C @0x12e2941e9>\n",
      " #<ATOM :N/:N @0x12e2945a9>)\n",
      "Building from sorted-built: (#<ATOM :C/:C @0x12e2ca0f9> #<ATOM :CB/:C @0x12e2ca4b9>\n",
      " #<ATOM :N/:N @0x12e2ca879>)\n",
      "Hydrogens built  26.0% elapsed: -- ETC: --   Building from sorted-built: (#<ATOM :C/:C @0x12e337789> #<ATOM :CB/:C @0x12e337b49>\n",
      " #<ATOM :N/:N @0x12e337f09>)\n",
      "Building from sorted-built: (#<ATOM :C/:C @0x12e3bc2d9> #<ATOM :CB/:C @0x12e3371e9>\n",
      " #<ATOM :N/:N @0x12e3375a9>)\n",
      "Hydrogens built  27.0% elapsed: -- ETC: --   Building from sorted-built: (#<ATOM :C/:C @0x12dc60879> #<ATOM :CB/:C @0x12dc60d29>\n",
      " #<ATOM :N/:N @0x12e3bc0f9>)\n",
      "Building from sorted-built: (#<ATOM :C/:C @0x12de4ba59> #<ATOM :CB/:C @0x12dc602d9>\n",
      " #<ATOM :N/:N @0x12dc60699>)\n",
      "Hydrogens built  28.0% elapsed: -- ETC: --   Building from sorted-built: (#<ATOM :C/:C @0x12de83879> #<ATOM :CB/:C @0x12de4b4b9>\n",
      " #<ATOM :N/:N @0x12de4b879>)\n",
      "Building from sorted-built: (#<ATOM :CB/:C @0x12de4b4b9> #<ATOM :CD1/:C @0x12de4b009>\n",
      " #<ATOM :CD2/:C @0x12de83c39>)\n",
      "Hydrogens built  29.0% elapsed: -- ETC: --   Building from sorted-built: (#<ATOM :C/:C @0x12de96d29> #<ATOM :CB/:C @0x12de832d9>\n",
      " #<ATOM :N/:N @0x12de83699>)\n",
      "Building from sorted-built: (#<ATOM :C/:C @0x12deb1879> #<ATOM :CB/:C @0x12de96789>\n",
      " #<ATOM :N/:N @0x12de96b49>)\n",
      "Hydrogens built  30.0% elapsed: -- ETC: --   Building from sorted-built: (#<ATOM :C/:C @0x12defbf09> #<ATOM :CB/:C @0x12deb12d9>\n",
      " #<ATOM :N/:N @0x12deb1699>)\n",
      "Building from sorted-built: (#<ATOM :C/:C @0x12df3cd29> #<ATOM :CB/:C @0x12defb969>\n",
      " #<ATOM :N/:N @0x12defbd29>)\n",
      "Building from sorted-built: (#<ATOM :CA/:C @0x12defbb49> #<ATOM :CG1/:C @0x12defb3c9>\n",
      " #<ATOM :CG2/:C @0x12defb789>)\n",
      "Hydrogens built  31.0% elapsed: -- ETC: --   Building from sorted-built: (#<ATOM :C/:C @0x12d996009> #<ATOM :CB/:C @0x12df3c0f9>\n",
      " #<ATOM :N/:N @0x12df3c4b9>)\n",
      "Hydrogens built  32.0% elapsed: -- ETC: --   Building from sorted-built: (#<ATOM :C/:C @0x12d9992d9> #<ATOM :CB/:C @0x12d999a59>\n",
      " #<ATOM :N/:N @0x12d999e19>)\n",
      "Hydrogens built  33.0% elapsed: -- ETC: --   Building from sorted-built: (#<ATOM :C/:C @0x12d4095a9> #<ATOM :CB/:C @0x12d409d29>\n",
      " #<ATOM :N/:N @0x12d9990f9>)\n",
      "Building from sorted-built: (#<ATOM :CA/:C @0x12d409f09> #<ATOM :CG2/:C @0x12d409b49>\n",
      " #<ATOM :OG1/:O @0x12d409789>)\n",
      "Building from sorted-built: (#<ATOM :C/:C @0x12d4d0879> #<ATOM :CB/:C @0x12d409009>\n",
      " #<ATOM :N/:N @0x12d4093c9>)\n",
      "Hydrogens built  34.0% elapsed: -- ETC: --   Building from sorted-built: (#<ATOM :C/:C @0x12d4ed2d9> #<ATOM :CB/:C @0x12d4edc39>\n",
      " #<ATOM :N/:N @0x12d4d0009>)\n",
      "Building from sorted-built: (#<ATOM :CA/:C @0x12d4ede19> #<ATOM :CG1/:C @0x12d4eda59>\n",
      " #<ATOM :CG2/:C @0x12d4ed699>)\n",
      "Hydrogens built  35.0% elapsed: -- ETC: --   Building from sorted-built: (#<ATOM :C/:C @0x12d5180f9> #<ATOM :CB/:C @0x12d518d29>\n",
      " #<ATOM :N/:N @0x12d4ed0f9>)\n",
      "Building from sorted-built: (#<ATOM :CA/:C @0x12d518f09> #<ATOM :CG1/:C @0x12d518789>\n",
      " #<ATOM :CG2/:C @0x12d518b49>)\n",
      "Hydrogens built  36.0% elapsed: -- ETC: --   Building from sorted-built: (#<ATOM :C/:C @0x12d52c3c9> #<ATOM :CB/:C @0x12d52cb49>\n",
      " #<ATOM :N/:N @0x12d52cf09>)\n",
      "Building from sorted-built: (#<ATOM :CA/:C @0x12d52cd29> #<ATOM :CG2/:C @0x12d52c969>\n",
      " #<ATOM :OG1/:O @0x12d52c5a9>)\n",
      "Building from sorted-built: (#<ATOM :C/:C @0x12d54df09> #<ATOM :CB/:C @0x12d53ae19>\n",
      " #<ATOM :N/:N @0x12d52c1e9>)\n",
      "Hydrogens built  37.0% elapsed: -- ETC: --   Building from sorted-built: (#<ATOM :C/:C @0x12d54d3c9> #<ATOM :CB/:C @0x12d54d969>\n",
      " #<ATOM :N/:N @0x12d54dd29>)\n",
      "Building from sorted-built: (#<ATOM :C/:C @0x12d57a5a9> #<ATOM :CB/:C @0x12d57ae19>\n",
      " #<ATOM :N/:N @0x12d54d1e9>)\n",
      "Hydrogens built  38.0% elapsed: -- ETC: --   Building from sorted-built: (#<ATOM :C/:C @0x12d586c39> #<ATOM :CB/:C @0x12d57a009>\n",
      " #<ATOM :N/:N @0x12d57a3c9>)\n",
      "Building from sorted-built: (#<ATOM :C/:C @0x12d588e19> #<ATOM :CB/:C @0x12d586699>\n",
      " #<ATOM :N/:N @0x12d586a59>)\n",
      "Hydrogens built  39.0% elapsed: -- ETC: --   Building from sorted-built: (#<ATOM :C/:C @0x12d617969> #<ATOM :CB/:C @0x12d588879>\n",
      " #<ATOM :N/:N @0x12d588c39>)\n",
      "Hydrogens built  40.0% elapsed: -- ETC: --   Building from sorted-built: (#<ATOM :C/:C @0x12d688789> #<ATOM :CB/:C @0x12d6173c9>\n",
      " #<ATOM :N/:N @0x12d617789>)\n",
      "Building from sorted-built: (#<ATOM :CB/:C @0x12d6173c9> #<ATOM :CD1/:C @0x12d688f09>\n",
      " #<ATOM :CD2/:C @0x12d688b49>)\n",
      "Hydrogens built  41.0% elapsed: -- ETC: --   Building from sorted-built: (#<ATOM :C/:C @0x12d6bf4b9> #<ATOM :CB/:C @0x12d6881e9>\n",
      " #<ATOM :N/:N @0x12d6885a9>)\n",
      "Building from sorted-built: (#<ATOM :C/:C @0x12d6de789> #<ATOM :CB/:C @0x12d6def09>\n",
      " #<ATOM :N/:N @0x12d6bf2d9>)\n",
      "Hydrogens built  42.0% elapsed: -- ETC: --   Building from sorted-built: (#<ATOM :C/:C @0x12d02c789> #<ATOM :CB/:C @0x12d6de1e9>\n",
      " #<ATOM :N/:N @0x12d6de5a9>)\n",
      "Building from sorted-built: (#<ATOM :C/:C @0x12d038c39> #<ATOM :CB/:C @0x12d02c1e9>\n",
      " #<ATOM :N/:N @0x12d02c5a9>)\n",
      "Hydrogens built  43.0% elapsed: -- ETC: --   Building from sorted-built: (#<ATOM :C/:C @0x12d079d29> #<ATOM :CB/:C @0x12d038699>\n",
      " #<ATOM :N/:N @0x12d038a59>)\n",
      "Building from sorted-built: (#<ATOM :CA/:C @0x12d038879> #<ATOM :CG1/:C @0x12d0384b9>\n",
      " #<ATOM :CG2/:C @0x12d0380f9>)\n",
      "Building from sorted-built: (#<ATOM :C/:C @0x12d0791e9> #<ATOM :CB/:C @0x12d079789>\n",
      " #<ATOM :N/:N @0x12d079b49>)\n",
      "Hydrogens built  44.0% elapsed: -- ETC: --   Building from sorted-built: (#<ATOM :C/:C @0x12d085879> #<ATOM :CB/:C @0x12d085c39>\n",
      " #<ATOM :N/:N @0x12d079009>)\n",
      "Building from sorted-built: (#<ATOM :C/:C @0x12d098f09> #<ATOM :CB/:C @0x12d0852d9>\n",
      " #<ATOM :N/:N @0x12d085699>)\n",
      "Building from sorted-built: (#<ATOM :C/:C @0x12d098009> #<ATOM :CB/:C @0x12d098969>\n",
      " #<ATOM :N/:N @0x12d098d29>)\n",
      "Building from sorted-built: (#<ATOM :CA/:C @0x12d098b49> #<ATOM :CG1/:C @0x12d098789>\n",
      " #<ATOM :CG2/:C @0x12d0983c9>)\n",
      "Hydrogens built  45.0% elapsed: -- ETC: --   Building from sorted-built: (#<ATOM :C/:C @0x12d0d1969> #<ATOM :CB/:C @0x12d0bca59>\n",
      " #<ATOM :N/:N @0x12d0bce19>)\n",
      "Hydrogens built  46.0% elapsed: -- ETC: --   Building from sorted-built: (#<ATOM :C/:C @0x12d0fd0f9> #<ATOM :CB/:C @0x12d0fdd29>\n",
      " #<ATOM :N/:N @0x12d0d10f9>)\n",
      "Building from sorted-built: (#<ATOM :CA/:C @0x12d0fdf09> #<ATOM :CG1/:C @0x12d0fd789>\n",
      " #<ATOM :CG2/:C @0x12d0fdb49>)\n",
      "Hydrogens built  47.0% elapsed: -- ETC: --   Building from sorted-built: (#<ATOM :C/:C @0x12d117f09> #<ATOM :CB/:C @0x12d110b49>\n",
      " #<ATOM :N/:N @0x12d110f09>)\n",
      "Building from sorted-built: (#<ATOM :CB/:C @0x12d110b49> #<ATOM :CD1/:C @0x12d110699>\n",
      " #<ATOM :CD2/:C @0x12d1102d9>)\n",
      "Hydrogens built  48.0% elapsed: -- ETC: --   Building from sorted-built: (#<ATOM :C/:C @0x12d189879> #<ATOM :CB/:C @0x12d117969>\n",
      " #<ATOM :N/:N @0x12d117d29>)\n",
      "Hydrogens built  49.0% elapsed: -- ETC: --   Building from sorted-built: (#<ATOM :C/:C @0x12d24db49> #<ATOM :CB/:C @0x12d1892d9>\n",
      " #<ATOM :N/:N @0x12d189699>)\n",
      "Building from sorted-built: (#<ATOM :C/:C @0x12d24d1e9> #<ATOM :CB/:C @0x12d24d5a9>\n",
      " #<ATOM :N/:N @0x12d24d969>)\n",
      "Hydrogens built  50.0% elapsed: -- ETC: --   Building from sorted-built: (#<ATOM :C/:C @0x12cc6cd29> #<ATOM :CB/:C @0x12cc2ac39>\n",
      " #<ATOM :N/:N @0x12d24d009>)\n",
      "Hydrogens built  51.0% elapsed: -- ETC: --   Building from sorted-built: (#<ATOM :C/:C @0x12ccb0b49> #<ATOM :CB/:C @0x12cc6c789>\n",
      " #<ATOM :N/:N @0x12cc6cb49>)\n",
      "Building from sorted-built: (#<ATOM :CB/:C @0x12cc6c789> #<ATOM :CD1/:C @0x12cc6c2d9>\n",
      " #<ATOM :CD2/:C @0x12ccb0f09>)\n",
      "Hydrogens built  52.0% elapsed: -- ETC: --   Building from sorted-built: (#<ATOM :C/:C @0x12ccdf699> #<ATOM :CB/:C @0x12ccb05a9>\n",
      " #<ATOM :N/:N @0x12ccb0969>)\n",
      "Hydrogens built  53.0% elapsed: -- ETC: --   Building from sorted-built: (#<ATOM :C/:C @0x12cd0a969> #<ATOM :CB/:C @0x12cd0ae19>\n",
      " #<ATOM :N/:N @0x12ccdf4b9>)\n",
      "Building from sorted-built: (#<ATOM :C/:C @0x12cd69a59> #<ATOM :CB/:C @0x12cd0a3c9>\n",
      " #<ATOM :N/:N @0x12cd0a789>)\n",
      "Building from sorted-built: (#<ATOM :CA/:C @0x12cd0a5a9> #<ATOM :CG1/:C @0x12cd0a1e9>\n",
      " #<ATOM :CG2/:C @0x12cd69e19>)\n",
      "Hydrogens built  54.0% elapsed: -- ETC: --   Building from sorted-built: (#<ATOM :C/:C @0x12cd8a699> #<ATOM :CB/:C @0x12cd694b9>\n",
      " #<ATOM :N/:N @0x12cd69879>)\n",
      "Building from sorted-built: (#<ATOM :C/:C @0x12cdf7b49> #<ATOM :CB/:C @0x12cd8a0f9>\n",
      " #<ATOM :N/:N @0x12cd8a4b9>)\n",
      "Hydrogens built  55.0% elapsed: -- ETC: --   Building from sorted-built: (#<ATOM :C/:C @0x12cdf70f9> #<ATOM :CB/:C @0x12cdf75a9>\n",
      " #<ATOM :N/:N @0x12cdf7969>)\n",
      "Building from sorted-built: (#<ATOM :C/:C @0x12ce26f09> #<ATOM :CB/:C @0x12ce20b49>\n",
      " #<ATOM :N/:N @0x12ce20f09>)\n",
      "Building from sorted-built: (#<ATOM :CB/:C @0x12ce20b49> #<ATOM :CD1/:C @0x12ce20699>\n",
      " #<ATOM :CD2/:C @0x12ce202d9>)\n",
      "Hydrogens built  56.0% elapsed: -- ETC: --   Building from sorted-built: (#<ATOM :C/:C @0x12ce263c9> #<ATOM :CB/:C @0x12ce26969>\n",
      " #<ATOM :N/:N @0x12ce26d29>)\n",
      "Building from sorted-built: (#<ATOM :C/:C @0x12ce6ba59> #<ATOM :CB/:C @0x12ce6be19>\n",
      " #<ATOM :N/:N @0x12ce261e9>)\n",
      "Hydrogens built  57.0% elapsed: -- ETC: --   Building from sorted-built: (#<ATOM :C/:C @0x12ce90b49> #<ATOM :CB/:C @0x12ce6b4b9>\n",
      " #<ATOM :N/:N @0x12ce6b879>)\n",
      "Building from sorted-built: (#<ATOM :CA/:C @0x12ce6b699> #<ATOM :CG1/:C @0x12ce6b2d9>\n",
      " #<ATOM :CG2/:C @0x12ce90f09>)\n",
      "Building from sorted-built: (#<ATOM :C/:C @0x12cea84b9> #<ATOM :CB/:C @0x12ce905a9>\n",
      " #<ATOM :N/:N @0x12ce90969>)\n",
      "Hydrogens built  58.0% elapsed: -- ETC: --   Building from sorted-built: (#<ATOM :C/:C @0x12ceb5e19> #<ATOM :CB/:C @0x12ceb3f09>\n",
      " #<ATOM :N/:N @0x12cea82d9>)\n",
      "Hydrogens built  59.0% elapsed: -- ETC: --   Building from sorted-built: (#<ATOM :C/:C @0x12ceb54b9> #<ATOM :CB/:C @0x12ceb5879>\n",
      " #<ATOM :N/:N @0x12ceb5c39>)\n",
      "Hydrogens built  60.0% elapsed: -- ETC: --   Building from sorted-built: (#<ATOM :C/:C @0x12cf2eb49> #<ATOM :CB/:C @0x12cf2ef09>\n",
      " #<ATOM :N/:N @0x12ceb52d9>)\n",
      "Building from sorted-built: (#<ATOM :C/:C @0x12cf2e1e9> #<ATOM :CB/:C @0x12cf2e5a9>\n",
      " #<ATOM :N/:N @0x12cf2e969>)\n",
      "Hydrogens built  61.0% elapsed: -- ETC: --   Building from sorted-built: (#<ATOM :C/:C @0x12cf55009> #<ATOM :CB/:C @0x12cf55c39>\n",
      " #<ATOM :N/:N @0x12cf2e009>)\n",
      "Building from sorted-built: (#<ATOM :CA/:C @0x12cf55e19> #<ATOM :CG1/:C @0x12cf55699>\n",
      " #<ATOM :CG2/:C @0x12cf55a59>)\n",
      "Building from sorted-built: (#<ATOM :C/:C @0x12cfd62d9> #<ATOM :CB/:C @0x12cfd6a59>\n",
      " #<ATOM :N/:N @0x12cfd6e19>)\n",
      "Hydrogens built  62.0% elapsed: -- ETC: --   Building from sorted-built: (#<ATOM :C/:C @0x12cffb2d9> #<ATOM :CB/:C @0x12cffbd29>\n",
      " #<ATOM :N/:N @0x12cfd60f9>)\n",
      "Building from sorted-built: (#<ATOM :C/:C @0x12c83f3c9> #<ATOM :CB/:C @0x12c83fd29>\n",
      " #<ATOM :N/:N @0x12cffb0f9>)\n",
      "Hydrogens built  63.0% elapsed: -- ETC: --   Building from sorted-built: (#<ATOM :CA/:C @0x12c83ff09> #<ATOM :CG1/:C @0x12c83fb49>\n",
      " #<ATOM :CG2/:C @0x12c83f789>)\n",
      "Building from sorted-built: (#<ATOM :C/:C @0x12c8430f9> #<ATOM :CB/:C @0x12c843e19>\n",
      " #<ATOM :N/:N @0x12c83f1e9>)\n",
      "Hydrogens built  64.0% elapsed: -- ETC: --   Building from sorted-built: (#<ATOM :C/:C @0x12c8760f9> #<ATOM :CB/:C @0x12c876b49>\n",
      " #<ATOM :N/:N @0x12c876f09>)\n",
      "Building from sorted-built: (#<ATOM :C/:C @0x12c8ac0f9> #<ATOM :CB/:C @0x12c8acb49>\n",
      " #<ATOM :N/:N @0x12c8acf09>)\n",
      "Hydrogens built  65.0% elapsed: -- ETC: --   Building from sorted-built: (#<ATOM :C/:C @0x12c8c7c39> #<ATOM :CB/:C @0x12c8c24b9>\n",
      " #<ATOM :N/:N @0x12c8c2879>)\n",
      "Hydrogens built  66.0% elapsed: -- ETC: --   Building from sorted-built: (#<ATOM :C/:C @0x12c91ff09> #<ATOM :CB/:C @0x12c8c7699>\n",
      " #<ATOM :N/:N @0x12c8c7a59>)\n",
      "Building from sorted-built: (#<ATOM :CA/:C @0x12c8c7879> #<ATOM :CG2/:C @0x12c8c74b9>\n",
      " #<ATOM :OG1/:O @0x12c8c70f9>)\n",
      "Hydrogens built  67.0% elapsed: -- ETC: --   Building from sorted-built: (#<ATOM :C/:C @0x12c927969> #<ATOM :CB/:C @0x12c91f2d9>\n",
      " #<ATOM :N/:N @0x12c91f699>)\n",
      "Building from sorted-built: (#<ATOM :CA/:C @0x12c91f4b9> #<ATOM :CG1/:C @0x12c91f0f9>\n",
      " #<ATOM :CG2/:C @0x12c927d29>)\n",
      "Building from sorted-built: (#<ATOM :C/:C @0x12c927009> #<ATOM :CB/:C @0x12c9273c9>\n",
      " #<ATOM :N/:N @0x12c927789>)\n",
      "Hydrogens built  68.0% elapsed: -- ETC: --   Building from sorted-built: (#<ATOM :C/:C @0x12c959699> #<ATOM :CB/:C @0x12c92e3c9>\n",
      " #<ATOM :N/:N @0x12c92e789>)\n",
      "Hydrogens built  69.0% elapsed: -- ETC: --   Building from sorted-built: (#<ATOM :C/:C @0x12c97f969> #<ATOM :CB/:C @0x12c9590f9>\n",
      " #<ATOM :N/:N @0x12c9594b9>)\n",
      "Building from sorted-built: (#<ATOM :CA/:C @0x12c9592d9> #<ATOM :CG2/:C @0x12c97ff09>\n",
      " #<ATOM :OG1/:O @0x12c97fb49>)\n",
      "Building from sorted-built: (#<ATOM :C/:C @0x12c9a5c39> #<ATOM :CB/:C @0x12c97f3c9>\n",
      " #<ATOM :N/:N @0x12c97f789>)\n",
      "Hydrogens built  70.0% elapsed: -- ETC: --   Building from sorted-built: (#<ATOM :C/:C @0x12c9a51e9> #<ATOM :CB/:C @0x12c9a5699>\n",
      " #<ATOM :N/:N @0x12c9a5a59>)\n",
      "Building from sorted-built: (#<ATOM :C/:C @0x12c9c7009> #<ATOM :CB/:C @0x12c9c7c39>\n",
      " #<ATOM :N/:N @0x12c9a5009>)\n",
      "Building from sorted-built: (#<ATOM :CB/:C @0x12c9c7c39> #<ATOM :CD1/:C @0x12c9c7789>\n",
      " #<ATOM :CD2/:C @0x12c9c73c9>)\n",
      "Hydrogens built  71.0% elapsed: -- ETC: --   Building from sorted-built: (#<ATOM :C/:C @0x12c9fe969> #<ATOM :CB/:C @0x12c9daa59>\n",
      " #<ATOM :N/:N @0x12c9dae19>)\n",
      "Hydrogens built  72.0% elapsed: -- ETC: --   Building from sorted-built: (#<ATOM :C/:C @0x12ca27969> #<ATOM :CB/:C @0x12c9fe3c9>\n",
      " #<ATOM :N/:N @0x12c9fe789>)\n",
      "Building from sorted-built: (#<ATOM :C/:C @0x12ca39789> #<ATOM :CB/:C @0x12ca273c9>\n",
      " #<ATOM :N/:N @0x12ca27789>)\n",
      "Hydrogens built  73.0% elapsed: -- ETC: --   Building from sorted-built: (#<ATOM :CB/:C @0x12ca273c9> #<ATOM :CD1/:C @0x12ca39f09>\n",
      " #<ATOM :CD2/:C @0x12ca39b49>)\n",
      "Building from sorted-built: (#<ATOM :C/:C @0x12ca63789> #<ATOM :CB/:C @0x12ca391e9>\n",
      " #<ATOM :N/:N @0x12ca395a9>)\n",
      "Hydrogens built  74.0% elapsed: -- ETC: --   Building from sorted-built: (#<ATOM :C/:C @0x12ca83789> #<ATOM :CB/:C @0x12ca631e9>\n",
      " #<ATOM :N/:N @0x12ca635a9>)\n",
      "Hydrogens built  75.0% elapsed: -- ETC: --   Building from sorted-built: (#<ATOM :C/:C @0x12caae2d9> #<ATOM :CB/:C @0x12ca831e9>\n",
      " #<ATOM :N/:N @0x12ca835a9>)\n",
      "Hydrogens built  76.0% elapsed: -- ETC: --   Building from sorted-built: (#<ATOM :C/:C @0x12cb3cc39> #<ATOM :CB/:C @0x12cb0bd29>\n",
      " #<ATOM :N/:N @0x12caae0f9>)\n",
      "Building from sorted-built: (#<ATOM :C/:C @0x12c41c5a9> #<ATOM :CB/:C @0x12cb3c699>\n",
      " #<ATOM :N/:N @0x12cb3ca59>)\n",
      "Hydrogens built  77.0% elapsed: -- ETC: --   Building from sorted-built: (#<ATOM :C/:C @0x12c537a59> #<ATOM :CB/:C @0x12c41c009>\n",
      " #<ATOM :N/:N @0x12c41c3c9>)\n",
      "Hydrogens built  78.0% elapsed: -- ETC: --   Building from sorted-built: (#<ATOM :C/:C @0x12c5c1c39> #<ATOM :CB/:C @0x12c5374b9>\n",
      " #<ATOM :N/:N @0x12c537879>)\n",
      "Building from sorted-built: (#<ATOM :C/:C @0x12c5c12d9> #<ATOM :CB/:C @0x12c5c1699>\n",
      " #<ATOM :N/:N @0x12c5c1a59>)\n",
      "Building from sorted-built: (#<ATOM :C/:C @0x12c669969> #<ATOM :CB/:C @0x12c669d29>\n",
      " #<ATOM :N/:N @0x12c5c10f9>)\n",
      "Hydrogens built  79.0% elapsed: -- ETC: --   Building from sorted-built: (#<ATOM :C/:C @0x12c6a5a59> #<ATOM :CB/:C @0x12c6693c9>\n",
      " #<ATOM :N/:N @0x12c669789>)\n",
      "Building from sorted-built: (#<ATOM :CA/:C @0x12c6695a9> #<ATOM :CG1/:C @0x12c6691e9>\n",
      " #<ATOM :CG2/:C @0x12c6a5e19>)\n",
      "Building from sorted-built: (#<ATOM :C/:C @0x12c70ad29> #<ATOM :CB/:C @0x12c6a54b9>\n",
      " #<ATOM :N/:N @0x12c6a5879>)\n",
      "Hydrogens built  80.0% elapsed: -- ETC: --   Building from sorted-built: (#<ATOM :C/:C @0x12c794b49> #<ATOM :CB/:C @0x12c70a789>\n",
      " #<ATOM :N/:N @0x12c70ab49>)\n",
      "Building from sorted-built: (#<ATOM :CB/:C @0x12c70a789> #<ATOM :CD1/:C @0x12c70a2d9>\n",
      " #<ATOM :CD2/:C @0x12c794f09>)\n",
      "Hydrogens built  81.0% elapsed: -- ETC: --   Building from sorted-built: (#<ATOM :C/:C @0x12c7941e9> #<ATOM :CB/:C @0x12c7945a9>\n",
      " #<ATOM :N/:N @0x12c794969>)\n",
      "Building from sorted-built: (#<ATOM :C/:C @0x12c7bdd29> #<ATOM :CB/:C @0x12c7bbc39>\n",
      " #<ATOM :N/:N @0x12c794009>)\n",
      "Hydrogens built  82.0% elapsed: -- ETC: --   Building from sorted-built: (#<ATOM :C/:C @0x12c7bd2d9> #<ATOM :CB/:C @0x12c7bd789>\n",
      " #<ATOM :N/:N @0x12c7bdb49>)\n",
      "Hydrogens built  83.0% elapsed: -- ETC: --   Building from sorted-built: (#<ATOM :C/:C @0x12c06fc39> #<ATOM :CB/:C @0x12c00ed29>\n",
      " #<ATOM :N/:N @0x12c7bd0f9>)\n",
      "Hydrogens built  84.0% elapsed: -- ETC: --   Building from sorted-built: (#<ATOM :C/:C @0x12c09f5a9> #<ATOM :CB/:C @0x12c06f699>\n",
      " #<ATOM :N/:N @0x12c06fa59>)\n",
      "Building from sorted-built: (#<ATOM :C/:C @0x12c1321e9> #<ATOM :CB/:C @0x12c09f009>\n",
      " #<ATOM :N/:N @0x12c09f3c9>)\n",
      "Hydrogens built  85.0% elapsed: -- ETC: --   Building from sorted-built: (#<ATOM :C/:C @0x12c1614b9> #<ATOM :CB/:C @0x12c161c39>\n",
      " #<ATOM :N/:N @0x12c132009>)\n",
      "Building from sorted-built: (#<ATOM :C/:C @0x12c18d4b9> #<ATOM :CB/:C @0x12c18df09>\n",
      " #<ATOM :N/:N @0x12c1612d9>)\n",
      "Hydrogens built  86.0% elapsed: -- ETC: --   Building from sorted-built: (#<ATOM :C/:C @0x12c1c0789> #<ATOM :CB/:C @0x12c1c0f09>\n",
      " #<ATOM :N/:N @0x12c18d2d9>)\n",
      "Building from sorted-built: (#<ATOM :CA/:C @0x12c18d0f9> #<ATOM :CG2/:C @0x12c1c0d29>\n",
      " #<ATOM :OG1/:O @0x12c1c0969>)\n",
      "Hydrogens built  87.0% elapsed: -- ETC: --   Building from sorted-built: (#<ATOM :C/:C @0x12c20fa59> #<ATOM :CB/:C @0x12c20ff09>\n",
      " #<ATOM :N/:N @0x12c1c05a9>)\n",
      "Building from sorted-built: (#<ATOM :C/:C @0x12c22cd29> #<ATOM :CB/:C @0x12c20f4b9>\n",
      " #<ATOM :N/:N @0x12c20f879>)\n",
      "Hydrogens built  88.0% elapsed: -- ETC: --   Building from sorted-built: (#<ATOM :C/:C @0x12c2fa699> #<ATOM :CB/:C @0x12c22c789>\n",
      " #<ATOM :N/:N @0x12c22cb49>)\n",
      "Hydrogens built  89.0% elapsed: -- ETC: --   Building from sorted-built: (#<ATOM :C/:C @0x12c321d29> #<ATOM :CB/:C @0x12c2fa0f9>\n",
      " #<ATOM :N/:N @0x12c2fa4b9>)\n",
      "Building from sorted-built: (#<ATOM :C/:C @0x12c37d879> #<ATOM :CB/:C @0x12c321789>\n",
      " #<ATOM :N/:N @0x12c321b49>)\n",
      "Hydrogens built  90.0% elapsed: -- ETC: --   Building from sorted-built: (#<ATOM :C/:C @0x12c3b81e9> #<ATOM :CB/:C @0x12c37d2d9>\n",
      " #<ATOM :N/:N @0x12c37d699>)\n",
      "Hydrogens built  91.0% elapsed: -- ETC: --   Building from sorted-built: (#<ATOM :C/:C @0x12c3dc2d9> #<ATOM :CB/:C @0x12c3dcc39>\n",
      " #<ATOM :N/:N @0x12c3b8009>)\n",
      "Building from sorted-built: (#<ATOM :CA/:C @0x12c3dce19> #<ATOM :CG1/:C @0x12c3dca59>\n",
      " #<ATOM :CG2/:C @0x12c3dc699>)\n",
      "Hydrogens built  92.0% elapsed: -- ETC: --   Building from sorted-built: (#<ATOM :C/:C @0x12bccf0f9> #<ATOM :CB/:C @0x12bccfd29>\n",
      " #<ATOM :N/:N @0x12c3dc0f9>)\n",
      "Building from sorted-built: (#<ATOM :CA/:C @0x12bccff09> #<ATOM :CG1/:C @0x12bccf789>\n",
      " #<ATOM :CG2/:C @0x12bccfb49>)\n",
      "Building from sorted-built: (#<ATOM :C/:C @0x12bd1c3c9> #<ATOM :CB/:C @0x12bd1cb49>\n",
      " #<ATOM :N/:N @0x12bd1cf09>)\n",
      "Building from sorted-built: (#<ATOM :CA/:C @0x12bd1cd29> #<ATOM :CG2/:C @0x12bd1c969>\n",
      " #<ATOM :OG1/:O @0x12bd1c5a9>)\n",
      "Hydrogens built  93.0% elapsed: -- ETC: --   Building from sorted-built: (#<ATOM :C/:C @0x12bd39699> #<ATOM :CB/:C @0x12bd39e19>\n",
      " #<ATOM :N/:N @0x12bd1c1e9>)\n",
      "Building from sorted-built: (#<ATOM :CA/:C @0x12bd1c009> #<ATOM :CG2/:C @0x12bd39c39>\n",
      " #<ATOM :OG1/:O @0x12bd39879>)\n",
      "Building from sorted-built: (#<ATOM :C/:C @0x12bd913c9> #<ATOM :CB/:C @0x12bd390f9>\n",
      " #<ATOM :N/:N @0x12bd394b9>)\n",
      "Hydrogens built  94.0% elapsed: -- ETC: --   Building from sorted-built: (#<ATOM :C/:C @0x12be27d29> #<ATOM :CB/:C @0x12be0ee19>\n",
      " #<ATOM :N/:N @0x12bd911e9>)\n",
      "Hydrogens built  95.0% elapsed: -- ETC: --   Building from sorted-built: (#<ATOM :C/:C @0x12be27009> #<ATOM :CB/:C @0x12be27789>\n",
      " #<ATOM :N/:N @0x12be27b49>)\n",
      "Building from sorted-built: (#<ATOM :CA/:C @0x12be27969> #<ATOM :CG2/:C @0x12be275a9>\n",
      " #<ATOM :OG1/:O @0x12be271e9>)\n",
      "Hydrogens built  96.0% elapsed: -- ETC: --   Building from sorted-built: (#<ATOM :C/:C @0x12be3ac39> #<ATOM :CB/:C @0x12be2b3c9>\n",
      " #<ATOM :N/:N @0x12be2b789>)\n",
      "Building from sorted-built: (#<ATOM :CA/:C @0x12be2b5a9> #<ATOM :CG2/:C @0x12be2b1e9>\n",
      " #<ATOM :OG1/:O @0x12be3ae19>)\n",
      "Building from sorted-built: (#<ATOM :C/:C @0x12be605a9> #<ATOM :CB/:C @0x12be3a699>\n",
      " #<ATOM :N/:N @0x12be3aa59>)\n",
      "Hydrogens built  97.0% elapsed: -- ETC: --   Building from sorted-built: (#<ATOM :C/:C @0x12be8ea59> #<ATOM :CB/:C @0x12be60009>\n",
      " #<ATOM :N/:N @0x12be603c9>)\n",
      "Hydrogens built  98.0% elapsed: -- ETC: --   Building from sorted-built: (#<ATOM :C/:C @0x12be8e0f9> #<ATOM :CB/:C @0x12be8e4b9>\n",
      " #<ATOM :N/:N @0x12be8e879>)\n",
      "Building from sorted-built: (#<ATOM :C/:C @0x12befbd29> #<ATOM :CB/:C @0x12be9bb49>\n",
      " #<ATOM :N/:N @0x12be9bf09>)\n",
      "Hydrogens built  99.0% elapsed: -- ETC: --   Building from sorted-built: (#<ATOM :C/:C @0x12bf48879> #<ATOM :CB/:C @0x12befb789>\n",
      " #<ATOM :N/:N @0x12befbb49>)\n",
      "Hydrogens built 100.0% elapsed: -- ETC: --   \n"
     ]
    },
    {
     "data": {
      "text/plain": [
       "1313"
      ]
     },
     "execution_count": 170,
     "metadata": {},
     "output_type": "execute_result"
    }
   ],
   "source": [
    "(cando:build-unbuilt-hydrogens *lysozyme*)"
   ]
  },
  {
   "cell_type": "code",
   "execution_count": 171,
   "metadata": {},
   "outputs": [
    {
     "data": {
      "text/plain": [
       "NIL"
      ]
     },
     "execution_count": 171,
     "metadata": {},
     "output_type": "execute_result"
    }
   ],
   "source": [
    "(simple-build-unbuilt-atoms *lysozyme*)"
   ]
  },
  {
   "cell_type": "code",
   "execution_count": 172,
   "metadata": {},
   "outputs": [
    {
     "data": {
      "application/vnd.jupyter.widget-view+json": {
       "model_id": "D4486B0B-F3AC-4C39-937A-1EB76BDDE252",
       "version_major": 2,
       "version_minor": 0
      },
      "text/plain": [
       "#<NGLV:NGLWIDGET>"
      ]
     },
     "execution_count": 172,
     "metadata": {},
     "output_type": "execute_result"
    }
   ],
   "source": [
    "(defparameter *v* (show *lysozyme*)) *v*"
   ]
  },
  {
   "cell_type": "code",
   "execution_count": 173,
   "metadata": {},
   "outputs": [
    {
     "data": {
      "text/plain": [
       "T"
      ]
     },
     "execution_count": 173,
     "metadata": {},
     "output_type": "execute_result"
    }
   ],
   "source": [
    "(nglv::add-representation *v* \"ball+stick\" :selection \"all\")"
   ]
  },
  {
   "cell_type": "code",
   "execution_count": 174,
   "metadata": {},
   "outputs": [
    {
     "data": {
      "text/plain": [
       "NIL"
      ]
     },
     "execution_count": 174,
     "metadata": {},
     "output_type": "execute_result"
    }
   ],
   "source": [
    "(simple-build-unbuilt-atoms *lysozyme*)"
   ]
  },
  {
   "cell_type": "code",
   "execution_count": 175,
   "metadata": {},
   "outputs": [
    {
     "data": {
      "text/plain": [
       "#<AGGREGATE 181L_mod>"
      ]
     },
     "execution_count": 175,
     "metadata": {},
     "output_type": "execute_result"
    }
   ],
   "source": [
    "*lysozyme*"
   ]
  },
  {
   "cell_type": "code",
   "execution_count": 176,
   "metadata": {},
   "outputs": [
    {
     "data": {
      "text/plain": [
       "(#<AGGREGATE 181L_mod>)"
      ]
     },
     "execution_count": 176,
     "metadata": {},
     "output_type": "execute_result"
    }
   ],
   "source": [
    "(pushnew *lysozyme* (fep:receptors *feps*))"
   ]
  },
  {
   "cell_type": "markdown",
   "metadata": {},
   "source": [
    "# Load the ligands"
   ]
  },
  {
   "cell_type": "code",
   "execution_count": 177,
   "metadata": {},
   "outputs": [
    {
     "data": {
      "text/plain": [
       "#P\"/Users/meister/Development/cando-dev/extensions/cando/src/examples/lysozyme-fep/\""
      ]
     },
     "execution_count": 177,
     "metadata": {},
     "output_type": "execute_result"
    }
   ],
   "source": [
    "*default-pathname-defaults*"
   ]
  },
  {
   "cell_type": "code",
   "execution_count": 178,
   "metadata": {},
   "outputs": [
    {
     "data": {
      "text/plain": [
       "(BNZ)"
      ]
     },
     "execution_count": 178,
     "metadata": {},
     "output_type": "execute_result"
    }
   ],
   "source": [
    "(load-off \"phen.lib\")\n",
    "(load-off \"benz.lib\")"
   ]
  },
  {
   "cell_type": "code",
   "execution_count": 179,
   "metadata": {},
   "outputs": [
    {
     "name": "stdout",
     "output_type": "stream",
     "text": [
      "\n",
      "Creating molecule with name: A\n",
      "Creating molecule with name: A\n",
      "\n"
     ]
    },
    {
     "name": "stderr",
     "output_type": "stream",
     "text": [
      "\n",
      "There are 1 unbuilt heavy atoms - not building hydrogens\n"
     ]
    },
    {
     "data": {
      "text/plain": [
       "*LIGS*"
      ]
     },
     "execution_count": 179,
     "metadata": {},
     "output_type": "execute_result"
    }
   ],
   "source": [
    "(defparameter *ligs* (load-pdb \"bnz_phn.pdb\"))"
   ]
  },
  {
   "cell_type": "code",
   "execution_count": 180,
   "metadata": {},
   "outputs": [
    {
     "name": "stdout",
     "output_type": "stream",
     "text": [
      "Hydrogens built 100.0% elapsed: -- ETC: --   \n"
     ]
    },
    {
     "data": {
      "text/plain": [
       "12"
      ]
     },
     "execution_count": 180,
     "metadata": {},
     "output_type": "execute_result"
    }
   ],
   "source": [
    "(simple-build-unbuilt-atoms *ligs*)\n",
    "(build-unbuilt-hydrogens *ligs*)"
   ]
  },
  {
   "cell_type": "code",
   "execution_count": 181,
   "metadata": {},
   "outputs": [
    {
     "data": {
      "application/vnd.jupyter.widget-view+json": {
       "model_id": "59CA58DF-47A9-4F0C-8ECE-2728133CD0F1",
       "version_major": 2,
       "version_minor": 0
      },
      "text/plain": [
       "#<NGLV:NGLWIDGET>"
      ]
     },
     "execution_count": 181,
     "metadata": {},
     "output_type": "execute_result"
    }
   ],
   "source": [
    "(show *ligs*)"
   ]
  },
  {
   "cell_type": "markdown",
   "metadata": {},
   "source": [
    "## Print the fixed atoms of the template ligand"
   ]
  },
  {
   "cell_type": "code",
   "execution_count": 182,
   "metadata": {},
   "outputs": [
    {
     "data": {
      "text/plain": [
       "((2 . #<ATOM :C2/:C @0x127d433c9>) (6 . #<ATOM :C6/:C @0x1274d0c39>)\n",
       " (3 . #<ATOM :C3/:C @0x127d431e9>) (5 . #<ATOM :C5/:C @0x1274d0e19>)\n",
       " (4 . #<ATOM :C4/:C @0x127d43009>) (1 . #<ATOM :C1/:C @0x127d435a9>))"
      ]
     },
     "execution_count": 182,
     "metadata": {},
     "output_type": "execute_result"
    }
   ],
   "source": [
    "(alexandria:hash-table-alist (fep:pattern-atoms *pick* *ligs*))"
   ]
  },
  {
   "cell_type": "markdown",
   "metadata": {},
   "source": [
    "# Use the GAFF force field to build chemically reasonable structures of candidate ligands"
   ]
  },
  {
   "cell_type": "code",
   "execution_count": 183,
   "metadata": {},
   "outputs": [
    {
     "name": "stdout",
     "output_type": "stream",
     "text": [
      "Building AA\n",
      "build-structures fep: #<FEP-STRUCTURE AA>   map-atoms: NIL\n",
      "Building AB\n",
      "build-structures fep: #<FEP-STRUCTURE AB>   map-atoms: NIL\n"
     ]
    },
    {
     "data": {
      "text/plain": [
       "NIL"
      ]
     },
     "execution_count": 183,
     "metadata": {},
     "output_type": "execute_result"
    }
   ],
   "source": [
    "(fep:build-ligands *feps*)"
   ]
  },
  {
   "cell_type": "code",
   "execution_count": 184,
   "metadata": {},
   "outputs": [
    {
     "data": {
      "text/plain": [
       "(#<MOLECULE :AA> #<MOLECULE :AB>)"
      ]
     },
     "execution_count": 184,
     "metadata": {},
     "output_type": "execute_result"
    }
   ],
   "source": [
    "(mapcar #'fep:molecule (fep:ligands *feps*))"
   ]
  },
  {
   "cell_type": "code",
   "execution_count": 185,
   "metadata": {
    "scrolled": true
   },
   "outputs": [
    {
     "data": {
      "application/vnd.jupyter.widget-view+json": {
       "model_id": "F5937090-BEAC-4AE9-86DC-4395EA584CD5",
       "version_major": 2,
       "version_minor": 0
      },
      "text/plain": [
       "#<NGLV:NGLWIDGET>"
      ]
     },
     "execution_count": 185,
     "metadata": {},
     "output_type": "execute_result"
    }
   ],
   "source": [
    "(show (fep:layout-ligands *feps* :accessor 'fep::molecule))"
   ]
  },
  {
   "cell_type": "markdown",
   "metadata": {},
   "source": [
    "# Pose the new ligands onto the template ligand"
   ]
  },
  {
   "cell_type": "code",
   "execution_count": 187,
   "metadata": {
    "collapsed": true
   },
   "outputs": [
    {
     "name": "stdout",
     "output_type": "stream",
     "text": [
      "fep #<FEP-STRUCTURE AA>\n",
      " moveable-atoms -> #<FEP-STRUCTURE AA>\n",
      "    fixed-atoms -> (#<ATOM :C2/:C @0x127d433c9> #<ATOM :C6/:C @0x1274d0c39>\n",
      " #<ATOM :C3/:C @0x127d431e9> #<ATOM :C5/:C @0x1274d0e19>\n",
      " #<ATOM :C4/:C @0x127d43009> #<ATOM :C1/:C @0x127d435a9>)\n",
      "Anchored #<ATOM :C_341/:C @0x13c28f879> to '( 26.395 5.074 3.499) restraints: (#<RESTRAINT-ANCHOR >) props: (:CHEMDRAW-COLOR 3)\n",
      "Anchored #<ATOM :C_337/:C @0x13c28f2d9> to '( 26.498 6.379 5.469) restraints: (#<RESTRAINT-ANCHOR >) props: (:ATTACH :ZA :CHEMDRAW-COLOR 3)\n",
      "Anchored #<ATOM :C3/:C @0x13c28f699> to '( 27.34 5.86 2.902) restraints: (#<RESTRAINT-ANCHOR >) props: (:CHEMDRAW-COLOR 3)\n",
      "Anchored #<ATOM :C5/:C @0x13c28f0f9> to '( 27.42 7.196 4.856) restraints: (#<RESTRAINT-ANCHOR >) props: (:CHEMDRAW-COLOR 3)\n",
      "Anchored #<ATOM :C_345/:C @0x13c28f1e9> to '( 27.837 6.921 3.569) restraints: (#<RESTRAINT-ANCHOR >) props: (:CHEMDRAW-COLOR 3)\n",
      "Anchored #<ATOM :C1/:C @0x13c28f789> to '( 25.978 5.327 4.779) restraints: (#<RESTRAINT-ANCHOR >) props: (:CHEMDRAW-COLOR 3)\n",
      "fep #<FEP-STRUCTURE AB>\n",
      " moveable-atoms -> #<FEP-STRUCTURE AB>\n",
      "    fixed-atoms -> (#<ATOM :C2/:C @0x127d433c9> #<ATOM :C6/:C @0x1274d0c39>\n",
      " #<ATOM :C3/:C @0x127d431e9> #<ATOM :C5/:C @0x1274d0e19>\n",
      " #<ATOM :C4/:C @0x127d43009> #<ATOM :C1/:C @0x127d435a9>)\n",
      "Anchored #<ATOM :C_341/:C @0x13c362789> to '( 26.395 5.074 3.499) restraints: (#<RESTRAINT-ANCHOR >) props: (:CHEMDRAW-COLOR 3)\n",
      "Anchored #<ATOM :C_337/:C @0x13c3624b9> to '( 26.498 6.379 5.469) restraints: (#<RESTRAINT-ANCHOR >) props: (:ATTACH :ZA :CHEMDRAW-COLOR 3)\n",
      "Anchored #<ATOM :C3/:C @0x13c3625a9> to '( 27.34 5.86 2.902) restraints: (#<RESTRAINT-ANCHOR >) props: (:CHEMDRAW-COLOR 3)\n",
      "Anchored #<ATOM :C5/:C @0x13c3622d9> to '( 27.42 7.196 4.856) restraints: (#<RESTRAINT-ANCHOR >) props: (:CHEMDRAW-COLOR 3)\n",
      "Anchored #<ATOM :C_345/:C @0x13c3623c9> to '( 27.837 6.921 3.569) restraints: (#<RESTRAINT-ANCHOR >) props: (:CHEMDRAW-COLOR 3)\n",
      "Anchored #<ATOM :C1/:C @0x13c362699> to '( 25.978 5.327 4.779) restraints: (#<RESTRAINT-ANCHOR >) props: (:CHEMDRAW-COLOR 3)\n",
      "Entered minimize\n",
      "minimize-no-fail\n",
      "======= Starting Steepest Descent Minimizer\n",
      "DONE absolute force test:\n",
      "forceRmsMag(0.000080).LT.forceTolerance(5000.000000)\n",
      "======= Starting Conjugate Gradient Minimizer\n",
      "DONE absolute force test:\n",
      "forceRmsMag(0.000080).LT.forceTolerance(0.000100)\n",
      "======= Starting Truncated Newton Minimizer\n",
      "search complete according to b1aTest last alphaK = 0.000477 energyXkNext = 13.291077 energyXk = 13.291077\n",
      "Just returned from minimize\n",
      "Entered minimize\n",
      "minimize-no-fail\n",
      "======= Starting Steepest Descent Minimizer\n",
      "DONE absolute force test:\n",
      "forceRmsMag(0.000062).LT.forceTolerance(5000.000000)\n",
      "======= Starting Conjugate Gradient Minimizer\n",
      "DONE absolute force test:\n",
      "forceRmsMag(0.000062).LT.forceTolerance(0.000100)\n",
      "======= Starting Truncated Newton Minimizer\n",
      "search complete according to b1aTest last alphaK = 0.000578 energyXkNext = 13.518544 energyXk = 13.518544\n",
      "Just returned from minimize\n"
     ]
    },
    {
     "data": {
      "text/plain": [
       "NIL"
      ]
     },
     "execution_count": 187,
     "metadata": {},
     "output_type": "execute_result"
    }
   ],
   "source": [
    "(fep::pose-ligands-using-pattern *feps* *pick* *ligs*)"
   ]
  },
  {
   "cell_type": "code",
   "execution_count": 188,
   "metadata": {},
   "outputs": [
    {
     "data": {
      "application/vnd.jupyter.widget-view+json": {
       "model_id": "F4934822-8E3A-4C46-968A-91B9B1264B11",
       "version_major": 2,
       "version_minor": 0
      },
      "text/plain": [
       "#<NGLV:NGLWIDGET>"
      ]
     },
     "execution_count": 188,
     "metadata": {},
     "output_type": "execute_result"
    }
   ],
   "source": [
    "(defparameter vreceptor (show *lysozyme*)) vreceptor"
   ]
  },
  {
   "cell_type": "code",
   "execution_count": 190,
   "metadata": {},
   "outputs": [
    {
     "data": {
      "text/plain": [
       "#<CANDO-JUPYTER:CANDO-STRUCTURE>"
      ]
     },
     "execution_count": 190,
     "metadata": {},
     "output_type": "execute_result"
    }
   ],
   "source": [
    "(defparameter *moveable-agg* (chem:make-aggregate))\n",
    "(chem:add-matter *moveable-agg* (fep::molecule (second (fep:ligands *feps*))))\n",
    "(defparameter *struct* (make-instance 'cando-structure :matter *moveable-agg*))\n",
    "(nglv::add-structure vreceptor *struct*)"
   ]
  },
  {
   "cell_type": "markdown",
   "metadata": {},
   "source": [
    "# Define the pairs of compounds between which we want to carry out free energy perturbation calculations"
   ]
  },
  {
   "cell_type": "code",
   "execution_count": 126,
   "metadata": {},
   "outputs": [
    {
     "name": "stdout",
     "output_type": "stream",
     "text": [
      "Morph from source: #<FEP-STRUCTURE AA> to target: #<FEP-STRUCTURE AB>\n"
     ]
    },
    {
     "data": {
      "text/plain": [
       "#<JOB-GRAPH>"
      ]
     },
     "execution_count": 126,
     "metadata": {},
     "output_type": "execute_result"
    }
   ],
   "source": [
    "(fep::build-initial-jobs *feps* :connections 2 :stages 3 :windows 11)"
   ]
  },
  {
   "cell_type": "code",
   "execution_count": 127,
   "metadata": {},
   "outputs": [
    {
     "data": {
      "text/plain": [
       "#<JOB-GRAPH>"
      ]
     },
     "execution_count": 127,
     "metadata": {},
     "output_type": "execute_result"
    }
   ],
   "source": [
    "(fep:jobs *feps*)"
   ]
  },
  {
   "cell_type": "code",
   "execution_count": 128,
   "metadata": {
    "scrolled": false
   },
   "outputs": [
    {
     "data": {
      "text/plain": [
       "#<fep-calculation>"
      ]
     },
     "execution_count": 128,
     "metadata": {},
     "output_type": "execute_result"
    }
   ],
   "source": [
    "(graph::save-graph *feps*)"
   ]
  },
  {
   "cell_type": "markdown",
   "metadata": {},
   "source": [
    "# Generate the calculations"
   ]
  },
  {
   "cell_type": "code",
   "execution_count": 129,
   "metadata": {},
   "outputs": [
    {
     "name": "stdout",
     "output_type": "stream",
     "text": [
      "Swank is already running\n"
     ]
    },
    {
     "data": {
      "text/plain": [
       "NIL"
      ]
     },
     "execution_count": 129,
     "metadata": {},
     "output_type": "execute_result"
    }
   ],
   "source": [
    "(start-swank)"
   ]
  },
  {
   "cell_type": "code",
   "execution_count": 130,
   "metadata": {},
   "outputs": [
    {
     "name": "stdout",
     "output_type": "stream",
     "text": [
      "Creating am1 scripts in /Users/meister/Development/cando-dev/extensions/cando/src/examples/lysozyme-fep/jobs/\n",
      "Generating script am1bcc/aa.in\n",
      "Generating script am1bcc/ab.in\n",
      "About to set outputs result -> (#<FEP::LIGAND-SQM-JOB> #<FEP::LIGAND-SQM-JOB>)\n",
      "Printing job-graph\n",
      "Printing job-graph\n",
      "Writing makefile to /Users/meister/Development/cando-dev/extensions/cando/src/examples/lysozyme-fep/jobs/makefile\n",
      "Skipping generation of charge.lisp - it has not changed\n",
      "Skipping generation of AA-AB/complex/recharge/recharge.lisp - it has not changed\n",
      "Skipping generation of AA-AB/complex/recharge/1.000/ti.in - it has not changed\n",
      "Skipping generation of getdvdl.py - it has not changed\n",
      "Skipping generation of AA-AB/complex/side-script.lisp - it has not changed\n",
      "Skipping generation of AA-AB/morph-script.lisp - it has not changed\n",
      "Skipping generation of AA-AB/complex/recharge/1.000/heat.in - it has not changed\n",
      "Skipping generation of AA-AB/complex/recharge/0.900/ti.in - it has not changed\n",
      "Skipping generation of AA-AB/complex/recharge/0.900/heat.in - it has not changed\n",
      "Skipping generation of AA-AB/complex/recharge/0.800/ti.in - it has not changed\n",
      "Skipping generation of AA-AB/complex/recharge/0.800/heat.in - it has not changed\n",
      "Skipping generation of AA-AB/complex/recharge/0.700/ti.in - it has not changed\n",
      "Skipping generation of AA-AB/complex/recharge/0.700/heat.in - it has not changed\n",
      "Skipping generation of AA-AB/complex/recharge/0.600/ti.in - it has not changed\n",
      "Skipping generation of AA-AB/complex/recharge/0.600/heat.in - it has not changed\n",
      "Skipping generation of AA-AB/complex/recharge/0.500/ti.in - it has not changed\n",
      "Skipping generation of AA-AB/complex/recharge/0.500/heat.in - it has not changed\n",
      "Skipping generation of AA-AB/complex/recharge/0.400/ti.in - it has not changed\n",
      "Skipping generation of AA-AB/complex/recharge/0.400/heat.in - it has not changed\n",
      "Skipping generation of AA-AB/complex/recharge/0.300/ti.in - it has not changed\n",
      "Skipping generation of AA-AB/complex/recharge/0.300/heat.in - it has not changed\n",
      "Skipping generation of AA-AB/complex/recharge/0.200/ti.in - it has not changed\n",
      "Skipping generation of AA-AB/complex/recharge/0.200/heat.in - it has not changed\n",
      "Skipping generation of AA-AB/complex/recharge/0.100/ti.in - it has not changed\n",
      "Skipping generation of AA-AB/complex/recharge/0.100/heat.in - it has not changed\n",
      "Skipping generation of AA-AB/complex/recharge/0.000/ti.in - it has not changed\n",
      "Skipping generation of AA-AB/complex/recharge/0.000/heat.in - it has not changed\n",
      "Skipping generation of AA-AB/complex/decharge/decharge.lisp - it has not changed\n",
      "Skipping generation of AA-AB/complex/decharge/1.000/ti.in - it has not changed\n",
      "Skipping generation of getdvdl.py - it has not changed\n",
      "Skipping generation of AA-AB/complex/decharge/1.000/heat.in - it has not changed\n",
      "Skipping generation of AA-AB/complex/decharge/0.900/ti.in - it has not changed\n",
      "Skipping generation of AA-AB/complex/decharge/0.900/heat.in - it has not changed\n",
      "Skipping generation of AA-AB/complex/decharge/0.800/ti.in - it has not changed\n",
      "Skipping generation of AA-AB/complex/decharge/0.800/heat.in - it has not changed\n",
      "Skipping generation of AA-AB/complex/decharge/0.700/ti.in - it has not changed\n",
      "Skipping generation of AA-AB/complex/decharge/0.700/heat.in - it has not changed\n",
      "Skipping generation of AA-AB/complex/decharge/0.600/ti.in - it has not changed\n",
      "Skipping generation of AA-AB/complex/decharge/0.600/heat.in - it has not changed\n",
      "Skipping generation of AA-AB/complex/decharge/0.500/ti.in - it has not changed\n",
      "Skipping generation of AA-AB/complex/decharge/0.500/heat.in - it has not changed\n",
      "Skipping generation of AA-AB/complex/decharge/0.400/ti.in - it has not changed\n",
      "Skipping generation of AA-AB/complex/decharge/0.400/heat.in - it has not changed\n",
      "Skipping generation of AA-AB/complex/decharge/0.300/ti.in - it has not changed\n",
      "Skipping generation of AA-AB/complex/decharge/0.300/heat.in - it has not changed\n",
      "Skipping generation of AA-AB/complex/decharge/0.200/ti.in - it has not changed\n",
      "Skipping generation of AA-AB/complex/decharge/0.200/heat.in - it has not changed\n",
      "Skipping generation of AA-AB/complex/decharge/0.100/ti.in - it has not changed\n",
      "Skipping generation of AA-AB/complex/decharge/0.100/heat.in - it has not changed\n",
      "Skipping generation of AA-AB/complex/decharge/0.000/ti.in - it has not changed\n",
      "Skipping generation of AA-AB/complex/decharge/0.000/heat.in - it has not changed\n",
      "Skipping generation of AA-AB/complex/solvate-addion.lisp - it has not changed\n",
      "Skipping generation of AA-AB/complex/min.in - it has not changed\n",
      "Skipping generation of AA-AB/complex/heat.in - it has not changed\n",
      "Skipping generation of AA-AB/complex/press.in - it has not changed\n",
      "Skipping generation of AA-AB/complex/vdw-bonded/1.000/heat.in - it has not changed\n",
      "Skipping generation of AA-AB/complex/vdw-bonded/1.000/ti.in - it has not changed\n",
      "Skipping generation of getdvdl.py - it has not changed\n",
      "Skipping generation of AA-AB/complex/vdw-bonded/0.900/heat.in - it has not changed\n",
      "Skipping generation of AA-AB/complex/vdw-bonded/0.900/ti.in - it has not changed\n",
      "Skipping generation of AA-AB/complex/vdw-bonded/0.800/heat.in - it has not changed\n",
      "Skipping generation of AA-AB/complex/vdw-bonded/0.800/ti.in - it has not changed\n",
      "Skipping generation of AA-AB/complex/vdw-bonded/0.700/heat.in - it has not changed\n",
      "Skipping generation of AA-AB/complex/vdw-bonded/0.700/ti.in - it has not changed\n",
      "Skipping generation of AA-AB/complex/vdw-bonded/0.600/heat.in - it has not changed\n",
      "Skipping generation of AA-AB/complex/vdw-bonded/0.600/ti.in - it has not changed\n",
      "Skipping generation of AA-AB/complex/vdw-bonded/0.500/heat.in - it has not changed\n",
      "Skipping generation of AA-AB/complex/vdw-bonded/0.500/ti.in - it has not changed\n",
      "Skipping generation of AA-AB/complex/vdw-bonded/0.400/heat.in - it has not changed\n",
      "Skipping generation of AA-AB/complex/vdw-bonded/0.400/ti.in - it has not changed\n",
      "Skipping generation of AA-AB/complex/vdw-bonded/0.300/heat.in - it has not changed\n",
      "Skipping generation of AA-AB/complex/vdw-bonded/0.300/ti.in - it has not changed\n",
      "Skipping generation of AA-AB/complex/vdw-bonded/0.200/heat.in - it has not changed\n",
      "Skipping generation of AA-AB/complex/vdw-bonded/0.200/ti.in - it has not changed\n",
      "Skipping generation of AA-AB/complex/vdw-bonded/0.100/heat.in - it has not changed\n",
      "Skipping generation of AA-AB/complex/vdw-bonded/0.100/ti.in - it has not changed\n",
      "Skipping generation of AA-AB/complex/vdw-bonded/0.000/heat.in - it has not changed\n",
      "Skipping generation of AA-AB/complex/vdw-bonded/0.000/ti.in - it has not changed\n",
      "Skipping generation of AA-AB/complex/strip.in - it has not changed\n",
      "Skipping generation of AA-AB/ligand/recharge/recharge.lisp - it has not changed\n",
      "Skipping generation of AA-AB/ligand/recharge/1.000/ti.in - it has not changed\n",
      "Skipping generation of getdvdl.py - it has not changed\n",
      "Skipping generation of AA-AB/ligand/side-script.lisp - it has not changed\n",
      "Skipping generation of AA-AB/ligand/recharge/1.000/heat.in - it has not changed\n",
      "Skipping generation of AA-AB/ligand/recharge/0.900/ti.in - it has not changed\n",
      "Skipping generation of AA-AB/ligand/recharge/0.900/heat.in - it has not changed\n",
      "Skipping generation of AA-AB/ligand/recharge/0.800/ti.in - it has not changed\n",
      "Skipping generation of AA-AB/ligand/recharge/0.800/heat.in - it has not changed\n",
      "Skipping generation of AA-AB/ligand/recharge/0.700/ti.in - it has not changed\n",
      "Skipping generation of AA-AB/ligand/recharge/0.700/heat.in - it has not changed\n",
      "Skipping generation of AA-AB/ligand/recharge/0.600/ti.in - it has not changed\n",
      "Skipping generation of AA-AB/ligand/recharge/0.600/heat.in - it has not changed\n",
      "Skipping generation of AA-AB/ligand/recharge/0.500/ti.in - it has not changed\n",
      "Skipping generation of AA-AB/ligand/recharge/0.500/heat.in - it has not changed\n",
      "Skipping generation of AA-AB/ligand/recharge/0.400/ti.in - it has not changed\n",
      "Skipping generation of AA-AB/ligand/recharge/0.400/heat.in - it has not changed\n",
      "Skipping generation of AA-AB/ligand/recharge/0.300/ti.in - it has not changed\n",
      "Skipping generation of AA-AB/ligand/recharge/0.300/heat.in - it has not changed\n",
      "Skipping generation of AA-AB/ligand/recharge/0.200/ti.in - it has not changed\n",
      "Skipping generation of AA-AB/ligand/recharge/0.200/heat.in - it has not changed\n",
      "Skipping generation of AA-AB/ligand/recharge/0.100/ti.in - it has not changed\n",
      "Skipping generation of AA-AB/ligand/recharge/0.100/heat.in - it has not changed\n",
      "Skipping generation of AA-AB/ligand/recharge/0.000/ti.in - it has not changed\n",
      "Skipping generation of AA-AB/ligand/recharge/0.000/heat.in - it has not changed\n",
      "Skipping generation of AA-AB/ligand/decharge/decharge.lisp - it has not changed\n",
      "Skipping generation of AA-AB/ligand/decharge/1.000/ti.in - it has not changed\n",
      "Skipping generation of getdvdl.py - it has not changed\n",
      "Skipping generation of AA-AB/ligand/decharge/1.000/heat.in - it has not changed\n",
      "Skipping generation of AA-AB/ligand/decharge/0.900/ti.in - it has not changed\n",
      "Skipping generation of AA-AB/ligand/decharge/0.900/heat.in - it has not changed\n",
      "Skipping generation of AA-AB/ligand/decharge/0.800/ti.in - it has not changed\n",
      "Skipping generation of AA-AB/ligand/decharge/0.800/heat.in - it has not changed\n",
      "Skipping generation of AA-AB/ligand/decharge/0.700/ti.in - it has not changed\n",
      "Skipping generation of AA-AB/ligand/decharge/0.700/heat.in - it has not changed\n",
      "Skipping generation of AA-AB/ligand/decharge/0.600/ti.in - it has not changed\n",
      "Skipping generation of AA-AB/ligand/decharge/0.600/heat.in - it has not changed\n",
      "Skipping generation of AA-AB/ligand/decharge/0.500/ti.in - it has not changed\n",
      "Skipping generation of AA-AB/ligand/decharge/0.500/heat.in - it has not changed\n",
      "Skipping generation of AA-AB/ligand/decharge/0.400/ti.in - it has not changed\n",
      "Skipping generation of AA-AB/ligand/decharge/0.400/heat.in - it has not changed\n",
      "Skipping generation of AA-AB/ligand/decharge/0.300/ti.in - it has not changed\n",
      "Skipping generation of AA-AB/ligand/decharge/0.300/heat.in - it has not changed\n",
      "Skipping generation of AA-AB/ligand/decharge/0.200/ti.in - it has not changed\n",
      "Skipping generation of AA-AB/ligand/decharge/0.200/heat.in - it has not changed\n",
      "Skipping generation of AA-AB/ligand/decharge/0.100/ti.in - it has not changed\n",
      "Skipping generation of AA-AB/ligand/decharge/0.100/heat.in - it has not changed\n",
      "Skipping generation of AA-AB/ligand/decharge/0.000/ti.in - it has not changed\n",
      "Skipping generation of AA-AB/ligand/decharge/0.000/heat.in - it has not changed\n",
      "Skipping generation of AA-AB/ligand/solvate-addion.lisp - it has not changed\n",
      "Skipping generation of AA-AB/ligand/min.in - it has not changed\n",
      "Skipping generation of AA-AB/ligand/heat.in - it has not changed\n",
      "Skipping generation of AA-AB/ligand/press.in - it has not changed\n",
      "Skipping generation of AA-AB/ligand/vdw-bonded/1.000/heat.in - it has not changed\n",
      "Skipping generation of AA-AB/ligand/vdw-bonded/1.000/ti.in - it has not changed\n",
      "Skipping generation of getdvdl.py - it has not changed\n",
      "Skipping generation of AA-AB/ligand/vdw-bonded/0.900/heat.in - it has not changed\n",
      "Skipping generation of AA-AB/ligand/vdw-bonded/0.900/ti.in - it has not changed\n",
      "Skipping generation of AA-AB/ligand/vdw-bonded/0.800/heat.in - it has not changed\n",
      "Skipping generation of AA-AB/ligand/vdw-bonded/0.800/ti.in - it has not changed\n",
      "Skipping generation of AA-AB/ligand/vdw-bonded/0.700/heat.in - it has not changed\n",
      "Skipping generation of AA-AB/ligand/vdw-bonded/0.700/ti.in - it has not changed\n",
      "Skipping generation of AA-AB/ligand/vdw-bonded/0.600/heat.in - it has not changed\n",
      "Skipping generation of AA-AB/ligand/vdw-bonded/0.600/ti.in - it has not changed\n",
      "Skipping generation of AA-AB/ligand/vdw-bonded/0.500/heat.in - it has not changed\n",
      "Skipping generation of AA-AB/ligand/vdw-bonded/0.500/ti.in - it has not changed\n",
      "Skipping generation of AA-AB/ligand/vdw-bonded/0.400/heat.in - it has not changed\n",
      "Skipping generation of AA-AB/ligand/vdw-bonded/0.400/ti.in - it has not changed\n",
      "Skipping generation of AA-AB/ligand/vdw-bonded/0.300/heat.in - it has not changed\n",
      "Skipping generation of AA-AB/ligand/vdw-bonded/0.300/ti.in - it has not changed\n",
      "Skipping generation of AA-AB/ligand/vdw-bonded/0.200/heat.in - it has not changed\n",
      "Skipping generation of AA-AB/ligand/vdw-bonded/0.200/ti.in - it has not changed\n",
      "Skipping generation of AA-AB/ligand/vdw-bonded/0.100/heat.in - it has not changed\n",
      "Skipping generation of AA-AB/ligand/vdw-bonded/0.100/ti.in - it has not changed\n",
      "Skipping generation of AA-AB/ligand/vdw-bonded/0.000/heat.in - it has not changed\n",
      "Skipping generation of AA-AB/ligand/vdw-bonded/0.000/ti.in - it has not changed\n",
      "Skipping generation of AA-AB/ligand/strip.in - it has not changed\n",
      "Skipping generation of /Users/meister/Development/cando-dev/extensions/cando/src/examples/lysozyme-fep/jobs/makefile - it has not changed\n",
      "Writing runcmd\n"
     ]
    },
    {
     "data": {
      "text/plain": [
       "*WORK-LIST*"
      ]
     },
     "execution_count": 130,
     "metadata": {},
     "output_type": "execute_result"
    }
   ],
   "source": [
    "(defparameter *work-list* (fep::generate-jobs *feps*))"
   ]
  },
  {
   "cell_type": "code",
   "execution_count": 131,
   "metadata": {},
   "outputs": [
    {
     "data": {
      "text/plain": [
       "#<FEP::JUPYTER-JOB>"
      ]
     },
     "execution_count": 131,
     "metadata": {},
     "output_type": "execute_result"
    }
   ],
   "source": [
    "*work-list*"
   ]
  },
  {
   "cell_type": "code",
   "execution_count": 132,
   "metadata": {},
   "outputs": [
    {
     "data": {
      "text/plain": [
       "NIL"
      ]
     },
     "execution_count": 132,
     "metadata": {},
     "output_type": "execute_result"
    }
   ],
   "source": [
    "(with-open-file (sout \"/tmp/graph.dot\" :direction :output)\n",
    "    (fepdot::draw-graph-stream (list *work-list*) sout))"
   ]
  },
  {
   "cell_type": "code",
   "execution_count": 133,
   "metadata": {},
   "outputs": [
    {
     "data": {
      "text/plain": [
       "0"
      ]
     },
     "execution_count": 133,
     "metadata": {},
     "output_type": "execute_result"
    }
   ],
   "source": [
    "(ext:system \"dot -Tpdf -O /tmp/graph.dot\")"
   ]
  },
  {
   "cell_type": "code",
   "execution_count": 134,
   "metadata": {},
   "outputs": [
    {
     "data": {
      "text/plain": [
       "0"
      ]
     },
     "execution_count": 134,
     "metadata": {},
     "output_type": "execute_result"
    }
   ],
   "source": [
    "(ext:system \"open -n /tmp/graph.dot.pdf\")"
   ]
  },
  {
   "cell_type": "code",
   "execution_count": null,
   "metadata": {},
   "outputs": [],
   "source": []
  }
 ],
 "metadata": {
  "kernelspec": {
   "display_name": "cando",
   "language": "lisp",
   "name": "cando"
  },
  "language_info": {
   "codemirror_mode": "text/x-common-lisp",
   "file_extension": ".lisp",
   "mimetype": "text/x-common-lisp",
   "name": "common-lisp",
   "pygments_lexer": "common-lisp",
   "version": "X3J13"
  }
 },
 "nbformat": 4,
 "nbformat_minor": 2
}
