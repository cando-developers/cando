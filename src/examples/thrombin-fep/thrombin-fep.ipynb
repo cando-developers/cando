{
 "cells": [
  {
   "cell_type": "markdown",
   "metadata": {},
   "source": [
    "# A Cando-app to setup free energy perturbation calculations using AMBER"
   ]
  },
  {
   "cell_type": "markdown",
   "metadata": {},
   "source": [
    "First we do the following:\n",
    "\n",
    "  * Load the TI-RUN package.\n",
    "  * Set things up to carry out geometry optimization using Amber."
   ]
  },
  {
   "cell_type": "code",
   "execution_count": null,
   "metadata": {
    "scrolled": true
   },
   "outputs": [],
   "source": [
    "(ql:quickload :ti-run)"
   ]
  },
  {
   "cell_type": "code",
   "execution_count": null,
   "metadata": {},
   "outputs": [],
   "source": [
    "(leap:setup-amber-paths)"
   ]
  },
  {
   "cell_type": "code",
   "execution_count": null,
   "metadata": {
    "scrolled": true
   },
   "outputs": [],
   "source": [
    "(source \"leaprc.protein.ff14SB\")"
   ]
  },
  {
   "cell_type": "markdown",
   "metadata": {},
   "source": [
    "# Start a new TI-RUN calculation"
   ]
  },
  {
   "cell_type": "code",
   "execution_count": null,
   "metadata": {},
   "outputs": [],
   "source": [
    "(defparameter *ti-runs* (make-instance 'ti-run:calculation))"
   ]
  },
  {
   "cell_type": "markdown",
   "metadata": {},
   "source": [
    "# Import the sketch from a Chemdraw file"
   ]
  },
  {
   "cell_type": "code",
   "execution_count": null,
   "metadata": {},
   "outputs": [],
   "source": [
    "(png-from-file \"ligand2.png\" )"
   ]
  },
  {
   "cell_type": "code",
   "execution_count": null,
   "metadata": {
    "scrolled": false
   },
   "outputs": [],
   "source": [
    "(defparameter *sketch* (ti-run:load-chem-draw-ti-run \"ligand2.cdxml\"))"
   ]
  },
  {
   "cell_type": "code",
   "execution_count": null,
   "metadata": {},
   "outputs": [],
   "source": [
    "(ti-run:setup-ligands *ti-runs* *sketch*)"
   ]
  },
  {
   "cell_type": "code",
   "execution_count": null,
   "metadata": {
    "scrolled": true
   },
   "outputs": [],
   "source": [
    "(defparameter v (show (ti-run:layout-ligands *ti-runs*)))\n",
    "v"
   ]
  },
  {
   "cell_type": "markdown",
   "metadata": {},
   "source": [
    "# Load the Thrombin PDB file"
   ]
  },
  {
   "cell_type": "code",
   "execution_count": null,
   "metadata": {},
   "outputs": [],
   "source": [
    "(start-swank 4006)"
   ]
  },
  {
   "cell_type": "code",
   "execution_count": null,
   "metadata": {},
   "outputs": [],
   "source": [
    "*default-pathname-defaults*"
   ]
  },
  {
   "cell_type": "code",
   "execution_count": null,
   "metadata": {
    "scrolled": true
   },
   "outputs": [],
   "source": [
    "(defparameter *thrombin* (load-pdb \"2zff_fixed.pdb\"))"
   ]
  },
  {
   "cell_type": "code",
   "execution_count": null,
   "metadata": {},
   "outputs": [],
   "source": [
    "(build-unbuilt-hydrogens *thrombin*)"
   ]
  },
  {
   "cell_type": "code",
   "execution_count": null,
   "metadata": {
    "scrolled": false
   },
   "outputs": [],
   "source": [
    "(defparameter vthrombin (show *thrombin*))\n",
    ";;;(nglv::add-representation vthrombin \"surface\" :selection \"protein\")\n",
    "vthrombin"
   ]
  },
  {
   "cell_type": "code",
   "execution_count": null,
   "metadata": {},
   "outputs": [],
   "source": [
    "(nglv::add-representation vthrombin \"ball+stick\" :selection \"all\")"
   ]
  },
  {
   "cell_type": "code",
   "execution_count": null,
   "metadata": {},
   "outputs": [],
   "source": [
    "(remove-molecules *thrombin* 'solvent)"
   ]
  },
  {
   "cell_type": "code",
   "execution_count": null,
   "metadata": {},
   "outputs": [],
   "source": [
    "(cando:do-molecules (m *thrombin*) (format t \"mol: ~a number-of-atoms -> ~a~%\" m (chem:number-of-atoms m))\n",
    "                    (cando:do-residues (res m) (format t \"  res -> ~a~%\" res)))"
   ]
  },
  {
   "cell_type": "code",
   "execution_count": null,
   "metadata": {},
   "outputs": [],
   "source": [
    "(chem:setf-molecule-type (chem:content-with-name *thrombin* :|53U_3|) 'ligand)"
   ]
  },
  {
   "cell_type": "code",
   "execution_count": null,
   "metadata": {},
   "outputs": [],
   "source": [
    "(push *thrombin* (ti-run:receptors *ti-runs*))"
   ]
  },
  {
   "cell_type": "markdown",
   "metadata": {},
   "source": [
    "# Load a template ligand"
   ]
  },
  {
   "cell_type": "code",
   "execution_count": null,
   "metadata": {},
   "outputs": [],
   "source": [
    "(defparameter *lig* (load-pdb \"ligand.pdb\"))"
   ]
  },
  {
   "cell_type": "code",
   "execution_count": null,
   "metadata": {},
   "outputs": [],
   "source": [
    "(show *lig*)"
   ]
  },
  {
   "cell_type": "code",
   "execution_count": null,
   "metadata": {},
   "outputs": [],
   "source": [
    "(defmacro named-test (name)\n",
    "    `(cons ,name (lambda (a) (eq (chem:get-name a) ,name))))"
   ]
  },
  {
   "cell_type": "markdown",
   "metadata": {},
   "source": [
    "Define a SMARTS matcher that labels ligand atoms"
   ]
  },
  {
   "cell_type": "code",
   "execution_count": null,
   "metadata": {},
   "outputs": [],
   "source": [
    "(defparameter *tests* (mapcar (lambda (name) (named-test name)) '(:c13 :c12 :c15 :c9 :c8 :c7 :c5 :c3 :c1 :c20 :c18 :n1 :n3 :o2 :o1 :c2)))\n",
    "(defparameter *pick* (chem:compile-smarts \n",
    "             \"[C<c13>:13]1~[C<c12>:12]~C~C(~[C<c15>:15]~C1)~[C<c9>:9]~[N<n3>:33]~[C<c8>:8](~[O<o2>:22])[C<c7>:7]7C[C<c5>:5]CN7[C<c3>:3](~[O<o1>:21])[C<c2>:2]([N<n1>:31])[C<c1>:1]C10~C~[C<c20>:20]~C~[C<c18>:18]~C10\" :tests *tests*))\n"
   ]
  },
  {
   "cell_type": "markdown",
   "metadata": {},
   "source": [
    "Test the SMARTS code against the atoms of the ligand - it should recognize atom C13"
   ]
  },
  {
   "cell_type": "code",
   "execution_count": null,
   "metadata": {},
   "outputs": [],
   "source": [
    "(cando:do-atoms (a *lig*) (when (chem:matches *pick* a)\n",
    "                              (format t \"Match!! ~a -> ~a~%\" a (chem:matches *pick* a))))"
   ]
  },
  {
   "cell_type": "markdown",
   "metadata": {},
   "source": [
    "# Use the GAFF force field to build chemically reasonable structures of candidate ligands"
   ]
  },
  {
   "cell_type": "code",
   "execution_count": null,
   "metadata": {},
   "outputs": [],
   "source": [
    "(clear-force-field)\n",
    "(load-atom-type-rules \"ATOMTYPE_GFF.DEF\")\n",
    "(load-amber-params \"gaff.dat\")"
   ]
  },
  {
   "cell_type": "code",
   "execution_count": null,
   "metadata": {},
   "outputs": [],
   "source": [
    "(ti-run:build-ligands *ti-runs*)"
   ]
  },
  {
   "cell_type": "code",
   "execution_count": null,
   "metadata": {
    "scrolled": true
   },
   "outputs": [],
   "source": [
    "(show (ti-run:layout-ligands *ti-runs* :accessor 'ti-run::molecule))"
   ]
  },
  {
   "cell_type": "markdown",
   "metadata": {},
   "source": [
    "# Pose the new ligands onto the template ligand"
   ]
  },
  {
   "cell_type": "code",
   "execution_count": null,
   "metadata": {
    "collapsed": true
   },
   "outputs": [],
   "source": [
    "(ti-run:pose-ligands-using-pattern *ti-runs* *pick* *lig* :stereochemical-restraints '( (2 . :R) (7 . :S)))"
   ]
  },
  {
   "cell_type": "code",
   "execution_count": null,
   "metadata": {
    "scrolled": false
   },
   "outputs": [],
   "source": [
    "(defparameter vthrombin (show *thrombin*))\n",
    ";;;(nglv::add-representation vthrombin \"surface\" :selection \"protein\")\n",
    "vthrombin"
   ]
  },
  {
   "cell_type": "code",
   "execution_count": null,
   "metadata": {},
   "outputs": [],
   "source": [
    "(defparameter *moveable-agg* (chem:make-aggregate))\n",
    "(chem:add-matter *moveable-agg* (ti-run::molecule (first (ti-run:ligands *ti-runs*))))\n",
    "(defparameter *struct* (make-instance 'cando-structure :matter *moveable-agg*))\n",
    "(nglv::add-structure vthrombin *struct*)"
   ]
  },
  {
   "cell_type": "code",
   "execution_count": null,
   "metadata": {},
   "outputs": [],
   "source": [
    "(ti-run:molecule (first (ti-run:ligands *ti-runs*)))"
   ]
  },
  {
   "cell_type": "code",
   "execution_count": null,
   "metadata": {
    "scrolled": true
   },
   "outputs": [],
   "source": [
    "(show (ti-run:layout-ligands *ti-runs* :accessor 'ti-run::molecule))"
   ]
  },
  {
   "cell_type": "markdown",
   "metadata": {},
   "source": [
    "# Define the pairs of compounds between which we want to carry out free energy perturbation calculations"
   ]
  },
  {
   "cell_type": "code",
   "execution_count": null,
   "metadata": {},
   "outputs": [],
   "source": [
    "(ti-run:build-job-nodes *ti-runs*)"
   ]
  },
  {
   "cell_type": "code",
   "execution_count": null,
   "metadata": {},
   "outputs": [],
   "source": [
    "(ti-run::connect-job-nodes *ti-runs* :simple :connections 2 :stages 3 :windows 11)"
   ]
  },
  {
   "cell_type": "code",
   "execution_count": null,
   "metadata": {},
   "outputs": [],
   "source": [
    "(ti-run:jobs *ti-runs*)"
   ]
  },
  {
   "cell_type": "code",
   "execution_count": null,
   "metadata": {
    "scrolled": false
   },
   "outputs": [],
   "source": [
    "(graph::save-graph *ti-runs*)"
   ]
  },
  {
   "cell_type": "code",
   "execution_count": null,
   "metadata": {},
   "outputs": [],
   "source": [
    "*default-pathname-defaults*"
   ]
  },
  {
   "cell_type": "code",
   "execution_count": null,
   "metadata": {},
   "outputs": [],
   "source": [
    "(defparameter *work-list* (ti-run::generate-jobs *ti-runs*))"
   ]
  },
  {
   "cell_type": "code",
   "execution_count": null,
   "metadata": {},
   "outputs": [],
   "source": [
    "*work-list*"
   ]
  }
 ],
 "metadata": {
  "kernelspec": {
   "display_name": "cando",
   "language": "lisp",
   "name": "cando"
  },
  "language_info": {
   "codemirror_mode": "text/x-common-lisp",
   "file_extension": ".lisp",
   "mimetype": "text/x-common-lisp",
   "name": "common-lisp",
   "pygments_lexer": "common-lisp",
   "version": "X3J13"
  }
 },
 "nbformat": 4,
 "nbformat_minor": 2
}
