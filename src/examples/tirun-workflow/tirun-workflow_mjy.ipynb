{
 "cells": [
  {
   "cell_type": "markdown",
   "metadata": {},
   "source": [
    "### CANDO - Computer Aided Nanomaterial Design and Optimization\n",
    "<ins>[CANDO](https://github.com/cando-developers/cando)</ins>  |  <ins>[Amber](https://ambermd.org/)</ins>  |  <ins>[ThirdLaw Technologies](https://www.thirdlaw.tech/)</ins>\n",
    "                                                   \n",
    "#### Thermodynamic Integration (TI) Demo <br>\n",
    " - #### This JupyterLab notebook has been design to aid with the setup of relativve free energy of binding calculations using TI.\n",
    " - #### Molecule similarities are computed using a graph theory appraoch based on LOMAP (J Comput Aided Mol Des 27, 755–770 (2013). https://doi.org/10.1007/s10822-013-9678-y)\n",
    " - #### Equilibration and dynamics simulations are carried out in Amber 20 using optimized parameters for GPU calculations.\n",
    " \n",
    "<hr style=\"border:1px solid black\"> </hr>"
   ]
  },
  {
   "cell_type": "markdown",
   "metadata": {},
   "source": [
    "<div class=\"alert alert-block alert-info\">\n",
    "    <b>Step 1:</b> <font color='black'>Setup the JupyetrLab environment:</font></div>"
   ]
  },
  {
   "cell_type": "code",
   "execution_count": 1,
   "metadata": {},
   "outputs": [
    {
     "data": {
      "text/plain": [
       "T"
      ]
     },
     "execution_count": 1,
     "metadata": {},
     "output_type": "execute_result"
    },
    {
     "name": "stdout",
     "output_type": "stream",
     "text": [
      "Checking SLIME_HOME\n",
      "About to start swank server\n",
      "Started swank server\n"
     ]
    }
   ],
   "source": [
    "startSwank"
   ]
  },
  {
   "cell_type": "code",
   "execution_count": 2,
   "metadata": {},
   "outputs": [
    {
     "name": "stdout",
     "output_type": "stream",
     "text": [
      "keyword str -> \"TIRUN-JUPYTER\"\n",
      "To load \"tirun-jupyter\":\n",
      "  Load 1 ASDF system:\n",
      "    tirun-jupyter\n"
     ]
    },
    {
     "data": {
      "text/plain": [
       "(:TIRUN-JUPYTER)"
      ]
     },
     "execution_count": 2,
     "metadata": {},
     "output_type": "execute_result"
    },
    {
     "name": "stdout",
     "output_type": "stream",
     "text": [
      "\n",
      "; Loading \"tirun-jupyter\"\n",
      "\n"
     ]
    }
   ],
   "source": [
    "quickload :tirun-jupyter"
   ]
  },
  {
   "cell_type": "markdown",
   "metadata": {},
   "source": [
    "***\n",
    "<div class=\"alert alert-block alert-info\">\n",
    "    <b>Step 2:</b> <font color='black'>Setup a new calculation:</font></div>"
   ]
  },
  {
   "cell_type": "code",
   "execution_count": 3,
   "metadata": {},
   "outputs": [
    {
     "data": {
      "text/plain": [
       "T"
      ]
     },
     "execution_count": 3,
     "metadata": {},
     "output_type": "execute_result"
    }
   ],
   "source": [
    "(use-package :tirun-jupyter)"
   ]
  },
  {
   "cell_type": "code",
   "execution_count": 4,
   "metadata": {},
   "outputs": [
    {
     "data": {
      "text/plain": [
       "#<tirun-calculation>"
      ]
     },
     "execution_count": 4,
     "metadata": {},
     "output_type": "execute_result"
    },
    {
     "name": "stdout",
     "output_type": "stream",
     "text": [
      "Jobs will be saved to /Users/yonkunas/jobs/\n",
      "setenv CANDO_JOBS_DIRECTORY if you want it to go elsewhere\n"
     ]
    }
   ],
   "source": [
    "tirun = (tirun-jupyter:new-tirun)"
   ]
  },
  {
   "cell_type": "markdown",
   "metadata": {},
   "source": [
    "***\n",
    "<div class=\"alert alert-block alert-info\">\n",
    "    <b>Step 3:</b> <font color='black'>Load a receptor as a PDB file::</font></div>"
   ]
  },
  {
   "cell_type": "code",
   "execution_count": 5,
   "metadata": {},
   "outputs": [
    {
     "data": {
      "application/vnd.jupyter.widget-view+json": {
       "model_id": "a88f84907c0d4e1a8d9dd3bbb93e09f6",
       "version_major": 2,
       "version_minor": 0
      },
      "text/plain": [
       "A Jupyter Widget"
      ]
     },
     "metadata": {},
     "output_type": "display_data"
    },
    {
     "data": {
      "application/vnd.jupyter.widget-view+json": {
       "model_id": "8dfcdaabf63e4133a113ff5cfcd29a46",
       "version_major": 2,
       "version_minor": 0
      },
      "text/plain": [
       "A Jupyter Widget"
      ]
     },
     "metadata": {},
     "output_type": "display_data"
    }
   ],
   "source": [
    "(tirun-jupyter:setup-receptor tirun)"
   ]
  },
  {
   "cell_type": "markdown",
   "metadata": {},
   "source": [
    "***\n",
    "<div class=\"alert alert-block alert-info\">\n",
    "    <b>Step 4:</b> <font color='black'>Load a set of ligands as an SDF file:</font></div>"
   ]
  },
  {
   "cell_type": "code",
   "execution_count": 19,
   "metadata": {},
   "outputs": [
    {
     "data": {
      "application/vnd.jupyter.widget-view+json": {
       "model_id": "5b412ae251ab4554a5160ff1dd89a0cd",
       "version_major": 2,
       "version_minor": 0
      },
      "text/plain": [
       "A Jupyter Widget"
      ]
     },
     "metadata": {},
     "output_type": "display_data"
    }
   ],
   "source": [
    "(tirun-jupyter:setup-ligands tirun)"
   ]
  },
  {
   "cell_type": "markdown",
   "metadata": {},
   "source": [
    "***\n",
    "<div class=\"alert alert-block alert-info\">\n",
    "<b>Step 5:</b> <font color='black'>Calculate the optimized map of relative binding free energy calculations:</font><br>\n",
    " - Each node corresponds to a single molecule from the set.<br>\n",
    " - Each edge corresponds to the similarity between the two molecules and the RBFE calculation to be conducted. \n",
    "</div>"
   ]
  },
  {
   "cell_type": "code",
   "execution_count": 20,
   "metadata": {},
   "outputs": [
    {
     "data": {
      "application/vnd.jupyter.widget-view+json": {
       "model_id": "ddde55f491ad4104568f3facaf8b0eeb",
       "version_major": 2,
       "version_minor": 0
      },
      "text/plain": [
       "A Jupyter Widget"
      ]
     },
     "metadata": {},
     "output_type": "display_data"
    }
   ],
   "source": [
    "(tirun-jupyter:lomap tirun)"
   ]
  },
  {
   "cell_type": "markdown",
   "metadata": {},
   "source": [
    "***\n",
    "<div class=\"alert alert-block alert-info\">\n",
    "<b>Step 6:</b> <font color='black'>Write out the directories and files needed for all calculations::</font></div>"
   ]
  },
  {
   "cell_type": "code",
   "execution_count": 21,
   "metadata": {},
   "outputs": [
    {
     "data": {
      "text/plain": [
       "NIL"
      ]
     },
     "execution_count": 21,
     "metadata": {},
     "output_type": "execute_result"
    },
    {
     "name": "stdout",
     "output_type": "stream",
     "text": [
      "generate-jobs to *default-pathname-defaults* -> #P\"/Users/yonkunas/Development/clasp/extensions/cando/src/examples/tirun-workflow/full/\"\n",
      "Writing makefile to /Users/yonkunas/Development/clasp/extensions/cando/src/examples/tirun-workflow/full/jobs/makefile\n",
      "Writing runcmd\n"
     ]
    }
   ],
   "source": [
    "(tirun-jupyter:write-jobs tirun)"
   ]
  },
  {
   "cell_type": "code",
   "execution_count": null,
   "metadata": {},
   "outputs": [],
   "source": []
  }
 ],
 "metadata": {
  "kernelspec": {
   "display_name": "cando",
   "language": "lisp",
   "name": "cando"
  },
  "language_info": {
   "codemirror_mode": "text/x-common-lisp",
   "file_extension": ".lisp",
   "mimetype": "text/x-common-lisp",
   "name": "common-lisp",
   "pygments_lexer": "common-lisp",
   "version": "cclasp-boehm-0.4.2-2720-gb2a69fa0d-cst"
  }
 },
 "nbformat": 4,
 "nbformat_minor": 4
}
