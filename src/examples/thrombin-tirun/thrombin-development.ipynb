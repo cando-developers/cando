{
 "cells": [
  {
   "cell_type": "markdown",
   "metadata": {},
   "source": [
    "# A Cando-app to setup free energy perturbation calculations using AMBER"
   ]
  },
  {
   "cell_type": "markdown",
   "metadata": {},
   "source": [
    "First we do the following:\n",
    "\n",
    "  * Load the TIRUN package.\n",
    "  * Set things up to carry out geometry optimization using Amber."
   ]
  },
  {
   "cell_type": "code",
   "execution_count": null,
   "metadata": {},
   "outputs": [],
   "source": [
    "startSwank 4006"
   ]
  },
  {
   "cell_type": "code",
   "execution_count": null,
   "metadata": {},
   "outputs": [],
   "source": [
    "quickload :tirun-jupyter"
   ]
  },
  {
   "cell_type": "markdown",
   "metadata": {},
   "source": [
    "# Start or load a new TIRUN calculation\n",
    "## We need to make a New/Load widget-group to do this"
   ]
  },
  {
   "cell_type": "code",
   "execution_count": null,
   "metadata": {},
   "outputs": [],
   "source": [
    "(tirun-jupyter:workspace)"
   ]
  },
  {
   "cell_type": "markdown",
   "metadata": {},
   "source": [
    "# Load the Thrombin PDB file"
   ]
  },
  {
   "cell_type": "code",
   "execution_count": null,
   "metadata": {},
   "outputs": [],
   "source": [
    "(tirun-jupyter:load-receptor)"
   ]
  },
  {
   "cell_type": "markdown",
   "metadata": {},
   "source": [
    "# Load the template ligand"
   ]
  },
  {
   "cell_type": "code",
   "execution_count": null,
   "metadata": {},
   "outputs": [],
   "source": [
    "(tirun-jupyter::load-template-ligand)"
   ]
  },
  {
   "cell_type": "markdown",
   "metadata": {},
   "source": [
    "# Sketch the ligands using Kekule composer"
   ]
  },
  {
   "cell_type": "code",
   "execution_count": null,
   "metadata": {},
   "outputs": [],
   "source": [
    "(tirun-jupyter:composer)"
   ]
  },
  {
   "cell_type": "markdown",
   "metadata": {},
   "source": [
    "# Down select the ligands here"
   ]
  },
  {
   "cell_type": "code",
   "execution_count": null,
   "metadata": {},
   "outputs": [],
   "source": [
    "(tirun-jupyter:select-ligands)"
   ]
  },
  {
   "cell_type": "code",
   "execution_count": null,
   "metadata": {},
   "outputs": [],
   "source": [
    "show (sketch2d:sketch2d (first all-ligands))"
   ]
  },
  {
   "cell_type": "markdown",
   "metadata": {},
   "source": [
    "# Define the pairs of compounds between which we want to carry out free energy perturbation calculations"
   ]
  },
  {
   "cell_type": "code",
   "execution_count": null,
   "metadata": {},
   "outputs": [],
   "source": [
    "(tirun-jupyter:lomap)"
   ]
  },
  {
   "cell_type": "code",
   "execution_count": null,
   "metadata": {},
   "outputs": [],
   "source": [
    "(setf sketch2d::*show-names* t)\n",
    "\n",
    "(defparameter *log* (make-instance 'jupyter-widgets:output))\n",
    "\n",
    "(in-package :tirun-jupyter)\n",
    "\n",
    "(defun match-ligands (ligands)\n",
    "  (jupyter-widgets:with-output\n",
    "    cl-user::*log*\n",
    "    (if (= 2 (length ligands))\n",
    "      (multiple-value-bind (equivs diff1 diff2)\n",
    "                           (tirun::calculate-masks-for-molecules (first ligands) (second ligands))\n",
    "        (format t \"~A differences: ~{~A~^, ~}~%\"\n",
    "                (chem:get-name (first ligands))\n",
    "                (loop for atm in diff1\n",
    "                      when (> (chem:get-atomic-number atm) 1)\n",
    "                      collect (chem:get-name atm)))\n",
    "        (format t \"~A differences: ~{~A~^, ~}~%\"\n",
    "                (chem:get-name (second ligands))\n",
    "                (loop for atm in diff2\n",
    "                      when (> (chem:get-atomic-number atm) 1)\n",
    "                      collect (chem:get-name atm)))\n",
    "        (format t \"map ~A → ~A: ~{~A → ~A~^,~% ~}~%\"\n",
    "                (chem:get-name (first ligands))\n",
    "                (chem:get-name (second ligands))\n",
    "                (loop for (atm1 . atm2) in equivs\n",
    "                      when (or (> (chem:get-atomic-number atm1) 1)\n",
    "                               (> (chem:get-atomic-number atm2) 1))\n",
    "                      append (list (chem:get-name atm1) (chem:get-name atm2))))\n",
    "        (list (mapcar (lambda (atm) (chem:get-name atm)) diff1)\n",
    "              (mapcar (lambda (atm) (chem:get-name atm)) diff2)))\n",
    "      (mapcar (lambda (ligand)) ligands))))\n",
    "\n",
    "(in-package :cl-user)"
   ]
  },
  {
   "cell_type": "code",
   "execution_count": null,
   "metadata": {},
   "outputs": [],
   "source": [
    "*log*"
   ]
  },
  {
   "cell_type": "code",
   "execution_count": null,
   "metadata": {},
   "outputs": [],
   "source": [
    "(tirun-jupyter:jobs)"
   ]
  },
  {
   "cell_type": "code",
   "execution_count": null,
   "metadata": {},
   "outputs": [],
   "source": []
  }
 ],
 "metadata": {
  "kernelspec": {
   "display_name": "cando",
   "language": "lisp",
   "name": "cando"
  },
  "language_info": {
   "codemirror_mode": "text/x-common-lisp",
   "file_extension": ".lisp",
   "mimetype": "text/x-common-lisp",
   "name": "common-lisp",
   "pygments_lexer": "common-lisp",
   "version": "cclasp-boehm-0.4.2-3157-g414fbc177-cst"
  }
 },
 "nbformat": 4,
 "nbformat_minor": 4
}
