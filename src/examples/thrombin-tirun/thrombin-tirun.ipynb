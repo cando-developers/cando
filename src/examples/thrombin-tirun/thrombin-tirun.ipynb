{
 "cells": [
  {
   "cell_type": "markdown",
   "metadata": {},
   "source": [
    "# A Cando-app to setup free energy perturbation calculations using AMBER"
   ]
  },
  {
   "cell_type": "markdown",
   "metadata": {},
   "source": [
    "First we do the following:\n",
    "\n",
    "  * Load the TIRUN package.\n",
    "  * Set things up to carry out geometry optimization using Amber."
   ]
  },
  {
   "cell_type": "code",
   "execution_count": null,
   "metadata": {},
   "outputs": [],
   "source": [
    "startSwank 4011"
   ]
  },
  {
   "cell_type": "code",
   "execution_count": null,
   "metadata": {},
   "outputs": [],
   "source": [
    "(ql:quickload :tirun)"
   ]
  },
  {
   "cell_type": "code",
   "execution_count": null,
   "metadata": {},
   "outputs": [],
   "source": [
    "(leap:setup-amber-paths)"
   ]
  },
  {
   "cell_type": "code",
   "execution_count": null,
   "metadata": {},
   "outputs": [],
   "source": [
    "(source \"leaprc.protein.ff14SB\")"
   ]
  },
  {
   "cell_type": "code",
   "execution_count": null,
   "metadata": {},
   "outputs": [],
   "source": [
    "quickload :tirun-jupyter"
   ]
  },
  {
   "cell_type": "markdown",
   "metadata": {},
   "source": [
    "# Start a new TIRUN calculation"
   ]
  },
  {
   "cell_type": "code",
   "execution_count": null,
   "metadata": {},
   "outputs": [],
   "source": [
    "(tirun-jupyter:new-tirun)"
   ]
  },
  {
   "cell_type": "code",
   "execution_count": null,
   "metadata": {},
   "outputs": [],
   "source": [
    "(defparameter *tiruns* (make-instance 'tirun:calculation))"
   ]
  },
  {
   "cell_type": "markdown",
   "metadata": {},
   "source": [
    "# Import the sketch from a Chemdraw file"
   ]
  },
  {
   "cell_type": "code",
   "execution_count": null,
   "metadata": {},
   "outputs": [],
   "source": [
    "(jupyter:png-file \"ligand3.png\" )"
   ]
  },
  {
   "cell_type": "code",
   "execution_count": null,
   "metadata": {},
   "outputs": [],
   "source": [
    "(defparameter *sketch* (tirun:load-chem-draw-tirun \"ligand3.cdxml\"))"
   ]
  },
  {
   "cell_type": "code",
   "execution_count": null,
   "metadata": {},
   "outputs": [],
   "source": [
    "(defparameter *cdagg* (chem:as-aggregate *sketch*))"
   ]
  },
  {
   "cell_type": "markdown",
   "metadata": {},
   "source": [
    "-------------"
   ]
  },
  {
   "cell_type": "code",
   "execution_count": null,
   "metadata": {},
   "outputs": [],
   "source": [
    "(setf sketch2d::*show-names* t)"
   ]
  },
  {
   "cell_type": "code",
   "execution_count": null,
   "metadata": {},
   "outputs": [],
   "source": [
    "(define-symbol-macro loaded-ligands (tirun-jupyter::loaded-ligands tirun-jupyter::*app*))"
   ]
  },
  {
   "cell_type": "code",
   "execution_count": null,
   "metadata": {},
   "outputs": [],
   "source": [
    "(setf chem:*verbose* nil)"
   ]
  },
  {
   "cell_type": "code",
   "execution_count": null,
   "metadata": {},
   "outputs": [],
   "source": [
    "(setf loaded-ligands (tirun::assemble-ligands *tiruns* *sketch*))"
   ]
  },
  {
   "cell_type": "code",
   "execution_count": null,
   "metadata": {},
   "outputs": [],
   "source": [
    "(tirun::summarize-stereochemistry loaded-ligands)"
   ]
  },
  {
   "cell_type": "code",
   "execution_count": null,
   "metadata": {},
   "outputs": [],
   "source": [
    "show (sketch2d:sketch2d (first loaded-ligands))"
   ]
  },
  {
   "cell_type": "code",
   "execution_count": null,
   "metadata": {},
   "outputs": [],
   "source": [
    "(chem:first-atom-with-name (first loaded-ligands) :c1)"
   ]
  },
  {
   "cell_type": "code",
   "execution_count": null,
   "metadata": {},
   "outputs": [],
   "source": [
    "(chem:get-configuration (chem:first-atom-with-name (first loaded-ligands) :c1))"
   ]
  },
  {
   "cell_type": "code",
   "execution_count": null,
   "metadata": {},
   "outputs": [],
   "source": [
    "(chem:get-configuration (chem:first-atom-with-name (first loaded-ligands) :c3))"
   ]
  },
  {
   "cell_type": "markdown",
   "metadata": {},
   "source": [
    "(chem:set-configuration (chem:first-atom-with-name (first loaded-ligands) :C1) :right-handed)"
   ]
  },
  {
   "cell_type": "markdown",
   "metadata": {},
   "source": [
    "(chem:set-configuration (chem:first-atom-with-name (first loaded-ligands) :C1) :right-handed)"
   ]
  },
  {
   "cell_type": "code",
   "execution_count": null,
   "metadata": {},
   "outputs": [],
   "source": [
    "(chem:first-atom-with-name (first loaded-ligands) :c3)"
   ]
  },
  {
   "cell_type": "code",
   "execution_count": null,
   "metadata": {},
   "outputs": [],
   "source": [
    "(tirun-jupyter:select-ligands)"
   ]
  },
  {
   "cell_type": "code",
   "execution_count": null,
   "metadata": {},
   "outputs": [],
   "source": [
    "(core:getpid)"
   ]
  },
  {
   "cell_type": "markdown",
   "metadata": {},
   "source": [
    "# Load the Thrombin PDB file"
   ]
  },
  {
   "cell_type": "code",
   "execution_count": null,
   "metadata": {},
   "outputs": [],
   "source": [
    "*default-pathname-defaults*"
   ]
  },
  {
   "cell_type": "code",
   "execution_count": null,
   "metadata": {},
   "outputs": [],
   "source": [
    "(defparameter *thrombin* (load-pdb \"2zff_fixed.pdb\" :ignore-missing-topology t))"
   ]
  },
  {
   "cell_type": "code",
   "execution_count": null,
   "metadata": {},
   "outputs": [],
   "source": [
    "(build-unbuilt-hydrogens *thrombin*)"
   ]
  },
  {
   "cell_type": "code",
   "execution_count": null,
   "metadata": {},
   "outputs": [],
   "source": [
    "(defparameter vthrombin (show *thrombin*))\n",
    ";;;(nglv::add-representation vthrombin \"surface\" :selection \"protein\")\n",
    "vthrombin"
   ]
  },
  {
   "cell_type": "code",
   "execution_count": null,
   "metadata": {},
   "outputs": [],
   "source": [
    "(nglv::add-representation vthrombin \"ball+stick\" :selection \"all\")"
   ]
  },
  {
   "cell_type": "code",
   "execution_count": null,
   "metadata": {},
   "outputs": [],
   "source": [
    "(remove-molecules *thrombin* 'solvent)"
   ]
  },
  {
   "cell_type": "code",
   "execution_count": null,
   "metadata": {},
   "outputs": [],
   "source": [
    "(chem:setf-molecule-type (chem:content-with-name *thrombin* :|53U_3|) 'ligand)"
   ]
  },
  {
   "cell_type": "code",
   "execution_count": null,
   "metadata": {},
   "outputs": [],
   "source": [
    "ligmol = (chem:content-with-name *thrombin* :|53U_3|)"
   ]
  },
  {
   "cell_type": "code",
   "execution_count": null,
   "metadata": {},
   "outputs": [],
   "source": [
    "(chem:remove-molecule *thrombin* ligmol)"
   ]
  },
  {
   "cell_type": "code",
   "execution_count": null,
   "metadata": {},
   "outputs": [],
   "source": [
    "show *thrombin*"
   ]
  },
  {
   "cell_type": "code",
   "execution_count": null,
   "metadata": {},
   "outputs": [],
   "source": [
    "show ligmol"
   ]
  },
  {
   "cell_type": "code",
   "execution_count": null,
   "metadata": {},
   "outputs": [],
   "source": [
    "(setf (tirun:receptors *tiruns*) (list *thrombin*))"
   ]
  },
  {
   "cell_type": "markdown",
   "metadata": {},
   "source": [
    "# Load a template ligand"
   ]
  },
  {
   "cell_type": "markdown",
   "metadata": {},
   "source": [
    "# Use the GAFF force field to build chemically reasonable structures of candidate ligands"
   ]
  },
  {
   "cell_type": "code",
   "execution_count": null,
   "metadata": {},
   "outputs": [],
   "source": [
    "(clear-force-field)\n",
    "(load-atom-type-rules \"ATOMTYPE_GFF.DEF\")\n",
    "(load-amber-params \"gaff.dat\")"
   ]
  },
  {
   "cell_type": "code",
   "execution_count": null,
   "metadata": {},
   "outputs": [],
   "source": [
    "mol = (tirun::molecule (first (tirun::ligands *tiruns*)))"
   ]
  },
  {
   "cell_type": "markdown",
   "metadata": {},
   "source": [
    "# Pose the new ligands onto the template ligand"
   ]
  },
  {
   "cell_type": "code",
   "execution_count": null,
   "metadata": {},
   "outputs": [],
   "source": [
    "(tirun::pose-ligands-using-similarity *tiruns* ligmol)"
   ]
  },
  {
   "cell_type": "code",
   "execution_count": null,
   "metadata": {},
   "outputs": [],
   "source": [
    "(defparameter vthrombin (show *thrombin*))\n",
    ";;;(nglv::add-representation vthrombin \"surface\" :selection \"protein\")\n",
    "vthrombin"
   ]
  },
  {
   "cell_type": "code",
   "execution_count": null,
   "metadata": {},
   "outputs": [],
   "source": [
    "(defparameter *lig* (chem:make-aggregate))\n",
    "(chem:add-matter *lig* ligmol)\n",
    "(nglv::add-structure vthrombin (make-instance 'cando-structure :matter *lig*))"
   ]
  },
  {
   "cell_type": "code",
   "execution_count": null,
   "metadata": {},
   "outputs": [],
   "source": [
    "(defparameter *moveable-agg* (chem:make-aggregate))\n",
    "(chem:add-matter *moveable-agg* (tirun::molecule (first (tirun:ligands *tiruns*))))\n",
    "(nglv::add-structure vthrombin (make-instance 'cando-structure :matter *moveable-agg*))"
   ]
  },
  {
   "cell_type": "code",
   "execution_count": null,
   "metadata": {},
   "outputs": [],
   "source": [
    "vlm = (show ligmol)"
   ]
  },
  {
   "cell_type": "code",
   "execution_count": null,
   "metadata": {},
   "outputs": [],
   "source": [
    "(third (tirun:ligands *tiruns*))"
   ]
  },
  {
   "cell_type": "code",
   "execution_count": null,
   "metadata": {},
   "outputs": [],
   "source": [
    "(defparameter *moveable-agg* (chem:make-aggregate))\n",
    "(chem:add-matter *moveable-agg* (tirun::molecule (third (tirun:ligands *tiruns*))))\n",
    "(nglv::add-structure vlm (make-instance 'cando-structure :matter *moveable-agg*))"
   ]
  },
  {
   "cell_type": "code",
   "execution_count": null,
   "metadata": {},
   "outputs": [],
   "source": [
    "show (tirun::molecule (first (tirun:ligands *tiruns*)))"
   ]
  },
  {
   "cell_type": "code",
   "execution_count": null,
   "metadata": {},
   "outputs": [],
   "source": [
    "(tirun-jupyter:select-ligands)"
   ]
  },
  {
   "cell_type": "code",
   "execution_count": null,
   "metadata": {},
   "outputs": [],
   "source": [
    "(show (tirun:layout-ligands *tiruns* :accessor 'tirun::molecule))"
   ]
  },
  {
   "cell_type": "markdown",
   "metadata": {},
   "source": [
    "# Define the pairs of compounds between which we want to carry out free energy perturbation calculations"
   ]
  },
  {
   "cell_type": "code",
   "execution_count": null,
   "metadata": {},
   "outputs": [],
   "source": [
    "(tirun-jupyter:lomap)"
   ]
  },
  {
   "cell_type": "code",
   "execution_count": null,
   "metadata": {},
   "outputs": [],
   "source": [
    "(tirun:build-job-nodes *tiruns*)"
   ]
  },
  {
   "cell_type": "code",
   "execution_count": null,
   "metadata": {},
   "outputs": [],
   "source": [
    "(tirun::connect-job-nodes *tiruns* :simple :connections 2 :stages 3 :windows 11)"
   ]
  },
  {
   "cell_type": "code",
   "execution_count": null,
   "metadata": {},
   "outputs": [],
   "source": [
    "(tirun:jobs *tiruns*)"
   ]
  },
  {
   "cell_type": "code",
   "execution_count": null,
   "metadata": {},
   "outputs": [],
   "source": [
    "(graph::save-graph *tiruns*)"
   ]
  },
  {
   "cell_type": "code",
   "execution_count": null,
   "metadata": {},
   "outputs": [],
   "source": [
    "*default-pathname-defaults*"
   ]
  },
  {
   "cell_type": "code",
   "execution_count": null,
   "metadata": {},
   "outputs": [],
   "source": [
    "(defparameter *work-list* (tirun::generate-jobs *tiruns*))"
   ]
  },
  {
   "cell_type": "code",
   "execution_count": null,
   "metadata": {},
   "outputs": [],
   "source": [
    "*work-list*"
   ]
  }
 ],
 "metadata": {
  "kernelspec": {
   "display_name": "cando",
   "language": "lisp",
   "name": "cando"
  },
  "language_info": {
   "codemirror_mode": "text/x-common-lisp",
   "file_extension": ".lisp",
   "mimetype": "text/x-common-lisp",
   "name": "common-lisp",
   "pygments_lexer": "common-lisp",
   "version": "cclasp-boehm-0.4.2-3156-g94f735c3f-cst"
  }
 },
 "nbformat": 4,
 "nbformat_minor": 4
}
