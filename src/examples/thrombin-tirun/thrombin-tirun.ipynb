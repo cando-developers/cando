{
 "cells": [
  {
   "cell_type": "markdown",
   "metadata": {},
   "source": [
    "# A Cando-app to setup free energy perturbation calculations using AMBER"
   ]
  },
  {
   "cell_type": "markdown",
   "metadata": {},
   "source": [
    "First we do the following:\n",
    "\n",
    "  * Load the TIRUN package.\n",
    "  * Set things up to carry out geometry optimization using Amber."
   ]
  },
  {
   "cell_type": "code",
   "execution_count": 1,
   "metadata": {},
   "outputs": [
    {
     "data": {
      "text/plain": [
       "T"
      ]
     },
     "execution_count": 1,
     "metadata": {},
     "output_type": "execute_result"
    },
    {
     "name": "stdout",
     "output_type": "stream",
     "text": [
      "Checking SLIME_HOME\n",
      "About to start swank server\n",
      "Started swank server\n"
     ]
    }
   ],
   "source": [
    "startSwank 4006"
   ]
  },
  {
   "cell_type": "code",
   "execution_count": 2,
   "metadata": {},
   "outputs": [
    {
     "name": "stdout",
     "output_type": "stream",
     "text": [
      "keyword str -> \"TIRUN-JUPYTER\"\n",
      "To load \"tirun-jupyter\":\n",
      "  Load 1 ASDF system:\n",
      "    tirun-jupyter\n"
     ]
    },
    {
     "data": {
      "text/plain": [
       "(:TIRUN-JUPYTER)"
      ]
     },
     "execution_count": 2,
     "metadata": {},
     "output_type": "execute_result"
    },
    {
     "name": "stdout",
     "output_type": "stream",
     "text": [
      "\n",
      "; Loading \"tirun-jupyter\"\n",
      "\n"
     ]
    }
   ],
   "source": [
    "quickload :tirun-jupyter"
   ]
  },
  {
   "cell_type": "code",
   "execution_count": 3,
   "metadata": {},
   "outputs": [
    {
     "data": {
      "text/plain": [
       "(#P\"/Users/su-chris/Development/amber18/dat/antechamber/\"\n",
       " #P\"/Users/su-chris/Development/amber18/dat/leap/cmd/oldff/\"\n",
       " #P\"/Users/su-chris/Development/amber18/dat/leap/cmd/\"\n",
       " #P\"/Users/su-chris/Development/amber18/dat/leap/parm/\"\n",
       " #P\"/Users/su-chris/Development/amber18/dat/leap/lib/\"\n",
       " #P\"/Users/su-chris/Development/amber18/dat/leap/prep/\")"
      ]
     },
     "execution_count": 3,
     "metadata": {},
     "output_type": "execute_result"
    }
   ],
   "source": [
    "(leap:setup-amber-paths)"
   ]
  },
  {
   "cell_type": "markdown",
   "metadata": {},
   "source": [
    "# Start a new TIRUN calculation"
   ]
  },
  {
   "cell_type": "code",
   "execution_count": 4,
   "metadata": {},
   "outputs": [
    {
     "name": "stdout",
     "output_type": "stream",
     "text": [
      "Jobs will be saved to /Users/su-chris/jobs/\n",
      "setenv CANDO_JOBS_DIRECTORY if you want it to go elsewhere\n"
     ]
    }
   ],
   "source": [
    "(tirun-jupyter:new-tirun)"
   ]
  },
  {
   "cell_type": "code",
   "execution_count": null,
   "metadata": {},
   "outputs": [
    {
     "name": "stdout",
     "output_type": "stream",
     "text": [
      "Loading application state from default.dat...\n"
     ]
    },
    {
     "ename": "SIMPLE-PROGRAM-ERROR",
     "evalue": "Could not find field :BL",
     "output_type": "error",
     "traceback": []
    },
    {
     "name": "stderr",
     "output_type": "stream",
     "text": [
      "Could not find field :BL\n",
      "   [Condition of type CORE:SIMPLE-PROGRAM-ERROR]\n",
      "\n",
      "#<DISSECT:ENVIRONMENT>\n",
      "   [Environment of thread #<PROCESS \"SHELL Thread\" @0x14207ea31 (Running)>]\n",
      "\n",
      "\n",
      "Backtrace:\n",
      " 7: (#<FUNCTION CORE:SIGNAL-SIMPLE-ERROR> SIMPLE-PROGRAM-ERROR NIL Could not find field :BL NIL)\n",
      " 14: (#<FUNCTION CORE:LOAD-CXX-OBJECT> RESIDUE (CONTENTS . #(#<ATOM :N1/:N 0xe1ea1f30bf5f0073> #<ATOM :C2/:C 0x73e016d1ba2d7405> #<ATOM :C3/:C 0xb58ed3f38abdc32f> #<ATOM :C4/:C 0xabce196b58c82215> #<ATOM :C5/:C 0x82aa0e321b4e8316> #<ATOM :C6/:C 0x312bab0aaa1540f5> #<ATOM :O7/:O 0xde8c0fbe9416d6d7> #<ATOM :C8/:C 0xcf337d6c857865f2> #<ATOM :N9/:N 0x624ce1d9fc8c4115> #<ATOM :C10/:C 0x28bf0b7e0ce1f86> #<ATOM :C11/:C 0xf9e318d4844a412d> #<ATOM :C12/:C 0x913d153a568354a6> #<ATOM :C13/:C 0xfd05809cf7e66f92> #<ATOM :C14/:C 0x3c3f666890558b6b> #<ATOM :C15/:C 0x3016b232a842b6d> #<ATOM :C16/:C 0x6844fc00652a96a5> #<ATOM :C17/:C 0xc0ad0ca757418c97> #<ATOM :O18/:O 0xd8fb803996936dbb> #<ATOM :N19/:N 0x4ac21727eb62bb32> #<ATOM :C20/:C 0xc146e0cd1ab6108e> #<ATOM :C21/:C 0x6df1d49fbf6e936b> #<ATOM :C22/:C 0x533c9a51f0d1a11e> #<ATOM :C23/:C 0xc90faf938aff7c32> #<ATOM :C24/:C 0xdca28fbccfb5ddcb> #<ATOM :C25/:C 0xdc266a95a3b41d38> #<ATOM :C26/:C 0xad6cbf1f26f0d113> #<ATOM :H1/:H 0x648267be948b5a3b> #<ATOM :H2/:H 0x5262df00190b04b2> #<ATOM :H3/:H 0x13312279ded1bbc8> #<ATOM :H4/:H 0x231db631b8baa997> #<ATOM :H5/:H 0xcb71c73c6fe734bc> #<ATOM :H6/:H 0x606864508ae1c609> #<ATOM :H7/:H 0x809d4ebc76f06977> #<ATOM :H8/:H 0x1d9e659cc9fe9509> #<ATOM :H9/:H 0x6216d001def1a5f0> #<ATOM :H10/:H 0xf088fb1037fb407f> #<ATOM :H11/:H 0x56a176ce87f47e4b> #<ATOM :H12/:H 0xf236329c198c23e5> #<ATOM :H13/:H 0x93f92c8e507f3504> #<ATOM :H14/:H 0x315a66582b5a931a> #<ATOM :H15/:H 0x2382c41aa5fb5ae8> #<ATOM :H16/:H 0x4348841ff617c4fc> #<ATOM :H17/:H 0xf1996a76ebb8180d> #<ATOM :H18/:H 0x5eecbafb9f1e5fd2> #<ATOM :H19/:H 0x16a66d93c49caf31> #<ATOM :H20/:H 0xc3e42d93d5a0fbc9> #<ATOM :H21/:H 0xeae4d522e8b4905> #<ATOM :H22/:H 0x3ee63e0a1f67b4d6> #<ATOM :H23/:H 0x98d6dc95a8cb3943> #<ATOM :C28/:C 0x2ae8e423b651f106> #<ATOM :C29/:C 0xdcb5607a094f340b> #<ATOM :C30/:C 0xf6f890cd77bba960> #<ATOM :H25/:H 0x7bd665823cc9f83f> #<ATOM :H26/:H 0x4c6bbd640574d1a6> #<ATOM :H27/:H 0x215fa240ead271e7> #<ATOM :H28/:H 0x97b3ef99bee8b988> #<ATOM :H29/:H 0xa7a7c2c67b18ebbe> #<ATOM :C31/:C 0x6d7163f372ee3b4a> #<ATOM :C32/:C 0xdea32dbc82e33aa3> #<ATOM :H30/:H 0xba1e3e832dc5dede> #<ATOM :H31/:H 0xf9408ced42e33cd3> #<ATOM :H32/:H 0xa1ba2f4af3d1f5db> #<ATOM :H33/:H 0xd689842f6de17986> #<ATOM :H34/:H 0x71c4714eda715e1c>)) (NAME . DIPHE) (UNIQUE-LABEL))\n",
      " 16: (#<FUNCTION CORE::READ-CXX-OBJECT> #<IOSTREAM-STREAM #P\"default.dat\"> i NIL)\n",
      " 18: (#<FUNCTION (METHOD ECLECTOR.READER:CALL-READER-MACRO (T T T T))> #<ECLECTOR.READTABLE::CLASP-NON-CST-ELECTOR-CLIENT> #<IOSTREAM-STREAM #P\"default.dat\"> # #<READTABLE :case :UPCASE> )\n",
      " 22: (#<FUNCTION (METHOD ECLECTOR.READER:READ-COMMON (T T T T))> #<ECLECTOR.READTABLE::CLASP-NON-CST-ELECTOR-CLIENT> #<IOSTREAM-STREAM #P\"default.dat\"> NIL %%END-OF-INPUT)\n",
      " 23: (#<FUNCTION (METHOD ECLECTOR.READER:READ-COMMON (:AROUND) (T T T T))> #<FUNCTION (METHOD READ-COMMON (T T T T))> #<ECLECTOR.READTABLE::CLASP-NON-CST-ELECTOR-CLIENT> #<IOSTREAM-STREAM #P\"default.dat\"> NIL %%END-OF-INPUT)\n",
      " 25: (#<FUNCTION CLOS::EMF-FROM-CONTF.LAMBDA> #<ECLECTOR.READTABLE::CLASP-NON-CST-ELECTOR-CLIENT> #<IOSTREAM-STREAM #P\"default.dat\"> NIL %%END-OF-INPUT)\n",
      " 29: (#<FUNCTION ECLECTOR.READER::READ-AUX> #<IOSTREAM-STREAM #P\"default.dat\"> NIL %%END-OF-INPUT T T)\n",
      " 30: (#<FUNCTION ECLECTOR.READER:READ> #<IOSTREAM-STREAM #P\"default.dat\"> NIL %%END-OF-INPUT T)\n",
      " 31: (#<FUNCTION ECLECTOR.READER::%READ-LIST-ELEMENTS> #<IOSTREAM-STREAM #P\"default.dat\"> #<FUNCTION (FLET ELEMENT)> NIL NIL ) T T)\n",
      " 32: (#<FUNCTION ECLECTOR.READER::%READ-DELIMITED-LIST> #<IOSTREAM-STREAM #P\"default.dat\"> ) T)\n",
      " 33: (#<FUNCTION ECLECTOR.READER::LEFT-PARENTHESIS> #<IOSTREAM-STREAM #P\"default.dat\"> ()\n",
      " 34: (#<FUNCTION (METHOD ECLECTOR.READER:CALL-READER-MACRO (T T T T))> #<ECLECTOR.READTABLE::CLASP-NON-CST-ELECTOR-CLIENT> #<IOSTREAM-STREAM #P\"default.dat\"> ( #<READTABLE :case :UPCASE> )\n",
      " 38: (#<FUNCTION (METHOD ECLECTOR.READER:READ-COMMON (T T T T))> #<ECLECTOR.READTABLE::CLASP-NON-CST-ELECTOR-CLIENT> #<IOSTREAM-STREAM #P\"default.dat\"> NIL %%END-OF-INPUT)\n",
      " 39: (#<FUNCTION (METHOD ECLECTOR.READER:READ-COMMON (:AROUND) (T T T T))> #<FUNCTION (METHOD READ-COMMON (T T T T))> #<ECLECTOR.READTABLE::CLASP-NON-CST-ELECTOR-CLIENT> #<IOSTREAM-STREAM #P\"default.dat\"> NIL %%END-OF-INPUT)\n",
      " 41: (#<FUNCTION CLOS::EMF-FROM-CONTF.LAMBDA> #<ECLECTOR.READTABLE::CLASP-NON-CST-ELECTOR-CLIENT> #<IOSTREAM-STREAM #P\"default.dat\"> NIL %%END-OF-INPUT)\n",
      " 45: (#<FUNCTION ECLECTOR.READER::READ-AUX> #<IOSTREAM-STREAM #P\"default.dat\"> NIL %%END-OF-INPUT T T)\n",
      " 46: (#<FUNCTION ECLECTOR.READER:READ> #<IOSTREAM-STREAM #P\"default.dat\"> NIL %%END-OF-INPUT T)\n",
      " 47: (#<FUNCTION ECLECTOR.READER::%READ-LIST-ELEMENTS> #<IOSTREAM-STREAM #P\"default.dat\"> #<FUNCTION (FLET ELEMENT)> NIL NIL ) T T)\n",
      " 48: (#<FUNCTION ECLECTOR.READER::%READ-DELIMITED-LIST> #<IOSTREAM-STREAM #P\"default.dat\"> ) T)\n",
      " 49: (#<FUNCTION ECLECTOR.READER::LEFT-PARENTHESIS> #<IOSTREAM-STREAM #P\"default.dat\"> ()\n",
      " 50: (#<FUNCTION (METHOD ECLECTOR.READER:CALL-READER-MACRO (T T T T))> #<ECLECTOR.READTABLE::CLASP-NON-CST-ELECTOR-CLIENT> #<IOSTREAM-STREAM #P\"default.dat\"> ( #<READTABLE :case :UPCASE> )\n",
      " 54: (#<FUNCTION (METHOD ECLECTOR.READER:READ-COMMON (T T T T))> #<ECLECTOR.READTABLE::CLASP-NON-CST-ELECTOR-CLIENT> #<IOSTREAM-STREAM #P\"default.dat\"> NIL NIL)\n",
      " 55: (#<FUNCTION (METHOD ECLECTOR.READER:READ-COMMON (:AROUND) (T T T T))> #<FUNCTION (METHOD READ-COMMON (T T T T))> #<ECLECTOR.READTABLE::CLASP-NON-CST-ELECTOR-CLIENT> #<IOSTREAM-STREAM #P\"default.dat\"> NIL NIL)\n",
      " 57: (#<FUNCTION CLOS::EMF-FROM-CONTF.LAMBDA> #<ECLECTOR.READTABLE::CLASP-NON-CST-ELECTOR-CLIENT> #<IOSTREAM-STREAM #P\"default.dat\"> NIL NIL)\n",
      " 61: (#<FUNCTION ECLECTOR.READER::READ-AUX> #<IOSTREAM-STREAM #P\"default.dat\"> NIL NIL T T)\n",
      " 62: (#<FUNCTION ECLECTOR.READER:READ> #<IOSTREAM-STREAM #P\"default.dat\"> NIL NIL T)\n",
      " 63: (#<FUNCTION ECLECTOR.READTABLE::READ-WITH-READTABLE-SYNCED> #<IOSTREAM-STREAM #P\"default.dat\"> NIL NIL T)\n",
      " 66: (#<FUNCTION CORE:SHARP-A-READER> #<IOSTREAM-STREAM #P\"default.dat\"> A NIL)\n",
      " 68: (#<FUNCTION (METHOD ECLECTOR.READER:CALL-READER-MACRO (T T T T))> #<ECLECTOR.READTABLE::CLASP-NON-CST-ELECTOR-CLIENT> #<IOSTREAM-STREAM #P\"default.dat\"> # #<READTABLE :case :UPCASE> )\n",
      " 72: (#<FUNCTION (METHOD ECLECTOR.READER:READ-COMMON (T T T T))> #<ECLECTOR.READTABLE::CLASP-NON-CST-ELECTOR-CLIENT> #<IOSTREAM-STREAM #P\"default.dat\"> NIL %%END-OF-INPUT)\n",
      " 73: (#<FUNCTION (METHOD ECLECTOR.READER:READ-COMMON (:AROUND) (T T T T))> #<FUNCTION (METHOD READ-COMMON (T T T T))> #<ECLECTOR.READTABLE::CLASP-NON-CST-ELECTOR-CLIENT> #<IOSTREAM-STREAM #P\"default.dat\"> NIL %%END-OF-INPUT)\n",
      " 75: (#<FUNCTION CLOS::EMF-FROM-CONTF.LAMBDA> #<ECLECTOR.READTABLE::CLASP-NON-CST-ELECTOR-CLIENT> #<IOSTREAM-STREAM #P\"default.dat\"> NIL %%END-OF-INPUT)\n",
      " 79: (#<FUNCTION ECLECTOR.READER::READ-AUX> #<IOSTREAM-STREAM #P\"default.dat\"> NIL %%END-OF-INPUT T T)\n",
      " 80: (#<FUNCTION ECLECTOR.READER:READ> #<IOSTREAM-STREAM #P\"default.dat\"> NIL %%END-OF-INPUT T)\n",
      " 81: (#<FUNCTION ECLECTOR.READER::%READ-LIST-ELEMENTS> #<IOSTREAM-STREAM #P\"default.dat\"> #<FUNCTION (FLET ELEMENT)> NIL NIL ) T T)\n",
      " 82: (#<FUNCTION ECLECTOR.READER::%READ-DELIMITED-LIST> #<IOSTREAM-STREAM #P\"default.dat\"> ) T)\n",
      " 83: (#<FUNCTION ECLECTOR.READER::LEFT-PARENTHESIS> #<IOSTREAM-STREAM #P\"default.dat\"> ()\n",
      " 84: (#<FUNCTION (METHOD ECLECTOR.READER:CALL-READER-MACRO (T T T T))> #<ECLECTOR.READTABLE::CLASP-NON-CST-ELECTOR-CLIENT> #<IOSTREAM-STREAM #P\"default.dat\"> ( #<READTABLE :case :UPCASE> )\n",
      " 88: (#<FUNCTION (METHOD ECLECTOR.READER:READ-COMMON (T T T T))> #<ECLECTOR.READTABLE::CLASP-NON-CST-ELECTOR-CLIENT> #<IOSTREAM-STREAM #P\"default.dat\"> NIL %%END-OF-INPUT)\n",
      " 89: (#<FUNCTION (METHOD ECLECTOR.READER:READ-COMMON (:AROUND) (T T T T))> #<FUNCTION (METHOD READ-COMMON (T T T T))> #<ECLECTOR.READTABLE::CLASP-NON-CST-ELECTOR-CLIENT> #<IOSTREAM-STREAM #P\"default.dat\"> NIL %%END-OF-INPUT)\n",
      " 91: (#<FUNCTION CLOS::EMF-FROM-CONTF.LAMBDA> #<ECLECTOR.READTABLE::CLASP-NON-CST-ELECTOR-CLIENT> #<IOSTREAM-STREAM #P\"default.dat\"> NIL %%END-OF-INPUT)\n",
      " 95: (#<FUNCTION ECLECTOR.READER::READ-AUX> #<IOSTREAM-STREAM #P\"default.dat\"> NIL %%END-OF-INPUT T T)\n",
      " 96: (#<FUNCTION ECLECTOR.READER:READ> #<IOSTREAM-STREAM #P\"default.dat\"> NIL %%END-OF-INPUT T)\n",
      " 97: (#<FUNCTION ECLECTOR.READER::%READ-LIST-ELEMENTS> #<IOSTREAM-STREAM #P\"default.dat\"> #<FUNCTION (FLET ELEMENT)> NIL NIL ) T T)\n",
      " 98: (#<FUNCTION ECLECTOR.READER::%READ-DELIMITED-LIST> #<IOSTREAM-STREAM #P\"default.dat\"> ) T)\n",
      " 99: (#<FUNCTION ECLECTOR.READER::LEFT-PARENTHESIS> #<IOSTREAM-STREAM #P\"default.dat\"> ()\n",
      " 100: (#<FUNCTION (METHOD ECLECTOR.READER:CALL-READER-MACRO (T T T T))> #<ECLECTOR.READTABLE::CLASP-NON-CST-ELECTOR-CLIENT> #<IOSTREAM-STREAM #P\"default.dat\"> ( #<READTABLE :case :UPCASE> )\n",
      " 104: (#<FUNCTION (METHOD ECLECTOR.READER:READ-COMMON (T T T T))> #<ECLECTOR.READTABLE::CLASP-NON-CST-ELECTOR-CLIENT> #<IOSTREAM-STREAM #P\"default.dat\"> T NIL)\n",
      " 105: (#<FUNCTION (METHOD ECLECTOR.READER:READ-COMMON (:AROUND) (T T T T))> #<FUNCTION (METHOD READ-COMMON (T T T T))> #<ECLECTOR.READTABLE::CLASP-NON-CST-ELECTOR-CLIENT> #<IOSTREAM-STREAM #P\"default.dat\"> T NIL)\n",
      " 107: (#<FUNCTION CLOS::EMF-FROM-CONTF.LAMBDA> #<ECLECTOR.READTABLE::CLASP-NON-CST-ELECTOR-CLIENT> #<IOSTREAM-STREAM #P\"default.dat\"> T NIL)\n",
      " 111: (#<FUNCTION ECLECTOR.READER::READ-AUX> #<IOSTREAM-STREAM #P\"default.dat\"> T NIL T T)\n",
      " 112: (#<FUNCTION ECLECTOR.READER:READ> #<IOSTREAM-STREAM #P\"default.dat\"> T NIL T)\n",
      " 113: (#<FUNCTION ECLECTOR.READTABLE::READ-WITH-READTABLE-SYNCED> #<IOSTREAM-STREAM #P\"default.dat\"> T NIL T)\n",
      " 116: (#<FUNCTION CORE::READ-CXX-OBJECT> #<IOSTREAM-STREAM #P\"default.dat\"> i NIL)\n",
      " 118: (#<FUNCTION (METHOD ECLECTOR.READER:CALL-READER-MACRO (T T T T))> #<ECLECTOR.READTABLE::CLASP-NON-CST-ELECTOR-CLIENT> #<IOSTREAM-STREAM #P\"default.dat\"> # #<READTABLE :case :UPCASE> )\n",
      " 122: (#<FUNCTION (METHOD ECLECTOR.READER:READ-COMMON (T T T T))> #<ECLECTOR.READTABLE::CLASP-NON-CST-ELECTOR-CLIENT> #<IOSTREAM-STREAM #P\"default.dat\"> NIL %%END-OF-INPUT)\n",
      " 123: (#<FUNCTION (METHOD ECLECTOR.READER:READ-COMMON (:AROUND) (T T T T))> #<FUNCTION (METHOD READ-COMMON (T T T T))> #<ECLECTOR.READTABLE::CLASP-NON-CST-ELECTOR-CLIENT> #<IOSTREAM-STREAM #P\"default.dat\"> NIL %%END-OF-INPUT)\n",
      " 125: (#<FUNCTION CLOS::EMF-FROM-CONTF.LAMBDA> #<ECLECTOR.READTABLE::CLASP-NON-CST-ELECTOR-CLIENT> #<IOSTREAM-STREAM #P\"default.dat\"> NIL %%END-OF-INPUT)\n",
      " 129: (#<FUNCTION ECLECTOR.READER::READ-AUX> #<IOSTREAM-STREAM #P\"default.dat\"> NIL %%END-OF-INPUT T T)\n",
      " 130: (#<FUNCTION ECLECTOR.READER:READ> #<IOSTREAM-STREAM #P\"default.dat\"> NIL %%END-OF-INPUT T)\n",
      " 131: (#<FUNCTION ECLECTOR.READER::%READ-LIST-ELEMENTS> #<IOSTREAM-STREAM #P\"default.dat\"> #<FUNCTION (FLET ELEMENT)> NIL NIL ) T T)\n",
      " 132: (#<FUNCTION ECLECTOR.READER::%READ-DELIMITED-LIST> #<IOSTREAM-STREAM #P\"default.dat\"> ) T)\n",
      " 133: (#<FUNCTION ECLECTOR.READER::LEFT-PARENTHESIS> #<IOSTREAM-STREAM #P\"default.dat\"> ()\n",
      " 134: (#<FUNCTION (METHOD ECLECTOR.READER:CALL-READER-MACRO (T T T T))> #<ECLECTOR.READTABLE::CLASP-NON-CST-ELECTOR-CLIENT> #<IOSTREAM-STREAM #P\"default.dat\"> ( #<READTABLE :case :UPCASE> )\n",
      " 138: (#<FUNCTION (METHOD ECLECTOR.READER:READ-COMMON (T T T T))> #<ECLECTOR.READTABLE::CLASP-NON-CST-ELECTOR-CLIENT> #<IOSTREAM-STREAM #P\"default.dat\"> NIL %%END-OF-INPUT)\n",
      " 139: (#<FUNCTION (METHOD ECLECTOR.READER:READ-COMMON (:AROUND) (T T T T))> #<FUNCTION (METHOD READ-COMMON (T T T T))> #<ECLECTOR.READTABLE::CLASP-NON-CST-ELECTOR-CLIENT> #<IOSTREAM-STREAM #P\"default.dat\"> NIL %%END-OF-INPUT)\n",
      " 141: (#<FUNCTION CLOS::EMF-FROM-CONTF.LAMBDA> #<ECLECTOR.READTABLE::CLASP-NON-CST-ELECTOR-CLIENT> #<IOSTREAM-STREAM #P\"default.dat\"> NIL %%END-OF-INPUT)\n",
      " 145: (#<FUNCTION ECLECTOR.READER::READ-AUX> #<IOSTREAM-STREAM #P\"default.dat\"> NIL %%END-OF-INPUT T T)\n",
      " 146: (#<FUNCTION ECLECTOR.READER:READ> #<IOSTREAM-STREAM #P\"default.dat\"> NIL %%END-OF-INPUT T)\n",
      " 147: (#<FUNCTION (FLET ECLECTOR.READER::READ-OBJECT)>)\n",
      " 148: (#<FUNCTION ECLECTOR.READER::SHARPSIGN-EQUALS> #<IOSTREAM-STREAM #P\"default.dat\"> = 1)\n",
      " 150: (#<FUNCTION (METHOD ECLECTOR.READER:CALL-READER-MACRO (T T T T))> #<ECLECTOR.READTABLE::CLASP-NON-CST-ELECTOR-CLIENT> #<IOSTREAM-STREAM #P\"default.dat\"> # #<READTABLE :case :UPCASE> )\n",
      " 154: (#<FUNCTION (METHOD ECLECTOR.READER:READ-COMMON (T T T T))> #<ECLECTOR.READTABLE::CLASP-NON-CST-ELECTOR-CLIENT> #<IOSTREAM-STREAM #P\"default.dat\"> NIL %%END-OF-INPUT)\n",
      " 155: (#<FUNCTION (METHOD ECLECTOR.READER:READ-COMMON (:AROUND) (T T T T))> #<FUNCTION (METHOD READ-COMMON (T T T T))> #<ECLECTOR.READTABLE::CLASP-NON-CST-ELECTOR-CLIENT> #<IOSTREAM-STREAM #P\"default.dat\"> NIL %%END-OF-INPUT)\n",
      " 157: (#<FUNCTION CLOS::EMF-FROM-CONTF.LAMBDA> #<ECLECTOR.READTABLE::CLASP-NON-CST-ELECTOR-CLIENT> #<IOSTREAM-STREAM #P\"default.dat\"> NIL %%END-OF-INPUT)\n",
      " 161: (#<FUNCTION ECLECTOR.READER::READ-AUX> #<IOSTREAM-STREAM #P\"default.dat\"> NIL %%END-OF-INPUT T T)\n",
      " 162: (#<FUNCTION ECLECTOR.READER:READ> #<IOSTREAM-STREAM #P\"default.dat\"> NIL %%END-OF-INPUT T)\n",
      " 163: (#<FUNCTION ECLECTOR.READER::%READ-LIST-ELEMENTS> #<IOSTREAM-STREAM #P\"default.dat\"> #<FUNCTION (FLET ELEMENT)> NIL NIL ) T T)\n",
      " 164: (#<FUNCTION ECLECTOR.READER::%READ-DELIMITED-LIST> #<IOSTREAM-STREAM #P\"default.dat\"> ) T)\n",
      " 165: (#<FUNCTION ECLECTOR.READER::LEFT-PARENTHESIS> #<IOSTREAM-STREAM #P\"default.dat\"> ()\n",
      " 166: (#<FUNCTION (METHOD ECLECTOR.READER:CALL-READER-MACRO (T T T T))> #<ECLECTOR.READTABLE::CLASP-NON-CST-ELECTOR-CLIENT> #<IOSTREAM-STREAM #P\"default.dat\"> ( #<READTABLE :case :UPCASE> )\n",
      " 170: (#<FUNCTION (METHOD ECLECTOR.READER:READ-COMMON (T T T T))> #<ECLECTOR.READTABLE::CLASP-NON-CST-ELECTOR-CLIENT> #<IOSTREAM-STREAM #P\"default.dat\"> T NIL)\n",
      " 171: (#<FUNCTION (METHOD ECLECTOR.READER:READ-COMMON (:AROUND) (T T T T))> #<FUNCTION (METHOD READ-COMMON (T T T T))> #<ECLECTOR.READTABLE::CLASP-NON-CST-ELECTOR-CLIENT> #<IOSTREAM-STREAM #P\"default.dat\"> T NIL)\n",
      " 173: (#<FUNCTION CLOS::EMF-FROM-CONTF.LAMBDA> #<ECLECTOR.READTABLE::CLASP-NON-CST-ELECTOR-CLIENT> #<IOSTREAM-STREAM #P\"default.dat\"> T NIL)\n",
      " 177: (#<FUNCTION ECLECTOR.READER::READ-AUX> #<IOSTREAM-STREAM #P\"default.dat\"> T NIL T T)\n",
      " 178: (#<FUNCTION ECLECTOR.READER:READ> #<IOSTREAM-STREAM #P\"default.dat\"> T NIL T)\n",
      " 179: (#<FUNCTION ECLECTOR.READTABLE::READ-WITH-READTABLE-SYNCED> #<IOSTREAM-STREAM #P\"default.dat\"> T NIL T)\n",
      " 182: (#<FUNCTION CANDO::SHARP-$-READER> #<IOSTREAM-STREAM #P\"default.dat\"> $ NIL)\n",
      " 184: (#<FUNCTION (METHOD ECLECTOR.READER:CALL-READER-MACRO (T T T T))> #<ECLECTOR.READTABLE::CLASP-NON-CST-ELECTOR-CLIENT> #<IOSTREAM-STREAM #P\"default.dat\"> # #<READTABLE :case :UPCASE> )\n",
      " 188: (#<FUNCTION (METHOD ECLECTOR.READER:READ-COMMON (T T T T))> #<ECLECTOR.READTABLE::CLASP-NON-CST-ELECTOR-CLIENT> #<IOSTREAM-STREAM #P\"default.dat\"> T NIL)\n",
      " 189: (#<FUNCTION (METHOD ECLECTOR.READER:READ-COMMON (:AROUND) (T T T T))> #<FUNCTION (METHOD READ-COMMON (T T T T))> #<ECLECTOR.READTABLE::CLASP-NON-CST-ELECTOR-CLIENT> #<IOSTREAM-STREAM #P\"default.dat\"> T NIL)\n",
      " 191: (#<FUNCTION CLOS::EMF-FROM-CONTF.LAMBDA> #<ECLECTOR.READTABLE::CLASP-NON-CST-ELECTOR-CLIENT> #<IOSTREAM-STREAM #P\"default.dat\"> T NIL)\n",
      " 195: (#<FUNCTION ECLECTOR.READER::READ-AUX> #<IOSTREAM-STREAM #P\"default.dat\"> T NIL NIL NIL)\n",
      " 196: (#<FUNCTION ECLECTOR.READER:READ> #<IOSTREAM-STREAM #P\"default.dat\"> T NIL NIL)\n",
      " 197: (#<FUNCTION ECLECTOR.READTABLE::READ-WITH-READTABLE-SYNCED> #<IOSTREAM-STREAM #P\"default.dat\"> T NIL NIL)\n",
      " 200: (#<FUNCTION LOAD-CANDO> default.dat)\n",
      " 201: (#<FUNCTION TIRUN-JUPYTER:LOAD-TIRUN>)\n",
      " 203: (#<FUNCTION CLASP-CLEAVIR::SIMPLE-EVAL> (LOAD-TIRUN) NIL #<STANDARD-GENERIC-FUNCTION CLASP-CLEAVIR::CCLASP-EVAL-WITH-ENV>)\n",
      " 204: (#<FUNCTION CLASP-CLEAVIR::CCLASP-EVAL> (LOAD-TIRUN) NIL)\n",
      " 206: (#<FUNCTION COMMON-LISP-JUPYTER::MY-EVAL> (LOAD-TIRUN))\n",
      " 207: (#<FUNCTION (METHOD JUPYTER:EVALUATE-CODE (COMMON-LISP-JUPYTER:KERNEL T))> #<CANDO-JUPYTER:KERNEL> (tirun-jupyter::load-tirun))\n",
      " 208: (#<FUNCTION (METHOD JUPYTER:EVALUATE-CODE (CANDO-JUPYTER:KERNEL T))> #<FUNCTION (METHOD EVALUATE-CODE (KERNEL T))> #<CANDO-JUPYTER:KERNEL> (tirun-jupyter::load-tirun))\n",
      " 210: (#<FUNCTION CLOS::EMF-FROM-CONTF.LAMBDA> #<CANDO-JUPYTER:KERNEL> (tirun-jupyter::load-tirun))\n",
      " 214: (#<FUNCTION JUPYTER::HANDLE-EXECUTE-REQUEST> #<CANDO-JUPYTER:KERNEL> #<JUPYTER::MESSAGE>)\n",
      " 215: (#<FUNCTION JUPYTER::HANDLE-SHELL-MESSAGE> #<CANDO-JUPYTER:KERNEL> #<JUPYTER::MESSAGE>)\n",
      " 220: (#<FUNCTION JUPYTER::RUN-SHELL> #<CANDO-JUPYTER:KERNEL>)\n",
      " 221: (#<FUNCTION (LAMBDA NIL)>)\n",
      " 224: (#<FUNCTION (LAMBDA NIL)>)"
     ]
    }
   ],
   "source": [
    "(tirun-jupyter::load-tirun)"
   ]
  },
  {
   "cell_type": "markdown",
   "metadata": {},
   "source": [
    "(define-symbol-macro all-ligands (tirun-jupyter::all-ligands tirun-jupyter::*app*))\n",
    "(define-symbol-macro selected-ligands (tirun-jupyter::selected-ligands tirun-jupyter::*app*))\n",
    "(define-symbol-macro tiruns tirun-jupyter::*tirun*)"
   ]
  },
  {
   "cell_type": "markdown",
   "metadata": {},
   "source": [
    "# Load the Thrombin PDB file"
   ]
  },
  {
   "cell_type": "code",
   "execution_count": 5,
   "metadata": {},
   "outputs": [
    {
     "data": {
      "application/vnd.jupyter.widget-view+json": {
       "model_id": "1780515c161141b3d85aa0416b4b32e8",
       "version_major": 2,
       "version_minor": 0
      },
      "text/plain": [
       "A Jupyter Widget"
      ]
     },
     "metadata": {},
     "output_type": "display_data"
    },
    {
     "data": {
      "application/vnd.jupyter.widget-view+json": {
       "model_id": "253ae1c32adc482e80b6fceae372f713",
       "version_major": 2,
       "version_minor": 0
      },
      "text/plain": [
       "A Jupyter Widget"
      ]
     },
     "metadata": {},
     "output_type": "display_data"
    }
   ],
   "source": [
    "(tirun-jupyter:load-receptor)"
   ]
  },
  {
   "cell_type": "code",
   "execution_count": 6,
   "metadata": {},
   "outputs": [
    {
     "data": {
      "text/plain": [
       "#<tirun-calculation>"
      ]
     },
     "execution_count": 6,
     "metadata": {},
     "output_type": "execute_result"
    }
   ],
   "source": [
    "(tirun-jupyter::tirun-calculation tirun-jupyter::*app*)"
   ]
  },
  {
   "cell_type": "code",
   "execution_count": 7,
   "metadata": {},
   "outputs": [
    {
     "data": {
      "text/plain": [
       "#<AGGREGATE unknown 0x9593b4491680096b>"
      ]
     },
     "execution_count": 7,
     "metadata": {},
     "output_type": "execute_result"
    }
   ],
   "source": [
    "agg = (first (tirun::receptors (tirun-jupyter::tirun-calculation tirun-jupyter::*app*)))"
   ]
  },
  {
   "cell_type": "code",
   "execution_count": 8,
   "metadata": {},
   "outputs": [
    {
     "data": {
      "text/plain": [
       "#<MOLECULE :mol_0 0xb92efd1ab57310cc>"
      ]
     },
     "execution_count": 8,
     "metadata": {},
     "output_type": "execute_result"
    }
   ],
   "source": [
    "mol = (chem:content-at agg 0)"
   ]
  },
  {
   "cell_type": "code",
   "execution_count": 9,
   "metadata": {},
   "outputs": [
    {
     "data": {
      "application/vnd.jupyter.widget-view+json": {
       "model_id": "41e0f515d5154903d8c264a7f69f9458",
       "version_major": 2,
       "version_minor": 0
      },
      "text/plain": [
       "A Jupyter Widget"
      ]
     },
     "metadata": {},
     "output_type": "display_data"
    }
   ],
   "source": [
    "show mol"
   ]
  },
  {
   "cell_type": "code",
   "execution_count": 10,
   "metadata": {},
   "outputs": [
    {
     "data": {
      "text/plain": [
       "#<MOLECULE :mol_0 0xb92efd1ab57310cc>"
      ]
     },
     "execution_count": 10,
     "metadata": {},
     "output_type": "execute_result"
    }
   ],
   "source": [
    "(cando:save-cando mol \"/tmp/mol.cando\")"
   ]
  },
  {
   "cell_type": "code",
   "execution_count": 11,
   "metadata": {},
   "outputs": [
    {
     "data": {
      "text/plain": [
       "#<MOLECULE :mol_0 0x6f4ec01092c997bc>"
      ]
     },
     "execution_count": 11,
     "metadata": {},
     "output_type": "execute_result"
    }
   ],
   "source": [
    "mol1 = (cando:load-cando \"/tmp/mol.cando\")"
   ]
  },
  {
   "cell_type": "code",
   "execution_count": 17,
   "metadata": {},
   "outputs": [
    {
     "data": {
      "text/plain": [
       "5474"
      ]
     },
     "execution_count": 17,
     "metadata": {},
     "output_type": "execute_result"
    }
   ],
   "source": [
    "(chem:number-of-atoms mol1)"
   ]
  },
  {
   "cell_type": "code",
   "execution_count": 18,
   "metadata": {},
   "outputs": [
    {
     "data": {
      "text/plain": [
       "5474"
      ]
     },
     "execution_count": 18,
     "metadata": {},
     "output_type": "execute_result"
    }
   ],
   "source": [
    "(chem:number-of-atoms mol)"
   ]
  },
  {
   "cell_type": "code",
   "execution_count": 14,
   "metadata": {},
   "outputs": [
    {
     "data": {
      "application/vnd.jupyter.widget-view+json": {
       "model_id": "674f4f0d6fe44194454297076f3724f8",
       "version_major": 2,
       "version_minor": 0
      },
      "text/plain": [
       "A Jupyter Widget"
      ]
     },
     "metadata": {},
     "output_type": "display_data"
    }
   ],
   "source": [
    "v = (show mol1)"
   ]
  },
  {
   "cell_type": "code",
   "execution_count": 16,
   "metadata": {},
   "outputs": [
    {
     "data": {
      "text/plain": [
       "T"
      ]
     },
     "execution_count": 16,
     "metadata": {},
     "output_type": "execute_result"
    }
   ],
   "source": [
    "(nglv:add-representation v \"ball+stick\")"
   ]
  },
  {
   "cell_type": "code",
   "execution_count": null,
   "metadata": {},
   "outputs": [],
   "source": [
    "(tirun-jupyter::load-template-ligand)"
   ]
  },
  {
   "cell_type": "code",
   "execution_count": null,
   "metadata": {},
   "outputs": [],
   "source": [
    "(tirun::template-ligand (tirun-jupyter::tirun-calculation tirun-jupyter::*app*))"
   ]
  },
  {
   "cell_type": "markdown",
   "metadata": {},
   "source": [
    "# Sketch the ligands using Kekule composer"
   ]
  },
  {
   "cell_type": "code",
   "execution_count": null,
   "metadata": {},
   "outputs": [],
   "source": [
    "(tirun-jupyter:composer)"
   ]
  },
  {
   "cell_type": "code",
   "execution_count": null,
   "metadata": {},
   "outputs": [],
   "source": [
    "show (third all-ligands)"
   ]
  },
  {
   "cell_type": "markdown",
   "metadata": {},
   "source": [
    "# Import the sketch from a Chemdraw file - skip if you used kekule above"
   ]
  },
  {
   "cell_type": "code",
   "execution_count": null,
   "metadata": {},
   "outputs": [],
   "source": [
    "(jupyter:png-file \"ligand3.png\" )"
   ]
  },
  {
   "cell_type": "code",
   "execution_count": null,
   "metadata": {},
   "outputs": [],
   "source": [
    "sketch = (tirun:load-chem-draw-tirun \"ligand3.cdxml\")"
   ]
  },
  {
   "cell_type": "code",
   "execution_count": null,
   "metadata": {},
   "outputs": [],
   "source": [
    "(tirun::assemble-ligands tiruns sketch)"
   ]
  },
  {
   "cell_type": "code",
   "execution_count": null,
   "metadata": {},
   "outputs": [],
   "source": [
    "(tirun::pose-ligands-using-similarity tiruns ligmol)"
   ]
  },
  {
   "cell_type": "code",
   "execution_count": null,
   "metadata": {},
   "outputs": [],
   "source": [
    "all-ligands = (mapcar #'tirun::molecule (tirun::ligands tiruns))"
   ]
  },
  {
   "cell_type": "code",
   "execution_count": null,
   "metadata": {},
   "outputs": [],
   "source": [
    "selected-ligands = all-ligands"
   ]
  },
  {
   "cell_type": "markdown",
   "metadata": {},
   "source": [
    "# The two approaches rejoin here.  The ligands are in tiruns and in all-ligands and selected-ligands"
   ]
  },
  {
   "cell_type": "code",
   "execution_count": null,
   "metadata": {},
   "outputs": [],
   "source": [
    "(tirun-jupyter:select-ligands)"
   ]
  },
  {
   "cell_type": "code",
   "execution_count": null,
   "metadata": {},
   "outputs": [],
   "source": [
    "selected-ligands"
   ]
  },
  {
   "cell_type": "code",
   "execution_count": null,
   "metadata": {},
   "outputs": [],
   "source": [
    "(length selected-ligands)"
   ]
  },
  {
   "cell_type": "markdown",
   "metadata": {},
   "source": [
    "# Define the pairs of compounds between which we want to carry out free energy perturbation calculations"
   ]
  },
  {
   "cell_type": "code",
   "execution_count": null,
   "metadata": {},
   "outputs": [],
   "source": [
    "(tirun-jupyter:lomap)"
   ]
  },
  {
   "cell_type": "code",
   "execution_count": null,
   "metadata": {},
   "outputs": [],
   "source": [
    "(tirun-jupyter:configure-jobs)"
   ]
  },
  {
   "cell_type": "code",
   "execution_count": null,
   "metadata": {},
   "outputs": [],
   "source": [
    "(tirun-jupyter:write-jobs)"
   ]
  },
  {
   "cell_type": "code",
   "execution_count": null,
   "metadata": {},
   "outputs": [],
   "source": []
  }
 ],
 "metadata": {
  "kernelspec": {
   "display_name": "cando",
   "language": "lisp",
   "name": "cando"
  },
  "language_info": {
   "codemirror_mode": "text/x-common-lisp",
   "file_extension": ".lisp",
   "mimetype": "text/x-common-lisp",
   "name": "common-lisp",
   "pygments_lexer": "common-lisp",
   "version": "cclasp-boehm-0.4.2-3157-g414fbc177-cst"
  }
 },
 "nbformat": 4,
 "nbformat_minor": 4
}

